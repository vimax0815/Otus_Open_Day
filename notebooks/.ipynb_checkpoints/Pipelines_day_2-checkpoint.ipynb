{
 "cells": [
  {
   "cell_type": "markdown",
   "metadata": {},
   "source": [
    "# <center> Pipelines, Serialization </center> "
   ]
  },
  {
   "cell_type": "markdown",
   "metadata": {},
   "source": [
    "<p style=\"align: center;\"><img align=center src=\"./images/Industrial-Pipeline-Cleaning.jpg\"  width=1000></p>"
   ]
  },
  {
   "cell_type": "markdown",
   "metadata": {},
   "source": [
    "."
   ]
  },
  {
   "cell_type": "markdown",
   "metadata": {},
   "source": [
    "."
   ]
  },
  {
   "cell_type": "markdown",
   "metadata": {},
   "source": [
    "<p style=\"align: center;\"><img align=center src=\"https://hazelcast.com/wp-content/uploads/2019/11/24_DataPipleline-1.png\"  width=1000></p>"
   ]
  },
  {
   "cell_type": "code",
   "execution_count": 1,
   "metadata": {
    "ExecuteTime": {
     "end_time": "2022-04-18T19:10:33.671379Z",
     "start_time": "2022-04-18T19:10:32.681506Z"
    }
   },
   "outputs": [
    {
     "data": {
      "text/html": [
       "<style>.container { width:80% !important; }</style>"
      ],
      "text/plain": [
       "<IPython.core.display.HTML object>"
      ]
     },
     "metadata": {},
     "output_type": "display_data"
    }
   ],
   "source": [
    "import pandas as pd\n",
    "import numpy as np\n",
    "\n",
    "# Пара библиотек для визуализации\n",
    "import matplotlib.pyplot as plt\n",
    "%matplotlib inline\n",
    "\n",
    "\n",
    "from IPython.core.display import display, HTML\n",
    "display(HTML(\"<style>.container { width:80% !important; }</style>\"))\n",
    "\n",
    "import warnings\n",
    "warnings.filterwarnings(\"ignore\")"
   ]
  },
  {
   "cell_type": "code",
   "execution_count": null,
   "metadata": {},
   "outputs": [],
   "source": [
    " "
   ]
  },
  {
   "cell_type": "code",
   "execution_count": null,
   "metadata": {},
   "outputs": [],
   "source": [
    " "
   ]
  },
  {
   "cell_type": "markdown",
   "metadata": {},
   "source": [
    "# Импорт Данных"
   ]
  },
  {
   "cell_type": "code",
   "execution_count": 2,
   "metadata": {
    "ExecuteTime": {
     "end_time": "2022-04-18T19:10:34.979060Z",
     "start_time": "2022-04-18T19:10:33.673382Z"
    }
   },
   "outputs": [],
   "source": [
    "file_path = 'https://raw.githubusercontent.com/a-milenkin/Datasetes_for_Piplines/main/responses.csv'\n",
    "data = pd.read_csv(file_path)"
   ]
  },
  {
   "cell_type": "code",
   "execution_count": 3,
   "metadata": {
    "ExecuteTime": {
     "end_time": "2022-04-18T19:10:35.010914Z",
     "start_time": "2022-04-18T19:10:34.979060Z"
    }
   },
   "outputs": [
    {
     "data": {
      "text/html": [
       "<div>\n",
       "<style scoped>\n",
       "    .dataframe tbody tr th:only-of-type {\n",
       "        vertical-align: middle;\n",
       "    }\n",
       "\n",
       "    .dataframe tbody tr th {\n",
       "        vertical-align: top;\n",
       "    }\n",
       "\n",
       "    .dataframe thead th {\n",
       "        text-align: right;\n",
       "    }\n",
       "</style>\n",
       "<table border=\"1\" class=\"dataframe\">\n",
       "  <thead>\n",
       "    <tr style=\"text-align: right;\">\n",
       "      <th></th>\n",
       "      <th>Music</th>\n",
       "      <th>Slow songs or fast songs</th>\n",
       "      <th>Dance</th>\n",
       "      <th>Folk</th>\n",
       "      <th>Country</th>\n",
       "      <th>Classical music</th>\n",
       "      <th>Musical</th>\n",
       "      <th>Pop</th>\n",
       "      <th>Rock</th>\n",
       "      <th>Metal or Hardrock</th>\n",
       "      <th>...</th>\n",
       "      <th>Age</th>\n",
       "      <th>Height</th>\n",
       "      <th>Weight</th>\n",
       "      <th>Number of siblings</th>\n",
       "      <th>Gender</th>\n",
       "      <th>Left - right handed</th>\n",
       "      <th>Education</th>\n",
       "      <th>Only child</th>\n",
       "      <th>Village - town</th>\n",
       "      <th>House - block of flats</th>\n",
       "    </tr>\n",
       "  </thead>\n",
       "  <tbody>\n",
       "    <tr>\n",
       "      <th>0</th>\n",
       "      <td>5.0</td>\n",
       "      <td>3.0</td>\n",
       "      <td>2.0</td>\n",
       "      <td>1.0</td>\n",
       "      <td>2.0</td>\n",
       "      <td>2.0</td>\n",
       "      <td>1.0</td>\n",
       "      <td>5.0</td>\n",
       "      <td>5.0</td>\n",
       "      <td>1.0</td>\n",
       "      <td>...</td>\n",
       "      <td>20.0</td>\n",
       "      <td>163.0</td>\n",
       "      <td>48.0</td>\n",
       "      <td>1.0</td>\n",
       "      <td>female</td>\n",
       "      <td>right handed</td>\n",
       "      <td>college/bachelor degree</td>\n",
       "      <td>no</td>\n",
       "      <td>village</td>\n",
       "      <td>block of flats</td>\n",
       "    </tr>\n",
       "    <tr>\n",
       "      <th>1</th>\n",
       "      <td>4.0</td>\n",
       "      <td>4.0</td>\n",
       "      <td>2.0</td>\n",
       "      <td>1.0</td>\n",
       "      <td>1.0</td>\n",
       "      <td>1.0</td>\n",
       "      <td>2.0</td>\n",
       "      <td>3.0</td>\n",
       "      <td>5.0</td>\n",
       "      <td>4.0</td>\n",
       "      <td>...</td>\n",
       "      <td>19.0</td>\n",
       "      <td>163.0</td>\n",
       "      <td>58.0</td>\n",
       "      <td>2.0</td>\n",
       "      <td>female</td>\n",
       "      <td>right handed</td>\n",
       "      <td>college/bachelor degree</td>\n",
       "      <td>no</td>\n",
       "      <td>city</td>\n",
       "      <td>block of flats</td>\n",
       "    </tr>\n",
       "    <tr>\n",
       "      <th>2</th>\n",
       "      <td>5.0</td>\n",
       "      <td>5.0</td>\n",
       "      <td>2.0</td>\n",
       "      <td>2.0</td>\n",
       "      <td>3.0</td>\n",
       "      <td>4.0</td>\n",
       "      <td>5.0</td>\n",
       "      <td>3.0</td>\n",
       "      <td>5.0</td>\n",
       "      <td>3.0</td>\n",
       "      <td>...</td>\n",
       "      <td>20.0</td>\n",
       "      <td>176.0</td>\n",
       "      <td>67.0</td>\n",
       "      <td>2.0</td>\n",
       "      <td>female</td>\n",
       "      <td>right handed</td>\n",
       "      <td>secondary school</td>\n",
       "      <td>no</td>\n",
       "      <td>city</td>\n",
       "      <td>block of flats</td>\n",
       "    </tr>\n",
       "    <tr>\n",
       "      <th>3</th>\n",
       "      <td>5.0</td>\n",
       "      <td>3.0</td>\n",
       "      <td>2.0</td>\n",
       "      <td>1.0</td>\n",
       "      <td>1.0</td>\n",
       "      <td>1.0</td>\n",
       "      <td>1.0</td>\n",
       "      <td>2.0</td>\n",
       "      <td>2.0</td>\n",
       "      <td>1.0</td>\n",
       "      <td>...</td>\n",
       "      <td>22.0</td>\n",
       "      <td>172.0</td>\n",
       "      <td>59.0</td>\n",
       "      <td>1.0</td>\n",
       "      <td>female</td>\n",
       "      <td>right handed</td>\n",
       "      <td>college/bachelor degree</td>\n",
       "      <td>yes</td>\n",
       "      <td>city</td>\n",
       "      <td>house/bungalow</td>\n",
       "    </tr>\n",
       "    <tr>\n",
       "      <th>4</th>\n",
       "      <td>5.0</td>\n",
       "      <td>3.0</td>\n",
       "      <td>4.0</td>\n",
       "      <td>3.0</td>\n",
       "      <td>2.0</td>\n",
       "      <td>4.0</td>\n",
       "      <td>3.0</td>\n",
       "      <td>5.0</td>\n",
       "      <td>3.0</td>\n",
       "      <td>1.0</td>\n",
       "      <td>...</td>\n",
       "      <td>20.0</td>\n",
       "      <td>170.0</td>\n",
       "      <td>59.0</td>\n",
       "      <td>1.0</td>\n",
       "      <td>female</td>\n",
       "      <td>right handed</td>\n",
       "      <td>secondary school</td>\n",
       "      <td>no</td>\n",
       "      <td>village</td>\n",
       "      <td>house/bungalow</td>\n",
       "    </tr>\n",
       "  </tbody>\n",
       "</table>\n",
       "<p>5 rows × 150 columns</p>\n",
       "</div>"
      ],
      "text/plain": [
       "   Music  Slow songs or fast songs  Dance  Folk  Country  Classical music  \\\n",
       "0    5.0                       3.0    2.0   1.0      2.0              2.0   \n",
       "1    4.0                       4.0    2.0   1.0      1.0              1.0   \n",
       "2    5.0                       5.0    2.0   2.0      3.0              4.0   \n",
       "3    5.0                       3.0    2.0   1.0      1.0              1.0   \n",
       "4    5.0                       3.0    4.0   3.0      2.0              4.0   \n",
       "\n",
       "   Musical  Pop  Rock  Metal or Hardrock  ...   Age  Height  Weight  \\\n",
       "0      1.0  5.0   5.0                1.0  ...  20.0   163.0    48.0   \n",
       "1      2.0  3.0   5.0                4.0  ...  19.0   163.0    58.0   \n",
       "2      5.0  3.0   5.0                3.0  ...  20.0   176.0    67.0   \n",
       "3      1.0  2.0   2.0                1.0  ...  22.0   172.0    59.0   \n",
       "4      3.0  5.0   3.0                1.0  ...  20.0   170.0    59.0   \n",
       "\n",
       "   Number of siblings  Gender  Left - right handed                Education  \\\n",
       "0                 1.0  female         right handed  college/bachelor degree   \n",
       "1                 2.0  female         right handed  college/bachelor degree   \n",
       "2                 2.0  female         right handed         secondary school   \n",
       "3                 1.0  female         right handed  college/bachelor degree   \n",
       "4                 1.0  female         right handed         secondary school   \n",
       "\n",
       "   Only child  Village - town  House - block of flats  \n",
       "0          no         village          block of flats  \n",
       "1          no            city          block of flats  \n",
       "2          no            city          block of flats  \n",
       "3         yes            city          house/bungalow  \n",
       "4          no         village          house/bungalow  \n",
       "\n",
       "[5 rows x 150 columns]"
      ]
     },
     "execution_count": 3,
     "metadata": {},
     "output_type": "execute_result"
    }
   ],
   "source": [
    "data.head()"
   ]
  },
  {
   "cell_type": "markdown",
   "metadata": {},
   "source": [
    "<div class=\"alert alert-info\">\n",
    "\n",
    "<b>Про датасет </b>\n",
    "\n",
    "\n",
    "    \n",
    "Приведеные результаты опроса молодежи до 21-го года по тому, какие вещи делют их счастливыми по 5-й шкале\n",
    "    \n",
    "</div>\n"
   ]
  },
  {
   "cell_type": "markdown",
   "metadata": {},
   "source": [
    "<div class=\"alert alert-info\">\n",
    "\n",
    "<b>Про Задачу </b>\n",
    "\n",
    "Попробуем классифицировать людей по оценкам уровня счастья\n",
    "    \n",
    "</div>\n"
   ]
  },
  {
   "cell_type": "code",
   "execution_count": 4,
   "metadata": {
    "ExecuteTime": {
     "end_time": "2022-04-18T19:10:35.026918Z",
     "start_time": "2022-04-18T19:10:35.012916Z"
    }
   },
   "outputs": [],
   "source": [
    "interesting_features = [\"Happiness in life\", \"Age\", \"Height\", \"Gender\", \"Weight\", \n",
    "              \"Left - right handed\", \"Village - town\", \"Getting up\", \"God\",\n",
    "              \"Health\", \"Borrowed stuff\", \"Self-criticism\", \"Elections\", \n",
    "              \"Smoking\", \"Alcohol\" ,\"Number of friends\", \"Spending on healthy eating\",\n",
    "              \"Music\", \"Movies\", \"Friends versus money\", \"Changing the past\"]\n",
    "\n",
    "target = [\"Happiness in life\"]"
   ]
  },
  {
   "cell_type": "code",
   "execution_count": 5,
   "metadata": {
    "ExecuteTime": {
     "end_time": "2022-04-18T19:10:35.042915Z",
     "start_time": "2022-04-18T19:10:35.027919Z"
    }
   },
   "outputs": [],
   "source": [
    "# data[\"Happiness in life\"].hist();"
   ]
  },
  {
   "cell_type": "code",
   "execution_count": 6,
   "metadata": {
    "ExecuteTime": {
     "end_time": "2022-04-18T19:10:35.058916Z",
     "start_time": "2022-04-18T19:10:35.043916Z"
    }
   },
   "outputs": [],
   "source": [
    "data = data[interesting_features]"
   ]
  },
  {
   "cell_type": "code",
   "execution_count": 7,
   "metadata": {
    "ExecuteTime": {
     "end_time": "2022-04-18T19:10:35.361278Z",
     "start_time": "2022-04-18T19:10:35.059916Z"
    }
   },
   "outputs": [
    {
     "data": {
      "image/png": "[encoded data removed]",
      "text/plain": [
       "<Figure size 432x288 with 1 Axes>"
      ]
     },
     "metadata": {
      "needs_background": "light"
     },
     "output_type": "display_data"
    }
   ],
   "source": [
    "# Сбалансируем немного классы\n",
    "\n",
    "def happiness_score(x):\n",
    "    if x < 4:\n",
    "        return -1\n",
    "    elif x == 4.0:\n",
    "        return 0\n",
    "    else:\n",
    "        return 1\n",
    "    \n",
    "data[\"Happiness in life\"] = data[\"Happiness in life\"].apply(happiness_score)\n",
    "\n",
    "data[\"Happiness in life\"].hist();"
   ]
  },
  {
   "cell_type": "markdown",
   "metadata": {},
   "source": [
    "# Как пишут код обычно? - The painful way"
   ]
  },
  {
   "cell_type": "code",
   "execution_count": 8,
   "metadata": {
    "ExecuteTime": {
     "end_time": "2022-04-18T19:10:35.505290Z",
     "start_time": "2022-04-18T19:10:35.362281Z"
    }
   },
   "outputs": [
    {
     "data": {
      "text/plain": [
       "<AxesSubplot:>"
      ]
     },
     "execution_count": 8,
     "metadata": {},
     "output_type": "execute_result"
    },
    {
     "data": {
      "image/png": "[encoded data removed]",
      "text/plain": [
       "<Figure size 432x288 with 1 Axes>"
      ]
     },
     "metadata": {
      "needs_background": "light"
     },
     "output_type": "display_data"
    }
   ],
   "source": [
    "data[\"Happiness in life\"].hist()"
   ]
  },
  {
   "cell_type": "markdown",
   "metadata": {},
   "source": [
    "# Какой-нибудь EDA (исследование данных)"
   ]
  },
  {
   "cell_type": "code",
   "execution_count": 9,
   "metadata": {
    "ExecuteTime": {
     "end_time": "2022-04-18T19:10:37.763348Z",
     "start_time": "2022-04-18T19:10:35.506291Z"
    },
    "scrolled": true
   },
   "outputs": [
    {
     "data": {
      "image/png": "[encoded data removed]",
      "text/plain": [
       "<Figure size 1800x1080 with 16 Axes>"
      ]
     },
     "metadata": {
      "needs_background": "light"
     },
     "output_type": "display_data"
    }
   ],
   "source": [
    "data.hist(figsize=(25, 15))\n",
    "\n",
    "plt.show()"
   ]
  },
  {
   "cell_type": "code",
   "execution_count": 10,
   "metadata": {
    "ExecuteTime": {
     "end_time": "2022-04-18T19:10:38.763237Z",
     "start_time": "2022-04-18T19:10:37.766350Z"
    }
   },
   "outputs": [
    {
     "data": {
      "text/plain": [
       "<AxesSubplot:>"
      ]
     },
     "execution_count": 10,
     "metadata": {},
     "output_type": "execute_result"
    },
    {
     "data": {
      "image/png": "[encoded data removed]",
      "text/plain": [
       "<Figure size 432x288 with 2 Axes>"
      ]
     },
     "metadata": {
      "needs_background": "light"
     },
     "output_type": "display_data"
    }
   ],
   "source": [
    "import seaborn as sns\n",
    "\n",
    "sns.heatmap(data.corr())"
   ]
  },
  {
   "cell_type": "markdown",
   "metadata": {},
   "source": [
    "# Есть ли в данных выбросы? Есть почти всегда!"
   ]
  },
  {
   "cell_type": "code",
   "execution_count": 11,
   "metadata": {
    "ExecuteTime": {
     "end_time": "2022-04-18T19:10:38.779224Z",
     "start_time": "2022-04-18T19:10:38.765239Z"
    }
   },
   "outputs": [],
   "source": [
    "# data.isnull().sum()"
   ]
  },
  {
   "cell_type": "code",
   "execution_count": 12,
   "metadata": {
    "ExecuteTime": {
     "end_time": "2022-04-18T19:10:38.795224Z",
     "start_time": "2022-04-18T19:10:38.780223Z"
    }
   },
   "outputs": [],
   "source": [
    "# data.dropna(inplace=True)"
   ]
  },
  {
   "cell_type": "code",
   "execution_count": 13,
   "metadata": {
    "ExecuteTime": {
     "end_time": "2022-04-18T19:10:38.955236Z",
     "start_time": "2022-04-18T19:10:38.797226Z"
    }
   },
   "outputs": [
    {
     "name": "stdout",
     "output_type": "stream",
     "text": [
      "(740, 21) (185, 21)\n"
     ]
    }
   ],
   "source": [
    "from sklearn.model_selection import train_test_split\n",
    "from sklearn.preprocessing import StandardScaler, OneHotEncoder\n",
    "\n",
    "\n",
    "data_train, data_test = train_test_split(data.copy(), test_size=0.2, stratify=data[target])\n",
    "\n",
    "data_train.dropna(inplace=True)\n",
    "data_test.dropna(inplace=True)\n",
    "\n",
    "print(data_train.shape, data_test.shape)"
   ]
  },
  {
   "cell_type": "code",
   "execution_count": 14,
   "metadata": {
    "ExecuteTime": {
     "end_time": "2022-04-18T19:10:38.987239Z",
     "start_time": "2022-04-18T19:10:38.957238Z"
    }
   },
   "outputs": [
    {
     "data": {
      "text/html": [
       "<div>\n",
       "<style scoped>\n",
       "    .dataframe tbody tr th:only-of-type {\n",
       "        vertical-align: middle;\n",
       "    }\n",
       "\n",
       "    .dataframe tbody tr th {\n",
       "        vertical-align: top;\n",
       "    }\n",
       "\n",
       "    .dataframe thead th {\n",
       "        text-align: right;\n",
       "    }\n",
       "</style>\n",
       "<table border=\"1\" class=\"dataframe\">\n",
       "  <thead>\n",
       "    <tr style=\"text-align: right;\">\n",
       "      <th></th>\n",
       "      <th>Happiness in life</th>\n",
       "      <th>Age</th>\n",
       "      <th>Height</th>\n",
       "      <th>Gender</th>\n",
       "      <th>Weight</th>\n",
       "      <th>Left - right handed</th>\n",
       "      <th>Village - town</th>\n",
       "      <th>Getting up</th>\n",
       "      <th>God</th>\n",
       "      <th>Health</th>\n",
       "      <th>...</th>\n",
       "      <th>Self-criticism</th>\n",
       "      <th>Elections</th>\n",
       "      <th>Smoking</th>\n",
       "      <th>Alcohol</th>\n",
       "      <th>Number of friends</th>\n",
       "      <th>Spending on healthy eating</th>\n",
       "      <th>Music</th>\n",
       "      <th>Movies</th>\n",
       "      <th>Friends versus money</th>\n",
       "      <th>Changing the past</th>\n",
       "    </tr>\n",
       "  </thead>\n",
       "  <tbody>\n",
       "    <tr>\n",
       "      <th>0</th>\n",
       "      <td>0</td>\n",
       "      <td>20.0</td>\n",
       "      <td>163.0</td>\n",
       "      <td>female</td>\n",
       "      <td>48.0</td>\n",
       "      <td>right handed</td>\n",
       "      <td>village</td>\n",
       "      <td>2.0</td>\n",
       "      <td>1.0</td>\n",
       "      <td>1.0</td>\n",
       "      <td>...</td>\n",
       "      <td>1.0</td>\n",
       "      <td>4.0</td>\n",
       "      <td>never smoked</td>\n",
       "      <td>drink a lot</td>\n",
       "      <td>3</td>\n",
       "      <td>3.0</td>\n",
       "      <td>5.0</td>\n",
       "      <td>5.0</td>\n",
       "      <td>3.0</td>\n",
       "      <td>1.0</td>\n",
       "    </tr>\n",
       "    <tr>\n",
       "      <th>1</th>\n",
       "      <td>0</td>\n",
       "      <td>19.0</td>\n",
       "      <td>163.0</td>\n",
       "      <td>female</td>\n",
       "      <td>58.0</td>\n",
       "      <td>right handed</td>\n",
       "      <td>city</td>\n",
       "      <td>5.0</td>\n",
       "      <td>1.0</td>\n",
       "      <td>4.0</td>\n",
       "      <td>...</td>\n",
       "      <td>4.0</td>\n",
       "      <td>5.0</td>\n",
       "      <td>never smoked</td>\n",
       "      <td>drink a lot</td>\n",
       "      <td>3</td>\n",
       "      <td>2.0</td>\n",
       "      <td>4.0</td>\n",
       "      <td>5.0</td>\n",
       "      <td>4.0</td>\n",
       "      <td>4.0</td>\n",
       "    </tr>\n",
       "    <tr>\n",
       "      <th>2</th>\n",
       "      <td>0</td>\n",
       "      <td>20.0</td>\n",
       "      <td>176.0</td>\n",
       "      <td>female</td>\n",
       "      <td>67.0</td>\n",
       "      <td>right handed</td>\n",
       "      <td>city</td>\n",
       "      <td>4.0</td>\n",
       "      <td>5.0</td>\n",
       "      <td>2.0</td>\n",
       "      <td>...</td>\n",
       "      <td>4.0</td>\n",
       "      <td>5.0</td>\n",
       "      <td>tried smoking</td>\n",
       "      <td>drink a lot</td>\n",
       "      <td>3</td>\n",
       "      <td>2.0</td>\n",
       "      <td>5.0</td>\n",
       "      <td>5.0</td>\n",
       "      <td>5.0</td>\n",
       "      <td>5.0</td>\n",
       "    </tr>\n",
       "    <tr>\n",
       "      <th>3</th>\n",
       "      <td>-1</td>\n",
       "      <td>22.0</td>\n",
       "      <td>172.0</td>\n",
       "      <td>female</td>\n",
       "      <td>59.0</td>\n",
       "      <td>right handed</td>\n",
       "      <td>city</td>\n",
       "      <td>1.0</td>\n",
       "      <td>4.0</td>\n",
       "      <td>1.0</td>\n",
       "      <td>...</td>\n",
       "      <td>5.0</td>\n",
       "      <td>5.0</td>\n",
       "      <td>former smoker</td>\n",
       "      <td>drink a lot</td>\n",
       "      <td>1</td>\n",
       "      <td>1.0</td>\n",
       "      <td>5.0</td>\n",
       "      <td>5.0</td>\n",
       "      <td>2.0</td>\n",
       "      <td>5.0</td>\n",
       "    </tr>\n",
       "    <tr>\n",
       "      <th>4</th>\n",
       "      <td>-1</td>\n",
       "      <td>20.0</td>\n",
       "      <td>170.0</td>\n",
       "      <td>female</td>\n",
       "      <td>59.0</td>\n",
       "      <td>right handed</td>\n",
       "      <td>village</td>\n",
       "      <td>4.0</td>\n",
       "      <td>5.0</td>\n",
       "      <td>3.0</td>\n",
       "      <td>...</td>\n",
       "      <td>5.0</td>\n",
       "      <td>5.0</td>\n",
       "      <td>tried smoking</td>\n",
       "      <td>social drinker</td>\n",
       "      <td>3</td>\n",
       "      <td>4.0</td>\n",
       "      <td>5.0</td>\n",
       "      <td>5.0</td>\n",
       "      <td>3.0</td>\n",
       "      <td>4.0</td>\n",
       "    </tr>\n",
       "  </tbody>\n",
       "</table>\n",
       "<p>5 rows × 21 columns</p>\n",
       "</div>"
      ],
      "text/plain": [
       "   Happiness in life   Age  Height  Gender  Weight Left - right handed  \\\n",
       "0                  0  20.0   163.0  female    48.0        right handed   \n",
       "1                  0  19.0   163.0  female    58.0        right handed   \n",
       "2                  0  20.0   176.0  female    67.0        right handed   \n",
       "3                 -1  22.0   172.0  female    59.0        right handed   \n",
       "4                 -1  20.0   170.0  female    59.0        right handed   \n",
       "\n",
       "  Village - town  Getting up  God  Health  ...  Self-criticism  Elections  \\\n",
       "0        village         2.0  1.0     1.0  ...             1.0        4.0   \n",
       "1           city         5.0  1.0     4.0  ...             4.0        5.0   \n",
       "2           city         4.0  5.0     2.0  ...             4.0        5.0   \n",
       "3           city         1.0  4.0     1.0  ...             5.0        5.0   \n",
       "4        village         4.0  5.0     3.0  ...             5.0        5.0   \n",
       "\n",
       "         Smoking         Alcohol Number of friends  \\\n",
       "0   never smoked     drink a lot                 3   \n",
       "1   never smoked     drink a lot                 3   \n",
       "2  tried smoking     drink a lot                 3   \n",
       "3  former smoker     drink a lot                 1   \n",
       "4  tried smoking  social drinker                 3   \n",
       "\n",
       "   Spending on healthy eating  Music  Movies  Friends versus money  \\\n",
       "0                         3.0    5.0     5.0                   3.0   \n",
       "1                         2.0    4.0     5.0                   4.0   \n",
       "2                         2.0    5.0     5.0                   5.0   \n",
       "3                         1.0    5.0     5.0                   2.0   \n",
       "4                         4.0    5.0     5.0                   3.0   \n",
       "\n",
       "   Changing the past  \n",
       "0                1.0  \n",
       "1                4.0  \n",
       "2                5.0  \n",
       "3                5.0  \n",
       "4                4.0  \n",
       "\n",
       "[5 rows x 21 columns]"
      ]
     },
     "execution_count": 14,
     "metadata": {},
     "output_type": "execute_result"
    }
   ],
   "source": [
    "data.head()"
   ]
  },
  {
   "cell_type": "code",
   "execution_count": 15,
   "metadata": {
    "ExecuteTime": {
     "end_time": "2022-04-18T19:10:39.003240Z",
     "start_time": "2022-04-18T19:10:38.989243Z"
    }
   },
   "outputs": [
    {
     "data": {
      "text/plain": [
       "social drinker    659\n",
       "drink a lot       222\n",
       "never             124\n",
       "Name: Alcohol, dtype: int64"
      ]
     },
     "execution_count": 15,
     "metadata": {},
     "output_type": "execute_result"
    }
   ],
   "source": [
    "data['Alcohol'].value_counts()"
   ]
  },
  {
   "cell_type": "markdown",
   "metadata": {},
   "source": [
    " "
   ]
  },
  {
   "cell_type": "markdown",
   "metadata": {},
   "source": [
    "# Какие признаки в данных?"
   ]
  },
  {
   "cell_type": "code",
   "execution_count": 16,
   "metadata": {
    "ExecuteTime": {
     "end_time": "2022-04-18T19:10:39.019241Z",
     "start_time": "2022-04-18T19:10:39.004240Z"
    }
   },
   "outputs": [
    {
     "data": {
      "text/plain": [
       "15"
      ]
     },
     "execution_count": 16,
     "metadata": {},
     "output_type": "execute_result"
    }
   ],
   "source": [
    "numerical_features = ['Age', 'Height', 'Weight']  # Численные переменные\n",
    "\n",
    "# Бинарные признаки\n",
    "to_dummies = [\n",
    "    'Gender', 'Left - right handed', 'Village - town', 'Smoking',  \"Alcohol\" ,\n",
    "]\n",
    "\n",
    "# Категориальные признаки\n",
    "categorical_features = [\n",
    "    col for col in data.columns if col not in numerical_features + target + to_dummies\n",
    "]\n",
    "\n",
    "all_features = categorical_features + numerical_features\n",
    "len(all_features)"
   ]
  },
  {
   "cell_type": "code",
   "execution_count": 17,
   "metadata": {
    "ExecuteTime": {
     "end_time": "2022-04-18T19:10:39.035244Z",
     "start_time": "2022-04-18T19:10:39.020242Z"
    }
   },
   "outputs": [],
   "source": [
    "# data[numerical_features]"
   ]
  },
  {
   "cell_type": "code",
   "execution_count": 18,
   "metadata": {
    "ExecuteTime": {
     "end_time": "2022-04-18T19:10:39.050244Z",
     "start_time": "2022-04-18T19:10:39.036245Z"
    }
   },
   "outputs": [],
   "source": [
    "from sklearn.preprocessing import StandardScaler, RobustScaler, LabelEncoder, OneHotEncoder, MinMaxScaler"
   ]
  },
  {
   "cell_type": "code",
   "execution_count": 19,
   "metadata": {
    "ExecuteTime": {
     "end_time": "2022-04-18T19:10:39.065247Z",
     "start_time": "2022-04-18T19:10:39.051248Z"
    }
   },
   "outputs": [],
   "source": [
    "scaler = StandardScaler() # Нормировка для численных признаков"
   ]
  },
  {
   "cell_type": "code",
   "execution_count": 20,
   "metadata": {
    "ExecuteTime": {
     "end_time": "2022-04-18T19:10:39.081249Z",
     "start_time": "2022-04-18T19:10:39.066248Z"
    }
   },
   "outputs": [
    {
     "data": {
      "text/plain": [
       "array([[-0.50536745, -0.82119598,  0.2744489 ],\n",
       "       [-0.15389009,  0.15736284,  1.23277865],\n",
       "       [-0.50536745, -0.33191657, -0.09413946],\n",
       "       [-0.8568448 , -0.33191657, -0.09413946],\n",
       "       [-0.8568448 , -0.33191657, -0.90503386],\n",
       "       [ 1.25201935,  0.15736284,  0.34816658],\n",
       "       [ 1.25201935, -2.48474598, -0.68388084],\n",
       "       [ 1.25201935, -0.23406069,  1.96995538],\n",
       "       [-1.91127688,  1.62520107,  1.380214  ],\n",
       "       [ 0.54906463, -1.40833127, -0.97875154]])"
      ]
     },
     "execution_count": 20,
     "metadata": {},
     "output_type": "execute_result"
    }
   ],
   "source": [
    "data_train_scaled = scaler.fit_transform(data_train[numerical_features])\n",
    "data_train_scaled[:10]"
   ]
  },
  {
   "cell_type": "code",
   "execution_count": 21,
   "metadata": {
    "ExecuteTime": {
     "end_time": "2022-04-18T19:10:39.097248Z",
     "start_time": "2022-04-18T19:10:39.082249Z"
    }
   },
   "outputs": [
    {
     "data": {
      "text/plain": [
       "array([[1., 0., 0., 1., 1., 0., 1., 0., 0., 0., 1., 0., 0.],\n",
       "       [0., 1., 1., 0., 1., 0., 0., 0., 0., 1., 0., 1., 0.],\n",
       "       [1., 0., 0., 1., 1., 0., 1., 0., 0., 0., 0., 0., 1.],\n",
       "       [1., 0., 0., 1., 1., 0., 0., 1., 0., 0., 0., 0., 1.],\n",
       "       [1., 0., 0., 1., 1., 0., 0., 0., 0., 1., 1., 0., 0.],\n",
       "       [0., 1., 0., 1., 0., 1., 0., 0., 0., 1., 1., 0., 0.],\n",
       "       [1., 0., 0., 1., 0., 1., 0., 0., 1., 0., 0., 1., 0.],\n",
       "       [0., 1., 0., 1., 0., 1., 1., 0., 0., 0., 1., 0., 0.],\n",
       "       [0., 1., 1., 0., 0., 1., 0., 0., 1., 0., 0., 1., 0.],\n",
       "       [0., 1., 0., 1., 1., 0., 0., 0., 0., 1., 0., 0., 1.]])"
      ]
     },
     "execution_count": 21,
     "metadata": {},
     "output_type": "execute_result"
    }
   ],
   "source": [
    "ohe = OneHotEncoder(sparse=False, handle_unknown='ignore')  # кодирование для категориальных признаков\n",
    "\n",
    "data_train_ohe = ohe.fit_transform(data_train[to_dummies])\n",
    "data_train_ohe[:10]"
   ]
  },
  {
   "cell_type": "code",
   "execution_count": 22,
   "metadata": {
    "ExecuteTime": {
     "end_time": "2022-04-18T19:10:39.129251Z",
     "start_time": "2022-04-18T19:10:39.098251Z"
    }
   },
   "outputs": [
    {
     "data": {
      "text/html": [
       "<div>\n",
       "<style scoped>\n",
       "    .dataframe tbody tr th:only-of-type {\n",
       "        vertical-align: middle;\n",
       "    }\n",
       "\n",
       "    .dataframe tbody tr th {\n",
       "        vertical-align: top;\n",
       "    }\n",
       "\n",
       "    .dataframe thead th {\n",
       "        text-align: right;\n",
       "    }\n",
       "</style>\n",
       "<table border=\"1\" class=\"dataframe\">\n",
       "  <thead>\n",
       "    <tr style=\"text-align: right;\">\n",
       "      <th></th>\n",
       "      <th>Age</th>\n",
       "      <th>Height</th>\n",
       "      <th>Weight</th>\n",
       "      <th>x0_female</th>\n",
       "      <th>x0_male</th>\n",
       "      <th>x1_left handed</th>\n",
       "      <th>x1_right handed</th>\n",
       "      <th>x2_city</th>\n",
       "      <th>x2_village</th>\n",
       "      <th>x3_current smoker</th>\n",
       "      <th>x3_former smoker</th>\n",
       "      <th>x3_never smoked</th>\n",
       "      <th>x3_tried smoking</th>\n",
       "      <th>x4_drink a lot</th>\n",
       "      <th>x4_never</th>\n",
       "      <th>x4_social drinker</th>\n",
       "    </tr>\n",
       "  </thead>\n",
       "  <tbody>\n",
       "    <tr>\n",
       "      <th>0</th>\n",
       "      <td>-0.505367</td>\n",
       "      <td>-0.821196</td>\n",
       "      <td>0.274449</td>\n",
       "      <td>1.0</td>\n",
       "      <td>0.0</td>\n",
       "      <td>0.0</td>\n",
       "      <td>1.0</td>\n",
       "      <td>1.0</td>\n",
       "      <td>0.0</td>\n",
       "      <td>1.0</td>\n",
       "      <td>0.0</td>\n",
       "      <td>0.0</td>\n",
       "      <td>0.0</td>\n",
       "      <td>1.0</td>\n",
       "      <td>0.0</td>\n",
       "      <td>0.0</td>\n",
       "    </tr>\n",
       "    <tr>\n",
       "      <th>1</th>\n",
       "      <td>-0.153890</td>\n",
       "      <td>0.157363</td>\n",
       "      <td>1.232779</td>\n",
       "      <td>0.0</td>\n",
       "      <td>1.0</td>\n",
       "      <td>1.0</td>\n",
       "      <td>0.0</td>\n",
       "      <td>1.0</td>\n",
       "      <td>0.0</td>\n",
       "      <td>0.0</td>\n",
       "      <td>0.0</td>\n",
       "      <td>0.0</td>\n",
       "      <td>1.0</td>\n",
       "      <td>0.0</td>\n",
       "      <td>1.0</td>\n",
       "      <td>0.0</td>\n",
       "    </tr>\n",
       "    <tr>\n",
       "      <th>2</th>\n",
       "      <td>-0.505367</td>\n",
       "      <td>-0.331917</td>\n",
       "      <td>-0.094139</td>\n",
       "      <td>1.0</td>\n",
       "      <td>0.0</td>\n",
       "      <td>0.0</td>\n",
       "      <td>1.0</td>\n",
       "      <td>1.0</td>\n",
       "      <td>0.0</td>\n",
       "      <td>1.0</td>\n",
       "      <td>0.0</td>\n",
       "      <td>0.0</td>\n",
       "      <td>0.0</td>\n",
       "      <td>0.0</td>\n",
       "      <td>0.0</td>\n",
       "      <td>1.0</td>\n",
       "    </tr>\n",
       "    <tr>\n",
       "      <th>3</th>\n",
       "      <td>-0.856845</td>\n",
       "      <td>-0.331917</td>\n",
       "      <td>-0.094139</td>\n",
       "      <td>1.0</td>\n",
       "      <td>0.0</td>\n",
       "      <td>0.0</td>\n",
       "      <td>1.0</td>\n",
       "      <td>1.0</td>\n",
       "      <td>0.0</td>\n",
       "      <td>0.0</td>\n",
       "      <td>1.0</td>\n",
       "      <td>0.0</td>\n",
       "      <td>0.0</td>\n",
       "      <td>0.0</td>\n",
       "      <td>0.0</td>\n",
       "      <td>1.0</td>\n",
       "    </tr>\n",
       "    <tr>\n",
       "      <th>4</th>\n",
       "      <td>-0.856845</td>\n",
       "      <td>-0.331917</td>\n",
       "      <td>-0.905034</td>\n",
       "      <td>1.0</td>\n",
       "      <td>0.0</td>\n",
       "      <td>0.0</td>\n",
       "      <td>1.0</td>\n",
       "      <td>1.0</td>\n",
       "      <td>0.0</td>\n",
       "      <td>0.0</td>\n",
       "      <td>0.0</td>\n",
       "      <td>0.0</td>\n",
       "      <td>1.0</td>\n",
       "      <td>1.0</td>\n",
       "      <td>0.0</td>\n",
       "      <td>0.0</td>\n",
       "    </tr>\n",
       "  </tbody>\n",
       "</table>\n",
       "</div>"
      ],
      "text/plain": [
       "        Age    Height    Weight  x0_female  x0_male  x1_left handed  \\\n",
       "0 -0.505367 -0.821196  0.274449        1.0      0.0             0.0   \n",
       "1 -0.153890  0.157363  1.232779        0.0      1.0             1.0   \n",
       "2 -0.505367 -0.331917 -0.094139        1.0      0.0             0.0   \n",
       "3 -0.856845 -0.331917 -0.094139        1.0      0.0             0.0   \n",
       "4 -0.856845 -0.331917 -0.905034        1.0      0.0             0.0   \n",
       "\n",
       "   x1_right handed  x2_city  x2_village  x3_current smoker  x3_former smoker  \\\n",
       "0              1.0      1.0         0.0                1.0               0.0   \n",
       "1              0.0      1.0         0.0                0.0               0.0   \n",
       "2              1.0      1.0         0.0                1.0               0.0   \n",
       "3              1.0      1.0         0.0                0.0               1.0   \n",
       "4              1.0      1.0         0.0                0.0               0.0   \n",
       "\n",
       "   x3_never smoked  x3_tried smoking  x4_drink a lot  x4_never  \\\n",
       "0              0.0               0.0             1.0       0.0   \n",
       "1              0.0               1.0             0.0       1.0   \n",
       "2              0.0               0.0             0.0       0.0   \n",
       "3              0.0               0.0             0.0       0.0   \n",
       "4              0.0               1.0             1.0       0.0   \n",
       "\n",
       "   x4_social drinker  \n",
       "0                0.0  \n",
       "1                0.0  \n",
       "2                1.0  \n",
       "3                1.0  \n",
       "4                0.0  "
      ]
     },
     "execution_count": 22,
     "metadata": {},
     "output_type": "execute_result"
    }
   ],
   "source": [
    "data_train_tramsformed = pd.concat([pd.DataFrame(data_train_scaled, columns=numerical_features),\n",
    "                                    pd.DataFrame(data_train_ohe, columns=ohe.get_feature_names()),\n",
    "                                   # pd.DataFrame(data_train[categorical_features].values)\n",
    "                                   ], axis=1)\n",
    "data_train_tramsformed.head()"
   ]
  },
  {
   "cell_type": "markdown",
   "metadata": {},
   "source": [
    "# ML часть"
   ]
  },
  {
   "cell_type": "code",
   "execution_count": 23,
   "metadata": {
    "ExecuteTime": {
     "end_time": "2022-04-18T19:10:39.176258Z",
     "start_time": "2022-04-18T19:10:39.131255Z"
    }
   },
   "outputs": [],
   "source": [
    "from sklearn.linear_model import LogisticRegression\n",
    "\n",
    "from sklearn.metrics import classification_report, confusion_matrix, f1_score, make_scorer"
   ]
  },
  {
   "cell_type": "code",
   "execution_count": 24,
   "metadata": {
    "ExecuteTime": {
     "end_time": "2022-04-18T19:10:39.224260Z",
     "start_time": "2022-04-18T19:10:39.177257Z"
    }
   },
   "outputs": [
    {
     "data": {
      "text/plain": [
       "LogisticRegression()"
      ]
     },
     "execution_count": 24,
     "metadata": {},
     "output_type": "execute_result"
    }
   ],
   "source": [
    "model = LogisticRegression()\n",
    "\n",
    "model.fit(data_train_tramsformed, data_train[target])"
   ]
  },
  {
   "cell_type": "code",
   "execution_count": 25,
   "metadata": {
    "ExecuteTime": {
     "end_time": "2022-04-18T19:10:39.240258Z",
     "start_time": "2022-04-18T19:10:39.225261Z"
    }
   },
   "outputs": [
    {
     "name": "stdout",
     "output_type": "stream",
     "text": [
      "              precision    recall  f1-score   support\n",
      "\n",
      "          -1       0.42      0.02      0.04       259\n",
      "           0       0.50      0.98      0.67       374\n",
      "           1       0.00      0.00      0.00       107\n",
      "\n",
      "    accuracy                           0.50       740\n",
      "   macro avg       0.31      0.33      0.23       740\n",
      "weighted avg       0.40      0.50      0.35       740\n",
      "\n"
     ]
    }
   ],
   "source": [
    "preds = model.predict(data_train_tramsformed)\n",
    "\n",
    "\n",
    "print(classification_report(data_train[target], preds))"
   ]
  },
  {
   "cell_type": "markdown",
   "metadata": {},
   "source": [
    "# А как же тест?! Валидация"
   ]
  },
  {
   "cell_type": "code",
   "execution_count": 26,
   "metadata": {
    "ExecuteTime": {
     "end_time": "2022-04-18T19:10:39.256261Z",
     "start_time": "2022-04-18T19:10:39.241257Z"
    }
   },
   "outputs": [
    {
     "data": {
      "text/plain": [
       "array([[ 3.3608835 ,  0.54878637,  1.01162563],\n",
       "       [-0.50536745,  0.64664225,  0.79047262],\n",
       "       [-0.50536745,  0.74449813,  0.2744489 ],\n",
       "       [-0.50536745, -0.13620481, -0.61016317],\n",
       "       [ 0.19758727,  0.3530746 ,  1.01162563],\n",
       "       [-0.15389009,  0.94020989,  1.23277865],\n",
       "       [-0.15389009, -0.82119598, -0.68388084],\n",
       "       [ 0.19758727, -0.33191657, -0.97875154],\n",
       "       [ 0.19758727, -0.03834893, -0.83131619],\n",
       "       [ 0.54906463, -0.33191657, -0.83131619]])"
      ]
     },
     "execution_count": 26,
     "metadata": {},
     "output_type": "execute_result"
    }
   ],
   "source": [
    "data_test_scaled = scaler.transform(data_test[numerical_features])\n",
    "data_test_scaled[:10]"
   ]
  },
  {
   "cell_type": "code",
   "execution_count": 27,
   "metadata": {
    "ExecuteTime": {
     "end_time": "2022-04-18T19:10:39.272259Z",
     "start_time": "2022-04-18T19:10:39.257260Z"
    }
   },
   "outputs": [
    {
     "data": {
      "text/plain": [
       "array([[1., 0., 0., 1., 0., 1., 0., 0., 1., 0., 0., 1., 0.],\n",
       "       [0., 1., 0., 1., 1., 0., 0., 0., 0., 1., 0., 0., 1.],\n",
       "       [0., 1., 0., 1., 1., 0., 0., 0., 0., 1., 0., 0., 1.],\n",
       "       [1., 0., 1., 0., 1., 0., 0., 0., 0., 1., 0., 0., 1.],\n",
       "       [0., 1., 0., 1., 1., 0., 0., 1., 0., 0., 0., 0., 1.],\n",
       "       [0., 1., 0., 1., 1., 0., 1., 0., 0., 0., 0., 0., 1.],\n",
       "       [1., 0., 0., 1., 1., 0., 0., 0., 0., 1., 0., 0., 1.],\n",
       "       [1., 0., 0., 1., 1., 0., 1., 0., 0., 0., 0., 0., 1.],\n",
       "       [1., 0., 0., 1., 1., 0., 0., 1., 0., 0., 0., 0., 1.],\n",
       "       [1., 0., 0., 1., 0., 1., 0., 0., 0., 1., 0., 0., 1.]])"
      ]
     },
     "execution_count": 27,
     "metadata": {},
     "output_type": "execute_result"
    }
   ],
   "source": [
    "data_test_ohe = ohe.transform(data_test[to_dummies])\n",
    "data_test_ohe[:10]"
   ]
  },
  {
   "cell_type": "code",
   "execution_count": 28,
   "metadata": {
    "ExecuteTime": {
     "end_time": "2022-04-18T19:10:39.319263Z",
     "start_time": "2022-04-18T19:10:39.278260Z"
    }
   },
   "outputs": [
    {
     "data": {
      "text/html": [
       "<div>\n",
       "<style scoped>\n",
       "    .dataframe tbody tr th:only-of-type {\n",
       "        vertical-align: middle;\n",
       "    }\n",
       "\n",
       "    .dataframe tbody tr th {\n",
       "        vertical-align: top;\n",
       "    }\n",
       "\n",
       "    .dataframe thead th {\n",
       "        text-align: right;\n",
       "    }\n",
       "</style>\n",
       "<table border=\"1\" class=\"dataframe\">\n",
       "  <thead>\n",
       "    <tr style=\"text-align: right;\">\n",
       "      <th></th>\n",
       "      <th>Age</th>\n",
       "      <th>Height</th>\n",
       "      <th>Weight</th>\n",
       "      <th>x0_female</th>\n",
       "      <th>x0_male</th>\n",
       "      <th>x1_left handed</th>\n",
       "      <th>x1_right handed</th>\n",
       "      <th>x2_city</th>\n",
       "      <th>x2_village</th>\n",
       "      <th>x3_current smoker</th>\n",
       "      <th>x3_former smoker</th>\n",
       "      <th>x3_never smoked</th>\n",
       "      <th>x3_tried smoking</th>\n",
       "      <th>x4_drink a lot</th>\n",
       "      <th>x4_never</th>\n",
       "      <th>x4_social drinker</th>\n",
       "    </tr>\n",
       "  </thead>\n",
       "  <tbody>\n",
       "    <tr>\n",
       "      <th>0</th>\n",
       "      <td>3.360883</td>\n",
       "      <td>0.548786</td>\n",
       "      <td>1.011626</td>\n",
       "      <td>1.0</td>\n",
       "      <td>0.0</td>\n",
       "      <td>0.0</td>\n",
       "      <td>1.0</td>\n",
       "      <td>0.0</td>\n",
       "      <td>1.0</td>\n",
       "      <td>0.0</td>\n",
       "      <td>0.0</td>\n",
       "      <td>1.0</td>\n",
       "      <td>0.0</td>\n",
       "      <td>0.0</td>\n",
       "      <td>1.0</td>\n",
       "      <td>0.0</td>\n",
       "    </tr>\n",
       "    <tr>\n",
       "      <th>1</th>\n",
       "      <td>-0.505367</td>\n",
       "      <td>0.646642</td>\n",
       "      <td>0.790473</td>\n",
       "      <td>0.0</td>\n",
       "      <td>1.0</td>\n",
       "      <td>0.0</td>\n",
       "      <td>1.0</td>\n",
       "      <td>1.0</td>\n",
       "      <td>0.0</td>\n",
       "      <td>0.0</td>\n",
       "      <td>0.0</td>\n",
       "      <td>0.0</td>\n",
       "      <td>1.0</td>\n",
       "      <td>0.0</td>\n",
       "      <td>0.0</td>\n",
       "      <td>1.0</td>\n",
       "    </tr>\n",
       "    <tr>\n",
       "      <th>2</th>\n",
       "      <td>-0.505367</td>\n",
       "      <td>0.744498</td>\n",
       "      <td>0.274449</td>\n",
       "      <td>0.0</td>\n",
       "      <td>1.0</td>\n",
       "      <td>0.0</td>\n",
       "      <td>1.0</td>\n",
       "      <td>1.0</td>\n",
       "      <td>0.0</td>\n",
       "      <td>0.0</td>\n",
       "      <td>0.0</td>\n",
       "      <td>0.0</td>\n",
       "      <td>1.0</td>\n",
       "      <td>0.0</td>\n",
       "      <td>0.0</td>\n",
       "      <td>1.0</td>\n",
       "    </tr>\n",
       "    <tr>\n",
       "      <th>3</th>\n",
       "      <td>-0.505367</td>\n",
       "      <td>-0.136205</td>\n",
       "      <td>-0.610163</td>\n",
       "      <td>1.0</td>\n",
       "      <td>0.0</td>\n",
       "      <td>1.0</td>\n",
       "      <td>0.0</td>\n",
       "      <td>1.0</td>\n",
       "      <td>0.0</td>\n",
       "      <td>0.0</td>\n",
       "      <td>0.0</td>\n",
       "      <td>0.0</td>\n",
       "      <td>1.0</td>\n",
       "      <td>0.0</td>\n",
       "      <td>0.0</td>\n",
       "      <td>1.0</td>\n",
       "    </tr>\n",
       "    <tr>\n",
       "      <th>4</th>\n",
       "      <td>0.197587</td>\n",
       "      <td>0.353075</td>\n",
       "      <td>1.011626</td>\n",
       "      <td>0.0</td>\n",
       "      <td>1.0</td>\n",
       "      <td>0.0</td>\n",
       "      <td>1.0</td>\n",
       "      <td>1.0</td>\n",
       "      <td>0.0</td>\n",
       "      <td>0.0</td>\n",
       "      <td>1.0</td>\n",
       "      <td>0.0</td>\n",
       "      <td>0.0</td>\n",
       "      <td>0.0</td>\n",
       "      <td>0.0</td>\n",
       "      <td>1.0</td>\n",
       "    </tr>\n",
       "  </tbody>\n",
       "</table>\n",
       "</div>"
      ],
      "text/plain": [
       "        Age    Height    Weight  x0_female  x0_male  x1_left handed  \\\n",
       "0  3.360883  0.548786  1.011626        1.0      0.0             0.0   \n",
       "1 -0.505367  0.646642  0.790473        0.0      1.0             0.0   \n",
       "2 -0.505367  0.744498  0.274449        0.0      1.0             0.0   \n",
       "3 -0.505367 -0.136205 -0.610163        1.0      0.0             1.0   \n",
       "4  0.197587  0.353075  1.011626        0.0      1.0             0.0   \n",
       "\n",
       "   x1_right handed  x2_city  x2_village  x3_current smoker  x3_former smoker  \\\n",
       "0              1.0      0.0         1.0                0.0               0.0   \n",
       "1              1.0      1.0         0.0                0.0               0.0   \n",
       "2              1.0      1.0         0.0                0.0               0.0   \n",
       "3              0.0      1.0         0.0                0.0               0.0   \n",
       "4              1.0      1.0         0.0                0.0               1.0   \n",
       "\n",
       "   x3_never smoked  x3_tried smoking  x4_drink a lot  x4_never  \\\n",
       "0              1.0               0.0             0.0       1.0   \n",
       "1              0.0               1.0             0.0       0.0   \n",
       "2              0.0               1.0             0.0       0.0   \n",
       "3              0.0               1.0             0.0       0.0   \n",
       "4              0.0               0.0             0.0       0.0   \n",
       "\n",
       "   x4_social drinker  \n",
       "0                0.0  \n",
       "1                1.0  \n",
       "2                1.0  \n",
       "3                1.0  \n",
       "4                1.0  "
      ]
     },
     "execution_count": 28,
     "metadata": {},
     "output_type": "execute_result"
    }
   ],
   "source": [
    "data_test_tramsformed = pd.concat([pd.DataFrame(data_test_scaled, columns=numerical_features),\n",
    "                                    pd.DataFrame(data_test_ohe, columns=ohe.get_feature_names()),\n",
    "                                    #pd.DataFrame(data_test[categorical_features].values)\n",
    "                                  ], axis=1)\n",
    "data_test_tramsformed.head()"
   ]
  },
  {
   "cell_type": "code",
   "execution_count": 29,
   "metadata": {
    "ExecuteTime": {
     "end_time": "2022-04-18T19:10:39.335265Z",
     "start_time": "2022-04-18T19:10:39.320265Z"
    }
   },
   "outputs": [],
   "source": [
    "preds = model.predict(data_test_tramsformed)"
   ]
  },
  {
   "cell_type": "code",
   "execution_count": 30,
   "metadata": {
    "ExecuteTime": {
     "end_time": "2022-04-18T19:10:39.351267Z",
     "start_time": "2022-04-18T19:10:39.336266Z"
    }
   },
   "outputs": [
    {
     "name": "stdout",
     "output_type": "stream",
     "text": [
      "              precision    recall  f1-score   support\n",
      "\n",
      "          -1       0.67      0.03      0.06        65\n",
      "           0       0.51      1.00      0.68        93\n",
      "           1       0.00      0.00      0.00        27\n",
      "\n",
      "    accuracy                           0.51       185\n",
      "   macro avg       0.39      0.34      0.25       185\n",
      "weighted avg       0.49      0.51      0.36       185\n",
      "\n"
     ]
    }
   ],
   "source": [
    "print(classification_report(data_test[target], preds))"
   ]
  },
  {
   "cell_type": "markdown",
   "metadata": {},
   "source": [
    "## Что не так с этим способом?"
   ]
  },
  {
   "cell_type": "markdown",
   "metadata": {},
   "source": [
    "<div class=\"alert alert-warning\">\n",
    "\n",
    "\n",
    " - Дублируем код ли кода\n",
    "\n",
    " - Сложно маштабировать\n",
    "\n",
    " - Сложно поддерживать свой код\n",
    "    \n",
    " - Много времени("
   ]
  },
  {
   "cell_type": "markdown",
   "metadata": {},
   "source": [
    "Как сохранить всю эту махину? "
   ]
  },
  {
   "cell_type": "code",
   "execution_count": null,
   "metadata": {},
   "outputs": [],
   "source": [
    " "
   ]
  },
  {
   "cell_type": "markdown",
   "metadata": {},
   "source": [
    "# Как пишут код true-датасаентисты - The pipeline way "
   ]
  },
  {
   "cell_type": "markdown",
   "metadata": {},
   "source": [
    "<div>\n",
    "<img src=\"https://i.pinimg.com/564x/41/d2/4b/41d24b25710d7746b22a7eb34316952c.jpg\" width=\"500\"/>\n",
    "</div>"
   ]
  },
  {
   "cell_type": "markdown",
   "metadata": {},
   "source": [
    "<div class=\"alert alert-info\">\n",
    "\n",
    "Pipeline позволяет обернуть сразу несколько этапов обработки данных в один объект\n",
    "\n",
    "- **FunctionTransformer**: преобразует функцию в трансформер\n",
    "- **FeatureUnion**: объединяет результаты нескольких трансформеров в один датасет\n",
    "- **ColumnTransformer**: выбирает определенные колонки\n",
    "- **make_pipeline**: удобная обертка для создания пайплайна, можно использовать вместо Pipeline "
   ]
  },
  {
   "cell_type": "code",
   "execution_count": null,
   "metadata": {},
   "outputs": [],
   "source": [
    " "
   ]
  },
  {
   "cell_type": "code",
   "execution_count": 31,
   "metadata": {
    "ExecuteTime": {
     "end_time": "2022-04-18T19:10:39.415270Z",
     "start_time": "2022-04-18T19:10:39.352269Z"
    }
   },
   "outputs": [],
   "source": [
    "# Гости этого вечера. Нужные нам фрагменты для сборки пайплайна\n",
    "\n",
    "from sklearn.pipeline import Pipeline, make_pipeline, FeatureUnion\n",
    "from sklearn.compose import ColumnTransformer, make_column_selector\n",
    "\n",
    "from sklearn.impute import SimpleImputer, KNNImputer\n",
    "from sklearn.feature_selection import SelectKBest, chi2, f_classif"
   ]
  },
  {
   "cell_type": "code",
   "execution_count": 32,
   "metadata": {
    "ExecuteTime": {
     "end_time": "2022-04-18T19:10:39.510277Z",
     "start_time": "2022-04-18T19:10:39.416271Z"
    }
   },
   "outputs": [
    {
     "data": {
      "text/plain": [
       "Pipeline(steps=[('preprocessor',\n",
       "                 Pipeline(steps=[('data_transformer',\n",
       "                                  ColumnTransformer(transformers=[('numerical',\n",
       "                                                                   Pipeline(steps=[('imputer',\n",
       "                                                                                    SimpleImputer()),\n",
       "                                                                                   ('scaler',\n",
       "                                                                                    StandardScaler()),\n",
       "                                                                                   ('fs',\n",
       "                                                                                    SelectKBest(k='all'))]),\n",
       "                                                                   ['Age',\n",
       "                                                                    'Height',\n",
       "                                                                    'Weight']),\n",
       "                                                                  ('categorical',\n",
       "                                                                   Pipeline(steps=[('imputer',\n",
       "                                                                                    SimpleImputer()),\n",
       "                                                                                   ('onehot',\n",
       "                                                                                    OneHotEncoder(handle_unknown='ignore'))]),\n",
       "                                                                   ['Getting '\n",
       "                                                                    'up',\n",
       "                                                                    'God',\n",
       "                                                                    'Health',\n",
       "                                                                    'Borrowed '\n",
       "                                                                    'stuff',\n",
       "                                                                    'Self-criticism',\n",
       "                                                                    'Elections',\n",
       "                                                                    'Number of '\n",
       "                                                                    'friends',\n",
       "                                                                    'Spending '\n",
       "                                                                    'on '\n",
       "                                                                    'healthy '\n",
       "                                                                    'eating',\n",
       "                                                                    'Music',\n",
       "                                                                    'Movies',\n",
       "                                                                    'Friends '\n",
       "                                                                    'versus '\n",
       "                                                                    'money',\n",
       "                                                                    'Changing '\n",
       "                                                                    'the '\n",
       "                                                                    'past'])]))])),\n",
       "                ('classifier', LogisticRegression())])"
      ]
     },
     "execution_count": 32,
     "metadata": {},
     "output_type": "execute_result"
    }
   ],
   "source": [
    "#   Для категориальных - применяем SimpleImputer, а затем StandardScaler\n",
    "numerical_transformer = Pipeline(steps=[\n",
    "    (\"imputer\", SimpleImputer()),\n",
    "    (\"scaler\", StandardScaler()),\n",
    "    (\"fs\", SelectKBest(score_func=f_classif, k=\"all\")),\n",
    "])\n",
    "\n",
    "#   Для категориальных - применяем SimpleImputer, а затем OneHotEncoder\n",
    "categorical_transformer = Pipeline(steps=[\n",
    "    (\"imputer\", SimpleImputer()),\n",
    "    (\"onehot\", OneHotEncoder(handle_unknown=\"ignore\")),\n",
    "])\n",
    "\n",
    "# Собираем воедино трансформеры для числовых и категориальных признаков\n",
    "data_transformer = ColumnTransformer(transformers=[\n",
    "    (\"numerical\", numerical_transformer, numerical_features),\n",
    "    (\"categorical\", categorical_transformer, categorical_features),\n",
    "])\n",
    "\n",
    "# Создание конвейера препроцессора, который сначала преобразует данные\n",
    "preprocessor = Pipeline(steps=[(\"data_transformer\", data_transformer)])\n",
    "\n",
    "classifier_pipline = Pipeline(\n",
    "    steps=[(\"preprocessor\", preprocessor), \n",
    "           (\"classifier\", LogisticRegression())])\n",
    "\n",
    "classifier_pipline"
   ]
  },
  {
   "cell_type": "markdown",
   "metadata": {},
   "source": [
    "# Добавим магии - отрисовка!"
   ]
  },
  {
   "cell_type": "code",
   "execution_count": 33,
   "metadata": {
    "ExecuteTime": {
     "end_time": "2022-04-18T19:10:39.526279Z",
     "start_time": "2022-04-18T19:10:39.512278Z"
    }
   },
   "outputs": [],
   "source": [
    "import sklearn\n",
    "sklearn.set_config(display='diagram') #Подключим визуал"
   ]
  },
  {
   "cell_type": "code",
   "execution_count": 34,
   "metadata": {
    "ExecuteTime": {
     "end_time": "2022-04-18T19:10:39.700291Z",
     "start_time": "2022-04-18T19:10:39.527282Z"
    }
   },
   "outputs": [
    {
     "data": {
      "text/html": [
       "<style>#sk-d5fb84cf-716e-428f-83f5-ca1bbb7162c8 {color: black;background-color: white;}#sk-d5fb84cf-716e-428f-83f5-ca1bbb7162c8 pre{padding: 0;}#sk-d5fb84cf-716e-428f-83f5-ca1bbb7162c8 div.sk-toggleable {background-color: white;}#sk-d5fb84cf-716e-428f-83f5-ca1bbb7162c8 label.sk-toggleable__label {cursor: pointer;display: block;width: 100%;margin-bottom: 0;padding: 0.2em 0.3em;box-sizing: border-box;text-align: center;}#sk-d5fb84cf-716e-428f-83f5-ca1bbb7162c8 div.sk-toggleable__content {max-height: 0;max-width: 0;overflow: hidden;text-align: left;background-color: #f0f8ff;}#sk-d5fb84cf-716e-428f-83f5-ca1bbb7162c8 div.sk-toggleable__content pre {margin: 0.2em;color: black;border-radius: 0.25em;background-color: #f0f8ff;}#sk-d5fb84cf-716e-428f-83f5-ca1bbb7162c8 input.sk-toggleable__control:checked~div.sk-toggleable__content {max-height: 200px;max-width: 100%;overflow: auto;}#sk-d5fb84cf-716e-428f-83f5-ca1bbb7162c8 div.sk-estimator input.sk-toggleable__control:checked~label.sk-toggleable__label {background-color: #d4ebff;}#sk-d5fb84cf-716e-428f-83f5-ca1bbb7162c8 div.sk-label input.sk-toggleable__control:checked~label.sk-toggleable__label {background-color: #d4ebff;}#sk-d5fb84cf-716e-428f-83f5-ca1bbb7162c8 input.sk-hidden--visually {border: 0;clip: rect(1px 1px 1px 1px);clip: rect(1px, 1px, 1px, 1px);height: 1px;margin: -1px;overflow: hidden;padding: 0;position: absolute;width: 1px;}#sk-d5fb84cf-716e-428f-83f5-ca1bbb7162c8 div.sk-estimator {font-family: monospace;background-color: #f0f8ff;margin: 0.25em 0.25em;border: 1px dotted black;border-radius: 0.25em;box-sizing: border-box;}#sk-d5fb84cf-716e-428f-83f5-ca1bbb7162c8 div.sk-estimator:hover {background-color: #d4ebff;}#sk-d5fb84cf-716e-428f-83f5-ca1bbb7162c8 div.sk-parallel-item::after {content: \"\";width: 100%;border-bottom: 1px solid gray;flex-grow: 1;}#sk-d5fb84cf-716e-428f-83f5-ca1bbb7162c8 div.sk-label:hover label.sk-toggleable__label {background-color: #d4ebff;}#sk-d5fb84cf-716e-428f-83f5-ca1bbb7162c8 div.sk-serial::before {content: \"\";position: absolute;border-left: 1px solid gray;box-sizing: border-box;top: 2em;bottom: 0;left: 50%;}#sk-d5fb84cf-716e-428f-83f5-ca1bbb7162c8 div.sk-serial {display: flex;flex-direction: column;align-items: center;background-color: white;}#sk-d5fb84cf-716e-428f-83f5-ca1bbb7162c8 div.sk-item {z-index: 1;}#sk-d5fb84cf-716e-428f-83f5-ca1bbb7162c8 div.sk-parallel {display: flex;align-items: stretch;justify-content: center;background-color: white;}#sk-d5fb84cf-716e-428f-83f5-ca1bbb7162c8 div.sk-parallel-item {display: flex;flex-direction: column;position: relative;background-color: white;}#sk-d5fb84cf-716e-428f-83f5-ca1bbb7162c8 div.sk-parallel-item:first-child::after {align-self: flex-end;width: 50%;}#sk-d5fb84cf-716e-428f-83f5-ca1bbb7162c8 div.sk-parallel-item:last-child::after {align-self: flex-start;width: 50%;}#sk-d5fb84cf-716e-428f-83f5-ca1bbb7162c8 div.sk-parallel-item:only-child::after {width: 0;}#sk-d5fb84cf-716e-428f-83f5-ca1bbb7162c8 div.sk-dashed-wrapped {border: 1px dashed gray;margin: 0.2em;box-sizing: border-box;padding-bottom: 0.1em;background-color: white;position: relative;}#sk-d5fb84cf-716e-428f-83f5-ca1bbb7162c8 div.sk-label label {font-family: monospace;font-weight: bold;background-color: white;display: inline-block;line-height: 1.2em;}#sk-d5fb84cf-716e-428f-83f5-ca1bbb7162c8 div.sk-label-container {position: relative;z-index: 2;text-align: center;}#sk-d5fb84cf-716e-428f-83f5-ca1bbb7162c8 div.sk-container {display: inline-block;position: relative;}</style><div id=\"sk-d5fb84cf-716e-428f-83f5-ca1bbb7162c8\" class\"sk-top-container\"><div class=\"sk-container\"><div class=\"sk-item sk-dashed-wrapped\"><div class=\"sk-label-container\"><div class=\"sk-label sk-toggleable\"><input class=\"sk-toggleable__control sk-hidden--visually\" id=\"ce670d80-1d69-4333-8a46-24ae54515fb2\" type=\"checkbox\" ><label class=\"sk-toggleable__label\" for=\"ce670d80-1d69-4333-8a46-24ae54515fb2\">Pipeline</label><div class=\"sk-toggleable__content\"><pre>Pipeline(steps=[('preprocessor',\n",
       "                 Pipeline(steps=[('data_transformer',\n",
       "                                  ColumnTransformer(transformers=[('numerical',\n",
       "                                                                   Pipeline(steps=[('imputer',\n",
       "                                                                                    SimpleImputer()),\n",
       "                                                                                   ('scaler',\n",
       "                                                                                    StandardScaler()),\n",
       "                                                                                   ('fs',\n",
       "                                                                                    SelectKBest(k='all'))]),\n",
       "                                                                   ['Age',\n",
       "                                                                    'Height',\n",
       "                                                                    'Weight']),\n",
       "                                                                  ('categorical',\n",
       "                                                                   Pipeline(steps=[('imputer',\n",
       "                                                                                    SimpleImputer()),\n",
       "                                                                                   ('onehot',\n",
       "                                                                                    OneHotEncoder(handle_unknown='ignore'))]),\n",
       "                                                                   ['Getting '\n",
       "                                                                    'up',\n",
       "                                                                    'God',\n",
       "                                                                    'Health',\n",
       "                                                                    'Borrowed '\n",
       "                                                                    'stuff',\n",
       "                                                                    'Self-criticism',\n",
       "                                                                    'Elections',\n",
       "                                                                    'Number of '\n",
       "                                                                    'friends',\n",
       "                                                                    'Spending '\n",
       "                                                                    'on '\n",
       "                                                                    'healthy '\n",
       "                                                                    'eating',\n",
       "                                                                    'Music',\n",
       "                                                                    'Movies',\n",
       "                                                                    'Friends '\n",
       "                                                                    'versus '\n",
       "                                                                    'money',\n",
       "                                                                    'Changing '\n",
       "                                                                    'the '\n",
       "                                                                    'past'])]))])),\n",
       "                ('classifier', LogisticRegression())])</pre></div></div></div><div class=\"sk-serial\"><div class=\"sk-item\"><div class=\"sk-label-container\"><div class=\"sk-label sk-toggleable\"><input class=\"sk-toggleable__control sk-hidden--visually\" id=\"4582edaa-c953-4d59-954a-6e934e9ab786\" type=\"checkbox\" ><label class=\"sk-toggleable__label\" for=\"4582edaa-c953-4d59-954a-6e934e9ab786\">preprocessor: Pipeline</label><div class=\"sk-toggleable__content\"><pre>Pipeline(steps=[('data_transformer',\n",
       "                 ColumnTransformer(transformers=[('numerical',\n",
       "                                                  Pipeline(steps=[('imputer',\n",
       "                                                                   SimpleImputer()),\n",
       "                                                                  ('scaler',\n",
       "                                                                   StandardScaler()),\n",
       "                                                                  ('fs',\n",
       "                                                                   SelectKBest(k='all'))]),\n",
       "                                                  ['Age', 'Height', 'Weight']),\n",
       "                                                 ('categorical',\n",
       "                                                  Pipeline(steps=[('imputer',\n",
       "                                                                   SimpleImputer()),\n",
       "                                                                  ('onehot',\n",
       "                                                                   OneHotEncoder(handle_unknown='ignore'))]),\n",
       "                                                  ['Getting up', 'God',\n",
       "                                                   'Health', 'Borrowed stuff',\n",
       "                                                   'Self-criticism',\n",
       "                                                   'Elections',\n",
       "                                                   'Number of friends',\n",
       "                                                   'Spending on healthy eating',\n",
       "                                                   'Music', 'Movies',\n",
       "                                                   'Friends versus money',\n",
       "                                                   'Changing the past'])]))])</pre></div></div></div><div class=\"sk-serial\"><div class=\"sk-item sk-dashed-wrapped\"><div class=\"sk-label-container\"><div class=\"sk-label sk-toggleable\"><input class=\"sk-toggleable__control sk-hidden--visually\" id=\"0adfd736-d719-4d1b-85b5-d951c3a9cfd4\" type=\"checkbox\" ><label class=\"sk-toggleable__label\" for=\"0adfd736-d719-4d1b-85b5-d951c3a9cfd4\">data_transformer: ColumnTransformer</label><div class=\"sk-toggleable__content\"><pre>ColumnTransformer(transformers=[('numerical',\n",
       "                                 Pipeline(steps=[('imputer', SimpleImputer()),\n",
       "                                                 ('scaler', StandardScaler()),\n",
       "                                                 ('fs', SelectKBest(k='all'))]),\n",
       "                                 ['Age', 'Height', 'Weight']),\n",
       "                                ('categorical',\n",
       "                                 Pipeline(steps=[('imputer', SimpleImputer()),\n",
       "                                                 ('onehot',\n",
       "                                                  OneHotEncoder(handle_unknown='ignore'))]),\n",
       "                                 ['Getting up', 'God', 'Health',\n",
       "                                  'Borrowed stuff', 'Self-criticism',\n",
       "                                  'Elections', 'Number of friends',\n",
       "                                  'Spending on healthy eating', 'Music',\n",
       "                                  'Movies', 'Friends versus money',\n",
       "                                  'Changing the past'])])</pre></div></div></div><div class=\"sk-parallel\"><div class=\"sk-parallel-item\"><div class=\"sk-item\"><div class=\"sk-label-container\"><div class=\"sk-label sk-toggleable\"><input class=\"sk-toggleable__control sk-hidden--visually\" id=\"f2e0c9ca-b7b7-4ee6-8dea-54d2fc2dfabb\" type=\"checkbox\" ><label class=\"sk-toggleable__label\" for=\"f2e0c9ca-b7b7-4ee6-8dea-54d2fc2dfabb\">numerical</label><div class=\"sk-toggleable__content\"><pre>['Age', 'Height', 'Weight']</pre></div></div></div><div class=\"sk-serial\"><div class=\"sk-item\"><div class=\"sk-serial\"><div class=\"sk-item\"><div class=\"sk-estimator sk-toggleable\"><input class=\"sk-toggleable__control sk-hidden--visually\" id=\"44d9c274-f886-4873-a581-74da02ca6be7\" type=\"checkbox\" ><label class=\"sk-toggleable__label\" for=\"44d9c274-f886-4873-a581-74da02ca6be7\">SimpleImputer</label><div class=\"sk-toggleable__content\"><pre>SimpleImputer()</pre></div></div></div><div class=\"sk-item\"><div class=\"sk-estimator sk-toggleable\"><input class=\"sk-toggleable__control sk-hidden--visually\" id=\"a6dde299-c4a8-4d20-af06-ffb4a548515e\" type=\"checkbox\" ><label class=\"sk-toggleable__label\" for=\"a6dde299-c4a8-4d20-af06-ffb4a548515e\">StandardScaler</label><div class=\"sk-toggleable__content\"><pre>StandardScaler()</pre></div></div></div><div class=\"sk-item\"><div class=\"sk-estimator sk-toggleable\"><input class=\"sk-toggleable__control sk-hidden--visually\" id=\"900c79d7-990b-44b9-afbc-fb21c0443b55\" type=\"checkbox\" ><label class=\"sk-toggleable__label\" for=\"900c79d7-990b-44b9-afbc-fb21c0443b55\">SelectKBest</label><div class=\"sk-toggleable__content\"><pre>SelectKBest(k='all')</pre></div></div></div></div></div></div></div></div><div class=\"sk-parallel-item\"><div class=\"sk-item\"><div class=\"sk-label-container\"><div class=\"sk-label sk-toggleable\"><input class=\"sk-toggleable__control sk-hidden--visually\" id=\"59773f1f-aee9-4d34-9a6a-5bf3cd8379c1\" type=\"checkbox\" ><label class=\"sk-toggleable__label\" for=\"59773f1f-aee9-4d34-9a6a-5bf3cd8379c1\">categorical</label><div class=\"sk-toggleable__content\"><pre>['Getting up', 'God', 'Health', 'Borrowed stuff', 'Self-criticism', 'Elections', 'Number of friends', 'Spending on healthy eating', 'Music', 'Movies', 'Friends versus money', 'Changing the past']</pre></div></div></div><div class=\"sk-serial\"><div class=\"sk-item\"><div class=\"sk-serial\"><div class=\"sk-item\"><div class=\"sk-estimator sk-toggleable\"><input class=\"sk-toggleable__control sk-hidden--visually\" id=\"478a0f00-0927-47d1-8a3f-94fa36f6bdd7\" type=\"checkbox\" ><label class=\"sk-toggleable__label\" for=\"478a0f00-0927-47d1-8a3f-94fa36f6bdd7\">SimpleImputer</label><div class=\"sk-toggleable__content\"><pre>SimpleImputer()</pre></div></div></div><div class=\"sk-item\"><div class=\"sk-estimator sk-toggleable\"><input class=\"sk-toggleable__control sk-hidden--visually\" id=\"d8969991-fe5e-4bcd-ae22-af792b6aacaa\" type=\"checkbox\" ><label class=\"sk-toggleable__label\" for=\"d8969991-fe5e-4bcd-ae22-af792b6aacaa\">OneHotEncoder</label><div class=\"sk-toggleable__content\"><pre>OneHotEncoder(handle_unknown='ignore')</pre></div></div></div></div></div></div></div></div></div></div></div></div><div class=\"sk-item\"><div class=\"sk-estimator sk-toggleable\"><input class=\"sk-toggleable__control sk-hidden--visually\" id=\"9f012e6b-cfde-4701-88a2-f845acdfdb0b\" type=\"checkbox\" ><label class=\"sk-toggleable__label\" for=\"9f012e6b-cfde-4701-88a2-f845acdfdb0b\">LogisticRegression</label><div class=\"sk-toggleable__content\"><pre>LogisticRegression()</pre></div></div></div></div></div></div></div>"
      ],
      "text/plain": [
       "Pipeline(steps=[('preprocessor',\n",
       "                 Pipeline(steps=[('data_transformer',\n",
       "                                  ColumnTransformer(transformers=[('numerical',\n",
       "                                                                   Pipeline(steps=[('imputer',\n",
       "                                                                                    SimpleImputer()),\n",
       "                                                                                   ('scaler',\n",
       "                                                                                    StandardScaler()),\n",
       "                                                                                   ('fs',\n",
       "                                                                                    SelectKBest(k='all'))]),\n",
       "                                                                   ['Age',\n",
       "                                                                    'Height',\n",
       "                                                                    'Weight']),\n",
       "                                                                  ('categorical',\n",
       "                                                                   Pipeline(steps=[('imputer',\n",
       "                                                                                    SimpleImputer()),\n",
       "                                                                                   ('onehot',\n",
       "                                                                                    OneHotEncoder(handle_unknown='ignore'))]),\n",
       "                                                                   ['Getting '\n",
       "                                                                    'up',\n",
       "                                                                    'God',\n",
       "                                                                    'Health',\n",
       "                                                                    'Borrowed '\n",
       "                                                                    'stuff',\n",
       "                                                                    'Self-criticism',\n",
       "                                                                    'Elections',\n",
       "                                                                    'Number of '\n",
       "                                                                    'friends',\n",
       "                                                                    'Spending '\n",
       "                                                                    'on '\n",
       "                                                                    'healthy '\n",
       "                                                                    'eating',\n",
       "                                                                    'Music',\n",
       "                                                                    'Movies',\n",
       "                                                                    'Friends '\n",
       "                                                                    'versus '\n",
       "                                                                    'money',\n",
       "                                                                    'Changing '\n",
       "                                                                    'the '\n",
       "                                                                    'past'])]))])),\n",
       "                ('classifier', LogisticRegression())])"
      ]
     },
     "execution_count": 34,
     "metadata": {},
     "output_type": "execute_result"
    }
   ],
   "source": [
    "classifier_pipline"
   ]
  },
  {
   "cell_type": "code",
   "execution_count": 35,
   "metadata": {
    "ExecuteTime": {
     "end_time": "2022-04-18T19:10:39.715295Z",
     "start_time": "2022-04-18T19:10:39.702294Z"
    }
   },
   "outputs": [
    {
     "name": "stdout",
     "output_type": "stream",
     "text": [
      "(808, 16) (202, 16)\n"
     ]
    }
   ],
   "source": [
    "from sklearn.model_selection import train_test_split\n",
    "\n",
    "data_train, data_test = train_test_split(data[all_features + target], test_size=0.2, stratify=data[target])\n",
    "print(data_train.shape, data_test.shape)"
   ]
  },
  {
   "cell_type": "code",
   "execution_count": 36,
   "metadata": {
    "ExecuteTime": {
     "end_time": "2022-04-18T19:10:39.731295Z",
     "start_time": "2022-04-18T19:10:39.716294Z"
    }
   },
   "outputs": [],
   "source": [
    "# # data_train.columns\n",
    "# all_features"
   ]
  },
  {
   "cell_type": "code",
   "execution_count": 37,
   "metadata": {
    "ExecuteTime": {
     "end_time": "2022-04-18T19:10:39.747295Z",
     "start_time": "2022-04-18T19:10:39.732295Z"
    }
   },
   "outputs": [],
   "source": [
    "# data_train[all_features]"
   ]
  },
  {
   "cell_type": "code",
   "execution_count": 38,
   "metadata": {
    "ExecuteTime": {
     "end_time": "2022-04-18T19:10:39.858303Z",
     "start_time": "2022-04-18T19:10:39.748296Z"
    }
   },
   "outputs": [
    {
     "name": "stdout",
     "output_type": "stream",
     "text": [
      "              precision    recall  f1-score   support\n",
      "\n",
      "          -1       0.60      0.44      0.50        71\n",
      "           0       0.56      0.71      0.62       102\n",
      "           1       0.48      0.34      0.40        29\n",
      "\n",
      "    accuracy                           0.56       202\n",
      "   macro avg       0.54      0.50      0.51       202\n",
      "weighted avg       0.56      0.56      0.55       202\n",
      "\n"
     ]
    }
   ],
   "source": [
    "\n",
    "classifier_pipline.fit(data_train[all_features], data_train[target])\n",
    "\n",
    "preds = classifier_pipline.predict(data_test[all_features])\n",
    "\n",
    "print(classification_report(data_test[target], preds))"
   ]
  },
  {
   "cell_type": "code",
   "execution_count": null,
   "metadata": {},
   "outputs": [],
   "source": [
    " "
   ]
  },
  {
   "cell_type": "code",
   "execution_count": null,
   "metadata": {},
   "outputs": [],
   "source": [
    " "
   ]
  },
  {
   "cell_type": "markdown",
   "metadata": {},
   "source": [
    "# А как подбирать параметры у этой всей махины??"
   ]
  },
  {
   "cell_type": "code",
   "execution_count": 39,
   "metadata": {
    "ExecuteTime": {
     "end_time": "2022-04-18T19:10:39.873763Z",
     "start_time": "2022-04-18T19:10:39.859306Z"
    }
   },
   "outputs": [],
   "source": [
    "from sklearn.model_selection import GridSearchCV, RandomizedSearchCV\n",
    "\n",
    "from sklearn.metrics import f1_score, make_scorer\n",
    "\n",
    "f1 = make_scorer(f1_score, average=\"macro\")"
   ]
  },
  {
   "cell_type": "code",
   "execution_count": 40,
   "metadata": {
    "ExecuteTime": {
     "end_time": "2022-04-18T19:11:32.907352Z",
     "start_time": "2022-04-18T19:10:39.874763Z"
    }
   },
   "outputs": [
    {
     "data": {
      "text/html": [
       "<style>#sk-b6194a5e-db98-4a37-9708-7968eeb0ce4d {color: black;background-color: white;}#sk-b6194a5e-db98-4a37-9708-7968eeb0ce4d pre{padding: 0;}#sk-b6194a5e-db98-4a37-9708-7968eeb0ce4d div.sk-toggleable {background-color: white;}#sk-b6194a5e-db98-4a37-9708-7968eeb0ce4d label.sk-toggleable__label {cursor: pointer;display: block;width: 100%;margin-bottom: 0;padding: 0.2em 0.3em;box-sizing: border-box;text-align: center;}#sk-b6194a5e-db98-4a37-9708-7968eeb0ce4d div.sk-toggleable__content {max-height: 0;max-width: 0;overflow: hidden;text-align: left;background-color: #f0f8ff;}#sk-b6194a5e-db98-4a37-9708-7968eeb0ce4d div.sk-toggleable__content pre {margin: 0.2em;color: black;border-radius: 0.25em;background-color: #f0f8ff;}#sk-b6194a5e-db98-4a37-9708-7968eeb0ce4d input.sk-toggleable__control:checked~div.sk-toggleable__content {max-height: 200px;max-width: 100%;overflow: auto;}#sk-b6194a5e-db98-4a37-9708-7968eeb0ce4d div.sk-estimator input.sk-toggleable__control:checked~label.sk-toggleable__label {background-color: #d4ebff;}#sk-b6194a5e-db98-4a37-9708-7968eeb0ce4d div.sk-label input.sk-toggleable__control:checked~label.sk-toggleable__label {background-color: #d4ebff;}#sk-b6194a5e-db98-4a37-9708-7968eeb0ce4d input.sk-hidden--visually {border: 0;clip: rect(1px 1px 1px 1px);clip: rect(1px, 1px, 1px, 1px);height: 1px;margin: -1px;overflow: hidden;padding: 0;position: absolute;width: 1px;}#sk-b6194a5e-db98-4a37-9708-7968eeb0ce4d div.sk-estimator {font-family: monospace;background-color: #f0f8ff;margin: 0.25em 0.25em;border: 1px dotted black;border-radius: 0.25em;box-sizing: border-box;}#sk-b6194a5e-db98-4a37-9708-7968eeb0ce4d div.sk-estimator:hover {background-color: #d4ebff;}#sk-b6194a5e-db98-4a37-9708-7968eeb0ce4d div.sk-parallel-item::after {content: \"\";width: 100%;border-bottom: 1px solid gray;flex-grow: 1;}#sk-b6194a5e-db98-4a37-9708-7968eeb0ce4d div.sk-label:hover label.sk-toggleable__label {background-color: #d4ebff;}#sk-b6194a5e-db98-4a37-9708-7968eeb0ce4d div.sk-serial::before {content: \"\";position: absolute;border-left: 1px solid gray;box-sizing: border-box;top: 2em;bottom: 0;left: 50%;}#sk-b6194a5e-db98-4a37-9708-7968eeb0ce4d div.sk-serial {display: flex;flex-direction: column;align-items: center;background-color: white;}#sk-b6194a5e-db98-4a37-9708-7968eeb0ce4d div.sk-item {z-index: 1;}#sk-b6194a5e-db98-4a37-9708-7968eeb0ce4d div.sk-parallel {display: flex;align-items: stretch;justify-content: center;background-color: white;}#sk-b6194a5e-db98-4a37-9708-7968eeb0ce4d div.sk-parallel-item {display: flex;flex-direction: column;position: relative;background-color: white;}#sk-b6194a5e-db98-4a37-9708-7968eeb0ce4d div.sk-parallel-item:first-child::after {align-self: flex-end;width: 50%;}#sk-b6194a5e-db98-4a37-9708-7968eeb0ce4d div.sk-parallel-item:last-child::after {align-self: flex-start;width: 50%;}#sk-b6194a5e-db98-4a37-9708-7968eeb0ce4d div.sk-parallel-item:only-child::after {width: 0;}#sk-b6194a5e-db98-4a37-9708-7968eeb0ce4d div.sk-dashed-wrapped {border: 1px dashed gray;margin: 0.2em;box-sizing: border-box;padding-bottom: 0.1em;background-color: white;position: relative;}#sk-b6194a5e-db98-4a37-9708-7968eeb0ce4d div.sk-label label {font-family: monospace;font-weight: bold;background-color: white;display: inline-block;line-height: 1.2em;}#sk-b6194a5e-db98-4a37-9708-7968eeb0ce4d div.sk-label-container {position: relative;z-index: 2;text-align: center;}#sk-b6194a5e-db98-4a37-9708-7968eeb0ce4d div.sk-container {display: inline-block;position: relative;}</style><div id=\"sk-b6194a5e-db98-4a37-9708-7968eeb0ce4d\" class\"sk-top-container\"><div class=\"sk-container\"><div class=\"sk-item sk-dashed-wrapped\"><div class=\"sk-label-container\"><div class=\"sk-label sk-toggleable\"><input class=\"sk-toggleable__control sk-hidden--visually\" id=\"b53691c8-3f80-49e9-aea6-2b8c27e6604d\" type=\"checkbox\" ><label class=\"sk-toggleable__label\" for=\"b53691c8-3f80-49e9-aea6-2b8c27e6604d\">GridSearchCV</label><div class=\"sk-toggleable__content\"><pre>GridSearchCV(cv=3,\n",
       "             estimator=Pipeline(steps=[('preprocessor',\n",
       "                                        Pipeline(steps=[('data_transformer',\n",
       "                                                         ColumnTransformer(transformers=[('numerical',\n",
       "                                                                                          Pipeline(steps=[('imputer',\n",
       "                                                                                                           SimpleImputer()),\n",
       "                                                                                                          ('scaler',\n",
       "                                                                                                           StandardScaler()),\n",
       "                                                                                                          ('fs',\n",
       "                                                                                                           SelectKBest(k='all'))]),\n",
       "                                                                                          ['Age',\n",
       "                                                                                           'Height',\n",
       "                                                                                           'Weight']),\n",
       "                                                                                         ('categorical',\n",
       "                                                                                          Pipeline(steps=[('imputer',\n",
       "                                                                                                           SimpleImputer()),\n",
       "                                                                                                          ('onehot',\n",
       "                                                                                                           OneHotEncod...\n",
       "       2.96730241e+01, 3.21764175e+01, 3.48910121e+01, 3.78346262e+01,\n",
       "       4.10265811e+01, 4.44878283e+01, 4.82410870e+01, 5.23109931e+01,\n",
       "       5.67242607e+01, 6.15098579e+01, 6.66991966e+01, 7.23263390e+01,\n",
       "       7.84282206e+01, 8.50448934e+01, 9.22197882e+01, 1.00000000e+02]),\n",
       "                         'classifier__class_weight': ['balanced', None],\n",
       "                         'classifier__penalty': ['l1', 'l2'],\n",
       "                         'preprocessor__data_transformer__numerical__imputer__strategy': ['median',\n",
       "                                                                                          'mean']})</pre></div></div></div><div class=\"sk-parallel\"><div class=\"sk-parallel-item\"><div class=\"sk-item\"><div class=\"sk-serial\"><div class=\"sk-item\"><div class=\"sk-serial\"><div class=\"sk-item\"><div class=\"sk-label-container\"><div class=\"sk-label sk-toggleable\"><input class=\"sk-toggleable__control sk-hidden--visually\" id=\"352da0f8-d600-4ba8-9d5e-4009b0d496f1\" type=\"checkbox\" ><label class=\"sk-toggleable__label\" for=\"352da0f8-d600-4ba8-9d5e-4009b0d496f1\">preprocessor: Pipeline</label><div class=\"sk-toggleable__content\"><pre>Pipeline(steps=[('data_transformer',\n",
       "                 ColumnTransformer(transformers=[('numerical',\n",
       "                                                  Pipeline(steps=[('imputer',\n",
       "                                                                   SimpleImputer()),\n",
       "                                                                  ('scaler',\n",
       "                                                                   StandardScaler()),\n",
       "                                                                  ('fs',\n",
       "                                                                   SelectKBest(k='all'))]),\n",
       "                                                  ['Age', 'Height', 'Weight']),\n",
       "                                                 ('categorical',\n",
       "                                                  Pipeline(steps=[('imputer',\n",
       "                                                                   SimpleImputer()),\n",
       "                                                                  ('onehot',\n",
       "                                                                   OneHotEncoder(handle_unknown='ignore'))]),\n",
       "                                                  ['Getting up', 'God',\n",
       "                                                   'Health', 'Borrowed stuff',\n",
       "                                                   'Self-criticism',\n",
       "                                                   'Elections',\n",
       "                                                   'Number of friends',\n",
       "                                                   'Spending on healthy eating',\n",
       "                                                   'Music', 'Movies',\n",
       "                                                   'Friends versus money',\n",
       "                                                   'Changing the past'])]))])</pre></div></div></div><div class=\"sk-serial\"><div class=\"sk-item sk-dashed-wrapped\"><div class=\"sk-label-container\"><div class=\"sk-label sk-toggleable\"><input class=\"sk-toggleable__control sk-hidden--visually\" id=\"02767c9c-5181-421a-b832-c189cfd6e787\" type=\"checkbox\" ><label class=\"sk-toggleable__label\" for=\"02767c9c-5181-421a-b832-c189cfd6e787\">data_transformer: ColumnTransformer</label><div class=\"sk-toggleable__content\"><pre>ColumnTransformer(transformers=[('numerical',\n",
       "                                 Pipeline(steps=[('imputer', SimpleImputer()),\n",
       "                                                 ('scaler', StandardScaler()),\n",
       "                                                 ('fs', SelectKBest(k='all'))]),\n",
       "                                 ['Age', 'Height', 'Weight']),\n",
       "                                ('categorical',\n",
       "                                 Pipeline(steps=[('imputer', SimpleImputer()),\n",
       "                                                 ('onehot',\n",
       "                                                  OneHotEncoder(handle_unknown='ignore'))]),\n",
       "                                 ['Getting up', 'God', 'Health',\n",
       "                                  'Borrowed stuff', 'Self-criticism',\n",
       "                                  'Elections', 'Number of friends',\n",
       "                                  'Spending on healthy eating', 'Music',\n",
       "                                  'Movies', 'Friends versus money',\n",
       "                                  'Changing the past'])])</pre></div></div></div><div class=\"sk-parallel\"><div class=\"sk-parallel-item\"><div class=\"sk-item\"><div class=\"sk-label-container\"><div class=\"sk-label sk-toggleable\"><input class=\"sk-toggleable__control sk-hidden--visually\" id=\"053d5519-1f74-4abc-8028-0a19ec3a9cee\" type=\"checkbox\" ><label class=\"sk-toggleable__label\" for=\"053d5519-1f74-4abc-8028-0a19ec3a9cee\">numerical</label><div class=\"sk-toggleable__content\"><pre>['Age', 'Height', 'Weight']</pre></div></div></div><div class=\"sk-serial\"><div class=\"sk-item\"><div class=\"sk-serial\"><div class=\"sk-item\"><div class=\"sk-estimator sk-toggleable\"><input class=\"sk-toggleable__control sk-hidden--visually\" id=\"76753d3a-fb9c-4289-b594-5e3987b39c6e\" type=\"checkbox\" ><label class=\"sk-toggleable__label\" for=\"76753d3a-fb9c-4289-b594-5e3987b39c6e\">SimpleImputer</label><div class=\"sk-toggleable__content\"><pre>SimpleImputer()</pre></div></div></div><div class=\"sk-item\"><div class=\"sk-estimator sk-toggleable\"><input class=\"sk-toggleable__control sk-hidden--visually\" id=\"ca11b81c-7d5a-4109-bf00-0fcc173e9ea3\" type=\"checkbox\" ><label class=\"sk-toggleable__label\" for=\"ca11b81c-7d5a-4109-bf00-0fcc173e9ea3\">StandardScaler</label><div class=\"sk-toggleable__content\"><pre>StandardScaler()</pre></div></div></div><div class=\"sk-item\"><div class=\"sk-estimator sk-toggleable\"><input class=\"sk-toggleable__control sk-hidden--visually\" id=\"95ed8a1f-40d3-435c-a237-6f85c45b77f5\" type=\"checkbox\" ><label class=\"sk-toggleable__label\" for=\"95ed8a1f-40d3-435c-a237-6f85c45b77f5\">SelectKBest</label><div class=\"sk-toggleable__content\"><pre>SelectKBest(k='all')</pre></div></div></div></div></div></div></div></div><div class=\"sk-parallel-item\"><div class=\"sk-item\"><div class=\"sk-label-container\"><div class=\"sk-label sk-toggleable\"><input class=\"sk-toggleable__control sk-hidden--visually\" id=\"e22af015-3a73-4461-a177-53432537138b\" type=\"checkbox\" ><label class=\"sk-toggleable__label\" for=\"e22af015-3a73-4461-a177-53432537138b\">categorical</label><div class=\"sk-toggleable__content\"><pre>['Getting up', 'God', 'Health', 'Borrowed stuff', 'Self-criticism', 'Elections', 'Number of friends', 'Spending on healthy eating', 'Music', 'Movies', 'Friends versus money', 'Changing the past']</pre></div></div></div><div class=\"sk-serial\"><div class=\"sk-item\"><div class=\"sk-serial\"><div class=\"sk-item\"><div class=\"sk-estimator sk-toggleable\"><input class=\"sk-toggleable__control sk-hidden--visually\" id=\"230327ba-e887-4be2-9dd6-d4293306a8c2\" type=\"checkbox\" ><label class=\"sk-toggleable__label\" for=\"230327ba-e887-4be2-9dd6-d4293306a8c2\">SimpleImputer</label><div class=\"sk-toggleable__content\"><pre>SimpleImputer()</pre></div></div></div><div class=\"sk-item\"><div class=\"sk-estimator sk-toggleable\"><input class=\"sk-toggleable__control sk-hidden--visually\" id=\"eb13a6a5-1fec-48a6-8ccf-28a697721a3e\" type=\"checkbox\" ><label class=\"sk-toggleable__label\" for=\"eb13a6a5-1fec-48a6-8ccf-28a697721a3e\">OneHotEncoder</label><div class=\"sk-toggleable__content\"><pre>OneHotEncoder(handle_unknown='ignore')</pre></div></div></div></div></div></div></div></div></div></div></div></div><div class=\"sk-item\"><div class=\"sk-estimator sk-toggleable\"><input class=\"sk-toggleable__control sk-hidden--visually\" id=\"2e8639ac-df76-47b2-8866-9f7745252248\" type=\"checkbox\" ><label class=\"sk-toggleable__label\" for=\"2e8639ac-df76-47b2-8866-9f7745252248\">LogisticRegression</label><div class=\"sk-toggleable__content\"><pre>LogisticRegression()</pre></div></div></div></div></div></div></div></div></div></div></div></div>"
      ],
      "text/plain": [
       "GridSearchCV(cv=3,\n",
       "             estimator=Pipeline(steps=[('preprocessor',\n",
       "                                        Pipeline(steps=[('data_transformer',\n",
       "                                                         ColumnTransformer(transformers=[('numerical',\n",
       "                                                                                          Pipeline(steps=[('imputer',\n",
       "                                                                                                           SimpleImputer()),\n",
       "                                                                                                          ('scaler',\n",
       "                                                                                                           StandardScaler()),\n",
       "                                                                                                          ('fs',\n",
       "                                                                                                           SelectKBest(k='all'))]),\n",
       "                                                                                          ['Age',\n",
       "                                                                                           'Height',\n",
       "                                                                                           'Weight']),\n",
       "                                                                                         ('categorical',\n",
       "                                                                                          Pipeline(steps=[('imputer',\n",
       "                                                                                                           SimpleImputer()),\n",
       "                                                                                                          ('onehot',\n",
       "                                                                                                           OneHotEncod...\n",
       "       2.96730241e+01, 3.21764175e+01, 3.48910121e+01, 3.78346262e+01,\n",
       "       4.10265811e+01, 4.44878283e+01, 4.82410870e+01, 5.23109931e+01,\n",
       "       5.67242607e+01, 6.15098579e+01, 6.66991966e+01, 7.23263390e+01,\n",
       "       7.84282206e+01, 8.50448934e+01, 9.22197882e+01, 1.00000000e+02]),\n",
       "                         'classifier__class_weight': ['balanced', None],\n",
       "                         'classifier__penalty': ['l1', 'l2'],\n",
       "                         'preprocessor__data_transformer__numerical__imputer__strategy': ['median',\n",
       "                                                                                          'mean']})"
      ]
     },
     "execution_count": 40,
     "metadata": {},
     "output_type": "execute_result"
    }
   ],
   "source": [
    "param_grid = {\n",
    "    'classifier__C': np.logspace(-5, 2, 200), # np.linspace(-10, 10)\n",
    "    'classifier__penalty': ['l1', 'l2'],\n",
    "    'classifier__class_weight': ['balanced', None],\n",
    "    'preprocessor__data_transformer__numerical__imputer__strategy':['median', 'mean']\n",
    "}\n",
    "\n",
    "\n",
    "search = GridSearchCV(classifier_pipline, param_grid, n_jobs=-1, cv=3) #, scoring=f1)\n",
    "\n",
    "search.fit(data_train.drop(target, axis=1), data_train[target])"
   ]
  },
  {
   "cell_type": "markdown",
   "metadata": {},
   "source": [
    "<div class=\"alert alert-info\">\n",
    "\n",
    "Нам даже не нужно теперь делить на `train` и `test`, ведь есть валидация "
   ]
  },
  {
   "cell_type": "code",
   "execution_count": 41,
   "metadata": {
    "ExecuteTime": {
     "end_time": "2022-04-18T19:11:32.923354Z",
     "start_time": "2022-04-18T19:11:32.909355Z"
    }
   },
   "outputs": [
    {
     "data": {
      "text/plain": [
       "{'classifier__C': 5.415871378079476,\n",
       " 'classifier__class_weight': None,\n",
       " 'classifier__penalty': 'l2',\n",
       " 'preprocessor__data_transformer__numerical__imputer__strategy': 'mean'}"
      ]
     },
     "execution_count": 41,
     "metadata": {},
     "output_type": "execute_result"
    }
   ],
   "source": [
    "search.best_params_"
   ]
  },
  {
   "cell_type": "code",
   "execution_count": 42,
   "metadata": {
    "ExecuteTime": {
     "end_time": "2022-04-18T19:11:32.939355Z",
     "start_time": "2022-04-18T19:11:32.924354Z"
    }
   },
   "outputs": [
    {
     "data": {
      "text/plain": [
       "0.5631281839460278"
      ]
     },
     "execution_count": 42,
     "metadata": {},
     "output_type": "execute_result"
    }
   ],
   "source": [
    "search.best_score_"
   ]
  },
  {
   "cell_type": "code",
   "execution_count": null,
   "metadata": {},
   "outputs": [],
   "source": []
  },
  {
   "cell_type": "markdown",
   "metadata": {},
   "source": [
    "# Еще раз, но по шагам!"
   ]
  },
  {
   "cell_type": "code",
   "execution_count": 43,
   "metadata": {
    "ExecuteTime": {
     "end_time": "2022-04-18T19:11:32.955356Z",
     "start_time": "2022-04-18T19:11:32.941359Z"
    }
   },
   "outputs": [],
   "source": [
    "classifier_pipline = Pipeline(\n",
    "    steps=[('preprocessor', preprocessor),\n",
    "           ('classifier', LogisticRegression())])"
   ]
  },
  {
   "cell_type": "code",
   "execution_count": 44,
   "metadata": {
    "ExecuteTime": {
     "end_time": "2022-04-18T19:11:32.971357Z",
     "start_time": "2022-04-18T19:11:32.956359Z"
    }
   },
   "outputs": [],
   "source": [
    "# Создание конвейера препроцессора, который сначала преобразует данные.\n",
    "preprocessor = Pipeline(steps=[(\"data_transformer\", data_transformer)])\n",
    "\n",
    "\n",
    "# Собираем воедино трансформеры для числовых и категориальных признаков\n",
    "data_transformer = ColumnTransformer(\n",
    "    transformers=[\n",
    "        (\"numerical\", numerical_transformer, numerical_features),\n",
    "        (\"categorical\", categorical_transformer, categorical_features),\n",
    "    ]\n",
    ")"
   ]
  },
  {
   "cell_type": "code",
   "execution_count": 45,
   "metadata": {
    "ExecuteTime": {
     "end_time": "2022-04-18T19:11:32.987364Z",
     "start_time": "2022-04-18T19:11:32.972359Z"
    }
   },
   "outputs": [],
   "source": [
    "#   Для категориальных - применяем SimpleImputer, а затем StandardScaler\n",
    "\n",
    "numerical_transformer = Pipeline(\n",
    "    steps=[\n",
    "        (\"imputer\", SimpleImputer()),\n",
    "        (\"scaler\", StandardScaler()),\n",
    "        (\"fs\", SelectKBest(score_func=f_classif, k=\"all\")),\n",
    "    ]\n",
    ")"
   ]
  },
  {
   "cell_type": "code",
   "execution_count": 46,
   "metadata": {
    "ExecuteTime": {
     "end_time": "2022-04-18T19:11:33.173484Z",
     "start_time": "2022-04-18T19:11:32.990364Z"
    }
   },
   "outputs": [
    {
     "data": {
      "text/html": [
       "<style>#sk-8316fb73-6fff-48ec-bb6c-024a10145285 {color: black;background-color: white;}#sk-8316fb73-6fff-48ec-bb6c-024a10145285 pre{padding: 0;}#sk-8316fb73-6fff-48ec-bb6c-024a10145285 div.sk-toggleable {background-color: white;}#sk-8316fb73-6fff-48ec-bb6c-024a10145285 label.sk-toggleable__label {cursor: pointer;display: block;width: 100%;margin-bottom: 0;padding: 0.2em 0.3em;box-sizing: border-box;text-align: center;}#sk-8316fb73-6fff-48ec-bb6c-024a10145285 div.sk-toggleable__content {max-height: 0;max-width: 0;overflow: hidden;text-align: left;background-color: #f0f8ff;}#sk-8316fb73-6fff-48ec-bb6c-024a10145285 div.sk-toggleable__content pre {margin: 0.2em;color: black;border-radius: 0.25em;background-color: #f0f8ff;}#sk-8316fb73-6fff-48ec-bb6c-024a10145285 input.sk-toggleable__control:checked~div.sk-toggleable__content {max-height: 200px;max-width: 100%;overflow: auto;}#sk-8316fb73-6fff-48ec-bb6c-024a10145285 div.sk-estimator input.sk-toggleable__control:checked~label.sk-toggleable__label {background-color: #d4ebff;}#sk-8316fb73-6fff-48ec-bb6c-024a10145285 div.sk-label input.sk-toggleable__control:checked~label.sk-toggleable__label {background-color: #d4ebff;}#sk-8316fb73-6fff-48ec-bb6c-024a10145285 input.sk-hidden--visually {border: 0;clip: rect(1px 1px 1px 1px);clip: rect(1px, 1px, 1px, 1px);height: 1px;margin: -1px;overflow: hidden;padding: 0;position: absolute;width: 1px;}#sk-8316fb73-6fff-48ec-bb6c-024a10145285 div.sk-estimator {font-family: monospace;background-color: #f0f8ff;margin: 0.25em 0.25em;border: 1px dotted black;border-radius: 0.25em;box-sizing: border-box;}#sk-8316fb73-6fff-48ec-bb6c-024a10145285 div.sk-estimator:hover {background-color: #d4ebff;}#sk-8316fb73-6fff-48ec-bb6c-024a10145285 div.sk-parallel-item::after {content: \"\";width: 100%;border-bottom: 1px solid gray;flex-grow: 1;}#sk-8316fb73-6fff-48ec-bb6c-024a10145285 div.sk-label:hover label.sk-toggleable__label {background-color: #d4ebff;}#sk-8316fb73-6fff-48ec-bb6c-024a10145285 div.sk-serial::before {content: \"\";position: absolute;border-left: 1px solid gray;box-sizing: border-box;top: 2em;bottom: 0;left: 50%;}#sk-8316fb73-6fff-48ec-bb6c-024a10145285 div.sk-serial {display: flex;flex-direction: column;align-items: center;background-color: white;}#sk-8316fb73-6fff-48ec-bb6c-024a10145285 div.sk-item {z-index: 1;}#sk-8316fb73-6fff-48ec-bb6c-024a10145285 div.sk-parallel {display: flex;align-items: stretch;justify-content: center;background-color: white;}#sk-8316fb73-6fff-48ec-bb6c-024a10145285 div.sk-parallel-item {display: flex;flex-direction: column;position: relative;background-color: white;}#sk-8316fb73-6fff-48ec-bb6c-024a10145285 div.sk-parallel-item:first-child::after {align-self: flex-end;width: 50%;}#sk-8316fb73-6fff-48ec-bb6c-024a10145285 div.sk-parallel-item:last-child::after {align-self: flex-start;width: 50%;}#sk-8316fb73-6fff-48ec-bb6c-024a10145285 div.sk-parallel-item:only-child::after {width: 0;}#sk-8316fb73-6fff-48ec-bb6c-024a10145285 div.sk-dashed-wrapped {border: 1px dashed gray;margin: 0.2em;box-sizing: border-box;padding-bottom: 0.1em;background-color: white;position: relative;}#sk-8316fb73-6fff-48ec-bb6c-024a10145285 div.sk-label label {font-family: monospace;font-weight: bold;background-color: white;display: inline-block;line-height: 1.2em;}#sk-8316fb73-6fff-48ec-bb6c-024a10145285 div.sk-label-container {position: relative;z-index: 2;text-align: center;}#sk-8316fb73-6fff-48ec-bb6c-024a10145285 div.sk-container {display: inline-block;position: relative;}</style><div id=\"sk-8316fb73-6fff-48ec-bb6c-024a10145285\" class\"sk-top-container\"><div class=\"sk-container\"><div class=\"sk-item sk-dashed-wrapped\"><div class=\"sk-label-container\"><div class=\"sk-label sk-toggleable\"><input class=\"sk-toggleable__control sk-hidden--visually\" id=\"e3a4b38b-0e82-4f51-bf75-76d8a08b1f95\" type=\"checkbox\" ><label class=\"sk-toggleable__label\" for=\"e3a4b38b-0e82-4f51-bf75-76d8a08b1f95\">Pipeline</label><div class=\"sk-toggleable__content\"><pre>Pipeline(steps=[('preprocessor',\n",
       "                 Pipeline(steps=[('data_transformer',\n",
       "                                  ColumnTransformer(transformers=[('numerical',\n",
       "                                                                   Pipeline(steps=[('imputer',\n",
       "                                                                                    SimpleImputer()),\n",
       "                                                                                   ('scaler',\n",
       "                                                                                    StandardScaler()),\n",
       "                                                                                   ('fs',\n",
       "                                                                                    SelectKBest(k='all'))]),\n",
       "                                                                   ['Age',\n",
       "                                                                    'Height',\n",
       "                                                                    'Weight']),\n",
       "                                                                  ('categorical',\n",
       "                                                                   Pipeline(steps=[('imputer',\n",
       "                                                                                    SimpleImputer()),\n",
       "                                                                                   ('onehot',\n",
       "                                                                                    OneHotEncoder(handle_unknown='ignore'))]),\n",
       "                                                                   ['Getting '\n",
       "                                                                    'up',\n",
       "                                                                    'God',\n",
       "                                                                    'Health',\n",
       "                                                                    'Borrowed '\n",
       "                                                                    'stuff',\n",
       "                                                                    'Self-criticism',\n",
       "                                                                    'Elections',\n",
       "                                                                    'Number of '\n",
       "                                                                    'friends',\n",
       "                                                                    'Spending '\n",
       "                                                                    'on '\n",
       "                                                                    'healthy '\n",
       "                                                                    'eating',\n",
       "                                                                    'Music',\n",
       "                                                                    'Movies',\n",
       "                                                                    'Friends '\n",
       "                                                                    'versus '\n",
       "                                                                    'money',\n",
       "                                                                    'Changing '\n",
       "                                                                    'the '\n",
       "                                                                    'past'])]))])),\n",
       "                ('classifier', LogisticRegression())])</pre></div></div></div><div class=\"sk-serial\"><div class=\"sk-item\"><div class=\"sk-label-container\"><div class=\"sk-label sk-toggleable\"><input class=\"sk-toggleable__control sk-hidden--visually\" id=\"7afa31c6-eff1-49a6-b66b-40831761b164\" type=\"checkbox\" ><label class=\"sk-toggleable__label\" for=\"7afa31c6-eff1-49a6-b66b-40831761b164\">preprocessor: Pipeline</label><div class=\"sk-toggleable__content\"><pre>Pipeline(steps=[('data_transformer',\n",
       "                 ColumnTransformer(transformers=[('numerical',\n",
       "                                                  Pipeline(steps=[('imputer',\n",
       "                                                                   SimpleImputer()),\n",
       "                                                                  ('scaler',\n",
       "                                                                   StandardScaler()),\n",
       "                                                                  ('fs',\n",
       "                                                                   SelectKBest(k='all'))]),\n",
       "                                                  ['Age', 'Height', 'Weight']),\n",
       "                                                 ('categorical',\n",
       "                                                  Pipeline(steps=[('imputer',\n",
       "                                                                   SimpleImputer()),\n",
       "                                                                  ('onehot',\n",
       "                                                                   OneHotEncoder(handle_unknown='ignore'))]),\n",
       "                                                  ['Getting up', 'God',\n",
       "                                                   'Health', 'Borrowed stuff',\n",
       "                                                   'Self-criticism',\n",
       "                                                   'Elections',\n",
       "                                                   'Number of friends',\n",
       "                                                   'Spending on healthy eating',\n",
       "                                                   'Music', 'Movies',\n",
       "                                                   'Friends versus money',\n",
       "                                                   'Changing the past'])]))])</pre></div></div></div><div class=\"sk-serial\"><div class=\"sk-item sk-dashed-wrapped\"><div class=\"sk-label-container\"><div class=\"sk-label sk-toggleable\"><input class=\"sk-toggleable__control sk-hidden--visually\" id=\"1ad58612-20e1-4a65-b2b2-16cec77a78d6\" type=\"checkbox\" ><label class=\"sk-toggleable__label\" for=\"1ad58612-20e1-4a65-b2b2-16cec77a78d6\">data_transformer: ColumnTransformer</label><div class=\"sk-toggleable__content\"><pre>ColumnTransformer(transformers=[('numerical',\n",
       "                                 Pipeline(steps=[('imputer', SimpleImputer()),\n",
       "                                                 ('scaler', StandardScaler()),\n",
       "                                                 ('fs', SelectKBest(k='all'))]),\n",
       "                                 ['Age', 'Height', 'Weight']),\n",
       "                                ('categorical',\n",
       "                                 Pipeline(steps=[('imputer', SimpleImputer()),\n",
       "                                                 ('onehot',\n",
       "                                                  OneHotEncoder(handle_unknown='ignore'))]),\n",
       "                                 ['Getting up', 'God', 'Health',\n",
       "                                  'Borrowed stuff', 'Self-criticism',\n",
       "                                  'Elections', 'Number of friends',\n",
       "                                  'Spending on healthy eating', 'Music',\n",
       "                                  'Movies', 'Friends versus money',\n",
       "                                  'Changing the past'])])</pre></div></div></div><div class=\"sk-parallel\"><div class=\"sk-parallel-item\"><div class=\"sk-item\"><div class=\"sk-label-container\"><div class=\"sk-label sk-toggleable\"><input class=\"sk-toggleable__control sk-hidden--visually\" id=\"7a9173f5-3bf5-4428-9929-ccaa2eb77296\" type=\"checkbox\" ><label class=\"sk-toggleable__label\" for=\"7a9173f5-3bf5-4428-9929-ccaa2eb77296\">numerical</label><div class=\"sk-toggleable__content\"><pre>['Age', 'Height', 'Weight']</pre></div></div></div><div class=\"sk-serial\"><div class=\"sk-item\"><div class=\"sk-serial\"><div class=\"sk-item\"><div class=\"sk-estimator sk-toggleable\"><input class=\"sk-toggleable__control sk-hidden--visually\" id=\"62325251-41de-418d-8924-d0f8e635a184\" type=\"checkbox\" ><label class=\"sk-toggleable__label\" for=\"62325251-41de-418d-8924-d0f8e635a184\">SimpleImputer</label><div class=\"sk-toggleable__content\"><pre>SimpleImputer()</pre></div></div></div><div class=\"sk-item\"><div class=\"sk-estimator sk-toggleable\"><input class=\"sk-toggleable__control sk-hidden--visually\" id=\"a3b2bf74-2e68-490d-a19f-5a6afa6d03d8\" type=\"checkbox\" ><label class=\"sk-toggleable__label\" for=\"a3b2bf74-2e68-490d-a19f-5a6afa6d03d8\">StandardScaler</label><div class=\"sk-toggleable__content\"><pre>StandardScaler()</pre></div></div></div><div class=\"sk-item\"><div class=\"sk-estimator sk-toggleable\"><input class=\"sk-toggleable__control sk-hidden--visually\" id=\"691a97d9-5aed-4fcd-a969-813d8c728925\" type=\"checkbox\" ><label class=\"sk-toggleable__label\" for=\"691a97d9-5aed-4fcd-a969-813d8c728925\">SelectKBest</label><div class=\"sk-toggleable__content\"><pre>SelectKBest(k='all')</pre></div></div></div></div></div></div></div></div><div class=\"sk-parallel-item\"><div class=\"sk-item\"><div class=\"sk-label-container\"><div class=\"sk-label sk-toggleable\"><input class=\"sk-toggleable__control sk-hidden--visually\" id=\"3d51e846-2127-425c-9a0f-2aeac7d12b8f\" type=\"checkbox\" ><label class=\"sk-toggleable__label\" for=\"3d51e846-2127-425c-9a0f-2aeac7d12b8f\">categorical</label><div class=\"sk-toggleable__content\"><pre>['Getting up', 'God', 'Health', 'Borrowed stuff', 'Self-criticism', 'Elections', 'Number of friends', 'Spending on healthy eating', 'Music', 'Movies', 'Friends versus money', 'Changing the past']</pre></div></div></div><div class=\"sk-serial\"><div class=\"sk-item\"><div class=\"sk-serial\"><div class=\"sk-item\"><div class=\"sk-estimator sk-toggleable\"><input class=\"sk-toggleable__control sk-hidden--visually\" id=\"e3c6ecee-79fa-4586-a9fd-c4819c3c1a70\" type=\"checkbox\" ><label class=\"sk-toggleable__label\" for=\"e3c6ecee-79fa-4586-a9fd-c4819c3c1a70\">SimpleImputer</label><div class=\"sk-toggleable__content\"><pre>SimpleImputer()</pre></div></div></div><div class=\"sk-item\"><div class=\"sk-estimator sk-toggleable\"><input class=\"sk-toggleable__control sk-hidden--visually\" id=\"56feb379-4e48-495b-96ac-d1a7b1f06c1c\" type=\"checkbox\" ><label class=\"sk-toggleable__label\" for=\"56feb379-4e48-495b-96ac-d1a7b1f06c1c\">OneHotEncoder</label><div class=\"sk-toggleable__content\"><pre>OneHotEncoder(handle_unknown='ignore')</pre></div></div></div></div></div></div></div></div></div></div></div></div><div class=\"sk-item\"><div class=\"sk-estimator sk-toggleable\"><input class=\"sk-toggleable__control sk-hidden--visually\" id=\"98268111-e5e3-44b4-9691-8968d0fb35b1\" type=\"checkbox\" ><label class=\"sk-toggleable__label\" for=\"98268111-e5e3-44b4-9691-8968d0fb35b1\">LogisticRegression</label><div class=\"sk-toggleable__content\"><pre>LogisticRegression()</pre></div></div></div></div></div></div></div>"
      ],
      "text/plain": [
       "Pipeline(steps=[('preprocessor',\n",
       "                 Pipeline(steps=[('data_transformer',\n",
       "                                  ColumnTransformer(transformers=[('numerical',\n",
       "                                                                   Pipeline(steps=[('imputer',\n",
       "                                                                                    SimpleImputer()),\n",
       "                                                                                   ('scaler',\n",
       "                                                                                    StandardScaler()),\n",
       "                                                                                   ('fs',\n",
       "                                                                                    SelectKBest(k='all'))]),\n",
       "                                                                   ['Age',\n",
       "                                                                    'Height',\n",
       "                                                                    'Weight']),\n",
       "                                                                  ('categorical',\n",
       "                                                                   Pipeline(steps=[('imputer',\n",
       "                                                                                    SimpleImputer()),\n",
       "                                                                                   ('onehot',\n",
       "                                                                                    OneHotEncoder(handle_unknown='ignore'))]),\n",
       "                                                                   ['Getting '\n",
       "                                                                    'up',\n",
       "                                                                    'God',\n",
       "                                                                    'Health',\n",
       "                                                                    'Borrowed '\n",
       "                                                                    'stuff',\n",
       "                                                                    'Self-criticism',\n",
       "                                                                    'Elections',\n",
       "                                                                    'Number of '\n",
       "                                                                    'friends',\n",
       "                                                                    'Spending '\n",
       "                                                                    'on '\n",
       "                                                                    'healthy '\n",
       "                                                                    'eating',\n",
       "                                                                    'Music',\n",
       "                                                                    'Movies',\n",
       "                                                                    'Friends '\n",
       "                                                                    'versus '\n",
       "                                                                    'money',\n",
       "                                                                    'Changing '\n",
       "                                                                    'the '\n",
       "                                                                    'past'])]))])),\n",
       "                ('classifier', LogisticRegression())])"
      ]
     },
     "execution_count": 46,
     "metadata": {},
     "output_type": "execute_result"
    }
   ],
   "source": [
    "#   Для категориальных - применяем SimpleImputer, а затем OneHotEncoder\n",
    "categorical_transformer = Pipeline(\n",
    "    steps=[\n",
    "        (\"imputer\", SimpleImputer()),\n",
    "        (\"onehot\", OneHotEncoder(handle_unknown=\"ignore\")),\n",
    "    ]\n",
    ")\n",
    "\n",
    "\n",
    "classifier_pipline"
   ]
  },
  {
   "cell_type": "code",
   "execution_count": null,
   "metadata": {},
   "outputs": [],
   "source": []
  },
  {
   "cell_type": "code",
   "execution_count": null,
   "metadata": {},
   "outputs": [],
   "source": []
  },
  {
   "cell_type": "markdown",
   "metadata": {},
   "source": [
    "# А если вдруг одной модели мало?"
   ]
  },
  {
   "cell_type": "code",
   "execution_count": 47,
   "metadata": {
    "ExecuteTime": {
     "end_time": "2022-04-18T19:11:33.477504Z",
     "start_time": "2022-04-18T19:11:33.175483Z"
    }
   },
   "outputs": [
    {
     "data": {
      "text/html": [
       "<style>#sk-e2e9b1a5-a775-4fd8-a99d-a1a49b3fb974 {color: black;background-color: white;}#sk-e2e9b1a5-a775-4fd8-a99d-a1a49b3fb974 pre{padding: 0;}#sk-e2e9b1a5-a775-4fd8-a99d-a1a49b3fb974 div.sk-toggleable {background-color: white;}#sk-e2e9b1a5-a775-4fd8-a99d-a1a49b3fb974 label.sk-toggleable__label {cursor: pointer;display: block;width: 100%;margin-bottom: 0;padding: 0.2em 0.3em;box-sizing: border-box;text-align: center;}#sk-e2e9b1a5-a775-4fd8-a99d-a1a49b3fb974 div.sk-toggleable__content {max-height: 0;max-width: 0;overflow: hidden;text-align: left;background-color: #f0f8ff;}#sk-e2e9b1a5-a775-4fd8-a99d-a1a49b3fb974 div.sk-toggleable__content pre {margin: 0.2em;color: black;border-radius: 0.25em;background-color: #f0f8ff;}#sk-e2e9b1a5-a775-4fd8-a99d-a1a49b3fb974 input.sk-toggleable__control:checked~div.sk-toggleable__content {max-height: 200px;max-width: 100%;overflow: auto;}#sk-e2e9b1a5-a775-4fd8-a99d-a1a49b3fb974 div.sk-estimator input.sk-toggleable__control:checked~label.sk-toggleable__label {background-color: #d4ebff;}#sk-e2e9b1a5-a775-4fd8-a99d-a1a49b3fb974 div.sk-label input.sk-toggleable__control:checked~label.sk-toggleable__label {background-color: #d4ebff;}#sk-e2e9b1a5-a775-4fd8-a99d-a1a49b3fb974 input.sk-hidden--visually {border: 0;clip: rect(1px 1px 1px 1px);clip: rect(1px, 1px, 1px, 1px);height: 1px;margin: -1px;overflow: hidden;padding: 0;position: absolute;width: 1px;}#sk-e2e9b1a5-a775-4fd8-a99d-a1a49b3fb974 div.sk-estimator {font-family: monospace;background-color: #f0f8ff;margin: 0.25em 0.25em;border: 1px dotted black;border-radius: 0.25em;box-sizing: border-box;}#sk-e2e9b1a5-a775-4fd8-a99d-a1a49b3fb974 div.sk-estimator:hover {background-color: #d4ebff;}#sk-e2e9b1a5-a775-4fd8-a99d-a1a49b3fb974 div.sk-parallel-item::after {content: \"\";width: 100%;border-bottom: 1px solid gray;flex-grow: 1;}#sk-e2e9b1a5-a775-4fd8-a99d-a1a49b3fb974 div.sk-label:hover label.sk-toggleable__label {background-color: #d4ebff;}#sk-e2e9b1a5-a775-4fd8-a99d-a1a49b3fb974 div.sk-serial::before {content: \"\";position: absolute;border-left: 1px solid gray;box-sizing: border-box;top: 2em;bottom: 0;left: 50%;}#sk-e2e9b1a5-a775-4fd8-a99d-a1a49b3fb974 div.sk-serial {display: flex;flex-direction: column;align-items: center;background-color: white;}#sk-e2e9b1a5-a775-4fd8-a99d-a1a49b3fb974 div.sk-item {z-index: 1;}#sk-e2e9b1a5-a775-4fd8-a99d-a1a49b3fb974 div.sk-parallel {display: flex;align-items: stretch;justify-content: center;background-color: white;}#sk-e2e9b1a5-a775-4fd8-a99d-a1a49b3fb974 div.sk-parallel-item {display: flex;flex-direction: column;position: relative;background-color: white;}#sk-e2e9b1a5-a775-4fd8-a99d-a1a49b3fb974 div.sk-parallel-item:first-child::after {align-self: flex-end;width: 50%;}#sk-e2e9b1a5-a775-4fd8-a99d-a1a49b3fb974 div.sk-parallel-item:last-child::after {align-self: flex-start;width: 50%;}#sk-e2e9b1a5-a775-4fd8-a99d-a1a49b3fb974 div.sk-parallel-item:only-child::after {width: 0;}#sk-e2e9b1a5-a775-4fd8-a99d-a1a49b3fb974 div.sk-dashed-wrapped {border: 1px dashed gray;margin: 0.2em;box-sizing: border-box;padding-bottom: 0.1em;background-color: white;position: relative;}#sk-e2e9b1a5-a775-4fd8-a99d-a1a49b3fb974 div.sk-label label {font-family: monospace;font-weight: bold;background-color: white;display: inline-block;line-height: 1.2em;}#sk-e2e9b1a5-a775-4fd8-a99d-a1a49b3fb974 div.sk-label-container {position: relative;z-index: 2;text-align: center;}#sk-e2e9b1a5-a775-4fd8-a99d-a1a49b3fb974 div.sk-container {display: inline-block;position: relative;}</style><div id=\"sk-e2e9b1a5-a775-4fd8-a99d-a1a49b3fb974\" class\"sk-top-container\"><div class=\"sk-container\"><div class=\"sk-item sk-dashed-wrapped\"><div class=\"sk-label-container\"><div class=\"sk-label sk-toggleable\"><input class=\"sk-toggleable__control sk-hidden--visually\" id=\"39d07f09-4e9d-4638-9268-b4ca76606138\" type=\"checkbox\" ><label class=\"sk-toggleable__label\" for=\"39d07f09-4e9d-4638-9268-b4ca76606138\">VotingClassifier</label><div class=\"sk-toggleable__content\"><pre>VotingClassifier(estimators=[('log_regrassion',\n",
       "                              LogisticRegression(multi_class='multinomial',\n",
       "                                                 random_state=1)),\n",
       "                             ('random_forest',\n",
       "                              RandomForestClassifier(n_estimators=50,\n",
       "                                                     random_state=1)),\n",
       "                             ('gnb', GaussianNB())])</pre></div></div></div><div class=\"sk-parallel\"><div class=\"sk-parallel-item\"><div class=\"sk-item\"><div class=\"sk-label-container\"><div class=\"sk-label sk-toggleable\"><label>log_regrassion</label></div></div><div class=\"sk-serial\"><div class=\"sk-item\"><div class=\"sk-estimator sk-toggleable\"><input class=\"sk-toggleable__control sk-hidden--visually\" id=\"64ef6742-3197-4045-960d-8f2db9737ad9\" type=\"checkbox\" ><label class=\"sk-toggleable__label\" for=\"64ef6742-3197-4045-960d-8f2db9737ad9\">LogisticRegression</label><div class=\"sk-toggleable__content\"><pre>LogisticRegression(multi_class='multinomial', random_state=1)</pre></div></div></div></div></div></div><div class=\"sk-parallel-item\"><div class=\"sk-item\"><div class=\"sk-label-container\"><div class=\"sk-label sk-toggleable\"><label>random_forest</label></div></div><div class=\"sk-serial\"><div class=\"sk-item\"><div class=\"sk-estimator sk-toggleable\"><input class=\"sk-toggleable__control sk-hidden--visually\" id=\"70f1c2a7-ef93-444e-85f0-c8e7627f2d7a\" type=\"checkbox\" ><label class=\"sk-toggleable__label\" for=\"70f1c2a7-ef93-444e-85f0-c8e7627f2d7a\">RandomForestClassifier</label><div class=\"sk-toggleable__content\"><pre>RandomForestClassifier(n_estimators=50, random_state=1)</pre></div></div></div></div></div></div><div class=\"sk-parallel-item\"><div class=\"sk-item\"><div class=\"sk-label-container\"><div class=\"sk-label sk-toggleable\"><label>gnb</label></div></div><div class=\"sk-serial\"><div class=\"sk-item\"><div class=\"sk-estimator sk-toggleable\"><input class=\"sk-toggleable__control sk-hidden--visually\" id=\"167a5858-e1a6-4d33-9d46-8f767160c454\" type=\"checkbox\" ><label class=\"sk-toggleable__label\" for=\"167a5858-e1a6-4d33-9d46-8f767160c454\">GaussianNB</label><div class=\"sk-toggleable__content\"><pre>GaussianNB()</pre></div></div></div></div></div></div></div></div></div></div>"
      ],
      "text/plain": [
       "VotingClassifier(estimators=[('log_regrassion',\n",
       "                              LogisticRegression(multi_class='multinomial',\n",
       "                                                 random_state=1)),\n",
       "                             ('random_forest',\n",
       "                              RandomForestClassifier(n_estimators=50,\n",
       "                                                     random_state=1)),\n",
       "                             ('gnb', GaussianNB())])"
      ]
     },
     "execution_count": 47,
     "metadata": {},
     "output_type": "execute_result"
    }
   ],
   "source": [
    "from sklearn.linear_model import LogisticRegression\n",
    "from sklearn.naive_bayes import GaussianNB\n",
    "from sklearn.ensemble import RandomForestClassifier, VotingClassifier\n",
    "import xgboost\n",
    "\n",
    "clf1 = LogisticRegression(multi_class=\"multinomial\", random_state=1)\n",
    "clf2 = RandomForestClassifier(n_estimators=50, random_state=1)\n",
    "clf3 = GaussianNB()\n",
    "\n",
    "blending_classifier = VotingClassifier(\n",
    "    estimators=[(\"log_regrassion\", clf1), \n",
    "                (\"random_forest\", clf2), \n",
    "                (\"gnb\", clf3)] \n",
    ")\n",
    "blending_classifier"
   ]
  },
  {
   "cell_type": "code",
   "execution_count": 48,
   "metadata": {
    "ExecuteTime": {
     "end_time": "2022-04-18T19:11:33.684277Z",
     "start_time": "2022-04-18T19:11:33.479504Z"
    }
   },
   "outputs": [
    {
     "data": {
      "text/html": [
       "<style>#sk-31d37a87-8183-47f4-91ee-1417af74a81e {color: black;background-color: white;}#sk-31d37a87-8183-47f4-91ee-1417af74a81e pre{padding: 0;}#sk-31d37a87-8183-47f4-91ee-1417af74a81e div.sk-toggleable {background-color: white;}#sk-31d37a87-8183-47f4-91ee-1417af74a81e label.sk-toggleable__label {cursor: pointer;display: block;width: 100%;margin-bottom: 0;padding: 0.2em 0.3em;box-sizing: border-box;text-align: center;}#sk-31d37a87-8183-47f4-91ee-1417af74a81e div.sk-toggleable__content {max-height: 0;max-width: 0;overflow: hidden;text-align: left;background-color: #f0f8ff;}#sk-31d37a87-8183-47f4-91ee-1417af74a81e div.sk-toggleable__content pre {margin: 0.2em;color: black;border-radius: 0.25em;background-color: #f0f8ff;}#sk-31d37a87-8183-47f4-91ee-1417af74a81e input.sk-toggleable__control:checked~div.sk-toggleable__content {max-height: 200px;max-width: 100%;overflow: auto;}#sk-31d37a87-8183-47f4-91ee-1417af74a81e div.sk-estimator input.sk-toggleable__control:checked~label.sk-toggleable__label {background-color: #d4ebff;}#sk-31d37a87-8183-47f4-91ee-1417af74a81e div.sk-label input.sk-toggleable__control:checked~label.sk-toggleable__label {background-color: #d4ebff;}#sk-31d37a87-8183-47f4-91ee-1417af74a81e input.sk-hidden--visually {border: 0;clip: rect(1px 1px 1px 1px);clip: rect(1px, 1px, 1px, 1px);height: 1px;margin: -1px;overflow: hidden;padding: 0;position: absolute;width: 1px;}#sk-31d37a87-8183-47f4-91ee-1417af74a81e div.sk-estimator {font-family: monospace;background-color: #f0f8ff;margin: 0.25em 0.25em;border: 1px dotted black;border-radius: 0.25em;box-sizing: border-box;}#sk-31d37a87-8183-47f4-91ee-1417af74a81e div.sk-estimator:hover {background-color: #d4ebff;}#sk-31d37a87-8183-47f4-91ee-1417af74a81e div.sk-parallel-item::after {content: \"\";width: 100%;border-bottom: 1px solid gray;flex-grow: 1;}#sk-31d37a87-8183-47f4-91ee-1417af74a81e div.sk-label:hover label.sk-toggleable__label {background-color: #d4ebff;}#sk-31d37a87-8183-47f4-91ee-1417af74a81e div.sk-serial::before {content: \"\";position: absolute;border-left: 1px solid gray;box-sizing: border-box;top: 2em;bottom: 0;left: 50%;}#sk-31d37a87-8183-47f4-91ee-1417af74a81e div.sk-serial {display: flex;flex-direction: column;align-items: center;background-color: white;}#sk-31d37a87-8183-47f4-91ee-1417af74a81e div.sk-item {z-index: 1;}#sk-31d37a87-8183-47f4-91ee-1417af74a81e div.sk-parallel {display: flex;align-items: stretch;justify-content: center;background-color: white;}#sk-31d37a87-8183-47f4-91ee-1417af74a81e div.sk-parallel-item {display: flex;flex-direction: column;position: relative;background-color: white;}#sk-31d37a87-8183-47f4-91ee-1417af74a81e div.sk-parallel-item:first-child::after {align-self: flex-end;width: 50%;}#sk-31d37a87-8183-47f4-91ee-1417af74a81e div.sk-parallel-item:last-child::after {align-self: flex-start;width: 50%;}#sk-31d37a87-8183-47f4-91ee-1417af74a81e div.sk-parallel-item:only-child::after {width: 0;}#sk-31d37a87-8183-47f4-91ee-1417af74a81e div.sk-dashed-wrapped {border: 1px dashed gray;margin: 0.2em;box-sizing: border-box;padding-bottom: 0.1em;background-color: white;position: relative;}#sk-31d37a87-8183-47f4-91ee-1417af74a81e div.sk-label label {font-family: monospace;font-weight: bold;background-color: white;display: inline-block;line-height: 1.2em;}#sk-31d37a87-8183-47f4-91ee-1417af74a81e div.sk-label-container {position: relative;z-index: 2;text-align: center;}#sk-31d37a87-8183-47f4-91ee-1417af74a81e div.sk-container {display: inline-block;position: relative;}</style><div id=\"sk-31d37a87-8183-47f4-91ee-1417af74a81e\" class\"sk-top-container\"><div class=\"sk-container\"><div class=\"sk-item sk-dashed-wrapped\"><div class=\"sk-label-container\"><div class=\"sk-label sk-toggleable\"><input class=\"sk-toggleable__control sk-hidden--visually\" id=\"6a108f08-e2af-4d79-af5e-a33ae7732953\" type=\"checkbox\" ><label class=\"sk-toggleable__label\" for=\"6a108f08-e2af-4d79-af5e-a33ae7732953\">Pipeline</label><div class=\"sk-toggleable__content\"><pre>Pipeline(steps=[('preprocessor',\n",
       "                 Pipeline(steps=[('data_transformer',\n",
       "                                  ColumnTransformer(transformers=[('numerical',\n",
       "                                                                   Pipeline(steps=[('imputer',\n",
       "                                                                                    SimpleImputer()),\n",
       "                                                                                   ('scaler',\n",
       "                                                                                    StandardScaler()),\n",
       "                                                                                   ('fs',\n",
       "                                                                                    SelectKBest(k='all'))]),\n",
       "                                                                   ['Age',\n",
       "                                                                    'Height',\n",
       "                                                                    'Weight']),\n",
       "                                                                  ('categorical',\n",
       "                                                                   Pipeline(steps=[('imputer',\n",
       "                                                                                    SimpleImputer()),\n",
       "                                                                                   ('onehot',\n",
       "                                                                                    OneHotEncoder(handle_unknown='ignore'))...\n",
       "                                                                    'Elections',\n",
       "                                                                    'Number of '\n",
       "                                                                    'friends',\n",
       "                                                                    'Spending '\n",
       "                                                                    'on '\n",
       "                                                                    'healthy '\n",
       "                                                                    'eating',\n",
       "                                                                    'Music',\n",
       "                                                                    'Movies',\n",
       "                                                                    'Friends '\n",
       "                                                                    'versus '\n",
       "                                                                    'money',\n",
       "                                                                    'Changing '\n",
       "                                                                    'the '\n",
       "                                                                    'past'])]))])),\n",
       "                ('classifier',\n",
       "                 VotingClassifier(estimators=[('log_regrassion',\n",
       "                                               LogisticRegression(multi_class='multinomial',\n",
       "                                                                  random_state=1)),\n",
       "                                              ('random_forest',\n",
       "                                               RandomForestClassifier(n_estimators=50,\n",
       "                                                                      random_state=1)),\n",
       "                                              ('gnb', GaussianNB())]))])</pre></div></div></div><div class=\"sk-serial\"><div class=\"sk-item\"><div class=\"sk-label-container\"><div class=\"sk-label sk-toggleable\"><input class=\"sk-toggleable__control sk-hidden--visually\" id=\"7effc9d2-6863-447d-85ef-d83b37dd90b4\" type=\"checkbox\" ><label class=\"sk-toggleable__label\" for=\"7effc9d2-6863-447d-85ef-d83b37dd90b4\">preprocessor: Pipeline</label><div class=\"sk-toggleable__content\"><pre>Pipeline(steps=[('data_transformer',\n",
       "                 ColumnTransformer(transformers=[('numerical',\n",
       "                                                  Pipeline(steps=[('imputer',\n",
       "                                                                   SimpleImputer()),\n",
       "                                                                  ('scaler',\n",
       "                                                                   StandardScaler()),\n",
       "                                                                  ('fs',\n",
       "                                                                   SelectKBest(k='all'))]),\n",
       "                                                  ['Age', 'Height', 'Weight']),\n",
       "                                                 ('categorical',\n",
       "                                                  Pipeline(steps=[('imputer',\n",
       "                                                                   SimpleImputer()),\n",
       "                                                                  ('onehot',\n",
       "                                                                   OneHotEncoder(handle_unknown='ignore'))]),\n",
       "                                                  ['Getting up', 'God',\n",
       "                                                   'Health', 'Borrowed stuff',\n",
       "                                                   'Self-criticism',\n",
       "                                                   'Elections',\n",
       "                                                   'Number of friends',\n",
       "                                                   'Spending on healthy eating',\n",
       "                                                   'Music', 'Movies',\n",
       "                                                   'Friends versus money',\n",
       "                                                   'Changing the past'])]))])</pre></div></div></div><div class=\"sk-serial\"><div class=\"sk-item sk-dashed-wrapped\"><div class=\"sk-label-container\"><div class=\"sk-label sk-toggleable\"><input class=\"sk-toggleable__control sk-hidden--visually\" id=\"c82d6216-2884-43dc-9113-f0ea9ea1f973\" type=\"checkbox\" ><label class=\"sk-toggleable__label\" for=\"c82d6216-2884-43dc-9113-f0ea9ea1f973\">data_transformer: ColumnTransformer</label><div class=\"sk-toggleable__content\"><pre>ColumnTransformer(transformers=[('numerical',\n",
       "                                 Pipeline(steps=[('imputer', SimpleImputer()),\n",
       "                                                 ('scaler', StandardScaler()),\n",
       "                                                 ('fs', SelectKBest(k='all'))]),\n",
       "                                 ['Age', 'Height', 'Weight']),\n",
       "                                ('categorical',\n",
       "                                 Pipeline(steps=[('imputer', SimpleImputer()),\n",
       "                                                 ('onehot',\n",
       "                                                  OneHotEncoder(handle_unknown='ignore'))]),\n",
       "                                 ['Getting up', 'God', 'Health',\n",
       "                                  'Borrowed stuff', 'Self-criticism',\n",
       "                                  'Elections', 'Number of friends',\n",
       "                                  'Spending on healthy eating', 'Music',\n",
       "                                  'Movies', 'Friends versus money',\n",
       "                                  'Changing the past'])])</pre></div></div></div><div class=\"sk-parallel\"><div class=\"sk-parallel-item\"><div class=\"sk-item\"><div class=\"sk-label-container\"><div class=\"sk-label sk-toggleable\"><input class=\"sk-toggleable__control sk-hidden--visually\" id=\"0cd351a4-b8b4-4d27-a5ad-a10ad3aa07f7\" type=\"checkbox\" ><label class=\"sk-toggleable__label\" for=\"0cd351a4-b8b4-4d27-a5ad-a10ad3aa07f7\">numerical</label><div class=\"sk-toggleable__content\"><pre>['Age', 'Height', 'Weight']</pre></div></div></div><div class=\"sk-serial\"><div class=\"sk-item\"><div class=\"sk-serial\"><div class=\"sk-item\"><div class=\"sk-estimator sk-toggleable\"><input class=\"sk-toggleable__control sk-hidden--visually\" id=\"7aa70e60-3a1c-4398-a4de-25f7609bb367\" type=\"checkbox\" ><label class=\"sk-toggleable__label\" for=\"7aa70e60-3a1c-4398-a4de-25f7609bb367\">SimpleImputer</label><div class=\"sk-toggleable__content\"><pre>SimpleImputer()</pre></div></div></div><div class=\"sk-item\"><div class=\"sk-estimator sk-toggleable\"><input class=\"sk-toggleable__control sk-hidden--visually\" id=\"1af4506c-d8f7-4df3-99ce-cc536a7583ec\" type=\"checkbox\" ><label class=\"sk-toggleable__label\" for=\"1af4506c-d8f7-4df3-99ce-cc536a7583ec\">StandardScaler</label><div class=\"sk-toggleable__content\"><pre>StandardScaler()</pre></div></div></div><div class=\"sk-item\"><div class=\"sk-estimator sk-toggleable\"><input class=\"sk-toggleable__control sk-hidden--visually\" id=\"4d72d9d3-2c75-4ad5-bb71-adc39573760e\" type=\"checkbox\" ><label class=\"sk-toggleable__label\" for=\"4d72d9d3-2c75-4ad5-bb71-adc39573760e\">SelectKBest</label><div class=\"sk-toggleable__content\"><pre>SelectKBest(k='all')</pre></div></div></div></div></div></div></div></div><div class=\"sk-parallel-item\"><div class=\"sk-item\"><div class=\"sk-label-container\"><div class=\"sk-label sk-toggleable\"><input class=\"sk-toggleable__control sk-hidden--visually\" id=\"b1d7d495-adba-48ee-869d-d6ba63974cbd\" type=\"checkbox\" ><label class=\"sk-toggleable__label\" for=\"b1d7d495-adba-48ee-869d-d6ba63974cbd\">categorical</label><div class=\"sk-toggleable__content\"><pre>['Getting up', 'God', 'Health', 'Borrowed stuff', 'Self-criticism', 'Elections', 'Number of friends', 'Spending on healthy eating', 'Music', 'Movies', 'Friends versus money', 'Changing the past']</pre></div></div></div><div class=\"sk-serial\"><div class=\"sk-item\"><div class=\"sk-serial\"><div class=\"sk-item\"><div class=\"sk-estimator sk-toggleable\"><input class=\"sk-toggleable__control sk-hidden--visually\" id=\"c6e39250-346b-4a9a-9c9c-0f022c140064\" type=\"checkbox\" ><label class=\"sk-toggleable__label\" for=\"c6e39250-346b-4a9a-9c9c-0f022c140064\">SimpleImputer</label><div class=\"sk-toggleable__content\"><pre>SimpleImputer()</pre></div></div></div><div class=\"sk-item\"><div class=\"sk-estimator sk-toggleable\"><input class=\"sk-toggleable__control sk-hidden--visually\" id=\"0f5f18e3-5f49-4d63-8f39-c3aacce852cc\" type=\"checkbox\" ><label class=\"sk-toggleable__label\" for=\"0f5f18e3-5f49-4d63-8f39-c3aacce852cc\">OneHotEncoder</label><div class=\"sk-toggleable__content\"><pre>OneHotEncoder(handle_unknown='ignore')</pre></div></div></div></div></div></div></div></div></div></div></div></div><div class=\"sk-item sk-dashed-wrapped\"><div class=\"sk-label-container\"><div class=\"sk-label sk-toggleable\"><input class=\"sk-toggleable__control sk-hidden--visually\" id=\"1c5f6ed0-9071-4145-ae11-af4bc00203de\" type=\"checkbox\" ><label class=\"sk-toggleable__label\" for=\"1c5f6ed0-9071-4145-ae11-af4bc00203de\">classifier: VotingClassifier</label><div class=\"sk-toggleable__content\"><pre>VotingClassifier(estimators=[('log_regrassion',\n",
       "                              LogisticRegression(multi_class='multinomial',\n",
       "                                                 random_state=1)),\n",
       "                             ('random_forest',\n",
       "                              RandomForestClassifier(n_estimators=50,\n",
       "                                                     random_state=1)),\n",
       "                             ('gnb', GaussianNB())])</pre></div></div></div><div class=\"sk-parallel\"><div class=\"sk-parallel-item\"><div class=\"sk-item\"><div class=\"sk-label-container\"><div class=\"sk-label sk-toggleable\"><label>log_regrassion</label></div></div><div class=\"sk-serial\"><div class=\"sk-item\"><div class=\"sk-estimator sk-toggleable\"><input class=\"sk-toggleable__control sk-hidden--visually\" id=\"0cf49da0-6308-4882-825b-369138a867e6\" type=\"checkbox\" ><label class=\"sk-toggleable__label\" for=\"0cf49da0-6308-4882-825b-369138a867e6\">LogisticRegression</label><div class=\"sk-toggleable__content\"><pre>LogisticRegression(multi_class='multinomial', random_state=1)</pre></div></div></div></div></div></div><div class=\"sk-parallel-item\"><div class=\"sk-item\"><div class=\"sk-label-container\"><div class=\"sk-label sk-toggleable\"><label>random_forest</label></div></div><div class=\"sk-serial\"><div class=\"sk-item\"><div class=\"sk-estimator sk-toggleable\"><input class=\"sk-toggleable__control sk-hidden--visually\" id=\"ff30177d-b740-4c65-a1c3-ef7094a55e30\" type=\"checkbox\" ><label class=\"sk-toggleable__label\" for=\"ff30177d-b740-4c65-a1c3-ef7094a55e30\">RandomForestClassifier</label><div class=\"sk-toggleable__content\"><pre>RandomForestClassifier(n_estimators=50, random_state=1)</pre></div></div></div></div></div></div><div class=\"sk-parallel-item\"><div class=\"sk-item\"><div class=\"sk-label-container\"><div class=\"sk-label sk-toggleable\"><label>gnb</label></div></div><div class=\"sk-serial\"><div class=\"sk-item\"><div class=\"sk-estimator sk-toggleable\"><input class=\"sk-toggleable__control sk-hidden--visually\" id=\"17be3113-64e4-4beb-87d9-21422f00c244\" type=\"checkbox\" ><label class=\"sk-toggleable__label\" for=\"17be3113-64e4-4beb-87d9-21422f00c244\">GaussianNB</label><div class=\"sk-toggleable__content\"><pre>GaussianNB()</pre></div></div></div></div></div></div></div></div></div></div></div></div>"
      ],
      "text/plain": [
       "Pipeline(steps=[('preprocessor',\n",
       "                 Pipeline(steps=[('data_transformer',\n",
       "                                  ColumnTransformer(transformers=[('numerical',\n",
       "                                                                   Pipeline(steps=[('imputer',\n",
       "                                                                                    SimpleImputer()),\n",
       "                                                                                   ('scaler',\n",
       "                                                                                    StandardScaler()),\n",
       "                                                                                   ('fs',\n",
       "                                                                                    SelectKBest(k='all'))]),\n",
       "                                                                   ['Age',\n",
       "                                                                    'Height',\n",
       "                                                                    'Weight']),\n",
       "                                                                  ('categorical',\n",
       "                                                                   Pipeline(steps=[('imputer',\n",
       "                                                                                    SimpleImputer()),\n",
       "                                                                                   ('onehot',\n",
       "                                                                                    OneHotEncoder(handle_unknown='ignore'))...\n",
       "                                                                    'Elections',\n",
       "                                                                    'Number of '\n",
       "                                                                    'friends',\n",
       "                                                                    'Spending '\n",
       "                                                                    'on '\n",
       "                                                                    'healthy '\n",
       "                                                                    'eating',\n",
       "                                                                    'Music',\n",
       "                                                                    'Movies',\n",
       "                                                                    'Friends '\n",
       "                                                                    'versus '\n",
       "                                                                    'money',\n",
       "                                                                    'Changing '\n",
       "                                                                    'the '\n",
       "                                                                    'past'])]))])),\n",
       "                ('classifier',\n",
       "                 VotingClassifier(estimators=[('log_regrassion',\n",
       "                                               LogisticRegression(multi_class='multinomial',\n",
       "                                                                  random_state=1)),\n",
       "                                              ('random_forest',\n",
       "                                               RandomForestClassifier(n_estimators=50,\n",
       "                                                                      random_state=1)),\n",
       "                                              ('gnb', GaussianNB())]))])"
      ]
     },
     "execution_count": 48,
     "metadata": {},
     "output_type": "execute_result"
    }
   ],
   "source": [
    "classifier_pipline = Pipeline(\n",
    "    steps=[(\"preprocessor\", preprocessor),\n",
    "           (\"classifier\", blending_classifier)]\n",
    ")\n",
    "\n",
    "classifier_pipline"
   ]
  },
  {
   "cell_type": "code",
   "execution_count": null,
   "metadata": {},
   "outputs": [],
   "source": []
  },
  {
   "cell_type": "markdown",
   "metadata": {},
   "source": [
    "# А что если хотим использовать стекинг?"
   ]
  },
  {
   "cell_type": "code",
   "execution_count": 49,
   "metadata": {
    "ExecuteTime": {
     "end_time": "2022-04-18T19:11:33.699278Z",
     "start_time": "2022-04-18T19:11:33.686279Z"
    }
   },
   "outputs": [],
   "source": [
    "# Your code here.\n",
    "from sklearn.ensemble import RandomForestClassifier\n",
    "from sklearn.svm import LinearSVC\n",
    "from sklearn.ensemble import StackingClassifier\n"
   ]
  },
  {
   "cell_type": "code",
   "execution_count": 50,
   "metadata": {
    "ExecuteTime": {
     "end_time": "2022-04-18T19:11:33.715279Z",
     "start_time": "2022-04-18T19:11:33.700279Z"
    }
   },
   "outputs": [],
   "source": [
    "# получим список эстиматоров\n",
    "estimators = [\n",
    "    (\"Random_Forest\", RandomForestClassifier()),\n",
    "    (\"Xgboost\", xgboost.XGBClassifier()),\n",
    "    (\"SVM\", LinearSVC()),\n",
    "    \n",
    "]\n",
    "\n",
    "# построим классификатор используя стекинг и наш список классификаторов\n",
    "stacking_classifier = StackingClassifier(\n",
    "    estimators=estimators,\n",
    "    final_estimator=LogisticRegression(n_jobs=-1, verbose=True),\n",
    "    n_jobs=-1,\n",
    "    verbose=True,\n",
    ")"
   ]
  },
  {
   "cell_type": "code",
   "execution_count": 51,
   "metadata": {
    "ExecuteTime": {
     "end_time": "2022-04-18T19:11:33.746432Z",
     "start_time": "2022-04-18T19:11:33.716281Z"
    }
   },
   "outputs": [
    {
     "data": {
      "text/html": [
       "<style>#sk-3d7dff39-3dcd-4804-8204-e0c69f006dac {color: black;background-color: white;}#sk-3d7dff39-3dcd-4804-8204-e0c69f006dac pre{padding: 0;}#sk-3d7dff39-3dcd-4804-8204-e0c69f006dac div.sk-toggleable {background-color: white;}#sk-3d7dff39-3dcd-4804-8204-e0c69f006dac label.sk-toggleable__label {cursor: pointer;display: block;width: 100%;margin-bottom: 0;padding: 0.2em 0.3em;box-sizing: border-box;text-align: center;}#sk-3d7dff39-3dcd-4804-8204-e0c69f006dac div.sk-toggleable__content {max-height: 0;max-width: 0;overflow: hidden;text-align: left;background-color: #f0f8ff;}#sk-3d7dff39-3dcd-4804-8204-e0c69f006dac div.sk-toggleable__content pre {margin: 0.2em;color: black;border-radius: 0.25em;background-color: #f0f8ff;}#sk-3d7dff39-3dcd-4804-8204-e0c69f006dac input.sk-toggleable__control:checked~div.sk-toggleable__content {max-height: 200px;max-width: 100%;overflow: auto;}#sk-3d7dff39-3dcd-4804-8204-e0c69f006dac div.sk-estimator input.sk-toggleable__control:checked~label.sk-toggleable__label {background-color: #d4ebff;}#sk-3d7dff39-3dcd-4804-8204-e0c69f006dac div.sk-label input.sk-toggleable__control:checked~label.sk-toggleable__label {background-color: #d4ebff;}#sk-3d7dff39-3dcd-4804-8204-e0c69f006dac input.sk-hidden--visually {border: 0;clip: rect(1px 1px 1px 1px);clip: rect(1px, 1px, 1px, 1px);height: 1px;margin: -1px;overflow: hidden;padding: 0;position: absolute;width: 1px;}#sk-3d7dff39-3dcd-4804-8204-e0c69f006dac div.sk-estimator {font-family: monospace;background-color: #f0f8ff;margin: 0.25em 0.25em;border: 1px dotted black;border-radius: 0.25em;box-sizing: border-box;}#sk-3d7dff39-3dcd-4804-8204-e0c69f006dac div.sk-estimator:hover {background-color: #d4ebff;}#sk-3d7dff39-3dcd-4804-8204-e0c69f006dac div.sk-parallel-item::after {content: \"\";width: 100%;border-bottom: 1px solid gray;flex-grow: 1;}#sk-3d7dff39-3dcd-4804-8204-e0c69f006dac div.sk-label:hover label.sk-toggleable__label {background-color: #d4ebff;}#sk-3d7dff39-3dcd-4804-8204-e0c69f006dac div.sk-serial::before {content: \"\";position: absolute;border-left: 1px solid gray;box-sizing: border-box;top: 2em;bottom: 0;left: 50%;}#sk-3d7dff39-3dcd-4804-8204-e0c69f006dac div.sk-serial {display: flex;flex-direction: column;align-items: center;background-color: white;}#sk-3d7dff39-3dcd-4804-8204-e0c69f006dac div.sk-item {z-index: 1;}#sk-3d7dff39-3dcd-4804-8204-e0c69f006dac div.sk-parallel {display: flex;align-items: stretch;justify-content: center;background-color: white;}#sk-3d7dff39-3dcd-4804-8204-e0c69f006dac div.sk-parallel-item {display: flex;flex-direction: column;position: relative;background-color: white;}#sk-3d7dff39-3dcd-4804-8204-e0c69f006dac div.sk-parallel-item:first-child::after {align-self: flex-end;width: 50%;}#sk-3d7dff39-3dcd-4804-8204-e0c69f006dac div.sk-parallel-item:last-child::after {align-self: flex-start;width: 50%;}#sk-3d7dff39-3dcd-4804-8204-e0c69f006dac div.sk-parallel-item:only-child::after {width: 0;}#sk-3d7dff39-3dcd-4804-8204-e0c69f006dac div.sk-dashed-wrapped {border: 1px dashed gray;margin: 0.2em;box-sizing: border-box;padding-bottom: 0.1em;background-color: white;position: relative;}#sk-3d7dff39-3dcd-4804-8204-e0c69f006dac div.sk-label label {font-family: monospace;font-weight: bold;background-color: white;display: inline-block;line-height: 1.2em;}#sk-3d7dff39-3dcd-4804-8204-e0c69f006dac div.sk-label-container {position: relative;z-index: 2;text-align: center;}#sk-3d7dff39-3dcd-4804-8204-e0c69f006dac div.sk-container {display: inline-block;position: relative;}</style><div id=\"sk-3d7dff39-3dcd-4804-8204-e0c69f006dac\" class\"sk-top-container\"><div class=\"sk-container\"><div class=\"sk-item sk-dashed-wrapped\"><div class=\"sk-label-container\"><div class=\"sk-label sk-toggleable\"><input class=\"sk-toggleable__control sk-hidden--visually\" id=\"20077a6a-a443-4d14-90d1-9b833a9dbdec\" type=\"checkbox\" ><label class=\"sk-toggleable__label\" for=\"20077a6a-a443-4d14-90d1-9b833a9dbdec\">StackingClassifier</label><div class=\"sk-toggleable__content\"><pre>StackingClassifier(estimators=[('Random_Forest', RandomForestClassifier()),\n",
       "                               ('Xgboost',\n",
       "                                XGBClassifier(base_score=None, booster=None,\n",
       "                                              colsample_bylevel=None,\n",
       "                                              colsample_bynode=None,\n",
       "                                              colsample_bytree=None, gamma=None,\n",
       "                                              gpu_id=None,\n",
       "                                              importance_type='gain',\n",
       "                                              interaction_constraints=None,\n",
       "                                              learning_rate=None,\n",
       "                                              max_delta_step=None,\n",
       "                                              max_depth=None,\n",
       "                                              min_child_weight=None,\n",
       "                                              missing=nan,\n",
       "                                              monotone_constraints=None,\n",
       "                                              n_estimators=100, n_jobs=None,\n",
       "                                              num_parallel_tree=None,\n",
       "                                              random_state=None, reg_alpha=None,\n",
       "                                              reg_lambda=None,\n",
       "                                              scale_pos_weight=None,\n",
       "                                              subsample=None, tree_method=None,\n",
       "                                              validate_parameters=None,\n",
       "                                              verbosity=None)),\n",
       "                               ('SVM', LinearSVC())],\n",
       "                   final_estimator=LogisticRegression(n_jobs=-1, verbose=True),\n",
       "                   n_jobs=-1, verbose=True)</pre></div></div></div><div class=\"sk-serial\"><div class=\"sk-item\"><div class=\"sk-serial\"><div class=\"sk-item\"><div class=\"sk-parallel\"><div class=\"sk-parallel-item\"><div class=\"sk-item\"><div class=\"sk-label-container\"><div class=\"sk-label sk-toggleable\"><label>Random_Forest</label></div></div><div class=\"sk-serial\"><div class=\"sk-item\"><div class=\"sk-estimator sk-toggleable\"><input class=\"sk-toggleable__control sk-hidden--visually\" id=\"16bfaf5e-4bc9-4fc5-81cc-2890c54b1832\" type=\"checkbox\" ><label class=\"sk-toggleable__label\" for=\"16bfaf5e-4bc9-4fc5-81cc-2890c54b1832\">RandomForestClassifier</label><div class=\"sk-toggleable__content\"><pre>RandomForestClassifier()</pre></div></div></div></div></div></div><div class=\"sk-parallel-item\"><div class=\"sk-item\"><div class=\"sk-label-container\"><div class=\"sk-label sk-toggleable\"><label>Xgboost</label></div></div><div class=\"sk-serial\"><div class=\"sk-item\"><div class=\"sk-estimator sk-toggleable\"><input class=\"sk-toggleable__control sk-hidden--visually\" id=\"d2d3e2fd-a056-4fa7-bec4-fefaee395f99\" type=\"checkbox\" ><label class=\"sk-toggleable__label\" for=\"d2d3e2fd-a056-4fa7-bec4-fefaee395f99\">XGBClassifier</label><div class=\"sk-toggleable__content\"><pre>XGBClassifier(base_score=None, booster=None, colsample_bylevel=None,\n",
       "              colsample_bynode=None, colsample_bytree=None, gamma=None,\n",
       "              gpu_id=None, importance_type='gain', interaction_constraints=None,\n",
       "              learning_rate=None, max_delta_step=None, max_depth=None,\n",
       "              min_child_weight=None, missing=nan, monotone_constraints=None,\n",
       "              n_estimators=100, n_jobs=None, num_parallel_tree=None,\n",
       "              random_state=None, reg_alpha=None, reg_lambda=None,\n",
       "              scale_pos_weight=None, subsample=None, tree_method=None,\n",
       "              validate_parameters=None, verbosity=None)</pre></div></div></div></div></div></div><div class=\"sk-parallel-item\"><div class=\"sk-item\"><div class=\"sk-label-container\"><div class=\"sk-label sk-toggleable\"><label>SVM</label></div></div><div class=\"sk-serial\"><div class=\"sk-item\"><div class=\"sk-estimator sk-toggleable\"><input class=\"sk-toggleable__control sk-hidden--visually\" id=\"fd8563fe-1fb8-418b-a43f-244dd1dc68aa\" type=\"checkbox\" ><label class=\"sk-toggleable__label\" for=\"fd8563fe-1fb8-418b-a43f-244dd1dc68aa\">LinearSVC</label><div class=\"sk-toggleable__content\"><pre>LinearSVC()</pre></div></div></div></div></div></div></div></div><div class=\"sk-item\"><div class=\"sk-estimator sk-toggleable\"><input class=\"sk-toggleable__control sk-hidden--visually\" id=\"4a2020f9-21e9-4c93-b6ee-18441dc4f87f\" type=\"checkbox\" ><label class=\"sk-toggleable__label\" for=\"4a2020f9-21e9-4c93-b6ee-18441dc4f87f\">LogisticRegression</label><div class=\"sk-toggleable__content\"><pre>LogisticRegression(n_jobs=-1, verbose=True)</pre></div></div></div></div></div></div></div></div></div>"
      ],
      "text/plain": [
       "StackingClassifier(estimators=[('Random_Forest', RandomForestClassifier()),\n",
       "                               ('Xgboost',\n",
       "                                XGBClassifier(base_score=None, booster=None,\n",
       "                                              colsample_bylevel=None,\n",
       "                                              colsample_bynode=None,\n",
       "                                              colsample_bytree=None, gamma=None,\n",
       "                                              gpu_id=None,\n",
       "                                              importance_type='gain',\n",
       "                                              interaction_constraints=None,\n",
       "                                              learning_rate=None,\n",
       "                                              max_delta_step=None,\n",
       "                                              max_depth=None,\n",
       "                                              min_child_weight=None,\n",
       "                                              missing=nan,\n",
       "                                              monotone_constraints=None,\n",
       "                                              n_estimators=100, n_jobs=None,\n",
       "                                              num_parallel_tree=None,\n",
       "                                              random_state=None, reg_alpha=None,\n",
       "                                              reg_lambda=None,\n",
       "                                              scale_pos_weight=None,\n",
       "                                              subsample=None, tree_method=None,\n",
       "                                              validate_parameters=None,\n",
       "                                              verbosity=None)),\n",
       "                               ('SVM', LinearSVC())],\n",
       "                   final_estimator=LogisticRegression(n_jobs=-1, verbose=True),\n",
       "                   n_jobs=-1, verbose=True)"
      ]
     },
     "execution_count": 51,
     "metadata": {},
     "output_type": "execute_result"
    }
   ],
   "source": [
    "stacking_classifier"
   ]
  },
  {
   "cell_type": "code",
   "execution_count": null,
   "metadata": {},
   "outputs": [],
   "source": []
  },
  {
   "cell_type": "code",
   "execution_count": 52,
   "metadata": {
    "ExecuteTime": {
     "end_time": "2022-04-18T19:11:33.966114Z",
     "start_time": "2022-04-18T19:11:33.747434Z"
    }
   },
   "outputs": [
    {
     "data": {
      "text/html": [
       "<style>#sk-a490b8d9-0aea-45a5-94d6-b3d5068db343 {color: black;background-color: white;}#sk-a490b8d9-0aea-45a5-94d6-b3d5068db343 pre{padding: 0;}#sk-a490b8d9-0aea-45a5-94d6-b3d5068db343 div.sk-toggleable {background-color: white;}#sk-a490b8d9-0aea-45a5-94d6-b3d5068db343 label.sk-toggleable__label {cursor: pointer;display: block;width: 100%;margin-bottom: 0;padding: 0.2em 0.3em;box-sizing: border-box;text-align: center;}#sk-a490b8d9-0aea-45a5-94d6-b3d5068db343 div.sk-toggleable__content {max-height: 0;max-width: 0;overflow: hidden;text-align: left;background-color: #f0f8ff;}#sk-a490b8d9-0aea-45a5-94d6-b3d5068db343 div.sk-toggleable__content pre {margin: 0.2em;color: black;border-radius: 0.25em;background-color: #f0f8ff;}#sk-a490b8d9-0aea-45a5-94d6-b3d5068db343 input.sk-toggleable__control:checked~div.sk-toggleable__content {max-height: 200px;max-width: 100%;overflow: auto;}#sk-a490b8d9-0aea-45a5-94d6-b3d5068db343 div.sk-estimator input.sk-toggleable__control:checked~label.sk-toggleable__label {background-color: #d4ebff;}#sk-a490b8d9-0aea-45a5-94d6-b3d5068db343 div.sk-label input.sk-toggleable__control:checked~label.sk-toggleable__label {background-color: #d4ebff;}#sk-a490b8d9-0aea-45a5-94d6-b3d5068db343 input.sk-hidden--visually {border: 0;clip: rect(1px 1px 1px 1px);clip: rect(1px, 1px, 1px, 1px);height: 1px;margin: -1px;overflow: hidden;padding: 0;position: absolute;width: 1px;}#sk-a490b8d9-0aea-45a5-94d6-b3d5068db343 div.sk-estimator {font-family: monospace;background-color: #f0f8ff;margin: 0.25em 0.25em;border: 1px dotted black;border-radius: 0.25em;box-sizing: border-box;}#sk-a490b8d9-0aea-45a5-94d6-b3d5068db343 div.sk-estimator:hover {background-color: #d4ebff;}#sk-a490b8d9-0aea-45a5-94d6-b3d5068db343 div.sk-parallel-item::after {content: \"\";width: 100%;border-bottom: 1px solid gray;flex-grow: 1;}#sk-a490b8d9-0aea-45a5-94d6-b3d5068db343 div.sk-label:hover label.sk-toggleable__label {background-color: #d4ebff;}#sk-a490b8d9-0aea-45a5-94d6-b3d5068db343 div.sk-serial::before {content: \"\";position: absolute;border-left: 1px solid gray;box-sizing: border-box;top: 2em;bottom: 0;left: 50%;}#sk-a490b8d9-0aea-45a5-94d6-b3d5068db343 div.sk-serial {display: flex;flex-direction: column;align-items: center;background-color: white;}#sk-a490b8d9-0aea-45a5-94d6-b3d5068db343 div.sk-item {z-index: 1;}#sk-a490b8d9-0aea-45a5-94d6-b3d5068db343 div.sk-parallel {display: flex;align-items: stretch;justify-content: center;background-color: white;}#sk-a490b8d9-0aea-45a5-94d6-b3d5068db343 div.sk-parallel-item {display: flex;flex-direction: column;position: relative;background-color: white;}#sk-a490b8d9-0aea-45a5-94d6-b3d5068db343 div.sk-parallel-item:first-child::after {align-self: flex-end;width: 50%;}#sk-a490b8d9-0aea-45a5-94d6-b3d5068db343 div.sk-parallel-item:last-child::after {align-self: flex-start;width: 50%;}#sk-a490b8d9-0aea-45a5-94d6-b3d5068db343 div.sk-parallel-item:only-child::after {width: 0;}#sk-a490b8d9-0aea-45a5-94d6-b3d5068db343 div.sk-dashed-wrapped {border: 1px dashed gray;margin: 0.2em;box-sizing: border-box;padding-bottom: 0.1em;background-color: white;position: relative;}#sk-a490b8d9-0aea-45a5-94d6-b3d5068db343 div.sk-label label {font-family: monospace;font-weight: bold;background-color: white;display: inline-block;line-height: 1.2em;}#sk-a490b8d9-0aea-45a5-94d6-b3d5068db343 div.sk-label-container {position: relative;z-index: 2;text-align: center;}#sk-a490b8d9-0aea-45a5-94d6-b3d5068db343 div.sk-container {display: inline-block;position: relative;}</style><div id=\"sk-a490b8d9-0aea-45a5-94d6-b3d5068db343\" class\"sk-top-container\"><div class=\"sk-container\"><div class=\"sk-item sk-dashed-wrapped\"><div class=\"sk-label-container\"><div class=\"sk-label sk-toggleable\"><input class=\"sk-toggleable__control sk-hidden--visually\" id=\"18736fb8-9f82-4c89-8398-9d5dd55cebd8\" type=\"checkbox\" ><label class=\"sk-toggleable__label\" for=\"18736fb8-9f82-4c89-8398-9d5dd55cebd8\">Pipeline</label><div class=\"sk-toggleable__content\"><pre>Pipeline(steps=[('preprocessor',\n",
       "                 Pipeline(steps=[('data_transformer',\n",
       "                                  ColumnTransformer(transformers=[('numerical',\n",
       "                                                                   Pipeline(steps=[('imputer',\n",
       "                                                                                    SimpleImputer()),\n",
       "                                                                                   ('scaler',\n",
       "                                                                                    StandardScaler()),\n",
       "                                                                                   ('fs',\n",
       "                                                                                    SelectKBest(k='all'))]),\n",
       "                                                                   ['Age',\n",
       "                                                                    'Height',\n",
       "                                                                    'Weight']),\n",
       "                                                                  ('categorical',\n",
       "                                                                   Pipeline(steps=[('imputer',\n",
       "                                                                                    SimpleImputer()),\n",
       "                                                                                   ('onehot',\n",
       "                                                                                    OneHotEncoder(handle_unknown='ignore'))...\n",
       "                                                               max_delta_step=None,\n",
       "                                                               max_depth=None,\n",
       "                                                               min_child_weight=None,\n",
       "                                                               missing=nan,\n",
       "                                                               monotone_constraints=None,\n",
       "                                                               n_estimators=100,\n",
       "                                                               n_jobs=None,\n",
       "                                                               num_parallel_tree=None,\n",
       "                                                               random_state=None,\n",
       "                                                               reg_alpha=None,\n",
       "                                                               reg_lambda=None,\n",
       "                                                               scale_pos_weight=None,\n",
       "                                                               subsample=None,\n",
       "                                                               tree_method=None,\n",
       "                                                               validate_parameters=None,\n",
       "                                                               verbosity=None))],\n",
       "                                    final_estimator=LogisticRegression(n_jobs=-1),\n",
       "                                    n_jobs=-1))])</pre></div></div></div><div class=\"sk-serial\"><div class=\"sk-item\"><div class=\"sk-label-container\"><div class=\"sk-label sk-toggleable\"><input class=\"sk-toggleable__control sk-hidden--visually\" id=\"58a9a08d-c541-4e0a-9836-1fd027507eb2\" type=\"checkbox\" ><label class=\"sk-toggleable__label\" for=\"58a9a08d-c541-4e0a-9836-1fd027507eb2\">preprocessor: Pipeline</label><div class=\"sk-toggleable__content\"><pre>Pipeline(steps=[('data_transformer',\n",
       "                 ColumnTransformer(transformers=[('numerical',\n",
       "                                                  Pipeline(steps=[('imputer',\n",
       "                                                                   SimpleImputer()),\n",
       "                                                                  ('scaler',\n",
       "                                                                   StandardScaler()),\n",
       "                                                                  ('fs',\n",
       "                                                                   SelectKBest(k='all'))]),\n",
       "                                                  ['Age', 'Height', 'Weight']),\n",
       "                                                 ('categorical',\n",
       "                                                  Pipeline(steps=[('imputer',\n",
       "                                                                   SimpleImputer()),\n",
       "                                                                  ('onehot',\n",
       "                                                                   OneHotEncoder(handle_unknown='ignore'))]),\n",
       "                                                  ['Getting up', 'God',\n",
       "                                                   'Health', 'Borrowed stuff',\n",
       "                                                   'Self-criticism',\n",
       "                                                   'Elections',\n",
       "                                                   'Number of friends',\n",
       "                                                   'Spending on healthy eating',\n",
       "                                                   'Music', 'Movies',\n",
       "                                                   'Friends versus money',\n",
       "                                                   'Changing the past'])]))])</pre></div></div></div><div class=\"sk-serial\"><div class=\"sk-item sk-dashed-wrapped\"><div class=\"sk-label-container\"><div class=\"sk-label sk-toggleable\"><input class=\"sk-toggleable__control sk-hidden--visually\" id=\"04d1b514-9dbb-4424-80a0-799de45d0485\" type=\"checkbox\" ><label class=\"sk-toggleable__label\" for=\"04d1b514-9dbb-4424-80a0-799de45d0485\">data_transformer: ColumnTransformer</label><div class=\"sk-toggleable__content\"><pre>ColumnTransformer(transformers=[('numerical',\n",
       "                                 Pipeline(steps=[('imputer', SimpleImputer()),\n",
       "                                                 ('scaler', StandardScaler()),\n",
       "                                                 ('fs', SelectKBest(k='all'))]),\n",
       "                                 ['Age', 'Height', 'Weight']),\n",
       "                                ('categorical',\n",
       "                                 Pipeline(steps=[('imputer', SimpleImputer()),\n",
       "                                                 ('onehot',\n",
       "                                                  OneHotEncoder(handle_unknown='ignore'))]),\n",
       "                                 ['Getting up', 'God', 'Health',\n",
       "                                  'Borrowed stuff', 'Self-criticism',\n",
       "                                  'Elections', 'Number of friends',\n",
       "                                  'Spending on healthy eating', 'Music',\n",
       "                                  'Movies', 'Friends versus money',\n",
       "                                  'Changing the past'])])</pre></div></div></div><div class=\"sk-parallel\"><div class=\"sk-parallel-item\"><div class=\"sk-item\"><div class=\"sk-label-container\"><div class=\"sk-label sk-toggleable\"><input class=\"sk-toggleable__control sk-hidden--visually\" id=\"c177f5c0-34eb-4867-a23f-35abf75ab585\" type=\"checkbox\" ><label class=\"sk-toggleable__label\" for=\"c177f5c0-34eb-4867-a23f-35abf75ab585\">numerical</label><div class=\"sk-toggleable__content\"><pre>['Age', 'Height', 'Weight']</pre></div></div></div><div class=\"sk-serial\"><div class=\"sk-item\"><div class=\"sk-serial\"><div class=\"sk-item\"><div class=\"sk-estimator sk-toggleable\"><input class=\"sk-toggleable__control sk-hidden--visually\" id=\"165a54f5-30d4-42ad-89c3-8fd115dafd5b\" type=\"checkbox\" ><label class=\"sk-toggleable__label\" for=\"165a54f5-30d4-42ad-89c3-8fd115dafd5b\">SimpleImputer</label><div class=\"sk-toggleable__content\"><pre>SimpleImputer()</pre></div></div></div><div class=\"sk-item\"><div class=\"sk-estimator sk-toggleable\"><input class=\"sk-toggleable__control sk-hidden--visually\" id=\"f7188239-e653-4538-a109-34111ccd8bdf\" type=\"checkbox\" ><label class=\"sk-toggleable__label\" for=\"f7188239-e653-4538-a109-34111ccd8bdf\">StandardScaler</label><div class=\"sk-toggleable__content\"><pre>StandardScaler()</pre></div></div></div><div class=\"sk-item\"><div class=\"sk-estimator sk-toggleable\"><input class=\"sk-toggleable__control sk-hidden--visually\" id=\"e4abe3e0-770c-4849-a02b-7a08e77b30f8\" type=\"checkbox\" ><label class=\"sk-toggleable__label\" for=\"e4abe3e0-770c-4849-a02b-7a08e77b30f8\">SelectKBest</label><div class=\"sk-toggleable__content\"><pre>SelectKBest(k='all')</pre></div></div></div></div></div></div></div></div><div class=\"sk-parallel-item\"><div class=\"sk-item\"><div class=\"sk-label-container\"><div class=\"sk-label sk-toggleable\"><input class=\"sk-toggleable__control sk-hidden--visually\" id=\"adc81a02-3894-4ae7-8698-90f08eaba702\" type=\"checkbox\" ><label class=\"sk-toggleable__label\" for=\"adc81a02-3894-4ae7-8698-90f08eaba702\">categorical</label><div class=\"sk-toggleable__content\"><pre>['Getting up', 'God', 'Health', 'Borrowed stuff', 'Self-criticism', 'Elections', 'Number of friends', 'Spending on healthy eating', 'Music', 'Movies', 'Friends versus money', 'Changing the past']</pre></div></div></div><div class=\"sk-serial\"><div class=\"sk-item\"><div class=\"sk-serial\"><div class=\"sk-item\"><div class=\"sk-estimator sk-toggleable\"><input class=\"sk-toggleable__control sk-hidden--visually\" id=\"8329454c-8d27-4c76-a67e-e14433b3f081\" type=\"checkbox\" ><label class=\"sk-toggleable__label\" for=\"8329454c-8d27-4c76-a67e-e14433b3f081\">SimpleImputer</label><div class=\"sk-toggleable__content\"><pre>SimpleImputer()</pre></div></div></div><div class=\"sk-item\"><div class=\"sk-estimator sk-toggleable\"><input class=\"sk-toggleable__control sk-hidden--visually\" id=\"0bb022fb-83a3-4153-8b60-3dc919e6f2da\" type=\"checkbox\" ><label class=\"sk-toggleable__label\" for=\"0bb022fb-83a3-4153-8b60-3dc919e6f2da\">OneHotEncoder</label><div class=\"sk-toggleable__content\"><pre>OneHotEncoder(handle_unknown='ignore')</pre></div></div></div></div></div></div></div></div></div></div></div></div><div class=\"sk-item sk-dashed-wrapped\"><div class=\"sk-label-container\"><div class=\"sk-label sk-toggleable\"><input class=\"sk-toggleable__control sk-hidden--visually\" id=\"c3e20288-3ac6-4f78-b349-05cb689cf207\" type=\"checkbox\" ><label class=\"sk-toggleable__label\" for=\"c3e20288-3ac6-4f78-b349-05cb689cf207\">classifier: StackingClassifier</label><div class=\"sk-toggleable__content\"><pre>StackingClassifier(estimators=[('Random_Forest', RandomForestClassifier()),\n",
       "                               ('SVM', LinearSVC()),\n",
       "                               ('Xgboost',\n",
       "                                XGBClassifier(base_score=None, booster=None,\n",
       "                                              colsample_bylevel=None,\n",
       "                                              colsample_bynode=None,\n",
       "                                              colsample_bytree=None, gamma=None,\n",
       "                                              gpu_id=None,\n",
       "                                              importance_type='gain',\n",
       "                                              interaction_constraints=None,\n",
       "                                              learning_rate=None,\n",
       "                                              max_delta_step=None,\n",
       "                                              max_depth=None,\n",
       "                                              min_child_weight=None,\n",
       "                                              missing=nan,\n",
       "                                              monotone_constraints=None,\n",
       "                                              n_estimators=100, n_jobs=None,\n",
       "                                              num_parallel_tree=None,\n",
       "                                              random_state=None, reg_alpha=None,\n",
       "                                              reg_lambda=None,\n",
       "                                              scale_pos_weight=None,\n",
       "                                              subsample=None, tree_method=None,\n",
       "                                              validate_parameters=None,\n",
       "                                              verbosity=None))],\n",
       "                   final_estimator=LogisticRegression(n_jobs=-1), n_jobs=-1)</pre></div></div></div><div class=\"sk-serial\"><div class=\"sk-item\"><div class=\"sk-serial\"><div class=\"sk-item\"><div class=\"sk-parallel\"><div class=\"sk-parallel-item\"><div class=\"sk-item\"><div class=\"sk-label-container\"><div class=\"sk-label sk-toggleable\"><label>Random_Forest</label></div></div><div class=\"sk-serial\"><div class=\"sk-item\"><div class=\"sk-estimator sk-toggleable\"><input class=\"sk-toggleable__control sk-hidden--visually\" id=\"959a1c84-88b0-4644-8d2c-d0cadee0b386\" type=\"checkbox\" ><label class=\"sk-toggleable__label\" for=\"959a1c84-88b0-4644-8d2c-d0cadee0b386\">RandomForestClassifier</label><div class=\"sk-toggleable__content\"><pre>RandomForestClassifier()</pre></div></div></div></div></div></div><div class=\"sk-parallel-item\"><div class=\"sk-item\"><div class=\"sk-label-container\"><div class=\"sk-label sk-toggleable\"><label>SVM</label></div></div><div class=\"sk-serial\"><div class=\"sk-item\"><div class=\"sk-estimator sk-toggleable\"><input class=\"sk-toggleable__control sk-hidden--visually\" id=\"408dbe2f-4d5b-46e4-83cb-e4e93520b361\" type=\"checkbox\" ><label class=\"sk-toggleable__label\" for=\"408dbe2f-4d5b-46e4-83cb-e4e93520b361\">LinearSVC</label><div class=\"sk-toggleable__content\"><pre>LinearSVC()</pre></div></div></div></div></div></div><div class=\"sk-parallel-item\"><div class=\"sk-item\"><div class=\"sk-label-container\"><div class=\"sk-label sk-toggleable\"><label>Xgboost</label></div></div><div class=\"sk-serial\"><div class=\"sk-item\"><div class=\"sk-estimator sk-toggleable\"><input class=\"sk-toggleable__control sk-hidden--visually\" id=\"58baedf1-6ac9-4191-bc19-7027336df967\" type=\"checkbox\" ><label class=\"sk-toggleable__label\" for=\"58baedf1-6ac9-4191-bc19-7027336df967\">XGBClassifier</label><div class=\"sk-toggleable__content\"><pre>XGBClassifier(base_score=None, booster=None, colsample_bylevel=None,\n",
       "              colsample_bynode=None, colsample_bytree=None, gamma=None,\n",
       "              gpu_id=None, importance_type='gain', interaction_constraints=None,\n",
       "              learning_rate=None, max_delta_step=None, max_depth=None,\n",
       "              min_child_weight=None, missing=nan, monotone_constraints=None,\n",
       "              n_estimators=100, n_jobs=None, num_parallel_tree=None,\n",
       "              random_state=None, reg_alpha=None, reg_lambda=None,\n",
       "              scale_pos_weight=None, subsample=None, tree_method=None,\n",
       "              validate_parameters=None, verbosity=None)</pre></div></div></div></div></div></div></div></div><div class=\"sk-item\"><div class=\"sk-estimator sk-toggleable\"><input class=\"sk-toggleable__control sk-hidden--visually\" id=\"aaf73c84-0cc2-417b-bdb3-c5b1ef476677\" type=\"checkbox\" ><label class=\"sk-toggleable__label\" for=\"aaf73c84-0cc2-417b-bdb3-c5b1ef476677\">LogisticRegression</label><div class=\"sk-toggleable__content\"><pre>LogisticRegression(n_jobs=-1)</pre></div></div></div></div></div></div></div></div></div></div></div>"
      ],
      "text/plain": [
       "Pipeline(steps=[('preprocessor',\n",
       "                 Pipeline(steps=[('data_transformer',\n",
       "                                  ColumnTransformer(transformers=[('numerical',\n",
       "                                                                   Pipeline(steps=[('imputer',\n",
       "                                                                                    SimpleImputer()),\n",
       "                                                                                   ('scaler',\n",
       "                                                                                    StandardScaler()),\n",
       "                                                                                   ('fs',\n",
       "                                                                                    SelectKBest(k='all'))]),\n",
       "                                                                   ['Age',\n",
       "                                                                    'Height',\n",
       "                                                                    'Weight']),\n",
       "                                                                  ('categorical',\n",
       "                                                                   Pipeline(steps=[('imputer',\n",
       "                                                                                    SimpleImputer()),\n",
       "                                                                                   ('onehot',\n",
       "                                                                                    OneHotEncoder(handle_unknown='ignore'))...\n",
       "                                                               max_delta_step=None,\n",
       "                                                               max_depth=None,\n",
       "                                                               min_child_weight=None,\n",
       "                                                               missing=nan,\n",
       "                                                               monotone_constraints=None,\n",
       "                                                               n_estimators=100,\n",
       "                                                               n_jobs=None,\n",
       "                                                               num_parallel_tree=None,\n",
       "                                                               random_state=None,\n",
       "                                                               reg_alpha=None,\n",
       "                                                               reg_lambda=None,\n",
       "                                                               scale_pos_weight=None,\n",
       "                                                               subsample=None,\n",
       "                                                               tree_method=None,\n",
       "                                                               validate_parameters=None,\n",
       "                                                               verbosity=None))],\n",
       "                                    final_estimator=LogisticRegression(n_jobs=-1),\n",
       "                                    n_jobs=-1))])"
      ]
     },
     "execution_count": 52,
     "metadata": {},
     "output_type": "execute_result"
    }
   ],
   "source": [
    "# получим список эстиматоров\n",
    "estimators = [\n",
    "    (\"Random_Forest\", RandomForestClassifier()),\n",
    "    (\"SVM\", LinearSVC()),\n",
    "    (\"Xgboost\", xgboost.XGBClassifier()),\n",
    "]\n",
    "\n",
    "# построим классификатор используя стекинг и наш список классификаторов\n",
    "stacking_classifier = StackingClassifier(\n",
    "    estimators=estimators, final_estimator=LogisticRegression(n_jobs=-1), n_jobs=-1\n",
    ")\n",
    "\n",
    "classifier_pipline = Pipeline(\n",
    "    steps=[(\"preprocessor\", preprocessor), (\"classifier\", stacking_classifier)]\n",
    ")\n",
    "\n",
    "classifier_pipline"
   ]
  },
  {
   "cell_type": "code",
   "execution_count": null,
   "metadata": {},
   "outputs": [],
   "source": []
  },
  {
   "cell_type": "code",
   "execution_count": null,
   "metadata": {},
   "outputs": [],
   "source": []
  },
  {
   "cell_type": "code",
   "execution_count": null,
   "metadata": {},
   "outputs": [],
   "source": []
  },
  {
   "cell_type": "code",
   "execution_count": null,
   "metadata": {},
   "outputs": [],
   "source": []
  },
  {
   "cell_type": "markdown",
   "metadata": {},
   "source": [
    "# Чуть более хитрый стекинг/блендинг моделей"
   ]
  },
  {
   "cell_type": "code",
   "execution_count": 53,
   "metadata": {
    "ExecuteTime": {
     "end_time": "2022-04-18T19:11:34.820911Z",
     "start_time": "2022-04-18T19:11:33.966114Z"
    }
   },
   "outputs": [
    {
     "data": {
      "text/html": [
       "<style>#sk-8b146f40-6faa-48ff-815c-c9da603a1cca {color: black;background-color: white;}#sk-8b146f40-6faa-48ff-815c-c9da603a1cca pre{padding: 0;}#sk-8b146f40-6faa-48ff-815c-c9da603a1cca div.sk-toggleable {background-color: white;}#sk-8b146f40-6faa-48ff-815c-c9da603a1cca label.sk-toggleable__label {cursor: pointer;display: block;width: 100%;margin-bottom: 0;padding: 0.2em 0.3em;box-sizing: border-box;text-align: center;}#sk-8b146f40-6faa-48ff-815c-c9da603a1cca div.sk-toggleable__content {max-height: 0;max-width: 0;overflow: hidden;text-align: left;background-color: #f0f8ff;}#sk-8b146f40-6faa-48ff-815c-c9da603a1cca div.sk-toggleable__content pre {margin: 0.2em;color: black;border-radius: 0.25em;background-color: #f0f8ff;}#sk-8b146f40-6faa-48ff-815c-c9da603a1cca input.sk-toggleable__control:checked~div.sk-toggleable__content {max-height: 200px;max-width: 100%;overflow: auto;}#sk-8b146f40-6faa-48ff-815c-c9da603a1cca div.sk-estimator input.sk-toggleable__control:checked~label.sk-toggleable__label {background-color: #d4ebff;}#sk-8b146f40-6faa-48ff-815c-c9da603a1cca div.sk-label input.sk-toggleable__control:checked~label.sk-toggleable__label {background-color: #d4ebff;}#sk-8b146f40-6faa-48ff-815c-c9da603a1cca input.sk-hidden--visually {border: 0;clip: rect(1px 1px 1px 1px);clip: rect(1px, 1px, 1px, 1px);height: 1px;margin: -1px;overflow: hidden;padding: 0;position: absolute;width: 1px;}#sk-8b146f40-6faa-48ff-815c-c9da603a1cca div.sk-estimator {font-family: monospace;background-color: #f0f8ff;margin: 0.25em 0.25em;border: 1px dotted black;border-radius: 0.25em;box-sizing: border-box;}#sk-8b146f40-6faa-48ff-815c-c9da603a1cca div.sk-estimator:hover {background-color: #d4ebff;}#sk-8b146f40-6faa-48ff-815c-c9da603a1cca div.sk-parallel-item::after {content: \"\";width: 100%;border-bottom: 1px solid gray;flex-grow: 1;}#sk-8b146f40-6faa-48ff-815c-c9da603a1cca div.sk-label:hover label.sk-toggleable__label {background-color: #d4ebff;}#sk-8b146f40-6faa-48ff-815c-c9da603a1cca div.sk-serial::before {content: \"\";position: absolute;border-left: 1px solid gray;box-sizing: border-box;top: 2em;bottom: 0;left: 50%;}#sk-8b146f40-6faa-48ff-815c-c9da603a1cca div.sk-serial {display: flex;flex-direction: column;align-items: center;background-color: white;}#sk-8b146f40-6faa-48ff-815c-c9da603a1cca div.sk-item {z-index: 1;}#sk-8b146f40-6faa-48ff-815c-c9da603a1cca div.sk-parallel {display: flex;align-items: stretch;justify-content: center;background-color: white;}#sk-8b146f40-6faa-48ff-815c-c9da603a1cca div.sk-parallel-item {display: flex;flex-direction: column;position: relative;background-color: white;}#sk-8b146f40-6faa-48ff-815c-c9da603a1cca div.sk-parallel-item:first-child::after {align-self: flex-end;width: 50%;}#sk-8b146f40-6faa-48ff-815c-c9da603a1cca div.sk-parallel-item:last-child::after {align-self: flex-start;width: 50%;}#sk-8b146f40-6faa-48ff-815c-c9da603a1cca div.sk-parallel-item:only-child::after {width: 0;}#sk-8b146f40-6faa-48ff-815c-c9da603a1cca div.sk-dashed-wrapped {border: 1px dashed gray;margin: 0.2em;box-sizing: border-box;padding-bottom: 0.1em;background-color: white;position: relative;}#sk-8b146f40-6faa-48ff-815c-c9da603a1cca div.sk-label label {font-family: monospace;font-weight: bold;background-color: white;display: inline-block;line-height: 1.2em;}#sk-8b146f40-6faa-48ff-815c-c9da603a1cca div.sk-label-container {position: relative;z-index: 2;text-align: center;}#sk-8b146f40-6faa-48ff-815c-c9da603a1cca div.sk-container {display: inline-block;position: relative;}</style><div id=\"sk-8b146f40-6faa-48ff-815c-c9da603a1cca\" class\"sk-top-container\"><div class=\"sk-container\"><div class=\"sk-item sk-dashed-wrapped\"><div class=\"sk-label-container\"><div class=\"sk-label sk-toggleable\"><input class=\"sk-toggleable__control sk-hidden--visually\" id=\"7450cf68-5946-4b58-a126-a0afb378852a\" type=\"checkbox\" ><label class=\"sk-toggleable__label\" for=\"7450cf68-5946-4b58-a126-a0afb378852a\">StackingClassifier</label><div class=\"sk-toggleable__content\"><pre>StackingClassifier(estimators=[('SVM',\n",
       "                                Pipeline(steps=[('pipeline',\n",
       "                                                 Pipeline(steps=[('data_transformer',\n",
       "                                                                  ColumnTransformer(transformers=[('numerical',\n",
       "                                                                                                   Pipeline(steps=[('imputer',\n",
       "                                                                                                                    SimpleImputer()),\n",
       "                                                                                                                   ('scaler',\n",
       "                                                                                                                    StandardScaler()),\n",
       "                                                                                                                   ('fs',\n",
       "                                                                                                                    SelectKBest(k='all'))]),\n",
       "                                                                                                   ['Age',\n",
       "                                                                                                    'Height',\n",
       "                                                                                                    'Weight']),\n",
       "                                                                                                  ('categorical',\n",
       "                                                                                                   Pipeline(steps=[('imputer',\n",
       "                                                                                                                    SimpleImputer()),\n",
       "                                                                                                                   ('onehot',\n",
       "                                                                                                                    OneHo...\n",
       "                                                               max_depth=None,\n",
       "                                                               min_child_weight=None,\n",
       "                                                               missing=nan,\n",
       "                                                               monotone_constraints=None,\n",
       "                                                               n_estimators=100,\n",
       "                                                               n_jobs=None,\n",
       "                                                               num_parallel_tree=None,\n",
       "                                                               random_state=None,\n",
       "                                                               reg_alpha=None,\n",
       "                                                               reg_lambda=None,\n",
       "                                                               scale_pos_weight=None,\n",
       "                                                               subsample=None,\n",
       "                                                               tree_method=None,\n",
       "                                                               validate_parameters=None,\n",
       "                                                               verbosity=None))]))],\n",
       "                   final_estimator=LogisticRegression(n_jobs=-1, verbose=True),\n",
       "                   n_jobs=-1, verbose=True)</pre></div></div></div><div class=\"sk-serial\"><div class=\"sk-item\"><div class=\"sk-serial\"><div class=\"sk-item\"><div class=\"sk-parallel\"><div class=\"sk-parallel-item\"><div class=\"sk-item\"><div class=\"sk-label-container\"><div class=\"sk-label sk-toggleable\"><label>SVM</label></div></div><div class=\"sk-serial\"><div class=\"sk-item\"><div class=\"sk-serial\"><div class=\"sk-item\"><div class=\"sk-label-container\"><div class=\"sk-label sk-toggleable\"><input class=\"sk-toggleable__control sk-hidden--visually\" id=\"e8c3a984-85bd-4f07-accc-e409675945ee\" type=\"checkbox\" ><label class=\"sk-toggleable__label\" for=\"e8c3a984-85bd-4f07-accc-e409675945ee\">pipeline: Pipeline</label><div class=\"sk-toggleable__content\"><pre>Pipeline(steps=[('data_transformer',\n",
       "                 ColumnTransformer(transformers=[('numerical',\n",
       "                                                  Pipeline(steps=[('imputer',\n",
       "                                                                   SimpleImputer()),\n",
       "                                                                  ('scaler',\n",
       "                                                                   StandardScaler()),\n",
       "                                                                  ('fs',\n",
       "                                                                   SelectKBest(k='all'))]),\n",
       "                                                  ['Age', 'Height', 'Weight']),\n",
       "                                                 ('categorical',\n",
       "                                                  Pipeline(steps=[('imputer',\n",
       "                                                                   SimpleImputer()),\n",
       "                                                                  ('onehot',\n",
       "                                                                   OneHotEncoder(handle_unknown='ignore'))]),\n",
       "                                                  ['Getting up', 'God',\n",
       "                                                   'Health', 'Borrowed stuff',\n",
       "                                                   'Self-criticism',\n",
       "                                                   'Elections',\n",
       "                                                   'Number of friends',\n",
       "                                                   'Spending on healthy eating',\n",
       "                                                   'Music', 'Movies',\n",
       "                                                   'Friends versus money',\n",
       "                                                   'Changing the past'])]))])</pre></div></div></div><div class=\"sk-serial\"><div class=\"sk-item sk-dashed-wrapped\"><div class=\"sk-label-container\"><div class=\"sk-label sk-toggleable\"><input class=\"sk-toggleable__control sk-hidden--visually\" id=\"ea969539-326e-4d71-964b-32bac6e47e56\" type=\"checkbox\" ><label class=\"sk-toggleable__label\" for=\"ea969539-326e-4d71-964b-32bac6e47e56\">data_transformer: ColumnTransformer</label><div class=\"sk-toggleable__content\"><pre>ColumnTransformer(transformers=[('numerical',\n",
       "                                 Pipeline(steps=[('imputer', SimpleImputer()),\n",
       "                                                 ('scaler', StandardScaler()),\n",
       "                                                 ('fs', SelectKBest(k='all'))]),\n",
       "                                 ['Age', 'Height', 'Weight']),\n",
       "                                ('categorical',\n",
       "                                 Pipeline(steps=[('imputer', SimpleImputer()),\n",
       "                                                 ('onehot',\n",
       "                                                  OneHotEncoder(handle_unknown='ignore'))]),\n",
       "                                 ['Getting up', 'God', 'Health',\n",
       "                                  'Borrowed stuff', 'Self-criticism',\n",
       "                                  'Elections', 'Number of friends',\n",
       "                                  'Spending on healthy eating', 'Music',\n",
       "                                  'Movies', 'Friends versus money',\n",
       "                                  'Changing the past'])])</pre></div></div></div><div class=\"sk-parallel\"><div class=\"sk-parallel-item\"><div class=\"sk-item\"><div class=\"sk-label-container\"><div class=\"sk-label sk-toggleable\"><input class=\"sk-toggleable__control sk-hidden--visually\" id=\"7d830d45-750f-4ba8-8311-6999ed48ad47\" type=\"checkbox\" ><label class=\"sk-toggleable__label\" for=\"7d830d45-750f-4ba8-8311-6999ed48ad47\">numerical</label><div class=\"sk-toggleable__content\"><pre>['Age', 'Height', 'Weight']</pre></div></div></div><div class=\"sk-serial\"><div class=\"sk-item\"><div class=\"sk-serial\"><div class=\"sk-item\"><div class=\"sk-estimator sk-toggleable\"><input class=\"sk-toggleable__control sk-hidden--visually\" id=\"7e4cb5f4-0322-4785-85fc-32d051831ab4\" type=\"checkbox\" ><label class=\"sk-toggleable__label\" for=\"7e4cb5f4-0322-4785-85fc-32d051831ab4\">SimpleImputer</label><div class=\"sk-toggleable__content\"><pre>SimpleImputer()</pre></div></div></div><div class=\"sk-item\"><div class=\"sk-estimator sk-toggleable\"><input class=\"sk-toggleable__control sk-hidden--visually\" id=\"df63b3c5-a84a-4270-aa64-309ef648b78b\" type=\"checkbox\" ><label class=\"sk-toggleable__label\" for=\"df63b3c5-a84a-4270-aa64-309ef648b78b\">StandardScaler</label><div class=\"sk-toggleable__content\"><pre>StandardScaler()</pre></div></div></div><div class=\"sk-item\"><div class=\"sk-estimator sk-toggleable\"><input class=\"sk-toggleable__control sk-hidden--visually\" id=\"8bf07133-a2af-431d-9882-7f0405518666\" type=\"checkbox\" ><label class=\"sk-toggleable__label\" for=\"8bf07133-a2af-431d-9882-7f0405518666\">SelectKBest</label><div class=\"sk-toggleable__content\"><pre>SelectKBest(k='all')</pre></div></div></div></div></div></div></div></div><div class=\"sk-parallel-item\"><div class=\"sk-item\"><div class=\"sk-label-container\"><div class=\"sk-label sk-toggleable\"><input class=\"sk-toggleable__control sk-hidden--visually\" id=\"85200694-db19-4be0-b8d8-1469df6c3d25\" type=\"checkbox\" ><label class=\"sk-toggleable__label\" for=\"85200694-db19-4be0-b8d8-1469df6c3d25\">categorical</label><div class=\"sk-toggleable__content\"><pre>['Getting up', 'God', 'Health', 'Borrowed stuff', 'Self-criticism', 'Elections', 'Number of friends', 'Spending on healthy eating', 'Music', 'Movies', 'Friends versus money', 'Changing the past']</pre></div></div></div><div class=\"sk-serial\"><div class=\"sk-item\"><div class=\"sk-serial\"><div class=\"sk-item\"><div class=\"sk-estimator sk-toggleable\"><input class=\"sk-toggleable__control sk-hidden--visually\" id=\"c476ac50-abb9-44cd-b711-a6574c1f53f0\" type=\"checkbox\" ><label class=\"sk-toggleable__label\" for=\"c476ac50-abb9-44cd-b711-a6574c1f53f0\">SimpleImputer</label><div class=\"sk-toggleable__content\"><pre>SimpleImputer()</pre></div></div></div><div class=\"sk-item\"><div class=\"sk-estimator sk-toggleable\"><input class=\"sk-toggleable__control sk-hidden--visually\" id=\"71963f0d-6964-4c10-96c5-34ae79c24a66\" type=\"checkbox\" ><label class=\"sk-toggleable__label\" for=\"71963f0d-6964-4c10-96c5-34ae79c24a66\">OneHotEncoder</label><div class=\"sk-toggleable__content\"><pre>OneHotEncoder(handle_unknown='ignore')</pre></div></div></div></div></div></div></div></div></div></div></div></div><div class=\"sk-item\"><div class=\"sk-estimator sk-toggleable\"><input class=\"sk-toggleable__control sk-hidden--visually\" id=\"33136495-36c0-4a2a-8400-064fd0bcbdc1\" type=\"checkbox\" ><label class=\"sk-toggleable__label\" for=\"33136495-36c0-4a2a-8400-064fd0bcbdc1\">PCA</label><div class=\"sk-toggleable__content\"><pre>PCA()</pre></div></div></div><div class=\"sk-item\"><div class=\"sk-estimator sk-toggleable\"><input class=\"sk-toggleable__control sk-hidden--visually\" id=\"c3cb5da4-b2d9-49e5-af8c-dfb4814b6925\" type=\"checkbox\" ><label class=\"sk-toggleable__label\" for=\"c3cb5da4-b2d9-49e5-af8c-dfb4814b6925\">LinearSVC</label><div class=\"sk-toggleable__content\"><pre>LinearSVC()</pre></div></div></div></div></div></div></div></div><div class=\"sk-parallel-item\"><div class=\"sk-item\"><div class=\"sk-label-container\"><div class=\"sk-label sk-toggleable\"><label>Random_Forest</label></div></div><div class=\"sk-serial\"><div class=\"sk-item\"><div class=\"sk-serial\"><div class=\"sk-item\"><div class=\"sk-label-container\"><div class=\"sk-label sk-toggleable\"><input class=\"sk-toggleable__control sk-hidden--visually\" id=\"351811f5-51b9-43c1-ad7a-fea9d7aa7882\" type=\"checkbox\" ><label class=\"sk-toggleable__label\" for=\"351811f5-51b9-43c1-ad7a-fea9d7aa7882\">pipeline: Pipeline</label><div class=\"sk-toggleable__content\"><pre>Pipeline(steps=[('data_transformer',\n",
       "                 ColumnTransformer(transformers=[('numerical',\n",
       "                                                  Pipeline(steps=[('imputer',\n",
       "                                                                   SimpleImputer()),\n",
       "                                                                  ('scaler',\n",
       "                                                                   StandardScaler()),\n",
       "                                                                  ('fs',\n",
       "                                                                   SelectKBest(k='all'))]),\n",
       "                                                  ['Age', 'Height', 'Weight']),\n",
       "                                                 ('categorical',\n",
       "                                                  Pipeline(steps=[('imputer',\n",
       "                                                                   SimpleImputer()),\n",
       "                                                                  ('onehot',\n",
       "                                                                   OneHotEncoder(handle_unknown='ignore'))]),\n",
       "                                                  ['Getting up', 'God',\n",
       "                                                   'Health', 'Borrowed stuff',\n",
       "                                                   'Self-criticism',\n",
       "                                                   'Elections',\n",
       "                                                   'Number of friends',\n",
       "                                                   'Spending on healthy eating',\n",
       "                                                   'Music', 'Movies',\n",
       "                                                   'Friends versus money',\n",
       "                                                   'Changing the past'])]))])</pre></div></div></div><div class=\"sk-serial\"><div class=\"sk-item sk-dashed-wrapped\"><div class=\"sk-label-container\"><div class=\"sk-label sk-toggleable\"><input class=\"sk-toggleable__control sk-hidden--visually\" id=\"53846173-9e35-4bf1-a209-40e8d83f5c82\" type=\"checkbox\" ><label class=\"sk-toggleable__label\" for=\"53846173-9e35-4bf1-a209-40e8d83f5c82\">data_transformer: ColumnTransformer</label><div class=\"sk-toggleable__content\"><pre>ColumnTransformer(transformers=[('numerical',\n",
       "                                 Pipeline(steps=[('imputer', SimpleImputer()),\n",
       "                                                 ('scaler', StandardScaler()),\n",
       "                                                 ('fs', SelectKBest(k='all'))]),\n",
       "                                 ['Age', 'Height', 'Weight']),\n",
       "                                ('categorical',\n",
       "                                 Pipeline(steps=[('imputer', SimpleImputer()),\n",
       "                                                 ('onehot',\n",
       "                                                  OneHotEncoder(handle_unknown='ignore'))]),\n",
       "                                 ['Getting up', 'God', 'Health',\n",
       "                                  'Borrowed stuff', 'Self-criticism',\n",
       "                                  'Elections', 'Number of friends',\n",
       "                                  'Spending on healthy eating', 'Music',\n",
       "                                  'Movies', 'Friends versus money',\n",
       "                                  'Changing the past'])])</pre></div></div></div><div class=\"sk-parallel\"><div class=\"sk-parallel-item\"><div class=\"sk-item\"><div class=\"sk-label-container\"><div class=\"sk-label sk-toggleable\"><input class=\"sk-toggleable__control sk-hidden--visually\" id=\"9297d5f3-52cf-4e3f-9c36-5c46915c3d1f\" type=\"checkbox\" ><label class=\"sk-toggleable__label\" for=\"9297d5f3-52cf-4e3f-9c36-5c46915c3d1f\">numerical</label><div class=\"sk-toggleable__content\"><pre>['Age', 'Height', 'Weight']</pre></div></div></div><div class=\"sk-serial\"><div class=\"sk-item\"><div class=\"sk-serial\"><div class=\"sk-item\"><div class=\"sk-estimator sk-toggleable\"><input class=\"sk-toggleable__control sk-hidden--visually\" id=\"94b10d11-808f-428e-9a05-1d2e59d69807\" type=\"checkbox\" ><label class=\"sk-toggleable__label\" for=\"94b10d11-808f-428e-9a05-1d2e59d69807\">SimpleImputer</label><div class=\"sk-toggleable__content\"><pre>SimpleImputer()</pre></div></div></div><div class=\"sk-item\"><div class=\"sk-estimator sk-toggleable\"><input class=\"sk-toggleable__control sk-hidden--visually\" id=\"791c5a50-c833-4ec3-8d44-bd7a7600f34b\" type=\"checkbox\" ><label class=\"sk-toggleable__label\" for=\"791c5a50-c833-4ec3-8d44-bd7a7600f34b\">StandardScaler</label><div class=\"sk-toggleable__content\"><pre>StandardScaler()</pre></div></div></div><div class=\"sk-item\"><div class=\"sk-estimator sk-toggleable\"><input class=\"sk-toggleable__control sk-hidden--visually\" id=\"b0445421-4c34-4be7-9c3e-515dab255a64\" type=\"checkbox\" ><label class=\"sk-toggleable__label\" for=\"b0445421-4c34-4be7-9c3e-515dab255a64\">SelectKBest</label><div class=\"sk-toggleable__content\"><pre>SelectKBest(k='all')</pre></div></div></div></div></div></div></div></div><div class=\"sk-parallel-item\"><div class=\"sk-item\"><div class=\"sk-label-container\"><div class=\"sk-label sk-toggleable\"><input class=\"sk-toggleable__control sk-hidden--visually\" id=\"f8bb330f-6d6a-497c-a81a-9b594d7783bc\" type=\"checkbox\" ><label class=\"sk-toggleable__label\" for=\"f8bb330f-6d6a-497c-a81a-9b594d7783bc\">categorical</label><div class=\"sk-toggleable__content\"><pre>['Getting up', 'God', 'Health', 'Borrowed stuff', 'Self-criticism', 'Elections', 'Number of friends', 'Spending on healthy eating', 'Music', 'Movies', 'Friends versus money', 'Changing the past']</pre></div></div></div><div class=\"sk-serial\"><div class=\"sk-item\"><div class=\"sk-serial\"><div class=\"sk-item\"><div class=\"sk-estimator sk-toggleable\"><input class=\"sk-toggleable__control sk-hidden--visually\" id=\"7224a195-c827-44e2-8efd-f384bb17e93c\" type=\"checkbox\" ><label class=\"sk-toggleable__label\" for=\"7224a195-c827-44e2-8efd-f384bb17e93c\">SimpleImputer</label><div class=\"sk-toggleable__content\"><pre>SimpleImputer()</pre></div></div></div><div class=\"sk-item\"><div class=\"sk-estimator sk-toggleable\"><input class=\"sk-toggleable__control sk-hidden--visually\" id=\"926b2636-a48e-466a-8672-8a4a822cfe70\" type=\"checkbox\" ><label class=\"sk-toggleable__label\" for=\"926b2636-a48e-466a-8672-8a4a822cfe70\">OneHotEncoder</label><div class=\"sk-toggleable__content\"><pre>OneHotEncoder(handle_unknown='ignore')</pre></div></div></div></div></div></div></div></div></div></div></div></div><div class=\"sk-item\"><div class=\"sk-estimator sk-toggleable\"><input class=\"sk-toggleable__control sk-hidden--visually\" id=\"cb46df3c-4720-4ae7-b9e6-3b18146d4429\" type=\"checkbox\" ><label class=\"sk-toggleable__label\" for=\"cb46df3c-4720-4ae7-b9e6-3b18146d4429\">RandomForestClassifier</label><div class=\"sk-toggleable__content\"><pre>RandomForestClassifier()</pre></div></div></div></div></div></div></div></div><div class=\"sk-parallel-item\"><div class=\"sk-item\"><div class=\"sk-label-container\"><div class=\"sk-label sk-toggleable\"><label>Xgboost</label></div></div><div class=\"sk-serial\"><div class=\"sk-item\"><div class=\"sk-serial\"><div class=\"sk-item\"><div class=\"sk-label-container\"><div class=\"sk-label sk-toggleable\"><input class=\"sk-toggleable__control sk-hidden--visually\" id=\"62647475-f453-4c72-b6af-8dcb8cd97839\" type=\"checkbox\" ><label class=\"sk-toggleable__label\" for=\"62647475-f453-4c72-b6af-8dcb8cd97839\">pipeline: Pipeline</label><div class=\"sk-toggleable__content\"><pre>Pipeline(steps=[('data_transformer',\n",
       "                 ColumnTransformer(transformers=[('numerical',\n",
       "                                                  Pipeline(steps=[('imputer',\n",
       "                                                                   SimpleImputer()),\n",
       "                                                                  ('scaler',\n",
       "                                                                   StandardScaler()),\n",
       "                                                                  ('fs',\n",
       "                                                                   SelectKBest(k='all'))]),\n",
       "                                                  ['Age', 'Height', 'Weight']),\n",
       "                                                 ('categorical',\n",
       "                                                  Pipeline(steps=[('imputer',\n",
       "                                                                   SimpleImputer()),\n",
       "                                                                  ('onehot',\n",
       "                                                                   OneHotEncoder(handle_unknown='ignore'))]),\n",
       "                                                  ['Getting up', 'God',\n",
       "                                                   'Health', 'Borrowed stuff',\n",
       "                                                   'Self-criticism',\n",
       "                                                   'Elections',\n",
       "                                                   'Number of friends',\n",
       "                                                   'Spending on healthy eating',\n",
       "                                                   'Music', 'Movies',\n",
       "                                                   'Friends versus money',\n",
       "                                                   'Changing the past'])]))])</pre></div></div></div><div class=\"sk-serial\"><div class=\"sk-item sk-dashed-wrapped\"><div class=\"sk-label-container\"><div class=\"sk-label sk-toggleable\"><input class=\"sk-toggleable__control sk-hidden--visually\" id=\"fe46e82b-8288-4552-8ea9-b8d408396fc5\" type=\"checkbox\" ><label class=\"sk-toggleable__label\" for=\"fe46e82b-8288-4552-8ea9-b8d408396fc5\">data_transformer: ColumnTransformer</label><div class=\"sk-toggleable__content\"><pre>ColumnTransformer(transformers=[('numerical',\n",
       "                                 Pipeline(steps=[('imputer', SimpleImputer()),\n",
       "                                                 ('scaler', StandardScaler()),\n",
       "                                                 ('fs', SelectKBest(k='all'))]),\n",
       "                                 ['Age', 'Height', 'Weight']),\n",
       "                                ('categorical',\n",
       "                                 Pipeline(steps=[('imputer', SimpleImputer()),\n",
       "                                                 ('onehot',\n",
       "                                                  OneHotEncoder(handle_unknown='ignore'))]),\n",
       "                                 ['Getting up', 'God', 'Health',\n",
       "                                  'Borrowed stuff', 'Self-criticism',\n",
       "                                  'Elections', 'Number of friends',\n",
       "                                  'Spending on healthy eating', 'Music',\n",
       "                                  'Movies', 'Friends versus money',\n",
       "                                  'Changing the past'])])</pre></div></div></div><div class=\"sk-parallel\"><div class=\"sk-parallel-item\"><div class=\"sk-item\"><div class=\"sk-label-container\"><div class=\"sk-label sk-toggleable\"><input class=\"sk-toggleable__control sk-hidden--visually\" id=\"a04bd8e5-0efc-47c5-b3ab-0dd010185717\" type=\"checkbox\" ><label class=\"sk-toggleable__label\" for=\"a04bd8e5-0efc-47c5-b3ab-0dd010185717\">numerical</label><div class=\"sk-toggleable__content\"><pre>['Age', 'Height', 'Weight']</pre></div></div></div><div class=\"sk-serial\"><div class=\"sk-item\"><div class=\"sk-serial\"><div class=\"sk-item\"><div class=\"sk-estimator sk-toggleable\"><input class=\"sk-toggleable__control sk-hidden--visually\" id=\"72adde9b-1910-4bf9-9d0f-62051140e70f\" type=\"checkbox\" ><label class=\"sk-toggleable__label\" for=\"72adde9b-1910-4bf9-9d0f-62051140e70f\">SimpleImputer</label><div class=\"sk-toggleable__content\"><pre>SimpleImputer()</pre></div></div></div><div class=\"sk-item\"><div class=\"sk-estimator sk-toggleable\"><input class=\"sk-toggleable__control sk-hidden--visually\" id=\"c8bedf4b-75f0-4b74-80b4-0667bed4a43a\" type=\"checkbox\" ><label class=\"sk-toggleable__label\" for=\"c8bedf4b-75f0-4b74-80b4-0667bed4a43a\">StandardScaler</label><div class=\"sk-toggleable__content\"><pre>StandardScaler()</pre></div></div></div><div class=\"sk-item\"><div class=\"sk-estimator sk-toggleable\"><input class=\"sk-toggleable__control sk-hidden--visually\" id=\"58ecce29-7d77-4bf9-ae5d-787254ca8bbd\" type=\"checkbox\" ><label class=\"sk-toggleable__label\" for=\"58ecce29-7d77-4bf9-ae5d-787254ca8bbd\">SelectKBest</label><div class=\"sk-toggleable__content\"><pre>SelectKBest(k='all')</pre></div></div></div></div></div></div></div></div><div class=\"sk-parallel-item\"><div class=\"sk-item\"><div class=\"sk-label-container\"><div class=\"sk-label sk-toggleable\"><input class=\"sk-toggleable__control sk-hidden--visually\" id=\"7cd56629-db8a-4a13-8d9a-a92b6d873627\" type=\"checkbox\" ><label class=\"sk-toggleable__label\" for=\"7cd56629-db8a-4a13-8d9a-a92b6d873627\">categorical</label><div class=\"sk-toggleable__content\"><pre>['Getting up', 'God', 'Health', 'Borrowed stuff', 'Self-criticism', 'Elections', 'Number of friends', 'Spending on healthy eating', 'Music', 'Movies', 'Friends versus money', 'Changing the past']</pre></div></div></div><div class=\"sk-serial\"><div class=\"sk-item\"><div class=\"sk-serial\"><div class=\"sk-item\"><div class=\"sk-estimator sk-toggleable\"><input class=\"sk-toggleable__control sk-hidden--visually\" id=\"ff8600a0-1040-419d-80dc-465d43a8bcba\" type=\"checkbox\" ><label class=\"sk-toggleable__label\" for=\"ff8600a0-1040-419d-80dc-465d43a8bcba\">SimpleImputer</label><div class=\"sk-toggleable__content\"><pre>SimpleImputer()</pre></div></div></div><div class=\"sk-item\"><div class=\"sk-estimator sk-toggleable\"><input class=\"sk-toggleable__control sk-hidden--visually\" id=\"a9c79692-05b2-43e9-b064-d7d2812c607f\" type=\"checkbox\" ><label class=\"sk-toggleable__label\" for=\"a9c79692-05b2-43e9-b064-d7d2812c607f\">OneHotEncoder</label><div class=\"sk-toggleable__content\"><pre>OneHotEncoder(handle_unknown='ignore')</pre></div></div></div></div></div></div></div></div></div></div></div></div><div class=\"sk-item\"><div class=\"sk-estimator sk-toggleable\"><input class=\"sk-toggleable__control sk-hidden--visually\" id=\"54842740-1cae-44bd-b97b-fa8fe9b650c7\" type=\"checkbox\" ><label class=\"sk-toggleable__label\" for=\"54842740-1cae-44bd-b97b-fa8fe9b650c7\">XGBClassifier</label><div class=\"sk-toggleable__content\"><pre>XGBClassifier(base_score=None, booster=None, colsample_bylevel=None,\n",
       "              colsample_bynode=None, colsample_bytree=None, gamma=None,\n",
       "              gpu_id=None, importance_type='gain', interaction_constraints=None,\n",
       "              learning_rate=None, max_delta_step=None, max_depth=None,\n",
       "              min_child_weight=None, missing=nan, monotone_constraints=None,\n",
       "              n_estimators=100, n_jobs=None, num_parallel_tree=None,\n",
       "              random_state=None, reg_alpha=None, reg_lambda=None,\n",
       "              scale_pos_weight=None, subsample=None, tree_method=None,\n",
       "              validate_parameters=None, verbosity=None)</pre></div></div></div></div></div></div></div></div></div></div><div class=\"sk-item\"><div class=\"sk-estimator sk-toggleable\"><input class=\"sk-toggleable__control sk-hidden--visually\" id=\"46b1dcc8-bc2e-459a-b19b-3270f2239214\" type=\"checkbox\" ><label class=\"sk-toggleable__label\" for=\"46b1dcc8-bc2e-459a-b19b-3270f2239214\">LogisticRegression</label><div class=\"sk-toggleable__content\"><pre>LogisticRegression(n_jobs=-1, verbose=True)</pre></div></div></div></div></div></div></div></div></div>"
      ],
      "text/plain": [
       "StackingClassifier(estimators=[('SVM',\n",
       "                                Pipeline(steps=[('pipeline',\n",
       "                                                 Pipeline(steps=[('data_transformer',\n",
       "                                                                  ColumnTransformer(transformers=[('numerical',\n",
       "                                                                                                   Pipeline(steps=[('imputer',\n",
       "                                                                                                                    SimpleImputer()),\n",
       "                                                                                                                   ('scaler',\n",
       "                                                                                                                    StandardScaler()),\n",
       "                                                                                                                   ('fs',\n",
       "                                                                                                                    SelectKBest(k='all'))]),\n",
       "                                                                                                   ['Age',\n",
       "                                                                                                    'Height',\n",
       "                                                                                                    'Weight']),\n",
       "                                                                                                  ('categorical',\n",
       "                                                                                                   Pipeline(steps=[('imputer',\n",
       "                                                                                                                    SimpleImputer()),\n",
       "                                                                                                                   ('onehot',\n",
       "                                                                                                                    OneHo...\n",
       "                                                               max_depth=None,\n",
       "                                                               min_child_weight=None,\n",
       "                                                               missing=nan,\n",
       "                                                               monotone_constraints=None,\n",
       "                                                               n_estimators=100,\n",
       "                                                               n_jobs=None,\n",
       "                                                               num_parallel_tree=None,\n",
       "                                                               random_state=None,\n",
       "                                                               reg_alpha=None,\n",
       "                                                               reg_lambda=None,\n",
       "                                                               scale_pos_weight=None,\n",
       "                                                               subsample=None,\n",
       "                                                               tree_method=None,\n",
       "                                                               validate_parameters=None,\n",
       "                                                               verbosity=None))]))],\n",
       "                   final_estimator=LogisticRegression(n_jobs=-1, verbose=True),\n",
       "                   n_jobs=-1, verbose=True)"
      ]
     },
     "execution_count": 53,
     "metadata": {},
     "output_type": "execute_result"
    }
   ],
   "source": [
    "from sklearn.decomposition import PCA\n",
    "\n",
    "# получим список эстиматоров\n",
    "estimators = [\n",
    "    (\"SVM\", make_pipeline(preprocessor, PCA(), LinearSVC())),\n",
    "    (\"Random_Forest\", make_pipeline(preprocessor, RandomForestClassifier())),\n",
    "    (\"Xgboost\", make_pipeline(preprocessor, xgboost.XGBClassifier())),\n",
    "]\n",
    "\n",
    "# построим классификатор используя стекинг и наш список классификаторов\n",
    "stacking_classifier = StackingClassifier(\n",
    "    estimators=estimators,\n",
    "    final_estimator=LogisticRegression(n_jobs=-1, verbose=True),\n",
    "    n_jobs=-1,\n",
    "    verbose=True,\n",
    ")\n",
    "\n",
    "stacking_classifier"
   ]
  },
  {
   "cell_type": "code",
   "execution_count": null,
   "metadata": {},
   "outputs": [],
   "source": []
  },
  {
   "cell_type": "code",
   "execution_count": null,
   "metadata": {},
   "outputs": [],
   "source": []
  },
  {
   "cell_type": "code",
   "execution_count": null,
   "metadata": {},
   "outputs": [],
   "source": []
  },
  {
   "cell_type": "code",
   "execution_count": null,
   "metadata": {},
   "outputs": [],
   "source": []
  },
  {
   "cell_type": "code",
   "execution_count": null,
   "metadata": {},
   "outputs": [],
   "source": []
  },
  {
   "cell_type": "code",
   "execution_count": null,
   "metadata": {},
   "outputs": [],
   "source": []
  },
  {
   "cell_type": "markdown",
   "metadata": {},
   "source": [
    "# А сколько всего кода было написано?"
   ]
  },
  {
   "cell_type": "code",
   "execution_count": 54,
   "metadata": {
    "ExecuteTime": {
     "end_time": "2022-04-18T19:11:34.836913Z",
     "start_time": "2022-04-18T19:11:34.822913Z"
    }
   },
   "outputs": [],
   "source": [
    "numerical_transformer = Pipeline(steps=[\n",
    "    (\"imputer\", SimpleImputer()),\n",
    "    (\"scaler\", StandardScaler()),\n",
    "    (\"feature_selector\", SelectKBest(score_func=f_classif, k=\"all\"))])\n",
    "\n",
    "categorical_transformer = Pipeline(steps=[\n",
    "    (\"imputer\", SimpleImputer()),\n",
    "    (\"onehot\", OneHotEncoder(handle_unknown=\"ignore\"))])\n",
    "\n",
    "data_transformer = ColumnTransformer(transformers=[\n",
    "    (\"numerical\", numerical_transformer, numerical_features),\n",
    "    (\"categorical\", categorical_transformer, categorical_features)])\n",
    "\n",
    "preprocessor = Pipeline(steps=[(\"data_transformer\", data_transformer)])\n",
    "\n",
    "estimators = [\n",
    "    (\"SVM\", make_pipeline(preprocessor, LinearSVC())),\n",
    "    (\"Random_Forest\", make_pipeline(preprocessor, RandomForestClassifier(n_jobs=-1))),\n",
    "    (\"xgboost\", make_pipeline(preprocessor, xgboost.XGBClassifier(n_jobs=-1)))]\n",
    "\n",
    "stacking_classifier = StackingClassifier(\n",
    "    estimators=estimators,\n",
    "    final_estimator=LogisticRegression(n_jobs=-1, verbose=True),\n",
    "    n_jobs=-1,\n",
    "    verbose=True,\n",
    ")"
   ]
  },
  {
   "cell_type": "code",
   "execution_count": 55,
   "metadata": {
    "ExecuteTime": {
     "end_time": "2022-04-18T19:11:35.667261Z",
     "start_time": "2022-04-18T19:11:34.837915Z"
    }
   },
   "outputs": [
    {
     "data": {
      "text/html": [
       "<style>#sk-ff236cff-8737-44f0-91b7-b8a74e9e58f8 {color: black;background-color: white;}#sk-ff236cff-8737-44f0-91b7-b8a74e9e58f8 pre{padding: 0;}#sk-ff236cff-8737-44f0-91b7-b8a74e9e58f8 div.sk-toggleable {background-color: white;}#sk-ff236cff-8737-44f0-91b7-b8a74e9e58f8 label.sk-toggleable__label {cursor: pointer;display: block;width: 100%;margin-bottom: 0;padding: 0.2em 0.3em;box-sizing: border-box;text-align: center;}#sk-ff236cff-8737-44f0-91b7-b8a74e9e58f8 div.sk-toggleable__content {max-height: 0;max-width: 0;overflow: hidden;text-align: left;background-color: #f0f8ff;}#sk-ff236cff-8737-44f0-91b7-b8a74e9e58f8 div.sk-toggleable__content pre {margin: 0.2em;color: black;border-radius: 0.25em;background-color: #f0f8ff;}#sk-ff236cff-8737-44f0-91b7-b8a74e9e58f8 input.sk-toggleable__control:checked~div.sk-toggleable__content {max-height: 200px;max-width: 100%;overflow: auto;}#sk-ff236cff-8737-44f0-91b7-b8a74e9e58f8 div.sk-estimator input.sk-toggleable__control:checked~label.sk-toggleable__label {background-color: #d4ebff;}#sk-ff236cff-8737-44f0-91b7-b8a74e9e58f8 div.sk-label input.sk-toggleable__control:checked~label.sk-toggleable__label {background-color: #d4ebff;}#sk-ff236cff-8737-44f0-91b7-b8a74e9e58f8 input.sk-hidden--visually {border: 0;clip: rect(1px 1px 1px 1px);clip: rect(1px, 1px, 1px, 1px);height: 1px;margin: -1px;overflow: hidden;padding: 0;position: absolute;width: 1px;}#sk-ff236cff-8737-44f0-91b7-b8a74e9e58f8 div.sk-estimator {font-family: monospace;background-color: #f0f8ff;margin: 0.25em 0.25em;border: 1px dotted black;border-radius: 0.25em;box-sizing: border-box;}#sk-ff236cff-8737-44f0-91b7-b8a74e9e58f8 div.sk-estimator:hover {background-color: #d4ebff;}#sk-ff236cff-8737-44f0-91b7-b8a74e9e58f8 div.sk-parallel-item::after {content: \"\";width: 100%;border-bottom: 1px solid gray;flex-grow: 1;}#sk-ff236cff-8737-44f0-91b7-b8a74e9e58f8 div.sk-label:hover label.sk-toggleable__label {background-color: #d4ebff;}#sk-ff236cff-8737-44f0-91b7-b8a74e9e58f8 div.sk-serial::before {content: \"\";position: absolute;border-left: 1px solid gray;box-sizing: border-box;top: 2em;bottom: 0;left: 50%;}#sk-ff236cff-8737-44f0-91b7-b8a74e9e58f8 div.sk-serial {display: flex;flex-direction: column;align-items: center;background-color: white;}#sk-ff236cff-8737-44f0-91b7-b8a74e9e58f8 div.sk-item {z-index: 1;}#sk-ff236cff-8737-44f0-91b7-b8a74e9e58f8 div.sk-parallel {display: flex;align-items: stretch;justify-content: center;background-color: white;}#sk-ff236cff-8737-44f0-91b7-b8a74e9e58f8 div.sk-parallel-item {display: flex;flex-direction: column;position: relative;background-color: white;}#sk-ff236cff-8737-44f0-91b7-b8a74e9e58f8 div.sk-parallel-item:first-child::after {align-self: flex-end;width: 50%;}#sk-ff236cff-8737-44f0-91b7-b8a74e9e58f8 div.sk-parallel-item:last-child::after {align-self: flex-start;width: 50%;}#sk-ff236cff-8737-44f0-91b7-b8a74e9e58f8 div.sk-parallel-item:only-child::after {width: 0;}#sk-ff236cff-8737-44f0-91b7-b8a74e9e58f8 div.sk-dashed-wrapped {border: 1px dashed gray;margin: 0.2em;box-sizing: border-box;padding-bottom: 0.1em;background-color: white;position: relative;}#sk-ff236cff-8737-44f0-91b7-b8a74e9e58f8 div.sk-label label {font-family: monospace;font-weight: bold;background-color: white;display: inline-block;line-height: 1.2em;}#sk-ff236cff-8737-44f0-91b7-b8a74e9e58f8 div.sk-label-container {position: relative;z-index: 2;text-align: center;}#sk-ff236cff-8737-44f0-91b7-b8a74e9e58f8 div.sk-container {display: inline-block;position: relative;}</style><div id=\"sk-ff236cff-8737-44f0-91b7-b8a74e9e58f8\" class\"sk-top-container\"><div class=\"sk-container\"><div class=\"sk-item sk-dashed-wrapped\"><div class=\"sk-label-container\"><div class=\"sk-label sk-toggleable\"><input class=\"sk-toggleable__control sk-hidden--visually\" id=\"d1b1dbe8-90e8-4e31-a577-c56c1b06ddfa\" type=\"checkbox\" ><label class=\"sk-toggleable__label\" for=\"d1b1dbe8-90e8-4e31-a577-c56c1b06ddfa\">StackingClassifier</label><div class=\"sk-toggleable__content\"><pre>StackingClassifier(estimators=[('SVM',\n",
       "                                Pipeline(steps=[('pipeline',\n",
       "                                                 Pipeline(steps=[('data_transformer',\n",
       "                                                                  ColumnTransformer(transformers=[('numerical',\n",
       "                                                                                                   Pipeline(steps=[('imputer',\n",
       "                                                                                                                    SimpleImputer()),\n",
       "                                                                                                                   ('scaler',\n",
       "                                                                                                                    StandardScaler()),\n",
       "                                                                                                                   ('feature_selector',\n",
       "                                                                                                                    SelectKBest(k='all'))]),\n",
       "                                                                                                   ['Age',\n",
       "                                                                                                    'Height',\n",
       "                                                                                                    'Weight']),\n",
       "                                                                                                  ('categorical',\n",
       "                                                                                                   Pipeline(steps=[('imputer',\n",
       "                                                                                                                    SimpleImputer()),\n",
       "                                                                                                                   (...\n",
       "                                                               max_depth=None,\n",
       "                                                               min_child_weight=None,\n",
       "                                                               missing=nan,\n",
       "                                                               monotone_constraints=None,\n",
       "                                                               n_estimators=100,\n",
       "                                                               n_jobs=-1,\n",
       "                                                               num_parallel_tree=None,\n",
       "                                                               random_state=None,\n",
       "                                                               reg_alpha=None,\n",
       "                                                               reg_lambda=None,\n",
       "                                                               scale_pos_weight=None,\n",
       "                                                               subsample=None,\n",
       "                                                               tree_method=None,\n",
       "                                                               validate_parameters=None,\n",
       "                                                               verbosity=None))]))],\n",
       "                   final_estimator=LogisticRegression(n_jobs=-1, verbose=True),\n",
       "                   n_jobs=-1, verbose=True)</pre></div></div></div><div class=\"sk-serial\"><div class=\"sk-item\"><div class=\"sk-serial\"><div class=\"sk-item\"><div class=\"sk-parallel\"><div class=\"sk-parallel-item\"><div class=\"sk-item\"><div class=\"sk-label-container\"><div class=\"sk-label sk-toggleable\"><label>SVM</label></div></div><div class=\"sk-serial\"><div class=\"sk-item\"><div class=\"sk-serial\"><div class=\"sk-item\"><div class=\"sk-label-container\"><div class=\"sk-label sk-toggleable\"><input class=\"sk-toggleable__control sk-hidden--visually\" id=\"fdb66e2b-7cae-4b88-a0fd-528e4acc92b2\" type=\"checkbox\" ><label class=\"sk-toggleable__label\" for=\"fdb66e2b-7cae-4b88-a0fd-528e4acc92b2\">pipeline: Pipeline</label><div class=\"sk-toggleable__content\"><pre>Pipeline(steps=[('data_transformer',\n",
       "                 ColumnTransformer(transformers=[('numerical',\n",
       "                                                  Pipeline(steps=[('imputer',\n",
       "                                                                   SimpleImputer()),\n",
       "                                                                  ('scaler',\n",
       "                                                                   StandardScaler()),\n",
       "                                                                  ('feature_selector',\n",
       "                                                                   SelectKBest(k='all'))]),\n",
       "                                                  ['Age', 'Height', 'Weight']),\n",
       "                                                 ('categorical',\n",
       "                                                  Pipeline(steps=[('imputer',\n",
       "                                                                   SimpleImputer()),\n",
       "                                                                  ('onehot',\n",
       "                                                                   OneHotEncoder(handle_unknown='ignore'))]),\n",
       "                                                  ['Getting up', 'God',\n",
       "                                                   'Health', 'Borrowed stuff',\n",
       "                                                   'Self-criticism',\n",
       "                                                   'Elections',\n",
       "                                                   'Number of friends',\n",
       "                                                   'Spending on healthy eating',\n",
       "                                                   'Music', 'Movies',\n",
       "                                                   'Friends versus money',\n",
       "                                                   'Changing the past'])]))])</pre></div></div></div><div class=\"sk-serial\"><div class=\"sk-item sk-dashed-wrapped\"><div class=\"sk-label-container\"><div class=\"sk-label sk-toggleable\"><input class=\"sk-toggleable__control sk-hidden--visually\" id=\"9a575e38-d823-49bd-89c9-2862bb9aa305\" type=\"checkbox\" ><label class=\"sk-toggleable__label\" for=\"9a575e38-d823-49bd-89c9-2862bb9aa305\">data_transformer: ColumnTransformer</label><div class=\"sk-toggleable__content\"><pre>ColumnTransformer(transformers=[('numerical',\n",
       "                                 Pipeline(steps=[('imputer', SimpleImputer()),\n",
       "                                                 ('scaler', StandardScaler()),\n",
       "                                                 ('feature_selector',\n",
       "                                                  SelectKBest(k='all'))]),\n",
       "                                 ['Age', 'Height', 'Weight']),\n",
       "                                ('categorical',\n",
       "                                 Pipeline(steps=[('imputer', SimpleImputer()),\n",
       "                                                 ('onehot',\n",
       "                                                  OneHotEncoder(handle_unknown='ignore'))]),\n",
       "                                 ['Getting up', 'God', 'Health',\n",
       "                                  'Borrowed stuff', 'Self-criticism',\n",
       "                                  'Elections', 'Number of friends',\n",
       "                                  'Spending on healthy eating', 'Music',\n",
       "                                  'Movies', 'Friends versus money',\n",
       "                                  'Changing the past'])])</pre></div></div></div><div class=\"sk-parallel\"><div class=\"sk-parallel-item\"><div class=\"sk-item\"><div class=\"sk-label-container\"><div class=\"sk-label sk-toggleable\"><input class=\"sk-toggleable__control sk-hidden--visually\" id=\"c2d59470-d66f-48f1-b07f-0c542a49a0ca\" type=\"checkbox\" ><label class=\"sk-toggleable__label\" for=\"c2d59470-d66f-48f1-b07f-0c542a49a0ca\">numerical</label><div class=\"sk-toggleable__content\"><pre>['Age', 'Height', 'Weight']</pre></div></div></div><div class=\"sk-serial\"><div class=\"sk-item\"><div class=\"sk-serial\"><div class=\"sk-item\"><div class=\"sk-estimator sk-toggleable\"><input class=\"sk-toggleable__control sk-hidden--visually\" id=\"ce2939e7-28ad-49fb-a7e0-806ab33b7ec8\" type=\"checkbox\" ><label class=\"sk-toggleable__label\" for=\"ce2939e7-28ad-49fb-a7e0-806ab33b7ec8\">SimpleImputer</label><div class=\"sk-toggleable__content\"><pre>SimpleImputer()</pre></div></div></div><div class=\"sk-item\"><div class=\"sk-estimator sk-toggleable\"><input class=\"sk-toggleable__control sk-hidden--visually\" id=\"169a358e-1ead-407c-bb55-603e0c361c60\" type=\"checkbox\" ><label class=\"sk-toggleable__label\" for=\"169a358e-1ead-407c-bb55-603e0c361c60\">StandardScaler</label><div class=\"sk-toggleable__content\"><pre>StandardScaler()</pre></div></div></div><div class=\"sk-item\"><div class=\"sk-estimator sk-toggleable\"><input class=\"sk-toggleable__control sk-hidden--visually\" id=\"89309622-db19-44ce-b82b-5143abc7f1dd\" type=\"checkbox\" ><label class=\"sk-toggleable__label\" for=\"89309622-db19-44ce-b82b-5143abc7f1dd\">SelectKBest</label><div class=\"sk-toggleable__content\"><pre>SelectKBest(k='all')</pre></div></div></div></div></div></div></div></div><div class=\"sk-parallel-item\"><div class=\"sk-item\"><div class=\"sk-label-container\"><div class=\"sk-label sk-toggleable\"><input class=\"sk-toggleable__control sk-hidden--visually\" id=\"cb27b3ed-ff61-4fef-8a5c-dd66f92e63dd\" type=\"checkbox\" ><label class=\"sk-toggleable__label\" for=\"cb27b3ed-ff61-4fef-8a5c-dd66f92e63dd\">categorical</label><div class=\"sk-toggleable__content\"><pre>['Getting up', 'God', 'Health', 'Borrowed stuff', 'Self-criticism', 'Elections', 'Number of friends', 'Spending on healthy eating', 'Music', 'Movies', 'Friends versus money', 'Changing the past']</pre></div></div></div><div class=\"sk-serial\"><div class=\"sk-item\"><div class=\"sk-serial\"><div class=\"sk-item\"><div class=\"sk-estimator sk-toggleable\"><input class=\"sk-toggleable__control sk-hidden--visually\" id=\"e241345e-e752-4d6d-9781-98ce5a647c1a\" type=\"checkbox\" ><label class=\"sk-toggleable__label\" for=\"e241345e-e752-4d6d-9781-98ce5a647c1a\">SimpleImputer</label><div class=\"sk-toggleable__content\"><pre>SimpleImputer()</pre></div></div></div><div class=\"sk-item\"><div class=\"sk-estimator sk-toggleable\"><input class=\"sk-toggleable__control sk-hidden--visually\" id=\"0ce078ff-f89d-4df2-bf00-8130d51369da\" type=\"checkbox\" ><label class=\"sk-toggleable__label\" for=\"0ce078ff-f89d-4df2-bf00-8130d51369da\">OneHotEncoder</label><div class=\"sk-toggleable__content\"><pre>OneHotEncoder(handle_unknown='ignore')</pre></div></div></div></div></div></div></div></div></div></div></div></div><div class=\"sk-item\"><div class=\"sk-estimator sk-toggleable\"><input class=\"sk-toggleable__control sk-hidden--visually\" id=\"e68375a1-6272-4ab2-b2a4-f073d70edffe\" type=\"checkbox\" ><label class=\"sk-toggleable__label\" for=\"e68375a1-6272-4ab2-b2a4-f073d70edffe\">LinearSVC</label><div class=\"sk-toggleable__content\"><pre>LinearSVC()</pre></div></div></div></div></div></div></div></div><div class=\"sk-parallel-item\"><div class=\"sk-item\"><div class=\"sk-label-container\"><div class=\"sk-label sk-toggleable\"><label>Random_Forest</label></div></div><div class=\"sk-serial\"><div class=\"sk-item\"><div class=\"sk-serial\"><div class=\"sk-item\"><div class=\"sk-label-container\"><div class=\"sk-label sk-toggleable\"><input class=\"sk-toggleable__control sk-hidden--visually\" id=\"e4be6153-ad69-44ab-99d7-67f47e6f34e8\" type=\"checkbox\" ><label class=\"sk-toggleable__label\" for=\"e4be6153-ad69-44ab-99d7-67f47e6f34e8\">pipeline: Pipeline</label><div class=\"sk-toggleable__content\"><pre>Pipeline(steps=[('data_transformer',\n",
       "                 ColumnTransformer(transformers=[('numerical',\n",
       "                                                  Pipeline(steps=[('imputer',\n",
       "                                                                   SimpleImputer()),\n",
       "                                                                  ('scaler',\n",
       "                                                                   StandardScaler()),\n",
       "                                                                  ('feature_selector',\n",
       "                                                                   SelectKBest(k='all'))]),\n",
       "                                                  ['Age', 'Height', 'Weight']),\n",
       "                                                 ('categorical',\n",
       "                                                  Pipeline(steps=[('imputer',\n",
       "                                                                   SimpleImputer()),\n",
       "                                                                  ('onehot',\n",
       "                                                                   OneHotEncoder(handle_unknown='ignore'))]),\n",
       "                                                  ['Getting up', 'God',\n",
       "                                                   'Health', 'Borrowed stuff',\n",
       "                                                   'Self-criticism',\n",
       "                                                   'Elections',\n",
       "                                                   'Number of friends',\n",
       "                                                   'Spending on healthy eating',\n",
       "                                                   'Music', 'Movies',\n",
       "                                                   'Friends versus money',\n",
       "                                                   'Changing the past'])]))])</pre></div></div></div><div class=\"sk-serial\"><div class=\"sk-item sk-dashed-wrapped\"><div class=\"sk-label-container\"><div class=\"sk-label sk-toggleable\"><input class=\"sk-toggleable__control sk-hidden--visually\" id=\"06c78538-3289-480f-bd6c-8f0a4403b163\" type=\"checkbox\" ><label class=\"sk-toggleable__label\" for=\"06c78538-3289-480f-bd6c-8f0a4403b163\">data_transformer: ColumnTransformer</label><div class=\"sk-toggleable__content\"><pre>ColumnTransformer(transformers=[('numerical',\n",
       "                                 Pipeline(steps=[('imputer', SimpleImputer()),\n",
       "                                                 ('scaler', StandardScaler()),\n",
       "                                                 ('feature_selector',\n",
       "                                                  SelectKBest(k='all'))]),\n",
       "                                 ['Age', 'Height', 'Weight']),\n",
       "                                ('categorical',\n",
       "                                 Pipeline(steps=[('imputer', SimpleImputer()),\n",
       "                                                 ('onehot',\n",
       "                                                  OneHotEncoder(handle_unknown='ignore'))]),\n",
       "                                 ['Getting up', 'God', 'Health',\n",
       "                                  'Borrowed stuff', 'Self-criticism',\n",
       "                                  'Elections', 'Number of friends',\n",
       "                                  'Spending on healthy eating', 'Music',\n",
       "                                  'Movies', 'Friends versus money',\n",
       "                                  'Changing the past'])])</pre></div></div></div><div class=\"sk-parallel\"><div class=\"sk-parallel-item\"><div class=\"sk-item\"><div class=\"sk-label-container\"><div class=\"sk-label sk-toggleable\"><input class=\"sk-toggleable__control sk-hidden--visually\" id=\"a2548a55-b2d9-4f5f-95b7-7b00266a437b\" type=\"checkbox\" ><label class=\"sk-toggleable__label\" for=\"a2548a55-b2d9-4f5f-95b7-7b00266a437b\">numerical</label><div class=\"sk-toggleable__content\"><pre>['Age', 'Height', 'Weight']</pre></div></div></div><div class=\"sk-serial\"><div class=\"sk-item\"><div class=\"sk-serial\"><div class=\"sk-item\"><div class=\"sk-estimator sk-toggleable\"><input class=\"sk-toggleable__control sk-hidden--visually\" id=\"699c0e2d-8ee8-4648-9d84-7eeecf91daf7\" type=\"checkbox\" ><label class=\"sk-toggleable__label\" for=\"699c0e2d-8ee8-4648-9d84-7eeecf91daf7\">SimpleImputer</label><div class=\"sk-toggleable__content\"><pre>SimpleImputer()</pre></div></div></div><div class=\"sk-item\"><div class=\"sk-estimator sk-toggleable\"><input class=\"sk-toggleable__control sk-hidden--visually\" id=\"7a7c091e-5ee7-40d1-84ae-49ac40ea69c4\" type=\"checkbox\" ><label class=\"sk-toggleable__label\" for=\"7a7c091e-5ee7-40d1-84ae-49ac40ea69c4\">StandardScaler</label><div class=\"sk-toggleable__content\"><pre>StandardScaler()</pre></div></div></div><div class=\"sk-item\"><div class=\"sk-estimator sk-toggleable\"><input class=\"sk-toggleable__control sk-hidden--visually\" id=\"3338e006-6c09-4ae5-9ed0-d959354dc7dd\" type=\"checkbox\" ><label class=\"sk-toggleable__label\" for=\"3338e006-6c09-4ae5-9ed0-d959354dc7dd\">SelectKBest</label><div class=\"sk-toggleable__content\"><pre>SelectKBest(k='all')</pre></div></div></div></div></div></div></div></div><div class=\"sk-parallel-item\"><div class=\"sk-item\"><div class=\"sk-label-container\"><div class=\"sk-label sk-toggleable\"><input class=\"sk-toggleable__control sk-hidden--visually\" id=\"9f131d98-2387-4ef6-a0ff-d32d39b74cf6\" type=\"checkbox\" ><label class=\"sk-toggleable__label\" for=\"9f131d98-2387-4ef6-a0ff-d32d39b74cf6\">categorical</label><div class=\"sk-toggleable__content\"><pre>['Getting up', 'God', 'Health', 'Borrowed stuff', 'Self-criticism', 'Elections', 'Number of friends', 'Spending on healthy eating', 'Music', 'Movies', 'Friends versus money', 'Changing the past']</pre></div></div></div><div class=\"sk-serial\"><div class=\"sk-item\"><div class=\"sk-serial\"><div class=\"sk-item\"><div class=\"sk-estimator sk-toggleable\"><input class=\"sk-toggleable__control sk-hidden--visually\" id=\"1bc39bba-8771-4710-970b-7ee9fbd7cd43\" type=\"checkbox\" ><label class=\"sk-toggleable__label\" for=\"1bc39bba-8771-4710-970b-7ee9fbd7cd43\">SimpleImputer</label><div class=\"sk-toggleable__content\"><pre>SimpleImputer()</pre></div></div></div><div class=\"sk-item\"><div class=\"sk-estimator sk-toggleable\"><input class=\"sk-toggleable__control sk-hidden--visually\" id=\"5049b55c-1f86-4860-ad2b-c2473f1d14ff\" type=\"checkbox\" ><label class=\"sk-toggleable__label\" for=\"5049b55c-1f86-4860-ad2b-c2473f1d14ff\">OneHotEncoder</label><div class=\"sk-toggleable__content\"><pre>OneHotEncoder(handle_unknown='ignore')</pre></div></div></div></div></div></div></div></div></div></div></div></div><div class=\"sk-item\"><div class=\"sk-estimator sk-toggleable\"><input class=\"sk-toggleable__control sk-hidden--visually\" id=\"59e0dd84-bc42-461a-a43b-e6792ebd4582\" type=\"checkbox\" ><label class=\"sk-toggleable__label\" for=\"59e0dd84-bc42-461a-a43b-e6792ebd4582\">RandomForestClassifier</label><div class=\"sk-toggleable__content\"><pre>RandomForestClassifier(n_jobs=-1)</pre></div></div></div></div></div></div></div></div><div class=\"sk-parallel-item\"><div class=\"sk-item\"><div class=\"sk-label-container\"><div class=\"sk-label sk-toggleable\"><label>xgboost</label></div></div><div class=\"sk-serial\"><div class=\"sk-item\"><div class=\"sk-serial\"><div class=\"sk-item\"><div class=\"sk-label-container\"><div class=\"sk-label sk-toggleable\"><input class=\"sk-toggleable__control sk-hidden--visually\" id=\"32c659db-f3df-47ab-ad42-7c9afaa51dbb\" type=\"checkbox\" ><label class=\"sk-toggleable__label\" for=\"32c659db-f3df-47ab-ad42-7c9afaa51dbb\">pipeline: Pipeline</label><div class=\"sk-toggleable__content\"><pre>Pipeline(steps=[('data_transformer',\n",
       "                 ColumnTransformer(transformers=[('numerical',\n",
       "                                                  Pipeline(steps=[('imputer',\n",
       "                                                                   SimpleImputer()),\n",
       "                                                                  ('scaler',\n",
       "                                                                   StandardScaler()),\n",
       "                                                                  ('feature_selector',\n",
       "                                                                   SelectKBest(k='all'))]),\n",
       "                                                  ['Age', 'Height', 'Weight']),\n",
       "                                                 ('categorical',\n",
       "                                                  Pipeline(steps=[('imputer',\n",
       "                                                                   SimpleImputer()),\n",
       "                                                                  ('onehot',\n",
       "                                                                   OneHotEncoder(handle_unknown='ignore'))]),\n",
       "                                                  ['Getting up', 'God',\n",
       "                                                   'Health', 'Borrowed stuff',\n",
       "                                                   'Self-criticism',\n",
       "                                                   'Elections',\n",
       "                                                   'Number of friends',\n",
       "                                                   'Spending on healthy eating',\n",
       "                                                   'Music', 'Movies',\n",
       "                                                   'Friends versus money',\n",
       "                                                   'Changing the past'])]))])</pre></div></div></div><div class=\"sk-serial\"><div class=\"sk-item sk-dashed-wrapped\"><div class=\"sk-label-container\"><div class=\"sk-label sk-toggleable\"><input class=\"sk-toggleable__control sk-hidden--visually\" id=\"f6e7e2cf-11e5-45a5-bb9b-e3784ddbf73c\" type=\"checkbox\" ><label class=\"sk-toggleable__label\" for=\"f6e7e2cf-11e5-45a5-bb9b-e3784ddbf73c\">data_transformer: ColumnTransformer</label><div class=\"sk-toggleable__content\"><pre>ColumnTransformer(transformers=[('numerical',\n",
       "                                 Pipeline(steps=[('imputer', SimpleImputer()),\n",
       "                                                 ('scaler', StandardScaler()),\n",
       "                                                 ('feature_selector',\n",
       "                                                  SelectKBest(k='all'))]),\n",
       "                                 ['Age', 'Height', 'Weight']),\n",
       "                                ('categorical',\n",
       "                                 Pipeline(steps=[('imputer', SimpleImputer()),\n",
       "                                                 ('onehot',\n",
       "                                                  OneHotEncoder(handle_unknown='ignore'))]),\n",
       "                                 ['Getting up', 'God', 'Health',\n",
       "                                  'Borrowed stuff', 'Self-criticism',\n",
       "                                  'Elections', 'Number of friends',\n",
       "                                  'Spending on healthy eating', 'Music',\n",
       "                                  'Movies', 'Friends versus money',\n",
       "                                  'Changing the past'])])</pre></div></div></div><div class=\"sk-parallel\"><div class=\"sk-parallel-item\"><div class=\"sk-item\"><div class=\"sk-label-container\"><div class=\"sk-label sk-toggleable\"><input class=\"sk-toggleable__control sk-hidden--visually\" id=\"563264c6-e038-45f7-88bf-a8978216e693\" type=\"checkbox\" ><label class=\"sk-toggleable__label\" for=\"563264c6-e038-45f7-88bf-a8978216e693\">numerical</label><div class=\"sk-toggleable__content\"><pre>['Age', 'Height', 'Weight']</pre></div></div></div><div class=\"sk-serial\"><div class=\"sk-item\"><div class=\"sk-serial\"><div class=\"sk-item\"><div class=\"sk-estimator sk-toggleable\"><input class=\"sk-toggleable__control sk-hidden--visually\" id=\"0ccd30ba-2ce0-430a-aa4c-c86795c0cf91\" type=\"checkbox\" ><label class=\"sk-toggleable__label\" for=\"0ccd30ba-2ce0-430a-aa4c-c86795c0cf91\">SimpleImputer</label><div class=\"sk-toggleable__content\"><pre>SimpleImputer()</pre></div></div></div><div class=\"sk-item\"><div class=\"sk-estimator sk-toggleable\"><input class=\"sk-toggleable__control sk-hidden--visually\" id=\"ec1051ce-caec-4614-8819-7b71be4cdd78\" type=\"checkbox\" ><label class=\"sk-toggleable__label\" for=\"ec1051ce-caec-4614-8819-7b71be4cdd78\">StandardScaler</label><div class=\"sk-toggleable__content\"><pre>StandardScaler()</pre></div></div></div><div class=\"sk-item\"><div class=\"sk-estimator sk-toggleable\"><input class=\"sk-toggleable__control sk-hidden--visually\" id=\"730e13e7-faa7-4c49-88c2-9c71d199e58b\" type=\"checkbox\" ><label class=\"sk-toggleable__label\" for=\"730e13e7-faa7-4c49-88c2-9c71d199e58b\">SelectKBest</label><div class=\"sk-toggleable__content\"><pre>SelectKBest(k='all')</pre></div></div></div></div></div></div></div></div><div class=\"sk-parallel-item\"><div class=\"sk-item\"><div class=\"sk-label-container\"><div class=\"sk-label sk-toggleable\"><input class=\"sk-toggleable__control sk-hidden--visually\" id=\"d23dd3a5-dc54-4817-b647-cc03a243563a\" type=\"checkbox\" ><label class=\"sk-toggleable__label\" for=\"d23dd3a5-dc54-4817-b647-cc03a243563a\">categorical</label><div class=\"sk-toggleable__content\"><pre>['Getting up', 'God', 'Health', 'Borrowed stuff', 'Self-criticism', 'Elections', 'Number of friends', 'Spending on healthy eating', 'Music', 'Movies', 'Friends versus money', 'Changing the past']</pre></div></div></div><div class=\"sk-serial\"><div class=\"sk-item\"><div class=\"sk-serial\"><div class=\"sk-item\"><div class=\"sk-estimator sk-toggleable\"><input class=\"sk-toggleable__control sk-hidden--visually\" id=\"8d3f61ca-32ba-4bc5-bd32-6c1a853450e2\" type=\"checkbox\" ><label class=\"sk-toggleable__label\" for=\"8d3f61ca-32ba-4bc5-bd32-6c1a853450e2\">SimpleImputer</label><div class=\"sk-toggleable__content\"><pre>SimpleImputer()</pre></div></div></div><div class=\"sk-item\"><div class=\"sk-estimator sk-toggleable\"><input class=\"sk-toggleable__control sk-hidden--visually\" id=\"ad25666a-0f19-4e07-aaa2-382b592998c3\" type=\"checkbox\" ><label class=\"sk-toggleable__label\" for=\"ad25666a-0f19-4e07-aaa2-382b592998c3\">OneHotEncoder</label><div class=\"sk-toggleable__content\"><pre>OneHotEncoder(handle_unknown='ignore')</pre></div></div></div></div></div></div></div></div></div></div></div></div><div class=\"sk-item\"><div class=\"sk-estimator sk-toggleable\"><input class=\"sk-toggleable__control sk-hidden--visually\" id=\"feff7577-8fd0-4ccd-bc1a-1edb799ab26d\" type=\"checkbox\" ><label class=\"sk-toggleable__label\" for=\"feff7577-8fd0-4ccd-bc1a-1edb799ab26d\">XGBClassifier</label><div class=\"sk-toggleable__content\"><pre>XGBClassifier(base_score=None, booster=None, colsample_bylevel=None,\n",
       "              colsample_bynode=None, colsample_bytree=None, gamma=None,\n",
       "              gpu_id=None, importance_type='gain', interaction_constraints=None,\n",
       "              learning_rate=None, max_delta_step=None, max_depth=None,\n",
       "              min_child_weight=None, missing=nan, monotone_constraints=None,\n",
       "              n_estimators=100, n_jobs=-1, num_parallel_tree=None,\n",
       "              random_state=None, reg_alpha=None, reg_lambda=None,\n",
       "              scale_pos_weight=None, subsample=None, tree_method=None,\n",
       "              validate_parameters=None, verbosity=None)</pre></div></div></div></div></div></div></div></div></div></div><div class=\"sk-item\"><div class=\"sk-estimator sk-toggleable\"><input class=\"sk-toggleable__control sk-hidden--visually\" id=\"b7928e0a-77cf-4042-9bbd-925f1cdba095\" type=\"checkbox\" ><label class=\"sk-toggleable__label\" for=\"b7928e0a-77cf-4042-9bbd-925f1cdba095\">LogisticRegression</label><div class=\"sk-toggleable__content\"><pre>LogisticRegression(n_jobs=-1, verbose=True)</pre></div></div></div></div></div></div></div></div></div>"
      ],
      "text/plain": [
       "StackingClassifier(estimators=[('SVM',\n",
       "                                Pipeline(steps=[('pipeline',\n",
       "                                                 Pipeline(steps=[('data_transformer',\n",
       "                                                                  ColumnTransformer(transformers=[('numerical',\n",
       "                                                                                                   Pipeline(steps=[('imputer',\n",
       "                                                                                                                    SimpleImputer()),\n",
       "                                                                                                                   ('scaler',\n",
       "                                                                                                                    StandardScaler()),\n",
       "                                                                                                                   ('feature_selector',\n",
       "                                                                                                                    SelectKBest(k='all'))]),\n",
       "                                                                                                   ['Age',\n",
       "                                                                                                    'Height',\n",
       "                                                                                                    'Weight']),\n",
       "                                                                                                  ('categorical',\n",
       "                                                                                                   Pipeline(steps=[('imputer',\n",
       "                                                                                                                    SimpleImputer()),\n",
       "                                                                                                                   (...\n",
       "                                                               max_depth=None,\n",
       "                                                               min_child_weight=None,\n",
       "                                                               missing=nan,\n",
       "                                                               monotone_constraints=None,\n",
       "                                                               n_estimators=100,\n",
       "                                                               n_jobs=-1,\n",
       "                                                               num_parallel_tree=None,\n",
       "                                                               random_state=None,\n",
       "                                                               reg_alpha=None,\n",
       "                                                               reg_lambda=None,\n",
       "                                                               scale_pos_weight=None,\n",
       "                                                               subsample=None,\n",
       "                                                               tree_method=None,\n",
       "                                                               validate_parameters=None,\n",
       "                                                               verbosity=None))]))],\n",
       "                   final_estimator=LogisticRegression(n_jobs=-1, verbose=True),\n",
       "                   n_jobs=-1, verbose=True)"
      ]
     },
     "execution_count": 55,
     "metadata": {},
     "output_type": "execute_result"
    }
   ],
   "source": [
    "stacking_classifier"
   ]
  },
  {
   "cell_type": "code",
   "execution_count": null,
   "metadata": {},
   "outputs": [],
   "source": []
  },
  {
   "cell_type": "code",
   "execution_count": null,
   "metadata": {},
   "outputs": [],
   "source": []
  },
  {
   "cell_type": "code",
   "execution_count": null,
   "metadata": {},
   "outputs": [],
   "source": []
  },
  {
   "cell_type": "code",
   "execution_count": null,
   "metadata": {},
   "outputs": [],
   "source": []
  },
  {
   "cell_type": "code",
   "execution_count": null,
   "metadata": {},
   "outputs": [],
   "source": []
  },
  {
   "cell_type": "markdown",
   "metadata": {},
   "source": [
    "# Обучении махины - Будет ли легко?"
   ]
  },
  {
   "cell_type": "code",
   "execution_count": 56,
   "metadata": {
    "ExecuteTime": {
     "end_time": "2022-04-18T19:11:39.555736Z",
     "start_time": "2022-04-18T19:11:35.667261Z"
    }
   },
   "outputs": [
    {
     "name": "stderr",
     "output_type": "stream",
     "text": [
      "[Parallel(n_jobs=-1)]: Using backend LokyBackend with 8 concurrent workers.\n",
      "[Parallel(n_jobs=-1)]: Done   1 out of   1 | elapsed:    0.0s finished\n"
     ]
    },
    {
     "data": {
      "text/html": [
       "<style>#sk-a155251e-ffee-4cfc-a686-336ef4217607 {color: black;background-color: white;}#sk-a155251e-ffee-4cfc-a686-336ef4217607 pre{padding: 0;}#sk-a155251e-ffee-4cfc-a686-336ef4217607 div.sk-toggleable {background-color: white;}#sk-a155251e-ffee-4cfc-a686-336ef4217607 label.sk-toggleable__label {cursor: pointer;display: block;width: 100%;margin-bottom: 0;padding: 0.2em 0.3em;box-sizing: border-box;text-align: center;}#sk-a155251e-ffee-4cfc-a686-336ef4217607 div.sk-toggleable__content {max-height: 0;max-width: 0;overflow: hidden;text-align: left;background-color: #f0f8ff;}#sk-a155251e-ffee-4cfc-a686-336ef4217607 div.sk-toggleable__content pre {margin: 0.2em;color: black;border-radius: 0.25em;background-color: #f0f8ff;}#sk-a155251e-ffee-4cfc-a686-336ef4217607 input.sk-toggleable__control:checked~div.sk-toggleable__content {max-height: 200px;max-width: 100%;overflow: auto;}#sk-a155251e-ffee-4cfc-a686-336ef4217607 div.sk-estimator input.sk-toggleable__control:checked~label.sk-toggleable__label {background-color: #d4ebff;}#sk-a155251e-ffee-4cfc-a686-336ef4217607 div.sk-label input.sk-toggleable__control:checked~label.sk-toggleable__label {background-color: #d4ebff;}#sk-a155251e-ffee-4cfc-a686-336ef4217607 input.sk-hidden--visually {border: 0;clip: rect(1px 1px 1px 1px);clip: rect(1px, 1px, 1px, 1px);height: 1px;margin: -1px;overflow: hidden;padding: 0;position: absolute;width: 1px;}#sk-a155251e-ffee-4cfc-a686-336ef4217607 div.sk-estimator {font-family: monospace;background-color: #f0f8ff;margin: 0.25em 0.25em;border: 1px dotted black;border-radius: 0.25em;box-sizing: border-box;}#sk-a155251e-ffee-4cfc-a686-336ef4217607 div.sk-estimator:hover {background-color: #d4ebff;}#sk-a155251e-ffee-4cfc-a686-336ef4217607 div.sk-parallel-item::after {content: \"\";width: 100%;border-bottom: 1px solid gray;flex-grow: 1;}#sk-a155251e-ffee-4cfc-a686-336ef4217607 div.sk-label:hover label.sk-toggleable__label {background-color: #d4ebff;}#sk-a155251e-ffee-4cfc-a686-336ef4217607 div.sk-serial::before {content: \"\";position: absolute;border-left: 1px solid gray;box-sizing: border-box;top: 2em;bottom: 0;left: 50%;}#sk-a155251e-ffee-4cfc-a686-336ef4217607 div.sk-serial {display: flex;flex-direction: column;align-items: center;background-color: white;}#sk-a155251e-ffee-4cfc-a686-336ef4217607 div.sk-item {z-index: 1;}#sk-a155251e-ffee-4cfc-a686-336ef4217607 div.sk-parallel {display: flex;align-items: stretch;justify-content: center;background-color: white;}#sk-a155251e-ffee-4cfc-a686-336ef4217607 div.sk-parallel-item {display: flex;flex-direction: column;position: relative;background-color: white;}#sk-a155251e-ffee-4cfc-a686-336ef4217607 div.sk-parallel-item:first-child::after {align-self: flex-end;width: 50%;}#sk-a155251e-ffee-4cfc-a686-336ef4217607 div.sk-parallel-item:last-child::after {align-self: flex-start;width: 50%;}#sk-a155251e-ffee-4cfc-a686-336ef4217607 div.sk-parallel-item:only-child::after {width: 0;}#sk-a155251e-ffee-4cfc-a686-336ef4217607 div.sk-dashed-wrapped {border: 1px dashed gray;margin: 0.2em;box-sizing: border-box;padding-bottom: 0.1em;background-color: white;position: relative;}#sk-a155251e-ffee-4cfc-a686-336ef4217607 div.sk-label label {font-family: monospace;font-weight: bold;background-color: white;display: inline-block;line-height: 1.2em;}#sk-a155251e-ffee-4cfc-a686-336ef4217607 div.sk-label-container {position: relative;z-index: 2;text-align: center;}#sk-a155251e-ffee-4cfc-a686-336ef4217607 div.sk-container {display: inline-block;position: relative;}</style><div id=\"sk-a155251e-ffee-4cfc-a686-336ef4217607\" class\"sk-top-container\"><div class=\"sk-container\"><div class=\"sk-item sk-dashed-wrapped\"><div class=\"sk-label-container\"><div class=\"sk-label sk-toggleable\"><input class=\"sk-toggleable__control sk-hidden--visually\" id=\"e9a3960c-1ded-49a4-9f24-4f570109f3f5\" type=\"checkbox\" ><label class=\"sk-toggleable__label\" for=\"e9a3960c-1ded-49a4-9f24-4f570109f3f5\">StackingClassifier</label><div class=\"sk-toggleable__content\"><pre>StackingClassifier(estimators=[('SVM',\n",
       "                                Pipeline(steps=[('pipeline',\n",
       "                                                 Pipeline(steps=[('data_transformer',\n",
       "                                                                  ColumnTransformer(transformers=[('numerical',\n",
       "                                                                                                   Pipeline(steps=[('imputer',\n",
       "                                                                                                                    SimpleImputer()),\n",
       "                                                                                                                   ('scaler',\n",
       "                                                                                                                    StandardScaler()),\n",
       "                                                                                                                   ('feature_selector',\n",
       "                                                                                                                    SelectKBest(k='all'))]),\n",
       "                                                                                                   ['Age',\n",
       "                                                                                                    'Height',\n",
       "                                                                                                    'Weight']),\n",
       "                                                                                                  ('categorical',\n",
       "                                                                                                   Pipeline(steps=[('imputer',\n",
       "                                                                                                                    SimpleImputer()),\n",
       "                                                                                                                   (...\n",
       "                                                               max_depth=None,\n",
       "                                                               min_child_weight=None,\n",
       "                                                               missing=nan,\n",
       "                                                               monotone_constraints=None,\n",
       "                                                               n_estimators=100,\n",
       "                                                               n_jobs=-1,\n",
       "                                                               num_parallel_tree=None,\n",
       "                                                               random_state=None,\n",
       "                                                               reg_alpha=None,\n",
       "                                                               reg_lambda=None,\n",
       "                                                               scale_pos_weight=None,\n",
       "                                                               subsample=None,\n",
       "                                                               tree_method=None,\n",
       "                                                               validate_parameters=None,\n",
       "                                                               verbosity=None))]))],\n",
       "                   final_estimator=LogisticRegression(n_jobs=-1, verbose=True),\n",
       "                   n_jobs=-1, verbose=True)</pre></div></div></div><div class=\"sk-serial\"><div class=\"sk-item\"><div class=\"sk-serial\"><div class=\"sk-item\"><div class=\"sk-parallel\"><div class=\"sk-parallel-item\"><div class=\"sk-item\"><div class=\"sk-label-container\"><div class=\"sk-label sk-toggleable\"><label>SVM</label></div></div><div class=\"sk-serial\"><div class=\"sk-item\"><div class=\"sk-serial\"><div class=\"sk-item\"><div class=\"sk-label-container\"><div class=\"sk-label sk-toggleable\"><input class=\"sk-toggleable__control sk-hidden--visually\" id=\"62c7843a-2cfc-4700-886d-60f8b1f56dc6\" type=\"checkbox\" ><label class=\"sk-toggleable__label\" for=\"62c7843a-2cfc-4700-886d-60f8b1f56dc6\">pipeline: Pipeline</label><div class=\"sk-toggleable__content\"><pre>Pipeline(steps=[('data_transformer',\n",
       "                 ColumnTransformer(transformers=[('numerical',\n",
       "                                                  Pipeline(steps=[('imputer',\n",
       "                                                                   SimpleImputer()),\n",
       "                                                                  ('scaler',\n",
       "                                                                   StandardScaler()),\n",
       "                                                                  ('feature_selector',\n",
       "                                                                   SelectKBest(k='all'))]),\n",
       "                                                  ['Age', 'Height', 'Weight']),\n",
       "                                                 ('categorical',\n",
       "                                                  Pipeline(steps=[('imputer',\n",
       "                                                                   SimpleImputer()),\n",
       "                                                                  ('onehot',\n",
       "                                                                   OneHotEncoder(handle_unknown='ignore'))]),\n",
       "                                                  ['Getting up', 'God',\n",
       "                                                   'Health', 'Borrowed stuff',\n",
       "                                                   'Self-criticism',\n",
       "                                                   'Elections',\n",
       "                                                   'Number of friends',\n",
       "                                                   'Spending on healthy eating',\n",
       "                                                   'Music', 'Movies',\n",
       "                                                   'Friends versus money',\n",
       "                                                   'Changing the past'])]))])</pre></div></div></div><div class=\"sk-serial\"><div class=\"sk-item sk-dashed-wrapped\"><div class=\"sk-label-container\"><div class=\"sk-label sk-toggleable\"><input class=\"sk-toggleable__control sk-hidden--visually\" id=\"eebf2e45-1399-496d-966f-a97cd948bbb2\" type=\"checkbox\" ><label class=\"sk-toggleable__label\" for=\"eebf2e45-1399-496d-966f-a97cd948bbb2\">data_transformer: ColumnTransformer</label><div class=\"sk-toggleable__content\"><pre>ColumnTransformer(transformers=[('numerical',\n",
       "                                 Pipeline(steps=[('imputer', SimpleImputer()),\n",
       "                                                 ('scaler', StandardScaler()),\n",
       "                                                 ('feature_selector',\n",
       "                                                  SelectKBest(k='all'))]),\n",
       "                                 ['Age', 'Height', 'Weight']),\n",
       "                                ('categorical',\n",
       "                                 Pipeline(steps=[('imputer', SimpleImputer()),\n",
       "                                                 ('onehot',\n",
       "                                                  OneHotEncoder(handle_unknown='ignore'))]),\n",
       "                                 ['Getting up', 'God', 'Health',\n",
       "                                  'Borrowed stuff', 'Self-criticism',\n",
       "                                  'Elections', 'Number of friends',\n",
       "                                  'Spending on healthy eating', 'Music',\n",
       "                                  'Movies', 'Friends versus money',\n",
       "                                  'Changing the past'])])</pre></div></div></div><div class=\"sk-parallel\"><div class=\"sk-parallel-item\"><div class=\"sk-item\"><div class=\"sk-label-container\"><div class=\"sk-label sk-toggleable\"><input class=\"sk-toggleable__control sk-hidden--visually\" id=\"a96aab07-12c7-42f9-b934-a70e8acf7856\" type=\"checkbox\" ><label class=\"sk-toggleable__label\" for=\"a96aab07-12c7-42f9-b934-a70e8acf7856\">numerical</label><div class=\"sk-toggleable__content\"><pre>['Age', 'Height', 'Weight']</pre></div></div></div><div class=\"sk-serial\"><div class=\"sk-item\"><div class=\"sk-serial\"><div class=\"sk-item\"><div class=\"sk-estimator sk-toggleable\"><input class=\"sk-toggleable__control sk-hidden--visually\" id=\"7eef3652-e962-4fd3-9be6-95c0d63c6940\" type=\"checkbox\" ><label class=\"sk-toggleable__label\" for=\"7eef3652-e962-4fd3-9be6-95c0d63c6940\">SimpleImputer</label><div class=\"sk-toggleable__content\"><pre>SimpleImputer()</pre></div></div></div><div class=\"sk-item\"><div class=\"sk-estimator sk-toggleable\"><input class=\"sk-toggleable__control sk-hidden--visually\" id=\"b7b81c84-c849-4ae9-ba0b-469394c62fad\" type=\"checkbox\" ><label class=\"sk-toggleable__label\" for=\"b7b81c84-c849-4ae9-ba0b-469394c62fad\">StandardScaler</label><div class=\"sk-toggleable__content\"><pre>StandardScaler()</pre></div></div></div><div class=\"sk-item\"><div class=\"sk-estimator sk-toggleable\"><input class=\"sk-toggleable__control sk-hidden--visually\" id=\"f6dfce9b-ad61-40b7-b326-9f8be912eeed\" type=\"checkbox\" ><label class=\"sk-toggleable__label\" for=\"f6dfce9b-ad61-40b7-b326-9f8be912eeed\">SelectKBest</label><div class=\"sk-toggleable__content\"><pre>SelectKBest(k='all')</pre></div></div></div></div></div></div></div></div><div class=\"sk-parallel-item\"><div class=\"sk-item\"><div class=\"sk-label-container\"><div class=\"sk-label sk-toggleable\"><input class=\"sk-toggleable__control sk-hidden--visually\" id=\"83886ffd-8754-4141-9f8f-f76e112ee3f1\" type=\"checkbox\" ><label class=\"sk-toggleable__label\" for=\"83886ffd-8754-4141-9f8f-f76e112ee3f1\">categorical</label><div class=\"sk-toggleable__content\"><pre>['Getting up', 'God', 'Health', 'Borrowed stuff', 'Self-criticism', 'Elections', 'Number of friends', 'Spending on healthy eating', 'Music', 'Movies', 'Friends versus money', 'Changing the past']</pre></div></div></div><div class=\"sk-serial\"><div class=\"sk-item\"><div class=\"sk-serial\"><div class=\"sk-item\"><div class=\"sk-estimator sk-toggleable\"><input class=\"sk-toggleable__control sk-hidden--visually\" id=\"cf34702b-6550-408f-b95a-791070d6e9dd\" type=\"checkbox\" ><label class=\"sk-toggleable__label\" for=\"cf34702b-6550-408f-b95a-791070d6e9dd\">SimpleImputer</label><div class=\"sk-toggleable__content\"><pre>SimpleImputer()</pre></div></div></div><div class=\"sk-item\"><div class=\"sk-estimator sk-toggleable\"><input class=\"sk-toggleable__control sk-hidden--visually\" id=\"3918dc25-f76b-480d-afc7-361e3af59f00\" type=\"checkbox\" ><label class=\"sk-toggleable__label\" for=\"3918dc25-f76b-480d-afc7-361e3af59f00\">OneHotEncoder</label><div class=\"sk-toggleable__content\"><pre>OneHotEncoder(handle_unknown='ignore')</pre></div></div></div></div></div></div></div></div></div></div></div></div><div class=\"sk-item\"><div class=\"sk-estimator sk-toggleable\"><input class=\"sk-toggleable__control sk-hidden--visually\" id=\"2bbaee52-ad89-4b67-bc1c-dd7306849d14\" type=\"checkbox\" ><label class=\"sk-toggleable__label\" for=\"2bbaee52-ad89-4b67-bc1c-dd7306849d14\">LinearSVC</label><div class=\"sk-toggleable__content\"><pre>LinearSVC()</pre></div></div></div></div></div></div></div></div><div class=\"sk-parallel-item\"><div class=\"sk-item\"><div class=\"sk-label-container\"><div class=\"sk-label sk-toggleable\"><label>Random_Forest</label></div></div><div class=\"sk-serial\"><div class=\"sk-item\"><div class=\"sk-serial\"><div class=\"sk-item\"><div class=\"sk-label-container\"><div class=\"sk-label sk-toggleable\"><input class=\"sk-toggleable__control sk-hidden--visually\" id=\"802c9613-17f7-4de2-b6a9-592a0b405853\" type=\"checkbox\" ><label class=\"sk-toggleable__label\" for=\"802c9613-17f7-4de2-b6a9-592a0b405853\">pipeline: Pipeline</label><div class=\"sk-toggleable__content\"><pre>Pipeline(steps=[('data_transformer',\n",
       "                 ColumnTransformer(transformers=[('numerical',\n",
       "                                                  Pipeline(steps=[('imputer',\n",
       "                                                                   SimpleImputer()),\n",
       "                                                                  ('scaler',\n",
       "                                                                   StandardScaler()),\n",
       "                                                                  ('feature_selector',\n",
       "                                                                   SelectKBest(k='all'))]),\n",
       "                                                  ['Age', 'Height', 'Weight']),\n",
       "                                                 ('categorical',\n",
       "                                                  Pipeline(steps=[('imputer',\n",
       "                                                                   SimpleImputer()),\n",
       "                                                                  ('onehot',\n",
       "                                                                   OneHotEncoder(handle_unknown='ignore'))]),\n",
       "                                                  ['Getting up', 'God',\n",
       "                                                   'Health', 'Borrowed stuff',\n",
       "                                                   'Self-criticism',\n",
       "                                                   'Elections',\n",
       "                                                   'Number of friends',\n",
       "                                                   'Spending on healthy eating',\n",
       "                                                   'Music', 'Movies',\n",
       "                                                   'Friends versus money',\n",
       "                                                   'Changing the past'])]))])</pre></div></div></div><div class=\"sk-serial\"><div class=\"sk-item sk-dashed-wrapped\"><div class=\"sk-label-container\"><div class=\"sk-label sk-toggleable\"><input class=\"sk-toggleable__control sk-hidden--visually\" id=\"d3a09b60-48fe-4cf7-a1c2-729cfa827195\" type=\"checkbox\" ><label class=\"sk-toggleable__label\" for=\"d3a09b60-48fe-4cf7-a1c2-729cfa827195\">data_transformer: ColumnTransformer</label><div class=\"sk-toggleable__content\"><pre>ColumnTransformer(transformers=[('numerical',\n",
       "                                 Pipeline(steps=[('imputer', SimpleImputer()),\n",
       "                                                 ('scaler', StandardScaler()),\n",
       "                                                 ('feature_selector',\n",
       "                                                  SelectKBest(k='all'))]),\n",
       "                                 ['Age', 'Height', 'Weight']),\n",
       "                                ('categorical',\n",
       "                                 Pipeline(steps=[('imputer', SimpleImputer()),\n",
       "                                                 ('onehot',\n",
       "                                                  OneHotEncoder(handle_unknown='ignore'))]),\n",
       "                                 ['Getting up', 'God', 'Health',\n",
       "                                  'Borrowed stuff', 'Self-criticism',\n",
       "                                  'Elections', 'Number of friends',\n",
       "                                  'Spending on healthy eating', 'Music',\n",
       "                                  'Movies', 'Friends versus money',\n",
       "                                  'Changing the past'])])</pre></div></div></div><div class=\"sk-parallel\"><div class=\"sk-parallel-item\"><div class=\"sk-item\"><div class=\"sk-label-container\"><div class=\"sk-label sk-toggleable\"><input class=\"sk-toggleable__control sk-hidden--visually\" id=\"41560e0b-d90e-4b1f-ac1a-340501216d63\" type=\"checkbox\" ><label class=\"sk-toggleable__label\" for=\"41560e0b-d90e-4b1f-ac1a-340501216d63\">numerical</label><div class=\"sk-toggleable__content\"><pre>['Age', 'Height', 'Weight']</pre></div></div></div><div class=\"sk-serial\"><div class=\"sk-item\"><div class=\"sk-serial\"><div class=\"sk-item\"><div class=\"sk-estimator sk-toggleable\"><input class=\"sk-toggleable__control sk-hidden--visually\" id=\"b8b45823-66c1-47a7-8b88-b6d89f05c222\" type=\"checkbox\" ><label class=\"sk-toggleable__label\" for=\"b8b45823-66c1-47a7-8b88-b6d89f05c222\">SimpleImputer</label><div class=\"sk-toggleable__content\"><pre>SimpleImputer()</pre></div></div></div><div class=\"sk-item\"><div class=\"sk-estimator sk-toggleable\"><input class=\"sk-toggleable__control sk-hidden--visually\" id=\"3804295e-fdbd-4e04-a825-768a6ccbfe4c\" type=\"checkbox\" ><label class=\"sk-toggleable__label\" for=\"3804295e-fdbd-4e04-a825-768a6ccbfe4c\">StandardScaler</label><div class=\"sk-toggleable__content\"><pre>StandardScaler()</pre></div></div></div><div class=\"sk-item\"><div class=\"sk-estimator sk-toggleable\"><input class=\"sk-toggleable__control sk-hidden--visually\" id=\"1a8281d4-a5ea-4fe1-b6fd-3970ec40ecac\" type=\"checkbox\" ><label class=\"sk-toggleable__label\" for=\"1a8281d4-a5ea-4fe1-b6fd-3970ec40ecac\">SelectKBest</label><div class=\"sk-toggleable__content\"><pre>SelectKBest(k='all')</pre></div></div></div></div></div></div></div></div><div class=\"sk-parallel-item\"><div class=\"sk-item\"><div class=\"sk-label-container\"><div class=\"sk-label sk-toggleable\"><input class=\"sk-toggleable__control sk-hidden--visually\" id=\"42911d77-6580-436b-a4c9-56b35017fe52\" type=\"checkbox\" ><label class=\"sk-toggleable__label\" for=\"42911d77-6580-436b-a4c9-56b35017fe52\">categorical</label><div class=\"sk-toggleable__content\"><pre>['Getting up', 'God', 'Health', 'Borrowed stuff', 'Self-criticism', 'Elections', 'Number of friends', 'Spending on healthy eating', 'Music', 'Movies', 'Friends versus money', 'Changing the past']</pre></div></div></div><div class=\"sk-serial\"><div class=\"sk-item\"><div class=\"sk-serial\"><div class=\"sk-item\"><div class=\"sk-estimator sk-toggleable\"><input class=\"sk-toggleable__control sk-hidden--visually\" id=\"42453aa7-ec0c-420d-a915-9ae698229ae9\" type=\"checkbox\" ><label class=\"sk-toggleable__label\" for=\"42453aa7-ec0c-420d-a915-9ae698229ae9\">SimpleImputer</label><div class=\"sk-toggleable__content\"><pre>SimpleImputer()</pre></div></div></div><div class=\"sk-item\"><div class=\"sk-estimator sk-toggleable\"><input class=\"sk-toggleable__control sk-hidden--visually\" id=\"72010ba0-b013-4803-9a29-40d4800201ca\" type=\"checkbox\" ><label class=\"sk-toggleable__label\" for=\"72010ba0-b013-4803-9a29-40d4800201ca\">OneHotEncoder</label><div class=\"sk-toggleable__content\"><pre>OneHotEncoder(handle_unknown='ignore')</pre></div></div></div></div></div></div></div></div></div></div></div></div><div class=\"sk-item\"><div class=\"sk-estimator sk-toggleable\"><input class=\"sk-toggleable__control sk-hidden--visually\" id=\"21594641-8814-48da-b64f-9b1d458c293a\" type=\"checkbox\" ><label class=\"sk-toggleable__label\" for=\"21594641-8814-48da-b64f-9b1d458c293a\">RandomForestClassifier</label><div class=\"sk-toggleable__content\"><pre>RandomForestClassifier(n_jobs=-1)</pre></div></div></div></div></div></div></div></div><div class=\"sk-parallel-item\"><div class=\"sk-item\"><div class=\"sk-label-container\"><div class=\"sk-label sk-toggleable\"><label>xgboost</label></div></div><div class=\"sk-serial\"><div class=\"sk-item\"><div class=\"sk-serial\"><div class=\"sk-item\"><div class=\"sk-label-container\"><div class=\"sk-label sk-toggleable\"><input class=\"sk-toggleable__control sk-hidden--visually\" id=\"630adff6-a766-43e9-bef6-522cb9aac56d\" type=\"checkbox\" ><label class=\"sk-toggleable__label\" for=\"630adff6-a766-43e9-bef6-522cb9aac56d\">pipeline: Pipeline</label><div class=\"sk-toggleable__content\"><pre>Pipeline(steps=[('data_transformer',\n",
       "                 ColumnTransformer(transformers=[('numerical',\n",
       "                                                  Pipeline(steps=[('imputer',\n",
       "                                                                   SimpleImputer()),\n",
       "                                                                  ('scaler',\n",
       "                                                                   StandardScaler()),\n",
       "                                                                  ('feature_selector',\n",
       "                                                                   SelectKBest(k='all'))]),\n",
       "                                                  ['Age', 'Height', 'Weight']),\n",
       "                                                 ('categorical',\n",
       "                                                  Pipeline(steps=[('imputer',\n",
       "                                                                   SimpleImputer()),\n",
       "                                                                  ('onehot',\n",
       "                                                                   OneHotEncoder(handle_unknown='ignore'))]),\n",
       "                                                  ['Getting up', 'God',\n",
       "                                                   'Health', 'Borrowed stuff',\n",
       "                                                   'Self-criticism',\n",
       "                                                   'Elections',\n",
       "                                                   'Number of friends',\n",
       "                                                   'Spending on healthy eating',\n",
       "                                                   'Music', 'Movies',\n",
       "                                                   'Friends versus money',\n",
       "                                                   'Changing the past'])]))])</pre></div></div></div><div class=\"sk-serial\"><div class=\"sk-item sk-dashed-wrapped\"><div class=\"sk-label-container\"><div class=\"sk-label sk-toggleable\"><input class=\"sk-toggleable__control sk-hidden--visually\" id=\"80ab769f-26ae-4e47-864b-20327bbfc54c\" type=\"checkbox\" ><label class=\"sk-toggleable__label\" for=\"80ab769f-26ae-4e47-864b-20327bbfc54c\">data_transformer: ColumnTransformer</label><div class=\"sk-toggleable__content\"><pre>ColumnTransformer(transformers=[('numerical',\n",
       "                                 Pipeline(steps=[('imputer', SimpleImputer()),\n",
       "                                                 ('scaler', StandardScaler()),\n",
       "                                                 ('feature_selector',\n",
       "                                                  SelectKBest(k='all'))]),\n",
       "                                 ['Age', 'Height', 'Weight']),\n",
       "                                ('categorical',\n",
       "                                 Pipeline(steps=[('imputer', SimpleImputer()),\n",
       "                                                 ('onehot',\n",
       "                                                  OneHotEncoder(handle_unknown='ignore'))]),\n",
       "                                 ['Getting up', 'God', 'Health',\n",
       "                                  'Borrowed stuff', 'Self-criticism',\n",
       "                                  'Elections', 'Number of friends',\n",
       "                                  'Spending on healthy eating', 'Music',\n",
       "                                  'Movies', 'Friends versus money',\n",
       "                                  'Changing the past'])])</pre></div></div></div><div class=\"sk-parallel\"><div class=\"sk-parallel-item\"><div class=\"sk-item\"><div class=\"sk-label-container\"><div class=\"sk-label sk-toggleable\"><input class=\"sk-toggleable__control sk-hidden--visually\" id=\"63a9515d-d51c-43ee-bc73-291572fc5567\" type=\"checkbox\" ><label class=\"sk-toggleable__label\" for=\"63a9515d-d51c-43ee-bc73-291572fc5567\">numerical</label><div class=\"sk-toggleable__content\"><pre>['Age', 'Height', 'Weight']</pre></div></div></div><div class=\"sk-serial\"><div class=\"sk-item\"><div class=\"sk-serial\"><div class=\"sk-item\"><div class=\"sk-estimator sk-toggleable\"><input class=\"sk-toggleable__control sk-hidden--visually\" id=\"eb4187a2-3e73-42e6-81cb-ea7274bf0cc0\" type=\"checkbox\" ><label class=\"sk-toggleable__label\" for=\"eb4187a2-3e73-42e6-81cb-ea7274bf0cc0\">SimpleImputer</label><div class=\"sk-toggleable__content\"><pre>SimpleImputer()</pre></div></div></div><div class=\"sk-item\"><div class=\"sk-estimator sk-toggleable\"><input class=\"sk-toggleable__control sk-hidden--visually\" id=\"7f6f0506-d285-4478-861e-36ed576db8d6\" type=\"checkbox\" ><label class=\"sk-toggleable__label\" for=\"7f6f0506-d285-4478-861e-36ed576db8d6\">StandardScaler</label><div class=\"sk-toggleable__content\"><pre>StandardScaler()</pre></div></div></div><div class=\"sk-item\"><div class=\"sk-estimator sk-toggleable\"><input class=\"sk-toggleable__control sk-hidden--visually\" id=\"ba2f513f-d856-4922-b7e4-8fda97f066ad\" type=\"checkbox\" ><label class=\"sk-toggleable__label\" for=\"ba2f513f-d856-4922-b7e4-8fda97f066ad\">SelectKBest</label><div class=\"sk-toggleable__content\"><pre>SelectKBest(k='all')</pre></div></div></div></div></div></div></div></div><div class=\"sk-parallel-item\"><div class=\"sk-item\"><div class=\"sk-label-container\"><div class=\"sk-label sk-toggleable\"><input class=\"sk-toggleable__control sk-hidden--visually\" id=\"eadd794b-8c36-437e-a37f-05eca1c4f3ed\" type=\"checkbox\" ><label class=\"sk-toggleable__label\" for=\"eadd794b-8c36-437e-a37f-05eca1c4f3ed\">categorical</label><div class=\"sk-toggleable__content\"><pre>['Getting up', 'God', 'Health', 'Borrowed stuff', 'Self-criticism', 'Elections', 'Number of friends', 'Spending on healthy eating', 'Music', 'Movies', 'Friends versus money', 'Changing the past']</pre></div></div></div><div class=\"sk-serial\"><div class=\"sk-item\"><div class=\"sk-serial\"><div class=\"sk-item\"><div class=\"sk-estimator sk-toggleable\"><input class=\"sk-toggleable__control sk-hidden--visually\" id=\"c6b89146-ee70-4548-ac9e-0043a88f3320\" type=\"checkbox\" ><label class=\"sk-toggleable__label\" for=\"c6b89146-ee70-4548-ac9e-0043a88f3320\">SimpleImputer</label><div class=\"sk-toggleable__content\"><pre>SimpleImputer()</pre></div></div></div><div class=\"sk-item\"><div class=\"sk-estimator sk-toggleable\"><input class=\"sk-toggleable__control sk-hidden--visually\" id=\"daca8b04-1908-4823-896c-e25695935a32\" type=\"checkbox\" ><label class=\"sk-toggleable__label\" for=\"daca8b04-1908-4823-896c-e25695935a32\">OneHotEncoder</label><div class=\"sk-toggleable__content\"><pre>OneHotEncoder(handle_unknown='ignore')</pre></div></div></div></div></div></div></div></div></div></div></div></div><div class=\"sk-item\"><div class=\"sk-estimator sk-toggleable\"><input class=\"sk-toggleable__control sk-hidden--visually\" id=\"cdaf1ab4-4fe4-4266-8007-7ac60818a08d\" type=\"checkbox\" ><label class=\"sk-toggleable__label\" for=\"cdaf1ab4-4fe4-4266-8007-7ac60818a08d\">XGBClassifier</label><div class=\"sk-toggleable__content\"><pre>XGBClassifier(base_score=None, booster=None, colsample_bylevel=None,\n",
       "              colsample_bynode=None, colsample_bytree=None, gamma=None,\n",
       "              gpu_id=None, importance_type='gain', interaction_constraints=None,\n",
       "              learning_rate=None, max_delta_step=None, max_depth=None,\n",
       "              min_child_weight=None, missing=nan, monotone_constraints=None,\n",
       "              n_estimators=100, n_jobs=-1, num_parallel_tree=None,\n",
       "              random_state=None, reg_alpha=None, reg_lambda=None,\n",
       "              scale_pos_weight=None, subsample=None, tree_method=None,\n",
       "              validate_parameters=None, verbosity=None)</pre></div></div></div></div></div></div></div></div></div></div><div class=\"sk-item\"><div class=\"sk-estimator sk-toggleable\"><input class=\"sk-toggleable__control sk-hidden--visually\" id=\"1ee8f221-feab-49dc-91d6-c030fc3cd743\" type=\"checkbox\" ><label class=\"sk-toggleable__label\" for=\"1ee8f221-feab-49dc-91d6-c030fc3cd743\">LogisticRegression</label><div class=\"sk-toggleable__content\"><pre>LogisticRegression(n_jobs=-1, verbose=True)</pre></div></div></div></div></div></div></div></div></div>"
      ],
      "text/plain": [
       "StackingClassifier(estimators=[('SVM',\n",
       "                                Pipeline(steps=[('pipeline',\n",
       "                                                 Pipeline(steps=[('data_transformer',\n",
       "                                                                  ColumnTransformer(transformers=[('numerical',\n",
       "                                                                                                   Pipeline(steps=[('imputer',\n",
       "                                                                                                                    SimpleImputer()),\n",
       "                                                                                                                   ('scaler',\n",
       "                                                                                                                    StandardScaler()),\n",
       "                                                                                                                   ('feature_selector',\n",
       "                                                                                                                    SelectKBest(k='all'))]),\n",
       "                                                                                                   ['Age',\n",
       "                                                                                                    'Height',\n",
       "                                                                                                    'Weight']),\n",
       "                                                                                                  ('categorical',\n",
       "                                                                                                   Pipeline(steps=[('imputer',\n",
       "                                                                                                                    SimpleImputer()),\n",
       "                                                                                                                   (...\n",
       "                                                               max_depth=None,\n",
       "                                                               min_child_weight=None,\n",
       "                                                               missing=nan,\n",
       "                                                               monotone_constraints=None,\n",
       "                                                               n_estimators=100,\n",
       "                                                               n_jobs=-1,\n",
       "                                                               num_parallel_tree=None,\n",
       "                                                               random_state=None,\n",
       "                                                               reg_alpha=None,\n",
       "                                                               reg_lambda=None,\n",
       "                                                               scale_pos_weight=None,\n",
       "                                                               subsample=None,\n",
       "                                                               tree_method=None,\n",
       "                                                               validate_parameters=None,\n",
       "                                                               verbosity=None))]))],\n",
       "                   final_estimator=LogisticRegression(n_jobs=-1, verbose=True),\n",
       "                   n_jobs=-1, verbose=True)"
      ]
     },
     "execution_count": 56,
     "metadata": {},
     "output_type": "execute_result"
    }
   ],
   "source": [
    "stacking_classifier.fit(data[interesting_features], data[target])\n"
   ]
  },
  {
   "cell_type": "code",
   "execution_count": 57,
   "metadata": {
    "ExecuteTime": {
     "end_time": "2022-04-18T19:11:39.651217Z",
     "start_time": "2022-04-18T19:11:39.558725Z"
    }
   },
   "outputs": [
    {
     "name": "stdout",
     "output_type": "stream",
     "text": [
      "              precision    recall  f1-score   support\n",
      "\n",
      "          -1       0.98      0.91      0.94       355\n",
      "           0       0.94      1.00      0.97       509\n",
      "           1       0.99      0.98      0.99       146\n",
      "\n",
      "    accuracy                           0.96      1010\n",
      "   macro avg       0.97      0.96      0.97      1010\n",
      "weighted avg       0.96      0.96      0.96      1010\n",
      "\n"
     ]
    }
   ],
   "source": [
    "preds = stacking_classifier.predict(data[interesting_features])\n",
    "\n",
    "print(classification_report(data[target], preds))"
   ]
  },
  {
   "cell_type": "markdown",
   "metadata": {},
   "source": [
    "# Гибкость паплайна"
   ]
  },
  {
   "cell_type": "code",
   "execution_count": 58,
   "metadata": {
    "ExecuteTime": {
     "end_time": "2022-04-18T19:11:39.667218Z",
     "start_time": "2022-04-18T19:11:39.653217Z"
    }
   },
   "outputs": [],
   "source": [
    "# stacking_classifier.estimators[0][1][0].steps[0][1].transformers[0][1].steps[2][1].k"
   ]
  },
  {
   "cell_type": "code",
   "execution_count": null,
   "metadata": {},
   "outputs": [],
   "source": []
  },
  {
   "cell_type": "code",
   "execution_count": null,
   "metadata": {},
   "outputs": [],
   "source": []
  },
  {
   "cell_type": "markdown",
   "metadata": {},
   "source": [
    "# Как сохранить всю эту махину?"
   ]
  },
  {
   "cell_type": "code",
   "execution_count": 59,
   "metadata": {
    "ExecuteTime": {
     "end_time": "2022-04-18T19:11:39.683219Z",
     "start_time": "2022-04-18T19:11:39.668219Z"
    }
   },
   "outputs": [],
   "source": [
    "# Для сериализации моделей\n",
    "import pickle"
   ]
  },
  {
   "cell_type": "code",
   "execution_count": 60,
   "metadata": {
    "ExecuteTime": {
     "end_time": "2022-04-18T19:11:39.794370Z",
     "start_time": "2022-04-18T19:11:39.685219Z"
    }
   },
   "outputs": [],
   "source": [
    "with open(\"owesome_pipeline.pkl\", \"wb\") as f:\n",
    "    pickle.dump(stacking_classifier, f)"
   ]
  },
  {
   "cell_type": "code",
   "execution_count": null,
   "metadata": {},
   "outputs": [],
   "source": []
  },
  {
   "cell_type": "markdown",
   "metadata": {},
   "source": [
    "# Импорт модели"
   ]
  },
  {
   "cell_type": "code",
   "execution_count": 61,
   "metadata": {
    "ExecuteTime": {
     "end_time": "2022-04-18T19:11:39.888521Z",
     "start_time": "2022-04-18T19:11:39.796370Z"
    }
   },
   "outputs": [],
   "source": [
    "with open(\"owesome_pipeline.pkl\", 'rb') as f:\n",
    "    pipeline_from_saved = pickle.load(f)"
   ]
  },
  {
   "cell_type": "code",
   "execution_count": null,
   "metadata": {},
   "outputs": [],
   "source": []
  },
  {
   "cell_type": "code",
   "execution_count": 62,
   "metadata": {
    "ExecuteTime": {
     "end_time": "2022-04-18T19:11:42.714676Z",
     "start_time": "2022-04-18T19:11:39.890521Z"
    }
   },
   "outputs": [
    {
     "name": "stdout",
     "output_type": "stream",
     "text": [
      "              precision    recall  f1-score   support\n",
      "\n",
      "          -1       0.56      0.32      0.41        71\n",
      "           0       0.54      0.77      0.63       102\n",
      "           1       0.57      0.28      0.37        29\n",
      "\n",
      "    accuracy                           0.54       202\n",
      "   macro avg       0.56      0.46      0.47       202\n",
      "weighted avg       0.55      0.54      0.52       202\n",
      "\n"
     ]
    },
    {
     "name": "stderr",
     "output_type": "stream",
     "text": [
      "[Parallel(n_jobs=-1)]: Using backend LokyBackend with 8 concurrent workers.\n",
      "[Parallel(n_jobs=-1)]: Done   1 out of   1 | elapsed:    0.0s finished\n"
     ]
    }
   ],
   "source": [
    "pipeline_from_saved.fit(data_train, data_train[target])\n",
    "preds = pipeline_from_saved.predict(data_test)\n",
    "print(classification_report(data_test[target], preds))"
   ]
  },
  {
   "cell_type": "code",
   "execution_count": null,
   "metadata": {},
   "outputs": [],
   "source": []
  },
  {
   "cell_type": "code",
   "execution_count": null,
   "metadata": {},
   "outputs": [],
   "source": []
  },
  {
   "cell_type": "code",
   "execution_count": null,
   "metadata": {},
   "outputs": [],
   "source": []
  },
  {
   "cell_type": "code",
   "execution_count": null,
   "metadata": {},
   "outputs": [],
   "source": []
  },
  {
   "cell_type": "code",
   "execution_count": null,
   "metadata": {},
   "outputs": [],
   "source": []
  },
  {
   "cell_type": "markdown",
   "metadata": {},
   "source": [
    "# Что дальше?"
   ]
  },
  {
   "cell_type": "markdown",
   "metadata": {},
   "source": [
    "<div class=\"alert alert-success\">\n",
    "    \n",
    "* Признаки бывают разные\n",
    "* Предобработка бывает сложнее\n",
    "* Генерация новых признаков"
   ]
  },
  {
   "cell_type": "code",
   "execution_count": null,
   "metadata": {},
   "outputs": [],
   "source": []
  },
  {
   "cell_type": "code",
   "execution_count": null,
   "metadata": {},
   "outputs": [],
   "source": []
  },
  {
   "cell_type": "code",
   "execution_count": null,
   "metadata": {},
   "outputs": [],
   "source": []
  },
  {
   "cell_type": "code",
   "execution_count": null,
   "metadata": {},
   "outputs": [],
   "source": []
  },
  {
   "cell_type": "code",
   "execution_count": null,
   "metadata": {},
   "outputs": [],
   "source": []
  },
  {
   "cell_type": "code",
   "execution_count": null,
   "metadata": {},
   "outputs": [],
   "source": []
  },
  {
   "cell_type": "code",
   "execution_count": null,
   "metadata": {},
   "outputs": [],
   "source": []
  },
  {
   "cell_type": "code",
   "execution_count": null,
   "metadata": {},
   "outputs": [],
   "source": []
  },
  {
   "cell_type": "code",
   "execution_count": null,
   "metadata": {},
   "outputs": [],
   "source": []
  },
  {
   "cell_type": "markdown",
   "metadata": {},
   "source": [
    "<p style=\"align: center;\"><img align=center src=\"./images/Industrial-Pipeline-Cleaning.jpg\"  width=1000></p>"
   ]
  },
  {
   "cell_type": "code",
   "execution_count": 63,
   "metadata": {
    "ExecuteTime": {
     "end_time": "2022-04-18T19:11:42.730516Z",
     "start_time": "2022-04-18T19:11:42.716669Z"
    }
   },
   "outputs": [
    {
     "data": {
      "text/html": [
       "<style>.container { width:80% !important; }</style>"
      ],
      "text/plain": [
       "<IPython.core.display.HTML object>"
      ]
     },
     "metadata": {},
     "output_type": "display_data"
    }
   ],
   "source": [
    "import pandas as pd\n",
    "import numpy as np\n",
    "\n",
    "# Пара библиотек для визуализации\n",
    "import matplotlib.pyplot as plt\n",
    "import seaborn as sns\n",
    "%matplotlib inline\n",
    "\n",
    "\n",
    "from IPython.core.display import display, HTML\n",
    "display(HTML(\"<style>.container { width:80% !important; }</style>\"))\n",
    "\n",
    "import sklearn\n",
    "sklearn.set_config(display='diagram') # Подключим визуал\n",
    "\n",
    "import warnings\n",
    "warnings.filterwarnings(\"ignore\")"
   ]
  },
  {
   "cell_type": "markdown",
   "metadata": {},
   "source": [
    "# Кастомизированные опции"
   ]
  },
  {
   "cell_type": "code",
   "execution_count": 64,
   "metadata": {
    "ExecuteTime": {
     "end_time": "2022-04-18T19:11:42.746517Z",
     "start_time": "2022-04-18T19:11:42.731516Z"
    }
   },
   "outputs": [],
   "source": [
    "# Гости этого вечера. Нужные нам фрагменты для сборки пайплайна, они пригодятся нам позже\n",
    "\n",
    "# from sklearn.pipeline import (\n",
    "#     _fit_transform_one,\n",
    "#     _transform_one,\n",
    "# )\n",
    "\n",
    "# И уже знакомые нам части \n",
    "from sklearn.pipeline import Pipeline, FeatureUnion, make_pipeline\n",
    "from sklearn.compose import ColumnTransformer, make_column_selector"
   ]
  },
  {
   "cell_type": "code",
   "execution_count": null,
   "metadata": {},
   "outputs": [],
   "source": []
  },
  {
   "cell_type": "code",
   "execution_count": 65,
   "metadata": {
    "ExecuteTime": {
     "end_time": "2022-04-18T19:11:43.552585Z",
     "start_time": "2022-04-18T19:11:42.747517Z"
    }
   },
   "outputs": [
    {
     "data": {
      "text/html": [
       "<div>\n",
       "<style scoped>\n",
       "    .dataframe tbody tr th:only-of-type {\n",
       "        vertical-align: middle;\n",
       "    }\n",
       "\n",
       "    .dataframe tbody tr th {\n",
       "        vertical-align: top;\n",
       "    }\n",
       "\n",
       "    .dataframe thead th {\n",
       "        text-align: right;\n",
       "    }\n",
       "</style>\n",
       "<table border=\"1\" class=\"dataframe\">\n",
       "  <thead>\n",
       "    <tr style=\"text-align: right;\">\n",
       "      <th></th>\n",
       "      <th>Music</th>\n",
       "      <th>Slow songs or fast songs</th>\n",
       "      <th>Dance</th>\n",
       "      <th>Folk</th>\n",
       "      <th>Country</th>\n",
       "      <th>Classical music</th>\n",
       "      <th>Musical</th>\n",
       "      <th>Pop</th>\n",
       "      <th>Rock</th>\n",
       "      <th>Metal or Hardrock</th>\n",
       "      <th>...</th>\n",
       "      <th>Age</th>\n",
       "      <th>Height</th>\n",
       "      <th>Weight</th>\n",
       "      <th>Number of siblings</th>\n",
       "      <th>Gender</th>\n",
       "      <th>Left - right handed</th>\n",
       "      <th>Education</th>\n",
       "      <th>Only child</th>\n",
       "      <th>Village - town</th>\n",
       "      <th>House - block of flats</th>\n",
       "    </tr>\n",
       "  </thead>\n",
       "  <tbody>\n",
       "    <tr>\n",
       "      <th>0</th>\n",
       "      <td>5.0</td>\n",
       "      <td>3.0</td>\n",
       "      <td>2.0</td>\n",
       "      <td>1.0</td>\n",
       "      <td>2.0</td>\n",
       "      <td>2.0</td>\n",
       "      <td>1.0</td>\n",
       "      <td>5.0</td>\n",
       "      <td>5.0</td>\n",
       "      <td>1.0</td>\n",
       "      <td>...</td>\n",
       "      <td>20.0</td>\n",
       "      <td>163.0</td>\n",
       "      <td>48.0</td>\n",
       "      <td>1.0</td>\n",
       "      <td>female</td>\n",
       "      <td>right handed</td>\n",
       "      <td>college/bachelor degree</td>\n",
       "      <td>no</td>\n",
       "      <td>village</td>\n",
       "      <td>block of flats</td>\n",
       "    </tr>\n",
       "    <tr>\n",
       "      <th>1</th>\n",
       "      <td>4.0</td>\n",
       "      <td>4.0</td>\n",
       "      <td>2.0</td>\n",
       "      <td>1.0</td>\n",
       "      <td>1.0</td>\n",
       "      <td>1.0</td>\n",
       "      <td>2.0</td>\n",
       "      <td>3.0</td>\n",
       "      <td>5.0</td>\n",
       "      <td>4.0</td>\n",
       "      <td>...</td>\n",
       "      <td>19.0</td>\n",
       "      <td>163.0</td>\n",
       "      <td>58.0</td>\n",
       "      <td>2.0</td>\n",
       "      <td>female</td>\n",
       "      <td>right handed</td>\n",
       "      <td>college/bachelor degree</td>\n",
       "      <td>no</td>\n",
       "      <td>city</td>\n",
       "      <td>block of flats</td>\n",
       "    </tr>\n",
       "    <tr>\n",
       "      <th>2</th>\n",
       "      <td>5.0</td>\n",
       "      <td>5.0</td>\n",
       "      <td>2.0</td>\n",
       "      <td>2.0</td>\n",
       "      <td>3.0</td>\n",
       "      <td>4.0</td>\n",
       "      <td>5.0</td>\n",
       "      <td>3.0</td>\n",
       "      <td>5.0</td>\n",
       "      <td>3.0</td>\n",
       "      <td>...</td>\n",
       "      <td>20.0</td>\n",
       "      <td>176.0</td>\n",
       "      <td>67.0</td>\n",
       "      <td>2.0</td>\n",
       "      <td>female</td>\n",
       "      <td>right handed</td>\n",
       "      <td>secondary school</td>\n",
       "      <td>no</td>\n",
       "      <td>city</td>\n",
       "      <td>block of flats</td>\n",
       "    </tr>\n",
       "  </tbody>\n",
       "</table>\n",
       "<p>3 rows × 150 columns</p>\n",
       "</div>"
      ],
      "text/plain": [
       "   Music  Slow songs or fast songs  Dance  Folk  Country  Classical music  \\\n",
       "0    5.0                       3.0    2.0   1.0      2.0              2.0   \n",
       "1    4.0                       4.0    2.0   1.0      1.0              1.0   \n",
       "2    5.0                       5.0    2.0   2.0      3.0              4.0   \n",
       "\n",
       "   Musical  Pop  Rock  Metal or Hardrock  ...   Age  Height  Weight  \\\n",
       "0      1.0  5.0   5.0                1.0  ...  20.0   163.0    48.0   \n",
       "1      2.0  3.0   5.0                4.0  ...  19.0   163.0    58.0   \n",
       "2      5.0  3.0   5.0                3.0  ...  20.0   176.0    67.0   \n",
       "\n",
       "   Number of siblings  Gender  Left - right handed                Education  \\\n",
       "0                 1.0  female         right handed  college/bachelor degree   \n",
       "1                 2.0  female         right handed  college/bachelor degree   \n",
       "2                 2.0  female         right handed         secondary school   \n",
       "\n",
       "   Only child  Village - town  House - block of flats  \n",
       "0          no         village          block of flats  \n",
       "1          no            city          block of flats  \n",
       "2          no            city          block of flats  \n",
       "\n",
       "[3 rows x 150 columns]"
      ]
     },
     "execution_count": 65,
     "metadata": {},
     "output_type": "execute_result"
    }
   ],
   "source": [
    "file_path = 'https://raw.githubusercontent.com/a-milenkin/Datasetes_for_Piplines/main/responses.csv'\n",
    "data = pd.read_csv(file_path)\n",
    "data.head(3)"
   ]
  },
  {
   "cell_type": "markdown",
   "metadata": {},
   "source": [
    "<div class=\"alert alert-info\">\n",
    "\n",
    "<b>Про датасет </b>\n",
    "\n",
    "\n",
    "    \n",
    "Приведеные результаты опроса молодежи до 21-го года по тому, какие вещи делют их счастливыми по 5-й шкале\n",
    "    \n",
    "</div>\n"
   ]
  },
  {
   "cell_type": "markdown",
   "metadata": {},
   "source": [
    "<div class=\"alert alert-info\">\n",
    "\n",
    "<b>Про Задачу </b>\n",
    "\n",
    "Попробуем классифицировать людей по оценкам уровня счастья\n",
    "    \n",
    "</div>\n"
   ]
  },
  {
   "cell_type": "code",
   "execution_count": 66,
   "metadata": {
    "ExecuteTime": {
     "end_time": "2022-04-18T19:11:43.727005Z",
     "start_time": "2022-04-18T19:11:43.554592Z"
    }
   },
   "outputs": [
    {
     "data": {
      "image/png": "[encoded data removed]",
      "text/plain": [
       "<Figure size 432x288 with 1 Axes>"
      ]
     },
     "metadata": {
      "needs_background": "light"
     },
     "output_type": "display_data"
    }
   ],
   "source": [
    "# Сбалансируем немного классы\n",
    "\n",
    "def happiness_score(x):\n",
    "    if x < 4:\n",
    "        return -1\n",
    "    elif x == 4.0:\n",
    "        return 0\n",
    "    else:\n",
    "        return 1\n",
    "    \n",
    "data[\"Happiness in life\"] = data[\"Happiness in life\"].apply(happiness_score)\n",
    "\n",
    "data[\"Happiness in life\"].hist();"
   ]
  },
  {
   "cell_type": "markdown",
   "metadata": {},
   "source": [
    "# Классификаций признаков на типы - df.select_dtypes"
   ]
  },
  {
   "cell_type": "code",
   "execution_count": 67,
   "metadata": {
    "ExecuteTime": {
     "end_time": "2022-04-18T19:11:43.743006Z",
     "start_time": "2022-04-18T19:11:43.729009Z"
    }
   },
   "outputs": [
    {
     "name": "stdout",
     "output_type": "stream",
     "text": [
      "<class 'pandas.core.frame.DataFrame'>\n",
      "RangeIndex: 1010 entries, 0 to 1009\n",
      "Data columns (total 11 columns):\n",
      " #   Column                  Non-Null Count  Dtype \n",
      "---  ------                  --------------  ----- \n",
      " 0   Smoking                 1002 non-null   object\n",
      " 1   Alcohol                 1005 non-null   object\n",
      " 2   Punctuality             1008 non-null   object\n",
      " 3   Lying                   1008 non-null   object\n",
      " 4   Internet usage          1010 non-null   object\n",
      " 5   Gender                  1004 non-null   object\n",
      " 6   Left - right handed     1007 non-null   object\n",
      " 7   Education               1009 non-null   object\n",
      " 8   Only child              1008 non-null   object\n",
      " 9   Village - town          1006 non-null   object\n",
      " 10  House - block of flats  1006 non-null   object\n",
      "dtypes: object(11)\n",
      "memory usage: 86.9+ KB\n"
     ]
    }
   ],
   "source": [
    "data.select_dtypes(exclude = ['int', 'float']).info()  # include"
   ]
  },
  {
   "cell_type": "code",
   "execution_count": 68,
   "metadata": {
    "ExecuteTime": {
     "end_time": "2022-04-18T19:11:43.790010Z",
     "start_time": "2022-04-18T19:11:43.744009Z"
    }
   },
   "outputs": [
    {
     "data": {
      "text/html": [
       "<div>\n",
       "<style scoped>\n",
       "    .dataframe tbody tr th:only-of-type {\n",
       "        vertical-align: middle;\n",
       "    }\n",
       "\n",
       "    .dataframe tbody tr th {\n",
       "        vertical-align: top;\n",
       "    }\n",
       "\n",
       "    .dataframe thead th {\n",
       "        text-align: right;\n",
       "    }\n",
       "</style>\n",
       "<table border=\"1\" class=\"dataframe\">\n",
       "  <thead>\n",
       "    <tr style=\"text-align: right;\">\n",
       "      <th></th>\n",
       "      <th>Music</th>\n",
       "      <th>Slow songs or fast songs</th>\n",
       "      <th>Dance</th>\n",
       "      <th>Folk</th>\n",
       "      <th>Country</th>\n",
       "      <th>Classical music</th>\n",
       "      <th>Musical</th>\n",
       "      <th>Pop</th>\n",
       "      <th>Rock</th>\n",
       "      <th>Metal or Hardrock</th>\n",
       "      <th>...</th>\n",
       "      <th>Shopping centres</th>\n",
       "      <th>Branded clothing</th>\n",
       "      <th>Entertainment spending</th>\n",
       "      <th>Spending on looks</th>\n",
       "      <th>Spending on gadgets</th>\n",
       "      <th>Spending on healthy eating</th>\n",
       "      <th>Age</th>\n",
       "      <th>Height</th>\n",
       "      <th>Weight</th>\n",
       "      <th>Number of siblings</th>\n",
       "    </tr>\n",
       "  </thead>\n",
       "  <tbody>\n",
       "    <tr>\n",
       "      <th>0</th>\n",
       "      <td>5.0</td>\n",
       "      <td>3.0</td>\n",
       "      <td>2.0</td>\n",
       "      <td>1.0</td>\n",
       "      <td>2.0</td>\n",
       "      <td>2.0</td>\n",
       "      <td>1.0</td>\n",
       "      <td>5.0</td>\n",
       "      <td>5.0</td>\n",
       "      <td>1.0</td>\n",
       "      <td>...</td>\n",
       "      <td>4.0</td>\n",
       "      <td>5.0</td>\n",
       "      <td>3.0</td>\n",
       "      <td>3.0</td>\n",
       "      <td>1</td>\n",
       "      <td>3.0</td>\n",
       "      <td>20.0</td>\n",
       "      <td>163.0</td>\n",
       "      <td>48.0</td>\n",
       "      <td>1.0</td>\n",
       "    </tr>\n",
       "    <tr>\n",
       "      <th>1</th>\n",
       "      <td>4.0</td>\n",
       "      <td>4.0</td>\n",
       "      <td>2.0</td>\n",
       "      <td>1.0</td>\n",
       "      <td>1.0</td>\n",
       "      <td>1.0</td>\n",
       "      <td>2.0</td>\n",
       "      <td>3.0</td>\n",
       "      <td>5.0</td>\n",
       "      <td>4.0</td>\n",
       "      <td>...</td>\n",
       "      <td>4.0</td>\n",
       "      <td>1.0</td>\n",
       "      <td>4.0</td>\n",
       "      <td>2.0</td>\n",
       "      <td>5</td>\n",
       "      <td>2.0</td>\n",
       "      <td>19.0</td>\n",
       "      <td>163.0</td>\n",
       "      <td>58.0</td>\n",
       "      <td>2.0</td>\n",
       "    </tr>\n",
       "    <tr>\n",
       "      <th>2</th>\n",
       "      <td>5.0</td>\n",
       "      <td>5.0</td>\n",
       "      <td>2.0</td>\n",
       "      <td>2.0</td>\n",
       "      <td>3.0</td>\n",
       "      <td>4.0</td>\n",
       "      <td>5.0</td>\n",
       "      <td>3.0</td>\n",
       "      <td>5.0</td>\n",
       "      <td>3.0</td>\n",
       "      <td>...</td>\n",
       "      <td>4.0</td>\n",
       "      <td>1.0</td>\n",
       "      <td>4.0</td>\n",
       "      <td>3.0</td>\n",
       "      <td>4</td>\n",
       "      <td>2.0</td>\n",
       "      <td>20.0</td>\n",
       "      <td>176.0</td>\n",
       "      <td>67.0</td>\n",
       "      <td>2.0</td>\n",
       "    </tr>\n",
       "    <tr>\n",
       "      <th>3</th>\n",
       "      <td>5.0</td>\n",
       "      <td>3.0</td>\n",
       "      <td>2.0</td>\n",
       "      <td>1.0</td>\n",
       "      <td>1.0</td>\n",
       "      <td>1.0</td>\n",
       "      <td>1.0</td>\n",
       "      <td>2.0</td>\n",
       "      <td>2.0</td>\n",
       "      <td>1.0</td>\n",
       "      <td>...</td>\n",
       "      <td>4.0</td>\n",
       "      <td>3.0</td>\n",
       "      <td>3.0</td>\n",
       "      <td>4.0</td>\n",
       "      <td>4</td>\n",
       "      <td>1.0</td>\n",
       "      <td>22.0</td>\n",
       "      <td>172.0</td>\n",
       "      <td>59.0</td>\n",
       "      <td>1.0</td>\n",
       "    </tr>\n",
       "    <tr>\n",
       "      <th>4</th>\n",
       "      <td>5.0</td>\n",
       "      <td>3.0</td>\n",
       "      <td>4.0</td>\n",
       "      <td>3.0</td>\n",
       "      <td>2.0</td>\n",
       "      <td>4.0</td>\n",
       "      <td>3.0</td>\n",
       "      <td>5.0</td>\n",
       "      <td>3.0</td>\n",
       "      <td>1.0</td>\n",
       "      <td>...</td>\n",
       "      <td>3.0</td>\n",
       "      <td>4.0</td>\n",
       "      <td>3.0</td>\n",
       "      <td>3.0</td>\n",
       "      <td>2</td>\n",
       "      <td>4.0</td>\n",
       "      <td>20.0</td>\n",
       "      <td>170.0</td>\n",
       "      <td>59.0</td>\n",
       "      <td>1.0</td>\n",
       "    </tr>\n",
       "  </tbody>\n",
       "</table>\n",
       "<p>5 rows × 139 columns</p>\n",
       "</div>"
      ],
      "text/plain": [
       "   Music  Slow songs or fast songs  Dance  Folk  Country  Classical music  \\\n",
       "0    5.0                       3.0    2.0   1.0      2.0              2.0   \n",
       "1    4.0                       4.0    2.0   1.0      1.0              1.0   \n",
       "2    5.0                       5.0    2.0   2.0      3.0              4.0   \n",
       "3    5.0                       3.0    2.0   1.0      1.0              1.0   \n",
       "4    5.0                       3.0    4.0   3.0      2.0              4.0   \n",
       "\n",
       "   Musical  Pop  Rock  Metal or Hardrock  ...  Shopping centres  \\\n",
       "0      1.0  5.0   5.0                1.0  ...               4.0   \n",
       "1      2.0  3.0   5.0                4.0  ...               4.0   \n",
       "2      5.0  3.0   5.0                3.0  ...               4.0   \n",
       "3      1.0  2.0   2.0                1.0  ...               4.0   \n",
       "4      3.0  5.0   3.0                1.0  ...               3.0   \n",
       "\n",
       "   Branded clothing  Entertainment spending  Spending on looks  \\\n",
       "0               5.0                     3.0                3.0   \n",
       "1               1.0                     4.0                2.0   \n",
       "2               1.0                     4.0                3.0   \n",
       "3               3.0                     3.0                4.0   \n",
       "4               4.0                     3.0                3.0   \n",
       "\n",
       "   Spending on gadgets  Spending on healthy eating   Age  Height  Weight  \\\n",
       "0                    1                         3.0  20.0   163.0    48.0   \n",
       "1                    5                         2.0  19.0   163.0    58.0   \n",
       "2                    4                         2.0  20.0   176.0    67.0   \n",
       "3                    4                         1.0  22.0   172.0    59.0   \n",
       "4                    2                         4.0  20.0   170.0    59.0   \n",
       "\n",
       "   Number of siblings  \n",
       "0                 1.0  \n",
       "1                 2.0  \n",
       "2                 2.0  \n",
       "3                 1.0  \n",
       "4                 1.0  \n",
       "\n",
       "[5 rows x 139 columns]"
      ]
     },
     "execution_count": 68,
     "metadata": {},
     "output_type": "execute_result"
    }
   ],
   "source": [
    "numerical_features = data.select_dtypes(include=[\"int\", \"float\"]).columns.to_list()\n",
    "\n",
    "data[numerical_features].head()"
   ]
  },
  {
   "cell_type": "code",
   "execution_count": 69,
   "metadata": {
    "ExecuteTime": {
     "end_time": "2022-04-18T19:11:43.822014Z",
     "start_time": "2022-04-18T19:11:43.792014Z"
    }
   },
   "outputs": [
    {
     "data": {
      "text/html": [
       "<div>\n",
       "<style scoped>\n",
       "    .dataframe tbody tr th:only-of-type {\n",
       "        vertical-align: middle;\n",
       "    }\n",
       "\n",
       "    .dataframe tbody tr th {\n",
       "        vertical-align: top;\n",
       "    }\n",
       "\n",
       "    .dataframe thead th {\n",
       "        text-align: right;\n",
       "    }\n",
       "</style>\n",
       "<table border=\"1\" class=\"dataframe\">\n",
       "  <thead>\n",
       "    <tr style=\"text-align: right;\">\n",
       "      <th></th>\n",
       "      <th>Smoking</th>\n",
       "      <th>Alcohol</th>\n",
       "      <th>Punctuality</th>\n",
       "      <th>Lying</th>\n",
       "      <th>Internet usage</th>\n",
       "      <th>Gender</th>\n",
       "      <th>Left - right handed</th>\n",
       "      <th>Education</th>\n",
       "      <th>Only child</th>\n",
       "      <th>Village - town</th>\n",
       "      <th>House - block of flats</th>\n",
       "    </tr>\n",
       "  </thead>\n",
       "  <tbody>\n",
       "    <tr>\n",
       "      <th>0</th>\n",
       "      <td>never smoked</td>\n",
       "      <td>drink a lot</td>\n",
       "      <td>i am always on time</td>\n",
       "      <td>never</td>\n",
       "      <td>few hours a day</td>\n",
       "      <td>female</td>\n",
       "      <td>right handed</td>\n",
       "      <td>college/bachelor degree</td>\n",
       "      <td>no</td>\n",
       "      <td>village</td>\n",
       "      <td>block of flats</td>\n",
       "    </tr>\n",
       "    <tr>\n",
       "      <th>1</th>\n",
       "      <td>never smoked</td>\n",
       "      <td>drink a lot</td>\n",
       "      <td>i am often early</td>\n",
       "      <td>sometimes</td>\n",
       "      <td>few hours a day</td>\n",
       "      <td>female</td>\n",
       "      <td>right handed</td>\n",
       "      <td>college/bachelor degree</td>\n",
       "      <td>no</td>\n",
       "      <td>city</td>\n",
       "      <td>block of flats</td>\n",
       "    </tr>\n",
       "    <tr>\n",
       "      <th>2</th>\n",
       "      <td>tried smoking</td>\n",
       "      <td>drink a lot</td>\n",
       "      <td>i am often running late</td>\n",
       "      <td>sometimes</td>\n",
       "      <td>few hours a day</td>\n",
       "      <td>female</td>\n",
       "      <td>right handed</td>\n",
       "      <td>secondary school</td>\n",
       "      <td>no</td>\n",
       "      <td>city</td>\n",
       "      <td>block of flats</td>\n",
       "    </tr>\n",
       "    <tr>\n",
       "      <th>3</th>\n",
       "      <td>former smoker</td>\n",
       "      <td>drink a lot</td>\n",
       "      <td>i am often early</td>\n",
       "      <td>only to avoid hurting someone</td>\n",
       "      <td>most of the day</td>\n",
       "      <td>female</td>\n",
       "      <td>right handed</td>\n",
       "      <td>college/bachelor degree</td>\n",
       "      <td>yes</td>\n",
       "      <td>city</td>\n",
       "      <td>house/bungalow</td>\n",
       "    </tr>\n",
       "    <tr>\n",
       "      <th>4</th>\n",
       "      <td>tried smoking</td>\n",
       "      <td>social drinker</td>\n",
       "      <td>i am always on time</td>\n",
       "      <td>everytime it suits me</td>\n",
       "      <td>few hours a day</td>\n",
       "      <td>female</td>\n",
       "      <td>right handed</td>\n",
       "      <td>secondary school</td>\n",
       "      <td>no</td>\n",
       "      <td>village</td>\n",
       "      <td>house/bungalow</td>\n",
       "    </tr>\n",
       "  </tbody>\n",
       "</table>\n",
       "</div>"
      ],
      "text/plain": [
       "         Smoking         Alcohol              Punctuality  \\\n",
       "0   never smoked     drink a lot      i am always on time   \n",
       "1   never smoked     drink a lot         i am often early   \n",
       "2  tried smoking     drink a lot  i am often running late   \n",
       "3  former smoker     drink a lot         i am often early   \n",
       "4  tried smoking  social drinker      i am always on time   \n",
       "\n",
       "                           Lying   Internet usage  Gender Left - right handed  \\\n",
       "0                          never  few hours a day  female        right handed   \n",
       "1                      sometimes  few hours a day  female        right handed   \n",
       "2                      sometimes  few hours a day  female        right handed   \n",
       "3  only to avoid hurting someone  most of the day  female        right handed   \n",
       "4          everytime it suits me  few hours a day  female        right handed   \n",
       "\n",
       "                 Education Only child Village - town House - block of flats  \n",
       "0  college/bachelor degree         no        village         block of flats  \n",
       "1  college/bachelor degree         no           city         block of flats  \n",
       "2         secondary school         no           city         block of flats  \n",
       "3  college/bachelor degree        yes           city         house/bungalow  \n",
       "4         secondary school         no        village         house/bungalow  "
      ]
     },
     "execution_count": 69,
     "metadata": {},
     "output_type": "execute_result"
    }
   ],
   "source": [
    "data.select_dtypes(exclude=[\"int\", \"float\"]).head()"
   ]
  },
  {
   "cell_type": "code",
   "execution_count": 70,
   "metadata": {
    "ExecuteTime": {
     "end_time": "2022-04-18T19:11:43.949022Z",
     "start_time": "2022-04-18T19:11:43.824014Z"
    }
   },
   "outputs": [],
   "source": [
    "binary_features = []\n",
    "category_features  = []\n",
    "\n",
    "for col in data.select_dtypes(exclude = ['int', 'float']).columns: \n",
    "    if data.dropna()[col].nunique() == 2:\n",
    "        binary_features.append(col)\n",
    "    else:\n",
    "        category_features.append(col)"
   ]
  },
  {
   "cell_type": "code",
   "execution_count": 71,
   "metadata": {
    "ExecuteTime": {
     "end_time": "2022-04-18T19:11:43.965024Z",
     "start_time": "2022-04-18T19:11:43.950024Z"
    }
   },
   "outputs": [
    {
     "data": {
      "text/html": [
       "<div>\n",
       "<style scoped>\n",
       "    .dataframe tbody tr th:only-of-type {\n",
       "        vertical-align: middle;\n",
       "    }\n",
       "\n",
       "    .dataframe tbody tr th {\n",
       "        vertical-align: top;\n",
       "    }\n",
       "\n",
       "    .dataframe thead th {\n",
       "        text-align: right;\n",
       "    }\n",
       "</style>\n",
       "<table border=\"1\" class=\"dataframe\">\n",
       "  <thead>\n",
       "    <tr style=\"text-align: right;\">\n",
       "      <th></th>\n",
       "      <th>Smoking</th>\n",
       "      <th>Alcohol</th>\n",
       "      <th>Punctuality</th>\n",
       "      <th>Lying</th>\n",
       "      <th>Internet usage</th>\n",
       "      <th>Education</th>\n",
       "    </tr>\n",
       "  </thead>\n",
       "  <tbody>\n",
       "    <tr>\n",
       "      <th>0</th>\n",
       "      <td>never smoked</td>\n",
       "      <td>drink a lot</td>\n",
       "      <td>i am always on time</td>\n",
       "      <td>never</td>\n",
       "      <td>few hours a day</td>\n",
       "      <td>college/bachelor degree</td>\n",
       "    </tr>\n",
       "    <tr>\n",
       "      <th>1</th>\n",
       "      <td>never smoked</td>\n",
       "      <td>drink a lot</td>\n",
       "      <td>i am often early</td>\n",
       "      <td>sometimes</td>\n",
       "      <td>few hours a day</td>\n",
       "      <td>college/bachelor degree</td>\n",
       "    </tr>\n",
       "    <tr>\n",
       "      <th>2</th>\n",
       "      <td>tried smoking</td>\n",
       "      <td>drink a lot</td>\n",
       "      <td>i am often running late</td>\n",
       "      <td>sometimes</td>\n",
       "      <td>few hours a day</td>\n",
       "      <td>secondary school</td>\n",
       "    </tr>\n",
       "  </tbody>\n",
       "</table>\n",
       "</div>"
      ],
      "text/plain": [
       "         Smoking      Alcohol              Punctuality      Lying  \\\n",
       "0   never smoked  drink a lot      i am always on time      never   \n",
       "1   never smoked  drink a lot         i am often early  sometimes   \n",
       "2  tried smoking  drink a lot  i am often running late  sometimes   \n",
       "\n",
       "    Internet usage                Education  \n",
       "0  few hours a day  college/bachelor degree  \n",
       "1  few hours a day  college/bachelor degree  \n",
       "2  few hours a day         secondary school  "
      ]
     },
     "execution_count": 71,
     "metadata": {},
     "output_type": "execute_result"
    }
   ],
   "source": [
    "data[category_features].head(3)"
   ]
  },
  {
   "cell_type": "code",
   "execution_count": 72,
   "metadata": {
    "ExecuteTime": {
     "end_time": "2022-04-18T19:11:43.981025Z",
     "start_time": "2022-04-18T19:11:43.966024Z"
    }
   },
   "outputs": [
    {
     "data": {
      "text/html": [
       "<div>\n",
       "<style scoped>\n",
       "    .dataframe tbody tr th:only-of-type {\n",
       "        vertical-align: middle;\n",
       "    }\n",
       "\n",
       "    .dataframe tbody tr th {\n",
       "        vertical-align: top;\n",
       "    }\n",
       "\n",
       "    .dataframe thead th {\n",
       "        text-align: right;\n",
       "    }\n",
       "</style>\n",
       "<table border=\"1\" class=\"dataframe\">\n",
       "  <thead>\n",
       "    <tr style=\"text-align: right;\">\n",
       "      <th></th>\n",
       "      <th>Gender</th>\n",
       "      <th>Left - right handed</th>\n",
       "      <th>Only child</th>\n",
       "      <th>Village - town</th>\n",
       "      <th>House - block of flats</th>\n",
       "    </tr>\n",
       "  </thead>\n",
       "  <tbody>\n",
       "    <tr>\n",
       "      <th>0</th>\n",
       "      <td>female</td>\n",
       "      <td>right handed</td>\n",
       "      <td>no</td>\n",
       "      <td>village</td>\n",
       "      <td>block of flats</td>\n",
       "    </tr>\n",
       "    <tr>\n",
       "      <th>1</th>\n",
       "      <td>female</td>\n",
       "      <td>right handed</td>\n",
       "      <td>no</td>\n",
       "      <td>city</td>\n",
       "      <td>block of flats</td>\n",
       "    </tr>\n",
       "    <tr>\n",
       "      <th>2</th>\n",
       "      <td>female</td>\n",
       "      <td>right handed</td>\n",
       "      <td>no</td>\n",
       "      <td>city</td>\n",
       "      <td>block of flats</td>\n",
       "    </tr>\n",
       "  </tbody>\n",
       "</table>\n",
       "</div>"
      ],
      "text/plain": [
       "   Gender Left - right handed Only child Village - town House - block of flats\n",
       "0  female        right handed         no        village         block of flats\n",
       "1  female        right handed         no           city         block of flats\n",
       "2  female        right handed         no           city         block of flats"
      ]
     },
     "execution_count": 72,
     "metadata": {},
     "output_type": "execute_result"
    }
   ],
   "source": [
    "data[binary_features].head(3)"
   ]
  },
  {
   "cell_type": "markdown",
   "metadata": {},
   "source": [
    "# Все,теперь у нас три типа признаков"
   ]
  },
  {
   "cell_type": "code",
   "execution_count": 73,
   "metadata": {
    "ExecuteTime": {
     "end_time": "2022-04-18T19:11:43.997026Z",
     "start_time": "2022-04-18T19:11:43.982026Z"
    }
   },
   "outputs": [],
   "source": [
    "interesting_features = numerical_features + category_features + binary_features\n",
    "\n",
    "target = [\"Happiness in life\"]\n",
    "\n",
    "data = data[interesting_features]"
   ]
  },
  {
   "cell_type": "code",
   "execution_count": 74,
   "metadata": {
    "ExecuteTime": {
     "end_time": "2022-04-18T19:11:44.029028Z",
     "start_time": "2022-04-18T19:11:43.998026Z"
    }
   },
   "outputs": [
    {
     "data": {
      "text/html": [
       "<div>\n",
       "<style scoped>\n",
       "    .dataframe tbody tr th:only-of-type {\n",
       "        vertical-align: middle;\n",
       "    }\n",
       "\n",
       "    .dataframe tbody tr th {\n",
       "        vertical-align: top;\n",
       "    }\n",
       "\n",
       "    .dataframe thead th {\n",
       "        text-align: right;\n",
       "    }\n",
       "</style>\n",
       "<table border=\"1\" class=\"dataframe\">\n",
       "  <thead>\n",
       "    <tr style=\"text-align: right;\">\n",
       "      <th></th>\n",
       "      <th>Music</th>\n",
       "      <th>Slow songs or fast songs</th>\n",
       "      <th>Dance</th>\n",
       "      <th>Folk</th>\n",
       "      <th>Country</th>\n",
       "      <th>Classical music</th>\n",
       "      <th>Musical</th>\n",
       "      <th>Pop</th>\n",
       "      <th>Rock</th>\n",
       "      <th>Metal or Hardrock</th>\n",
       "      <th>...</th>\n",
       "      <th>Alcohol</th>\n",
       "      <th>Punctuality</th>\n",
       "      <th>Lying</th>\n",
       "      <th>Internet usage</th>\n",
       "      <th>Education</th>\n",
       "      <th>Gender</th>\n",
       "      <th>Left - right handed</th>\n",
       "      <th>Only child</th>\n",
       "      <th>Village - town</th>\n",
       "      <th>House - block of flats</th>\n",
       "    </tr>\n",
       "  </thead>\n",
       "  <tbody>\n",
       "    <tr>\n",
       "      <th>0</th>\n",
       "      <td>5.0</td>\n",
       "      <td>3.0</td>\n",
       "      <td>2.0</td>\n",
       "      <td>1.0</td>\n",
       "      <td>2.0</td>\n",
       "      <td>2.0</td>\n",
       "      <td>1.0</td>\n",
       "      <td>5.0</td>\n",
       "      <td>5.0</td>\n",
       "      <td>1.0</td>\n",
       "      <td>...</td>\n",
       "      <td>drink a lot</td>\n",
       "      <td>i am always on time</td>\n",
       "      <td>never</td>\n",
       "      <td>few hours a day</td>\n",
       "      <td>college/bachelor degree</td>\n",
       "      <td>female</td>\n",
       "      <td>right handed</td>\n",
       "      <td>no</td>\n",
       "      <td>village</td>\n",
       "      <td>block of flats</td>\n",
       "    </tr>\n",
       "    <tr>\n",
       "      <th>1</th>\n",
       "      <td>4.0</td>\n",
       "      <td>4.0</td>\n",
       "      <td>2.0</td>\n",
       "      <td>1.0</td>\n",
       "      <td>1.0</td>\n",
       "      <td>1.0</td>\n",
       "      <td>2.0</td>\n",
       "      <td>3.0</td>\n",
       "      <td>5.0</td>\n",
       "      <td>4.0</td>\n",
       "      <td>...</td>\n",
       "      <td>drink a lot</td>\n",
       "      <td>i am often early</td>\n",
       "      <td>sometimes</td>\n",
       "      <td>few hours a day</td>\n",
       "      <td>college/bachelor degree</td>\n",
       "      <td>female</td>\n",
       "      <td>right handed</td>\n",
       "      <td>no</td>\n",
       "      <td>city</td>\n",
       "      <td>block of flats</td>\n",
       "    </tr>\n",
       "    <tr>\n",
       "      <th>2</th>\n",
       "      <td>5.0</td>\n",
       "      <td>5.0</td>\n",
       "      <td>2.0</td>\n",
       "      <td>2.0</td>\n",
       "      <td>3.0</td>\n",
       "      <td>4.0</td>\n",
       "      <td>5.0</td>\n",
       "      <td>3.0</td>\n",
       "      <td>5.0</td>\n",
       "      <td>3.0</td>\n",
       "      <td>...</td>\n",
       "      <td>drink a lot</td>\n",
       "      <td>i am often running late</td>\n",
       "      <td>sometimes</td>\n",
       "      <td>few hours a day</td>\n",
       "      <td>secondary school</td>\n",
       "      <td>female</td>\n",
       "      <td>right handed</td>\n",
       "      <td>no</td>\n",
       "      <td>city</td>\n",
       "      <td>block of flats</td>\n",
       "    </tr>\n",
       "  </tbody>\n",
       "</table>\n",
       "<p>3 rows × 150 columns</p>\n",
       "</div>"
      ],
      "text/plain": [
       "   Music  Slow songs or fast songs  Dance  Folk  Country  Classical music  \\\n",
       "0    5.0                       3.0    2.0   1.0      2.0              2.0   \n",
       "1    4.0                       4.0    2.0   1.0      1.0              1.0   \n",
       "2    5.0                       5.0    2.0   2.0      3.0              4.0   \n",
       "\n",
       "   Musical  Pop  Rock  Metal or Hardrock  ...      Alcohol  \\\n",
       "0      1.0  5.0   5.0                1.0  ...  drink a lot   \n",
       "1      2.0  3.0   5.0                4.0  ...  drink a lot   \n",
       "2      5.0  3.0   5.0                3.0  ...  drink a lot   \n",
       "\n",
       "               Punctuality      Lying   Internet usage  \\\n",
       "0      i am always on time      never  few hours a day   \n",
       "1         i am often early  sometimes  few hours a day   \n",
       "2  i am often running late  sometimes  few hours a day   \n",
       "\n",
       "                 Education  Gender  Left - right handed  Only child  \\\n",
       "0  college/bachelor degree  female         right handed          no   \n",
       "1  college/bachelor degree  female         right handed          no   \n",
       "2         secondary school  female         right handed          no   \n",
       "\n",
       "   Village - town  House - block of flats  \n",
       "0         village          block of flats  \n",
       "1            city          block of flats  \n",
       "2            city          block of flats  \n",
       "\n",
       "[3 rows x 150 columns]"
      ]
     },
     "execution_count": 74,
     "metadata": {},
     "output_type": "execute_result"
    }
   ],
   "source": [
    "data.head(3)"
   ]
  },
  {
   "cell_type": "markdown",
   "metadata": {},
   "source": [
    "# Numerical features"
   ]
  },
  {
   "cell_type": "code",
   "execution_count": 75,
   "metadata": {
    "ExecuteTime": {
     "end_time": "2022-04-18T19:11:44.061030Z",
     "start_time": "2022-04-18T19:11:44.031031Z"
    }
   },
   "outputs": [
    {
     "data": {
      "text/html": [
       "<div>\n",
       "<style scoped>\n",
       "    .dataframe tbody tr th:only-of-type {\n",
       "        vertical-align: middle;\n",
       "    }\n",
       "\n",
       "    .dataframe tbody tr th {\n",
       "        vertical-align: top;\n",
       "    }\n",
       "\n",
       "    .dataframe thead th {\n",
       "        text-align: right;\n",
       "    }\n",
       "</style>\n",
       "<table border=\"1\" class=\"dataframe\">\n",
       "  <thead>\n",
       "    <tr style=\"text-align: right;\">\n",
       "      <th></th>\n",
       "      <th>Music</th>\n",
       "      <th>Slow songs or fast songs</th>\n",
       "      <th>Dance</th>\n",
       "      <th>Folk</th>\n",
       "      <th>Country</th>\n",
       "      <th>Classical music</th>\n",
       "      <th>Musical</th>\n",
       "      <th>Pop</th>\n",
       "      <th>Rock</th>\n",
       "      <th>Metal or Hardrock</th>\n",
       "      <th>...</th>\n",
       "      <th>Shopping centres</th>\n",
       "      <th>Branded clothing</th>\n",
       "      <th>Entertainment spending</th>\n",
       "      <th>Spending on looks</th>\n",
       "      <th>Spending on gadgets</th>\n",
       "      <th>Spending on healthy eating</th>\n",
       "      <th>Age</th>\n",
       "      <th>Height</th>\n",
       "      <th>Weight</th>\n",
       "      <th>Number of siblings</th>\n",
       "    </tr>\n",
       "  </thead>\n",
       "  <tbody>\n",
       "    <tr>\n",
       "      <th>0</th>\n",
       "      <td>5.0</td>\n",
       "      <td>3.0</td>\n",
       "      <td>2.0</td>\n",
       "      <td>1.0</td>\n",
       "      <td>2.0</td>\n",
       "      <td>2.0</td>\n",
       "      <td>1.0</td>\n",
       "      <td>5.0</td>\n",
       "      <td>5.0</td>\n",
       "      <td>1.0</td>\n",
       "      <td>...</td>\n",
       "      <td>4.0</td>\n",
       "      <td>5.0</td>\n",
       "      <td>3.0</td>\n",
       "      <td>3.0</td>\n",
       "      <td>1</td>\n",
       "      <td>3.0</td>\n",
       "      <td>20.0</td>\n",
       "      <td>163.0</td>\n",
       "      <td>48.0</td>\n",
       "      <td>1.0</td>\n",
       "    </tr>\n",
       "    <tr>\n",
       "      <th>1</th>\n",
       "      <td>4.0</td>\n",
       "      <td>4.0</td>\n",
       "      <td>2.0</td>\n",
       "      <td>1.0</td>\n",
       "      <td>1.0</td>\n",
       "      <td>1.0</td>\n",
       "      <td>2.0</td>\n",
       "      <td>3.0</td>\n",
       "      <td>5.0</td>\n",
       "      <td>4.0</td>\n",
       "      <td>...</td>\n",
       "      <td>4.0</td>\n",
       "      <td>1.0</td>\n",
       "      <td>4.0</td>\n",
       "      <td>2.0</td>\n",
       "      <td>5</td>\n",
       "      <td>2.0</td>\n",
       "      <td>19.0</td>\n",
       "      <td>163.0</td>\n",
       "      <td>58.0</td>\n",
       "      <td>2.0</td>\n",
       "    </tr>\n",
       "  </tbody>\n",
       "</table>\n",
       "<p>2 rows × 139 columns</p>\n",
       "</div>"
      ],
      "text/plain": [
       "   Music  Slow songs or fast songs  Dance  Folk  Country  Classical music  \\\n",
       "0    5.0                       3.0    2.0   1.0      2.0              2.0   \n",
       "1    4.0                       4.0    2.0   1.0      1.0              1.0   \n",
       "\n",
       "   Musical  Pop  Rock  Metal or Hardrock  ...  Shopping centres  \\\n",
       "0      1.0  5.0   5.0                1.0  ...               4.0   \n",
       "1      2.0  3.0   5.0                4.0  ...               4.0   \n",
       "\n",
       "   Branded clothing  Entertainment spending  Spending on looks  \\\n",
       "0               5.0                     3.0                3.0   \n",
       "1               1.0                     4.0                2.0   \n",
       "\n",
       "   Spending on gadgets  Spending on healthy eating   Age  Height  Weight  \\\n",
       "0                    1                         3.0  20.0   163.0    48.0   \n",
       "1                    5                         2.0  19.0   163.0    58.0   \n",
       "\n",
       "   Number of siblings  \n",
       "0                 1.0  \n",
       "1                 2.0  \n",
       "\n",
       "[2 rows x 139 columns]"
      ]
     },
     "execution_count": 75,
     "metadata": {},
     "output_type": "execute_result"
    }
   ],
   "source": [
    "data[numerical_features].head(2)"
   ]
  },
  {
   "cell_type": "code",
   "execution_count": 76,
   "metadata": {
    "ExecuteTime": {
     "end_time": "2022-04-18T19:11:44.077031Z",
     "start_time": "2022-04-18T19:11:44.063032Z"
    }
   },
   "outputs": [],
   "source": [
    "from sklearn.preprocessing import FunctionTransformer"
   ]
  },
  {
   "cell_type": "code",
   "execution_count": 77,
   "metadata": {
    "ExecuteTime": {
     "end_time": "2022-04-18T19:11:44.109034Z",
     "start_time": "2022-04-18T19:11:44.079036Z"
    }
   },
   "outputs": [
    {
     "data": {
      "text/html": [
       "<div>\n",
       "<style scoped>\n",
       "    .dataframe tbody tr th:only-of-type {\n",
       "        vertical-align: middle;\n",
       "    }\n",
       "\n",
       "    .dataframe tbody tr th {\n",
       "        vertical-align: top;\n",
       "    }\n",
       "\n",
       "    .dataframe thead th {\n",
       "        text-align: right;\n",
       "    }\n",
       "</style>\n",
       "<table border=\"1\" class=\"dataframe\">\n",
       "  <thead>\n",
       "    <tr style=\"text-align: right;\">\n",
       "      <th></th>\n",
       "      <th>Music</th>\n",
       "      <th>Slow songs or fast songs</th>\n",
       "      <th>Dance</th>\n",
       "      <th>Folk</th>\n",
       "      <th>Country</th>\n",
       "      <th>Classical music</th>\n",
       "      <th>Musical</th>\n",
       "      <th>Pop</th>\n",
       "      <th>Rock</th>\n",
       "      <th>Metal or Hardrock</th>\n",
       "      <th>...</th>\n",
       "      <th>Branded clothing</th>\n",
       "      <th>Entertainment spending</th>\n",
       "      <th>Spending on looks</th>\n",
       "      <th>Spending on gadgets</th>\n",
       "      <th>Spending on healthy eating</th>\n",
       "      <th>Age</th>\n",
       "      <th>Height</th>\n",
       "      <th>Weight</th>\n",
       "      <th>Number of siblings</th>\n",
       "      <th>random_values</th>\n",
       "    </tr>\n",
       "  </thead>\n",
       "  <tbody>\n",
       "    <tr>\n",
       "      <th>0</th>\n",
       "      <td>5.0</td>\n",
       "      <td>3.0</td>\n",
       "      <td>2.0</td>\n",
       "      <td>1.0</td>\n",
       "      <td>2.0</td>\n",
       "      <td>2.0</td>\n",
       "      <td>1.0</td>\n",
       "      <td>5.0</td>\n",
       "      <td>5.0</td>\n",
       "      <td>1.0</td>\n",
       "      <td>...</td>\n",
       "      <td>5.0</td>\n",
       "      <td>3.0</td>\n",
       "      <td>3.0</td>\n",
       "      <td>1</td>\n",
       "      <td>3.0</td>\n",
       "      <td>20.0</td>\n",
       "      <td>163.0</td>\n",
       "      <td>48.0</td>\n",
       "      <td>1.0</td>\n",
       "      <td>1.264141</td>\n",
       "    </tr>\n",
       "    <tr>\n",
       "      <th>1</th>\n",
       "      <td>4.0</td>\n",
       "      <td>4.0</td>\n",
       "      <td>2.0</td>\n",
       "      <td>1.0</td>\n",
       "      <td>1.0</td>\n",
       "      <td>1.0</td>\n",
       "      <td>2.0</td>\n",
       "      <td>3.0</td>\n",
       "      <td>5.0</td>\n",
       "      <td>4.0</td>\n",
       "      <td>...</td>\n",
       "      <td>1.0</td>\n",
       "      <td>4.0</td>\n",
       "      <td>2.0</td>\n",
       "      <td>5</td>\n",
       "      <td>2.0</td>\n",
       "      <td>19.0</td>\n",
       "      <td>163.0</td>\n",
       "      <td>58.0</td>\n",
       "      <td>2.0</td>\n",
       "      <td>-0.134443</td>\n",
       "    </tr>\n",
       "    <tr>\n",
       "      <th>2</th>\n",
       "      <td>5.0</td>\n",
       "      <td>5.0</td>\n",
       "      <td>2.0</td>\n",
       "      <td>2.0</td>\n",
       "      <td>3.0</td>\n",
       "      <td>4.0</td>\n",
       "      <td>5.0</td>\n",
       "      <td>3.0</td>\n",
       "      <td>5.0</td>\n",
       "      <td>3.0</td>\n",
       "      <td>...</td>\n",
       "      <td>1.0</td>\n",
       "      <td>4.0</td>\n",
       "      <td>3.0</td>\n",
       "      <td>4</td>\n",
       "      <td>2.0</td>\n",
       "      <td>20.0</td>\n",
       "      <td>176.0</td>\n",
       "      <td>67.0</td>\n",
       "      <td>2.0</td>\n",
       "      <td>0.992601</td>\n",
       "    </tr>\n",
       "  </tbody>\n",
       "</table>\n",
       "<p>3 rows × 140 columns</p>\n",
       "</div>"
      ],
      "text/plain": [
       "   Music  Slow songs or fast songs  Dance  Folk  Country  Classical music  \\\n",
       "0    5.0                       3.0    2.0   1.0      2.0              2.0   \n",
       "1    4.0                       4.0    2.0   1.0      1.0              1.0   \n",
       "2    5.0                       5.0    2.0   2.0      3.0              4.0   \n",
       "\n",
       "   Musical  Pop  Rock  Metal or Hardrock  ...  Branded clothing  \\\n",
       "0      1.0  5.0   5.0                1.0  ...               5.0   \n",
       "1      2.0  3.0   5.0                4.0  ...               1.0   \n",
       "2      5.0  3.0   5.0                3.0  ...               1.0   \n",
       "\n",
       "   Entertainment spending  Spending on looks  Spending on gadgets  \\\n",
       "0                     3.0                3.0                    1   \n",
       "1                     4.0                2.0                    5   \n",
       "2                     4.0                3.0                    4   \n",
       "\n",
       "   Spending on healthy eating   Age  Height  Weight  Number of siblings  \\\n",
       "0                         3.0  20.0   163.0    48.0                 1.0   \n",
       "1                         2.0  19.0   163.0    58.0                 2.0   \n",
       "2                         2.0  20.0   176.0    67.0                 2.0   \n",
       "\n",
       "   random_values  \n",
       "0       1.264141  \n",
       "1      -0.134443  \n",
       "2       0.992601  \n",
       "\n",
       "[3 rows x 140 columns]"
      ]
     },
     "execution_count": 77,
     "metadata": {},
     "output_type": "execute_result"
    }
   ],
   "source": [
    "# Тот же способ через функцию\n",
    "def numerical_select(data):\n",
    "\n",
    "    data['random_values'] = np.random.normal(size = len(data))\n",
    "    \n",
    "    return data[numerical_features + ['random_values']]\n",
    "\n",
    "# Превращаем функцию в трансформер\n",
    "numerical_selector = FunctionTransformer(numerical_select, validate=False)\n",
    "\n",
    "numerical_selector.fit_transform(data).head(3)"
   ]
  },
  {
   "cell_type": "code",
   "execution_count": 78,
   "metadata": {
    "ExecuteTime": {
     "end_time": "2022-04-18T19:11:44.125036Z",
     "start_time": "2022-04-18T19:11:44.110036Z"
    }
   },
   "outputs": [],
   "source": [
    "# Тот же способ через лямбда-функцию\n",
    "# numerical_selector = FunctionTransformer(lambda data: data[numerical_features], validate=False)"
   ]
  },
  {
   "cell_type": "code",
   "execution_count": 79,
   "metadata": {
    "ExecuteTime": {
     "end_time": "2022-04-18T19:11:44.141038Z",
     "start_time": "2022-04-18T19:11:44.126038Z"
    },
    "hide_input": false
   },
   "outputs": [],
   "source": [
    "from sklearn.preprocessing import StandardScaler, OneHotEncoder\n",
    "\n",
    "scaler = StandardScaler()"
   ]
  },
  {
   "cell_type": "code",
   "execution_count": 80,
   "metadata": {
    "ExecuteTime": {
     "end_time": "2022-04-18T19:11:44.156039Z",
     "start_time": "2022-04-18T19:11:44.142039Z"
    }
   },
   "outputs": [],
   "source": [
    "numerical_preprocessor = Pipeline([(\"numerical_selector\", numerical_selector),\n",
    "                                   (\"scaling\", scaler)])"
   ]
  },
  {
   "cell_type": "code",
   "execution_count": 81,
   "metadata": {
    "ExecuteTime": {
     "end_time": "2022-04-18T19:11:44.187316Z",
     "start_time": "2022-04-18T19:11:44.158040Z"
    }
   },
   "outputs": [
    {
     "data": {
      "text/plain": [
       "array([[ 0.40397078, -0.39396081, -0.95156664, ..., -1.33055906,\n",
       "        -0.29403239,  1.50176313],\n",
       "       [-1.10269062,  0.80577482, -0.95156664, ..., -0.60762757,\n",
       "         0.69328707, -0.13773749],\n",
       "       [ 0.40397078,  2.00551046, -0.95156664, ...,  0.04301077,\n",
       "         0.69328707, -0.71712826],\n",
       "       ...,\n",
       "       [-1.10269062, -0.39396081, -1.80627739, ...,  0.62135597,\n",
       "        -1.28135184, -1.29881946],\n",
       "       [ 0.40397078, -0.39396081, -0.09685589, ..., -0.60762757,\n",
       "        -0.29403239,  0.42367737],\n",
       "       [ 0.40397078,  2.00551046,  0.75785486, ...,  0.40447652,\n",
       "        -0.29403239, -0.49579013]])"
      ]
     },
     "execution_count": 81,
     "metadata": {},
     "output_type": "execute_result"
    }
   ],
   "source": [
    "numerical_preprocessor.fit_transform(data) \n",
    "# Куда-то пропали столцы, надо исправлять!!!"
   ]
  },
  {
   "cell_type": "code",
   "execution_count": 82,
   "metadata": {
    "ExecuteTime": {
     "end_time": "2022-04-18T19:11:44.218543Z",
     "start_time": "2022-04-18T19:11:44.198318Z"
    }
   },
   "outputs": [
    {
     "data": {
      "text/html": [
       "<style>#sk-5540fd60-f7f4-4c59-8c6c-471ac173cfc0 {color: black;background-color: white;}#sk-5540fd60-f7f4-4c59-8c6c-471ac173cfc0 pre{padding: 0;}#sk-5540fd60-f7f4-4c59-8c6c-471ac173cfc0 div.sk-toggleable {background-color: white;}#sk-5540fd60-f7f4-4c59-8c6c-471ac173cfc0 label.sk-toggleable__label {cursor: pointer;display: block;width: 100%;margin-bottom: 0;padding: 0.2em 0.3em;box-sizing: border-box;text-align: center;}#sk-5540fd60-f7f4-4c59-8c6c-471ac173cfc0 div.sk-toggleable__content {max-height: 0;max-width: 0;overflow: hidden;text-align: left;background-color: #f0f8ff;}#sk-5540fd60-f7f4-4c59-8c6c-471ac173cfc0 div.sk-toggleable__content pre {margin: 0.2em;color: black;border-radius: 0.25em;background-color: #f0f8ff;}#sk-5540fd60-f7f4-4c59-8c6c-471ac173cfc0 input.sk-toggleable__control:checked~div.sk-toggleable__content {max-height: 200px;max-width: 100%;overflow: auto;}#sk-5540fd60-f7f4-4c59-8c6c-471ac173cfc0 div.sk-estimator input.sk-toggleable__control:checked~label.sk-toggleable__label {background-color: #d4ebff;}#sk-5540fd60-f7f4-4c59-8c6c-471ac173cfc0 div.sk-label input.sk-toggleable__control:checked~label.sk-toggleable__label {background-color: #d4ebff;}#sk-5540fd60-f7f4-4c59-8c6c-471ac173cfc0 input.sk-hidden--visually {border: 0;clip: rect(1px 1px 1px 1px);clip: rect(1px, 1px, 1px, 1px);height: 1px;margin: -1px;overflow: hidden;padding: 0;position: absolute;width: 1px;}#sk-5540fd60-f7f4-4c59-8c6c-471ac173cfc0 div.sk-estimator {font-family: monospace;background-color: #f0f8ff;margin: 0.25em 0.25em;border: 1px dotted black;border-radius: 0.25em;box-sizing: border-box;}#sk-5540fd60-f7f4-4c59-8c6c-471ac173cfc0 div.sk-estimator:hover {background-color: #d4ebff;}#sk-5540fd60-f7f4-4c59-8c6c-471ac173cfc0 div.sk-parallel-item::after {content: \"\";width: 100%;border-bottom: 1px solid gray;flex-grow: 1;}#sk-5540fd60-f7f4-4c59-8c6c-471ac173cfc0 div.sk-label:hover label.sk-toggleable__label {background-color: #d4ebff;}#sk-5540fd60-f7f4-4c59-8c6c-471ac173cfc0 div.sk-serial::before {content: \"\";position: absolute;border-left: 1px solid gray;box-sizing: border-box;top: 2em;bottom: 0;left: 50%;}#sk-5540fd60-f7f4-4c59-8c6c-471ac173cfc0 div.sk-serial {display: flex;flex-direction: column;align-items: center;background-color: white;}#sk-5540fd60-f7f4-4c59-8c6c-471ac173cfc0 div.sk-item {z-index: 1;}#sk-5540fd60-f7f4-4c59-8c6c-471ac173cfc0 div.sk-parallel {display: flex;align-items: stretch;justify-content: center;background-color: white;}#sk-5540fd60-f7f4-4c59-8c6c-471ac173cfc0 div.sk-parallel-item {display: flex;flex-direction: column;position: relative;background-color: white;}#sk-5540fd60-f7f4-4c59-8c6c-471ac173cfc0 div.sk-parallel-item:first-child::after {align-self: flex-end;width: 50%;}#sk-5540fd60-f7f4-4c59-8c6c-471ac173cfc0 div.sk-parallel-item:last-child::after {align-self: flex-start;width: 50%;}#sk-5540fd60-f7f4-4c59-8c6c-471ac173cfc0 div.sk-parallel-item:only-child::after {width: 0;}#sk-5540fd60-f7f4-4c59-8c6c-471ac173cfc0 div.sk-dashed-wrapped {border: 1px dashed gray;margin: 0.2em;box-sizing: border-box;padding-bottom: 0.1em;background-color: white;position: relative;}#sk-5540fd60-f7f4-4c59-8c6c-471ac173cfc0 div.sk-label label {font-family: monospace;font-weight: bold;background-color: white;display: inline-block;line-height: 1.2em;}#sk-5540fd60-f7f4-4c59-8c6c-471ac173cfc0 div.sk-label-container {position: relative;z-index: 2;text-align: center;}#sk-5540fd60-f7f4-4c59-8c6c-471ac173cfc0 div.sk-container {display: inline-block;position: relative;}</style><div id=\"sk-5540fd60-f7f4-4c59-8c6c-471ac173cfc0\" class\"sk-top-container\"><div class=\"sk-container\"><div class=\"sk-item\"><div class=\"sk-estimator sk-toggleable\"><input class=\"sk-toggleable__control sk-hidden--visually\" id=\"3640fb97-39c8-4795-8a8b-54bc6e11a789\" type=\"checkbox\" checked><label class=\"sk-toggleable__label\" for=\"3640fb97-39c8-4795-8a8b-54bc6e11a789\">StandardScaler</label><div class=\"sk-toggleable__content\"><pre>StandardScaler()</pre></div></div></div></div></div>"
      ],
      "text/plain": [
       "StandardScaler()"
      ]
     },
     "execution_count": 82,
     "metadata": {},
     "output_type": "execute_result"
    }
   ],
   "source": [
    "# Pipeline в отличии от make_pipline дает возможность обращася к объекту пайплайна по названию\n",
    "numerical_preprocessor.named_steps['scaling'] #"
   ]
  },
  {
   "cell_type": "code",
   "execution_count": 83,
   "metadata": {
    "ExecuteTime": {
     "end_time": "2022-04-18T19:11:44.234547Z",
     "start_time": "2022-04-18T19:11:44.219545Z"
    }
   },
   "outputs": [],
   "source": [
    "class StandardScalerDf(StandardScaler):\n",
    "    \"\"\"\n",
    "    DataFrame Wrapper around StandardScaler\n",
    "    http://flennerhag.com/2017-01-08-Recursive-Override/\n",
    "    \"\"\"\n",
    "    def __init__(self, copy=True, with_mean=True, with_std=True):\n",
    "        super(StandardScalerDf, self).__init__(copy=copy,\n",
    "                                               with_mean=with_mean,\n",
    "                                               with_std=with_std)\n",
    "        self.feature_names = None\n",
    "\n",
    "    def transform(self, X, y=None):\n",
    "        self.feature_names = X.columns\n",
    "        \n",
    "        z = super(StandardScalerDf, self).transform(X.values)\n",
    "        \n",
    "        return pd.DataFrame(z, index=X.index, columns=self.feature_names)\n",
    "    \n",
    "    def get_feature_names(self):\n",
    "        return self.feature_names"
   ]
  },
  {
   "cell_type": "code",
   "execution_count": 84,
   "metadata": {
    "ExecuteTime": {
     "end_time": "2022-04-18T19:11:44.250546Z",
     "start_time": "2022-04-18T19:11:44.236549Z"
    }
   },
   "outputs": [],
   "source": [
    "scaler_df = StandardScalerDf()"
   ]
  },
  {
   "cell_type": "code",
   "execution_count": 85,
   "metadata": {
    "ExecuteTime": {
     "end_time": "2022-04-18T19:11:44.266550Z",
     "start_time": "2022-04-18T19:11:44.251548Z"
    }
   },
   "outputs": [],
   "source": [
    "numerical_preprocessor = Pipeline([\n",
    "    (\"numerical_selector\", numerical_selector),\n",
    "    (\"scaling\", scaler_df)\n",
    "])"
   ]
  },
  {
   "cell_type": "code",
   "execution_count": 86,
   "metadata": {
    "ExecuteTime": {
     "end_time": "2022-04-18T19:11:44.298549Z",
     "start_time": "2022-04-18T19:11:44.267547Z"
    }
   },
   "outputs": [
    {
     "data": {
      "text/html": [
       "<div>\n",
       "<style scoped>\n",
       "    .dataframe tbody tr th:only-of-type {\n",
       "        vertical-align: middle;\n",
       "    }\n",
       "\n",
       "    .dataframe tbody tr th {\n",
       "        vertical-align: top;\n",
       "    }\n",
       "\n",
       "    .dataframe thead th {\n",
       "        text-align: right;\n",
       "    }\n",
       "</style>\n",
       "<table border=\"1\" class=\"dataframe\">\n",
       "  <thead>\n",
       "    <tr style=\"text-align: right;\">\n",
       "      <th></th>\n",
       "      <th>Music</th>\n",
       "      <th>Slow songs or fast songs</th>\n",
       "      <th>Dance</th>\n",
       "      <th>Folk</th>\n",
       "      <th>Country</th>\n",
       "      <th>Classical music</th>\n",
       "      <th>Musical</th>\n",
       "      <th>Pop</th>\n",
       "      <th>Rock</th>\n",
       "      <th>Metal or Hardrock</th>\n",
       "      <th>...</th>\n",
       "      <th>Branded clothing</th>\n",
       "      <th>Entertainment spending</th>\n",
       "      <th>Spending on looks</th>\n",
       "      <th>Spending on gadgets</th>\n",
       "      <th>Spending on healthy eating</th>\n",
       "      <th>Age</th>\n",
       "      <th>Height</th>\n",
       "      <th>Weight</th>\n",
       "      <th>Number of siblings</th>\n",
       "      <th>random_values</th>\n",
       "    </tr>\n",
       "  </thead>\n",
       "  <tbody>\n",
       "    <tr>\n",
       "      <th>0</th>\n",
       "      <td>0.403971</td>\n",
       "      <td>-0.393961</td>\n",
       "      <td>-0.951567</td>\n",
       "      <td>-1.131952</td>\n",
       "      <td>-0.114711</td>\n",
       "      <td>-0.763717</td>\n",
       "      <td>-1.398094</td>\n",
       "      <td>1.316567</td>\n",
       "      <td>1.04541</td>\n",
       "      <td>-0.992099</td>\n",
       "      <td>...</td>\n",
       "      <td>1.493027</td>\n",
       "      <td>-0.169637</td>\n",
       "      <td>-0.088196</td>\n",
       "      <td>-1.456239</td>\n",
       "      <td>-0.510004</td>\n",
       "      <td>-0.153390</td>\n",
       "      <td>-1.049374</td>\n",
       "      <td>-1.330559</td>\n",
       "      <td>-0.294032</td>\n",
       "      <td>0.414096</td>\n",
       "    </tr>\n",
       "    <tr>\n",
       "      <th>1</th>\n",
       "      <td>-1.102691</td>\n",
       "      <td>0.805775</td>\n",
       "      <td>-0.951567</td>\n",
       "      <td>-1.131952</td>\n",
       "      <td>-1.044424</td>\n",
       "      <td>-1.562473</td>\n",
       "      <td>-0.604581</td>\n",
       "      <td>-0.406348</td>\n",
       "      <td>1.04541</td>\n",
       "      <td>1.193992</td>\n",
       "      <td>...</td>\n",
       "      <td>-1.570528</td>\n",
       "      <td>0.671861</td>\n",
       "      <td>-0.918230</td>\n",
       "      <td>1.658216</td>\n",
       "      <td>-1.424743</td>\n",
       "      <td>-0.507068</td>\n",
       "      <td>-1.049374</td>\n",
       "      <td>-0.607628</td>\n",
       "      <td>0.693287</td>\n",
       "      <td>0.636021</td>\n",
       "    </tr>\n",
       "    <tr>\n",
       "      <th>2</th>\n",
       "      <td>0.403971</td>\n",
       "      <td>2.005510</td>\n",
       "      <td>-0.951567</td>\n",
       "      <td>-0.253487</td>\n",
       "      <td>0.815003</td>\n",
       "      <td>0.833797</td>\n",
       "      <td>1.775957</td>\n",
       "      <td>-0.406348</td>\n",
       "      <td>1.04541</td>\n",
       "      <td>0.465295</td>\n",
       "      <td>...</td>\n",
       "      <td>-1.570528</td>\n",
       "      <td>0.671861</td>\n",
       "      <td>-0.088196</td>\n",
       "      <td>0.879602</td>\n",
       "      <td>-1.424743</td>\n",
       "      <td>-0.153390</td>\n",
       "      <td>0.248104</td>\n",
       "      <td>0.043011</td>\n",
       "      <td>0.693287</td>\n",
       "      <td>0.165388</td>\n",
       "    </tr>\n",
       "  </tbody>\n",
       "</table>\n",
       "<p>3 rows × 140 columns</p>\n",
       "</div>"
      ],
      "text/plain": [
       "      Music  Slow songs or fast songs     Dance      Folk   Country  \\\n",
       "0  0.403971                 -0.393961 -0.951567 -1.131952 -0.114711   \n",
       "1 -1.102691                  0.805775 -0.951567 -1.131952 -1.044424   \n",
       "2  0.403971                  2.005510 -0.951567 -0.253487  0.815003   \n",
       "\n",
       "   Classical music   Musical       Pop     Rock  Metal or Hardrock  ...  \\\n",
       "0        -0.763717 -1.398094  1.316567  1.04541          -0.992099  ...   \n",
       "1        -1.562473 -0.604581 -0.406348  1.04541           1.193992  ...   \n",
       "2         0.833797  1.775957 -0.406348  1.04541           0.465295  ...   \n",
       "\n",
       "   Branded clothing  Entertainment spending  Spending on looks  \\\n",
       "0          1.493027               -0.169637          -0.088196   \n",
       "1         -1.570528                0.671861          -0.918230   \n",
       "2         -1.570528                0.671861          -0.088196   \n",
       "\n",
       "   Spending on gadgets  Spending on healthy eating       Age    Height  \\\n",
       "0            -1.456239                   -0.510004 -0.153390 -1.049374   \n",
       "1             1.658216                   -1.424743 -0.507068 -1.049374   \n",
       "2             0.879602                   -1.424743 -0.153390  0.248104   \n",
       "\n",
       "     Weight  Number of siblings  random_values  \n",
       "0 -1.330559           -0.294032       0.414096  \n",
       "1 -0.607628            0.693287       0.636021  \n",
       "2  0.043011            0.693287       0.165388  \n",
       "\n",
       "[3 rows x 140 columns]"
      ]
     },
     "execution_count": 86,
     "metadata": {},
     "output_type": "execute_result"
    }
   ],
   "source": [
    "numerical_preprocessor.fit_transform(data).head(3) # Сохраняются названия столцов. Лушче, но можно сделать меньше кода"
   ]
  },
  {
   "cell_type": "code",
   "execution_count": 87,
   "metadata": {
    "ExecuteTime": {
     "end_time": "2022-04-18T19:11:44.314549Z",
     "start_time": "2022-04-18T19:11:44.299552Z"
    }
   },
   "outputs": [
    {
     "data": {
      "text/html": [
       "<style>#sk-3e5543ca-b5f6-4093-a1b0-7f1e34d962df {color: black;background-color: white;}#sk-3e5543ca-b5f6-4093-a1b0-7f1e34d962df pre{padding: 0;}#sk-3e5543ca-b5f6-4093-a1b0-7f1e34d962df div.sk-toggleable {background-color: white;}#sk-3e5543ca-b5f6-4093-a1b0-7f1e34d962df label.sk-toggleable__label {cursor: pointer;display: block;width: 100%;margin-bottom: 0;padding: 0.2em 0.3em;box-sizing: border-box;text-align: center;}#sk-3e5543ca-b5f6-4093-a1b0-7f1e34d962df div.sk-toggleable__content {max-height: 0;max-width: 0;overflow: hidden;text-align: left;background-color: #f0f8ff;}#sk-3e5543ca-b5f6-4093-a1b0-7f1e34d962df div.sk-toggleable__content pre {margin: 0.2em;color: black;border-radius: 0.25em;background-color: #f0f8ff;}#sk-3e5543ca-b5f6-4093-a1b0-7f1e34d962df input.sk-toggleable__control:checked~div.sk-toggleable__content {max-height: 200px;max-width: 100%;overflow: auto;}#sk-3e5543ca-b5f6-4093-a1b0-7f1e34d962df div.sk-estimator input.sk-toggleable__control:checked~label.sk-toggleable__label {background-color: #d4ebff;}#sk-3e5543ca-b5f6-4093-a1b0-7f1e34d962df div.sk-label input.sk-toggleable__control:checked~label.sk-toggleable__label {background-color: #d4ebff;}#sk-3e5543ca-b5f6-4093-a1b0-7f1e34d962df input.sk-hidden--visually {border: 0;clip: rect(1px 1px 1px 1px);clip: rect(1px, 1px, 1px, 1px);height: 1px;margin: -1px;overflow: hidden;padding: 0;position: absolute;width: 1px;}#sk-3e5543ca-b5f6-4093-a1b0-7f1e34d962df div.sk-estimator {font-family: monospace;background-color: #f0f8ff;margin: 0.25em 0.25em;border: 1px dotted black;border-radius: 0.25em;box-sizing: border-box;}#sk-3e5543ca-b5f6-4093-a1b0-7f1e34d962df div.sk-estimator:hover {background-color: #d4ebff;}#sk-3e5543ca-b5f6-4093-a1b0-7f1e34d962df div.sk-parallel-item::after {content: \"\";width: 100%;border-bottom: 1px solid gray;flex-grow: 1;}#sk-3e5543ca-b5f6-4093-a1b0-7f1e34d962df div.sk-label:hover label.sk-toggleable__label {background-color: #d4ebff;}#sk-3e5543ca-b5f6-4093-a1b0-7f1e34d962df div.sk-serial::before {content: \"\";position: absolute;border-left: 1px solid gray;box-sizing: border-box;top: 2em;bottom: 0;left: 50%;}#sk-3e5543ca-b5f6-4093-a1b0-7f1e34d962df div.sk-serial {display: flex;flex-direction: column;align-items: center;background-color: white;}#sk-3e5543ca-b5f6-4093-a1b0-7f1e34d962df div.sk-item {z-index: 1;}#sk-3e5543ca-b5f6-4093-a1b0-7f1e34d962df div.sk-parallel {display: flex;align-items: stretch;justify-content: center;background-color: white;}#sk-3e5543ca-b5f6-4093-a1b0-7f1e34d962df div.sk-parallel-item {display: flex;flex-direction: column;position: relative;background-color: white;}#sk-3e5543ca-b5f6-4093-a1b0-7f1e34d962df div.sk-parallel-item:first-child::after {align-self: flex-end;width: 50%;}#sk-3e5543ca-b5f6-4093-a1b0-7f1e34d962df div.sk-parallel-item:last-child::after {align-self: flex-start;width: 50%;}#sk-3e5543ca-b5f6-4093-a1b0-7f1e34d962df div.sk-parallel-item:only-child::after {width: 0;}#sk-3e5543ca-b5f6-4093-a1b0-7f1e34d962df div.sk-dashed-wrapped {border: 1px dashed gray;margin: 0.2em;box-sizing: border-box;padding-bottom: 0.1em;background-color: white;position: relative;}#sk-3e5543ca-b5f6-4093-a1b0-7f1e34d962df div.sk-label label {font-family: monospace;font-weight: bold;background-color: white;display: inline-block;line-height: 1.2em;}#sk-3e5543ca-b5f6-4093-a1b0-7f1e34d962df div.sk-label-container {position: relative;z-index: 2;text-align: center;}#sk-3e5543ca-b5f6-4093-a1b0-7f1e34d962df div.sk-container {display: inline-block;position: relative;}</style><div id=\"sk-3e5543ca-b5f6-4093-a1b0-7f1e34d962df\" class\"sk-top-container\"><div class=\"sk-container\"><div class=\"sk-item sk-dashed-wrapped\"><div class=\"sk-label-container\"><div class=\"sk-label sk-toggleable\"><input class=\"sk-toggleable__control sk-hidden--visually\" id=\"ed3d4c26-3227-4062-bc21-646c5022bd7f\" type=\"checkbox\" ><label class=\"sk-toggleable__label\" for=\"ed3d4c26-3227-4062-bc21-646c5022bd7f\">Pipeline</label><div class=\"sk-toggleable__content\"><pre>Pipeline(steps=[('numerical_selector',\n",
       "                 FunctionTransformer(func=<function numerical_select at 0x000001DBE2F8C4C0>)),\n",
       "                ('scaling', StandardScalerDf())])</pre></div></div></div><div class=\"sk-serial\"><div class=\"sk-item\"><div class=\"sk-estimator sk-toggleable\"><input class=\"sk-toggleable__control sk-hidden--visually\" id=\"886495fb-0775-439e-b3e1-9d45e41d7e7a\" type=\"checkbox\" ><label class=\"sk-toggleable__label\" for=\"886495fb-0775-439e-b3e1-9d45e41d7e7a\">FunctionTransformer</label><div class=\"sk-toggleable__content\"><pre>FunctionTransformer(func=<function numerical_select at 0x000001DBE2F8C4C0>)</pre></div></div></div><div class=\"sk-item\"><div class=\"sk-estimator sk-toggleable\"><input class=\"sk-toggleable__control sk-hidden--visually\" id=\"2370a2ae-2518-4b7c-85b6-d816e24959f7\" type=\"checkbox\" ><label class=\"sk-toggleable__label\" for=\"2370a2ae-2518-4b7c-85b6-d816e24959f7\">StandardScalerDf</label><div class=\"sk-toggleable__content\"><pre>StandardScalerDf()</pre></div></div></div></div></div></div></div>"
      ],
      "text/plain": [
       "Pipeline(steps=[('numerical_selector',\n",
       "                 FunctionTransformer(func=<function numerical_select at 0x000001DBE2F8C4C0>)),\n",
       "                ('scaling', StandardScalerDf())])"
      ]
     },
     "execution_count": 87,
     "metadata": {},
     "output_type": "execute_result"
    }
   ],
   "source": [
    "numerical_preprocessor"
   ]
  },
  {
   "cell_type": "code",
   "execution_count": 88,
   "metadata": {
    "ExecuteTime": {
     "end_time": "2022-04-18T19:11:44.330550Z",
     "start_time": "2022-04-18T19:11:44.315550Z"
    }
   },
   "outputs": [
    {
     "data": {
      "text/html": [
       "<style>#sk-9641aad6-b492-4686-9e0b-1678f473d71c {color: black;background-color: white;}#sk-9641aad6-b492-4686-9e0b-1678f473d71c pre{padding: 0;}#sk-9641aad6-b492-4686-9e0b-1678f473d71c div.sk-toggleable {background-color: white;}#sk-9641aad6-b492-4686-9e0b-1678f473d71c label.sk-toggleable__label {cursor: pointer;display: block;width: 100%;margin-bottom: 0;padding: 0.2em 0.3em;box-sizing: border-box;text-align: center;}#sk-9641aad6-b492-4686-9e0b-1678f473d71c div.sk-toggleable__content {max-height: 0;max-width: 0;overflow: hidden;text-align: left;background-color: #f0f8ff;}#sk-9641aad6-b492-4686-9e0b-1678f473d71c div.sk-toggleable__content pre {margin: 0.2em;color: black;border-radius: 0.25em;background-color: #f0f8ff;}#sk-9641aad6-b492-4686-9e0b-1678f473d71c input.sk-toggleable__control:checked~div.sk-toggleable__content {max-height: 200px;max-width: 100%;overflow: auto;}#sk-9641aad6-b492-4686-9e0b-1678f473d71c div.sk-estimator input.sk-toggleable__control:checked~label.sk-toggleable__label {background-color: #d4ebff;}#sk-9641aad6-b492-4686-9e0b-1678f473d71c div.sk-label input.sk-toggleable__control:checked~label.sk-toggleable__label {background-color: #d4ebff;}#sk-9641aad6-b492-4686-9e0b-1678f473d71c input.sk-hidden--visually {border: 0;clip: rect(1px 1px 1px 1px);clip: rect(1px, 1px, 1px, 1px);height: 1px;margin: -1px;overflow: hidden;padding: 0;position: absolute;width: 1px;}#sk-9641aad6-b492-4686-9e0b-1678f473d71c div.sk-estimator {font-family: monospace;background-color: #f0f8ff;margin: 0.25em 0.25em;border: 1px dotted black;border-radius: 0.25em;box-sizing: border-box;}#sk-9641aad6-b492-4686-9e0b-1678f473d71c div.sk-estimator:hover {background-color: #d4ebff;}#sk-9641aad6-b492-4686-9e0b-1678f473d71c div.sk-parallel-item::after {content: \"\";width: 100%;border-bottom: 1px solid gray;flex-grow: 1;}#sk-9641aad6-b492-4686-9e0b-1678f473d71c div.sk-label:hover label.sk-toggleable__label {background-color: #d4ebff;}#sk-9641aad6-b492-4686-9e0b-1678f473d71c div.sk-serial::before {content: \"\";position: absolute;border-left: 1px solid gray;box-sizing: border-box;top: 2em;bottom: 0;left: 50%;}#sk-9641aad6-b492-4686-9e0b-1678f473d71c div.sk-serial {display: flex;flex-direction: column;align-items: center;background-color: white;}#sk-9641aad6-b492-4686-9e0b-1678f473d71c div.sk-item {z-index: 1;}#sk-9641aad6-b492-4686-9e0b-1678f473d71c div.sk-parallel {display: flex;align-items: stretch;justify-content: center;background-color: white;}#sk-9641aad6-b492-4686-9e0b-1678f473d71c div.sk-parallel-item {display: flex;flex-direction: column;position: relative;background-color: white;}#sk-9641aad6-b492-4686-9e0b-1678f473d71c div.sk-parallel-item:first-child::after {align-self: flex-end;width: 50%;}#sk-9641aad6-b492-4686-9e0b-1678f473d71c div.sk-parallel-item:last-child::after {align-self: flex-start;width: 50%;}#sk-9641aad6-b492-4686-9e0b-1678f473d71c div.sk-parallel-item:only-child::after {width: 0;}#sk-9641aad6-b492-4686-9e0b-1678f473d71c div.sk-dashed-wrapped {border: 1px dashed gray;margin: 0.2em;box-sizing: border-box;padding-bottom: 0.1em;background-color: white;position: relative;}#sk-9641aad6-b492-4686-9e0b-1678f473d71c div.sk-label label {font-family: monospace;font-weight: bold;background-color: white;display: inline-block;line-height: 1.2em;}#sk-9641aad6-b492-4686-9e0b-1678f473d71c div.sk-label-container {position: relative;z-index: 2;text-align: center;}#sk-9641aad6-b492-4686-9e0b-1678f473d71c div.sk-container {display: inline-block;position: relative;}</style><div id=\"sk-9641aad6-b492-4686-9e0b-1678f473d71c\" class\"sk-top-container\"><div class=\"sk-container\"><div class=\"sk-item\"><div class=\"sk-estimator sk-toggleable\"><input class=\"sk-toggleable__control sk-hidden--visually\" id=\"c551e83d-178d-4a3c-9ae8-c3305e66ee2c\" type=\"checkbox\" checked><label class=\"sk-toggleable__label\" for=\"c551e83d-178d-4a3c-9ae8-c3305e66ee2c\">FunctionTransformer</label><div class=\"sk-toggleable__content\"><pre>FunctionTransformer(func=<function numerical_select at 0x000001DBE2F8C4C0>)</pre></div></div></div></div></div>"
      ],
      "text/plain": [
       "FunctionTransformer(func=<function numerical_select at 0x000001DBE2F8C4C0>)"
      ]
     },
     "execution_count": 88,
     "metadata": {},
     "output_type": "execute_result"
    }
   ],
   "source": [
    "numerical_preprocessor.named_steps['numerical_selector']"
   ]
  },
  {
   "cell_type": "markdown",
   "metadata": {},
   "source": [
    "# Бинарные признаки"
   ]
  },
  {
   "cell_type": "code",
   "execution_count": 89,
   "metadata": {
    "ExecuteTime": {
     "end_time": "2022-04-18T19:11:44.361552Z",
     "start_time": "2022-04-18T19:11:44.331551Z"
    }
   },
   "outputs": [
    {
     "data": {
      "text/html": [
       "<div>\n",
       "<style scoped>\n",
       "    .dataframe tbody tr th:only-of-type {\n",
       "        vertical-align: middle;\n",
       "    }\n",
       "\n",
       "    .dataframe tbody tr th {\n",
       "        vertical-align: top;\n",
       "    }\n",
       "\n",
       "    .dataframe thead th {\n",
       "        text-align: right;\n",
       "    }\n",
       "</style>\n",
       "<table border=\"1\" class=\"dataframe\">\n",
       "  <thead>\n",
       "    <tr style=\"text-align: right;\">\n",
       "      <th></th>\n",
       "      <th>Gender</th>\n",
       "      <th>Left - right handed</th>\n",
       "      <th>Only child</th>\n",
       "      <th>Village - town</th>\n",
       "      <th>House - block of flats</th>\n",
       "      <th>random_binar</th>\n",
       "    </tr>\n",
       "  </thead>\n",
       "  <tbody>\n",
       "    <tr>\n",
       "      <th>0</th>\n",
       "      <td>female</td>\n",
       "      <td>right handed</td>\n",
       "      <td>no</td>\n",
       "      <td>village</td>\n",
       "      <td>block of flats</td>\n",
       "      <td>True</td>\n",
       "    </tr>\n",
       "    <tr>\n",
       "      <th>1</th>\n",
       "      <td>female</td>\n",
       "      <td>right handed</td>\n",
       "      <td>no</td>\n",
       "      <td>city</td>\n",
       "      <td>block of flats</td>\n",
       "      <td>True</td>\n",
       "    </tr>\n",
       "    <tr>\n",
       "      <th>2</th>\n",
       "      <td>female</td>\n",
       "      <td>right handed</td>\n",
       "      <td>no</td>\n",
       "      <td>city</td>\n",
       "      <td>block of flats</td>\n",
       "      <td>True</td>\n",
       "    </tr>\n",
       "    <tr>\n",
       "      <th>3</th>\n",
       "      <td>female</td>\n",
       "      <td>right handed</td>\n",
       "      <td>yes</td>\n",
       "      <td>city</td>\n",
       "      <td>house/bungalow</td>\n",
       "      <td>True</td>\n",
       "    </tr>\n",
       "    <tr>\n",
       "      <th>4</th>\n",
       "      <td>female</td>\n",
       "      <td>right handed</td>\n",
       "      <td>no</td>\n",
       "      <td>village</td>\n",
       "      <td>house/bungalow</td>\n",
       "      <td>True</td>\n",
       "    </tr>\n",
       "  </tbody>\n",
       "</table>\n",
       "</div>"
      ],
      "text/plain": [
       "   Gender Left - right handed Only child Village - town  \\\n",
       "0  female        right handed         no        village   \n",
       "1  female        right handed         no           city   \n",
       "2  female        right handed         no           city   \n",
       "3  female        right handed        yes           city   \n",
       "4  female        right handed         no        village   \n",
       "\n",
       "  House - block of flats  random_binar  \n",
       "0         block of flats          True  \n",
       "1         block of flats          True  \n",
       "2         block of flats          True  \n",
       "3         house/bungalow          True  \n",
       "4         house/bungalow          True  "
      ]
     },
     "execution_count": 89,
     "metadata": {},
     "output_type": "execute_result"
    }
   ],
   "source": [
    "# Способ через функцию \n",
    "def binary_select(data):\n",
    "    \n",
    "    data['random_binar'] = data['Gender'] == 'female'\n",
    "    \n",
    "    return data[binary_features + ['random_binar']] \n",
    "\n",
    "# Превращаем функцию в трансформер\n",
    "binary_selector = FunctionTransformer(binary_select, validate=False)  \n",
    "\n",
    "\n",
    "# Применяем к данным\n",
    "binary_selector.fit_transform(data).head()"
   ]
  },
  {
   "cell_type": "code",
   "execution_count": 90,
   "metadata": {
    "ExecuteTime": {
     "end_time": "2022-04-18T19:11:44.376554Z",
     "start_time": "2022-04-18T19:11:44.363555Z"
    }
   },
   "outputs": [],
   "source": [
    "# Тот же самый пособ, но через лябма-функцию / короткий способ\n",
    "binary_selector = FunctionTransformer(lambda data: data[binary_features], validate=False)"
   ]
  },
  {
   "cell_type": "code",
   "execution_count": 91,
   "metadata": {
    "ExecuteTime": {
     "end_time": "2022-04-18T19:11:44.392554Z",
     "start_time": "2022-04-18T19:11:44.377555Z"
    }
   },
   "outputs": [],
   "source": [
    "# pd.get_dummies(data, columns=to_dummies)\n",
    "\n",
    "ohe = OneHotEncoder(sparse=False, handle_unknown='ignore')"
   ]
  },
  {
   "cell_type": "code",
   "execution_count": 92,
   "metadata": {
    "ExecuteTime": {
     "end_time": "2022-04-18T19:11:44.407756Z",
     "start_time": "2022-04-18T19:11:44.393557Z"
    }
   },
   "outputs": [],
   "source": [
    "binary_preprocessor = Pipeline([\n",
    "    (\"binary_selector\", binary_selector),\n",
    "    (\"ohe\", ohe)\n",
    "])"
   ]
  },
  {
   "cell_type": "code",
   "execution_count": 93,
   "metadata": {
    "ExecuteTime": {
     "end_time": "2022-04-18T19:11:44.423757Z",
     "start_time": "2022-04-18T19:11:44.408757Z"
    }
   },
   "outputs": [],
   "source": [
    "class OneHotEncodingDf(OneHotEncoder):\n",
    "    \"\"\"DataFrame Wrapper around OneHotEncoding\"\"\"\n",
    "    def __init__(self, drop=None, sparse=False, handle_unknown='ignore'):\n",
    "        super(OneHotEncodingDf, self).__init__(drop=drop,\n",
    "                                               sparse=sparse,\n",
    "                                               handle_unknown=handle_unknown\n",
    "                                              )\n",
    "\n",
    "    def transform(self, X, y=None):\n",
    "        z = super(OneHotEncodingDf, self).transform(X.values)\n",
    "        return pd.DataFrame(z, index=X.index, columns=self.get_feature_names())"
   ]
  },
  {
   "cell_type": "code",
   "execution_count": 94,
   "metadata": {
    "ExecuteTime": {
     "end_time": "2022-04-18T19:11:44.439760Z",
     "start_time": "2022-04-18T19:11:44.424758Z"
    }
   },
   "outputs": [],
   "source": [
    "ohe_df = OneHotEncodingDf()"
   ]
  },
  {
   "cell_type": "code",
   "execution_count": 95,
   "metadata": {
    "ExecuteTime": {
     "end_time": "2022-04-18T19:11:44.455760Z",
     "start_time": "2022-04-18T19:11:44.440761Z"
    }
   },
   "outputs": [],
   "source": [
    "binary_preprocessor = Pipeline([\n",
    "    (\"binary_selector\", binary_selector),\n",
    "    (\"ohe\", ohe_df)\n",
    "])"
   ]
  },
  {
   "cell_type": "code",
   "execution_count": 96,
   "metadata": {
    "ExecuteTime": {
     "end_time": "2022-04-18T19:11:44.487762Z",
     "start_time": "2022-04-18T19:11:44.456761Z"
    }
   },
   "outputs": [
    {
     "data": {
      "text/html": [
       "<div>\n",
       "<style scoped>\n",
       "    .dataframe tbody tr th:only-of-type {\n",
       "        vertical-align: middle;\n",
       "    }\n",
       "\n",
       "    .dataframe tbody tr th {\n",
       "        vertical-align: top;\n",
       "    }\n",
       "\n",
       "    .dataframe thead th {\n",
       "        text-align: right;\n",
       "    }\n",
       "</style>\n",
       "<table border=\"1\" class=\"dataframe\">\n",
       "  <thead>\n",
       "    <tr style=\"text-align: right;\">\n",
       "      <th></th>\n",
       "      <th>x0_female</th>\n",
       "      <th>x0_male</th>\n",
       "      <th>x0_nan</th>\n",
       "      <th>x1_left handed</th>\n",
       "      <th>x1_right handed</th>\n",
       "      <th>x1_nan</th>\n",
       "      <th>x2_no</th>\n",
       "      <th>x2_yes</th>\n",
       "      <th>x2_nan</th>\n",
       "      <th>x3_city</th>\n",
       "      <th>x3_village</th>\n",
       "      <th>x3_nan</th>\n",
       "      <th>x4_block of flats</th>\n",
       "      <th>x4_house/bungalow</th>\n",
       "      <th>x4_nan</th>\n",
       "    </tr>\n",
       "  </thead>\n",
       "  <tbody>\n",
       "    <tr>\n",
       "      <th>0</th>\n",
       "      <td>1.0</td>\n",
       "      <td>0.0</td>\n",
       "      <td>0.0</td>\n",
       "      <td>0.0</td>\n",
       "      <td>1.0</td>\n",
       "      <td>0.0</td>\n",
       "      <td>1.0</td>\n",
       "      <td>0.0</td>\n",
       "      <td>0.0</td>\n",
       "      <td>0.0</td>\n",
       "      <td>1.0</td>\n",
       "      <td>0.0</td>\n",
       "      <td>1.0</td>\n",
       "      <td>0.0</td>\n",
       "      <td>0.0</td>\n",
       "    </tr>\n",
       "    <tr>\n",
       "      <th>1</th>\n",
       "      <td>1.0</td>\n",
       "      <td>0.0</td>\n",
       "      <td>0.0</td>\n",
       "      <td>0.0</td>\n",
       "      <td>1.0</td>\n",
       "      <td>0.0</td>\n",
       "      <td>1.0</td>\n",
       "      <td>0.0</td>\n",
       "      <td>0.0</td>\n",
       "      <td>1.0</td>\n",
       "      <td>0.0</td>\n",
       "      <td>0.0</td>\n",
       "      <td>1.0</td>\n",
       "      <td>0.0</td>\n",
       "      <td>0.0</td>\n",
       "    </tr>\n",
       "    <tr>\n",
       "      <th>2</th>\n",
       "      <td>1.0</td>\n",
       "      <td>0.0</td>\n",
       "      <td>0.0</td>\n",
       "      <td>0.0</td>\n",
       "      <td>1.0</td>\n",
       "      <td>0.0</td>\n",
       "      <td>1.0</td>\n",
       "      <td>0.0</td>\n",
       "      <td>0.0</td>\n",
       "      <td>1.0</td>\n",
       "      <td>0.0</td>\n",
       "      <td>0.0</td>\n",
       "      <td>1.0</td>\n",
       "      <td>0.0</td>\n",
       "      <td>0.0</td>\n",
       "    </tr>\n",
       "    <tr>\n",
       "      <th>3</th>\n",
       "      <td>1.0</td>\n",
       "      <td>0.0</td>\n",
       "      <td>0.0</td>\n",
       "      <td>0.0</td>\n",
       "      <td>1.0</td>\n",
       "      <td>0.0</td>\n",
       "      <td>0.0</td>\n",
       "      <td>1.0</td>\n",
       "      <td>0.0</td>\n",
       "      <td>1.0</td>\n",
       "      <td>0.0</td>\n",
       "      <td>0.0</td>\n",
       "      <td>0.0</td>\n",
       "      <td>1.0</td>\n",
       "      <td>0.0</td>\n",
       "    </tr>\n",
       "    <tr>\n",
       "      <th>4</th>\n",
       "      <td>1.0</td>\n",
       "      <td>0.0</td>\n",
       "      <td>0.0</td>\n",
       "      <td>0.0</td>\n",
       "      <td>1.0</td>\n",
       "      <td>0.0</td>\n",
       "      <td>1.0</td>\n",
       "      <td>0.0</td>\n",
       "      <td>0.0</td>\n",
       "      <td>0.0</td>\n",
       "      <td>1.0</td>\n",
       "      <td>0.0</td>\n",
       "      <td>0.0</td>\n",
       "      <td>1.0</td>\n",
       "      <td>0.0</td>\n",
       "    </tr>\n",
       "  </tbody>\n",
       "</table>\n",
       "</div>"
      ],
      "text/plain": [
       "   x0_female  x0_male  x0_nan  x1_left handed  x1_right handed  x1_nan  x2_no  \\\n",
       "0        1.0      0.0     0.0             0.0              1.0     0.0    1.0   \n",
       "1        1.0      0.0     0.0             0.0              1.0     0.0    1.0   \n",
       "2        1.0      0.0     0.0             0.0              1.0     0.0    1.0   \n",
       "3        1.0      0.0     0.0             0.0              1.0     0.0    0.0   \n",
       "4        1.0      0.0     0.0             0.0              1.0     0.0    1.0   \n",
       "\n",
       "   x2_yes  x2_nan  x3_city  x3_village  x3_nan  x4_block of flats  \\\n",
       "0     0.0     0.0      0.0         1.0     0.0                1.0   \n",
       "1     0.0     0.0      1.0         0.0     0.0                1.0   \n",
       "2     0.0     0.0      1.0         0.0     0.0                1.0   \n",
       "3     1.0     0.0      1.0         0.0     0.0                0.0   \n",
       "4     0.0     0.0      0.0         1.0     0.0                0.0   \n",
       "\n",
       "   x4_house/bungalow  x4_nan  \n",
       "0                0.0     0.0  \n",
       "1                0.0     0.0  \n",
       "2                0.0     0.0  \n",
       "3                1.0     0.0  \n",
       "4                1.0     0.0  "
      ]
     },
     "execution_count": 96,
     "metadata": {},
     "output_type": "execute_result"
    }
   ],
   "source": [
    "binary_preprocessor.fit_transform(data).head()"
   ]
  },
  {
   "cell_type": "markdown",
   "metadata": {},
   "source": [
    "# Категориальные переменные"
   ]
  },
  {
   "cell_type": "code",
   "execution_count": 97,
   "metadata": {
    "ExecuteTime": {
     "end_time": "2022-04-18T19:11:44.503763Z",
     "start_time": "2022-04-18T19:11:44.489764Z"
    }
   },
   "outputs": [],
   "source": [
    "def categorical_select(data):\n",
    "    return data[categorical_features]\n",
    "\n",
    "categorical_selector = FunctionTransformer(categorical_select, validate=False)\n",
    "\n",
    "\n",
    "# categorical_selector = FunctionTransformer(lambda data: data[categorical_features], validate=False)"
   ]
  },
  {
   "cell_type": "code",
   "execution_count": 98,
   "metadata": {
    "ExecuteTime": {
     "end_time": "2022-04-18T19:11:44.519764Z",
     "start_time": "2022-04-18T19:11:44.504764Z"
    }
   },
   "outputs": [],
   "source": [
    "categorical_preprocessor = Pipeline([\n",
    "    (\"categorical_selector\", categorical_selector),\n",
    "    (\"ohe\", OneHotEncodingDf())\n",
    "])\n",
    "\n",
    "# categorical_selector.fit_transform(data).head()"
   ]
  },
  {
   "cell_type": "markdown",
   "metadata": {},
   "source": [
    "# Feature Union - собираем все в один датасет"
   ]
  },
  {
   "cell_type": "code",
   "execution_count": 99,
   "metadata": {
    "ExecuteTime": {
     "end_time": "2022-04-18T19:11:44.534769Z",
     "start_time": "2022-04-18T19:11:44.521767Z"
    }
   },
   "outputs": [],
   "source": [
    "feature_union = FeatureUnion([\n",
    "    (\"numerical_preprocessor\", numerical_preprocessor),\n",
    "    (\"binary_preprocessor\", binary_preprocessor),\n",
    "    (\"categorical_preprocessor\", categorical_preprocessor)\n",
    "])"
   ]
  },
  {
   "cell_type": "code",
   "execution_count": 100,
   "metadata": {
    "ExecuteTime": {
     "end_time": "2022-04-18T19:11:44.582769Z",
     "start_time": "2022-04-18T19:11:44.535770Z"
    }
   },
   "outputs": [
    {
     "data": {
      "text/html": [
       "<style>#sk-2b633c10-4cbf-460e-baa6-71684b644706 {color: black;background-color: white;}#sk-2b633c10-4cbf-460e-baa6-71684b644706 pre{padding: 0;}#sk-2b633c10-4cbf-460e-baa6-71684b644706 div.sk-toggleable {background-color: white;}#sk-2b633c10-4cbf-460e-baa6-71684b644706 label.sk-toggleable__label {cursor: pointer;display: block;width: 100%;margin-bottom: 0;padding: 0.2em 0.3em;box-sizing: border-box;text-align: center;}#sk-2b633c10-4cbf-460e-baa6-71684b644706 div.sk-toggleable__content {max-height: 0;max-width: 0;overflow: hidden;text-align: left;background-color: #f0f8ff;}#sk-2b633c10-4cbf-460e-baa6-71684b644706 div.sk-toggleable__content pre {margin: 0.2em;color: black;border-radius: 0.25em;background-color: #f0f8ff;}#sk-2b633c10-4cbf-460e-baa6-71684b644706 input.sk-toggleable__control:checked~div.sk-toggleable__content {max-height: 200px;max-width: 100%;overflow: auto;}#sk-2b633c10-4cbf-460e-baa6-71684b644706 div.sk-estimator input.sk-toggleable__control:checked~label.sk-toggleable__label {background-color: #d4ebff;}#sk-2b633c10-4cbf-460e-baa6-71684b644706 div.sk-label input.sk-toggleable__control:checked~label.sk-toggleable__label {background-color: #d4ebff;}#sk-2b633c10-4cbf-460e-baa6-71684b644706 input.sk-hidden--visually {border: 0;clip: rect(1px 1px 1px 1px);clip: rect(1px, 1px, 1px, 1px);height: 1px;margin: -1px;overflow: hidden;padding: 0;position: absolute;width: 1px;}#sk-2b633c10-4cbf-460e-baa6-71684b644706 div.sk-estimator {font-family: monospace;background-color: #f0f8ff;margin: 0.25em 0.25em;border: 1px dotted black;border-radius: 0.25em;box-sizing: border-box;}#sk-2b633c10-4cbf-460e-baa6-71684b644706 div.sk-estimator:hover {background-color: #d4ebff;}#sk-2b633c10-4cbf-460e-baa6-71684b644706 div.sk-parallel-item::after {content: \"\";width: 100%;border-bottom: 1px solid gray;flex-grow: 1;}#sk-2b633c10-4cbf-460e-baa6-71684b644706 div.sk-label:hover label.sk-toggleable__label {background-color: #d4ebff;}#sk-2b633c10-4cbf-460e-baa6-71684b644706 div.sk-serial::before {content: \"\";position: absolute;border-left: 1px solid gray;box-sizing: border-box;top: 2em;bottom: 0;left: 50%;}#sk-2b633c10-4cbf-460e-baa6-71684b644706 div.sk-serial {display: flex;flex-direction: column;align-items: center;background-color: white;}#sk-2b633c10-4cbf-460e-baa6-71684b644706 div.sk-item {z-index: 1;}#sk-2b633c10-4cbf-460e-baa6-71684b644706 div.sk-parallel {display: flex;align-items: stretch;justify-content: center;background-color: white;}#sk-2b633c10-4cbf-460e-baa6-71684b644706 div.sk-parallel-item {display: flex;flex-direction: column;position: relative;background-color: white;}#sk-2b633c10-4cbf-460e-baa6-71684b644706 div.sk-parallel-item:first-child::after {align-self: flex-end;width: 50%;}#sk-2b633c10-4cbf-460e-baa6-71684b644706 div.sk-parallel-item:last-child::after {align-self: flex-start;width: 50%;}#sk-2b633c10-4cbf-460e-baa6-71684b644706 div.sk-parallel-item:only-child::after {width: 0;}#sk-2b633c10-4cbf-460e-baa6-71684b644706 div.sk-dashed-wrapped {border: 1px dashed gray;margin: 0.2em;box-sizing: border-box;padding-bottom: 0.1em;background-color: white;position: relative;}#sk-2b633c10-4cbf-460e-baa6-71684b644706 div.sk-label label {font-family: monospace;font-weight: bold;background-color: white;display: inline-block;line-height: 1.2em;}#sk-2b633c10-4cbf-460e-baa6-71684b644706 div.sk-label-container {position: relative;z-index: 2;text-align: center;}#sk-2b633c10-4cbf-460e-baa6-71684b644706 div.sk-container {display: inline-block;position: relative;}</style><div id=\"sk-2b633c10-4cbf-460e-baa6-71684b644706\" class\"sk-top-container\"><div class=\"sk-container\"><div class=\"sk-item sk-dashed-wrapped\"><div class=\"sk-label-container\"><div class=\"sk-label sk-toggleable\"><input class=\"sk-toggleable__control sk-hidden--visually\" id=\"b0fcd1d3-da5f-40d8-b874-d6b95c8aa733\" type=\"checkbox\" ><label class=\"sk-toggleable__label\" for=\"b0fcd1d3-da5f-40d8-b874-d6b95c8aa733\">FeatureUnion</label><div class=\"sk-toggleable__content\"><pre>FeatureUnion(transformer_list=[('numerical_preprocessor',\n",
       "                                Pipeline(steps=[('numerical_selector',\n",
       "                                                 FunctionTransformer(func=<function numerical_select at 0x000001DBE2F8C4C0>)),\n",
       "                                                ('scaling',\n",
       "                                                 StandardScalerDf())])),\n",
       "                               ('binary_preprocessor',\n",
       "                                Pipeline(steps=[('binary_selector',\n",
       "                                                 FunctionTransformer(func=<function <lambda> at 0x000001DBE6CC5280>)),\n",
       "                                                ('ohe', OneHotEncodingDf())])),\n",
       "                               ('categorical_preprocessor',\n",
       "                                Pipeline(steps=[('categorical_selector',\n",
       "                                                 FunctionTransformer(func=<function categorical_select at 0x000001DBE33384C0>)),\n",
       "                                                ('ohe', OneHotEncodingDf())]))])</pre></div></div></div><div class=\"sk-parallel\"><div class=\"sk-parallel-item\"><div class=\"sk-item\"><div class=\"sk-label-container\"><div class=\"sk-label sk-toggleable\"><label>numerical_preprocessor</label></div></div><div class=\"sk-serial\"><div class=\"sk-item\"><div class=\"sk-serial\"><div class=\"sk-item\"><div class=\"sk-estimator sk-toggleable\"><input class=\"sk-toggleable__control sk-hidden--visually\" id=\"58b6228e-a9c2-481e-b85b-a579f2d6c7cc\" type=\"checkbox\" ><label class=\"sk-toggleable__label\" for=\"58b6228e-a9c2-481e-b85b-a579f2d6c7cc\">FunctionTransformer</label><div class=\"sk-toggleable__content\"><pre>FunctionTransformer(func=<function numerical_select at 0x000001DBE2F8C4C0>)</pre></div></div></div><div class=\"sk-item\"><div class=\"sk-estimator sk-toggleable\"><input class=\"sk-toggleable__control sk-hidden--visually\" id=\"3d142d61-04a2-4fed-a36e-ad7620201eca\" type=\"checkbox\" ><label class=\"sk-toggleable__label\" for=\"3d142d61-04a2-4fed-a36e-ad7620201eca\">StandardScalerDf</label><div class=\"sk-toggleable__content\"><pre>StandardScalerDf()</pre></div></div></div></div></div></div></div></div><div class=\"sk-parallel-item\"><div class=\"sk-item\"><div class=\"sk-label-container\"><div class=\"sk-label sk-toggleable\"><label>binary_preprocessor</label></div></div><div class=\"sk-serial\"><div class=\"sk-item\"><div class=\"sk-serial\"><div class=\"sk-item\"><div class=\"sk-estimator sk-toggleable\"><input class=\"sk-toggleable__control sk-hidden--visually\" id=\"bae436c0-9497-496f-b8b9-fb905dc28a29\" type=\"checkbox\" ><label class=\"sk-toggleable__label\" for=\"bae436c0-9497-496f-b8b9-fb905dc28a29\">FunctionTransformer</label><div class=\"sk-toggleable__content\"><pre>FunctionTransformer(func=<function <lambda> at 0x000001DBE6CC5280>)</pre></div></div></div><div class=\"sk-item\"><div class=\"sk-estimator sk-toggleable\"><input class=\"sk-toggleable__control sk-hidden--visually\" id=\"7d83845a-3538-4cbe-95ce-107ef3fa9988\" type=\"checkbox\" ><label class=\"sk-toggleable__label\" for=\"7d83845a-3538-4cbe-95ce-107ef3fa9988\">OneHotEncodingDf</label><div class=\"sk-toggleable__content\"><pre>OneHotEncodingDf()</pre></div></div></div></div></div></div></div></div><div class=\"sk-parallel-item\"><div class=\"sk-item\"><div class=\"sk-label-container\"><div class=\"sk-label sk-toggleable\"><label>categorical_preprocessor</label></div></div><div class=\"sk-serial\"><div class=\"sk-item\"><div class=\"sk-serial\"><div class=\"sk-item\"><div class=\"sk-estimator sk-toggleable\"><input class=\"sk-toggleable__control sk-hidden--visually\" id=\"16916737-f9e5-42fd-a618-666e8fafefa2\" type=\"checkbox\" ><label class=\"sk-toggleable__label\" for=\"16916737-f9e5-42fd-a618-666e8fafefa2\">FunctionTransformer</label><div class=\"sk-toggleable__content\"><pre>FunctionTransformer(func=<function categorical_select at 0x000001DBE33384C0>)</pre></div></div></div><div class=\"sk-item\"><div class=\"sk-estimator sk-toggleable\"><input class=\"sk-toggleable__control sk-hidden--visually\" id=\"0bd0ef46-4e2c-4808-a6a7-162335e269c4\" type=\"checkbox\" ><label class=\"sk-toggleable__label\" for=\"0bd0ef46-4e2c-4808-a6a7-162335e269c4\">OneHotEncodingDf</label><div class=\"sk-toggleable__content\"><pre>OneHotEncodingDf()</pre></div></div></div></div></div></div></div></div></div></div></div></div>"
      ],
      "text/plain": [
       "FeatureUnion(transformer_list=[('numerical_preprocessor',\n",
       "                                Pipeline(steps=[('numerical_selector',\n",
       "                                                 FunctionTransformer(func=<function numerical_select at 0x000001DBE2F8C4C0>)),\n",
       "                                                ('scaling',\n",
       "                                                 StandardScalerDf())])),\n",
       "                               ('binary_preprocessor',\n",
       "                                Pipeline(steps=[('binary_selector',\n",
       "                                                 FunctionTransformer(func=<function <lambda> at 0x000001DBE6CC5280>)),\n",
       "                                                ('ohe', OneHotEncodingDf())])),\n",
       "                               ('categorical_preprocessor',\n",
       "                                Pipeline(steps=[('categorical_selector',\n",
       "                                                 FunctionTransformer(func=<function categorical_select at 0x000001DBE33384C0>)),\n",
       "                                                ('ohe', OneHotEncodingDf())]))])"
      ]
     },
     "execution_count": 100,
     "metadata": {},
     "output_type": "execute_result"
    }
   ],
   "source": [
    "feature_union"
   ]
  },
  {
   "cell_type": "code",
   "execution_count": 101,
   "metadata": {
    "ExecuteTime": {
     "end_time": "2022-04-18T19:11:44.614771Z",
     "start_time": "2022-04-18T19:11:44.584770Z"
    }
   },
   "outputs": [
    {
     "data": {
      "text/plain": [
       "array([[ 0.40397078, -0.39396081, -0.95156664, ...,  0.        ,\n",
       "         0.        ,  0.        ],\n",
       "       [-1.10269062,  0.80577482, -0.95156664, ...,  1.        ,\n",
       "         0.        ,  0.        ],\n",
       "       [ 0.40397078,  2.00551046, -0.95156664, ...,  0.        ,\n",
       "         1.        ,  0.        ],\n",
       "       ...,\n",
       "       [-1.10269062, -0.39396081, -1.80627739, ...,  0.        ,\n",
       "         1.        ,  0.        ],\n",
       "       [ 0.40397078, -0.39396081, -0.09685589, ...,  0.        ,\n",
       "         0.        ,  0.        ],\n",
       "       [ 0.40397078,  2.00551046,  0.75785486, ...,  0.        ,\n",
       "         0.        ,  0.        ]])"
      ]
     },
     "execution_count": 101,
     "metadata": {},
     "output_type": "execute_result"
    }
   ],
   "source": [
    "feature_union.fit_transform(data)"
   ]
  },
  {
   "cell_type": "code",
   "execution_count": 102,
   "metadata": {
    "ExecuteTime": {
     "end_time": "2022-04-18T19:11:44.646774Z",
     "start_time": "2022-04-18T19:11:44.616775Z"
    }
   },
   "outputs": [
    {
     "data": {
      "text/plain": [
       "(1010, 226)"
      ]
     },
     "execution_count": 102,
     "metadata": {},
     "output_type": "execute_result"
    }
   ],
   "source": [
    "feature_union.fit_transform(data).shape"
   ]
  },
  {
   "cell_type": "code",
   "execution_count": null,
   "metadata": {},
   "outputs": [],
   "source": []
  },
  {
   "cell_type": "code",
   "execution_count": 103,
   "metadata": {
    "ExecuteTime": {
     "end_time": "2022-04-18T19:11:44.662777Z",
     "start_time": "2022-04-18T19:11:44.648776Z"
    }
   },
   "outputs": [],
   "source": [
    "# feature_union.named_steps['numerical_preprocessor']"
   ]
  },
  {
   "cell_type": "code",
   "execution_count": null,
   "metadata": {},
   "outputs": [],
   "source": []
  },
  {
   "cell_type": "code",
   "execution_count": 104,
   "metadata": {
    "ExecuteTime": {
     "end_time": "2022-04-18T19:11:44.678777Z",
     "start_time": "2022-04-18T19:11:44.664779Z"
    },
    "code_folding": [
     6,
     28,
     31
    ]
   },
   "outputs": [],
   "source": [
    "from joblib import Parallel, delayed \n",
    "\n",
    "# Пара новых гостей\n",
    "from sklearn.pipeline import (\n",
    "    _fit_transform_one,\n",
    "    _transform_one,\n",
    ")\n",
    "\n",
    "# https://zablo.net/blog/post/pandas-dataframe-in-scikit-learn-feature-union/\n",
    "\n",
    "class PandasFeatureUnion(FeatureUnion):\n",
    "    def fit_transform(self, X, y=None, **fit_params):\n",
    "        self._validate_transformers()\n",
    "        result = Parallel(n_jobs=self.n_jobs)(\n",
    "            delayed(_fit_transform_one)(\n",
    "                transformer=trans,\n",
    "                X=X,\n",
    "                y=y,\n",
    "                weight=weight,\n",
    "                **fit_params)\n",
    "            for name, trans, weight in self._iter())\n",
    "\n",
    "        if not result:\n",
    "            # All transformers are None\n",
    "            return np.zeros((X.shape[0], 0))\n",
    "        Xs, transformers = zip(*result)\n",
    "        self._update_transformer_list(transformers)\n",
    "        if any(sparse.issparse(f) for f in Xs):\n",
    "            Xs = sparse.hstack(Xs).tocsr()\n",
    "        else:\n",
    "            Xs = self.merge_dataframes_by_column(Xs)\n",
    "        return Xs\n",
    "\n",
    "    def merge_dataframes_by_column(self, Xs):\n",
    "        return pd.concat(Xs, axis=\"columns\", copy=False)\n",
    "\n",
    "    def transform(self, X):\n",
    "        Xs = Parallel(n_jobs=self.n_jobs)(\n",
    "            delayed(_transform_one)(\n",
    "                transformer=trans,\n",
    "                X=X,\n",
    "                y=None,\n",
    "                weight=weight)\n",
    "            for name, trans, weight in self._iter())\n",
    "        if not Xs:\n",
    "            # All transformers are None\n",
    "            return np.zeros((X.shape[0], 0))\n",
    "        if any(sparse.issparse(f) for f in Xs):\n",
    "            Xs = sparse.hstack(Xs).tocsr()\n",
    "        else:\n",
    "            Xs = self.merge_dataframes_by_column(Xs)\n",
    "        return Xs"
   ]
  },
  {
   "cell_type": "code",
   "execution_count": null,
   "metadata": {},
   "outputs": [],
   "source": []
  },
  {
   "cell_type": "code",
   "execution_count": 105,
   "metadata": {
    "ExecuteTime": {
     "end_time": "2022-04-18T19:11:44.694781Z",
     "start_time": "2022-04-18T19:11:44.679777Z"
    }
   },
   "outputs": [],
   "source": [
    "feature_union = PandasFeatureUnion([\n",
    "    (\"numerical_preprocessor\", numerical_preprocessor),\n",
    "    (\"binary_preprocessor\", binary_preprocessor),\n",
    "    (\"categorical_preprocessor\", categorical_preprocessor)\n",
    "])"
   ]
  },
  {
   "cell_type": "code",
   "execution_count": 106,
   "metadata": {
    "ExecuteTime": {
     "end_time": "2022-04-18T19:11:44.742783Z",
     "start_time": "2022-04-18T19:11:44.695782Z"
    }
   },
   "outputs": [
    {
     "data": {
      "text/html": [
       "<style>#sk-6acebdbb-b344-49ab-b1c8-3d7ce6cb9c0c {color: black;background-color: white;}#sk-6acebdbb-b344-49ab-b1c8-3d7ce6cb9c0c pre{padding: 0;}#sk-6acebdbb-b344-49ab-b1c8-3d7ce6cb9c0c div.sk-toggleable {background-color: white;}#sk-6acebdbb-b344-49ab-b1c8-3d7ce6cb9c0c label.sk-toggleable__label {cursor: pointer;display: block;width: 100%;margin-bottom: 0;padding: 0.2em 0.3em;box-sizing: border-box;text-align: center;}#sk-6acebdbb-b344-49ab-b1c8-3d7ce6cb9c0c div.sk-toggleable__content {max-height: 0;max-width: 0;overflow: hidden;text-align: left;background-color: #f0f8ff;}#sk-6acebdbb-b344-49ab-b1c8-3d7ce6cb9c0c div.sk-toggleable__content pre {margin: 0.2em;color: black;border-radius: 0.25em;background-color: #f0f8ff;}#sk-6acebdbb-b344-49ab-b1c8-3d7ce6cb9c0c input.sk-toggleable__control:checked~div.sk-toggleable__content {max-height: 200px;max-width: 100%;overflow: auto;}#sk-6acebdbb-b344-49ab-b1c8-3d7ce6cb9c0c div.sk-estimator input.sk-toggleable__control:checked~label.sk-toggleable__label {background-color: #d4ebff;}#sk-6acebdbb-b344-49ab-b1c8-3d7ce6cb9c0c div.sk-label input.sk-toggleable__control:checked~label.sk-toggleable__label {background-color: #d4ebff;}#sk-6acebdbb-b344-49ab-b1c8-3d7ce6cb9c0c input.sk-hidden--visually {border: 0;clip: rect(1px 1px 1px 1px);clip: rect(1px, 1px, 1px, 1px);height: 1px;margin: -1px;overflow: hidden;padding: 0;position: absolute;width: 1px;}#sk-6acebdbb-b344-49ab-b1c8-3d7ce6cb9c0c div.sk-estimator {font-family: monospace;background-color: #f0f8ff;margin: 0.25em 0.25em;border: 1px dotted black;border-radius: 0.25em;box-sizing: border-box;}#sk-6acebdbb-b344-49ab-b1c8-3d7ce6cb9c0c div.sk-estimator:hover {background-color: #d4ebff;}#sk-6acebdbb-b344-49ab-b1c8-3d7ce6cb9c0c div.sk-parallel-item::after {content: \"\";width: 100%;border-bottom: 1px solid gray;flex-grow: 1;}#sk-6acebdbb-b344-49ab-b1c8-3d7ce6cb9c0c div.sk-label:hover label.sk-toggleable__label {background-color: #d4ebff;}#sk-6acebdbb-b344-49ab-b1c8-3d7ce6cb9c0c div.sk-serial::before {content: \"\";position: absolute;border-left: 1px solid gray;box-sizing: border-box;top: 2em;bottom: 0;left: 50%;}#sk-6acebdbb-b344-49ab-b1c8-3d7ce6cb9c0c div.sk-serial {display: flex;flex-direction: column;align-items: center;background-color: white;}#sk-6acebdbb-b344-49ab-b1c8-3d7ce6cb9c0c div.sk-item {z-index: 1;}#sk-6acebdbb-b344-49ab-b1c8-3d7ce6cb9c0c div.sk-parallel {display: flex;align-items: stretch;justify-content: center;background-color: white;}#sk-6acebdbb-b344-49ab-b1c8-3d7ce6cb9c0c div.sk-parallel-item {display: flex;flex-direction: column;position: relative;background-color: white;}#sk-6acebdbb-b344-49ab-b1c8-3d7ce6cb9c0c div.sk-parallel-item:first-child::after {align-self: flex-end;width: 50%;}#sk-6acebdbb-b344-49ab-b1c8-3d7ce6cb9c0c div.sk-parallel-item:last-child::after {align-self: flex-start;width: 50%;}#sk-6acebdbb-b344-49ab-b1c8-3d7ce6cb9c0c div.sk-parallel-item:only-child::after {width: 0;}#sk-6acebdbb-b344-49ab-b1c8-3d7ce6cb9c0c div.sk-dashed-wrapped {border: 1px dashed gray;margin: 0.2em;box-sizing: border-box;padding-bottom: 0.1em;background-color: white;position: relative;}#sk-6acebdbb-b344-49ab-b1c8-3d7ce6cb9c0c div.sk-label label {font-family: monospace;font-weight: bold;background-color: white;display: inline-block;line-height: 1.2em;}#sk-6acebdbb-b344-49ab-b1c8-3d7ce6cb9c0c div.sk-label-container {position: relative;z-index: 2;text-align: center;}#sk-6acebdbb-b344-49ab-b1c8-3d7ce6cb9c0c div.sk-container {display: inline-block;position: relative;}</style><div id=\"sk-6acebdbb-b344-49ab-b1c8-3d7ce6cb9c0c\" class\"sk-top-container\"><div class=\"sk-container\"><div class=\"sk-item sk-dashed-wrapped\"><div class=\"sk-label-container\"><div class=\"sk-label sk-toggleable\"><input class=\"sk-toggleable__control sk-hidden--visually\" id=\"0f22a1fe-0a42-4d10-aec2-2ece8150776c\" type=\"checkbox\" ><label class=\"sk-toggleable__label\" for=\"0f22a1fe-0a42-4d10-aec2-2ece8150776c\">PandasFeatureUnion</label><div class=\"sk-toggleable__content\"><pre>PandasFeatureUnion(transformer_list=[('numerical_preprocessor',\n",
       "                                      Pipeline(steps=[('numerical_selector',\n",
       "                                                       FunctionTransformer(func=<function numerical_select at 0x000001DBE2F8C4C0>)),\n",
       "                                                      ('scaling',\n",
       "                                                       StandardScalerDf())])),\n",
       "                                     ('binary_preprocessor',\n",
       "                                      Pipeline(steps=[('binary_selector',\n",
       "                                                       FunctionTransformer(func=<function <lambda> at 0x000001DBE6CC5280>)),\n",
       "                                                      ('ohe',\n",
       "                                                       OneHotEncodingDf())])),\n",
       "                                     ('categorical_preprocessor',\n",
       "                                      Pipeline(steps=[('categorical_selector',\n",
       "                                                       FunctionTransformer(func=<function categorical_select at 0x000001DBE33384C0>)),\n",
       "                                                      ('ohe',\n",
       "                                                       OneHotEncodingDf())]))])</pre></div></div></div><div class=\"sk-parallel\"><div class=\"sk-parallel-item\"><div class=\"sk-item\"><div class=\"sk-label-container\"><div class=\"sk-label sk-toggleable\"><label>numerical_preprocessor</label></div></div><div class=\"sk-serial\"><div class=\"sk-item\"><div class=\"sk-serial\"><div class=\"sk-item\"><div class=\"sk-estimator sk-toggleable\"><input class=\"sk-toggleable__control sk-hidden--visually\" id=\"5d8c41da-62f6-49a5-949b-92f037b55208\" type=\"checkbox\" ><label class=\"sk-toggleable__label\" for=\"5d8c41da-62f6-49a5-949b-92f037b55208\">FunctionTransformer</label><div class=\"sk-toggleable__content\"><pre>FunctionTransformer(func=<function numerical_select at 0x000001DBE2F8C4C0>)</pre></div></div></div><div class=\"sk-item\"><div class=\"sk-estimator sk-toggleable\"><input class=\"sk-toggleable__control sk-hidden--visually\" id=\"e2f9bd83-e813-4644-a7df-a1614f1e227f\" type=\"checkbox\" ><label class=\"sk-toggleable__label\" for=\"e2f9bd83-e813-4644-a7df-a1614f1e227f\">StandardScalerDf</label><div class=\"sk-toggleable__content\"><pre>StandardScalerDf()</pre></div></div></div></div></div></div></div></div><div class=\"sk-parallel-item\"><div class=\"sk-item\"><div class=\"sk-label-container\"><div class=\"sk-label sk-toggleable\"><label>binary_preprocessor</label></div></div><div class=\"sk-serial\"><div class=\"sk-item\"><div class=\"sk-serial\"><div class=\"sk-item\"><div class=\"sk-estimator sk-toggleable\"><input class=\"sk-toggleable__control sk-hidden--visually\" id=\"daa4c883-f8d7-4b5a-b86e-82d2788553b5\" type=\"checkbox\" ><label class=\"sk-toggleable__label\" for=\"daa4c883-f8d7-4b5a-b86e-82d2788553b5\">FunctionTransformer</label><div class=\"sk-toggleable__content\"><pre>FunctionTransformer(func=<function <lambda> at 0x000001DBE6CC5280>)</pre></div></div></div><div class=\"sk-item\"><div class=\"sk-estimator sk-toggleable\"><input class=\"sk-toggleable__control sk-hidden--visually\" id=\"2f9c51b1-0fbb-4b1e-885e-6114674937de\" type=\"checkbox\" ><label class=\"sk-toggleable__label\" for=\"2f9c51b1-0fbb-4b1e-885e-6114674937de\">OneHotEncodingDf</label><div class=\"sk-toggleable__content\"><pre>OneHotEncodingDf()</pre></div></div></div></div></div></div></div></div><div class=\"sk-parallel-item\"><div class=\"sk-item\"><div class=\"sk-label-container\"><div class=\"sk-label sk-toggleable\"><label>categorical_preprocessor</label></div></div><div class=\"sk-serial\"><div class=\"sk-item\"><div class=\"sk-serial\"><div class=\"sk-item\"><div class=\"sk-estimator sk-toggleable\"><input class=\"sk-toggleable__control sk-hidden--visually\" id=\"4740c3a6-4952-452d-9505-2ea87140111e\" type=\"checkbox\" ><label class=\"sk-toggleable__label\" for=\"4740c3a6-4952-452d-9505-2ea87140111e\">FunctionTransformer</label><div class=\"sk-toggleable__content\"><pre>FunctionTransformer(func=<function categorical_select at 0x000001DBE33384C0>)</pre></div></div></div><div class=\"sk-item\"><div class=\"sk-estimator sk-toggleable\"><input class=\"sk-toggleable__control sk-hidden--visually\" id=\"d56f8f8b-f4ff-4b0f-af14-82430998dcd5\" type=\"checkbox\" ><label class=\"sk-toggleable__label\" for=\"d56f8f8b-f4ff-4b0f-af14-82430998dcd5\">OneHotEncodingDf</label><div class=\"sk-toggleable__content\"><pre>OneHotEncodingDf()</pre></div></div></div></div></div></div></div></div></div></div></div></div>"
      ],
      "text/plain": [
       "PandasFeatureUnion(transformer_list=[('numerical_preprocessor',\n",
       "                                      Pipeline(steps=[('numerical_selector',\n",
       "                                                       FunctionTransformer(func=<function numerical_select at 0x000001DBE2F8C4C0>)),\n",
       "                                                      ('scaling',\n",
       "                                                       StandardScalerDf())])),\n",
       "                                     ('binary_preprocessor',\n",
       "                                      Pipeline(steps=[('binary_selector',\n",
       "                                                       FunctionTransformer(func=<function <lambda> at 0x000001DBE6CC5280>)),\n",
       "                                                      ('ohe',\n",
       "                                                       OneHotEncodingDf())])),\n",
       "                                     ('categorical_preprocessor',\n",
       "                                      Pipeline(steps=[('categorical_selector',\n",
       "                                                       FunctionTransformer(func=<function categorical_select at 0x000001DBE33384C0>)),\n",
       "                                                      ('ohe',\n",
       "                                                       OneHotEncodingDf())]))])"
      ]
     },
     "execution_count": 106,
     "metadata": {},
     "output_type": "execute_result"
    }
   ],
   "source": [
    "feature_union"
   ]
  },
  {
   "cell_type": "code",
   "execution_count": 107,
   "metadata": {
    "ExecuteTime": {
     "end_time": "2022-04-18T19:11:45.565608Z",
     "start_time": "2022-04-18T19:11:44.743786Z"
    }
   },
   "outputs": [
    {
     "ename": "NameError",
     "evalue": "name 'sparse' is not defined",
     "output_type": "error",
     "traceback": [
      "\u001b[1;31m---------------------------------------------------------------------------\u001b[0m",
      "\u001b[1;31mNameError\u001b[0m                                 Traceback (most recent call last)",
      "\u001b[1;32m~\\AppData\\Local\\Temp/ipykernel_7212/1508638846.py\u001b[0m in \u001b[0;36m<module>\u001b[1;34m\u001b[0m\n\u001b[1;32m----> 1\u001b[1;33m \u001b[0mfu_result\u001b[0m \u001b[1;33m=\u001b[0m \u001b[0mfeature_union\u001b[0m\u001b[1;33m.\u001b[0m\u001b[0mfit_transform\u001b[0m\u001b[1;33m(\u001b[0m\u001b[0mdata\u001b[0m\u001b[1;33m)\u001b[0m\u001b[1;33m\u001b[0m\u001b[1;33m\u001b[0m\u001b[0m\n\u001b[0m",
      "\u001b[1;32m~\\AppData\\Local\\Temp/ipykernel_7212/3844965108.py\u001b[0m in \u001b[0;36mfit_transform\u001b[1;34m(self, X, y, **fit_params)\u001b[0m\n\u001b[0;32m     26\u001b[0m         \u001b[0mXs\u001b[0m\u001b[1;33m,\u001b[0m \u001b[0mtransformers\u001b[0m \u001b[1;33m=\u001b[0m \u001b[0mzip\u001b[0m\u001b[1;33m(\u001b[0m\u001b[1;33m*\u001b[0m\u001b[0mresult\u001b[0m\u001b[1;33m)\u001b[0m\u001b[1;33m\u001b[0m\u001b[1;33m\u001b[0m\u001b[0m\n\u001b[0;32m     27\u001b[0m         \u001b[0mself\u001b[0m\u001b[1;33m.\u001b[0m\u001b[0m_update_transformer_list\u001b[0m\u001b[1;33m(\u001b[0m\u001b[0mtransformers\u001b[0m\u001b[1;33m)\u001b[0m\u001b[1;33m\u001b[0m\u001b[1;33m\u001b[0m\u001b[0m\n\u001b[1;32m---> 28\u001b[1;33m         \u001b[1;32mif\u001b[0m \u001b[0many\u001b[0m\u001b[1;33m(\u001b[0m\u001b[0msparse\u001b[0m\u001b[1;33m.\u001b[0m\u001b[0missparse\u001b[0m\u001b[1;33m(\u001b[0m\u001b[0mf\u001b[0m\u001b[1;33m)\u001b[0m \u001b[1;32mfor\u001b[0m \u001b[0mf\u001b[0m \u001b[1;32min\u001b[0m \u001b[0mXs\u001b[0m\u001b[1;33m)\u001b[0m\u001b[1;33m:\u001b[0m\u001b[1;33m\u001b[0m\u001b[1;33m\u001b[0m\u001b[0m\n\u001b[0m\u001b[0;32m     29\u001b[0m             \u001b[0mXs\u001b[0m \u001b[1;33m=\u001b[0m \u001b[0msparse\u001b[0m\u001b[1;33m.\u001b[0m\u001b[0mhstack\u001b[0m\u001b[1;33m(\u001b[0m\u001b[0mXs\u001b[0m\u001b[1;33m)\u001b[0m\u001b[1;33m.\u001b[0m\u001b[0mtocsr\u001b[0m\u001b[1;33m(\u001b[0m\u001b[1;33m)\u001b[0m\u001b[1;33m\u001b[0m\u001b[1;33m\u001b[0m\u001b[0m\n\u001b[0;32m     30\u001b[0m         \u001b[1;32melse\u001b[0m\u001b[1;33m:\u001b[0m\u001b[1;33m\u001b[0m\u001b[1;33m\u001b[0m\u001b[0m\n",
      "\u001b[1;32m~\\AppData\\Local\\Temp/ipykernel_7212/3844965108.py\u001b[0m in \u001b[0;36m<genexpr>\u001b[1;34m(.0)\u001b[0m\n\u001b[0;32m     26\u001b[0m         \u001b[0mXs\u001b[0m\u001b[1;33m,\u001b[0m \u001b[0mtransformers\u001b[0m \u001b[1;33m=\u001b[0m \u001b[0mzip\u001b[0m\u001b[1;33m(\u001b[0m\u001b[1;33m*\u001b[0m\u001b[0mresult\u001b[0m\u001b[1;33m)\u001b[0m\u001b[1;33m\u001b[0m\u001b[1;33m\u001b[0m\u001b[0m\n\u001b[0;32m     27\u001b[0m         \u001b[0mself\u001b[0m\u001b[1;33m.\u001b[0m\u001b[0m_update_transformer_list\u001b[0m\u001b[1;33m(\u001b[0m\u001b[0mtransformers\u001b[0m\u001b[1;33m)\u001b[0m\u001b[1;33m\u001b[0m\u001b[1;33m\u001b[0m\u001b[0m\n\u001b[1;32m---> 28\u001b[1;33m         \u001b[1;32mif\u001b[0m \u001b[0many\u001b[0m\u001b[1;33m(\u001b[0m\u001b[0msparse\u001b[0m\u001b[1;33m.\u001b[0m\u001b[0missparse\u001b[0m\u001b[1;33m(\u001b[0m\u001b[0mf\u001b[0m\u001b[1;33m)\u001b[0m \u001b[1;32mfor\u001b[0m \u001b[0mf\u001b[0m \u001b[1;32min\u001b[0m \u001b[0mXs\u001b[0m\u001b[1;33m)\u001b[0m\u001b[1;33m:\u001b[0m\u001b[1;33m\u001b[0m\u001b[1;33m\u001b[0m\u001b[0m\n\u001b[0m\u001b[0;32m     29\u001b[0m             \u001b[0mXs\u001b[0m \u001b[1;33m=\u001b[0m \u001b[0msparse\u001b[0m\u001b[1;33m.\u001b[0m\u001b[0mhstack\u001b[0m\u001b[1;33m(\u001b[0m\u001b[0mXs\u001b[0m\u001b[1;33m)\u001b[0m\u001b[1;33m.\u001b[0m\u001b[0mtocsr\u001b[0m\u001b[1;33m(\u001b[0m\u001b[1;33m)\u001b[0m\u001b[1;33m\u001b[0m\u001b[1;33m\u001b[0m\u001b[0m\n\u001b[0;32m     30\u001b[0m         \u001b[1;32melse\u001b[0m\u001b[1;33m:\u001b[0m\u001b[1;33m\u001b[0m\u001b[1;33m\u001b[0m\u001b[0m\n",
      "\u001b[1;31mNameError\u001b[0m: name 'sparse' is not defined"
     ]
    }
   ],
   "source": [
    "fu_result = feature_union.fit_transform(data)"
   ]
  },
  {
   "cell_type": "code",
   "execution_count": null,
   "metadata": {
    "ExecuteTime": {
     "end_time": "2022-04-18T19:11:45.567610Z",
     "start_time": "2022-04-18T19:11:45.567610Z"
    }
   },
   "outputs": [],
   "source": [
    "fu_result"
   ]
  },
  {
   "cell_type": "markdown",
   "metadata": {},
   "source": [
    "# Попробуем теперь на test "
   ]
  },
  {
   "cell_type": "code",
   "execution_count": null,
   "metadata": {
    "ExecuteTime": {
     "end_time": "2022-04-18T19:11:45.568610Z",
     "start_time": "2022-04-18T19:11:45.568610Z"
    }
   },
   "outputs": [],
   "source": [
    "from sklearn.model_selection import train_test_split\n",
    "\n",
    "data.dropna(inplace=True)\n",
    "\n",
    "data_train, data_test = train_test_split(data, test_size=0.2, stratify=data[target])\n",
    "\n",
    "feature_union.fit_transform(data_test).head(4)"
   ]
  },
  {
   "cell_type": "markdown",
   "metadata": {},
   "source": [
    "# Using ColumnTransformer"
   ]
  },
  {
   "cell_type": "code",
   "execution_count": null,
   "metadata": {
    "ExecuteTime": {
     "end_time": "2022-04-18T19:11:45.570611Z",
     "start_time": "2022-04-18T19:11:45.570611Z"
    }
   },
   "outputs": [],
   "source": [
    "# numerical_features"
   ]
  },
  {
   "cell_type": "markdown",
   "metadata": {},
   "source": [
    "<div class=\"alert alert-info\">\n",
    "    \n",
    "У `make_column_selector` есть пара удобных опций, чтобы отфильтровывать признаки вместо нас "
   ]
  },
  {
   "cell_type": "code",
   "execution_count": null,
   "metadata": {
    "ExecuteTime": {
     "end_time": "2022-04-18T19:11:45.572610Z",
     "start_time": "2022-04-18T19:11:45.571609Z"
    }
   },
   "outputs": [],
   "source": [
    "# data.dtypes"
   ]
  },
  {
   "cell_type": "code",
   "execution_count": null,
   "metadata": {
    "ExecuteTime": {
     "end_time": "2022-04-18T19:11:45.574613Z",
     "start_time": "2022-04-18T19:11:45.574613Z"
    }
   },
   "outputs": [],
   "source": [
    "# make_column_selector(dtype_include=\"float64\")(data)"
   ]
  },
  {
   "cell_type": "markdown",
   "metadata": {},
   "source": [
    "## Выбираем все, кроме таргета"
   ]
  },
  {
   "cell_type": "code",
   "execution_count": null,
   "metadata": {
    "ExecuteTime": {
     "end_time": "2022-04-18T19:11:45.575612Z",
     "start_time": "2022-04-18T19:11:45.575612Z"
    }
   },
   "outputs": [],
   "source": [
    "make_column_selector('^((?!Happiness).)*$', dtype_exclude=[\"object\"])(data)"
   ]
  },
  {
   "cell_type": "code",
   "execution_count": null,
   "metadata": {
    "ExecuteTime": {
     "end_time": "2022-04-18T19:11:45.576610Z",
     "start_time": "2022-04-18T19:11:45.576610Z"
    }
   },
   "outputs": [],
   "source": [
    "data.shape"
   ]
  },
  {
   "cell_type": "markdown",
   "metadata": {},
   "source": [
    "# А теперь воспользуемся готовым"
   ]
  },
  {
   "cell_type": "code",
   "execution_count": null,
   "metadata": {
    "ExecuteTime": {
     "end_time": "2022-04-18T19:11:45.578611Z",
     "start_time": "2022-04-18T19:11:45.578611Z"
    }
   },
   "outputs": [],
   "source": [
    "# preprocessor = ColumnTransformer(transformers=[\n",
    "#     ('num', StandardScalerDf(), make_column_selector(r'^((?!Happiness).)*$', dtype_exclude=[\"object\"])),\n",
    "#     ('cat', OneHotEncoder(sparse=False, handle_unknown='ignore'), make_column_selector(dtype_include=\"object\"))\n",
    "# ], remainder='passthrough')\n",
    "\n",
    "\n",
    "# result = pd.DataFrame(preprocessor.fit_transform(data), columns=preprocessor.get_feature_names())\n",
    "# result.head(5)"
   ]
  },
  {
   "cell_type": "code",
   "execution_count": null,
   "metadata": {},
   "outputs": [],
   "source": [
    " "
   ]
  },
  {
   "cell_type": "code",
   "execution_count": null,
   "metadata": {
    "ExecuteTime": {
     "end_time": "2022-04-18T19:11:45.579611Z",
     "start_time": "2022-04-18T19:11:45.579611Z"
    }
   },
   "outputs": [],
   "source": [
    "preprocessor = ColumnTransformer(transformers=[\n",
    "    ('num', StandardScalerDf(), numerical_features),\n",
    "    ('cat', OneHotEncoder(sparse=False, handle_unknown='ignore'), to_dummies),\n",
    "    #('ordinal', 'passthrough', categorical_features)\n",
    "], remainder='drop', n_jobs=-1)\n",
    "\n",
    "\n",
    "result = pd.DataFrame(preprocessor.fit_transform(data), columns=preprocessor.get_feature_names())\n",
    "result.head(3)"
   ]
  },
  {
   "cell_type": "code",
   "execution_count": null,
   "metadata": {},
   "outputs": [],
   "source": [
    " "
   ]
  },
  {
   "cell_type": "code",
   "execution_count": null,
   "metadata": {
    "ExecuteTime": {
     "end_time": "2022-04-18T19:11:45.580610Z",
     "start_time": "2022-04-18T19:11:45.580610Z"
    }
   },
   "outputs": [],
   "source": [
    "preprocessor"
   ]
  },
  {
   "cell_type": "code",
   "execution_count": null,
   "metadata": {
    "ExecuteTime": {
     "end_time": "2022-04-18T19:11:45.581611Z",
     "start_time": "2022-04-18T19:11:45.581611Z"
    }
   },
   "outputs": [],
   "source": [
    "# preprocessor.get_steps("
   ]
  },
  {
   "cell_type": "code",
   "execution_count": null,
   "metadata": {
    "ExecuteTime": {
     "end_time": "2022-04-18T19:11:45.582610Z",
     "start_time": "2022-04-18T19:11:45.582610Z"
    }
   },
   "outputs": [],
   "source": [
    "fu_result.columns"
   ]
  },
  {
   "cell_type": "code",
   "execution_count": null,
   "metadata": {
    "ExecuteTime": {
     "end_time": "2022-04-18T19:11:45.583611Z",
     "start_time": "2022-04-18T19:11:45.583611Z"
    }
   },
   "outputs": [],
   "source": [
    "preprocessor"
   ]
  },
  {
   "cell_type": "markdown",
   "metadata": {},
   "source": [
    "# ML"
   ]
  },
  {
   "cell_type": "code",
   "execution_count": null,
   "metadata": {
    "ExecuteTime": {
     "end_time": "2022-04-18T19:11:45.585611Z",
     "start_time": "2022-04-18T19:11:45.585611Z"
    }
   },
   "outputs": [],
   "source": [
    "#И другие, но вы про них уже знаете \n",
    "\n",
    "from sklearn.linear_model import LogisticRegression"
   ]
  },
  {
   "cell_type": "code",
   "execution_count": null,
   "metadata": {
    "ExecuteTime": {
     "end_time": "2022-04-18T19:11:45.586611Z",
     "start_time": "2022-04-18T19:11:45.586611Z"
    }
   },
   "outputs": [],
   "source": [
    "pipeline = Pipeline([\n",
    "    (\"preprocessing\", feature_union),\n",
    "    #(\"preprocessing\", preprocessor),\n",
    "    (\"modelling\", LogisticRegression()) #Единственное правило это fit/predict\n",
    "])"
   ]
  },
  {
   "cell_type": "markdown",
   "metadata": {},
   "source": [
    "## Displaying pipelines"
   ]
  },
  {
   "cell_type": "code",
   "execution_count": null,
   "metadata": {
    "ExecuteTime": {
     "end_time": "2022-04-18T19:11:45.587611Z",
     "start_time": "2022-04-18T19:11:45.587611Z"
    }
   },
   "outputs": [],
   "source": [
    "pipeline"
   ]
  },
  {
   "cell_type": "code",
   "execution_count": null,
   "metadata": {
    "ExecuteTime": {
     "end_time": "2022-04-18T19:11:45.588611Z",
     "start_time": "2022-04-18T19:11:45.588611Z"
    },
    "scrolled": true
   },
   "outputs": [],
   "source": [
    "pipeline.fit(data_train.drop(target, axis=1), data_train[target])\n",
    "\n",
    "# pipeline.predict_proba(data_test)"
   ]
  },
  {
   "cell_type": "code",
   "execution_count": null,
   "metadata": {},
   "outputs": [],
   "source": []
  },
  {
   "cell_type": "markdown",
   "metadata": {
    "scrolled": true
   },
   "source": [
    "# Важность признаков - feature Importance"
   ]
  },
  {
   "cell_type": "code",
   "execution_count": null,
   "metadata": {
    "ExecuteTime": {
     "end_time": "2022-04-18T19:11:45.589613Z",
     "start_time": "2022-04-18T19:11:45.589613Z"
    }
   },
   "outputs": [],
   "source": [
    "# pipeline"
   ]
  },
  {
   "cell_type": "code",
   "execution_count": null,
   "metadata": {
    "ExecuteTime": {
     "end_time": "2022-04-18T19:11:45.590615Z",
     "start_time": "2022-04-18T19:11:45.590615Z"
    }
   },
   "outputs": [],
   "source": [
    "feature_names = pipeline.named_steps[\n",
    "    'preprocessing'].transform(data).columns\n",
    "\n",
    "feature_names"
   ]
  },
  {
   "cell_type": "code",
   "execution_count": null,
   "metadata": {
    "ExecuteTime": {
     "end_time": "2022-04-18T19:11:45.593613Z",
     "start_time": "2022-04-18T19:11:45.593613Z"
    },
    "scrolled": true
   },
   "outputs": [],
   "source": [
    "plt.figure(figsize=(15, 15))\n",
    "\n",
    "featureImportance = pd.DataFrame({\"feature\": feature_names, \n",
    "                                  \"importance\": pipeline.named_steps['modelling'].coef_[2, : ]})\n",
    "\n",
    "featureImportance.sort_values([\"importance\"], ascending=False, inplace=True)\n",
    "sns.barplot(x=featureImportance[\"importance\"], y=featureImportance['feature'])\n",
    "plt.show()"
   ]
  },
  {
   "cell_type": "code",
   "execution_count": null,
   "metadata": {
    "ExecuteTime": {
     "end_time": "2022-04-18T19:11:45.594612Z",
     "start_time": "2022-04-18T19:11:45.594612Z"
    }
   },
   "outputs": [],
   "source": [
    "pipeline.named_steps['preprocessing']"
   ]
  },
  {
   "cell_type": "code",
   "execution_count": null,
   "metadata": {
    "ExecuteTime": {
     "end_time": "2022-04-18T19:11:45.596613Z",
     "start_time": "2022-04-18T19:11:45.596613Z"
    }
   },
   "outputs": [],
   "source": [
    "pipeline.named_steps['preprocessing'].transformers[0][1].with_mean # Scaler param"
   ]
  },
  {
   "cell_type": "code",
   "execution_count": null,
   "metadata": {},
   "outputs": [],
   "source": []
  },
  {
   "cell_type": "code",
   "execution_count": null,
   "metadata": {},
   "outputs": [],
   "source": []
  },
  {
   "cell_type": "markdown",
   "metadata": {},
   "source": [
    "<div class=\"alert alert-info\">\n",
    "    \n",
    "* А что если есть текстовые признаки? `BagOfWords` / `TF-IDF`\n",
    "* Временные ряды? `tsfresh` / `tsfel`\n",
    "* Генарция новых признаков на лету - давайте реализуем\n"
   ]
  },
  {
   "cell_type": "code",
   "execution_count": null,
   "metadata": {},
   "outputs": [],
   "source": [
    " "
   ]
  },
  {
   "cell_type": "code",
   "execution_count": null,
   "metadata": {
    "ExecuteTime": {
     "end_time": "2022-04-18T19:11:45.598611Z",
     "start_time": "2022-04-18T19:11:45.598611Z"
    }
   },
   "outputs": [],
   "source": [
    "data_path = \"https://raw.githubusercontent.com/a-milenkin/mipt_data_science_2021/main/data/people_data_clustering.csv\"\n",
    "data = pd.read_csv(data_path, index_col=0)\n",
    "print(\"Размеры датасета\", data.shape)\n",
    "data.head(6)"
   ]
  },
  {
   "cell_type": "code",
   "execution_count": null,
   "metadata": {
    "ExecuteTime": {
     "end_time": "2022-04-18T19:11:45.599611Z",
     "start_time": "2022-04-18T19:11:45.599611Z"
    }
   },
   "outputs": [],
   "source": [
    "sub_data = data[data['home_cost'] < 10.5**7]\n",
    "\n",
    "sns.displot(sub_data,  x = 'happyness',  hue = 'profession', kind ='kde', height =10, aspect = 3);"
   ]
  },
  {
   "cell_type": "code",
   "execution_count": null,
   "metadata": {},
   "outputs": [],
   "source": []
  },
  {
   "cell_type": "markdown",
   "metadata": {},
   "source": [
    "<div class=\"alert alert-info\">\n",
    "<b>Про Датасет</b>\n",
    "    \n",
    "Датасет представляет собой уже знакомую нам информацию про жителей некоторого города - Атлантас.\n",
    "\n",
    "* `was_married` - Был ли когда-либо женат/замужем\n",
    "* `children` - Количество детей\n",
    "* `salary` - Уровень зарплаты\n",
    "* `sex` - Пол (0 - женщина, 1 - мужчина)\n",
    "* `age` - Возраст\n",
    "* `home_cost` - Сумарная стоимость жилья/недвижимости\n",
    "* `Professon` - Профессия\n",
    "* `drive_info` - Есть ли водительские права\n",
    "* `happyness` - уровень счастья по результатам опроса\n",
    "    \n",
    "</div>"
   ]
  },
  {
   "cell_type": "code",
   "execution_count": null,
   "metadata": {
    "ExecuteTime": {
     "end_time": "2022-04-18T19:11:45.600612Z",
     "start_time": "2022-04-18T19:11:45.600612Z"
    }
   },
   "outputs": [],
   "source": [
    "numerical_features = ['was_married', 'children', 'salary', 'sex', 'age', 'home_cost']\n",
    "categorical_features = [] # ['profession']\n",
    "\n",
    "target = 'happyness'\n",
    "\n",
    "\n",
    "all_features = numerical_features + categorical_features"
   ]
  },
  {
   "cell_type": "code",
   "execution_count": null,
   "metadata": {
    "ExecuteTime": {
     "end_time": "2022-04-18T19:11:45.602614Z",
     "start_time": "2022-04-18T19:11:45.602614Z"
    }
   },
   "outputs": [],
   "source": [
    "#   Для категориальных - применяем SimpleImputer, а затем StandardScaler\n",
    "numerical_transformer = Pipeline(steps=[\n",
    "    (\"imputer\", SimpleImputer()),\n",
    "    (\"scaler\", StandardScaler()),\n",
    "    (\"fs\", SelectKBest(score_func=f_classif, k=\"all\")),\n",
    "])\n",
    "\n",
    "#   Для категориальных - применяем SimpleImputer, а затем OneHotEncoder\n",
    "categorical_transformer = Pipeline(steps=[\n",
    "    (\"imputer\", SimpleImputer()),\n",
    "    (\"onehot\", OneHotEncoder(handle_unknown=\"ignore\")),\n",
    "])\n",
    "\n",
    "# Собираем воедино трансформеры для числовых и категориальных признаков\n",
    "data_transformer = ColumnTransformer(transformers=[\n",
    "    (\"numerical\", numerical_transformer, numerical_features),\n",
    "    #(\"categorical\", categorical_transformer, categorical_features),\n",
    "])\n",
    "\n",
    "# Создание конвейера препроцессора, который сначала преобразует данные\n",
    "preprocessor = Pipeline(steps=[(\"data_transformer\", data_transformer)])\n",
    "\n",
    "classifier_pipline = Pipeline(\n",
    "    steps=[(\"preprocessor\", preprocessor), \n",
    "           (\"classifier\", LogisticRegression())])\n",
    "\n",
    "classifier_pipline"
   ]
  },
  {
   "cell_type": "code",
   "execution_count": null,
   "metadata": {},
   "outputs": [],
   "source": [
    " "
   ]
  },
  {
   "cell_type": "code",
   "execution_count": null,
   "metadata": {
    "ExecuteTime": {
     "end_time": "2022-04-18T19:11:45.603612Z",
     "start_time": "2022-04-18T19:11:45.603612Z"
    }
   },
   "outputs": [],
   "source": [
    "classifier_pipline.fit(data[all_features], data[target])"
   ]
  },
  {
   "cell_type": "code",
   "execution_count": null,
   "metadata": {
    "ExecuteTime": {
     "end_time": "2022-04-18T19:11:45.604613Z",
     "start_time": "2022-04-18T19:11:45.604613Z"
    }
   },
   "outputs": [],
   "source": [
    "data[all_features].info()"
   ]
  },
  {
   "cell_type": "markdown",
   "metadata": {},
   "source": [
    "# Как сохранить всю эту махину?"
   ]
  },
  {
   "cell_type": "code",
   "execution_count": null,
   "metadata": {
    "ExecuteTime": {
     "end_time": "2022-04-18T19:11:45.606613Z",
     "start_time": "2022-04-18T19:11:45.606613Z"
    }
   },
   "outputs": [],
   "source": [
    "# И другие, но вы про них уже знаете\n",
    "from sklearn.model_selection import train_test_split, RandomizedSearchCV\n",
    "\n",
    "# Для сериализации моделей\n",
    "from joblib import Parallel, delayed\n",
    "from scipy import sparse\n",
    "import pickle"
   ]
  },
  {
   "cell_type": "markdown",
   "metadata": {},
   "source": [
    "# Save the pipeline"
   ]
  },
  {
   "cell_type": "code",
   "execution_count": null,
   "metadata": {
    "ExecuteTime": {
     "end_time": "2022-04-18T19:11:45.608614Z",
     "start_time": "2022-04-18T19:11:45.608614Z"
    }
   },
   "outputs": [],
   "source": [
    "with open(\"pipeline.pkl\", \"wb\") as f:\n",
    "    pickle.dump(search.best_estimator_, f)"
   ]
  },
  {
   "cell_type": "markdown",
   "metadata": {},
   "source": [
    "# Load and predict"
   ]
  },
  {
   "cell_type": "code",
   "execution_count": null,
   "metadata": {
    "ExecuteTime": {
     "end_time": "2022-04-18T19:11:45.609613Z",
     "start_time": "2022-04-18T19:11:45.609613Z"
    }
   },
   "outputs": [],
   "source": [
    "with open(\"pipeline.pkl\", 'rb') as f:\n",
    "    pipeline_from_saved = pickle.load(f)"
   ]
  },
  {
   "cell_type": "code",
   "execution_count": null,
   "metadata": {
    "ExecuteTime": {
     "end_time": "2022-04-18T19:11:45.610612Z",
     "start_time": "2022-04-18T19:11:45.610612Z"
    }
   },
   "outputs": [],
   "source": [
    "pipeline_from_saved"
   ]
  },
  {
   "cell_type": "code",
   "execution_count": null,
   "metadata": {
    "ExecuteTime": {
     "end_time": "2022-04-18T19:11:45.611612Z",
     "start_time": "2022-04-18T19:11:45.611612Z"
    }
   },
   "outputs": [],
   "source": [
    "data_test.iloc[0]"
   ]
  },
  {
   "cell_type": "code",
   "execution_count": null,
   "metadata": {
    "ExecuteTime": {
     "end_time": "2022-04-18T19:11:45.612612Z",
     "start_time": "2022-04-18T19:11:45.612612Z"
    }
   },
   "outputs": [],
   "source": [
    "pipeline_from_saved.named_steps['preprocessing'].transform(data_test.iloc[:1])"
   ]
  },
  {
   "cell_type": "code",
   "execution_count": null,
   "metadata": {
    "ExecuteTime": {
     "end_time": "2022-04-18T19:11:45.614611Z",
     "start_time": "2022-04-18T19:11:45.614611Z"
    }
   },
   "outputs": [],
   "source": [
    "preds = pipeline_from_saved.predict(data_test)\n",
    "print(classification_report(data_test[target], preds))"
   ]
  },
  {
   "cell_type": "code",
   "execution_count": null,
   "metadata": {},
   "outputs": [],
   "source": []
  },
  {
   "cell_type": "markdown",
   "metadata": {},
   "source": [
    "# Дополнительно\n",
    "\n",
    "* Код/ноутбуки будут тут: https://github.com/a-milenkin/Otus_Open_Day"
   ]
  },
  {
   "cell_type": "markdown",
   "metadata": {},
   "source": [
    "Пример хорошего ML проекта: https://github.com/a-milenkin/ml_project_example\n",
    "\n",
    "**Но можно писать еще лучше!**\n",
    "\n",
    "Задача: переписать модуль train_pipline используя Pipeline из Sklearn"
   ]
  },
  {
   "cell_type": "code",
   "execution_count": null,
   "metadata": {},
   "outputs": [],
   "source": []
  }
 ],
 "metadata": {
  "kernelspec": {
   "display_name": "Python 3 (ipykernel)",
   "language": "python",
   "name": "python3"
  },
  "language_info": {
   "codemirror_mode": {
    "name": "ipython",
    "version": 3
   },
   "file_extension": ".py",
   "mimetype": "text/x-python",
   "name": "python",
   "nbconvert_exporter": "python",
   "pygments_lexer": "ipython3",
   "version": "3.9.7"
  },
  "toc": {
   "base_numbering": 1,
   "nav_menu": {},
   "number_sections": true,
   "sideBar": true,
   "skip_h1_title": false,
   "title_cell": "Table of Contents",
   "title_sidebar": "Contents",
   "toc_cell": false,
   "toc_position": {},
   "toc_section_display": true,
   "toc_window_display": false
  },
  "varInspector": {
   "cols": {
    "lenName": 16,
    "lenType": 16,
    "lenVar": 40
   },
   "kernels_config": {
    "python": {
     "delete_cmd_postfix": "",
     "delete_cmd_prefix": "del ",
     "library": "var_list.py",
     "varRefreshCmd": "print(var_dic_list())"
    },
    "r": {
     "delete_cmd_postfix": ") ",
     "delete_cmd_prefix": "rm(",
     "library": "var_list.r",
     "varRefreshCmd": "cat(var_dic_list()) "
    }
   },
   "position": {
    "height": "291.719px",
    "left": "1036.46px",
    "right": "20px",
    "top": "120px",
    "width": "327.173px"
   },
   "types_to_exclude": [
    "module",
    "function",
    "builtin_function_or_method",
    "instance",
    "_Feature"
   ],
   "window_display": false
  }
 },
 "nbformat": 4,
 "nbformat_minor": 4
}
