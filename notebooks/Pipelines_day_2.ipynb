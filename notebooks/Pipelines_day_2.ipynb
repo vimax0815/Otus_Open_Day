{
 "cells": [
  {
   "cell_type": "markdown",
   "metadata": {},
   "source": [
    "# <center> Pipelines, Serialization </center> "
   ]
  },
  {
   "cell_type": "markdown",
   "metadata": {},
   "source": [
    "<p style=\"align: center;\"><img align=center src=\"./images/Industrial-Pipeline-Cleaning.jpg\"  width=1000></p>"
   ]
  },
  {
   "cell_type": "markdown",
   "metadata": {},
   "source": [
    "."
   ]
  },
  {
   "cell_type": "markdown",
   "metadata": {},
   "source": [
    "."
   ]
  },
  {
   "cell_type": "markdown",
   "metadata": {},
   "source": [
    "<p style=\"align: center;\"><img align=center src=\"https://hazelcast.com/wp-content/uploads/2019/11/24_DataPipleline-1.png\"  width=1000></p>"
   ]
  },
  {
   "cell_type": "code",
   "execution_count": 221,
   "metadata": {
    "ExecuteTime": {
     "end_time": "2022-04-28T16:31:58.850870Z",
     "start_time": "2022-04-28T16:31:58.835880Z"
    }
   },
   "outputs": [
    {
     "data": {
      "text/html": [
       "<style>.container { width:80% !important; }</style>"
      ],
      "text/plain": [
       "<IPython.core.display.HTML object>"
      ]
     },
     "metadata": {},
     "output_type": "display_data"
    }
   ],
   "source": [
    "import pandas as pd\n",
    "import numpy as np\n",
    "\n",
    "# Пара библиотек для визуализации\n",
    "import matplotlib.pyplot as plt\n",
    "%matplotlib inline\n",
    "\n",
    "\n",
    "from IPython.core.display import display, HTML\n",
    "display(HTML(\"<style>.container { width:80% !important; }</style>\"))\n",
    "\n",
    "import warnings\n",
    "warnings.filterwarnings(\"ignore\")"
   ]
  },
  {
   "cell_type": "code",
   "execution_count": null,
   "metadata": {},
   "outputs": [],
   "source": [
    " "
   ]
  },
  {
   "cell_type": "code",
   "execution_count": null,
   "metadata": {},
   "outputs": [],
   "source": [
    " "
   ]
  },
  {
   "cell_type": "markdown",
   "metadata": {},
   "source": [
    "# Импорт Данных"
   ]
  },
  {
   "cell_type": "code",
   "execution_count": 222,
   "metadata": {
    "ExecuteTime": {
     "end_time": "2022-04-28T16:32:00.196389Z",
     "start_time": "2022-04-28T16:31:58.852871Z"
    }
   },
   "outputs": [],
   "source": [
    "file_path = 'https://raw.githubusercontent.com/a-milenkin/Datasetes_for_Piplines/main/responses.csv'\n",
    "data = pd.read_csv(file_path)"
   ]
  },
  {
   "cell_type": "code",
   "execution_count": 223,
   "metadata": {
    "ExecuteTime": {
     "end_time": "2022-04-28T16:32:00.228392Z",
     "start_time": "2022-04-28T16:32:00.199392Z"
    }
   },
   "outputs": [
    {
     "data": {
      "text/html": [
       "<div>\n",
       "<style scoped>\n",
       "    .dataframe tbody tr th:only-of-type {\n",
       "        vertical-align: middle;\n",
       "    }\n",
       "\n",
       "    .dataframe tbody tr th {\n",
       "        vertical-align: top;\n",
       "    }\n",
       "\n",
       "    .dataframe thead th {\n",
       "        text-align: right;\n",
       "    }\n",
       "</style>\n",
       "<table border=\"1\" class=\"dataframe\">\n",
       "  <thead>\n",
       "    <tr style=\"text-align: right;\">\n",
       "      <th></th>\n",
       "      <th>Music</th>\n",
       "      <th>Slow songs or fast songs</th>\n",
       "      <th>Dance</th>\n",
       "      <th>Folk</th>\n",
       "      <th>Country</th>\n",
       "      <th>Classical music</th>\n",
       "      <th>Musical</th>\n",
       "      <th>Pop</th>\n",
       "      <th>Rock</th>\n",
       "      <th>Metal or Hardrock</th>\n",
       "      <th>...</th>\n",
       "      <th>Age</th>\n",
       "      <th>Height</th>\n",
       "      <th>Weight</th>\n",
       "      <th>Number of siblings</th>\n",
       "      <th>Gender</th>\n",
       "      <th>Left - right handed</th>\n",
       "      <th>Education</th>\n",
       "      <th>Only child</th>\n",
       "      <th>Village - town</th>\n",
       "      <th>House - block of flats</th>\n",
       "    </tr>\n",
       "  </thead>\n",
       "  <tbody>\n",
       "    <tr>\n",
       "      <th>0</th>\n",
       "      <td>5.0</td>\n",
       "      <td>3.0</td>\n",
       "      <td>2.0</td>\n",
       "      <td>1.0</td>\n",
       "      <td>2.0</td>\n",
       "      <td>2.0</td>\n",
       "      <td>1.0</td>\n",
       "      <td>5.0</td>\n",
       "      <td>5.0</td>\n",
       "      <td>1.0</td>\n",
       "      <td>...</td>\n",
       "      <td>20.0</td>\n",
       "      <td>163.0</td>\n",
       "      <td>48.0</td>\n",
       "      <td>1.0</td>\n",
       "      <td>female</td>\n",
       "      <td>right handed</td>\n",
       "      <td>college/bachelor degree</td>\n",
       "      <td>no</td>\n",
       "      <td>village</td>\n",
       "      <td>block of flats</td>\n",
       "    </tr>\n",
       "    <tr>\n",
       "      <th>1</th>\n",
       "      <td>4.0</td>\n",
       "      <td>4.0</td>\n",
       "      <td>2.0</td>\n",
       "      <td>1.0</td>\n",
       "      <td>1.0</td>\n",
       "      <td>1.0</td>\n",
       "      <td>2.0</td>\n",
       "      <td>3.0</td>\n",
       "      <td>5.0</td>\n",
       "      <td>4.0</td>\n",
       "      <td>...</td>\n",
       "      <td>19.0</td>\n",
       "      <td>163.0</td>\n",
       "      <td>58.0</td>\n",
       "      <td>2.0</td>\n",
       "      <td>female</td>\n",
       "      <td>right handed</td>\n",
       "      <td>college/bachelor degree</td>\n",
       "      <td>no</td>\n",
       "      <td>city</td>\n",
       "      <td>block of flats</td>\n",
       "    </tr>\n",
       "    <tr>\n",
       "      <th>2</th>\n",
       "      <td>5.0</td>\n",
       "      <td>5.0</td>\n",
       "      <td>2.0</td>\n",
       "      <td>2.0</td>\n",
       "      <td>3.0</td>\n",
       "      <td>4.0</td>\n",
       "      <td>5.0</td>\n",
       "      <td>3.0</td>\n",
       "      <td>5.0</td>\n",
       "      <td>3.0</td>\n",
       "      <td>...</td>\n",
       "      <td>20.0</td>\n",
       "      <td>176.0</td>\n",
       "      <td>67.0</td>\n",
       "      <td>2.0</td>\n",
       "      <td>female</td>\n",
       "      <td>right handed</td>\n",
       "      <td>secondary school</td>\n",
       "      <td>no</td>\n",
       "      <td>city</td>\n",
       "      <td>block of flats</td>\n",
       "    </tr>\n",
       "    <tr>\n",
       "      <th>3</th>\n",
       "      <td>5.0</td>\n",
       "      <td>3.0</td>\n",
       "      <td>2.0</td>\n",
       "      <td>1.0</td>\n",
       "      <td>1.0</td>\n",
       "      <td>1.0</td>\n",
       "      <td>1.0</td>\n",
       "      <td>2.0</td>\n",
       "      <td>2.0</td>\n",
       "      <td>1.0</td>\n",
       "      <td>...</td>\n",
       "      <td>22.0</td>\n",
       "      <td>172.0</td>\n",
       "      <td>59.0</td>\n",
       "      <td>1.0</td>\n",
       "      <td>female</td>\n",
       "      <td>right handed</td>\n",
       "      <td>college/bachelor degree</td>\n",
       "      <td>yes</td>\n",
       "      <td>city</td>\n",
       "      <td>house/bungalow</td>\n",
       "    </tr>\n",
       "    <tr>\n",
       "      <th>4</th>\n",
       "      <td>5.0</td>\n",
       "      <td>3.0</td>\n",
       "      <td>4.0</td>\n",
       "      <td>3.0</td>\n",
       "      <td>2.0</td>\n",
       "      <td>4.0</td>\n",
       "      <td>3.0</td>\n",
       "      <td>5.0</td>\n",
       "      <td>3.0</td>\n",
       "      <td>1.0</td>\n",
       "      <td>...</td>\n",
       "      <td>20.0</td>\n",
       "      <td>170.0</td>\n",
       "      <td>59.0</td>\n",
       "      <td>1.0</td>\n",
       "      <td>female</td>\n",
       "      <td>right handed</td>\n",
       "      <td>secondary school</td>\n",
       "      <td>no</td>\n",
       "      <td>village</td>\n",
       "      <td>house/bungalow</td>\n",
       "    </tr>\n",
       "  </tbody>\n",
       "</table>\n",
       "<p>5 rows × 150 columns</p>\n",
       "</div>"
      ],
      "text/plain": [
       "   Music  Slow songs or fast songs  Dance  Folk  Country  Classical music  \\\n",
       "0    5.0                       3.0    2.0   1.0      2.0              2.0   \n",
       "1    4.0                       4.0    2.0   1.0      1.0              1.0   \n",
       "2    5.0                       5.0    2.0   2.0      3.0              4.0   \n",
       "3    5.0                       3.0    2.0   1.0      1.0              1.0   \n",
       "4    5.0                       3.0    4.0   3.0      2.0              4.0   \n",
       "\n",
       "   Musical  Pop  Rock  Metal or Hardrock  ...   Age  Height  Weight  \\\n",
       "0      1.0  5.0   5.0                1.0  ...  20.0   163.0    48.0   \n",
       "1      2.0  3.0   5.0                4.0  ...  19.0   163.0    58.0   \n",
       "2      5.0  3.0   5.0                3.0  ...  20.0   176.0    67.0   \n",
       "3      1.0  2.0   2.0                1.0  ...  22.0   172.0    59.0   \n",
       "4      3.0  5.0   3.0                1.0  ...  20.0   170.0    59.0   \n",
       "\n",
       "   Number of siblings  Gender  Left - right handed                Education  \\\n",
       "0                 1.0  female         right handed  college/bachelor degree   \n",
       "1                 2.0  female         right handed  college/bachelor degree   \n",
       "2                 2.0  female         right handed         secondary school   \n",
       "3                 1.0  female         right handed  college/bachelor degree   \n",
       "4                 1.0  female         right handed         secondary school   \n",
       "\n",
       "   Only child  Village - town  House - block of flats  \n",
       "0          no         village          block of flats  \n",
       "1          no            city          block of flats  \n",
       "2          no            city          block of flats  \n",
       "3         yes            city          house/bungalow  \n",
       "4          no         village          house/bungalow  \n",
       "\n",
       "[5 rows x 150 columns]"
      ]
     },
     "execution_count": 223,
     "metadata": {},
     "output_type": "execute_result"
    }
   ],
   "source": [
    "data.head()"
   ]
  },
  {
   "cell_type": "markdown",
   "metadata": {},
   "source": [
    "<div class=\"alert alert-info\">\n",
    "\n",
    "<b>Про датасет </b>\n",
    "\n",
    "\n",
    "    \n",
    "Приведеные результаты опроса молодежи до 21-го года по тому, какие вещи делют их счастливыми по 5-й шкале\n",
    "    \n",
    "</div>\n"
   ]
  },
  {
   "cell_type": "markdown",
   "metadata": {},
   "source": [
    "<div class=\"alert alert-info\">\n",
    "\n",
    "<b>Про Задачу </b>\n",
    "\n",
    "Попробуем классифицировать людей по оценкам уровня счастья\n",
    "    \n",
    "</div>\n"
   ]
  },
  {
   "cell_type": "code",
   "execution_count": 224,
   "metadata": {
    "ExecuteTime": {
     "end_time": "2022-04-28T16:32:00.244392Z",
     "start_time": "2022-04-28T16:32:00.231392Z"
    }
   },
   "outputs": [],
   "source": [
    "interesting_features = [\"Happiness in life\", \"Age\", \"Height\", \"Gender\", \"Weight\", \n",
    "              \"Left - right handed\", \"Village - town\", \"Getting up\", \"God\",\n",
    "              \"Health\", \"Borrowed stuff\", \"Self-criticism\", \"Elections\", \n",
    "              \"Smoking\", \"Alcohol\" ,\"Number of friends\", \"Spending on healthy eating\",\n",
    "              \"Music\", \"Movies\", \"Friends versus money\", \"Changing the past\"]\n",
    "\n",
    "target = [\"Happiness in life\"]"
   ]
  },
  {
   "cell_type": "code",
   "execution_count": 225,
   "metadata": {
    "ExecuteTime": {
     "end_time": "2022-04-28T16:32:00.260394Z",
     "start_time": "2022-04-28T16:32:00.247396Z"
    }
   },
   "outputs": [],
   "source": [
    "# data[\"Happiness in life\"].hist();"
   ]
  },
  {
   "cell_type": "code",
   "execution_count": 226,
   "metadata": {
    "ExecuteTime": {
     "end_time": "2022-04-28T16:32:00.276395Z",
     "start_time": "2022-04-28T16:32:00.262395Z"
    }
   },
   "outputs": [],
   "source": [
    "data = data[interesting_features]"
   ]
  },
  {
   "cell_type": "code",
   "execution_count": 227,
   "metadata": {
    "ExecuteTime": {
     "end_time": "2022-04-28T16:32:00.292397Z",
     "start_time": "2022-04-28T16:32:00.278397Z"
    }
   },
   "outputs": [],
   "source": [
    "# Сбалансируем немного классы\n",
    "\n",
    "def happiness_score(x):\n",
    "    if x < 4:\n",
    "        return -1\n",
    "    elif x == 4.0:\n",
    "        return 0\n",
    "    else:\n",
    "        return 1\n",
    "    \n",
    "data[\"Happiness in life\"] = data[\"Happiness in life\"].apply(happiness_score)"
   ]
  },
  {
   "cell_type": "markdown",
   "metadata": {},
   "source": [
    "# Как пишут код обычно? - The painful way"
   ]
  },
  {
   "cell_type": "markdown",
   "metadata": {},
   "source": [
    "# Какой-нибудь EDA (исследование данных)"
   ]
  },
  {
   "cell_type": "markdown",
   "metadata": {},
   "source": [
    "# Есть ли в данных выбросы? Есть почти всегда!"
   ]
  },
  {
   "cell_type": "code",
   "execution_count": 228,
   "metadata": {
    "ExecuteTime": {
     "end_time": "2022-04-28T16:32:00.308396Z",
     "start_time": "2022-04-28T16:32:00.294398Z"
    }
   },
   "outputs": [],
   "source": [
    "# data.isnull().sum()"
   ]
  },
  {
   "cell_type": "code",
   "execution_count": 229,
   "metadata": {
    "ExecuteTime": {
     "end_time": "2022-04-28T16:32:00.324398Z",
     "start_time": "2022-04-28T16:32:00.310398Z"
    }
   },
   "outputs": [],
   "source": [
    "# data.dropna(inplace=True)"
   ]
  },
  {
   "cell_type": "code",
   "execution_count": 230,
   "metadata": {
    "ExecuteTime": {
     "end_time": "2022-04-28T16:32:00.356401Z",
     "start_time": "2022-04-28T16:32:00.326400Z"
    }
   },
   "outputs": [
    {
     "name": "stdout",
     "output_type": "stream",
     "text": [
      "(738, 21) (187, 21)\n"
     ]
    }
   ],
   "source": [
    "from sklearn.model_selection import train_test_split\n",
    "from sklearn.preprocessing import StandardScaler, OneHotEncoder\n",
    "\n",
    "\n",
    "data_train, data_test = train_test_split(data.copy(), test_size=0.2, stratify=data[target])\n",
    "\n",
    "data_train.dropna(inplace=True)\n",
    "data_test.dropna(inplace=True)\n",
    "\n",
    "print(data_train.shape, data_test.shape)"
   ]
  },
  {
   "cell_type": "code",
   "execution_count": 231,
   "metadata": {
    "ExecuteTime": {
     "end_time": "2022-04-28T16:32:00.404404Z",
     "start_time": "2022-04-28T16:32:00.360403Z"
    }
   },
   "outputs": [
    {
     "data": {
      "text/html": [
       "<div>\n",
       "<style scoped>\n",
       "    .dataframe tbody tr th:only-of-type {\n",
       "        vertical-align: middle;\n",
       "    }\n",
       "\n",
       "    .dataframe tbody tr th {\n",
       "        vertical-align: top;\n",
       "    }\n",
       "\n",
       "    .dataframe thead th {\n",
       "        text-align: right;\n",
       "    }\n",
       "</style>\n",
       "<table border=\"1\" class=\"dataframe\">\n",
       "  <thead>\n",
       "    <tr style=\"text-align: right;\">\n",
       "      <th></th>\n",
       "      <th>Happiness in life</th>\n",
       "      <th>Age</th>\n",
       "      <th>Height</th>\n",
       "      <th>Gender</th>\n",
       "      <th>Weight</th>\n",
       "      <th>Left - right handed</th>\n",
       "      <th>Village - town</th>\n",
       "      <th>Getting up</th>\n",
       "      <th>God</th>\n",
       "      <th>Health</th>\n",
       "      <th>...</th>\n",
       "      <th>Self-criticism</th>\n",
       "      <th>Elections</th>\n",
       "      <th>Smoking</th>\n",
       "      <th>Alcohol</th>\n",
       "      <th>Number of friends</th>\n",
       "      <th>Spending on healthy eating</th>\n",
       "      <th>Music</th>\n",
       "      <th>Movies</th>\n",
       "      <th>Friends versus money</th>\n",
       "      <th>Changing the past</th>\n",
       "    </tr>\n",
       "  </thead>\n",
       "  <tbody>\n",
       "    <tr>\n",
       "      <th>0</th>\n",
       "      <td>0</td>\n",
       "      <td>20.0</td>\n",
       "      <td>163.0</td>\n",
       "      <td>female</td>\n",
       "      <td>48.0</td>\n",
       "      <td>right handed</td>\n",
       "      <td>village</td>\n",
       "      <td>2.0</td>\n",
       "      <td>1.0</td>\n",
       "      <td>1.0</td>\n",
       "      <td>...</td>\n",
       "      <td>1.0</td>\n",
       "      <td>4.0</td>\n",
       "      <td>never smoked</td>\n",
       "      <td>drink a lot</td>\n",
       "      <td>3</td>\n",
       "      <td>3.0</td>\n",
       "      <td>5.0</td>\n",
       "      <td>5.0</td>\n",
       "      <td>3.0</td>\n",
       "      <td>1.0</td>\n",
       "    </tr>\n",
       "    <tr>\n",
       "      <th>1</th>\n",
       "      <td>0</td>\n",
       "      <td>19.0</td>\n",
       "      <td>163.0</td>\n",
       "      <td>female</td>\n",
       "      <td>58.0</td>\n",
       "      <td>right handed</td>\n",
       "      <td>city</td>\n",
       "      <td>5.0</td>\n",
       "      <td>1.0</td>\n",
       "      <td>4.0</td>\n",
       "      <td>...</td>\n",
       "      <td>4.0</td>\n",
       "      <td>5.0</td>\n",
       "      <td>never smoked</td>\n",
       "      <td>drink a lot</td>\n",
       "      <td>3</td>\n",
       "      <td>2.0</td>\n",
       "      <td>4.0</td>\n",
       "      <td>5.0</td>\n",
       "      <td>4.0</td>\n",
       "      <td>4.0</td>\n",
       "    </tr>\n",
       "    <tr>\n",
       "      <th>2</th>\n",
       "      <td>0</td>\n",
       "      <td>20.0</td>\n",
       "      <td>176.0</td>\n",
       "      <td>female</td>\n",
       "      <td>67.0</td>\n",
       "      <td>right handed</td>\n",
       "      <td>city</td>\n",
       "      <td>4.0</td>\n",
       "      <td>5.0</td>\n",
       "      <td>2.0</td>\n",
       "      <td>...</td>\n",
       "      <td>4.0</td>\n",
       "      <td>5.0</td>\n",
       "      <td>tried smoking</td>\n",
       "      <td>drink a lot</td>\n",
       "      <td>3</td>\n",
       "      <td>2.0</td>\n",
       "      <td>5.0</td>\n",
       "      <td>5.0</td>\n",
       "      <td>5.0</td>\n",
       "      <td>5.0</td>\n",
       "    </tr>\n",
       "    <tr>\n",
       "      <th>3</th>\n",
       "      <td>-1</td>\n",
       "      <td>22.0</td>\n",
       "      <td>172.0</td>\n",
       "      <td>female</td>\n",
       "      <td>59.0</td>\n",
       "      <td>right handed</td>\n",
       "      <td>city</td>\n",
       "      <td>1.0</td>\n",
       "      <td>4.0</td>\n",
       "      <td>1.0</td>\n",
       "      <td>...</td>\n",
       "      <td>5.0</td>\n",
       "      <td>5.0</td>\n",
       "      <td>former smoker</td>\n",
       "      <td>drink a lot</td>\n",
       "      <td>1</td>\n",
       "      <td>1.0</td>\n",
       "      <td>5.0</td>\n",
       "      <td>5.0</td>\n",
       "      <td>2.0</td>\n",
       "      <td>5.0</td>\n",
       "    </tr>\n",
       "    <tr>\n",
       "      <th>4</th>\n",
       "      <td>-1</td>\n",
       "      <td>20.0</td>\n",
       "      <td>170.0</td>\n",
       "      <td>female</td>\n",
       "      <td>59.0</td>\n",
       "      <td>right handed</td>\n",
       "      <td>village</td>\n",
       "      <td>4.0</td>\n",
       "      <td>5.0</td>\n",
       "      <td>3.0</td>\n",
       "      <td>...</td>\n",
       "      <td>5.0</td>\n",
       "      <td>5.0</td>\n",
       "      <td>tried smoking</td>\n",
       "      <td>social drinker</td>\n",
       "      <td>3</td>\n",
       "      <td>4.0</td>\n",
       "      <td>5.0</td>\n",
       "      <td>5.0</td>\n",
       "      <td>3.0</td>\n",
       "      <td>4.0</td>\n",
       "    </tr>\n",
       "  </tbody>\n",
       "</table>\n",
       "<p>5 rows × 21 columns</p>\n",
       "</div>"
      ],
      "text/plain": [
       "   Happiness in life   Age  Height  Gender  Weight Left - right handed  \\\n",
       "0                  0  20.0   163.0  female    48.0        right handed   \n",
       "1                  0  19.0   163.0  female    58.0        right handed   \n",
       "2                  0  20.0   176.0  female    67.0        right handed   \n",
       "3                 -1  22.0   172.0  female    59.0        right handed   \n",
       "4                 -1  20.0   170.0  female    59.0        right handed   \n",
       "\n",
       "  Village - town  Getting up  God  Health  ...  Self-criticism  Elections  \\\n",
       "0        village         2.0  1.0     1.0  ...             1.0        4.0   \n",
       "1           city         5.0  1.0     4.0  ...             4.0        5.0   \n",
       "2           city         4.0  5.0     2.0  ...             4.0        5.0   \n",
       "3           city         1.0  4.0     1.0  ...             5.0        5.0   \n",
       "4        village         4.0  5.0     3.0  ...             5.0        5.0   \n",
       "\n",
       "         Smoking         Alcohol Number of friends  \\\n",
       "0   never smoked     drink a lot                 3   \n",
       "1   never smoked     drink a lot                 3   \n",
       "2  tried smoking     drink a lot                 3   \n",
       "3  former smoker     drink a lot                 1   \n",
       "4  tried smoking  social drinker                 3   \n",
       "\n",
       "   Spending on healthy eating  Music  Movies  Friends versus money  \\\n",
       "0                         3.0    5.0     5.0                   3.0   \n",
       "1                         2.0    4.0     5.0                   4.0   \n",
       "2                         2.0    5.0     5.0                   5.0   \n",
       "3                         1.0    5.0     5.0                   2.0   \n",
       "4                         4.0    5.0     5.0                   3.0   \n",
       "\n",
       "   Changing the past  \n",
       "0                1.0  \n",
       "1                4.0  \n",
       "2                5.0  \n",
       "3                5.0  \n",
       "4                4.0  \n",
       "\n",
       "[5 rows x 21 columns]"
      ]
     },
     "execution_count": 231,
     "metadata": {},
     "output_type": "execute_result"
    }
   ],
   "source": [
    "data.head()"
   ]
  },
  {
   "cell_type": "code",
   "execution_count": 232,
   "metadata": {
    "ExecuteTime": {
     "end_time": "2022-04-28T16:32:00.420406Z",
     "start_time": "2022-04-28T16:32:00.405405Z"
    }
   },
   "outputs": [
    {
     "data": {
      "text/plain": [
       "social drinker    659\n",
       "drink a lot       222\n",
       "never             124\n",
       "Name: Alcohol, dtype: int64"
      ]
     },
     "execution_count": 232,
     "metadata": {},
     "output_type": "execute_result"
    }
   ],
   "source": [
    "data['Alcohol'].value_counts()"
   ]
  },
  {
   "cell_type": "markdown",
   "metadata": {},
   "source": [
    " "
   ]
  },
  {
   "cell_type": "markdown",
   "metadata": {},
   "source": [
    "# Какие признаки в данных?"
   ]
  },
  {
   "cell_type": "code",
   "execution_count": 233,
   "metadata": {
    "ExecuteTime": {
     "end_time": "2022-04-28T16:32:00.436408Z",
     "start_time": "2022-04-28T16:32:00.422406Z"
    }
   },
   "outputs": [
    {
     "data": {
      "text/plain": [
       "15"
      ]
     },
     "execution_count": 233,
     "metadata": {},
     "output_type": "execute_result"
    }
   ],
   "source": [
    "numerical_features = ['Age', 'Height', 'Weight']  # Численные переменные\n",
    "\n",
    "# Бинарные признаки\n",
    "to_dummies = [\n",
    "    'Gender', 'Left - right handed', 'Village - town', 'Smoking',  \"Alcohol\" ,\n",
    "]\n",
    "\n",
    "# Категориальные признаки\n",
    "categorical_features = [\n",
    "    col for col in data.columns if col not in numerical_features + target + to_dummies\n",
    "]\n",
    "\n",
    "all_features = categorical_features + numerical_features\n",
    "len(all_features)"
   ]
  },
  {
   "cell_type": "code",
   "execution_count": 234,
   "metadata": {
    "ExecuteTime": {
     "end_time": "2022-04-28T16:32:00.452410Z",
     "start_time": "2022-04-28T16:32:00.439410Z"
    }
   },
   "outputs": [],
   "source": [
    "# data[numerical_features]"
   ]
  },
  {
   "cell_type": "code",
   "execution_count": 235,
   "metadata": {
    "ExecuteTime": {
     "end_time": "2022-04-28T16:32:00.468412Z",
     "start_time": "2022-04-28T16:32:00.454413Z"
    }
   },
   "outputs": [],
   "source": [
    "from sklearn.preprocessing import StandardScaler, RobustScaler, LabelEncoder, OneHotEncoder, MinMaxScaler"
   ]
  },
  {
   "cell_type": "code",
   "execution_count": 236,
   "metadata": {
    "ExecuteTime": {
     "end_time": "2022-04-28T16:32:00.484412Z",
     "start_time": "2022-04-28T16:32:00.470413Z"
    }
   },
   "outputs": [],
   "source": [
    "scaler = StandardScaler() # Нормировка для численных признаков"
   ]
  },
  {
   "cell_type": "code",
   "execution_count": 237,
   "metadata": {
    "ExecuteTime": {
     "end_time": "2022-04-28T16:32:00.500411Z",
     "start_time": "2022-04-28T16:32:00.486413Z"
    }
   },
   "outputs": [
    {
     "data": {
      "text/plain": [
       "array([[-0.48530076, -1.00013871, -1.18913612],\n",
       "       [ 2.34594006,  0.91055859,  0.96074741],\n",
       "       [-0.83920587,  1.38823292,  1.67737526],\n",
       "       [-1.90092117,  0.71948886, -0.25751992],\n",
       "       [-1.54701607,  0.623954  , -0.8308222 ],\n",
       "       [ 0.22250944, -1.00013871, -0.8308222 ],\n",
       "       [-0.48530076, -0.33139465,  0.60243349],\n",
       "       [ 2.69984516,  0.81502373,  1.53404969],\n",
       "       [ 0.22250944, -0.04479006, -0.97414777],\n",
       "       [-0.13139566,  0.43288427, -0.11419436]])"
      ]
     },
     "execution_count": 237,
     "metadata": {},
     "output_type": "execute_result"
    }
   ],
   "source": [
    "data_train_scaled = scaler.fit_transform(data_train[numerical_features])\n",
    "data_train_scaled[:10]"
   ]
  },
  {
   "cell_type": "code",
   "execution_count": 238,
   "metadata": {
    "ExecuteTime": {
     "end_time": "2022-04-28T16:32:00.516413Z",
     "start_time": "2022-04-28T16:32:00.502418Z"
    }
   },
   "outputs": [
    {
     "data": {
      "text/plain": [
       "array([[1., 0., 0., 1., 1., 0., 1., 0., 0., 0., 0., 0., 1.],\n",
       "       [0., 1., 1., 0., 0., 1., 0., 0., 1., 0., 0., 0., 1.],\n",
       "       [0., 1., 1., 0., 1., 0., 0., 1., 0., 0., 1., 0., 0.],\n",
       "       [0., 1., 0., 1., 1., 0., 0., 0., 1., 0., 0., 1., 0.],\n",
       "       [1., 0., 0., 1., 0., 1., 0., 0., 0., 1., 0., 0., 1.],\n",
       "       [1., 0., 0., 1., 1., 0., 1., 0., 0., 0., 0., 0., 1.],\n",
       "       [0., 1., 0., 1., 0., 1., 1., 0., 0., 0., 0., 1., 0.],\n",
       "       [0., 1., 0., 1., 1., 0., 0., 0., 1., 0., 1., 0., 0.],\n",
       "       [1., 0., 0., 1., 1., 0., 1., 0., 0., 0., 0., 0., 1.],\n",
       "       [0., 1., 0., 1., 1., 0., 0., 0., 1., 0., 0., 0., 1.]])"
      ]
     },
     "execution_count": 238,
     "metadata": {},
     "output_type": "execute_result"
    }
   ],
   "source": [
    "ohe = OneHotEncoder(sparse=False, handle_unknown='ignore')  # кодирование для категориальных признаков\n",
    "\n",
    "data_train_ohe = ohe.fit_transform(data_train[to_dummies])\n",
    "data_train_ohe[:10]"
   ]
  },
  {
   "cell_type": "code",
   "execution_count": 239,
   "metadata": {
    "ExecuteTime": {
     "end_time": "2022-04-28T16:32:00.548420Z",
     "start_time": "2022-04-28T16:32:00.517415Z"
    }
   },
   "outputs": [
    {
     "data": {
      "text/html": [
       "<div>\n",
       "<style scoped>\n",
       "    .dataframe tbody tr th:only-of-type {\n",
       "        vertical-align: middle;\n",
       "    }\n",
       "\n",
       "    .dataframe tbody tr th {\n",
       "        vertical-align: top;\n",
       "    }\n",
       "\n",
       "    .dataframe thead th {\n",
       "        text-align: right;\n",
       "    }\n",
       "</style>\n",
       "<table border=\"1\" class=\"dataframe\">\n",
       "  <thead>\n",
       "    <tr style=\"text-align: right;\">\n",
       "      <th></th>\n",
       "      <th>Age</th>\n",
       "      <th>Height</th>\n",
       "      <th>Weight</th>\n",
       "      <th>x0_female</th>\n",
       "      <th>x0_male</th>\n",
       "      <th>x1_left handed</th>\n",
       "      <th>x1_right handed</th>\n",
       "      <th>x2_city</th>\n",
       "      <th>x2_village</th>\n",
       "      <th>x3_current smoker</th>\n",
       "      <th>x3_former smoker</th>\n",
       "      <th>x3_never smoked</th>\n",
       "      <th>x3_tried smoking</th>\n",
       "      <th>x4_drink a lot</th>\n",
       "      <th>x4_never</th>\n",
       "      <th>x4_social drinker</th>\n",
       "    </tr>\n",
       "  </thead>\n",
       "  <tbody>\n",
       "    <tr>\n",
       "      <th>0</th>\n",
       "      <td>-0.485301</td>\n",
       "      <td>-1.000139</td>\n",
       "      <td>-1.189136</td>\n",
       "      <td>1.0</td>\n",
       "      <td>0.0</td>\n",
       "      <td>0.0</td>\n",
       "      <td>1.0</td>\n",
       "      <td>1.0</td>\n",
       "      <td>0.0</td>\n",
       "      <td>1.0</td>\n",
       "      <td>0.0</td>\n",
       "      <td>0.0</td>\n",
       "      <td>0.0</td>\n",
       "      <td>0.0</td>\n",
       "      <td>0.0</td>\n",
       "      <td>1.0</td>\n",
       "    </tr>\n",
       "    <tr>\n",
       "      <th>1</th>\n",
       "      <td>2.345940</td>\n",
       "      <td>0.910559</td>\n",
       "      <td>0.960747</td>\n",
       "      <td>0.0</td>\n",
       "      <td>1.0</td>\n",
       "      <td>1.0</td>\n",
       "      <td>0.0</td>\n",
       "      <td>0.0</td>\n",
       "      <td>1.0</td>\n",
       "      <td>0.0</td>\n",
       "      <td>0.0</td>\n",
       "      <td>1.0</td>\n",
       "      <td>0.0</td>\n",
       "      <td>0.0</td>\n",
       "      <td>0.0</td>\n",
       "      <td>1.0</td>\n",
       "    </tr>\n",
       "    <tr>\n",
       "      <th>2</th>\n",
       "      <td>-0.839206</td>\n",
       "      <td>1.388233</td>\n",
       "      <td>1.677375</td>\n",
       "      <td>0.0</td>\n",
       "      <td>1.0</td>\n",
       "      <td>1.0</td>\n",
       "      <td>0.0</td>\n",
       "      <td>1.0</td>\n",
       "      <td>0.0</td>\n",
       "      <td>0.0</td>\n",
       "      <td>1.0</td>\n",
       "      <td>0.0</td>\n",
       "      <td>0.0</td>\n",
       "      <td>1.0</td>\n",
       "      <td>0.0</td>\n",
       "      <td>0.0</td>\n",
       "    </tr>\n",
       "    <tr>\n",
       "      <th>3</th>\n",
       "      <td>-1.900921</td>\n",
       "      <td>0.719489</td>\n",
       "      <td>-0.257520</td>\n",
       "      <td>0.0</td>\n",
       "      <td>1.0</td>\n",
       "      <td>0.0</td>\n",
       "      <td>1.0</td>\n",
       "      <td>1.0</td>\n",
       "      <td>0.0</td>\n",
       "      <td>0.0</td>\n",
       "      <td>0.0</td>\n",
       "      <td>1.0</td>\n",
       "      <td>0.0</td>\n",
       "      <td>0.0</td>\n",
       "      <td>1.0</td>\n",
       "      <td>0.0</td>\n",
       "    </tr>\n",
       "    <tr>\n",
       "      <th>4</th>\n",
       "      <td>-1.547016</td>\n",
       "      <td>0.623954</td>\n",
       "      <td>-0.830822</td>\n",
       "      <td>1.0</td>\n",
       "      <td>0.0</td>\n",
       "      <td>0.0</td>\n",
       "      <td>1.0</td>\n",
       "      <td>0.0</td>\n",
       "      <td>1.0</td>\n",
       "      <td>0.0</td>\n",
       "      <td>0.0</td>\n",
       "      <td>0.0</td>\n",
       "      <td>1.0</td>\n",
       "      <td>0.0</td>\n",
       "      <td>0.0</td>\n",
       "      <td>1.0</td>\n",
       "    </tr>\n",
       "  </tbody>\n",
       "</table>\n",
       "</div>"
      ],
      "text/plain": [
       "        Age    Height    Weight  x0_female  x0_male  x1_left handed  \\\n",
       "0 -0.485301 -1.000139 -1.189136        1.0      0.0             0.0   \n",
       "1  2.345940  0.910559  0.960747        0.0      1.0             1.0   \n",
       "2 -0.839206  1.388233  1.677375        0.0      1.0             1.0   \n",
       "3 -1.900921  0.719489 -0.257520        0.0      1.0             0.0   \n",
       "4 -1.547016  0.623954 -0.830822        1.0      0.0             0.0   \n",
       "\n",
       "   x1_right handed  x2_city  x2_village  x3_current smoker  x3_former smoker  \\\n",
       "0              1.0      1.0         0.0                1.0               0.0   \n",
       "1              0.0      0.0         1.0                0.0               0.0   \n",
       "2              0.0      1.0         0.0                0.0               1.0   \n",
       "3              1.0      1.0         0.0                0.0               0.0   \n",
       "4              1.0      0.0         1.0                0.0               0.0   \n",
       "\n",
       "   x3_never smoked  x3_tried smoking  x4_drink a lot  x4_never  \\\n",
       "0              0.0               0.0             0.0       0.0   \n",
       "1              1.0               0.0             0.0       0.0   \n",
       "2              0.0               0.0             1.0       0.0   \n",
       "3              1.0               0.0             0.0       1.0   \n",
       "4              0.0               1.0             0.0       0.0   \n",
       "\n",
       "   x4_social drinker  \n",
       "0                1.0  \n",
       "1                1.0  \n",
       "2                0.0  \n",
       "3                0.0  \n",
       "4                1.0  "
      ]
     },
     "execution_count": 239,
     "metadata": {},
     "output_type": "execute_result"
    }
   ],
   "source": [
    "data_train_tramsformed = pd.concat([pd.DataFrame(data_train_scaled, columns=numerical_features),\n",
    "                                    pd.DataFrame(data_train_ohe, columns=ohe.get_feature_names()),\n",
    "                                   # pd.DataFrame(data_train[categorical_features].values)\n",
    "                                   ], axis=1)\n",
    "data_train_tramsformed.head()"
   ]
  },
  {
   "cell_type": "markdown",
   "metadata": {},
   "source": [
    "# ML часть"
   ]
  },
  {
   "cell_type": "code",
   "execution_count": 240,
   "metadata": {
    "ExecuteTime": {
     "end_time": "2022-04-28T16:32:00.564419Z",
     "start_time": "2022-04-28T16:32:00.549423Z"
    }
   },
   "outputs": [],
   "source": [
    "from sklearn.linear_model import LogisticRegression\n",
    "\n",
    "from sklearn.metrics import classification_report, confusion_matrix, f1_score, make_scorer"
   ]
  },
  {
   "cell_type": "code",
   "execution_count": 241,
   "metadata": {
    "ExecuteTime": {
     "end_time": "2022-04-28T16:32:00.596421Z",
     "start_time": "2022-04-28T16:32:00.565420Z"
    }
   },
   "outputs": [
    {
     "data": {
      "text/html": [
       "<style>#sk-c58ba566-1e41-49f2-88d2-2ca838850d13 {color: black;background-color: white;}#sk-c58ba566-1e41-49f2-88d2-2ca838850d13 pre{padding: 0;}#sk-c58ba566-1e41-49f2-88d2-2ca838850d13 div.sk-toggleable {background-color: white;}#sk-c58ba566-1e41-49f2-88d2-2ca838850d13 label.sk-toggleable__label {cursor: pointer;display: block;width: 100%;margin-bottom: 0;padding: 0.2em 0.3em;box-sizing: border-box;text-align: center;}#sk-c58ba566-1e41-49f2-88d2-2ca838850d13 div.sk-toggleable__content {max-height: 0;max-width: 0;overflow: hidden;text-align: left;background-color: #f0f8ff;}#sk-c58ba566-1e41-49f2-88d2-2ca838850d13 div.sk-toggleable__content pre {margin: 0.2em;color: black;border-radius: 0.25em;background-color: #f0f8ff;}#sk-c58ba566-1e41-49f2-88d2-2ca838850d13 input.sk-toggleable__control:checked~div.sk-toggleable__content {max-height: 200px;max-width: 100%;overflow: auto;}#sk-c58ba566-1e41-49f2-88d2-2ca838850d13 div.sk-estimator input.sk-toggleable__control:checked~label.sk-toggleable__label {background-color: #d4ebff;}#sk-c58ba566-1e41-49f2-88d2-2ca838850d13 div.sk-label input.sk-toggleable__control:checked~label.sk-toggleable__label {background-color: #d4ebff;}#sk-c58ba566-1e41-49f2-88d2-2ca838850d13 input.sk-hidden--visually {border: 0;clip: rect(1px 1px 1px 1px);clip: rect(1px, 1px, 1px, 1px);height: 1px;margin: -1px;overflow: hidden;padding: 0;position: absolute;width: 1px;}#sk-c58ba566-1e41-49f2-88d2-2ca838850d13 div.sk-estimator {font-family: monospace;background-color: #f0f8ff;margin: 0.25em 0.25em;border: 1px dotted black;border-radius: 0.25em;box-sizing: border-box;}#sk-c58ba566-1e41-49f2-88d2-2ca838850d13 div.sk-estimator:hover {background-color: #d4ebff;}#sk-c58ba566-1e41-49f2-88d2-2ca838850d13 div.sk-parallel-item::after {content: \"\";width: 100%;border-bottom: 1px solid gray;flex-grow: 1;}#sk-c58ba566-1e41-49f2-88d2-2ca838850d13 div.sk-label:hover label.sk-toggleable__label {background-color: #d4ebff;}#sk-c58ba566-1e41-49f2-88d2-2ca838850d13 div.sk-serial::before {content: \"\";position: absolute;border-left: 1px solid gray;box-sizing: border-box;top: 2em;bottom: 0;left: 50%;}#sk-c58ba566-1e41-49f2-88d2-2ca838850d13 div.sk-serial {display: flex;flex-direction: column;align-items: center;background-color: white;}#sk-c58ba566-1e41-49f2-88d2-2ca838850d13 div.sk-item {z-index: 1;}#sk-c58ba566-1e41-49f2-88d2-2ca838850d13 div.sk-parallel {display: flex;align-items: stretch;justify-content: center;background-color: white;}#sk-c58ba566-1e41-49f2-88d2-2ca838850d13 div.sk-parallel-item {display: flex;flex-direction: column;position: relative;background-color: white;}#sk-c58ba566-1e41-49f2-88d2-2ca838850d13 div.sk-parallel-item:first-child::after {align-self: flex-end;width: 50%;}#sk-c58ba566-1e41-49f2-88d2-2ca838850d13 div.sk-parallel-item:last-child::after {align-self: flex-start;width: 50%;}#sk-c58ba566-1e41-49f2-88d2-2ca838850d13 div.sk-parallel-item:only-child::after {width: 0;}#sk-c58ba566-1e41-49f2-88d2-2ca838850d13 div.sk-dashed-wrapped {border: 1px dashed gray;margin: 0.2em;box-sizing: border-box;padding-bottom: 0.1em;background-color: white;position: relative;}#sk-c58ba566-1e41-49f2-88d2-2ca838850d13 div.sk-label label {font-family: monospace;font-weight: bold;background-color: white;display: inline-block;line-height: 1.2em;}#sk-c58ba566-1e41-49f2-88d2-2ca838850d13 div.sk-label-container {position: relative;z-index: 2;text-align: center;}#sk-c58ba566-1e41-49f2-88d2-2ca838850d13 div.sk-container {display: inline-block;position: relative;}</style><div id=\"sk-c58ba566-1e41-49f2-88d2-2ca838850d13\" class\"sk-top-container\"><div class=\"sk-container\"><div class=\"sk-item\"><div class=\"sk-estimator sk-toggleable\"><input class=\"sk-toggleable__control sk-hidden--visually\" id=\"6f732ef1-2ccc-400c-ba38-5798f1248648\" type=\"checkbox\" checked><label class=\"sk-toggleable__label\" for=\"6f732ef1-2ccc-400c-ba38-5798f1248648\">LogisticRegression</label><div class=\"sk-toggleable__content\"><pre>LogisticRegression()</pre></div></div></div></div></div>"
      ],
      "text/plain": [
       "LogisticRegression()"
      ]
     },
     "execution_count": 241,
     "metadata": {},
     "output_type": "execute_result"
    }
   ],
   "source": [
    "model = LogisticRegression()\n",
    "\n",
    "model.fit(data_train_tramsformed, data_train[target])"
   ]
  },
  {
   "cell_type": "code",
   "execution_count": 242,
   "metadata": {
    "ExecuteTime": {
     "end_time": "2022-04-28T16:32:00.612421Z",
     "start_time": "2022-04-28T16:32:00.598421Z"
    }
   },
   "outputs": [
    {
     "name": "stdout",
     "output_type": "stream",
     "text": [
      "              precision    recall  f1-score   support\n",
      "\n",
      "          -1       1.00      0.01      0.02       258\n",
      "           0       0.51      1.00      0.67       373\n",
      "           1       0.00      0.00      0.00       107\n",
      "\n",
      "    accuracy                           0.51       738\n",
      "   macro avg       0.50      0.34      0.23       738\n",
      "weighted avg       0.61      0.51      0.35       738\n",
      "\n"
     ]
    }
   ],
   "source": [
    "preds = model.predict(data_train_tramsformed)\n",
    "\n",
    "\n",
    "print(classification_report(data_train[target], preds))"
   ]
  },
  {
   "cell_type": "markdown",
   "metadata": {},
   "source": [
    "# А как же тест?! Валидация"
   ]
  },
  {
   "cell_type": "code",
   "execution_count": 243,
   "metadata": {
    "ExecuteTime": {
     "end_time": "2022-04-28T16:32:00.628422Z",
     "start_time": "2022-04-28T16:32:00.613422Z"
    }
   },
   "outputs": [
    {
     "data": {
      "text/plain": [
       "array([[ 0.22250944, -0.04479006,  0.45910792],\n",
       "       [ 0.57641454, -1.38227817, -0.97414777],\n",
       "       [ 2.69984516,  0.24181454, -0.47250828],\n",
       "       [-0.48530076, -0.52246438, -0.68749663],\n",
       "       [ 0.22250944,  0.623954  ,  0.24411957],\n",
       "       [ 0.57641454, -0.04479006,  0.96074741],\n",
       "       [ 0.22250944, -1.19120844, -1.33246169],\n",
       "       [ 0.22250944, -0.90460384, -1.04581055],\n",
       "       [-0.48530076,  0.14627967, -0.47250828],\n",
       "       [-1.19311097,  1.10162832,  1.10407298]])"
      ]
     },
     "execution_count": 243,
     "metadata": {},
     "output_type": "execute_result"
    }
   ],
   "source": [
    "data_test_scaled = scaler.transform(data_test[numerical_features])\n",
    "data_test_scaled[:10]"
   ]
  },
  {
   "cell_type": "code",
   "execution_count": 244,
   "metadata": {
    "ExecuteTime": {
     "end_time": "2022-04-28T16:32:00.644423Z",
     "start_time": "2022-04-28T16:32:00.630423Z"
    }
   },
   "outputs": [
    {
     "data": {
      "text/plain": [
       "array([[0., 1., 0., 1., 0., 1., 0., 0., 0., 1., 0., 0., 1.],\n",
       "       [0., 1., 0., 1., 1., 0., 0., 0., 0., 1., 0., 0., 1.],\n",
       "       [1., 0., 0., 1., 1., 0., 0., 0., 1., 0., 0., 0., 1.],\n",
       "       [1., 0., 0., 1., 1., 0., 1., 0., 0., 0., 1., 0., 0.],\n",
       "       [0., 1., 0., 1., 0., 1., 0., 0., 0., 1., 1., 0., 0.],\n",
       "       [0., 1., 0., 1., 1., 0., 0., 0., 0., 1., 0., 1., 0.],\n",
       "       [1., 0., 0., 1., 1., 0., 0., 1., 0., 0., 1., 0., 0.],\n",
       "       [1., 0., 0., 1., 1., 0., 0., 1., 0., 0., 1., 0., 0.],\n",
       "       [1., 0., 0., 1., 1., 0., 0., 0., 0., 1., 0., 0., 1.],\n",
       "       [0., 1., 0., 1., 1., 0., 0., 1., 0., 0., 0., 0., 1.]])"
      ]
     },
     "execution_count": 244,
     "metadata": {},
     "output_type": "execute_result"
    }
   ],
   "source": [
    "data_test_ohe = ohe.transform(data_test[to_dummies])\n",
    "data_test_ohe[:10]"
   ]
  },
  {
   "cell_type": "code",
   "execution_count": 245,
   "metadata": {
    "ExecuteTime": {
     "end_time": "2022-04-28T16:32:00.676425Z",
     "start_time": "2022-04-28T16:32:00.646425Z"
    }
   },
   "outputs": [
    {
     "data": {
      "text/html": [
       "<div>\n",
       "<style scoped>\n",
       "    .dataframe tbody tr th:only-of-type {\n",
       "        vertical-align: middle;\n",
       "    }\n",
       "\n",
       "    .dataframe tbody tr th {\n",
       "        vertical-align: top;\n",
       "    }\n",
       "\n",
       "    .dataframe thead th {\n",
       "        text-align: right;\n",
       "    }\n",
       "</style>\n",
       "<table border=\"1\" class=\"dataframe\">\n",
       "  <thead>\n",
       "    <tr style=\"text-align: right;\">\n",
       "      <th></th>\n",
       "      <th>Age</th>\n",
       "      <th>Height</th>\n",
       "      <th>Weight</th>\n",
       "      <th>x0_female</th>\n",
       "      <th>x0_male</th>\n",
       "      <th>x1_left handed</th>\n",
       "      <th>x1_right handed</th>\n",
       "      <th>x2_city</th>\n",
       "      <th>x2_village</th>\n",
       "      <th>x3_current smoker</th>\n",
       "      <th>x3_former smoker</th>\n",
       "      <th>x3_never smoked</th>\n",
       "      <th>x3_tried smoking</th>\n",
       "      <th>x4_drink a lot</th>\n",
       "      <th>x4_never</th>\n",
       "      <th>x4_social drinker</th>\n",
       "    </tr>\n",
       "  </thead>\n",
       "  <tbody>\n",
       "    <tr>\n",
       "      <th>0</th>\n",
       "      <td>0.222509</td>\n",
       "      <td>-0.044790</td>\n",
       "      <td>0.459108</td>\n",
       "      <td>0.0</td>\n",
       "      <td>1.0</td>\n",
       "      <td>0.0</td>\n",
       "      <td>1.0</td>\n",
       "      <td>0.0</td>\n",
       "      <td>1.0</td>\n",
       "      <td>0.0</td>\n",
       "      <td>0.0</td>\n",
       "      <td>0.0</td>\n",
       "      <td>1.0</td>\n",
       "      <td>0.0</td>\n",
       "      <td>0.0</td>\n",
       "      <td>1.0</td>\n",
       "    </tr>\n",
       "    <tr>\n",
       "      <th>1</th>\n",
       "      <td>0.576415</td>\n",
       "      <td>-1.382278</td>\n",
       "      <td>-0.974148</td>\n",
       "      <td>0.0</td>\n",
       "      <td>1.0</td>\n",
       "      <td>0.0</td>\n",
       "      <td>1.0</td>\n",
       "      <td>1.0</td>\n",
       "      <td>0.0</td>\n",
       "      <td>0.0</td>\n",
       "      <td>0.0</td>\n",
       "      <td>0.0</td>\n",
       "      <td>1.0</td>\n",
       "      <td>0.0</td>\n",
       "      <td>0.0</td>\n",
       "      <td>1.0</td>\n",
       "    </tr>\n",
       "    <tr>\n",
       "      <th>2</th>\n",
       "      <td>2.699845</td>\n",
       "      <td>0.241815</td>\n",
       "      <td>-0.472508</td>\n",
       "      <td>1.0</td>\n",
       "      <td>0.0</td>\n",
       "      <td>0.0</td>\n",
       "      <td>1.0</td>\n",
       "      <td>1.0</td>\n",
       "      <td>0.0</td>\n",
       "      <td>0.0</td>\n",
       "      <td>0.0</td>\n",
       "      <td>1.0</td>\n",
       "      <td>0.0</td>\n",
       "      <td>0.0</td>\n",
       "      <td>0.0</td>\n",
       "      <td>1.0</td>\n",
       "    </tr>\n",
       "    <tr>\n",
       "      <th>3</th>\n",
       "      <td>-0.485301</td>\n",
       "      <td>-0.522464</td>\n",
       "      <td>-0.687497</td>\n",
       "      <td>1.0</td>\n",
       "      <td>0.0</td>\n",
       "      <td>0.0</td>\n",
       "      <td>1.0</td>\n",
       "      <td>1.0</td>\n",
       "      <td>0.0</td>\n",
       "      <td>1.0</td>\n",
       "      <td>0.0</td>\n",
       "      <td>0.0</td>\n",
       "      <td>0.0</td>\n",
       "      <td>1.0</td>\n",
       "      <td>0.0</td>\n",
       "      <td>0.0</td>\n",
       "    </tr>\n",
       "    <tr>\n",
       "      <th>4</th>\n",
       "      <td>0.222509</td>\n",
       "      <td>0.623954</td>\n",
       "      <td>0.244120</td>\n",
       "      <td>0.0</td>\n",
       "      <td>1.0</td>\n",
       "      <td>0.0</td>\n",
       "      <td>1.0</td>\n",
       "      <td>0.0</td>\n",
       "      <td>1.0</td>\n",
       "      <td>0.0</td>\n",
       "      <td>0.0</td>\n",
       "      <td>0.0</td>\n",
       "      <td>1.0</td>\n",
       "      <td>1.0</td>\n",
       "      <td>0.0</td>\n",
       "      <td>0.0</td>\n",
       "    </tr>\n",
       "  </tbody>\n",
       "</table>\n",
       "</div>"
      ],
      "text/plain": [
       "        Age    Height    Weight  x0_female  x0_male  x1_left handed  \\\n",
       "0  0.222509 -0.044790  0.459108        0.0      1.0             0.0   \n",
       "1  0.576415 -1.382278 -0.974148        0.0      1.0             0.0   \n",
       "2  2.699845  0.241815 -0.472508        1.0      0.0             0.0   \n",
       "3 -0.485301 -0.522464 -0.687497        1.0      0.0             0.0   \n",
       "4  0.222509  0.623954  0.244120        0.0      1.0             0.0   \n",
       "\n",
       "   x1_right handed  x2_city  x2_village  x3_current smoker  x3_former smoker  \\\n",
       "0              1.0      0.0         1.0                0.0               0.0   \n",
       "1              1.0      1.0         0.0                0.0               0.0   \n",
       "2              1.0      1.0         0.0                0.0               0.0   \n",
       "3              1.0      1.0         0.0                1.0               0.0   \n",
       "4              1.0      0.0         1.0                0.0               0.0   \n",
       "\n",
       "   x3_never smoked  x3_tried smoking  x4_drink a lot  x4_never  \\\n",
       "0              0.0               1.0             0.0       0.0   \n",
       "1              0.0               1.0             0.0       0.0   \n",
       "2              1.0               0.0             0.0       0.0   \n",
       "3              0.0               0.0             1.0       0.0   \n",
       "4              0.0               1.0             1.0       0.0   \n",
       "\n",
       "   x4_social drinker  \n",
       "0                1.0  \n",
       "1                1.0  \n",
       "2                1.0  \n",
       "3                0.0  \n",
       "4                0.0  "
      ]
     },
     "execution_count": 245,
     "metadata": {},
     "output_type": "execute_result"
    }
   ],
   "source": [
    "data_test_tramsformed = pd.concat([pd.DataFrame(data_test_scaled, columns=numerical_features),\n",
    "                                    pd.DataFrame(data_test_ohe, columns=ohe.get_feature_names()),\n",
    "                                    #pd.DataFrame(data_test[categorical_features].values)\n",
    "                                  ], axis=1)\n",
    "data_test_tramsformed.head()"
   ]
  },
  {
   "cell_type": "code",
   "execution_count": 246,
   "metadata": {
    "ExecuteTime": {
     "end_time": "2022-04-28T16:32:00.692425Z",
     "start_time": "2022-04-28T16:32:00.678427Z"
    }
   },
   "outputs": [],
   "source": [
    "preds = model.predict(data_test_tramsformed)"
   ]
  },
  {
   "cell_type": "code",
   "execution_count": 247,
   "metadata": {
    "ExecuteTime": {
     "end_time": "2022-04-28T16:32:00.708427Z",
     "start_time": "2022-04-28T16:32:00.694426Z"
    }
   },
   "outputs": [
    {
     "name": "stdout",
     "output_type": "stream",
     "text": [
      "              precision    recall  f1-score   support\n",
      "\n",
      "          -1       0.50      0.02      0.03        66\n",
      "           0       0.50      0.98      0.66        94\n",
      "           1       0.00      0.00      0.00        27\n",
      "\n",
      "    accuracy                           0.50       187\n",
      "   macro avg       0.33      0.33      0.23       187\n",
      "weighted avg       0.43      0.50      0.34       187\n",
      "\n"
     ]
    }
   ],
   "source": [
    "print(classification_report(data_test[target], preds))"
   ]
  },
  {
   "cell_type": "markdown",
   "metadata": {},
   "source": [
    "## Что не так с этим способом?"
   ]
  },
  {
   "cell_type": "markdown",
   "metadata": {},
   "source": [
    "<div class=\"alert alert-warning\">\n",
    "\n",
    "\n",
    " - Дублируем код ли кода\n",
    "\n",
    " - Сложно маштабировать\n",
    "\n",
    " - Сложно поддерживать свой код\n",
    "    \n",
    " - Много времени("
   ]
  },
  {
   "cell_type": "markdown",
   "metadata": {},
   "source": [
    "Как сохранить всю эту махину? "
   ]
  },
  {
   "cell_type": "code",
   "execution_count": null,
   "metadata": {},
   "outputs": [],
   "source": [
    " "
   ]
  },
  {
   "cell_type": "markdown",
   "metadata": {},
   "source": [
    "# Как пишут код true-датасаентисты - The pipeline way "
   ]
  },
  {
   "cell_type": "markdown",
   "metadata": {},
   "source": [
    "<div>\n",
    "<img src=\"https://i.pinimg.com/564x/41/d2/4b/41d24b25710d7746b22a7eb34316952c.jpg\" width=\"500\"/>\n",
    "</div>"
   ]
  },
  {
   "cell_type": "markdown",
   "metadata": {},
   "source": [
    "<div class=\"alert alert-info\">\n",
    "\n",
    "Pipeline позволяет обернуть сразу несколько этапов обработки данных в один объект\n",
    "\n",
    "- **FunctionTransformer**: преобразует функцию в трансформер\n",
    "- **FeatureUnion**: объединяет результаты нескольких трансформеров в один датасет\n",
    "- **ColumnTransformer**: выбирает определенные колонки\n",
    "- **make_pipeline**: удобная обертка для создания пайплайна, можно использовать вместо Pipeline "
   ]
  },
  {
   "cell_type": "code",
   "execution_count": null,
   "metadata": {},
   "outputs": [],
   "source": [
    " "
   ]
  },
  {
   "cell_type": "code",
   "execution_count": 248,
   "metadata": {
    "ExecuteTime": {
     "end_time": "2022-04-28T16:32:00.724428Z",
     "start_time": "2022-04-28T16:32:00.709428Z"
    }
   },
   "outputs": [],
   "source": [
    "# Гости этого вечера. Нужные нам фрагменты для сборки пайплайна\n",
    "\n",
    "from sklearn.pipeline import Pipeline, make_pipeline, FeatureUnion\n",
    "from sklearn.compose import ColumnTransformer, make_column_selector\n",
    "\n",
    "from sklearn.impute import SimpleImputer, KNNImputer\n",
    "from sklearn.feature_selection import SelectKBest, chi2, f_classif"
   ]
  },
  {
   "cell_type": "code",
   "execution_count": 249,
   "metadata": {
    "ExecuteTime": {
     "end_time": "2022-04-28T16:32:00.931650Z",
     "start_time": "2022-04-28T16:32:00.730637Z"
    }
   },
   "outputs": [
    {
     "data": {
      "text/html": [
       "<style>#sk-c901e479-e594-4b8d-a5cc-645845add38f {color: black;background-color: white;}#sk-c901e479-e594-4b8d-a5cc-645845add38f pre{padding: 0;}#sk-c901e479-e594-4b8d-a5cc-645845add38f div.sk-toggleable {background-color: white;}#sk-c901e479-e594-4b8d-a5cc-645845add38f label.sk-toggleable__label {cursor: pointer;display: block;width: 100%;margin-bottom: 0;padding: 0.2em 0.3em;box-sizing: border-box;text-align: center;}#sk-c901e479-e594-4b8d-a5cc-645845add38f div.sk-toggleable__content {max-height: 0;max-width: 0;overflow: hidden;text-align: left;background-color: #f0f8ff;}#sk-c901e479-e594-4b8d-a5cc-645845add38f div.sk-toggleable__content pre {margin: 0.2em;color: black;border-radius: 0.25em;background-color: #f0f8ff;}#sk-c901e479-e594-4b8d-a5cc-645845add38f input.sk-toggleable__control:checked~div.sk-toggleable__content {max-height: 200px;max-width: 100%;overflow: auto;}#sk-c901e479-e594-4b8d-a5cc-645845add38f div.sk-estimator input.sk-toggleable__control:checked~label.sk-toggleable__label {background-color: #d4ebff;}#sk-c901e479-e594-4b8d-a5cc-645845add38f div.sk-label input.sk-toggleable__control:checked~label.sk-toggleable__label {background-color: #d4ebff;}#sk-c901e479-e594-4b8d-a5cc-645845add38f input.sk-hidden--visually {border: 0;clip: rect(1px 1px 1px 1px);clip: rect(1px, 1px, 1px, 1px);height: 1px;margin: -1px;overflow: hidden;padding: 0;position: absolute;width: 1px;}#sk-c901e479-e594-4b8d-a5cc-645845add38f div.sk-estimator {font-family: monospace;background-color: #f0f8ff;margin: 0.25em 0.25em;border: 1px dotted black;border-radius: 0.25em;box-sizing: border-box;}#sk-c901e479-e594-4b8d-a5cc-645845add38f div.sk-estimator:hover {background-color: #d4ebff;}#sk-c901e479-e594-4b8d-a5cc-645845add38f div.sk-parallel-item::after {content: \"\";width: 100%;border-bottom: 1px solid gray;flex-grow: 1;}#sk-c901e479-e594-4b8d-a5cc-645845add38f div.sk-label:hover label.sk-toggleable__label {background-color: #d4ebff;}#sk-c901e479-e594-4b8d-a5cc-645845add38f div.sk-serial::before {content: \"\";position: absolute;border-left: 1px solid gray;box-sizing: border-box;top: 2em;bottom: 0;left: 50%;}#sk-c901e479-e594-4b8d-a5cc-645845add38f div.sk-serial {display: flex;flex-direction: column;align-items: center;background-color: white;}#sk-c901e479-e594-4b8d-a5cc-645845add38f div.sk-item {z-index: 1;}#sk-c901e479-e594-4b8d-a5cc-645845add38f div.sk-parallel {display: flex;align-items: stretch;justify-content: center;background-color: white;}#sk-c901e479-e594-4b8d-a5cc-645845add38f div.sk-parallel-item {display: flex;flex-direction: column;position: relative;background-color: white;}#sk-c901e479-e594-4b8d-a5cc-645845add38f div.sk-parallel-item:first-child::after {align-self: flex-end;width: 50%;}#sk-c901e479-e594-4b8d-a5cc-645845add38f div.sk-parallel-item:last-child::after {align-self: flex-start;width: 50%;}#sk-c901e479-e594-4b8d-a5cc-645845add38f div.sk-parallel-item:only-child::after {width: 0;}#sk-c901e479-e594-4b8d-a5cc-645845add38f div.sk-dashed-wrapped {border: 1px dashed gray;margin: 0.2em;box-sizing: border-box;padding-bottom: 0.1em;background-color: white;position: relative;}#sk-c901e479-e594-4b8d-a5cc-645845add38f div.sk-label label {font-family: monospace;font-weight: bold;background-color: white;display: inline-block;line-height: 1.2em;}#sk-c901e479-e594-4b8d-a5cc-645845add38f div.sk-label-container {position: relative;z-index: 2;text-align: center;}#sk-c901e479-e594-4b8d-a5cc-645845add38f div.sk-container {display: inline-block;position: relative;}</style><div id=\"sk-c901e479-e594-4b8d-a5cc-645845add38f\" class\"sk-top-container\"><div class=\"sk-container\"><div class=\"sk-item sk-dashed-wrapped\"><div class=\"sk-label-container\"><div class=\"sk-label sk-toggleable\"><input class=\"sk-toggleable__control sk-hidden--visually\" id=\"09b10859-c356-4adb-b517-17b66860a0ea\" type=\"checkbox\" ><label class=\"sk-toggleable__label\" for=\"09b10859-c356-4adb-b517-17b66860a0ea\">Pipeline</label><div class=\"sk-toggleable__content\"><pre>Pipeline(steps=[('preprocessor',\n",
       "                 Pipeline(steps=[('data_transformer',\n",
       "                                  ColumnTransformer(transformers=[('numerical',\n",
       "                                                                   Pipeline(steps=[('imputer',\n",
       "                                                                                    SimpleImputer()),\n",
       "                                                                                   ('scaler',\n",
       "                                                                                    StandardScaler()),\n",
       "                                                                                   ('fs',\n",
       "                                                                                    SelectKBest(k='all'))]),\n",
       "                                                                   ['Age',\n",
       "                                                                    'Height',\n",
       "                                                                    'Weight']),\n",
       "                                                                  ('categorical',\n",
       "                                                                   Pipeline(steps=[('imputer',\n",
       "                                                                                    SimpleImputer()),\n",
       "                                                                                   ('onehot',\n",
       "                                                                                    OneHotEncoder(handle_unknown='ignore'))]),\n",
       "                                                                   ['Getting '\n",
       "                                                                    'up',\n",
       "                                                                    'God',\n",
       "                                                                    'Health',\n",
       "                                                                    'Borrowed '\n",
       "                                                                    'stuff',\n",
       "                                                                    'Self-criticism',\n",
       "                                                                    'Elections',\n",
       "                                                                    'Number of '\n",
       "                                                                    'friends',\n",
       "                                                                    'Spending '\n",
       "                                                                    'on '\n",
       "                                                                    'healthy '\n",
       "                                                                    'eating',\n",
       "                                                                    'Music',\n",
       "                                                                    'Movies',\n",
       "                                                                    'Friends '\n",
       "                                                                    'versus '\n",
       "                                                                    'money',\n",
       "                                                                    'Changing '\n",
       "                                                                    'the '\n",
       "                                                                    'past'])]))])),\n",
       "                ('classifier', LogisticRegression())])</pre></div></div></div><div class=\"sk-serial\"><div class=\"sk-item\"><div class=\"sk-label-container\"><div class=\"sk-label sk-toggleable\"><input class=\"sk-toggleable__control sk-hidden--visually\" id=\"4723d560-89be-40df-a4f6-13f673bfe993\" type=\"checkbox\" ><label class=\"sk-toggleable__label\" for=\"4723d560-89be-40df-a4f6-13f673bfe993\">preprocessor: Pipeline</label><div class=\"sk-toggleable__content\"><pre>Pipeline(steps=[('data_transformer',\n",
       "                 ColumnTransformer(transformers=[('numerical',\n",
       "                                                  Pipeline(steps=[('imputer',\n",
       "                                                                   SimpleImputer()),\n",
       "                                                                  ('scaler',\n",
       "                                                                   StandardScaler()),\n",
       "                                                                  ('fs',\n",
       "                                                                   SelectKBest(k='all'))]),\n",
       "                                                  ['Age', 'Height', 'Weight']),\n",
       "                                                 ('categorical',\n",
       "                                                  Pipeline(steps=[('imputer',\n",
       "                                                                   SimpleImputer()),\n",
       "                                                                  ('onehot',\n",
       "                                                                   OneHotEncoder(handle_unknown='ignore'))]),\n",
       "                                                  ['Getting up', 'God',\n",
       "                                                   'Health', 'Borrowed stuff',\n",
       "                                                   'Self-criticism',\n",
       "                                                   'Elections',\n",
       "                                                   'Number of friends',\n",
       "                                                   'Spending on healthy eating',\n",
       "                                                   'Music', 'Movies',\n",
       "                                                   'Friends versus money',\n",
       "                                                   'Changing the past'])]))])</pre></div></div></div><div class=\"sk-serial\"><div class=\"sk-item sk-dashed-wrapped\"><div class=\"sk-label-container\"><div class=\"sk-label sk-toggleable\"><input class=\"sk-toggleable__control sk-hidden--visually\" id=\"49d669b3-5393-40fd-a414-34aedf58c5c6\" type=\"checkbox\" ><label class=\"sk-toggleable__label\" for=\"49d669b3-5393-40fd-a414-34aedf58c5c6\">data_transformer: ColumnTransformer</label><div class=\"sk-toggleable__content\"><pre>ColumnTransformer(transformers=[('numerical',\n",
       "                                 Pipeline(steps=[('imputer', SimpleImputer()),\n",
       "                                                 ('scaler', StandardScaler()),\n",
       "                                                 ('fs', SelectKBest(k='all'))]),\n",
       "                                 ['Age', 'Height', 'Weight']),\n",
       "                                ('categorical',\n",
       "                                 Pipeline(steps=[('imputer', SimpleImputer()),\n",
       "                                                 ('onehot',\n",
       "                                                  OneHotEncoder(handle_unknown='ignore'))]),\n",
       "                                 ['Getting up', 'God', 'Health',\n",
       "                                  'Borrowed stuff', 'Self-criticism',\n",
       "                                  'Elections', 'Number of friends',\n",
       "                                  'Spending on healthy eating', 'Music',\n",
       "                                  'Movies', 'Friends versus money',\n",
       "                                  'Changing the past'])])</pre></div></div></div><div class=\"sk-parallel\"><div class=\"sk-parallel-item\"><div class=\"sk-item\"><div class=\"sk-label-container\"><div class=\"sk-label sk-toggleable\"><input class=\"sk-toggleable__control sk-hidden--visually\" id=\"8f2777fc-a42c-4a9a-9ddb-3a92f4c1f188\" type=\"checkbox\" ><label class=\"sk-toggleable__label\" for=\"8f2777fc-a42c-4a9a-9ddb-3a92f4c1f188\">numerical</label><div class=\"sk-toggleable__content\"><pre>['Age', 'Height', 'Weight']</pre></div></div></div><div class=\"sk-serial\"><div class=\"sk-item\"><div class=\"sk-serial\"><div class=\"sk-item\"><div class=\"sk-estimator sk-toggleable\"><input class=\"sk-toggleable__control sk-hidden--visually\" id=\"d6e0c8b9-2136-494c-a695-b4e34980d8e1\" type=\"checkbox\" ><label class=\"sk-toggleable__label\" for=\"d6e0c8b9-2136-494c-a695-b4e34980d8e1\">SimpleImputer</label><div class=\"sk-toggleable__content\"><pre>SimpleImputer()</pre></div></div></div><div class=\"sk-item\"><div class=\"sk-estimator sk-toggleable\"><input class=\"sk-toggleable__control sk-hidden--visually\" id=\"d392d9c3-f83d-4dde-90c2-9086e988aed1\" type=\"checkbox\" ><label class=\"sk-toggleable__label\" for=\"d392d9c3-f83d-4dde-90c2-9086e988aed1\">StandardScaler</label><div class=\"sk-toggleable__content\"><pre>StandardScaler()</pre></div></div></div><div class=\"sk-item\"><div class=\"sk-estimator sk-toggleable\"><input class=\"sk-toggleable__control sk-hidden--visually\" id=\"008697c7-3f5b-4ead-834c-29849ba2e56a\" type=\"checkbox\" ><label class=\"sk-toggleable__label\" for=\"008697c7-3f5b-4ead-834c-29849ba2e56a\">SelectKBest</label><div class=\"sk-toggleable__content\"><pre>SelectKBest(k='all')</pre></div></div></div></div></div></div></div></div><div class=\"sk-parallel-item\"><div class=\"sk-item\"><div class=\"sk-label-container\"><div class=\"sk-label sk-toggleable\"><input class=\"sk-toggleable__control sk-hidden--visually\" id=\"2a2eeadd-47cb-408c-90f1-efb802a90f73\" type=\"checkbox\" ><label class=\"sk-toggleable__label\" for=\"2a2eeadd-47cb-408c-90f1-efb802a90f73\">categorical</label><div class=\"sk-toggleable__content\"><pre>['Getting up', 'God', 'Health', 'Borrowed stuff', 'Self-criticism', 'Elections', 'Number of friends', 'Spending on healthy eating', 'Music', 'Movies', 'Friends versus money', 'Changing the past']</pre></div></div></div><div class=\"sk-serial\"><div class=\"sk-item\"><div class=\"sk-serial\"><div class=\"sk-item\"><div class=\"sk-estimator sk-toggleable\"><input class=\"sk-toggleable__control sk-hidden--visually\" id=\"d5ece126-eeb9-42ad-b947-3b1d683aef41\" type=\"checkbox\" ><label class=\"sk-toggleable__label\" for=\"d5ece126-eeb9-42ad-b947-3b1d683aef41\">SimpleImputer</label><div class=\"sk-toggleable__content\"><pre>SimpleImputer()</pre></div></div></div><div class=\"sk-item\"><div class=\"sk-estimator sk-toggleable\"><input class=\"sk-toggleable__control sk-hidden--visually\" id=\"2a801ea3-64bf-4a09-b897-1264cda26796\" type=\"checkbox\" ><label class=\"sk-toggleable__label\" for=\"2a801ea3-64bf-4a09-b897-1264cda26796\">OneHotEncoder</label><div class=\"sk-toggleable__content\"><pre>OneHotEncoder(handle_unknown='ignore')</pre></div></div></div></div></div></div></div></div></div></div></div></div><div class=\"sk-item\"><div class=\"sk-estimator sk-toggleable\"><input class=\"sk-toggleable__control sk-hidden--visually\" id=\"49a1cb68-6602-4e12-9560-c9dd0fc2668b\" type=\"checkbox\" ><label class=\"sk-toggleable__label\" for=\"49a1cb68-6602-4e12-9560-c9dd0fc2668b\">LogisticRegression</label><div class=\"sk-toggleable__content\"><pre>LogisticRegression()</pre></div></div></div></div></div></div></div>"
      ],
      "text/plain": [
       "Pipeline(steps=[('preprocessor',\n",
       "                 Pipeline(steps=[('data_transformer',\n",
       "                                  ColumnTransformer(transformers=[('numerical',\n",
       "                                                                   Pipeline(steps=[('imputer',\n",
       "                                                                                    SimpleImputer()),\n",
       "                                                                                   ('scaler',\n",
       "                                                                                    StandardScaler()),\n",
       "                                                                                   ('fs',\n",
       "                                                                                    SelectKBest(k='all'))]),\n",
       "                                                                   ['Age',\n",
       "                                                                    'Height',\n",
       "                                                                    'Weight']),\n",
       "                                                                  ('categorical',\n",
       "                                                                   Pipeline(steps=[('imputer',\n",
       "                                                                                    SimpleImputer()),\n",
       "                                                                                   ('onehot',\n",
       "                                                                                    OneHotEncoder(handle_unknown='ignore'))]),\n",
       "                                                                   ['Getting '\n",
       "                                                                    'up',\n",
       "                                                                    'God',\n",
       "                                                                    'Health',\n",
       "                                                                    'Borrowed '\n",
       "                                                                    'stuff',\n",
       "                                                                    'Self-criticism',\n",
       "                                                                    'Elections',\n",
       "                                                                    'Number of '\n",
       "                                                                    'friends',\n",
       "                                                                    'Spending '\n",
       "                                                                    'on '\n",
       "                                                                    'healthy '\n",
       "                                                                    'eating',\n",
       "                                                                    'Music',\n",
       "                                                                    'Movies',\n",
       "                                                                    'Friends '\n",
       "                                                                    'versus '\n",
       "                                                                    'money',\n",
       "                                                                    'Changing '\n",
       "                                                                    'the '\n",
       "                                                                    'past'])]))])),\n",
       "                ('classifier', LogisticRegression())])"
      ]
     },
     "execution_count": 249,
     "metadata": {},
     "output_type": "execute_result"
    }
   ],
   "source": [
    "#   Для категориальных - применяем SimpleImputer, а затем StandardScaler\n",
    "numerical_transformer = Pipeline(steps=[\n",
    "    (\"imputer\", SimpleImputer()),\n",
    "    (\"scaler\", StandardScaler()),\n",
    "    (\"fs\", SelectKBest(score_func=f_classif, k=\"all\")),\n",
    "])\n",
    "\n",
    "#   Для категориальных - применяем SimpleImputer, а затем OneHotEncoder\n",
    "categorical_transformer = Pipeline(steps=[\n",
    "    (\"imputer\", SimpleImputer()),\n",
    "    (\"onehot\", OneHotEncoder(handle_unknown=\"ignore\")),\n",
    "])\n",
    "\n",
    "# Собираем воедино трансформеры для числовых и категориальных признаков\n",
    "data_transformer = ColumnTransformer(transformers=[\n",
    "    (\"numerical\", numerical_transformer, numerical_features),\n",
    "    (\"categorical\", categorical_transformer, categorical_features),\n",
    "])\n",
    "\n",
    "# Создание конвейера препроцессора, который сначала преобразует данные\n",
    "preprocessor = Pipeline(steps=[(\"data_transformer\", data_transformer)])\n",
    "\n",
    "classifier_pipline = Pipeline(\n",
    "    steps=[(\"preprocessor\", preprocessor), \n",
    "           (\"classifier\", LogisticRegression())])\n",
    "\n",
    "classifier_pipline"
   ]
  },
  {
   "cell_type": "markdown",
   "metadata": {},
   "source": [
    "# Добавим магии - отрисовка!"
   ]
  },
  {
   "cell_type": "code",
   "execution_count": 250,
   "metadata": {
    "ExecuteTime": {
     "end_time": "2022-04-28T16:32:00.947652Z",
     "start_time": "2022-04-28T16:32:00.933652Z"
    }
   },
   "outputs": [],
   "source": [
    "import sklearn\n",
    "sklearn.set_config(display='diagram') #Подключим визуал"
   ]
  },
  {
   "cell_type": "code",
   "execution_count": 251,
   "metadata": {
    "ExecuteTime": {
     "end_time": "2022-04-28T16:32:01.123665Z",
     "start_time": "2022-04-28T16:32:00.949654Z"
    }
   },
   "outputs": [
    {
     "data": {
      "text/html": [
       "<style>#sk-cc1a44bd-a392-4d1d-a70e-7b7b48656e50 {color: black;background-color: white;}#sk-cc1a44bd-a392-4d1d-a70e-7b7b48656e50 pre{padding: 0;}#sk-cc1a44bd-a392-4d1d-a70e-7b7b48656e50 div.sk-toggleable {background-color: white;}#sk-cc1a44bd-a392-4d1d-a70e-7b7b48656e50 label.sk-toggleable__label {cursor: pointer;display: block;width: 100%;margin-bottom: 0;padding: 0.2em 0.3em;box-sizing: border-box;text-align: center;}#sk-cc1a44bd-a392-4d1d-a70e-7b7b48656e50 div.sk-toggleable__content {max-height: 0;max-width: 0;overflow: hidden;text-align: left;background-color: #f0f8ff;}#sk-cc1a44bd-a392-4d1d-a70e-7b7b48656e50 div.sk-toggleable__content pre {margin: 0.2em;color: black;border-radius: 0.25em;background-color: #f0f8ff;}#sk-cc1a44bd-a392-4d1d-a70e-7b7b48656e50 input.sk-toggleable__control:checked~div.sk-toggleable__content {max-height: 200px;max-width: 100%;overflow: auto;}#sk-cc1a44bd-a392-4d1d-a70e-7b7b48656e50 div.sk-estimator input.sk-toggleable__control:checked~label.sk-toggleable__label {background-color: #d4ebff;}#sk-cc1a44bd-a392-4d1d-a70e-7b7b48656e50 div.sk-label input.sk-toggleable__control:checked~label.sk-toggleable__label {background-color: #d4ebff;}#sk-cc1a44bd-a392-4d1d-a70e-7b7b48656e50 input.sk-hidden--visually {border: 0;clip: rect(1px 1px 1px 1px);clip: rect(1px, 1px, 1px, 1px);height: 1px;margin: -1px;overflow: hidden;padding: 0;position: absolute;width: 1px;}#sk-cc1a44bd-a392-4d1d-a70e-7b7b48656e50 div.sk-estimator {font-family: monospace;background-color: #f0f8ff;margin: 0.25em 0.25em;border: 1px dotted black;border-radius: 0.25em;box-sizing: border-box;}#sk-cc1a44bd-a392-4d1d-a70e-7b7b48656e50 div.sk-estimator:hover {background-color: #d4ebff;}#sk-cc1a44bd-a392-4d1d-a70e-7b7b48656e50 div.sk-parallel-item::after {content: \"\";width: 100%;border-bottom: 1px solid gray;flex-grow: 1;}#sk-cc1a44bd-a392-4d1d-a70e-7b7b48656e50 div.sk-label:hover label.sk-toggleable__label {background-color: #d4ebff;}#sk-cc1a44bd-a392-4d1d-a70e-7b7b48656e50 div.sk-serial::before {content: \"\";position: absolute;border-left: 1px solid gray;box-sizing: border-box;top: 2em;bottom: 0;left: 50%;}#sk-cc1a44bd-a392-4d1d-a70e-7b7b48656e50 div.sk-serial {display: flex;flex-direction: column;align-items: center;background-color: white;}#sk-cc1a44bd-a392-4d1d-a70e-7b7b48656e50 div.sk-item {z-index: 1;}#sk-cc1a44bd-a392-4d1d-a70e-7b7b48656e50 div.sk-parallel {display: flex;align-items: stretch;justify-content: center;background-color: white;}#sk-cc1a44bd-a392-4d1d-a70e-7b7b48656e50 div.sk-parallel-item {display: flex;flex-direction: column;position: relative;background-color: white;}#sk-cc1a44bd-a392-4d1d-a70e-7b7b48656e50 div.sk-parallel-item:first-child::after {align-self: flex-end;width: 50%;}#sk-cc1a44bd-a392-4d1d-a70e-7b7b48656e50 div.sk-parallel-item:last-child::after {align-self: flex-start;width: 50%;}#sk-cc1a44bd-a392-4d1d-a70e-7b7b48656e50 div.sk-parallel-item:only-child::after {width: 0;}#sk-cc1a44bd-a392-4d1d-a70e-7b7b48656e50 div.sk-dashed-wrapped {border: 1px dashed gray;margin: 0.2em;box-sizing: border-box;padding-bottom: 0.1em;background-color: white;position: relative;}#sk-cc1a44bd-a392-4d1d-a70e-7b7b48656e50 div.sk-label label {font-family: monospace;font-weight: bold;background-color: white;display: inline-block;line-height: 1.2em;}#sk-cc1a44bd-a392-4d1d-a70e-7b7b48656e50 div.sk-label-container {position: relative;z-index: 2;text-align: center;}#sk-cc1a44bd-a392-4d1d-a70e-7b7b48656e50 div.sk-container {display: inline-block;position: relative;}</style><div id=\"sk-cc1a44bd-a392-4d1d-a70e-7b7b48656e50\" class\"sk-top-container\"><div class=\"sk-container\"><div class=\"sk-item sk-dashed-wrapped\"><div class=\"sk-label-container\"><div class=\"sk-label sk-toggleable\"><input class=\"sk-toggleable__control sk-hidden--visually\" id=\"df86d5a5-8ca3-4342-8379-222bc072fb97\" type=\"checkbox\" ><label class=\"sk-toggleable__label\" for=\"df86d5a5-8ca3-4342-8379-222bc072fb97\">Pipeline</label><div class=\"sk-toggleable__content\"><pre>Pipeline(steps=[('preprocessor',\n",
       "                 Pipeline(steps=[('data_transformer',\n",
       "                                  ColumnTransformer(transformers=[('numerical',\n",
       "                                                                   Pipeline(steps=[('imputer',\n",
       "                                                                                    SimpleImputer()),\n",
       "                                                                                   ('scaler',\n",
       "                                                                                    StandardScaler()),\n",
       "                                                                                   ('fs',\n",
       "                                                                                    SelectKBest(k='all'))]),\n",
       "                                                                   ['Age',\n",
       "                                                                    'Height',\n",
       "                                                                    'Weight']),\n",
       "                                                                  ('categorical',\n",
       "                                                                   Pipeline(steps=[('imputer',\n",
       "                                                                                    SimpleImputer()),\n",
       "                                                                                   ('onehot',\n",
       "                                                                                    OneHotEncoder(handle_unknown='ignore'))]),\n",
       "                                                                   ['Getting '\n",
       "                                                                    'up',\n",
       "                                                                    'God',\n",
       "                                                                    'Health',\n",
       "                                                                    'Borrowed '\n",
       "                                                                    'stuff',\n",
       "                                                                    'Self-criticism',\n",
       "                                                                    'Elections',\n",
       "                                                                    'Number of '\n",
       "                                                                    'friends',\n",
       "                                                                    'Spending '\n",
       "                                                                    'on '\n",
       "                                                                    'healthy '\n",
       "                                                                    'eating',\n",
       "                                                                    'Music',\n",
       "                                                                    'Movies',\n",
       "                                                                    'Friends '\n",
       "                                                                    'versus '\n",
       "                                                                    'money',\n",
       "                                                                    'Changing '\n",
       "                                                                    'the '\n",
       "                                                                    'past'])]))])),\n",
       "                ('classifier', LogisticRegression())])</pre></div></div></div><div class=\"sk-serial\"><div class=\"sk-item\"><div class=\"sk-label-container\"><div class=\"sk-label sk-toggleable\"><input class=\"sk-toggleable__control sk-hidden--visually\" id=\"0d4d0b70-768b-41b7-85df-f0e917df3e48\" type=\"checkbox\" ><label class=\"sk-toggleable__label\" for=\"0d4d0b70-768b-41b7-85df-f0e917df3e48\">preprocessor: Pipeline</label><div class=\"sk-toggleable__content\"><pre>Pipeline(steps=[('data_transformer',\n",
       "                 ColumnTransformer(transformers=[('numerical',\n",
       "                                                  Pipeline(steps=[('imputer',\n",
       "                                                                   SimpleImputer()),\n",
       "                                                                  ('scaler',\n",
       "                                                                   StandardScaler()),\n",
       "                                                                  ('fs',\n",
       "                                                                   SelectKBest(k='all'))]),\n",
       "                                                  ['Age', 'Height', 'Weight']),\n",
       "                                                 ('categorical',\n",
       "                                                  Pipeline(steps=[('imputer',\n",
       "                                                                   SimpleImputer()),\n",
       "                                                                  ('onehot',\n",
       "                                                                   OneHotEncoder(handle_unknown='ignore'))]),\n",
       "                                                  ['Getting up', 'God',\n",
       "                                                   'Health', 'Borrowed stuff',\n",
       "                                                   'Self-criticism',\n",
       "                                                   'Elections',\n",
       "                                                   'Number of friends',\n",
       "                                                   'Spending on healthy eating',\n",
       "                                                   'Music', 'Movies',\n",
       "                                                   'Friends versus money',\n",
       "                                                   'Changing the past'])]))])</pre></div></div></div><div class=\"sk-serial\"><div class=\"sk-item sk-dashed-wrapped\"><div class=\"sk-label-container\"><div class=\"sk-label sk-toggleable\"><input class=\"sk-toggleable__control sk-hidden--visually\" id=\"801368e2-a42b-4538-93a2-7e7cb39af9b1\" type=\"checkbox\" ><label class=\"sk-toggleable__label\" for=\"801368e2-a42b-4538-93a2-7e7cb39af9b1\">data_transformer: ColumnTransformer</label><div class=\"sk-toggleable__content\"><pre>ColumnTransformer(transformers=[('numerical',\n",
       "                                 Pipeline(steps=[('imputer', SimpleImputer()),\n",
       "                                                 ('scaler', StandardScaler()),\n",
       "                                                 ('fs', SelectKBest(k='all'))]),\n",
       "                                 ['Age', 'Height', 'Weight']),\n",
       "                                ('categorical',\n",
       "                                 Pipeline(steps=[('imputer', SimpleImputer()),\n",
       "                                                 ('onehot',\n",
       "                                                  OneHotEncoder(handle_unknown='ignore'))]),\n",
       "                                 ['Getting up', 'God', 'Health',\n",
       "                                  'Borrowed stuff', 'Self-criticism',\n",
       "                                  'Elections', 'Number of friends',\n",
       "                                  'Spending on healthy eating', 'Music',\n",
       "                                  'Movies', 'Friends versus money',\n",
       "                                  'Changing the past'])])</pre></div></div></div><div class=\"sk-parallel\"><div class=\"sk-parallel-item\"><div class=\"sk-item\"><div class=\"sk-label-container\"><div class=\"sk-label sk-toggleable\"><input class=\"sk-toggleable__control sk-hidden--visually\" id=\"a43f91ac-11a3-4c1b-a506-dc0c809ba8c9\" type=\"checkbox\" ><label class=\"sk-toggleable__label\" for=\"a43f91ac-11a3-4c1b-a506-dc0c809ba8c9\">numerical</label><div class=\"sk-toggleable__content\"><pre>['Age', 'Height', 'Weight']</pre></div></div></div><div class=\"sk-serial\"><div class=\"sk-item\"><div class=\"sk-serial\"><div class=\"sk-item\"><div class=\"sk-estimator sk-toggleable\"><input class=\"sk-toggleable__control sk-hidden--visually\" id=\"4eb94d1f-f02d-41cd-959d-21f1c7a02294\" type=\"checkbox\" ><label class=\"sk-toggleable__label\" for=\"4eb94d1f-f02d-41cd-959d-21f1c7a02294\">SimpleImputer</label><div class=\"sk-toggleable__content\"><pre>SimpleImputer()</pre></div></div></div><div class=\"sk-item\"><div class=\"sk-estimator sk-toggleable\"><input class=\"sk-toggleable__control sk-hidden--visually\" id=\"bd106c37-b30a-4b2b-bade-20e485403093\" type=\"checkbox\" ><label class=\"sk-toggleable__label\" for=\"bd106c37-b30a-4b2b-bade-20e485403093\">StandardScaler</label><div class=\"sk-toggleable__content\"><pre>StandardScaler()</pre></div></div></div><div class=\"sk-item\"><div class=\"sk-estimator sk-toggleable\"><input class=\"sk-toggleable__control sk-hidden--visually\" id=\"1baa6c68-0abf-4f0d-90ee-b63d1c5fe8c5\" type=\"checkbox\" ><label class=\"sk-toggleable__label\" for=\"1baa6c68-0abf-4f0d-90ee-b63d1c5fe8c5\">SelectKBest</label><div class=\"sk-toggleable__content\"><pre>SelectKBest(k='all')</pre></div></div></div></div></div></div></div></div><div class=\"sk-parallel-item\"><div class=\"sk-item\"><div class=\"sk-label-container\"><div class=\"sk-label sk-toggleable\"><input class=\"sk-toggleable__control sk-hidden--visually\" id=\"c7f72fe0-6497-4309-9c37-78e135aab20c\" type=\"checkbox\" ><label class=\"sk-toggleable__label\" for=\"c7f72fe0-6497-4309-9c37-78e135aab20c\">categorical</label><div class=\"sk-toggleable__content\"><pre>['Getting up', 'God', 'Health', 'Borrowed stuff', 'Self-criticism', 'Elections', 'Number of friends', 'Spending on healthy eating', 'Music', 'Movies', 'Friends versus money', 'Changing the past']</pre></div></div></div><div class=\"sk-serial\"><div class=\"sk-item\"><div class=\"sk-serial\"><div class=\"sk-item\"><div class=\"sk-estimator sk-toggleable\"><input class=\"sk-toggleable__control sk-hidden--visually\" id=\"d5a9d187-2822-40ac-89bd-dac8f36b4ab8\" type=\"checkbox\" ><label class=\"sk-toggleable__label\" for=\"d5a9d187-2822-40ac-89bd-dac8f36b4ab8\">SimpleImputer</label><div class=\"sk-toggleable__content\"><pre>SimpleImputer()</pre></div></div></div><div class=\"sk-item\"><div class=\"sk-estimator sk-toggleable\"><input class=\"sk-toggleable__control sk-hidden--visually\" id=\"3e4138f6-ec30-44d9-b741-4c13bcdd53fa\" type=\"checkbox\" ><label class=\"sk-toggleable__label\" for=\"3e4138f6-ec30-44d9-b741-4c13bcdd53fa\">OneHotEncoder</label><div class=\"sk-toggleable__content\"><pre>OneHotEncoder(handle_unknown='ignore')</pre></div></div></div></div></div></div></div></div></div></div></div></div><div class=\"sk-item\"><div class=\"sk-estimator sk-toggleable\"><input class=\"sk-toggleable__control sk-hidden--visually\" id=\"5cdc488d-657b-4cdb-8f4c-8dead7857830\" type=\"checkbox\" ><label class=\"sk-toggleable__label\" for=\"5cdc488d-657b-4cdb-8f4c-8dead7857830\">LogisticRegression</label><div class=\"sk-toggleable__content\"><pre>LogisticRegression()</pre></div></div></div></div></div></div></div>"
      ],
      "text/plain": [
       "Pipeline(steps=[('preprocessor',\n",
       "                 Pipeline(steps=[('data_transformer',\n",
       "                                  ColumnTransformer(transformers=[('numerical',\n",
       "                                                                   Pipeline(steps=[('imputer',\n",
       "                                                                                    SimpleImputer()),\n",
       "                                                                                   ('scaler',\n",
       "                                                                                    StandardScaler()),\n",
       "                                                                                   ('fs',\n",
       "                                                                                    SelectKBest(k='all'))]),\n",
       "                                                                   ['Age',\n",
       "                                                                    'Height',\n",
       "                                                                    'Weight']),\n",
       "                                                                  ('categorical',\n",
       "                                                                   Pipeline(steps=[('imputer',\n",
       "                                                                                    SimpleImputer()),\n",
       "                                                                                   ('onehot',\n",
       "                                                                                    OneHotEncoder(handle_unknown='ignore'))]),\n",
       "                                                                   ['Getting '\n",
       "                                                                    'up',\n",
       "                                                                    'God',\n",
       "                                                                    'Health',\n",
       "                                                                    'Borrowed '\n",
       "                                                                    'stuff',\n",
       "                                                                    'Self-criticism',\n",
       "                                                                    'Elections',\n",
       "                                                                    'Number of '\n",
       "                                                                    'friends',\n",
       "                                                                    'Spending '\n",
       "                                                                    'on '\n",
       "                                                                    'healthy '\n",
       "                                                                    'eating',\n",
       "                                                                    'Music',\n",
       "                                                                    'Movies',\n",
       "                                                                    'Friends '\n",
       "                                                                    'versus '\n",
       "                                                                    'money',\n",
       "                                                                    'Changing '\n",
       "                                                                    'the '\n",
       "                                                                    'past'])]))])),\n",
       "                ('classifier', LogisticRegression())])"
      ]
     },
     "execution_count": 251,
     "metadata": {},
     "output_type": "execute_result"
    }
   ],
   "source": [
    "classifier_pipline"
   ]
  },
  {
   "cell_type": "code",
   "execution_count": 252,
   "metadata": {
    "ExecuteTime": {
     "end_time": "2022-04-28T16:32:01.155668Z",
     "start_time": "2022-04-28T16:32:01.124666Z"
    }
   },
   "outputs": [
    {
     "name": "stdout",
     "output_type": "stream",
     "text": [
      "(808, 16) (202, 16)\n"
     ]
    }
   ],
   "source": [
    "from sklearn.model_selection import train_test_split\n",
    "\n",
    "data_train, data_test = train_test_split(data[all_features + target], test_size=0.2, stratify=data[target])\n",
    "print(data_train.shape, data_test.shape)"
   ]
  },
  {
   "cell_type": "code",
   "execution_count": 253,
   "metadata": {
    "ExecuteTime": {
     "end_time": "2022-04-28T16:32:01.171669Z",
     "start_time": "2022-04-28T16:32:01.157669Z"
    }
   },
   "outputs": [],
   "source": [
    "# # data_train.columns\n",
    "# all_features"
   ]
  },
  {
   "cell_type": "code",
   "execution_count": 254,
   "metadata": {
    "ExecuteTime": {
     "end_time": "2022-04-28T16:32:01.187670Z",
     "start_time": "2022-04-28T16:32:01.172670Z"
    }
   },
   "outputs": [],
   "source": [
    "# data_train[all_features]"
   ]
  },
  {
   "cell_type": "code",
   "execution_count": 255,
   "metadata": {
    "ExecuteTime": {
     "end_time": "2022-04-28T16:32:01.298865Z",
     "start_time": "2022-04-28T16:32:01.189674Z"
    }
   },
   "outputs": [
    {
     "name": "stdout",
     "output_type": "stream",
     "text": [
      "              precision    recall  f1-score   support\n",
      "\n",
      "          -1       0.51      0.51      0.51        71\n",
      "           0       0.62      0.72      0.66       102\n",
      "           1       0.64      0.31      0.42        29\n",
      "\n",
      "    accuracy                           0.58       202\n",
      "   macro avg       0.59      0.51      0.53       202\n",
      "weighted avg       0.59      0.58      0.57       202\n",
      "\n"
     ]
    }
   ],
   "source": [
    "\n",
    "classifier_pipline.fit(data_train[all_features], data_train[target])\n",
    "\n",
    "preds = classifier_pipline.predict(data_test[all_features])\n",
    "\n",
    "print(classification_report(data_test[target], preds))"
   ]
  },
  {
   "cell_type": "code",
   "execution_count": null,
   "metadata": {},
   "outputs": [],
   "source": [
    " "
   ]
  },
  {
   "cell_type": "code",
   "execution_count": null,
   "metadata": {},
   "outputs": [],
   "source": [
    " "
   ]
  },
  {
   "cell_type": "markdown",
   "metadata": {},
   "source": [
    "# А как подбирать параметры у этой всей махины??"
   ]
  },
  {
   "cell_type": "code",
   "execution_count": 256,
   "metadata": {
    "ExecuteTime": {
     "end_time": "2022-04-28T16:32:01.314865Z",
     "start_time": "2022-04-28T16:32:01.300865Z"
    }
   },
   "outputs": [],
   "source": [
    "from sklearn.model_selection import GridSearchCV, RandomizedSearchCV\n",
    "\n",
    "from sklearn.metrics import f1_score, make_scorer\n",
    "\n",
    "f1 = make_scorer(f1_score, average=\"macro\")"
   ]
  },
  {
   "cell_type": "code",
   "execution_count": 257,
   "metadata": {
    "ExecuteTime": {
     "end_time": "2022-04-28T16:32:57.295819Z",
     "start_time": "2022-04-28T16:32:01.316866Z"
    }
   },
   "outputs": [
    {
     "data": {
      "text/html": [
       "<style>#sk-665c7a4c-0062-4766-bf73-25da13cc0408 {color: black;background-color: white;}#sk-665c7a4c-0062-4766-bf73-25da13cc0408 pre{padding: 0;}#sk-665c7a4c-0062-4766-bf73-25da13cc0408 div.sk-toggleable {background-color: white;}#sk-665c7a4c-0062-4766-bf73-25da13cc0408 label.sk-toggleable__label {cursor: pointer;display: block;width: 100%;margin-bottom: 0;padding: 0.2em 0.3em;box-sizing: border-box;text-align: center;}#sk-665c7a4c-0062-4766-bf73-25da13cc0408 div.sk-toggleable__content {max-height: 0;max-width: 0;overflow: hidden;text-align: left;background-color: #f0f8ff;}#sk-665c7a4c-0062-4766-bf73-25da13cc0408 div.sk-toggleable__content pre {margin: 0.2em;color: black;border-radius: 0.25em;background-color: #f0f8ff;}#sk-665c7a4c-0062-4766-bf73-25da13cc0408 input.sk-toggleable__control:checked~div.sk-toggleable__content {max-height: 200px;max-width: 100%;overflow: auto;}#sk-665c7a4c-0062-4766-bf73-25da13cc0408 div.sk-estimator input.sk-toggleable__control:checked~label.sk-toggleable__label {background-color: #d4ebff;}#sk-665c7a4c-0062-4766-bf73-25da13cc0408 div.sk-label input.sk-toggleable__control:checked~label.sk-toggleable__label {background-color: #d4ebff;}#sk-665c7a4c-0062-4766-bf73-25da13cc0408 input.sk-hidden--visually {border: 0;clip: rect(1px 1px 1px 1px);clip: rect(1px, 1px, 1px, 1px);height: 1px;margin: -1px;overflow: hidden;padding: 0;position: absolute;width: 1px;}#sk-665c7a4c-0062-4766-bf73-25da13cc0408 div.sk-estimator {font-family: monospace;background-color: #f0f8ff;margin: 0.25em 0.25em;border: 1px dotted black;border-radius: 0.25em;box-sizing: border-box;}#sk-665c7a4c-0062-4766-bf73-25da13cc0408 div.sk-estimator:hover {background-color: #d4ebff;}#sk-665c7a4c-0062-4766-bf73-25da13cc0408 div.sk-parallel-item::after {content: \"\";width: 100%;border-bottom: 1px solid gray;flex-grow: 1;}#sk-665c7a4c-0062-4766-bf73-25da13cc0408 div.sk-label:hover label.sk-toggleable__label {background-color: #d4ebff;}#sk-665c7a4c-0062-4766-bf73-25da13cc0408 div.sk-serial::before {content: \"\";position: absolute;border-left: 1px solid gray;box-sizing: border-box;top: 2em;bottom: 0;left: 50%;}#sk-665c7a4c-0062-4766-bf73-25da13cc0408 div.sk-serial {display: flex;flex-direction: column;align-items: center;background-color: white;}#sk-665c7a4c-0062-4766-bf73-25da13cc0408 div.sk-item {z-index: 1;}#sk-665c7a4c-0062-4766-bf73-25da13cc0408 div.sk-parallel {display: flex;align-items: stretch;justify-content: center;background-color: white;}#sk-665c7a4c-0062-4766-bf73-25da13cc0408 div.sk-parallel-item {display: flex;flex-direction: column;position: relative;background-color: white;}#sk-665c7a4c-0062-4766-bf73-25da13cc0408 div.sk-parallel-item:first-child::after {align-self: flex-end;width: 50%;}#sk-665c7a4c-0062-4766-bf73-25da13cc0408 div.sk-parallel-item:last-child::after {align-self: flex-start;width: 50%;}#sk-665c7a4c-0062-4766-bf73-25da13cc0408 div.sk-parallel-item:only-child::after {width: 0;}#sk-665c7a4c-0062-4766-bf73-25da13cc0408 div.sk-dashed-wrapped {border: 1px dashed gray;margin: 0.2em;box-sizing: border-box;padding-bottom: 0.1em;background-color: white;position: relative;}#sk-665c7a4c-0062-4766-bf73-25da13cc0408 div.sk-label label {font-family: monospace;font-weight: bold;background-color: white;display: inline-block;line-height: 1.2em;}#sk-665c7a4c-0062-4766-bf73-25da13cc0408 div.sk-label-container {position: relative;z-index: 2;text-align: center;}#sk-665c7a4c-0062-4766-bf73-25da13cc0408 div.sk-container {display: inline-block;position: relative;}</style><div id=\"sk-665c7a4c-0062-4766-bf73-25da13cc0408\" class\"sk-top-container\"><div class=\"sk-container\"><div class=\"sk-item sk-dashed-wrapped\"><div class=\"sk-label-container\"><div class=\"sk-label sk-toggleable\"><input class=\"sk-toggleable__control sk-hidden--visually\" id=\"422b3e41-355f-422b-ae61-be6df5c32d7e\" type=\"checkbox\" ><label class=\"sk-toggleable__label\" for=\"422b3e41-355f-422b-ae61-be6df5c32d7e\">GridSearchCV</label><div class=\"sk-toggleable__content\"><pre>GridSearchCV(cv=3,\n",
       "             estimator=Pipeline(steps=[('preprocessor',\n",
       "                                        Pipeline(steps=[('data_transformer',\n",
       "                                                         ColumnTransformer(transformers=[('numerical',\n",
       "                                                                                          Pipeline(steps=[('imputer',\n",
       "                                                                                                           SimpleImputer()),\n",
       "                                                                                                          ('scaler',\n",
       "                                                                                                           StandardScaler()),\n",
       "                                                                                                          ('fs',\n",
       "                                                                                                           SelectKBest(k='all'))]),\n",
       "                                                                                          ['Age',\n",
       "                                                                                           'Height',\n",
       "                                                                                           'Weight']),\n",
       "                                                                                         ('categorical',\n",
       "                                                                                          Pipeline(steps=[('imputer',\n",
       "                                                                                                           SimpleImputer()),\n",
       "                                                                                                          ('onehot',\n",
       "                                                                                                           OneHotEncod...\n",
       "       2.96730241e+01, 3.21764175e+01, 3.48910121e+01, 3.78346262e+01,\n",
       "       4.10265811e+01, 4.44878283e+01, 4.82410870e+01, 5.23109931e+01,\n",
       "       5.67242607e+01, 6.15098579e+01, 6.66991966e+01, 7.23263390e+01,\n",
       "       7.84282206e+01, 8.50448934e+01, 9.22197882e+01, 1.00000000e+02]),\n",
       "                         'classifier__class_weight': ['balanced', None],\n",
       "                         'classifier__penalty': ['l1', 'l2'],\n",
       "                         'preprocessor__data_transformer__numerical__imputer__strategy': ['median',\n",
       "                                                                                          'mean']})</pre></div></div></div><div class=\"sk-parallel\"><div class=\"sk-parallel-item\"><div class=\"sk-item\"><div class=\"sk-serial\"><div class=\"sk-item\"><div class=\"sk-serial\"><div class=\"sk-item\"><div class=\"sk-label-container\"><div class=\"sk-label sk-toggleable\"><input class=\"sk-toggleable__control sk-hidden--visually\" id=\"8cfc550e-58d1-49b0-b8a3-dc6db68f3265\" type=\"checkbox\" ><label class=\"sk-toggleable__label\" for=\"8cfc550e-58d1-49b0-b8a3-dc6db68f3265\">preprocessor: Pipeline</label><div class=\"sk-toggleable__content\"><pre>Pipeline(steps=[('data_transformer',\n",
       "                 ColumnTransformer(transformers=[('numerical',\n",
       "                                                  Pipeline(steps=[('imputer',\n",
       "                                                                   SimpleImputer()),\n",
       "                                                                  ('scaler',\n",
       "                                                                   StandardScaler()),\n",
       "                                                                  ('fs',\n",
       "                                                                   SelectKBest(k='all'))]),\n",
       "                                                  ['Age', 'Height', 'Weight']),\n",
       "                                                 ('categorical',\n",
       "                                                  Pipeline(steps=[('imputer',\n",
       "                                                                   SimpleImputer()),\n",
       "                                                                  ('onehot',\n",
       "                                                                   OneHotEncoder(handle_unknown='ignore'))]),\n",
       "                                                  ['Getting up', 'God',\n",
       "                                                   'Health', 'Borrowed stuff',\n",
       "                                                   'Self-criticism',\n",
       "                                                   'Elections',\n",
       "                                                   'Number of friends',\n",
       "                                                   'Spending on healthy eating',\n",
       "                                                   'Music', 'Movies',\n",
       "                                                   'Friends versus money',\n",
       "                                                   'Changing the past'])]))])</pre></div></div></div><div class=\"sk-serial\"><div class=\"sk-item sk-dashed-wrapped\"><div class=\"sk-label-container\"><div class=\"sk-label sk-toggleable\"><input class=\"sk-toggleable__control sk-hidden--visually\" id=\"2bc42b1a-bb7e-47da-9ca2-db4312ecf096\" type=\"checkbox\" ><label class=\"sk-toggleable__label\" for=\"2bc42b1a-bb7e-47da-9ca2-db4312ecf096\">data_transformer: ColumnTransformer</label><div class=\"sk-toggleable__content\"><pre>ColumnTransformer(transformers=[('numerical',\n",
       "                                 Pipeline(steps=[('imputer', SimpleImputer()),\n",
       "                                                 ('scaler', StandardScaler()),\n",
       "                                                 ('fs', SelectKBest(k='all'))]),\n",
       "                                 ['Age', 'Height', 'Weight']),\n",
       "                                ('categorical',\n",
       "                                 Pipeline(steps=[('imputer', SimpleImputer()),\n",
       "                                                 ('onehot',\n",
       "                                                  OneHotEncoder(handle_unknown='ignore'))]),\n",
       "                                 ['Getting up', 'God', 'Health',\n",
       "                                  'Borrowed stuff', 'Self-criticism',\n",
       "                                  'Elections', 'Number of friends',\n",
       "                                  'Spending on healthy eating', 'Music',\n",
       "                                  'Movies', 'Friends versus money',\n",
       "                                  'Changing the past'])])</pre></div></div></div><div class=\"sk-parallel\"><div class=\"sk-parallel-item\"><div class=\"sk-item\"><div class=\"sk-label-container\"><div class=\"sk-label sk-toggleable\"><input class=\"sk-toggleable__control sk-hidden--visually\" id=\"51a2aa64-c6ec-475e-988f-0219c34f295a\" type=\"checkbox\" ><label class=\"sk-toggleable__label\" for=\"51a2aa64-c6ec-475e-988f-0219c34f295a\">numerical</label><div class=\"sk-toggleable__content\"><pre>['Age', 'Height', 'Weight']</pre></div></div></div><div class=\"sk-serial\"><div class=\"sk-item\"><div class=\"sk-serial\"><div class=\"sk-item\"><div class=\"sk-estimator sk-toggleable\"><input class=\"sk-toggleable__control sk-hidden--visually\" id=\"587a1a4a-186a-4ef2-b1d4-4dfe7a29e414\" type=\"checkbox\" ><label class=\"sk-toggleable__label\" for=\"587a1a4a-186a-4ef2-b1d4-4dfe7a29e414\">SimpleImputer</label><div class=\"sk-toggleable__content\"><pre>SimpleImputer()</pre></div></div></div><div class=\"sk-item\"><div class=\"sk-estimator sk-toggleable\"><input class=\"sk-toggleable__control sk-hidden--visually\" id=\"11dd140e-3326-4d0c-a856-cb311964e63b\" type=\"checkbox\" ><label class=\"sk-toggleable__label\" for=\"11dd140e-3326-4d0c-a856-cb311964e63b\">StandardScaler</label><div class=\"sk-toggleable__content\"><pre>StandardScaler()</pre></div></div></div><div class=\"sk-item\"><div class=\"sk-estimator sk-toggleable\"><input class=\"sk-toggleable__control sk-hidden--visually\" id=\"70006d18-cca1-45e7-a2ce-6fa4b7fd1bb6\" type=\"checkbox\" ><label class=\"sk-toggleable__label\" for=\"70006d18-cca1-45e7-a2ce-6fa4b7fd1bb6\">SelectKBest</label><div class=\"sk-toggleable__content\"><pre>SelectKBest(k='all')</pre></div></div></div></div></div></div></div></div><div class=\"sk-parallel-item\"><div class=\"sk-item\"><div class=\"sk-label-container\"><div class=\"sk-label sk-toggleable\"><input class=\"sk-toggleable__control sk-hidden--visually\" id=\"a9b15411-4fa4-4546-a4bb-4484b434e6ca\" type=\"checkbox\" ><label class=\"sk-toggleable__label\" for=\"a9b15411-4fa4-4546-a4bb-4484b434e6ca\">categorical</label><div class=\"sk-toggleable__content\"><pre>['Getting up', 'God', 'Health', 'Borrowed stuff', 'Self-criticism', 'Elections', 'Number of friends', 'Spending on healthy eating', 'Music', 'Movies', 'Friends versus money', 'Changing the past']</pre></div></div></div><div class=\"sk-serial\"><div class=\"sk-item\"><div class=\"sk-serial\"><div class=\"sk-item\"><div class=\"sk-estimator sk-toggleable\"><input class=\"sk-toggleable__control sk-hidden--visually\" id=\"0b80a96f-425a-4659-997e-1f2de65d4180\" type=\"checkbox\" ><label class=\"sk-toggleable__label\" for=\"0b80a96f-425a-4659-997e-1f2de65d4180\">SimpleImputer</label><div class=\"sk-toggleable__content\"><pre>SimpleImputer()</pre></div></div></div><div class=\"sk-item\"><div class=\"sk-estimator sk-toggleable\"><input class=\"sk-toggleable__control sk-hidden--visually\" id=\"e41257d2-fabe-4cac-838f-a7850c8e4e3c\" type=\"checkbox\" ><label class=\"sk-toggleable__label\" for=\"e41257d2-fabe-4cac-838f-a7850c8e4e3c\">OneHotEncoder</label><div class=\"sk-toggleable__content\"><pre>OneHotEncoder(handle_unknown='ignore')</pre></div></div></div></div></div></div></div></div></div></div></div></div><div class=\"sk-item\"><div class=\"sk-estimator sk-toggleable\"><input class=\"sk-toggleable__control sk-hidden--visually\" id=\"c5a614c4-afc7-4d73-8614-ecce6b0139d0\" type=\"checkbox\" ><label class=\"sk-toggleable__label\" for=\"c5a614c4-afc7-4d73-8614-ecce6b0139d0\">LogisticRegression</label><div class=\"sk-toggleable__content\"><pre>LogisticRegression()</pre></div></div></div></div></div></div></div></div></div></div></div></div>"
      ],
      "text/plain": [
       "GridSearchCV(cv=3,\n",
       "             estimator=Pipeline(steps=[('preprocessor',\n",
       "                                        Pipeline(steps=[('data_transformer',\n",
       "                                                         ColumnTransformer(transformers=[('numerical',\n",
       "                                                                                          Pipeline(steps=[('imputer',\n",
       "                                                                                                           SimpleImputer()),\n",
       "                                                                                                          ('scaler',\n",
       "                                                                                                           StandardScaler()),\n",
       "                                                                                                          ('fs',\n",
       "                                                                                                           SelectKBest(k='all'))]),\n",
       "                                                                                          ['Age',\n",
       "                                                                                           'Height',\n",
       "                                                                                           'Weight']),\n",
       "                                                                                         ('categorical',\n",
       "                                                                                          Pipeline(steps=[('imputer',\n",
       "                                                                                                           SimpleImputer()),\n",
       "                                                                                                          ('onehot',\n",
       "                                                                                                           OneHotEncod...\n",
       "       2.96730241e+01, 3.21764175e+01, 3.48910121e+01, 3.78346262e+01,\n",
       "       4.10265811e+01, 4.44878283e+01, 4.82410870e+01, 5.23109931e+01,\n",
       "       5.67242607e+01, 6.15098579e+01, 6.66991966e+01, 7.23263390e+01,\n",
       "       7.84282206e+01, 8.50448934e+01, 9.22197882e+01, 1.00000000e+02]),\n",
       "                         'classifier__class_weight': ['balanced', None],\n",
       "                         'classifier__penalty': ['l1', 'l2'],\n",
       "                         'preprocessor__data_transformer__numerical__imputer__strategy': ['median',\n",
       "                                                                                          'mean']})"
      ]
     },
     "execution_count": 257,
     "metadata": {},
     "output_type": "execute_result"
    }
   ],
   "source": [
    "param_grid = {\n",
    "    'classifier__C': np.logspace(-5, 2, 200), # np.linspace(-10, 10)\n",
    "    'classifier__penalty': ['l1', 'l2'],\n",
    "    'classifier__class_weight': ['balanced', None],\n",
    "    'preprocessor__data_transformer__numerical__imputer__strategy':['median', 'mean']\n",
    "}\n",
    "\n",
    "\n",
    "search = GridSearchCV(classifier_pipline, param_grid, n_jobs=-1, cv=3) #, scoring=f1)\n",
    "\n",
    "search.fit(data_train.drop(target, axis=1), data_train[target])"
   ]
  },
  {
   "cell_type": "markdown",
   "metadata": {},
   "source": [
    "<div class=\"alert alert-info\">\n",
    "\n",
    "Нам даже не нужно теперь делить на `train` и `test`, ведь есть валидация "
   ]
  },
  {
   "cell_type": "code",
   "execution_count": 258,
   "metadata": {
    "ExecuteTime": {
     "end_time": "2022-04-28T16:32:57.311298Z",
     "start_time": "2022-04-28T16:32:57.297821Z"
    }
   },
   "outputs": [
    {
     "data": {
      "text/plain": [
       "{'classifier__C': 0.06294988990221888,\n",
       " 'classifier__class_weight': None,\n",
       " 'classifier__penalty': 'l2',\n",
       " 'preprocessor__data_transformer__numerical__imputer__strategy': 'median'}"
      ]
     },
     "execution_count": 258,
     "metadata": {},
     "output_type": "execute_result"
    }
   ],
   "source": [
    "search.best_params_"
   ]
  },
  {
   "cell_type": "code",
   "execution_count": 259,
   "metadata": {
    "ExecuteTime": {
     "end_time": "2022-04-28T16:32:57.327298Z",
     "start_time": "2022-04-28T16:32:57.312297Z"
    }
   },
   "outputs": [
    {
     "data": {
      "text/plain": [
       "0.5544724402221304"
      ]
     },
     "execution_count": 259,
     "metadata": {},
     "output_type": "execute_result"
    }
   ],
   "source": [
    "search.best_score_"
   ]
  },
  {
   "cell_type": "code",
   "execution_count": null,
   "metadata": {},
   "outputs": [],
   "source": []
  },
  {
   "cell_type": "markdown",
   "metadata": {},
   "source": [
    "# Еще раз, но по шагам!"
   ]
  },
  {
   "cell_type": "code",
   "execution_count": 260,
   "metadata": {
    "ExecuteTime": {
     "end_time": "2022-04-28T16:32:57.343300Z",
     "start_time": "2022-04-28T16:32:57.330300Z"
    }
   },
   "outputs": [],
   "source": [
    "classifier_pipline = Pipeline(\n",
    "    steps=[('preprocessor', preprocessor),\n",
    "           ('classifier', LogisticRegression())])"
   ]
  },
  {
   "cell_type": "code",
   "execution_count": 261,
   "metadata": {
    "ExecuteTime": {
     "end_time": "2022-04-28T16:32:57.359300Z",
     "start_time": "2022-04-28T16:32:57.344300Z"
    }
   },
   "outputs": [],
   "source": [
    "# Создание конвейера препроцессора, который сначала преобразует данные.\n",
    "preprocessor = Pipeline(steps=[(\"data_transformer\", data_transformer)])\n",
    "\n",
    "\n",
    "# Собираем воедино трансформеры для числовых и категориальных признаков\n",
    "data_transformer = ColumnTransformer(\n",
    "    transformers=[\n",
    "        (\"numerical\", numerical_transformer, numerical_features),\n",
    "        (\"categorical\", categorical_transformer, categorical_features),\n",
    "    ]\n",
    ")"
   ]
  },
  {
   "cell_type": "code",
   "execution_count": 262,
   "metadata": {
    "ExecuteTime": {
     "end_time": "2022-04-28T16:32:57.375311Z",
     "start_time": "2022-04-28T16:32:57.360302Z"
    }
   },
   "outputs": [],
   "source": [
    "#   Для категориальных - применяем SimpleImputer, а затем StandardScaler\n",
    "\n",
    "numerical_transformer = Pipeline(\n",
    "    steps=[\n",
    "        (\"imputer\", SimpleImputer()),\n",
    "        (\"scaler\", StandardScaler()),\n",
    "        (\"fs\", SelectKBest(score_func=f_classif, k=\"all\")),\n",
    "    ]\n",
    ")"
   ]
  },
  {
   "cell_type": "code",
   "execution_count": 263,
   "metadata": {
    "ExecuteTime": {
     "end_time": "2022-04-28T16:32:57.567320Z",
     "start_time": "2022-04-28T16:32:57.378304Z"
    }
   },
   "outputs": [
    {
     "data": {
      "text/html": [
       "<style>#sk-8c654f17-314f-4947-b3e7-f05d3fc9db3c {color: black;background-color: white;}#sk-8c654f17-314f-4947-b3e7-f05d3fc9db3c pre{padding: 0;}#sk-8c654f17-314f-4947-b3e7-f05d3fc9db3c div.sk-toggleable {background-color: white;}#sk-8c654f17-314f-4947-b3e7-f05d3fc9db3c label.sk-toggleable__label {cursor: pointer;display: block;width: 100%;margin-bottom: 0;padding: 0.2em 0.3em;box-sizing: border-box;text-align: center;}#sk-8c654f17-314f-4947-b3e7-f05d3fc9db3c div.sk-toggleable__content {max-height: 0;max-width: 0;overflow: hidden;text-align: left;background-color: #f0f8ff;}#sk-8c654f17-314f-4947-b3e7-f05d3fc9db3c div.sk-toggleable__content pre {margin: 0.2em;color: black;border-radius: 0.25em;background-color: #f0f8ff;}#sk-8c654f17-314f-4947-b3e7-f05d3fc9db3c input.sk-toggleable__control:checked~div.sk-toggleable__content {max-height: 200px;max-width: 100%;overflow: auto;}#sk-8c654f17-314f-4947-b3e7-f05d3fc9db3c div.sk-estimator input.sk-toggleable__control:checked~label.sk-toggleable__label {background-color: #d4ebff;}#sk-8c654f17-314f-4947-b3e7-f05d3fc9db3c div.sk-label input.sk-toggleable__control:checked~label.sk-toggleable__label {background-color: #d4ebff;}#sk-8c654f17-314f-4947-b3e7-f05d3fc9db3c input.sk-hidden--visually {border: 0;clip: rect(1px 1px 1px 1px);clip: rect(1px, 1px, 1px, 1px);height: 1px;margin: -1px;overflow: hidden;padding: 0;position: absolute;width: 1px;}#sk-8c654f17-314f-4947-b3e7-f05d3fc9db3c div.sk-estimator {font-family: monospace;background-color: #f0f8ff;margin: 0.25em 0.25em;border: 1px dotted black;border-radius: 0.25em;box-sizing: border-box;}#sk-8c654f17-314f-4947-b3e7-f05d3fc9db3c div.sk-estimator:hover {background-color: #d4ebff;}#sk-8c654f17-314f-4947-b3e7-f05d3fc9db3c div.sk-parallel-item::after {content: \"\";width: 100%;border-bottom: 1px solid gray;flex-grow: 1;}#sk-8c654f17-314f-4947-b3e7-f05d3fc9db3c div.sk-label:hover label.sk-toggleable__label {background-color: #d4ebff;}#sk-8c654f17-314f-4947-b3e7-f05d3fc9db3c div.sk-serial::before {content: \"\";position: absolute;border-left: 1px solid gray;box-sizing: border-box;top: 2em;bottom: 0;left: 50%;}#sk-8c654f17-314f-4947-b3e7-f05d3fc9db3c div.sk-serial {display: flex;flex-direction: column;align-items: center;background-color: white;}#sk-8c654f17-314f-4947-b3e7-f05d3fc9db3c div.sk-item {z-index: 1;}#sk-8c654f17-314f-4947-b3e7-f05d3fc9db3c div.sk-parallel {display: flex;align-items: stretch;justify-content: center;background-color: white;}#sk-8c654f17-314f-4947-b3e7-f05d3fc9db3c div.sk-parallel-item {display: flex;flex-direction: column;position: relative;background-color: white;}#sk-8c654f17-314f-4947-b3e7-f05d3fc9db3c div.sk-parallel-item:first-child::after {align-self: flex-end;width: 50%;}#sk-8c654f17-314f-4947-b3e7-f05d3fc9db3c div.sk-parallel-item:last-child::after {align-self: flex-start;width: 50%;}#sk-8c654f17-314f-4947-b3e7-f05d3fc9db3c div.sk-parallel-item:only-child::after {width: 0;}#sk-8c654f17-314f-4947-b3e7-f05d3fc9db3c div.sk-dashed-wrapped {border: 1px dashed gray;margin: 0.2em;box-sizing: border-box;padding-bottom: 0.1em;background-color: white;position: relative;}#sk-8c654f17-314f-4947-b3e7-f05d3fc9db3c div.sk-label label {font-family: monospace;font-weight: bold;background-color: white;display: inline-block;line-height: 1.2em;}#sk-8c654f17-314f-4947-b3e7-f05d3fc9db3c div.sk-label-container {position: relative;z-index: 2;text-align: center;}#sk-8c654f17-314f-4947-b3e7-f05d3fc9db3c div.sk-container {display: inline-block;position: relative;}</style><div id=\"sk-8c654f17-314f-4947-b3e7-f05d3fc9db3c\" class\"sk-top-container\"><div class=\"sk-container\"><div class=\"sk-item sk-dashed-wrapped\"><div class=\"sk-label-container\"><div class=\"sk-label sk-toggleable\"><input class=\"sk-toggleable__control sk-hidden--visually\" id=\"011bd5e5-ed29-4aea-8c10-0017a8c7e681\" type=\"checkbox\" ><label class=\"sk-toggleable__label\" for=\"011bd5e5-ed29-4aea-8c10-0017a8c7e681\">Pipeline</label><div class=\"sk-toggleable__content\"><pre>Pipeline(steps=[('preprocessor',\n",
       "                 Pipeline(steps=[('data_transformer',\n",
       "                                  ColumnTransformer(transformers=[('numerical',\n",
       "                                                                   Pipeline(steps=[('imputer',\n",
       "                                                                                    SimpleImputer()),\n",
       "                                                                                   ('scaler',\n",
       "                                                                                    StandardScaler()),\n",
       "                                                                                   ('fs',\n",
       "                                                                                    SelectKBest(k='all'))]),\n",
       "                                                                   ['Age',\n",
       "                                                                    'Height',\n",
       "                                                                    'Weight']),\n",
       "                                                                  ('categorical',\n",
       "                                                                   Pipeline(steps=[('imputer',\n",
       "                                                                                    SimpleImputer()),\n",
       "                                                                                   ('onehot',\n",
       "                                                                                    OneHotEncoder(handle_unknown='ignore'))]),\n",
       "                                                                   ['Getting '\n",
       "                                                                    'up',\n",
       "                                                                    'God',\n",
       "                                                                    'Health',\n",
       "                                                                    'Borrowed '\n",
       "                                                                    'stuff',\n",
       "                                                                    'Self-criticism',\n",
       "                                                                    'Elections',\n",
       "                                                                    'Number of '\n",
       "                                                                    'friends',\n",
       "                                                                    'Spending '\n",
       "                                                                    'on '\n",
       "                                                                    'healthy '\n",
       "                                                                    'eating',\n",
       "                                                                    'Music',\n",
       "                                                                    'Movies',\n",
       "                                                                    'Friends '\n",
       "                                                                    'versus '\n",
       "                                                                    'money',\n",
       "                                                                    'Changing '\n",
       "                                                                    'the '\n",
       "                                                                    'past'])]))])),\n",
       "                ('classifier', LogisticRegression())])</pre></div></div></div><div class=\"sk-serial\"><div class=\"sk-item\"><div class=\"sk-label-container\"><div class=\"sk-label sk-toggleable\"><input class=\"sk-toggleable__control sk-hidden--visually\" id=\"dfeb8c37-cdca-4800-9633-4e49d368aa6c\" type=\"checkbox\" ><label class=\"sk-toggleable__label\" for=\"dfeb8c37-cdca-4800-9633-4e49d368aa6c\">preprocessor: Pipeline</label><div class=\"sk-toggleable__content\"><pre>Pipeline(steps=[('data_transformer',\n",
       "                 ColumnTransformer(transformers=[('numerical',\n",
       "                                                  Pipeline(steps=[('imputer',\n",
       "                                                                   SimpleImputer()),\n",
       "                                                                  ('scaler',\n",
       "                                                                   StandardScaler()),\n",
       "                                                                  ('fs',\n",
       "                                                                   SelectKBest(k='all'))]),\n",
       "                                                  ['Age', 'Height', 'Weight']),\n",
       "                                                 ('categorical',\n",
       "                                                  Pipeline(steps=[('imputer',\n",
       "                                                                   SimpleImputer()),\n",
       "                                                                  ('onehot',\n",
       "                                                                   OneHotEncoder(handle_unknown='ignore'))]),\n",
       "                                                  ['Getting up', 'God',\n",
       "                                                   'Health', 'Borrowed stuff',\n",
       "                                                   'Self-criticism',\n",
       "                                                   'Elections',\n",
       "                                                   'Number of friends',\n",
       "                                                   'Spending on healthy eating',\n",
       "                                                   'Music', 'Movies',\n",
       "                                                   'Friends versus money',\n",
       "                                                   'Changing the past'])]))])</pre></div></div></div><div class=\"sk-serial\"><div class=\"sk-item sk-dashed-wrapped\"><div class=\"sk-label-container\"><div class=\"sk-label sk-toggleable\"><input class=\"sk-toggleable__control sk-hidden--visually\" id=\"9c71e854-d472-47bc-bbe9-3f604d1fc05e\" type=\"checkbox\" ><label class=\"sk-toggleable__label\" for=\"9c71e854-d472-47bc-bbe9-3f604d1fc05e\">data_transformer: ColumnTransformer</label><div class=\"sk-toggleable__content\"><pre>ColumnTransformer(transformers=[('numerical',\n",
       "                                 Pipeline(steps=[('imputer', SimpleImputer()),\n",
       "                                                 ('scaler', StandardScaler()),\n",
       "                                                 ('fs', SelectKBest(k='all'))]),\n",
       "                                 ['Age', 'Height', 'Weight']),\n",
       "                                ('categorical',\n",
       "                                 Pipeline(steps=[('imputer', SimpleImputer()),\n",
       "                                                 ('onehot',\n",
       "                                                  OneHotEncoder(handle_unknown='ignore'))]),\n",
       "                                 ['Getting up', 'God', 'Health',\n",
       "                                  'Borrowed stuff', 'Self-criticism',\n",
       "                                  'Elections', 'Number of friends',\n",
       "                                  'Spending on healthy eating', 'Music',\n",
       "                                  'Movies', 'Friends versus money',\n",
       "                                  'Changing the past'])])</pre></div></div></div><div class=\"sk-parallel\"><div class=\"sk-parallel-item\"><div class=\"sk-item\"><div class=\"sk-label-container\"><div class=\"sk-label sk-toggleable\"><input class=\"sk-toggleable__control sk-hidden--visually\" id=\"eccaa476-0a02-4e75-8c48-f68b6f353798\" type=\"checkbox\" ><label class=\"sk-toggleable__label\" for=\"eccaa476-0a02-4e75-8c48-f68b6f353798\">numerical</label><div class=\"sk-toggleable__content\"><pre>['Age', 'Height', 'Weight']</pre></div></div></div><div class=\"sk-serial\"><div class=\"sk-item\"><div class=\"sk-serial\"><div class=\"sk-item\"><div class=\"sk-estimator sk-toggleable\"><input class=\"sk-toggleable__control sk-hidden--visually\" id=\"701fb42b-5ab5-4a64-aedc-75af148f2dc1\" type=\"checkbox\" ><label class=\"sk-toggleable__label\" for=\"701fb42b-5ab5-4a64-aedc-75af148f2dc1\">SimpleImputer</label><div class=\"sk-toggleable__content\"><pre>SimpleImputer()</pre></div></div></div><div class=\"sk-item\"><div class=\"sk-estimator sk-toggleable\"><input class=\"sk-toggleable__control sk-hidden--visually\" id=\"c115ff46-d105-417e-9a1f-0e53546ed621\" type=\"checkbox\" ><label class=\"sk-toggleable__label\" for=\"c115ff46-d105-417e-9a1f-0e53546ed621\">StandardScaler</label><div class=\"sk-toggleable__content\"><pre>StandardScaler()</pre></div></div></div><div class=\"sk-item\"><div class=\"sk-estimator sk-toggleable\"><input class=\"sk-toggleable__control sk-hidden--visually\" id=\"d67447a3-147b-48b4-a308-cd0c8727fb12\" type=\"checkbox\" ><label class=\"sk-toggleable__label\" for=\"d67447a3-147b-48b4-a308-cd0c8727fb12\">SelectKBest</label><div class=\"sk-toggleable__content\"><pre>SelectKBest(k='all')</pre></div></div></div></div></div></div></div></div><div class=\"sk-parallel-item\"><div class=\"sk-item\"><div class=\"sk-label-container\"><div class=\"sk-label sk-toggleable\"><input class=\"sk-toggleable__control sk-hidden--visually\" id=\"e29d15e5-957f-435d-a727-1dc33128acda\" type=\"checkbox\" ><label class=\"sk-toggleable__label\" for=\"e29d15e5-957f-435d-a727-1dc33128acda\">categorical</label><div class=\"sk-toggleable__content\"><pre>['Getting up', 'God', 'Health', 'Borrowed stuff', 'Self-criticism', 'Elections', 'Number of friends', 'Spending on healthy eating', 'Music', 'Movies', 'Friends versus money', 'Changing the past']</pre></div></div></div><div class=\"sk-serial\"><div class=\"sk-item\"><div class=\"sk-serial\"><div class=\"sk-item\"><div class=\"sk-estimator sk-toggleable\"><input class=\"sk-toggleable__control sk-hidden--visually\" id=\"fe577e55-7b65-4bc9-b736-e8e1549476be\" type=\"checkbox\" ><label class=\"sk-toggleable__label\" for=\"fe577e55-7b65-4bc9-b736-e8e1549476be\">SimpleImputer</label><div class=\"sk-toggleable__content\"><pre>SimpleImputer()</pre></div></div></div><div class=\"sk-item\"><div class=\"sk-estimator sk-toggleable\"><input class=\"sk-toggleable__control sk-hidden--visually\" id=\"6ef4f893-bc92-4f5f-837c-b473f8b63755\" type=\"checkbox\" ><label class=\"sk-toggleable__label\" for=\"6ef4f893-bc92-4f5f-837c-b473f8b63755\">OneHotEncoder</label><div class=\"sk-toggleable__content\"><pre>OneHotEncoder(handle_unknown='ignore')</pre></div></div></div></div></div></div></div></div></div></div></div></div><div class=\"sk-item\"><div class=\"sk-estimator sk-toggleable\"><input class=\"sk-toggleable__control sk-hidden--visually\" id=\"a2749c3a-000f-4715-a925-1097f611eae1\" type=\"checkbox\" ><label class=\"sk-toggleable__label\" for=\"a2749c3a-000f-4715-a925-1097f611eae1\">LogisticRegression</label><div class=\"sk-toggleable__content\"><pre>LogisticRegression()</pre></div></div></div></div></div></div></div>"
      ],
      "text/plain": [
       "Pipeline(steps=[('preprocessor',\n",
       "                 Pipeline(steps=[('data_transformer',\n",
       "                                  ColumnTransformer(transformers=[('numerical',\n",
       "                                                                   Pipeline(steps=[('imputer',\n",
       "                                                                                    SimpleImputer()),\n",
       "                                                                                   ('scaler',\n",
       "                                                                                    StandardScaler()),\n",
       "                                                                                   ('fs',\n",
       "                                                                                    SelectKBest(k='all'))]),\n",
       "                                                                   ['Age',\n",
       "                                                                    'Height',\n",
       "                                                                    'Weight']),\n",
       "                                                                  ('categorical',\n",
       "                                                                   Pipeline(steps=[('imputer',\n",
       "                                                                                    SimpleImputer()),\n",
       "                                                                                   ('onehot',\n",
       "                                                                                    OneHotEncoder(handle_unknown='ignore'))]),\n",
       "                                                                   ['Getting '\n",
       "                                                                    'up',\n",
       "                                                                    'God',\n",
       "                                                                    'Health',\n",
       "                                                                    'Borrowed '\n",
       "                                                                    'stuff',\n",
       "                                                                    'Self-criticism',\n",
       "                                                                    'Elections',\n",
       "                                                                    'Number of '\n",
       "                                                                    'friends',\n",
       "                                                                    'Spending '\n",
       "                                                                    'on '\n",
       "                                                                    'healthy '\n",
       "                                                                    'eating',\n",
       "                                                                    'Music',\n",
       "                                                                    'Movies',\n",
       "                                                                    'Friends '\n",
       "                                                                    'versus '\n",
       "                                                                    'money',\n",
       "                                                                    'Changing '\n",
       "                                                                    'the '\n",
       "                                                                    'past'])]))])),\n",
       "                ('classifier', LogisticRegression())])"
      ]
     },
     "execution_count": 263,
     "metadata": {},
     "output_type": "execute_result"
    }
   ],
   "source": [
    "#   Для категориальных - применяем SimpleImputer, а затем OneHotEncoder\n",
    "categorical_transformer = Pipeline(\n",
    "    steps=[\n",
    "        (\"imputer\", SimpleImputer()),\n",
    "        (\"onehot\", OneHotEncoder(handle_unknown=\"ignore\")),\n",
    "    ]\n",
    ")\n",
    "\n",
    "\n",
    "classifier_pipline"
   ]
  },
  {
   "cell_type": "code",
   "execution_count": null,
   "metadata": {},
   "outputs": [],
   "source": []
  },
  {
   "cell_type": "code",
   "execution_count": null,
   "metadata": {},
   "outputs": [],
   "source": []
  },
  {
   "cell_type": "markdown",
   "metadata": {},
   "source": [
    "# А если вдруг одной модели мало?"
   ]
  },
  {
   "cell_type": "code",
   "execution_count": 264,
   "metadata": {
    "ExecuteTime": {
     "end_time": "2022-04-28T16:32:57.599319Z",
     "start_time": "2022-04-28T16:32:57.569318Z"
    }
   },
   "outputs": [
    {
     "data": {
      "text/html": [
       "<style>#sk-d519ede1-e1ff-4dc8-a01b-41934f3ba6a1 {color: black;background-color: white;}#sk-d519ede1-e1ff-4dc8-a01b-41934f3ba6a1 pre{padding: 0;}#sk-d519ede1-e1ff-4dc8-a01b-41934f3ba6a1 div.sk-toggleable {background-color: white;}#sk-d519ede1-e1ff-4dc8-a01b-41934f3ba6a1 label.sk-toggleable__label {cursor: pointer;display: block;width: 100%;margin-bottom: 0;padding: 0.2em 0.3em;box-sizing: border-box;text-align: center;}#sk-d519ede1-e1ff-4dc8-a01b-41934f3ba6a1 div.sk-toggleable__content {max-height: 0;max-width: 0;overflow: hidden;text-align: left;background-color: #f0f8ff;}#sk-d519ede1-e1ff-4dc8-a01b-41934f3ba6a1 div.sk-toggleable__content pre {margin: 0.2em;color: black;border-radius: 0.25em;background-color: #f0f8ff;}#sk-d519ede1-e1ff-4dc8-a01b-41934f3ba6a1 input.sk-toggleable__control:checked~div.sk-toggleable__content {max-height: 200px;max-width: 100%;overflow: auto;}#sk-d519ede1-e1ff-4dc8-a01b-41934f3ba6a1 div.sk-estimator input.sk-toggleable__control:checked~label.sk-toggleable__label {background-color: #d4ebff;}#sk-d519ede1-e1ff-4dc8-a01b-41934f3ba6a1 div.sk-label input.sk-toggleable__control:checked~label.sk-toggleable__label {background-color: #d4ebff;}#sk-d519ede1-e1ff-4dc8-a01b-41934f3ba6a1 input.sk-hidden--visually {border: 0;clip: rect(1px 1px 1px 1px);clip: rect(1px, 1px, 1px, 1px);height: 1px;margin: -1px;overflow: hidden;padding: 0;position: absolute;width: 1px;}#sk-d519ede1-e1ff-4dc8-a01b-41934f3ba6a1 div.sk-estimator {font-family: monospace;background-color: #f0f8ff;margin: 0.25em 0.25em;border: 1px dotted black;border-radius: 0.25em;box-sizing: border-box;}#sk-d519ede1-e1ff-4dc8-a01b-41934f3ba6a1 div.sk-estimator:hover {background-color: #d4ebff;}#sk-d519ede1-e1ff-4dc8-a01b-41934f3ba6a1 div.sk-parallel-item::after {content: \"\";width: 100%;border-bottom: 1px solid gray;flex-grow: 1;}#sk-d519ede1-e1ff-4dc8-a01b-41934f3ba6a1 div.sk-label:hover label.sk-toggleable__label {background-color: #d4ebff;}#sk-d519ede1-e1ff-4dc8-a01b-41934f3ba6a1 div.sk-serial::before {content: \"\";position: absolute;border-left: 1px solid gray;box-sizing: border-box;top: 2em;bottom: 0;left: 50%;}#sk-d519ede1-e1ff-4dc8-a01b-41934f3ba6a1 div.sk-serial {display: flex;flex-direction: column;align-items: center;background-color: white;}#sk-d519ede1-e1ff-4dc8-a01b-41934f3ba6a1 div.sk-item {z-index: 1;}#sk-d519ede1-e1ff-4dc8-a01b-41934f3ba6a1 div.sk-parallel {display: flex;align-items: stretch;justify-content: center;background-color: white;}#sk-d519ede1-e1ff-4dc8-a01b-41934f3ba6a1 div.sk-parallel-item {display: flex;flex-direction: column;position: relative;background-color: white;}#sk-d519ede1-e1ff-4dc8-a01b-41934f3ba6a1 div.sk-parallel-item:first-child::after {align-self: flex-end;width: 50%;}#sk-d519ede1-e1ff-4dc8-a01b-41934f3ba6a1 div.sk-parallel-item:last-child::after {align-self: flex-start;width: 50%;}#sk-d519ede1-e1ff-4dc8-a01b-41934f3ba6a1 div.sk-parallel-item:only-child::after {width: 0;}#sk-d519ede1-e1ff-4dc8-a01b-41934f3ba6a1 div.sk-dashed-wrapped {border: 1px dashed gray;margin: 0.2em;box-sizing: border-box;padding-bottom: 0.1em;background-color: white;position: relative;}#sk-d519ede1-e1ff-4dc8-a01b-41934f3ba6a1 div.sk-label label {font-family: monospace;font-weight: bold;background-color: white;display: inline-block;line-height: 1.2em;}#sk-d519ede1-e1ff-4dc8-a01b-41934f3ba6a1 div.sk-label-container {position: relative;z-index: 2;text-align: center;}#sk-d519ede1-e1ff-4dc8-a01b-41934f3ba6a1 div.sk-container {display: inline-block;position: relative;}</style><div id=\"sk-d519ede1-e1ff-4dc8-a01b-41934f3ba6a1\" class\"sk-top-container\"><div class=\"sk-container\"><div class=\"sk-item sk-dashed-wrapped\"><div class=\"sk-label-container\"><div class=\"sk-label sk-toggleable\"><input class=\"sk-toggleable__control sk-hidden--visually\" id=\"2b252dda-ec31-4aad-a957-d05638adcd2c\" type=\"checkbox\" ><label class=\"sk-toggleable__label\" for=\"2b252dda-ec31-4aad-a957-d05638adcd2c\">VotingClassifier</label><div class=\"sk-toggleable__content\"><pre>VotingClassifier(estimators=[('log_regrassion',\n",
       "                              LogisticRegression(multi_class='multinomial',\n",
       "                                                 random_state=1)),\n",
       "                             ('random_forest',\n",
       "                              RandomForestClassifier(n_estimators=50,\n",
       "                                                     random_state=1)),\n",
       "                             ('gnb', GaussianNB())])</pre></div></div></div><div class=\"sk-parallel\"><div class=\"sk-parallel-item\"><div class=\"sk-item\"><div class=\"sk-label-container\"><div class=\"sk-label sk-toggleable\"><label>log_regrassion</label></div></div><div class=\"sk-serial\"><div class=\"sk-item\"><div class=\"sk-estimator sk-toggleable\"><input class=\"sk-toggleable__control sk-hidden--visually\" id=\"14604489-6035-47c9-8462-6f1027784de8\" type=\"checkbox\" ><label class=\"sk-toggleable__label\" for=\"14604489-6035-47c9-8462-6f1027784de8\">LogisticRegression</label><div class=\"sk-toggleable__content\"><pre>LogisticRegression(multi_class='multinomial', random_state=1)</pre></div></div></div></div></div></div><div class=\"sk-parallel-item\"><div class=\"sk-item\"><div class=\"sk-label-container\"><div class=\"sk-label sk-toggleable\"><label>random_forest</label></div></div><div class=\"sk-serial\"><div class=\"sk-item\"><div class=\"sk-estimator sk-toggleable\"><input class=\"sk-toggleable__control sk-hidden--visually\" id=\"780093b1-547c-452f-a297-87a04b1f3be9\" type=\"checkbox\" ><label class=\"sk-toggleable__label\" for=\"780093b1-547c-452f-a297-87a04b1f3be9\">RandomForestClassifier</label><div class=\"sk-toggleable__content\"><pre>RandomForestClassifier(n_estimators=50, random_state=1)</pre></div></div></div></div></div></div><div class=\"sk-parallel-item\"><div class=\"sk-item\"><div class=\"sk-label-container\"><div class=\"sk-label sk-toggleable\"><label>gnb</label></div></div><div class=\"sk-serial\"><div class=\"sk-item\"><div class=\"sk-estimator sk-toggleable\"><input class=\"sk-toggleable__control sk-hidden--visually\" id=\"4de4eb50-75f8-46e3-9bb8-89141a073093\" type=\"checkbox\" ><label class=\"sk-toggleable__label\" for=\"4de4eb50-75f8-46e3-9bb8-89141a073093\">GaussianNB</label><div class=\"sk-toggleable__content\"><pre>GaussianNB()</pre></div></div></div></div></div></div></div></div></div></div>"
      ],
      "text/plain": [
       "VotingClassifier(estimators=[('log_regrassion',\n",
       "                              LogisticRegression(multi_class='multinomial',\n",
       "                                                 random_state=1)),\n",
       "                             ('random_forest',\n",
       "                              RandomForestClassifier(n_estimators=50,\n",
       "                                                     random_state=1)),\n",
       "                             ('gnb', GaussianNB())])"
      ]
     },
     "execution_count": 264,
     "metadata": {},
     "output_type": "execute_result"
    }
   ],
   "source": [
    "from sklearn.linear_model import LogisticRegression\n",
    "from sklearn.naive_bayes import GaussianNB\n",
    "from sklearn.ensemble import RandomForestClassifier, VotingClassifier\n",
    "import xgboost\n",
    "\n",
    "clf1 = LogisticRegression(multi_class=\"multinomial\", random_state=1)\n",
    "clf2 = RandomForestClassifier(n_estimators=50, random_state=1)\n",
    "clf3 = GaussianNB()\n",
    "\n",
    "blending_classifier = VotingClassifier(\n",
    "    estimators=[(\"log_regrassion\", clf1), \n",
    "                (\"random_forest\", clf2), \n",
    "                (\"gnb\", clf3)] \n",
    ")\n",
    "blending_classifier"
   ]
  },
  {
   "cell_type": "code",
   "execution_count": 265,
   "metadata": {
    "ExecuteTime": {
     "end_time": "2022-04-28T16:32:57.823336Z",
     "start_time": "2022-04-28T16:32:57.601322Z"
    }
   },
   "outputs": [
    {
     "data": {
      "text/html": [
       "<style>#sk-f00ef386-4b48-441a-b289-3b9f6b6c1578 {color: black;background-color: white;}#sk-f00ef386-4b48-441a-b289-3b9f6b6c1578 pre{padding: 0;}#sk-f00ef386-4b48-441a-b289-3b9f6b6c1578 div.sk-toggleable {background-color: white;}#sk-f00ef386-4b48-441a-b289-3b9f6b6c1578 label.sk-toggleable__label {cursor: pointer;display: block;width: 100%;margin-bottom: 0;padding: 0.2em 0.3em;box-sizing: border-box;text-align: center;}#sk-f00ef386-4b48-441a-b289-3b9f6b6c1578 div.sk-toggleable__content {max-height: 0;max-width: 0;overflow: hidden;text-align: left;background-color: #f0f8ff;}#sk-f00ef386-4b48-441a-b289-3b9f6b6c1578 div.sk-toggleable__content pre {margin: 0.2em;color: black;border-radius: 0.25em;background-color: #f0f8ff;}#sk-f00ef386-4b48-441a-b289-3b9f6b6c1578 input.sk-toggleable__control:checked~div.sk-toggleable__content {max-height: 200px;max-width: 100%;overflow: auto;}#sk-f00ef386-4b48-441a-b289-3b9f6b6c1578 div.sk-estimator input.sk-toggleable__control:checked~label.sk-toggleable__label {background-color: #d4ebff;}#sk-f00ef386-4b48-441a-b289-3b9f6b6c1578 div.sk-label input.sk-toggleable__control:checked~label.sk-toggleable__label {background-color: #d4ebff;}#sk-f00ef386-4b48-441a-b289-3b9f6b6c1578 input.sk-hidden--visually {border: 0;clip: rect(1px 1px 1px 1px);clip: rect(1px, 1px, 1px, 1px);height: 1px;margin: -1px;overflow: hidden;padding: 0;position: absolute;width: 1px;}#sk-f00ef386-4b48-441a-b289-3b9f6b6c1578 div.sk-estimator {font-family: monospace;background-color: #f0f8ff;margin: 0.25em 0.25em;border: 1px dotted black;border-radius: 0.25em;box-sizing: border-box;}#sk-f00ef386-4b48-441a-b289-3b9f6b6c1578 div.sk-estimator:hover {background-color: #d4ebff;}#sk-f00ef386-4b48-441a-b289-3b9f6b6c1578 div.sk-parallel-item::after {content: \"\";width: 100%;border-bottom: 1px solid gray;flex-grow: 1;}#sk-f00ef386-4b48-441a-b289-3b9f6b6c1578 div.sk-label:hover label.sk-toggleable__label {background-color: #d4ebff;}#sk-f00ef386-4b48-441a-b289-3b9f6b6c1578 div.sk-serial::before {content: \"\";position: absolute;border-left: 1px solid gray;box-sizing: border-box;top: 2em;bottom: 0;left: 50%;}#sk-f00ef386-4b48-441a-b289-3b9f6b6c1578 div.sk-serial {display: flex;flex-direction: column;align-items: center;background-color: white;}#sk-f00ef386-4b48-441a-b289-3b9f6b6c1578 div.sk-item {z-index: 1;}#sk-f00ef386-4b48-441a-b289-3b9f6b6c1578 div.sk-parallel {display: flex;align-items: stretch;justify-content: center;background-color: white;}#sk-f00ef386-4b48-441a-b289-3b9f6b6c1578 div.sk-parallel-item {display: flex;flex-direction: column;position: relative;background-color: white;}#sk-f00ef386-4b48-441a-b289-3b9f6b6c1578 div.sk-parallel-item:first-child::after {align-self: flex-end;width: 50%;}#sk-f00ef386-4b48-441a-b289-3b9f6b6c1578 div.sk-parallel-item:last-child::after {align-self: flex-start;width: 50%;}#sk-f00ef386-4b48-441a-b289-3b9f6b6c1578 div.sk-parallel-item:only-child::after {width: 0;}#sk-f00ef386-4b48-441a-b289-3b9f6b6c1578 div.sk-dashed-wrapped {border: 1px dashed gray;margin: 0.2em;box-sizing: border-box;padding-bottom: 0.1em;background-color: white;position: relative;}#sk-f00ef386-4b48-441a-b289-3b9f6b6c1578 div.sk-label label {font-family: monospace;font-weight: bold;background-color: white;display: inline-block;line-height: 1.2em;}#sk-f00ef386-4b48-441a-b289-3b9f6b6c1578 div.sk-label-container {position: relative;z-index: 2;text-align: center;}#sk-f00ef386-4b48-441a-b289-3b9f6b6c1578 div.sk-container {display: inline-block;position: relative;}</style><div id=\"sk-f00ef386-4b48-441a-b289-3b9f6b6c1578\" class\"sk-top-container\"><div class=\"sk-container\"><div class=\"sk-item sk-dashed-wrapped\"><div class=\"sk-label-container\"><div class=\"sk-label sk-toggleable\"><input class=\"sk-toggleable__control sk-hidden--visually\" id=\"295a072c-1669-468d-b0d2-2b3053c151c0\" type=\"checkbox\" ><label class=\"sk-toggleable__label\" for=\"295a072c-1669-468d-b0d2-2b3053c151c0\">Pipeline</label><div class=\"sk-toggleable__content\"><pre>Pipeline(steps=[('preprocessor',\n",
       "                 Pipeline(steps=[('data_transformer',\n",
       "                                  ColumnTransformer(transformers=[('numerical',\n",
       "                                                                   Pipeline(steps=[('imputer',\n",
       "                                                                                    SimpleImputer()),\n",
       "                                                                                   ('scaler',\n",
       "                                                                                    StandardScaler()),\n",
       "                                                                                   ('fs',\n",
       "                                                                                    SelectKBest(k='all'))]),\n",
       "                                                                   ['Age',\n",
       "                                                                    'Height',\n",
       "                                                                    'Weight']),\n",
       "                                                                  ('categorical',\n",
       "                                                                   Pipeline(steps=[('imputer',\n",
       "                                                                                    SimpleImputer()),\n",
       "                                                                                   ('onehot',\n",
       "                                                                                    OneHotEncoder(handle_unknown='ignore'))...\n",
       "                                                                    'Elections',\n",
       "                                                                    'Number of '\n",
       "                                                                    'friends',\n",
       "                                                                    'Spending '\n",
       "                                                                    'on '\n",
       "                                                                    'healthy '\n",
       "                                                                    'eating',\n",
       "                                                                    'Music',\n",
       "                                                                    'Movies',\n",
       "                                                                    'Friends '\n",
       "                                                                    'versus '\n",
       "                                                                    'money',\n",
       "                                                                    'Changing '\n",
       "                                                                    'the '\n",
       "                                                                    'past'])]))])),\n",
       "                ('classifier',\n",
       "                 VotingClassifier(estimators=[('log_regrassion',\n",
       "                                               LogisticRegression(multi_class='multinomial',\n",
       "                                                                  random_state=1)),\n",
       "                                              ('random_forest',\n",
       "                                               RandomForestClassifier(n_estimators=50,\n",
       "                                                                      random_state=1)),\n",
       "                                              ('gnb', GaussianNB())]))])</pre></div></div></div><div class=\"sk-serial\"><div class=\"sk-item\"><div class=\"sk-label-container\"><div class=\"sk-label sk-toggleable\"><input class=\"sk-toggleable__control sk-hidden--visually\" id=\"ae726fbc-54fe-4a86-8fe8-d0c6fc42928c\" type=\"checkbox\" ><label class=\"sk-toggleable__label\" for=\"ae726fbc-54fe-4a86-8fe8-d0c6fc42928c\">preprocessor: Pipeline</label><div class=\"sk-toggleable__content\"><pre>Pipeline(steps=[('data_transformer',\n",
       "                 ColumnTransformer(transformers=[('numerical',\n",
       "                                                  Pipeline(steps=[('imputer',\n",
       "                                                                   SimpleImputer()),\n",
       "                                                                  ('scaler',\n",
       "                                                                   StandardScaler()),\n",
       "                                                                  ('fs',\n",
       "                                                                   SelectKBest(k='all'))]),\n",
       "                                                  ['Age', 'Height', 'Weight']),\n",
       "                                                 ('categorical',\n",
       "                                                  Pipeline(steps=[('imputer',\n",
       "                                                                   SimpleImputer()),\n",
       "                                                                  ('onehot',\n",
       "                                                                   OneHotEncoder(handle_unknown='ignore'))]),\n",
       "                                                  ['Getting up', 'God',\n",
       "                                                   'Health', 'Borrowed stuff',\n",
       "                                                   'Self-criticism',\n",
       "                                                   'Elections',\n",
       "                                                   'Number of friends',\n",
       "                                                   'Spending on healthy eating',\n",
       "                                                   'Music', 'Movies',\n",
       "                                                   'Friends versus money',\n",
       "                                                   'Changing the past'])]))])</pre></div></div></div><div class=\"sk-serial\"><div class=\"sk-item sk-dashed-wrapped\"><div class=\"sk-label-container\"><div class=\"sk-label sk-toggleable\"><input class=\"sk-toggleable__control sk-hidden--visually\" id=\"075fee99-f21a-4bfc-86ff-1181222c2ca2\" type=\"checkbox\" ><label class=\"sk-toggleable__label\" for=\"075fee99-f21a-4bfc-86ff-1181222c2ca2\">data_transformer: ColumnTransformer</label><div class=\"sk-toggleable__content\"><pre>ColumnTransformer(transformers=[('numerical',\n",
       "                                 Pipeline(steps=[('imputer', SimpleImputer()),\n",
       "                                                 ('scaler', StandardScaler()),\n",
       "                                                 ('fs', SelectKBest(k='all'))]),\n",
       "                                 ['Age', 'Height', 'Weight']),\n",
       "                                ('categorical',\n",
       "                                 Pipeline(steps=[('imputer', SimpleImputer()),\n",
       "                                                 ('onehot',\n",
       "                                                  OneHotEncoder(handle_unknown='ignore'))]),\n",
       "                                 ['Getting up', 'God', 'Health',\n",
       "                                  'Borrowed stuff', 'Self-criticism',\n",
       "                                  'Elections', 'Number of friends',\n",
       "                                  'Spending on healthy eating', 'Music',\n",
       "                                  'Movies', 'Friends versus money',\n",
       "                                  'Changing the past'])])</pre></div></div></div><div class=\"sk-parallel\"><div class=\"sk-parallel-item\"><div class=\"sk-item\"><div class=\"sk-label-container\"><div class=\"sk-label sk-toggleable\"><input class=\"sk-toggleable__control sk-hidden--visually\" id=\"9246a226-ece4-470d-81ed-f8932a0b7b8d\" type=\"checkbox\" ><label class=\"sk-toggleable__label\" for=\"9246a226-ece4-470d-81ed-f8932a0b7b8d\">numerical</label><div class=\"sk-toggleable__content\"><pre>['Age', 'Height', 'Weight']</pre></div></div></div><div class=\"sk-serial\"><div class=\"sk-item\"><div class=\"sk-serial\"><div class=\"sk-item\"><div class=\"sk-estimator sk-toggleable\"><input class=\"sk-toggleable__control sk-hidden--visually\" id=\"eef102b1-e051-4041-bcb2-4d6c913e306c\" type=\"checkbox\" ><label class=\"sk-toggleable__label\" for=\"eef102b1-e051-4041-bcb2-4d6c913e306c\">SimpleImputer</label><div class=\"sk-toggleable__content\"><pre>SimpleImputer()</pre></div></div></div><div class=\"sk-item\"><div class=\"sk-estimator sk-toggleable\"><input class=\"sk-toggleable__control sk-hidden--visually\" id=\"f33fcb06-6b93-46ac-bde1-353245a2ac04\" type=\"checkbox\" ><label class=\"sk-toggleable__label\" for=\"f33fcb06-6b93-46ac-bde1-353245a2ac04\">StandardScaler</label><div class=\"sk-toggleable__content\"><pre>StandardScaler()</pre></div></div></div><div class=\"sk-item\"><div class=\"sk-estimator sk-toggleable\"><input class=\"sk-toggleable__control sk-hidden--visually\" id=\"0d05f2de-c17a-49b7-a8e6-476ccd23a57a\" type=\"checkbox\" ><label class=\"sk-toggleable__label\" for=\"0d05f2de-c17a-49b7-a8e6-476ccd23a57a\">SelectKBest</label><div class=\"sk-toggleable__content\"><pre>SelectKBest(k='all')</pre></div></div></div></div></div></div></div></div><div class=\"sk-parallel-item\"><div class=\"sk-item\"><div class=\"sk-label-container\"><div class=\"sk-label sk-toggleable\"><input class=\"sk-toggleable__control sk-hidden--visually\" id=\"cbda0535-0bc0-45c6-baaa-03c31cb3c1fd\" type=\"checkbox\" ><label class=\"sk-toggleable__label\" for=\"cbda0535-0bc0-45c6-baaa-03c31cb3c1fd\">categorical</label><div class=\"sk-toggleable__content\"><pre>['Getting up', 'God', 'Health', 'Borrowed stuff', 'Self-criticism', 'Elections', 'Number of friends', 'Spending on healthy eating', 'Music', 'Movies', 'Friends versus money', 'Changing the past']</pre></div></div></div><div class=\"sk-serial\"><div class=\"sk-item\"><div class=\"sk-serial\"><div class=\"sk-item\"><div class=\"sk-estimator sk-toggleable\"><input class=\"sk-toggleable__control sk-hidden--visually\" id=\"9cff5489-7ffb-49ad-af48-32094862efe9\" type=\"checkbox\" ><label class=\"sk-toggleable__label\" for=\"9cff5489-7ffb-49ad-af48-32094862efe9\">SimpleImputer</label><div class=\"sk-toggleable__content\"><pre>SimpleImputer()</pre></div></div></div><div class=\"sk-item\"><div class=\"sk-estimator sk-toggleable\"><input class=\"sk-toggleable__control sk-hidden--visually\" id=\"a64e92d3-43bc-4bfd-9cff-6fcac43b0abc\" type=\"checkbox\" ><label class=\"sk-toggleable__label\" for=\"a64e92d3-43bc-4bfd-9cff-6fcac43b0abc\">OneHotEncoder</label><div class=\"sk-toggleable__content\"><pre>OneHotEncoder(handle_unknown='ignore')</pre></div></div></div></div></div></div></div></div></div></div></div></div><div class=\"sk-item sk-dashed-wrapped\"><div class=\"sk-label-container\"><div class=\"sk-label sk-toggleable\"><input class=\"sk-toggleable__control sk-hidden--visually\" id=\"ddac1e25-5b4d-41a0-a13e-d1bbcba31d62\" type=\"checkbox\" ><label class=\"sk-toggleable__label\" for=\"ddac1e25-5b4d-41a0-a13e-d1bbcba31d62\">classifier: VotingClassifier</label><div class=\"sk-toggleable__content\"><pre>VotingClassifier(estimators=[('log_regrassion',\n",
       "                              LogisticRegression(multi_class='multinomial',\n",
       "                                                 random_state=1)),\n",
       "                             ('random_forest',\n",
       "                              RandomForestClassifier(n_estimators=50,\n",
       "                                                     random_state=1)),\n",
       "                             ('gnb', GaussianNB())])</pre></div></div></div><div class=\"sk-parallel\"><div class=\"sk-parallel-item\"><div class=\"sk-item\"><div class=\"sk-label-container\"><div class=\"sk-label sk-toggleable\"><label>log_regrassion</label></div></div><div class=\"sk-serial\"><div class=\"sk-item\"><div class=\"sk-estimator sk-toggleable\"><input class=\"sk-toggleable__control sk-hidden--visually\" id=\"5ed2c761-bf5d-4707-b69d-17fecff61a87\" type=\"checkbox\" ><label class=\"sk-toggleable__label\" for=\"5ed2c761-bf5d-4707-b69d-17fecff61a87\">LogisticRegression</label><div class=\"sk-toggleable__content\"><pre>LogisticRegression(multi_class='multinomial', random_state=1)</pre></div></div></div></div></div></div><div class=\"sk-parallel-item\"><div class=\"sk-item\"><div class=\"sk-label-container\"><div class=\"sk-label sk-toggleable\"><label>random_forest</label></div></div><div class=\"sk-serial\"><div class=\"sk-item\"><div class=\"sk-estimator sk-toggleable\"><input class=\"sk-toggleable__control sk-hidden--visually\" id=\"66eab775-00c5-49da-a7e4-e85d24e7d72c\" type=\"checkbox\" ><label class=\"sk-toggleable__label\" for=\"66eab775-00c5-49da-a7e4-e85d24e7d72c\">RandomForestClassifier</label><div class=\"sk-toggleable__content\"><pre>RandomForestClassifier(n_estimators=50, random_state=1)</pre></div></div></div></div></div></div><div class=\"sk-parallel-item\"><div class=\"sk-item\"><div class=\"sk-label-container\"><div class=\"sk-label sk-toggleable\"><label>gnb</label></div></div><div class=\"sk-serial\"><div class=\"sk-item\"><div class=\"sk-estimator sk-toggleable\"><input class=\"sk-toggleable__control sk-hidden--visually\" id=\"44f17ea8-f043-4f77-bd1d-c1c4ed9d4be0\" type=\"checkbox\" ><label class=\"sk-toggleable__label\" for=\"44f17ea8-f043-4f77-bd1d-c1c4ed9d4be0\">GaussianNB</label><div class=\"sk-toggleable__content\"><pre>GaussianNB()</pre></div></div></div></div></div></div></div></div></div></div></div></div>"
      ],
      "text/plain": [
       "Pipeline(steps=[('preprocessor',\n",
       "                 Pipeline(steps=[('data_transformer',\n",
       "                                  ColumnTransformer(transformers=[('numerical',\n",
       "                                                                   Pipeline(steps=[('imputer',\n",
       "                                                                                    SimpleImputer()),\n",
       "                                                                                   ('scaler',\n",
       "                                                                                    StandardScaler()),\n",
       "                                                                                   ('fs',\n",
       "                                                                                    SelectKBest(k='all'))]),\n",
       "                                                                   ['Age',\n",
       "                                                                    'Height',\n",
       "                                                                    'Weight']),\n",
       "                                                                  ('categorical',\n",
       "                                                                   Pipeline(steps=[('imputer',\n",
       "                                                                                    SimpleImputer()),\n",
       "                                                                                   ('onehot',\n",
       "                                                                                    OneHotEncoder(handle_unknown='ignore'))...\n",
       "                                                                    'Elections',\n",
       "                                                                    'Number of '\n",
       "                                                                    'friends',\n",
       "                                                                    'Spending '\n",
       "                                                                    'on '\n",
       "                                                                    'healthy '\n",
       "                                                                    'eating',\n",
       "                                                                    'Music',\n",
       "                                                                    'Movies',\n",
       "                                                                    'Friends '\n",
       "                                                                    'versus '\n",
       "                                                                    'money',\n",
       "                                                                    'Changing '\n",
       "                                                                    'the '\n",
       "                                                                    'past'])]))])),\n",
       "                ('classifier',\n",
       "                 VotingClassifier(estimators=[('log_regrassion',\n",
       "                                               LogisticRegression(multi_class='multinomial',\n",
       "                                                                  random_state=1)),\n",
       "                                              ('random_forest',\n",
       "                                               RandomForestClassifier(n_estimators=50,\n",
       "                                                                      random_state=1)),\n",
       "                                              ('gnb', GaussianNB())]))])"
      ]
     },
     "execution_count": 265,
     "metadata": {},
     "output_type": "execute_result"
    }
   ],
   "source": [
    "classifier_pipline = Pipeline(\n",
    "    steps=[(\"preprocessor\", preprocessor),\n",
    "           (\"classifier\", blending_classifier)]\n",
    ")\n",
    "\n",
    "classifier_pipline"
   ]
  },
  {
   "cell_type": "code",
   "execution_count": null,
   "metadata": {},
   "outputs": [],
   "source": []
  },
  {
   "cell_type": "markdown",
   "metadata": {},
   "source": [
    "# А что если хотим использовать стекинг?"
   ]
  },
  {
   "cell_type": "code",
   "execution_count": 266,
   "metadata": {
    "ExecuteTime": {
     "end_time": "2022-04-28T16:32:57.839338Z",
     "start_time": "2022-04-28T16:32:57.825338Z"
    }
   },
   "outputs": [],
   "source": [
    "# Your code here.\n",
    "from sklearn.ensemble import RandomForestClassifier\n",
    "from sklearn.svm import LinearSVC\n",
    "from sklearn.ensemble import StackingClassifier\n"
   ]
  },
  {
   "cell_type": "code",
   "execution_count": 267,
   "metadata": {
    "ExecuteTime": {
     "end_time": "2022-04-28T16:32:57.855342Z",
     "start_time": "2022-04-28T16:32:57.840340Z"
    }
   },
   "outputs": [],
   "source": [
    "# получим список эстиматоров\n",
    "estimators = [\n",
    "    (\"Random_Forest\", RandomForestClassifier()),\n",
    "    (\"Xgboost\", xgboost.XGBClassifier()),\n",
    "    (\"SVM\", LinearSVC()),\n",
    "    \n",
    "]\n",
    "\n",
    "# построим классификатор используя стекинг и наш список классификаторов\n",
    "stacking_classifier = StackingClassifier(\n",
    "    estimators=estimators,\n",
    "    final_estimator=LogisticRegression(n_jobs=-1, verbose=True),\n",
    "    n_jobs=-1,\n",
    "    verbose=True,\n",
    ")"
   ]
  },
  {
   "cell_type": "code",
   "execution_count": 268,
   "metadata": {
    "ExecuteTime": {
     "end_time": "2022-04-28T16:32:57.887341Z",
     "start_time": "2022-04-28T16:32:57.856341Z"
    }
   },
   "outputs": [
    {
     "data": {
      "text/html": [
       "<style>#sk-e3b203eb-0b15-40d3-9ee2-eb643601119a {color: black;background-color: white;}#sk-e3b203eb-0b15-40d3-9ee2-eb643601119a pre{padding: 0;}#sk-e3b203eb-0b15-40d3-9ee2-eb643601119a div.sk-toggleable {background-color: white;}#sk-e3b203eb-0b15-40d3-9ee2-eb643601119a label.sk-toggleable__label {cursor: pointer;display: block;width: 100%;margin-bottom: 0;padding: 0.2em 0.3em;box-sizing: border-box;text-align: center;}#sk-e3b203eb-0b15-40d3-9ee2-eb643601119a div.sk-toggleable__content {max-height: 0;max-width: 0;overflow: hidden;text-align: left;background-color: #f0f8ff;}#sk-e3b203eb-0b15-40d3-9ee2-eb643601119a div.sk-toggleable__content pre {margin: 0.2em;color: black;border-radius: 0.25em;background-color: #f0f8ff;}#sk-e3b203eb-0b15-40d3-9ee2-eb643601119a input.sk-toggleable__control:checked~div.sk-toggleable__content {max-height: 200px;max-width: 100%;overflow: auto;}#sk-e3b203eb-0b15-40d3-9ee2-eb643601119a div.sk-estimator input.sk-toggleable__control:checked~label.sk-toggleable__label {background-color: #d4ebff;}#sk-e3b203eb-0b15-40d3-9ee2-eb643601119a div.sk-label input.sk-toggleable__control:checked~label.sk-toggleable__label {background-color: #d4ebff;}#sk-e3b203eb-0b15-40d3-9ee2-eb643601119a input.sk-hidden--visually {border: 0;clip: rect(1px 1px 1px 1px);clip: rect(1px, 1px, 1px, 1px);height: 1px;margin: -1px;overflow: hidden;padding: 0;position: absolute;width: 1px;}#sk-e3b203eb-0b15-40d3-9ee2-eb643601119a div.sk-estimator {font-family: monospace;background-color: #f0f8ff;margin: 0.25em 0.25em;border: 1px dotted black;border-radius: 0.25em;box-sizing: border-box;}#sk-e3b203eb-0b15-40d3-9ee2-eb643601119a div.sk-estimator:hover {background-color: #d4ebff;}#sk-e3b203eb-0b15-40d3-9ee2-eb643601119a div.sk-parallel-item::after {content: \"\";width: 100%;border-bottom: 1px solid gray;flex-grow: 1;}#sk-e3b203eb-0b15-40d3-9ee2-eb643601119a div.sk-label:hover label.sk-toggleable__label {background-color: #d4ebff;}#sk-e3b203eb-0b15-40d3-9ee2-eb643601119a div.sk-serial::before {content: \"\";position: absolute;border-left: 1px solid gray;box-sizing: border-box;top: 2em;bottom: 0;left: 50%;}#sk-e3b203eb-0b15-40d3-9ee2-eb643601119a div.sk-serial {display: flex;flex-direction: column;align-items: center;background-color: white;}#sk-e3b203eb-0b15-40d3-9ee2-eb643601119a div.sk-item {z-index: 1;}#sk-e3b203eb-0b15-40d3-9ee2-eb643601119a div.sk-parallel {display: flex;align-items: stretch;justify-content: center;background-color: white;}#sk-e3b203eb-0b15-40d3-9ee2-eb643601119a div.sk-parallel-item {display: flex;flex-direction: column;position: relative;background-color: white;}#sk-e3b203eb-0b15-40d3-9ee2-eb643601119a div.sk-parallel-item:first-child::after {align-self: flex-end;width: 50%;}#sk-e3b203eb-0b15-40d3-9ee2-eb643601119a div.sk-parallel-item:last-child::after {align-self: flex-start;width: 50%;}#sk-e3b203eb-0b15-40d3-9ee2-eb643601119a div.sk-parallel-item:only-child::after {width: 0;}#sk-e3b203eb-0b15-40d3-9ee2-eb643601119a div.sk-dashed-wrapped {border: 1px dashed gray;margin: 0.2em;box-sizing: border-box;padding-bottom: 0.1em;background-color: white;position: relative;}#sk-e3b203eb-0b15-40d3-9ee2-eb643601119a div.sk-label label {font-family: monospace;font-weight: bold;background-color: white;display: inline-block;line-height: 1.2em;}#sk-e3b203eb-0b15-40d3-9ee2-eb643601119a div.sk-label-container {position: relative;z-index: 2;text-align: center;}#sk-e3b203eb-0b15-40d3-9ee2-eb643601119a div.sk-container {display: inline-block;position: relative;}</style><div id=\"sk-e3b203eb-0b15-40d3-9ee2-eb643601119a\" class\"sk-top-container\"><div class=\"sk-container\"><div class=\"sk-item sk-dashed-wrapped\"><div class=\"sk-label-container\"><div class=\"sk-label sk-toggleable\"><input class=\"sk-toggleable__control sk-hidden--visually\" id=\"266edf43-760d-4ff7-bc05-372eebe79859\" type=\"checkbox\" ><label class=\"sk-toggleable__label\" for=\"266edf43-760d-4ff7-bc05-372eebe79859\">StackingClassifier</label><div class=\"sk-toggleable__content\"><pre>StackingClassifier(estimators=[('Random_Forest', RandomForestClassifier()),\n",
       "                               ('Xgboost',\n",
       "                                XGBClassifier(base_score=None, booster=None,\n",
       "                                              colsample_bylevel=None,\n",
       "                                              colsample_bynode=None,\n",
       "                                              colsample_bytree=None, gamma=None,\n",
       "                                              gpu_id=None,\n",
       "                                              importance_type='gain',\n",
       "                                              interaction_constraints=None,\n",
       "                                              learning_rate=None,\n",
       "                                              max_delta_step=None,\n",
       "                                              max_depth=None,\n",
       "                                              min_child_weight=None,\n",
       "                                              missing=nan,\n",
       "                                              monotone_constraints=None,\n",
       "                                              n_estimators=100, n_jobs=None,\n",
       "                                              num_parallel_tree=None,\n",
       "                                              random_state=None, reg_alpha=None,\n",
       "                                              reg_lambda=None,\n",
       "                                              scale_pos_weight=None,\n",
       "                                              subsample=None, tree_method=None,\n",
       "                                              validate_parameters=None,\n",
       "                                              verbosity=None)),\n",
       "                               ('SVM', LinearSVC())],\n",
       "                   final_estimator=LogisticRegression(n_jobs=-1, verbose=True),\n",
       "                   n_jobs=-1, verbose=True)</pre></div></div></div><div class=\"sk-serial\"><div class=\"sk-item\"><div class=\"sk-serial\"><div class=\"sk-item\"><div class=\"sk-parallel\"><div class=\"sk-parallel-item\"><div class=\"sk-item\"><div class=\"sk-label-container\"><div class=\"sk-label sk-toggleable\"><label>Random_Forest</label></div></div><div class=\"sk-serial\"><div class=\"sk-item\"><div class=\"sk-estimator sk-toggleable\"><input class=\"sk-toggleable__control sk-hidden--visually\" id=\"7fea0316-5737-4722-9b91-a74c3a8d6c0b\" type=\"checkbox\" ><label class=\"sk-toggleable__label\" for=\"7fea0316-5737-4722-9b91-a74c3a8d6c0b\">RandomForestClassifier</label><div class=\"sk-toggleable__content\"><pre>RandomForestClassifier()</pre></div></div></div></div></div></div><div class=\"sk-parallel-item\"><div class=\"sk-item\"><div class=\"sk-label-container\"><div class=\"sk-label sk-toggleable\"><label>Xgboost</label></div></div><div class=\"sk-serial\"><div class=\"sk-item\"><div class=\"sk-estimator sk-toggleable\"><input class=\"sk-toggleable__control sk-hidden--visually\" id=\"718c1185-d2ac-43ec-9c25-e72a1379c360\" type=\"checkbox\" ><label class=\"sk-toggleable__label\" for=\"718c1185-d2ac-43ec-9c25-e72a1379c360\">XGBClassifier</label><div class=\"sk-toggleable__content\"><pre>XGBClassifier(base_score=None, booster=None, colsample_bylevel=None,\n",
       "              colsample_bynode=None, colsample_bytree=None, gamma=None,\n",
       "              gpu_id=None, importance_type='gain', interaction_constraints=None,\n",
       "              learning_rate=None, max_delta_step=None, max_depth=None,\n",
       "              min_child_weight=None, missing=nan, monotone_constraints=None,\n",
       "              n_estimators=100, n_jobs=None, num_parallel_tree=None,\n",
       "              random_state=None, reg_alpha=None, reg_lambda=None,\n",
       "              scale_pos_weight=None, subsample=None, tree_method=None,\n",
       "              validate_parameters=None, verbosity=None)</pre></div></div></div></div></div></div><div class=\"sk-parallel-item\"><div class=\"sk-item\"><div class=\"sk-label-container\"><div class=\"sk-label sk-toggleable\"><label>SVM</label></div></div><div class=\"sk-serial\"><div class=\"sk-item\"><div class=\"sk-estimator sk-toggleable\"><input class=\"sk-toggleable__control sk-hidden--visually\" id=\"b56790e9-6834-4f86-a025-f0a16cd21740\" type=\"checkbox\" ><label class=\"sk-toggleable__label\" for=\"b56790e9-6834-4f86-a025-f0a16cd21740\">LinearSVC</label><div class=\"sk-toggleable__content\"><pre>LinearSVC()</pre></div></div></div></div></div></div></div></div><div class=\"sk-item\"><div class=\"sk-estimator sk-toggleable\"><input class=\"sk-toggleable__control sk-hidden--visually\" id=\"6c18a82d-7aa1-437f-86aa-ca267079b100\" type=\"checkbox\" ><label class=\"sk-toggleable__label\" for=\"6c18a82d-7aa1-437f-86aa-ca267079b100\">LogisticRegression</label><div class=\"sk-toggleable__content\"><pre>LogisticRegression(n_jobs=-1, verbose=True)</pre></div></div></div></div></div></div></div></div></div>"
      ],
      "text/plain": [
       "StackingClassifier(estimators=[('Random_Forest', RandomForestClassifier()),\n",
       "                               ('Xgboost',\n",
       "                                XGBClassifier(base_score=None, booster=None,\n",
       "                                              colsample_bylevel=None,\n",
       "                                              colsample_bynode=None,\n",
       "                                              colsample_bytree=None, gamma=None,\n",
       "                                              gpu_id=None,\n",
       "                                              importance_type='gain',\n",
       "                                              interaction_constraints=None,\n",
       "                                              learning_rate=None,\n",
       "                                              max_delta_step=None,\n",
       "                                              max_depth=None,\n",
       "                                              min_child_weight=None,\n",
       "                                              missing=nan,\n",
       "                                              monotone_constraints=None,\n",
       "                                              n_estimators=100, n_jobs=None,\n",
       "                                              num_parallel_tree=None,\n",
       "                                              random_state=None, reg_alpha=None,\n",
       "                                              reg_lambda=None,\n",
       "                                              scale_pos_weight=None,\n",
       "                                              subsample=None, tree_method=None,\n",
       "                                              validate_parameters=None,\n",
       "                                              verbosity=None)),\n",
       "                               ('SVM', LinearSVC())],\n",
       "                   final_estimator=LogisticRegression(n_jobs=-1, verbose=True),\n",
       "                   n_jobs=-1, verbose=True)"
      ]
     },
     "execution_count": 268,
     "metadata": {},
     "output_type": "execute_result"
    }
   ],
   "source": [
    "stacking_classifier"
   ]
  },
  {
   "cell_type": "code",
   "execution_count": null,
   "metadata": {},
   "outputs": [],
   "source": []
  },
  {
   "cell_type": "code",
   "execution_count": 269,
   "metadata": {
    "ExecuteTime": {
     "end_time": "2022-04-28T16:32:58.110357Z",
     "start_time": "2022-04-28T16:32:57.889342Z"
    }
   },
   "outputs": [
    {
     "data": {
      "text/html": [
       "<style>#sk-9ab14aba-a0cd-46de-8c62-f278c9deec2e {color: black;background-color: white;}#sk-9ab14aba-a0cd-46de-8c62-f278c9deec2e pre{padding: 0;}#sk-9ab14aba-a0cd-46de-8c62-f278c9deec2e div.sk-toggleable {background-color: white;}#sk-9ab14aba-a0cd-46de-8c62-f278c9deec2e label.sk-toggleable__label {cursor: pointer;display: block;width: 100%;margin-bottom: 0;padding: 0.2em 0.3em;box-sizing: border-box;text-align: center;}#sk-9ab14aba-a0cd-46de-8c62-f278c9deec2e div.sk-toggleable__content {max-height: 0;max-width: 0;overflow: hidden;text-align: left;background-color: #f0f8ff;}#sk-9ab14aba-a0cd-46de-8c62-f278c9deec2e div.sk-toggleable__content pre {margin: 0.2em;color: black;border-radius: 0.25em;background-color: #f0f8ff;}#sk-9ab14aba-a0cd-46de-8c62-f278c9deec2e input.sk-toggleable__control:checked~div.sk-toggleable__content {max-height: 200px;max-width: 100%;overflow: auto;}#sk-9ab14aba-a0cd-46de-8c62-f278c9deec2e div.sk-estimator input.sk-toggleable__control:checked~label.sk-toggleable__label {background-color: #d4ebff;}#sk-9ab14aba-a0cd-46de-8c62-f278c9deec2e div.sk-label input.sk-toggleable__control:checked~label.sk-toggleable__label {background-color: #d4ebff;}#sk-9ab14aba-a0cd-46de-8c62-f278c9deec2e input.sk-hidden--visually {border: 0;clip: rect(1px 1px 1px 1px);clip: rect(1px, 1px, 1px, 1px);height: 1px;margin: -1px;overflow: hidden;padding: 0;position: absolute;width: 1px;}#sk-9ab14aba-a0cd-46de-8c62-f278c9deec2e div.sk-estimator {font-family: monospace;background-color: #f0f8ff;margin: 0.25em 0.25em;border: 1px dotted black;border-radius: 0.25em;box-sizing: border-box;}#sk-9ab14aba-a0cd-46de-8c62-f278c9deec2e div.sk-estimator:hover {background-color: #d4ebff;}#sk-9ab14aba-a0cd-46de-8c62-f278c9deec2e div.sk-parallel-item::after {content: \"\";width: 100%;border-bottom: 1px solid gray;flex-grow: 1;}#sk-9ab14aba-a0cd-46de-8c62-f278c9deec2e div.sk-label:hover label.sk-toggleable__label {background-color: #d4ebff;}#sk-9ab14aba-a0cd-46de-8c62-f278c9deec2e div.sk-serial::before {content: \"\";position: absolute;border-left: 1px solid gray;box-sizing: border-box;top: 2em;bottom: 0;left: 50%;}#sk-9ab14aba-a0cd-46de-8c62-f278c9deec2e div.sk-serial {display: flex;flex-direction: column;align-items: center;background-color: white;}#sk-9ab14aba-a0cd-46de-8c62-f278c9deec2e div.sk-item {z-index: 1;}#sk-9ab14aba-a0cd-46de-8c62-f278c9deec2e div.sk-parallel {display: flex;align-items: stretch;justify-content: center;background-color: white;}#sk-9ab14aba-a0cd-46de-8c62-f278c9deec2e div.sk-parallel-item {display: flex;flex-direction: column;position: relative;background-color: white;}#sk-9ab14aba-a0cd-46de-8c62-f278c9deec2e div.sk-parallel-item:first-child::after {align-self: flex-end;width: 50%;}#sk-9ab14aba-a0cd-46de-8c62-f278c9deec2e div.sk-parallel-item:last-child::after {align-self: flex-start;width: 50%;}#sk-9ab14aba-a0cd-46de-8c62-f278c9deec2e div.sk-parallel-item:only-child::after {width: 0;}#sk-9ab14aba-a0cd-46de-8c62-f278c9deec2e div.sk-dashed-wrapped {border: 1px dashed gray;margin: 0.2em;box-sizing: border-box;padding-bottom: 0.1em;background-color: white;position: relative;}#sk-9ab14aba-a0cd-46de-8c62-f278c9deec2e div.sk-label label {font-family: monospace;font-weight: bold;background-color: white;display: inline-block;line-height: 1.2em;}#sk-9ab14aba-a0cd-46de-8c62-f278c9deec2e div.sk-label-container {position: relative;z-index: 2;text-align: center;}#sk-9ab14aba-a0cd-46de-8c62-f278c9deec2e div.sk-container {display: inline-block;position: relative;}</style><div id=\"sk-9ab14aba-a0cd-46de-8c62-f278c9deec2e\" class\"sk-top-container\"><div class=\"sk-container\"><div class=\"sk-item sk-dashed-wrapped\"><div class=\"sk-label-container\"><div class=\"sk-label sk-toggleable\"><input class=\"sk-toggleable__control sk-hidden--visually\" id=\"f8763dd0-6251-44aa-978e-7eac9747cb72\" type=\"checkbox\" ><label class=\"sk-toggleable__label\" for=\"f8763dd0-6251-44aa-978e-7eac9747cb72\">Pipeline</label><div class=\"sk-toggleable__content\"><pre>Pipeline(steps=[('preprocessor',\n",
       "                 Pipeline(steps=[('data_transformer',\n",
       "                                  ColumnTransformer(transformers=[('numerical',\n",
       "                                                                   Pipeline(steps=[('imputer',\n",
       "                                                                                    SimpleImputer()),\n",
       "                                                                                   ('scaler',\n",
       "                                                                                    StandardScaler()),\n",
       "                                                                                   ('fs',\n",
       "                                                                                    SelectKBest(k='all'))]),\n",
       "                                                                   ['Age',\n",
       "                                                                    'Height',\n",
       "                                                                    'Weight']),\n",
       "                                                                  ('categorical',\n",
       "                                                                   Pipeline(steps=[('imputer',\n",
       "                                                                                    SimpleImputer()),\n",
       "                                                                                   ('onehot',\n",
       "                                                                                    OneHotEncoder(handle_unknown='ignore'))...\n",
       "                                                               max_delta_step=None,\n",
       "                                                               max_depth=None,\n",
       "                                                               min_child_weight=None,\n",
       "                                                               missing=nan,\n",
       "                                                               monotone_constraints=None,\n",
       "                                                               n_estimators=100,\n",
       "                                                               n_jobs=None,\n",
       "                                                               num_parallel_tree=None,\n",
       "                                                               random_state=None,\n",
       "                                                               reg_alpha=None,\n",
       "                                                               reg_lambda=None,\n",
       "                                                               scale_pos_weight=None,\n",
       "                                                               subsample=None,\n",
       "                                                               tree_method=None,\n",
       "                                                               validate_parameters=None,\n",
       "                                                               verbosity=None))],\n",
       "                                    final_estimator=LogisticRegression(n_jobs=-1),\n",
       "                                    n_jobs=-1))])</pre></div></div></div><div class=\"sk-serial\"><div class=\"sk-item\"><div class=\"sk-label-container\"><div class=\"sk-label sk-toggleable\"><input class=\"sk-toggleable__control sk-hidden--visually\" id=\"c92cd5ff-6925-4adc-a267-6d5fb7d060f5\" type=\"checkbox\" ><label class=\"sk-toggleable__label\" for=\"c92cd5ff-6925-4adc-a267-6d5fb7d060f5\">preprocessor: Pipeline</label><div class=\"sk-toggleable__content\"><pre>Pipeline(steps=[('data_transformer',\n",
       "                 ColumnTransformer(transformers=[('numerical',\n",
       "                                                  Pipeline(steps=[('imputer',\n",
       "                                                                   SimpleImputer()),\n",
       "                                                                  ('scaler',\n",
       "                                                                   StandardScaler()),\n",
       "                                                                  ('fs',\n",
       "                                                                   SelectKBest(k='all'))]),\n",
       "                                                  ['Age', 'Height', 'Weight']),\n",
       "                                                 ('categorical',\n",
       "                                                  Pipeline(steps=[('imputer',\n",
       "                                                                   SimpleImputer()),\n",
       "                                                                  ('onehot',\n",
       "                                                                   OneHotEncoder(handle_unknown='ignore'))]),\n",
       "                                                  ['Getting up', 'God',\n",
       "                                                   'Health', 'Borrowed stuff',\n",
       "                                                   'Self-criticism',\n",
       "                                                   'Elections',\n",
       "                                                   'Number of friends',\n",
       "                                                   'Spending on healthy eating',\n",
       "                                                   'Music', 'Movies',\n",
       "                                                   'Friends versus money',\n",
       "                                                   'Changing the past'])]))])</pre></div></div></div><div class=\"sk-serial\"><div class=\"sk-item sk-dashed-wrapped\"><div class=\"sk-label-container\"><div class=\"sk-label sk-toggleable\"><input class=\"sk-toggleable__control sk-hidden--visually\" id=\"6984c417-5dc7-43d3-9f1e-896742f28498\" type=\"checkbox\" ><label class=\"sk-toggleable__label\" for=\"6984c417-5dc7-43d3-9f1e-896742f28498\">data_transformer: ColumnTransformer</label><div class=\"sk-toggleable__content\"><pre>ColumnTransformer(transformers=[('numerical',\n",
       "                                 Pipeline(steps=[('imputer', SimpleImputer()),\n",
       "                                                 ('scaler', StandardScaler()),\n",
       "                                                 ('fs', SelectKBest(k='all'))]),\n",
       "                                 ['Age', 'Height', 'Weight']),\n",
       "                                ('categorical',\n",
       "                                 Pipeline(steps=[('imputer', SimpleImputer()),\n",
       "                                                 ('onehot',\n",
       "                                                  OneHotEncoder(handle_unknown='ignore'))]),\n",
       "                                 ['Getting up', 'God', 'Health',\n",
       "                                  'Borrowed stuff', 'Self-criticism',\n",
       "                                  'Elections', 'Number of friends',\n",
       "                                  'Spending on healthy eating', 'Music',\n",
       "                                  'Movies', 'Friends versus money',\n",
       "                                  'Changing the past'])])</pre></div></div></div><div class=\"sk-parallel\"><div class=\"sk-parallel-item\"><div class=\"sk-item\"><div class=\"sk-label-container\"><div class=\"sk-label sk-toggleable\"><input class=\"sk-toggleable__control sk-hidden--visually\" id=\"ed9671e7-ecf2-4115-8894-020ef1579fd7\" type=\"checkbox\" ><label class=\"sk-toggleable__label\" for=\"ed9671e7-ecf2-4115-8894-020ef1579fd7\">numerical</label><div class=\"sk-toggleable__content\"><pre>['Age', 'Height', 'Weight']</pre></div></div></div><div class=\"sk-serial\"><div class=\"sk-item\"><div class=\"sk-serial\"><div class=\"sk-item\"><div class=\"sk-estimator sk-toggleable\"><input class=\"sk-toggleable__control sk-hidden--visually\" id=\"a5d81edd-ea42-4c9a-9789-7857552ff2e4\" type=\"checkbox\" ><label class=\"sk-toggleable__label\" for=\"a5d81edd-ea42-4c9a-9789-7857552ff2e4\">SimpleImputer</label><div class=\"sk-toggleable__content\"><pre>SimpleImputer()</pre></div></div></div><div class=\"sk-item\"><div class=\"sk-estimator sk-toggleable\"><input class=\"sk-toggleable__control sk-hidden--visually\" id=\"fee85c96-6412-40ab-8a7e-5911f38bf290\" type=\"checkbox\" ><label class=\"sk-toggleable__label\" for=\"fee85c96-6412-40ab-8a7e-5911f38bf290\">StandardScaler</label><div class=\"sk-toggleable__content\"><pre>StandardScaler()</pre></div></div></div><div class=\"sk-item\"><div class=\"sk-estimator sk-toggleable\"><input class=\"sk-toggleable__control sk-hidden--visually\" id=\"56b3e777-7356-4302-acfb-4f0472224121\" type=\"checkbox\" ><label class=\"sk-toggleable__label\" for=\"56b3e777-7356-4302-acfb-4f0472224121\">SelectKBest</label><div class=\"sk-toggleable__content\"><pre>SelectKBest(k='all')</pre></div></div></div></div></div></div></div></div><div class=\"sk-parallel-item\"><div class=\"sk-item\"><div class=\"sk-label-container\"><div class=\"sk-label sk-toggleable\"><input class=\"sk-toggleable__control sk-hidden--visually\" id=\"c1cc4e09-a0a6-4fa5-8d9f-a74e032fe7a0\" type=\"checkbox\" ><label class=\"sk-toggleable__label\" for=\"c1cc4e09-a0a6-4fa5-8d9f-a74e032fe7a0\">categorical</label><div class=\"sk-toggleable__content\"><pre>['Getting up', 'God', 'Health', 'Borrowed stuff', 'Self-criticism', 'Elections', 'Number of friends', 'Spending on healthy eating', 'Music', 'Movies', 'Friends versus money', 'Changing the past']</pre></div></div></div><div class=\"sk-serial\"><div class=\"sk-item\"><div class=\"sk-serial\"><div class=\"sk-item\"><div class=\"sk-estimator sk-toggleable\"><input class=\"sk-toggleable__control sk-hidden--visually\" id=\"f8bd68b8-faa1-45eb-95ea-57f102cd865b\" type=\"checkbox\" ><label class=\"sk-toggleable__label\" for=\"f8bd68b8-faa1-45eb-95ea-57f102cd865b\">SimpleImputer</label><div class=\"sk-toggleable__content\"><pre>SimpleImputer()</pre></div></div></div><div class=\"sk-item\"><div class=\"sk-estimator sk-toggleable\"><input class=\"sk-toggleable__control sk-hidden--visually\" id=\"24527c43-e6b9-4e76-a356-89c2473ecb7a\" type=\"checkbox\" ><label class=\"sk-toggleable__label\" for=\"24527c43-e6b9-4e76-a356-89c2473ecb7a\">OneHotEncoder</label><div class=\"sk-toggleable__content\"><pre>OneHotEncoder(handle_unknown='ignore')</pre></div></div></div></div></div></div></div></div></div></div></div></div><div class=\"sk-item sk-dashed-wrapped\"><div class=\"sk-label-container\"><div class=\"sk-label sk-toggleable\"><input class=\"sk-toggleable__control sk-hidden--visually\" id=\"a1bf938f-eee1-4d40-a370-f698f60bfb68\" type=\"checkbox\" ><label class=\"sk-toggleable__label\" for=\"a1bf938f-eee1-4d40-a370-f698f60bfb68\">classifier: StackingClassifier</label><div class=\"sk-toggleable__content\"><pre>StackingClassifier(estimators=[('Random_Forest', RandomForestClassifier()),\n",
       "                               ('SVM', LinearSVC()),\n",
       "                               ('Xgboost',\n",
       "                                XGBClassifier(base_score=None, booster=None,\n",
       "                                              colsample_bylevel=None,\n",
       "                                              colsample_bynode=None,\n",
       "                                              colsample_bytree=None, gamma=None,\n",
       "                                              gpu_id=None,\n",
       "                                              importance_type='gain',\n",
       "                                              interaction_constraints=None,\n",
       "                                              learning_rate=None,\n",
       "                                              max_delta_step=None,\n",
       "                                              max_depth=None,\n",
       "                                              min_child_weight=None,\n",
       "                                              missing=nan,\n",
       "                                              monotone_constraints=None,\n",
       "                                              n_estimators=100, n_jobs=None,\n",
       "                                              num_parallel_tree=None,\n",
       "                                              random_state=None, reg_alpha=None,\n",
       "                                              reg_lambda=None,\n",
       "                                              scale_pos_weight=None,\n",
       "                                              subsample=None, tree_method=None,\n",
       "                                              validate_parameters=None,\n",
       "                                              verbosity=None))],\n",
       "                   final_estimator=LogisticRegression(n_jobs=-1), n_jobs=-1)</pre></div></div></div><div class=\"sk-serial\"><div class=\"sk-item\"><div class=\"sk-serial\"><div class=\"sk-item\"><div class=\"sk-parallel\"><div class=\"sk-parallel-item\"><div class=\"sk-item\"><div class=\"sk-label-container\"><div class=\"sk-label sk-toggleable\"><label>Random_Forest</label></div></div><div class=\"sk-serial\"><div class=\"sk-item\"><div class=\"sk-estimator sk-toggleable\"><input class=\"sk-toggleable__control sk-hidden--visually\" id=\"55cdde89-2aee-4179-80a9-c54337663a74\" type=\"checkbox\" ><label class=\"sk-toggleable__label\" for=\"55cdde89-2aee-4179-80a9-c54337663a74\">RandomForestClassifier</label><div class=\"sk-toggleable__content\"><pre>RandomForestClassifier()</pre></div></div></div></div></div></div><div class=\"sk-parallel-item\"><div class=\"sk-item\"><div class=\"sk-label-container\"><div class=\"sk-label sk-toggleable\"><label>SVM</label></div></div><div class=\"sk-serial\"><div class=\"sk-item\"><div class=\"sk-estimator sk-toggleable\"><input class=\"sk-toggleable__control sk-hidden--visually\" id=\"a4ef94ab-835a-40b8-badc-b7fbf34a5dbb\" type=\"checkbox\" ><label class=\"sk-toggleable__label\" for=\"a4ef94ab-835a-40b8-badc-b7fbf34a5dbb\">LinearSVC</label><div class=\"sk-toggleable__content\"><pre>LinearSVC()</pre></div></div></div></div></div></div><div class=\"sk-parallel-item\"><div class=\"sk-item\"><div class=\"sk-label-container\"><div class=\"sk-label sk-toggleable\"><label>Xgboost</label></div></div><div class=\"sk-serial\"><div class=\"sk-item\"><div class=\"sk-estimator sk-toggleable\"><input class=\"sk-toggleable__control sk-hidden--visually\" id=\"764df953-a340-467d-8350-23b53b671763\" type=\"checkbox\" ><label class=\"sk-toggleable__label\" for=\"764df953-a340-467d-8350-23b53b671763\">XGBClassifier</label><div class=\"sk-toggleable__content\"><pre>XGBClassifier(base_score=None, booster=None, colsample_bylevel=None,\n",
       "              colsample_bynode=None, colsample_bytree=None, gamma=None,\n",
       "              gpu_id=None, importance_type='gain', interaction_constraints=None,\n",
       "              learning_rate=None, max_delta_step=None, max_depth=None,\n",
       "              min_child_weight=None, missing=nan, monotone_constraints=None,\n",
       "              n_estimators=100, n_jobs=None, num_parallel_tree=None,\n",
       "              random_state=None, reg_alpha=None, reg_lambda=None,\n",
       "              scale_pos_weight=None, subsample=None, tree_method=None,\n",
       "              validate_parameters=None, verbosity=None)</pre></div></div></div></div></div></div></div></div><div class=\"sk-item\"><div class=\"sk-estimator sk-toggleable\"><input class=\"sk-toggleable__control sk-hidden--visually\" id=\"b3015c7e-675c-4a18-808f-3103c8c20a83\" type=\"checkbox\" ><label class=\"sk-toggleable__label\" for=\"b3015c7e-675c-4a18-808f-3103c8c20a83\">LogisticRegression</label><div class=\"sk-toggleable__content\"><pre>LogisticRegression(n_jobs=-1)</pre></div></div></div></div></div></div></div></div></div></div></div>"
      ],
      "text/plain": [
       "Pipeline(steps=[('preprocessor',\n",
       "                 Pipeline(steps=[('data_transformer',\n",
       "                                  ColumnTransformer(transformers=[('numerical',\n",
       "                                                                   Pipeline(steps=[('imputer',\n",
       "                                                                                    SimpleImputer()),\n",
       "                                                                                   ('scaler',\n",
       "                                                                                    StandardScaler()),\n",
       "                                                                                   ('fs',\n",
       "                                                                                    SelectKBest(k='all'))]),\n",
       "                                                                   ['Age',\n",
       "                                                                    'Height',\n",
       "                                                                    'Weight']),\n",
       "                                                                  ('categorical',\n",
       "                                                                   Pipeline(steps=[('imputer',\n",
       "                                                                                    SimpleImputer()),\n",
       "                                                                                   ('onehot',\n",
       "                                                                                    OneHotEncoder(handle_unknown='ignore'))...\n",
       "                                                               max_delta_step=None,\n",
       "                                                               max_depth=None,\n",
       "                                                               min_child_weight=None,\n",
       "                                                               missing=nan,\n",
       "                                                               monotone_constraints=None,\n",
       "                                                               n_estimators=100,\n",
       "                                                               n_jobs=None,\n",
       "                                                               num_parallel_tree=None,\n",
       "                                                               random_state=None,\n",
       "                                                               reg_alpha=None,\n",
       "                                                               reg_lambda=None,\n",
       "                                                               scale_pos_weight=None,\n",
       "                                                               subsample=None,\n",
       "                                                               tree_method=None,\n",
       "                                                               validate_parameters=None,\n",
       "                                                               verbosity=None))],\n",
       "                                    final_estimator=LogisticRegression(n_jobs=-1),\n",
       "                                    n_jobs=-1))])"
      ]
     },
     "execution_count": 269,
     "metadata": {},
     "output_type": "execute_result"
    }
   ],
   "source": [
    "# получим список эстиматоров\n",
    "estimators = [\n",
    "    (\"Random_Forest\", RandomForestClassifier()),\n",
    "    (\"SVM\", LinearSVC()),\n",
    "    (\"Xgboost\", xgboost.XGBClassifier()),\n",
    "]\n",
    "\n",
    "# построим классификатор используя стекинг и наш список классификаторов\n",
    "stacking_classifier = StackingClassifier(\n",
    "    estimators=estimators, final_estimator=LogisticRegression(n_jobs=-1), n_jobs=-1\n",
    ")\n",
    "\n",
    "classifier_pipline = Pipeline(\n",
    "    steps=[(\"preprocessor\", preprocessor), (\"classifier\", stacking_classifier)]\n",
    ")\n",
    "\n",
    "classifier_pipline"
   ]
  },
  {
   "cell_type": "code",
   "execution_count": null,
   "metadata": {},
   "outputs": [],
   "source": []
  },
  {
   "cell_type": "code",
   "execution_count": null,
   "metadata": {},
   "outputs": [],
   "source": []
  },
  {
   "cell_type": "code",
   "execution_count": null,
   "metadata": {},
   "outputs": [],
   "source": []
  },
  {
   "cell_type": "code",
   "execution_count": null,
   "metadata": {},
   "outputs": [],
   "source": []
  },
  {
   "cell_type": "markdown",
   "metadata": {},
   "source": [
    "# Чуть более хитрый стекинг/блендинг моделей"
   ]
  },
  {
   "cell_type": "code",
   "execution_count": 270,
   "metadata": {
    "ExecuteTime": {
     "end_time": "2022-04-28T16:32:59.169754Z",
     "start_time": "2022-04-28T16:32:58.112361Z"
    }
   },
   "outputs": [
    {
     "data": {
      "text/html": [
       "<style>#sk-b225fbb7-c8d9-4a95-a72f-18d2eb0b032b {color: black;background-color: white;}#sk-b225fbb7-c8d9-4a95-a72f-18d2eb0b032b pre{padding: 0;}#sk-b225fbb7-c8d9-4a95-a72f-18d2eb0b032b div.sk-toggleable {background-color: white;}#sk-b225fbb7-c8d9-4a95-a72f-18d2eb0b032b label.sk-toggleable__label {cursor: pointer;display: block;width: 100%;margin-bottom: 0;padding: 0.2em 0.3em;box-sizing: border-box;text-align: center;}#sk-b225fbb7-c8d9-4a95-a72f-18d2eb0b032b div.sk-toggleable__content {max-height: 0;max-width: 0;overflow: hidden;text-align: left;background-color: #f0f8ff;}#sk-b225fbb7-c8d9-4a95-a72f-18d2eb0b032b div.sk-toggleable__content pre {margin: 0.2em;color: black;border-radius: 0.25em;background-color: #f0f8ff;}#sk-b225fbb7-c8d9-4a95-a72f-18d2eb0b032b input.sk-toggleable__control:checked~div.sk-toggleable__content {max-height: 200px;max-width: 100%;overflow: auto;}#sk-b225fbb7-c8d9-4a95-a72f-18d2eb0b032b div.sk-estimator input.sk-toggleable__control:checked~label.sk-toggleable__label {background-color: #d4ebff;}#sk-b225fbb7-c8d9-4a95-a72f-18d2eb0b032b div.sk-label input.sk-toggleable__control:checked~label.sk-toggleable__label {background-color: #d4ebff;}#sk-b225fbb7-c8d9-4a95-a72f-18d2eb0b032b input.sk-hidden--visually {border: 0;clip: rect(1px 1px 1px 1px);clip: rect(1px, 1px, 1px, 1px);height: 1px;margin: -1px;overflow: hidden;padding: 0;position: absolute;width: 1px;}#sk-b225fbb7-c8d9-4a95-a72f-18d2eb0b032b div.sk-estimator {font-family: monospace;background-color: #f0f8ff;margin: 0.25em 0.25em;border: 1px dotted black;border-radius: 0.25em;box-sizing: border-box;}#sk-b225fbb7-c8d9-4a95-a72f-18d2eb0b032b div.sk-estimator:hover {background-color: #d4ebff;}#sk-b225fbb7-c8d9-4a95-a72f-18d2eb0b032b div.sk-parallel-item::after {content: \"\";width: 100%;border-bottom: 1px solid gray;flex-grow: 1;}#sk-b225fbb7-c8d9-4a95-a72f-18d2eb0b032b div.sk-label:hover label.sk-toggleable__label {background-color: #d4ebff;}#sk-b225fbb7-c8d9-4a95-a72f-18d2eb0b032b div.sk-serial::before {content: \"\";position: absolute;border-left: 1px solid gray;box-sizing: border-box;top: 2em;bottom: 0;left: 50%;}#sk-b225fbb7-c8d9-4a95-a72f-18d2eb0b032b div.sk-serial {display: flex;flex-direction: column;align-items: center;background-color: white;}#sk-b225fbb7-c8d9-4a95-a72f-18d2eb0b032b div.sk-item {z-index: 1;}#sk-b225fbb7-c8d9-4a95-a72f-18d2eb0b032b div.sk-parallel {display: flex;align-items: stretch;justify-content: center;background-color: white;}#sk-b225fbb7-c8d9-4a95-a72f-18d2eb0b032b div.sk-parallel-item {display: flex;flex-direction: column;position: relative;background-color: white;}#sk-b225fbb7-c8d9-4a95-a72f-18d2eb0b032b div.sk-parallel-item:first-child::after {align-self: flex-end;width: 50%;}#sk-b225fbb7-c8d9-4a95-a72f-18d2eb0b032b div.sk-parallel-item:last-child::after {align-self: flex-start;width: 50%;}#sk-b225fbb7-c8d9-4a95-a72f-18d2eb0b032b div.sk-parallel-item:only-child::after {width: 0;}#sk-b225fbb7-c8d9-4a95-a72f-18d2eb0b032b div.sk-dashed-wrapped {border: 1px dashed gray;margin: 0.2em;box-sizing: border-box;padding-bottom: 0.1em;background-color: white;position: relative;}#sk-b225fbb7-c8d9-4a95-a72f-18d2eb0b032b div.sk-label label {font-family: monospace;font-weight: bold;background-color: white;display: inline-block;line-height: 1.2em;}#sk-b225fbb7-c8d9-4a95-a72f-18d2eb0b032b div.sk-label-container {position: relative;z-index: 2;text-align: center;}#sk-b225fbb7-c8d9-4a95-a72f-18d2eb0b032b div.sk-container {display: inline-block;position: relative;}</style><div id=\"sk-b225fbb7-c8d9-4a95-a72f-18d2eb0b032b\" class\"sk-top-container\"><div class=\"sk-container\"><div class=\"sk-item sk-dashed-wrapped\"><div class=\"sk-label-container\"><div class=\"sk-label sk-toggleable\"><input class=\"sk-toggleable__control sk-hidden--visually\" id=\"6e4fd4f9-76c6-4faf-97ff-1cfa4fb35097\" type=\"checkbox\" ><label class=\"sk-toggleable__label\" for=\"6e4fd4f9-76c6-4faf-97ff-1cfa4fb35097\">StackingClassifier</label><div class=\"sk-toggleable__content\"><pre>StackingClassifier(estimators=[('SVM',\n",
       "                                Pipeline(steps=[('pipeline',\n",
       "                                                 Pipeline(steps=[('data_transformer',\n",
       "                                                                  ColumnTransformer(transformers=[('numerical',\n",
       "                                                                                                   Pipeline(steps=[('imputer',\n",
       "                                                                                                                    SimpleImputer()),\n",
       "                                                                                                                   ('scaler',\n",
       "                                                                                                                    StandardScaler()),\n",
       "                                                                                                                   ('fs',\n",
       "                                                                                                                    SelectKBest(k='all'))]),\n",
       "                                                                                                   ['Age',\n",
       "                                                                                                    'Height',\n",
       "                                                                                                    'Weight']),\n",
       "                                                                                                  ('categorical',\n",
       "                                                                                                   Pipeline(steps=[('imputer',\n",
       "                                                                                                                    SimpleImputer()),\n",
       "                                                                                                                   ('onehot',\n",
       "                                                                                                                    OneHo...\n",
       "                                                               max_depth=None,\n",
       "                                                               min_child_weight=None,\n",
       "                                                               missing=nan,\n",
       "                                                               monotone_constraints=None,\n",
       "                                                               n_estimators=100,\n",
       "                                                               n_jobs=None,\n",
       "                                                               num_parallel_tree=None,\n",
       "                                                               random_state=None,\n",
       "                                                               reg_alpha=None,\n",
       "                                                               reg_lambda=None,\n",
       "                                                               scale_pos_weight=None,\n",
       "                                                               subsample=None,\n",
       "                                                               tree_method=None,\n",
       "                                                               validate_parameters=None,\n",
       "                                                               verbosity=None))]))],\n",
       "                   final_estimator=LogisticRegression(n_jobs=-1, verbose=True),\n",
       "                   n_jobs=-1, verbose=True)</pre></div></div></div><div class=\"sk-serial\"><div class=\"sk-item\"><div class=\"sk-serial\"><div class=\"sk-item\"><div class=\"sk-parallel\"><div class=\"sk-parallel-item\"><div class=\"sk-item\"><div class=\"sk-label-container\"><div class=\"sk-label sk-toggleable\"><label>SVM</label></div></div><div class=\"sk-serial\"><div class=\"sk-item\"><div class=\"sk-serial\"><div class=\"sk-item\"><div class=\"sk-label-container\"><div class=\"sk-label sk-toggleable\"><input class=\"sk-toggleable__control sk-hidden--visually\" id=\"238bd503-5f4e-49af-a08b-2b2e17f6abfa\" type=\"checkbox\" ><label class=\"sk-toggleable__label\" for=\"238bd503-5f4e-49af-a08b-2b2e17f6abfa\">pipeline: Pipeline</label><div class=\"sk-toggleable__content\"><pre>Pipeline(steps=[('data_transformer',\n",
       "                 ColumnTransformer(transformers=[('numerical',\n",
       "                                                  Pipeline(steps=[('imputer',\n",
       "                                                                   SimpleImputer()),\n",
       "                                                                  ('scaler',\n",
       "                                                                   StandardScaler()),\n",
       "                                                                  ('fs',\n",
       "                                                                   SelectKBest(k='all'))]),\n",
       "                                                  ['Age', 'Height', 'Weight']),\n",
       "                                                 ('categorical',\n",
       "                                                  Pipeline(steps=[('imputer',\n",
       "                                                                   SimpleImputer()),\n",
       "                                                                  ('onehot',\n",
       "                                                                   OneHotEncoder(handle_unknown='ignore'))]),\n",
       "                                                  ['Getting up', 'God',\n",
       "                                                   'Health', 'Borrowed stuff',\n",
       "                                                   'Self-criticism',\n",
       "                                                   'Elections',\n",
       "                                                   'Number of friends',\n",
       "                                                   'Spending on healthy eating',\n",
       "                                                   'Music', 'Movies',\n",
       "                                                   'Friends versus money',\n",
       "                                                   'Changing the past'])]))])</pre></div></div></div><div class=\"sk-serial\"><div class=\"sk-item sk-dashed-wrapped\"><div class=\"sk-label-container\"><div class=\"sk-label sk-toggleable\"><input class=\"sk-toggleable__control sk-hidden--visually\" id=\"f00f005f-668f-4185-bf92-ccbe296f4be9\" type=\"checkbox\" ><label class=\"sk-toggleable__label\" for=\"f00f005f-668f-4185-bf92-ccbe296f4be9\">data_transformer: ColumnTransformer</label><div class=\"sk-toggleable__content\"><pre>ColumnTransformer(transformers=[('numerical',\n",
       "                                 Pipeline(steps=[('imputer', SimpleImputer()),\n",
       "                                                 ('scaler', StandardScaler()),\n",
       "                                                 ('fs', SelectKBest(k='all'))]),\n",
       "                                 ['Age', 'Height', 'Weight']),\n",
       "                                ('categorical',\n",
       "                                 Pipeline(steps=[('imputer', SimpleImputer()),\n",
       "                                                 ('onehot',\n",
       "                                                  OneHotEncoder(handle_unknown='ignore'))]),\n",
       "                                 ['Getting up', 'God', 'Health',\n",
       "                                  'Borrowed stuff', 'Self-criticism',\n",
       "                                  'Elections', 'Number of friends',\n",
       "                                  'Spending on healthy eating', 'Music',\n",
       "                                  'Movies', 'Friends versus money',\n",
       "                                  'Changing the past'])])</pre></div></div></div><div class=\"sk-parallel\"><div class=\"sk-parallel-item\"><div class=\"sk-item\"><div class=\"sk-label-container\"><div class=\"sk-label sk-toggleable\"><input class=\"sk-toggleable__control sk-hidden--visually\" id=\"d27a1a9d-deba-4f7d-afa4-dd9953d3fa0d\" type=\"checkbox\" ><label class=\"sk-toggleable__label\" for=\"d27a1a9d-deba-4f7d-afa4-dd9953d3fa0d\">numerical</label><div class=\"sk-toggleable__content\"><pre>['Age', 'Height', 'Weight']</pre></div></div></div><div class=\"sk-serial\"><div class=\"sk-item\"><div class=\"sk-serial\"><div class=\"sk-item\"><div class=\"sk-estimator sk-toggleable\"><input class=\"sk-toggleable__control sk-hidden--visually\" id=\"ee2257ad-c4f1-4f39-9f19-ff442e96eaaf\" type=\"checkbox\" ><label class=\"sk-toggleable__label\" for=\"ee2257ad-c4f1-4f39-9f19-ff442e96eaaf\">SimpleImputer</label><div class=\"sk-toggleable__content\"><pre>SimpleImputer()</pre></div></div></div><div class=\"sk-item\"><div class=\"sk-estimator sk-toggleable\"><input class=\"sk-toggleable__control sk-hidden--visually\" id=\"a7abcc5c-2568-4fe2-a3ae-741b33dbe079\" type=\"checkbox\" ><label class=\"sk-toggleable__label\" for=\"a7abcc5c-2568-4fe2-a3ae-741b33dbe079\">StandardScaler</label><div class=\"sk-toggleable__content\"><pre>StandardScaler()</pre></div></div></div><div class=\"sk-item\"><div class=\"sk-estimator sk-toggleable\"><input class=\"sk-toggleable__control sk-hidden--visually\" id=\"54c9c08e-a3a3-44dd-bdf7-6c124e8e8604\" type=\"checkbox\" ><label class=\"sk-toggleable__label\" for=\"54c9c08e-a3a3-44dd-bdf7-6c124e8e8604\">SelectKBest</label><div class=\"sk-toggleable__content\"><pre>SelectKBest(k='all')</pre></div></div></div></div></div></div></div></div><div class=\"sk-parallel-item\"><div class=\"sk-item\"><div class=\"sk-label-container\"><div class=\"sk-label sk-toggleable\"><input class=\"sk-toggleable__control sk-hidden--visually\" id=\"da899ff5-82f2-49fe-b906-86cb4d448082\" type=\"checkbox\" ><label class=\"sk-toggleable__label\" for=\"da899ff5-82f2-49fe-b906-86cb4d448082\">categorical</label><div class=\"sk-toggleable__content\"><pre>['Getting up', 'God', 'Health', 'Borrowed stuff', 'Self-criticism', 'Elections', 'Number of friends', 'Spending on healthy eating', 'Music', 'Movies', 'Friends versus money', 'Changing the past']</pre></div></div></div><div class=\"sk-serial\"><div class=\"sk-item\"><div class=\"sk-serial\"><div class=\"sk-item\"><div class=\"sk-estimator sk-toggleable\"><input class=\"sk-toggleable__control sk-hidden--visually\" id=\"44de6f3b-cd0a-45ab-a291-9761383e6ddf\" type=\"checkbox\" ><label class=\"sk-toggleable__label\" for=\"44de6f3b-cd0a-45ab-a291-9761383e6ddf\">SimpleImputer</label><div class=\"sk-toggleable__content\"><pre>SimpleImputer()</pre></div></div></div><div class=\"sk-item\"><div class=\"sk-estimator sk-toggleable\"><input class=\"sk-toggleable__control sk-hidden--visually\" id=\"29f9dec4-abb1-4e24-9ddf-3886af45a2d6\" type=\"checkbox\" ><label class=\"sk-toggleable__label\" for=\"29f9dec4-abb1-4e24-9ddf-3886af45a2d6\">OneHotEncoder</label><div class=\"sk-toggleable__content\"><pre>OneHotEncoder(handle_unknown='ignore')</pre></div></div></div></div></div></div></div></div></div></div></div></div><div class=\"sk-item\"><div class=\"sk-estimator sk-toggleable\"><input class=\"sk-toggleable__control sk-hidden--visually\" id=\"aa5dfb7b-2bea-4be7-8891-163fd23ec19f\" type=\"checkbox\" ><label class=\"sk-toggleable__label\" for=\"aa5dfb7b-2bea-4be7-8891-163fd23ec19f\">PCA</label><div class=\"sk-toggleable__content\"><pre>PCA()</pre></div></div></div><div class=\"sk-item\"><div class=\"sk-estimator sk-toggleable\"><input class=\"sk-toggleable__control sk-hidden--visually\" id=\"2240fd10-9831-47d6-9eb8-d55ab744069d\" type=\"checkbox\" ><label class=\"sk-toggleable__label\" for=\"2240fd10-9831-47d6-9eb8-d55ab744069d\">LinearSVC</label><div class=\"sk-toggleable__content\"><pre>LinearSVC()</pre></div></div></div></div></div></div></div></div><div class=\"sk-parallel-item\"><div class=\"sk-item\"><div class=\"sk-label-container\"><div class=\"sk-label sk-toggleable\"><label>Random_Forest</label></div></div><div class=\"sk-serial\"><div class=\"sk-item\"><div class=\"sk-serial\"><div class=\"sk-item\"><div class=\"sk-label-container\"><div class=\"sk-label sk-toggleable\"><input class=\"sk-toggleable__control sk-hidden--visually\" id=\"927d242c-8a9e-483a-9101-bee3d15b4de9\" type=\"checkbox\" ><label class=\"sk-toggleable__label\" for=\"927d242c-8a9e-483a-9101-bee3d15b4de9\">pipeline: Pipeline</label><div class=\"sk-toggleable__content\"><pre>Pipeline(steps=[('data_transformer',\n",
       "                 ColumnTransformer(transformers=[('numerical',\n",
       "                                                  Pipeline(steps=[('imputer',\n",
       "                                                                   SimpleImputer()),\n",
       "                                                                  ('scaler',\n",
       "                                                                   StandardScaler()),\n",
       "                                                                  ('fs',\n",
       "                                                                   SelectKBest(k='all'))]),\n",
       "                                                  ['Age', 'Height', 'Weight']),\n",
       "                                                 ('categorical',\n",
       "                                                  Pipeline(steps=[('imputer',\n",
       "                                                                   SimpleImputer()),\n",
       "                                                                  ('onehot',\n",
       "                                                                   OneHotEncoder(handle_unknown='ignore'))]),\n",
       "                                                  ['Getting up', 'God',\n",
       "                                                   'Health', 'Borrowed stuff',\n",
       "                                                   'Self-criticism',\n",
       "                                                   'Elections',\n",
       "                                                   'Number of friends',\n",
       "                                                   'Spending on healthy eating',\n",
       "                                                   'Music', 'Movies',\n",
       "                                                   'Friends versus money',\n",
       "                                                   'Changing the past'])]))])</pre></div></div></div><div class=\"sk-serial\"><div class=\"sk-item sk-dashed-wrapped\"><div class=\"sk-label-container\"><div class=\"sk-label sk-toggleable\"><input class=\"sk-toggleable__control sk-hidden--visually\" id=\"059922d4-e37a-4847-a131-c5e472d21627\" type=\"checkbox\" ><label class=\"sk-toggleable__label\" for=\"059922d4-e37a-4847-a131-c5e472d21627\">data_transformer: ColumnTransformer</label><div class=\"sk-toggleable__content\"><pre>ColumnTransformer(transformers=[('numerical',\n",
       "                                 Pipeline(steps=[('imputer', SimpleImputer()),\n",
       "                                                 ('scaler', StandardScaler()),\n",
       "                                                 ('fs', SelectKBest(k='all'))]),\n",
       "                                 ['Age', 'Height', 'Weight']),\n",
       "                                ('categorical',\n",
       "                                 Pipeline(steps=[('imputer', SimpleImputer()),\n",
       "                                                 ('onehot',\n",
       "                                                  OneHotEncoder(handle_unknown='ignore'))]),\n",
       "                                 ['Getting up', 'God', 'Health',\n",
       "                                  'Borrowed stuff', 'Self-criticism',\n",
       "                                  'Elections', 'Number of friends',\n",
       "                                  'Spending on healthy eating', 'Music',\n",
       "                                  'Movies', 'Friends versus money',\n",
       "                                  'Changing the past'])])</pre></div></div></div><div class=\"sk-parallel\"><div class=\"sk-parallel-item\"><div class=\"sk-item\"><div class=\"sk-label-container\"><div class=\"sk-label sk-toggleable\"><input class=\"sk-toggleable__control sk-hidden--visually\" id=\"405ed17f-e060-4777-82a6-a492f428e5f0\" type=\"checkbox\" ><label class=\"sk-toggleable__label\" for=\"405ed17f-e060-4777-82a6-a492f428e5f0\">numerical</label><div class=\"sk-toggleable__content\"><pre>['Age', 'Height', 'Weight']</pre></div></div></div><div class=\"sk-serial\"><div class=\"sk-item\"><div class=\"sk-serial\"><div class=\"sk-item\"><div class=\"sk-estimator sk-toggleable\"><input class=\"sk-toggleable__control sk-hidden--visually\" id=\"91eae33a-c6bd-4ae0-b991-dc837901b872\" type=\"checkbox\" ><label class=\"sk-toggleable__label\" for=\"91eae33a-c6bd-4ae0-b991-dc837901b872\">SimpleImputer</label><div class=\"sk-toggleable__content\"><pre>SimpleImputer()</pre></div></div></div><div class=\"sk-item\"><div class=\"sk-estimator sk-toggleable\"><input class=\"sk-toggleable__control sk-hidden--visually\" id=\"0db0140d-56ff-4347-a83f-2e0ae7292221\" type=\"checkbox\" ><label class=\"sk-toggleable__label\" for=\"0db0140d-56ff-4347-a83f-2e0ae7292221\">StandardScaler</label><div class=\"sk-toggleable__content\"><pre>StandardScaler()</pre></div></div></div><div class=\"sk-item\"><div class=\"sk-estimator sk-toggleable\"><input class=\"sk-toggleable__control sk-hidden--visually\" id=\"63ce9a42-3a2c-4f3e-b38f-153112983462\" type=\"checkbox\" ><label class=\"sk-toggleable__label\" for=\"63ce9a42-3a2c-4f3e-b38f-153112983462\">SelectKBest</label><div class=\"sk-toggleable__content\"><pre>SelectKBest(k='all')</pre></div></div></div></div></div></div></div></div><div class=\"sk-parallel-item\"><div class=\"sk-item\"><div class=\"sk-label-container\"><div class=\"sk-label sk-toggleable\"><input class=\"sk-toggleable__control sk-hidden--visually\" id=\"3ba63d14-bb7f-44f9-ab44-8354ae23fd37\" type=\"checkbox\" ><label class=\"sk-toggleable__label\" for=\"3ba63d14-bb7f-44f9-ab44-8354ae23fd37\">categorical</label><div class=\"sk-toggleable__content\"><pre>['Getting up', 'God', 'Health', 'Borrowed stuff', 'Self-criticism', 'Elections', 'Number of friends', 'Spending on healthy eating', 'Music', 'Movies', 'Friends versus money', 'Changing the past']</pre></div></div></div><div class=\"sk-serial\"><div class=\"sk-item\"><div class=\"sk-serial\"><div class=\"sk-item\"><div class=\"sk-estimator sk-toggleable\"><input class=\"sk-toggleable__control sk-hidden--visually\" id=\"fa34cd0c-d3b0-4038-8b2f-97479697091e\" type=\"checkbox\" ><label class=\"sk-toggleable__label\" for=\"fa34cd0c-d3b0-4038-8b2f-97479697091e\">SimpleImputer</label><div class=\"sk-toggleable__content\"><pre>SimpleImputer()</pre></div></div></div><div class=\"sk-item\"><div class=\"sk-estimator sk-toggleable\"><input class=\"sk-toggleable__control sk-hidden--visually\" id=\"2e1a0931-ce39-4c6a-bfaa-8d07a638b846\" type=\"checkbox\" ><label class=\"sk-toggleable__label\" for=\"2e1a0931-ce39-4c6a-bfaa-8d07a638b846\">OneHotEncoder</label><div class=\"sk-toggleable__content\"><pre>OneHotEncoder(handle_unknown='ignore')</pre></div></div></div></div></div></div></div></div></div></div></div></div><div class=\"sk-item\"><div class=\"sk-estimator sk-toggleable\"><input class=\"sk-toggleable__control sk-hidden--visually\" id=\"1f806a4e-93ec-45cf-89dc-d515f0282d76\" type=\"checkbox\" ><label class=\"sk-toggleable__label\" for=\"1f806a4e-93ec-45cf-89dc-d515f0282d76\">RandomForestClassifier</label><div class=\"sk-toggleable__content\"><pre>RandomForestClassifier()</pre></div></div></div></div></div></div></div></div><div class=\"sk-parallel-item\"><div class=\"sk-item\"><div class=\"sk-label-container\"><div class=\"sk-label sk-toggleable\"><label>Xgboost</label></div></div><div class=\"sk-serial\"><div class=\"sk-item\"><div class=\"sk-serial\"><div class=\"sk-item\"><div class=\"sk-label-container\"><div class=\"sk-label sk-toggleable\"><input class=\"sk-toggleable__control sk-hidden--visually\" id=\"ed701908-606e-4597-ac34-d22c5e8efb17\" type=\"checkbox\" ><label class=\"sk-toggleable__label\" for=\"ed701908-606e-4597-ac34-d22c5e8efb17\">pipeline: Pipeline</label><div class=\"sk-toggleable__content\"><pre>Pipeline(steps=[('data_transformer',\n",
       "                 ColumnTransformer(transformers=[('numerical',\n",
       "                                                  Pipeline(steps=[('imputer',\n",
       "                                                                   SimpleImputer()),\n",
       "                                                                  ('scaler',\n",
       "                                                                   StandardScaler()),\n",
       "                                                                  ('fs',\n",
       "                                                                   SelectKBest(k='all'))]),\n",
       "                                                  ['Age', 'Height', 'Weight']),\n",
       "                                                 ('categorical',\n",
       "                                                  Pipeline(steps=[('imputer',\n",
       "                                                                   SimpleImputer()),\n",
       "                                                                  ('onehot',\n",
       "                                                                   OneHotEncoder(handle_unknown='ignore'))]),\n",
       "                                                  ['Getting up', 'God',\n",
       "                                                   'Health', 'Borrowed stuff',\n",
       "                                                   'Self-criticism',\n",
       "                                                   'Elections',\n",
       "                                                   'Number of friends',\n",
       "                                                   'Spending on healthy eating',\n",
       "                                                   'Music', 'Movies',\n",
       "                                                   'Friends versus money',\n",
       "                                                   'Changing the past'])]))])</pre></div></div></div><div class=\"sk-serial\"><div class=\"sk-item sk-dashed-wrapped\"><div class=\"sk-label-container\"><div class=\"sk-label sk-toggleable\"><input class=\"sk-toggleable__control sk-hidden--visually\" id=\"5dcf809d-cad1-4425-bb4c-b843ad0f3690\" type=\"checkbox\" ><label class=\"sk-toggleable__label\" for=\"5dcf809d-cad1-4425-bb4c-b843ad0f3690\">data_transformer: ColumnTransformer</label><div class=\"sk-toggleable__content\"><pre>ColumnTransformer(transformers=[('numerical',\n",
       "                                 Pipeline(steps=[('imputer', SimpleImputer()),\n",
       "                                                 ('scaler', StandardScaler()),\n",
       "                                                 ('fs', SelectKBest(k='all'))]),\n",
       "                                 ['Age', 'Height', 'Weight']),\n",
       "                                ('categorical',\n",
       "                                 Pipeline(steps=[('imputer', SimpleImputer()),\n",
       "                                                 ('onehot',\n",
       "                                                  OneHotEncoder(handle_unknown='ignore'))]),\n",
       "                                 ['Getting up', 'God', 'Health',\n",
       "                                  'Borrowed stuff', 'Self-criticism',\n",
       "                                  'Elections', 'Number of friends',\n",
       "                                  'Spending on healthy eating', 'Music',\n",
       "                                  'Movies', 'Friends versus money',\n",
       "                                  'Changing the past'])])</pre></div></div></div><div class=\"sk-parallel\"><div class=\"sk-parallel-item\"><div class=\"sk-item\"><div class=\"sk-label-container\"><div class=\"sk-label sk-toggleable\"><input class=\"sk-toggleable__control sk-hidden--visually\" id=\"895166d6-5a46-4911-af5e-5e682ad20986\" type=\"checkbox\" ><label class=\"sk-toggleable__label\" for=\"895166d6-5a46-4911-af5e-5e682ad20986\">numerical</label><div class=\"sk-toggleable__content\"><pre>['Age', 'Height', 'Weight']</pre></div></div></div><div class=\"sk-serial\"><div class=\"sk-item\"><div class=\"sk-serial\"><div class=\"sk-item\"><div class=\"sk-estimator sk-toggleable\"><input class=\"sk-toggleable__control sk-hidden--visually\" id=\"0666507b-9d14-4d95-95e7-fc8e70c7e8cb\" type=\"checkbox\" ><label class=\"sk-toggleable__label\" for=\"0666507b-9d14-4d95-95e7-fc8e70c7e8cb\">SimpleImputer</label><div class=\"sk-toggleable__content\"><pre>SimpleImputer()</pre></div></div></div><div class=\"sk-item\"><div class=\"sk-estimator sk-toggleable\"><input class=\"sk-toggleable__control sk-hidden--visually\" id=\"a871c082-d220-45a1-961c-3c2660575bf9\" type=\"checkbox\" ><label class=\"sk-toggleable__label\" for=\"a871c082-d220-45a1-961c-3c2660575bf9\">StandardScaler</label><div class=\"sk-toggleable__content\"><pre>StandardScaler()</pre></div></div></div><div class=\"sk-item\"><div class=\"sk-estimator sk-toggleable\"><input class=\"sk-toggleable__control sk-hidden--visually\" id=\"d23b9def-6052-4c19-ad9d-847f8213c2eb\" type=\"checkbox\" ><label class=\"sk-toggleable__label\" for=\"d23b9def-6052-4c19-ad9d-847f8213c2eb\">SelectKBest</label><div class=\"sk-toggleable__content\"><pre>SelectKBest(k='all')</pre></div></div></div></div></div></div></div></div><div class=\"sk-parallel-item\"><div class=\"sk-item\"><div class=\"sk-label-container\"><div class=\"sk-label sk-toggleable\"><input class=\"sk-toggleable__control sk-hidden--visually\" id=\"4dec31b2-61a1-4d52-8f24-2bafd6ad3ab9\" type=\"checkbox\" ><label class=\"sk-toggleable__label\" for=\"4dec31b2-61a1-4d52-8f24-2bafd6ad3ab9\">categorical</label><div class=\"sk-toggleable__content\"><pre>['Getting up', 'God', 'Health', 'Borrowed stuff', 'Self-criticism', 'Elections', 'Number of friends', 'Spending on healthy eating', 'Music', 'Movies', 'Friends versus money', 'Changing the past']</pre></div></div></div><div class=\"sk-serial\"><div class=\"sk-item\"><div class=\"sk-serial\"><div class=\"sk-item\"><div class=\"sk-estimator sk-toggleable\"><input class=\"sk-toggleable__control sk-hidden--visually\" id=\"79813627-3b2c-4be5-916e-87bcad1197de\" type=\"checkbox\" ><label class=\"sk-toggleable__label\" for=\"79813627-3b2c-4be5-916e-87bcad1197de\">SimpleImputer</label><div class=\"sk-toggleable__content\"><pre>SimpleImputer()</pre></div></div></div><div class=\"sk-item\"><div class=\"sk-estimator sk-toggleable\"><input class=\"sk-toggleable__control sk-hidden--visually\" id=\"356f741d-22ca-4615-8a6e-5f92fd419042\" type=\"checkbox\" ><label class=\"sk-toggleable__label\" for=\"356f741d-22ca-4615-8a6e-5f92fd419042\">OneHotEncoder</label><div class=\"sk-toggleable__content\"><pre>OneHotEncoder(handle_unknown='ignore')</pre></div></div></div></div></div></div></div></div></div></div></div></div><div class=\"sk-item\"><div class=\"sk-estimator sk-toggleable\"><input class=\"sk-toggleable__control sk-hidden--visually\" id=\"cd8f9a4e-80c1-4ad6-b45a-f0268a2c4f12\" type=\"checkbox\" ><label class=\"sk-toggleable__label\" for=\"cd8f9a4e-80c1-4ad6-b45a-f0268a2c4f12\">XGBClassifier</label><div class=\"sk-toggleable__content\"><pre>XGBClassifier(base_score=None, booster=None, colsample_bylevel=None,\n",
       "              colsample_bynode=None, colsample_bytree=None, gamma=None,\n",
       "              gpu_id=None, importance_type='gain', interaction_constraints=None,\n",
       "              learning_rate=None, max_delta_step=None, max_depth=None,\n",
       "              min_child_weight=None, missing=nan, monotone_constraints=None,\n",
       "              n_estimators=100, n_jobs=None, num_parallel_tree=None,\n",
       "              random_state=None, reg_alpha=None, reg_lambda=None,\n",
       "              scale_pos_weight=None, subsample=None, tree_method=None,\n",
       "              validate_parameters=None, verbosity=None)</pre></div></div></div></div></div></div></div></div></div></div><div class=\"sk-item\"><div class=\"sk-estimator sk-toggleable\"><input class=\"sk-toggleable__control sk-hidden--visually\" id=\"5e876e59-1ff7-4f69-b624-9de81a2fde96\" type=\"checkbox\" ><label class=\"sk-toggleable__label\" for=\"5e876e59-1ff7-4f69-b624-9de81a2fde96\">LogisticRegression</label><div class=\"sk-toggleable__content\"><pre>LogisticRegression(n_jobs=-1, verbose=True)</pre></div></div></div></div></div></div></div></div></div>"
      ],
      "text/plain": [
       "StackingClassifier(estimators=[('SVM',\n",
       "                                Pipeline(steps=[('pipeline',\n",
       "                                                 Pipeline(steps=[('data_transformer',\n",
       "                                                                  ColumnTransformer(transformers=[('numerical',\n",
       "                                                                                                   Pipeline(steps=[('imputer',\n",
       "                                                                                                                    SimpleImputer()),\n",
       "                                                                                                                   ('scaler',\n",
       "                                                                                                                    StandardScaler()),\n",
       "                                                                                                                   ('fs',\n",
       "                                                                                                                    SelectKBest(k='all'))]),\n",
       "                                                                                                   ['Age',\n",
       "                                                                                                    'Height',\n",
       "                                                                                                    'Weight']),\n",
       "                                                                                                  ('categorical',\n",
       "                                                                                                   Pipeline(steps=[('imputer',\n",
       "                                                                                                                    SimpleImputer()),\n",
       "                                                                                                                   ('onehot',\n",
       "                                                                                                                    OneHo...\n",
       "                                                               max_depth=None,\n",
       "                                                               min_child_weight=None,\n",
       "                                                               missing=nan,\n",
       "                                                               monotone_constraints=None,\n",
       "                                                               n_estimators=100,\n",
       "                                                               n_jobs=None,\n",
       "                                                               num_parallel_tree=None,\n",
       "                                                               random_state=None,\n",
       "                                                               reg_alpha=None,\n",
       "                                                               reg_lambda=None,\n",
       "                                                               scale_pos_weight=None,\n",
       "                                                               subsample=None,\n",
       "                                                               tree_method=None,\n",
       "                                                               validate_parameters=None,\n",
       "                                                               verbosity=None))]))],\n",
       "                   final_estimator=LogisticRegression(n_jobs=-1, verbose=True),\n",
       "                   n_jobs=-1, verbose=True)"
      ]
     },
     "execution_count": 270,
     "metadata": {},
     "output_type": "execute_result"
    }
   ],
   "source": [
    "from sklearn.decomposition import PCA\n",
    "\n",
    "# получим список эстиматоров\n",
    "estimators = [\n",
    "    (\"SVM\", make_pipeline(preprocessor, PCA(), LinearSVC())),\n",
    "    (\"Random_Forest\", make_pipeline(preprocessor, RandomForestClassifier())),\n",
    "    (\"Xgboost\", make_pipeline(preprocessor, xgboost.XGBClassifier())),\n",
    "]\n",
    "\n",
    "# построим классификатор используя стекинг и наш список классификаторов\n",
    "stacking_classifier = StackingClassifier(\n",
    "    estimators=estimators,\n",
    "    final_estimator=LogisticRegression(n_jobs=-1, verbose=True),\n",
    "    n_jobs=-1,\n",
    "    verbose=True,\n",
    ")\n",
    "\n",
    "stacking_classifier"
   ]
  },
  {
   "cell_type": "code",
   "execution_count": null,
   "metadata": {},
   "outputs": [],
   "source": []
  },
  {
   "cell_type": "code",
   "execution_count": null,
   "metadata": {},
   "outputs": [],
   "source": []
  },
  {
   "cell_type": "code",
   "execution_count": null,
   "metadata": {},
   "outputs": [],
   "source": []
  },
  {
   "cell_type": "code",
   "execution_count": null,
   "metadata": {},
   "outputs": [],
   "source": []
  },
  {
   "cell_type": "code",
   "execution_count": null,
   "metadata": {},
   "outputs": [],
   "source": []
  },
  {
   "cell_type": "code",
   "execution_count": null,
   "metadata": {},
   "outputs": [],
   "source": []
  },
  {
   "cell_type": "markdown",
   "metadata": {},
   "source": [
    "# А сколько всего кода было написано?"
   ]
  },
  {
   "cell_type": "code",
   "execution_count": 271,
   "metadata": {
    "ExecuteTime": {
     "end_time": "2022-04-28T16:32:59.184783Z",
     "start_time": "2022-04-28T16:32:59.172756Z"
    }
   },
   "outputs": [],
   "source": [
    "numerical_transformer = Pipeline(steps=[\n",
    "    (\"imputer\", SimpleImputer()),\n",
    "    (\"scaler\", StandardScaler()),\n",
    "    (\"feature_selector\", SelectKBest(score_func=f_classif, k=\"all\"))])\n",
    "\n",
    "categorical_transformer = Pipeline(steps=[\n",
    "    (\"imputer\", SimpleImputer()),\n",
    "    (\"onehot\", OneHotEncoder(handle_unknown=\"ignore\"))])\n",
    "\n",
    "data_transformer = ColumnTransformer(transformers=[\n",
    "    (\"numerical\", numerical_transformer, numerical_features),\n",
    "    (\"categorical\", categorical_transformer, categorical_features)])\n",
    "\n",
    "preprocessor = Pipeline(steps=[(\"data_transformer\", data_transformer)])\n",
    "\n",
    "estimators = [\n",
    "    (\"SVM\", make_pipeline(preprocessor, LinearSVC())),\n",
    "    (\"Random_Forest\", make_pipeline(preprocessor, RandomForestClassifier(n_jobs=-1))),\n",
    "    (\"xgboost\", make_pipeline(preprocessor, xgboost.XGBClassifier(n_jobs=-1)))]\n",
    "\n",
    "stacking_classifier = StackingClassifier(\n",
    "    estimators=estimators,\n",
    "    final_estimator=LogisticRegression(n_jobs=-1, verbose=True),\n",
    "    n_jobs=-1,\n",
    "    verbose=True,\n",
    ")"
   ]
  },
  {
   "cell_type": "code",
   "execution_count": 272,
   "metadata": {
    "ExecuteTime": {
     "end_time": "2022-04-28T16:33:00.139607Z",
     "start_time": "2022-04-28T16:32:59.186785Z"
    }
   },
   "outputs": [
    {
     "data": {
      "text/html": [
       "<style>#sk-c9f79ce3-f8ca-40dd-bd4b-80af5f0518a6 {color: black;background-color: white;}#sk-c9f79ce3-f8ca-40dd-bd4b-80af5f0518a6 pre{padding: 0;}#sk-c9f79ce3-f8ca-40dd-bd4b-80af5f0518a6 div.sk-toggleable {background-color: white;}#sk-c9f79ce3-f8ca-40dd-bd4b-80af5f0518a6 label.sk-toggleable__label {cursor: pointer;display: block;width: 100%;margin-bottom: 0;padding: 0.2em 0.3em;box-sizing: border-box;text-align: center;}#sk-c9f79ce3-f8ca-40dd-bd4b-80af5f0518a6 div.sk-toggleable__content {max-height: 0;max-width: 0;overflow: hidden;text-align: left;background-color: #f0f8ff;}#sk-c9f79ce3-f8ca-40dd-bd4b-80af5f0518a6 div.sk-toggleable__content pre {margin: 0.2em;color: black;border-radius: 0.25em;background-color: #f0f8ff;}#sk-c9f79ce3-f8ca-40dd-bd4b-80af5f0518a6 input.sk-toggleable__control:checked~div.sk-toggleable__content {max-height: 200px;max-width: 100%;overflow: auto;}#sk-c9f79ce3-f8ca-40dd-bd4b-80af5f0518a6 div.sk-estimator input.sk-toggleable__control:checked~label.sk-toggleable__label {background-color: #d4ebff;}#sk-c9f79ce3-f8ca-40dd-bd4b-80af5f0518a6 div.sk-label input.sk-toggleable__control:checked~label.sk-toggleable__label {background-color: #d4ebff;}#sk-c9f79ce3-f8ca-40dd-bd4b-80af5f0518a6 input.sk-hidden--visually {border: 0;clip: rect(1px 1px 1px 1px);clip: rect(1px, 1px, 1px, 1px);height: 1px;margin: -1px;overflow: hidden;padding: 0;position: absolute;width: 1px;}#sk-c9f79ce3-f8ca-40dd-bd4b-80af5f0518a6 div.sk-estimator {font-family: monospace;background-color: #f0f8ff;margin: 0.25em 0.25em;border: 1px dotted black;border-radius: 0.25em;box-sizing: border-box;}#sk-c9f79ce3-f8ca-40dd-bd4b-80af5f0518a6 div.sk-estimator:hover {background-color: #d4ebff;}#sk-c9f79ce3-f8ca-40dd-bd4b-80af5f0518a6 div.sk-parallel-item::after {content: \"\";width: 100%;border-bottom: 1px solid gray;flex-grow: 1;}#sk-c9f79ce3-f8ca-40dd-bd4b-80af5f0518a6 div.sk-label:hover label.sk-toggleable__label {background-color: #d4ebff;}#sk-c9f79ce3-f8ca-40dd-bd4b-80af5f0518a6 div.sk-serial::before {content: \"\";position: absolute;border-left: 1px solid gray;box-sizing: border-box;top: 2em;bottom: 0;left: 50%;}#sk-c9f79ce3-f8ca-40dd-bd4b-80af5f0518a6 div.sk-serial {display: flex;flex-direction: column;align-items: center;background-color: white;}#sk-c9f79ce3-f8ca-40dd-bd4b-80af5f0518a6 div.sk-item {z-index: 1;}#sk-c9f79ce3-f8ca-40dd-bd4b-80af5f0518a6 div.sk-parallel {display: flex;align-items: stretch;justify-content: center;background-color: white;}#sk-c9f79ce3-f8ca-40dd-bd4b-80af5f0518a6 div.sk-parallel-item {display: flex;flex-direction: column;position: relative;background-color: white;}#sk-c9f79ce3-f8ca-40dd-bd4b-80af5f0518a6 div.sk-parallel-item:first-child::after {align-self: flex-end;width: 50%;}#sk-c9f79ce3-f8ca-40dd-bd4b-80af5f0518a6 div.sk-parallel-item:last-child::after {align-self: flex-start;width: 50%;}#sk-c9f79ce3-f8ca-40dd-bd4b-80af5f0518a6 div.sk-parallel-item:only-child::after {width: 0;}#sk-c9f79ce3-f8ca-40dd-bd4b-80af5f0518a6 div.sk-dashed-wrapped {border: 1px dashed gray;margin: 0.2em;box-sizing: border-box;padding-bottom: 0.1em;background-color: white;position: relative;}#sk-c9f79ce3-f8ca-40dd-bd4b-80af5f0518a6 div.sk-label label {font-family: monospace;font-weight: bold;background-color: white;display: inline-block;line-height: 1.2em;}#sk-c9f79ce3-f8ca-40dd-bd4b-80af5f0518a6 div.sk-label-container {position: relative;z-index: 2;text-align: center;}#sk-c9f79ce3-f8ca-40dd-bd4b-80af5f0518a6 div.sk-container {display: inline-block;position: relative;}</style><div id=\"sk-c9f79ce3-f8ca-40dd-bd4b-80af5f0518a6\" class\"sk-top-container\"><div class=\"sk-container\"><div class=\"sk-item sk-dashed-wrapped\"><div class=\"sk-label-container\"><div class=\"sk-label sk-toggleable\"><input class=\"sk-toggleable__control sk-hidden--visually\" id=\"afa60532-9560-4f8e-adc2-b0a64279dfba\" type=\"checkbox\" ><label class=\"sk-toggleable__label\" for=\"afa60532-9560-4f8e-adc2-b0a64279dfba\">StackingClassifier</label><div class=\"sk-toggleable__content\"><pre>StackingClassifier(estimators=[('SVM',\n",
       "                                Pipeline(steps=[('pipeline',\n",
       "                                                 Pipeline(steps=[('data_transformer',\n",
       "                                                                  ColumnTransformer(transformers=[('numerical',\n",
       "                                                                                                   Pipeline(steps=[('imputer',\n",
       "                                                                                                                    SimpleImputer()),\n",
       "                                                                                                                   ('scaler',\n",
       "                                                                                                                    StandardScaler()),\n",
       "                                                                                                                   ('feature_selector',\n",
       "                                                                                                                    SelectKBest(k='all'))]),\n",
       "                                                                                                   ['Age',\n",
       "                                                                                                    'Height',\n",
       "                                                                                                    'Weight']),\n",
       "                                                                                                  ('categorical',\n",
       "                                                                                                   Pipeline(steps=[('imputer',\n",
       "                                                                                                                    SimpleImputer()),\n",
       "                                                                                                                   (...\n",
       "                                                               max_depth=None,\n",
       "                                                               min_child_weight=None,\n",
       "                                                               missing=nan,\n",
       "                                                               monotone_constraints=None,\n",
       "                                                               n_estimators=100,\n",
       "                                                               n_jobs=-1,\n",
       "                                                               num_parallel_tree=None,\n",
       "                                                               random_state=None,\n",
       "                                                               reg_alpha=None,\n",
       "                                                               reg_lambda=None,\n",
       "                                                               scale_pos_weight=None,\n",
       "                                                               subsample=None,\n",
       "                                                               tree_method=None,\n",
       "                                                               validate_parameters=None,\n",
       "                                                               verbosity=None))]))],\n",
       "                   final_estimator=LogisticRegression(n_jobs=-1, verbose=True),\n",
       "                   n_jobs=-1, verbose=True)</pre></div></div></div><div class=\"sk-serial\"><div class=\"sk-item\"><div class=\"sk-serial\"><div class=\"sk-item\"><div class=\"sk-parallel\"><div class=\"sk-parallel-item\"><div class=\"sk-item\"><div class=\"sk-label-container\"><div class=\"sk-label sk-toggleable\"><label>SVM</label></div></div><div class=\"sk-serial\"><div class=\"sk-item\"><div class=\"sk-serial\"><div class=\"sk-item\"><div class=\"sk-label-container\"><div class=\"sk-label sk-toggleable\"><input class=\"sk-toggleable__control sk-hidden--visually\" id=\"b1a2f738-226a-47ff-9519-e5d6749c44b2\" type=\"checkbox\" ><label class=\"sk-toggleable__label\" for=\"b1a2f738-226a-47ff-9519-e5d6749c44b2\">pipeline: Pipeline</label><div class=\"sk-toggleable__content\"><pre>Pipeline(steps=[('data_transformer',\n",
       "                 ColumnTransformer(transformers=[('numerical',\n",
       "                                                  Pipeline(steps=[('imputer',\n",
       "                                                                   SimpleImputer()),\n",
       "                                                                  ('scaler',\n",
       "                                                                   StandardScaler()),\n",
       "                                                                  ('feature_selector',\n",
       "                                                                   SelectKBest(k='all'))]),\n",
       "                                                  ['Age', 'Height', 'Weight']),\n",
       "                                                 ('categorical',\n",
       "                                                  Pipeline(steps=[('imputer',\n",
       "                                                                   SimpleImputer()),\n",
       "                                                                  ('onehot',\n",
       "                                                                   OneHotEncoder(handle_unknown='ignore'))]),\n",
       "                                                  ['Getting up', 'God',\n",
       "                                                   'Health', 'Borrowed stuff',\n",
       "                                                   'Self-criticism',\n",
       "                                                   'Elections',\n",
       "                                                   'Number of friends',\n",
       "                                                   'Spending on healthy eating',\n",
       "                                                   'Music', 'Movies',\n",
       "                                                   'Friends versus money',\n",
       "                                                   'Changing the past'])]))])</pre></div></div></div><div class=\"sk-serial\"><div class=\"sk-item sk-dashed-wrapped\"><div class=\"sk-label-container\"><div class=\"sk-label sk-toggleable\"><input class=\"sk-toggleable__control sk-hidden--visually\" id=\"73c5a565-3180-499d-a2ea-198f782857da\" type=\"checkbox\" ><label class=\"sk-toggleable__label\" for=\"73c5a565-3180-499d-a2ea-198f782857da\">data_transformer: ColumnTransformer</label><div class=\"sk-toggleable__content\"><pre>ColumnTransformer(transformers=[('numerical',\n",
       "                                 Pipeline(steps=[('imputer', SimpleImputer()),\n",
       "                                                 ('scaler', StandardScaler()),\n",
       "                                                 ('feature_selector',\n",
       "                                                  SelectKBest(k='all'))]),\n",
       "                                 ['Age', 'Height', 'Weight']),\n",
       "                                ('categorical',\n",
       "                                 Pipeline(steps=[('imputer', SimpleImputer()),\n",
       "                                                 ('onehot',\n",
       "                                                  OneHotEncoder(handle_unknown='ignore'))]),\n",
       "                                 ['Getting up', 'God', 'Health',\n",
       "                                  'Borrowed stuff', 'Self-criticism',\n",
       "                                  'Elections', 'Number of friends',\n",
       "                                  'Spending on healthy eating', 'Music',\n",
       "                                  'Movies', 'Friends versus money',\n",
       "                                  'Changing the past'])])</pre></div></div></div><div class=\"sk-parallel\"><div class=\"sk-parallel-item\"><div class=\"sk-item\"><div class=\"sk-label-container\"><div class=\"sk-label sk-toggleable\"><input class=\"sk-toggleable__control sk-hidden--visually\" id=\"9e6ad1c7-f835-405a-91ec-f2591b53a623\" type=\"checkbox\" ><label class=\"sk-toggleable__label\" for=\"9e6ad1c7-f835-405a-91ec-f2591b53a623\">numerical</label><div class=\"sk-toggleable__content\"><pre>['Age', 'Height', 'Weight']</pre></div></div></div><div class=\"sk-serial\"><div class=\"sk-item\"><div class=\"sk-serial\"><div class=\"sk-item\"><div class=\"sk-estimator sk-toggleable\"><input class=\"sk-toggleable__control sk-hidden--visually\" id=\"27a4a409-3eaf-4fd9-908d-50ff61d2e556\" type=\"checkbox\" ><label class=\"sk-toggleable__label\" for=\"27a4a409-3eaf-4fd9-908d-50ff61d2e556\">SimpleImputer</label><div class=\"sk-toggleable__content\"><pre>SimpleImputer()</pre></div></div></div><div class=\"sk-item\"><div class=\"sk-estimator sk-toggleable\"><input class=\"sk-toggleable__control sk-hidden--visually\" id=\"03979534-ad49-4b26-aece-841c1534af3d\" type=\"checkbox\" ><label class=\"sk-toggleable__label\" for=\"03979534-ad49-4b26-aece-841c1534af3d\">StandardScaler</label><div class=\"sk-toggleable__content\"><pre>StandardScaler()</pre></div></div></div><div class=\"sk-item\"><div class=\"sk-estimator sk-toggleable\"><input class=\"sk-toggleable__control sk-hidden--visually\" id=\"a9b67933-2e11-429d-adf5-5d9888da827f\" type=\"checkbox\" ><label class=\"sk-toggleable__label\" for=\"a9b67933-2e11-429d-adf5-5d9888da827f\">SelectKBest</label><div class=\"sk-toggleable__content\"><pre>SelectKBest(k='all')</pre></div></div></div></div></div></div></div></div><div class=\"sk-parallel-item\"><div class=\"sk-item\"><div class=\"sk-label-container\"><div class=\"sk-label sk-toggleable\"><input class=\"sk-toggleable__control sk-hidden--visually\" id=\"c60ba236-4520-4a5b-b820-d9aee2d89f15\" type=\"checkbox\" ><label class=\"sk-toggleable__label\" for=\"c60ba236-4520-4a5b-b820-d9aee2d89f15\">categorical</label><div class=\"sk-toggleable__content\"><pre>['Getting up', 'God', 'Health', 'Borrowed stuff', 'Self-criticism', 'Elections', 'Number of friends', 'Spending on healthy eating', 'Music', 'Movies', 'Friends versus money', 'Changing the past']</pre></div></div></div><div class=\"sk-serial\"><div class=\"sk-item\"><div class=\"sk-serial\"><div class=\"sk-item\"><div class=\"sk-estimator sk-toggleable\"><input class=\"sk-toggleable__control sk-hidden--visually\" id=\"ac1e9e03-4f61-41ac-8fde-2083b5b60333\" type=\"checkbox\" ><label class=\"sk-toggleable__label\" for=\"ac1e9e03-4f61-41ac-8fde-2083b5b60333\">SimpleImputer</label><div class=\"sk-toggleable__content\"><pre>SimpleImputer()</pre></div></div></div><div class=\"sk-item\"><div class=\"sk-estimator sk-toggleable\"><input class=\"sk-toggleable__control sk-hidden--visually\" id=\"6c256d85-65ee-413e-b9d7-475a98f931b2\" type=\"checkbox\" ><label class=\"sk-toggleable__label\" for=\"6c256d85-65ee-413e-b9d7-475a98f931b2\">OneHotEncoder</label><div class=\"sk-toggleable__content\"><pre>OneHotEncoder(handle_unknown='ignore')</pre></div></div></div></div></div></div></div></div></div></div></div></div><div class=\"sk-item\"><div class=\"sk-estimator sk-toggleable\"><input class=\"sk-toggleable__control sk-hidden--visually\" id=\"272826f1-4c52-4913-af91-a3c67f47bc3f\" type=\"checkbox\" ><label class=\"sk-toggleable__label\" for=\"272826f1-4c52-4913-af91-a3c67f47bc3f\">LinearSVC</label><div class=\"sk-toggleable__content\"><pre>LinearSVC()</pre></div></div></div></div></div></div></div></div><div class=\"sk-parallel-item\"><div class=\"sk-item\"><div class=\"sk-label-container\"><div class=\"sk-label sk-toggleable\"><label>Random_Forest</label></div></div><div class=\"sk-serial\"><div class=\"sk-item\"><div class=\"sk-serial\"><div class=\"sk-item\"><div class=\"sk-label-container\"><div class=\"sk-label sk-toggleable\"><input class=\"sk-toggleable__control sk-hidden--visually\" id=\"5710e5a0-1c02-41a3-9423-5c707e2505af\" type=\"checkbox\" ><label class=\"sk-toggleable__label\" for=\"5710e5a0-1c02-41a3-9423-5c707e2505af\">pipeline: Pipeline</label><div class=\"sk-toggleable__content\"><pre>Pipeline(steps=[('data_transformer',\n",
       "                 ColumnTransformer(transformers=[('numerical',\n",
       "                                                  Pipeline(steps=[('imputer',\n",
       "                                                                   SimpleImputer()),\n",
       "                                                                  ('scaler',\n",
       "                                                                   StandardScaler()),\n",
       "                                                                  ('feature_selector',\n",
       "                                                                   SelectKBest(k='all'))]),\n",
       "                                                  ['Age', 'Height', 'Weight']),\n",
       "                                                 ('categorical',\n",
       "                                                  Pipeline(steps=[('imputer',\n",
       "                                                                   SimpleImputer()),\n",
       "                                                                  ('onehot',\n",
       "                                                                   OneHotEncoder(handle_unknown='ignore'))]),\n",
       "                                                  ['Getting up', 'God',\n",
       "                                                   'Health', 'Borrowed stuff',\n",
       "                                                   'Self-criticism',\n",
       "                                                   'Elections',\n",
       "                                                   'Number of friends',\n",
       "                                                   'Spending on healthy eating',\n",
       "                                                   'Music', 'Movies',\n",
       "                                                   'Friends versus money',\n",
       "                                                   'Changing the past'])]))])</pre></div></div></div><div class=\"sk-serial\"><div class=\"sk-item sk-dashed-wrapped\"><div class=\"sk-label-container\"><div class=\"sk-label sk-toggleable\"><input class=\"sk-toggleable__control sk-hidden--visually\" id=\"e9da035d-b195-4a88-b923-8db56022e315\" type=\"checkbox\" ><label class=\"sk-toggleable__label\" for=\"e9da035d-b195-4a88-b923-8db56022e315\">data_transformer: ColumnTransformer</label><div class=\"sk-toggleable__content\"><pre>ColumnTransformer(transformers=[('numerical',\n",
       "                                 Pipeline(steps=[('imputer', SimpleImputer()),\n",
       "                                                 ('scaler', StandardScaler()),\n",
       "                                                 ('feature_selector',\n",
       "                                                  SelectKBest(k='all'))]),\n",
       "                                 ['Age', 'Height', 'Weight']),\n",
       "                                ('categorical',\n",
       "                                 Pipeline(steps=[('imputer', SimpleImputer()),\n",
       "                                                 ('onehot',\n",
       "                                                  OneHotEncoder(handle_unknown='ignore'))]),\n",
       "                                 ['Getting up', 'God', 'Health',\n",
       "                                  'Borrowed stuff', 'Self-criticism',\n",
       "                                  'Elections', 'Number of friends',\n",
       "                                  'Spending on healthy eating', 'Music',\n",
       "                                  'Movies', 'Friends versus money',\n",
       "                                  'Changing the past'])])</pre></div></div></div><div class=\"sk-parallel\"><div class=\"sk-parallel-item\"><div class=\"sk-item\"><div class=\"sk-label-container\"><div class=\"sk-label sk-toggleable\"><input class=\"sk-toggleable__control sk-hidden--visually\" id=\"d9fc2d44-36a9-4326-8b04-b9ca8baecec4\" type=\"checkbox\" ><label class=\"sk-toggleable__label\" for=\"d9fc2d44-36a9-4326-8b04-b9ca8baecec4\">numerical</label><div class=\"sk-toggleable__content\"><pre>['Age', 'Height', 'Weight']</pre></div></div></div><div class=\"sk-serial\"><div class=\"sk-item\"><div class=\"sk-serial\"><div class=\"sk-item\"><div class=\"sk-estimator sk-toggleable\"><input class=\"sk-toggleable__control sk-hidden--visually\" id=\"b95ddfc3-3475-4f25-a872-1d716b11d4a1\" type=\"checkbox\" ><label class=\"sk-toggleable__label\" for=\"b95ddfc3-3475-4f25-a872-1d716b11d4a1\">SimpleImputer</label><div class=\"sk-toggleable__content\"><pre>SimpleImputer()</pre></div></div></div><div class=\"sk-item\"><div class=\"sk-estimator sk-toggleable\"><input class=\"sk-toggleable__control sk-hidden--visually\" id=\"9f0106ec-32d0-4fdf-9e15-3c9b29be8bf4\" type=\"checkbox\" ><label class=\"sk-toggleable__label\" for=\"9f0106ec-32d0-4fdf-9e15-3c9b29be8bf4\">StandardScaler</label><div class=\"sk-toggleable__content\"><pre>StandardScaler()</pre></div></div></div><div class=\"sk-item\"><div class=\"sk-estimator sk-toggleable\"><input class=\"sk-toggleable__control sk-hidden--visually\" id=\"d0f1a952-5b03-4120-be2f-fd09374f67b2\" type=\"checkbox\" ><label class=\"sk-toggleable__label\" for=\"d0f1a952-5b03-4120-be2f-fd09374f67b2\">SelectKBest</label><div class=\"sk-toggleable__content\"><pre>SelectKBest(k='all')</pre></div></div></div></div></div></div></div></div><div class=\"sk-parallel-item\"><div class=\"sk-item\"><div class=\"sk-label-container\"><div class=\"sk-label sk-toggleable\"><input class=\"sk-toggleable__control sk-hidden--visually\" id=\"842e3e8f-4ee7-4bc8-b47b-1980aa3f492e\" type=\"checkbox\" ><label class=\"sk-toggleable__label\" for=\"842e3e8f-4ee7-4bc8-b47b-1980aa3f492e\">categorical</label><div class=\"sk-toggleable__content\"><pre>['Getting up', 'God', 'Health', 'Borrowed stuff', 'Self-criticism', 'Elections', 'Number of friends', 'Spending on healthy eating', 'Music', 'Movies', 'Friends versus money', 'Changing the past']</pre></div></div></div><div class=\"sk-serial\"><div class=\"sk-item\"><div class=\"sk-serial\"><div class=\"sk-item\"><div class=\"sk-estimator sk-toggleable\"><input class=\"sk-toggleable__control sk-hidden--visually\" id=\"ee619bd1-62b7-4fa5-9c00-295cf38185dd\" type=\"checkbox\" ><label class=\"sk-toggleable__label\" for=\"ee619bd1-62b7-4fa5-9c00-295cf38185dd\">SimpleImputer</label><div class=\"sk-toggleable__content\"><pre>SimpleImputer()</pre></div></div></div><div class=\"sk-item\"><div class=\"sk-estimator sk-toggleable\"><input class=\"sk-toggleable__control sk-hidden--visually\" id=\"21dd32a3-af88-45d6-9615-08305b5f611e\" type=\"checkbox\" ><label class=\"sk-toggleable__label\" for=\"21dd32a3-af88-45d6-9615-08305b5f611e\">OneHotEncoder</label><div class=\"sk-toggleable__content\"><pre>OneHotEncoder(handle_unknown='ignore')</pre></div></div></div></div></div></div></div></div></div></div></div></div><div class=\"sk-item\"><div class=\"sk-estimator sk-toggleable\"><input class=\"sk-toggleable__control sk-hidden--visually\" id=\"3eb77232-b85d-464a-8abe-285b74ab4ba2\" type=\"checkbox\" ><label class=\"sk-toggleable__label\" for=\"3eb77232-b85d-464a-8abe-285b74ab4ba2\">RandomForestClassifier</label><div class=\"sk-toggleable__content\"><pre>RandomForestClassifier(n_jobs=-1)</pre></div></div></div></div></div></div></div></div><div class=\"sk-parallel-item\"><div class=\"sk-item\"><div class=\"sk-label-container\"><div class=\"sk-label sk-toggleable\"><label>xgboost</label></div></div><div class=\"sk-serial\"><div class=\"sk-item\"><div class=\"sk-serial\"><div class=\"sk-item\"><div class=\"sk-label-container\"><div class=\"sk-label sk-toggleable\"><input class=\"sk-toggleable__control sk-hidden--visually\" id=\"14aa6b1b-6f1e-4149-907d-7f1190543618\" type=\"checkbox\" ><label class=\"sk-toggleable__label\" for=\"14aa6b1b-6f1e-4149-907d-7f1190543618\">pipeline: Pipeline</label><div class=\"sk-toggleable__content\"><pre>Pipeline(steps=[('data_transformer',\n",
       "                 ColumnTransformer(transformers=[('numerical',\n",
       "                                                  Pipeline(steps=[('imputer',\n",
       "                                                                   SimpleImputer()),\n",
       "                                                                  ('scaler',\n",
       "                                                                   StandardScaler()),\n",
       "                                                                  ('feature_selector',\n",
       "                                                                   SelectKBest(k='all'))]),\n",
       "                                                  ['Age', 'Height', 'Weight']),\n",
       "                                                 ('categorical',\n",
       "                                                  Pipeline(steps=[('imputer',\n",
       "                                                                   SimpleImputer()),\n",
       "                                                                  ('onehot',\n",
       "                                                                   OneHotEncoder(handle_unknown='ignore'))]),\n",
       "                                                  ['Getting up', 'God',\n",
       "                                                   'Health', 'Borrowed stuff',\n",
       "                                                   'Self-criticism',\n",
       "                                                   'Elections',\n",
       "                                                   'Number of friends',\n",
       "                                                   'Spending on healthy eating',\n",
       "                                                   'Music', 'Movies',\n",
       "                                                   'Friends versus money',\n",
       "                                                   'Changing the past'])]))])</pre></div></div></div><div class=\"sk-serial\"><div class=\"sk-item sk-dashed-wrapped\"><div class=\"sk-label-container\"><div class=\"sk-label sk-toggleable\"><input class=\"sk-toggleable__control sk-hidden--visually\" id=\"dcf5022a-04da-47ed-952f-248b3c4b9e34\" type=\"checkbox\" ><label class=\"sk-toggleable__label\" for=\"dcf5022a-04da-47ed-952f-248b3c4b9e34\">data_transformer: ColumnTransformer</label><div class=\"sk-toggleable__content\"><pre>ColumnTransformer(transformers=[('numerical',\n",
       "                                 Pipeline(steps=[('imputer', SimpleImputer()),\n",
       "                                                 ('scaler', StandardScaler()),\n",
       "                                                 ('feature_selector',\n",
       "                                                  SelectKBest(k='all'))]),\n",
       "                                 ['Age', 'Height', 'Weight']),\n",
       "                                ('categorical',\n",
       "                                 Pipeline(steps=[('imputer', SimpleImputer()),\n",
       "                                                 ('onehot',\n",
       "                                                  OneHotEncoder(handle_unknown='ignore'))]),\n",
       "                                 ['Getting up', 'God', 'Health',\n",
       "                                  'Borrowed stuff', 'Self-criticism',\n",
       "                                  'Elections', 'Number of friends',\n",
       "                                  'Spending on healthy eating', 'Music',\n",
       "                                  'Movies', 'Friends versus money',\n",
       "                                  'Changing the past'])])</pre></div></div></div><div class=\"sk-parallel\"><div class=\"sk-parallel-item\"><div class=\"sk-item\"><div class=\"sk-label-container\"><div class=\"sk-label sk-toggleable\"><input class=\"sk-toggleable__control sk-hidden--visually\" id=\"f91a110e-5de2-45d4-9a22-a14ec2a7fb1c\" type=\"checkbox\" ><label class=\"sk-toggleable__label\" for=\"f91a110e-5de2-45d4-9a22-a14ec2a7fb1c\">numerical</label><div class=\"sk-toggleable__content\"><pre>['Age', 'Height', 'Weight']</pre></div></div></div><div class=\"sk-serial\"><div class=\"sk-item\"><div class=\"sk-serial\"><div class=\"sk-item\"><div class=\"sk-estimator sk-toggleable\"><input class=\"sk-toggleable__control sk-hidden--visually\" id=\"41f12cae-d7d0-401e-a258-394c08f695fa\" type=\"checkbox\" ><label class=\"sk-toggleable__label\" for=\"41f12cae-d7d0-401e-a258-394c08f695fa\">SimpleImputer</label><div class=\"sk-toggleable__content\"><pre>SimpleImputer()</pre></div></div></div><div class=\"sk-item\"><div class=\"sk-estimator sk-toggleable\"><input class=\"sk-toggleable__control sk-hidden--visually\" id=\"7bd6c403-59e2-4b15-bba5-2ee751005ca1\" type=\"checkbox\" ><label class=\"sk-toggleable__label\" for=\"7bd6c403-59e2-4b15-bba5-2ee751005ca1\">StandardScaler</label><div class=\"sk-toggleable__content\"><pre>StandardScaler()</pre></div></div></div><div class=\"sk-item\"><div class=\"sk-estimator sk-toggleable\"><input class=\"sk-toggleable__control sk-hidden--visually\" id=\"414cff71-7c28-4c34-9536-8b89cc6a8267\" type=\"checkbox\" ><label class=\"sk-toggleable__label\" for=\"414cff71-7c28-4c34-9536-8b89cc6a8267\">SelectKBest</label><div class=\"sk-toggleable__content\"><pre>SelectKBest(k='all')</pre></div></div></div></div></div></div></div></div><div class=\"sk-parallel-item\"><div class=\"sk-item\"><div class=\"sk-label-container\"><div class=\"sk-label sk-toggleable\"><input class=\"sk-toggleable__control sk-hidden--visually\" id=\"ae2535d5-a32e-430b-a1bd-843da0063c6f\" type=\"checkbox\" ><label class=\"sk-toggleable__label\" for=\"ae2535d5-a32e-430b-a1bd-843da0063c6f\">categorical</label><div class=\"sk-toggleable__content\"><pre>['Getting up', 'God', 'Health', 'Borrowed stuff', 'Self-criticism', 'Elections', 'Number of friends', 'Spending on healthy eating', 'Music', 'Movies', 'Friends versus money', 'Changing the past']</pre></div></div></div><div class=\"sk-serial\"><div class=\"sk-item\"><div class=\"sk-serial\"><div class=\"sk-item\"><div class=\"sk-estimator sk-toggleable\"><input class=\"sk-toggleable__control sk-hidden--visually\" id=\"62410f9b-f2d9-44f4-bc7a-f5a190f1cb51\" type=\"checkbox\" ><label class=\"sk-toggleable__label\" for=\"62410f9b-f2d9-44f4-bc7a-f5a190f1cb51\">SimpleImputer</label><div class=\"sk-toggleable__content\"><pre>SimpleImputer()</pre></div></div></div><div class=\"sk-item\"><div class=\"sk-estimator sk-toggleable\"><input class=\"sk-toggleable__control sk-hidden--visually\" id=\"6e268186-7e4e-4535-a0e3-00320e83526d\" type=\"checkbox\" ><label class=\"sk-toggleable__label\" for=\"6e268186-7e4e-4535-a0e3-00320e83526d\">OneHotEncoder</label><div class=\"sk-toggleable__content\"><pre>OneHotEncoder(handle_unknown='ignore')</pre></div></div></div></div></div></div></div></div></div></div></div></div><div class=\"sk-item\"><div class=\"sk-estimator sk-toggleable\"><input class=\"sk-toggleable__control sk-hidden--visually\" id=\"4669a1be-bc62-4180-8a07-9b36fb74406b\" type=\"checkbox\" ><label class=\"sk-toggleable__label\" for=\"4669a1be-bc62-4180-8a07-9b36fb74406b\">XGBClassifier</label><div class=\"sk-toggleable__content\"><pre>XGBClassifier(base_score=None, booster=None, colsample_bylevel=None,\n",
       "              colsample_bynode=None, colsample_bytree=None, gamma=None,\n",
       "              gpu_id=None, importance_type='gain', interaction_constraints=None,\n",
       "              learning_rate=None, max_delta_step=None, max_depth=None,\n",
       "              min_child_weight=None, missing=nan, monotone_constraints=None,\n",
       "              n_estimators=100, n_jobs=-1, num_parallel_tree=None,\n",
       "              random_state=None, reg_alpha=None, reg_lambda=None,\n",
       "              scale_pos_weight=None, subsample=None, tree_method=None,\n",
       "              validate_parameters=None, verbosity=None)</pre></div></div></div></div></div></div></div></div></div></div><div class=\"sk-item\"><div class=\"sk-estimator sk-toggleable\"><input class=\"sk-toggleable__control sk-hidden--visually\" id=\"db6d99e3-8f38-4b3e-97b9-cd4c569a951d\" type=\"checkbox\" ><label class=\"sk-toggleable__label\" for=\"db6d99e3-8f38-4b3e-97b9-cd4c569a951d\">LogisticRegression</label><div class=\"sk-toggleable__content\"><pre>LogisticRegression(n_jobs=-1, verbose=True)</pre></div></div></div></div></div></div></div></div></div>"
      ],
      "text/plain": [
       "StackingClassifier(estimators=[('SVM',\n",
       "                                Pipeline(steps=[('pipeline',\n",
       "                                                 Pipeline(steps=[('data_transformer',\n",
       "                                                                  ColumnTransformer(transformers=[('numerical',\n",
       "                                                                                                   Pipeline(steps=[('imputer',\n",
       "                                                                                                                    SimpleImputer()),\n",
       "                                                                                                                   ('scaler',\n",
       "                                                                                                                    StandardScaler()),\n",
       "                                                                                                                   ('feature_selector',\n",
       "                                                                                                                    SelectKBest(k='all'))]),\n",
       "                                                                                                   ['Age',\n",
       "                                                                                                    'Height',\n",
       "                                                                                                    'Weight']),\n",
       "                                                                                                  ('categorical',\n",
       "                                                                                                   Pipeline(steps=[('imputer',\n",
       "                                                                                                                    SimpleImputer()),\n",
       "                                                                                                                   (...\n",
       "                                                               max_depth=None,\n",
       "                                                               min_child_weight=None,\n",
       "                                                               missing=nan,\n",
       "                                                               monotone_constraints=None,\n",
       "                                                               n_estimators=100,\n",
       "                                                               n_jobs=-1,\n",
       "                                                               num_parallel_tree=None,\n",
       "                                                               random_state=None,\n",
       "                                                               reg_alpha=None,\n",
       "                                                               reg_lambda=None,\n",
       "                                                               scale_pos_weight=None,\n",
       "                                                               subsample=None,\n",
       "                                                               tree_method=None,\n",
       "                                                               validate_parameters=None,\n",
       "                                                               verbosity=None))]))],\n",
       "                   final_estimator=LogisticRegression(n_jobs=-1, verbose=True),\n",
       "                   n_jobs=-1, verbose=True)"
      ]
     },
     "execution_count": 272,
     "metadata": {},
     "output_type": "execute_result"
    }
   ],
   "source": [
    "stacking_classifier"
   ]
  },
  {
   "cell_type": "code",
   "execution_count": null,
   "metadata": {},
   "outputs": [],
   "source": []
  },
  {
   "cell_type": "code",
   "execution_count": null,
   "metadata": {},
   "outputs": [],
   "source": []
  },
  {
   "cell_type": "code",
   "execution_count": null,
   "metadata": {},
   "outputs": [],
   "source": []
  },
  {
   "cell_type": "code",
   "execution_count": null,
   "metadata": {},
   "outputs": [],
   "source": []
  },
  {
   "cell_type": "code",
   "execution_count": null,
   "metadata": {},
   "outputs": [],
   "source": []
  },
  {
   "cell_type": "markdown",
   "metadata": {},
   "source": [
    "# Обучении махины - Будет ли легко?"
   ]
  },
  {
   "cell_type": "code",
   "execution_count": 273,
   "metadata": {
    "ExecuteTime": {
     "end_time": "2022-04-28T16:33:03.536336Z",
     "start_time": "2022-04-28T16:33:00.141610Z"
    }
   },
   "outputs": [
    {
     "name": "stderr",
     "output_type": "stream",
     "text": [
      "[Parallel(n_jobs=-1)]: Using backend LokyBackend with 8 concurrent workers.\n",
      "[Parallel(n_jobs=-1)]: Done   1 out of   1 | elapsed:    0.0s finished\n"
     ]
    },
    {
     "data": {
      "text/html": [
       "<style>#sk-9073c654-0f8b-40cd-9957-726286c54640 {color: black;background-color: white;}#sk-9073c654-0f8b-40cd-9957-726286c54640 pre{padding: 0;}#sk-9073c654-0f8b-40cd-9957-726286c54640 div.sk-toggleable {background-color: white;}#sk-9073c654-0f8b-40cd-9957-726286c54640 label.sk-toggleable__label {cursor: pointer;display: block;width: 100%;margin-bottom: 0;padding: 0.2em 0.3em;box-sizing: border-box;text-align: center;}#sk-9073c654-0f8b-40cd-9957-726286c54640 div.sk-toggleable__content {max-height: 0;max-width: 0;overflow: hidden;text-align: left;background-color: #f0f8ff;}#sk-9073c654-0f8b-40cd-9957-726286c54640 div.sk-toggleable__content pre {margin: 0.2em;color: black;border-radius: 0.25em;background-color: #f0f8ff;}#sk-9073c654-0f8b-40cd-9957-726286c54640 input.sk-toggleable__control:checked~div.sk-toggleable__content {max-height: 200px;max-width: 100%;overflow: auto;}#sk-9073c654-0f8b-40cd-9957-726286c54640 div.sk-estimator input.sk-toggleable__control:checked~label.sk-toggleable__label {background-color: #d4ebff;}#sk-9073c654-0f8b-40cd-9957-726286c54640 div.sk-label input.sk-toggleable__control:checked~label.sk-toggleable__label {background-color: #d4ebff;}#sk-9073c654-0f8b-40cd-9957-726286c54640 input.sk-hidden--visually {border: 0;clip: rect(1px 1px 1px 1px);clip: rect(1px, 1px, 1px, 1px);height: 1px;margin: -1px;overflow: hidden;padding: 0;position: absolute;width: 1px;}#sk-9073c654-0f8b-40cd-9957-726286c54640 div.sk-estimator {font-family: monospace;background-color: #f0f8ff;margin: 0.25em 0.25em;border: 1px dotted black;border-radius: 0.25em;box-sizing: border-box;}#sk-9073c654-0f8b-40cd-9957-726286c54640 div.sk-estimator:hover {background-color: #d4ebff;}#sk-9073c654-0f8b-40cd-9957-726286c54640 div.sk-parallel-item::after {content: \"\";width: 100%;border-bottom: 1px solid gray;flex-grow: 1;}#sk-9073c654-0f8b-40cd-9957-726286c54640 div.sk-label:hover label.sk-toggleable__label {background-color: #d4ebff;}#sk-9073c654-0f8b-40cd-9957-726286c54640 div.sk-serial::before {content: \"\";position: absolute;border-left: 1px solid gray;box-sizing: border-box;top: 2em;bottom: 0;left: 50%;}#sk-9073c654-0f8b-40cd-9957-726286c54640 div.sk-serial {display: flex;flex-direction: column;align-items: center;background-color: white;}#sk-9073c654-0f8b-40cd-9957-726286c54640 div.sk-item {z-index: 1;}#sk-9073c654-0f8b-40cd-9957-726286c54640 div.sk-parallel {display: flex;align-items: stretch;justify-content: center;background-color: white;}#sk-9073c654-0f8b-40cd-9957-726286c54640 div.sk-parallel-item {display: flex;flex-direction: column;position: relative;background-color: white;}#sk-9073c654-0f8b-40cd-9957-726286c54640 div.sk-parallel-item:first-child::after {align-self: flex-end;width: 50%;}#sk-9073c654-0f8b-40cd-9957-726286c54640 div.sk-parallel-item:last-child::after {align-self: flex-start;width: 50%;}#sk-9073c654-0f8b-40cd-9957-726286c54640 div.sk-parallel-item:only-child::after {width: 0;}#sk-9073c654-0f8b-40cd-9957-726286c54640 div.sk-dashed-wrapped {border: 1px dashed gray;margin: 0.2em;box-sizing: border-box;padding-bottom: 0.1em;background-color: white;position: relative;}#sk-9073c654-0f8b-40cd-9957-726286c54640 div.sk-label label {font-family: monospace;font-weight: bold;background-color: white;display: inline-block;line-height: 1.2em;}#sk-9073c654-0f8b-40cd-9957-726286c54640 div.sk-label-container {position: relative;z-index: 2;text-align: center;}#sk-9073c654-0f8b-40cd-9957-726286c54640 div.sk-container {display: inline-block;position: relative;}</style><div id=\"sk-9073c654-0f8b-40cd-9957-726286c54640\" class\"sk-top-container\"><div class=\"sk-container\"><div class=\"sk-item sk-dashed-wrapped\"><div class=\"sk-label-container\"><div class=\"sk-label sk-toggleable\"><input class=\"sk-toggleable__control sk-hidden--visually\" id=\"9251f280-27d6-4b75-8403-41464fb7e8f9\" type=\"checkbox\" ><label class=\"sk-toggleable__label\" for=\"9251f280-27d6-4b75-8403-41464fb7e8f9\">StackingClassifier</label><div class=\"sk-toggleable__content\"><pre>StackingClassifier(estimators=[('SVM',\n",
       "                                Pipeline(steps=[('pipeline',\n",
       "                                                 Pipeline(steps=[('data_transformer',\n",
       "                                                                  ColumnTransformer(transformers=[('numerical',\n",
       "                                                                                                   Pipeline(steps=[('imputer',\n",
       "                                                                                                                    SimpleImputer()),\n",
       "                                                                                                                   ('scaler',\n",
       "                                                                                                                    StandardScaler()),\n",
       "                                                                                                                   ('feature_selector',\n",
       "                                                                                                                    SelectKBest(k='all'))]),\n",
       "                                                                                                   ['Age',\n",
       "                                                                                                    'Height',\n",
       "                                                                                                    'Weight']),\n",
       "                                                                                                  ('categorical',\n",
       "                                                                                                   Pipeline(steps=[('imputer',\n",
       "                                                                                                                    SimpleImputer()),\n",
       "                                                                                                                   (...\n",
       "                                                               max_depth=None,\n",
       "                                                               min_child_weight=None,\n",
       "                                                               missing=nan,\n",
       "                                                               monotone_constraints=None,\n",
       "                                                               n_estimators=100,\n",
       "                                                               n_jobs=-1,\n",
       "                                                               num_parallel_tree=None,\n",
       "                                                               random_state=None,\n",
       "                                                               reg_alpha=None,\n",
       "                                                               reg_lambda=None,\n",
       "                                                               scale_pos_weight=None,\n",
       "                                                               subsample=None,\n",
       "                                                               tree_method=None,\n",
       "                                                               validate_parameters=None,\n",
       "                                                               verbosity=None))]))],\n",
       "                   final_estimator=LogisticRegression(n_jobs=-1, verbose=True),\n",
       "                   n_jobs=-1, verbose=True)</pre></div></div></div><div class=\"sk-serial\"><div class=\"sk-item\"><div class=\"sk-serial\"><div class=\"sk-item\"><div class=\"sk-parallel\"><div class=\"sk-parallel-item\"><div class=\"sk-item\"><div class=\"sk-label-container\"><div class=\"sk-label sk-toggleable\"><label>SVM</label></div></div><div class=\"sk-serial\"><div class=\"sk-item\"><div class=\"sk-serial\"><div class=\"sk-item\"><div class=\"sk-label-container\"><div class=\"sk-label sk-toggleable\"><input class=\"sk-toggleable__control sk-hidden--visually\" id=\"b6230388-b0d9-408c-b344-19a279a545f2\" type=\"checkbox\" ><label class=\"sk-toggleable__label\" for=\"b6230388-b0d9-408c-b344-19a279a545f2\">pipeline: Pipeline</label><div class=\"sk-toggleable__content\"><pre>Pipeline(steps=[('data_transformer',\n",
       "                 ColumnTransformer(transformers=[('numerical',\n",
       "                                                  Pipeline(steps=[('imputer',\n",
       "                                                                   SimpleImputer()),\n",
       "                                                                  ('scaler',\n",
       "                                                                   StandardScaler()),\n",
       "                                                                  ('feature_selector',\n",
       "                                                                   SelectKBest(k='all'))]),\n",
       "                                                  ['Age', 'Height', 'Weight']),\n",
       "                                                 ('categorical',\n",
       "                                                  Pipeline(steps=[('imputer',\n",
       "                                                                   SimpleImputer()),\n",
       "                                                                  ('onehot',\n",
       "                                                                   OneHotEncoder(handle_unknown='ignore'))]),\n",
       "                                                  ['Getting up', 'God',\n",
       "                                                   'Health', 'Borrowed stuff',\n",
       "                                                   'Self-criticism',\n",
       "                                                   'Elections',\n",
       "                                                   'Number of friends',\n",
       "                                                   'Spending on healthy eating',\n",
       "                                                   'Music', 'Movies',\n",
       "                                                   'Friends versus money',\n",
       "                                                   'Changing the past'])]))])</pre></div></div></div><div class=\"sk-serial\"><div class=\"sk-item sk-dashed-wrapped\"><div class=\"sk-label-container\"><div class=\"sk-label sk-toggleable\"><input class=\"sk-toggleable__control sk-hidden--visually\" id=\"09ef521b-21fd-4615-82d2-1a9bb131a5bd\" type=\"checkbox\" ><label class=\"sk-toggleable__label\" for=\"09ef521b-21fd-4615-82d2-1a9bb131a5bd\">data_transformer: ColumnTransformer</label><div class=\"sk-toggleable__content\"><pre>ColumnTransformer(transformers=[('numerical',\n",
       "                                 Pipeline(steps=[('imputer', SimpleImputer()),\n",
       "                                                 ('scaler', StandardScaler()),\n",
       "                                                 ('feature_selector',\n",
       "                                                  SelectKBest(k='all'))]),\n",
       "                                 ['Age', 'Height', 'Weight']),\n",
       "                                ('categorical',\n",
       "                                 Pipeline(steps=[('imputer', SimpleImputer()),\n",
       "                                                 ('onehot',\n",
       "                                                  OneHotEncoder(handle_unknown='ignore'))]),\n",
       "                                 ['Getting up', 'God', 'Health',\n",
       "                                  'Borrowed stuff', 'Self-criticism',\n",
       "                                  'Elections', 'Number of friends',\n",
       "                                  'Spending on healthy eating', 'Music',\n",
       "                                  'Movies', 'Friends versus money',\n",
       "                                  'Changing the past'])])</pre></div></div></div><div class=\"sk-parallel\"><div class=\"sk-parallel-item\"><div class=\"sk-item\"><div class=\"sk-label-container\"><div class=\"sk-label sk-toggleable\"><input class=\"sk-toggleable__control sk-hidden--visually\" id=\"aa9711db-e82a-457a-a86a-8c227eb7ba75\" type=\"checkbox\" ><label class=\"sk-toggleable__label\" for=\"aa9711db-e82a-457a-a86a-8c227eb7ba75\">numerical</label><div class=\"sk-toggleable__content\"><pre>['Age', 'Height', 'Weight']</pre></div></div></div><div class=\"sk-serial\"><div class=\"sk-item\"><div class=\"sk-serial\"><div class=\"sk-item\"><div class=\"sk-estimator sk-toggleable\"><input class=\"sk-toggleable__control sk-hidden--visually\" id=\"0017b554-1cfa-4c95-bb9e-111b61acf180\" type=\"checkbox\" ><label class=\"sk-toggleable__label\" for=\"0017b554-1cfa-4c95-bb9e-111b61acf180\">SimpleImputer</label><div class=\"sk-toggleable__content\"><pre>SimpleImputer()</pre></div></div></div><div class=\"sk-item\"><div class=\"sk-estimator sk-toggleable\"><input class=\"sk-toggleable__control sk-hidden--visually\" id=\"0ed598c6-279f-4fcb-bb75-b9462bbcde1c\" type=\"checkbox\" ><label class=\"sk-toggleable__label\" for=\"0ed598c6-279f-4fcb-bb75-b9462bbcde1c\">StandardScaler</label><div class=\"sk-toggleable__content\"><pre>StandardScaler()</pre></div></div></div><div class=\"sk-item\"><div class=\"sk-estimator sk-toggleable\"><input class=\"sk-toggleable__control sk-hidden--visually\" id=\"171d54d6-8b30-46ee-b3ba-d789ce44d119\" type=\"checkbox\" ><label class=\"sk-toggleable__label\" for=\"171d54d6-8b30-46ee-b3ba-d789ce44d119\">SelectKBest</label><div class=\"sk-toggleable__content\"><pre>SelectKBest(k='all')</pre></div></div></div></div></div></div></div></div><div class=\"sk-parallel-item\"><div class=\"sk-item\"><div class=\"sk-label-container\"><div class=\"sk-label sk-toggleable\"><input class=\"sk-toggleable__control sk-hidden--visually\" id=\"62b01e5f-0b5e-41f4-935c-f4a0d93f4dcd\" type=\"checkbox\" ><label class=\"sk-toggleable__label\" for=\"62b01e5f-0b5e-41f4-935c-f4a0d93f4dcd\">categorical</label><div class=\"sk-toggleable__content\"><pre>['Getting up', 'God', 'Health', 'Borrowed stuff', 'Self-criticism', 'Elections', 'Number of friends', 'Spending on healthy eating', 'Music', 'Movies', 'Friends versus money', 'Changing the past']</pre></div></div></div><div class=\"sk-serial\"><div class=\"sk-item\"><div class=\"sk-serial\"><div class=\"sk-item\"><div class=\"sk-estimator sk-toggleable\"><input class=\"sk-toggleable__control sk-hidden--visually\" id=\"78c5023a-8407-42da-9f13-d23dfb0b7854\" type=\"checkbox\" ><label class=\"sk-toggleable__label\" for=\"78c5023a-8407-42da-9f13-d23dfb0b7854\">SimpleImputer</label><div class=\"sk-toggleable__content\"><pre>SimpleImputer()</pre></div></div></div><div class=\"sk-item\"><div class=\"sk-estimator sk-toggleable\"><input class=\"sk-toggleable__control sk-hidden--visually\" id=\"5e951e6d-e0bb-413c-95a0-5e021e640380\" type=\"checkbox\" ><label class=\"sk-toggleable__label\" for=\"5e951e6d-e0bb-413c-95a0-5e021e640380\">OneHotEncoder</label><div class=\"sk-toggleable__content\"><pre>OneHotEncoder(handle_unknown='ignore')</pre></div></div></div></div></div></div></div></div></div></div></div></div><div class=\"sk-item\"><div class=\"sk-estimator sk-toggleable\"><input class=\"sk-toggleable__control sk-hidden--visually\" id=\"f45763a2-f1dd-4765-9346-4655b4eb401d\" type=\"checkbox\" ><label class=\"sk-toggleable__label\" for=\"f45763a2-f1dd-4765-9346-4655b4eb401d\">LinearSVC</label><div class=\"sk-toggleable__content\"><pre>LinearSVC()</pre></div></div></div></div></div></div></div></div><div class=\"sk-parallel-item\"><div class=\"sk-item\"><div class=\"sk-label-container\"><div class=\"sk-label sk-toggleable\"><label>Random_Forest</label></div></div><div class=\"sk-serial\"><div class=\"sk-item\"><div class=\"sk-serial\"><div class=\"sk-item\"><div class=\"sk-label-container\"><div class=\"sk-label sk-toggleable\"><input class=\"sk-toggleable__control sk-hidden--visually\" id=\"39fc3cbf-3bb7-4ec6-879c-4cf132901716\" type=\"checkbox\" ><label class=\"sk-toggleable__label\" for=\"39fc3cbf-3bb7-4ec6-879c-4cf132901716\">pipeline: Pipeline</label><div class=\"sk-toggleable__content\"><pre>Pipeline(steps=[('data_transformer',\n",
       "                 ColumnTransformer(transformers=[('numerical',\n",
       "                                                  Pipeline(steps=[('imputer',\n",
       "                                                                   SimpleImputer()),\n",
       "                                                                  ('scaler',\n",
       "                                                                   StandardScaler()),\n",
       "                                                                  ('feature_selector',\n",
       "                                                                   SelectKBest(k='all'))]),\n",
       "                                                  ['Age', 'Height', 'Weight']),\n",
       "                                                 ('categorical',\n",
       "                                                  Pipeline(steps=[('imputer',\n",
       "                                                                   SimpleImputer()),\n",
       "                                                                  ('onehot',\n",
       "                                                                   OneHotEncoder(handle_unknown='ignore'))]),\n",
       "                                                  ['Getting up', 'God',\n",
       "                                                   'Health', 'Borrowed stuff',\n",
       "                                                   'Self-criticism',\n",
       "                                                   'Elections',\n",
       "                                                   'Number of friends',\n",
       "                                                   'Spending on healthy eating',\n",
       "                                                   'Music', 'Movies',\n",
       "                                                   'Friends versus money',\n",
       "                                                   'Changing the past'])]))])</pre></div></div></div><div class=\"sk-serial\"><div class=\"sk-item sk-dashed-wrapped\"><div class=\"sk-label-container\"><div class=\"sk-label sk-toggleable\"><input class=\"sk-toggleable__control sk-hidden--visually\" id=\"f8d8f6b8-8da0-4ba1-a7df-b649f46dc323\" type=\"checkbox\" ><label class=\"sk-toggleable__label\" for=\"f8d8f6b8-8da0-4ba1-a7df-b649f46dc323\">data_transformer: ColumnTransformer</label><div class=\"sk-toggleable__content\"><pre>ColumnTransformer(transformers=[('numerical',\n",
       "                                 Pipeline(steps=[('imputer', SimpleImputer()),\n",
       "                                                 ('scaler', StandardScaler()),\n",
       "                                                 ('feature_selector',\n",
       "                                                  SelectKBest(k='all'))]),\n",
       "                                 ['Age', 'Height', 'Weight']),\n",
       "                                ('categorical',\n",
       "                                 Pipeline(steps=[('imputer', SimpleImputer()),\n",
       "                                                 ('onehot',\n",
       "                                                  OneHotEncoder(handle_unknown='ignore'))]),\n",
       "                                 ['Getting up', 'God', 'Health',\n",
       "                                  'Borrowed stuff', 'Self-criticism',\n",
       "                                  'Elections', 'Number of friends',\n",
       "                                  'Spending on healthy eating', 'Music',\n",
       "                                  'Movies', 'Friends versus money',\n",
       "                                  'Changing the past'])])</pre></div></div></div><div class=\"sk-parallel\"><div class=\"sk-parallel-item\"><div class=\"sk-item\"><div class=\"sk-label-container\"><div class=\"sk-label sk-toggleable\"><input class=\"sk-toggleable__control sk-hidden--visually\" id=\"23d1fcfc-c9af-4f86-9378-9d24f588e8ec\" type=\"checkbox\" ><label class=\"sk-toggleable__label\" for=\"23d1fcfc-c9af-4f86-9378-9d24f588e8ec\">numerical</label><div class=\"sk-toggleable__content\"><pre>['Age', 'Height', 'Weight']</pre></div></div></div><div class=\"sk-serial\"><div class=\"sk-item\"><div class=\"sk-serial\"><div class=\"sk-item\"><div class=\"sk-estimator sk-toggleable\"><input class=\"sk-toggleable__control sk-hidden--visually\" id=\"e1021e96-16a0-4a74-ab6d-fda2c741366c\" type=\"checkbox\" ><label class=\"sk-toggleable__label\" for=\"e1021e96-16a0-4a74-ab6d-fda2c741366c\">SimpleImputer</label><div class=\"sk-toggleable__content\"><pre>SimpleImputer()</pre></div></div></div><div class=\"sk-item\"><div class=\"sk-estimator sk-toggleable\"><input class=\"sk-toggleable__control sk-hidden--visually\" id=\"f2479251-5ec2-4935-91e1-1a0ba313adad\" type=\"checkbox\" ><label class=\"sk-toggleable__label\" for=\"f2479251-5ec2-4935-91e1-1a0ba313adad\">StandardScaler</label><div class=\"sk-toggleable__content\"><pre>StandardScaler()</pre></div></div></div><div class=\"sk-item\"><div class=\"sk-estimator sk-toggleable\"><input class=\"sk-toggleable__control sk-hidden--visually\" id=\"fbecdf90-fbee-40c9-afc3-3d743a8438e4\" type=\"checkbox\" ><label class=\"sk-toggleable__label\" for=\"fbecdf90-fbee-40c9-afc3-3d743a8438e4\">SelectKBest</label><div class=\"sk-toggleable__content\"><pre>SelectKBest(k='all')</pre></div></div></div></div></div></div></div></div><div class=\"sk-parallel-item\"><div class=\"sk-item\"><div class=\"sk-label-container\"><div class=\"sk-label sk-toggleable\"><input class=\"sk-toggleable__control sk-hidden--visually\" id=\"3502e1ed-cd83-4a15-a676-357077435570\" type=\"checkbox\" ><label class=\"sk-toggleable__label\" for=\"3502e1ed-cd83-4a15-a676-357077435570\">categorical</label><div class=\"sk-toggleable__content\"><pre>['Getting up', 'God', 'Health', 'Borrowed stuff', 'Self-criticism', 'Elections', 'Number of friends', 'Spending on healthy eating', 'Music', 'Movies', 'Friends versus money', 'Changing the past']</pre></div></div></div><div class=\"sk-serial\"><div class=\"sk-item\"><div class=\"sk-serial\"><div class=\"sk-item\"><div class=\"sk-estimator sk-toggleable\"><input class=\"sk-toggleable__control sk-hidden--visually\" id=\"89f2b8a4-ddab-49ac-bfbd-2ee42a1cd710\" type=\"checkbox\" ><label class=\"sk-toggleable__label\" for=\"89f2b8a4-ddab-49ac-bfbd-2ee42a1cd710\">SimpleImputer</label><div class=\"sk-toggleable__content\"><pre>SimpleImputer()</pre></div></div></div><div class=\"sk-item\"><div class=\"sk-estimator sk-toggleable\"><input class=\"sk-toggleable__control sk-hidden--visually\" id=\"fe3da90b-f1cb-48ec-9f0e-4df33768d17f\" type=\"checkbox\" ><label class=\"sk-toggleable__label\" for=\"fe3da90b-f1cb-48ec-9f0e-4df33768d17f\">OneHotEncoder</label><div class=\"sk-toggleable__content\"><pre>OneHotEncoder(handle_unknown='ignore')</pre></div></div></div></div></div></div></div></div></div></div></div></div><div class=\"sk-item\"><div class=\"sk-estimator sk-toggleable\"><input class=\"sk-toggleable__control sk-hidden--visually\" id=\"9628ca92-cea4-45a9-a534-2a9980c155f5\" type=\"checkbox\" ><label class=\"sk-toggleable__label\" for=\"9628ca92-cea4-45a9-a534-2a9980c155f5\">RandomForestClassifier</label><div class=\"sk-toggleable__content\"><pre>RandomForestClassifier(n_jobs=-1)</pre></div></div></div></div></div></div></div></div><div class=\"sk-parallel-item\"><div class=\"sk-item\"><div class=\"sk-label-container\"><div class=\"sk-label sk-toggleable\"><label>xgboost</label></div></div><div class=\"sk-serial\"><div class=\"sk-item\"><div class=\"sk-serial\"><div class=\"sk-item\"><div class=\"sk-label-container\"><div class=\"sk-label sk-toggleable\"><input class=\"sk-toggleable__control sk-hidden--visually\" id=\"38d0b5d4-0865-466f-b48b-8d227fcb6559\" type=\"checkbox\" ><label class=\"sk-toggleable__label\" for=\"38d0b5d4-0865-466f-b48b-8d227fcb6559\">pipeline: Pipeline</label><div class=\"sk-toggleable__content\"><pre>Pipeline(steps=[('data_transformer',\n",
       "                 ColumnTransformer(transformers=[('numerical',\n",
       "                                                  Pipeline(steps=[('imputer',\n",
       "                                                                   SimpleImputer()),\n",
       "                                                                  ('scaler',\n",
       "                                                                   StandardScaler()),\n",
       "                                                                  ('feature_selector',\n",
       "                                                                   SelectKBest(k='all'))]),\n",
       "                                                  ['Age', 'Height', 'Weight']),\n",
       "                                                 ('categorical',\n",
       "                                                  Pipeline(steps=[('imputer',\n",
       "                                                                   SimpleImputer()),\n",
       "                                                                  ('onehot',\n",
       "                                                                   OneHotEncoder(handle_unknown='ignore'))]),\n",
       "                                                  ['Getting up', 'God',\n",
       "                                                   'Health', 'Borrowed stuff',\n",
       "                                                   'Self-criticism',\n",
       "                                                   'Elections',\n",
       "                                                   'Number of friends',\n",
       "                                                   'Spending on healthy eating',\n",
       "                                                   'Music', 'Movies',\n",
       "                                                   'Friends versus money',\n",
       "                                                   'Changing the past'])]))])</pre></div></div></div><div class=\"sk-serial\"><div class=\"sk-item sk-dashed-wrapped\"><div class=\"sk-label-container\"><div class=\"sk-label sk-toggleable\"><input class=\"sk-toggleable__control sk-hidden--visually\" id=\"171d81ce-c066-4b44-a1cd-055920c3e295\" type=\"checkbox\" ><label class=\"sk-toggleable__label\" for=\"171d81ce-c066-4b44-a1cd-055920c3e295\">data_transformer: ColumnTransformer</label><div class=\"sk-toggleable__content\"><pre>ColumnTransformer(transformers=[('numerical',\n",
       "                                 Pipeline(steps=[('imputer', SimpleImputer()),\n",
       "                                                 ('scaler', StandardScaler()),\n",
       "                                                 ('feature_selector',\n",
       "                                                  SelectKBest(k='all'))]),\n",
       "                                 ['Age', 'Height', 'Weight']),\n",
       "                                ('categorical',\n",
       "                                 Pipeline(steps=[('imputer', SimpleImputer()),\n",
       "                                                 ('onehot',\n",
       "                                                  OneHotEncoder(handle_unknown='ignore'))]),\n",
       "                                 ['Getting up', 'God', 'Health',\n",
       "                                  'Borrowed stuff', 'Self-criticism',\n",
       "                                  'Elections', 'Number of friends',\n",
       "                                  'Spending on healthy eating', 'Music',\n",
       "                                  'Movies', 'Friends versus money',\n",
       "                                  'Changing the past'])])</pre></div></div></div><div class=\"sk-parallel\"><div class=\"sk-parallel-item\"><div class=\"sk-item\"><div class=\"sk-label-container\"><div class=\"sk-label sk-toggleable\"><input class=\"sk-toggleable__control sk-hidden--visually\" id=\"cb5928fc-fcde-4dbe-9360-408538bf270a\" type=\"checkbox\" ><label class=\"sk-toggleable__label\" for=\"cb5928fc-fcde-4dbe-9360-408538bf270a\">numerical</label><div class=\"sk-toggleable__content\"><pre>['Age', 'Height', 'Weight']</pre></div></div></div><div class=\"sk-serial\"><div class=\"sk-item\"><div class=\"sk-serial\"><div class=\"sk-item\"><div class=\"sk-estimator sk-toggleable\"><input class=\"sk-toggleable__control sk-hidden--visually\" id=\"1f795ba1-9ac0-450e-862e-47c379cc2b3d\" type=\"checkbox\" ><label class=\"sk-toggleable__label\" for=\"1f795ba1-9ac0-450e-862e-47c379cc2b3d\">SimpleImputer</label><div class=\"sk-toggleable__content\"><pre>SimpleImputer()</pre></div></div></div><div class=\"sk-item\"><div class=\"sk-estimator sk-toggleable\"><input class=\"sk-toggleable__control sk-hidden--visually\" id=\"6e43ae73-7be5-44fc-bfbc-93a475b92c4b\" type=\"checkbox\" ><label class=\"sk-toggleable__label\" for=\"6e43ae73-7be5-44fc-bfbc-93a475b92c4b\">StandardScaler</label><div class=\"sk-toggleable__content\"><pre>StandardScaler()</pre></div></div></div><div class=\"sk-item\"><div class=\"sk-estimator sk-toggleable\"><input class=\"sk-toggleable__control sk-hidden--visually\" id=\"cc3bb3f6-a2f7-40a5-aff1-94688e681ca2\" type=\"checkbox\" ><label class=\"sk-toggleable__label\" for=\"cc3bb3f6-a2f7-40a5-aff1-94688e681ca2\">SelectKBest</label><div class=\"sk-toggleable__content\"><pre>SelectKBest(k='all')</pre></div></div></div></div></div></div></div></div><div class=\"sk-parallel-item\"><div class=\"sk-item\"><div class=\"sk-label-container\"><div class=\"sk-label sk-toggleable\"><input class=\"sk-toggleable__control sk-hidden--visually\" id=\"a582a652-5890-4da2-b120-2e6c2d24937b\" type=\"checkbox\" ><label class=\"sk-toggleable__label\" for=\"a582a652-5890-4da2-b120-2e6c2d24937b\">categorical</label><div class=\"sk-toggleable__content\"><pre>['Getting up', 'God', 'Health', 'Borrowed stuff', 'Self-criticism', 'Elections', 'Number of friends', 'Spending on healthy eating', 'Music', 'Movies', 'Friends versus money', 'Changing the past']</pre></div></div></div><div class=\"sk-serial\"><div class=\"sk-item\"><div class=\"sk-serial\"><div class=\"sk-item\"><div class=\"sk-estimator sk-toggleable\"><input class=\"sk-toggleable__control sk-hidden--visually\" id=\"c67ae7c5-a9d9-4a66-8aef-1a299e1eb897\" type=\"checkbox\" ><label class=\"sk-toggleable__label\" for=\"c67ae7c5-a9d9-4a66-8aef-1a299e1eb897\">SimpleImputer</label><div class=\"sk-toggleable__content\"><pre>SimpleImputer()</pre></div></div></div><div class=\"sk-item\"><div class=\"sk-estimator sk-toggleable\"><input class=\"sk-toggleable__control sk-hidden--visually\" id=\"1b7f3282-bf70-4913-adb2-a7a6ff4beada\" type=\"checkbox\" ><label class=\"sk-toggleable__label\" for=\"1b7f3282-bf70-4913-adb2-a7a6ff4beada\">OneHotEncoder</label><div class=\"sk-toggleable__content\"><pre>OneHotEncoder(handle_unknown='ignore')</pre></div></div></div></div></div></div></div></div></div></div></div></div><div class=\"sk-item\"><div class=\"sk-estimator sk-toggleable\"><input class=\"sk-toggleable__control sk-hidden--visually\" id=\"2bb6a933-be0a-405a-b60c-4f73735d3207\" type=\"checkbox\" ><label class=\"sk-toggleable__label\" for=\"2bb6a933-be0a-405a-b60c-4f73735d3207\">XGBClassifier</label><div class=\"sk-toggleable__content\"><pre>XGBClassifier(base_score=None, booster=None, colsample_bylevel=None,\n",
       "              colsample_bynode=None, colsample_bytree=None, gamma=None,\n",
       "              gpu_id=None, importance_type='gain', interaction_constraints=None,\n",
       "              learning_rate=None, max_delta_step=None, max_depth=None,\n",
       "              min_child_weight=None, missing=nan, monotone_constraints=None,\n",
       "              n_estimators=100, n_jobs=-1, num_parallel_tree=None,\n",
       "              random_state=None, reg_alpha=None, reg_lambda=None,\n",
       "              scale_pos_weight=None, subsample=None, tree_method=None,\n",
       "              validate_parameters=None, verbosity=None)</pre></div></div></div></div></div></div></div></div></div></div><div class=\"sk-item\"><div class=\"sk-estimator sk-toggleable\"><input class=\"sk-toggleable__control sk-hidden--visually\" id=\"eb6b43db-7e8f-4910-9065-78dfefc52837\" type=\"checkbox\" ><label class=\"sk-toggleable__label\" for=\"eb6b43db-7e8f-4910-9065-78dfefc52837\">LogisticRegression</label><div class=\"sk-toggleable__content\"><pre>LogisticRegression(n_jobs=-1, verbose=True)</pre></div></div></div></div></div></div></div></div></div>"
      ],
      "text/plain": [
       "StackingClassifier(estimators=[('SVM',\n",
       "                                Pipeline(steps=[('pipeline',\n",
       "                                                 Pipeline(steps=[('data_transformer',\n",
       "                                                                  ColumnTransformer(transformers=[('numerical',\n",
       "                                                                                                   Pipeline(steps=[('imputer',\n",
       "                                                                                                                    SimpleImputer()),\n",
       "                                                                                                                   ('scaler',\n",
       "                                                                                                                    StandardScaler()),\n",
       "                                                                                                                   ('feature_selector',\n",
       "                                                                                                                    SelectKBest(k='all'))]),\n",
       "                                                                                                   ['Age',\n",
       "                                                                                                    'Height',\n",
       "                                                                                                    'Weight']),\n",
       "                                                                                                  ('categorical',\n",
       "                                                                                                   Pipeline(steps=[('imputer',\n",
       "                                                                                                                    SimpleImputer()),\n",
       "                                                                                                                   (...\n",
       "                                                               max_depth=None,\n",
       "                                                               min_child_weight=None,\n",
       "                                                               missing=nan,\n",
       "                                                               monotone_constraints=None,\n",
       "                                                               n_estimators=100,\n",
       "                                                               n_jobs=-1,\n",
       "                                                               num_parallel_tree=None,\n",
       "                                                               random_state=None,\n",
       "                                                               reg_alpha=None,\n",
       "                                                               reg_lambda=None,\n",
       "                                                               scale_pos_weight=None,\n",
       "                                                               subsample=None,\n",
       "                                                               tree_method=None,\n",
       "                                                               validate_parameters=None,\n",
       "                                                               verbosity=None))]))],\n",
       "                   final_estimator=LogisticRegression(n_jobs=-1, verbose=True),\n",
       "                   n_jobs=-1, verbose=True)"
      ]
     },
     "execution_count": 273,
     "metadata": {},
     "output_type": "execute_result"
    }
   ],
   "source": [
    "stacking_classifier.fit(data[interesting_features], data[target])\n"
   ]
  },
  {
   "cell_type": "code",
   "execution_count": 274,
   "metadata": {
    "ExecuteTime": {
     "end_time": "2022-04-28T16:33:03.631510Z",
     "start_time": "2022-04-28T16:33:03.541355Z"
    }
   },
   "outputs": [
    {
     "name": "stdout",
     "output_type": "stream",
     "text": [
      "              precision    recall  f1-score   support\n",
      "\n",
      "          -1       0.98      0.95      0.97       355\n",
      "           0       0.96      1.00      0.98       509\n",
      "           1       1.00      0.93      0.96       146\n",
      "\n",
      "    accuracy                           0.97      1010\n",
      "   macro avg       0.98      0.96      0.97      1010\n",
      "weighted avg       0.97      0.97      0.97      1010\n",
      "\n"
     ]
    }
   ],
   "source": [
    "preds = stacking_classifier.predict(data[interesting_features])\n",
    "\n",
    "print(classification_report(data[target], preds))"
   ]
  },
  {
   "cell_type": "markdown",
   "metadata": {},
   "source": [
    "# Гибкость паплайна"
   ]
  },
  {
   "cell_type": "code",
   "execution_count": 275,
   "metadata": {
    "ExecuteTime": {
     "end_time": "2022-04-28T16:33:03.647510Z",
     "start_time": "2022-04-28T16:33:03.633512Z"
    }
   },
   "outputs": [],
   "source": [
    "# stacking_classifier.estimators[0][1][0].steps[0][1].transformers[0][1].steps[2][1].k"
   ]
  },
  {
   "cell_type": "code",
   "execution_count": null,
   "metadata": {},
   "outputs": [],
   "source": []
  },
  {
   "cell_type": "code",
   "execution_count": null,
   "metadata": {},
   "outputs": [],
   "source": []
  },
  {
   "cell_type": "markdown",
   "metadata": {},
   "source": [
    "# Как сохранить всю эту махину?"
   ]
  },
  {
   "cell_type": "code",
   "execution_count": 276,
   "metadata": {
    "ExecuteTime": {
     "end_time": "2022-04-28T16:33:03.663511Z",
     "start_time": "2022-04-28T16:33:03.649513Z"
    }
   },
   "outputs": [],
   "source": [
    "# Для сериализации моделей\n",
    "import pickle"
   ]
  },
  {
   "cell_type": "code",
   "execution_count": 277,
   "metadata": {
    "ExecuteTime": {
     "end_time": "2022-04-28T16:33:03.775520Z",
     "start_time": "2022-04-28T16:33:03.664511Z"
    }
   },
   "outputs": [],
   "source": [
    "with open(\"owesome_pipeline.pkl\", \"wb\") as f:\n",
    "    pickle.dump(stacking_classifier, f)"
   ]
  },
  {
   "cell_type": "code",
   "execution_count": null,
   "metadata": {},
   "outputs": [],
   "source": []
  },
  {
   "cell_type": "markdown",
   "metadata": {},
   "source": [
    "# Импорт модели"
   ]
  },
  {
   "cell_type": "code",
   "execution_count": 278,
   "metadata": {
    "ExecuteTime": {
     "end_time": "2022-04-28T16:33:03.870527Z",
     "start_time": "2022-04-28T16:33:03.777521Z"
    }
   },
   "outputs": [],
   "source": [
    "with open(\"owesome_pipeline.pkl\", 'rb') as f:\n",
    "    pipeline_from_saved = pickle.load(f)"
   ]
  },
  {
   "cell_type": "code",
   "execution_count": null,
   "metadata": {},
   "outputs": [],
   "source": []
  },
  {
   "cell_type": "code",
   "execution_count": 279,
   "metadata": {
    "ExecuteTime": {
     "end_time": "2022-04-28T16:33:06.186426Z",
     "start_time": "2022-04-28T16:33:03.872530Z"
    }
   },
   "outputs": [
    {
     "name": "stdout",
     "output_type": "stream",
     "text": [
      "              precision    recall  f1-score   support\n",
      "\n",
      "          -1       0.55      0.41      0.47        71\n",
      "           0       0.59      0.81      0.68       102\n",
      "           1       1.00      0.28      0.43        29\n",
      "\n",
      "    accuracy                           0.59       202\n",
      "   macro avg       0.71      0.50      0.53       202\n",
      "weighted avg       0.63      0.59      0.57       202\n",
      "\n"
     ]
    },
    {
     "name": "stderr",
     "output_type": "stream",
     "text": [
      "[Parallel(n_jobs=-1)]: Using backend LokyBackend with 8 concurrent workers.\n",
      "[Parallel(n_jobs=-1)]: Done   1 out of   1 | elapsed:    0.0s finished\n"
     ]
    }
   ],
   "source": [
    "pipeline_from_saved.fit(data_train, data_train[target])\n",
    "preds = pipeline_from_saved.predict(data_test)\n",
    "print(classification_report(data_test[target], preds))"
   ]
  },
  {
   "cell_type": "code",
   "execution_count": null,
   "metadata": {},
   "outputs": [],
   "source": []
  },
  {
   "cell_type": "code",
   "execution_count": null,
   "metadata": {},
   "outputs": [],
   "source": []
  },
  {
   "cell_type": "code",
   "execution_count": null,
   "metadata": {},
   "outputs": [],
   "source": []
  },
  {
   "cell_type": "code",
   "execution_count": null,
   "metadata": {},
   "outputs": [],
   "source": []
  },
  {
   "cell_type": "code",
   "execution_count": null,
   "metadata": {},
   "outputs": [],
   "source": []
  },
  {
   "cell_type": "markdown",
   "metadata": {},
   "source": [
    "# Что дальше?"
   ]
  },
  {
   "cell_type": "markdown",
   "metadata": {},
   "source": [
    "<div class=\"alert alert-success\">\n",
    "    \n",
    "* Признаки бывают разные\n",
    "* Предобработка бывает сложнее\n",
    "* Генерация новых признаков"
   ]
  },
  {
   "cell_type": "code",
   "execution_count": null,
   "metadata": {},
   "outputs": [],
   "source": []
  },
  {
   "cell_type": "code",
   "execution_count": null,
   "metadata": {},
   "outputs": [],
   "source": []
  },
  {
   "cell_type": "code",
   "execution_count": null,
   "metadata": {},
   "outputs": [],
   "source": []
  },
  {
   "cell_type": "code",
   "execution_count": null,
   "metadata": {},
   "outputs": [],
   "source": []
  },
  {
   "cell_type": "code",
   "execution_count": null,
   "metadata": {},
   "outputs": [],
   "source": []
  },
  {
   "cell_type": "code",
   "execution_count": null,
   "metadata": {},
   "outputs": [],
   "source": []
  },
  {
   "cell_type": "code",
   "execution_count": null,
   "metadata": {},
   "outputs": [],
   "source": []
  },
  {
   "cell_type": "code",
   "execution_count": null,
   "metadata": {},
   "outputs": [],
   "source": []
  },
  {
   "cell_type": "code",
   "execution_count": null,
   "metadata": {},
   "outputs": [],
   "source": []
  },
  {
   "cell_type": "markdown",
   "metadata": {},
   "source": [
    "<p style=\"align: center;\"><img align=center src=\"./images/Industrial-Pipeline-Cleaning.jpg\"  width=1000></p>"
   ]
  },
  {
   "cell_type": "code",
   "execution_count": 280,
   "metadata": {
    "ExecuteTime": {
     "end_time": "2022-04-28T16:33:06.201774Z",
     "start_time": "2022-04-28T16:33:06.188427Z"
    }
   },
   "outputs": [
    {
     "data": {
      "text/html": [
       "<style>.container { width:80% !important; }</style>"
      ],
      "text/plain": [
       "<IPython.core.display.HTML object>"
      ]
     },
     "metadata": {},
     "output_type": "display_data"
    }
   ],
   "source": [
    "import pandas as pd\n",
    "import numpy as np\n",
    "\n",
    "# Пара библиотек для визуализации\n",
    "import matplotlib.pyplot as plt\n",
    "import seaborn as sns\n",
    "%matplotlib inline\n",
    "\n",
    "\n",
    "from IPython.core.display import display, HTML\n",
    "display(HTML(\"<style>.container { width:80% !important; }</style>\"))\n",
    "\n",
    "import sklearn\n",
    "sklearn.set_config(display='diagram') # Подключим визуал\n",
    "\n",
    "import warnings\n",
    "warnings.filterwarnings(\"ignore\")"
   ]
  },
  {
   "cell_type": "markdown",
   "metadata": {},
   "source": [
    "# Кастомизированные опции"
   ]
  },
  {
   "cell_type": "code",
   "execution_count": 281,
   "metadata": {
    "ExecuteTime": {
     "end_time": "2022-04-28T16:33:06.232776Z",
     "start_time": "2022-04-28T16:33:06.204776Z"
    }
   },
   "outputs": [],
   "source": [
    "# Гости этого вечера. Нужные нам фрагменты для сборки пайплайна, они пригодятся нам позже\n",
    "\n",
    "# from sklearn.pipeline import (\n",
    "#     _fit_transform_one,\n",
    "#     _transform_one,\n",
    "# )\n",
    "\n",
    "# И уже знакомые нам части \n",
    "from sklearn.pipeline import Pipeline, FeatureUnion, make_pipeline\n",
    "from sklearn.compose import ColumnTransformer, make_column_selector"
   ]
  },
  {
   "cell_type": "code",
   "execution_count": null,
   "metadata": {},
   "outputs": [],
   "source": []
  },
  {
   "cell_type": "code",
   "execution_count": 282,
   "metadata": {
    "ExecuteTime": {
     "end_time": "2022-04-28T16:33:07.151106Z",
     "start_time": "2022-04-28T16:33:06.234778Z"
    }
   },
   "outputs": [
    {
     "data": {
      "text/html": [
       "<div>\n",
       "<style scoped>\n",
       "    .dataframe tbody tr th:only-of-type {\n",
       "        vertical-align: middle;\n",
       "    }\n",
       "\n",
       "    .dataframe tbody tr th {\n",
       "        vertical-align: top;\n",
       "    }\n",
       "\n",
       "    .dataframe thead th {\n",
       "        text-align: right;\n",
       "    }\n",
       "</style>\n",
       "<table border=\"1\" class=\"dataframe\">\n",
       "  <thead>\n",
       "    <tr style=\"text-align: right;\">\n",
       "      <th></th>\n",
       "      <th>Music</th>\n",
       "      <th>Slow songs or fast songs</th>\n",
       "      <th>Dance</th>\n",
       "      <th>Folk</th>\n",
       "      <th>Country</th>\n",
       "      <th>Classical music</th>\n",
       "      <th>Musical</th>\n",
       "      <th>Pop</th>\n",
       "      <th>Rock</th>\n",
       "      <th>Metal or Hardrock</th>\n",
       "      <th>...</th>\n",
       "      <th>Age</th>\n",
       "      <th>Height</th>\n",
       "      <th>Weight</th>\n",
       "      <th>Number of siblings</th>\n",
       "      <th>Gender</th>\n",
       "      <th>Left - right handed</th>\n",
       "      <th>Education</th>\n",
       "      <th>Only child</th>\n",
       "      <th>Village - town</th>\n",
       "      <th>House - block of flats</th>\n",
       "    </tr>\n",
       "  </thead>\n",
       "  <tbody>\n",
       "    <tr>\n",
       "      <th>0</th>\n",
       "      <td>5.0</td>\n",
       "      <td>3.0</td>\n",
       "      <td>2.0</td>\n",
       "      <td>1.0</td>\n",
       "      <td>2.0</td>\n",
       "      <td>2.0</td>\n",
       "      <td>1.0</td>\n",
       "      <td>5.0</td>\n",
       "      <td>5.0</td>\n",
       "      <td>1.0</td>\n",
       "      <td>...</td>\n",
       "      <td>20.0</td>\n",
       "      <td>163.0</td>\n",
       "      <td>48.0</td>\n",
       "      <td>1.0</td>\n",
       "      <td>female</td>\n",
       "      <td>right handed</td>\n",
       "      <td>college/bachelor degree</td>\n",
       "      <td>no</td>\n",
       "      <td>village</td>\n",
       "      <td>block of flats</td>\n",
       "    </tr>\n",
       "    <tr>\n",
       "      <th>1</th>\n",
       "      <td>4.0</td>\n",
       "      <td>4.0</td>\n",
       "      <td>2.0</td>\n",
       "      <td>1.0</td>\n",
       "      <td>1.0</td>\n",
       "      <td>1.0</td>\n",
       "      <td>2.0</td>\n",
       "      <td>3.0</td>\n",
       "      <td>5.0</td>\n",
       "      <td>4.0</td>\n",
       "      <td>...</td>\n",
       "      <td>19.0</td>\n",
       "      <td>163.0</td>\n",
       "      <td>58.0</td>\n",
       "      <td>2.0</td>\n",
       "      <td>female</td>\n",
       "      <td>right handed</td>\n",
       "      <td>college/bachelor degree</td>\n",
       "      <td>no</td>\n",
       "      <td>city</td>\n",
       "      <td>block of flats</td>\n",
       "    </tr>\n",
       "    <tr>\n",
       "      <th>2</th>\n",
       "      <td>5.0</td>\n",
       "      <td>5.0</td>\n",
       "      <td>2.0</td>\n",
       "      <td>2.0</td>\n",
       "      <td>3.0</td>\n",
       "      <td>4.0</td>\n",
       "      <td>5.0</td>\n",
       "      <td>3.0</td>\n",
       "      <td>5.0</td>\n",
       "      <td>3.0</td>\n",
       "      <td>...</td>\n",
       "      <td>20.0</td>\n",
       "      <td>176.0</td>\n",
       "      <td>67.0</td>\n",
       "      <td>2.0</td>\n",
       "      <td>female</td>\n",
       "      <td>right handed</td>\n",
       "      <td>secondary school</td>\n",
       "      <td>no</td>\n",
       "      <td>city</td>\n",
       "      <td>block of flats</td>\n",
       "    </tr>\n",
       "  </tbody>\n",
       "</table>\n",
       "<p>3 rows × 150 columns</p>\n",
       "</div>"
      ],
      "text/plain": [
       "   Music  Slow songs or fast songs  Dance  Folk  Country  Classical music  \\\n",
       "0    5.0                       3.0    2.0   1.0      2.0              2.0   \n",
       "1    4.0                       4.0    2.0   1.0      1.0              1.0   \n",
       "2    5.0                       5.0    2.0   2.0      3.0              4.0   \n",
       "\n",
       "   Musical  Pop  Rock  Metal or Hardrock  ...   Age  Height  Weight  \\\n",
       "0      1.0  5.0   5.0                1.0  ...  20.0   163.0    48.0   \n",
       "1      2.0  3.0   5.0                4.0  ...  19.0   163.0    58.0   \n",
       "2      5.0  3.0   5.0                3.0  ...  20.0   176.0    67.0   \n",
       "\n",
       "   Number of siblings  Gender  Left - right handed                Education  \\\n",
       "0                 1.0  female         right handed  college/bachelor degree   \n",
       "1                 2.0  female         right handed  college/bachelor degree   \n",
       "2                 2.0  female         right handed         secondary school   \n",
       "\n",
       "   Only child  Village - town  House - block of flats  \n",
       "0          no         village          block of flats  \n",
       "1          no            city          block of flats  \n",
       "2          no            city          block of flats  \n",
       "\n",
       "[3 rows x 150 columns]"
      ]
     },
     "execution_count": 282,
     "metadata": {},
     "output_type": "execute_result"
    }
   ],
   "source": [
    "file_path = 'https://raw.githubusercontent.com/a-milenkin/Datasetes_for_Piplines/main/responses.csv'\n",
    "data = pd.read_csv(file_path)\n",
    "data.head(3)"
   ]
  },
  {
   "cell_type": "markdown",
   "metadata": {},
   "source": [
    "<div class=\"alert alert-info\">\n",
    "\n",
    "<b>Про датасет </b>\n",
    "\n",
    "\n",
    "    \n",
    "Приведеные результаты опроса молодежи до 21-го года по тому, какие вещи делют их счастливыми по 5-й шкале\n",
    "    \n",
    "</div>\n"
   ]
  },
  {
   "cell_type": "markdown",
   "metadata": {},
   "source": [
    "<div class=\"alert alert-info\">\n",
    "\n",
    "<b>Про Задачу </b>\n",
    "\n",
    "Попробуем классифицировать людей по оценкам уровня счастья\n",
    "    \n",
    "</div>\n"
   ]
  },
  {
   "cell_type": "code",
   "execution_count": 283,
   "metadata": {
    "ExecuteTime": {
     "end_time": "2022-04-28T16:33:07.166936Z",
     "start_time": "2022-04-28T16:33:07.155101Z"
    }
   },
   "outputs": [],
   "source": [
    "# Сбалансируем немного классы\n",
    "\n",
    "def happiness_score(x):\n",
    "    if x < 4:\n",
    "        return -1\n",
    "    elif x == 4.0:\n",
    "        return 0\n",
    "    else:\n",
    "        return 1\n",
    "    \n",
    "data[\"Happiness in life\"] = data[\"Happiness in life\"].apply(happiness_score)"
   ]
  },
  {
   "cell_type": "markdown",
   "metadata": {},
   "source": [
    "# Классификаций признаков на типы - df.select_dtypes"
   ]
  },
  {
   "cell_type": "code",
   "execution_count": 284,
   "metadata": {
    "ExecuteTime": {
     "end_time": "2022-04-28T16:33:07.197939Z",
     "start_time": "2022-04-28T16:33:07.168940Z"
    }
   },
   "outputs": [
    {
     "name": "stdout",
     "output_type": "stream",
     "text": [
      "<class 'pandas.core.frame.DataFrame'>\n",
      "RangeIndex: 1010 entries, 0 to 1009\n",
      "Data columns (total 11 columns):\n",
      " #   Column                  Non-Null Count  Dtype \n",
      "---  ------                  --------------  ----- \n",
      " 0   Smoking                 1002 non-null   object\n",
      " 1   Alcohol                 1005 non-null   object\n",
      " 2   Punctuality             1008 non-null   object\n",
      " 3   Lying                   1008 non-null   object\n",
      " 4   Internet usage          1010 non-null   object\n",
      " 5   Gender                  1004 non-null   object\n",
      " 6   Left - right handed     1007 non-null   object\n",
      " 7   Education               1009 non-null   object\n",
      " 8   Only child              1008 non-null   object\n",
      " 9   Village - town          1006 non-null   object\n",
      " 10  House - block of flats  1006 non-null   object\n",
      "dtypes: object(11)\n",
      "memory usage: 86.9+ KB\n"
     ]
    }
   ],
   "source": [
    "data.select_dtypes(exclude = ['int', 'float']).info()  # include"
   ]
  },
  {
   "cell_type": "code",
   "execution_count": 285,
   "metadata": {
    "ExecuteTime": {
     "end_time": "2022-04-28T16:33:07.244943Z",
     "start_time": "2022-04-28T16:33:07.200941Z"
    }
   },
   "outputs": [
    {
     "data": {
      "text/html": [
       "<div>\n",
       "<style scoped>\n",
       "    .dataframe tbody tr th:only-of-type {\n",
       "        vertical-align: middle;\n",
       "    }\n",
       "\n",
       "    .dataframe tbody tr th {\n",
       "        vertical-align: top;\n",
       "    }\n",
       "\n",
       "    .dataframe thead th {\n",
       "        text-align: right;\n",
       "    }\n",
       "</style>\n",
       "<table border=\"1\" class=\"dataframe\">\n",
       "  <thead>\n",
       "    <tr style=\"text-align: right;\">\n",
       "      <th></th>\n",
       "      <th>Music</th>\n",
       "      <th>Slow songs or fast songs</th>\n",
       "      <th>Dance</th>\n",
       "      <th>Folk</th>\n",
       "      <th>Country</th>\n",
       "      <th>Classical music</th>\n",
       "      <th>Musical</th>\n",
       "      <th>Pop</th>\n",
       "      <th>Rock</th>\n",
       "      <th>Metal or Hardrock</th>\n",
       "      <th>...</th>\n",
       "      <th>Shopping centres</th>\n",
       "      <th>Branded clothing</th>\n",
       "      <th>Entertainment spending</th>\n",
       "      <th>Spending on looks</th>\n",
       "      <th>Spending on gadgets</th>\n",
       "      <th>Spending on healthy eating</th>\n",
       "      <th>Age</th>\n",
       "      <th>Height</th>\n",
       "      <th>Weight</th>\n",
       "      <th>Number of siblings</th>\n",
       "    </tr>\n",
       "  </thead>\n",
       "  <tbody>\n",
       "    <tr>\n",
       "      <th>0</th>\n",
       "      <td>5.0</td>\n",
       "      <td>3.0</td>\n",
       "      <td>2.0</td>\n",
       "      <td>1.0</td>\n",
       "      <td>2.0</td>\n",
       "      <td>2.0</td>\n",
       "      <td>1.0</td>\n",
       "      <td>5.0</td>\n",
       "      <td>5.0</td>\n",
       "      <td>1.0</td>\n",
       "      <td>...</td>\n",
       "      <td>4.0</td>\n",
       "      <td>5.0</td>\n",
       "      <td>3.0</td>\n",
       "      <td>3.0</td>\n",
       "      <td>1</td>\n",
       "      <td>3.0</td>\n",
       "      <td>20.0</td>\n",
       "      <td>163.0</td>\n",
       "      <td>48.0</td>\n",
       "      <td>1.0</td>\n",
       "    </tr>\n",
       "    <tr>\n",
       "      <th>1</th>\n",
       "      <td>4.0</td>\n",
       "      <td>4.0</td>\n",
       "      <td>2.0</td>\n",
       "      <td>1.0</td>\n",
       "      <td>1.0</td>\n",
       "      <td>1.0</td>\n",
       "      <td>2.0</td>\n",
       "      <td>3.0</td>\n",
       "      <td>5.0</td>\n",
       "      <td>4.0</td>\n",
       "      <td>...</td>\n",
       "      <td>4.0</td>\n",
       "      <td>1.0</td>\n",
       "      <td>4.0</td>\n",
       "      <td>2.0</td>\n",
       "      <td>5</td>\n",
       "      <td>2.0</td>\n",
       "      <td>19.0</td>\n",
       "      <td>163.0</td>\n",
       "      <td>58.0</td>\n",
       "      <td>2.0</td>\n",
       "    </tr>\n",
       "    <tr>\n",
       "      <th>2</th>\n",
       "      <td>5.0</td>\n",
       "      <td>5.0</td>\n",
       "      <td>2.0</td>\n",
       "      <td>2.0</td>\n",
       "      <td>3.0</td>\n",
       "      <td>4.0</td>\n",
       "      <td>5.0</td>\n",
       "      <td>3.0</td>\n",
       "      <td>5.0</td>\n",
       "      <td>3.0</td>\n",
       "      <td>...</td>\n",
       "      <td>4.0</td>\n",
       "      <td>1.0</td>\n",
       "      <td>4.0</td>\n",
       "      <td>3.0</td>\n",
       "      <td>4</td>\n",
       "      <td>2.0</td>\n",
       "      <td>20.0</td>\n",
       "      <td>176.0</td>\n",
       "      <td>67.0</td>\n",
       "      <td>2.0</td>\n",
       "    </tr>\n",
       "    <tr>\n",
       "      <th>3</th>\n",
       "      <td>5.0</td>\n",
       "      <td>3.0</td>\n",
       "      <td>2.0</td>\n",
       "      <td>1.0</td>\n",
       "      <td>1.0</td>\n",
       "      <td>1.0</td>\n",
       "      <td>1.0</td>\n",
       "      <td>2.0</td>\n",
       "      <td>2.0</td>\n",
       "      <td>1.0</td>\n",
       "      <td>...</td>\n",
       "      <td>4.0</td>\n",
       "      <td>3.0</td>\n",
       "      <td>3.0</td>\n",
       "      <td>4.0</td>\n",
       "      <td>4</td>\n",
       "      <td>1.0</td>\n",
       "      <td>22.0</td>\n",
       "      <td>172.0</td>\n",
       "      <td>59.0</td>\n",
       "      <td>1.0</td>\n",
       "    </tr>\n",
       "    <tr>\n",
       "      <th>4</th>\n",
       "      <td>5.0</td>\n",
       "      <td>3.0</td>\n",
       "      <td>4.0</td>\n",
       "      <td>3.0</td>\n",
       "      <td>2.0</td>\n",
       "      <td>4.0</td>\n",
       "      <td>3.0</td>\n",
       "      <td>5.0</td>\n",
       "      <td>3.0</td>\n",
       "      <td>1.0</td>\n",
       "      <td>...</td>\n",
       "      <td>3.0</td>\n",
       "      <td>4.0</td>\n",
       "      <td>3.0</td>\n",
       "      <td>3.0</td>\n",
       "      <td>2</td>\n",
       "      <td>4.0</td>\n",
       "      <td>20.0</td>\n",
       "      <td>170.0</td>\n",
       "      <td>59.0</td>\n",
       "      <td>1.0</td>\n",
       "    </tr>\n",
       "  </tbody>\n",
       "</table>\n",
       "<p>5 rows × 139 columns</p>\n",
       "</div>"
      ],
      "text/plain": [
       "   Music  Slow songs or fast songs  Dance  Folk  Country  Classical music  \\\n",
       "0    5.0                       3.0    2.0   1.0      2.0              2.0   \n",
       "1    4.0                       4.0    2.0   1.0      1.0              1.0   \n",
       "2    5.0                       5.0    2.0   2.0      3.0              4.0   \n",
       "3    5.0                       3.0    2.0   1.0      1.0              1.0   \n",
       "4    5.0                       3.0    4.0   3.0      2.0              4.0   \n",
       "\n",
       "   Musical  Pop  Rock  Metal or Hardrock  ...  Shopping centres  \\\n",
       "0      1.0  5.0   5.0                1.0  ...               4.0   \n",
       "1      2.0  3.0   5.0                4.0  ...               4.0   \n",
       "2      5.0  3.0   5.0                3.0  ...               4.0   \n",
       "3      1.0  2.0   2.0                1.0  ...               4.0   \n",
       "4      3.0  5.0   3.0                1.0  ...               3.0   \n",
       "\n",
       "   Branded clothing  Entertainment spending  Spending on looks  \\\n",
       "0               5.0                     3.0                3.0   \n",
       "1               1.0                     4.0                2.0   \n",
       "2               1.0                     4.0                3.0   \n",
       "3               3.0                     3.0                4.0   \n",
       "4               4.0                     3.0                3.0   \n",
       "\n",
       "   Spending on gadgets  Spending on healthy eating   Age  Height  Weight  \\\n",
       "0                    1                         3.0  20.0   163.0    48.0   \n",
       "1                    5                         2.0  19.0   163.0    58.0   \n",
       "2                    4                         2.0  20.0   176.0    67.0   \n",
       "3                    4                         1.0  22.0   172.0    59.0   \n",
       "4                    2                         4.0  20.0   170.0    59.0   \n",
       "\n",
       "   Number of siblings  \n",
       "0                 1.0  \n",
       "1                 2.0  \n",
       "2                 2.0  \n",
       "3                 1.0  \n",
       "4                 1.0  \n",
       "\n",
       "[5 rows x 139 columns]"
      ]
     },
     "execution_count": 285,
     "metadata": {},
     "output_type": "execute_result"
    }
   ],
   "source": [
    "numerical_features = data.select_dtypes(include=[\"int\", \"float\"]).columns.to_list()\n",
    "\n",
    "data[numerical_features].head()"
   ]
  },
  {
   "cell_type": "code",
   "execution_count": 286,
   "metadata": {
    "ExecuteTime": {
     "end_time": "2022-04-28T16:33:07.260946Z",
     "start_time": "2022-04-28T16:33:07.245948Z"
    }
   },
   "outputs": [
    {
     "data": {
      "text/html": [
       "<div>\n",
       "<style scoped>\n",
       "    .dataframe tbody tr th:only-of-type {\n",
       "        vertical-align: middle;\n",
       "    }\n",
       "\n",
       "    .dataframe tbody tr th {\n",
       "        vertical-align: top;\n",
       "    }\n",
       "\n",
       "    .dataframe thead th {\n",
       "        text-align: right;\n",
       "    }\n",
       "</style>\n",
       "<table border=\"1\" class=\"dataframe\">\n",
       "  <thead>\n",
       "    <tr style=\"text-align: right;\">\n",
       "      <th></th>\n",
       "      <th>Smoking</th>\n",
       "      <th>Alcohol</th>\n",
       "      <th>Punctuality</th>\n",
       "      <th>Lying</th>\n",
       "      <th>Internet usage</th>\n",
       "      <th>Gender</th>\n",
       "      <th>Left - right handed</th>\n",
       "      <th>Education</th>\n",
       "      <th>Only child</th>\n",
       "      <th>Village - town</th>\n",
       "      <th>House - block of flats</th>\n",
       "    </tr>\n",
       "  </thead>\n",
       "  <tbody>\n",
       "    <tr>\n",
       "      <th>0</th>\n",
       "      <td>never smoked</td>\n",
       "      <td>drink a lot</td>\n",
       "      <td>i am always on time</td>\n",
       "      <td>never</td>\n",
       "      <td>few hours a day</td>\n",
       "      <td>female</td>\n",
       "      <td>right handed</td>\n",
       "      <td>college/bachelor degree</td>\n",
       "      <td>no</td>\n",
       "      <td>village</td>\n",
       "      <td>block of flats</td>\n",
       "    </tr>\n",
       "    <tr>\n",
       "      <th>1</th>\n",
       "      <td>never smoked</td>\n",
       "      <td>drink a lot</td>\n",
       "      <td>i am often early</td>\n",
       "      <td>sometimes</td>\n",
       "      <td>few hours a day</td>\n",
       "      <td>female</td>\n",
       "      <td>right handed</td>\n",
       "      <td>college/bachelor degree</td>\n",
       "      <td>no</td>\n",
       "      <td>city</td>\n",
       "      <td>block of flats</td>\n",
       "    </tr>\n",
       "    <tr>\n",
       "      <th>2</th>\n",
       "      <td>tried smoking</td>\n",
       "      <td>drink a lot</td>\n",
       "      <td>i am often running late</td>\n",
       "      <td>sometimes</td>\n",
       "      <td>few hours a day</td>\n",
       "      <td>female</td>\n",
       "      <td>right handed</td>\n",
       "      <td>secondary school</td>\n",
       "      <td>no</td>\n",
       "      <td>city</td>\n",
       "      <td>block of flats</td>\n",
       "    </tr>\n",
       "    <tr>\n",
       "      <th>3</th>\n",
       "      <td>former smoker</td>\n",
       "      <td>drink a lot</td>\n",
       "      <td>i am often early</td>\n",
       "      <td>only to avoid hurting someone</td>\n",
       "      <td>most of the day</td>\n",
       "      <td>female</td>\n",
       "      <td>right handed</td>\n",
       "      <td>college/bachelor degree</td>\n",
       "      <td>yes</td>\n",
       "      <td>city</td>\n",
       "      <td>house/bungalow</td>\n",
       "    </tr>\n",
       "    <tr>\n",
       "      <th>4</th>\n",
       "      <td>tried smoking</td>\n",
       "      <td>social drinker</td>\n",
       "      <td>i am always on time</td>\n",
       "      <td>everytime it suits me</td>\n",
       "      <td>few hours a day</td>\n",
       "      <td>female</td>\n",
       "      <td>right handed</td>\n",
       "      <td>secondary school</td>\n",
       "      <td>no</td>\n",
       "      <td>village</td>\n",
       "      <td>house/bungalow</td>\n",
       "    </tr>\n",
       "  </tbody>\n",
       "</table>\n",
       "</div>"
      ],
      "text/plain": [
       "         Smoking         Alcohol              Punctuality  \\\n",
       "0   never smoked     drink a lot      i am always on time   \n",
       "1   never smoked     drink a lot         i am often early   \n",
       "2  tried smoking     drink a lot  i am often running late   \n",
       "3  former smoker     drink a lot         i am often early   \n",
       "4  tried smoking  social drinker      i am always on time   \n",
       "\n",
       "                           Lying   Internet usage  Gender Left - right handed  \\\n",
       "0                          never  few hours a day  female        right handed   \n",
       "1                      sometimes  few hours a day  female        right handed   \n",
       "2                      sometimes  few hours a day  female        right handed   \n",
       "3  only to avoid hurting someone  most of the day  female        right handed   \n",
       "4          everytime it suits me  few hours a day  female        right handed   \n",
       "\n",
       "                 Education Only child Village - town House - block of flats  \n",
       "0  college/bachelor degree         no        village         block of flats  \n",
       "1  college/bachelor degree         no           city         block of flats  \n",
       "2         secondary school         no           city         block of flats  \n",
       "3  college/bachelor degree        yes           city         house/bungalow  \n",
       "4         secondary school         no        village         house/bungalow  "
      ]
     },
     "execution_count": 286,
     "metadata": {},
     "output_type": "execute_result"
    }
   ],
   "source": [
    "data.select_dtypes(exclude=[\"int\", \"float\"]).head()"
   ]
  },
  {
   "cell_type": "code",
   "execution_count": 287,
   "metadata": {
    "ExecuteTime": {
     "end_time": "2022-04-28T16:33:07.324253Z",
     "start_time": "2022-04-28T16:33:07.261947Z"
    }
   },
   "outputs": [],
   "source": [
    "binary_features = []\n",
    "category_features  = []\n",
    "\n",
    "for col in data.select_dtypes(exclude = ['int', 'float']).columns: \n",
    "    if data.dropna()[col].nunique() == 2:\n",
    "        binary_features.append(col)\n",
    "    else:\n",
    "        category_features.append(col)"
   ]
  },
  {
   "cell_type": "code",
   "execution_count": 288,
   "metadata": {
    "ExecuteTime": {
     "end_time": "2022-04-28T16:33:07.340254Z",
     "start_time": "2022-04-28T16:33:07.326258Z"
    }
   },
   "outputs": [
    {
     "data": {
      "text/html": [
       "<div>\n",
       "<style scoped>\n",
       "    .dataframe tbody tr th:only-of-type {\n",
       "        vertical-align: middle;\n",
       "    }\n",
       "\n",
       "    .dataframe tbody tr th {\n",
       "        vertical-align: top;\n",
       "    }\n",
       "\n",
       "    .dataframe thead th {\n",
       "        text-align: right;\n",
       "    }\n",
       "</style>\n",
       "<table border=\"1\" class=\"dataframe\">\n",
       "  <thead>\n",
       "    <tr style=\"text-align: right;\">\n",
       "      <th></th>\n",
       "      <th>Smoking</th>\n",
       "      <th>Alcohol</th>\n",
       "      <th>Punctuality</th>\n",
       "      <th>Lying</th>\n",
       "      <th>Internet usage</th>\n",
       "      <th>Education</th>\n",
       "    </tr>\n",
       "  </thead>\n",
       "  <tbody>\n",
       "    <tr>\n",
       "      <th>0</th>\n",
       "      <td>never smoked</td>\n",
       "      <td>drink a lot</td>\n",
       "      <td>i am always on time</td>\n",
       "      <td>never</td>\n",
       "      <td>few hours a day</td>\n",
       "      <td>college/bachelor degree</td>\n",
       "    </tr>\n",
       "    <tr>\n",
       "      <th>1</th>\n",
       "      <td>never smoked</td>\n",
       "      <td>drink a lot</td>\n",
       "      <td>i am often early</td>\n",
       "      <td>sometimes</td>\n",
       "      <td>few hours a day</td>\n",
       "      <td>college/bachelor degree</td>\n",
       "    </tr>\n",
       "    <tr>\n",
       "      <th>2</th>\n",
       "      <td>tried smoking</td>\n",
       "      <td>drink a lot</td>\n",
       "      <td>i am often running late</td>\n",
       "      <td>sometimes</td>\n",
       "      <td>few hours a day</td>\n",
       "      <td>secondary school</td>\n",
       "    </tr>\n",
       "  </tbody>\n",
       "</table>\n",
       "</div>"
      ],
      "text/plain": [
       "         Smoking      Alcohol              Punctuality      Lying  \\\n",
       "0   never smoked  drink a lot      i am always on time      never   \n",
       "1   never smoked  drink a lot         i am often early  sometimes   \n",
       "2  tried smoking  drink a lot  i am often running late  sometimes   \n",
       "\n",
       "    Internet usage                Education  \n",
       "0  few hours a day  college/bachelor degree  \n",
       "1  few hours a day  college/bachelor degree  \n",
       "2  few hours a day         secondary school  "
      ]
     },
     "execution_count": 288,
     "metadata": {},
     "output_type": "execute_result"
    }
   ],
   "source": [
    "data[category_features].head(3)"
   ]
  },
  {
   "cell_type": "code",
   "execution_count": 289,
   "metadata": {
    "ExecuteTime": {
     "end_time": "2022-04-28T16:33:07.356256Z",
     "start_time": "2022-04-28T16:33:07.342257Z"
    }
   },
   "outputs": [
    {
     "data": {
      "text/html": [
       "<div>\n",
       "<style scoped>\n",
       "    .dataframe tbody tr th:only-of-type {\n",
       "        vertical-align: middle;\n",
       "    }\n",
       "\n",
       "    .dataframe tbody tr th {\n",
       "        vertical-align: top;\n",
       "    }\n",
       "\n",
       "    .dataframe thead th {\n",
       "        text-align: right;\n",
       "    }\n",
       "</style>\n",
       "<table border=\"1\" class=\"dataframe\">\n",
       "  <thead>\n",
       "    <tr style=\"text-align: right;\">\n",
       "      <th></th>\n",
       "      <th>Gender</th>\n",
       "      <th>Left - right handed</th>\n",
       "      <th>Only child</th>\n",
       "      <th>Village - town</th>\n",
       "      <th>House - block of flats</th>\n",
       "    </tr>\n",
       "  </thead>\n",
       "  <tbody>\n",
       "    <tr>\n",
       "      <th>0</th>\n",
       "      <td>female</td>\n",
       "      <td>right handed</td>\n",
       "      <td>no</td>\n",
       "      <td>village</td>\n",
       "      <td>block of flats</td>\n",
       "    </tr>\n",
       "    <tr>\n",
       "      <th>1</th>\n",
       "      <td>female</td>\n",
       "      <td>right handed</td>\n",
       "      <td>no</td>\n",
       "      <td>city</td>\n",
       "      <td>block of flats</td>\n",
       "    </tr>\n",
       "    <tr>\n",
       "      <th>2</th>\n",
       "      <td>female</td>\n",
       "      <td>right handed</td>\n",
       "      <td>no</td>\n",
       "      <td>city</td>\n",
       "      <td>block of flats</td>\n",
       "    </tr>\n",
       "  </tbody>\n",
       "</table>\n",
       "</div>"
      ],
      "text/plain": [
       "   Gender Left - right handed Only child Village - town House - block of flats\n",
       "0  female        right handed         no        village         block of flats\n",
       "1  female        right handed         no           city         block of flats\n",
       "2  female        right handed         no           city         block of flats"
      ]
     },
     "execution_count": 289,
     "metadata": {},
     "output_type": "execute_result"
    }
   ],
   "source": [
    "data[binary_features].head(3)"
   ]
  },
  {
   "cell_type": "markdown",
   "metadata": {},
   "source": [
    "# Все,теперь у нас три типа признаков"
   ]
  },
  {
   "cell_type": "code",
   "execution_count": 290,
   "metadata": {
    "ExecuteTime": {
     "end_time": "2022-04-28T16:33:07.372261Z",
     "start_time": "2022-04-28T16:33:07.357257Z"
    }
   },
   "outputs": [],
   "source": [
    "interesting_features = numerical_features + category_features + binary_features\n",
    "\n",
    "target = [\"Happiness in life\"]\n",
    "\n",
    "data = data[interesting_features]"
   ]
  },
  {
   "cell_type": "code",
   "execution_count": 291,
   "metadata": {
    "ExecuteTime": {
     "end_time": "2022-04-28T16:33:07.404259Z",
     "start_time": "2022-04-28T16:33:07.374260Z"
    }
   },
   "outputs": [
    {
     "data": {
      "text/html": [
       "<div>\n",
       "<style scoped>\n",
       "    .dataframe tbody tr th:only-of-type {\n",
       "        vertical-align: middle;\n",
       "    }\n",
       "\n",
       "    .dataframe tbody tr th {\n",
       "        vertical-align: top;\n",
       "    }\n",
       "\n",
       "    .dataframe thead th {\n",
       "        text-align: right;\n",
       "    }\n",
       "</style>\n",
       "<table border=\"1\" class=\"dataframe\">\n",
       "  <thead>\n",
       "    <tr style=\"text-align: right;\">\n",
       "      <th></th>\n",
       "      <th>Music</th>\n",
       "      <th>Slow songs or fast songs</th>\n",
       "      <th>Dance</th>\n",
       "      <th>Folk</th>\n",
       "      <th>Country</th>\n",
       "      <th>Classical music</th>\n",
       "      <th>Musical</th>\n",
       "      <th>Pop</th>\n",
       "      <th>Rock</th>\n",
       "      <th>Metal or Hardrock</th>\n",
       "      <th>...</th>\n",
       "      <th>Alcohol</th>\n",
       "      <th>Punctuality</th>\n",
       "      <th>Lying</th>\n",
       "      <th>Internet usage</th>\n",
       "      <th>Education</th>\n",
       "      <th>Gender</th>\n",
       "      <th>Left - right handed</th>\n",
       "      <th>Only child</th>\n",
       "      <th>Village - town</th>\n",
       "      <th>House - block of flats</th>\n",
       "    </tr>\n",
       "  </thead>\n",
       "  <tbody>\n",
       "    <tr>\n",
       "      <th>0</th>\n",
       "      <td>5.0</td>\n",
       "      <td>3.0</td>\n",
       "      <td>2.0</td>\n",
       "      <td>1.0</td>\n",
       "      <td>2.0</td>\n",
       "      <td>2.0</td>\n",
       "      <td>1.0</td>\n",
       "      <td>5.0</td>\n",
       "      <td>5.0</td>\n",
       "      <td>1.0</td>\n",
       "      <td>...</td>\n",
       "      <td>drink a lot</td>\n",
       "      <td>i am always on time</td>\n",
       "      <td>never</td>\n",
       "      <td>few hours a day</td>\n",
       "      <td>college/bachelor degree</td>\n",
       "      <td>female</td>\n",
       "      <td>right handed</td>\n",
       "      <td>no</td>\n",
       "      <td>village</td>\n",
       "      <td>block of flats</td>\n",
       "    </tr>\n",
       "    <tr>\n",
       "      <th>1</th>\n",
       "      <td>4.0</td>\n",
       "      <td>4.0</td>\n",
       "      <td>2.0</td>\n",
       "      <td>1.0</td>\n",
       "      <td>1.0</td>\n",
       "      <td>1.0</td>\n",
       "      <td>2.0</td>\n",
       "      <td>3.0</td>\n",
       "      <td>5.0</td>\n",
       "      <td>4.0</td>\n",
       "      <td>...</td>\n",
       "      <td>drink a lot</td>\n",
       "      <td>i am often early</td>\n",
       "      <td>sometimes</td>\n",
       "      <td>few hours a day</td>\n",
       "      <td>college/bachelor degree</td>\n",
       "      <td>female</td>\n",
       "      <td>right handed</td>\n",
       "      <td>no</td>\n",
       "      <td>city</td>\n",
       "      <td>block of flats</td>\n",
       "    </tr>\n",
       "    <tr>\n",
       "      <th>2</th>\n",
       "      <td>5.0</td>\n",
       "      <td>5.0</td>\n",
       "      <td>2.0</td>\n",
       "      <td>2.0</td>\n",
       "      <td>3.0</td>\n",
       "      <td>4.0</td>\n",
       "      <td>5.0</td>\n",
       "      <td>3.0</td>\n",
       "      <td>5.0</td>\n",
       "      <td>3.0</td>\n",
       "      <td>...</td>\n",
       "      <td>drink a lot</td>\n",
       "      <td>i am often running late</td>\n",
       "      <td>sometimes</td>\n",
       "      <td>few hours a day</td>\n",
       "      <td>secondary school</td>\n",
       "      <td>female</td>\n",
       "      <td>right handed</td>\n",
       "      <td>no</td>\n",
       "      <td>city</td>\n",
       "      <td>block of flats</td>\n",
       "    </tr>\n",
       "  </tbody>\n",
       "</table>\n",
       "<p>3 rows × 150 columns</p>\n",
       "</div>"
      ],
      "text/plain": [
       "   Music  Slow songs or fast songs  Dance  Folk  Country  Classical music  \\\n",
       "0    5.0                       3.0    2.0   1.0      2.0              2.0   \n",
       "1    4.0                       4.0    2.0   1.0      1.0              1.0   \n",
       "2    5.0                       5.0    2.0   2.0      3.0              4.0   \n",
       "\n",
       "   Musical  Pop  Rock  Metal or Hardrock  ...      Alcohol  \\\n",
       "0      1.0  5.0   5.0                1.0  ...  drink a lot   \n",
       "1      2.0  3.0   5.0                4.0  ...  drink a lot   \n",
       "2      5.0  3.0   5.0                3.0  ...  drink a lot   \n",
       "\n",
       "               Punctuality      Lying   Internet usage  \\\n",
       "0      i am always on time      never  few hours a day   \n",
       "1         i am often early  sometimes  few hours a day   \n",
       "2  i am often running late  sometimes  few hours a day   \n",
       "\n",
       "                 Education  Gender  Left - right handed  Only child  \\\n",
       "0  college/bachelor degree  female         right handed          no   \n",
       "1  college/bachelor degree  female         right handed          no   \n",
       "2         secondary school  female         right handed          no   \n",
       "\n",
       "   Village - town  House - block of flats  \n",
       "0         village          block of flats  \n",
       "1            city          block of flats  \n",
       "2            city          block of flats  \n",
       "\n",
       "[3 rows x 150 columns]"
      ]
     },
     "execution_count": 291,
     "metadata": {},
     "output_type": "execute_result"
    }
   ],
   "source": [
    "data.head(3)"
   ]
  },
  {
   "cell_type": "markdown",
   "metadata": {},
   "source": [
    "# Numerical features"
   ]
  },
  {
   "cell_type": "code",
   "execution_count": 292,
   "metadata": {
    "ExecuteTime": {
     "end_time": "2022-04-28T16:33:07.436261Z",
     "start_time": "2022-04-28T16:33:07.405260Z"
    }
   },
   "outputs": [
    {
     "data": {
      "text/html": [
       "<div>\n",
       "<style scoped>\n",
       "    .dataframe tbody tr th:only-of-type {\n",
       "        vertical-align: middle;\n",
       "    }\n",
       "\n",
       "    .dataframe tbody tr th {\n",
       "        vertical-align: top;\n",
       "    }\n",
       "\n",
       "    .dataframe thead th {\n",
       "        text-align: right;\n",
       "    }\n",
       "</style>\n",
       "<table border=\"1\" class=\"dataframe\">\n",
       "  <thead>\n",
       "    <tr style=\"text-align: right;\">\n",
       "      <th></th>\n",
       "      <th>Music</th>\n",
       "      <th>Slow songs or fast songs</th>\n",
       "      <th>Dance</th>\n",
       "      <th>Folk</th>\n",
       "      <th>Country</th>\n",
       "      <th>Classical music</th>\n",
       "      <th>Musical</th>\n",
       "      <th>Pop</th>\n",
       "      <th>Rock</th>\n",
       "      <th>Metal or Hardrock</th>\n",
       "      <th>...</th>\n",
       "      <th>Shopping centres</th>\n",
       "      <th>Branded clothing</th>\n",
       "      <th>Entertainment spending</th>\n",
       "      <th>Spending on looks</th>\n",
       "      <th>Spending on gadgets</th>\n",
       "      <th>Spending on healthy eating</th>\n",
       "      <th>Age</th>\n",
       "      <th>Height</th>\n",
       "      <th>Weight</th>\n",
       "      <th>Number of siblings</th>\n",
       "    </tr>\n",
       "  </thead>\n",
       "  <tbody>\n",
       "    <tr>\n",
       "      <th>0</th>\n",
       "      <td>5.0</td>\n",
       "      <td>3.0</td>\n",
       "      <td>2.0</td>\n",
       "      <td>1.0</td>\n",
       "      <td>2.0</td>\n",
       "      <td>2.0</td>\n",
       "      <td>1.0</td>\n",
       "      <td>5.0</td>\n",
       "      <td>5.0</td>\n",
       "      <td>1.0</td>\n",
       "      <td>...</td>\n",
       "      <td>4.0</td>\n",
       "      <td>5.0</td>\n",
       "      <td>3.0</td>\n",
       "      <td>3.0</td>\n",
       "      <td>1</td>\n",
       "      <td>3.0</td>\n",
       "      <td>20.0</td>\n",
       "      <td>163.0</td>\n",
       "      <td>48.0</td>\n",
       "      <td>1.0</td>\n",
       "    </tr>\n",
       "    <tr>\n",
       "      <th>1</th>\n",
       "      <td>4.0</td>\n",
       "      <td>4.0</td>\n",
       "      <td>2.0</td>\n",
       "      <td>1.0</td>\n",
       "      <td>1.0</td>\n",
       "      <td>1.0</td>\n",
       "      <td>2.0</td>\n",
       "      <td>3.0</td>\n",
       "      <td>5.0</td>\n",
       "      <td>4.0</td>\n",
       "      <td>...</td>\n",
       "      <td>4.0</td>\n",
       "      <td>1.0</td>\n",
       "      <td>4.0</td>\n",
       "      <td>2.0</td>\n",
       "      <td>5</td>\n",
       "      <td>2.0</td>\n",
       "      <td>19.0</td>\n",
       "      <td>163.0</td>\n",
       "      <td>58.0</td>\n",
       "      <td>2.0</td>\n",
       "    </tr>\n",
       "  </tbody>\n",
       "</table>\n",
       "<p>2 rows × 139 columns</p>\n",
       "</div>"
      ],
      "text/plain": [
       "   Music  Slow songs or fast songs  Dance  Folk  Country  Classical music  \\\n",
       "0    5.0                       3.0    2.0   1.0      2.0              2.0   \n",
       "1    4.0                       4.0    2.0   1.0      1.0              1.0   \n",
       "\n",
       "   Musical  Pop  Rock  Metal or Hardrock  ...  Shopping centres  \\\n",
       "0      1.0  5.0   5.0                1.0  ...               4.0   \n",
       "1      2.0  3.0   5.0                4.0  ...               4.0   \n",
       "\n",
       "   Branded clothing  Entertainment spending  Spending on looks  \\\n",
       "0               5.0                     3.0                3.0   \n",
       "1               1.0                     4.0                2.0   \n",
       "\n",
       "   Spending on gadgets  Spending on healthy eating   Age  Height  Weight  \\\n",
       "0                    1                         3.0  20.0   163.0    48.0   \n",
       "1                    5                         2.0  19.0   163.0    58.0   \n",
       "\n",
       "   Number of siblings  \n",
       "0                 1.0  \n",
       "1                 2.0  \n",
       "\n",
       "[2 rows x 139 columns]"
      ]
     },
     "execution_count": 292,
     "metadata": {},
     "output_type": "execute_result"
    }
   ],
   "source": [
    "data[numerical_features].head(2)"
   ]
  },
  {
   "cell_type": "code",
   "execution_count": 293,
   "metadata": {
    "ExecuteTime": {
     "end_time": "2022-04-28T16:33:07.452268Z",
     "start_time": "2022-04-28T16:33:07.437263Z"
    }
   },
   "outputs": [],
   "source": [
    "from sklearn.preprocessing import FunctionTransformer"
   ]
  },
  {
   "cell_type": "code",
   "execution_count": 294,
   "metadata": {
    "ExecuteTime": {
     "end_time": "2022-04-28T16:33:07.484265Z",
     "start_time": "2022-04-28T16:33:07.454269Z"
    }
   },
   "outputs": [
    {
     "data": {
      "text/html": [
       "<div>\n",
       "<style scoped>\n",
       "    .dataframe tbody tr th:only-of-type {\n",
       "        vertical-align: middle;\n",
       "    }\n",
       "\n",
       "    .dataframe tbody tr th {\n",
       "        vertical-align: top;\n",
       "    }\n",
       "\n",
       "    .dataframe thead th {\n",
       "        text-align: right;\n",
       "    }\n",
       "</style>\n",
       "<table border=\"1\" class=\"dataframe\">\n",
       "  <thead>\n",
       "    <tr style=\"text-align: right;\">\n",
       "      <th></th>\n",
       "      <th>Music</th>\n",
       "      <th>Slow songs or fast songs</th>\n",
       "      <th>Dance</th>\n",
       "      <th>Folk</th>\n",
       "      <th>Country</th>\n",
       "      <th>Classical music</th>\n",
       "      <th>Musical</th>\n",
       "      <th>Pop</th>\n",
       "      <th>Rock</th>\n",
       "      <th>Metal or Hardrock</th>\n",
       "      <th>...</th>\n",
       "      <th>Branded clothing</th>\n",
       "      <th>Entertainment spending</th>\n",
       "      <th>Spending on looks</th>\n",
       "      <th>Spending on gadgets</th>\n",
       "      <th>Spending on healthy eating</th>\n",
       "      <th>Age</th>\n",
       "      <th>Height</th>\n",
       "      <th>Weight</th>\n",
       "      <th>Number of siblings</th>\n",
       "      <th>random_values</th>\n",
       "    </tr>\n",
       "  </thead>\n",
       "  <tbody>\n",
       "    <tr>\n",
       "      <th>0</th>\n",
       "      <td>5.0</td>\n",
       "      <td>3.0</td>\n",
       "      <td>2.0</td>\n",
       "      <td>1.0</td>\n",
       "      <td>2.0</td>\n",
       "      <td>2.0</td>\n",
       "      <td>1.0</td>\n",
       "      <td>5.0</td>\n",
       "      <td>5.0</td>\n",
       "      <td>1.0</td>\n",
       "      <td>...</td>\n",
       "      <td>5.0</td>\n",
       "      <td>3.0</td>\n",
       "      <td>3.0</td>\n",
       "      <td>1</td>\n",
       "      <td>3.0</td>\n",
       "      <td>20.0</td>\n",
       "      <td>163.0</td>\n",
       "      <td>48.0</td>\n",
       "      <td>1.0</td>\n",
       "      <td>0.187485</td>\n",
       "    </tr>\n",
       "    <tr>\n",
       "      <th>1</th>\n",
       "      <td>4.0</td>\n",
       "      <td>4.0</td>\n",
       "      <td>2.0</td>\n",
       "      <td>1.0</td>\n",
       "      <td>1.0</td>\n",
       "      <td>1.0</td>\n",
       "      <td>2.0</td>\n",
       "      <td>3.0</td>\n",
       "      <td>5.0</td>\n",
       "      <td>4.0</td>\n",
       "      <td>...</td>\n",
       "      <td>1.0</td>\n",
       "      <td>4.0</td>\n",
       "      <td>2.0</td>\n",
       "      <td>5</td>\n",
       "      <td>2.0</td>\n",
       "      <td>19.0</td>\n",
       "      <td>163.0</td>\n",
       "      <td>58.0</td>\n",
       "      <td>2.0</td>\n",
       "      <td>-0.974446</td>\n",
       "    </tr>\n",
       "    <tr>\n",
       "      <th>2</th>\n",
       "      <td>5.0</td>\n",
       "      <td>5.0</td>\n",
       "      <td>2.0</td>\n",
       "      <td>2.0</td>\n",
       "      <td>3.0</td>\n",
       "      <td>4.0</td>\n",
       "      <td>5.0</td>\n",
       "      <td>3.0</td>\n",
       "      <td>5.0</td>\n",
       "      <td>3.0</td>\n",
       "      <td>...</td>\n",
       "      <td>1.0</td>\n",
       "      <td>4.0</td>\n",
       "      <td>3.0</td>\n",
       "      <td>4</td>\n",
       "      <td>2.0</td>\n",
       "      <td>20.0</td>\n",
       "      <td>176.0</td>\n",
       "      <td>67.0</td>\n",
       "      <td>2.0</td>\n",
       "      <td>-0.463639</td>\n",
       "    </tr>\n",
       "  </tbody>\n",
       "</table>\n",
       "<p>3 rows × 140 columns</p>\n",
       "</div>"
      ],
      "text/plain": [
       "   Music  Slow songs or fast songs  Dance  Folk  Country  Classical music  \\\n",
       "0    5.0                       3.0    2.0   1.0      2.0              2.0   \n",
       "1    4.0                       4.0    2.0   1.0      1.0              1.0   \n",
       "2    5.0                       5.0    2.0   2.0      3.0              4.0   \n",
       "\n",
       "   Musical  Pop  Rock  Metal or Hardrock  ...  Branded clothing  \\\n",
       "0      1.0  5.0   5.0                1.0  ...               5.0   \n",
       "1      2.0  3.0   5.0                4.0  ...               1.0   \n",
       "2      5.0  3.0   5.0                3.0  ...               1.0   \n",
       "\n",
       "   Entertainment spending  Spending on looks  Spending on gadgets  \\\n",
       "0                     3.0                3.0                    1   \n",
       "1                     4.0                2.0                    5   \n",
       "2                     4.0                3.0                    4   \n",
       "\n",
       "   Spending on healthy eating   Age  Height  Weight  Number of siblings  \\\n",
       "0                         3.0  20.0   163.0    48.0                 1.0   \n",
       "1                         2.0  19.0   163.0    58.0                 2.0   \n",
       "2                         2.0  20.0   176.0    67.0                 2.0   \n",
       "\n",
       "   random_values  \n",
       "0       0.187485  \n",
       "1      -0.974446  \n",
       "2      -0.463639  \n",
       "\n",
       "[3 rows x 140 columns]"
      ]
     },
     "execution_count": 294,
     "metadata": {},
     "output_type": "execute_result"
    }
   ],
   "source": [
    "# Тот же способ через функцию\n",
    "def numerical_select(data):\n",
    "\n",
    "    data['random_values'] = np.random.normal(size = len(data))\n",
    "    \n",
    "    return data[numerical_features + ['random_values']]\n",
    "\n",
    "# Превращаем функцию в трансформер\n",
    "numerical_selector = FunctionTransformer(numerical_select, validate=False)\n",
    "\n",
    "numerical_selector.fit_transform(data).head(3)"
   ]
  },
  {
   "cell_type": "code",
   "execution_count": 295,
   "metadata": {
    "ExecuteTime": {
     "end_time": "2022-04-28T16:33:07.500267Z",
     "start_time": "2022-04-28T16:33:07.485267Z"
    }
   },
   "outputs": [],
   "source": [
    "# Тот же способ через лямбда-функцию\n",
    "# numerical_selector = FunctionTransformer(lambda data: data[numerical_features], validate=False)"
   ]
  },
  {
   "cell_type": "code",
   "execution_count": 296,
   "metadata": {
    "ExecuteTime": {
     "end_time": "2022-04-28T16:33:07.516269Z",
     "start_time": "2022-04-28T16:33:07.501268Z"
    },
    "hide_input": false
   },
   "outputs": [],
   "source": [
    "from sklearn.preprocessing import StandardScaler, OneHotEncoder\n",
    "\n",
    "scaler = StandardScaler()"
   ]
  },
  {
   "cell_type": "code",
   "execution_count": 297,
   "metadata": {
    "ExecuteTime": {
     "end_time": "2022-04-28T16:33:07.532269Z",
     "start_time": "2022-04-28T16:33:07.518269Z"
    }
   },
   "outputs": [],
   "source": [
    "numerical_preprocessor = Pipeline([(\"numerical_selector\", numerical_selector),\n",
    "                                   (\"scaling\", scaler)])"
   ]
  },
  {
   "cell_type": "code",
   "execution_count": 298,
   "metadata": {
    "ExecuteTime": {
     "end_time": "2022-04-28T16:33:07.564274Z",
     "start_time": "2022-04-28T16:33:07.534271Z"
    }
   },
   "outputs": [
    {
     "data": {
      "text/plain": [
       "array([[ 0.40397078, -0.39396081, -0.95156664, ..., -1.33055906,\n",
       "        -0.29403239,  0.17880542],\n",
       "       [-1.10269062,  0.80577482, -0.95156664, ..., -0.60762757,\n",
       "         0.69328707, -0.13123147],\n",
       "       [ 0.40397078,  2.00551046, -0.95156664, ...,  0.04301077,\n",
       "         0.69328707,  0.52318059],\n",
       "       ...,\n",
       "       [-1.10269062, -0.39396081, -1.80627739, ...,  0.62135597,\n",
       "        -1.28135184, -0.1533262 ],\n",
       "       [ 0.40397078, -0.39396081, -0.09685589, ..., -0.60762757,\n",
       "        -0.29403239, -0.24134634],\n",
       "       [ 0.40397078,  2.00551046,  0.75785486, ...,  0.40447652,\n",
       "        -0.29403239,  0.51458814]])"
      ]
     },
     "execution_count": 298,
     "metadata": {},
     "output_type": "execute_result"
    }
   ],
   "source": [
    "numerical_preprocessor.fit_transform(data) \n",
    "# Куда-то пропали столцы, надо исправлять!!!"
   ]
  },
  {
   "cell_type": "code",
   "execution_count": 299,
   "metadata": {
    "ExecuteTime": {
     "end_time": "2022-04-28T16:33:07.580277Z",
     "start_time": "2022-04-28T16:33:07.567274Z"
    }
   },
   "outputs": [
    {
     "data": {
      "text/html": [
       "<style>#sk-d0b8c0d2-7706-47a7-9420-579618b71bac {color: black;background-color: white;}#sk-d0b8c0d2-7706-47a7-9420-579618b71bac pre{padding: 0;}#sk-d0b8c0d2-7706-47a7-9420-579618b71bac div.sk-toggleable {background-color: white;}#sk-d0b8c0d2-7706-47a7-9420-579618b71bac label.sk-toggleable__label {cursor: pointer;display: block;width: 100%;margin-bottom: 0;padding: 0.2em 0.3em;box-sizing: border-box;text-align: center;}#sk-d0b8c0d2-7706-47a7-9420-579618b71bac div.sk-toggleable__content {max-height: 0;max-width: 0;overflow: hidden;text-align: left;background-color: #f0f8ff;}#sk-d0b8c0d2-7706-47a7-9420-579618b71bac div.sk-toggleable__content pre {margin: 0.2em;color: black;border-radius: 0.25em;background-color: #f0f8ff;}#sk-d0b8c0d2-7706-47a7-9420-579618b71bac input.sk-toggleable__control:checked~div.sk-toggleable__content {max-height: 200px;max-width: 100%;overflow: auto;}#sk-d0b8c0d2-7706-47a7-9420-579618b71bac div.sk-estimator input.sk-toggleable__control:checked~label.sk-toggleable__label {background-color: #d4ebff;}#sk-d0b8c0d2-7706-47a7-9420-579618b71bac div.sk-label input.sk-toggleable__control:checked~label.sk-toggleable__label {background-color: #d4ebff;}#sk-d0b8c0d2-7706-47a7-9420-579618b71bac input.sk-hidden--visually {border: 0;clip: rect(1px 1px 1px 1px);clip: rect(1px, 1px, 1px, 1px);height: 1px;margin: -1px;overflow: hidden;padding: 0;position: absolute;width: 1px;}#sk-d0b8c0d2-7706-47a7-9420-579618b71bac div.sk-estimator {font-family: monospace;background-color: #f0f8ff;margin: 0.25em 0.25em;border: 1px dotted black;border-radius: 0.25em;box-sizing: border-box;}#sk-d0b8c0d2-7706-47a7-9420-579618b71bac div.sk-estimator:hover {background-color: #d4ebff;}#sk-d0b8c0d2-7706-47a7-9420-579618b71bac div.sk-parallel-item::after {content: \"\";width: 100%;border-bottom: 1px solid gray;flex-grow: 1;}#sk-d0b8c0d2-7706-47a7-9420-579618b71bac div.sk-label:hover label.sk-toggleable__label {background-color: #d4ebff;}#sk-d0b8c0d2-7706-47a7-9420-579618b71bac div.sk-serial::before {content: \"\";position: absolute;border-left: 1px solid gray;box-sizing: border-box;top: 2em;bottom: 0;left: 50%;}#sk-d0b8c0d2-7706-47a7-9420-579618b71bac div.sk-serial {display: flex;flex-direction: column;align-items: center;background-color: white;}#sk-d0b8c0d2-7706-47a7-9420-579618b71bac div.sk-item {z-index: 1;}#sk-d0b8c0d2-7706-47a7-9420-579618b71bac div.sk-parallel {display: flex;align-items: stretch;justify-content: center;background-color: white;}#sk-d0b8c0d2-7706-47a7-9420-579618b71bac div.sk-parallel-item {display: flex;flex-direction: column;position: relative;background-color: white;}#sk-d0b8c0d2-7706-47a7-9420-579618b71bac div.sk-parallel-item:first-child::after {align-self: flex-end;width: 50%;}#sk-d0b8c0d2-7706-47a7-9420-579618b71bac div.sk-parallel-item:last-child::after {align-self: flex-start;width: 50%;}#sk-d0b8c0d2-7706-47a7-9420-579618b71bac div.sk-parallel-item:only-child::after {width: 0;}#sk-d0b8c0d2-7706-47a7-9420-579618b71bac div.sk-dashed-wrapped {border: 1px dashed gray;margin: 0.2em;box-sizing: border-box;padding-bottom: 0.1em;background-color: white;position: relative;}#sk-d0b8c0d2-7706-47a7-9420-579618b71bac div.sk-label label {font-family: monospace;font-weight: bold;background-color: white;display: inline-block;line-height: 1.2em;}#sk-d0b8c0d2-7706-47a7-9420-579618b71bac div.sk-label-container {position: relative;z-index: 2;text-align: center;}#sk-d0b8c0d2-7706-47a7-9420-579618b71bac div.sk-container {display: inline-block;position: relative;}</style><div id=\"sk-d0b8c0d2-7706-47a7-9420-579618b71bac\" class\"sk-top-container\"><div class=\"sk-container\"><div class=\"sk-item\"><div class=\"sk-estimator sk-toggleable\"><input class=\"sk-toggleable__control sk-hidden--visually\" id=\"ac00ceb4-72c9-43bc-8ce3-705d962a70ac\" type=\"checkbox\" checked><label class=\"sk-toggleable__label\" for=\"ac00ceb4-72c9-43bc-8ce3-705d962a70ac\">StandardScaler</label><div class=\"sk-toggleable__content\"><pre>StandardScaler()</pre></div></div></div></div></div>"
      ],
      "text/plain": [
       "StandardScaler()"
      ]
     },
     "execution_count": 299,
     "metadata": {},
     "output_type": "execute_result"
    }
   ],
   "source": [
    "# Pipeline в отличии от make_pipline дает возможность обращася к объекту пайплайна по названию\n",
    "numerical_preprocessor.named_steps['scaling'] #"
   ]
  },
  {
   "cell_type": "code",
   "execution_count": 300,
   "metadata": {
    "ExecuteTime": {
     "end_time": "2022-04-28T16:33:07.596274Z",
     "start_time": "2022-04-28T16:33:07.582277Z"
    }
   },
   "outputs": [],
   "source": [
    "class StandardScalerDf(StandardScaler):\n",
    "    \"\"\"\n",
    "    DataFrame Wrapper around StandardScaler\n",
    "    http://flennerhag.com/2017-01-08-Recursive-Override/\n",
    "    \"\"\"\n",
    "    def __init__(self, copy=True, with_mean=True, with_std=True):\n",
    "        super(StandardScalerDf, self).__init__(copy=copy,\n",
    "                                               with_mean=with_mean,\n",
    "                                               with_std=with_std)\n",
    "        self.feature_names = None\n",
    "\n",
    "    def transform(self, X, y=None):\n",
    "        self.feature_names = X.columns\n",
    "        \n",
    "        z = super(StandardScalerDf, self).transform(X.values)\n",
    "        \n",
    "        return pd.DataFrame(z, index=X.index, columns=self.feature_names)\n",
    "    \n",
    "    def get_feature_names(self):\n",
    "        return self.feature_names"
   ]
  },
  {
   "cell_type": "code",
   "execution_count": 301,
   "metadata": {
    "ExecuteTime": {
     "end_time": "2022-04-28T16:33:07.612275Z",
     "start_time": "2022-04-28T16:33:07.597275Z"
    }
   },
   "outputs": [],
   "source": [
    "scaler_df = StandardScalerDf()"
   ]
  },
  {
   "cell_type": "code",
   "execution_count": 302,
   "metadata": {
    "ExecuteTime": {
     "end_time": "2022-04-28T16:33:07.627613Z",
     "start_time": "2022-04-28T16:33:07.614277Z"
    }
   },
   "outputs": [],
   "source": [
    "numerical_preprocessor = Pipeline([\n",
    "    (\"numerical_selector\", numerical_selector),\n",
    "    (\"scaling\", scaler_df)\n",
    "])"
   ]
  },
  {
   "cell_type": "code",
   "execution_count": 303,
   "metadata": {
    "ExecuteTime": {
     "end_time": "2022-04-28T16:33:07.675616Z",
     "start_time": "2022-04-28T16:33:07.635616Z"
    }
   },
   "outputs": [
    {
     "data": {
      "text/html": [
       "<div>\n",
       "<style scoped>\n",
       "    .dataframe tbody tr th:only-of-type {\n",
       "        vertical-align: middle;\n",
       "    }\n",
       "\n",
       "    .dataframe tbody tr th {\n",
       "        vertical-align: top;\n",
       "    }\n",
       "\n",
       "    .dataframe thead th {\n",
       "        text-align: right;\n",
       "    }\n",
       "</style>\n",
       "<table border=\"1\" class=\"dataframe\">\n",
       "  <thead>\n",
       "    <tr style=\"text-align: right;\">\n",
       "      <th></th>\n",
       "      <th>Music</th>\n",
       "      <th>Slow songs or fast songs</th>\n",
       "      <th>Dance</th>\n",
       "      <th>Folk</th>\n",
       "      <th>Country</th>\n",
       "      <th>Classical music</th>\n",
       "      <th>Musical</th>\n",
       "      <th>Pop</th>\n",
       "      <th>Rock</th>\n",
       "      <th>Metal or Hardrock</th>\n",
       "      <th>...</th>\n",
       "      <th>Branded clothing</th>\n",
       "      <th>Entertainment spending</th>\n",
       "      <th>Spending on looks</th>\n",
       "      <th>Spending on gadgets</th>\n",
       "      <th>Spending on healthy eating</th>\n",
       "      <th>Age</th>\n",
       "      <th>Height</th>\n",
       "      <th>Weight</th>\n",
       "      <th>Number of siblings</th>\n",
       "      <th>random_values</th>\n",
       "    </tr>\n",
       "  </thead>\n",
       "  <tbody>\n",
       "    <tr>\n",
       "      <th>0</th>\n",
       "      <td>0.403971</td>\n",
       "      <td>-0.393961</td>\n",
       "      <td>-0.951567</td>\n",
       "      <td>-1.131952</td>\n",
       "      <td>-0.114711</td>\n",
       "      <td>-0.763717</td>\n",
       "      <td>-1.398094</td>\n",
       "      <td>1.316567</td>\n",
       "      <td>1.04541</td>\n",
       "      <td>-0.992099</td>\n",
       "      <td>...</td>\n",
       "      <td>1.493027</td>\n",
       "      <td>-0.169637</td>\n",
       "      <td>-0.088196</td>\n",
       "      <td>-1.456239</td>\n",
       "      <td>-0.510004</td>\n",
       "      <td>-0.153390</td>\n",
       "      <td>-1.049374</td>\n",
       "      <td>-1.330559</td>\n",
       "      <td>-0.294032</td>\n",
       "      <td>-0.391297</td>\n",
       "    </tr>\n",
       "    <tr>\n",
       "      <th>1</th>\n",
       "      <td>-1.102691</td>\n",
       "      <td>0.805775</td>\n",
       "      <td>-0.951567</td>\n",
       "      <td>-1.131952</td>\n",
       "      <td>-1.044424</td>\n",
       "      <td>-1.562473</td>\n",
       "      <td>-0.604581</td>\n",
       "      <td>-0.406348</td>\n",
       "      <td>1.04541</td>\n",
       "      <td>1.193992</td>\n",
       "      <td>...</td>\n",
       "      <td>-1.570528</td>\n",
       "      <td>0.671861</td>\n",
       "      <td>-0.918230</td>\n",
       "      <td>1.658216</td>\n",
       "      <td>-1.424743</td>\n",
       "      <td>-0.507068</td>\n",
       "      <td>-1.049374</td>\n",
       "      <td>-0.607628</td>\n",
       "      <td>0.693287</td>\n",
       "      <td>-0.360333</td>\n",
       "    </tr>\n",
       "    <tr>\n",
       "      <th>2</th>\n",
       "      <td>0.403971</td>\n",
       "      <td>2.005510</td>\n",
       "      <td>-0.951567</td>\n",
       "      <td>-0.253487</td>\n",
       "      <td>0.815003</td>\n",
       "      <td>0.833797</td>\n",
       "      <td>1.775957</td>\n",
       "      <td>-0.406348</td>\n",
       "      <td>1.04541</td>\n",
       "      <td>0.465295</td>\n",
       "      <td>...</td>\n",
       "      <td>-1.570528</td>\n",
       "      <td>0.671861</td>\n",
       "      <td>-0.088196</td>\n",
       "      <td>0.879602</td>\n",
       "      <td>-1.424743</td>\n",
       "      <td>-0.153390</td>\n",
       "      <td>0.248104</td>\n",
       "      <td>0.043011</td>\n",
       "      <td>0.693287</td>\n",
       "      <td>1.227031</td>\n",
       "    </tr>\n",
       "  </tbody>\n",
       "</table>\n",
       "<p>3 rows × 140 columns</p>\n",
       "</div>"
      ],
      "text/plain": [
       "      Music  Slow songs or fast songs     Dance      Folk   Country  \\\n",
       "0  0.403971                 -0.393961 -0.951567 -1.131952 -0.114711   \n",
       "1 -1.102691                  0.805775 -0.951567 -1.131952 -1.044424   \n",
       "2  0.403971                  2.005510 -0.951567 -0.253487  0.815003   \n",
       "\n",
       "   Classical music   Musical       Pop     Rock  Metal or Hardrock  ...  \\\n",
       "0        -0.763717 -1.398094  1.316567  1.04541          -0.992099  ...   \n",
       "1        -1.562473 -0.604581 -0.406348  1.04541           1.193992  ...   \n",
       "2         0.833797  1.775957 -0.406348  1.04541           0.465295  ...   \n",
       "\n",
       "   Branded clothing  Entertainment spending  Spending on looks  \\\n",
       "0          1.493027               -0.169637          -0.088196   \n",
       "1         -1.570528                0.671861          -0.918230   \n",
       "2         -1.570528                0.671861          -0.088196   \n",
       "\n",
       "   Spending on gadgets  Spending on healthy eating       Age    Height  \\\n",
       "0            -1.456239                   -0.510004 -0.153390 -1.049374   \n",
       "1             1.658216                   -1.424743 -0.507068 -1.049374   \n",
       "2             0.879602                   -1.424743 -0.153390  0.248104   \n",
       "\n",
       "     Weight  Number of siblings  random_values  \n",
       "0 -1.330559           -0.294032      -0.391297  \n",
       "1 -0.607628            0.693287      -0.360333  \n",
       "2  0.043011            0.693287       1.227031  \n",
       "\n",
       "[3 rows x 140 columns]"
      ]
     },
     "execution_count": 303,
     "metadata": {},
     "output_type": "execute_result"
    }
   ],
   "source": [
    "numerical_preprocessor.fit_transform(data).head(3) # Сохраняются названия столцов. Лушче, но можно сделать меньше кода"
   ]
  },
  {
   "cell_type": "code",
   "execution_count": 304,
   "metadata": {
    "ExecuteTime": {
     "end_time": "2022-04-28T16:33:07.706622Z",
     "start_time": "2022-04-28T16:33:07.677620Z"
    }
   },
   "outputs": [
    {
     "data": {
      "text/html": [
       "<style>#sk-5bf5c3a9-2a1b-43f6-89a1-f4ec4bce52e4 {color: black;background-color: white;}#sk-5bf5c3a9-2a1b-43f6-89a1-f4ec4bce52e4 pre{padding: 0;}#sk-5bf5c3a9-2a1b-43f6-89a1-f4ec4bce52e4 div.sk-toggleable {background-color: white;}#sk-5bf5c3a9-2a1b-43f6-89a1-f4ec4bce52e4 label.sk-toggleable__label {cursor: pointer;display: block;width: 100%;margin-bottom: 0;padding: 0.2em 0.3em;box-sizing: border-box;text-align: center;}#sk-5bf5c3a9-2a1b-43f6-89a1-f4ec4bce52e4 div.sk-toggleable__content {max-height: 0;max-width: 0;overflow: hidden;text-align: left;background-color: #f0f8ff;}#sk-5bf5c3a9-2a1b-43f6-89a1-f4ec4bce52e4 div.sk-toggleable__content pre {margin: 0.2em;color: black;border-radius: 0.25em;background-color: #f0f8ff;}#sk-5bf5c3a9-2a1b-43f6-89a1-f4ec4bce52e4 input.sk-toggleable__control:checked~div.sk-toggleable__content {max-height: 200px;max-width: 100%;overflow: auto;}#sk-5bf5c3a9-2a1b-43f6-89a1-f4ec4bce52e4 div.sk-estimator input.sk-toggleable__control:checked~label.sk-toggleable__label {background-color: #d4ebff;}#sk-5bf5c3a9-2a1b-43f6-89a1-f4ec4bce52e4 div.sk-label input.sk-toggleable__control:checked~label.sk-toggleable__label {background-color: #d4ebff;}#sk-5bf5c3a9-2a1b-43f6-89a1-f4ec4bce52e4 input.sk-hidden--visually {border: 0;clip: rect(1px 1px 1px 1px);clip: rect(1px, 1px, 1px, 1px);height: 1px;margin: -1px;overflow: hidden;padding: 0;position: absolute;width: 1px;}#sk-5bf5c3a9-2a1b-43f6-89a1-f4ec4bce52e4 div.sk-estimator {font-family: monospace;background-color: #f0f8ff;margin: 0.25em 0.25em;border: 1px dotted black;border-radius: 0.25em;box-sizing: border-box;}#sk-5bf5c3a9-2a1b-43f6-89a1-f4ec4bce52e4 div.sk-estimator:hover {background-color: #d4ebff;}#sk-5bf5c3a9-2a1b-43f6-89a1-f4ec4bce52e4 div.sk-parallel-item::after {content: \"\";width: 100%;border-bottom: 1px solid gray;flex-grow: 1;}#sk-5bf5c3a9-2a1b-43f6-89a1-f4ec4bce52e4 div.sk-label:hover label.sk-toggleable__label {background-color: #d4ebff;}#sk-5bf5c3a9-2a1b-43f6-89a1-f4ec4bce52e4 div.sk-serial::before {content: \"\";position: absolute;border-left: 1px solid gray;box-sizing: border-box;top: 2em;bottom: 0;left: 50%;}#sk-5bf5c3a9-2a1b-43f6-89a1-f4ec4bce52e4 div.sk-serial {display: flex;flex-direction: column;align-items: center;background-color: white;}#sk-5bf5c3a9-2a1b-43f6-89a1-f4ec4bce52e4 div.sk-item {z-index: 1;}#sk-5bf5c3a9-2a1b-43f6-89a1-f4ec4bce52e4 div.sk-parallel {display: flex;align-items: stretch;justify-content: center;background-color: white;}#sk-5bf5c3a9-2a1b-43f6-89a1-f4ec4bce52e4 div.sk-parallel-item {display: flex;flex-direction: column;position: relative;background-color: white;}#sk-5bf5c3a9-2a1b-43f6-89a1-f4ec4bce52e4 div.sk-parallel-item:first-child::after {align-self: flex-end;width: 50%;}#sk-5bf5c3a9-2a1b-43f6-89a1-f4ec4bce52e4 div.sk-parallel-item:last-child::after {align-self: flex-start;width: 50%;}#sk-5bf5c3a9-2a1b-43f6-89a1-f4ec4bce52e4 div.sk-parallel-item:only-child::after {width: 0;}#sk-5bf5c3a9-2a1b-43f6-89a1-f4ec4bce52e4 div.sk-dashed-wrapped {border: 1px dashed gray;margin: 0.2em;box-sizing: border-box;padding-bottom: 0.1em;background-color: white;position: relative;}#sk-5bf5c3a9-2a1b-43f6-89a1-f4ec4bce52e4 div.sk-label label {font-family: monospace;font-weight: bold;background-color: white;display: inline-block;line-height: 1.2em;}#sk-5bf5c3a9-2a1b-43f6-89a1-f4ec4bce52e4 div.sk-label-container {position: relative;z-index: 2;text-align: center;}#sk-5bf5c3a9-2a1b-43f6-89a1-f4ec4bce52e4 div.sk-container {display: inline-block;position: relative;}</style><div id=\"sk-5bf5c3a9-2a1b-43f6-89a1-f4ec4bce52e4\" class\"sk-top-container\"><div class=\"sk-container\"><div class=\"sk-item sk-dashed-wrapped\"><div class=\"sk-label-container\"><div class=\"sk-label sk-toggleable\"><input class=\"sk-toggleable__control sk-hidden--visually\" id=\"be8e850b-3d58-4752-bf84-848978db1c16\" type=\"checkbox\" ><label class=\"sk-toggleable__label\" for=\"be8e850b-3d58-4752-bf84-848978db1c16\">Pipeline</label><div class=\"sk-toggleable__content\"><pre>Pipeline(steps=[('numerical_selector',\n",
       "                 FunctionTransformer(func=<function numerical_select at 0x000002279EF34AF0>)),\n",
       "                ('scaling', StandardScalerDf())])</pre></div></div></div><div class=\"sk-serial\"><div class=\"sk-item\"><div class=\"sk-estimator sk-toggleable\"><input class=\"sk-toggleable__control sk-hidden--visually\" id=\"1e6613ba-2351-45ed-881a-b19563c9e6f4\" type=\"checkbox\" ><label class=\"sk-toggleable__label\" for=\"1e6613ba-2351-45ed-881a-b19563c9e6f4\">FunctionTransformer</label><div class=\"sk-toggleable__content\"><pre>FunctionTransformer(func=<function numerical_select at 0x000002279EF34AF0>)</pre></div></div></div><div class=\"sk-item\"><div class=\"sk-estimator sk-toggleable\"><input class=\"sk-toggleable__control sk-hidden--visually\" id=\"0c1f1262-b87e-42ea-9874-9a2d20eeec7b\" type=\"checkbox\" ><label class=\"sk-toggleable__label\" for=\"0c1f1262-b87e-42ea-9874-9a2d20eeec7b\">StandardScalerDf</label><div class=\"sk-toggleable__content\"><pre>StandardScalerDf()</pre></div></div></div></div></div></div></div>"
      ],
      "text/plain": [
       "Pipeline(steps=[('numerical_selector',\n",
       "                 FunctionTransformer(func=<function numerical_select at 0x000002279EF34AF0>)),\n",
       "                ('scaling', StandardScalerDf())])"
      ]
     },
     "execution_count": 304,
     "metadata": {},
     "output_type": "execute_result"
    }
   ],
   "source": [
    "numerical_preprocessor"
   ]
  },
  {
   "cell_type": "code",
   "execution_count": 305,
   "metadata": {
    "ExecuteTime": {
     "end_time": "2022-04-28T16:33:07.722620Z",
     "start_time": "2022-04-28T16:33:07.708621Z"
    }
   },
   "outputs": [
    {
     "data": {
      "text/html": [
       "<style>#sk-f20aa744-6554-45ba-b9ea-b12f82e277b9 {color: black;background-color: white;}#sk-f20aa744-6554-45ba-b9ea-b12f82e277b9 pre{padding: 0;}#sk-f20aa744-6554-45ba-b9ea-b12f82e277b9 div.sk-toggleable {background-color: white;}#sk-f20aa744-6554-45ba-b9ea-b12f82e277b9 label.sk-toggleable__label {cursor: pointer;display: block;width: 100%;margin-bottom: 0;padding: 0.2em 0.3em;box-sizing: border-box;text-align: center;}#sk-f20aa744-6554-45ba-b9ea-b12f82e277b9 div.sk-toggleable__content {max-height: 0;max-width: 0;overflow: hidden;text-align: left;background-color: #f0f8ff;}#sk-f20aa744-6554-45ba-b9ea-b12f82e277b9 div.sk-toggleable__content pre {margin: 0.2em;color: black;border-radius: 0.25em;background-color: #f0f8ff;}#sk-f20aa744-6554-45ba-b9ea-b12f82e277b9 input.sk-toggleable__control:checked~div.sk-toggleable__content {max-height: 200px;max-width: 100%;overflow: auto;}#sk-f20aa744-6554-45ba-b9ea-b12f82e277b9 div.sk-estimator input.sk-toggleable__control:checked~label.sk-toggleable__label {background-color: #d4ebff;}#sk-f20aa744-6554-45ba-b9ea-b12f82e277b9 div.sk-label input.sk-toggleable__control:checked~label.sk-toggleable__label {background-color: #d4ebff;}#sk-f20aa744-6554-45ba-b9ea-b12f82e277b9 input.sk-hidden--visually {border: 0;clip: rect(1px 1px 1px 1px);clip: rect(1px, 1px, 1px, 1px);height: 1px;margin: -1px;overflow: hidden;padding: 0;position: absolute;width: 1px;}#sk-f20aa744-6554-45ba-b9ea-b12f82e277b9 div.sk-estimator {font-family: monospace;background-color: #f0f8ff;margin: 0.25em 0.25em;border: 1px dotted black;border-radius: 0.25em;box-sizing: border-box;}#sk-f20aa744-6554-45ba-b9ea-b12f82e277b9 div.sk-estimator:hover {background-color: #d4ebff;}#sk-f20aa744-6554-45ba-b9ea-b12f82e277b9 div.sk-parallel-item::after {content: \"\";width: 100%;border-bottom: 1px solid gray;flex-grow: 1;}#sk-f20aa744-6554-45ba-b9ea-b12f82e277b9 div.sk-label:hover label.sk-toggleable__label {background-color: #d4ebff;}#sk-f20aa744-6554-45ba-b9ea-b12f82e277b9 div.sk-serial::before {content: \"\";position: absolute;border-left: 1px solid gray;box-sizing: border-box;top: 2em;bottom: 0;left: 50%;}#sk-f20aa744-6554-45ba-b9ea-b12f82e277b9 div.sk-serial {display: flex;flex-direction: column;align-items: center;background-color: white;}#sk-f20aa744-6554-45ba-b9ea-b12f82e277b9 div.sk-item {z-index: 1;}#sk-f20aa744-6554-45ba-b9ea-b12f82e277b9 div.sk-parallel {display: flex;align-items: stretch;justify-content: center;background-color: white;}#sk-f20aa744-6554-45ba-b9ea-b12f82e277b9 div.sk-parallel-item {display: flex;flex-direction: column;position: relative;background-color: white;}#sk-f20aa744-6554-45ba-b9ea-b12f82e277b9 div.sk-parallel-item:first-child::after {align-self: flex-end;width: 50%;}#sk-f20aa744-6554-45ba-b9ea-b12f82e277b9 div.sk-parallel-item:last-child::after {align-self: flex-start;width: 50%;}#sk-f20aa744-6554-45ba-b9ea-b12f82e277b9 div.sk-parallel-item:only-child::after {width: 0;}#sk-f20aa744-6554-45ba-b9ea-b12f82e277b9 div.sk-dashed-wrapped {border: 1px dashed gray;margin: 0.2em;box-sizing: border-box;padding-bottom: 0.1em;background-color: white;position: relative;}#sk-f20aa744-6554-45ba-b9ea-b12f82e277b9 div.sk-label label {font-family: monospace;font-weight: bold;background-color: white;display: inline-block;line-height: 1.2em;}#sk-f20aa744-6554-45ba-b9ea-b12f82e277b9 div.sk-label-container {position: relative;z-index: 2;text-align: center;}#sk-f20aa744-6554-45ba-b9ea-b12f82e277b9 div.sk-container {display: inline-block;position: relative;}</style><div id=\"sk-f20aa744-6554-45ba-b9ea-b12f82e277b9\" class\"sk-top-container\"><div class=\"sk-container\"><div class=\"sk-item\"><div class=\"sk-estimator sk-toggleable\"><input class=\"sk-toggleable__control sk-hidden--visually\" id=\"949d23fb-d9b7-4147-95b5-73e4d1adae33\" type=\"checkbox\" checked><label class=\"sk-toggleable__label\" for=\"949d23fb-d9b7-4147-95b5-73e4d1adae33\">FunctionTransformer</label><div class=\"sk-toggleable__content\"><pre>FunctionTransformer(func=<function numerical_select at 0x000002279EF34AF0>)</pre></div></div></div></div></div>"
      ],
      "text/plain": [
       "FunctionTransformer(func=<function numerical_select at 0x000002279EF34AF0>)"
      ]
     },
     "execution_count": 305,
     "metadata": {},
     "output_type": "execute_result"
    }
   ],
   "source": [
    "numerical_preprocessor.named_steps['numerical_selector']"
   ]
  },
  {
   "cell_type": "markdown",
   "metadata": {},
   "source": [
    "# Бинарные признаки"
   ]
  },
  {
   "cell_type": "code",
   "execution_count": 306,
   "metadata": {
    "ExecuteTime": {
     "end_time": "2022-04-28T16:33:07.738622Z",
     "start_time": "2022-04-28T16:33:07.723624Z"
    }
   },
   "outputs": [
    {
     "data": {
      "text/html": [
       "<div>\n",
       "<style scoped>\n",
       "    .dataframe tbody tr th:only-of-type {\n",
       "        vertical-align: middle;\n",
       "    }\n",
       "\n",
       "    .dataframe tbody tr th {\n",
       "        vertical-align: top;\n",
       "    }\n",
       "\n",
       "    .dataframe thead th {\n",
       "        text-align: right;\n",
       "    }\n",
       "</style>\n",
       "<table border=\"1\" class=\"dataframe\">\n",
       "  <thead>\n",
       "    <tr style=\"text-align: right;\">\n",
       "      <th></th>\n",
       "      <th>Gender</th>\n",
       "      <th>Left - right handed</th>\n",
       "      <th>Only child</th>\n",
       "      <th>Village - town</th>\n",
       "      <th>House - block of flats</th>\n",
       "      <th>random_binar</th>\n",
       "    </tr>\n",
       "  </thead>\n",
       "  <tbody>\n",
       "    <tr>\n",
       "      <th>0</th>\n",
       "      <td>female</td>\n",
       "      <td>right handed</td>\n",
       "      <td>no</td>\n",
       "      <td>village</td>\n",
       "      <td>block of flats</td>\n",
       "      <td>True</td>\n",
       "    </tr>\n",
       "    <tr>\n",
       "      <th>1</th>\n",
       "      <td>female</td>\n",
       "      <td>right handed</td>\n",
       "      <td>no</td>\n",
       "      <td>city</td>\n",
       "      <td>block of flats</td>\n",
       "      <td>True</td>\n",
       "    </tr>\n",
       "    <tr>\n",
       "      <th>2</th>\n",
       "      <td>female</td>\n",
       "      <td>right handed</td>\n",
       "      <td>no</td>\n",
       "      <td>city</td>\n",
       "      <td>block of flats</td>\n",
       "      <td>True</td>\n",
       "    </tr>\n",
       "    <tr>\n",
       "      <th>3</th>\n",
       "      <td>female</td>\n",
       "      <td>right handed</td>\n",
       "      <td>yes</td>\n",
       "      <td>city</td>\n",
       "      <td>house/bungalow</td>\n",
       "      <td>True</td>\n",
       "    </tr>\n",
       "    <tr>\n",
       "      <th>4</th>\n",
       "      <td>female</td>\n",
       "      <td>right handed</td>\n",
       "      <td>no</td>\n",
       "      <td>village</td>\n",
       "      <td>house/bungalow</td>\n",
       "      <td>True</td>\n",
       "    </tr>\n",
       "  </tbody>\n",
       "</table>\n",
       "</div>"
      ],
      "text/plain": [
       "   Gender Left - right handed Only child Village - town  \\\n",
       "0  female        right handed         no        village   \n",
       "1  female        right handed         no           city   \n",
       "2  female        right handed         no           city   \n",
       "3  female        right handed        yes           city   \n",
       "4  female        right handed         no        village   \n",
       "\n",
       "  House - block of flats  random_binar  \n",
       "0         block of flats          True  \n",
       "1         block of flats          True  \n",
       "2         block of flats          True  \n",
       "3         house/bungalow          True  \n",
       "4         house/bungalow          True  "
      ]
     },
     "execution_count": 306,
     "metadata": {},
     "output_type": "execute_result"
    }
   ],
   "source": [
    "# Способ через функцию \n",
    "def binary_select(data):\n",
    "    \n",
    "    data['random_binar'] = data['Gender'] == 'female'\n",
    "    \n",
    "    return data[binary_features + ['random_binar']] \n",
    "\n",
    "# Превращаем функцию в трансформер\n",
    "binary_selector = FunctionTransformer(binary_select, validate=False)  \n",
    "\n",
    "\n",
    "# Применяем к данным\n",
    "binary_selector.fit_transform(data).head()"
   ]
  },
  {
   "cell_type": "code",
   "execution_count": 307,
   "metadata": {
    "ExecuteTime": {
     "end_time": "2022-04-28T16:33:07.754622Z",
     "start_time": "2022-04-28T16:33:07.739624Z"
    }
   },
   "outputs": [],
   "source": [
    "# Тот же самый пособ, но через лябма-функцию / короткий способ\n",
    "binary_selector = FunctionTransformer(lambda data: data[binary_features], validate=False)"
   ]
  },
  {
   "cell_type": "code",
   "execution_count": 308,
   "metadata": {
    "ExecuteTime": {
     "end_time": "2022-04-28T16:33:07.770622Z",
     "start_time": "2022-04-28T16:33:07.756625Z"
    }
   },
   "outputs": [],
   "source": [
    "# pd.get_dummies(data, columns=to_dummies)\n",
    "\n",
    "ohe = OneHotEncoder(sparse=False, handle_unknown='ignore')"
   ]
  },
  {
   "cell_type": "code",
   "execution_count": 309,
   "metadata": {
    "ExecuteTime": {
     "end_time": "2022-04-28T16:33:07.786624Z",
     "start_time": "2022-04-28T16:33:07.771623Z"
    }
   },
   "outputs": [],
   "source": [
    "binary_preprocessor = Pipeline([\n",
    "    (\"binary_selector\", binary_selector),\n",
    "    (\"ohe\", ohe)\n",
    "])"
   ]
  },
  {
   "cell_type": "code",
   "execution_count": 310,
   "metadata": {
    "ExecuteTime": {
     "end_time": "2022-04-28T16:33:07.802625Z",
     "start_time": "2022-04-28T16:33:07.788631Z"
    }
   },
   "outputs": [],
   "source": [
    "class OneHotEncodingDf(OneHotEncoder):\n",
    "    \"\"\"DataFrame Wrapper around OneHotEncoding\"\"\"\n",
    "    def __init__(self, drop=None, sparse=False, handle_unknown='ignore'):\n",
    "        super(OneHotEncodingDf, self).__init__(drop=drop,\n",
    "                                               sparse=sparse,\n",
    "                                               handle_unknown=handle_unknown\n",
    "                                              )\n",
    "\n",
    "    def transform(self, X, y=None):\n",
    "        z = super(OneHotEncodingDf, self).transform(X.values)\n",
    "        return pd.DataFrame(z, index=X.index, columns=self.get_feature_names())"
   ]
  },
  {
   "cell_type": "code",
   "execution_count": 311,
   "metadata": {
    "ExecuteTime": {
     "end_time": "2022-04-28T16:33:07.818626Z",
     "start_time": "2022-04-28T16:33:07.803626Z"
    }
   },
   "outputs": [],
   "source": [
    "ohe_df = OneHotEncodingDf()"
   ]
  },
  {
   "cell_type": "code",
   "execution_count": 312,
   "metadata": {
    "ExecuteTime": {
     "end_time": "2022-04-28T16:33:07.834628Z",
     "start_time": "2022-04-28T16:33:07.819629Z"
    }
   },
   "outputs": [],
   "source": [
    "binary_preprocessor = Pipeline([\n",
    "    (\"binary_selector\", binary_selector),\n",
    "    (\"ohe\", ohe_df)\n",
    "])"
   ]
  },
  {
   "cell_type": "code",
   "execution_count": 313,
   "metadata": {
    "ExecuteTime": {
     "end_time": "2022-04-28T16:33:07.866631Z",
     "start_time": "2022-04-28T16:33:07.835630Z"
    }
   },
   "outputs": [
    {
     "data": {
      "text/html": [
       "<div>\n",
       "<style scoped>\n",
       "    .dataframe tbody tr th:only-of-type {\n",
       "        vertical-align: middle;\n",
       "    }\n",
       "\n",
       "    .dataframe tbody tr th {\n",
       "        vertical-align: top;\n",
       "    }\n",
       "\n",
       "    .dataframe thead th {\n",
       "        text-align: right;\n",
       "    }\n",
       "</style>\n",
       "<table border=\"1\" class=\"dataframe\">\n",
       "  <thead>\n",
       "    <tr style=\"text-align: right;\">\n",
       "      <th></th>\n",
       "      <th>x0_female</th>\n",
       "      <th>x0_male</th>\n",
       "      <th>x0_nan</th>\n",
       "      <th>x1_left handed</th>\n",
       "      <th>x1_right handed</th>\n",
       "      <th>x1_nan</th>\n",
       "      <th>x2_no</th>\n",
       "      <th>x2_yes</th>\n",
       "      <th>x2_nan</th>\n",
       "      <th>x3_city</th>\n",
       "      <th>x3_village</th>\n",
       "      <th>x3_nan</th>\n",
       "      <th>x4_block of flats</th>\n",
       "      <th>x4_house/bungalow</th>\n",
       "      <th>x4_nan</th>\n",
       "    </tr>\n",
       "  </thead>\n",
       "  <tbody>\n",
       "    <tr>\n",
       "      <th>0</th>\n",
       "      <td>1.0</td>\n",
       "      <td>0.0</td>\n",
       "      <td>0.0</td>\n",
       "      <td>0.0</td>\n",
       "      <td>1.0</td>\n",
       "      <td>0.0</td>\n",
       "      <td>1.0</td>\n",
       "      <td>0.0</td>\n",
       "      <td>0.0</td>\n",
       "      <td>0.0</td>\n",
       "      <td>1.0</td>\n",
       "      <td>0.0</td>\n",
       "      <td>1.0</td>\n",
       "      <td>0.0</td>\n",
       "      <td>0.0</td>\n",
       "    </tr>\n",
       "    <tr>\n",
       "      <th>1</th>\n",
       "      <td>1.0</td>\n",
       "      <td>0.0</td>\n",
       "      <td>0.0</td>\n",
       "      <td>0.0</td>\n",
       "      <td>1.0</td>\n",
       "      <td>0.0</td>\n",
       "      <td>1.0</td>\n",
       "      <td>0.0</td>\n",
       "      <td>0.0</td>\n",
       "      <td>1.0</td>\n",
       "      <td>0.0</td>\n",
       "      <td>0.0</td>\n",
       "      <td>1.0</td>\n",
       "      <td>0.0</td>\n",
       "      <td>0.0</td>\n",
       "    </tr>\n",
       "    <tr>\n",
       "      <th>2</th>\n",
       "      <td>1.0</td>\n",
       "      <td>0.0</td>\n",
       "      <td>0.0</td>\n",
       "      <td>0.0</td>\n",
       "      <td>1.0</td>\n",
       "      <td>0.0</td>\n",
       "      <td>1.0</td>\n",
       "      <td>0.0</td>\n",
       "      <td>0.0</td>\n",
       "      <td>1.0</td>\n",
       "      <td>0.0</td>\n",
       "      <td>0.0</td>\n",
       "      <td>1.0</td>\n",
       "      <td>0.0</td>\n",
       "      <td>0.0</td>\n",
       "    </tr>\n",
       "    <tr>\n",
       "      <th>3</th>\n",
       "      <td>1.0</td>\n",
       "      <td>0.0</td>\n",
       "      <td>0.0</td>\n",
       "      <td>0.0</td>\n",
       "      <td>1.0</td>\n",
       "      <td>0.0</td>\n",
       "      <td>0.0</td>\n",
       "      <td>1.0</td>\n",
       "      <td>0.0</td>\n",
       "      <td>1.0</td>\n",
       "      <td>0.0</td>\n",
       "      <td>0.0</td>\n",
       "      <td>0.0</td>\n",
       "      <td>1.0</td>\n",
       "      <td>0.0</td>\n",
       "    </tr>\n",
       "    <tr>\n",
       "      <th>4</th>\n",
       "      <td>1.0</td>\n",
       "      <td>0.0</td>\n",
       "      <td>0.0</td>\n",
       "      <td>0.0</td>\n",
       "      <td>1.0</td>\n",
       "      <td>0.0</td>\n",
       "      <td>1.0</td>\n",
       "      <td>0.0</td>\n",
       "      <td>0.0</td>\n",
       "      <td>0.0</td>\n",
       "      <td>1.0</td>\n",
       "      <td>0.0</td>\n",
       "      <td>0.0</td>\n",
       "      <td>1.0</td>\n",
       "      <td>0.0</td>\n",
       "    </tr>\n",
       "  </tbody>\n",
       "</table>\n",
       "</div>"
      ],
      "text/plain": [
       "   x0_female  x0_male  x0_nan  x1_left handed  x1_right handed  x1_nan  x2_no  \\\n",
       "0        1.0      0.0     0.0             0.0              1.0     0.0    1.0   \n",
       "1        1.0      0.0     0.0             0.0              1.0     0.0    1.0   \n",
       "2        1.0      0.0     0.0             0.0              1.0     0.0    1.0   \n",
       "3        1.0      0.0     0.0             0.0              1.0     0.0    0.0   \n",
       "4        1.0      0.0     0.0             0.0              1.0     0.0    1.0   \n",
       "\n",
       "   x2_yes  x2_nan  x3_city  x3_village  x3_nan  x4_block of flats  \\\n",
       "0     0.0     0.0      0.0         1.0     0.0                1.0   \n",
       "1     0.0     0.0      1.0         0.0     0.0                1.0   \n",
       "2     0.0     0.0      1.0         0.0     0.0                1.0   \n",
       "3     1.0     0.0      1.0         0.0     0.0                0.0   \n",
       "4     0.0     0.0      0.0         1.0     0.0                0.0   \n",
       "\n",
       "   x4_house/bungalow  x4_nan  \n",
       "0                0.0     0.0  \n",
       "1                0.0     0.0  \n",
       "2                0.0     0.0  \n",
       "3                1.0     0.0  \n",
       "4                1.0     0.0  "
      ]
     },
     "execution_count": 313,
     "metadata": {},
     "output_type": "execute_result"
    }
   ],
   "source": [
    "binary_preprocessor.fit_transform(data).head()"
   ]
  },
  {
   "cell_type": "markdown",
   "metadata": {},
   "source": [
    "# Категориальные переменные"
   ]
  },
  {
   "cell_type": "code",
   "execution_count": 314,
   "metadata": {
    "ExecuteTime": {
     "end_time": "2022-04-28T16:33:07.882634Z",
     "start_time": "2022-04-28T16:33:07.868632Z"
    }
   },
   "outputs": [],
   "source": [
    "def categorical_select(data):\n",
    "    return data[categorical_features]\n",
    "\n",
    "categorical_selector = FunctionTransformer(categorical_select, validate=False)\n",
    "\n",
    "\n",
    "# categorical_selector = FunctionTransformer(lambda data: data[categorical_features], validate=False)"
   ]
  },
  {
   "cell_type": "code",
   "execution_count": 315,
   "metadata": {
    "ExecuteTime": {
     "end_time": "2022-04-28T16:33:07.898633Z",
     "start_time": "2022-04-28T16:33:07.884634Z"
    }
   },
   "outputs": [],
   "source": [
    "categorical_preprocessor = Pipeline([\n",
    "    (\"categorical_selector\", categorical_selector),\n",
    "    (\"ohe\", OneHotEncodingDf())\n",
    "])\n",
    "\n",
    "# categorical_selector.fit_transform(data).head()"
   ]
  },
  {
   "cell_type": "markdown",
   "metadata": {},
   "source": [
    "# Feature Union - собираем все в один датасет"
   ]
  },
  {
   "cell_type": "code",
   "execution_count": 316,
   "metadata": {
    "ExecuteTime": {
     "end_time": "2022-04-28T16:33:07.914634Z",
     "start_time": "2022-04-28T16:33:07.900634Z"
    }
   },
   "outputs": [],
   "source": [
    "feature_union = FeatureUnion([\n",
    "    (\"numerical_preprocessor\", numerical_preprocessor),\n",
    "    (\"binary_preprocessor\", binary_preprocessor),\n",
    "    (\"categorical_preprocessor\", categorical_preprocessor)\n",
    "])"
   ]
  },
  {
   "cell_type": "code",
   "execution_count": 317,
   "metadata": {
    "ExecuteTime": {
     "end_time": "2022-04-28T16:33:07.961843Z",
     "start_time": "2022-04-28T16:33:07.915845Z"
    }
   },
   "outputs": [
    {
     "data": {
      "text/html": [
       "<style>#sk-365ed463-c14b-4a6a-9141-1c01f1bc5893 {color: black;background-color: white;}#sk-365ed463-c14b-4a6a-9141-1c01f1bc5893 pre{padding: 0;}#sk-365ed463-c14b-4a6a-9141-1c01f1bc5893 div.sk-toggleable {background-color: white;}#sk-365ed463-c14b-4a6a-9141-1c01f1bc5893 label.sk-toggleable__label {cursor: pointer;display: block;width: 100%;margin-bottom: 0;padding: 0.2em 0.3em;box-sizing: border-box;text-align: center;}#sk-365ed463-c14b-4a6a-9141-1c01f1bc5893 div.sk-toggleable__content {max-height: 0;max-width: 0;overflow: hidden;text-align: left;background-color: #f0f8ff;}#sk-365ed463-c14b-4a6a-9141-1c01f1bc5893 div.sk-toggleable__content pre {margin: 0.2em;color: black;border-radius: 0.25em;background-color: #f0f8ff;}#sk-365ed463-c14b-4a6a-9141-1c01f1bc5893 input.sk-toggleable__control:checked~div.sk-toggleable__content {max-height: 200px;max-width: 100%;overflow: auto;}#sk-365ed463-c14b-4a6a-9141-1c01f1bc5893 div.sk-estimator input.sk-toggleable__control:checked~label.sk-toggleable__label {background-color: #d4ebff;}#sk-365ed463-c14b-4a6a-9141-1c01f1bc5893 div.sk-label input.sk-toggleable__control:checked~label.sk-toggleable__label {background-color: #d4ebff;}#sk-365ed463-c14b-4a6a-9141-1c01f1bc5893 input.sk-hidden--visually {border: 0;clip: rect(1px 1px 1px 1px);clip: rect(1px, 1px, 1px, 1px);height: 1px;margin: -1px;overflow: hidden;padding: 0;position: absolute;width: 1px;}#sk-365ed463-c14b-4a6a-9141-1c01f1bc5893 div.sk-estimator {font-family: monospace;background-color: #f0f8ff;margin: 0.25em 0.25em;border: 1px dotted black;border-radius: 0.25em;box-sizing: border-box;}#sk-365ed463-c14b-4a6a-9141-1c01f1bc5893 div.sk-estimator:hover {background-color: #d4ebff;}#sk-365ed463-c14b-4a6a-9141-1c01f1bc5893 div.sk-parallel-item::after {content: \"\";width: 100%;border-bottom: 1px solid gray;flex-grow: 1;}#sk-365ed463-c14b-4a6a-9141-1c01f1bc5893 div.sk-label:hover label.sk-toggleable__label {background-color: #d4ebff;}#sk-365ed463-c14b-4a6a-9141-1c01f1bc5893 div.sk-serial::before {content: \"\";position: absolute;border-left: 1px solid gray;box-sizing: border-box;top: 2em;bottom: 0;left: 50%;}#sk-365ed463-c14b-4a6a-9141-1c01f1bc5893 div.sk-serial {display: flex;flex-direction: column;align-items: center;background-color: white;}#sk-365ed463-c14b-4a6a-9141-1c01f1bc5893 div.sk-item {z-index: 1;}#sk-365ed463-c14b-4a6a-9141-1c01f1bc5893 div.sk-parallel {display: flex;align-items: stretch;justify-content: center;background-color: white;}#sk-365ed463-c14b-4a6a-9141-1c01f1bc5893 div.sk-parallel-item {display: flex;flex-direction: column;position: relative;background-color: white;}#sk-365ed463-c14b-4a6a-9141-1c01f1bc5893 div.sk-parallel-item:first-child::after {align-self: flex-end;width: 50%;}#sk-365ed463-c14b-4a6a-9141-1c01f1bc5893 div.sk-parallel-item:last-child::after {align-self: flex-start;width: 50%;}#sk-365ed463-c14b-4a6a-9141-1c01f1bc5893 div.sk-parallel-item:only-child::after {width: 0;}#sk-365ed463-c14b-4a6a-9141-1c01f1bc5893 div.sk-dashed-wrapped {border: 1px dashed gray;margin: 0.2em;box-sizing: border-box;padding-bottom: 0.1em;background-color: white;position: relative;}#sk-365ed463-c14b-4a6a-9141-1c01f1bc5893 div.sk-label label {font-family: monospace;font-weight: bold;background-color: white;display: inline-block;line-height: 1.2em;}#sk-365ed463-c14b-4a6a-9141-1c01f1bc5893 div.sk-label-container {position: relative;z-index: 2;text-align: center;}#sk-365ed463-c14b-4a6a-9141-1c01f1bc5893 div.sk-container {display: inline-block;position: relative;}</style><div id=\"sk-365ed463-c14b-4a6a-9141-1c01f1bc5893\" class\"sk-top-container\"><div class=\"sk-container\"><div class=\"sk-item sk-dashed-wrapped\"><div class=\"sk-label-container\"><div class=\"sk-label sk-toggleable\"><input class=\"sk-toggleable__control sk-hidden--visually\" id=\"ec025b38-c3fc-4c11-8714-2cdea06f350f\" type=\"checkbox\" ><label class=\"sk-toggleable__label\" for=\"ec025b38-c3fc-4c11-8714-2cdea06f350f\">FeatureUnion</label><div class=\"sk-toggleable__content\"><pre>FeatureUnion(transformer_list=[('numerical_preprocessor',\n",
       "                                Pipeline(steps=[('numerical_selector',\n",
       "                                                 FunctionTransformer(func=<function numerical_select at 0x000002279EF34AF0>)),\n",
       "                                                ('scaling',\n",
       "                                                 StandardScalerDf())])),\n",
       "                               ('binary_preprocessor',\n",
       "                                Pipeline(steps=[('binary_selector',\n",
       "                                                 FunctionTransformer(func=<function <lambda> at 0x00000227967BE310>)),\n",
       "                                                ('ohe', OneHotEncodingDf())])),\n",
       "                               ('categorical_preprocessor',\n",
       "                                Pipeline(steps=[('categorical_selector',\n",
       "                                                 FunctionTransformer(func=<function categorical_select at 0x0000022796FAEA60>)),\n",
       "                                                ('ohe', OneHotEncodingDf())]))])</pre></div></div></div><div class=\"sk-parallel\"><div class=\"sk-parallel-item\"><div class=\"sk-item\"><div class=\"sk-label-container\"><div class=\"sk-label sk-toggleable\"><label>numerical_preprocessor</label></div></div><div class=\"sk-serial\"><div class=\"sk-item\"><div class=\"sk-serial\"><div class=\"sk-item\"><div class=\"sk-estimator sk-toggleable\"><input class=\"sk-toggleable__control sk-hidden--visually\" id=\"be4f0d87-3116-4297-a0f5-61f63e1da731\" type=\"checkbox\" ><label class=\"sk-toggleable__label\" for=\"be4f0d87-3116-4297-a0f5-61f63e1da731\">FunctionTransformer</label><div class=\"sk-toggleable__content\"><pre>FunctionTransformer(func=<function numerical_select at 0x000002279EF34AF0>)</pre></div></div></div><div class=\"sk-item\"><div class=\"sk-estimator sk-toggleable\"><input class=\"sk-toggleable__control sk-hidden--visually\" id=\"42277cf8-c34a-4984-a283-af2a95dd964e\" type=\"checkbox\" ><label class=\"sk-toggleable__label\" for=\"42277cf8-c34a-4984-a283-af2a95dd964e\">StandardScalerDf</label><div class=\"sk-toggleable__content\"><pre>StandardScalerDf()</pre></div></div></div></div></div></div></div></div><div class=\"sk-parallel-item\"><div class=\"sk-item\"><div class=\"sk-label-container\"><div class=\"sk-label sk-toggleable\"><label>binary_preprocessor</label></div></div><div class=\"sk-serial\"><div class=\"sk-item\"><div class=\"sk-serial\"><div class=\"sk-item\"><div class=\"sk-estimator sk-toggleable\"><input class=\"sk-toggleable__control sk-hidden--visually\" id=\"0effd182-e289-499a-b7b0-3b044dd517d1\" type=\"checkbox\" ><label class=\"sk-toggleable__label\" for=\"0effd182-e289-499a-b7b0-3b044dd517d1\">FunctionTransformer</label><div class=\"sk-toggleable__content\"><pre>FunctionTransformer(func=<function <lambda> at 0x00000227967BE310>)</pre></div></div></div><div class=\"sk-item\"><div class=\"sk-estimator sk-toggleable\"><input class=\"sk-toggleable__control sk-hidden--visually\" id=\"d2f251ef-2e9f-4370-ae59-6721e1cb62e2\" type=\"checkbox\" ><label class=\"sk-toggleable__label\" for=\"d2f251ef-2e9f-4370-ae59-6721e1cb62e2\">OneHotEncodingDf</label><div class=\"sk-toggleable__content\"><pre>OneHotEncodingDf()</pre></div></div></div></div></div></div></div></div><div class=\"sk-parallel-item\"><div class=\"sk-item\"><div class=\"sk-label-container\"><div class=\"sk-label sk-toggleable\"><label>categorical_preprocessor</label></div></div><div class=\"sk-serial\"><div class=\"sk-item\"><div class=\"sk-serial\"><div class=\"sk-item\"><div class=\"sk-estimator sk-toggleable\"><input class=\"sk-toggleable__control sk-hidden--visually\" id=\"65baa003-e431-4942-afba-24d29347e22c\" type=\"checkbox\" ><label class=\"sk-toggleable__label\" for=\"65baa003-e431-4942-afba-24d29347e22c\">FunctionTransformer</label><div class=\"sk-toggleable__content\"><pre>FunctionTransformer(func=<function categorical_select at 0x0000022796FAEA60>)</pre></div></div></div><div class=\"sk-item\"><div class=\"sk-estimator sk-toggleable\"><input class=\"sk-toggleable__control sk-hidden--visually\" id=\"4731ae43-afe6-446a-9ae6-ce2126a30c82\" type=\"checkbox\" ><label class=\"sk-toggleable__label\" for=\"4731ae43-afe6-446a-9ae6-ce2126a30c82\">OneHotEncodingDf</label><div class=\"sk-toggleable__content\"><pre>OneHotEncodingDf()</pre></div></div></div></div></div></div></div></div></div></div></div></div>"
      ],
      "text/plain": [
       "FeatureUnion(transformer_list=[('numerical_preprocessor',\n",
       "                                Pipeline(steps=[('numerical_selector',\n",
       "                                                 FunctionTransformer(func=<function numerical_select at 0x000002279EF34AF0>)),\n",
       "                                                ('scaling',\n",
       "                                                 StandardScalerDf())])),\n",
       "                               ('binary_preprocessor',\n",
       "                                Pipeline(steps=[('binary_selector',\n",
       "                                                 FunctionTransformer(func=<function <lambda> at 0x00000227967BE310>)),\n",
       "                                                ('ohe', OneHotEncodingDf())])),\n",
       "                               ('categorical_preprocessor',\n",
       "                                Pipeline(steps=[('categorical_selector',\n",
       "                                                 FunctionTransformer(func=<function categorical_select at 0x0000022796FAEA60>)),\n",
       "                                                ('ohe', OneHotEncodingDf())]))])"
      ]
     },
     "execution_count": 317,
     "metadata": {},
     "output_type": "execute_result"
    }
   ],
   "source": [
    "feature_union"
   ]
  },
  {
   "cell_type": "code",
   "execution_count": 318,
   "metadata": {
    "ExecuteTime": {
     "end_time": "2022-04-28T16:33:07.993846Z",
     "start_time": "2022-04-28T16:33:07.962848Z"
    }
   },
   "outputs": [
    {
     "data": {
      "text/plain": [
       "array([[ 0.40397078, -0.39396081, -0.95156664, ...,  0.        ,\n",
       "         0.        ,  0.        ],\n",
       "       [-1.10269062,  0.80577482, -0.95156664, ...,  1.        ,\n",
       "         0.        ,  0.        ],\n",
       "       [ 0.40397078,  2.00551046, -0.95156664, ...,  0.        ,\n",
       "         1.        ,  0.        ],\n",
       "       ...,\n",
       "       [-1.10269062, -0.39396081, -1.80627739, ...,  0.        ,\n",
       "         1.        ,  0.        ],\n",
       "       [ 0.40397078, -0.39396081, -0.09685589, ...,  0.        ,\n",
       "         0.        ,  0.        ],\n",
       "       [ 0.40397078,  2.00551046,  0.75785486, ...,  0.        ,\n",
       "         0.        ,  0.        ]])"
      ]
     },
     "execution_count": 318,
     "metadata": {},
     "output_type": "execute_result"
    }
   ],
   "source": [
    "feature_union.fit_transform(data)"
   ]
  },
  {
   "cell_type": "code",
   "execution_count": 319,
   "metadata": {
    "ExecuteTime": {
     "end_time": "2022-04-28T16:33:08.041850Z",
     "start_time": "2022-04-28T16:33:07.994849Z"
    }
   },
   "outputs": [
    {
     "data": {
      "text/plain": [
       "(1010, 226)"
      ]
     },
     "execution_count": 319,
     "metadata": {},
     "output_type": "execute_result"
    }
   ],
   "source": [
    "feature_union.fit_transform(data).shape"
   ]
  },
  {
   "cell_type": "code",
   "execution_count": null,
   "metadata": {},
   "outputs": [],
   "source": []
  },
  {
   "cell_type": "code",
   "execution_count": 320,
   "metadata": {
    "ExecuteTime": {
     "end_time": "2022-04-28T16:33:08.057854Z",
     "start_time": "2022-04-28T16:33:08.043853Z"
    }
   },
   "outputs": [],
   "source": [
    "# feature_union.named_steps['numerical_preprocessor']"
   ]
  },
  {
   "cell_type": "code",
   "execution_count": null,
   "metadata": {},
   "outputs": [],
   "source": []
  },
  {
   "cell_type": "code",
   "execution_count": 321,
   "metadata": {
    "ExecuteTime": {
     "end_time": "2022-04-28T16:33:08.073853Z",
     "start_time": "2022-04-28T16:33:08.059853Z"
    },
    "code_folding": [
     6,
     28,
     31
    ]
   },
   "outputs": [],
   "source": [
    "from joblib import Parallel, delayed \n",
    "from scipy import sparse\n",
    "\n",
    "# Пара новых гостей\n",
    "from sklearn.pipeline import (\n",
    "    _fit_transform_one,\n",
    "    _transform_one,\n",
    ")\n",
    "\n",
    "# https://zablo.net/blog/post/pandas-dataframe-in-scikit-learn-feature-union/\n",
    "\n",
    "class PandasFeatureUnion(FeatureUnion):\n",
    "    def fit_transform(self, X, y=None, **fit_params):\n",
    "        self._validate_transformers()\n",
    "        result = Parallel(n_jobs=self.n_jobs)(\n",
    "            delayed(_fit_transform_one)(\n",
    "                transformer=trans,\n",
    "                X=X,\n",
    "                y=y,\n",
    "                weight=weight,\n",
    "                **fit_params)\n",
    "            for name, trans, weight in self._iter())\n",
    "\n",
    "        if not result:\n",
    "            # All transformers are None\n",
    "            return np.zeros((X.shape[0], 0))\n",
    "        Xs, transformers = zip(*result)\n",
    "        self._update_transformer_list(transformers)\n",
    "        if any(sparse.issparse(f) for f in Xs):\n",
    "            Xs = sparse.hstack(Xs).tocsr()\n",
    "        else:\n",
    "            Xs = self.merge_dataframes_by_column(Xs)\n",
    "        return Xs\n",
    "\n",
    "    def merge_dataframes_by_column(self, Xs):\n",
    "        return pd.concat(Xs, axis=\"columns\", copy=False)\n",
    "\n",
    "    def transform(self, X):\n",
    "        Xs = Parallel(n_jobs=self.n_jobs)(\n",
    "            delayed(_transform_one)(\n",
    "                transformer=trans,\n",
    "                X=X,\n",
    "                y=None,\n",
    "                weight=weight)\n",
    "            for name, trans, weight in self._iter())\n",
    "        if not Xs:\n",
    "            # All transformers are None\n",
    "            return np.zeros((X.shape[0], 0))\n",
    "        if any(sparse.issparse(f) for f in Xs):\n",
    "            Xs = sparse.hstack(Xs).tocsr()\n",
    "        else:\n",
    "            Xs = self.merge_dataframes_by_column(Xs)\n",
    "        return Xs"
   ]
  },
  {
   "cell_type": "code",
   "execution_count": null,
   "metadata": {},
   "outputs": [],
   "source": []
  },
  {
   "cell_type": "code",
   "execution_count": 322,
   "metadata": {
    "ExecuteTime": {
     "end_time": "2022-04-28T16:33:08.089853Z",
     "start_time": "2022-04-28T16:33:08.076853Z"
    }
   },
   "outputs": [],
   "source": [
    "feature_union = PandasFeatureUnion([\n",
    "    (\"numerical_preprocessor\", numerical_preprocessor),\n",
    "    (\"binary_preprocessor\", binary_preprocessor),\n",
    "    (\"categorical_preprocessor\", categorical_preprocessor)\n",
    "])"
   ]
  },
  {
   "cell_type": "code",
   "execution_count": 323,
   "metadata": {
    "ExecuteTime": {
     "end_time": "2022-04-28T16:33:08.137858Z",
     "start_time": "2022-04-28T16:33:08.091856Z"
    }
   },
   "outputs": [
    {
     "data": {
      "text/html": [
       "<style>#sk-e2020ca3-0e69-41dd-b4de-e9d0001197d3 {color: black;background-color: white;}#sk-e2020ca3-0e69-41dd-b4de-e9d0001197d3 pre{padding: 0;}#sk-e2020ca3-0e69-41dd-b4de-e9d0001197d3 div.sk-toggleable {background-color: white;}#sk-e2020ca3-0e69-41dd-b4de-e9d0001197d3 label.sk-toggleable__label {cursor: pointer;display: block;width: 100%;margin-bottom: 0;padding: 0.2em 0.3em;box-sizing: border-box;text-align: center;}#sk-e2020ca3-0e69-41dd-b4de-e9d0001197d3 div.sk-toggleable__content {max-height: 0;max-width: 0;overflow: hidden;text-align: left;background-color: #f0f8ff;}#sk-e2020ca3-0e69-41dd-b4de-e9d0001197d3 div.sk-toggleable__content pre {margin: 0.2em;color: black;border-radius: 0.25em;background-color: #f0f8ff;}#sk-e2020ca3-0e69-41dd-b4de-e9d0001197d3 input.sk-toggleable__control:checked~div.sk-toggleable__content {max-height: 200px;max-width: 100%;overflow: auto;}#sk-e2020ca3-0e69-41dd-b4de-e9d0001197d3 div.sk-estimator input.sk-toggleable__control:checked~label.sk-toggleable__label {background-color: #d4ebff;}#sk-e2020ca3-0e69-41dd-b4de-e9d0001197d3 div.sk-label input.sk-toggleable__control:checked~label.sk-toggleable__label {background-color: #d4ebff;}#sk-e2020ca3-0e69-41dd-b4de-e9d0001197d3 input.sk-hidden--visually {border: 0;clip: rect(1px 1px 1px 1px);clip: rect(1px, 1px, 1px, 1px);height: 1px;margin: -1px;overflow: hidden;padding: 0;position: absolute;width: 1px;}#sk-e2020ca3-0e69-41dd-b4de-e9d0001197d3 div.sk-estimator {font-family: monospace;background-color: #f0f8ff;margin: 0.25em 0.25em;border: 1px dotted black;border-radius: 0.25em;box-sizing: border-box;}#sk-e2020ca3-0e69-41dd-b4de-e9d0001197d3 div.sk-estimator:hover {background-color: #d4ebff;}#sk-e2020ca3-0e69-41dd-b4de-e9d0001197d3 div.sk-parallel-item::after {content: \"\";width: 100%;border-bottom: 1px solid gray;flex-grow: 1;}#sk-e2020ca3-0e69-41dd-b4de-e9d0001197d3 div.sk-label:hover label.sk-toggleable__label {background-color: #d4ebff;}#sk-e2020ca3-0e69-41dd-b4de-e9d0001197d3 div.sk-serial::before {content: \"\";position: absolute;border-left: 1px solid gray;box-sizing: border-box;top: 2em;bottom: 0;left: 50%;}#sk-e2020ca3-0e69-41dd-b4de-e9d0001197d3 div.sk-serial {display: flex;flex-direction: column;align-items: center;background-color: white;}#sk-e2020ca3-0e69-41dd-b4de-e9d0001197d3 div.sk-item {z-index: 1;}#sk-e2020ca3-0e69-41dd-b4de-e9d0001197d3 div.sk-parallel {display: flex;align-items: stretch;justify-content: center;background-color: white;}#sk-e2020ca3-0e69-41dd-b4de-e9d0001197d3 div.sk-parallel-item {display: flex;flex-direction: column;position: relative;background-color: white;}#sk-e2020ca3-0e69-41dd-b4de-e9d0001197d3 div.sk-parallel-item:first-child::after {align-self: flex-end;width: 50%;}#sk-e2020ca3-0e69-41dd-b4de-e9d0001197d3 div.sk-parallel-item:last-child::after {align-self: flex-start;width: 50%;}#sk-e2020ca3-0e69-41dd-b4de-e9d0001197d3 div.sk-parallel-item:only-child::after {width: 0;}#sk-e2020ca3-0e69-41dd-b4de-e9d0001197d3 div.sk-dashed-wrapped {border: 1px dashed gray;margin: 0.2em;box-sizing: border-box;padding-bottom: 0.1em;background-color: white;position: relative;}#sk-e2020ca3-0e69-41dd-b4de-e9d0001197d3 div.sk-label label {font-family: monospace;font-weight: bold;background-color: white;display: inline-block;line-height: 1.2em;}#sk-e2020ca3-0e69-41dd-b4de-e9d0001197d3 div.sk-label-container {position: relative;z-index: 2;text-align: center;}#sk-e2020ca3-0e69-41dd-b4de-e9d0001197d3 div.sk-container {display: inline-block;position: relative;}</style><div id=\"sk-e2020ca3-0e69-41dd-b4de-e9d0001197d3\" class\"sk-top-container\"><div class=\"sk-container\"><div class=\"sk-item sk-dashed-wrapped\"><div class=\"sk-label-container\"><div class=\"sk-label sk-toggleable\"><input class=\"sk-toggleable__control sk-hidden--visually\" id=\"c3ad7e07-7510-46a0-b9ef-0eef96f709af\" type=\"checkbox\" ><label class=\"sk-toggleable__label\" for=\"c3ad7e07-7510-46a0-b9ef-0eef96f709af\">PandasFeatureUnion</label><div class=\"sk-toggleable__content\"><pre>PandasFeatureUnion(transformer_list=[('numerical_preprocessor',\n",
       "                                      Pipeline(steps=[('numerical_selector',\n",
       "                                                       FunctionTransformer(func=<function numerical_select at 0x000002279EF34AF0>)),\n",
       "                                                      ('scaling',\n",
       "                                                       StandardScalerDf())])),\n",
       "                                     ('binary_preprocessor',\n",
       "                                      Pipeline(steps=[('binary_selector',\n",
       "                                                       FunctionTransformer(func=<function <lambda> at 0x00000227967BE310>)),\n",
       "                                                      ('ohe',\n",
       "                                                       OneHotEncodingDf())])),\n",
       "                                     ('categorical_preprocessor',\n",
       "                                      Pipeline(steps=[('categorical_selector',\n",
       "                                                       FunctionTransformer(func=<function categorical_select at 0x0000022796FAEA60>)),\n",
       "                                                      ('ohe',\n",
       "                                                       OneHotEncodingDf())]))])</pre></div></div></div><div class=\"sk-parallel\"><div class=\"sk-parallel-item\"><div class=\"sk-item\"><div class=\"sk-label-container\"><div class=\"sk-label sk-toggleable\"><label>numerical_preprocessor</label></div></div><div class=\"sk-serial\"><div class=\"sk-item\"><div class=\"sk-serial\"><div class=\"sk-item\"><div class=\"sk-estimator sk-toggleable\"><input class=\"sk-toggleable__control sk-hidden--visually\" id=\"81223cf5-94ed-40e9-9fed-7b2ca780ee58\" type=\"checkbox\" ><label class=\"sk-toggleable__label\" for=\"81223cf5-94ed-40e9-9fed-7b2ca780ee58\">FunctionTransformer</label><div class=\"sk-toggleable__content\"><pre>FunctionTransformer(func=<function numerical_select at 0x000002279EF34AF0>)</pre></div></div></div><div class=\"sk-item\"><div class=\"sk-estimator sk-toggleable\"><input class=\"sk-toggleable__control sk-hidden--visually\" id=\"8d5dabed-54c9-4661-a25e-204ab567f93a\" type=\"checkbox\" ><label class=\"sk-toggleable__label\" for=\"8d5dabed-54c9-4661-a25e-204ab567f93a\">StandardScalerDf</label><div class=\"sk-toggleable__content\"><pre>StandardScalerDf()</pre></div></div></div></div></div></div></div></div><div class=\"sk-parallel-item\"><div class=\"sk-item\"><div class=\"sk-label-container\"><div class=\"sk-label sk-toggleable\"><label>binary_preprocessor</label></div></div><div class=\"sk-serial\"><div class=\"sk-item\"><div class=\"sk-serial\"><div class=\"sk-item\"><div class=\"sk-estimator sk-toggleable\"><input class=\"sk-toggleable__control sk-hidden--visually\" id=\"eb273f9b-0d79-4918-a22e-9365b96c9e2c\" type=\"checkbox\" ><label class=\"sk-toggleable__label\" for=\"eb273f9b-0d79-4918-a22e-9365b96c9e2c\">FunctionTransformer</label><div class=\"sk-toggleable__content\"><pre>FunctionTransformer(func=<function <lambda> at 0x00000227967BE310>)</pre></div></div></div><div class=\"sk-item\"><div class=\"sk-estimator sk-toggleable\"><input class=\"sk-toggleable__control sk-hidden--visually\" id=\"e4a476e5-eb72-49b4-b872-e188c624eda8\" type=\"checkbox\" ><label class=\"sk-toggleable__label\" for=\"e4a476e5-eb72-49b4-b872-e188c624eda8\">OneHotEncodingDf</label><div class=\"sk-toggleable__content\"><pre>OneHotEncodingDf()</pre></div></div></div></div></div></div></div></div><div class=\"sk-parallel-item\"><div class=\"sk-item\"><div class=\"sk-label-container\"><div class=\"sk-label sk-toggleable\"><label>categorical_preprocessor</label></div></div><div class=\"sk-serial\"><div class=\"sk-item\"><div class=\"sk-serial\"><div class=\"sk-item\"><div class=\"sk-estimator sk-toggleable\"><input class=\"sk-toggleable__control sk-hidden--visually\" id=\"9d86b159-a2e7-417e-b253-4a103ecd82e3\" type=\"checkbox\" ><label class=\"sk-toggleable__label\" for=\"9d86b159-a2e7-417e-b253-4a103ecd82e3\">FunctionTransformer</label><div class=\"sk-toggleable__content\"><pre>FunctionTransformer(func=<function categorical_select at 0x0000022796FAEA60>)</pre></div></div></div><div class=\"sk-item\"><div class=\"sk-estimator sk-toggleable\"><input class=\"sk-toggleable__control sk-hidden--visually\" id=\"8f2c4821-bb49-4162-a7eb-019c6aeb533a\" type=\"checkbox\" ><label class=\"sk-toggleable__label\" for=\"8f2c4821-bb49-4162-a7eb-019c6aeb533a\">OneHotEncodingDf</label><div class=\"sk-toggleable__content\"><pre>OneHotEncodingDf()</pre></div></div></div></div></div></div></div></div></div></div></div></div>"
      ],
      "text/plain": [
       "PandasFeatureUnion(transformer_list=[('numerical_preprocessor',\n",
       "                                      Pipeline(steps=[('numerical_selector',\n",
       "                                                       FunctionTransformer(func=<function numerical_select at 0x000002279EF34AF0>)),\n",
       "                                                      ('scaling',\n",
       "                                                       StandardScalerDf())])),\n",
       "                                     ('binary_preprocessor',\n",
       "                                      Pipeline(steps=[('binary_selector',\n",
       "                                                       FunctionTransformer(func=<function <lambda> at 0x00000227967BE310>)),\n",
       "                                                      ('ohe',\n",
       "                                                       OneHotEncodingDf())])),\n",
       "                                     ('categorical_preprocessor',\n",
       "                                      Pipeline(steps=[('categorical_selector',\n",
       "                                                       FunctionTransformer(func=<function categorical_select at 0x0000022796FAEA60>)),\n",
       "                                                      ('ohe',\n",
       "                                                       OneHotEncodingDf())]))])"
      ]
     },
     "execution_count": 323,
     "metadata": {},
     "output_type": "execute_result"
    }
   ],
   "source": [
    "feature_union"
   ]
  },
  {
   "cell_type": "code",
   "execution_count": 324,
   "metadata": {
    "ExecuteTime": {
     "end_time": "2022-04-28T16:33:08.201862Z",
     "start_time": "2022-04-28T16:33:08.139860Z"
    }
   },
   "outputs": [
    {
     "data": {
      "text/html": [
       "<div>\n",
       "<style scoped>\n",
       "    .dataframe tbody tr th:only-of-type {\n",
       "        vertical-align: middle;\n",
       "    }\n",
       "\n",
       "    .dataframe tbody tr th {\n",
       "        vertical-align: top;\n",
       "    }\n",
       "\n",
       "    .dataframe thead th {\n",
       "        text-align: right;\n",
       "    }\n",
       "</style>\n",
       "<table border=\"1\" class=\"dataframe\">\n",
       "  <thead>\n",
       "    <tr style=\"text-align: right;\">\n",
       "      <th></th>\n",
       "      <th>Music</th>\n",
       "      <th>Slow songs or fast songs</th>\n",
       "      <th>Dance</th>\n",
       "      <th>Folk</th>\n",
       "      <th>Country</th>\n",
       "      <th>Classical music</th>\n",
       "      <th>Musical</th>\n",
       "      <th>Pop</th>\n",
       "      <th>Rock</th>\n",
       "      <th>Metal or Hardrock</th>\n",
       "      <th>...</th>\n",
       "      <th>Lying</th>\n",
       "      <th>Internet usage</th>\n",
       "      <th>Education</th>\n",
       "      <th>Gender</th>\n",
       "      <th>Left - right handed</th>\n",
       "      <th>Only child</th>\n",
       "      <th>Village - town</th>\n",
       "      <th>House - block of flats</th>\n",
       "      <th>random_values</th>\n",
       "      <th>random_binar</th>\n",
       "    </tr>\n",
       "  </thead>\n",
       "  <tbody>\n",
       "    <tr>\n",
       "      <th>0</th>\n",
       "      <td>5.0</td>\n",
       "      <td>3.0</td>\n",
       "      <td>2.0</td>\n",
       "      <td>1.0</td>\n",
       "      <td>2.0</td>\n",
       "      <td>2.0</td>\n",
       "      <td>1.0</td>\n",
       "      <td>5.0</td>\n",
       "      <td>5.0</td>\n",
       "      <td>1.0</td>\n",
       "      <td>...</td>\n",
       "      <td>never</td>\n",
       "      <td>few hours a day</td>\n",
       "      <td>college/bachelor degree</td>\n",
       "      <td>female</td>\n",
       "      <td>right handed</td>\n",
       "      <td>no</td>\n",
       "      <td>village</td>\n",
       "      <td>block of flats</td>\n",
       "      <td>0.956590</td>\n",
       "      <td>True</td>\n",
       "    </tr>\n",
       "    <tr>\n",
       "      <th>1</th>\n",
       "      <td>4.0</td>\n",
       "      <td>4.0</td>\n",
       "      <td>2.0</td>\n",
       "      <td>1.0</td>\n",
       "      <td>1.0</td>\n",
       "      <td>1.0</td>\n",
       "      <td>2.0</td>\n",
       "      <td>3.0</td>\n",
       "      <td>5.0</td>\n",
       "      <td>4.0</td>\n",
       "      <td>...</td>\n",
       "      <td>sometimes</td>\n",
       "      <td>few hours a day</td>\n",
       "      <td>college/bachelor degree</td>\n",
       "      <td>female</td>\n",
       "      <td>right handed</td>\n",
       "      <td>no</td>\n",
       "      <td>city</td>\n",
       "      <td>block of flats</td>\n",
       "      <td>-0.237930</td>\n",
       "      <td>True</td>\n",
       "    </tr>\n",
       "    <tr>\n",
       "      <th>2</th>\n",
       "      <td>5.0</td>\n",
       "      <td>5.0</td>\n",
       "      <td>2.0</td>\n",
       "      <td>2.0</td>\n",
       "      <td>3.0</td>\n",
       "      <td>4.0</td>\n",
       "      <td>5.0</td>\n",
       "      <td>3.0</td>\n",
       "      <td>5.0</td>\n",
       "      <td>3.0</td>\n",
       "      <td>...</td>\n",
       "      <td>sometimes</td>\n",
       "      <td>few hours a day</td>\n",
       "      <td>secondary school</td>\n",
       "      <td>female</td>\n",
       "      <td>right handed</td>\n",
       "      <td>no</td>\n",
       "      <td>city</td>\n",
       "      <td>block of flats</td>\n",
       "      <td>0.121266</td>\n",
       "      <td>True</td>\n",
       "    </tr>\n",
       "    <tr>\n",
       "      <th>3</th>\n",
       "      <td>5.0</td>\n",
       "      <td>3.0</td>\n",
       "      <td>2.0</td>\n",
       "      <td>1.0</td>\n",
       "      <td>1.0</td>\n",
       "      <td>1.0</td>\n",
       "      <td>1.0</td>\n",
       "      <td>2.0</td>\n",
       "      <td>2.0</td>\n",
       "      <td>1.0</td>\n",
       "      <td>...</td>\n",
       "      <td>only to avoid hurting someone</td>\n",
       "      <td>most of the day</td>\n",
       "      <td>college/bachelor degree</td>\n",
       "      <td>female</td>\n",
       "      <td>right handed</td>\n",
       "      <td>yes</td>\n",
       "      <td>city</td>\n",
       "      <td>house/bungalow</td>\n",
       "      <td>0.323152</td>\n",
       "      <td>True</td>\n",
       "    </tr>\n",
       "    <tr>\n",
       "      <th>4</th>\n",
       "      <td>5.0</td>\n",
       "      <td>3.0</td>\n",
       "      <td>4.0</td>\n",
       "      <td>3.0</td>\n",
       "      <td>2.0</td>\n",
       "      <td>4.0</td>\n",
       "      <td>3.0</td>\n",
       "      <td>5.0</td>\n",
       "      <td>3.0</td>\n",
       "      <td>1.0</td>\n",
       "      <td>...</td>\n",
       "      <td>everytime it suits me</td>\n",
       "      <td>few hours a day</td>\n",
       "      <td>secondary school</td>\n",
       "      <td>female</td>\n",
       "      <td>right handed</td>\n",
       "      <td>no</td>\n",
       "      <td>village</td>\n",
       "      <td>house/bungalow</td>\n",
       "      <td>0.638346</td>\n",
       "      <td>True</td>\n",
       "    </tr>\n",
       "    <tr>\n",
       "      <th>...</th>\n",
       "      <td>...</td>\n",
       "      <td>...</td>\n",
       "      <td>...</td>\n",
       "      <td>...</td>\n",
       "      <td>...</td>\n",
       "      <td>...</td>\n",
       "      <td>...</td>\n",
       "      <td>...</td>\n",
       "      <td>...</td>\n",
       "      <td>...</td>\n",
       "      <td>...</td>\n",
       "      <td>...</td>\n",
       "      <td>...</td>\n",
       "      <td>...</td>\n",
       "      <td>...</td>\n",
       "      <td>...</td>\n",
       "      <td>...</td>\n",
       "      <td>...</td>\n",
       "      <td>...</td>\n",
       "      <td>...</td>\n",
       "      <td>...</td>\n",
       "    </tr>\n",
       "    <tr>\n",
       "      <th>1005</th>\n",
       "      <td>5.0</td>\n",
       "      <td>2.0</td>\n",
       "      <td>5.0</td>\n",
       "      <td>2.0</td>\n",
       "      <td>2.0</td>\n",
       "      <td>5.0</td>\n",
       "      <td>4.0</td>\n",
       "      <td>4.0</td>\n",
       "      <td>4.0</td>\n",
       "      <td>3.0</td>\n",
       "      <td>...</td>\n",
       "      <td>everytime it suits me</td>\n",
       "      <td>few hours a day</td>\n",
       "      <td>secondary school</td>\n",
       "      <td>female</td>\n",
       "      <td>right handed</td>\n",
       "      <td>no</td>\n",
       "      <td>city</td>\n",
       "      <td>house/bungalow</td>\n",
       "      <td>-0.076750</td>\n",
       "      <td>True</td>\n",
       "    </tr>\n",
       "    <tr>\n",
       "      <th>1006</th>\n",
       "      <td>4.0</td>\n",
       "      <td>4.0</td>\n",
       "      <td>5.0</td>\n",
       "      <td>1.0</td>\n",
       "      <td>3.0</td>\n",
       "      <td>4.0</td>\n",
       "      <td>1.0</td>\n",
       "      <td>4.0</td>\n",
       "      <td>1.0</td>\n",
       "      <td>1.0</td>\n",
       "      <td>...</td>\n",
       "      <td>sometimes</td>\n",
       "      <td>less than an hour a day</td>\n",
       "      <td>masters degree</td>\n",
       "      <td>male</td>\n",
       "      <td>left handed</td>\n",
       "      <td>no</td>\n",
       "      <td>village</td>\n",
       "      <td>house/bungalow</td>\n",
       "      <td>2.183856</td>\n",
       "      <td>False</td>\n",
       "    </tr>\n",
       "    <tr>\n",
       "      <th>1007</th>\n",
       "      <td>4.0</td>\n",
       "      <td>3.0</td>\n",
       "      <td>1.0</td>\n",
       "      <td>1.0</td>\n",
       "      <td>2.0</td>\n",
       "      <td>2.0</td>\n",
       "      <td>2.0</td>\n",
       "      <td>3.0</td>\n",
       "      <td>4.0</td>\n",
       "      <td>1.0</td>\n",
       "      <td>...</td>\n",
       "      <td>only to avoid hurting someone</td>\n",
       "      <td>most of the day</td>\n",
       "      <td>secondary school</td>\n",
       "      <td>female</td>\n",
       "      <td>right handed</td>\n",
       "      <td>yes</td>\n",
       "      <td>city</td>\n",
       "      <td>block of flats</td>\n",
       "      <td>-0.394901</td>\n",
       "      <td>True</td>\n",
       "    </tr>\n",
       "    <tr>\n",
       "      <th>1008</th>\n",
       "      <td>5.0</td>\n",
       "      <td>3.0</td>\n",
       "      <td>3.0</td>\n",
       "      <td>3.0</td>\n",
       "      <td>1.0</td>\n",
       "      <td>3.0</td>\n",
       "      <td>1.0</td>\n",
       "      <td>3.0</td>\n",
       "      <td>4.0</td>\n",
       "      <td>1.0</td>\n",
       "      <td>...</td>\n",
       "      <td>sometimes</td>\n",
       "      <td>most of the day</td>\n",
       "      <td>college/bachelor degree</td>\n",
       "      <td>female</td>\n",
       "      <td>right handed</td>\n",
       "      <td>no</td>\n",
       "      <td>city</td>\n",
       "      <td>block of flats</td>\n",
       "      <td>-0.104756</td>\n",
       "      <td>True</td>\n",
       "    </tr>\n",
       "    <tr>\n",
       "      <th>1009</th>\n",
       "      <td>5.0</td>\n",
       "      <td>5.0</td>\n",
       "      <td>4.0</td>\n",
       "      <td>3.0</td>\n",
       "      <td>2.0</td>\n",
       "      <td>3.0</td>\n",
       "      <td>3.0</td>\n",
       "      <td>4.0</td>\n",
       "      <td>1.0</td>\n",
       "      <td>1.0</td>\n",
       "      <td>...</td>\n",
       "      <td>everytime it suits me</td>\n",
       "      <td>few hours a day</td>\n",
       "      <td>secondary school</td>\n",
       "      <td>male</td>\n",
       "      <td>right handed</td>\n",
       "      <td>no</td>\n",
       "      <td>village</td>\n",
       "      <td>house/bungalow</td>\n",
       "      <td>-1.745475</td>\n",
       "      <td>False</td>\n",
       "    </tr>\n",
       "  </tbody>\n",
       "</table>\n",
       "<p>1010 rows × 152 columns</p>\n",
       "</div>"
      ],
      "text/plain": [
       "      Music  Slow songs or fast songs  Dance  Folk  Country  Classical music  \\\n",
       "0       5.0                       3.0    2.0   1.0      2.0              2.0   \n",
       "1       4.0                       4.0    2.0   1.0      1.0              1.0   \n",
       "2       5.0                       5.0    2.0   2.0      3.0              4.0   \n",
       "3       5.0                       3.0    2.0   1.0      1.0              1.0   \n",
       "4       5.0                       3.0    4.0   3.0      2.0              4.0   \n",
       "...     ...                       ...    ...   ...      ...              ...   \n",
       "1005    5.0                       2.0    5.0   2.0      2.0              5.0   \n",
       "1006    4.0                       4.0    5.0   1.0      3.0              4.0   \n",
       "1007    4.0                       3.0    1.0   1.0      2.0              2.0   \n",
       "1008    5.0                       3.0    3.0   3.0      1.0              3.0   \n",
       "1009    5.0                       5.0    4.0   3.0      2.0              3.0   \n",
       "\n",
       "      Musical  Pop  Rock  Metal or Hardrock  ...  \\\n",
       "0         1.0  5.0   5.0                1.0  ...   \n",
       "1         2.0  3.0   5.0                4.0  ...   \n",
       "2         5.0  3.0   5.0                3.0  ...   \n",
       "3         1.0  2.0   2.0                1.0  ...   \n",
       "4         3.0  5.0   3.0                1.0  ...   \n",
       "...       ...  ...   ...                ...  ...   \n",
       "1005      4.0  4.0   4.0                3.0  ...   \n",
       "1006      1.0  4.0   1.0                1.0  ...   \n",
       "1007      2.0  3.0   4.0                1.0  ...   \n",
       "1008      1.0  3.0   4.0                1.0  ...   \n",
       "1009      3.0  4.0   1.0                1.0  ...   \n",
       "\n",
       "                              Lying           Internet usage  \\\n",
       "0                             never          few hours a day   \n",
       "1                         sometimes          few hours a day   \n",
       "2                         sometimes          few hours a day   \n",
       "3     only to avoid hurting someone          most of the day   \n",
       "4             everytime it suits me          few hours a day   \n",
       "...                             ...                      ...   \n",
       "1005          everytime it suits me          few hours a day   \n",
       "1006                      sometimes  less than an hour a day   \n",
       "1007  only to avoid hurting someone          most of the day   \n",
       "1008                      sometimes          most of the day   \n",
       "1009          everytime it suits me          few hours a day   \n",
       "\n",
       "                    Education  Gender  Left - right handed  Only child  \\\n",
       "0     college/bachelor degree  female         right handed          no   \n",
       "1     college/bachelor degree  female         right handed          no   \n",
       "2            secondary school  female         right handed          no   \n",
       "3     college/bachelor degree  female         right handed         yes   \n",
       "4            secondary school  female         right handed          no   \n",
       "...                       ...     ...                  ...         ...   \n",
       "1005         secondary school  female         right handed          no   \n",
       "1006           masters degree    male          left handed          no   \n",
       "1007         secondary school  female         right handed         yes   \n",
       "1008  college/bachelor degree  female         right handed          no   \n",
       "1009         secondary school    male         right handed          no   \n",
       "\n",
       "      Village - town  House - block of flats  random_values  random_binar  \n",
       "0            village          block of flats       0.956590          True  \n",
       "1               city          block of flats      -0.237930          True  \n",
       "2               city          block of flats       0.121266          True  \n",
       "3               city          house/bungalow       0.323152          True  \n",
       "4            village          house/bungalow       0.638346          True  \n",
       "...              ...                     ...            ...           ...  \n",
       "1005            city          house/bungalow      -0.076750          True  \n",
       "1006         village          house/bungalow       2.183856         False  \n",
       "1007            city          block of flats      -0.394901          True  \n",
       "1008            city          block of flats      -0.104756          True  \n",
       "1009         village          house/bungalow      -1.745475         False  \n",
       "\n",
       "[1010 rows x 152 columns]"
      ]
     },
     "execution_count": 324,
     "metadata": {},
     "output_type": "execute_result"
    }
   ],
   "source": [
    "data"
   ]
  },
  {
   "cell_type": "code",
   "execution_count": 325,
   "metadata": {
    "ExecuteTime": {
     "end_time": "2022-04-28T16:33:08.232865Z",
     "start_time": "2022-04-28T16:33:08.203865Z"
    }
   },
   "outputs": [],
   "source": [
    "fu_result = feature_union.fit_transform(data)"
   ]
  },
  {
   "cell_type": "code",
   "execution_count": 326,
   "metadata": {
    "ExecuteTime": {
     "end_time": "2022-04-28T16:33:08.280870Z",
     "start_time": "2022-04-28T16:33:08.234866Z"
    }
   },
   "outputs": [
    {
     "data": {
      "text/html": [
       "<div>\n",
       "<style scoped>\n",
       "    .dataframe tbody tr th:only-of-type {\n",
       "        vertical-align: middle;\n",
       "    }\n",
       "\n",
       "    .dataframe tbody tr th {\n",
       "        vertical-align: top;\n",
       "    }\n",
       "\n",
       "    .dataframe thead th {\n",
       "        text-align: right;\n",
       "    }\n",
       "</style>\n",
       "<table border=\"1\" class=\"dataframe\">\n",
       "  <thead>\n",
       "    <tr style=\"text-align: right;\">\n",
       "      <th></th>\n",
       "      <th>Music</th>\n",
       "      <th>Slow songs or fast songs</th>\n",
       "      <th>Dance</th>\n",
       "      <th>Folk</th>\n",
       "      <th>Country</th>\n",
       "      <th>Classical music</th>\n",
       "      <th>Musical</th>\n",
       "      <th>Pop</th>\n",
       "      <th>Rock</th>\n",
       "      <th>Metal or Hardrock</th>\n",
       "      <th>...</th>\n",
       "      <th>x10_3.0</th>\n",
       "      <th>x10_4.0</th>\n",
       "      <th>x10_5.0</th>\n",
       "      <th>x10_nan</th>\n",
       "      <th>x11_1.0</th>\n",
       "      <th>x11_2.0</th>\n",
       "      <th>x11_3.0</th>\n",
       "      <th>x11_4.0</th>\n",
       "      <th>x11_5.0</th>\n",
       "      <th>x11_nan</th>\n",
       "    </tr>\n",
       "  </thead>\n",
       "  <tbody>\n",
       "    <tr>\n",
       "      <th>0</th>\n",
       "      <td>0.403971</td>\n",
       "      <td>-0.393961</td>\n",
       "      <td>-0.951567</td>\n",
       "      <td>-1.131952</td>\n",
       "      <td>-0.114711</td>\n",
       "      <td>-0.763717</td>\n",
       "      <td>-1.398094</td>\n",
       "      <td>1.316567</td>\n",
       "      <td>1.045410</td>\n",
       "      <td>-0.992099</td>\n",
       "      <td>...</td>\n",
       "      <td>1.0</td>\n",
       "      <td>0.0</td>\n",
       "      <td>0.0</td>\n",
       "      <td>0.0</td>\n",
       "      <td>1.0</td>\n",
       "      <td>0.0</td>\n",
       "      <td>0.0</td>\n",
       "      <td>0.0</td>\n",
       "      <td>0.0</td>\n",
       "      <td>0.0</td>\n",
       "    </tr>\n",
       "    <tr>\n",
       "      <th>1</th>\n",
       "      <td>-1.102691</td>\n",
       "      <td>0.805775</td>\n",
       "      <td>-0.951567</td>\n",
       "      <td>-1.131952</td>\n",
       "      <td>-1.044424</td>\n",
       "      <td>-1.562473</td>\n",
       "      <td>-0.604581</td>\n",
       "      <td>-0.406348</td>\n",
       "      <td>1.045410</td>\n",
       "      <td>1.193992</td>\n",
       "      <td>...</td>\n",
       "      <td>0.0</td>\n",
       "      <td>1.0</td>\n",
       "      <td>0.0</td>\n",
       "      <td>0.0</td>\n",
       "      <td>0.0</td>\n",
       "      <td>0.0</td>\n",
       "      <td>0.0</td>\n",
       "      <td>1.0</td>\n",
       "      <td>0.0</td>\n",
       "      <td>0.0</td>\n",
       "    </tr>\n",
       "    <tr>\n",
       "      <th>2</th>\n",
       "      <td>0.403971</td>\n",
       "      <td>2.005510</td>\n",
       "      <td>-0.951567</td>\n",
       "      <td>-0.253487</td>\n",
       "      <td>0.815003</td>\n",
       "      <td>0.833797</td>\n",
       "      <td>1.775957</td>\n",
       "      <td>-0.406348</td>\n",
       "      <td>1.045410</td>\n",
       "      <td>0.465295</td>\n",
       "      <td>...</td>\n",
       "      <td>0.0</td>\n",
       "      <td>0.0</td>\n",
       "      <td>1.0</td>\n",
       "      <td>0.0</td>\n",
       "      <td>0.0</td>\n",
       "      <td>0.0</td>\n",
       "      <td>0.0</td>\n",
       "      <td>0.0</td>\n",
       "      <td>1.0</td>\n",
       "      <td>0.0</td>\n",
       "    </tr>\n",
       "    <tr>\n",
       "      <th>3</th>\n",
       "      <td>0.403971</td>\n",
       "      <td>-0.393961</td>\n",
       "      <td>-0.951567</td>\n",
       "      <td>-1.131952</td>\n",
       "      <td>-1.044424</td>\n",
       "      <td>-1.562473</td>\n",
       "      <td>-1.398094</td>\n",
       "      <td>-1.267805</td>\n",
       "      <td>-1.487795</td>\n",
       "      <td>-0.992099</td>\n",
       "      <td>...</td>\n",
       "      <td>0.0</td>\n",
       "      <td>0.0</td>\n",
       "      <td>0.0</td>\n",
       "      <td>0.0</td>\n",
       "      <td>0.0</td>\n",
       "      <td>0.0</td>\n",
       "      <td>0.0</td>\n",
       "      <td>0.0</td>\n",
       "      <td>1.0</td>\n",
       "      <td>0.0</td>\n",
       "    </tr>\n",
       "    <tr>\n",
       "      <th>4</th>\n",
       "      <td>0.403971</td>\n",
       "      <td>-0.393961</td>\n",
       "      <td>0.757855</td>\n",
       "      <td>0.624978</td>\n",
       "      <td>-0.114711</td>\n",
       "      <td>0.833797</td>\n",
       "      <td>0.188932</td>\n",
       "      <td>1.316567</td>\n",
       "      <td>-0.643394</td>\n",
       "      <td>-0.992099</td>\n",
       "      <td>...</td>\n",
       "      <td>1.0</td>\n",
       "      <td>0.0</td>\n",
       "      <td>0.0</td>\n",
       "      <td>0.0</td>\n",
       "      <td>0.0</td>\n",
       "      <td>0.0</td>\n",
       "      <td>0.0</td>\n",
       "      <td>1.0</td>\n",
       "      <td>0.0</td>\n",
       "      <td>0.0</td>\n",
       "    </tr>\n",
       "    <tr>\n",
       "      <th>...</th>\n",
       "      <td>...</td>\n",
       "      <td>...</td>\n",
       "      <td>...</td>\n",
       "      <td>...</td>\n",
       "      <td>...</td>\n",
       "      <td>...</td>\n",
       "      <td>...</td>\n",
       "      <td>...</td>\n",
       "      <td>...</td>\n",
       "      <td>...</td>\n",
       "      <td>...</td>\n",
       "      <td>...</td>\n",
       "      <td>...</td>\n",
       "      <td>...</td>\n",
       "      <td>...</td>\n",
       "      <td>...</td>\n",
       "      <td>...</td>\n",
       "      <td>...</td>\n",
       "      <td>...</td>\n",
       "      <td>...</td>\n",
       "      <td>...</td>\n",
       "    </tr>\n",
       "    <tr>\n",
       "      <th>1005</th>\n",
       "      <td>0.403971</td>\n",
       "      <td>-1.593696</td>\n",
       "      <td>1.612566</td>\n",
       "      <td>-0.253487</td>\n",
       "      <td>-0.114711</td>\n",
       "      <td>1.632554</td>\n",
       "      <td>0.982445</td>\n",
       "      <td>0.455110</td>\n",
       "      <td>0.201008</td>\n",
       "      <td>0.465295</td>\n",
       "      <td>...</td>\n",
       "      <td>0.0</td>\n",
       "      <td>1.0</td>\n",
       "      <td>0.0</td>\n",
       "      <td>0.0</td>\n",
       "      <td>1.0</td>\n",
       "      <td>0.0</td>\n",
       "      <td>0.0</td>\n",
       "      <td>0.0</td>\n",
       "      <td>0.0</td>\n",
       "      <td>0.0</td>\n",
       "    </tr>\n",
       "    <tr>\n",
       "      <th>1006</th>\n",
       "      <td>-1.102691</td>\n",
       "      <td>0.805775</td>\n",
       "      <td>1.612566</td>\n",
       "      <td>-1.131952</td>\n",
       "      <td>0.815003</td>\n",
       "      <td>0.833797</td>\n",
       "      <td>-1.398094</td>\n",
       "      <td>0.455110</td>\n",
       "      <td>-2.332197</td>\n",
       "      <td>-0.992099</td>\n",
       "      <td>...</td>\n",
       "      <td>0.0</td>\n",
       "      <td>0.0</td>\n",
       "      <td>0.0</td>\n",
       "      <td>0.0</td>\n",
       "      <td>0.0</td>\n",
       "      <td>0.0</td>\n",
       "      <td>0.0</td>\n",
       "      <td>1.0</td>\n",
       "      <td>0.0</td>\n",
       "      <td>0.0</td>\n",
       "    </tr>\n",
       "    <tr>\n",
       "      <th>1007</th>\n",
       "      <td>-1.102691</td>\n",
       "      <td>-0.393961</td>\n",
       "      <td>-1.806277</td>\n",
       "      <td>-1.131952</td>\n",
       "      <td>-0.114711</td>\n",
       "      <td>-0.763717</td>\n",
       "      <td>-0.604581</td>\n",
       "      <td>-0.406348</td>\n",
       "      <td>0.201008</td>\n",
       "      <td>-0.992099</td>\n",
       "      <td>...</td>\n",
       "      <td>0.0</td>\n",
       "      <td>1.0</td>\n",
       "      <td>0.0</td>\n",
       "      <td>0.0</td>\n",
       "      <td>0.0</td>\n",
       "      <td>0.0</td>\n",
       "      <td>0.0</td>\n",
       "      <td>0.0</td>\n",
       "      <td>1.0</td>\n",
       "      <td>0.0</td>\n",
       "    </tr>\n",
       "    <tr>\n",
       "      <th>1008</th>\n",
       "      <td>0.403971</td>\n",
       "      <td>-0.393961</td>\n",
       "      <td>-0.096856</td>\n",
       "      <td>0.624978</td>\n",
       "      <td>-1.044424</td>\n",
       "      <td>0.035040</td>\n",
       "      <td>-1.398094</td>\n",
       "      <td>-0.406348</td>\n",
       "      <td>0.201008</td>\n",
       "      <td>-0.992099</td>\n",
       "      <td>...</td>\n",
       "      <td>1.0</td>\n",
       "      <td>0.0</td>\n",
       "      <td>0.0</td>\n",
       "      <td>0.0</td>\n",
       "      <td>0.0</td>\n",
       "      <td>0.0</td>\n",
       "      <td>1.0</td>\n",
       "      <td>0.0</td>\n",
       "      <td>0.0</td>\n",
       "      <td>0.0</td>\n",
       "    </tr>\n",
       "    <tr>\n",
       "      <th>1009</th>\n",
       "      <td>0.403971</td>\n",
       "      <td>2.005510</td>\n",
       "      <td>0.757855</td>\n",
       "      <td>0.624978</td>\n",
       "      <td>-0.114711</td>\n",
       "      <td>0.035040</td>\n",
       "      <td>0.188932</td>\n",
       "      <td>0.455110</td>\n",
       "      <td>-2.332197</td>\n",
       "      <td>-0.992099</td>\n",
       "      <td>...</td>\n",
       "      <td>0.0</td>\n",
       "      <td>1.0</td>\n",
       "      <td>0.0</td>\n",
       "      <td>0.0</td>\n",
       "      <td>1.0</td>\n",
       "      <td>0.0</td>\n",
       "      <td>0.0</td>\n",
       "      <td>0.0</td>\n",
       "      <td>0.0</td>\n",
       "      <td>0.0</td>\n",
       "    </tr>\n",
       "  </tbody>\n",
       "</table>\n",
       "<p>1010 rows × 226 columns</p>\n",
       "</div>"
      ],
      "text/plain": [
       "         Music  Slow songs or fast songs     Dance      Folk   Country  \\\n",
       "0     0.403971                 -0.393961 -0.951567 -1.131952 -0.114711   \n",
       "1    -1.102691                  0.805775 -0.951567 -1.131952 -1.044424   \n",
       "2     0.403971                  2.005510 -0.951567 -0.253487  0.815003   \n",
       "3     0.403971                 -0.393961 -0.951567 -1.131952 -1.044424   \n",
       "4     0.403971                 -0.393961  0.757855  0.624978 -0.114711   \n",
       "...        ...                       ...       ...       ...       ...   \n",
       "1005  0.403971                 -1.593696  1.612566 -0.253487 -0.114711   \n",
       "1006 -1.102691                  0.805775  1.612566 -1.131952  0.815003   \n",
       "1007 -1.102691                 -0.393961 -1.806277 -1.131952 -0.114711   \n",
       "1008  0.403971                 -0.393961 -0.096856  0.624978 -1.044424   \n",
       "1009  0.403971                  2.005510  0.757855  0.624978 -0.114711   \n",
       "\n",
       "      Classical music   Musical       Pop      Rock  Metal or Hardrock  ...  \\\n",
       "0           -0.763717 -1.398094  1.316567  1.045410          -0.992099  ...   \n",
       "1           -1.562473 -0.604581 -0.406348  1.045410           1.193992  ...   \n",
       "2            0.833797  1.775957 -0.406348  1.045410           0.465295  ...   \n",
       "3           -1.562473 -1.398094 -1.267805 -1.487795          -0.992099  ...   \n",
       "4            0.833797  0.188932  1.316567 -0.643394          -0.992099  ...   \n",
       "...               ...       ...       ...       ...                ...  ...   \n",
       "1005         1.632554  0.982445  0.455110  0.201008           0.465295  ...   \n",
       "1006         0.833797 -1.398094  0.455110 -2.332197          -0.992099  ...   \n",
       "1007        -0.763717 -0.604581 -0.406348  0.201008          -0.992099  ...   \n",
       "1008         0.035040 -1.398094 -0.406348  0.201008          -0.992099  ...   \n",
       "1009         0.035040  0.188932  0.455110 -2.332197          -0.992099  ...   \n",
       "\n",
       "      x10_3.0  x10_4.0  x10_5.0  x10_nan  x11_1.0  x11_2.0  x11_3.0  x11_4.0  \\\n",
       "0         1.0      0.0      0.0      0.0      1.0      0.0      0.0      0.0   \n",
       "1         0.0      1.0      0.0      0.0      0.0      0.0      0.0      1.0   \n",
       "2         0.0      0.0      1.0      0.0      0.0      0.0      0.0      0.0   \n",
       "3         0.0      0.0      0.0      0.0      0.0      0.0      0.0      0.0   \n",
       "4         1.0      0.0      0.0      0.0      0.0      0.0      0.0      1.0   \n",
       "...       ...      ...      ...      ...      ...      ...      ...      ...   \n",
       "1005      0.0      1.0      0.0      0.0      1.0      0.0      0.0      0.0   \n",
       "1006      0.0      0.0      0.0      0.0      0.0      0.0      0.0      1.0   \n",
       "1007      0.0      1.0      0.0      0.0      0.0      0.0      0.0      0.0   \n",
       "1008      1.0      0.0      0.0      0.0      0.0      0.0      1.0      0.0   \n",
       "1009      0.0      1.0      0.0      0.0      1.0      0.0      0.0      0.0   \n",
       "\n",
       "      x11_5.0  x11_nan  \n",
       "0         0.0      0.0  \n",
       "1         0.0      0.0  \n",
       "2         1.0      0.0  \n",
       "3         1.0      0.0  \n",
       "4         0.0      0.0  \n",
       "...       ...      ...  \n",
       "1005      0.0      0.0  \n",
       "1006      0.0      0.0  \n",
       "1007      1.0      0.0  \n",
       "1008      0.0      0.0  \n",
       "1009      0.0      0.0  \n",
       "\n",
       "[1010 rows x 226 columns]"
      ]
     },
     "execution_count": 326,
     "metadata": {},
     "output_type": "execute_result"
    }
   ],
   "source": [
    "fu_result"
   ]
  },
  {
   "cell_type": "markdown",
   "metadata": {},
   "source": [
    "# Попробуем теперь на test "
   ]
  },
  {
   "cell_type": "code",
   "execution_count": 106,
   "metadata": {
    "ExecuteTime": {
     "end_time": "2022-04-28T11:09:12.422032Z",
     "start_time": "2022-04-28T11:09:12.375029Z"
    }
   },
   "outputs": [
    {
     "data": {
      "text/html": [
       "<div>\n",
       "<style scoped>\n",
       "    .dataframe tbody tr th:only-of-type {\n",
       "        vertical-align: middle;\n",
       "    }\n",
       "\n",
       "    .dataframe tbody tr th {\n",
       "        vertical-align: top;\n",
       "    }\n",
       "\n",
       "    .dataframe thead th {\n",
       "        text-align: right;\n",
       "    }\n",
       "</style>\n",
       "<table border=\"1\" class=\"dataframe\">\n",
       "  <thead>\n",
       "    <tr style=\"text-align: right;\">\n",
       "      <th></th>\n",
       "      <th>Music</th>\n",
       "      <th>Slow songs or fast songs</th>\n",
       "      <th>Dance</th>\n",
       "      <th>Folk</th>\n",
       "      <th>Country</th>\n",
       "      <th>Classical music</th>\n",
       "      <th>Musical</th>\n",
       "      <th>Pop</th>\n",
       "      <th>Rock</th>\n",
       "      <th>Metal or Hardrock</th>\n",
       "      <th>...</th>\n",
       "      <th>x10_1.0</th>\n",
       "      <th>x10_2.0</th>\n",
       "      <th>x10_3.0</th>\n",
       "      <th>x10_4.0</th>\n",
       "      <th>x10_5.0</th>\n",
       "      <th>x11_1.0</th>\n",
       "      <th>x11_2.0</th>\n",
       "      <th>x11_3.0</th>\n",
       "      <th>x11_4.0</th>\n",
       "      <th>x11_5.0</th>\n",
       "    </tr>\n",
       "  </thead>\n",
       "  <tbody>\n",
       "    <tr>\n",
       "      <th>633</th>\n",
       "      <td>0.328345</td>\n",
       "      <td>0.807531</td>\n",
       "      <td>-0.133248</td>\n",
       "      <td>2.404459</td>\n",
       "      <td>0.859727</td>\n",
       "      <td>-1.542382</td>\n",
       "      <td>-1.356955</td>\n",
       "      <td>0.520787</td>\n",
       "      <td>-0.718278</td>\n",
       "      <td>-0.940885</td>\n",
       "      <td>...</td>\n",
       "      <td>0.0</td>\n",
       "      <td>0.0</td>\n",
       "      <td>0.0</td>\n",
       "      <td>0.0</td>\n",
       "      <td>1.0</td>\n",
       "      <td>0.0</td>\n",
       "      <td>0.0</td>\n",
       "      <td>1.0</td>\n",
       "      <td>0.0</td>\n",
       "      <td>0.0</td>\n",
       "    </tr>\n",
       "    <tr>\n",
       "      <th>25</th>\n",
       "      <td>0.328345</td>\n",
       "      <td>-0.454816</td>\n",
       "      <td>0.690465</td>\n",
       "      <td>-0.261354</td>\n",
       "      <td>-1.105363</td>\n",
       "      <td>-0.735597</td>\n",
       "      <td>0.174546</td>\n",
       "      <td>1.354046</td>\n",
       "      <td>-2.527275</td>\n",
       "      <td>-0.940885</td>\n",
       "      <td>...</td>\n",
       "      <td>0.0</td>\n",
       "      <td>0.0</td>\n",
       "      <td>0.0</td>\n",
       "      <td>1.0</td>\n",
       "      <td>0.0</td>\n",
       "      <td>0.0</td>\n",
       "      <td>0.0</td>\n",
       "      <td>0.0</td>\n",
       "      <td>0.0</td>\n",
       "      <td>1.0</td>\n",
       "    </tr>\n",
       "    <tr>\n",
       "      <th>334</th>\n",
       "      <td>0.328345</td>\n",
       "      <td>-1.717164</td>\n",
       "      <td>-0.956961</td>\n",
       "      <td>0.627250</td>\n",
       "      <td>0.859727</td>\n",
       "      <td>-0.735597</td>\n",
       "      <td>0.174546</td>\n",
       "      <td>-1.145731</td>\n",
       "      <td>-0.718278</td>\n",
       "      <td>-0.233922</td>\n",
       "      <td>...</td>\n",
       "      <td>0.0</td>\n",
       "      <td>0.0</td>\n",
       "      <td>0.0</td>\n",
       "      <td>0.0</td>\n",
       "      <td>1.0</td>\n",
       "      <td>0.0</td>\n",
       "      <td>0.0</td>\n",
       "      <td>1.0</td>\n",
       "      <td>0.0</td>\n",
       "      <td>0.0</td>\n",
       "    </tr>\n",
       "    <tr>\n",
       "      <th>281</th>\n",
       "      <td>0.328345</td>\n",
       "      <td>-0.454816</td>\n",
       "      <td>0.690465</td>\n",
       "      <td>-0.261354</td>\n",
       "      <td>0.859727</td>\n",
       "      <td>0.877971</td>\n",
       "      <td>-1.356955</td>\n",
       "      <td>-1.145731</td>\n",
       "      <td>0.186220</td>\n",
       "      <td>1.180005</td>\n",
       "      <td>...</td>\n",
       "      <td>0.0</td>\n",
       "      <td>0.0</td>\n",
       "      <td>0.0</td>\n",
       "      <td>0.0</td>\n",
       "      <td>1.0</td>\n",
       "      <td>0.0</td>\n",
       "      <td>0.0</td>\n",
       "      <td>0.0</td>\n",
       "      <td>1.0</td>\n",
       "      <td>0.0</td>\n",
       "    </tr>\n",
       "  </tbody>\n",
       "</table>\n",
       "<p>4 rows × 209 columns</p>\n",
       "</div>"
      ],
      "text/plain": [
       "        Music  Slow songs or fast songs     Dance      Folk   Country  \\\n",
       "633  0.328345                  0.807531 -0.133248  2.404459  0.859727   \n",
       "25   0.328345                 -0.454816  0.690465 -0.261354 -1.105363   \n",
       "334  0.328345                 -1.717164 -0.956961  0.627250  0.859727   \n",
       "281  0.328345                 -0.454816  0.690465 -0.261354  0.859727   \n",
       "\n",
       "     Classical music   Musical       Pop      Rock  Metal or Hardrock  ...  \\\n",
       "633        -1.542382 -1.356955  0.520787 -0.718278          -0.940885  ...   \n",
       "25         -0.735597  0.174546  1.354046 -2.527275          -0.940885  ...   \n",
       "334        -0.735597  0.174546 -1.145731 -0.718278          -0.233922  ...   \n",
       "281         0.877971 -1.356955 -1.145731  0.186220           1.180005  ...   \n",
       "\n",
       "     x10_1.0  x10_2.0  x10_3.0  x10_4.0  x10_5.0  x11_1.0  x11_2.0  x11_3.0  \\\n",
       "633      0.0      0.0      0.0      0.0      1.0      0.0      0.0      1.0   \n",
       "25       0.0      0.0      0.0      1.0      0.0      0.0      0.0      0.0   \n",
       "334      0.0      0.0      0.0      0.0      1.0      0.0      0.0      1.0   \n",
       "281      0.0      0.0      0.0      0.0      1.0      0.0      0.0      0.0   \n",
       "\n",
       "     x11_4.0  x11_5.0  \n",
       "633      0.0      0.0  \n",
       "25       0.0      1.0  \n",
       "334      0.0      0.0  \n",
       "281      1.0      0.0  \n",
       "\n",
       "[4 rows x 209 columns]"
      ]
     },
     "execution_count": 106,
     "metadata": {},
     "output_type": "execute_result"
    }
   ],
   "source": [
    "from sklearn.model_selection import train_test_split\n",
    "\n",
    "data.dropna(inplace=True)\n",
    "\n",
    "data_train, data_test = train_test_split(data, test_size=0.2, stratify=data[target])\n",
    "\n",
    "feature_union.fit_transform(data_test).head(4)"
   ]
  },
  {
   "cell_type": "markdown",
   "metadata": {},
   "source": [
    "# Using ColumnTransformer"
   ]
  },
  {
   "cell_type": "code",
   "execution_count": 107,
   "metadata": {
    "ExecuteTime": {
     "end_time": "2022-04-28T11:09:12.438032Z",
     "start_time": "2022-04-28T11:09:12.423031Z"
    }
   },
   "outputs": [],
   "source": [
    "# numerical_features"
   ]
  },
  {
   "cell_type": "markdown",
   "metadata": {},
   "source": [
    "<div class=\"alert alert-info\">\n",
    "    \n",
    "У `make_column_selector` есть пара удобных опций, чтобы отфильтровывать признаки вместо нас "
   ]
  },
  {
   "cell_type": "code",
   "execution_count": 108,
   "metadata": {
    "ExecuteTime": {
     "end_time": "2022-04-28T11:09:12.454036Z",
     "start_time": "2022-04-28T11:09:12.440034Z"
    }
   },
   "outputs": [],
   "source": [
    "# data.dtypes"
   ]
  },
  {
   "cell_type": "code",
   "execution_count": 109,
   "metadata": {
    "ExecuteTime": {
     "end_time": "2022-04-28T11:09:12.470034Z",
     "start_time": "2022-04-28T11:09:12.455035Z"
    }
   },
   "outputs": [],
   "source": [
    "# make_column_selector(dtype_include=\"float64\")(data)"
   ]
  },
  {
   "cell_type": "markdown",
   "metadata": {},
   "source": [
    "## Выбираем все, кроме таргета"
   ]
  },
  {
   "cell_type": "code",
   "execution_count": 110,
   "metadata": {
    "ExecuteTime": {
     "end_time": "2022-04-28T11:09:12.486036Z",
     "start_time": "2022-04-28T11:09:12.471035Z"
    }
   },
   "outputs": [
    {
     "data": {
      "text/plain": [
       "['Music',\n",
       " 'Slow songs or fast songs',\n",
       " 'Dance',\n",
       " 'Folk',\n",
       " 'Country',\n",
       " 'Classical music',\n",
       " 'Musical',\n",
       " 'Pop',\n",
       " 'Rock',\n",
       " 'Metal or Hardrock',\n",
       " 'Punk',\n",
       " 'Hiphop, Rap',\n",
       " 'Reggae, Ska',\n",
       " 'Swing, Jazz',\n",
       " 'Rock n roll',\n",
       " 'Alternative',\n",
       " 'Latino',\n",
       " 'Techno, Trance',\n",
       " 'Opera',\n",
       " 'Movies',\n",
       " 'Horror',\n",
       " 'Thriller',\n",
       " 'Comedy',\n",
       " 'Romantic',\n",
       " 'Sci-fi',\n",
       " 'War',\n",
       " 'Fantasy/Fairy tales',\n",
       " 'Animated',\n",
       " 'Documentary',\n",
       " 'Western',\n",
       " 'Action',\n",
       " 'History',\n",
       " 'Psychology',\n",
       " 'Politics',\n",
       " 'Mathematics',\n",
       " 'Physics',\n",
       " 'Internet',\n",
       " 'PC',\n",
       " 'Economy Management',\n",
       " 'Biology',\n",
       " 'Chemistry',\n",
       " 'Reading',\n",
       " 'Geography',\n",
       " 'Foreign languages',\n",
       " 'Medicine',\n",
       " 'Law',\n",
       " 'Cars',\n",
       " 'Art exhibitions',\n",
       " 'Religion',\n",
       " 'Countryside, outdoors',\n",
       " 'Dancing',\n",
       " 'Musical instruments',\n",
       " 'Writing',\n",
       " 'Passive sport',\n",
       " 'Active sport',\n",
       " 'Gardening',\n",
       " 'Celebrities',\n",
       " 'Shopping',\n",
       " 'Science and technology',\n",
       " 'Theatre',\n",
       " 'Fun with friends',\n",
       " 'Adrenaline sports',\n",
       " 'Pets',\n",
       " 'Flying',\n",
       " 'Storm',\n",
       " 'Darkness',\n",
       " 'Heights',\n",
       " 'Spiders',\n",
       " 'Snakes',\n",
       " 'Rats',\n",
       " 'Ageing',\n",
       " 'Dangerous dogs',\n",
       " 'Fear of public speaking',\n",
       " 'Healthy eating',\n",
       " 'Daily events',\n",
       " 'Prioritising workload',\n",
       " 'Writing notes',\n",
       " 'Workaholism',\n",
       " 'Thinking ahead',\n",
       " 'Final judgement',\n",
       " 'Reliability',\n",
       " 'Keeping promises',\n",
       " 'Loss of interest',\n",
       " 'Friends versus money',\n",
       " 'Funniness',\n",
       " 'Fake',\n",
       " 'Criminal damage',\n",
       " 'Decision making',\n",
       " 'Elections',\n",
       " 'Self-criticism',\n",
       " 'Judgment calls',\n",
       " 'Hypochondria',\n",
       " 'Empathy',\n",
       " 'Eating to survive',\n",
       " 'Giving',\n",
       " 'Compassion to animals',\n",
       " 'Borrowed stuff',\n",
       " 'Loneliness',\n",
       " 'Cheating in school',\n",
       " 'Health',\n",
       " 'Changing the past',\n",
       " 'God',\n",
       " 'Dreams',\n",
       " 'Charity',\n",
       " 'Number of friends',\n",
       " 'Waiting',\n",
       " 'New environment',\n",
       " 'Mood swings',\n",
       " 'Appearence and gestures',\n",
       " 'Socializing',\n",
       " 'Achievements',\n",
       " 'Responding to a serious letter',\n",
       " 'Children',\n",
       " 'Assertiveness',\n",
       " 'Getting angry',\n",
       " 'Knowing the right people',\n",
       " 'Public speaking',\n",
       " 'Unpopularity',\n",
       " 'Life struggles',\n",
       " 'Energy levels',\n",
       " 'Small - big dogs',\n",
       " 'Personality',\n",
       " 'Finding lost valuables',\n",
       " 'Getting up',\n",
       " 'Interests or hobbies',\n",
       " \"Parents' advice\",\n",
       " 'Questionnaires or polls',\n",
       " 'Finances',\n",
       " 'Shopping centres',\n",
       " 'Branded clothing',\n",
       " 'Entertainment spending',\n",
       " 'Spending on looks',\n",
       " 'Spending on gadgets',\n",
       " 'Spending on healthy eating',\n",
       " 'Age',\n",
       " 'Height',\n",
       " 'Weight',\n",
       " 'Number of siblings',\n",
       " 'random_values',\n",
       " 'random_binar']"
      ]
     },
     "execution_count": 110,
     "metadata": {},
     "output_type": "execute_result"
    }
   ],
   "source": [
    "make_column_selector('^((?!Happiness).)*$', dtype_exclude=[\"object\"])(data)"
   ]
  },
  {
   "cell_type": "code",
   "execution_count": 111,
   "metadata": {
    "ExecuteTime": {
     "end_time": "2022-04-28T11:09:12.502036Z",
     "start_time": "2022-04-28T11:09:12.487038Z"
    }
   },
   "outputs": [
    {
     "data": {
      "text/plain": [
       "(676, 152)"
      ]
     },
     "execution_count": 111,
     "metadata": {},
     "output_type": "execute_result"
    }
   ],
   "source": [
    "data.shape"
   ]
  },
  {
   "cell_type": "markdown",
   "metadata": {},
   "source": [
    "# А теперь воспользуемся готовым"
   ]
  },
  {
   "cell_type": "code",
   "execution_count": 112,
   "metadata": {
    "ExecuteTime": {
     "end_time": "2022-04-28T11:09:12.518039Z",
     "start_time": "2022-04-28T11:09:12.503038Z"
    }
   },
   "outputs": [],
   "source": [
    "# preprocessor = ColumnTransformer(transformers=[\n",
    "#     ('num', StandardScalerDf(), make_column_selector(r'^((?!Happiness).)*$', dtype_exclude=[\"object\"])),\n",
    "#     ('cat', OneHotEncoder(sparse=False, handle_unknown='ignore'), make_column_selector(dtype_include=\"object\"))\n",
    "# ], remainder='passthrough')\n",
    "\n",
    "\n",
    "# result = pd.DataFrame(preprocessor.fit_transform(data), columns=preprocessor.get_feature_names())\n",
    "# result.head(5)"
   ]
  },
  {
   "cell_type": "code",
   "execution_count": null,
   "metadata": {},
   "outputs": [],
   "source": [
    " "
   ]
  },
  {
   "cell_type": "code",
   "execution_count": 113,
   "metadata": {
    "ExecuteTime": {
     "end_time": "2022-04-28T11:09:12.582043Z",
     "start_time": "2022-04-28T11:09:12.519041Z"
    }
   },
   "outputs": [
    {
     "data": {
      "text/html": [
       "<div>\n",
       "<style scoped>\n",
       "    .dataframe tbody tr th:only-of-type {\n",
       "        vertical-align: middle;\n",
       "    }\n",
       "\n",
       "    .dataframe tbody tr th {\n",
       "        vertical-align: top;\n",
       "    }\n",
       "\n",
       "    .dataframe thead th {\n",
       "        text-align: right;\n",
       "    }\n",
       "</style>\n",
       "<table border=\"1\" class=\"dataframe\">\n",
       "  <thead>\n",
       "    <tr style=\"text-align: right;\">\n",
       "      <th></th>\n",
       "      <th>num__Music</th>\n",
       "      <th>num__Slow songs or fast songs</th>\n",
       "      <th>num__Dance</th>\n",
       "      <th>num__Folk</th>\n",
       "      <th>num__Country</th>\n",
       "      <th>num__Classical music</th>\n",
       "      <th>num__Musical</th>\n",
       "      <th>num__Pop</th>\n",
       "      <th>num__Rock</th>\n",
       "      <th>num__Metal or Hardrock</th>\n",
       "      <th>...</th>\n",
       "      <th>cat__x1_right handed</th>\n",
       "      <th>cat__x2_city</th>\n",
       "      <th>cat__x2_village</th>\n",
       "      <th>cat__x3_current smoker</th>\n",
       "      <th>cat__x3_former smoker</th>\n",
       "      <th>cat__x3_never smoked</th>\n",
       "      <th>cat__x3_tried smoking</th>\n",
       "      <th>cat__x4_drink a lot</th>\n",
       "      <th>cat__x4_never</th>\n",
       "      <th>cat__x4_social drinker</th>\n",
       "    </tr>\n",
       "  </thead>\n",
       "  <tbody>\n",
       "    <tr>\n",
       "      <th>0</th>\n",
       "      <td>0.398786</td>\n",
       "      <td>-0.370599</td>\n",
       "      <td>-0.912166</td>\n",
       "      <td>-1.128520</td>\n",
       "      <td>-0.109944</td>\n",
       "      <td>-0.787370</td>\n",
       "      <td>-1.372560</td>\n",
       "      <td>1.332211</td>\n",
       "      <td>1.053076</td>\n",
       "      <td>-0.972567</td>\n",
       "      <td>...</td>\n",
       "      <td>1.0</td>\n",
       "      <td>0.0</td>\n",
       "      <td>1.0</td>\n",
       "      <td>0.0</td>\n",
       "      <td>0.0</td>\n",
       "      <td>1.0</td>\n",
       "      <td>0.0</td>\n",
       "      <td>1.0</td>\n",
       "      <td>0.0</td>\n",
       "      <td>0.0</td>\n",
       "    </tr>\n",
       "    <tr>\n",
       "      <th>1</th>\n",
       "      <td>-1.286083</td>\n",
       "      <td>0.882026</td>\n",
       "      <td>-0.912166</td>\n",
       "      <td>-1.128520</td>\n",
       "      <td>-1.050734</td>\n",
       "      <td>-1.591392</td>\n",
       "      <td>-0.591541</td>\n",
       "      <td>-0.384804</td>\n",
       "      <td>1.053076</td>\n",
       "      <td>1.178323</td>\n",
       "      <td>...</td>\n",
       "      <td>1.0</td>\n",
       "      <td>1.0</td>\n",
       "      <td>0.0</td>\n",
       "      <td>0.0</td>\n",
       "      <td>0.0</td>\n",
       "      <td>1.0</td>\n",
       "      <td>0.0</td>\n",
       "      <td>1.0</td>\n",
       "      <td>0.0</td>\n",
       "      <td>0.0</td>\n",
       "    </tr>\n",
       "    <tr>\n",
       "      <th>2</th>\n",
       "      <td>0.398786</td>\n",
       "      <td>2.134651</td>\n",
       "      <td>-0.912166</td>\n",
       "      <td>-0.235219</td>\n",
       "      <td>0.830846</td>\n",
       "      <td>0.820673</td>\n",
       "      <td>1.751516</td>\n",
       "      <td>-0.384804</td>\n",
       "      <td>1.053076</td>\n",
       "      <td>0.461360</td>\n",
       "      <td>...</td>\n",
       "      <td>1.0</td>\n",
       "      <td>1.0</td>\n",
       "      <td>0.0</td>\n",
       "      <td>0.0</td>\n",
       "      <td>0.0</td>\n",
       "      <td>0.0</td>\n",
       "      <td>1.0</td>\n",
       "      <td>1.0</td>\n",
       "      <td>0.0</td>\n",
       "      <td>0.0</td>\n",
       "    </tr>\n",
       "  </tbody>\n",
       "</table>\n",
       "<p>3 rows × 152 columns</p>\n",
       "</div>"
      ],
      "text/plain": [
       "   num__Music  num__Slow songs or fast songs  num__Dance  num__Folk  \\\n",
       "0    0.398786                      -0.370599   -0.912166  -1.128520   \n",
       "1   -1.286083                       0.882026   -0.912166  -1.128520   \n",
       "2    0.398786                       2.134651   -0.912166  -0.235219   \n",
       "\n",
       "   num__Country  num__Classical music  num__Musical  num__Pop  num__Rock  \\\n",
       "0     -0.109944             -0.787370     -1.372560  1.332211   1.053076   \n",
       "1     -1.050734             -1.591392     -0.591541 -0.384804   1.053076   \n",
       "2      0.830846              0.820673      1.751516 -0.384804   1.053076   \n",
       "\n",
       "   num__Metal or Hardrock  ...  cat__x1_right handed  cat__x2_city  \\\n",
       "0               -0.972567  ...                   1.0           0.0   \n",
       "1                1.178323  ...                   1.0           1.0   \n",
       "2                0.461360  ...                   1.0           1.0   \n",
       "\n",
       "   cat__x2_village  cat__x3_current smoker  cat__x3_former smoker  \\\n",
       "0              1.0                     0.0                    0.0   \n",
       "1              0.0                     0.0                    0.0   \n",
       "2              0.0                     0.0                    0.0   \n",
       "\n",
       "   cat__x3_never smoked  cat__x3_tried smoking  cat__x4_drink a lot  \\\n",
       "0                   1.0                    0.0                  1.0   \n",
       "1                   1.0                    0.0                  1.0   \n",
       "2                   0.0                    1.0                  1.0   \n",
       "\n",
       "   cat__x4_never  cat__x4_social drinker  \n",
       "0            0.0                     0.0  \n",
       "1            0.0                     0.0  \n",
       "2            0.0                     0.0  \n",
       "\n",
       "[3 rows x 152 columns]"
      ]
     },
     "execution_count": 113,
     "metadata": {},
     "output_type": "execute_result"
    }
   ],
   "source": [
    "preprocessor = ColumnTransformer(transformers=[\n",
    "    ('num', StandardScalerDf(), numerical_features),\n",
    "    ('cat', OneHotEncoder(sparse=False, handle_unknown='ignore'), to_dummies),\n",
    "    #('ordinal', 'passthrough', categorical_features)\n",
    "], remainder='drop', n_jobs=-1)\n",
    "\n",
    "\n",
    "result = pd.DataFrame(preprocessor.fit_transform(data), columns=preprocessor.get_feature_names())\n",
    "result.head(3)"
   ]
  },
  {
   "cell_type": "code",
   "execution_count": null,
   "metadata": {},
   "outputs": [],
   "source": [
    " "
   ]
  },
  {
   "cell_type": "code",
   "execution_count": 114,
   "metadata": {
    "ExecuteTime": {
     "end_time": "2022-04-28T11:09:12.598046Z",
     "start_time": "2022-04-28T11:09:12.584045Z"
    }
   },
   "outputs": [
    {
     "data": {
      "text/html": [
       "<style>#sk-ccd7ffc2-a64e-4f26-aadb-b5bb918935cf {color: black;background-color: white;}#sk-ccd7ffc2-a64e-4f26-aadb-b5bb918935cf pre{padding: 0;}#sk-ccd7ffc2-a64e-4f26-aadb-b5bb918935cf div.sk-toggleable {background-color: white;}#sk-ccd7ffc2-a64e-4f26-aadb-b5bb918935cf label.sk-toggleable__label {cursor: pointer;display: block;width: 100%;margin-bottom: 0;padding: 0.2em 0.3em;box-sizing: border-box;text-align: center;}#sk-ccd7ffc2-a64e-4f26-aadb-b5bb918935cf div.sk-toggleable__content {max-height: 0;max-width: 0;overflow: hidden;text-align: left;background-color: #f0f8ff;}#sk-ccd7ffc2-a64e-4f26-aadb-b5bb918935cf div.sk-toggleable__content pre {margin: 0.2em;color: black;border-radius: 0.25em;background-color: #f0f8ff;}#sk-ccd7ffc2-a64e-4f26-aadb-b5bb918935cf input.sk-toggleable__control:checked~div.sk-toggleable__content {max-height: 200px;max-width: 100%;overflow: auto;}#sk-ccd7ffc2-a64e-4f26-aadb-b5bb918935cf div.sk-estimator input.sk-toggleable__control:checked~label.sk-toggleable__label {background-color: #d4ebff;}#sk-ccd7ffc2-a64e-4f26-aadb-b5bb918935cf div.sk-label input.sk-toggleable__control:checked~label.sk-toggleable__label {background-color: #d4ebff;}#sk-ccd7ffc2-a64e-4f26-aadb-b5bb918935cf input.sk-hidden--visually {border: 0;clip: rect(1px 1px 1px 1px);clip: rect(1px, 1px, 1px, 1px);height: 1px;margin: -1px;overflow: hidden;padding: 0;position: absolute;width: 1px;}#sk-ccd7ffc2-a64e-4f26-aadb-b5bb918935cf div.sk-estimator {font-family: monospace;background-color: #f0f8ff;margin: 0.25em 0.25em;border: 1px dotted black;border-radius: 0.25em;box-sizing: border-box;}#sk-ccd7ffc2-a64e-4f26-aadb-b5bb918935cf div.sk-estimator:hover {background-color: #d4ebff;}#sk-ccd7ffc2-a64e-4f26-aadb-b5bb918935cf div.sk-parallel-item::after {content: \"\";width: 100%;border-bottom: 1px solid gray;flex-grow: 1;}#sk-ccd7ffc2-a64e-4f26-aadb-b5bb918935cf div.sk-label:hover label.sk-toggleable__label {background-color: #d4ebff;}#sk-ccd7ffc2-a64e-4f26-aadb-b5bb918935cf div.sk-serial::before {content: \"\";position: absolute;border-left: 1px solid gray;box-sizing: border-box;top: 2em;bottom: 0;left: 50%;}#sk-ccd7ffc2-a64e-4f26-aadb-b5bb918935cf div.sk-serial {display: flex;flex-direction: column;align-items: center;background-color: white;}#sk-ccd7ffc2-a64e-4f26-aadb-b5bb918935cf div.sk-item {z-index: 1;}#sk-ccd7ffc2-a64e-4f26-aadb-b5bb918935cf div.sk-parallel {display: flex;align-items: stretch;justify-content: center;background-color: white;}#sk-ccd7ffc2-a64e-4f26-aadb-b5bb918935cf div.sk-parallel-item {display: flex;flex-direction: column;position: relative;background-color: white;}#sk-ccd7ffc2-a64e-4f26-aadb-b5bb918935cf div.sk-parallel-item:first-child::after {align-self: flex-end;width: 50%;}#sk-ccd7ffc2-a64e-4f26-aadb-b5bb918935cf div.sk-parallel-item:last-child::after {align-self: flex-start;width: 50%;}#sk-ccd7ffc2-a64e-4f26-aadb-b5bb918935cf div.sk-parallel-item:only-child::after {width: 0;}#sk-ccd7ffc2-a64e-4f26-aadb-b5bb918935cf div.sk-dashed-wrapped {border: 1px dashed gray;margin: 0.2em;box-sizing: border-box;padding-bottom: 0.1em;background-color: white;position: relative;}#sk-ccd7ffc2-a64e-4f26-aadb-b5bb918935cf div.sk-label label {font-family: monospace;font-weight: bold;background-color: white;display: inline-block;line-height: 1.2em;}#sk-ccd7ffc2-a64e-4f26-aadb-b5bb918935cf div.sk-label-container {position: relative;z-index: 2;text-align: center;}#sk-ccd7ffc2-a64e-4f26-aadb-b5bb918935cf div.sk-container {display: inline-block;position: relative;}</style><div id=\"sk-ccd7ffc2-a64e-4f26-aadb-b5bb918935cf\" class\"sk-top-container\"><div class=\"sk-container\"><div class=\"sk-item sk-dashed-wrapped\"><div class=\"sk-label-container\"><div class=\"sk-label sk-toggleable\"><input class=\"sk-toggleable__control sk-hidden--visually\" id=\"f7f31743-39db-435b-a3dc-e7f2af328adb\" type=\"checkbox\" ><label class=\"sk-toggleable__label\" for=\"f7f31743-39db-435b-a3dc-e7f2af328adb\">ColumnTransformer</label><div class=\"sk-toggleable__content\"><pre>ColumnTransformer(n_jobs=-1,\n",
       "                  transformers=[('num', StandardScalerDf(),\n",
       "                                 ['Music', 'Slow songs or fast songs', 'Dance',\n",
       "                                  'Folk', 'Country', 'Classical music',\n",
       "                                  'Musical', 'Pop', 'Rock', 'Metal or Hardrock',\n",
       "                                  'Punk', 'Hiphop, Rap', 'Reggae, Ska',\n",
       "                                  'Swing, Jazz', 'Rock n roll', 'Alternative',\n",
       "                                  'Latino', 'Techno, Trance', 'Opera', 'Movies',\n",
       "                                  'Horror', 'Thriller', 'Comedy', 'Romantic',\n",
       "                                  'Sci-fi', 'War', 'Fantasy/Fairy tales',\n",
       "                                  'Animated', 'Documentary', 'Western', ...]),\n",
       "                                ('cat',\n",
       "                                 OneHotEncoder(handle_unknown='ignore',\n",
       "                                               sparse=False),\n",
       "                                 ['Gender', 'Left - right handed',\n",
       "                                  'Village - town', 'Smoking', 'Alcohol'])])</pre></div></div></div><div class=\"sk-parallel\"><div class=\"sk-parallel-item\"><div class=\"sk-item\"><div class=\"sk-label-container\"><div class=\"sk-label sk-toggleable\"><input class=\"sk-toggleable__control sk-hidden--visually\" id=\"e9d2df68-a66e-4587-871a-f3d36c044256\" type=\"checkbox\" ><label class=\"sk-toggleable__label\" for=\"e9d2df68-a66e-4587-871a-f3d36c044256\">num</label><div class=\"sk-toggleable__content\"><pre>['Music', 'Slow songs or fast songs', 'Dance', 'Folk', 'Country', 'Classical music', 'Musical', 'Pop', 'Rock', 'Metal or Hardrock', 'Punk', 'Hiphop, Rap', 'Reggae, Ska', 'Swing, Jazz', 'Rock n roll', 'Alternative', 'Latino', 'Techno, Trance', 'Opera', 'Movies', 'Horror', 'Thriller', 'Comedy', 'Romantic', 'Sci-fi', 'War', 'Fantasy/Fairy tales', 'Animated', 'Documentary', 'Western', 'Action', 'History', 'Psychology', 'Politics', 'Mathematics', 'Physics', 'Internet', 'PC', 'Economy Management', 'Biology', 'Chemistry', 'Reading', 'Geography', 'Foreign languages', 'Medicine', 'Law', 'Cars', 'Art exhibitions', 'Religion', 'Countryside, outdoors', 'Dancing', 'Musical instruments', 'Writing', 'Passive sport', 'Active sport', 'Gardening', 'Celebrities', 'Shopping', 'Science and technology', 'Theatre', 'Fun with friends', 'Adrenaline sports', 'Pets', 'Flying', 'Storm', 'Darkness', 'Heights', 'Spiders', 'Snakes', 'Rats', 'Ageing', 'Dangerous dogs', 'Fear of public speaking', 'Healthy eating', 'Daily events', 'Prioritising workload', 'Writing notes', 'Workaholism', 'Thinking ahead', 'Final judgement', 'Reliability', 'Keeping promises', 'Loss of interest', 'Friends versus money', 'Funniness', 'Fake', 'Criminal damage', 'Decision making', 'Elections', 'Self-criticism', 'Judgment calls', 'Hypochondria', 'Empathy', 'Eating to survive', 'Giving', 'Compassion to animals', 'Borrowed stuff', 'Loneliness', 'Cheating in school', 'Health', 'Changing the past', 'God', 'Dreams', 'Charity', 'Number of friends', 'Waiting', 'New environment', 'Mood swings', 'Appearence and gestures', 'Socializing', 'Achievements', 'Responding to a serious letter', 'Children', 'Assertiveness', 'Getting angry', 'Knowing the right people', 'Public speaking', 'Unpopularity', 'Life struggles', 'Happiness in life', 'Energy levels', 'Small - big dogs', 'Personality', 'Finding lost valuables', 'Getting up', 'Interests or hobbies', \"Parents' advice\", 'Questionnaires or polls', 'Finances', 'Shopping centres', 'Branded clothing', 'Entertainment spending', 'Spending on looks', 'Spending on gadgets', 'Spending on healthy eating', 'Age', 'Height', 'Weight', 'Number of siblings']</pre></div></div></div><div class=\"sk-serial\"><div class=\"sk-item\"><div class=\"sk-estimator sk-toggleable\"><input class=\"sk-toggleable__control sk-hidden--visually\" id=\"8698c718-5a19-4abf-bbd5-3e88502a277d\" type=\"checkbox\" ><label class=\"sk-toggleable__label\" for=\"8698c718-5a19-4abf-bbd5-3e88502a277d\">StandardScalerDf</label><div class=\"sk-toggleable__content\"><pre>StandardScalerDf()</pre></div></div></div></div></div></div><div class=\"sk-parallel-item\"><div class=\"sk-item\"><div class=\"sk-label-container\"><div class=\"sk-label sk-toggleable\"><input class=\"sk-toggleable__control sk-hidden--visually\" id=\"211b70f6-d6ee-4ed8-b9cc-96e9387eb6b2\" type=\"checkbox\" ><label class=\"sk-toggleable__label\" for=\"211b70f6-d6ee-4ed8-b9cc-96e9387eb6b2\">cat</label><div class=\"sk-toggleable__content\"><pre>['Gender', 'Left - right handed', 'Village - town', 'Smoking', 'Alcohol']</pre></div></div></div><div class=\"sk-serial\"><div class=\"sk-item\"><div class=\"sk-estimator sk-toggleable\"><input class=\"sk-toggleable__control sk-hidden--visually\" id=\"00222d75-a740-4cb2-b330-e810d7ae9393\" type=\"checkbox\" ><label class=\"sk-toggleable__label\" for=\"00222d75-a740-4cb2-b330-e810d7ae9393\">OneHotEncoder</label><div class=\"sk-toggleable__content\"><pre>OneHotEncoder(handle_unknown='ignore', sparse=False)</pre></div></div></div></div></div></div></div></div></div></div>"
      ],
      "text/plain": [
       "ColumnTransformer(n_jobs=-1,\n",
       "                  transformers=[('num', StandardScalerDf(),\n",
       "                                 ['Music', 'Slow songs or fast songs', 'Dance',\n",
       "                                  'Folk', 'Country', 'Classical music',\n",
       "                                  'Musical', 'Pop', 'Rock', 'Metal or Hardrock',\n",
       "                                  'Punk', 'Hiphop, Rap', 'Reggae, Ska',\n",
       "                                  'Swing, Jazz', 'Rock n roll', 'Alternative',\n",
       "                                  'Latino', 'Techno, Trance', 'Opera', 'Movies',\n",
       "                                  'Horror', 'Thriller', 'Comedy', 'Romantic',\n",
       "                                  'Sci-fi', 'War', 'Fantasy/Fairy tales',\n",
       "                                  'Animated', 'Documentary', 'Western', ...]),\n",
       "                                ('cat',\n",
       "                                 OneHotEncoder(handle_unknown='ignore',\n",
       "                                               sparse=False),\n",
       "                                 ['Gender', 'Left - right handed',\n",
       "                                  'Village - town', 'Smoking', 'Alcohol'])])"
      ]
     },
     "execution_count": 114,
     "metadata": {},
     "output_type": "execute_result"
    }
   ],
   "source": [
    "preprocessor"
   ]
  },
  {
   "cell_type": "code",
   "execution_count": 115,
   "metadata": {
    "ExecuteTime": {
     "end_time": "2022-04-28T11:09:12.614045Z",
     "start_time": "2022-04-28T11:09:12.600046Z"
    }
   },
   "outputs": [],
   "source": [
    "# preprocessor.get_steps("
   ]
  },
  {
   "cell_type": "code",
   "execution_count": 116,
   "metadata": {
    "ExecuteTime": {
     "end_time": "2022-04-28T11:09:12.630046Z",
     "start_time": "2022-04-28T11:09:12.615045Z"
    }
   },
   "outputs": [
    {
     "data": {
      "text/plain": [
       "Index(['Music', 'Slow songs or fast songs', 'Dance', 'Folk', 'Country',\n",
       "       'Classical music', 'Musical', 'Pop', 'Rock', 'Metal or Hardrock',\n",
       "       ...\n",
       "       'x10_3.0', 'x10_4.0', 'x10_5.0', 'x10_nan', 'x11_1.0', 'x11_2.0',\n",
       "       'x11_3.0', 'x11_4.0', 'x11_5.0', 'x11_nan'],\n",
       "      dtype='object', length=226)"
      ]
     },
     "execution_count": 116,
     "metadata": {},
     "output_type": "execute_result"
    }
   ],
   "source": [
    "fu_result.columns"
   ]
  },
  {
   "cell_type": "code",
   "execution_count": 117,
   "metadata": {
    "ExecuteTime": {
     "end_time": "2022-04-28T11:09:12.646048Z",
     "start_time": "2022-04-28T11:09:12.631046Z"
    }
   },
   "outputs": [
    {
     "data": {
      "text/html": [
       "<style>#sk-79fb0ad8-2be7-4ebc-86e0-805944eb2d7d {color: black;background-color: white;}#sk-79fb0ad8-2be7-4ebc-86e0-805944eb2d7d pre{padding: 0;}#sk-79fb0ad8-2be7-4ebc-86e0-805944eb2d7d div.sk-toggleable {background-color: white;}#sk-79fb0ad8-2be7-4ebc-86e0-805944eb2d7d label.sk-toggleable__label {cursor: pointer;display: block;width: 100%;margin-bottom: 0;padding: 0.2em 0.3em;box-sizing: border-box;text-align: center;}#sk-79fb0ad8-2be7-4ebc-86e0-805944eb2d7d div.sk-toggleable__content {max-height: 0;max-width: 0;overflow: hidden;text-align: left;background-color: #f0f8ff;}#sk-79fb0ad8-2be7-4ebc-86e0-805944eb2d7d div.sk-toggleable__content pre {margin: 0.2em;color: black;border-radius: 0.25em;background-color: #f0f8ff;}#sk-79fb0ad8-2be7-4ebc-86e0-805944eb2d7d input.sk-toggleable__control:checked~div.sk-toggleable__content {max-height: 200px;max-width: 100%;overflow: auto;}#sk-79fb0ad8-2be7-4ebc-86e0-805944eb2d7d div.sk-estimator input.sk-toggleable__control:checked~label.sk-toggleable__label {background-color: #d4ebff;}#sk-79fb0ad8-2be7-4ebc-86e0-805944eb2d7d div.sk-label input.sk-toggleable__control:checked~label.sk-toggleable__label {background-color: #d4ebff;}#sk-79fb0ad8-2be7-4ebc-86e0-805944eb2d7d input.sk-hidden--visually {border: 0;clip: rect(1px 1px 1px 1px);clip: rect(1px, 1px, 1px, 1px);height: 1px;margin: -1px;overflow: hidden;padding: 0;position: absolute;width: 1px;}#sk-79fb0ad8-2be7-4ebc-86e0-805944eb2d7d div.sk-estimator {font-family: monospace;background-color: #f0f8ff;margin: 0.25em 0.25em;border: 1px dotted black;border-radius: 0.25em;box-sizing: border-box;}#sk-79fb0ad8-2be7-4ebc-86e0-805944eb2d7d div.sk-estimator:hover {background-color: #d4ebff;}#sk-79fb0ad8-2be7-4ebc-86e0-805944eb2d7d div.sk-parallel-item::after {content: \"\";width: 100%;border-bottom: 1px solid gray;flex-grow: 1;}#sk-79fb0ad8-2be7-4ebc-86e0-805944eb2d7d div.sk-label:hover label.sk-toggleable__label {background-color: #d4ebff;}#sk-79fb0ad8-2be7-4ebc-86e0-805944eb2d7d div.sk-serial::before {content: \"\";position: absolute;border-left: 1px solid gray;box-sizing: border-box;top: 2em;bottom: 0;left: 50%;}#sk-79fb0ad8-2be7-4ebc-86e0-805944eb2d7d div.sk-serial {display: flex;flex-direction: column;align-items: center;background-color: white;}#sk-79fb0ad8-2be7-4ebc-86e0-805944eb2d7d div.sk-item {z-index: 1;}#sk-79fb0ad8-2be7-4ebc-86e0-805944eb2d7d div.sk-parallel {display: flex;align-items: stretch;justify-content: center;background-color: white;}#sk-79fb0ad8-2be7-4ebc-86e0-805944eb2d7d div.sk-parallel-item {display: flex;flex-direction: column;position: relative;background-color: white;}#sk-79fb0ad8-2be7-4ebc-86e0-805944eb2d7d div.sk-parallel-item:first-child::after {align-self: flex-end;width: 50%;}#sk-79fb0ad8-2be7-4ebc-86e0-805944eb2d7d div.sk-parallel-item:last-child::after {align-self: flex-start;width: 50%;}#sk-79fb0ad8-2be7-4ebc-86e0-805944eb2d7d div.sk-parallel-item:only-child::after {width: 0;}#sk-79fb0ad8-2be7-4ebc-86e0-805944eb2d7d div.sk-dashed-wrapped {border: 1px dashed gray;margin: 0.2em;box-sizing: border-box;padding-bottom: 0.1em;background-color: white;position: relative;}#sk-79fb0ad8-2be7-4ebc-86e0-805944eb2d7d div.sk-label label {font-family: monospace;font-weight: bold;background-color: white;display: inline-block;line-height: 1.2em;}#sk-79fb0ad8-2be7-4ebc-86e0-805944eb2d7d div.sk-label-container {position: relative;z-index: 2;text-align: center;}#sk-79fb0ad8-2be7-4ebc-86e0-805944eb2d7d div.sk-container {display: inline-block;position: relative;}</style><div id=\"sk-79fb0ad8-2be7-4ebc-86e0-805944eb2d7d\" class\"sk-top-container\"><div class=\"sk-container\"><div class=\"sk-item sk-dashed-wrapped\"><div class=\"sk-label-container\"><div class=\"sk-label sk-toggleable\"><input class=\"sk-toggleable__control sk-hidden--visually\" id=\"0bd24b89-f18e-4099-b926-c2337a8e277c\" type=\"checkbox\" ><label class=\"sk-toggleable__label\" for=\"0bd24b89-f18e-4099-b926-c2337a8e277c\">ColumnTransformer</label><div class=\"sk-toggleable__content\"><pre>ColumnTransformer(n_jobs=-1,\n",
       "                  transformers=[('num', StandardScalerDf(),\n",
       "                                 ['Music', 'Slow songs or fast songs', 'Dance',\n",
       "                                  'Folk', 'Country', 'Classical music',\n",
       "                                  'Musical', 'Pop', 'Rock', 'Metal or Hardrock',\n",
       "                                  'Punk', 'Hiphop, Rap', 'Reggae, Ska',\n",
       "                                  'Swing, Jazz', 'Rock n roll', 'Alternative',\n",
       "                                  'Latino', 'Techno, Trance', 'Opera', 'Movies',\n",
       "                                  'Horror', 'Thriller', 'Comedy', 'Romantic',\n",
       "                                  'Sci-fi', 'War', 'Fantasy/Fairy tales',\n",
       "                                  'Animated', 'Documentary', 'Western', ...]),\n",
       "                                ('cat',\n",
       "                                 OneHotEncoder(handle_unknown='ignore',\n",
       "                                               sparse=False),\n",
       "                                 ['Gender', 'Left - right handed',\n",
       "                                  'Village - town', 'Smoking', 'Alcohol'])])</pre></div></div></div><div class=\"sk-parallel\"><div class=\"sk-parallel-item\"><div class=\"sk-item\"><div class=\"sk-label-container\"><div class=\"sk-label sk-toggleable\"><input class=\"sk-toggleable__control sk-hidden--visually\" id=\"827be232-19d0-4639-86c6-807e06571c4a\" type=\"checkbox\" ><label class=\"sk-toggleable__label\" for=\"827be232-19d0-4639-86c6-807e06571c4a\">num</label><div class=\"sk-toggleable__content\"><pre>['Music', 'Slow songs or fast songs', 'Dance', 'Folk', 'Country', 'Classical music', 'Musical', 'Pop', 'Rock', 'Metal or Hardrock', 'Punk', 'Hiphop, Rap', 'Reggae, Ska', 'Swing, Jazz', 'Rock n roll', 'Alternative', 'Latino', 'Techno, Trance', 'Opera', 'Movies', 'Horror', 'Thriller', 'Comedy', 'Romantic', 'Sci-fi', 'War', 'Fantasy/Fairy tales', 'Animated', 'Documentary', 'Western', 'Action', 'History', 'Psychology', 'Politics', 'Mathematics', 'Physics', 'Internet', 'PC', 'Economy Management', 'Biology', 'Chemistry', 'Reading', 'Geography', 'Foreign languages', 'Medicine', 'Law', 'Cars', 'Art exhibitions', 'Religion', 'Countryside, outdoors', 'Dancing', 'Musical instruments', 'Writing', 'Passive sport', 'Active sport', 'Gardening', 'Celebrities', 'Shopping', 'Science and technology', 'Theatre', 'Fun with friends', 'Adrenaline sports', 'Pets', 'Flying', 'Storm', 'Darkness', 'Heights', 'Spiders', 'Snakes', 'Rats', 'Ageing', 'Dangerous dogs', 'Fear of public speaking', 'Healthy eating', 'Daily events', 'Prioritising workload', 'Writing notes', 'Workaholism', 'Thinking ahead', 'Final judgement', 'Reliability', 'Keeping promises', 'Loss of interest', 'Friends versus money', 'Funniness', 'Fake', 'Criminal damage', 'Decision making', 'Elections', 'Self-criticism', 'Judgment calls', 'Hypochondria', 'Empathy', 'Eating to survive', 'Giving', 'Compassion to animals', 'Borrowed stuff', 'Loneliness', 'Cheating in school', 'Health', 'Changing the past', 'God', 'Dreams', 'Charity', 'Number of friends', 'Waiting', 'New environment', 'Mood swings', 'Appearence and gestures', 'Socializing', 'Achievements', 'Responding to a serious letter', 'Children', 'Assertiveness', 'Getting angry', 'Knowing the right people', 'Public speaking', 'Unpopularity', 'Life struggles', 'Happiness in life', 'Energy levels', 'Small - big dogs', 'Personality', 'Finding lost valuables', 'Getting up', 'Interests or hobbies', \"Parents' advice\", 'Questionnaires or polls', 'Finances', 'Shopping centres', 'Branded clothing', 'Entertainment spending', 'Spending on looks', 'Spending on gadgets', 'Spending on healthy eating', 'Age', 'Height', 'Weight', 'Number of siblings']</pre></div></div></div><div class=\"sk-serial\"><div class=\"sk-item\"><div class=\"sk-estimator sk-toggleable\"><input class=\"sk-toggleable__control sk-hidden--visually\" id=\"4124f498-a6d7-4718-b4d8-fab3e10dbcb4\" type=\"checkbox\" ><label class=\"sk-toggleable__label\" for=\"4124f498-a6d7-4718-b4d8-fab3e10dbcb4\">StandardScalerDf</label><div class=\"sk-toggleable__content\"><pre>StandardScalerDf()</pre></div></div></div></div></div></div><div class=\"sk-parallel-item\"><div class=\"sk-item\"><div class=\"sk-label-container\"><div class=\"sk-label sk-toggleable\"><input class=\"sk-toggleable__control sk-hidden--visually\" id=\"6d46770b-a59d-46c3-818a-cea4a118f2f0\" type=\"checkbox\" ><label class=\"sk-toggleable__label\" for=\"6d46770b-a59d-46c3-818a-cea4a118f2f0\">cat</label><div class=\"sk-toggleable__content\"><pre>['Gender', 'Left - right handed', 'Village - town', 'Smoking', 'Alcohol']</pre></div></div></div><div class=\"sk-serial\"><div class=\"sk-item\"><div class=\"sk-estimator sk-toggleable\"><input class=\"sk-toggleable__control sk-hidden--visually\" id=\"92e0dd0c-697a-4633-8ead-2cde9f710349\" type=\"checkbox\" ><label class=\"sk-toggleable__label\" for=\"92e0dd0c-697a-4633-8ead-2cde9f710349\">OneHotEncoder</label><div class=\"sk-toggleable__content\"><pre>OneHotEncoder(handle_unknown='ignore', sparse=False)</pre></div></div></div></div></div></div></div></div></div></div>"
      ],
      "text/plain": [
       "ColumnTransformer(n_jobs=-1,\n",
       "                  transformers=[('num', StandardScalerDf(),\n",
       "                                 ['Music', 'Slow songs or fast songs', 'Dance',\n",
       "                                  'Folk', 'Country', 'Classical music',\n",
       "                                  'Musical', 'Pop', 'Rock', 'Metal or Hardrock',\n",
       "                                  'Punk', 'Hiphop, Rap', 'Reggae, Ska',\n",
       "                                  'Swing, Jazz', 'Rock n roll', 'Alternative',\n",
       "                                  'Latino', 'Techno, Trance', 'Opera', 'Movies',\n",
       "                                  'Horror', 'Thriller', 'Comedy', 'Romantic',\n",
       "                                  'Sci-fi', 'War', 'Fantasy/Fairy tales',\n",
       "                                  'Animated', 'Documentary', 'Western', ...]),\n",
       "                                ('cat',\n",
       "                                 OneHotEncoder(handle_unknown='ignore',\n",
       "                                               sparse=False),\n",
       "                                 ['Gender', 'Left - right handed',\n",
       "                                  'Village - town', 'Smoking', 'Alcohol'])])"
      ]
     },
     "execution_count": 117,
     "metadata": {},
     "output_type": "execute_result"
    }
   ],
   "source": [
    "preprocessor"
   ]
  },
  {
   "cell_type": "markdown",
   "metadata": {},
   "source": [
    "# ML"
   ]
  },
  {
   "cell_type": "code",
   "execution_count": 118,
   "metadata": {
    "ExecuteTime": {
     "end_time": "2022-04-28T11:09:12.662049Z",
     "start_time": "2022-04-28T11:09:12.648050Z"
    }
   },
   "outputs": [],
   "source": [
    "#И другие, но вы про них уже знаете \n",
    "\n",
    "from sklearn.linear_model import LogisticRegression"
   ]
  },
  {
   "cell_type": "code",
   "execution_count": 119,
   "metadata": {
    "ExecuteTime": {
     "end_time": "2022-04-28T11:09:12.678051Z",
     "start_time": "2022-04-28T11:09:12.663050Z"
    }
   },
   "outputs": [],
   "source": [
    "pipeline = Pipeline([\n",
    "    (\"preprocessing\", feature_union),\n",
    "    #(\"preprocessing\", preprocessor),\n",
    "    (\"modelling\", LogisticRegression()) #Единственное правило это fit/predict\n",
    "])"
   ]
  },
  {
   "cell_type": "markdown",
   "metadata": {},
   "source": [
    "## Displaying pipelines"
   ]
  },
  {
   "cell_type": "code",
   "execution_count": 120,
   "metadata": {
    "ExecuteTime": {
     "end_time": "2022-04-28T11:09:12.775066Z",
     "start_time": "2022-04-28T11:09:12.680052Z"
    }
   },
   "outputs": [
    {
     "data": {
      "text/html": [
       "<style>#sk-9d77ab2e-b27d-4ee5-911c-4e27b491ce44 {color: black;background-color: white;}#sk-9d77ab2e-b27d-4ee5-911c-4e27b491ce44 pre{padding: 0;}#sk-9d77ab2e-b27d-4ee5-911c-4e27b491ce44 div.sk-toggleable {background-color: white;}#sk-9d77ab2e-b27d-4ee5-911c-4e27b491ce44 label.sk-toggleable__label {cursor: pointer;display: block;width: 100%;margin-bottom: 0;padding: 0.2em 0.3em;box-sizing: border-box;text-align: center;}#sk-9d77ab2e-b27d-4ee5-911c-4e27b491ce44 div.sk-toggleable__content {max-height: 0;max-width: 0;overflow: hidden;text-align: left;background-color: #f0f8ff;}#sk-9d77ab2e-b27d-4ee5-911c-4e27b491ce44 div.sk-toggleable__content pre {margin: 0.2em;color: black;border-radius: 0.25em;background-color: #f0f8ff;}#sk-9d77ab2e-b27d-4ee5-911c-4e27b491ce44 input.sk-toggleable__control:checked~div.sk-toggleable__content {max-height: 200px;max-width: 100%;overflow: auto;}#sk-9d77ab2e-b27d-4ee5-911c-4e27b491ce44 div.sk-estimator input.sk-toggleable__control:checked~label.sk-toggleable__label {background-color: #d4ebff;}#sk-9d77ab2e-b27d-4ee5-911c-4e27b491ce44 div.sk-label input.sk-toggleable__control:checked~label.sk-toggleable__label {background-color: #d4ebff;}#sk-9d77ab2e-b27d-4ee5-911c-4e27b491ce44 input.sk-hidden--visually {border: 0;clip: rect(1px 1px 1px 1px);clip: rect(1px, 1px, 1px, 1px);height: 1px;margin: -1px;overflow: hidden;padding: 0;position: absolute;width: 1px;}#sk-9d77ab2e-b27d-4ee5-911c-4e27b491ce44 div.sk-estimator {font-family: monospace;background-color: #f0f8ff;margin: 0.25em 0.25em;border: 1px dotted black;border-radius: 0.25em;box-sizing: border-box;}#sk-9d77ab2e-b27d-4ee5-911c-4e27b491ce44 div.sk-estimator:hover {background-color: #d4ebff;}#sk-9d77ab2e-b27d-4ee5-911c-4e27b491ce44 div.sk-parallel-item::after {content: \"\";width: 100%;border-bottom: 1px solid gray;flex-grow: 1;}#sk-9d77ab2e-b27d-4ee5-911c-4e27b491ce44 div.sk-label:hover label.sk-toggleable__label {background-color: #d4ebff;}#sk-9d77ab2e-b27d-4ee5-911c-4e27b491ce44 div.sk-serial::before {content: \"\";position: absolute;border-left: 1px solid gray;box-sizing: border-box;top: 2em;bottom: 0;left: 50%;}#sk-9d77ab2e-b27d-4ee5-911c-4e27b491ce44 div.sk-serial {display: flex;flex-direction: column;align-items: center;background-color: white;}#sk-9d77ab2e-b27d-4ee5-911c-4e27b491ce44 div.sk-item {z-index: 1;}#sk-9d77ab2e-b27d-4ee5-911c-4e27b491ce44 div.sk-parallel {display: flex;align-items: stretch;justify-content: center;background-color: white;}#sk-9d77ab2e-b27d-4ee5-911c-4e27b491ce44 div.sk-parallel-item {display: flex;flex-direction: column;position: relative;background-color: white;}#sk-9d77ab2e-b27d-4ee5-911c-4e27b491ce44 div.sk-parallel-item:first-child::after {align-self: flex-end;width: 50%;}#sk-9d77ab2e-b27d-4ee5-911c-4e27b491ce44 div.sk-parallel-item:last-child::after {align-self: flex-start;width: 50%;}#sk-9d77ab2e-b27d-4ee5-911c-4e27b491ce44 div.sk-parallel-item:only-child::after {width: 0;}#sk-9d77ab2e-b27d-4ee5-911c-4e27b491ce44 div.sk-dashed-wrapped {border: 1px dashed gray;margin: 0.2em;box-sizing: border-box;padding-bottom: 0.1em;background-color: white;position: relative;}#sk-9d77ab2e-b27d-4ee5-911c-4e27b491ce44 div.sk-label label {font-family: monospace;font-weight: bold;background-color: white;display: inline-block;line-height: 1.2em;}#sk-9d77ab2e-b27d-4ee5-911c-4e27b491ce44 div.sk-label-container {position: relative;z-index: 2;text-align: center;}#sk-9d77ab2e-b27d-4ee5-911c-4e27b491ce44 div.sk-container {display: inline-block;position: relative;}</style><div id=\"sk-9d77ab2e-b27d-4ee5-911c-4e27b491ce44\" class\"sk-top-container\"><div class=\"sk-container\"><div class=\"sk-item sk-dashed-wrapped\"><div class=\"sk-label-container\"><div class=\"sk-label sk-toggleable\"><input class=\"sk-toggleable__control sk-hidden--visually\" id=\"a89478b2-6aef-474d-a685-d70733a14303\" type=\"checkbox\" ><label class=\"sk-toggleable__label\" for=\"a89478b2-6aef-474d-a685-d70733a14303\">Pipeline</label><div class=\"sk-toggleable__content\"><pre>Pipeline(steps=[('preprocessing',\n",
       "                 PandasFeatureUnion(transformer_list=[('numerical_preprocessor',\n",
       "                                                       Pipeline(steps=[('numerical_selector',\n",
       "                                                                        FunctionTransformer(func=<function numerical_select at 0x0000022796FAEE50>)),\n",
       "                                                                       ('scaling',\n",
       "                                                                        StandardScalerDf())])),\n",
       "                                                      ('binary_preprocessor',\n",
       "                                                       Pipeline(steps=[('binary_selector',\n",
       "                                                                        FunctionTransformer(func=<function <lambda> at 0x0000022794744280>)),\n",
       "                                                                       ('ohe',\n",
       "                                                                        OneHotEncodingDf())])),\n",
       "                                                      ('categorical_preprocessor',\n",
       "                                                       Pipeline(steps=[('categorical_selector',\n",
       "                                                                        FunctionTransformer(func=<function categorical_select at 0x0000022796E50040>)),\n",
       "                                                                       ('ohe',\n",
       "                                                                        OneHotEncodingDf())]))])),\n",
       "                ('modelling', LogisticRegression())])</pre></div></div></div><div class=\"sk-serial\"><div class=\"sk-item sk-dashed-wrapped\"><div class=\"sk-label-container\"><div class=\"sk-label sk-toggleable\"><input class=\"sk-toggleable__control sk-hidden--visually\" id=\"81256ad5-d641-4a05-84f9-7633836eac7f\" type=\"checkbox\" ><label class=\"sk-toggleable__label\" for=\"81256ad5-d641-4a05-84f9-7633836eac7f\">preprocessing: PandasFeatureUnion</label><div class=\"sk-toggleable__content\"><pre>PandasFeatureUnion(transformer_list=[('numerical_preprocessor',\n",
       "                                      Pipeline(steps=[('numerical_selector',\n",
       "                                                       FunctionTransformer(func=<function numerical_select at 0x0000022796FAEE50>)),\n",
       "                                                      ('scaling',\n",
       "                                                       StandardScalerDf())])),\n",
       "                                     ('binary_preprocessor',\n",
       "                                      Pipeline(steps=[('binary_selector',\n",
       "                                                       FunctionTransformer(func=<function <lambda> at 0x0000022794744280>)),\n",
       "                                                      ('ohe',\n",
       "                                                       OneHotEncodingDf())])),\n",
       "                                     ('categorical_preprocessor',\n",
       "                                      Pipeline(steps=[('categorical_selector',\n",
       "                                                       FunctionTransformer(func=<function categorical_select at 0x0000022796E50040>)),\n",
       "                                                      ('ohe',\n",
       "                                                       OneHotEncodingDf())]))])</pre></div></div></div><div class=\"sk-parallel\"><div class=\"sk-parallel-item\"><div class=\"sk-item\"><div class=\"sk-label-container\"><div class=\"sk-label sk-toggleable\"><label>numerical_preprocessor</label></div></div><div class=\"sk-serial\"><div class=\"sk-item\"><div class=\"sk-serial\"><div class=\"sk-item\"><div class=\"sk-estimator sk-toggleable\"><input class=\"sk-toggleable__control sk-hidden--visually\" id=\"fa8a117a-7a1a-4641-b69d-81e7ad9c9027\" type=\"checkbox\" ><label class=\"sk-toggleable__label\" for=\"fa8a117a-7a1a-4641-b69d-81e7ad9c9027\">FunctionTransformer</label><div class=\"sk-toggleable__content\"><pre>FunctionTransformer(func=<function numerical_select at 0x0000022796FAEE50>)</pre></div></div></div><div class=\"sk-item\"><div class=\"sk-estimator sk-toggleable\"><input class=\"sk-toggleable__control sk-hidden--visually\" id=\"8970c6a9-893a-4683-84cd-7057b5060a02\" type=\"checkbox\" ><label class=\"sk-toggleable__label\" for=\"8970c6a9-893a-4683-84cd-7057b5060a02\">StandardScalerDf</label><div class=\"sk-toggleable__content\"><pre>StandardScalerDf()</pre></div></div></div></div></div></div></div></div><div class=\"sk-parallel-item\"><div class=\"sk-item\"><div class=\"sk-label-container\"><div class=\"sk-label sk-toggleable\"><label>binary_preprocessor</label></div></div><div class=\"sk-serial\"><div class=\"sk-item\"><div class=\"sk-serial\"><div class=\"sk-item\"><div class=\"sk-estimator sk-toggleable\"><input class=\"sk-toggleable__control sk-hidden--visually\" id=\"c8538265-23cd-4109-9aa3-68cfbfebdc3c\" type=\"checkbox\" ><label class=\"sk-toggleable__label\" for=\"c8538265-23cd-4109-9aa3-68cfbfebdc3c\">FunctionTransformer</label><div class=\"sk-toggleable__content\"><pre>FunctionTransformer(func=<function <lambda> at 0x0000022794744280>)</pre></div></div></div><div class=\"sk-item\"><div class=\"sk-estimator sk-toggleable\"><input class=\"sk-toggleable__control sk-hidden--visually\" id=\"bef2bca0-1550-4776-bae9-8689c14817de\" type=\"checkbox\" ><label class=\"sk-toggleable__label\" for=\"bef2bca0-1550-4776-bae9-8689c14817de\">OneHotEncodingDf</label><div class=\"sk-toggleable__content\"><pre>OneHotEncodingDf()</pre></div></div></div></div></div></div></div></div><div class=\"sk-parallel-item\"><div class=\"sk-item\"><div class=\"sk-label-container\"><div class=\"sk-label sk-toggleable\"><label>categorical_preprocessor</label></div></div><div class=\"sk-serial\"><div class=\"sk-item\"><div class=\"sk-serial\"><div class=\"sk-item\"><div class=\"sk-estimator sk-toggleable\"><input class=\"sk-toggleable__control sk-hidden--visually\" id=\"aa9fccca-66a1-4fc8-8006-38b855f0086f\" type=\"checkbox\" ><label class=\"sk-toggleable__label\" for=\"aa9fccca-66a1-4fc8-8006-38b855f0086f\">FunctionTransformer</label><div class=\"sk-toggleable__content\"><pre>FunctionTransformer(func=<function categorical_select at 0x0000022796E50040>)</pre></div></div></div><div class=\"sk-item\"><div class=\"sk-estimator sk-toggleable\"><input class=\"sk-toggleable__control sk-hidden--visually\" id=\"417d31b5-1239-4039-b79d-f9c5635da706\" type=\"checkbox\" ><label class=\"sk-toggleable__label\" for=\"417d31b5-1239-4039-b79d-f9c5635da706\">OneHotEncodingDf</label><div class=\"sk-toggleable__content\"><pre>OneHotEncodingDf()</pre></div></div></div></div></div></div></div></div></div></div><div class=\"sk-item\"><div class=\"sk-estimator sk-toggleable\"><input class=\"sk-toggleable__control sk-hidden--visually\" id=\"52ebe31f-0be4-4116-bbb8-f5455a8e8a3d\" type=\"checkbox\" ><label class=\"sk-toggleable__label\" for=\"52ebe31f-0be4-4116-bbb8-f5455a8e8a3d\">LogisticRegression</label><div class=\"sk-toggleable__content\"><pre>LogisticRegression()</pre></div></div></div></div></div></div></div>"
      ],
      "text/plain": [
       "Pipeline(steps=[('preprocessing',\n",
       "                 PandasFeatureUnion(transformer_list=[('numerical_preprocessor',\n",
       "                                                       Pipeline(steps=[('numerical_selector',\n",
       "                                                                        FunctionTransformer(func=<function numerical_select at 0x0000022796FAEE50>)),\n",
       "                                                                       ('scaling',\n",
       "                                                                        StandardScalerDf())])),\n",
       "                                                      ('binary_preprocessor',\n",
       "                                                       Pipeline(steps=[('binary_selector',\n",
       "                                                                        FunctionTransformer(func=<function <lambda> at 0x0000022794744280>)),\n",
       "                                                                       ('ohe',\n",
       "                                                                        OneHotEncodingDf())])),\n",
       "                                                      ('categorical_preprocessor',\n",
       "                                                       Pipeline(steps=[('categorical_selector',\n",
       "                                                                        FunctionTransformer(func=<function categorical_select at 0x0000022796E50040>)),\n",
       "                                                                       ('ohe',\n",
       "                                                                        OneHotEncodingDf())]))])),\n",
       "                ('modelling', LogisticRegression())])"
      ]
     },
     "execution_count": 120,
     "metadata": {},
     "output_type": "execute_result"
    }
   ],
   "source": [
    "pipeline"
   ]
  },
  {
   "cell_type": "code",
   "execution_count": 121,
   "metadata": {
    "ExecuteTime": {
     "end_time": "2022-04-28T11:09:13.766268Z",
     "start_time": "2022-04-28T11:09:12.777067Z"
    },
    "scrolled": false
   },
   "outputs": [
    {
     "ename": "KeyError",
     "evalue": "\"['Happiness in life'] not in index\"",
     "output_type": "error",
     "traceback": [
      "\u001b[1;31m---------------------------------------------------------------------------\u001b[0m",
      "\u001b[1;31mKeyError\u001b[0m                                  Traceback (most recent call last)",
      "\u001b[1;32m~\\AppData\\Local\\Temp/ipykernel_12896/2746162672.py\u001b[0m in \u001b[0;36m<module>\u001b[1;34m\u001b[0m\n\u001b[1;32m----> 1\u001b[1;33m \u001b[0mpipeline\u001b[0m\u001b[1;33m.\u001b[0m\u001b[0mfit\u001b[0m\u001b[1;33m(\u001b[0m\u001b[0mdata_train\u001b[0m\u001b[1;33m.\u001b[0m\u001b[0mdrop\u001b[0m\u001b[1;33m(\u001b[0m\u001b[0mtarget\u001b[0m\u001b[1;33m,\u001b[0m \u001b[0maxis\u001b[0m\u001b[1;33m=\u001b[0m\u001b[1;36m1\u001b[0m\u001b[1;33m)\u001b[0m\u001b[1;33m,\u001b[0m \u001b[0mdata_train\u001b[0m\u001b[1;33m[\u001b[0m\u001b[0mtarget\u001b[0m\u001b[1;33m]\u001b[0m\u001b[1;33m)\u001b[0m\u001b[1;33m\u001b[0m\u001b[1;33m\u001b[0m\u001b[0m\n\u001b[0m\u001b[0;32m      2\u001b[0m \u001b[1;33m\u001b[0m\u001b[0m\n\u001b[0;32m      3\u001b[0m \u001b[1;31m# pipeline.predict_proba(data_test)\u001b[0m\u001b[1;33m\u001b[0m\u001b[1;33m\u001b[0m\u001b[0m\n",
      "\u001b[1;32m~\\anaconda3\\lib\\site-packages\\sklearn\\pipeline.py\u001b[0m in \u001b[0;36mfit\u001b[1;34m(self, X, y, **fit_params)\u001b[0m\n\u001b[0;32m    339\u001b[0m         \"\"\"\n\u001b[0;32m    340\u001b[0m         \u001b[0mfit_params_steps\u001b[0m \u001b[1;33m=\u001b[0m \u001b[0mself\u001b[0m\u001b[1;33m.\u001b[0m\u001b[0m_check_fit_params\u001b[0m\u001b[1;33m(\u001b[0m\u001b[1;33m**\u001b[0m\u001b[0mfit_params\u001b[0m\u001b[1;33m)\u001b[0m\u001b[1;33m\u001b[0m\u001b[1;33m\u001b[0m\u001b[0m\n\u001b[1;32m--> 341\u001b[1;33m         \u001b[0mXt\u001b[0m \u001b[1;33m=\u001b[0m \u001b[0mself\u001b[0m\u001b[1;33m.\u001b[0m\u001b[0m_fit\u001b[0m\u001b[1;33m(\u001b[0m\u001b[0mX\u001b[0m\u001b[1;33m,\u001b[0m \u001b[0my\u001b[0m\u001b[1;33m,\u001b[0m \u001b[1;33m**\u001b[0m\u001b[0mfit_params_steps\u001b[0m\u001b[1;33m)\u001b[0m\u001b[1;33m\u001b[0m\u001b[1;33m\u001b[0m\u001b[0m\n\u001b[0m\u001b[0;32m    342\u001b[0m         with _print_elapsed_time('Pipeline',\n\u001b[0;32m    343\u001b[0m                                  self._log_message(len(self.steps) - 1)):\n",
      "\u001b[1;32m~\\anaconda3\\lib\\site-packages\\sklearn\\pipeline.py\u001b[0m in \u001b[0;36m_fit\u001b[1;34m(self, X, y, **fit_params_steps)\u001b[0m\n\u001b[0;32m    301\u001b[0m                 \u001b[0mcloned_transformer\u001b[0m \u001b[1;33m=\u001b[0m \u001b[0mclone\u001b[0m\u001b[1;33m(\u001b[0m\u001b[0mtransformer\u001b[0m\u001b[1;33m)\u001b[0m\u001b[1;33m\u001b[0m\u001b[1;33m\u001b[0m\u001b[0m\n\u001b[0;32m    302\u001b[0m             \u001b[1;31m# Fit or load from cache the current transformer\u001b[0m\u001b[1;33m\u001b[0m\u001b[1;33m\u001b[0m\u001b[0m\n\u001b[1;32m--> 303\u001b[1;33m             X, fitted_transformer = fit_transform_one_cached(\n\u001b[0m\u001b[0;32m    304\u001b[0m                 \u001b[0mcloned_transformer\u001b[0m\u001b[1;33m,\u001b[0m \u001b[0mX\u001b[0m\u001b[1;33m,\u001b[0m \u001b[0my\u001b[0m\u001b[1;33m,\u001b[0m \u001b[1;32mNone\u001b[0m\u001b[1;33m,\u001b[0m\u001b[1;33m\u001b[0m\u001b[1;33m\u001b[0m\u001b[0m\n\u001b[0;32m    305\u001b[0m                 \u001b[0mmessage_clsname\u001b[0m\u001b[1;33m=\u001b[0m\u001b[1;34m'Pipeline'\u001b[0m\u001b[1;33m,\u001b[0m\u001b[1;33m\u001b[0m\u001b[1;33m\u001b[0m\u001b[0m\n",
      "\u001b[1;32m~\\anaconda3\\lib\\site-packages\\joblib\\memory.py\u001b[0m in \u001b[0;36m__call__\u001b[1;34m(self, *args, **kwargs)\u001b[0m\n\u001b[0;32m    347\u001b[0m \u001b[1;33m\u001b[0m\u001b[0m\n\u001b[0;32m    348\u001b[0m     \u001b[1;32mdef\u001b[0m \u001b[0m__call__\u001b[0m\u001b[1;33m(\u001b[0m\u001b[0mself\u001b[0m\u001b[1;33m,\u001b[0m \u001b[1;33m*\u001b[0m\u001b[0margs\u001b[0m\u001b[1;33m,\u001b[0m \u001b[1;33m**\u001b[0m\u001b[0mkwargs\u001b[0m\u001b[1;33m)\u001b[0m\u001b[1;33m:\u001b[0m\u001b[1;33m\u001b[0m\u001b[1;33m\u001b[0m\u001b[0m\n\u001b[1;32m--> 349\u001b[1;33m         \u001b[1;32mreturn\u001b[0m \u001b[0mself\u001b[0m\u001b[1;33m.\u001b[0m\u001b[0mfunc\u001b[0m\u001b[1;33m(\u001b[0m\u001b[1;33m*\u001b[0m\u001b[0margs\u001b[0m\u001b[1;33m,\u001b[0m \u001b[1;33m**\u001b[0m\u001b[0mkwargs\u001b[0m\u001b[1;33m)\u001b[0m\u001b[1;33m\u001b[0m\u001b[1;33m\u001b[0m\u001b[0m\n\u001b[0m\u001b[0;32m    350\u001b[0m \u001b[1;33m\u001b[0m\u001b[0m\n\u001b[0;32m    351\u001b[0m     \u001b[1;32mdef\u001b[0m \u001b[0mcall_and_shelve\u001b[0m\u001b[1;33m(\u001b[0m\u001b[0mself\u001b[0m\u001b[1;33m,\u001b[0m \u001b[1;33m*\u001b[0m\u001b[0margs\u001b[0m\u001b[1;33m,\u001b[0m \u001b[1;33m**\u001b[0m\u001b[0mkwargs\u001b[0m\u001b[1;33m)\u001b[0m\u001b[1;33m:\u001b[0m\u001b[1;33m\u001b[0m\u001b[1;33m\u001b[0m\u001b[0m\n",
      "\u001b[1;32m~\\anaconda3\\lib\\site-packages\\sklearn\\pipeline.py\u001b[0m in \u001b[0;36m_fit_transform_one\u001b[1;34m(transformer, X, y, weight, message_clsname, message, **fit_params)\u001b[0m\n\u001b[0;32m    752\u001b[0m     \u001b[1;32mwith\u001b[0m \u001b[0m_print_elapsed_time\u001b[0m\u001b[1;33m(\u001b[0m\u001b[0mmessage_clsname\u001b[0m\u001b[1;33m,\u001b[0m \u001b[0mmessage\u001b[0m\u001b[1;33m)\u001b[0m\u001b[1;33m:\u001b[0m\u001b[1;33m\u001b[0m\u001b[1;33m\u001b[0m\u001b[0m\n\u001b[0;32m    753\u001b[0m         \u001b[1;32mif\u001b[0m \u001b[0mhasattr\u001b[0m\u001b[1;33m(\u001b[0m\u001b[0mtransformer\u001b[0m\u001b[1;33m,\u001b[0m \u001b[1;34m'fit_transform'\u001b[0m\u001b[1;33m)\u001b[0m\u001b[1;33m:\u001b[0m\u001b[1;33m\u001b[0m\u001b[1;33m\u001b[0m\u001b[0m\n\u001b[1;32m--> 754\u001b[1;33m             \u001b[0mres\u001b[0m \u001b[1;33m=\u001b[0m \u001b[0mtransformer\u001b[0m\u001b[1;33m.\u001b[0m\u001b[0mfit_transform\u001b[0m\u001b[1;33m(\u001b[0m\u001b[0mX\u001b[0m\u001b[1;33m,\u001b[0m \u001b[0my\u001b[0m\u001b[1;33m,\u001b[0m \u001b[1;33m**\u001b[0m\u001b[0mfit_params\u001b[0m\u001b[1;33m)\u001b[0m\u001b[1;33m\u001b[0m\u001b[1;33m\u001b[0m\u001b[0m\n\u001b[0m\u001b[0;32m    755\u001b[0m         \u001b[1;32melse\u001b[0m\u001b[1;33m:\u001b[0m\u001b[1;33m\u001b[0m\u001b[1;33m\u001b[0m\u001b[0m\n\u001b[0;32m    756\u001b[0m             \u001b[0mres\u001b[0m \u001b[1;33m=\u001b[0m \u001b[0mtransformer\u001b[0m\u001b[1;33m.\u001b[0m\u001b[0mfit\u001b[0m\u001b[1;33m(\u001b[0m\u001b[0mX\u001b[0m\u001b[1;33m,\u001b[0m \u001b[0my\u001b[0m\u001b[1;33m,\u001b[0m \u001b[1;33m**\u001b[0m\u001b[0mfit_params\u001b[0m\u001b[1;33m)\u001b[0m\u001b[1;33m.\u001b[0m\u001b[0mtransform\u001b[0m\u001b[1;33m(\u001b[0m\u001b[0mX\u001b[0m\u001b[1;33m)\u001b[0m\u001b[1;33m\u001b[0m\u001b[1;33m\u001b[0m\u001b[0m\n",
      "\u001b[1;32m~\\AppData\\Local\\Temp/ipykernel_12896/2442193232.py\u001b[0m in \u001b[0;36mfit_transform\u001b[1;34m(self, X, y, **fit_params)\u001b[0m\n\u001b[0;32m     13\u001b[0m     \u001b[1;32mdef\u001b[0m \u001b[0mfit_transform\u001b[0m\u001b[1;33m(\u001b[0m\u001b[0mself\u001b[0m\u001b[1;33m,\u001b[0m \u001b[0mX\u001b[0m\u001b[1;33m,\u001b[0m \u001b[0my\u001b[0m\u001b[1;33m=\u001b[0m\u001b[1;32mNone\u001b[0m\u001b[1;33m,\u001b[0m \u001b[1;33m**\u001b[0m\u001b[0mfit_params\u001b[0m\u001b[1;33m)\u001b[0m\u001b[1;33m:\u001b[0m\u001b[1;33m\u001b[0m\u001b[1;33m\u001b[0m\u001b[0m\n\u001b[0;32m     14\u001b[0m         \u001b[0mself\u001b[0m\u001b[1;33m.\u001b[0m\u001b[0m_validate_transformers\u001b[0m\u001b[1;33m(\u001b[0m\u001b[1;33m)\u001b[0m\u001b[1;33m\u001b[0m\u001b[1;33m\u001b[0m\u001b[0m\n\u001b[1;32m---> 15\u001b[1;33m         result = Parallel(n_jobs=self.n_jobs)(\n\u001b[0m\u001b[0;32m     16\u001b[0m             delayed(_fit_transform_one)(\n\u001b[0;32m     17\u001b[0m                 \u001b[0mtransformer\u001b[0m\u001b[1;33m=\u001b[0m\u001b[0mtrans\u001b[0m\u001b[1;33m,\u001b[0m\u001b[1;33m\u001b[0m\u001b[1;33m\u001b[0m\u001b[0m\n",
      "\u001b[1;32m~\\anaconda3\\lib\\site-packages\\joblib\\parallel.py\u001b[0m in \u001b[0;36m__call__\u001b[1;34m(self, iterable)\u001b[0m\n\u001b[0;32m   1041\u001b[0m             \u001b[1;31m# remaining jobs.\u001b[0m\u001b[1;33m\u001b[0m\u001b[1;33m\u001b[0m\u001b[0m\n\u001b[0;32m   1042\u001b[0m             \u001b[0mself\u001b[0m\u001b[1;33m.\u001b[0m\u001b[0m_iterating\u001b[0m \u001b[1;33m=\u001b[0m \u001b[1;32mFalse\u001b[0m\u001b[1;33m\u001b[0m\u001b[1;33m\u001b[0m\u001b[0m\n\u001b[1;32m-> 1043\u001b[1;33m             \u001b[1;32mif\u001b[0m \u001b[0mself\u001b[0m\u001b[1;33m.\u001b[0m\u001b[0mdispatch_one_batch\u001b[0m\u001b[1;33m(\u001b[0m\u001b[0miterator\u001b[0m\u001b[1;33m)\u001b[0m\u001b[1;33m:\u001b[0m\u001b[1;33m\u001b[0m\u001b[1;33m\u001b[0m\u001b[0m\n\u001b[0m\u001b[0;32m   1044\u001b[0m                 \u001b[0mself\u001b[0m\u001b[1;33m.\u001b[0m\u001b[0m_iterating\u001b[0m \u001b[1;33m=\u001b[0m \u001b[0mself\u001b[0m\u001b[1;33m.\u001b[0m\u001b[0m_original_iterator\u001b[0m \u001b[1;32mis\u001b[0m \u001b[1;32mnot\u001b[0m \u001b[1;32mNone\u001b[0m\u001b[1;33m\u001b[0m\u001b[1;33m\u001b[0m\u001b[0m\n\u001b[0;32m   1045\u001b[0m \u001b[1;33m\u001b[0m\u001b[0m\n",
      "\u001b[1;32m~\\anaconda3\\lib\\site-packages\\joblib\\parallel.py\u001b[0m in \u001b[0;36mdispatch_one_batch\u001b[1;34m(self, iterator)\u001b[0m\n\u001b[0;32m    859\u001b[0m                 \u001b[1;32mreturn\u001b[0m \u001b[1;32mFalse\u001b[0m\u001b[1;33m\u001b[0m\u001b[1;33m\u001b[0m\u001b[0m\n\u001b[0;32m    860\u001b[0m             \u001b[1;32melse\u001b[0m\u001b[1;33m:\u001b[0m\u001b[1;33m\u001b[0m\u001b[1;33m\u001b[0m\u001b[0m\n\u001b[1;32m--> 861\u001b[1;33m                 \u001b[0mself\u001b[0m\u001b[1;33m.\u001b[0m\u001b[0m_dispatch\u001b[0m\u001b[1;33m(\u001b[0m\u001b[0mtasks\u001b[0m\u001b[1;33m)\u001b[0m\u001b[1;33m\u001b[0m\u001b[1;33m\u001b[0m\u001b[0m\n\u001b[0m\u001b[0;32m    862\u001b[0m                 \u001b[1;32mreturn\u001b[0m \u001b[1;32mTrue\u001b[0m\u001b[1;33m\u001b[0m\u001b[1;33m\u001b[0m\u001b[0m\n\u001b[0;32m    863\u001b[0m \u001b[1;33m\u001b[0m\u001b[0m\n",
      "\u001b[1;32m~\\anaconda3\\lib\\site-packages\\joblib\\parallel.py\u001b[0m in \u001b[0;36m_dispatch\u001b[1;34m(self, batch)\u001b[0m\n\u001b[0;32m    777\u001b[0m         \u001b[1;32mwith\u001b[0m \u001b[0mself\u001b[0m\u001b[1;33m.\u001b[0m\u001b[0m_lock\u001b[0m\u001b[1;33m:\u001b[0m\u001b[1;33m\u001b[0m\u001b[1;33m\u001b[0m\u001b[0m\n\u001b[0;32m    778\u001b[0m             \u001b[0mjob_idx\u001b[0m \u001b[1;33m=\u001b[0m \u001b[0mlen\u001b[0m\u001b[1;33m(\u001b[0m\u001b[0mself\u001b[0m\u001b[1;33m.\u001b[0m\u001b[0m_jobs\u001b[0m\u001b[1;33m)\u001b[0m\u001b[1;33m\u001b[0m\u001b[1;33m\u001b[0m\u001b[0m\n\u001b[1;32m--> 779\u001b[1;33m             \u001b[0mjob\u001b[0m \u001b[1;33m=\u001b[0m \u001b[0mself\u001b[0m\u001b[1;33m.\u001b[0m\u001b[0m_backend\u001b[0m\u001b[1;33m.\u001b[0m\u001b[0mapply_async\u001b[0m\u001b[1;33m(\u001b[0m\u001b[0mbatch\u001b[0m\u001b[1;33m,\u001b[0m \u001b[0mcallback\u001b[0m\u001b[1;33m=\u001b[0m\u001b[0mcb\u001b[0m\u001b[1;33m)\u001b[0m\u001b[1;33m\u001b[0m\u001b[1;33m\u001b[0m\u001b[0m\n\u001b[0m\u001b[0;32m    780\u001b[0m             \u001b[1;31m# A job can complete so quickly than its callback is\u001b[0m\u001b[1;33m\u001b[0m\u001b[1;33m\u001b[0m\u001b[0m\n\u001b[0;32m    781\u001b[0m             \u001b[1;31m# called before we get here, causing self._jobs to\u001b[0m\u001b[1;33m\u001b[0m\u001b[1;33m\u001b[0m\u001b[0m\n",
      "\u001b[1;32m~\\anaconda3\\lib\\site-packages\\joblib\\_parallel_backends.py\u001b[0m in \u001b[0;36mapply_async\u001b[1;34m(self, func, callback)\u001b[0m\n\u001b[0;32m    206\u001b[0m     \u001b[1;32mdef\u001b[0m \u001b[0mapply_async\u001b[0m\u001b[1;33m(\u001b[0m\u001b[0mself\u001b[0m\u001b[1;33m,\u001b[0m \u001b[0mfunc\u001b[0m\u001b[1;33m,\u001b[0m \u001b[0mcallback\u001b[0m\u001b[1;33m=\u001b[0m\u001b[1;32mNone\u001b[0m\u001b[1;33m)\u001b[0m\u001b[1;33m:\u001b[0m\u001b[1;33m\u001b[0m\u001b[1;33m\u001b[0m\u001b[0m\n\u001b[0;32m    207\u001b[0m         \u001b[1;34m\"\"\"Schedule a func to be run\"\"\"\u001b[0m\u001b[1;33m\u001b[0m\u001b[1;33m\u001b[0m\u001b[0m\n\u001b[1;32m--> 208\u001b[1;33m         \u001b[0mresult\u001b[0m \u001b[1;33m=\u001b[0m \u001b[0mImmediateResult\u001b[0m\u001b[1;33m(\u001b[0m\u001b[0mfunc\u001b[0m\u001b[1;33m)\u001b[0m\u001b[1;33m\u001b[0m\u001b[1;33m\u001b[0m\u001b[0m\n\u001b[0m\u001b[0;32m    209\u001b[0m         \u001b[1;32mif\u001b[0m \u001b[0mcallback\u001b[0m\u001b[1;33m:\u001b[0m\u001b[1;33m\u001b[0m\u001b[1;33m\u001b[0m\u001b[0m\n\u001b[0;32m    210\u001b[0m             \u001b[0mcallback\u001b[0m\u001b[1;33m(\u001b[0m\u001b[0mresult\u001b[0m\u001b[1;33m)\u001b[0m\u001b[1;33m\u001b[0m\u001b[1;33m\u001b[0m\u001b[0m\n",
      "\u001b[1;32m~\\anaconda3\\lib\\site-packages\\joblib\\_parallel_backends.py\u001b[0m in \u001b[0;36m__init__\u001b[1;34m(self, batch)\u001b[0m\n\u001b[0;32m    570\u001b[0m         \u001b[1;31m# Don't delay the application, to avoid keeping the input\u001b[0m\u001b[1;33m\u001b[0m\u001b[1;33m\u001b[0m\u001b[0m\n\u001b[0;32m    571\u001b[0m         \u001b[1;31m# arguments in memory\u001b[0m\u001b[1;33m\u001b[0m\u001b[1;33m\u001b[0m\u001b[0m\n\u001b[1;32m--> 572\u001b[1;33m         \u001b[0mself\u001b[0m\u001b[1;33m.\u001b[0m\u001b[0mresults\u001b[0m \u001b[1;33m=\u001b[0m \u001b[0mbatch\u001b[0m\u001b[1;33m(\u001b[0m\u001b[1;33m)\u001b[0m\u001b[1;33m\u001b[0m\u001b[1;33m\u001b[0m\u001b[0m\n\u001b[0m\u001b[0;32m    573\u001b[0m \u001b[1;33m\u001b[0m\u001b[0m\n\u001b[0;32m    574\u001b[0m     \u001b[1;32mdef\u001b[0m \u001b[0mget\u001b[0m\u001b[1;33m(\u001b[0m\u001b[0mself\u001b[0m\u001b[1;33m)\u001b[0m\u001b[1;33m:\u001b[0m\u001b[1;33m\u001b[0m\u001b[1;33m\u001b[0m\u001b[0m\n",
      "\u001b[1;32m~\\anaconda3\\lib\\site-packages\\joblib\\parallel.py\u001b[0m in \u001b[0;36m__call__\u001b[1;34m(self)\u001b[0m\n\u001b[0;32m    260\u001b[0m         \u001b[1;31m# change the default number of processes to -1\u001b[0m\u001b[1;33m\u001b[0m\u001b[1;33m\u001b[0m\u001b[0m\n\u001b[0;32m    261\u001b[0m         \u001b[1;32mwith\u001b[0m \u001b[0mparallel_backend\u001b[0m\u001b[1;33m(\u001b[0m\u001b[0mself\u001b[0m\u001b[1;33m.\u001b[0m\u001b[0m_backend\u001b[0m\u001b[1;33m,\u001b[0m \u001b[0mn_jobs\u001b[0m\u001b[1;33m=\u001b[0m\u001b[0mself\u001b[0m\u001b[1;33m.\u001b[0m\u001b[0m_n_jobs\u001b[0m\u001b[1;33m)\u001b[0m\u001b[1;33m:\u001b[0m\u001b[1;33m\u001b[0m\u001b[1;33m\u001b[0m\u001b[0m\n\u001b[1;32m--> 262\u001b[1;33m             return [func(*args, **kwargs)\n\u001b[0m\u001b[0;32m    263\u001b[0m                     for func, args, kwargs in self.items]\n\u001b[0;32m    264\u001b[0m \u001b[1;33m\u001b[0m\u001b[0m\n",
      "\u001b[1;32m~\\anaconda3\\lib\\site-packages\\joblib\\parallel.py\u001b[0m in \u001b[0;36m<listcomp>\u001b[1;34m(.0)\u001b[0m\n\u001b[0;32m    260\u001b[0m         \u001b[1;31m# change the default number of processes to -1\u001b[0m\u001b[1;33m\u001b[0m\u001b[1;33m\u001b[0m\u001b[0m\n\u001b[0;32m    261\u001b[0m         \u001b[1;32mwith\u001b[0m \u001b[0mparallel_backend\u001b[0m\u001b[1;33m(\u001b[0m\u001b[0mself\u001b[0m\u001b[1;33m.\u001b[0m\u001b[0m_backend\u001b[0m\u001b[1;33m,\u001b[0m \u001b[0mn_jobs\u001b[0m\u001b[1;33m=\u001b[0m\u001b[0mself\u001b[0m\u001b[1;33m.\u001b[0m\u001b[0m_n_jobs\u001b[0m\u001b[1;33m)\u001b[0m\u001b[1;33m:\u001b[0m\u001b[1;33m\u001b[0m\u001b[1;33m\u001b[0m\u001b[0m\n\u001b[1;32m--> 262\u001b[1;33m             return [func(*args, **kwargs)\n\u001b[0m\u001b[0;32m    263\u001b[0m                     for func, args, kwargs in self.items]\n\u001b[0;32m    264\u001b[0m \u001b[1;33m\u001b[0m\u001b[0m\n",
      "\u001b[1;32m~\\anaconda3\\lib\\site-packages\\sklearn\\pipeline.py\u001b[0m in \u001b[0;36m_fit_transform_one\u001b[1;34m(transformer, X, y, weight, message_clsname, message, **fit_params)\u001b[0m\n\u001b[0;32m    752\u001b[0m     \u001b[1;32mwith\u001b[0m \u001b[0m_print_elapsed_time\u001b[0m\u001b[1;33m(\u001b[0m\u001b[0mmessage_clsname\u001b[0m\u001b[1;33m,\u001b[0m \u001b[0mmessage\u001b[0m\u001b[1;33m)\u001b[0m\u001b[1;33m:\u001b[0m\u001b[1;33m\u001b[0m\u001b[1;33m\u001b[0m\u001b[0m\n\u001b[0;32m    753\u001b[0m         \u001b[1;32mif\u001b[0m \u001b[0mhasattr\u001b[0m\u001b[1;33m(\u001b[0m\u001b[0mtransformer\u001b[0m\u001b[1;33m,\u001b[0m \u001b[1;34m'fit_transform'\u001b[0m\u001b[1;33m)\u001b[0m\u001b[1;33m:\u001b[0m\u001b[1;33m\u001b[0m\u001b[1;33m\u001b[0m\u001b[0m\n\u001b[1;32m--> 754\u001b[1;33m             \u001b[0mres\u001b[0m \u001b[1;33m=\u001b[0m \u001b[0mtransformer\u001b[0m\u001b[1;33m.\u001b[0m\u001b[0mfit_transform\u001b[0m\u001b[1;33m(\u001b[0m\u001b[0mX\u001b[0m\u001b[1;33m,\u001b[0m \u001b[0my\u001b[0m\u001b[1;33m,\u001b[0m \u001b[1;33m**\u001b[0m\u001b[0mfit_params\u001b[0m\u001b[1;33m)\u001b[0m\u001b[1;33m\u001b[0m\u001b[1;33m\u001b[0m\u001b[0m\n\u001b[0m\u001b[0;32m    755\u001b[0m         \u001b[1;32melse\u001b[0m\u001b[1;33m:\u001b[0m\u001b[1;33m\u001b[0m\u001b[1;33m\u001b[0m\u001b[0m\n\u001b[0;32m    756\u001b[0m             \u001b[0mres\u001b[0m \u001b[1;33m=\u001b[0m \u001b[0mtransformer\u001b[0m\u001b[1;33m.\u001b[0m\u001b[0mfit\u001b[0m\u001b[1;33m(\u001b[0m\u001b[0mX\u001b[0m\u001b[1;33m,\u001b[0m \u001b[0my\u001b[0m\u001b[1;33m,\u001b[0m \u001b[1;33m**\u001b[0m\u001b[0mfit_params\u001b[0m\u001b[1;33m)\u001b[0m\u001b[1;33m.\u001b[0m\u001b[0mtransform\u001b[0m\u001b[1;33m(\u001b[0m\u001b[0mX\u001b[0m\u001b[1;33m)\u001b[0m\u001b[1;33m\u001b[0m\u001b[1;33m\u001b[0m\u001b[0m\n",
      "\u001b[1;32m~\\anaconda3\\lib\\site-packages\\sklearn\\pipeline.py\u001b[0m in \u001b[0;36mfit_transform\u001b[1;34m(self, X, y, **fit_params)\u001b[0m\n\u001b[0;32m    376\u001b[0m         \"\"\"\n\u001b[0;32m    377\u001b[0m         \u001b[0mfit_params_steps\u001b[0m \u001b[1;33m=\u001b[0m \u001b[0mself\u001b[0m\u001b[1;33m.\u001b[0m\u001b[0m_check_fit_params\u001b[0m\u001b[1;33m(\u001b[0m\u001b[1;33m**\u001b[0m\u001b[0mfit_params\u001b[0m\u001b[1;33m)\u001b[0m\u001b[1;33m\u001b[0m\u001b[1;33m\u001b[0m\u001b[0m\n\u001b[1;32m--> 378\u001b[1;33m         \u001b[0mXt\u001b[0m \u001b[1;33m=\u001b[0m \u001b[0mself\u001b[0m\u001b[1;33m.\u001b[0m\u001b[0m_fit\u001b[0m\u001b[1;33m(\u001b[0m\u001b[0mX\u001b[0m\u001b[1;33m,\u001b[0m \u001b[0my\u001b[0m\u001b[1;33m,\u001b[0m \u001b[1;33m**\u001b[0m\u001b[0mfit_params_steps\u001b[0m\u001b[1;33m)\u001b[0m\u001b[1;33m\u001b[0m\u001b[1;33m\u001b[0m\u001b[0m\n\u001b[0m\u001b[0;32m    379\u001b[0m \u001b[1;33m\u001b[0m\u001b[0m\n\u001b[0;32m    380\u001b[0m         \u001b[0mlast_step\u001b[0m \u001b[1;33m=\u001b[0m \u001b[0mself\u001b[0m\u001b[1;33m.\u001b[0m\u001b[0m_final_estimator\u001b[0m\u001b[1;33m\u001b[0m\u001b[1;33m\u001b[0m\u001b[0m\n",
      "\u001b[1;32m~\\anaconda3\\lib\\site-packages\\sklearn\\pipeline.py\u001b[0m in \u001b[0;36m_fit\u001b[1;34m(self, X, y, **fit_params_steps)\u001b[0m\n\u001b[0;32m    301\u001b[0m                 \u001b[0mcloned_transformer\u001b[0m \u001b[1;33m=\u001b[0m \u001b[0mclone\u001b[0m\u001b[1;33m(\u001b[0m\u001b[0mtransformer\u001b[0m\u001b[1;33m)\u001b[0m\u001b[1;33m\u001b[0m\u001b[1;33m\u001b[0m\u001b[0m\n\u001b[0;32m    302\u001b[0m             \u001b[1;31m# Fit or load from cache the current transformer\u001b[0m\u001b[1;33m\u001b[0m\u001b[1;33m\u001b[0m\u001b[0m\n\u001b[1;32m--> 303\u001b[1;33m             X, fitted_transformer = fit_transform_one_cached(\n\u001b[0m\u001b[0;32m    304\u001b[0m                 \u001b[0mcloned_transformer\u001b[0m\u001b[1;33m,\u001b[0m \u001b[0mX\u001b[0m\u001b[1;33m,\u001b[0m \u001b[0my\u001b[0m\u001b[1;33m,\u001b[0m \u001b[1;32mNone\u001b[0m\u001b[1;33m,\u001b[0m\u001b[1;33m\u001b[0m\u001b[1;33m\u001b[0m\u001b[0m\n\u001b[0;32m    305\u001b[0m                 \u001b[0mmessage_clsname\u001b[0m\u001b[1;33m=\u001b[0m\u001b[1;34m'Pipeline'\u001b[0m\u001b[1;33m,\u001b[0m\u001b[1;33m\u001b[0m\u001b[1;33m\u001b[0m\u001b[0m\n",
      "\u001b[1;32m~\\anaconda3\\lib\\site-packages\\joblib\\memory.py\u001b[0m in \u001b[0;36m__call__\u001b[1;34m(self, *args, **kwargs)\u001b[0m\n\u001b[0;32m    347\u001b[0m \u001b[1;33m\u001b[0m\u001b[0m\n\u001b[0;32m    348\u001b[0m     \u001b[1;32mdef\u001b[0m \u001b[0m__call__\u001b[0m\u001b[1;33m(\u001b[0m\u001b[0mself\u001b[0m\u001b[1;33m,\u001b[0m \u001b[1;33m*\u001b[0m\u001b[0margs\u001b[0m\u001b[1;33m,\u001b[0m \u001b[1;33m**\u001b[0m\u001b[0mkwargs\u001b[0m\u001b[1;33m)\u001b[0m\u001b[1;33m:\u001b[0m\u001b[1;33m\u001b[0m\u001b[1;33m\u001b[0m\u001b[0m\n\u001b[1;32m--> 349\u001b[1;33m         \u001b[1;32mreturn\u001b[0m \u001b[0mself\u001b[0m\u001b[1;33m.\u001b[0m\u001b[0mfunc\u001b[0m\u001b[1;33m(\u001b[0m\u001b[1;33m*\u001b[0m\u001b[0margs\u001b[0m\u001b[1;33m,\u001b[0m \u001b[1;33m**\u001b[0m\u001b[0mkwargs\u001b[0m\u001b[1;33m)\u001b[0m\u001b[1;33m\u001b[0m\u001b[1;33m\u001b[0m\u001b[0m\n\u001b[0m\u001b[0;32m    350\u001b[0m \u001b[1;33m\u001b[0m\u001b[0m\n\u001b[0;32m    351\u001b[0m     \u001b[1;32mdef\u001b[0m \u001b[0mcall_and_shelve\u001b[0m\u001b[1;33m(\u001b[0m\u001b[0mself\u001b[0m\u001b[1;33m,\u001b[0m \u001b[1;33m*\u001b[0m\u001b[0margs\u001b[0m\u001b[1;33m,\u001b[0m \u001b[1;33m**\u001b[0m\u001b[0mkwargs\u001b[0m\u001b[1;33m)\u001b[0m\u001b[1;33m:\u001b[0m\u001b[1;33m\u001b[0m\u001b[1;33m\u001b[0m\u001b[0m\n",
      "\u001b[1;32m~\\anaconda3\\lib\\site-packages\\sklearn\\pipeline.py\u001b[0m in \u001b[0;36m_fit_transform_one\u001b[1;34m(transformer, X, y, weight, message_clsname, message, **fit_params)\u001b[0m\n\u001b[0;32m    752\u001b[0m     \u001b[1;32mwith\u001b[0m \u001b[0m_print_elapsed_time\u001b[0m\u001b[1;33m(\u001b[0m\u001b[0mmessage_clsname\u001b[0m\u001b[1;33m,\u001b[0m \u001b[0mmessage\u001b[0m\u001b[1;33m)\u001b[0m\u001b[1;33m:\u001b[0m\u001b[1;33m\u001b[0m\u001b[1;33m\u001b[0m\u001b[0m\n\u001b[0;32m    753\u001b[0m         \u001b[1;32mif\u001b[0m \u001b[0mhasattr\u001b[0m\u001b[1;33m(\u001b[0m\u001b[0mtransformer\u001b[0m\u001b[1;33m,\u001b[0m \u001b[1;34m'fit_transform'\u001b[0m\u001b[1;33m)\u001b[0m\u001b[1;33m:\u001b[0m\u001b[1;33m\u001b[0m\u001b[1;33m\u001b[0m\u001b[0m\n\u001b[1;32m--> 754\u001b[1;33m             \u001b[0mres\u001b[0m \u001b[1;33m=\u001b[0m \u001b[0mtransformer\u001b[0m\u001b[1;33m.\u001b[0m\u001b[0mfit_transform\u001b[0m\u001b[1;33m(\u001b[0m\u001b[0mX\u001b[0m\u001b[1;33m,\u001b[0m \u001b[0my\u001b[0m\u001b[1;33m,\u001b[0m \u001b[1;33m**\u001b[0m\u001b[0mfit_params\u001b[0m\u001b[1;33m)\u001b[0m\u001b[1;33m\u001b[0m\u001b[1;33m\u001b[0m\u001b[0m\n\u001b[0m\u001b[0;32m    755\u001b[0m         \u001b[1;32melse\u001b[0m\u001b[1;33m:\u001b[0m\u001b[1;33m\u001b[0m\u001b[1;33m\u001b[0m\u001b[0m\n\u001b[0;32m    756\u001b[0m             \u001b[0mres\u001b[0m \u001b[1;33m=\u001b[0m \u001b[0mtransformer\u001b[0m\u001b[1;33m.\u001b[0m\u001b[0mfit\u001b[0m\u001b[1;33m(\u001b[0m\u001b[0mX\u001b[0m\u001b[1;33m,\u001b[0m \u001b[0my\u001b[0m\u001b[1;33m,\u001b[0m \u001b[1;33m**\u001b[0m\u001b[0mfit_params\u001b[0m\u001b[1;33m)\u001b[0m\u001b[1;33m.\u001b[0m\u001b[0mtransform\u001b[0m\u001b[1;33m(\u001b[0m\u001b[0mX\u001b[0m\u001b[1;33m)\u001b[0m\u001b[1;33m\u001b[0m\u001b[1;33m\u001b[0m\u001b[0m\n",
      "\u001b[1;32m~\\anaconda3\\lib\\site-packages\\sklearn\\base.py\u001b[0m in \u001b[0;36mfit_transform\u001b[1;34m(self, X, y, **fit_params)\u001b[0m\n\u001b[0;32m    700\u001b[0m         \u001b[1;32melse\u001b[0m\u001b[1;33m:\u001b[0m\u001b[1;33m\u001b[0m\u001b[1;33m\u001b[0m\u001b[0m\n\u001b[0;32m    701\u001b[0m             \u001b[1;31m# fit method of arity 2 (supervised transformation)\u001b[0m\u001b[1;33m\u001b[0m\u001b[1;33m\u001b[0m\u001b[0m\n\u001b[1;32m--> 702\u001b[1;33m             \u001b[1;32mreturn\u001b[0m \u001b[0mself\u001b[0m\u001b[1;33m.\u001b[0m\u001b[0mfit\u001b[0m\u001b[1;33m(\u001b[0m\u001b[0mX\u001b[0m\u001b[1;33m,\u001b[0m \u001b[0my\u001b[0m\u001b[1;33m,\u001b[0m \u001b[1;33m**\u001b[0m\u001b[0mfit_params\u001b[0m\u001b[1;33m)\u001b[0m\u001b[1;33m.\u001b[0m\u001b[0mtransform\u001b[0m\u001b[1;33m(\u001b[0m\u001b[0mX\u001b[0m\u001b[1;33m)\u001b[0m\u001b[1;33m\u001b[0m\u001b[1;33m\u001b[0m\u001b[0m\n\u001b[0m\u001b[0;32m    703\u001b[0m \u001b[1;33m\u001b[0m\u001b[0m\n\u001b[0;32m    704\u001b[0m \u001b[1;33m\u001b[0m\u001b[0m\n",
      "\u001b[1;32m~\\anaconda3\\lib\\site-packages\\sklearn\\preprocessing\\_function_transformer.py\u001b[0m in \u001b[0;36mtransform\u001b[1;34m(self, X)\u001b[0m\n\u001b[0;32m    145\u001b[0m             \u001b[0mTransformed\u001b[0m \u001b[0minput\u001b[0m\u001b[1;33m.\u001b[0m\u001b[1;33m\u001b[0m\u001b[1;33m\u001b[0m\u001b[0m\n\u001b[0;32m    146\u001b[0m         \"\"\"\n\u001b[1;32m--> 147\u001b[1;33m         \u001b[1;32mreturn\u001b[0m \u001b[0mself\u001b[0m\u001b[1;33m.\u001b[0m\u001b[0m_transform\u001b[0m\u001b[1;33m(\u001b[0m\u001b[0mX\u001b[0m\u001b[1;33m,\u001b[0m \u001b[0mfunc\u001b[0m\u001b[1;33m=\u001b[0m\u001b[0mself\u001b[0m\u001b[1;33m.\u001b[0m\u001b[0mfunc\u001b[0m\u001b[1;33m,\u001b[0m \u001b[0mkw_args\u001b[0m\u001b[1;33m=\u001b[0m\u001b[0mself\u001b[0m\u001b[1;33m.\u001b[0m\u001b[0mkw_args\u001b[0m\u001b[1;33m)\u001b[0m\u001b[1;33m\u001b[0m\u001b[1;33m\u001b[0m\u001b[0m\n\u001b[0m\u001b[0;32m    148\u001b[0m \u001b[1;33m\u001b[0m\u001b[0m\n\u001b[0;32m    149\u001b[0m     \u001b[1;32mdef\u001b[0m \u001b[0minverse_transform\u001b[0m\u001b[1;33m(\u001b[0m\u001b[0mself\u001b[0m\u001b[1;33m,\u001b[0m \u001b[0mX\u001b[0m\u001b[1;33m)\u001b[0m\u001b[1;33m:\u001b[0m\u001b[1;33m\u001b[0m\u001b[1;33m\u001b[0m\u001b[0m\n",
      "\u001b[1;32m~\\anaconda3\\lib\\site-packages\\sklearn\\preprocessing\\_function_transformer.py\u001b[0m in \u001b[0;36m_transform\u001b[1;34m(self, X, func, kw_args)\u001b[0m\n\u001b[0;32m    169\u001b[0m             \u001b[0mfunc\u001b[0m \u001b[1;33m=\u001b[0m \u001b[0m_identity\u001b[0m\u001b[1;33m\u001b[0m\u001b[1;33m\u001b[0m\u001b[0m\n\u001b[0;32m    170\u001b[0m \u001b[1;33m\u001b[0m\u001b[0m\n\u001b[1;32m--> 171\u001b[1;33m         \u001b[1;32mreturn\u001b[0m \u001b[0mfunc\u001b[0m\u001b[1;33m(\u001b[0m\u001b[0mX\u001b[0m\u001b[1;33m,\u001b[0m \u001b[1;33m**\u001b[0m\u001b[1;33m(\u001b[0m\u001b[0mkw_args\u001b[0m \u001b[1;32mif\u001b[0m \u001b[0mkw_args\u001b[0m \u001b[1;32melse\u001b[0m \u001b[1;33m{\u001b[0m\u001b[1;33m}\u001b[0m\u001b[1;33m)\u001b[0m\u001b[1;33m)\u001b[0m\u001b[1;33m\u001b[0m\u001b[1;33m\u001b[0m\u001b[0m\n\u001b[0m\u001b[0;32m    172\u001b[0m \u001b[1;33m\u001b[0m\u001b[0m\n\u001b[0;32m    173\u001b[0m     \u001b[1;32mdef\u001b[0m \u001b[0m_more_tags\u001b[0m\u001b[1;33m(\u001b[0m\u001b[0mself\u001b[0m\u001b[1;33m)\u001b[0m\u001b[1;33m:\u001b[0m\u001b[1;33m\u001b[0m\u001b[1;33m\u001b[0m\u001b[0m\n",
      "\u001b[1;32m~\\AppData\\Local\\Temp/ipykernel_12896/3177059731.py\u001b[0m in \u001b[0;36mnumerical_select\u001b[1;34m(data)\u001b[0m\n\u001b[0;32m      4\u001b[0m     \u001b[0mdata\u001b[0m\u001b[1;33m[\u001b[0m\u001b[1;34m'random_values'\u001b[0m\u001b[1;33m]\u001b[0m \u001b[1;33m=\u001b[0m \u001b[0mnp\u001b[0m\u001b[1;33m.\u001b[0m\u001b[0mrandom\u001b[0m\u001b[1;33m.\u001b[0m\u001b[0mnormal\u001b[0m\u001b[1;33m(\u001b[0m\u001b[0msize\u001b[0m \u001b[1;33m=\u001b[0m \u001b[0mlen\u001b[0m\u001b[1;33m(\u001b[0m\u001b[0mdata\u001b[0m\u001b[1;33m)\u001b[0m\u001b[1;33m)\u001b[0m\u001b[1;33m\u001b[0m\u001b[1;33m\u001b[0m\u001b[0m\n\u001b[0;32m      5\u001b[0m \u001b[1;33m\u001b[0m\u001b[0m\n\u001b[1;32m----> 6\u001b[1;33m     \u001b[1;32mreturn\u001b[0m \u001b[0mdata\u001b[0m\u001b[1;33m[\u001b[0m\u001b[0mnumerical_features\u001b[0m \u001b[1;33m+\u001b[0m \u001b[1;33m[\u001b[0m\u001b[1;34m'random_values'\u001b[0m\u001b[1;33m]\u001b[0m\u001b[1;33m]\u001b[0m\u001b[1;33m\u001b[0m\u001b[1;33m\u001b[0m\u001b[0m\n\u001b[0m\u001b[0;32m      7\u001b[0m \u001b[1;33m\u001b[0m\u001b[0m\n\u001b[0;32m      8\u001b[0m \u001b[1;31m# Превращаем функцию в трансформер\u001b[0m\u001b[1;33m\u001b[0m\u001b[1;33m\u001b[0m\u001b[0m\n",
      "\u001b[1;32m~\\anaconda3\\lib\\site-packages\\pandas\\core\\frame.py\u001b[0m in \u001b[0;36m__getitem__\u001b[1;34m(self, key)\u001b[0m\n\u001b[0;32m   3462\u001b[0m             \u001b[1;32mif\u001b[0m \u001b[0mis_iterator\u001b[0m\u001b[1;33m(\u001b[0m\u001b[0mkey\u001b[0m\u001b[1;33m)\u001b[0m\u001b[1;33m:\u001b[0m\u001b[1;33m\u001b[0m\u001b[1;33m\u001b[0m\u001b[0m\n\u001b[0;32m   3463\u001b[0m                 \u001b[0mkey\u001b[0m \u001b[1;33m=\u001b[0m \u001b[0mlist\u001b[0m\u001b[1;33m(\u001b[0m\u001b[0mkey\u001b[0m\u001b[1;33m)\u001b[0m\u001b[1;33m\u001b[0m\u001b[1;33m\u001b[0m\u001b[0m\n\u001b[1;32m-> 3464\u001b[1;33m             \u001b[0mindexer\u001b[0m \u001b[1;33m=\u001b[0m \u001b[0mself\u001b[0m\u001b[1;33m.\u001b[0m\u001b[0mloc\u001b[0m\u001b[1;33m.\u001b[0m\u001b[0m_get_listlike_indexer\u001b[0m\u001b[1;33m(\u001b[0m\u001b[0mkey\u001b[0m\u001b[1;33m,\u001b[0m \u001b[0maxis\u001b[0m\u001b[1;33m=\u001b[0m\u001b[1;36m1\u001b[0m\u001b[1;33m)\u001b[0m\u001b[1;33m[\u001b[0m\u001b[1;36m1\u001b[0m\u001b[1;33m]\u001b[0m\u001b[1;33m\u001b[0m\u001b[1;33m\u001b[0m\u001b[0m\n\u001b[0m\u001b[0;32m   3465\u001b[0m \u001b[1;33m\u001b[0m\u001b[0m\n\u001b[0;32m   3466\u001b[0m         \u001b[1;31m# take() does not accept boolean indexers\u001b[0m\u001b[1;33m\u001b[0m\u001b[1;33m\u001b[0m\u001b[0m\n",
      "\u001b[1;32m~\\anaconda3\\lib\\site-packages\\pandas\\core\\indexing.py\u001b[0m in \u001b[0;36m_get_listlike_indexer\u001b[1;34m(self, key, axis)\u001b[0m\n\u001b[0;32m   1312\u001b[0m             \u001b[0mkeyarr\u001b[0m\u001b[1;33m,\u001b[0m \u001b[0mindexer\u001b[0m\u001b[1;33m,\u001b[0m \u001b[0mnew_indexer\u001b[0m \u001b[1;33m=\u001b[0m \u001b[0max\u001b[0m\u001b[1;33m.\u001b[0m\u001b[0m_reindex_non_unique\u001b[0m\u001b[1;33m(\u001b[0m\u001b[0mkeyarr\u001b[0m\u001b[1;33m)\u001b[0m\u001b[1;33m\u001b[0m\u001b[1;33m\u001b[0m\u001b[0m\n\u001b[0;32m   1313\u001b[0m \u001b[1;33m\u001b[0m\u001b[0m\n\u001b[1;32m-> 1314\u001b[1;33m         \u001b[0mself\u001b[0m\u001b[1;33m.\u001b[0m\u001b[0m_validate_read_indexer\u001b[0m\u001b[1;33m(\u001b[0m\u001b[0mkeyarr\u001b[0m\u001b[1;33m,\u001b[0m \u001b[0mindexer\u001b[0m\u001b[1;33m,\u001b[0m \u001b[0maxis\u001b[0m\u001b[1;33m)\u001b[0m\u001b[1;33m\u001b[0m\u001b[1;33m\u001b[0m\u001b[0m\n\u001b[0m\u001b[0;32m   1315\u001b[0m \u001b[1;33m\u001b[0m\u001b[0m\n\u001b[0;32m   1316\u001b[0m         if needs_i8_conversion(ax.dtype) or isinstance(\n",
      "\u001b[1;32m~\\anaconda3\\lib\\site-packages\\pandas\\core\\indexing.py\u001b[0m in \u001b[0;36m_validate_read_indexer\u001b[1;34m(self, key, indexer, axis)\u001b[0m\n\u001b[0;32m   1375\u001b[0m \u001b[1;33m\u001b[0m\u001b[0m\n\u001b[0;32m   1376\u001b[0m             \u001b[0mnot_found\u001b[0m \u001b[1;33m=\u001b[0m \u001b[0mlist\u001b[0m\u001b[1;33m(\u001b[0m\u001b[0mensure_index\u001b[0m\u001b[1;33m(\u001b[0m\u001b[0mkey\u001b[0m\u001b[1;33m)\u001b[0m\u001b[1;33m[\u001b[0m\u001b[0mmissing_mask\u001b[0m\u001b[1;33m.\u001b[0m\u001b[0mnonzero\u001b[0m\u001b[1;33m(\u001b[0m\u001b[1;33m)\u001b[0m\u001b[1;33m[\u001b[0m\u001b[1;36m0\u001b[0m\u001b[1;33m]\u001b[0m\u001b[1;33m]\u001b[0m\u001b[1;33m.\u001b[0m\u001b[0munique\u001b[0m\u001b[1;33m(\u001b[0m\u001b[1;33m)\u001b[0m\u001b[1;33m)\u001b[0m\u001b[1;33m\u001b[0m\u001b[1;33m\u001b[0m\u001b[0m\n\u001b[1;32m-> 1377\u001b[1;33m             \u001b[1;32mraise\u001b[0m \u001b[0mKeyError\u001b[0m\u001b[1;33m(\u001b[0m\u001b[1;34mf\"{not_found} not in index\"\u001b[0m\u001b[1;33m)\u001b[0m\u001b[1;33m\u001b[0m\u001b[1;33m\u001b[0m\u001b[0m\n\u001b[0m\u001b[0;32m   1378\u001b[0m \u001b[1;33m\u001b[0m\u001b[0m\n\u001b[0;32m   1379\u001b[0m \u001b[1;33m\u001b[0m\u001b[0m\n",
      "\u001b[1;31mKeyError\u001b[0m: \"['Happiness in life'] not in index\""
     ]
    }
   ],
   "source": [
    "pipeline.fit(data_train.drop(target, axis=1), data_train[target])\n",
    "\n",
    "# pipeline.predict_proba(data_test)"
   ]
  },
  {
   "cell_type": "markdown",
   "metadata": {
    "scrolled": true
   },
   "source": [
    "# Важность признаков - feature Importance"
   ]
  },
  {
   "cell_type": "code",
   "execution_count": 126,
   "metadata": {
    "ExecuteTime": {
     "end_time": "2022-04-18T19:22:50.562426Z",
     "start_time": "2022-04-18T19:22:50.551114Z"
    }
   },
   "outputs": [],
   "source": [
    "# pipeline"
   ]
  },
  {
   "cell_type": "code",
   "execution_count": 127,
   "metadata": {
    "ExecuteTime": {
     "end_time": "2022-04-18T19:22:50.594414Z",
     "start_time": "2022-04-18T19:22:50.564428Z"
    }
   },
   "outputs": [
    {
     "data": {
      "text/plain": [
       "Index(['Music', 'Slow songs or fast songs', 'Dance', 'Folk', 'Country',\n",
       "       'Classical music', 'Musical', 'Pop', 'Rock', 'Metal or Hardrock',\n",
       "       ...\n",
       "       'x10_1.0', 'x10_2.0', 'x10_3.0', 'x10_4.0', 'x10_5.0', 'x11_1.0',\n",
       "       'x11_2.0', 'x11_3.0', 'x11_4.0', 'x11_5.0'],\n",
       "      dtype='object', length=208)"
      ]
     },
     "execution_count": 127,
     "metadata": {},
     "output_type": "execute_result"
    }
   ],
   "source": [
    "feature_names = pipeline.named_steps[\n",
    "    'preprocessing'].transform(data).columns\n",
    "\n",
    "feature_names"
   ]
  },
  {
   "cell_type": "code",
   "execution_count": 128,
   "metadata": {
    "ExecuteTime": {
     "end_time": "2022-04-18T19:22:50.626416Z",
     "start_time": "2022-04-18T19:22:50.596417Z"
    },
    "scrolled": true
   },
   "outputs": [
    {
     "ename": "AttributeError",
     "evalue": "'LogisticRegression' object has no attribute 'coef_'",
     "output_type": "error",
     "traceback": [
      "\u001b[1;31m---------------------------------------------------------------------------\u001b[0m",
      "\u001b[1;31mAttributeError\u001b[0m                            Traceback (most recent call last)",
      "\u001b[1;32m~\\AppData\\Local\\Temp/ipykernel_17124/3099934490.py\u001b[0m in \u001b[0;36m<module>\u001b[1;34m\u001b[0m\n\u001b[0;32m      2\u001b[0m \u001b[1;33m\u001b[0m\u001b[0m\n\u001b[0;32m      3\u001b[0m featureImportance = pd.DataFrame({\"feature\": feature_names, \n\u001b[1;32m----> 4\u001b[1;33m                                   \"importance\": pipeline.named_steps['modelling'].coef_[2, : ]})\n\u001b[0m\u001b[0;32m      5\u001b[0m \u001b[1;33m\u001b[0m\u001b[0m\n\u001b[0;32m      6\u001b[0m \u001b[0mfeatureImportance\u001b[0m\u001b[1;33m.\u001b[0m\u001b[0msort_values\u001b[0m\u001b[1;33m(\u001b[0m\u001b[1;33m[\u001b[0m\u001b[1;34m\"importance\"\u001b[0m\u001b[1;33m]\u001b[0m\u001b[1;33m,\u001b[0m \u001b[0mascending\u001b[0m\u001b[1;33m=\u001b[0m\u001b[1;32mFalse\u001b[0m\u001b[1;33m,\u001b[0m \u001b[0minplace\u001b[0m\u001b[1;33m=\u001b[0m\u001b[1;32mTrue\u001b[0m\u001b[1;33m)\u001b[0m\u001b[1;33m\u001b[0m\u001b[1;33m\u001b[0m\u001b[0m\n",
      "\u001b[1;31mAttributeError\u001b[0m: 'LogisticRegression' object has no attribute 'coef_'"
     ]
    },
    {
     "data": {
      "text/plain": [
       "<Figure size 1080x1080 with 0 Axes>"
      ]
     },
     "metadata": {},
     "output_type": "display_data"
    }
   ],
   "source": [
    "plt.figure(figsize=(15, 15))\n",
    "\n",
    "featureImportance = pd.DataFrame({\"feature\": feature_names, \n",
    "                                  \"importance\": pipeline.named_steps['modelling'].coef_[2, : ]})\n",
    "\n",
    "featureImportance.sort_values([\"importance\"], ascending=False, inplace=True)\n",
    "sns.barplot(x=featureImportance[\"importance\"], y=featureImportance['feature'])\n",
    "plt.show()"
   ]
  },
  {
   "cell_type": "code",
   "execution_count": null,
   "metadata": {
    "ExecuteTime": {
     "end_time": "2022-04-18T19:22:50.628418Z",
     "start_time": "2022-04-18T19:22:50.628418Z"
    }
   },
   "outputs": [],
   "source": [
    "pipeline.named_steps['preprocessing']"
   ]
  },
  {
   "cell_type": "code",
   "execution_count": null,
   "metadata": {
    "ExecuteTime": {
     "end_time": "2022-04-18T19:22:50.629417Z",
     "start_time": "2022-04-18T19:22:50.629417Z"
    }
   },
   "outputs": [],
   "source": [
    "pipeline.named_steps['preprocessing'].transformers[0][1].with_mean # Scaler param"
   ]
  },
  {
   "cell_type": "code",
   "execution_count": null,
   "metadata": {},
   "outputs": [],
   "source": []
  },
  {
   "cell_type": "code",
   "execution_count": null,
   "metadata": {},
   "outputs": [],
   "source": []
  },
  {
   "cell_type": "markdown",
   "metadata": {},
   "source": [
    "<div class=\"alert alert-info\">\n",
    "    \n",
    "* А что если есть текстовые признаки? `BagOfWords` / `TF-IDF`\n",
    "* Временные ряды? `tsfresh` / `tsfel`\n",
    "* Генарция новых признаков на лету - давайте реализуем\n"
   ]
  },
  {
   "cell_type": "code",
   "execution_count": null,
   "metadata": {},
   "outputs": [],
   "source": [
    " "
   ]
  },
  {
   "cell_type": "code",
   "execution_count": null,
   "metadata": {
    "ExecuteTime": {
     "end_time": "2022-04-18T19:22:50.631421Z",
     "start_time": "2022-04-18T19:22:50.631421Z"
    }
   },
   "outputs": [],
   "source": [
    "data_path = \"https://raw.githubusercontent.com/a-milenkin/mipt_data_science_2021/main/data/people_data_clustering.csv\"\n",
    "data = pd.read_csv(data_path, index_col=0)\n",
    "print(\"Размеры датасета\", data.shape)\n",
    "data.head(6)"
   ]
  },
  {
   "cell_type": "code",
   "execution_count": null,
   "metadata": {
    "ExecuteTime": {
     "end_time": "2022-04-18T19:22:50.632422Z",
     "start_time": "2022-04-18T19:22:50.632422Z"
    }
   },
   "outputs": [],
   "source": [
    "sub_data = data[data['home_cost'] < 10.5**7]\n",
    "\n",
    "sns.displot(sub_data,  x = 'happyness',  hue = 'profession', kind ='kde', height =10, aspect = 3);"
   ]
  },
  {
   "cell_type": "code",
   "execution_count": null,
   "metadata": {},
   "outputs": [],
   "source": []
  },
  {
   "cell_type": "markdown",
   "metadata": {},
   "source": [
    "<div class=\"alert alert-info\">\n",
    "<b>Про Датасет</b>\n",
    "    \n",
    "Датасет представляет собой уже знакомую нам информацию про жителей некоторого города - Атлантас.\n",
    "\n",
    "* `was_married` - Был ли когда-либо женат/замужем\n",
    "* `children` - Количество детей\n",
    "* `salary` - Уровень зарплаты\n",
    "* `sex` - Пол (0 - женщина, 1 - мужчина)\n",
    "* `age` - Возраст\n",
    "* `home_cost` - Сумарная стоимость жилья/недвижимости\n",
    "* `Professon` - Профессия\n",
    "* `drive_info` - Есть ли водительские права\n",
    "* `happyness` - уровень счастья по результатам опроса\n",
    "    \n",
    "</div>"
   ]
  },
  {
   "cell_type": "code",
   "execution_count": null,
   "metadata": {
    "ExecuteTime": {
     "end_time": "2022-04-18T19:22:50.633419Z",
     "start_time": "2022-04-18T19:22:50.633419Z"
    }
   },
   "outputs": [],
   "source": [
    "numerical_features = ['was_married', 'children', 'salary', 'sex', 'age', 'home_cost']\n",
    "categorical_features = [] # ['profession']\n",
    "\n",
    "target = 'happyness'\n",
    "\n",
    "\n",
    "all_features = numerical_features + categorical_features"
   ]
  },
  {
   "cell_type": "code",
   "execution_count": null,
   "metadata": {
    "ExecuteTime": {
     "end_time": "2022-04-18T19:22:50.634422Z",
     "start_time": "2022-04-18T19:22:50.634422Z"
    }
   },
   "outputs": [],
   "source": [
    "#   Для категориальных - применяем SimpleImputer, а затем StandardScaler\n",
    "numerical_transformer = Pipeline(steps=[\n",
    "    (\"imputer\", SimpleImputer()),\n",
    "    (\"scaler\", StandardScaler()),\n",
    "    (\"fs\", SelectKBest(score_func=f_classif, k=\"all\")),\n",
    "])\n",
    "\n",
    "#   Для категориальных - применяем SimpleImputer, а затем OneHotEncoder\n",
    "categorical_transformer = Pipeline(steps=[\n",
    "    (\"imputer\", SimpleImputer()),\n",
    "    (\"onehot\", OneHotEncoder(handle_unknown=\"ignore\")),\n",
    "])\n",
    "\n",
    "# Собираем воедино трансформеры для числовых и категориальных признаков\n",
    "data_transformer = ColumnTransformer(transformers=[\n",
    "    (\"numerical\", numerical_transformer, numerical_features),\n",
    "    #(\"categorical\", categorical_transformer, categorical_features),\n",
    "])\n",
    "\n",
    "# Создание конвейера препроцессора, который сначала преобразует данные\n",
    "preprocessor = Pipeline(steps=[(\"data_transformer\", data_transformer)])\n",
    "\n",
    "classifier_pipline = Pipeline(\n",
    "    steps=[(\"preprocessor\", preprocessor), \n",
    "           (\"classifier\", LogisticRegression())])\n",
    "\n",
    "classifier_pipline"
   ]
  },
  {
   "cell_type": "code",
   "execution_count": null,
   "metadata": {},
   "outputs": [],
   "source": [
    " "
   ]
  },
  {
   "cell_type": "code",
   "execution_count": 129,
   "metadata": {
    "ExecuteTime": {
     "end_time": "2022-04-18T19:22:50.705422Z",
     "start_time": "2022-04-18T19:22:50.638421Z"
    }
   },
   "outputs": [
    {
     "ename": "ValueError",
     "evalue": "A given column is not a column of the dataframe",
     "output_type": "error",
     "traceback": [
      "\u001b[1;31m---------------------------------------------------------------------------\u001b[0m",
      "\u001b[1;31mKeyError\u001b[0m                                  Traceback (most recent call last)",
      "\u001b[1;32m~\\anaconda3\\lib\\site-packages\\pandas\\core\\indexes\\base.py\u001b[0m in \u001b[0;36mget_loc\u001b[1;34m(self, key, method, tolerance)\u001b[0m\n\u001b[0;32m   3360\u001b[0m             \u001b[1;32mtry\u001b[0m\u001b[1;33m:\u001b[0m\u001b[1;33m\u001b[0m\u001b[1;33m\u001b[0m\u001b[0m\n\u001b[1;32m-> 3361\u001b[1;33m                 \u001b[1;32mreturn\u001b[0m \u001b[0mself\u001b[0m\u001b[1;33m.\u001b[0m\u001b[0m_engine\u001b[0m\u001b[1;33m.\u001b[0m\u001b[0mget_loc\u001b[0m\u001b[1;33m(\u001b[0m\u001b[0mcasted_key\u001b[0m\u001b[1;33m)\u001b[0m\u001b[1;33m\u001b[0m\u001b[1;33m\u001b[0m\u001b[0m\n\u001b[0m\u001b[0;32m   3362\u001b[0m             \u001b[1;32mexcept\u001b[0m \u001b[0mKeyError\u001b[0m \u001b[1;32mas\u001b[0m \u001b[0merr\u001b[0m\u001b[1;33m:\u001b[0m\u001b[1;33m\u001b[0m\u001b[1;33m\u001b[0m\u001b[0m\n",
      "\u001b[1;32m~\\anaconda3\\lib\\site-packages\\pandas\\_libs\\index.pyx\u001b[0m in \u001b[0;36mpandas._libs.index.IndexEngine.get_loc\u001b[1;34m()\u001b[0m\n",
      "\u001b[1;32m~\\anaconda3\\lib\\site-packages\\pandas\\_libs\\index.pyx\u001b[0m in \u001b[0;36mpandas._libs.index.IndexEngine.get_loc\u001b[1;34m()\u001b[0m\n",
      "\u001b[1;32mpandas\\_libs\\hashtable_class_helper.pxi\u001b[0m in \u001b[0;36mpandas._libs.hashtable.PyObjectHashTable.get_item\u001b[1;34m()\u001b[0m\n",
      "\u001b[1;32mpandas\\_libs\\hashtable_class_helper.pxi\u001b[0m in \u001b[0;36mpandas._libs.hashtable.PyObjectHashTable.get_item\u001b[1;34m()\u001b[0m\n",
      "\u001b[1;31mKeyError\u001b[0m: 'Slow songs or fast songs'",
      "\nThe above exception was the direct cause of the following exception:\n",
      "\u001b[1;31mKeyError\u001b[0m                                  Traceback (most recent call last)",
      "\u001b[1;32m~\\anaconda3\\lib\\site-packages\\sklearn\\utils\\__init__.py\u001b[0m in \u001b[0;36m_get_column_indices\u001b[1;34m(X, key)\u001b[0m\n\u001b[0;32m    395\u001b[0m             \u001b[1;32mfor\u001b[0m \u001b[0mcol\u001b[0m \u001b[1;32min\u001b[0m \u001b[0mcolumns\u001b[0m\u001b[1;33m:\u001b[0m\u001b[1;33m\u001b[0m\u001b[1;33m\u001b[0m\u001b[0m\n\u001b[1;32m--> 396\u001b[1;33m                 \u001b[0mcol_idx\u001b[0m \u001b[1;33m=\u001b[0m \u001b[0mall_columns\u001b[0m\u001b[1;33m.\u001b[0m\u001b[0mget_loc\u001b[0m\u001b[1;33m(\u001b[0m\u001b[0mcol\u001b[0m\u001b[1;33m)\u001b[0m\u001b[1;33m\u001b[0m\u001b[1;33m\u001b[0m\u001b[0m\n\u001b[0m\u001b[0;32m    397\u001b[0m                 \u001b[1;32mif\u001b[0m \u001b[1;32mnot\u001b[0m \u001b[0misinstance\u001b[0m\u001b[1;33m(\u001b[0m\u001b[0mcol_idx\u001b[0m\u001b[1;33m,\u001b[0m \u001b[0mnumbers\u001b[0m\u001b[1;33m.\u001b[0m\u001b[0mIntegral\u001b[0m\u001b[1;33m)\u001b[0m\u001b[1;33m:\u001b[0m\u001b[1;33m\u001b[0m\u001b[1;33m\u001b[0m\u001b[0m\n",
      "\u001b[1;32m~\\anaconda3\\lib\\site-packages\\pandas\\core\\indexes\\base.py\u001b[0m in \u001b[0;36mget_loc\u001b[1;34m(self, key, method, tolerance)\u001b[0m\n\u001b[0;32m   3362\u001b[0m             \u001b[1;32mexcept\u001b[0m \u001b[0mKeyError\u001b[0m \u001b[1;32mas\u001b[0m \u001b[0merr\u001b[0m\u001b[1;33m:\u001b[0m\u001b[1;33m\u001b[0m\u001b[1;33m\u001b[0m\u001b[0m\n\u001b[1;32m-> 3363\u001b[1;33m                 \u001b[1;32mraise\u001b[0m \u001b[0mKeyError\u001b[0m\u001b[1;33m(\u001b[0m\u001b[0mkey\u001b[0m\u001b[1;33m)\u001b[0m \u001b[1;32mfrom\u001b[0m \u001b[0merr\u001b[0m\u001b[1;33m\u001b[0m\u001b[1;33m\u001b[0m\u001b[0m\n\u001b[0m\u001b[0;32m   3364\u001b[0m \u001b[1;33m\u001b[0m\u001b[0m\n",
      "\u001b[1;31mKeyError\u001b[0m: 'Slow songs or fast songs'",
      "\nThe above exception was the direct cause of the following exception:\n",
      "\u001b[1;31mValueError\u001b[0m                                Traceback (most recent call last)",
      "\u001b[1;32m~\\AppData\\Local\\Temp/ipykernel_17124/3600892131.py\u001b[0m in \u001b[0;36m<module>\u001b[1;34m\u001b[0m\n\u001b[1;32m----> 1\u001b[1;33m \u001b[0mclassifier_pipline\u001b[0m\u001b[1;33m.\u001b[0m\u001b[0mfit\u001b[0m\u001b[1;33m(\u001b[0m\u001b[0mdata\u001b[0m\u001b[1;33m[\u001b[0m\u001b[0mall_features\u001b[0m\u001b[1;33m]\u001b[0m\u001b[1;33m,\u001b[0m \u001b[0mdata\u001b[0m\u001b[1;33m[\u001b[0m\u001b[0mtarget\u001b[0m\u001b[1;33m]\u001b[0m\u001b[1;33m)\u001b[0m\u001b[1;33m\u001b[0m\u001b[1;33m\u001b[0m\u001b[0m\n\u001b[0m",
      "\u001b[1;32m~\\anaconda3\\lib\\site-packages\\sklearn\\pipeline.py\u001b[0m in \u001b[0;36mfit\u001b[1;34m(self, X, y, **fit_params)\u001b[0m\n\u001b[0;32m    339\u001b[0m         \"\"\"\n\u001b[0;32m    340\u001b[0m         \u001b[0mfit_params_steps\u001b[0m \u001b[1;33m=\u001b[0m \u001b[0mself\u001b[0m\u001b[1;33m.\u001b[0m\u001b[0m_check_fit_params\u001b[0m\u001b[1;33m(\u001b[0m\u001b[1;33m**\u001b[0m\u001b[0mfit_params\u001b[0m\u001b[1;33m)\u001b[0m\u001b[1;33m\u001b[0m\u001b[1;33m\u001b[0m\u001b[0m\n\u001b[1;32m--> 341\u001b[1;33m         \u001b[0mXt\u001b[0m \u001b[1;33m=\u001b[0m \u001b[0mself\u001b[0m\u001b[1;33m.\u001b[0m\u001b[0m_fit\u001b[0m\u001b[1;33m(\u001b[0m\u001b[0mX\u001b[0m\u001b[1;33m,\u001b[0m \u001b[0my\u001b[0m\u001b[1;33m,\u001b[0m \u001b[1;33m**\u001b[0m\u001b[0mfit_params_steps\u001b[0m\u001b[1;33m)\u001b[0m\u001b[1;33m\u001b[0m\u001b[1;33m\u001b[0m\u001b[0m\n\u001b[0m\u001b[0;32m    342\u001b[0m         with _print_elapsed_time('Pipeline',\n\u001b[0;32m    343\u001b[0m                                  self._log_message(len(self.steps) - 1)):\n",
      "\u001b[1;32m~\\anaconda3\\lib\\site-packages\\sklearn\\pipeline.py\u001b[0m in \u001b[0;36m_fit\u001b[1;34m(self, X, y, **fit_params_steps)\u001b[0m\n\u001b[0;32m    301\u001b[0m                 \u001b[0mcloned_transformer\u001b[0m \u001b[1;33m=\u001b[0m \u001b[0mclone\u001b[0m\u001b[1;33m(\u001b[0m\u001b[0mtransformer\u001b[0m\u001b[1;33m)\u001b[0m\u001b[1;33m\u001b[0m\u001b[1;33m\u001b[0m\u001b[0m\n\u001b[0;32m    302\u001b[0m             \u001b[1;31m# Fit or load from cache the current transformer\u001b[0m\u001b[1;33m\u001b[0m\u001b[1;33m\u001b[0m\u001b[0m\n\u001b[1;32m--> 303\u001b[1;33m             X, fitted_transformer = fit_transform_one_cached(\n\u001b[0m\u001b[0;32m    304\u001b[0m                 \u001b[0mcloned_transformer\u001b[0m\u001b[1;33m,\u001b[0m \u001b[0mX\u001b[0m\u001b[1;33m,\u001b[0m \u001b[0my\u001b[0m\u001b[1;33m,\u001b[0m \u001b[1;32mNone\u001b[0m\u001b[1;33m,\u001b[0m\u001b[1;33m\u001b[0m\u001b[1;33m\u001b[0m\u001b[0m\n\u001b[0;32m    305\u001b[0m                 \u001b[0mmessage_clsname\u001b[0m\u001b[1;33m=\u001b[0m\u001b[1;34m'Pipeline'\u001b[0m\u001b[1;33m,\u001b[0m\u001b[1;33m\u001b[0m\u001b[1;33m\u001b[0m\u001b[0m\n",
      "\u001b[1;32m~\\anaconda3\\lib\\site-packages\\joblib\\memory.py\u001b[0m in \u001b[0;36m__call__\u001b[1;34m(self, *args, **kwargs)\u001b[0m\n\u001b[0;32m    347\u001b[0m \u001b[1;33m\u001b[0m\u001b[0m\n\u001b[0;32m    348\u001b[0m     \u001b[1;32mdef\u001b[0m \u001b[0m__call__\u001b[0m\u001b[1;33m(\u001b[0m\u001b[0mself\u001b[0m\u001b[1;33m,\u001b[0m \u001b[1;33m*\u001b[0m\u001b[0margs\u001b[0m\u001b[1;33m,\u001b[0m \u001b[1;33m**\u001b[0m\u001b[0mkwargs\u001b[0m\u001b[1;33m)\u001b[0m\u001b[1;33m:\u001b[0m\u001b[1;33m\u001b[0m\u001b[1;33m\u001b[0m\u001b[0m\n\u001b[1;32m--> 349\u001b[1;33m         \u001b[1;32mreturn\u001b[0m \u001b[0mself\u001b[0m\u001b[1;33m.\u001b[0m\u001b[0mfunc\u001b[0m\u001b[1;33m(\u001b[0m\u001b[1;33m*\u001b[0m\u001b[0margs\u001b[0m\u001b[1;33m,\u001b[0m \u001b[1;33m**\u001b[0m\u001b[0mkwargs\u001b[0m\u001b[1;33m)\u001b[0m\u001b[1;33m\u001b[0m\u001b[1;33m\u001b[0m\u001b[0m\n\u001b[0m\u001b[0;32m    350\u001b[0m \u001b[1;33m\u001b[0m\u001b[0m\n\u001b[0;32m    351\u001b[0m     \u001b[1;32mdef\u001b[0m \u001b[0mcall_and_shelve\u001b[0m\u001b[1;33m(\u001b[0m\u001b[0mself\u001b[0m\u001b[1;33m,\u001b[0m \u001b[1;33m*\u001b[0m\u001b[0margs\u001b[0m\u001b[1;33m,\u001b[0m \u001b[1;33m**\u001b[0m\u001b[0mkwargs\u001b[0m\u001b[1;33m)\u001b[0m\u001b[1;33m:\u001b[0m\u001b[1;33m\u001b[0m\u001b[1;33m\u001b[0m\u001b[0m\n",
      "\u001b[1;32m~\\anaconda3\\lib\\site-packages\\sklearn\\pipeline.py\u001b[0m in \u001b[0;36m_fit_transform_one\u001b[1;34m(transformer, X, y, weight, message_clsname, message, **fit_params)\u001b[0m\n\u001b[0;32m    752\u001b[0m     \u001b[1;32mwith\u001b[0m \u001b[0m_print_elapsed_time\u001b[0m\u001b[1;33m(\u001b[0m\u001b[0mmessage_clsname\u001b[0m\u001b[1;33m,\u001b[0m \u001b[0mmessage\u001b[0m\u001b[1;33m)\u001b[0m\u001b[1;33m:\u001b[0m\u001b[1;33m\u001b[0m\u001b[1;33m\u001b[0m\u001b[0m\n\u001b[0;32m    753\u001b[0m         \u001b[1;32mif\u001b[0m \u001b[0mhasattr\u001b[0m\u001b[1;33m(\u001b[0m\u001b[0mtransformer\u001b[0m\u001b[1;33m,\u001b[0m \u001b[1;34m'fit_transform'\u001b[0m\u001b[1;33m)\u001b[0m\u001b[1;33m:\u001b[0m\u001b[1;33m\u001b[0m\u001b[1;33m\u001b[0m\u001b[0m\n\u001b[1;32m--> 754\u001b[1;33m             \u001b[0mres\u001b[0m \u001b[1;33m=\u001b[0m \u001b[0mtransformer\u001b[0m\u001b[1;33m.\u001b[0m\u001b[0mfit_transform\u001b[0m\u001b[1;33m(\u001b[0m\u001b[0mX\u001b[0m\u001b[1;33m,\u001b[0m \u001b[0my\u001b[0m\u001b[1;33m,\u001b[0m \u001b[1;33m**\u001b[0m\u001b[0mfit_params\u001b[0m\u001b[1;33m)\u001b[0m\u001b[1;33m\u001b[0m\u001b[1;33m\u001b[0m\u001b[0m\n\u001b[0m\u001b[0;32m    755\u001b[0m         \u001b[1;32melse\u001b[0m\u001b[1;33m:\u001b[0m\u001b[1;33m\u001b[0m\u001b[1;33m\u001b[0m\u001b[0m\n\u001b[0;32m    756\u001b[0m             \u001b[0mres\u001b[0m \u001b[1;33m=\u001b[0m \u001b[0mtransformer\u001b[0m\u001b[1;33m.\u001b[0m\u001b[0mfit\u001b[0m\u001b[1;33m(\u001b[0m\u001b[0mX\u001b[0m\u001b[1;33m,\u001b[0m \u001b[0my\u001b[0m\u001b[1;33m,\u001b[0m \u001b[1;33m**\u001b[0m\u001b[0mfit_params\u001b[0m\u001b[1;33m)\u001b[0m\u001b[1;33m.\u001b[0m\u001b[0mtransform\u001b[0m\u001b[1;33m(\u001b[0m\u001b[0mX\u001b[0m\u001b[1;33m)\u001b[0m\u001b[1;33m\u001b[0m\u001b[1;33m\u001b[0m\u001b[0m\n",
      "\u001b[1;32m~\\anaconda3\\lib\\site-packages\\sklearn\\pipeline.py\u001b[0m in \u001b[0;36mfit_transform\u001b[1;34m(self, X, y, **fit_params)\u001b[0m\n\u001b[0;32m    385\u001b[0m             \u001b[0mfit_params_last_step\u001b[0m \u001b[1;33m=\u001b[0m \u001b[0mfit_params_steps\u001b[0m\u001b[1;33m[\u001b[0m\u001b[0mself\u001b[0m\u001b[1;33m.\u001b[0m\u001b[0msteps\u001b[0m\u001b[1;33m[\u001b[0m\u001b[1;33m-\u001b[0m\u001b[1;36m1\u001b[0m\u001b[1;33m]\u001b[0m\u001b[1;33m[\u001b[0m\u001b[1;36m0\u001b[0m\u001b[1;33m]\u001b[0m\u001b[1;33m]\u001b[0m\u001b[1;33m\u001b[0m\u001b[1;33m\u001b[0m\u001b[0m\n\u001b[0;32m    386\u001b[0m             \u001b[1;32mif\u001b[0m \u001b[0mhasattr\u001b[0m\u001b[1;33m(\u001b[0m\u001b[0mlast_step\u001b[0m\u001b[1;33m,\u001b[0m \u001b[1;34m'fit_transform'\u001b[0m\u001b[1;33m)\u001b[0m\u001b[1;33m:\u001b[0m\u001b[1;33m\u001b[0m\u001b[1;33m\u001b[0m\u001b[0m\n\u001b[1;32m--> 387\u001b[1;33m                 \u001b[1;32mreturn\u001b[0m \u001b[0mlast_step\u001b[0m\u001b[1;33m.\u001b[0m\u001b[0mfit_transform\u001b[0m\u001b[1;33m(\u001b[0m\u001b[0mXt\u001b[0m\u001b[1;33m,\u001b[0m \u001b[0my\u001b[0m\u001b[1;33m,\u001b[0m \u001b[1;33m**\u001b[0m\u001b[0mfit_params_last_step\u001b[0m\u001b[1;33m)\u001b[0m\u001b[1;33m\u001b[0m\u001b[1;33m\u001b[0m\u001b[0m\n\u001b[0m\u001b[0;32m    388\u001b[0m             \u001b[1;32melse\u001b[0m\u001b[1;33m:\u001b[0m\u001b[1;33m\u001b[0m\u001b[1;33m\u001b[0m\u001b[0m\n\u001b[0;32m    389\u001b[0m                 return last_step.fit(Xt, y,\n",
      "\u001b[1;32m~\\anaconda3\\lib\\site-packages\\sklearn\\compose\\_column_transformer.py\u001b[0m in \u001b[0;36mfit_transform\u001b[1;34m(self, X, y)\u001b[0m\n\u001b[0;32m    503\u001b[0m         \u001b[0mself\u001b[0m\u001b[1;33m.\u001b[0m\u001b[0m_validate_transformers\u001b[0m\u001b[1;33m(\u001b[0m\u001b[1;33m)\u001b[0m\u001b[1;33m\u001b[0m\u001b[1;33m\u001b[0m\u001b[0m\n\u001b[0;32m    504\u001b[0m         \u001b[0mself\u001b[0m\u001b[1;33m.\u001b[0m\u001b[0m_validate_column_callables\u001b[0m\u001b[1;33m(\u001b[0m\u001b[0mX\u001b[0m\u001b[1;33m)\u001b[0m\u001b[1;33m\u001b[0m\u001b[1;33m\u001b[0m\u001b[0m\n\u001b[1;32m--> 505\u001b[1;33m         \u001b[0mself\u001b[0m\u001b[1;33m.\u001b[0m\u001b[0m_validate_remainder\u001b[0m\u001b[1;33m(\u001b[0m\u001b[0mX\u001b[0m\u001b[1;33m)\u001b[0m\u001b[1;33m\u001b[0m\u001b[1;33m\u001b[0m\u001b[0m\n\u001b[0m\u001b[0;32m    506\u001b[0m \u001b[1;33m\u001b[0m\u001b[0m\n\u001b[0;32m    507\u001b[0m         \u001b[0mresult\u001b[0m \u001b[1;33m=\u001b[0m \u001b[0mself\u001b[0m\u001b[1;33m.\u001b[0m\u001b[0m_fit_transform\u001b[0m\u001b[1;33m(\u001b[0m\u001b[0mX\u001b[0m\u001b[1;33m,\u001b[0m \u001b[0my\u001b[0m\u001b[1;33m,\u001b[0m \u001b[0m_fit_transform_one\u001b[0m\u001b[1;33m)\u001b[0m\u001b[1;33m\u001b[0m\u001b[1;33m\u001b[0m\u001b[0m\n",
      "\u001b[1;32m~\\anaconda3\\lib\\site-packages\\sklearn\\compose\\_column_transformer.py\u001b[0m in \u001b[0;36m_validate_remainder\u001b[1;34m(self, X)\u001b[0m\n\u001b[0;32m    330\u001b[0m         \u001b[0mcols\u001b[0m \u001b[1;33m=\u001b[0m \u001b[1;33m[\u001b[0m\u001b[1;33m]\u001b[0m\u001b[1;33m\u001b[0m\u001b[1;33m\u001b[0m\u001b[0m\n\u001b[0;32m    331\u001b[0m         \u001b[1;32mfor\u001b[0m \u001b[0mcolumns\u001b[0m \u001b[1;32min\u001b[0m \u001b[0mself\u001b[0m\u001b[1;33m.\u001b[0m\u001b[0m_columns\u001b[0m\u001b[1;33m:\u001b[0m\u001b[1;33m\u001b[0m\u001b[1;33m\u001b[0m\u001b[0m\n\u001b[1;32m--> 332\u001b[1;33m             \u001b[0mcols\u001b[0m\u001b[1;33m.\u001b[0m\u001b[0mextend\u001b[0m\u001b[1;33m(\u001b[0m\u001b[0m_get_column_indices\u001b[0m\u001b[1;33m(\u001b[0m\u001b[0mX\u001b[0m\u001b[1;33m,\u001b[0m \u001b[0mcolumns\u001b[0m\u001b[1;33m)\u001b[0m\u001b[1;33m)\u001b[0m\u001b[1;33m\u001b[0m\u001b[1;33m\u001b[0m\u001b[0m\n\u001b[0m\u001b[0;32m    333\u001b[0m \u001b[1;33m\u001b[0m\u001b[0m\n\u001b[0;32m    334\u001b[0m         \u001b[0mremaining_idx\u001b[0m \u001b[1;33m=\u001b[0m \u001b[0msorted\u001b[0m\u001b[1;33m(\u001b[0m\u001b[0mset\u001b[0m\u001b[1;33m(\u001b[0m\u001b[0mrange\u001b[0m\u001b[1;33m(\u001b[0m\u001b[0mself\u001b[0m\u001b[1;33m.\u001b[0m\u001b[0m_n_features\u001b[0m\u001b[1;33m)\u001b[0m\u001b[1;33m)\u001b[0m \u001b[1;33m-\u001b[0m \u001b[0mset\u001b[0m\u001b[1;33m(\u001b[0m\u001b[0mcols\u001b[0m\u001b[1;33m)\u001b[0m\u001b[1;33m)\u001b[0m\u001b[1;33m\u001b[0m\u001b[1;33m\u001b[0m\u001b[0m\n",
      "\u001b[1;32m~\\anaconda3\\lib\\site-packages\\sklearn\\utils\\__init__.py\u001b[0m in \u001b[0;36m_get_column_indices\u001b[1;34m(X, key)\u001b[0m\n\u001b[0;32m    401\u001b[0m \u001b[1;33m\u001b[0m\u001b[0m\n\u001b[0;32m    402\u001b[0m         \u001b[1;32mexcept\u001b[0m \u001b[0mKeyError\u001b[0m \u001b[1;32mas\u001b[0m \u001b[0me\u001b[0m\u001b[1;33m:\u001b[0m\u001b[1;33m\u001b[0m\u001b[1;33m\u001b[0m\u001b[0m\n\u001b[1;32m--> 403\u001b[1;33m             raise ValueError(\n\u001b[0m\u001b[0;32m    404\u001b[0m                 \u001b[1;34m\"A given column is not a column of the dataframe\"\u001b[0m\u001b[1;33m\u001b[0m\u001b[1;33m\u001b[0m\u001b[0m\n\u001b[0;32m    405\u001b[0m             ) from e\n",
      "\u001b[1;31mValueError\u001b[0m: A given column is not a column of the dataframe"
     ]
    }
   ],
   "source": [
    "classifier_pipline.fit(data[all_features], data[target])"
   ]
  },
  {
   "cell_type": "code",
   "execution_count": null,
   "metadata": {
    "ExecuteTime": {
     "end_time": "2022-04-18T19:22:50.707423Z",
     "start_time": "2022-04-18T19:22:50.707423Z"
    }
   },
   "outputs": [],
   "source": [
    "data[all_features].info()"
   ]
  },
  {
   "cell_type": "markdown",
   "metadata": {},
   "source": [
    "# Как сохранить всю эту махину?"
   ]
  },
  {
   "cell_type": "code",
   "execution_count": null,
   "metadata": {
    "ExecuteTime": {
     "end_time": "2022-04-18T19:22:50.709424Z",
     "start_time": "2022-04-18T19:22:50.709424Z"
    }
   },
   "outputs": [],
   "source": [
    "# И другие, но вы про них уже знаете\n",
    "from sklearn.model_selection import train_test_split, RandomizedSearchCV\n",
    "\n",
    "# Для сериализации моделей\n",
    "from joblib import Parallel, delayed\n",
    "from scipy import sparse\n",
    "import pickle"
   ]
  },
  {
   "cell_type": "markdown",
   "metadata": {},
   "source": [
    "# Save the pipeline"
   ]
  },
  {
   "cell_type": "code",
   "execution_count": null,
   "metadata": {
    "ExecuteTime": {
     "end_time": "2022-04-18T19:22:50.710425Z",
     "start_time": "2022-04-18T19:22:50.710425Z"
    }
   },
   "outputs": [],
   "source": [
    "with open(\"pipeline.pkl\", \"wb\") as f:\n",
    "    pickle.dump(search.best_estimator_, f)"
   ]
  },
  {
   "cell_type": "markdown",
   "metadata": {},
   "source": [
    "# Load and predict"
   ]
  },
  {
   "cell_type": "code",
   "execution_count": null,
   "metadata": {
    "ExecuteTime": {
     "end_time": "2022-04-18T19:22:50.712425Z",
     "start_time": "2022-04-18T19:22:50.712425Z"
    }
   },
   "outputs": [],
   "source": [
    "with open(\"pipeline.pkl\", 'rb') as f:\n",
    "    pipeline_from_saved = pickle.load(f)"
   ]
  },
  {
   "cell_type": "code",
   "execution_count": null,
   "metadata": {
    "ExecuteTime": {
     "end_time": "2022-04-18T19:22:50.714423Z",
     "start_time": "2022-04-18T19:22:50.714423Z"
    }
   },
   "outputs": [],
   "source": [
    "pipeline_from_saved"
   ]
  },
  {
   "cell_type": "code",
   "execution_count": null,
   "metadata": {
    "ExecuteTime": {
     "end_time": "2022-04-18T19:22:50.715425Z",
     "start_time": "2022-04-18T19:22:50.715425Z"
    }
   },
   "outputs": [],
   "source": [
    "data_test.iloc[0]"
   ]
  },
  {
   "cell_type": "code",
   "execution_count": null,
   "metadata": {
    "ExecuteTime": {
     "end_time": "2022-04-18T19:22:50.716425Z",
     "start_time": "2022-04-18T19:22:50.716425Z"
    }
   },
   "outputs": [],
   "source": [
    "pipeline_from_saved.named_steps['preprocessing'].transform(data_test.iloc[:1])"
   ]
  },
  {
   "cell_type": "code",
   "execution_count": null,
   "metadata": {
    "ExecuteTime": {
     "end_time": "2022-04-18T19:22:50.717423Z",
     "start_time": "2022-04-18T19:22:50.717423Z"
    }
   },
   "outputs": [],
   "source": [
    "preds = pipeline_from_saved.predict(data_test)\n",
    "print(classification_report(data_test[target], preds))"
   ]
  },
  {
   "cell_type": "code",
   "execution_count": null,
   "metadata": {},
   "outputs": [],
   "source": []
  },
  {
   "cell_type": "markdown",
   "metadata": {},
   "source": [
    "# Дополнительно\n",
    "\n",
    "* Код/ноутбуки будут тут: https://github.com/a-milenkin/Otus_Open_Day"
   ]
  },
  {
   "cell_type": "markdown",
   "metadata": {},
   "source": [
    "Пример хорошего ML проекта: https://github.com/a-milenkin/ml_project_example\n",
    "\n",
    "**Но можно писать еще лучше!**\n",
    "\n",
    "Задача: переписать модуль train_pipline используя Pipeline из Sklearn"
   ]
  },
  {
   "cell_type": "code",
   "execution_count": null,
   "metadata": {},
   "outputs": [],
   "source": []
  }
 ],
 "metadata": {
  "kernelspec": {
   "display_name": "Python 3 (ipykernel)",
   "language": "python",
   "name": "python3"
  },
  "language_info": {
   "codemirror_mode": {
    "name": "ipython",
    "version": 3
   },
   "file_extension": ".py",
   "mimetype": "text/x-python",
   "name": "python",
   "nbconvert_exporter": "python",
   "pygments_lexer": "ipython3",
   "version": "3.9.7"
  },
  "toc": {
   "base_numbering": 1,
   "nav_menu": {},
   "number_sections": true,
   "sideBar": true,
   "skip_h1_title": false,
   "title_cell": "Table of Contents",
   "title_sidebar": "Contents",
   "toc_cell": false,
   "toc_position": {},
   "toc_section_display": true,
   "toc_window_display": false
  },
  "varInspector": {
   "cols": {
    "lenName": 16,
    "lenType": 16,
    "lenVar": 40
   },
   "kernels_config": {
    "python": {
     "delete_cmd_postfix": "",
     "delete_cmd_prefix": "del ",
     "library": "var_list.py",
     "varRefreshCmd": "print(var_dic_list())"
    },
    "r": {
     "delete_cmd_postfix": ") ",
     "delete_cmd_prefix": "rm(",
     "library": "var_list.r",
     "varRefreshCmd": "cat(var_dic_list()) "
    }
   },
   "position": {
    "height": "291.719px",
    "left": "1036.46px",
    "right": "20px",
    "top": "120px",
    "width": "327.173px"
   },
   "types_to_exclude": [
    "module",
    "function",
    "builtin_function_or_method",
    "instance",
    "_Feature"
   ],
   "window_display": false
  }
 },
 "nbformat": 4,
 "nbformat_minor": 4
}
