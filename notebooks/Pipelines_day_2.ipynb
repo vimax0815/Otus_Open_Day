{
 "cells": [
  {
   "cell_type": "markdown",
   "metadata": {},
   "source": [
    "# <center> Pipelines, Serialization </center> "
   ]
  },
  {
   "cell_type": "markdown",
   "metadata": {},
   "source": [
    "<p style=\"align: center;\"><img align=center src=\"./images/Industrial-Pipeline-Cleaning.jpg\"  width=1000></p>"
   ]
  },
  {
   "cell_type": "markdown",
   "metadata": {},
   "source": [
    "."
   ]
  },
  {
   "cell_type": "markdown",
   "metadata": {},
   "source": [
    "."
   ]
  },
  {
   "cell_type": "markdown",
   "metadata": {},
   "source": [
    "<p style=\"align: center;\"><img align=center src=\"https://hazelcast.com/wp-content/uploads/2019/11/24_DataPipleline-1.png\"  width=1000></p>"
   ]
  },
  {
   "cell_type": "code",
   "execution_count": 1,
   "metadata": {
    "ExecuteTime": {
     "end_time": "2022-04-18T19:20:15.443701Z",
     "start_time": "2022-04-18T19:20:14.474996Z"
    }
   },
   "outputs": [
    {
     "data": {
      "text/html": [
       "<style>.container { width:80% !important; }</style>"
      ],
      "text/plain": [
       "<IPython.core.display.HTML object>"
      ]
     },
     "metadata": {},
     "output_type": "display_data"
    }
   ],
   "source": [
    "import pandas as pd\n",
    "import numpy as np\n",
    "\n",
    "# Пара библиотек для визуализации\n",
    "import matplotlib.pyplot as plt\n",
    "%matplotlib inline\n",
    "\n",
    "\n",
    "from IPython.core.display import display, HTML\n",
    "display(HTML(\"<style>.container { width:80% !important; }</style>\"))\n",
    "\n",
    "import warnings\n",
    "warnings.filterwarnings(\"ignore\")"
   ]
  },
  {
   "cell_type": "code",
   "execution_count": null,
   "metadata": {},
   "outputs": [],
   "source": [
    " "
   ]
  },
  {
   "cell_type": "code",
   "execution_count": null,
   "metadata": {},
   "outputs": [],
   "source": [
    " "
   ]
  },
  {
   "cell_type": "markdown",
   "metadata": {},
   "source": [
    "# Импорт Данных"
   ]
  },
  {
   "cell_type": "code",
   "execution_count": 2,
   "metadata": {
    "ExecuteTime": {
     "end_time": "2022-04-18T19:20:16.381746Z",
     "start_time": "2022-04-18T19:20:15.445701Z"
    }
   },
   "outputs": [],
   "source": [
    "file_path = 'https://raw.githubusercontent.com/a-milenkin/Datasetes_for_Piplines/main/responses.csv'\n",
    "data = pd.read_csv(file_path)"
   ]
  },
  {
   "cell_type": "code",
   "execution_count": 3,
   "metadata": {
    "ExecuteTime": {
     "end_time": "2022-04-18T19:20:16.414845Z",
     "start_time": "2022-04-18T19:20:16.382336Z"
    }
   },
   "outputs": [
    {
     "data": {
      "text/html": [
       "<div>\n",
       "<style scoped>\n",
       "    .dataframe tbody tr th:only-of-type {\n",
       "        vertical-align: middle;\n",
       "    }\n",
       "\n",
       "    .dataframe tbody tr th {\n",
       "        vertical-align: top;\n",
       "    }\n",
       "\n",
       "    .dataframe thead th {\n",
       "        text-align: right;\n",
       "    }\n",
       "</style>\n",
       "<table border=\"1\" class=\"dataframe\">\n",
       "  <thead>\n",
       "    <tr style=\"text-align: right;\">\n",
       "      <th></th>\n",
       "      <th>Music</th>\n",
       "      <th>Slow songs or fast songs</th>\n",
       "      <th>Dance</th>\n",
       "      <th>Folk</th>\n",
       "      <th>Country</th>\n",
       "      <th>Classical music</th>\n",
       "      <th>Musical</th>\n",
       "      <th>Pop</th>\n",
       "      <th>Rock</th>\n",
       "      <th>Metal or Hardrock</th>\n",
       "      <th>...</th>\n",
       "      <th>Age</th>\n",
       "      <th>Height</th>\n",
       "      <th>Weight</th>\n",
       "      <th>Number of siblings</th>\n",
       "      <th>Gender</th>\n",
       "      <th>Left - right handed</th>\n",
       "      <th>Education</th>\n",
       "      <th>Only child</th>\n",
       "      <th>Village - town</th>\n",
       "      <th>House - block of flats</th>\n",
       "    </tr>\n",
       "  </thead>\n",
       "  <tbody>\n",
       "    <tr>\n",
       "      <th>0</th>\n",
       "      <td>5.0</td>\n",
       "      <td>3.0</td>\n",
       "      <td>2.0</td>\n",
       "      <td>1.0</td>\n",
       "      <td>2.0</td>\n",
       "      <td>2.0</td>\n",
       "      <td>1.0</td>\n",
       "      <td>5.0</td>\n",
       "      <td>5.0</td>\n",
       "      <td>1.0</td>\n",
       "      <td>...</td>\n",
       "      <td>20.0</td>\n",
       "      <td>163.0</td>\n",
       "      <td>48.0</td>\n",
       "      <td>1.0</td>\n",
       "      <td>female</td>\n",
       "      <td>right handed</td>\n",
       "      <td>college/bachelor degree</td>\n",
       "      <td>no</td>\n",
       "      <td>village</td>\n",
       "      <td>block of flats</td>\n",
       "    </tr>\n",
       "    <tr>\n",
       "      <th>1</th>\n",
       "      <td>4.0</td>\n",
       "      <td>4.0</td>\n",
       "      <td>2.0</td>\n",
       "      <td>1.0</td>\n",
       "      <td>1.0</td>\n",
       "      <td>1.0</td>\n",
       "      <td>2.0</td>\n",
       "      <td>3.0</td>\n",
       "      <td>5.0</td>\n",
       "      <td>4.0</td>\n",
       "      <td>...</td>\n",
       "      <td>19.0</td>\n",
       "      <td>163.0</td>\n",
       "      <td>58.0</td>\n",
       "      <td>2.0</td>\n",
       "      <td>female</td>\n",
       "      <td>right handed</td>\n",
       "      <td>college/bachelor degree</td>\n",
       "      <td>no</td>\n",
       "      <td>city</td>\n",
       "      <td>block of flats</td>\n",
       "    </tr>\n",
       "    <tr>\n",
       "      <th>2</th>\n",
       "      <td>5.0</td>\n",
       "      <td>5.0</td>\n",
       "      <td>2.0</td>\n",
       "      <td>2.0</td>\n",
       "      <td>3.0</td>\n",
       "      <td>4.0</td>\n",
       "      <td>5.0</td>\n",
       "      <td>3.0</td>\n",
       "      <td>5.0</td>\n",
       "      <td>3.0</td>\n",
       "      <td>...</td>\n",
       "      <td>20.0</td>\n",
       "      <td>176.0</td>\n",
       "      <td>67.0</td>\n",
       "      <td>2.0</td>\n",
       "      <td>female</td>\n",
       "      <td>right handed</td>\n",
       "      <td>secondary school</td>\n",
       "      <td>no</td>\n",
       "      <td>city</td>\n",
       "      <td>block of flats</td>\n",
       "    </tr>\n",
       "    <tr>\n",
       "      <th>3</th>\n",
       "      <td>5.0</td>\n",
       "      <td>3.0</td>\n",
       "      <td>2.0</td>\n",
       "      <td>1.0</td>\n",
       "      <td>1.0</td>\n",
       "      <td>1.0</td>\n",
       "      <td>1.0</td>\n",
       "      <td>2.0</td>\n",
       "      <td>2.0</td>\n",
       "      <td>1.0</td>\n",
       "      <td>...</td>\n",
       "      <td>22.0</td>\n",
       "      <td>172.0</td>\n",
       "      <td>59.0</td>\n",
       "      <td>1.0</td>\n",
       "      <td>female</td>\n",
       "      <td>right handed</td>\n",
       "      <td>college/bachelor degree</td>\n",
       "      <td>yes</td>\n",
       "      <td>city</td>\n",
       "      <td>house/bungalow</td>\n",
       "    </tr>\n",
       "    <tr>\n",
       "      <th>4</th>\n",
       "      <td>5.0</td>\n",
       "      <td>3.0</td>\n",
       "      <td>4.0</td>\n",
       "      <td>3.0</td>\n",
       "      <td>2.0</td>\n",
       "      <td>4.0</td>\n",
       "      <td>3.0</td>\n",
       "      <td>5.0</td>\n",
       "      <td>3.0</td>\n",
       "      <td>1.0</td>\n",
       "      <td>...</td>\n",
       "      <td>20.0</td>\n",
       "      <td>170.0</td>\n",
       "      <td>59.0</td>\n",
       "      <td>1.0</td>\n",
       "      <td>female</td>\n",
       "      <td>right handed</td>\n",
       "      <td>secondary school</td>\n",
       "      <td>no</td>\n",
       "      <td>village</td>\n",
       "      <td>house/bungalow</td>\n",
       "    </tr>\n",
       "  </tbody>\n",
       "</table>\n",
       "<p>5 rows × 150 columns</p>\n",
       "</div>"
      ],
      "text/plain": [
       "   Music  Slow songs or fast songs  Dance  Folk  Country  Classical music  \\\n",
       "0    5.0                       3.0    2.0   1.0      2.0              2.0   \n",
       "1    4.0                       4.0    2.0   1.0      1.0              1.0   \n",
       "2    5.0                       5.0    2.0   2.0      3.0              4.0   \n",
       "3    5.0                       3.0    2.0   1.0      1.0              1.0   \n",
       "4    5.0                       3.0    4.0   3.0      2.0              4.0   \n",
       "\n",
       "   Musical  Pop  Rock  Metal or Hardrock  ...   Age  Height  Weight  \\\n",
       "0      1.0  5.0   5.0                1.0  ...  20.0   163.0    48.0   \n",
       "1      2.0  3.0   5.0                4.0  ...  19.0   163.0    58.0   \n",
       "2      5.0  3.0   5.0                3.0  ...  20.0   176.0    67.0   \n",
       "3      1.0  2.0   2.0                1.0  ...  22.0   172.0    59.0   \n",
       "4      3.0  5.0   3.0                1.0  ...  20.0   170.0    59.0   \n",
       "\n",
       "   Number of siblings  Gender  Left - right handed                Education  \\\n",
       "0                 1.0  female         right handed  college/bachelor degree   \n",
       "1                 2.0  female         right handed  college/bachelor degree   \n",
       "2                 2.0  female         right handed         secondary school   \n",
       "3                 1.0  female         right handed  college/bachelor degree   \n",
       "4                 1.0  female         right handed         secondary school   \n",
       "\n",
       "   Only child  Village - town  House - block of flats  \n",
       "0          no         village          block of flats  \n",
       "1          no            city          block of flats  \n",
       "2          no            city          block of flats  \n",
       "3         yes            city          house/bungalow  \n",
       "4          no         village          house/bungalow  \n",
       "\n",
       "[5 rows x 150 columns]"
      ]
     },
     "execution_count": 3,
     "metadata": {},
     "output_type": "execute_result"
    }
   ],
   "source": [
    "data.head()"
   ]
  },
  {
   "cell_type": "markdown",
   "metadata": {},
   "source": [
    "<div class=\"alert alert-info\">\n",
    "\n",
    "<b>Про датасет </b>\n",
    "\n",
    "\n",
    "    \n",
    "Приведеные результаты опроса молодежи до 21-го года по тому, какие вещи делют их счастливыми по 5-й шкале\n",
    "    \n",
    "</div>\n"
   ]
  },
  {
   "cell_type": "markdown",
   "metadata": {},
   "source": [
    "<div class=\"alert alert-info\">\n",
    "\n",
    "<b>Про Задачу </b>\n",
    "\n",
    "Попробуем классифицировать людей по оценкам уровня счастья\n",
    "    \n",
    "</div>\n"
   ]
  },
  {
   "cell_type": "code",
   "execution_count": 4,
   "metadata": {
    "ExecuteTime": {
     "end_time": "2022-04-18T19:20:16.430847Z",
     "start_time": "2022-04-18T19:20:16.417849Z"
    }
   },
   "outputs": [],
   "source": [
    "interesting_features = [\"Happiness in life\", \"Age\", \"Height\", \"Gender\", \"Weight\", \n",
    "              \"Left - right handed\", \"Village - town\", \"Getting up\", \"God\",\n",
    "              \"Health\", \"Borrowed stuff\", \"Self-criticism\", \"Elections\", \n",
    "              \"Smoking\", \"Alcohol\" ,\"Number of friends\", \"Spending on healthy eating\",\n",
    "              \"Music\", \"Movies\", \"Friends versus money\", \"Changing the past\"]\n",
    "\n",
    "target = [\"Happiness in life\"]"
   ]
  },
  {
   "cell_type": "code",
   "execution_count": 5,
   "metadata": {
    "ExecuteTime": {
     "end_time": "2022-04-18T19:20:16.446847Z",
     "start_time": "2022-04-18T19:20:16.431848Z"
    }
   },
   "outputs": [],
   "source": [
    "# data[\"Happiness in life\"].hist();"
   ]
  },
  {
   "cell_type": "code",
   "execution_count": 6,
   "metadata": {
    "ExecuteTime": {
     "end_time": "2022-04-18T19:20:16.462848Z",
     "start_time": "2022-04-18T19:20:16.448849Z"
    }
   },
   "outputs": [],
   "source": [
    "data = data[interesting_features]"
   ]
  },
  {
   "cell_type": "code",
   "execution_count": 7,
   "metadata": {
    "ExecuteTime": {
     "end_time": "2022-04-18T19:20:16.637994Z",
     "start_time": "2022-04-18T19:20:16.463848Z"
    }
   },
   "outputs": [
    {
     "data": {
      "image/png": "[encoded data removed]",
      "text/plain": [
       "<Figure size 432x288 with 1 Axes>"
      ]
     },
     "metadata": {
      "needs_background": "light"
     },
     "output_type": "display_data"
    }
   ],
   "source": [
    "# Сбалансируем немного классы\n",
    "\n",
    "def happiness_score(x):\n",
    "    if x < 4:\n",
    "        return -1\n",
    "    elif x == 4.0:\n",
    "        return 0\n",
    "    else:\n",
    "        return 1\n",
    "    \n",
    "data[\"Happiness in life\"] = data[\"Happiness in life\"].apply(happiness_score)"
   ]
  },
  {
   "cell_type": "markdown",
   "metadata": {},
   "source": [
    "# Как пишут код обычно? - The painful way"
   ]
  },
  {
   "cell_type": "markdown",
   "metadata": {},
   "source": [
    "# Какой-нибудь EDA (исследование данных)"
   ]
  },
  {
   "cell_type": "markdown",
   "metadata": {},
   "source": [
    "# Есть ли в данных выбросы? Есть почти всегда!"
   ]
  },
  {
   "cell_type": "code",
   "execution_count": 11,
   "metadata": {
    "ExecuteTime": {
     "end_time": "2022-04-18T19:20:19.780118Z",
     "start_time": "2022-04-18T19:20:19.766414Z"
    }
   },
   "outputs": [],
   "source": [
    "# data.isnull().sum()"
   ]
  },
  {
   "cell_type": "code",
   "execution_count": 12,
   "metadata": {
    "ExecuteTime": {
     "end_time": "2022-04-18T19:20:19.796119Z",
     "start_time": "2022-04-18T19:20:19.781118Z"
    }
   },
   "outputs": [],
   "source": [
    "# data.dropna(inplace=True)"
   ]
  },
  {
   "cell_type": "code",
   "execution_count": 13,
   "metadata": {
    "ExecuteTime": {
     "end_time": "2022-04-18T19:20:19.956129Z",
     "start_time": "2022-04-18T19:20:19.798121Z"
    }
   },
   "outputs": [
    {
     "name": "stdout",
     "output_type": "stream",
     "text": [
      "(746, 21) (179, 21)\n"
     ]
    }
   ],
   "source": [
    "from sklearn.model_selection import train_test_split\n",
    "from sklearn.preprocessing import StandardScaler, OneHotEncoder\n",
    "\n",
    "\n",
    "data_train, data_test = train_test_split(data.copy(), test_size=0.2, stratify=data[target])\n",
    "\n",
    "data_train.dropna(inplace=True)\n",
    "data_test.dropna(inplace=True)\n",
    "\n",
    "print(data_train.shape, data_test.shape)"
   ]
  },
  {
   "cell_type": "code",
   "execution_count": 14,
   "metadata": {
    "ExecuteTime": {
     "end_time": "2022-04-18T19:20:19.987358Z",
     "start_time": "2022-04-18T19:20:19.957132Z"
    }
   },
   "outputs": [
    {
     "data": {
      "text/html": [
       "<div>\n",
       "<style scoped>\n",
       "    .dataframe tbody tr th:only-of-type {\n",
       "        vertical-align: middle;\n",
       "    }\n",
       "\n",
       "    .dataframe tbody tr th {\n",
       "        vertical-align: top;\n",
       "    }\n",
       "\n",
       "    .dataframe thead th {\n",
       "        text-align: right;\n",
       "    }\n",
       "</style>\n",
       "<table border=\"1\" class=\"dataframe\">\n",
       "  <thead>\n",
       "    <tr style=\"text-align: right;\">\n",
       "      <th></th>\n",
       "      <th>Happiness in life</th>\n",
       "      <th>Age</th>\n",
       "      <th>Height</th>\n",
       "      <th>Gender</th>\n",
       "      <th>Weight</th>\n",
       "      <th>Left - right handed</th>\n",
       "      <th>Village - town</th>\n",
       "      <th>Getting up</th>\n",
       "      <th>God</th>\n",
       "      <th>Health</th>\n",
       "      <th>...</th>\n",
       "      <th>Self-criticism</th>\n",
       "      <th>Elections</th>\n",
       "      <th>Smoking</th>\n",
       "      <th>Alcohol</th>\n",
       "      <th>Number of friends</th>\n",
       "      <th>Spending on healthy eating</th>\n",
       "      <th>Music</th>\n",
       "      <th>Movies</th>\n",
       "      <th>Friends versus money</th>\n",
       "      <th>Changing the past</th>\n",
       "    </tr>\n",
       "  </thead>\n",
       "  <tbody>\n",
       "    <tr>\n",
       "      <th>0</th>\n",
       "      <td>0</td>\n",
       "      <td>20.0</td>\n",
       "      <td>163.0</td>\n",
       "      <td>female</td>\n",
       "      <td>48.0</td>\n",
       "      <td>right handed</td>\n",
       "      <td>village</td>\n",
       "      <td>2.0</td>\n",
       "      <td>1.0</td>\n",
       "      <td>1.0</td>\n",
       "      <td>...</td>\n",
       "      <td>1.0</td>\n",
       "      <td>4.0</td>\n",
       "      <td>never smoked</td>\n",
       "      <td>drink a lot</td>\n",
       "      <td>3</td>\n",
       "      <td>3.0</td>\n",
       "      <td>5.0</td>\n",
       "      <td>5.0</td>\n",
       "      <td>3.0</td>\n",
       "      <td>1.0</td>\n",
       "    </tr>\n",
       "    <tr>\n",
       "      <th>1</th>\n",
       "      <td>0</td>\n",
       "      <td>19.0</td>\n",
       "      <td>163.0</td>\n",
       "      <td>female</td>\n",
       "      <td>58.0</td>\n",
       "      <td>right handed</td>\n",
       "      <td>city</td>\n",
       "      <td>5.0</td>\n",
       "      <td>1.0</td>\n",
       "      <td>4.0</td>\n",
       "      <td>...</td>\n",
       "      <td>4.0</td>\n",
       "      <td>5.0</td>\n",
       "      <td>never smoked</td>\n",
       "      <td>drink a lot</td>\n",
       "      <td>3</td>\n",
       "      <td>2.0</td>\n",
       "      <td>4.0</td>\n",
       "      <td>5.0</td>\n",
       "      <td>4.0</td>\n",
       "      <td>4.0</td>\n",
       "    </tr>\n",
       "    <tr>\n",
       "      <th>2</th>\n",
       "      <td>0</td>\n",
       "      <td>20.0</td>\n",
       "      <td>176.0</td>\n",
       "      <td>female</td>\n",
       "      <td>67.0</td>\n",
       "      <td>right handed</td>\n",
       "      <td>city</td>\n",
       "      <td>4.0</td>\n",
       "      <td>5.0</td>\n",
       "      <td>2.0</td>\n",
       "      <td>...</td>\n",
       "      <td>4.0</td>\n",
       "      <td>5.0</td>\n",
       "      <td>tried smoking</td>\n",
       "      <td>drink a lot</td>\n",
       "      <td>3</td>\n",
       "      <td>2.0</td>\n",
       "      <td>5.0</td>\n",
       "      <td>5.0</td>\n",
       "      <td>5.0</td>\n",
       "      <td>5.0</td>\n",
       "    </tr>\n",
       "    <tr>\n",
       "      <th>3</th>\n",
       "      <td>-1</td>\n",
       "      <td>22.0</td>\n",
       "      <td>172.0</td>\n",
       "      <td>female</td>\n",
       "      <td>59.0</td>\n",
       "      <td>right handed</td>\n",
       "      <td>city</td>\n",
       "      <td>1.0</td>\n",
       "      <td>4.0</td>\n",
       "      <td>1.0</td>\n",
       "      <td>...</td>\n",
       "      <td>5.0</td>\n",
       "      <td>5.0</td>\n",
       "      <td>former smoker</td>\n",
       "      <td>drink a lot</td>\n",
       "      <td>1</td>\n",
       "      <td>1.0</td>\n",
       "      <td>5.0</td>\n",
       "      <td>5.0</td>\n",
       "      <td>2.0</td>\n",
       "      <td>5.0</td>\n",
       "    </tr>\n",
       "    <tr>\n",
       "      <th>4</th>\n",
       "      <td>-1</td>\n",
       "      <td>20.0</td>\n",
       "      <td>170.0</td>\n",
       "      <td>female</td>\n",
       "      <td>59.0</td>\n",
       "      <td>right handed</td>\n",
       "      <td>village</td>\n",
       "      <td>4.0</td>\n",
       "      <td>5.0</td>\n",
       "      <td>3.0</td>\n",
       "      <td>...</td>\n",
       "      <td>5.0</td>\n",
       "      <td>5.0</td>\n",
       "      <td>tried smoking</td>\n",
       "      <td>social drinker</td>\n",
       "      <td>3</td>\n",
       "      <td>4.0</td>\n",
       "      <td>5.0</td>\n",
       "      <td>5.0</td>\n",
       "      <td>3.0</td>\n",
       "      <td>4.0</td>\n",
       "    </tr>\n",
       "  </tbody>\n",
       "</table>\n",
       "<p>5 rows × 21 columns</p>\n",
       "</div>"
      ],
      "text/plain": [
       "   Happiness in life   Age  Height  Gender  Weight Left - right handed  \\\n",
       "0                  0  20.0   163.0  female    48.0        right handed   \n",
       "1                  0  19.0   163.0  female    58.0        right handed   \n",
       "2                  0  20.0   176.0  female    67.0        right handed   \n",
       "3                 -1  22.0   172.0  female    59.0        right handed   \n",
       "4                 -1  20.0   170.0  female    59.0        right handed   \n",
       "\n",
       "  Village - town  Getting up  God  Health  ...  Self-criticism  Elections  \\\n",
       "0        village         2.0  1.0     1.0  ...             1.0        4.0   \n",
       "1           city         5.0  1.0     4.0  ...             4.0        5.0   \n",
       "2           city         4.0  5.0     2.0  ...             4.0        5.0   \n",
       "3           city         1.0  4.0     1.0  ...             5.0        5.0   \n",
       "4        village         4.0  5.0     3.0  ...             5.0        5.0   \n",
       "\n",
       "         Smoking         Alcohol Number of friends  \\\n",
       "0   never smoked     drink a lot                 3   \n",
       "1   never smoked     drink a lot                 3   \n",
       "2  tried smoking     drink a lot                 3   \n",
       "3  former smoker     drink a lot                 1   \n",
       "4  tried smoking  social drinker                 3   \n",
       "\n",
       "   Spending on healthy eating  Music  Movies  Friends versus money  \\\n",
       "0                         3.0    5.0     5.0                   3.0   \n",
       "1                         2.0    4.0     5.0                   4.0   \n",
       "2                         2.0    5.0     5.0                   5.0   \n",
       "3                         1.0    5.0     5.0                   2.0   \n",
       "4                         4.0    5.0     5.0                   3.0   \n",
       "\n",
       "   Changing the past  \n",
       "0                1.0  \n",
       "1                4.0  \n",
       "2                5.0  \n",
       "3                5.0  \n",
       "4                4.0  \n",
       "\n",
       "[5 rows x 21 columns]"
      ]
     },
     "execution_count": 14,
     "metadata": {},
     "output_type": "execute_result"
    }
   ],
   "source": [
    "data.head()"
   ]
  },
  {
   "cell_type": "code",
   "execution_count": 15,
   "metadata": {
    "ExecuteTime": {
     "end_time": "2022-04-18T19:20:20.003361Z",
     "start_time": "2022-04-18T19:20:19.988361Z"
    }
   },
   "outputs": [
    {
     "data": {
      "text/plain": [
       "social drinker    659\n",
       "drink a lot       222\n",
       "never             124\n",
       "Name: Alcohol, dtype: int64"
      ]
     },
     "execution_count": 15,
     "metadata": {},
     "output_type": "execute_result"
    }
   ],
   "source": [
    "data['Alcohol'].value_counts()"
   ]
  },
  {
   "cell_type": "markdown",
   "metadata": {},
   "source": [
    " "
   ]
  },
  {
   "cell_type": "markdown",
   "metadata": {},
   "source": [
    "# Какие признаки в данных?"
   ]
  },
  {
   "cell_type": "code",
   "execution_count": 16,
   "metadata": {
    "ExecuteTime": {
     "end_time": "2022-04-18T19:20:20.019360Z",
     "start_time": "2022-04-18T19:20:20.005362Z"
    }
   },
   "outputs": [
    {
     "data": {
      "text/plain": [
       "15"
      ]
     },
     "execution_count": 16,
     "metadata": {},
     "output_type": "execute_result"
    }
   ],
   "source": [
    "numerical_features = ['Age', 'Height', 'Weight']  # Численные переменные\n",
    "\n",
    "# Бинарные признаки\n",
    "to_dummies = [\n",
    "    'Gender', 'Left - right handed', 'Village - town', 'Smoking',  \"Alcohol\" ,\n",
    "]\n",
    "\n",
    "# Категориальные признаки\n",
    "categorical_features = [\n",
    "    col for col in data.columns if col not in numerical_features + target + to_dummies\n",
    "]\n",
    "\n",
    "all_features = categorical_features + numerical_features\n",
    "len(all_features)"
   ]
  },
  {
   "cell_type": "code",
   "execution_count": 17,
   "metadata": {
    "ExecuteTime": {
     "end_time": "2022-04-18T19:20:20.035361Z",
     "start_time": "2022-04-18T19:20:20.020361Z"
    }
   },
   "outputs": [],
   "source": [
    "# data[numerical_features]"
   ]
  },
  {
   "cell_type": "code",
   "execution_count": 18,
   "metadata": {
    "ExecuteTime": {
     "end_time": "2022-04-18T19:20:20.051362Z",
     "start_time": "2022-04-18T19:20:20.036363Z"
    }
   },
   "outputs": [],
   "source": [
    "from sklearn.preprocessing import StandardScaler, RobustScaler, LabelEncoder, OneHotEncoder, MinMaxScaler"
   ]
  },
  {
   "cell_type": "code",
   "execution_count": 19,
   "metadata": {
    "ExecuteTime": {
     "end_time": "2022-04-18T19:20:20.067364Z",
     "start_time": "2022-04-18T19:20:20.053365Z"
    }
   },
   "outputs": [],
   "source": [
    "scaler = StandardScaler() # Нормировка для численных признаков"
   ]
  },
  {
   "cell_type": "code",
   "execution_count": 20,
   "metadata": {
    "ExecuteTime": {
     "end_time": "2022-04-18T19:20:20.083365Z",
     "start_time": "2022-04-18T19:20:20.068365Z"
    }
   },
   "outputs": [
    {
     "data": {
      "text/plain": [
       "array([[-0.15861707, -0.31339601, -0.44805128],\n",
       "       [-0.50766819,  0.85948071,  1.12223313],\n",
       "       [ 0.53948518,  1.83687798,  1.04745768],\n",
       "       [-1.20577044,  1.15269989,  1.34655948],\n",
       "       [ 0.19043406, -0.80209465, -0.82192852],\n",
       "       [ 0.19043406,  2.91201497,  1.04745768],\n",
       "       [-1.9038727 , -0.31339601,  0.67358044],\n",
       "       [-1.9038727 , -0.02017683, -1.27058121],\n",
       "       [-1.55482157, -0.41113574, -0.22372493],\n",
       "       [ 3.33189419,  0.66400125,  1.04745768]])"
      ]
     },
     "execution_count": 20,
     "metadata": {},
     "output_type": "execute_result"
    }
   ],
   "source": [
    "data_train_scaled = scaler.fit_transform(data_train[numerical_features])\n",
    "data_train_scaled[:10]"
   ]
  },
  {
   "cell_type": "code",
   "execution_count": 21,
   "metadata": {
    "ExecuteTime": {
     "end_time": "2022-04-18T19:20:20.099366Z",
     "start_time": "2022-04-18T19:20:20.084366Z"
    }
   },
   "outputs": [
    {
     "data": {
      "text/plain": [
       "array([[1., 0., 0., 1., 1., 0., 0., 0., 0., 1., 0., 0., 1.],\n",
       "       [0., 1., 0., 1., 1., 0., 0., 1., 0., 0., 1., 0., 0.],\n",
       "       [0., 1., 1., 0., 1., 0., 0., 0., 0., 1., 0., 1., 0.],\n",
       "       [0., 1., 1., 0., 1., 0., 0., 0., 0., 1., 0., 0., 1.],\n",
       "       [1., 0., 0., 1., 1., 0., 1., 0., 0., 0., 1., 0., 0.],\n",
       "       [0., 1., 1., 0., 0., 1., 1., 0., 0., 0., 0., 0., 1.],\n",
       "       [0., 1., 0., 1., 1., 0., 0., 0., 0., 1., 0., 0., 1.],\n",
       "       [1., 0., 1., 0., 1., 0., 0., 0., 1., 0., 0., 1., 0.],\n",
       "       [1., 0., 0., 1., 0., 1., 0., 0., 0., 1., 0., 0., 1.],\n",
       "       [0., 1., 0., 1., 1., 0., 0., 1., 0., 0., 0., 1., 0.]])"
      ]
     },
     "execution_count": 21,
     "metadata": {},
     "output_type": "execute_result"
    }
   ],
   "source": [
    "ohe = OneHotEncoder(sparse=False, handle_unknown='ignore')  # кодирование для категориальных признаков\n",
    "\n",
    "data_train_ohe = ohe.fit_transform(data_train[to_dummies])\n",
    "data_train_ohe[:10]"
   ]
  },
  {
   "cell_type": "code",
   "execution_count": 22,
   "metadata": {
    "ExecuteTime": {
     "end_time": "2022-04-18T19:20:20.131368Z",
     "start_time": "2022-04-18T19:20:20.100369Z"
    }
   },
   "outputs": [
    {
     "data": {
      "text/html": [
       "<div>\n",
       "<style scoped>\n",
       "    .dataframe tbody tr th:only-of-type {\n",
       "        vertical-align: middle;\n",
       "    }\n",
       "\n",
       "    .dataframe tbody tr th {\n",
       "        vertical-align: top;\n",
       "    }\n",
       "\n",
       "    .dataframe thead th {\n",
       "        text-align: right;\n",
       "    }\n",
       "</style>\n",
       "<table border=\"1\" class=\"dataframe\">\n",
       "  <thead>\n",
       "    <tr style=\"text-align: right;\">\n",
       "      <th></th>\n",
       "      <th>Age</th>\n",
       "      <th>Height</th>\n",
       "      <th>Weight</th>\n",
       "      <th>x0_female</th>\n",
       "      <th>x0_male</th>\n",
       "      <th>x1_left handed</th>\n",
       "      <th>x1_right handed</th>\n",
       "      <th>x2_city</th>\n",
       "      <th>x2_village</th>\n",
       "      <th>x3_current smoker</th>\n",
       "      <th>x3_former smoker</th>\n",
       "      <th>x3_never smoked</th>\n",
       "      <th>x3_tried smoking</th>\n",
       "      <th>x4_drink a lot</th>\n",
       "      <th>x4_never</th>\n",
       "      <th>x4_social drinker</th>\n",
       "    </tr>\n",
       "  </thead>\n",
       "  <tbody>\n",
       "    <tr>\n",
       "      <th>0</th>\n",
       "      <td>-0.158617</td>\n",
       "      <td>-0.313396</td>\n",
       "      <td>-0.448051</td>\n",
       "      <td>1.0</td>\n",
       "      <td>0.0</td>\n",
       "      <td>0.0</td>\n",
       "      <td>1.0</td>\n",
       "      <td>1.0</td>\n",
       "      <td>0.0</td>\n",
       "      <td>0.0</td>\n",
       "      <td>0.0</td>\n",
       "      <td>0.0</td>\n",
       "      <td>1.0</td>\n",
       "      <td>0.0</td>\n",
       "      <td>0.0</td>\n",
       "      <td>1.0</td>\n",
       "    </tr>\n",
       "    <tr>\n",
       "      <th>1</th>\n",
       "      <td>-0.507668</td>\n",
       "      <td>0.859481</td>\n",
       "      <td>1.122233</td>\n",
       "      <td>0.0</td>\n",
       "      <td>1.0</td>\n",
       "      <td>0.0</td>\n",
       "      <td>1.0</td>\n",
       "      <td>1.0</td>\n",
       "      <td>0.0</td>\n",
       "      <td>0.0</td>\n",
       "      <td>1.0</td>\n",
       "      <td>0.0</td>\n",
       "      <td>0.0</td>\n",
       "      <td>1.0</td>\n",
       "      <td>0.0</td>\n",
       "      <td>0.0</td>\n",
       "    </tr>\n",
       "    <tr>\n",
       "      <th>2</th>\n",
       "      <td>0.539485</td>\n",
       "      <td>1.836878</td>\n",
       "      <td>1.047458</td>\n",
       "      <td>0.0</td>\n",
       "      <td>1.0</td>\n",
       "      <td>1.0</td>\n",
       "      <td>0.0</td>\n",
       "      <td>1.0</td>\n",
       "      <td>0.0</td>\n",
       "      <td>0.0</td>\n",
       "      <td>0.0</td>\n",
       "      <td>0.0</td>\n",
       "      <td>1.0</td>\n",
       "      <td>0.0</td>\n",
       "      <td>1.0</td>\n",
       "      <td>0.0</td>\n",
       "    </tr>\n",
       "    <tr>\n",
       "      <th>3</th>\n",
       "      <td>-1.205770</td>\n",
       "      <td>1.152700</td>\n",
       "      <td>1.346559</td>\n",
       "      <td>0.0</td>\n",
       "      <td>1.0</td>\n",
       "      <td>1.0</td>\n",
       "      <td>0.0</td>\n",
       "      <td>1.0</td>\n",
       "      <td>0.0</td>\n",
       "      <td>0.0</td>\n",
       "      <td>0.0</td>\n",
       "      <td>0.0</td>\n",
       "      <td>1.0</td>\n",
       "      <td>0.0</td>\n",
       "      <td>0.0</td>\n",
       "      <td>1.0</td>\n",
       "    </tr>\n",
       "    <tr>\n",
       "      <th>4</th>\n",
       "      <td>0.190434</td>\n",
       "      <td>-0.802095</td>\n",
       "      <td>-0.821929</td>\n",
       "      <td>1.0</td>\n",
       "      <td>0.0</td>\n",
       "      <td>0.0</td>\n",
       "      <td>1.0</td>\n",
       "      <td>1.0</td>\n",
       "      <td>0.0</td>\n",
       "      <td>1.0</td>\n",
       "      <td>0.0</td>\n",
       "      <td>0.0</td>\n",
       "      <td>0.0</td>\n",
       "      <td>1.0</td>\n",
       "      <td>0.0</td>\n",
       "      <td>0.0</td>\n",
       "    </tr>\n",
       "  </tbody>\n",
       "</table>\n",
       "</div>"
      ],
      "text/plain": [
       "        Age    Height    Weight  x0_female  x0_male  x1_left handed  \\\n",
       "0 -0.158617 -0.313396 -0.448051        1.0      0.0             0.0   \n",
       "1 -0.507668  0.859481  1.122233        0.0      1.0             0.0   \n",
       "2  0.539485  1.836878  1.047458        0.0      1.0             1.0   \n",
       "3 -1.205770  1.152700  1.346559        0.0      1.0             1.0   \n",
       "4  0.190434 -0.802095 -0.821929        1.0      0.0             0.0   \n",
       "\n",
       "   x1_right handed  x2_city  x2_village  x3_current smoker  x3_former smoker  \\\n",
       "0              1.0      1.0         0.0                0.0               0.0   \n",
       "1              1.0      1.0         0.0                0.0               1.0   \n",
       "2              0.0      1.0         0.0                0.0               0.0   \n",
       "3              0.0      1.0         0.0                0.0               0.0   \n",
       "4              1.0      1.0         0.0                1.0               0.0   \n",
       "\n",
       "   x3_never smoked  x3_tried smoking  x4_drink a lot  x4_never  \\\n",
       "0              0.0               1.0             0.0       0.0   \n",
       "1              0.0               0.0             1.0       0.0   \n",
       "2              0.0               1.0             0.0       1.0   \n",
       "3              0.0               1.0             0.0       0.0   \n",
       "4              0.0               0.0             1.0       0.0   \n",
       "\n",
       "   x4_social drinker  \n",
       "0                1.0  \n",
       "1                0.0  \n",
       "2                0.0  \n",
       "3                1.0  \n",
       "4                0.0  "
      ]
     },
     "execution_count": 22,
     "metadata": {},
     "output_type": "execute_result"
    }
   ],
   "source": [
    "data_train_tramsformed = pd.concat([pd.DataFrame(data_train_scaled, columns=numerical_features),\n",
    "                                    pd.DataFrame(data_train_ohe, columns=ohe.get_feature_names()),\n",
    "                                   # pd.DataFrame(data_train[categorical_features].values)\n",
    "                                   ], axis=1)\n",
    "data_train_tramsformed.head()"
   ]
  },
  {
   "cell_type": "markdown",
   "metadata": {},
   "source": [
    "# ML часть"
   ]
  },
  {
   "cell_type": "code",
   "execution_count": 23,
   "metadata": {
    "ExecuteTime": {
     "end_time": "2022-04-18T19:20:20.179372Z",
     "start_time": "2022-04-18T19:20:20.132370Z"
    }
   },
   "outputs": [],
   "source": [
    "from sklearn.linear_model import LogisticRegression\n",
    "\n",
    "from sklearn.metrics import classification_report, confusion_matrix, f1_score, make_scorer"
   ]
  },
  {
   "cell_type": "code",
   "execution_count": 24,
   "metadata": {
    "ExecuteTime": {
     "end_time": "2022-04-18T19:20:20.227375Z",
     "start_time": "2022-04-18T19:20:20.180376Z"
    }
   },
   "outputs": [
    {
     "data": {
      "text/plain": [
       "LogisticRegression()"
      ]
     },
     "execution_count": 24,
     "metadata": {},
     "output_type": "execute_result"
    }
   ],
   "source": [
    "model = LogisticRegression()\n",
    "\n",
    "model.fit(data_train_tramsformed, data_train[target])"
   ]
  },
  {
   "cell_type": "code",
   "execution_count": 25,
   "metadata": {
    "ExecuteTime": {
     "end_time": "2022-04-18T19:20:20.243377Z",
     "start_time": "2022-04-18T19:20:20.229378Z"
    }
   },
   "outputs": [
    {
     "name": "stdout",
     "output_type": "stream",
     "text": [
      "              precision    recall  f1-score   support\n",
      "\n",
      "          -1       0.47      0.03      0.06       263\n",
      "           0       0.50      0.98      0.67       375\n",
      "           1       0.00      0.00      0.00       108\n",
      "\n",
      "    accuracy                           0.50       746\n",
      "   macro avg       0.33      0.34      0.24       746\n",
      "weighted avg       0.42      0.50      0.36       746\n",
      "\n"
     ]
    }
   ],
   "source": [
    "preds = model.predict(data_train_tramsformed)\n",
    "\n",
    "\n",
    "print(classification_report(data_train[target], preds))"
   ]
  },
  {
   "cell_type": "markdown",
   "metadata": {},
   "source": [
    "# А как же тест?! Валидация"
   ]
  },
  {
   "cell_type": "code",
   "execution_count": 26,
   "metadata": {
    "ExecuteTime": {
     "end_time": "2022-04-18T19:20:20.259378Z",
     "start_time": "2022-04-18T19:20:20.245378Z"
    }
   },
   "outputs": [
    {
     "data": {
      "text/plain": [
       "array([[-0.50766819, -0.80209465,  0.2997032 ],\n",
       "       [-0.15861707, -1.77949192, -1.64445845],\n",
       "       [ 0.88853631,  1.83687798,  1.49611037],\n",
       "       [-1.20577044,  0.17530262,  0.15015231],\n",
       "       [-0.50766819,  1.34817934,  0.22492776],\n",
       "       [ 0.53948518, -0.11791656,  0.2997032 ],\n",
       "       [-0.50766819, -0.31339601, -0.82192852],\n",
       "       [ 1.23758744, -0.50887547, -0.82192852],\n",
       "       [ 0.19043406, -0.02017683, -0.82192852],\n",
       "       [-0.50766819,  0.4685218 ,  0.598805  ]])"
      ]
     },
     "execution_count": 26,
     "metadata": {},
     "output_type": "execute_result"
    }
   ],
   "source": [
    "data_test_scaled = scaler.transform(data_test[numerical_features])\n",
    "data_test_scaled[:10]"
   ]
  },
  {
   "cell_type": "code",
   "execution_count": 27,
   "metadata": {
    "ExecuteTime": {
     "end_time": "2022-04-18T19:20:20.275379Z",
     "start_time": "2022-04-18T19:20:20.261379Z"
    }
   },
   "outputs": [
    {
     "data": {
      "text/plain": [
       "array([[1., 0., 0., 1., 1., 0., 1., 0., 0., 0., 1., 0., 0.],\n",
       "       [1., 0., 0., 1., 0., 1., 0., 0., 1., 0., 0., 0., 1.],\n",
       "       [0., 1., 0., 1., 1., 0., 0., 1., 0., 0., 1., 0., 0.],\n",
       "       [1., 0., 0., 1., 1., 0., 0., 0., 0., 1., 0., 0., 1.],\n",
       "       [0., 1., 0., 1., 1., 0., 0., 1., 0., 0., 1., 0., 0.],\n",
       "       [0., 1., 0., 1., 1., 0., 0., 0., 1., 0., 1., 0., 0.],\n",
       "       [1., 0., 1., 0., 1., 0., 0., 0., 0., 1., 0., 0., 1.],\n",
       "       [1., 0., 0., 1., 1., 0., 0., 0., 0., 1., 0., 0., 1.],\n",
       "       [1., 0., 0., 1., 1., 0., 0., 1., 0., 0., 0., 0., 1.],\n",
       "       [0., 1., 0., 1., 1., 0., 0., 1., 0., 0., 1., 0., 0.]])"
      ]
     },
     "execution_count": 27,
     "metadata": {},
     "output_type": "execute_result"
    }
   ],
   "source": [
    "data_test_ohe = ohe.transform(data_test[to_dummies])\n",
    "data_test_ohe[:10]"
   ]
  },
  {
   "cell_type": "code",
   "execution_count": 28,
   "metadata": {
    "ExecuteTime": {
     "end_time": "2022-04-18T19:20:20.307383Z",
     "start_time": "2022-04-18T19:20:20.282381Z"
    }
   },
   "outputs": [
    {
     "data": {
      "text/html": [
       "<div>\n",
       "<style scoped>\n",
       "    .dataframe tbody tr th:only-of-type {\n",
       "        vertical-align: middle;\n",
       "    }\n",
       "\n",
       "    .dataframe tbody tr th {\n",
       "        vertical-align: top;\n",
       "    }\n",
       "\n",
       "    .dataframe thead th {\n",
       "        text-align: right;\n",
       "    }\n",
       "</style>\n",
       "<table border=\"1\" class=\"dataframe\">\n",
       "  <thead>\n",
       "    <tr style=\"text-align: right;\">\n",
       "      <th></th>\n",
       "      <th>Age</th>\n",
       "      <th>Height</th>\n",
       "      <th>Weight</th>\n",
       "      <th>x0_female</th>\n",
       "      <th>x0_male</th>\n",
       "      <th>x1_left handed</th>\n",
       "      <th>x1_right handed</th>\n",
       "      <th>x2_city</th>\n",
       "      <th>x2_village</th>\n",
       "      <th>x3_current smoker</th>\n",
       "      <th>x3_former smoker</th>\n",
       "      <th>x3_never smoked</th>\n",
       "      <th>x3_tried smoking</th>\n",
       "      <th>x4_drink a lot</th>\n",
       "      <th>x4_never</th>\n",
       "      <th>x4_social drinker</th>\n",
       "    </tr>\n",
       "  </thead>\n",
       "  <tbody>\n",
       "    <tr>\n",
       "      <th>0</th>\n",
       "      <td>-0.507668</td>\n",
       "      <td>-0.802095</td>\n",
       "      <td>0.299703</td>\n",
       "      <td>1.0</td>\n",
       "      <td>0.0</td>\n",
       "      <td>0.0</td>\n",
       "      <td>1.0</td>\n",
       "      <td>1.0</td>\n",
       "      <td>0.0</td>\n",
       "      <td>1.0</td>\n",
       "      <td>0.0</td>\n",
       "      <td>0.0</td>\n",
       "      <td>0.0</td>\n",
       "      <td>1.0</td>\n",
       "      <td>0.0</td>\n",
       "      <td>0.0</td>\n",
       "    </tr>\n",
       "    <tr>\n",
       "      <th>1</th>\n",
       "      <td>-0.158617</td>\n",
       "      <td>-1.779492</td>\n",
       "      <td>-1.644458</td>\n",
       "      <td>1.0</td>\n",
       "      <td>0.0</td>\n",
       "      <td>0.0</td>\n",
       "      <td>1.0</td>\n",
       "      <td>0.0</td>\n",
       "      <td>1.0</td>\n",
       "      <td>0.0</td>\n",
       "      <td>0.0</td>\n",
       "      <td>1.0</td>\n",
       "      <td>0.0</td>\n",
       "      <td>0.0</td>\n",
       "      <td>0.0</td>\n",
       "      <td>1.0</td>\n",
       "    </tr>\n",
       "    <tr>\n",
       "      <th>2</th>\n",
       "      <td>0.888536</td>\n",
       "      <td>1.836878</td>\n",
       "      <td>1.496110</td>\n",
       "      <td>0.0</td>\n",
       "      <td>1.0</td>\n",
       "      <td>0.0</td>\n",
       "      <td>1.0</td>\n",
       "      <td>1.0</td>\n",
       "      <td>0.0</td>\n",
       "      <td>0.0</td>\n",
       "      <td>1.0</td>\n",
       "      <td>0.0</td>\n",
       "      <td>0.0</td>\n",
       "      <td>1.0</td>\n",
       "      <td>0.0</td>\n",
       "      <td>0.0</td>\n",
       "    </tr>\n",
       "    <tr>\n",
       "      <th>3</th>\n",
       "      <td>-1.205770</td>\n",
       "      <td>0.175303</td>\n",
       "      <td>0.150152</td>\n",
       "      <td>1.0</td>\n",
       "      <td>0.0</td>\n",
       "      <td>0.0</td>\n",
       "      <td>1.0</td>\n",
       "      <td>1.0</td>\n",
       "      <td>0.0</td>\n",
       "      <td>0.0</td>\n",
       "      <td>0.0</td>\n",
       "      <td>0.0</td>\n",
       "      <td>1.0</td>\n",
       "      <td>0.0</td>\n",
       "      <td>0.0</td>\n",
       "      <td>1.0</td>\n",
       "    </tr>\n",
       "    <tr>\n",
       "      <th>4</th>\n",
       "      <td>-0.507668</td>\n",
       "      <td>1.348179</td>\n",
       "      <td>0.224928</td>\n",
       "      <td>0.0</td>\n",
       "      <td>1.0</td>\n",
       "      <td>0.0</td>\n",
       "      <td>1.0</td>\n",
       "      <td>1.0</td>\n",
       "      <td>0.0</td>\n",
       "      <td>0.0</td>\n",
       "      <td>1.0</td>\n",
       "      <td>0.0</td>\n",
       "      <td>0.0</td>\n",
       "      <td>1.0</td>\n",
       "      <td>0.0</td>\n",
       "      <td>0.0</td>\n",
       "    </tr>\n",
       "  </tbody>\n",
       "</table>\n",
       "</div>"
      ],
      "text/plain": [
       "        Age    Height    Weight  x0_female  x0_male  x1_left handed  \\\n",
       "0 -0.507668 -0.802095  0.299703        1.0      0.0             0.0   \n",
       "1 -0.158617 -1.779492 -1.644458        1.0      0.0             0.0   \n",
       "2  0.888536  1.836878  1.496110        0.0      1.0             0.0   \n",
       "3 -1.205770  0.175303  0.150152        1.0      0.0             0.0   \n",
       "4 -0.507668  1.348179  0.224928        0.0      1.0             0.0   \n",
       "\n",
       "   x1_right handed  x2_city  x2_village  x3_current smoker  x3_former smoker  \\\n",
       "0              1.0      1.0         0.0                1.0               0.0   \n",
       "1              1.0      0.0         1.0                0.0               0.0   \n",
       "2              1.0      1.0         0.0                0.0               1.0   \n",
       "3              1.0      1.0         0.0                0.0               0.0   \n",
       "4              1.0      1.0         0.0                0.0               1.0   \n",
       "\n",
       "   x3_never smoked  x3_tried smoking  x4_drink a lot  x4_never  \\\n",
       "0              0.0               0.0             1.0       0.0   \n",
       "1              1.0               0.0             0.0       0.0   \n",
       "2              0.0               0.0             1.0       0.0   \n",
       "3              0.0               1.0             0.0       0.0   \n",
       "4              0.0               0.0             1.0       0.0   \n",
       "\n",
       "   x4_social drinker  \n",
       "0                0.0  \n",
       "1                1.0  \n",
       "2                0.0  \n",
       "3                1.0  \n",
       "4                0.0  "
      ]
     },
     "execution_count": 28,
     "metadata": {},
     "output_type": "execute_result"
    }
   ],
   "source": [
    "data_test_tramsformed = pd.concat([pd.DataFrame(data_test_scaled, columns=numerical_features),\n",
    "                                    pd.DataFrame(data_test_ohe, columns=ohe.get_feature_names()),\n",
    "                                    #pd.DataFrame(data_test[categorical_features].values)\n",
    "                                  ], axis=1)\n",
    "data_test_tramsformed.head()"
   ]
  },
  {
   "cell_type": "code",
   "execution_count": 29,
   "metadata": {
    "ExecuteTime": {
     "end_time": "2022-04-18T19:20:20.323383Z",
     "start_time": "2022-04-18T19:20:20.308383Z"
    }
   },
   "outputs": [],
   "source": [
    "preds = model.predict(data_test_tramsformed)"
   ]
  },
  {
   "cell_type": "code",
   "execution_count": 30,
   "metadata": {
    "ExecuteTime": {
     "end_time": "2022-04-18T19:20:20.339384Z",
     "start_time": "2022-04-18T19:20:20.324384Z"
    }
   },
   "outputs": [
    {
     "name": "stdout",
     "output_type": "stream",
     "text": [
      "              precision    recall  f1-score   support\n",
      "\n",
      "          -1       1.00      0.03      0.06        61\n",
      "           0       0.52      1.00      0.68        92\n",
      "           1       0.00      0.00      0.00        26\n",
      "\n",
      "    accuracy                           0.53       179\n",
      "   macro avg       0.51      0.34      0.25       179\n",
      "weighted avg       0.61      0.53      0.37       179\n",
      "\n"
     ]
    }
   ],
   "source": [
    "print(classification_report(data_test[target], preds))"
   ]
  },
  {
   "cell_type": "markdown",
   "metadata": {},
   "source": [
    "## Что не так с этим способом?"
   ]
  },
  {
   "cell_type": "markdown",
   "metadata": {},
   "source": [
    "<div class=\"alert alert-warning\">\n",
    "\n",
    "\n",
    " - Дублируем код ли кода\n",
    "\n",
    " - Сложно маштабировать\n",
    "\n",
    " - Сложно поддерживать свой код\n",
    "    \n",
    " - Много времени("
   ]
  },
  {
   "cell_type": "markdown",
   "metadata": {},
   "source": [
    "Как сохранить всю эту махину? "
   ]
  },
  {
   "cell_type": "code",
   "execution_count": null,
   "metadata": {},
   "outputs": [],
   "source": [
    " "
   ]
  },
  {
   "cell_type": "markdown",
   "metadata": {},
   "source": [
    "# Как пишут код true-датасаентисты - The pipeline way "
   ]
  },
  {
   "cell_type": "markdown",
   "metadata": {},
   "source": [
    "<div>\n",
    "<img src=\"https://i.pinimg.com/564x/41/d2/4b/41d24b25710d7746b22a7eb34316952c.jpg\" width=\"500\"/>\n",
    "</div>"
   ]
  },
  {
   "cell_type": "markdown",
   "metadata": {},
   "source": [
    "<div class=\"alert alert-info\">\n",
    "\n",
    "Pipeline позволяет обернуть сразу несколько этапов обработки данных в один объект\n",
    "\n",
    "- **FunctionTransformer**: преобразует функцию в трансформер\n",
    "- **FeatureUnion**: объединяет результаты нескольких трансформеров в один датасет\n",
    "- **ColumnTransformer**: выбирает определенные колонки\n",
    "- **make_pipeline**: удобная обертка для создания пайплайна, можно использовать вместо Pipeline "
   ]
  },
  {
   "cell_type": "code",
   "execution_count": null,
   "metadata": {},
   "outputs": [],
   "source": [
    " "
   ]
  },
  {
   "cell_type": "code",
   "execution_count": 31,
   "metadata": {
    "ExecuteTime": {
     "end_time": "2022-04-18T19:20:20.403390Z",
     "start_time": "2022-04-18T19:20:20.340386Z"
    }
   },
   "outputs": [],
   "source": [
    "# Гости этого вечера. Нужные нам фрагменты для сборки пайплайна\n",
    "\n",
    "from sklearn.pipeline import Pipeline, make_pipeline, FeatureUnion\n",
    "from sklearn.compose import ColumnTransformer, make_column_selector\n",
    "\n",
    "from sklearn.impute import SimpleImputer, KNNImputer\n",
    "from sklearn.feature_selection import SelectKBest, chi2, f_classif"
   ]
  },
  {
   "cell_type": "code",
   "execution_count": 125,
   "metadata": {
    "ExecuteTime": {
     "end_time": "2022-04-18T19:21:56.996597Z",
     "start_time": "2022-04-18T19:21:56.808889Z"
    }
   },
   "outputs": [
    {
     "data": {
      "text/html": [
       "<style>#sk-496dff84-0b67-4661-8bbe-37707e2dbc31 {color: black;background-color: white;}#sk-496dff84-0b67-4661-8bbe-37707e2dbc31 pre{padding: 0;}#sk-496dff84-0b67-4661-8bbe-37707e2dbc31 div.sk-toggleable {background-color: white;}#sk-496dff84-0b67-4661-8bbe-37707e2dbc31 label.sk-toggleable__label {cursor: pointer;display: block;width: 100%;margin-bottom: 0;padding: 0.2em 0.3em;box-sizing: border-box;text-align: center;}#sk-496dff84-0b67-4661-8bbe-37707e2dbc31 div.sk-toggleable__content {max-height: 0;max-width: 0;overflow: hidden;text-align: left;background-color: #f0f8ff;}#sk-496dff84-0b67-4661-8bbe-37707e2dbc31 div.sk-toggleable__content pre {margin: 0.2em;color: black;border-radius: 0.25em;background-color: #f0f8ff;}#sk-496dff84-0b67-4661-8bbe-37707e2dbc31 input.sk-toggleable__control:checked~div.sk-toggleable__content {max-height: 200px;max-width: 100%;overflow: auto;}#sk-496dff84-0b67-4661-8bbe-37707e2dbc31 div.sk-estimator input.sk-toggleable__control:checked~label.sk-toggleable__label {background-color: #d4ebff;}#sk-496dff84-0b67-4661-8bbe-37707e2dbc31 div.sk-label input.sk-toggleable__control:checked~label.sk-toggleable__label {background-color: #d4ebff;}#sk-496dff84-0b67-4661-8bbe-37707e2dbc31 input.sk-hidden--visually {border: 0;clip: rect(1px 1px 1px 1px);clip: rect(1px, 1px, 1px, 1px);height: 1px;margin: -1px;overflow: hidden;padding: 0;position: absolute;width: 1px;}#sk-496dff84-0b67-4661-8bbe-37707e2dbc31 div.sk-estimator {font-family: monospace;background-color: #f0f8ff;margin: 0.25em 0.25em;border: 1px dotted black;border-radius: 0.25em;box-sizing: border-box;}#sk-496dff84-0b67-4661-8bbe-37707e2dbc31 div.sk-estimator:hover {background-color: #d4ebff;}#sk-496dff84-0b67-4661-8bbe-37707e2dbc31 div.sk-parallel-item::after {content: \"\";width: 100%;border-bottom: 1px solid gray;flex-grow: 1;}#sk-496dff84-0b67-4661-8bbe-37707e2dbc31 div.sk-label:hover label.sk-toggleable__label {background-color: #d4ebff;}#sk-496dff84-0b67-4661-8bbe-37707e2dbc31 div.sk-serial::before {content: \"\";position: absolute;border-left: 1px solid gray;box-sizing: border-box;top: 2em;bottom: 0;left: 50%;}#sk-496dff84-0b67-4661-8bbe-37707e2dbc31 div.sk-serial {display: flex;flex-direction: column;align-items: center;background-color: white;}#sk-496dff84-0b67-4661-8bbe-37707e2dbc31 div.sk-item {z-index: 1;}#sk-496dff84-0b67-4661-8bbe-37707e2dbc31 div.sk-parallel {display: flex;align-items: stretch;justify-content: center;background-color: white;}#sk-496dff84-0b67-4661-8bbe-37707e2dbc31 div.sk-parallel-item {display: flex;flex-direction: column;position: relative;background-color: white;}#sk-496dff84-0b67-4661-8bbe-37707e2dbc31 div.sk-parallel-item:first-child::after {align-self: flex-end;width: 50%;}#sk-496dff84-0b67-4661-8bbe-37707e2dbc31 div.sk-parallel-item:last-child::after {align-self: flex-start;width: 50%;}#sk-496dff84-0b67-4661-8bbe-37707e2dbc31 div.sk-parallel-item:only-child::after {width: 0;}#sk-496dff84-0b67-4661-8bbe-37707e2dbc31 div.sk-dashed-wrapped {border: 1px dashed gray;margin: 0.2em;box-sizing: border-box;padding-bottom: 0.1em;background-color: white;position: relative;}#sk-496dff84-0b67-4661-8bbe-37707e2dbc31 div.sk-label label {font-family: monospace;font-weight: bold;background-color: white;display: inline-block;line-height: 1.2em;}#sk-496dff84-0b67-4661-8bbe-37707e2dbc31 div.sk-label-container {position: relative;z-index: 2;text-align: center;}#sk-496dff84-0b67-4661-8bbe-37707e2dbc31 div.sk-container {display: inline-block;position: relative;}</style><div id=\"sk-496dff84-0b67-4661-8bbe-37707e2dbc31\" class\"sk-top-container\"><div class=\"sk-container\"><div class=\"sk-item sk-dashed-wrapped\"><div class=\"sk-label-container\"><div class=\"sk-label sk-toggleable\"><input class=\"sk-toggleable__control sk-hidden--visually\" id=\"9fea5b27-d485-43e6-9449-b97b4bbe5b0d\" type=\"checkbox\" ><label class=\"sk-toggleable__label\" for=\"9fea5b27-d485-43e6-9449-b97b4bbe5b0d\">Pipeline</label><div class=\"sk-toggleable__content\"><pre>Pipeline(steps=[('preprocessor',\n",
       "                 Pipeline(steps=[('data_transformer',\n",
       "                                  ColumnTransformer(transformers=[('numerical',\n",
       "                                                                   Pipeline(steps=[('imputer',\n",
       "                                                                                    SimpleImputer()),\n",
       "                                                                                   ('scaler',\n",
       "                                                                                    StandardScaler()),\n",
       "                                                                                   ('fs',\n",
       "                                                                                    SelectKBest(k='all'))]),\n",
       "                                                                   ['Music',\n",
       "                                                                    'Slow '\n",
       "                                                                    'songs or '\n",
       "                                                                    'fast '\n",
       "                                                                    'songs',\n",
       "                                                                    'Dance',\n",
       "                                                                    'Folk',\n",
       "                                                                    'Country',\n",
       "                                                                    'Classical '\n",
       "                                                                    'music',\n",
       "                                                                    'Musical',\n",
       "                                                                    'Pop',\n",
       "                                                                    'Rock',\n",
       "                                                                    'Metal or '\n",
       "                                                                    'Hardrock',\n",
       "                                                                    'Punk',\n",
       "                                                                    'Hi...\n",
       "                                                                    'Western', ...]),\n",
       "                                                                  ('categorical',\n",
       "                                                                   Pipeline(steps=[('imputer',\n",
       "                                                                                    SimpleImputer()),\n",
       "                                                                                   ('onehot',\n",
       "                                                                                    OneHotEncoder(handle_unknown='ignore'))]),\n",
       "                                                                   ['Getting '\n",
       "                                                                    'up',\n",
       "                                                                    'God',\n",
       "                                                                    'Health',\n",
       "                                                                    'Borrowed '\n",
       "                                                                    'stuff',\n",
       "                                                                    'Self-criticism',\n",
       "                                                                    'Elections',\n",
       "                                                                    'Number of '\n",
       "                                                                    'friends',\n",
       "                                                                    'Spending '\n",
       "                                                                    'on '\n",
       "                                                                    'healthy '\n",
       "                                                                    'eating',\n",
       "                                                                    'Music',\n",
       "                                                                    'Movies',\n",
       "                                                                    'Friends '\n",
       "                                                                    'versus '\n",
       "                                                                    'money',\n",
       "                                                                    'Changing '\n",
       "                                                                    'the '\n",
       "                                                                    'past'])]))])),\n",
       "                ('classifier', LogisticRegression())])</pre></div></div></div><div class=\"sk-serial\"><div class=\"sk-item\"><div class=\"sk-label-container\"><div class=\"sk-label sk-toggleable\"><input class=\"sk-toggleable__control sk-hidden--visually\" id=\"8e02fffc-5608-4cd8-a5ea-0b141fe3a156\" type=\"checkbox\" ><label class=\"sk-toggleable__label\" for=\"8e02fffc-5608-4cd8-a5ea-0b141fe3a156\">preprocessor: Pipeline</label><div class=\"sk-toggleable__content\"><pre>Pipeline(steps=[('data_transformer',\n",
       "                 ColumnTransformer(transformers=[('numerical',\n",
       "                                                  Pipeline(steps=[('imputer',\n",
       "                                                                   SimpleImputer()),\n",
       "                                                                  ('scaler',\n",
       "                                                                   StandardScaler()),\n",
       "                                                                  ('fs',\n",
       "                                                                   SelectKBest(k='all'))]),\n",
       "                                                  ['Music',\n",
       "                                                   'Slow songs or fast songs',\n",
       "                                                   'Dance', 'Folk', 'Country',\n",
       "                                                   'Classical music', 'Musical',\n",
       "                                                   'Pop', 'Rock',\n",
       "                                                   'Metal or Hardrock', 'Punk',\n",
       "                                                   'Hiphop, Rap', 'Reggae, Ska',\n",
       "                                                   'Swing, Jazz', 'Rock n...\n",
       "                                                   'Fantasy/Fairy tales',\n",
       "                                                   'Animated', 'Documentary',\n",
       "                                                   'Western', ...]),\n",
       "                                                 ('categorical',\n",
       "                                                  Pipeline(steps=[('imputer',\n",
       "                                                                   SimpleImputer()),\n",
       "                                                                  ('onehot',\n",
       "                                                                   OneHotEncoder(handle_unknown='ignore'))]),\n",
       "                                                  ['Getting up', 'God',\n",
       "                                                   'Health', 'Borrowed stuff',\n",
       "                                                   'Self-criticism',\n",
       "                                                   'Elections',\n",
       "                                                   'Number of friends',\n",
       "                                                   'Spending on healthy eating',\n",
       "                                                   'Music', 'Movies',\n",
       "                                                   'Friends versus money',\n",
       "                                                   'Changing the past'])]))])</pre></div></div></div><div class=\"sk-serial\"><div class=\"sk-item sk-dashed-wrapped\"><div class=\"sk-label-container\"><div class=\"sk-label sk-toggleable\"><input class=\"sk-toggleable__control sk-hidden--visually\" id=\"da2a8c5d-e5d2-4a07-ace2-f196caf9ef6c\" type=\"checkbox\" ><label class=\"sk-toggleable__label\" for=\"da2a8c5d-e5d2-4a07-ace2-f196caf9ef6c\">data_transformer: ColumnTransformer</label><div class=\"sk-toggleable__content\"><pre>ColumnTransformer(transformers=[('numerical',\n",
       "                                 Pipeline(steps=[('imputer', SimpleImputer()),\n",
       "                                                 ('scaler', StandardScaler()),\n",
       "                                                 ('fs', SelectKBest(k='all'))]),\n",
       "                                 ['Music', 'Slow songs or fast songs', 'Dance',\n",
       "                                  'Folk', 'Country', 'Classical music',\n",
       "                                  'Musical', 'Pop', 'Rock', 'Metal or Hardrock',\n",
       "                                  'Punk', 'Hiphop, Rap', 'Reggae, Ska',\n",
       "                                  'Swing, Jazz', 'Rock n roll', 'Alternative',\n",
       "                                  'Latino', 'Techno...\n",
       "                                  'Sci-fi', 'War', 'Fantasy/Fairy tales',\n",
       "                                  'Animated', 'Documentary', 'Western', ...]),\n",
       "                                ('categorical',\n",
       "                                 Pipeline(steps=[('imputer', SimpleImputer()),\n",
       "                                                 ('onehot',\n",
       "                                                  OneHotEncoder(handle_unknown='ignore'))]),\n",
       "                                 ['Getting up', 'God', 'Health',\n",
       "                                  'Borrowed stuff', 'Self-criticism',\n",
       "                                  'Elections', 'Number of friends',\n",
       "                                  'Spending on healthy eating', 'Music',\n",
       "                                  'Movies', 'Friends versus money',\n",
       "                                  'Changing the past'])])</pre></div></div></div><div class=\"sk-parallel\"><div class=\"sk-parallel-item\"><div class=\"sk-item\"><div class=\"sk-label-container\"><div class=\"sk-label sk-toggleable\"><input class=\"sk-toggleable__control sk-hidden--visually\" id=\"54ed2dd9-1bac-4267-a911-76f0ed72a228\" type=\"checkbox\" ><label class=\"sk-toggleable__label\" for=\"54ed2dd9-1bac-4267-a911-76f0ed72a228\">numerical</label><div class=\"sk-toggleable__content\"><pre>['Music', 'Slow songs or fast songs', 'Dance', 'Folk', 'Country', 'Classical music', 'Musical', 'Pop', 'Rock', 'Metal or Hardrock', 'Punk', 'Hiphop, Rap', 'Reggae, Ska', 'Swing, Jazz', 'Rock n roll', 'Alternative', 'Latino', 'Techno, Trance', 'Opera', 'Movies', 'Horror', 'Thriller', 'Comedy', 'Romantic', 'Sci-fi', 'War', 'Fantasy/Fairy tales', 'Animated', 'Documentary', 'Western', 'Action', 'History', 'Psychology', 'Politics', 'Mathematics', 'Physics', 'Internet', 'PC', 'Economy Management', 'Biology', 'Chemistry', 'Reading', 'Geography', 'Foreign languages', 'Medicine', 'Law', 'Cars', 'Art exhibitions', 'Religion', 'Countryside, outdoors', 'Dancing', 'Musical instruments', 'Writing', 'Passive sport', 'Active sport', 'Gardening', 'Celebrities', 'Shopping', 'Science and technology', 'Theatre', 'Fun with friends', 'Adrenaline sports', 'Pets', 'Flying', 'Storm', 'Darkness', 'Heights', 'Spiders', 'Snakes', 'Rats', 'Ageing', 'Dangerous dogs', 'Fear of public speaking', 'Healthy eating', 'Daily events', 'Prioritising workload', 'Writing notes', 'Workaholism', 'Thinking ahead', 'Final judgement', 'Reliability', 'Keeping promises', 'Loss of interest', 'Friends versus money', 'Funniness', 'Fake', 'Criminal damage', 'Decision making', 'Elections', 'Self-criticism', 'Judgment calls', 'Hypochondria', 'Empathy', 'Eating to survive', 'Giving', 'Compassion to animals', 'Borrowed stuff', 'Loneliness', 'Cheating in school', 'Health', 'Changing the past', 'God', 'Dreams', 'Charity', 'Number of friends', 'Waiting', 'New environment', 'Mood swings', 'Appearence and gestures', 'Socializing', 'Achievements', 'Responding to a serious letter', 'Children', 'Assertiveness', 'Getting angry', 'Knowing the right people', 'Public speaking', 'Unpopularity', 'Life struggles', 'Happiness in life', 'Energy levels', 'Small - big dogs', 'Personality', 'Finding lost valuables', 'Getting up', 'Interests or hobbies', \"Parents' advice\", 'Questionnaires or polls', 'Finances', 'Shopping centres', 'Branded clothing', 'Entertainment spending', 'Spending on looks', 'Spending on gadgets', 'Spending on healthy eating', 'Age', 'Height', 'Weight', 'Number of siblings']</pre></div></div></div><div class=\"sk-serial\"><div class=\"sk-item\"><div class=\"sk-serial\"><div class=\"sk-item\"><div class=\"sk-estimator sk-toggleable\"><input class=\"sk-toggleable__control sk-hidden--visually\" id=\"4f7184c5-41e0-4920-b2c0-f7b414bac646\" type=\"checkbox\" ><label class=\"sk-toggleable__label\" for=\"4f7184c5-41e0-4920-b2c0-f7b414bac646\">SimpleImputer</label><div class=\"sk-toggleable__content\"><pre>SimpleImputer()</pre></div></div></div><div class=\"sk-item\"><div class=\"sk-estimator sk-toggleable\"><input class=\"sk-toggleable__control sk-hidden--visually\" id=\"090c6f34-dd84-4dcd-b5ec-82c896d7ec69\" type=\"checkbox\" ><label class=\"sk-toggleable__label\" for=\"090c6f34-dd84-4dcd-b5ec-82c896d7ec69\">StandardScaler</label><div class=\"sk-toggleable__content\"><pre>StandardScaler()</pre></div></div></div><div class=\"sk-item\"><div class=\"sk-estimator sk-toggleable\"><input class=\"sk-toggleable__control sk-hidden--visually\" id=\"21e0475b-79ed-4bdd-9bd7-3cffe918ed03\" type=\"checkbox\" ><label class=\"sk-toggleable__label\" for=\"21e0475b-79ed-4bdd-9bd7-3cffe918ed03\">SelectKBest</label><div class=\"sk-toggleable__content\"><pre>SelectKBest(k='all')</pre></div></div></div></div></div></div></div></div><div class=\"sk-parallel-item\"><div class=\"sk-item\"><div class=\"sk-label-container\"><div class=\"sk-label sk-toggleable\"><input class=\"sk-toggleable__control sk-hidden--visually\" id=\"eb5ca4ba-dfd5-4de2-a868-959f2e12368e\" type=\"checkbox\" ><label class=\"sk-toggleable__label\" for=\"eb5ca4ba-dfd5-4de2-a868-959f2e12368e\">categorical</label><div class=\"sk-toggleable__content\"><pre>['Getting up', 'God', 'Health', 'Borrowed stuff', 'Self-criticism', 'Elections', 'Number of friends', 'Spending on healthy eating', 'Music', 'Movies', 'Friends versus money', 'Changing the past']</pre></div></div></div><div class=\"sk-serial\"><div class=\"sk-item\"><div class=\"sk-serial\"><div class=\"sk-item\"><div class=\"sk-estimator sk-toggleable\"><input class=\"sk-toggleable__control sk-hidden--visually\" id=\"899cdbe6-a54c-401d-b739-a19e8308c68e\" type=\"checkbox\" ><label class=\"sk-toggleable__label\" for=\"899cdbe6-a54c-401d-b739-a19e8308c68e\">SimpleImputer</label><div class=\"sk-toggleable__content\"><pre>SimpleImputer()</pre></div></div></div><div class=\"sk-item\"><div class=\"sk-estimator sk-toggleable\"><input class=\"sk-toggleable__control sk-hidden--visually\" id=\"8aa34bb7-93f2-4232-80a0-250e25a3c3ec\" type=\"checkbox\" ><label class=\"sk-toggleable__label\" for=\"8aa34bb7-93f2-4232-80a0-250e25a3c3ec\">OneHotEncoder</label><div class=\"sk-toggleable__content\"><pre>OneHotEncoder(handle_unknown='ignore')</pre></div></div></div></div></div></div></div></div></div></div></div></div><div class=\"sk-item\"><div class=\"sk-estimator sk-toggleable\"><input class=\"sk-toggleable__control sk-hidden--visually\" id=\"1c61c751-1c2c-4a07-801f-1020506ece1e\" type=\"checkbox\" ><label class=\"sk-toggleable__label\" for=\"1c61c751-1c2c-4a07-801f-1020506ece1e\">LogisticRegression</label><div class=\"sk-toggleable__content\"><pre>LogisticRegression()</pre></div></div></div></div></div></div></div>"
      ],
      "text/plain": [
       "Pipeline(steps=[('preprocessor',\n",
       "                 Pipeline(steps=[('data_transformer',\n",
       "                                  ColumnTransformer(transformers=[('numerical',\n",
       "                                                                   Pipeline(steps=[('imputer',\n",
       "                                                                                    SimpleImputer()),\n",
       "                                                                                   ('scaler',\n",
       "                                                                                    StandardScaler()),\n",
       "                                                                                   ('fs',\n",
       "                                                                                    SelectKBest(k='all'))]),\n",
       "                                                                   ['Music',\n",
       "                                                                    'Slow '\n",
       "                                                                    'songs or '\n",
       "                                                                    'fast '\n",
       "                                                                    'songs',\n",
       "                                                                    'Dance',\n",
       "                                                                    'Folk',\n",
       "                                                                    'Country',\n",
       "                                                                    'Classical '\n",
       "                                                                    'music',\n",
       "                                                                    'Musical',\n",
       "                                                                    'Pop',\n",
       "                                                                    'Rock',\n",
       "                                                                    'Metal or '\n",
       "                                                                    'Hardrock',\n",
       "                                                                    'Punk',\n",
       "                                                                    'Hi...\n",
       "                                                                    'Western', ...]),\n",
       "                                                                  ('categorical',\n",
       "                                                                   Pipeline(steps=[('imputer',\n",
       "                                                                                    SimpleImputer()),\n",
       "                                                                                   ('onehot',\n",
       "                                                                                    OneHotEncoder(handle_unknown='ignore'))]),\n",
       "                                                                   ['Getting '\n",
       "                                                                    'up',\n",
       "                                                                    'God',\n",
       "                                                                    'Health',\n",
       "                                                                    'Borrowed '\n",
       "                                                                    'stuff',\n",
       "                                                                    'Self-criticism',\n",
       "                                                                    'Elections',\n",
       "                                                                    'Number of '\n",
       "                                                                    'friends',\n",
       "                                                                    'Spending '\n",
       "                                                                    'on '\n",
       "                                                                    'healthy '\n",
       "                                                                    'eating',\n",
       "                                                                    'Music',\n",
       "                                                                    'Movies',\n",
       "                                                                    'Friends '\n",
       "                                                                    'versus '\n",
       "                                                                    'money',\n",
       "                                                                    'Changing '\n",
       "                                                                    'the '\n",
       "                                                                    'past'])]))])),\n",
       "                ('classifier', LogisticRegression())])"
      ]
     },
     "execution_count": 125,
     "metadata": {},
     "output_type": "execute_result"
    }
   ],
   "source": [
    "#   Для категориальных - применяем SimpleImputer, а затем StandardScaler\n",
    "numerical_transformer = Pipeline(steps=[\n",
    "    (\"imputer\", SimpleImputer()),\n",
    "    (\"scaler\", StandardScaler()),\n",
    "    (\"fs\", SelectKBest(score_func=f_classif, k=\"all\")),\n",
    "])\n",
    "\n",
    "#   Для категориальных - применяем SimpleImputer, а затем OneHotEncoder\n",
    "categorical_transformer = Pipeline(steps=[\n",
    "    (\"imputer\", SimpleImputer()),\n",
    "    (\"onehot\", OneHotEncoder(handle_unknown=\"ignore\")),\n",
    "])\n",
    "\n",
    "# Собираем воедино трансформеры для числовых и категориальных признаков\n",
    "data_transformer = ColumnTransformer(transformers=[\n",
    "    (\"numerical\", numerical_transformer, numerical_features),\n",
    "    (\"categorical\", categorical_transformer, categorical_features),\n",
    "])\n",
    "\n",
    "# Создание конвейера препроцессора, который сначала преобразует данные\n",
    "preprocessor = Pipeline(steps=[(\"data_transformer\", data_transformer)])\n",
    "\n",
    "classifier_pipline = Pipeline(\n",
    "    steps=[(\"preprocessor\", preprocessor), \n",
    "           (\"classifier\", LogisticRegression())])\n",
    "\n",
    "classifier_pipline"
   ]
  },
  {
   "cell_type": "markdown",
   "metadata": {},
   "source": [
    "# Добавим магии - отрисовка!"
   ]
  },
  {
   "cell_type": "code",
   "execution_count": 33,
   "metadata": {
    "ExecuteTime": {
     "end_time": "2022-04-18T19:20:20.514530Z",
     "start_time": "2022-04-18T19:20:20.500531Z"
    }
   },
   "outputs": [],
   "source": [
    "import sklearn\n",
    "sklearn.set_config(display='diagram') #Подключим визуал"
   ]
  },
  {
   "cell_type": "code",
   "execution_count": 34,
   "metadata": {
    "ExecuteTime": {
     "end_time": "2022-04-18T19:20:20.689758Z",
     "start_time": "2022-04-18T19:20:20.515530Z"
    }
   },
   "outputs": [
    {
     "data": {
      "text/html": [
       "<style>#sk-f5e4ee53-f798-4f57-bc72-9bf146c34a57 {color: black;background-color: white;}#sk-f5e4ee53-f798-4f57-bc72-9bf146c34a57 pre{padding: 0;}#sk-f5e4ee53-f798-4f57-bc72-9bf146c34a57 div.sk-toggleable {background-color: white;}#sk-f5e4ee53-f798-4f57-bc72-9bf146c34a57 label.sk-toggleable__label {cursor: pointer;display: block;width: 100%;margin-bottom: 0;padding: 0.2em 0.3em;box-sizing: border-box;text-align: center;}#sk-f5e4ee53-f798-4f57-bc72-9bf146c34a57 div.sk-toggleable__content {max-height: 0;max-width: 0;overflow: hidden;text-align: left;background-color: #f0f8ff;}#sk-f5e4ee53-f798-4f57-bc72-9bf146c34a57 div.sk-toggleable__content pre {margin: 0.2em;color: black;border-radius: 0.25em;background-color: #f0f8ff;}#sk-f5e4ee53-f798-4f57-bc72-9bf146c34a57 input.sk-toggleable__control:checked~div.sk-toggleable__content {max-height: 200px;max-width: 100%;overflow: auto;}#sk-f5e4ee53-f798-4f57-bc72-9bf146c34a57 div.sk-estimator input.sk-toggleable__control:checked~label.sk-toggleable__label {background-color: #d4ebff;}#sk-f5e4ee53-f798-4f57-bc72-9bf146c34a57 div.sk-label input.sk-toggleable__control:checked~label.sk-toggleable__label {background-color: #d4ebff;}#sk-f5e4ee53-f798-4f57-bc72-9bf146c34a57 input.sk-hidden--visually {border: 0;clip: rect(1px 1px 1px 1px);clip: rect(1px, 1px, 1px, 1px);height: 1px;margin: -1px;overflow: hidden;padding: 0;position: absolute;width: 1px;}#sk-f5e4ee53-f798-4f57-bc72-9bf146c34a57 div.sk-estimator {font-family: monospace;background-color: #f0f8ff;margin: 0.25em 0.25em;border: 1px dotted black;border-radius: 0.25em;box-sizing: border-box;}#sk-f5e4ee53-f798-4f57-bc72-9bf146c34a57 div.sk-estimator:hover {background-color: #d4ebff;}#sk-f5e4ee53-f798-4f57-bc72-9bf146c34a57 div.sk-parallel-item::after {content: \"\";width: 100%;border-bottom: 1px solid gray;flex-grow: 1;}#sk-f5e4ee53-f798-4f57-bc72-9bf146c34a57 div.sk-label:hover label.sk-toggleable__label {background-color: #d4ebff;}#sk-f5e4ee53-f798-4f57-bc72-9bf146c34a57 div.sk-serial::before {content: \"\";position: absolute;border-left: 1px solid gray;box-sizing: border-box;top: 2em;bottom: 0;left: 50%;}#sk-f5e4ee53-f798-4f57-bc72-9bf146c34a57 div.sk-serial {display: flex;flex-direction: column;align-items: center;background-color: white;}#sk-f5e4ee53-f798-4f57-bc72-9bf146c34a57 div.sk-item {z-index: 1;}#sk-f5e4ee53-f798-4f57-bc72-9bf146c34a57 div.sk-parallel {display: flex;align-items: stretch;justify-content: center;background-color: white;}#sk-f5e4ee53-f798-4f57-bc72-9bf146c34a57 div.sk-parallel-item {display: flex;flex-direction: column;position: relative;background-color: white;}#sk-f5e4ee53-f798-4f57-bc72-9bf146c34a57 div.sk-parallel-item:first-child::after {align-self: flex-end;width: 50%;}#sk-f5e4ee53-f798-4f57-bc72-9bf146c34a57 div.sk-parallel-item:last-child::after {align-self: flex-start;width: 50%;}#sk-f5e4ee53-f798-4f57-bc72-9bf146c34a57 div.sk-parallel-item:only-child::after {width: 0;}#sk-f5e4ee53-f798-4f57-bc72-9bf146c34a57 div.sk-dashed-wrapped {border: 1px dashed gray;margin: 0.2em;box-sizing: border-box;padding-bottom: 0.1em;background-color: white;position: relative;}#sk-f5e4ee53-f798-4f57-bc72-9bf146c34a57 div.sk-label label {font-family: monospace;font-weight: bold;background-color: white;display: inline-block;line-height: 1.2em;}#sk-f5e4ee53-f798-4f57-bc72-9bf146c34a57 div.sk-label-container {position: relative;z-index: 2;text-align: center;}#sk-f5e4ee53-f798-4f57-bc72-9bf146c34a57 div.sk-container {display: inline-block;position: relative;}</style><div id=\"sk-f5e4ee53-f798-4f57-bc72-9bf146c34a57\" class\"sk-top-container\"><div class=\"sk-container\"><div class=\"sk-item sk-dashed-wrapped\"><div class=\"sk-label-container\"><div class=\"sk-label sk-toggleable\"><input class=\"sk-toggleable__control sk-hidden--visually\" id=\"51ab7f31-5627-4e12-b941-09ed8395db31\" type=\"checkbox\" ><label class=\"sk-toggleable__label\" for=\"51ab7f31-5627-4e12-b941-09ed8395db31\">Pipeline</label><div class=\"sk-toggleable__content\"><pre>Pipeline(steps=[('preprocessor',\n",
       "                 Pipeline(steps=[('data_transformer',\n",
       "                                  ColumnTransformer(transformers=[('numerical',\n",
       "                                                                   Pipeline(steps=[('imputer',\n",
       "                                                                                    SimpleImputer()),\n",
       "                                                                                   ('scaler',\n",
       "                                                                                    StandardScaler()),\n",
       "                                                                                   ('fs',\n",
       "                                                                                    SelectKBest(k='all'))]),\n",
       "                                                                   ['Age',\n",
       "                                                                    'Height',\n",
       "                                                                    'Weight']),\n",
       "                                                                  ('categorical',\n",
       "                                                                   Pipeline(steps=[('imputer',\n",
       "                                                                                    SimpleImputer()),\n",
       "                                                                                   ('onehot',\n",
       "                                                                                    OneHotEncoder(handle_unknown='ignore'))]),\n",
       "                                                                   ['Getting '\n",
       "                                                                    'up',\n",
       "                                                                    'God',\n",
       "                                                                    'Health',\n",
       "                                                                    'Borrowed '\n",
       "                                                                    'stuff',\n",
       "                                                                    'Self-criticism',\n",
       "                                                                    'Elections',\n",
       "                                                                    'Number of '\n",
       "                                                                    'friends',\n",
       "                                                                    'Spending '\n",
       "                                                                    'on '\n",
       "                                                                    'healthy '\n",
       "                                                                    'eating',\n",
       "                                                                    'Music',\n",
       "                                                                    'Movies',\n",
       "                                                                    'Friends '\n",
       "                                                                    'versus '\n",
       "                                                                    'money',\n",
       "                                                                    'Changing '\n",
       "                                                                    'the '\n",
       "                                                                    'past'])]))])),\n",
       "                ('classifier', LogisticRegression())])</pre></div></div></div><div class=\"sk-serial\"><div class=\"sk-item\"><div class=\"sk-label-container\"><div class=\"sk-label sk-toggleable\"><input class=\"sk-toggleable__control sk-hidden--visually\" id=\"8b15e834-0b18-444e-b1c0-5bec0fdc51f2\" type=\"checkbox\" ><label class=\"sk-toggleable__label\" for=\"8b15e834-0b18-444e-b1c0-5bec0fdc51f2\">preprocessor: Pipeline</label><div class=\"sk-toggleable__content\"><pre>Pipeline(steps=[('data_transformer',\n",
       "                 ColumnTransformer(transformers=[('numerical',\n",
       "                                                  Pipeline(steps=[('imputer',\n",
       "                                                                   SimpleImputer()),\n",
       "                                                                  ('scaler',\n",
       "                                                                   StandardScaler()),\n",
       "                                                                  ('fs',\n",
       "                                                                   SelectKBest(k='all'))]),\n",
       "                                                  ['Age', 'Height', 'Weight']),\n",
       "                                                 ('categorical',\n",
       "                                                  Pipeline(steps=[('imputer',\n",
       "                                                                   SimpleImputer()),\n",
       "                                                                  ('onehot',\n",
       "                                                                   OneHotEncoder(handle_unknown='ignore'))]),\n",
       "                                                  ['Getting up', 'God',\n",
       "                                                   'Health', 'Borrowed stuff',\n",
       "                                                   'Self-criticism',\n",
       "                                                   'Elections',\n",
       "                                                   'Number of friends',\n",
       "                                                   'Spending on healthy eating',\n",
       "                                                   'Music', 'Movies',\n",
       "                                                   'Friends versus money',\n",
       "                                                   'Changing the past'])]))])</pre></div></div></div><div class=\"sk-serial\"><div class=\"sk-item sk-dashed-wrapped\"><div class=\"sk-label-container\"><div class=\"sk-label sk-toggleable\"><input class=\"sk-toggleable__control sk-hidden--visually\" id=\"340775bd-4860-40ee-b910-7d9cac21e704\" type=\"checkbox\" ><label class=\"sk-toggleable__label\" for=\"340775bd-4860-40ee-b910-7d9cac21e704\">data_transformer: ColumnTransformer</label><div class=\"sk-toggleable__content\"><pre>ColumnTransformer(transformers=[('numerical',\n",
       "                                 Pipeline(steps=[('imputer', SimpleImputer()),\n",
       "                                                 ('scaler', StandardScaler()),\n",
       "                                                 ('fs', SelectKBest(k='all'))]),\n",
       "                                 ['Age', 'Height', 'Weight']),\n",
       "                                ('categorical',\n",
       "                                 Pipeline(steps=[('imputer', SimpleImputer()),\n",
       "                                                 ('onehot',\n",
       "                                                  OneHotEncoder(handle_unknown='ignore'))]),\n",
       "                                 ['Getting up', 'God', 'Health',\n",
       "                                  'Borrowed stuff', 'Self-criticism',\n",
       "                                  'Elections', 'Number of friends',\n",
       "                                  'Spending on healthy eating', 'Music',\n",
       "                                  'Movies', 'Friends versus money',\n",
       "                                  'Changing the past'])])</pre></div></div></div><div class=\"sk-parallel\"><div class=\"sk-parallel-item\"><div class=\"sk-item\"><div class=\"sk-label-container\"><div class=\"sk-label sk-toggleable\"><input class=\"sk-toggleable__control sk-hidden--visually\" id=\"3c16c6a6-19ce-464f-96dc-635094c68c9a\" type=\"checkbox\" ><label class=\"sk-toggleable__label\" for=\"3c16c6a6-19ce-464f-96dc-635094c68c9a\">numerical</label><div class=\"sk-toggleable__content\"><pre>['Age', 'Height', 'Weight']</pre></div></div></div><div class=\"sk-serial\"><div class=\"sk-item\"><div class=\"sk-serial\"><div class=\"sk-item\"><div class=\"sk-estimator sk-toggleable\"><input class=\"sk-toggleable__control sk-hidden--visually\" id=\"bbc61e48-57dd-4b1b-8682-e6babc1abe15\" type=\"checkbox\" ><label class=\"sk-toggleable__label\" for=\"bbc61e48-57dd-4b1b-8682-e6babc1abe15\">SimpleImputer</label><div class=\"sk-toggleable__content\"><pre>SimpleImputer()</pre></div></div></div><div class=\"sk-item\"><div class=\"sk-estimator sk-toggleable\"><input class=\"sk-toggleable__control sk-hidden--visually\" id=\"a39d82f7-498f-46fe-9366-9fe751aeed16\" type=\"checkbox\" ><label class=\"sk-toggleable__label\" for=\"a39d82f7-498f-46fe-9366-9fe751aeed16\">StandardScaler</label><div class=\"sk-toggleable__content\"><pre>StandardScaler()</pre></div></div></div><div class=\"sk-item\"><div class=\"sk-estimator sk-toggleable\"><input class=\"sk-toggleable__control sk-hidden--visually\" id=\"27311a79-6185-48f2-b7dd-17371e01645d\" type=\"checkbox\" ><label class=\"sk-toggleable__label\" for=\"27311a79-6185-48f2-b7dd-17371e01645d\">SelectKBest</label><div class=\"sk-toggleable__content\"><pre>SelectKBest(k='all')</pre></div></div></div></div></div></div></div></div><div class=\"sk-parallel-item\"><div class=\"sk-item\"><div class=\"sk-label-container\"><div class=\"sk-label sk-toggleable\"><input class=\"sk-toggleable__control sk-hidden--visually\" id=\"f7d782f2-666c-4f7e-bc05-9479ccf8530c\" type=\"checkbox\" ><label class=\"sk-toggleable__label\" for=\"f7d782f2-666c-4f7e-bc05-9479ccf8530c\">categorical</label><div class=\"sk-toggleable__content\"><pre>['Getting up', 'God', 'Health', 'Borrowed stuff', 'Self-criticism', 'Elections', 'Number of friends', 'Spending on healthy eating', 'Music', 'Movies', 'Friends versus money', 'Changing the past']</pre></div></div></div><div class=\"sk-serial\"><div class=\"sk-item\"><div class=\"sk-serial\"><div class=\"sk-item\"><div class=\"sk-estimator sk-toggleable\"><input class=\"sk-toggleable__control sk-hidden--visually\" id=\"a56d660a-15ca-41c2-97ac-ab1c21749468\" type=\"checkbox\" ><label class=\"sk-toggleable__label\" for=\"a56d660a-15ca-41c2-97ac-ab1c21749468\">SimpleImputer</label><div class=\"sk-toggleable__content\"><pre>SimpleImputer()</pre></div></div></div><div class=\"sk-item\"><div class=\"sk-estimator sk-toggleable\"><input class=\"sk-toggleable__control sk-hidden--visually\" id=\"f30088e3-b069-4a44-b95f-648cf59e192f\" type=\"checkbox\" ><label class=\"sk-toggleable__label\" for=\"f30088e3-b069-4a44-b95f-648cf59e192f\">OneHotEncoder</label><div class=\"sk-toggleable__content\"><pre>OneHotEncoder(handle_unknown='ignore')</pre></div></div></div></div></div></div></div></div></div></div></div></div><div class=\"sk-item\"><div class=\"sk-estimator sk-toggleable\"><input class=\"sk-toggleable__control sk-hidden--visually\" id=\"1f95e5e1-f99a-4b34-8a5f-013e9ad9181e\" type=\"checkbox\" ><label class=\"sk-toggleable__label\" for=\"1f95e5e1-f99a-4b34-8a5f-013e9ad9181e\">LogisticRegression</label><div class=\"sk-toggleable__content\"><pre>LogisticRegression()</pre></div></div></div></div></div></div></div>"
      ],
      "text/plain": [
       "Pipeline(steps=[('preprocessor',\n",
       "                 Pipeline(steps=[('data_transformer',\n",
       "                                  ColumnTransformer(transformers=[('numerical',\n",
       "                                                                   Pipeline(steps=[('imputer',\n",
       "                                                                                    SimpleImputer()),\n",
       "                                                                                   ('scaler',\n",
       "                                                                                    StandardScaler()),\n",
       "                                                                                   ('fs',\n",
       "                                                                                    SelectKBest(k='all'))]),\n",
       "                                                                   ['Age',\n",
       "                                                                    'Height',\n",
       "                                                                    'Weight']),\n",
       "                                                                  ('categorical',\n",
       "                                                                   Pipeline(steps=[('imputer',\n",
       "                                                                                    SimpleImputer()),\n",
       "                                                                                   ('onehot',\n",
       "                                                                                    OneHotEncoder(handle_unknown='ignore'))]),\n",
       "                                                                   ['Getting '\n",
       "                                                                    'up',\n",
       "                                                                    'God',\n",
       "                                                                    'Health',\n",
       "                                                                    'Borrowed '\n",
       "                                                                    'stuff',\n",
       "                                                                    'Self-criticism',\n",
       "                                                                    'Elections',\n",
       "                                                                    'Number of '\n",
       "                                                                    'friends',\n",
       "                                                                    'Spending '\n",
       "                                                                    'on '\n",
       "                                                                    'healthy '\n",
       "                                                                    'eating',\n",
       "                                                                    'Music',\n",
       "                                                                    'Movies',\n",
       "                                                                    'Friends '\n",
       "                                                                    'versus '\n",
       "                                                                    'money',\n",
       "                                                                    'Changing '\n",
       "                                                                    'the '\n",
       "                                                                    'past'])]))])),\n",
       "                ('classifier', LogisticRegression())])"
      ]
     },
     "execution_count": 34,
     "metadata": {},
     "output_type": "execute_result"
    }
   ],
   "source": [
    "classifier_pipline"
   ]
  },
  {
   "cell_type": "code",
   "execution_count": 35,
   "metadata": {
    "ExecuteTime": {
     "end_time": "2022-04-18T19:20:20.720763Z",
     "start_time": "2022-04-18T19:20:20.690762Z"
    }
   },
   "outputs": [
    {
     "name": "stdout",
     "output_type": "stream",
     "text": [
      "(808, 16) (202, 16)\n"
     ]
    }
   ],
   "source": [
    "from sklearn.model_selection import train_test_split\n",
    "\n",
    "data_train, data_test = train_test_split(data[all_features + target], test_size=0.2, stratify=data[target])\n",
    "print(data_train.shape, data_test.shape)"
   ]
  },
  {
   "cell_type": "code",
   "execution_count": 36,
   "metadata": {
    "ExecuteTime": {
     "end_time": "2022-04-18T19:20:20.736761Z",
     "start_time": "2022-04-18T19:20:20.722764Z"
    }
   },
   "outputs": [],
   "source": [
    "# # data_train.columns\n",
    "# all_features"
   ]
  },
  {
   "cell_type": "code",
   "execution_count": 37,
   "metadata": {
    "ExecuteTime": {
     "end_time": "2022-04-18T19:20:20.751761Z",
     "start_time": "2022-04-18T19:20:20.738761Z"
    }
   },
   "outputs": [],
   "source": [
    "# data_train[all_features]"
   ]
  },
  {
   "cell_type": "code",
   "execution_count": 38,
   "metadata": {
    "ExecuteTime": {
     "end_time": "2022-04-18T19:20:20.878942Z",
     "start_time": "2022-04-18T19:20:20.752761Z"
    }
   },
   "outputs": [
    {
     "name": "stdout",
     "output_type": "stream",
     "text": [
      "              precision    recall  f1-score   support\n",
      "\n",
      "          -1       0.56      0.46      0.51        71\n",
      "           0       0.58      0.75      0.66       102\n",
      "           1       0.55      0.21      0.30        29\n",
      "\n",
      "    accuracy                           0.57       202\n",
      "   macro avg       0.56      0.48      0.49       202\n",
      "weighted avg       0.57      0.57      0.55       202\n",
      "\n"
     ]
    }
   ],
   "source": [
    "\n",
    "classifier_pipline.fit(data_train[all_features], data_train[target])\n",
    "\n",
    "preds = classifier_pipline.predict(data_test[all_features])\n",
    "\n",
    "print(classification_report(data_test[target], preds))"
   ]
  },
  {
   "cell_type": "code",
   "execution_count": null,
   "metadata": {},
   "outputs": [],
   "source": [
    " "
   ]
  },
  {
   "cell_type": "code",
   "execution_count": null,
   "metadata": {},
   "outputs": [],
   "source": [
    " "
   ]
  },
  {
   "cell_type": "markdown",
   "metadata": {},
   "source": [
    "# А как подбирать параметры у этой всей махины??"
   ]
  },
  {
   "cell_type": "code",
   "execution_count": 39,
   "metadata": {
    "ExecuteTime": {
     "end_time": "2022-04-18T19:20:20.894943Z",
     "start_time": "2022-04-18T19:20:20.880944Z"
    }
   },
   "outputs": [],
   "source": [
    "from sklearn.model_selection import GridSearchCV, RandomizedSearchCV\n",
    "\n",
    "from sklearn.metrics import f1_score, make_scorer\n",
    "\n",
    "f1 = make_scorer(f1_score, average=\"macro\")"
   ]
  },
  {
   "cell_type": "code",
   "execution_count": 40,
   "metadata": {
    "ExecuteTime": {
     "end_time": "2022-04-18T19:21:15.679420Z",
     "start_time": "2022-04-18T19:20:20.896944Z"
    }
   },
   "outputs": [
    {
     "data": {
      "text/html": [
       "<style>#sk-b3de1bda-cef5-46b2-94e4-1f830fd80b74 {color: black;background-color: white;}#sk-b3de1bda-cef5-46b2-94e4-1f830fd80b74 pre{padding: 0;}#sk-b3de1bda-cef5-46b2-94e4-1f830fd80b74 div.sk-toggleable {background-color: white;}#sk-b3de1bda-cef5-46b2-94e4-1f830fd80b74 label.sk-toggleable__label {cursor: pointer;display: block;width: 100%;margin-bottom: 0;padding: 0.2em 0.3em;box-sizing: border-box;text-align: center;}#sk-b3de1bda-cef5-46b2-94e4-1f830fd80b74 div.sk-toggleable__content {max-height: 0;max-width: 0;overflow: hidden;text-align: left;background-color: #f0f8ff;}#sk-b3de1bda-cef5-46b2-94e4-1f830fd80b74 div.sk-toggleable__content pre {margin: 0.2em;color: black;border-radius: 0.25em;background-color: #f0f8ff;}#sk-b3de1bda-cef5-46b2-94e4-1f830fd80b74 input.sk-toggleable__control:checked~div.sk-toggleable__content {max-height: 200px;max-width: 100%;overflow: auto;}#sk-b3de1bda-cef5-46b2-94e4-1f830fd80b74 div.sk-estimator input.sk-toggleable__control:checked~label.sk-toggleable__label {background-color: #d4ebff;}#sk-b3de1bda-cef5-46b2-94e4-1f830fd80b74 div.sk-label input.sk-toggleable__control:checked~label.sk-toggleable__label {background-color: #d4ebff;}#sk-b3de1bda-cef5-46b2-94e4-1f830fd80b74 input.sk-hidden--visually {border: 0;clip: rect(1px 1px 1px 1px);clip: rect(1px, 1px, 1px, 1px);height: 1px;margin: -1px;overflow: hidden;padding: 0;position: absolute;width: 1px;}#sk-b3de1bda-cef5-46b2-94e4-1f830fd80b74 div.sk-estimator {font-family: monospace;background-color: #f0f8ff;margin: 0.25em 0.25em;border: 1px dotted black;border-radius: 0.25em;box-sizing: border-box;}#sk-b3de1bda-cef5-46b2-94e4-1f830fd80b74 div.sk-estimator:hover {background-color: #d4ebff;}#sk-b3de1bda-cef5-46b2-94e4-1f830fd80b74 div.sk-parallel-item::after {content: \"\";width: 100%;border-bottom: 1px solid gray;flex-grow: 1;}#sk-b3de1bda-cef5-46b2-94e4-1f830fd80b74 div.sk-label:hover label.sk-toggleable__label {background-color: #d4ebff;}#sk-b3de1bda-cef5-46b2-94e4-1f830fd80b74 div.sk-serial::before {content: \"\";position: absolute;border-left: 1px solid gray;box-sizing: border-box;top: 2em;bottom: 0;left: 50%;}#sk-b3de1bda-cef5-46b2-94e4-1f830fd80b74 div.sk-serial {display: flex;flex-direction: column;align-items: center;background-color: white;}#sk-b3de1bda-cef5-46b2-94e4-1f830fd80b74 div.sk-item {z-index: 1;}#sk-b3de1bda-cef5-46b2-94e4-1f830fd80b74 div.sk-parallel {display: flex;align-items: stretch;justify-content: center;background-color: white;}#sk-b3de1bda-cef5-46b2-94e4-1f830fd80b74 div.sk-parallel-item {display: flex;flex-direction: column;position: relative;background-color: white;}#sk-b3de1bda-cef5-46b2-94e4-1f830fd80b74 div.sk-parallel-item:first-child::after {align-self: flex-end;width: 50%;}#sk-b3de1bda-cef5-46b2-94e4-1f830fd80b74 div.sk-parallel-item:last-child::after {align-self: flex-start;width: 50%;}#sk-b3de1bda-cef5-46b2-94e4-1f830fd80b74 div.sk-parallel-item:only-child::after {width: 0;}#sk-b3de1bda-cef5-46b2-94e4-1f830fd80b74 div.sk-dashed-wrapped {border: 1px dashed gray;margin: 0.2em;box-sizing: border-box;padding-bottom: 0.1em;background-color: white;position: relative;}#sk-b3de1bda-cef5-46b2-94e4-1f830fd80b74 div.sk-label label {font-family: monospace;font-weight: bold;background-color: white;display: inline-block;line-height: 1.2em;}#sk-b3de1bda-cef5-46b2-94e4-1f830fd80b74 div.sk-label-container {position: relative;z-index: 2;text-align: center;}#sk-b3de1bda-cef5-46b2-94e4-1f830fd80b74 div.sk-container {display: inline-block;position: relative;}</style><div id=\"sk-b3de1bda-cef5-46b2-94e4-1f830fd80b74\" class\"sk-top-container\"><div class=\"sk-container\"><div class=\"sk-item sk-dashed-wrapped\"><div class=\"sk-label-container\"><div class=\"sk-label sk-toggleable\"><input class=\"sk-toggleable__control sk-hidden--visually\" id=\"2fd3090f-c678-4def-a789-d0db7cd30d32\" type=\"checkbox\" ><label class=\"sk-toggleable__label\" for=\"2fd3090f-c678-4def-a789-d0db7cd30d32\">GridSearchCV</label><div class=\"sk-toggleable__content\"><pre>GridSearchCV(cv=3,\n",
       "             estimator=Pipeline(steps=[('preprocessor',\n",
       "                                        Pipeline(steps=[('data_transformer',\n",
       "                                                         ColumnTransformer(transformers=[('numerical',\n",
       "                                                                                          Pipeline(steps=[('imputer',\n",
       "                                                                                                           SimpleImputer()),\n",
       "                                                                                                          ('scaler',\n",
       "                                                                                                           StandardScaler()),\n",
       "                                                                                                          ('fs',\n",
       "                                                                                                           SelectKBest(k='all'))]),\n",
       "                                                                                          ['Age',\n",
       "                                                                                           'Height',\n",
       "                                                                                           'Weight']),\n",
       "                                                                                         ('categorical',\n",
       "                                                                                          Pipeline(steps=[('imputer',\n",
       "                                                                                                           SimpleImputer()),\n",
       "                                                                                                          ('onehot',\n",
       "                                                                                                           OneHotEncod...\n",
       "       2.96730241e+01, 3.21764175e+01, 3.48910121e+01, 3.78346262e+01,\n",
       "       4.10265811e+01, 4.44878283e+01, 4.82410870e+01, 5.23109931e+01,\n",
       "       5.67242607e+01, 6.15098579e+01, 6.66991966e+01, 7.23263390e+01,\n",
       "       7.84282206e+01, 8.50448934e+01, 9.22197882e+01, 1.00000000e+02]),\n",
       "                         'classifier__class_weight': ['balanced', None],\n",
       "                         'classifier__penalty': ['l1', 'l2'],\n",
       "                         'preprocessor__data_transformer__numerical__imputer__strategy': ['median',\n",
       "                                                                                          'mean']})</pre></div></div></div><div class=\"sk-parallel\"><div class=\"sk-parallel-item\"><div class=\"sk-item\"><div class=\"sk-serial\"><div class=\"sk-item\"><div class=\"sk-serial\"><div class=\"sk-item\"><div class=\"sk-label-container\"><div class=\"sk-label sk-toggleable\"><input class=\"sk-toggleable__control sk-hidden--visually\" id=\"b249f763-bcbf-41a0-bc5c-2b7f09ad1edf\" type=\"checkbox\" ><label class=\"sk-toggleable__label\" for=\"b249f763-bcbf-41a0-bc5c-2b7f09ad1edf\">preprocessor: Pipeline</label><div class=\"sk-toggleable__content\"><pre>Pipeline(steps=[('data_transformer',\n",
       "                 ColumnTransformer(transformers=[('numerical',\n",
       "                                                  Pipeline(steps=[('imputer',\n",
       "                                                                   SimpleImputer()),\n",
       "                                                                  ('scaler',\n",
       "                                                                   StandardScaler()),\n",
       "                                                                  ('fs',\n",
       "                                                                   SelectKBest(k='all'))]),\n",
       "                                                  ['Age', 'Height', 'Weight']),\n",
       "                                                 ('categorical',\n",
       "                                                  Pipeline(steps=[('imputer',\n",
       "                                                                   SimpleImputer()),\n",
       "                                                                  ('onehot',\n",
       "                                                                   OneHotEncoder(handle_unknown='ignore'))]),\n",
       "                                                  ['Getting up', 'God',\n",
       "                                                   'Health', 'Borrowed stuff',\n",
       "                                                   'Self-criticism',\n",
       "                                                   'Elections',\n",
       "                                                   'Number of friends',\n",
       "                                                   'Spending on healthy eating',\n",
       "                                                   'Music', 'Movies',\n",
       "                                                   'Friends versus money',\n",
       "                                                   'Changing the past'])]))])</pre></div></div></div><div class=\"sk-serial\"><div class=\"sk-item sk-dashed-wrapped\"><div class=\"sk-label-container\"><div class=\"sk-label sk-toggleable\"><input class=\"sk-toggleable__control sk-hidden--visually\" id=\"25d8d8a9-ffa7-4777-80df-95e3ab57027c\" type=\"checkbox\" ><label class=\"sk-toggleable__label\" for=\"25d8d8a9-ffa7-4777-80df-95e3ab57027c\">data_transformer: ColumnTransformer</label><div class=\"sk-toggleable__content\"><pre>ColumnTransformer(transformers=[('numerical',\n",
       "                                 Pipeline(steps=[('imputer', SimpleImputer()),\n",
       "                                                 ('scaler', StandardScaler()),\n",
       "                                                 ('fs', SelectKBest(k='all'))]),\n",
       "                                 ['Age', 'Height', 'Weight']),\n",
       "                                ('categorical',\n",
       "                                 Pipeline(steps=[('imputer', SimpleImputer()),\n",
       "                                                 ('onehot',\n",
       "                                                  OneHotEncoder(handle_unknown='ignore'))]),\n",
       "                                 ['Getting up', 'God', 'Health',\n",
       "                                  'Borrowed stuff', 'Self-criticism',\n",
       "                                  'Elections', 'Number of friends',\n",
       "                                  'Spending on healthy eating', 'Music',\n",
       "                                  'Movies', 'Friends versus money',\n",
       "                                  'Changing the past'])])</pre></div></div></div><div class=\"sk-parallel\"><div class=\"sk-parallel-item\"><div class=\"sk-item\"><div class=\"sk-label-container\"><div class=\"sk-label sk-toggleable\"><input class=\"sk-toggleable__control sk-hidden--visually\" id=\"fb7ac564-4854-4780-94de-99fb9b5fdcd8\" type=\"checkbox\" ><label class=\"sk-toggleable__label\" for=\"fb7ac564-4854-4780-94de-99fb9b5fdcd8\">numerical</label><div class=\"sk-toggleable__content\"><pre>['Age', 'Height', 'Weight']</pre></div></div></div><div class=\"sk-serial\"><div class=\"sk-item\"><div class=\"sk-serial\"><div class=\"sk-item\"><div class=\"sk-estimator sk-toggleable\"><input class=\"sk-toggleable__control sk-hidden--visually\" id=\"870215e7-282c-4fb2-bcc8-116bd8a5d4fd\" type=\"checkbox\" ><label class=\"sk-toggleable__label\" for=\"870215e7-282c-4fb2-bcc8-116bd8a5d4fd\">SimpleImputer</label><div class=\"sk-toggleable__content\"><pre>SimpleImputer()</pre></div></div></div><div class=\"sk-item\"><div class=\"sk-estimator sk-toggleable\"><input class=\"sk-toggleable__control sk-hidden--visually\" id=\"6fdcfa34-0c19-4253-a47b-96e98e5c55eb\" type=\"checkbox\" ><label class=\"sk-toggleable__label\" for=\"6fdcfa34-0c19-4253-a47b-96e98e5c55eb\">StandardScaler</label><div class=\"sk-toggleable__content\"><pre>StandardScaler()</pre></div></div></div><div class=\"sk-item\"><div class=\"sk-estimator sk-toggleable\"><input class=\"sk-toggleable__control sk-hidden--visually\" id=\"96fd3897-a6d1-4407-8064-2dc1ca626a9f\" type=\"checkbox\" ><label class=\"sk-toggleable__label\" for=\"96fd3897-a6d1-4407-8064-2dc1ca626a9f\">SelectKBest</label><div class=\"sk-toggleable__content\"><pre>SelectKBest(k='all')</pre></div></div></div></div></div></div></div></div><div class=\"sk-parallel-item\"><div class=\"sk-item\"><div class=\"sk-label-container\"><div class=\"sk-label sk-toggleable\"><input class=\"sk-toggleable__control sk-hidden--visually\" id=\"4e3dc7e1-0614-47bb-af28-3000789a8b05\" type=\"checkbox\" ><label class=\"sk-toggleable__label\" for=\"4e3dc7e1-0614-47bb-af28-3000789a8b05\">categorical</label><div class=\"sk-toggleable__content\"><pre>['Getting up', 'God', 'Health', 'Borrowed stuff', 'Self-criticism', 'Elections', 'Number of friends', 'Spending on healthy eating', 'Music', 'Movies', 'Friends versus money', 'Changing the past']</pre></div></div></div><div class=\"sk-serial\"><div class=\"sk-item\"><div class=\"sk-serial\"><div class=\"sk-item\"><div class=\"sk-estimator sk-toggleable\"><input class=\"sk-toggleable__control sk-hidden--visually\" id=\"501799e9-e4dc-4d97-9881-a2c8c032544a\" type=\"checkbox\" ><label class=\"sk-toggleable__label\" for=\"501799e9-e4dc-4d97-9881-a2c8c032544a\">SimpleImputer</label><div class=\"sk-toggleable__content\"><pre>SimpleImputer()</pre></div></div></div><div class=\"sk-item\"><div class=\"sk-estimator sk-toggleable\"><input class=\"sk-toggleable__control sk-hidden--visually\" id=\"1ef7badc-9c56-4b4d-8c10-ce52293d0c50\" type=\"checkbox\" ><label class=\"sk-toggleable__label\" for=\"1ef7badc-9c56-4b4d-8c10-ce52293d0c50\">OneHotEncoder</label><div class=\"sk-toggleable__content\"><pre>OneHotEncoder(handle_unknown='ignore')</pre></div></div></div></div></div></div></div></div></div></div></div></div><div class=\"sk-item\"><div class=\"sk-estimator sk-toggleable\"><input class=\"sk-toggleable__control sk-hidden--visually\" id=\"57efc736-09e0-4002-b2e6-33b53470cb97\" type=\"checkbox\" ><label class=\"sk-toggleable__label\" for=\"57efc736-09e0-4002-b2e6-33b53470cb97\">LogisticRegression</label><div class=\"sk-toggleable__content\"><pre>LogisticRegression()</pre></div></div></div></div></div></div></div></div></div></div></div></div>"
      ],
      "text/plain": [
       "GridSearchCV(cv=3,\n",
       "             estimator=Pipeline(steps=[('preprocessor',\n",
       "                                        Pipeline(steps=[('data_transformer',\n",
       "                                                         ColumnTransformer(transformers=[('numerical',\n",
       "                                                                                          Pipeline(steps=[('imputer',\n",
       "                                                                                                           SimpleImputer()),\n",
       "                                                                                                          ('scaler',\n",
       "                                                                                                           StandardScaler()),\n",
       "                                                                                                          ('fs',\n",
       "                                                                                                           SelectKBest(k='all'))]),\n",
       "                                                                                          ['Age',\n",
       "                                                                                           'Height',\n",
       "                                                                                           'Weight']),\n",
       "                                                                                         ('categorical',\n",
       "                                                                                          Pipeline(steps=[('imputer',\n",
       "                                                                                                           SimpleImputer()),\n",
       "                                                                                                          ('onehot',\n",
       "                                                                                                           OneHotEncod...\n",
       "       2.96730241e+01, 3.21764175e+01, 3.48910121e+01, 3.78346262e+01,\n",
       "       4.10265811e+01, 4.44878283e+01, 4.82410870e+01, 5.23109931e+01,\n",
       "       5.67242607e+01, 6.15098579e+01, 6.66991966e+01, 7.23263390e+01,\n",
       "       7.84282206e+01, 8.50448934e+01, 9.22197882e+01, 1.00000000e+02]),\n",
       "                         'classifier__class_weight': ['balanced', None],\n",
       "                         'classifier__penalty': ['l1', 'l2'],\n",
       "                         'preprocessor__data_transformer__numerical__imputer__strategy': ['median',\n",
       "                                                                                          'mean']})"
      ]
     },
     "execution_count": 40,
     "metadata": {},
     "output_type": "execute_result"
    }
   ],
   "source": [
    "param_grid = {\n",
    "    'classifier__C': np.logspace(-5, 2, 200), # np.linspace(-10, 10)\n",
    "    'classifier__penalty': ['l1', 'l2'],\n",
    "    'classifier__class_weight': ['balanced', None],\n",
    "    'preprocessor__data_transformer__numerical__imputer__strategy':['median', 'mean']\n",
    "}\n",
    "\n",
    "\n",
    "search = GridSearchCV(classifier_pipline, param_grid, n_jobs=-1, cv=3) #, scoring=f1)\n",
    "\n",
    "search.fit(data_train.drop(target, axis=1), data_train[target])"
   ]
  },
  {
   "cell_type": "markdown",
   "metadata": {},
   "source": [
    "<div class=\"alert alert-info\">\n",
    "\n",
    "Нам даже не нужно теперь делить на `train` и `test`, ведь есть валидация "
   ]
  },
  {
   "cell_type": "code",
   "execution_count": 41,
   "metadata": {
    "ExecuteTime": {
     "end_time": "2022-04-18T19:21:15.694718Z",
     "start_time": "2022-04-18T19:21:15.681421Z"
    }
   },
   "outputs": [
    {
     "data": {
      "text/plain": [
       "{'classifier__C': 6.905513520162331,\n",
       " 'classifier__class_weight': None,\n",
       " 'classifier__penalty': 'l2',\n",
       " 'preprocessor__data_transformer__numerical__imputer__strategy': 'median'}"
      ]
     },
     "execution_count": 41,
     "metadata": {},
     "output_type": "execute_result"
    }
   ],
   "source": [
    "search.best_params_"
   ]
  },
  {
   "cell_type": "code",
   "execution_count": 42,
   "metadata": {
    "ExecuteTime": {
     "end_time": "2022-04-18T19:21:15.710719Z",
     "start_time": "2022-04-18T19:21:15.696719Z"
    }
   },
   "outputs": [
    {
     "data": {
      "text/plain": [
       "0.5581623755105788"
      ]
     },
     "execution_count": 42,
     "metadata": {},
     "output_type": "execute_result"
    }
   ],
   "source": [
    "search.best_score_"
   ]
  },
  {
   "cell_type": "code",
   "execution_count": null,
   "metadata": {},
   "outputs": [],
   "source": []
  },
  {
   "cell_type": "markdown",
   "metadata": {},
   "source": [
    "# Еще раз, но по шагам!"
   ]
  },
  {
   "cell_type": "code",
   "execution_count": 43,
   "metadata": {
    "ExecuteTime": {
     "end_time": "2022-04-18T19:21:15.725720Z",
     "start_time": "2022-04-18T19:21:15.711720Z"
    }
   },
   "outputs": [],
   "source": [
    "classifier_pipline = Pipeline(\n",
    "    steps=[('preprocessor', preprocessor),\n",
    "           ('classifier', LogisticRegression())])"
   ]
  },
  {
   "cell_type": "code",
   "execution_count": 44,
   "metadata": {
    "ExecuteTime": {
     "end_time": "2022-04-18T19:21:15.740721Z",
     "start_time": "2022-04-18T19:21:15.726722Z"
    }
   },
   "outputs": [],
   "source": [
    "# Создание конвейера препроцессора, который сначала преобразует данные.\n",
    "preprocessor = Pipeline(steps=[(\"data_transformer\", data_transformer)])\n",
    "\n",
    "\n",
    "# Собираем воедино трансформеры для числовых и категориальных признаков\n",
    "data_transformer = ColumnTransformer(\n",
    "    transformers=[\n",
    "        (\"numerical\", numerical_transformer, numerical_features),\n",
    "        (\"categorical\", categorical_transformer, categorical_features),\n",
    "    ]\n",
    ")"
   ]
  },
  {
   "cell_type": "code",
   "execution_count": 45,
   "metadata": {
    "ExecuteTime": {
     "end_time": "2022-04-18T19:21:15.756722Z",
     "start_time": "2022-04-18T19:21:15.741722Z"
    }
   },
   "outputs": [],
   "source": [
    "#   Для категориальных - применяем SimpleImputer, а затем StandardScaler\n",
    "\n",
    "numerical_transformer = Pipeline(\n",
    "    steps=[\n",
    "        (\"imputer\", SimpleImputer()),\n",
    "        (\"scaler\", StandardScaler()),\n",
    "        (\"fs\", SelectKBest(score_func=f_classif, k=\"all\")),\n",
    "    ]\n",
    ")"
   ]
  },
  {
   "cell_type": "code",
   "execution_count": 46,
   "metadata": {
    "ExecuteTime": {
     "end_time": "2022-04-18T19:21:15.948737Z",
     "start_time": "2022-04-18T19:21:15.757723Z"
    }
   },
   "outputs": [
    {
     "data": {
      "text/html": [
       "<style>#sk-0195888a-f248-41ba-89d6-dd33ebe0301b {color: black;background-color: white;}#sk-0195888a-f248-41ba-89d6-dd33ebe0301b pre{padding: 0;}#sk-0195888a-f248-41ba-89d6-dd33ebe0301b div.sk-toggleable {background-color: white;}#sk-0195888a-f248-41ba-89d6-dd33ebe0301b label.sk-toggleable__label {cursor: pointer;display: block;width: 100%;margin-bottom: 0;padding: 0.2em 0.3em;box-sizing: border-box;text-align: center;}#sk-0195888a-f248-41ba-89d6-dd33ebe0301b div.sk-toggleable__content {max-height: 0;max-width: 0;overflow: hidden;text-align: left;background-color: #f0f8ff;}#sk-0195888a-f248-41ba-89d6-dd33ebe0301b div.sk-toggleable__content pre {margin: 0.2em;color: black;border-radius: 0.25em;background-color: #f0f8ff;}#sk-0195888a-f248-41ba-89d6-dd33ebe0301b input.sk-toggleable__control:checked~div.sk-toggleable__content {max-height: 200px;max-width: 100%;overflow: auto;}#sk-0195888a-f248-41ba-89d6-dd33ebe0301b div.sk-estimator input.sk-toggleable__control:checked~label.sk-toggleable__label {background-color: #d4ebff;}#sk-0195888a-f248-41ba-89d6-dd33ebe0301b div.sk-label input.sk-toggleable__control:checked~label.sk-toggleable__label {background-color: #d4ebff;}#sk-0195888a-f248-41ba-89d6-dd33ebe0301b input.sk-hidden--visually {border: 0;clip: rect(1px 1px 1px 1px);clip: rect(1px, 1px, 1px, 1px);height: 1px;margin: -1px;overflow: hidden;padding: 0;position: absolute;width: 1px;}#sk-0195888a-f248-41ba-89d6-dd33ebe0301b div.sk-estimator {font-family: monospace;background-color: #f0f8ff;margin: 0.25em 0.25em;border: 1px dotted black;border-radius: 0.25em;box-sizing: border-box;}#sk-0195888a-f248-41ba-89d6-dd33ebe0301b div.sk-estimator:hover {background-color: #d4ebff;}#sk-0195888a-f248-41ba-89d6-dd33ebe0301b div.sk-parallel-item::after {content: \"\";width: 100%;border-bottom: 1px solid gray;flex-grow: 1;}#sk-0195888a-f248-41ba-89d6-dd33ebe0301b div.sk-label:hover label.sk-toggleable__label {background-color: #d4ebff;}#sk-0195888a-f248-41ba-89d6-dd33ebe0301b div.sk-serial::before {content: \"\";position: absolute;border-left: 1px solid gray;box-sizing: border-box;top: 2em;bottom: 0;left: 50%;}#sk-0195888a-f248-41ba-89d6-dd33ebe0301b div.sk-serial {display: flex;flex-direction: column;align-items: center;background-color: white;}#sk-0195888a-f248-41ba-89d6-dd33ebe0301b div.sk-item {z-index: 1;}#sk-0195888a-f248-41ba-89d6-dd33ebe0301b div.sk-parallel {display: flex;align-items: stretch;justify-content: center;background-color: white;}#sk-0195888a-f248-41ba-89d6-dd33ebe0301b div.sk-parallel-item {display: flex;flex-direction: column;position: relative;background-color: white;}#sk-0195888a-f248-41ba-89d6-dd33ebe0301b div.sk-parallel-item:first-child::after {align-self: flex-end;width: 50%;}#sk-0195888a-f248-41ba-89d6-dd33ebe0301b div.sk-parallel-item:last-child::after {align-self: flex-start;width: 50%;}#sk-0195888a-f248-41ba-89d6-dd33ebe0301b div.sk-parallel-item:only-child::after {width: 0;}#sk-0195888a-f248-41ba-89d6-dd33ebe0301b div.sk-dashed-wrapped {border: 1px dashed gray;margin: 0.2em;box-sizing: border-box;padding-bottom: 0.1em;background-color: white;position: relative;}#sk-0195888a-f248-41ba-89d6-dd33ebe0301b div.sk-label label {font-family: monospace;font-weight: bold;background-color: white;display: inline-block;line-height: 1.2em;}#sk-0195888a-f248-41ba-89d6-dd33ebe0301b div.sk-label-container {position: relative;z-index: 2;text-align: center;}#sk-0195888a-f248-41ba-89d6-dd33ebe0301b div.sk-container {display: inline-block;position: relative;}</style><div id=\"sk-0195888a-f248-41ba-89d6-dd33ebe0301b\" class\"sk-top-container\"><div class=\"sk-container\"><div class=\"sk-item sk-dashed-wrapped\"><div class=\"sk-label-container\"><div class=\"sk-label sk-toggleable\"><input class=\"sk-toggleable__control sk-hidden--visually\" id=\"7f87cf80-66c0-4cfa-b09d-424531219149\" type=\"checkbox\" ><label class=\"sk-toggleable__label\" for=\"7f87cf80-66c0-4cfa-b09d-424531219149\">Pipeline</label><div class=\"sk-toggleable__content\"><pre>Pipeline(steps=[('preprocessor',\n",
       "                 Pipeline(steps=[('data_transformer',\n",
       "                                  ColumnTransformer(transformers=[('numerical',\n",
       "                                                                   Pipeline(steps=[('imputer',\n",
       "                                                                                    SimpleImputer()),\n",
       "                                                                                   ('scaler',\n",
       "                                                                                    StandardScaler()),\n",
       "                                                                                   ('fs',\n",
       "                                                                                    SelectKBest(k='all'))]),\n",
       "                                                                   ['Age',\n",
       "                                                                    'Height',\n",
       "                                                                    'Weight']),\n",
       "                                                                  ('categorical',\n",
       "                                                                   Pipeline(steps=[('imputer',\n",
       "                                                                                    SimpleImputer()),\n",
       "                                                                                   ('onehot',\n",
       "                                                                                    OneHotEncoder(handle_unknown='ignore'))]),\n",
       "                                                                   ['Getting '\n",
       "                                                                    'up',\n",
       "                                                                    'God',\n",
       "                                                                    'Health',\n",
       "                                                                    'Borrowed '\n",
       "                                                                    'stuff',\n",
       "                                                                    'Self-criticism',\n",
       "                                                                    'Elections',\n",
       "                                                                    'Number of '\n",
       "                                                                    'friends',\n",
       "                                                                    'Spending '\n",
       "                                                                    'on '\n",
       "                                                                    'healthy '\n",
       "                                                                    'eating',\n",
       "                                                                    'Music',\n",
       "                                                                    'Movies',\n",
       "                                                                    'Friends '\n",
       "                                                                    'versus '\n",
       "                                                                    'money',\n",
       "                                                                    'Changing '\n",
       "                                                                    'the '\n",
       "                                                                    'past'])]))])),\n",
       "                ('classifier', LogisticRegression())])</pre></div></div></div><div class=\"sk-serial\"><div class=\"sk-item\"><div class=\"sk-label-container\"><div class=\"sk-label sk-toggleable\"><input class=\"sk-toggleable__control sk-hidden--visually\" id=\"609f7c95-0d6d-4994-8036-2d25e5a7c3b3\" type=\"checkbox\" ><label class=\"sk-toggleable__label\" for=\"609f7c95-0d6d-4994-8036-2d25e5a7c3b3\">preprocessor: Pipeline</label><div class=\"sk-toggleable__content\"><pre>Pipeline(steps=[('data_transformer',\n",
       "                 ColumnTransformer(transformers=[('numerical',\n",
       "                                                  Pipeline(steps=[('imputer',\n",
       "                                                                   SimpleImputer()),\n",
       "                                                                  ('scaler',\n",
       "                                                                   StandardScaler()),\n",
       "                                                                  ('fs',\n",
       "                                                                   SelectKBest(k='all'))]),\n",
       "                                                  ['Age', 'Height', 'Weight']),\n",
       "                                                 ('categorical',\n",
       "                                                  Pipeline(steps=[('imputer',\n",
       "                                                                   SimpleImputer()),\n",
       "                                                                  ('onehot',\n",
       "                                                                   OneHotEncoder(handle_unknown='ignore'))]),\n",
       "                                                  ['Getting up', 'God',\n",
       "                                                   'Health', 'Borrowed stuff',\n",
       "                                                   'Self-criticism',\n",
       "                                                   'Elections',\n",
       "                                                   'Number of friends',\n",
       "                                                   'Spending on healthy eating',\n",
       "                                                   'Music', 'Movies',\n",
       "                                                   'Friends versus money',\n",
       "                                                   'Changing the past'])]))])</pre></div></div></div><div class=\"sk-serial\"><div class=\"sk-item sk-dashed-wrapped\"><div class=\"sk-label-container\"><div class=\"sk-label sk-toggleable\"><input class=\"sk-toggleable__control sk-hidden--visually\" id=\"57237c25-7656-4708-aa20-84ad13dfe39a\" type=\"checkbox\" ><label class=\"sk-toggleable__label\" for=\"57237c25-7656-4708-aa20-84ad13dfe39a\">data_transformer: ColumnTransformer</label><div class=\"sk-toggleable__content\"><pre>ColumnTransformer(transformers=[('numerical',\n",
       "                                 Pipeline(steps=[('imputer', SimpleImputer()),\n",
       "                                                 ('scaler', StandardScaler()),\n",
       "                                                 ('fs', SelectKBest(k='all'))]),\n",
       "                                 ['Age', 'Height', 'Weight']),\n",
       "                                ('categorical',\n",
       "                                 Pipeline(steps=[('imputer', SimpleImputer()),\n",
       "                                                 ('onehot',\n",
       "                                                  OneHotEncoder(handle_unknown='ignore'))]),\n",
       "                                 ['Getting up', 'God', 'Health',\n",
       "                                  'Borrowed stuff', 'Self-criticism',\n",
       "                                  'Elections', 'Number of friends',\n",
       "                                  'Spending on healthy eating', 'Music',\n",
       "                                  'Movies', 'Friends versus money',\n",
       "                                  'Changing the past'])])</pre></div></div></div><div class=\"sk-parallel\"><div class=\"sk-parallel-item\"><div class=\"sk-item\"><div class=\"sk-label-container\"><div class=\"sk-label sk-toggleable\"><input class=\"sk-toggleable__control sk-hidden--visually\" id=\"68deaf2b-0f95-4341-b940-802592c4a07a\" type=\"checkbox\" ><label class=\"sk-toggleable__label\" for=\"68deaf2b-0f95-4341-b940-802592c4a07a\">numerical</label><div class=\"sk-toggleable__content\"><pre>['Age', 'Height', 'Weight']</pre></div></div></div><div class=\"sk-serial\"><div class=\"sk-item\"><div class=\"sk-serial\"><div class=\"sk-item\"><div class=\"sk-estimator sk-toggleable\"><input class=\"sk-toggleable__control sk-hidden--visually\" id=\"d18c2d84-697e-4bca-8e6f-a94f707fc541\" type=\"checkbox\" ><label class=\"sk-toggleable__label\" for=\"d18c2d84-697e-4bca-8e6f-a94f707fc541\">SimpleImputer</label><div class=\"sk-toggleable__content\"><pre>SimpleImputer()</pre></div></div></div><div class=\"sk-item\"><div class=\"sk-estimator sk-toggleable\"><input class=\"sk-toggleable__control sk-hidden--visually\" id=\"13b48d20-b6a3-4563-a40b-aa90d2e282a4\" type=\"checkbox\" ><label class=\"sk-toggleable__label\" for=\"13b48d20-b6a3-4563-a40b-aa90d2e282a4\">StandardScaler</label><div class=\"sk-toggleable__content\"><pre>StandardScaler()</pre></div></div></div><div class=\"sk-item\"><div class=\"sk-estimator sk-toggleable\"><input class=\"sk-toggleable__control sk-hidden--visually\" id=\"81007443-8bbf-4a95-9fd3-cb212ee6dc9a\" type=\"checkbox\" ><label class=\"sk-toggleable__label\" for=\"81007443-8bbf-4a95-9fd3-cb212ee6dc9a\">SelectKBest</label><div class=\"sk-toggleable__content\"><pre>SelectKBest(k='all')</pre></div></div></div></div></div></div></div></div><div class=\"sk-parallel-item\"><div class=\"sk-item\"><div class=\"sk-label-container\"><div class=\"sk-label sk-toggleable\"><input class=\"sk-toggleable__control sk-hidden--visually\" id=\"9c5c981c-2425-4bbd-a7ed-9a997ce8cbd7\" type=\"checkbox\" ><label class=\"sk-toggleable__label\" for=\"9c5c981c-2425-4bbd-a7ed-9a997ce8cbd7\">categorical</label><div class=\"sk-toggleable__content\"><pre>['Getting up', 'God', 'Health', 'Borrowed stuff', 'Self-criticism', 'Elections', 'Number of friends', 'Spending on healthy eating', 'Music', 'Movies', 'Friends versus money', 'Changing the past']</pre></div></div></div><div class=\"sk-serial\"><div class=\"sk-item\"><div class=\"sk-serial\"><div class=\"sk-item\"><div class=\"sk-estimator sk-toggleable\"><input class=\"sk-toggleable__control sk-hidden--visually\" id=\"2a2930ca-9549-402d-a074-1d7fabd21e79\" type=\"checkbox\" ><label class=\"sk-toggleable__label\" for=\"2a2930ca-9549-402d-a074-1d7fabd21e79\">SimpleImputer</label><div class=\"sk-toggleable__content\"><pre>SimpleImputer()</pre></div></div></div><div class=\"sk-item\"><div class=\"sk-estimator sk-toggleable\"><input class=\"sk-toggleable__control sk-hidden--visually\" id=\"bd7e9a09-42b2-44e5-a947-77e2c6cbc4e4\" type=\"checkbox\" ><label class=\"sk-toggleable__label\" for=\"bd7e9a09-42b2-44e5-a947-77e2c6cbc4e4\">OneHotEncoder</label><div class=\"sk-toggleable__content\"><pre>OneHotEncoder(handle_unknown='ignore')</pre></div></div></div></div></div></div></div></div></div></div></div></div><div class=\"sk-item\"><div class=\"sk-estimator sk-toggleable\"><input class=\"sk-toggleable__control sk-hidden--visually\" id=\"a591fec2-069a-448f-9d80-4eb2ed60d8c8\" type=\"checkbox\" ><label class=\"sk-toggleable__label\" for=\"a591fec2-069a-448f-9d80-4eb2ed60d8c8\">LogisticRegression</label><div class=\"sk-toggleable__content\"><pre>LogisticRegression()</pre></div></div></div></div></div></div></div>"
      ],
      "text/plain": [
       "Pipeline(steps=[('preprocessor',\n",
       "                 Pipeline(steps=[('data_transformer',\n",
       "                                  ColumnTransformer(transformers=[('numerical',\n",
       "                                                                   Pipeline(steps=[('imputer',\n",
       "                                                                                    SimpleImputer()),\n",
       "                                                                                   ('scaler',\n",
       "                                                                                    StandardScaler()),\n",
       "                                                                                   ('fs',\n",
       "                                                                                    SelectKBest(k='all'))]),\n",
       "                                                                   ['Age',\n",
       "                                                                    'Height',\n",
       "                                                                    'Weight']),\n",
       "                                                                  ('categorical',\n",
       "                                                                   Pipeline(steps=[('imputer',\n",
       "                                                                                    SimpleImputer()),\n",
       "                                                                                   ('onehot',\n",
       "                                                                                    OneHotEncoder(handle_unknown='ignore'))]),\n",
       "                                                                   ['Getting '\n",
       "                                                                    'up',\n",
       "                                                                    'God',\n",
       "                                                                    'Health',\n",
       "                                                                    'Borrowed '\n",
       "                                                                    'stuff',\n",
       "                                                                    'Self-criticism',\n",
       "                                                                    'Elections',\n",
       "                                                                    'Number of '\n",
       "                                                                    'friends',\n",
       "                                                                    'Spending '\n",
       "                                                                    'on '\n",
       "                                                                    'healthy '\n",
       "                                                                    'eating',\n",
       "                                                                    'Music',\n",
       "                                                                    'Movies',\n",
       "                                                                    'Friends '\n",
       "                                                                    'versus '\n",
       "                                                                    'money',\n",
       "                                                                    'Changing '\n",
       "                                                                    'the '\n",
       "                                                                    'past'])]))])),\n",
       "                ('classifier', LogisticRegression())])"
      ]
     },
     "execution_count": 46,
     "metadata": {},
     "output_type": "execute_result"
    }
   ],
   "source": [
    "#   Для категориальных - применяем SimpleImputer, а затем OneHotEncoder\n",
    "categorical_transformer = Pipeline(\n",
    "    steps=[\n",
    "        (\"imputer\", SimpleImputer()),\n",
    "        (\"onehot\", OneHotEncoder(handle_unknown=\"ignore\")),\n",
    "    ]\n",
    ")\n",
    "\n",
    "\n",
    "classifier_pipline"
   ]
  },
  {
   "cell_type": "code",
   "execution_count": null,
   "metadata": {},
   "outputs": [],
   "source": []
  },
  {
   "cell_type": "code",
   "execution_count": null,
   "metadata": {},
   "outputs": [],
   "source": []
  },
  {
   "cell_type": "markdown",
   "metadata": {},
   "source": [
    "# А если вдруг одной модели мало?"
   ]
  },
  {
   "cell_type": "code",
   "execution_count": 47,
   "metadata": {
    "ExecuteTime": {
     "end_time": "2022-04-18T19:21:16.252759Z",
     "start_time": "2022-04-18T19:21:15.949737Z"
    }
   },
   "outputs": [
    {
     "data": {
      "text/html": [
       "<style>#sk-dd54dbc5-2017-4202-ae38-522f93c6df7d {color: black;background-color: white;}#sk-dd54dbc5-2017-4202-ae38-522f93c6df7d pre{padding: 0;}#sk-dd54dbc5-2017-4202-ae38-522f93c6df7d div.sk-toggleable {background-color: white;}#sk-dd54dbc5-2017-4202-ae38-522f93c6df7d label.sk-toggleable__label {cursor: pointer;display: block;width: 100%;margin-bottom: 0;padding: 0.2em 0.3em;box-sizing: border-box;text-align: center;}#sk-dd54dbc5-2017-4202-ae38-522f93c6df7d div.sk-toggleable__content {max-height: 0;max-width: 0;overflow: hidden;text-align: left;background-color: #f0f8ff;}#sk-dd54dbc5-2017-4202-ae38-522f93c6df7d div.sk-toggleable__content pre {margin: 0.2em;color: black;border-radius: 0.25em;background-color: #f0f8ff;}#sk-dd54dbc5-2017-4202-ae38-522f93c6df7d input.sk-toggleable__control:checked~div.sk-toggleable__content {max-height: 200px;max-width: 100%;overflow: auto;}#sk-dd54dbc5-2017-4202-ae38-522f93c6df7d div.sk-estimator input.sk-toggleable__control:checked~label.sk-toggleable__label {background-color: #d4ebff;}#sk-dd54dbc5-2017-4202-ae38-522f93c6df7d div.sk-label input.sk-toggleable__control:checked~label.sk-toggleable__label {background-color: #d4ebff;}#sk-dd54dbc5-2017-4202-ae38-522f93c6df7d input.sk-hidden--visually {border: 0;clip: rect(1px 1px 1px 1px);clip: rect(1px, 1px, 1px, 1px);height: 1px;margin: -1px;overflow: hidden;padding: 0;position: absolute;width: 1px;}#sk-dd54dbc5-2017-4202-ae38-522f93c6df7d div.sk-estimator {font-family: monospace;background-color: #f0f8ff;margin: 0.25em 0.25em;border: 1px dotted black;border-radius: 0.25em;box-sizing: border-box;}#sk-dd54dbc5-2017-4202-ae38-522f93c6df7d div.sk-estimator:hover {background-color: #d4ebff;}#sk-dd54dbc5-2017-4202-ae38-522f93c6df7d div.sk-parallel-item::after {content: \"\";width: 100%;border-bottom: 1px solid gray;flex-grow: 1;}#sk-dd54dbc5-2017-4202-ae38-522f93c6df7d div.sk-label:hover label.sk-toggleable__label {background-color: #d4ebff;}#sk-dd54dbc5-2017-4202-ae38-522f93c6df7d div.sk-serial::before {content: \"\";position: absolute;border-left: 1px solid gray;box-sizing: border-box;top: 2em;bottom: 0;left: 50%;}#sk-dd54dbc5-2017-4202-ae38-522f93c6df7d div.sk-serial {display: flex;flex-direction: column;align-items: center;background-color: white;}#sk-dd54dbc5-2017-4202-ae38-522f93c6df7d div.sk-item {z-index: 1;}#sk-dd54dbc5-2017-4202-ae38-522f93c6df7d div.sk-parallel {display: flex;align-items: stretch;justify-content: center;background-color: white;}#sk-dd54dbc5-2017-4202-ae38-522f93c6df7d div.sk-parallel-item {display: flex;flex-direction: column;position: relative;background-color: white;}#sk-dd54dbc5-2017-4202-ae38-522f93c6df7d div.sk-parallel-item:first-child::after {align-self: flex-end;width: 50%;}#sk-dd54dbc5-2017-4202-ae38-522f93c6df7d div.sk-parallel-item:last-child::after {align-self: flex-start;width: 50%;}#sk-dd54dbc5-2017-4202-ae38-522f93c6df7d div.sk-parallel-item:only-child::after {width: 0;}#sk-dd54dbc5-2017-4202-ae38-522f93c6df7d div.sk-dashed-wrapped {border: 1px dashed gray;margin: 0.2em;box-sizing: border-box;padding-bottom: 0.1em;background-color: white;position: relative;}#sk-dd54dbc5-2017-4202-ae38-522f93c6df7d div.sk-label label {font-family: monospace;font-weight: bold;background-color: white;display: inline-block;line-height: 1.2em;}#sk-dd54dbc5-2017-4202-ae38-522f93c6df7d div.sk-label-container {position: relative;z-index: 2;text-align: center;}#sk-dd54dbc5-2017-4202-ae38-522f93c6df7d div.sk-container {display: inline-block;position: relative;}</style><div id=\"sk-dd54dbc5-2017-4202-ae38-522f93c6df7d\" class\"sk-top-container\"><div class=\"sk-container\"><div class=\"sk-item sk-dashed-wrapped\"><div class=\"sk-label-container\"><div class=\"sk-label sk-toggleable\"><input class=\"sk-toggleable__control sk-hidden--visually\" id=\"b617b426-4030-4fc2-826c-35d4318c9050\" type=\"checkbox\" ><label class=\"sk-toggleable__label\" for=\"b617b426-4030-4fc2-826c-35d4318c9050\">VotingClassifier</label><div class=\"sk-toggleable__content\"><pre>VotingClassifier(estimators=[('log_regrassion',\n",
       "                              LogisticRegression(multi_class='multinomial',\n",
       "                                                 random_state=1)),\n",
       "                             ('random_forest',\n",
       "                              RandomForestClassifier(n_estimators=50,\n",
       "                                                     random_state=1)),\n",
       "                             ('gnb', GaussianNB())])</pre></div></div></div><div class=\"sk-parallel\"><div class=\"sk-parallel-item\"><div class=\"sk-item\"><div class=\"sk-label-container\"><div class=\"sk-label sk-toggleable\"><label>log_regrassion</label></div></div><div class=\"sk-serial\"><div class=\"sk-item\"><div class=\"sk-estimator sk-toggleable\"><input class=\"sk-toggleable__control sk-hidden--visually\" id=\"6fecef1e-5beb-4b79-b90f-0e7cedf3088f\" type=\"checkbox\" ><label class=\"sk-toggleable__label\" for=\"6fecef1e-5beb-4b79-b90f-0e7cedf3088f\">LogisticRegression</label><div class=\"sk-toggleable__content\"><pre>LogisticRegression(multi_class='multinomial', random_state=1)</pre></div></div></div></div></div></div><div class=\"sk-parallel-item\"><div class=\"sk-item\"><div class=\"sk-label-container\"><div class=\"sk-label sk-toggleable\"><label>random_forest</label></div></div><div class=\"sk-serial\"><div class=\"sk-item\"><div class=\"sk-estimator sk-toggleable\"><input class=\"sk-toggleable__control sk-hidden--visually\" id=\"289feffc-4140-432e-b82f-3e1bfad65b9d\" type=\"checkbox\" ><label class=\"sk-toggleable__label\" for=\"289feffc-4140-432e-b82f-3e1bfad65b9d\">RandomForestClassifier</label><div class=\"sk-toggleable__content\"><pre>RandomForestClassifier(n_estimators=50, random_state=1)</pre></div></div></div></div></div></div><div class=\"sk-parallel-item\"><div class=\"sk-item\"><div class=\"sk-label-container\"><div class=\"sk-label sk-toggleable\"><label>gnb</label></div></div><div class=\"sk-serial\"><div class=\"sk-item\"><div class=\"sk-estimator sk-toggleable\"><input class=\"sk-toggleable__control sk-hidden--visually\" id=\"9b66fc14-b58a-40b6-9764-b905893dce40\" type=\"checkbox\" ><label class=\"sk-toggleable__label\" for=\"9b66fc14-b58a-40b6-9764-b905893dce40\">GaussianNB</label><div class=\"sk-toggleable__content\"><pre>GaussianNB()</pre></div></div></div></div></div></div></div></div></div></div>"
      ],
      "text/plain": [
       "VotingClassifier(estimators=[('log_regrassion',\n",
       "                              LogisticRegression(multi_class='multinomial',\n",
       "                                                 random_state=1)),\n",
       "                             ('random_forest',\n",
       "                              RandomForestClassifier(n_estimators=50,\n",
       "                                                     random_state=1)),\n",
       "                             ('gnb', GaussianNB())])"
      ]
     },
     "execution_count": 47,
     "metadata": {},
     "output_type": "execute_result"
    }
   ],
   "source": [
    "from sklearn.linear_model import LogisticRegression\n",
    "from sklearn.naive_bayes import GaussianNB\n",
    "from sklearn.ensemble import RandomForestClassifier, VotingClassifier\n",
    "import xgboost\n",
    "\n",
    "clf1 = LogisticRegression(multi_class=\"multinomial\", random_state=1)\n",
    "clf2 = RandomForestClassifier(n_estimators=50, random_state=1)\n",
    "clf3 = GaussianNB()\n",
    "\n",
    "blending_classifier = VotingClassifier(\n",
    "    estimators=[(\"log_regrassion\", clf1), \n",
    "                (\"random_forest\", clf2), \n",
    "                (\"gnb\", clf3)] \n",
    ")\n",
    "blending_classifier"
   ]
  },
  {
   "cell_type": "code",
   "execution_count": 48,
   "metadata": {
    "ExecuteTime": {
     "end_time": "2022-04-18T19:21:16.443384Z",
     "start_time": "2022-04-18T19:21:16.254761Z"
    }
   },
   "outputs": [
    {
     "data": {
      "text/html": [
       "<style>#sk-b9c90dc7-4651-4e18-af9f-def86c303eec {color: black;background-color: white;}#sk-b9c90dc7-4651-4e18-af9f-def86c303eec pre{padding: 0;}#sk-b9c90dc7-4651-4e18-af9f-def86c303eec div.sk-toggleable {background-color: white;}#sk-b9c90dc7-4651-4e18-af9f-def86c303eec label.sk-toggleable__label {cursor: pointer;display: block;width: 100%;margin-bottom: 0;padding: 0.2em 0.3em;box-sizing: border-box;text-align: center;}#sk-b9c90dc7-4651-4e18-af9f-def86c303eec div.sk-toggleable__content {max-height: 0;max-width: 0;overflow: hidden;text-align: left;background-color: #f0f8ff;}#sk-b9c90dc7-4651-4e18-af9f-def86c303eec div.sk-toggleable__content pre {margin: 0.2em;color: black;border-radius: 0.25em;background-color: #f0f8ff;}#sk-b9c90dc7-4651-4e18-af9f-def86c303eec input.sk-toggleable__control:checked~div.sk-toggleable__content {max-height: 200px;max-width: 100%;overflow: auto;}#sk-b9c90dc7-4651-4e18-af9f-def86c303eec div.sk-estimator input.sk-toggleable__control:checked~label.sk-toggleable__label {background-color: #d4ebff;}#sk-b9c90dc7-4651-4e18-af9f-def86c303eec div.sk-label input.sk-toggleable__control:checked~label.sk-toggleable__label {background-color: #d4ebff;}#sk-b9c90dc7-4651-4e18-af9f-def86c303eec input.sk-hidden--visually {border: 0;clip: rect(1px 1px 1px 1px);clip: rect(1px, 1px, 1px, 1px);height: 1px;margin: -1px;overflow: hidden;padding: 0;position: absolute;width: 1px;}#sk-b9c90dc7-4651-4e18-af9f-def86c303eec div.sk-estimator {font-family: monospace;background-color: #f0f8ff;margin: 0.25em 0.25em;border: 1px dotted black;border-radius: 0.25em;box-sizing: border-box;}#sk-b9c90dc7-4651-4e18-af9f-def86c303eec div.sk-estimator:hover {background-color: #d4ebff;}#sk-b9c90dc7-4651-4e18-af9f-def86c303eec div.sk-parallel-item::after {content: \"\";width: 100%;border-bottom: 1px solid gray;flex-grow: 1;}#sk-b9c90dc7-4651-4e18-af9f-def86c303eec div.sk-label:hover label.sk-toggleable__label {background-color: #d4ebff;}#sk-b9c90dc7-4651-4e18-af9f-def86c303eec div.sk-serial::before {content: \"\";position: absolute;border-left: 1px solid gray;box-sizing: border-box;top: 2em;bottom: 0;left: 50%;}#sk-b9c90dc7-4651-4e18-af9f-def86c303eec div.sk-serial {display: flex;flex-direction: column;align-items: center;background-color: white;}#sk-b9c90dc7-4651-4e18-af9f-def86c303eec div.sk-item {z-index: 1;}#sk-b9c90dc7-4651-4e18-af9f-def86c303eec div.sk-parallel {display: flex;align-items: stretch;justify-content: center;background-color: white;}#sk-b9c90dc7-4651-4e18-af9f-def86c303eec div.sk-parallel-item {display: flex;flex-direction: column;position: relative;background-color: white;}#sk-b9c90dc7-4651-4e18-af9f-def86c303eec div.sk-parallel-item:first-child::after {align-self: flex-end;width: 50%;}#sk-b9c90dc7-4651-4e18-af9f-def86c303eec div.sk-parallel-item:last-child::after {align-self: flex-start;width: 50%;}#sk-b9c90dc7-4651-4e18-af9f-def86c303eec div.sk-parallel-item:only-child::after {width: 0;}#sk-b9c90dc7-4651-4e18-af9f-def86c303eec div.sk-dashed-wrapped {border: 1px dashed gray;margin: 0.2em;box-sizing: border-box;padding-bottom: 0.1em;background-color: white;position: relative;}#sk-b9c90dc7-4651-4e18-af9f-def86c303eec div.sk-label label {font-family: monospace;font-weight: bold;background-color: white;display: inline-block;line-height: 1.2em;}#sk-b9c90dc7-4651-4e18-af9f-def86c303eec div.sk-label-container {position: relative;z-index: 2;text-align: center;}#sk-b9c90dc7-4651-4e18-af9f-def86c303eec div.sk-container {display: inline-block;position: relative;}</style><div id=\"sk-b9c90dc7-4651-4e18-af9f-def86c303eec\" class\"sk-top-container\"><div class=\"sk-container\"><div class=\"sk-item sk-dashed-wrapped\"><div class=\"sk-label-container\"><div class=\"sk-label sk-toggleable\"><input class=\"sk-toggleable__control sk-hidden--visually\" id=\"6fe7ea18-a24d-4555-a599-f01c6c928d55\" type=\"checkbox\" ><label class=\"sk-toggleable__label\" for=\"6fe7ea18-a24d-4555-a599-f01c6c928d55\">Pipeline</label><div class=\"sk-toggleable__content\"><pre>Pipeline(steps=[('preprocessor',\n",
       "                 Pipeline(steps=[('data_transformer',\n",
       "                                  ColumnTransformer(transformers=[('numerical',\n",
       "                                                                   Pipeline(steps=[('imputer',\n",
       "                                                                                    SimpleImputer()),\n",
       "                                                                                   ('scaler',\n",
       "                                                                                    StandardScaler()),\n",
       "                                                                                   ('fs',\n",
       "                                                                                    SelectKBest(k='all'))]),\n",
       "                                                                   ['Age',\n",
       "                                                                    'Height',\n",
       "                                                                    'Weight']),\n",
       "                                                                  ('categorical',\n",
       "                                                                   Pipeline(steps=[('imputer',\n",
       "                                                                                    SimpleImputer()),\n",
       "                                                                                   ('onehot',\n",
       "                                                                                    OneHotEncoder(handle_unknown='ignore'))...\n",
       "                                                                    'Elections',\n",
       "                                                                    'Number of '\n",
       "                                                                    'friends',\n",
       "                                                                    'Spending '\n",
       "                                                                    'on '\n",
       "                                                                    'healthy '\n",
       "                                                                    'eating',\n",
       "                                                                    'Music',\n",
       "                                                                    'Movies',\n",
       "                                                                    'Friends '\n",
       "                                                                    'versus '\n",
       "                                                                    'money',\n",
       "                                                                    'Changing '\n",
       "                                                                    'the '\n",
       "                                                                    'past'])]))])),\n",
       "                ('classifier',\n",
       "                 VotingClassifier(estimators=[('log_regrassion',\n",
       "                                               LogisticRegression(multi_class='multinomial',\n",
       "                                                                  random_state=1)),\n",
       "                                              ('random_forest',\n",
       "                                               RandomForestClassifier(n_estimators=50,\n",
       "                                                                      random_state=1)),\n",
       "                                              ('gnb', GaussianNB())]))])</pre></div></div></div><div class=\"sk-serial\"><div class=\"sk-item\"><div class=\"sk-label-container\"><div class=\"sk-label sk-toggleable\"><input class=\"sk-toggleable__control sk-hidden--visually\" id=\"132bf83d-c6de-460b-bded-f993bdaa33a6\" type=\"checkbox\" ><label class=\"sk-toggleable__label\" for=\"132bf83d-c6de-460b-bded-f993bdaa33a6\">preprocessor: Pipeline</label><div class=\"sk-toggleable__content\"><pre>Pipeline(steps=[('data_transformer',\n",
       "                 ColumnTransformer(transformers=[('numerical',\n",
       "                                                  Pipeline(steps=[('imputer',\n",
       "                                                                   SimpleImputer()),\n",
       "                                                                  ('scaler',\n",
       "                                                                   StandardScaler()),\n",
       "                                                                  ('fs',\n",
       "                                                                   SelectKBest(k='all'))]),\n",
       "                                                  ['Age', 'Height', 'Weight']),\n",
       "                                                 ('categorical',\n",
       "                                                  Pipeline(steps=[('imputer',\n",
       "                                                                   SimpleImputer()),\n",
       "                                                                  ('onehot',\n",
       "                                                                   OneHotEncoder(handle_unknown='ignore'))]),\n",
       "                                                  ['Getting up', 'God',\n",
       "                                                   'Health', 'Borrowed stuff',\n",
       "                                                   'Self-criticism',\n",
       "                                                   'Elections',\n",
       "                                                   'Number of friends',\n",
       "                                                   'Spending on healthy eating',\n",
       "                                                   'Music', 'Movies',\n",
       "                                                   'Friends versus money',\n",
       "                                                   'Changing the past'])]))])</pre></div></div></div><div class=\"sk-serial\"><div class=\"sk-item sk-dashed-wrapped\"><div class=\"sk-label-container\"><div class=\"sk-label sk-toggleable\"><input class=\"sk-toggleable__control sk-hidden--visually\" id=\"6edb2c1f-f5af-42c0-a201-90fa008bc4e5\" type=\"checkbox\" ><label class=\"sk-toggleable__label\" for=\"6edb2c1f-f5af-42c0-a201-90fa008bc4e5\">data_transformer: ColumnTransformer</label><div class=\"sk-toggleable__content\"><pre>ColumnTransformer(transformers=[('numerical',\n",
       "                                 Pipeline(steps=[('imputer', SimpleImputer()),\n",
       "                                                 ('scaler', StandardScaler()),\n",
       "                                                 ('fs', SelectKBest(k='all'))]),\n",
       "                                 ['Age', 'Height', 'Weight']),\n",
       "                                ('categorical',\n",
       "                                 Pipeline(steps=[('imputer', SimpleImputer()),\n",
       "                                                 ('onehot',\n",
       "                                                  OneHotEncoder(handle_unknown='ignore'))]),\n",
       "                                 ['Getting up', 'God', 'Health',\n",
       "                                  'Borrowed stuff', 'Self-criticism',\n",
       "                                  'Elections', 'Number of friends',\n",
       "                                  'Spending on healthy eating', 'Music',\n",
       "                                  'Movies', 'Friends versus money',\n",
       "                                  'Changing the past'])])</pre></div></div></div><div class=\"sk-parallel\"><div class=\"sk-parallel-item\"><div class=\"sk-item\"><div class=\"sk-label-container\"><div class=\"sk-label sk-toggleable\"><input class=\"sk-toggleable__control sk-hidden--visually\" id=\"30aa3712-3a25-4032-9475-f6f70832e102\" type=\"checkbox\" ><label class=\"sk-toggleable__label\" for=\"30aa3712-3a25-4032-9475-f6f70832e102\">numerical</label><div class=\"sk-toggleable__content\"><pre>['Age', 'Height', 'Weight']</pre></div></div></div><div class=\"sk-serial\"><div class=\"sk-item\"><div class=\"sk-serial\"><div class=\"sk-item\"><div class=\"sk-estimator sk-toggleable\"><input class=\"sk-toggleable__control sk-hidden--visually\" id=\"660b6ff7-15c6-4fbc-85f4-905b7be3d882\" type=\"checkbox\" ><label class=\"sk-toggleable__label\" for=\"660b6ff7-15c6-4fbc-85f4-905b7be3d882\">SimpleImputer</label><div class=\"sk-toggleable__content\"><pre>SimpleImputer()</pre></div></div></div><div class=\"sk-item\"><div class=\"sk-estimator sk-toggleable\"><input class=\"sk-toggleable__control sk-hidden--visually\" id=\"47863e58-68d6-4004-b2bf-89fc73f72dfe\" type=\"checkbox\" ><label class=\"sk-toggleable__label\" for=\"47863e58-68d6-4004-b2bf-89fc73f72dfe\">StandardScaler</label><div class=\"sk-toggleable__content\"><pre>StandardScaler()</pre></div></div></div><div class=\"sk-item\"><div class=\"sk-estimator sk-toggleable\"><input class=\"sk-toggleable__control sk-hidden--visually\" id=\"19024d7d-58e0-4699-9a4b-b37bc955dede\" type=\"checkbox\" ><label class=\"sk-toggleable__label\" for=\"19024d7d-58e0-4699-9a4b-b37bc955dede\">SelectKBest</label><div class=\"sk-toggleable__content\"><pre>SelectKBest(k='all')</pre></div></div></div></div></div></div></div></div><div class=\"sk-parallel-item\"><div class=\"sk-item\"><div class=\"sk-label-container\"><div class=\"sk-label sk-toggleable\"><input class=\"sk-toggleable__control sk-hidden--visually\" id=\"be797853-c1f8-4236-b45d-f6a049fcfe31\" type=\"checkbox\" ><label class=\"sk-toggleable__label\" for=\"be797853-c1f8-4236-b45d-f6a049fcfe31\">categorical</label><div class=\"sk-toggleable__content\"><pre>['Getting up', 'God', 'Health', 'Borrowed stuff', 'Self-criticism', 'Elections', 'Number of friends', 'Spending on healthy eating', 'Music', 'Movies', 'Friends versus money', 'Changing the past']</pre></div></div></div><div class=\"sk-serial\"><div class=\"sk-item\"><div class=\"sk-serial\"><div class=\"sk-item\"><div class=\"sk-estimator sk-toggleable\"><input class=\"sk-toggleable__control sk-hidden--visually\" id=\"f8c71c1c-e348-45e6-b29d-c03786b5c025\" type=\"checkbox\" ><label class=\"sk-toggleable__label\" for=\"f8c71c1c-e348-45e6-b29d-c03786b5c025\">SimpleImputer</label><div class=\"sk-toggleable__content\"><pre>SimpleImputer()</pre></div></div></div><div class=\"sk-item\"><div class=\"sk-estimator sk-toggleable\"><input class=\"sk-toggleable__control sk-hidden--visually\" id=\"985a37f1-b44a-4550-b9e0-4393a70a573f\" type=\"checkbox\" ><label class=\"sk-toggleable__label\" for=\"985a37f1-b44a-4550-b9e0-4393a70a573f\">OneHotEncoder</label><div class=\"sk-toggleable__content\"><pre>OneHotEncoder(handle_unknown='ignore')</pre></div></div></div></div></div></div></div></div></div></div></div></div><div class=\"sk-item sk-dashed-wrapped\"><div class=\"sk-label-container\"><div class=\"sk-label sk-toggleable\"><input class=\"sk-toggleable__control sk-hidden--visually\" id=\"92d5e71a-9671-449c-8e53-bcc2b9ce3027\" type=\"checkbox\" ><label class=\"sk-toggleable__label\" for=\"92d5e71a-9671-449c-8e53-bcc2b9ce3027\">classifier: VotingClassifier</label><div class=\"sk-toggleable__content\"><pre>VotingClassifier(estimators=[('log_regrassion',\n",
       "                              LogisticRegression(multi_class='multinomial',\n",
       "                                                 random_state=1)),\n",
       "                             ('random_forest',\n",
       "                              RandomForestClassifier(n_estimators=50,\n",
       "                                                     random_state=1)),\n",
       "                             ('gnb', GaussianNB())])</pre></div></div></div><div class=\"sk-parallel\"><div class=\"sk-parallel-item\"><div class=\"sk-item\"><div class=\"sk-label-container\"><div class=\"sk-label sk-toggleable\"><label>log_regrassion</label></div></div><div class=\"sk-serial\"><div class=\"sk-item\"><div class=\"sk-estimator sk-toggleable\"><input class=\"sk-toggleable__control sk-hidden--visually\" id=\"32a9a411-3586-4b2a-a1f8-a3c420d53bf0\" type=\"checkbox\" ><label class=\"sk-toggleable__label\" for=\"32a9a411-3586-4b2a-a1f8-a3c420d53bf0\">LogisticRegression</label><div class=\"sk-toggleable__content\"><pre>LogisticRegression(multi_class='multinomial', random_state=1)</pre></div></div></div></div></div></div><div class=\"sk-parallel-item\"><div class=\"sk-item\"><div class=\"sk-label-container\"><div class=\"sk-label sk-toggleable\"><label>random_forest</label></div></div><div class=\"sk-serial\"><div class=\"sk-item\"><div class=\"sk-estimator sk-toggleable\"><input class=\"sk-toggleable__control sk-hidden--visually\" id=\"bf1e6911-cec0-483f-b794-5f44fc55959e\" type=\"checkbox\" ><label class=\"sk-toggleable__label\" for=\"bf1e6911-cec0-483f-b794-5f44fc55959e\">RandomForestClassifier</label><div class=\"sk-toggleable__content\"><pre>RandomForestClassifier(n_estimators=50, random_state=1)</pre></div></div></div></div></div></div><div class=\"sk-parallel-item\"><div class=\"sk-item\"><div class=\"sk-label-container\"><div class=\"sk-label sk-toggleable\"><label>gnb</label></div></div><div class=\"sk-serial\"><div class=\"sk-item\"><div class=\"sk-estimator sk-toggleable\"><input class=\"sk-toggleable__control sk-hidden--visually\" id=\"309add1e-b6f6-419e-9e37-41d1a215259d\" type=\"checkbox\" ><label class=\"sk-toggleable__label\" for=\"309add1e-b6f6-419e-9e37-41d1a215259d\">GaussianNB</label><div class=\"sk-toggleable__content\"><pre>GaussianNB()</pre></div></div></div></div></div></div></div></div></div></div></div></div>"
      ],
      "text/plain": [
       "Pipeline(steps=[('preprocessor',\n",
       "                 Pipeline(steps=[('data_transformer',\n",
       "                                  ColumnTransformer(transformers=[('numerical',\n",
       "                                                                   Pipeline(steps=[('imputer',\n",
       "                                                                                    SimpleImputer()),\n",
       "                                                                                   ('scaler',\n",
       "                                                                                    StandardScaler()),\n",
       "                                                                                   ('fs',\n",
       "                                                                                    SelectKBest(k='all'))]),\n",
       "                                                                   ['Age',\n",
       "                                                                    'Height',\n",
       "                                                                    'Weight']),\n",
       "                                                                  ('categorical',\n",
       "                                                                   Pipeline(steps=[('imputer',\n",
       "                                                                                    SimpleImputer()),\n",
       "                                                                                   ('onehot',\n",
       "                                                                                    OneHotEncoder(handle_unknown='ignore'))...\n",
       "                                                                    'Elections',\n",
       "                                                                    'Number of '\n",
       "                                                                    'friends',\n",
       "                                                                    'Spending '\n",
       "                                                                    'on '\n",
       "                                                                    'healthy '\n",
       "                                                                    'eating',\n",
       "                                                                    'Music',\n",
       "                                                                    'Movies',\n",
       "                                                                    'Friends '\n",
       "                                                                    'versus '\n",
       "                                                                    'money',\n",
       "                                                                    'Changing '\n",
       "                                                                    'the '\n",
       "                                                                    'past'])]))])),\n",
       "                ('classifier',\n",
       "                 VotingClassifier(estimators=[('log_regrassion',\n",
       "                                               LogisticRegression(multi_class='multinomial',\n",
       "                                                                  random_state=1)),\n",
       "                                              ('random_forest',\n",
       "                                               RandomForestClassifier(n_estimators=50,\n",
       "                                                                      random_state=1)),\n",
       "                                              ('gnb', GaussianNB())]))])"
      ]
     },
     "execution_count": 48,
     "metadata": {},
     "output_type": "execute_result"
    }
   ],
   "source": [
    "classifier_pipline = Pipeline(\n",
    "    steps=[(\"preprocessor\", preprocessor),\n",
    "           (\"classifier\", blending_classifier)]\n",
    ")\n",
    "\n",
    "classifier_pipline"
   ]
  },
  {
   "cell_type": "code",
   "execution_count": null,
   "metadata": {},
   "outputs": [],
   "source": []
  },
  {
   "cell_type": "markdown",
   "metadata": {},
   "source": [
    "# А что если хотим использовать стекинг?"
   ]
  },
  {
   "cell_type": "code",
   "execution_count": 49,
   "metadata": {
    "ExecuteTime": {
     "end_time": "2022-04-18T19:21:16.459385Z",
     "start_time": "2022-04-18T19:21:16.444385Z"
    }
   },
   "outputs": [],
   "source": [
    "# Your code here.\n",
    "from sklearn.ensemble import RandomForestClassifier\n",
    "from sklearn.svm import LinearSVC\n",
    "from sklearn.ensemble import StackingClassifier\n"
   ]
  },
  {
   "cell_type": "code",
   "execution_count": 50,
   "metadata": {
    "ExecuteTime": {
     "end_time": "2022-04-18T19:21:16.475386Z",
     "start_time": "2022-04-18T19:21:16.461387Z"
    }
   },
   "outputs": [],
   "source": [
    "# получим список эстиматоров\n",
    "estimators = [\n",
    "    (\"Random_Forest\", RandomForestClassifier()),\n",
    "    (\"Xgboost\", xgboost.XGBClassifier()),\n",
    "    (\"SVM\", LinearSVC()),\n",
    "    \n",
    "]\n",
    "\n",
    "# построим классификатор используя стекинг и наш список классификаторов\n",
    "stacking_classifier = StackingClassifier(\n",
    "    estimators=estimators,\n",
    "    final_estimator=LogisticRegression(n_jobs=-1, verbose=True),\n",
    "    n_jobs=-1,\n",
    "    verbose=True,\n",
    ")"
   ]
  },
  {
   "cell_type": "code",
   "execution_count": 51,
   "metadata": {
    "ExecuteTime": {
     "end_time": "2022-04-18T19:21:16.507388Z",
     "start_time": "2022-04-18T19:21:16.476387Z"
    }
   },
   "outputs": [
    {
     "data": {
      "text/html": [
       "<style>#sk-823957af-2e61-40c8-ae3b-5619da641e07 {color: black;background-color: white;}#sk-823957af-2e61-40c8-ae3b-5619da641e07 pre{padding: 0;}#sk-823957af-2e61-40c8-ae3b-5619da641e07 div.sk-toggleable {background-color: white;}#sk-823957af-2e61-40c8-ae3b-5619da641e07 label.sk-toggleable__label {cursor: pointer;display: block;width: 100%;margin-bottom: 0;padding: 0.2em 0.3em;box-sizing: border-box;text-align: center;}#sk-823957af-2e61-40c8-ae3b-5619da641e07 div.sk-toggleable__content {max-height: 0;max-width: 0;overflow: hidden;text-align: left;background-color: #f0f8ff;}#sk-823957af-2e61-40c8-ae3b-5619da641e07 div.sk-toggleable__content pre {margin: 0.2em;color: black;border-radius: 0.25em;background-color: #f0f8ff;}#sk-823957af-2e61-40c8-ae3b-5619da641e07 input.sk-toggleable__control:checked~div.sk-toggleable__content {max-height: 200px;max-width: 100%;overflow: auto;}#sk-823957af-2e61-40c8-ae3b-5619da641e07 div.sk-estimator input.sk-toggleable__control:checked~label.sk-toggleable__label {background-color: #d4ebff;}#sk-823957af-2e61-40c8-ae3b-5619da641e07 div.sk-label input.sk-toggleable__control:checked~label.sk-toggleable__label {background-color: #d4ebff;}#sk-823957af-2e61-40c8-ae3b-5619da641e07 input.sk-hidden--visually {border: 0;clip: rect(1px 1px 1px 1px);clip: rect(1px, 1px, 1px, 1px);height: 1px;margin: -1px;overflow: hidden;padding: 0;position: absolute;width: 1px;}#sk-823957af-2e61-40c8-ae3b-5619da641e07 div.sk-estimator {font-family: monospace;background-color: #f0f8ff;margin: 0.25em 0.25em;border: 1px dotted black;border-radius: 0.25em;box-sizing: border-box;}#sk-823957af-2e61-40c8-ae3b-5619da641e07 div.sk-estimator:hover {background-color: #d4ebff;}#sk-823957af-2e61-40c8-ae3b-5619da641e07 div.sk-parallel-item::after {content: \"\";width: 100%;border-bottom: 1px solid gray;flex-grow: 1;}#sk-823957af-2e61-40c8-ae3b-5619da641e07 div.sk-label:hover label.sk-toggleable__label {background-color: #d4ebff;}#sk-823957af-2e61-40c8-ae3b-5619da641e07 div.sk-serial::before {content: \"\";position: absolute;border-left: 1px solid gray;box-sizing: border-box;top: 2em;bottom: 0;left: 50%;}#sk-823957af-2e61-40c8-ae3b-5619da641e07 div.sk-serial {display: flex;flex-direction: column;align-items: center;background-color: white;}#sk-823957af-2e61-40c8-ae3b-5619da641e07 div.sk-item {z-index: 1;}#sk-823957af-2e61-40c8-ae3b-5619da641e07 div.sk-parallel {display: flex;align-items: stretch;justify-content: center;background-color: white;}#sk-823957af-2e61-40c8-ae3b-5619da641e07 div.sk-parallel-item {display: flex;flex-direction: column;position: relative;background-color: white;}#sk-823957af-2e61-40c8-ae3b-5619da641e07 div.sk-parallel-item:first-child::after {align-self: flex-end;width: 50%;}#sk-823957af-2e61-40c8-ae3b-5619da641e07 div.sk-parallel-item:last-child::after {align-self: flex-start;width: 50%;}#sk-823957af-2e61-40c8-ae3b-5619da641e07 div.sk-parallel-item:only-child::after {width: 0;}#sk-823957af-2e61-40c8-ae3b-5619da641e07 div.sk-dashed-wrapped {border: 1px dashed gray;margin: 0.2em;box-sizing: border-box;padding-bottom: 0.1em;background-color: white;position: relative;}#sk-823957af-2e61-40c8-ae3b-5619da641e07 div.sk-label label {font-family: monospace;font-weight: bold;background-color: white;display: inline-block;line-height: 1.2em;}#sk-823957af-2e61-40c8-ae3b-5619da641e07 div.sk-label-container {position: relative;z-index: 2;text-align: center;}#sk-823957af-2e61-40c8-ae3b-5619da641e07 div.sk-container {display: inline-block;position: relative;}</style><div id=\"sk-823957af-2e61-40c8-ae3b-5619da641e07\" class\"sk-top-container\"><div class=\"sk-container\"><div class=\"sk-item sk-dashed-wrapped\"><div class=\"sk-label-container\"><div class=\"sk-label sk-toggleable\"><input class=\"sk-toggleable__control sk-hidden--visually\" id=\"1e225e55-f007-43e2-a4b2-a662af0aab12\" type=\"checkbox\" ><label class=\"sk-toggleable__label\" for=\"1e225e55-f007-43e2-a4b2-a662af0aab12\">StackingClassifier</label><div class=\"sk-toggleable__content\"><pre>StackingClassifier(estimators=[('Random_Forest', RandomForestClassifier()),\n",
       "                               ('Xgboost',\n",
       "                                XGBClassifier(base_score=None, booster=None,\n",
       "                                              colsample_bylevel=None,\n",
       "                                              colsample_bynode=None,\n",
       "                                              colsample_bytree=None, gamma=None,\n",
       "                                              gpu_id=None,\n",
       "                                              importance_type='gain',\n",
       "                                              interaction_constraints=None,\n",
       "                                              learning_rate=None,\n",
       "                                              max_delta_step=None,\n",
       "                                              max_depth=None,\n",
       "                                              min_child_weight=None,\n",
       "                                              missing=nan,\n",
       "                                              monotone_constraints=None,\n",
       "                                              n_estimators=100, n_jobs=None,\n",
       "                                              num_parallel_tree=None,\n",
       "                                              random_state=None, reg_alpha=None,\n",
       "                                              reg_lambda=None,\n",
       "                                              scale_pos_weight=None,\n",
       "                                              subsample=None, tree_method=None,\n",
       "                                              validate_parameters=None,\n",
       "                                              verbosity=None)),\n",
       "                               ('SVM', LinearSVC())],\n",
       "                   final_estimator=LogisticRegression(n_jobs=-1, verbose=True),\n",
       "                   n_jobs=-1, verbose=True)</pre></div></div></div><div class=\"sk-serial\"><div class=\"sk-item\"><div class=\"sk-serial\"><div class=\"sk-item\"><div class=\"sk-parallel\"><div class=\"sk-parallel-item\"><div class=\"sk-item\"><div class=\"sk-label-container\"><div class=\"sk-label sk-toggleable\"><label>Random_Forest</label></div></div><div class=\"sk-serial\"><div class=\"sk-item\"><div class=\"sk-estimator sk-toggleable\"><input class=\"sk-toggleable__control sk-hidden--visually\" id=\"bb37e6e3-d0f0-43e3-9492-f731bebab8cf\" type=\"checkbox\" ><label class=\"sk-toggleable__label\" for=\"bb37e6e3-d0f0-43e3-9492-f731bebab8cf\">RandomForestClassifier</label><div class=\"sk-toggleable__content\"><pre>RandomForestClassifier()</pre></div></div></div></div></div></div><div class=\"sk-parallel-item\"><div class=\"sk-item\"><div class=\"sk-label-container\"><div class=\"sk-label sk-toggleable\"><label>Xgboost</label></div></div><div class=\"sk-serial\"><div class=\"sk-item\"><div class=\"sk-estimator sk-toggleable\"><input class=\"sk-toggleable__control sk-hidden--visually\" id=\"9936d570-b28d-4e5d-922c-adab7285aae4\" type=\"checkbox\" ><label class=\"sk-toggleable__label\" for=\"9936d570-b28d-4e5d-922c-adab7285aae4\">XGBClassifier</label><div class=\"sk-toggleable__content\"><pre>XGBClassifier(base_score=None, booster=None, colsample_bylevel=None,\n",
       "              colsample_bynode=None, colsample_bytree=None, gamma=None,\n",
       "              gpu_id=None, importance_type='gain', interaction_constraints=None,\n",
       "              learning_rate=None, max_delta_step=None, max_depth=None,\n",
       "              min_child_weight=None, missing=nan, monotone_constraints=None,\n",
       "              n_estimators=100, n_jobs=None, num_parallel_tree=None,\n",
       "              random_state=None, reg_alpha=None, reg_lambda=None,\n",
       "              scale_pos_weight=None, subsample=None, tree_method=None,\n",
       "              validate_parameters=None, verbosity=None)</pre></div></div></div></div></div></div><div class=\"sk-parallel-item\"><div class=\"sk-item\"><div class=\"sk-label-container\"><div class=\"sk-label sk-toggleable\"><label>SVM</label></div></div><div class=\"sk-serial\"><div class=\"sk-item\"><div class=\"sk-estimator sk-toggleable\"><input class=\"sk-toggleable__control sk-hidden--visually\" id=\"cf4a4abe-e508-4ba7-9fa8-7d90a3bbd6eb\" type=\"checkbox\" ><label class=\"sk-toggleable__label\" for=\"cf4a4abe-e508-4ba7-9fa8-7d90a3bbd6eb\">LinearSVC</label><div class=\"sk-toggleable__content\"><pre>LinearSVC()</pre></div></div></div></div></div></div></div></div><div class=\"sk-item\"><div class=\"sk-estimator sk-toggleable\"><input class=\"sk-toggleable__control sk-hidden--visually\" id=\"558597c1-b48a-45c4-93ae-c4eba85e2adf\" type=\"checkbox\" ><label class=\"sk-toggleable__label\" for=\"558597c1-b48a-45c4-93ae-c4eba85e2adf\">LogisticRegression</label><div class=\"sk-toggleable__content\"><pre>LogisticRegression(n_jobs=-1, verbose=True)</pre></div></div></div></div></div></div></div></div></div>"
      ],
      "text/plain": [
       "StackingClassifier(estimators=[('Random_Forest', RandomForestClassifier()),\n",
       "                               ('Xgboost',\n",
       "                                XGBClassifier(base_score=None, booster=None,\n",
       "                                              colsample_bylevel=None,\n",
       "                                              colsample_bynode=None,\n",
       "                                              colsample_bytree=None, gamma=None,\n",
       "                                              gpu_id=None,\n",
       "                                              importance_type='gain',\n",
       "                                              interaction_constraints=None,\n",
       "                                              learning_rate=None,\n",
       "                                              max_delta_step=None,\n",
       "                                              max_depth=None,\n",
       "                                              min_child_weight=None,\n",
       "                                              missing=nan,\n",
       "                                              monotone_constraints=None,\n",
       "                                              n_estimators=100, n_jobs=None,\n",
       "                                              num_parallel_tree=None,\n",
       "                                              random_state=None, reg_alpha=None,\n",
       "                                              reg_lambda=None,\n",
       "                                              scale_pos_weight=None,\n",
       "                                              subsample=None, tree_method=None,\n",
       "                                              validate_parameters=None,\n",
       "                                              verbosity=None)),\n",
       "                               ('SVM', LinearSVC())],\n",
       "                   final_estimator=LogisticRegression(n_jobs=-1, verbose=True),\n",
       "                   n_jobs=-1, verbose=True)"
      ]
     },
     "execution_count": 51,
     "metadata": {},
     "output_type": "execute_result"
    }
   ],
   "source": [
    "stacking_classifier"
   ]
  },
  {
   "cell_type": "code",
   "execution_count": null,
   "metadata": {},
   "outputs": [],
   "source": []
  },
  {
   "cell_type": "code",
   "execution_count": 52,
   "metadata": {
    "ExecuteTime": {
     "end_time": "2022-04-18T19:21:16.715405Z",
     "start_time": "2022-04-18T19:21:16.508389Z"
    }
   },
   "outputs": [
    {
     "data": {
      "text/html": [
       "<style>#sk-c2008b29-2c75-468e-9882-e532f839b6a6 {color: black;background-color: white;}#sk-c2008b29-2c75-468e-9882-e532f839b6a6 pre{padding: 0;}#sk-c2008b29-2c75-468e-9882-e532f839b6a6 div.sk-toggleable {background-color: white;}#sk-c2008b29-2c75-468e-9882-e532f839b6a6 label.sk-toggleable__label {cursor: pointer;display: block;width: 100%;margin-bottom: 0;padding: 0.2em 0.3em;box-sizing: border-box;text-align: center;}#sk-c2008b29-2c75-468e-9882-e532f839b6a6 div.sk-toggleable__content {max-height: 0;max-width: 0;overflow: hidden;text-align: left;background-color: #f0f8ff;}#sk-c2008b29-2c75-468e-9882-e532f839b6a6 div.sk-toggleable__content pre {margin: 0.2em;color: black;border-radius: 0.25em;background-color: #f0f8ff;}#sk-c2008b29-2c75-468e-9882-e532f839b6a6 input.sk-toggleable__control:checked~div.sk-toggleable__content {max-height: 200px;max-width: 100%;overflow: auto;}#sk-c2008b29-2c75-468e-9882-e532f839b6a6 div.sk-estimator input.sk-toggleable__control:checked~label.sk-toggleable__label {background-color: #d4ebff;}#sk-c2008b29-2c75-468e-9882-e532f839b6a6 div.sk-label input.sk-toggleable__control:checked~label.sk-toggleable__label {background-color: #d4ebff;}#sk-c2008b29-2c75-468e-9882-e532f839b6a6 input.sk-hidden--visually {border: 0;clip: rect(1px 1px 1px 1px);clip: rect(1px, 1px, 1px, 1px);height: 1px;margin: -1px;overflow: hidden;padding: 0;position: absolute;width: 1px;}#sk-c2008b29-2c75-468e-9882-e532f839b6a6 div.sk-estimator {font-family: monospace;background-color: #f0f8ff;margin: 0.25em 0.25em;border: 1px dotted black;border-radius: 0.25em;box-sizing: border-box;}#sk-c2008b29-2c75-468e-9882-e532f839b6a6 div.sk-estimator:hover {background-color: #d4ebff;}#sk-c2008b29-2c75-468e-9882-e532f839b6a6 div.sk-parallel-item::after {content: \"\";width: 100%;border-bottom: 1px solid gray;flex-grow: 1;}#sk-c2008b29-2c75-468e-9882-e532f839b6a6 div.sk-label:hover label.sk-toggleable__label {background-color: #d4ebff;}#sk-c2008b29-2c75-468e-9882-e532f839b6a6 div.sk-serial::before {content: \"\";position: absolute;border-left: 1px solid gray;box-sizing: border-box;top: 2em;bottom: 0;left: 50%;}#sk-c2008b29-2c75-468e-9882-e532f839b6a6 div.sk-serial {display: flex;flex-direction: column;align-items: center;background-color: white;}#sk-c2008b29-2c75-468e-9882-e532f839b6a6 div.sk-item {z-index: 1;}#sk-c2008b29-2c75-468e-9882-e532f839b6a6 div.sk-parallel {display: flex;align-items: stretch;justify-content: center;background-color: white;}#sk-c2008b29-2c75-468e-9882-e532f839b6a6 div.sk-parallel-item {display: flex;flex-direction: column;position: relative;background-color: white;}#sk-c2008b29-2c75-468e-9882-e532f839b6a6 div.sk-parallel-item:first-child::after {align-self: flex-end;width: 50%;}#sk-c2008b29-2c75-468e-9882-e532f839b6a6 div.sk-parallel-item:last-child::after {align-self: flex-start;width: 50%;}#sk-c2008b29-2c75-468e-9882-e532f839b6a6 div.sk-parallel-item:only-child::after {width: 0;}#sk-c2008b29-2c75-468e-9882-e532f839b6a6 div.sk-dashed-wrapped {border: 1px dashed gray;margin: 0.2em;box-sizing: border-box;padding-bottom: 0.1em;background-color: white;position: relative;}#sk-c2008b29-2c75-468e-9882-e532f839b6a6 div.sk-label label {font-family: monospace;font-weight: bold;background-color: white;display: inline-block;line-height: 1.2em;}#sk-c2008b29-2c75-468e-9882-e532f839b6a6 div.sk-label-container {position: relative;z-index: 2;text-align: center;}#sk-c2008b29-2c75-468e-9882-e532f839b6a6 div.sk-container {display: inline-block;position: relative;}</style><div id=\"sk-c2008b29-2c75-468e-9882-e532f839b6a6\" class\"sk-top-container\"><div class=\"sk-container\"><div class=\"sk-item sk-dashed-wrapped\"><div class=\"sk-label-container\"><div class=\"sk-label sk-toggleable\"><input class=\"sk-toggleable__control sk-hidden--visually\" id=\"38432ecf-3d2f-4de4-9bef-45bc925275c4\" type=\"checkbox\" ><label class=\"sk-toggleable__label\" for=\"38432ecf-3d2f-4de4-9bef-45bc925275c4\">Pipeline</label><div class=\"sk-toggleable__content\"><pre>Pipeline(steps=[('preprocessor',\n",
       "                 Pipeline(steps=[('data_transformer',\n",
       "                                  ColumnTransformer(transformers=[('numerical',\n",
       "                                                                   Pipeline(steps=[('imputer',\n",
       "                                                                                    SimpleImputer()),\n",
       "                                                                                   ('scaler',\n",
       "                                                                                    StandardScaler()),\n",
       "                                                                                   ('fs',\n",
       "                                                                                    SelectKBest(k='all'))]),\n",
       "                                                                   ['Age',\n",
       "                                                                    'Height',\n",
       "                                                                    'Weight']),\n",
       "                                                                  ('categorical',\n",
       "                                                                   Pipeline(steps=[('imputer',\n",
       "                                                                                    SimpleImputer()),\n",
       "                                                                                   ('onehot',\n",
       "                                                                                    OneHotEncoder(handle_unknown='ignore'))...\n",
       "                                                               max_delta_step=None,\n",
       "                                                               max_depth=None,\n",
       "                                                               min_child_weight=None,\n",
       "                                                               missing=nan,\n",
       "                                                               monotone_constraints=None,\n",
       "                                                               n_estimators=100,\n",
       "                                                               n_jobs=None,\n",
       "                                                               num_parallel_tree=None,\n",
       "                                                               random_state=None,\n",
       "                                                               reg_alpha=None,\n",
       "                                                               reg_lambda=None,\n",
       "                                                               scale_pos_weight=None,\n",
       "                                                               subsample=None,\n",
       "                                                               tree_method=None,\n",
       "                                                               validate_parameters=None,\n",
       "                                                               verbosity=None))],\n",
       "                                    final_estimator=LogisticRegression(n_jobs=-1),\n",
       "                                    n_jobs=-1))])</pre></div></div></div><div class=\"sk-serial\"><div class=\"sk-item\"><div class=\"sk-label-container\"><div class=\"sk-label sk-toggleable\"><input class=\"sk-toggleable__control sk-hidden--visually\" id=\"f86bc24b-7f82-4e63-b210-f69472887044\" type=\"checkbox\" ><label class=\"sk-toggleable__label\" for=\"f86bc24b-7f82-4e63-b210-f69472887044\">preprocessor: Pipeline</label><div class=\"sk-toggleable__content\"><pre>Pipeline(steps=[('data_transformer',\n",
       "                 ColumnTransformer(transformers=[('numerical',\n",
       "                                                  Pipeline(steps=[('imputer',\n",
       "                                                                   SimpleImputer()),\n",
       "                                                                  ('scaler',\n",
       "                                                                   StandardScaler()),\n",
       "                                                                  ('fs',\n",
       "                                                                   SelectKBest(k='all'))]),\n",
       "                                                  ['Age', 'Height', 'Weight']),\n",
       "                                                 ('categorical',\n",
       "                                                  Pipeline(steps=[('imputer',\n",
       "                                                                   SimpleImputer()),\n",
       "                                                                  ('onehot',\n",
       "                                                                   OneHotEncoder(handle_unknown='ignore'))]),\n",
       "                                                  ['Getting up', 'God',\n",
       "                                                   'Health', 'Borrowed stuff',\n",
       "                                                   'Self-criticism',\n",
       "                                                   'Elections',\n",
       "                                                   'Number of friends',\n",
       "                                                   'Spending on healthy eating',\n",
       "                                                   'Music', 'Movies',\n",
       "                                                   'Friends versus money',\n",
       "                                                   'Changing the past'])]))])</pre></div></div></div><div class=\"sk-serial\"><div class=\"sk-item sk-dashed-wrapped\"><div class=\"sk-label-container\"><div class=\"sk-label sk-toggleable\"><input class=\"sk-toggleable__control sk-hidden--visually\" id=\"6ae9333b-4518-467a-9bec-2f5d2def4ec1\" type=\"checkbox\" ><label class=\"sk-toggleable__label\" for=\"6ae9333b-4518-467a-9bec-2f5d2def4ec1\">data_transformer: ColumnTransformer</label><div class=\"sk-toggleable__content\"><pre>ColumnTransformer(transformers=[('numerical',\n",
       "                                 Pipeline(steps=[('imputer', SimpleImputer()),\n",
       "                                                 ('scaler', StandardScaler()),\n",
       "                                                 ('fs', SelectKBest(k='all'))]),\n",
       "                                 ['Age', 'Height', 'Weight']),\n",
       "                                ('categorical',\n",
       "                                 Pipeline(steps=[('imputer', SimpleImputer()),\n",
       "                                                 ('onehot',\n",
       "                                                  OneHotEncoder(handle_unknown='ignore'))]),\n",
       "                                 ['Getting up', 'God', 'Health',\n",
       "                                  'Borrowed stuff', 'Self-criticism',\n",
       "                                  'Elections', 'Number of friends',\n",
       "                                  'Spending on healthy eating', 'Music',\n",
       "                                  'Movies', 'Friends versus money',\n",
       "                                  'Changing the past'])])</pre></div></div></div><div class=\"sk-parallel\"><div class=\"sk-parallel-item\"><div class=\"sk-item\"><div class=\"sk-label-container\"><div class=\"sk-label sk-toggleable\"><input class=\"sk-toggleable__control sk-hidden--visually\" id=\"aa133a56-4c11-4649-a4e6-47b85db28507\" type=\"checkbox\" ><label class=\"sk-toggleable__label\" for=\"aa133a56-4c11-4649-a4e6-47b85db28507\">numerical</label><div class=\"sk-toggleable__content\"><pre>['Age', 'Height', 'Weight']</pre></div></div></div><div class=\"sk-serial\"><div class=\"sk-item\"><div class=\"sk-serial\"><div class=\"sk-item\"><div class=\"sk-estimator sk-toggleable\"><input class=\"sk-toggleable__control sk-hidden--visually\" id=\"c9633737-4491-4404-907d-1e3ee86c83bb\" type=\"checkbox\" ><label class=\"sk-toggleable__label\" for=\"c9633737-4491-4404-907d-1e3ee86c83bb\">SimpleImputer</label><div class=\"sk-toggleable__content\"><pre>SimpleImputer()</pre></div></div></div><div class=\"sk-item\"><div class=\"sk-estimator sk-toggleable\"><input class=\"sk-toggleable__control sk-hidden--visually\" id=\"1cc212f5-90a0-4f8d-b2b7-dd88afb63ca2\" type=\"checkbox\" ><label class=\"sk-toggleable__label\" for=\"1cc212f5-90a0-4f8d-b2b7-dd88afb63ca2\">StandardScaler</label><div class=\"sk-toggleable__content\"><pre>StandardScaler()</pre></div></div></div><div class=\"sk-item\"><div class=\"sk-estimator sk-toggleable\"><input class=\"sk-toggleable__control sk-hidden--visually\" id=\"f77211fa-be7a-458d-9618-df781c340bd1\" type=\"checkbox\" ><label class=\"sk-toggleable__label\" for=\"f77211fa-be7a-458d-9618-df781c340bd1\">SelectKBest</label><div class=\"sk-toggleable__content\"><pre>SelectKBest(k='all')</pre></div></div></div></div></div></div></div></div><div class=\"sk-parallel-item\"><div class=\"sk-item\"><div class=\"sk-label-container\"><div class=\"sk-label sk-toggleable\"><input class=\"sk-toggleable__control sk-hidden--visually\" id=\"127f005d-e0ed-49da-99cc-499168e2e121\" type=\"checkbox\" ><label class=\"sk-toggleable__label\" for=\"127f005d-e0ed-49da-99cc-499168e2e121\">categorical</label><div class=\"sk-toggleable__content\"><pre>['Getting up', 'God', 'Health', 'Borrowed stuff', 'Self-criticism', 'Elections', 'Number of friends', 'Spending on healthy eating', 'Music', 'Movies', 'Friends versus money', 'Changing the past']</pre></div></div></div><div class=\"sk-serial\"><div class=\"sk-item\"><div class=\"sk-serial\"><div class=\"sk-item\"><div class=\"sk-estimator sk-toggleable\"><input class=\"sk-toggleable__control sk-hidden--visually\" id=\"2e28e215-0688-474d-998e-b7a07c345f34\" type=\"checkbox\" ><label class=\"sk-toggleable__label\" for=\"2e28e215-0688-474d-998e-b7a07c345f34\">SimpleImputer</label><div class=\"sk-toggleable__content\"><pre>SimpleImputer()</pre></div></div></div><div class=\"sk-item\"><div class=\"sk-estimator sk-toggleable\"><input class=\"sk-toggleable__control sk-hidden--visually\" id=\"010c4576-adbb-43e0-9a58-8c10b22683eb\" type=\"checkbox\" ><label class=\"sk-toggleable__label\" for=\"010c4576-adbb-43e0-9a58-8c10b22683eb\">OneHotEncoder</label><div class=\"sk-toggleable__content\"><pre>OneHotEncoder(handle_unknown='ignore')</pre></div></div></div></div></div></div></div></div></div></div></div></div><div class=\"sk-item sk-dashed-wrapped\"><div class=\"sk-label-container\"><div class=\"sk-label sk-toggleable\"><input class=\"sk-toggleable__control sk-hidden--visually\" id=\"5808197b-7cc4-40d3-8a6c-13226325b854\" type=\"checkbox\" ><label class=\"sk-toggleable__label\" for=\"5808197b-7cc4-40d3-8a6c-13226325b854\">classifier: StackingClassifier</label><div class=\"sk-toggleable__content\"><pre>StackingClassifier(estimators=[('Random_Forest', RandomForestClassifier()),\n",
       "                               ('SVM', LinearSVC()),\n",
       "                               ('Xgboost',\n",
       "                                XGBClassifier(base_score=None, booster=None,\n",
       "                                              colsample_bylevel=None,\n",
       "                                              colsample_bynode=None,\n",
       "                                              colsample_bytree=None, gamma=None,\n",
       "                                              gpu_id=None,\n",
       "                                              importance_type='gain',\n",
       "                                              interaction_constraints=None,\n",
       "                                              learning_rate=None,\n",
       "                                              max_delta_step=None,\n",
       "                                              max_depth=None,\n",
       "                                              min_child_weight=None,\n",
       "                                              missing=nan,\n",
       "                                              monotone_constraints=None,\n",
       "                                              n_estimators=100, n_jobs=None,\n",
       "                                              num_parallel_tree=None,\n",
       "                                              random_state=None, reg_alpha=None,\n",
       "                                              reg_lambda=None,\n",
       "                                              scale_pos_weight=None,\n",
       "                                              subsample=None, tree_method=None,\n",
       "                                              validate_parameters=None,\n",
       "                                              verbosity=None))],\n",
       "                   final_estimator=LogisticRegression(n_jobs=-1), n_jobs=-1)</pre></div></div></div><div class=\"sk-serial\"><div class=\"sk-item\"><div class=\"sk-serial\"><div class=\"sk-item\"><div class=\"sk-parallel\"><div class=\"sk-parallel-item\"><div class=\"sk-item\"><div class=\"sk-label-container\"><div class=\"sk-label sk-toggleable\"><label>Random_Forest</label></div></div><div class=\"sk-serial\"><div class=\"sk-item\"><div class=\"sk-estimator sk-toggleable\"><input class=\"sk-toggleable__control sk-hidden--visually\" id=\"fd025bf4-5b4a-4f98-b0d9-81a3f4b2301a\" type=\"checkbox\" ><label class=\"sk-toggleable__label\" for=\"fd025bf4-5b4a-4f98-b0d9-81a3f4b2301a\">RandomForestClassifier</label><div class=\"sk-toggleable__content\"><pre>RandomForestClassifier()</pre></div></div></div></div></div></div><div class=\"sk-parallel-item\"><div class=\"sk-item\"><div class=\"sk-label-container\"><div class=\"sk-label sk-toggleable\"><label>SVM</label></div></div><div class=\"sk-serial\"><div class=\"sk-item\"><div class=\"sk-estimator sk-toggleable\"><input class=\"sk-toggleable__control sk-hidden--visually\" id=\"96378b01-ba1a-4e74-a7a9-a9a392450f66\" type=\"checkbox\" ><label class=\"sk-toggleable__label\" for=\"96378b01-ba1a-4e74-a7a9-a9a392450f66\">LinearSVC</label><div class=\"sk-toggleable__content\"><pre>LinearSVC()</pre></div></div></div></div></div></div><div class=\"sk-parallel-item\"><div class=\"sk-item\"><div class=\"sk-label-container\"><div class=\"sk-label sk-toggleable\"><label>Xgboost</label></div></div><div class=\"sk-serial\"><div class=\"sk-item\"><div class=\"sk-estimator sk-toggleable\"><input class=\"sk-toggleable__control sk-hidden--visually\" id=\"8de6975b-7005-4e05-b58d-a7a3748fecbc\" type=\"checkbox\" ><label class=\"sk-toggleable__label\" for=\"8de6975b-7005-4e05-b58d-a7a3748fecbc\">XGBClassifier</label><div class=\"sk-toggleable__content\"><pre>XGBClassifier(base_score=None, booster=None, colsample_bylevel=None,\n",
       "              colsample_bynode=None, colsample_bytree=None, gamma=None,\n",
       "              gpu_id=None, importance_type='gain', interaction_constraints=None,\n",
       "              learning_rate=None, max_delta_step=None, max_depth=None,\n",
       "              min_child_weight=None, missing=nan, monotone_constraints=None,\n",
       "              n_estimators=100, n_jobs=None, num_parallel_tree=None,\n",
       "              random_state=None, reg_alpha=None, reg_lambda=None,\n",
       "              scale_pos_weight=None, subsample=None, tree_method=None,\n",
       "              validate_parameters=None, verbosity=None)</pre></div></div></div></div></div></div></div></div><div class=\"sk-item\"><div class=\"sk-estimator sk-toggleable\"><input class=\"sk-toggleable__control sk-hidden--visually\" id=\"d033eff2-5fa0-4f19-b69e-1f867de920bd\" type=\"checkbox\" ><label class=\"sk-toggleable__label\" for=\"d033eff2-5fa0-4f19-b69e-1f867de920bd\">LogisticRegression</label><div class=\"sk-toggleable__content\"><pre>LogisticRegression(n_jobs=-1)</pre></div></div></div></div></div></div></div></div></div></div></div>"
      ],
      "text/plain": [
       "Pipeline(steps=[('preprocessor',\n",
       "                 Pipeline(steps=[('data_transformer',\n",
       "                                  ColumnTransformer(transformers=[('numerical',\n",
       "                                                                   Pipeline(steps=[('imputer',\n",
       "                                                                                    SimpleImputer()),\n",
       "                                                                                   ('scaler',\n",
       "                                                                                    StandardScaler()),\n",
       "                                                                                   ('fs',\n",
       "                                                                                    SelectKBest(k='all'))]),\n",
       "                                                                   ['Age',\n",
       "                                                                    'Height',\n",
       "                                                                    'Weight']),\n",
       "                                                                  ('categorical',\n",
       "                                                                   Pipeline(steps=[('imputer',\n",
       "                                                                                    SimpleImputer()),\n",
       "                                                                                   ('onehot',\n",
       "                                                                                    OneHotEncoder(handle_unknown='ignore'))...\n",
       "                                                               max_delta_step=None,\n",
       "                                                               max_depth=None,\n",
       "                                                               min_child_weight=None,\n",
       "                                                               missing=nan,\n",
       "                                                               monotone_constraints=None,\n",
       "                                                               n_estimators=100,\n",
       "                                                               n_jobs=None,\n",
       "                                                               num_parallel_tree=None,\n",
       "                                                               random_state=None,\n",
       "                                                               reg_alpha=None,\n",
       "                                                               reg_lambda=None,\n",
       "                                                               scale_pos_weight=None,\n",
       "                                                               subsample=None,\n",
       "                                                               tree_method=None,\n",
       "                                                               validate_parameters=None,\n",
       "                                                               verbosity=None))],\n",
       "                                    final_estimator=LogisticRegression(n_jobs=-1),\n",
       "                                    n_jobs=-1))])"
      ]
     },
     "execution_count": 52,
     "metadata": {},
     "output_type": "execute_result"
    }
   ],
   "source": [
    "# получим список эстиматоров\n",
    "estimators = [\n",
    "    (\"Random_Forest\", RandomForestClassifier()),\n",
    "    (\"SVM\", LinearSVC()),\n",
    "    (\"Xgboost\", xgboost.XGBClassifier()),\n",
    "]\n",
    "\n",
    "# построим классификатор используя стекинг и наш список классификаторов\n",
    "stacking_classifier = StackingClassifier(\n",
    "    estimators=estimators, final_estimator=LogisticRegression(n_jobs=-1), n_jobs=-1\n",
    ")\n",
    "\n",
    "classifier_pipline = Pipeline(\n",
    "    steps=[(\"preprocessor\", preprocessor), (\"classifier\", stacking_classifier)]\n",
    ")\n",
    "\n",
    "classifier_pipline"
   ]
  },
  {
   "cell_type": "code",
   "execution_count": null,
   "metadata": {},
   "outputs": [],
   "source": []
  },
  {
   "cell_type": "code",
   "execution_count": null,
   "metadata": {},
   "outputs": [],
   "source": []
  },
  {
   "cell_type": "code",
   "execution_count": null,
   "metadata": {},
   "outputs": [],
   "source": []
  },
  {
   "cell_type": "code",
   "execution_count": null,
   "metadata": {},
   "outputs": [],
   "source": []
  },
  {
   "cell_type": "markdown",
   "metadata": {},
   "source": [
    "# Чуть более хитрый стекинг/блендинг моделей"
   ]
  },
  {
   "cell_type": "code",
   "execution_count": 53,
   "metadata": {
    "ExecuteTime": {
     "end_time": "2022-04-18T19:21:17.561612Z",
     "start_time": "2022-04-18T19:21:16.716404Z"
    }
   },
   "outputs": [
    {
     "data": {
      "text/html": [
       "<style>#sk-61a9b477-1712-42b6-9940-eba803eec551 {color: black;background-color: white;}#sk-61a9b477-1712-42b6-9940-eba803eec551 pre{padding: 0;}#sk-61a9b477-1712-42b6-9940-eba803eec551 div.sk-toggleable {background-color: white;}#sk-61a9b477-1712-42b6-9940-eba803eec551 label.sk-toggleable__label {cursor: pointer;display: block;width: 100%;margin-bottom: 0;padding: 0.2em 0.3em;box-sizing: border-box;text-align: center;}#sk-61a9b477-1712-42b6-9940-eba803eec551 div.sk-toggleable__content {max-height: 0;max-width: 0;overflow: hidden;text-align: left;background-color: #f0f8ff;}#sk-61a9b477-1712-42b6-9940-eba803eec551 div.sk-toggleable__content pre {margin: 0.2em;color: black;border-radius: 0.25em;background-color: #f0f8ff;}#sk-61a9b477-1712-42b6-9940-eba803eec551 input.sk-toggleable__control:checked~div.sk-toggleable__content {max-height: 200px;max-width: 100%;overflow: auto;}#sk-61a9b477-1712-42b6-9940-eba803eec551 div.sk-estimator input.sk-toggleable__control:checked~label.sk-toggleable__label {background-color: #d4ebff;}#sk-61a9b477-1712-42b6-9940-eba803eec551 div.sk-label input.sk-toggleable__control:checked~label.sk-toggleable__label {background-color: #d4ebff;}#sk-61a9b477-1712-42b6-9940-eba803eec551 input.sk-hidden--visually {border: 0;clip: rect(1px 1px 1px 1px);clip: rect(1px, 1px, 1px, 1px);height: 1px;margin: -1px;overflow: hidden;padding: 0;position: absolute;width: 1px;}#sk-61a9b477-1712-42b6-9940-eba803eec551 div.sk-estimator {font-family: monospace;background-color: #f0f8ff;margin: 0.25em 0.25em;border: 1px dotted black;border-radius: 0.25em;box-sizing: border-box;}#sk-61a9b477-1712-42b6-9940-eba803eec551 div.sk-estimator:hover {background-color: #d4ebff;}#sk-61a9b477-1712-42b6-9940-eba803eec551 div.sk-parallel-item::after {content: \"\";width: 100%;border-bottom: 1px solid gray;flex-grow: 1;}#sk-61a9b477-1712-42b6-9940-eba803eec551 div.sk-label:hover label.sk-toggleable__label {background-color: #d4ebff;}#sk-61a9b477-1712-42b6-9940-eba803eec551 div.sk-serial::before {content: \"\";position: absolute;border-left: 1px solid gray;box-sizing: border-box;top: 2em;bottom: 0;left: 50%;}#sk-61a9b477-1712-42b6-9940-eba803eec551 div.sk-serial {display: flex;flex-direction: column;align-items: center;background-color: white;}#sk-61a9b477-1712-42b6-9940-eba803eec551 div.sk-item {z-index: 1;}#sk-61a9b477-1712-42b6-9940-eba803eec551 div.sk-parallel {display: flex;align-items: stretch;justify-content: center;background-color: white;}#sk-61a9b477-1712-42b6-9940-eba803eec551 div.sk-parallel-item {display: flex;flex-direction: column;position: relative;background-color: white;}#sk-61a9b477-1712-42b6-9940-eba803eec551 div.sk-parallel-item:first-child::after {align-self: flex-end;width: 50%;}#sk-61a9b477-1712-42b6-9940-eba803eec551 div.sk-parallel-item:last-child::after {align-self: flex-start;width: 50%;}#sk-61a9b477-1712-42b6-9940-eba803eec551 div.sk-parallel-item:only-child::after {width: 0;}#sk-61a9b477-1712-42b6-9940-eba803eec551 div.sk-dashed-wrapped {border: 1px dashed gray;margin: 0.2em;box-sizing: border-box;padding-bottom: 0.1em;background-color: white;position: relative;}#sk-61a9b477-1712-42b6-9940-eba803eec551 div.sk-label label {font-family: monospace;font-weight: bold;background-color: white;display: inline-block;line-height: 1.2em;}#sk-61a9b477-1712-42b6-9940-eba803eec551 div.sk-label-container {position: relative;z-index: 2;text-align: center;}#sk-61a9b477-1712-42b6-9940-eba803eec551 div.sk-container {display: inline-block;position: relative;}</style><div id=\"sk-61a9b477-1712-42b6-9940-eba803eec551\" class\"sk-top-container\"><div class=\"sk-container\"><div class=\"sk-item sk-dashed-wrapped\"><div class=\"sk-label-container\"><div class=\"sk-label sk-toggleable\"><input class=\"sk-toggleable__control sk-hidden--visually\" id=\"c7da5f20-4af3-4a89-bc15-62ca29ca96f7\" type=\"checkbox\" ><label class=\"sk-toggleable__label\" for=\"c7da5f20-4af3-4a89-bc15-62ca29ca96f7\">StackingClassifier</label><div class=\"sk-toggleable__content\"><pre>StackingClassifier(estimators=[('SVM',\n",
       "                                Pipeline(steps=[('pipeline',\n",
       "                                                 Pipeline(steps=[('data_transformer',\n",
       "                                                                  ColumnTransformer(transformers=[('numerical',\n",
       "                                                                                                   Pipeline(steps=[('imputer',\n",
       "                                                                                                                    SimpleImputer()),\n",
       "                                                                                                                   ('scaler',\n",
       "                                                                                                                    StandardScaler()),\n",
       "                                                                                                                   ('fs',\n",
       "                                                                                                                    SelectKBest(k='all'))]),\n",
       "                                                                                                   ['Age',\n",
       "                                                                                                    'Height',\n",
       "                                                                                                    'Weight']),\n",
       "                                                                                                  ('categorical',\n",
       "                                                                                                   Pipeline(steps=[('imputer',\n",
       "                                                                                                                    SimpleImputer()),\n",
       "                                                                                                                   ('onehot',\n",
       "                                                                                                                    OneHo...\n",
       "                                                               max_depth=None,\n",
       "                                                               min_child_weight=None,\n",
       "                                                               missing=nan,\n",
       "                                                               monotone_constraints=None,\n",
       "                                                               n_estimators=100,\n",
       "                                                               n_jobs=None,\n",
       "                                                               num_parallel_tree=None,\n",
       "                                                               random_state=None,\n",
       "                                                               reg_alpha=None,\n",
       "                                                               reg_lambda=None,\n",
       "                                                               scale_pos_weight=None,\n",
       "                                                               subsample=None,\n",
       "                                                               tree_method=None,\n",
       "                                                               validate_parameters=None,\n",
       "                                                               verbosity=None))]))],\n",
       "                   final_estimator=LogisticRegression(n_jobs=-1, verbose=True),\n",
       "                   n_jobs=-1, verbose=True)</pre></div></div></div><div class=\"sk-serial\"><div class=\"sk-item\"><div class=\"sk-serial\"><div class=\"sk-item\"><div class=\"sk-parallel\"><div class=\"sk-parallel-item\"><div class=\"sk-item\"><div class=\"sk-label-container\"><div class=\"sk-label sk-toggleable\"><label>SVM</label></div></div><div class=\"sk-serial\"><div class=\"sk-item\"><div class=\"sk-serial\"><div class=\"sk-item\"><div class=\"sk-label-container\"><div class=\"sk-label sk-toggleable\"><input class=\"sk-toggleable__control sk-hidden--visually\" id=\"e8fe3322-d299-46c4-b8c6-6e24fcd50d3d\" type=\"checkbox\" ><label class=\"sk-toggleable__label\" for=\"e8fe3322-d299-46c4-b8c6-6e24fcd50d3d\">pipeline: Pipeline</label><div class=\"sk-toggleable__content\"><pre>Pipeline(steps=[('data_transformer',\n",
       "                 ColumnTransformer(transformers=[('numerical',\n",
       "                                                  Pipeline(steps=[('imputer',\n",
       "                                                                   SimpleImputer()),\n",
       "                                                                  ('scaler',\n",
       "                                                                   StandardScaler()),\n",
       "                                                                  ('fs',\n",
       "                                                                   SelectKBest(k='all'))]),\n",
       "                                                  ['Age', 'Height', 'Weight']),\n",
       "                                                 ('categorical',\n",
       "                                                  Pipeline(steps=[('imputer',\n",
       "                                                                   SimpleImputer()),\n",
       "                                                                  ('onehot',\n",
       "                                                                   OneHotEncoder(handle_unknown='ignore'))]),\n",
       "                                                  ['Getting up', 'God',\n",
       "                                                   'Health', 'Borrowed stuff',\n",
       "                                                   'Self-criticism',\n",
       "                                                   'Elections',\n",
       "                                                   'Number of friends',\n",
       "                                                   'Spending on healthy eating',\n",
       "                                                   'Music', 'Movies',\n",
       "                                                   'Friends versus money',\n",
       "                                                   'Changing the past'])]))])</pre></div></div></div><div class=\"sk-serial\"><div class=\"sk-item sk-dashed-wrapped\"><div class=\"sk-label-container\"><div class=\"sk-label sk-toggleable\"><input class=\"sk-toggleable__control sk-hidden--visually\" id=\"6444bb79-eea9-4a12-b277-4dfa40feb903\" type=\"checkbox\" ><label class=\"sk-toggleable__label\" for=\"6444bb79-eea9-4a12-b277-4dfa40feb903\">data_transformer: ColumnTransformer</label><div class=\"sk-toggleable__content\"><pre>ColumnTransformer(transformers=[('numerical',\n",
       "                                 Pipeline(steps=[('imputer', SimpleImputer()),\n",
       "                                                 ('scaler', StandardScaler()),\n",
       "                                                 ('fs', SelectKBest(k='all'))]),\n",
       "                                 ['Age', 'Height', 'Weight']),\n",
       "                                ('categorical',\n",
       "                                 Pipeline(steps=[('imputer', SimpleImputer()),\n",
       "                                                 ('onehot',\n",
       "                                                  OneHotEncoder(handle_unknown='ignore'))]),\n",
       "                                 ['Getting up', 'God', 'Health',\n",
       "                                  'Borrowed stuff', 'Self-criticism',\n",
       "                                  'Elections', 'Number of friends',\n",
       "                                  'Spending on healthy eating', 'Music',\n",
       "                                  'Movies', 'Friends versus money',\n",
       "                                  'Changing the past'])])</pre></div></div></div><div class=\"sk-parallel\"><div class=\"sk-parallel-item\"><div class=\"sk-item\"><div class=\"sk-label-container\"><div class=\"sk-label sk-toggleable\"><input class=\"sk-toggleable__control sk-hidden--visually\" id=\"3423c05a-0f0c-491b-9f63-bad299daffc2\" type=\"checkbox\" ><label class=\"sk-toggleable__label\" for=\"3423c05a-0f0c-491b-9f63-bad299daffc2\">numerical</label><div class=\"sk-toggleable__content\"><pre>['Age', 'Height', 'Weight']</pre></div></div></div><div class=\"sk-serial\"><div class=\"sk-item\"><div class=\"sk-serial\"><div class=\"sk-item\"><div class=\"sk-estimator sk-toggleable\"><input class=\"sk-toggleable__control sk-hidden--visually\" id=\"eeb61766-6cb8-4edb-9789-91df9ecc602e\" type=\"checkbox\" ><label class=\"sk-toggleable__label\" for=\"eeb61766-6cb8-4edb-9789-91df9ecc602e\">SimpleImputer</label><div class=\"sk-toggleable__content\"><pre>SimpleImputer()</pre></div></div></div><div class=\"sk-item\"><div class=\"sk-estimator sk-toggleable\"><input class=\"sk-toggleable__control sk-hidden--visually\" id=\"3c335b74-38d2-4f7d-ad30-671ce432866e\" type=\"checkbox\" ><label class=\"sk-toggleable__label\" for=\"3c335b74-38d2-4f7d-ad30-671ce432866e\">StandardScaler</label><div class=\"sk-toggleable__content\"><pre>StandardScaler()</pre></div></div></div><div class=\"sk-item\"><div class=\"sk-estimator sk-toggleable\"><input class=\"sk-toggleable__control sk-hidden--visually\" id=\"72eb21aa-e4b2-4384-8876-8404ef0a4ff1\" type=\"checkbox\" ><label class=\"sk-toggleable__label\" for=\"72eb21aa-e4b2-4384-8876-8404ef0a4ff1\">SelectKBest</label><div class=\"sk-toggleable__content\"><pre>SelectKBest(k='all')</pre></div></div></div></div></div></div></div></div><div class=\"sk-parallel-item\"><div class=\"sk-item\"><div class=\"sk-label-container\"><div class=\"sk-label sk-toggleable\"><input class=\"sk-toggleable__control sk-hidden--visually\" id=\"63f19311-18b1-43a5-8ac8-0f519a491736\" type=\"checkbox\" ><label class=\"sk-toggleable__label\" for=\"63f19311-18b1-43a5-8ac8-0f519a491736\">categorical</label><div class=\"sk-toggleable__content\"><pre>['Getting up', 'God', 'Health', 'Borrowed stuff', 'Self-criticism', 'Elections', 'Number of friends', 'Spending on healthy eating', 'Music', 'Movies', 'Friends versus money', 'Changing the past']</pre></div></div></div><div class=\"sk-serial\"><div class=\"sk-item\"><div class=\"sk-serial\"><div class=\"sk-item\"><div class=\"sk-estimator sk-toggleable\"><input class=\"sk-toggleable__control sk-hidden--visually\" id=\"a51ad17a-ac81-4217-adf8-8d88190b6027\" type=\"checkbox\" ><label class=\"sk-toggleable__label\" for=\"a51ad17a-ac81-4217-adf8-8d88190b6027\">SimpleImputer</label><div class=\"sk-toggleable__content\"><pre>SimpleImputer()</pre></div></div></div><div class=\"sk-item\"><div class=\"sk-estimator sk-toggleable\"><input class=\"sk-toggleable__control sk-hidden--visually\" id=\"0f0c780a-709e-4f56-9690-34923cae00d5\" type=\"checkbox\" ><label class=\"sk-toggleable__label\" for=\"0f0c780a-709e-4f56-9690-34923cae00d5\">OneHotEncoder</label><div class=\"sk-toggleable__content\"><pre>OneHotEncoder(handle_unknown='ignore')</pre></div></div></div></div></div></div></div></div></div></div></div></div><div class=\"sk-item\"><div class=\"sk-estimator sk-toggleable\"><input class=\"sk-toggleable__control sk-hidden--visually\" id=\"99612501-f345-4250-9d29-71eca2b7e49f\" type=\"checkbox\" ><label class=\"sk-toggleable__label\" for=\"99612501-f345-4250-9d29-71eca2b7e49f\">PCA</label><div class=\"sk-toggleable__content\"><pre>PCA()</pre></div></div></div><div class=\"sk-item\"><div class=\"sk-estimator sk-toggleable\"><input class=\"sk-toggleable__control sk-hidden--visually\" id=\"640d4c9c-b586-461a-a89b-7f8baed4b309\" type=\"checkbox\" ><label class=\"sk-toggleable__label\" for=\"640d4c9c-b586-461a-a89b-7f8baed4b309\">LinearSVC</label><div class=\"sk-toggleable__content\"><pre>LinearSVC()</pre></div></div></div></div></div></div></div></div><div class=\"sk-parallel-item\"><div class=\"sk-item\"><div class=\"sk-label-container\"><div class=\"sk-label sk-toggleable\"><label>Random_Forest</label></div></div><div class=\"sk-serial\"><div class=\"sk-item\"><div class=\"sk-serial\"><div class=\"sk-item\"><div class=\"sk-label-container\"><div class=\"sk-label sk-toggleable\"><input class=\"sk-toggleable__control sk-hidden--visually\" id=\"4d46030f-dcbe-4d38-a5c4-ae1acebc94cb\" type=\"checkbox\" ><label class=\"sk-toggleable__label\" for=\"4d46030f-dcbe-4d38-a5c4-ae1acebc94cb\">pipeline: Pipeline</label><div class=\"sk-toggleable__content\"><pre>Pipeline(steps=[('data_transformer',\n",
       "                 ColumnTransformer(transformers=[('numerical',\n",
       "                                                  Pipeline(steps=[('imputer',\n",
       "                                                                   SimpleImputer()),\n",
       "                                                                  ('scaler',\n",
       "                                                                   StandardScaler()),\n",
       "                                                                  ('fs',\n",
       "                                                                   SelectKBest(k='all'))]),\n",
       "                                                  ['Age', 'Height', 'Weight']),\n",
       "                                                 ('categorical',\n",
       "                                                  Pipeline(steps=[('imputer',\n",
       "                                                                   SimpleImputer()),\n",
       "                                                                  ('onehot',\n",
       "                                                                   OneHotEncoder(handle_unknown='ignore'))]),\n",
       "                                                  ['Getting up', 'God',\n",
       "                                                   'Health', 'Borrowed stuff',\n",
       "                                                   'Self-criticism',\n",
       "                                                   'Elections',\n",
       "                                                   'Number of friends',\n",
       "                                                   'Spending on healthy eating',\n",
       "                                                   'Music', 'Movies',\n",
       "                                                   'Friends versus money',\n",
       "                                                   'Changing the past'])]))])</pre></div></div></div><div class=\"sk-serial\"><div class=\"sk-item sk-dashed-wrapped\"><div class=\"sk-label-container\"><div class=\"sk-label sk-toggleable\"><input class=\"sk-toggleable__control sk-hidden--visually\" id=\"e6a26d28-1cfb-4fc3-9662-37e34d0ccaa7\" type=\"checkbox\" ><label class=\"sk-toggleable__label\" for=\"e6a26d28-1cfb-4fc3-9662-37e34d0ccaa7\">data_transformer: ColumnTransformer</label><div class=\"sk-toggleable__content\"><pre>ColumnTransformer(transformers=[('numerical',\n",
       "                                 Pipeline(steps=[('imputer', SimpleImputer()),\n",
       "                                                 ('scaler', StandardScaler()),\n",
       "                                                 ('fs', SelectKBest(k='all'))]),\n",
       "                                 ['Age', 'Height', 'Weight']),\n",
       "                                ('categorical',\n",
       "                                 Pipeline(steps=[('imputer', SimpleImputer()),\n",
       "                                                 ('onehot',\n",
       "                                                  OneHotEncoder(handle_unknown='ignore'))]),\n",
       "                                 ['Getting up', 'God', 'Health',\n",
       "                                  'Borrowed stuff', 'Self-criticism',\n",
       "                                  'Elections', 'Number of friends',\n",
       "                                  'Spending on healthy eating', 'Music',\n",
       "                                  'Movies', 'Friends versus money',\n",
       "                                  'Changing the past'])])</pre></div></div></div><div class=\"sk-parallel\"><div class=\"sk-parallel-item\"><div class=\"sk-item\"><div class=\"sk-label-container\"><div class=\"sk-label sk-toggleable\"><input class=\"sk-toggleable__control sk-hidden--visually\" id=\"a52a2296-3514-490f-8071-b94ea45368b4\" type=\"checkbox\" ><label class=\"sk-toggleable__label\" for=\"a52a2296-3514-490f-8071-b94ea45368b4\">numerical</label><div class=\"sk-toggleable__content\"><pre>['Age', 'Height', 'Weight']</pre></div></div></div><div class=\"sk-serial\"><div class=\"sk-item\"><div class=\"sk-serial\"><div class=\"sk-item\"><div class=\"sk-estimator sk-toggleable\"><input class=\"sk-toggleable__control sk-hidden--visually\" id=\"c50c1bd0-9a74-4ae9-9b51-3df1164bbd12\" type=\"checkbox\" ><label class=\"sk-toggleable__label\" for=\"c50c1bd0-9a74-4ae9-9b51-3df1164bbd12\">SimpleImputer</label><div class=\"sk-toggleable__content\"><pre>SimpleImputer()</pre></div></div></div><div class=\"sk-item\"><div class=\"sk-estimator sk-toggleable\"><input class=\"sk-toggleable__control sk-hidden--visually\" id=\"bab50edb-e99a-4f3a-bcc9-4207ff05440a\" type=\"checkbox\" ><label class=\"sk-toggleable__label\" for=\"bab50edb-e99a-4f3a-bcc9-4207ff05440a\">StandardScaler</label><div class=\"sk-toggleable__content\"><pre>StandardScaler()</pre></div></div></div><div class=\"sk-item\"><div class=\"sk-estimator sk-toggleable\"><input class=\"sk-toggleable__control sk-hidden--visually\" id=\"fc5a770a-4974-4c65-bdaa-58f4f4f538ee\" type=\"checkbox\" ><label class=\"sk-toggleable__label\" for=\"fc5a770a-4974-4c65-bdaa-58f4f4f538ee\">SelectKBest</label><div class=\"sk-toggleable__content\"><pre>SelectKBest(k='all')</pre></div></div></div></div></div></div></div></div><div class=\"sk-parallel-item\"><div class=\"sk-item\"><div class=\"sk-label-container\"><div class=\"sk-label sk-toggleable\"><input class=\"sk-toggleable__control sk-hidden--visually\" id=\"3b35d236-7d88-42d5-9131-296b80cc516c\" type=\"checkbox\" ><label class=\"sk-toggleable__label\" for=\"3b35d236-7d88-42d5-9131-296b80cc516c\">categorical</label><div class=\"sk-toggleable__content\"><pre>['Getting up', 'God', 'Health', 'Borrowed stuff', 'Self-criticism', 'Elections', 'Number of friends', 'Spending on healthy eating', 'Music', 'Movies', 'Friends versus money', 'Changing the past']</pre></div></div></div><div class=\"sk-serial\"><div class=\"sk-item\"><div class=\"sk-serial\"><div class=\"sk-item\"><div class=\"sk-estimator sk-toggleable\"><input class=\"sk-toggleable__control sk-hidden--visually\" id=\"6ada61a4-820f-4e50-aeca-0d2a5492517d\" type=\"checkbox\" ><label class=\"sk-toggleable__label\" for=\"6ada61a4-820f-4e50-aeca-0d2a5492517d\">SimpleImputer</label><div class=\"sk-toggleable__content\"><pre>SimpleImputer()</pre></div></div></div><div class=\"sk-item\"><div class=\"sk-estimator sk-toggleable\"><input class=\"sk-toggleable__control sk-hidden--visually\" id=\"8d036615-cef7-473c-ace7-13b5f63a7ec3\" type=\"checkbox\" ><label class=\"sk-toggleable__label\" for=\"8d036615-cef7-473c-ace7-13b5f63a7ec3\">OneHotEncoder</label><div class=\"sk-toggleable__content\"><pre>OneHotEncoder(handle_unknown='ignore')</pre></div></div></div></div></div></div></div></div></div></div></div></div><div class=\"sk-item\"><div class=\"sk-estimator sk-toggleable\"><input class=\"sk-toggleable__control sk-hidden--visually\" id=\"1a6f8da5-9da8-485e-a89b-60b5c3b91238\" type=\"checkbox\" ><label class=\"sk-toggleable__label\" for=\"1a6f8da5-9da8-485e-a89b-60b5c3b91238\">RandomForestClassifier</label><div class=\"sk-toggleable__content\"><pre>RandomForestClassifier()</pre></div></div></div></div></div></div></div></div><div class=\"sk-parallel-item\"><div class=\"sk-item\"><div class=\"sk-label-container\"><div class=\"sk-label sk-toggleable\"><label>Xgboost</label></div></div><div class=\"sk-serial\"><div class=\"sk-item\"><div class=\"sk-serial\"><div class=\"sk-item\"><div class=\"sk-label-container\"><div class=\"sk-label sk-toggleable\"><input class=\"sk-toggleable__control sk-hidden--visually\" id=\"3465dca3-fe5f-4a9e-bbd1-e953e310081f\" type=\"checkbox\" ><label class=\"sk-toggleable__label\" for=\"3465dca3-fe5f-4a9e-bbd1-e953e310081f\">pipeline: Pipeline</label><div class=\"sk-toggleable__content\"><pre>Pipeline(steps=[('data_transformer',\n",
       "                 ColumnTransformer(transformers=[('numerical',\n",
       "                                                  Pipeline(steps=[('imputer',\n",
       "                                                                   SimpleImputer()),\n",
       "                                                                  ('scaler',\n",
       "                                                                   StandardScaler()),\n",
       "                                                                  ('fs',\n",
       "                                                                   SelectKBest(k='all'))]),\n",
       "                                                  ['Age', 'Height', 'Weight']),\n",
       "                                                 ('categorical',\n",
       "                                                  Pipeline(steps=[('imputer',\n",
       "                                                                   SimpleImputer()),\n",
       "                                                                  ('onehot',\n",
       "                                                                   OneHotEncoder(handle_unknown='ignore'))]),\n",
       "                                                  ['Getting up', 'God',\n",
       "                                                   'Health', 'Borrowed stuff',\n",
       "                                                   'Self-criticism',\n",
       "                                                   'Elections',\n",
       "                                                   'Number of friends',\n",
       "                                                   'Spending on healthy eating',\n",
       "                                                   'Music', 'Movies',\n",
       "                                                   'Friends versus money',\n",
       "                                                   'Changing the past'])]))])</pre></div></div></div><div class=\"sk-serial\"><div class=\"sk-item sk-dashed-wrapped\"><div class=\"sk-label-container\"><div class=\"sk-label sk-toggleable\"><input class=\"sk-toggleable__control sk-hidden--visually\" id=\"b8fe899a-0f17-46b3-80de-ca28da0225a0\" type=\"checkbox\" ><label class=\"sk-toggleable__label\" for=\"b8fe899a-0f17-46b3-80de-ca28da0225a0\">data_transformer: ColumnTransformer</label><div class=\"sk-toggleable__content\"><pre>ColumnTransformer(transformers=[('numerical',\n",
       "                                 Pipeline(steps=[('imputer', SimpleImputer()),\n",
       "                                                 ('scaler', StandardScaler()),\n",
       "                                                 ('fs', SelectKBest(k='all'))]),\n",
       "                                 ['Age', 'Height', 'Weight']),\n",
       "                                ('categorical',\n",
       "                                 Pipeline(steps=[('imputer', SimpleImputer()),\n",
       "                                                 ('onehot',\n",
       "                                                  OneHotEncoder(handle_unknown='ignore'))]),\n",
       "                                 ['Getting up', 'God', 'Health',\n",
       "                                  'Borrowed stuff', 'Self-criticism',\n",
       "                                  'Elections', 'Number of friends',\n",
       "                                  'Spending on healthy eating', 'Music',\n",
       "                                  'Movies', 'Friends versus money',\n",
       "                                  'Changing the past'])])</pre></div></div></div><div class=\"sk-parallel\"><div class=\"sk-parallel-item\"><div class=\"sk-item\"><div class=\"sk-label-container\"><div class=\"sk-label sk-toggleable\"><input class=\"sk-toggleable__control sk-hidden--visually\" id=\"e3d4b8d3-9523-4484-a057-90ecf7b2c1e8\" type=\"checkbox\" ><label class=\"sk-toggleable__label\" for=\"e3d4b8d3-9523-4484-a057-90ecf7b2c1e8\">numerical</label><div class=\"sk-toggleable__content\"><pre>['Age', 'Height', 'Weight']</pre></div></div></div><div class=\"sk-serial\"><div class=\"sk-item\"><div class=\"sk-serial\"><div class=\"sk-item\"><div class=\"sk-estimator sk-toggleable\"><input class=\"sk-toggleable__control sk-hidden--visually\" id=\"0c258a86-a0dc-456b-b628-c6a66ba70211\" type=\"checkbox\" ><label class=\"sk-toggleable__label\" for=\"0c258a86-a0dc-456b-b628-c6a66ba70211\">SimpleImputer</label><div class=\"sk-toggleable__content\"><pre>SimpleImputer()</pre></div></div></div><div class=\"sk-item\"><div class=\"sk-estimator sk-toggleable\"><input class=\"sk-toggleable__control sk-hidden--visually\" id=\"15883677-d793-42de-8b1a-b2d37efcea0f\" type=\"checkbox\" ><label class=\"sk-toggleable__label\" for=\"15883677-d793-42de-8b1a-b2d37efcea0f\">StandardScaler</label><div class=\"sk-toggleable__content\"><pre>StandardScaler()</pre></div></div></div><div class=\"sk-item\"><div class=\"sk-estimator sk-toggleable\"><input class=\"sk-toggleable__control sk-hidden--visually\" id=\"d4517439-0cad-49ac-ac38-8c0c2a0e22f6\" type=\"checkbox\" ><label class=\"sk-toggleable__label\" for=\"d4517439-0cad-49ac-ac38-8c0c2a0e22f6\">SelectKBest</label><div class=\"sk-toggleable__content\"><pre>SelectKBest(k='all')</pre></div></div></div></div></div></div></div></div><div class=\"sk-parallel-item\"><div class=\"sk-item\"><div class=\"sk-label-container\"><div class=\"sk-label sk-toggleable\"><input class=\"sk-toggleable__control sk-hidden--visually\" id=\"86ad6079-3c22-4a8a-9d13-1789a0ad6cae\" type=\"checkbox\" ><label class=\"sk-toggleable__label\" for=\"86ad6079-3c22-4a8a-9d13-1789a0ad6cae\">categorical</label><div class=\"sk-toggleable__content\"><pre>['Getting up', 'God', 'Health', 'Borrowed stuff', 'Self-criticism', 'Elections', 'Number of friends', 'Spending on healthy eating', 'Music', 'Movies', 'Friends versus money', 'Changing the past']</pre></div></div></div><div class=\"sk-serial\"><div class=\"sk-item\"><div class=\"sk-serial\"><div class=\"sk-item\"><div class=\"sk-estimator sk-toggleable\"><input class=\"sk-toggleable__control sk-hidden--visually\" id=\"7cf19838-548e-4c57-8ef6-814d0cbd9053\" type=\"checkbox\" ><label class=\"sk-toggleable__label\" for=\"7cf19838-548e-4c57-8ef6-814d0cbd9053\">SimpleImputer</label><div class=\"sk-toggleable__content\"><pre>SimpleImputer()</pre></div></div></div><div class=\"sk-item\"><div class=\"sk-estimator sk-toggleable\"><input class=\"sk-toggleable__control sk-hidden--visually\" id=\"80955d75-26d6-48aa-a5fc-8f0c3b3e4d2e\" type=\"checkbox\" ><label class=\"sk-toggleable__label\" for=\"80955d75-26d6-48aa-a5fc-8f0c3b3e4d2e\">OneHotEncoder</label><div class=\"sk-toggleable__content\"><pre>OneHotEncoder(handle_unknown='ignore')</pre></div></div></div></div></div></div></div></div></div></div></div></div><div class=\"sk-item\"><div class=\"sk-estimator sk-toggleable\"><input class=\"sk-toggleable__control sk-hidden--visually\" id=\"64b63580-a108-4507-aa5d-6b3ba85bae42\" type=\"checkbox\" ><label class=\"sk-toggleable__label\" for=\"64b63580-a108-4507-aa5d-6b3ba85bae42\">XGBClassifier</label><div class=\"sk-toggleable__content\"><pre>XGBClassifier(base_score=None, booster=None, colsample_bylevel=None,\n",
       "              colsample_bynode=None, colsample_bytree=None, gamma=None,\n",
       "              gpu_id=None, importance_type='gain', interaction_constraints=None,\n",
       "              learning_rate=None, max_delta_step=None, max_depth=None,\n",
       "              min_child_weight=None, missing=nan, monotone_constraints=None,\n",
       "              n_estimators=100, n_jobs=None, num_parallel_tree=None,\n",
       "              random_state=None, reg_alpha=None, reg_lambda=None,\n",
       "              scale_pos_weight=None, subsample=None, tree_method=None,\n",
       "              validate_parameters=None, verbosity=None)</pre></div></div></div></div></div></div></div></div></div></div><div class=\"sk-item\"><div class=\"sk-estimator sk-toggleable\"><input class=\"sk-toggleable__control sk-hidden--visually\" id=\"8620470c-9d9f-47a4-b9e1-0b681a33a0e7\" type=\"checkbox\" ><label class=\"sk-toggleable__label\" for=\"8620470c-9d9f-47a4-b9e1-0b681a33a0e7\">LogisticRegression</label><div class=\"sk-toggleable__content\"><pre>LogisticRegression(n_jobs=-1, verbose=True)</pre></div></div></div></div></div></div></div></div></div>"
      ],
      "text/plain": [
       "StackingClassifier(estimators=[('SVM',\n",
       "                                Pipeline(steps=[('pipeline',\n",
       "                                                 Pipeline(steps=[('data_transformer',\n",
       "                                                                  ColumnTransformer(transformers=[('numerical',\n",
       "                                                                                                   Pipeline(steps=[('imputer',\n",
       "                                                                                                                    SimpleImputer()),\n",
       "                                                                                                                   ('scaler',\n",
       "                                                                                                                    StandardScaler()),\n",
       "                                                                                                                   ('fs',\n",
       "                                                                                                                    SelectKBest(k='all'))]),\n",
       "                                                                                                   ['Age',\n",
       "                                                                                                    'Height',\n",
       "                                                                                                    'Weight']),\n",
       "                                                                                                  ('categorical',\n",
       "                                                                                                   Pipeline(steps=[('imputer',\n",
       "                                                                                                                    SimpleImputer()),\n",
       "                                                                                                                   ('onehot',\n",
       "                                                                                                                    OneHo...\n",
       "                                                               max_depth=None,\n",
       "                                                               min_child_weight=None,\n",
       "                                                               missing=nan,\n",
       "                                                               monotone_constraints=None,\n",
       "                                                               n_estimators=100,\n",
       "                                                               n_jobs=None,\n",
       "                                                               num_parallel_tree=None,\n",
       "                                                               random_state=None,\n",
       "                                                               reg_alpha=None,\n",
       "                                                               reg_lambda=None,\n",
       "                                                               scale_pos_weight=None,\n",
       "                                                               subsample=None,\n",
       "                                                               tree_method=None,\n",
       "                                                               validate_parameters=None,\n",
       "                                                               verbosity=None))]))],\n",
       "                   final_estimator=LogisticRegression(n_jobs=-1, verbose=True),\n",
       "                   n_jobs=-1, verbose=True)"
      ]
     },
     "execution_count": 53,
     "metadata": {},
     "output_type": "execute_result"
    }
   ],
   "source": [
    "from sklearn.decomposition import PCA\n",
    "\n",
    "# получим список эстиматоров\n",
    "estimators = [\n",
    "    (\"SVM\", make_pipeline(preprocessor, PCA(), LinearSVC())),\n",
    "    (\"Random_Forest\", make_pipeline(preprocessor, RandomForestClassifier())),\n",
    "    (\"Xgboost\", make_pipeline(preprocessor, xgboost.XGBClassifier())),\n",
    "]\n",
    "\n",
    "# построим классификатор используя стекинг и наш список классификаторов\n",
    "stacking_classifier = StackingClassifier(\n",
    "    estimators=estimators,\n",
    "    final_estimator=LogisticRegression(n_jobs=-1, verbose=True),\n",
    "    n_jobs=-1,\n",
    "    verbose=True,\n",
    ")\n",
    "\n",
    "stacking_classifier"
   ]
  },
  {
   "cell_type": "code",
   "execution_count": null,
   "metadata": {},
   "outputs": [],
   "source": []
  },
  {
   "cell_type": "code",
   "execution_count": null,
   "metadata": {},
   "outputs": [],
   "source": []
  },
  {
   "cell_type": "code",
   "execution_count": null,
   "metadata": {},
   "outputs": [],
   "source": []
  },
  {
   "cell_type": "code",
   "execution_count": null,
   "metadata": {},
   "outputs": [],
   "source": []
  },
  {
   "cell_type": "code",
   "execution_count": null,
   "metadata": {},
   "outputs": [],
   "source": []
  },
  {
   "cell_type": "code",
   "execution_count": null,
   "metadata": {},
   "outputs": [],
   "source": []
  },
  {
   "cell_type": "markdown",
   "metadata": {},
   "source": [
    "# А сколько всего кода было написано?"
   ]
  },
  {
   "cell_type": "code",
   "execution_count": 54,
   "metadata": {
    "ExecuteTime": {
     "end_time": "2022-04-18T19:21:17.577193Z",
     "start_time": "2022-04-18T19:21:17.563615Z"
    }
   },
   "outputs": [],
   "source": [
    "numerical_transformer = Pipeline(steps=[\n",
    "    (\"imputer\", SimpleImputer()),\n",
    "    (\"scaler\", StandardScaler()),\n",
    "    (\"feature_selector\", SelectKBest(score_func=f_classif, k=\"all\"))])\n",
    "\n",
    "categorical_transformer = Pipeline(steps=[\n",
    "    (\"imputer\", SimpleImputer()),\n",
    "    (\"onehot\", OneHotEncoder(handle_unknown=\"ignore\"))])\n",
    "\n",
    "data_transformer = ColumnTransformer(transformers=[\n",
    "    (\"numerical\", numerical_transformer, numerical_features),\n",
    "    (\"categorical\", categorical_transformer, categorical_features)])\n",
    "\n",
    "preprocessor = Pipeline(steps=[(\"data_transformer\", data_transformer)])\n",
    "\n",
    "estimators = [\n",
    "    (\"SVM\", make_pipeline(preprocessor, LinearSVC())),\n",
    "    (\"Random_Forest\", make_pipeline(preprocessor, RandomForestClassifier(n_jobs=-1))),\n",
    "    (\"xgboost\", make_pipeline(preprocessor, xgboost.XGBClassifier(n_jobs=-1)))]\n",
    "\n",
    "stacking_classifier = StackingClassifier(\n",
    "    estimators=estimators,\n",
    "    final_estimator=LogisticRegression(n_jobs=-1, verbose=True),\n",
    "    n_jobs=-1,\n",
    "    verbose=True,\n",
    ")"
   ]
  },
  {
   "cell_type": "code",
   "execution_count": 55,
   "metadata": {
    "ExecuteTime": {
     "end_time": "2022-04-18T19:21:18.409256Z",
     "start_time": "2022-04-18T19:21:17.578192Z"
    }
   },
   "outputs": [
    {
     "data": {
      "text/html": [
       "<style>#sk-75702627-c26c-45bf-b42a-cd4a215ca48a {color: black;background-color: white;}#sk-75702627-c26c-45bf-b42a-cd4a215ca48a pre{padding: 0;}#sk-75702627-c26c-45bf-b42a-cd4a215ca48a div.sk-toggleable {background-color: white;}#sk-75702627-c26c-45bf-b42a-cd4a215ca48a label.sk-toggleable__label {cursor: pointer;display: block;width: 100%;margin-bottom: 0;padding: 0.2em 0.3em;box-sizing: border-box;text-align: center;}#sk-75702627-c26c-45bf-b42a-cd4a215ca48a div.sk-toggleable__content {max-height: 0;max-width: 0;overflow: hidden;text-align: left;background-color: #f0f8ff;}#sk-75702627-c26c-45bf-b42a-cd4a215ca48a div.sk-toggleable__content pre {margin: 0.2em;color: black;border-radius: 0.25em;background-color: #f0f8ff;}#sk-75702627-c26c-45bf-b42a-cd4a215ca48a input.sk-toggleable__control:checked~div.sk-toggleable__content {max-height: 200px;max-width: 100%;overflow: auto;}#sk-75702627-c26c-45bf-b42a-cd4a215ca48a div.sk-estimator input.sk-toggleable__control:checked~label.sk-toggleable__label {background-color: #d4ebff;}#sk-75702627-c26c-45bf-b42a-cd4a215ca48a div.sk-label input.sk-toggleable__control:checked~label.sk-toggleable__label {background-color: #d4ebff;}#sk-75702627-c26c-45bf-b42a-cd4a215ca48a input.sk-hidden--visually {border: 0;clip: rect(1px 1px 1px 1px);clip: rect(1px, 1px, 1px, 1px);height: 1px;margin: -1px;overflow: hidden;padding: 0;position: absolute;width: 1px;}#sk-75702627-c26c-45bf-b42a-cd4a215ca48a div.sk-estimator {font-family: monospace;background-color: #f0f8ff;margin: 0.25em 0.25em;border: 1px dotted black;border-radius: 0.25em;box-sizing: border-box;}#sk-75702627-c26c-45bf-b42a-cd4a215ca48a div.sk-estimator:hover {background-color: #d4ebff;}#sk-75702627-c26c-45bf-b42a-cd4a215ca48a div.sk-parallel-item::after {content: \"\";width: 100%;border-bottom: 1px solid gray;flex-grow: 1;}#sk-75702627-c26c-45bf-b42a-cd4a215ca48a div.sk-label:hover label.sk-toggleable__label {background-color: #d4ebff;}#sk-75702627-c26c-45bf-b42a-cd4a215ca48a div.sk-serial::before {content: \"\";position: absolute;border-left: 1px solid gray;box-sizing: border-box;top: 2em;bottom: 0;left: 50%;}#sk-75702627-c26c-45bf-b42a-cd4a215ca48a div.sk-serial {display: flex;flex-direction: column;align-items: center;background-color: white;}#sk-75702627-c26c-45bf-b42a-cd4a215ca48a div.sk-item {z-index: 1;}#sk-75702627-c26c-45bf-b42a-cd4a215ca48a div.sk-parallel {display: flex;align-items: stretch;justify-content: center;background-color: white;}#sk-75702627-c26c-45bf-b42a-cd4a215ca48a div.sk-parallel-item {display: flex;flex-direction: column;position: relative;background-color: white;}#sk-75702627-c26c-45bf-b42a-cd4a215ca48a div.sk-parallel-item:first-child::after {align-self: flex-end;width: 50%;}#sk-75702627-c26c-45bf-b42a-cd4a215ca48a div.sk-parallel-item:last-child::after {align-self: flex-start;width: 50%;}#sk-75702627-c26c-45bf-b42a-cd4a215ca48a div.sk-parallel-item:only-child::after {width: 0;}#sk-75702627-c26c-45bf-b42a-cd4a215ca48a div.sk-dashed-wrapped {border: 1px dashed gray;margin: 0.2em;box-sizing: border-box;padding-bottom: 0.1em;background-color: white;position: relative;}#sk-75702627-c26c-45bf-b42a-cd4a215ca48a div.sk-label label {font-family: monospace;font-weight: bold;background-color: white;display: inline-block;line-height: 1.2em;}#sk-75702627-c26c-45bf-b42a-cd4a215ca48a div.sk-label-container {position: relative;z-index: 2;text-align: center;}#sk-75702627-c26c-45bf-b42a-cd4a215ca48a div.sk-container {display: inline-block;position: relative;}</style><div id=\"sk-75702627-c26c-45bf-b42a-cd4a215ca48a\" class\"sk-top-container\"><div class=\"sk-container\"><div class=\"sk-item sk-dashed-wrapped\"><div class=\"sk-label-container\"><div class=\"sk-label sk-toggleable\"><input class=\"sk-toggleable__control sk-hidden--visually\" id=\"504bdaca-7071-4779-8f9d-a14312696efb\" type=\"checkbox\" ><label class=\"sk-toggleable__label\" for=\"504bdaca-7071-4779-8f9d-a14312696efb\">StackingClassifier</label><div class=\"sk-toggleable__content\"><pre>StackingClassifier(estimators=[('SVM',\n",
       "                                Pipeline(steps=[('pipeline',\n",
       "                                                 Pipeline(steps=[('data_transformer',\n",
       "                                                                  ColumnTransformer(transformers=[('numerical',\n",
       "                                                                                                   Pipeline(steps=[('imputer',\n",
       "                                                                                                                    SimpleImputer()),\n",
       "                                                                                                                   ('scaler',\n",
       "                                                                                                                    StandardScaler()),\n",
       "                                                                                                                   ('feature_selector',\n",
       "                                                                                                                    SelectKBest(k='all'))]),\n",
       "                                                                                                   ['Age',\n",
       "                                                                                                    'Height',\n",
       "                                                                                                    'Weight']),\n",
       "                                                                                                  ('categorical',\n",
       "                                                                                                   Pipeline(steps=[('imputer',\n",
       "                                                                                                                    SimpleImputer()),\n",
       "                                                                                                                   (...\n",
       "                                                               max_depth=None,\n",
       "                                                               min_child_weight=None,\n",
       "                                                               missing=nan,\n",
       "                                                               monotone_constraints=None,\n",
       "                                                               n_estimators=100,\n",
       "                                                               n_jobs=-1,\n",
       "                                                               num_parallel_tree=None,\n",
       "                                                               random_state=None,\n",
       "                                                               reg_alpha=None,\n",
       "                                                               reg_lambda=None,\n",
       "                                                               scale_pos_weight=None,\n",
       "                                                               subsample=None,\n",
       "                                                               tree_method=None,\n",
       "                                                               validate_parameters=None,\n",
       "                                                               verbosity=None))]))],\n",
       "                   final_estimator=LogisticRegression(n_jobs=-1, verbose=True),\n",
       "                   n_jobs=-1, verbose=True)</pre></div></div></div><div class=\"sk-serial\"><div class=\"sk-item\"><div class=\"sk-serial\"><div class=\"sk-item\"><div class=\"sk-parallel\"><div class=\"sk-parallel-item\"><div class=\"sk-item\"><div class=\"sk-label-container\"><div class=\"sk-label sk-toggleable\"><label>SVM</label></div></div><div class=\"sk-serial\"><div class=\"sk-item\"><div class=\"sk-serial\"><div class=\"sk-item\"><div class=\"sk-label-container\"><div class=\"sk-label sk-toggleable\"><input class=\"sk-toggleable__control sk-hidden--visually\" id=\"24091a6b-ced7-4a0e-960f-c13be9863750\" type=\"checkbox\" ><label class=\"sk-toggleable__label\" for=\"24091a6b-ced7-4a0e-960f-c13be9863750\">pipeline: Pipeline</label><div class=\"sk-toggleable__content\"><pre>Pipeline(steps=[('data_transformer',\n",
       "                 ColumnTransformer(transformers=[('numerical',\n",
       "                                                  Pipeline(steps=[('imputer',\n",
       "                                                                   SimpleImputer()),\n",
       "                                                                  ('scaler',\n",
       "                                                                   StandardScaler()),\n",
       "                                                                  ('feature_selector',\n",
       "                                                                   SelectKBest(k='all'))]),\n",
       "                                                  ['Age', 'Height', 'Weight']),\n",
       "                                                 ('categorical',\n",
       "                                                  Pipeline(steps=[('imputer',\n",
       "                                                                   SimpleImputer()),\n",
       "                                                                  ('onehot',\n",
       "                                                                   OneHotEncoder(handle_unknown='ignore'))]),\n",
       "                                                  ['Getting up', 'God',\n",
       "                                                   'Health', 'Borrowed stuff',\n",
       "                                                   'Self-criticism',\n",
       "                                                   'Elections',\n",
       "                                                   'Number of friends',\n",
       "                                                   'Spending on healthy eating',\n",
       "                                                   'Music', 'Movies',\n",
       "                                                   'Friends versus money',\n",
       "                                                   'Changing the past'])]))])</pre></div></div></div><div class=\"sk-serial\"><div class=\"sk-item sk-dashed-wrapped\"><div class=\"sk-label-container\"><div class=\"sk-label sk-toggleable\"><input class=\"sk-toggleable__control sk-hidden--visually\" id=\"53861717-9339-4f5b-8d41-c679beb332ee\" type=\"checkbox\" ><label class=\"sk-toggleable__label\" for=\"53861717-9339-4f5b-8d41-c679beb332ee\">data_transformer: ColumnTransformer</label><div class=\"sk-toggleable__content\"><pre>ColumnTransformer(transformers=[('numerical',\n",
       "                                 Pipeline(steps=[('imputer', SimpleImputer()),\n",
       "                                                 ('scaler', StandardScaler()),\n",
       "                                                 ('feature_selector',\n",
       "                                                  SelectKBest(k='all'))]),\n",
       "                                 ['Age', 'Height', 'Weight']),\n",
       "                                ('categorical',\n",
       "                                 Pipeline(steps=[('imputer', SimpleImputer()),\n",
       "                                                 ('onehot',\n",
       "                                                  OneHotEncoder(handle_unknown='ignore'))]),\n",
       "                                 ['Getting up', 'God', 'Health',\n",
       "                                  'Borrowed stuff', 'Self-criticism',\n",
       "                                  'Elections', 'Number of friends',\n",
       "                                  'Spending on healthy eating', 'Music',\n",
       "                                  'Movies', 'Friends versus money',\n",
       "                                  'Changing the past'])])</pre></div></div></div><div class=\"sk-parallel\"><div class=\"sk-parallel-item\"><div class=\"sk-item\"><div class=\"sk-label-container\"><div class=\"sk-label sk-toggleable\"><input class=\"sk-toggleable__control sk-hidden--visually\" id=\"ee0d8b4b-f47e-4c17-88a5-c1bfb9711b21\" type=\"checkbox\" ><label class=\"sk-toggleable__label\" for=\"ee0d8b4b-f47e-4c17-88a5-c1bfb9711b21\">numerical</label><div class=\"sk-toggleable__content\"><pre>['Age', 'Height', 'Weight']</pre></div></div></div><div class=\"sk-serial\"><div class=\"sk-item\"><div class=\"sk-serial\"><div class=\"sk-item\"><div class=\"sk-estimator sk-toggleable\"><input class=\"sk-toggleable__control sk-hidden--visually\" id=\"75dd1b35-a4d4-45f1-8d62-60c15fb4fbeb\" type=\"checkbox\" ><label class=\"sk-toggleable__label\" for=\"75dd1b35-a4d4-45f1-8d62-60c15fb4fbeb\">SimpleImputer</label><div class=\"sk-toggleable__content\"><pre>SimpleImputer()</pre></div></div></div><div class=\"sk-item\"><div class=\"sk-estimator sk-toggleable\"><input class=\"sk-toggleable__control sk-hidden--visually\" id=\"5c112b32-a99c-465f-887b-e6dfc5a6be33\" type=\"checkbox\" ><label class=\"sk-toggleable__label\" for=\"5c112b32-a99c-465f-887b-e6dfc5a6be33\">StandardScaler</label><div class=\"sk-toggleable__content\"><pre>StandardScaler()</pre></div></div></div><div class=\"sk-item\"><div class=\"sk-estimator sk-toggleable\"><input class=\"sk-toggleable__control sk-hidden--visually\" id=\"1605ed9b-daf1-4357-938e-15cd81a1de91\" type=\"checkbox\" ><label class=\"sk-toggleable__label\" for=\"1605ed9b-daf1-4357-938e-15cd81a1de91\">SelectKBest</label><div class=\"sk-toggleable__content\"><pre>SelectKBest(k='all')</pre></div></div></div></div></div></div></div></div><div class=\"sk-parallel-item\"><div class=\"sk-item\"><div class=\"sk-label-container\"><div class=\"sk-label sk-toggleable\"><input class=\"sk-toggleable__control sk-hidden--visually\" id=\"a8b5b3ce-de44-4ae6-a064-9a990c763b8d\" type=\"checkbox\" ><label class=\"sk-toggleable__label\" for=\"a8b5b3ce-de44-4ae6-a064-9a990c763b8d\">categorical</label><div class=\"sk-toggleable__content\"><pre>['Getting up', 'God', 'Health', 'Borrowed stuff', 'Self-criticism', 'Elections', 'Number of friends', 'Spending on healthy eating', 'Music', 'Movies', 'Friends versus money', 'Changing the past']</pre></div></div></div><div class=\"sk-serial\"><div class=\"sk-item\"><div class=\"sk-serial\"><div class=\"sk-item\"><div class=\"sk-estimator sk-toggleable\"><input class=\"sk-toggleable__control sk-hidden--visually\" id=\"3c64b0b7-4166-4268-8da3-787b4cb14f2a\" type=\"checkbox\" ><label class=\"sk-toggleable__label\" for=\"3c64b0b7-4166-4268-8da3-787b4cb14f2a\">SimpleImputer</label><div class=\"sk-toggleable__content\"><pre>SimpleImputer()</pre></div></div></div><div class=\"sk-item\"><div class=\"sk-estimator sk-toggleable\"><input class=\"sk-toggleable__control sk-hidden--visually\" id=\"ba60221e-3345-4049-8598-ac12863587fb\" type=\"checkbox\" ><label class=\"sk-toggleable__label\" for=\"ba60221e-3345-4049-8598-ac12863587fb\">OneHotEncoder</label><div class=\"sk-toggleable__content\"><pre>OneHotEncoder(handle_unknown='ignore')</pre></div></div></div></div></div></div></div></div></div></div></div></div><div class=\"sk-item\"><div class=\"sk-estimator sk-toggleable\"><input class=\"sk-toggleable__control sk-hidden--visually\" id=\"ec4603fc-4d1f-4d97-9e7c-8a1d4e7d82d3\" type=\"checkbox\" ><label class=\"sk-toggleable__label\" for=\"ec4603fc-4d1f-4d97-9e7c-8a1d4e7d82d3\">LinearSVC</label><div class=\"sk-toggleable__content\"><pre>LinearSVC()</pre></div></div></div></div></div></div></div></div><div class=\"sk-parallel-item\"><div class=\"sk-item\"><div class=\"sk-label-container\"><div class=\"sk-label sk-toggleable\"><label>Random_Forest</label></div></div><div class=\"sk-serial\"><div class=\"sk-item\"><div class=\"sk-serial\"><div class=\"sk-item\"><div class=\"sk-label-container\"><div class=\"sk-label sk-toggleable\"><input class=\"sk-toggleable__control sk-hidden--visually\" id=\"acc37f60-04b9-40f4-a34d-f90c6001a588\" type=\"checkbox\" ><label class=\"sk-toggleable__label\" for=\"acc37f60-04b9-40f4-a34d-f90c6001a588\">pipeline: Pipeline</label><div class=\"sk-toggleable__content\"><pre>Pipeline(steps=[('data_transformer',\n",
       "                 ColumnTransformer(transformers=[('numerical',\n",
       "                                                  Pipeline(steps=[('imputer',\n",
       "                                                                   SimpleImputer()),\n",
       "                                                                  ('scaler',\n",
       "                                                                   StandardScaler()),\n",
       "                                                                  ('feature_selector',\n",
       "                                                                   SelectKBest(k='all'))]),\n",
       "                                                  ['Age', 'Height', 'Weight']),\n",
       "                                                 ('categorical',\n",
       "                                                  Pipeline(steps=[('imputer',\n",
       "                                                                   SimpleImputer()),\n",
       "                                                                  ('onehot',\n",
       "                                                                   OneHotEncoder(handle_unknown='ignore'))]),\n",
       "                                                  ['Getting up', 'God',\n",
       "                                                   'Health', 'Borrowed stuff',\n",
       "                                                   'Self-criticism',\n",
       "                                                   'Elections',\n",
       "                                                   'Number of friends',\n",
       "                                                   'Spending on healthy eating',\n",
       "                                                   'Music', 'Movies',\n",
       "                                                   'Friends versus money',\n",
       "                                                   'Changing the past'])]))])</pre></div></div></div><div class=\"sk-serial\"><div class=\"sk-item sk-dashed-wrapped\"><div class=\"sk-label-container\"><div class=\"sk-label sk-toggleable\"><input class=\"sk-toggleable__control sk-hidden--visually\" id=\"251fdc91-57d6-4f78-a81a-2e0c74c3fb0f\" type=\"checkbox\" ><label class=\"sk-toggleable__label\" for=\"251fdc91-57d6-4f78-a81a-2e0c74c3fb0f\">data_transformer: ColumnTransformer</label><div class=\"sk-toggleable__content\"><pre>ColumnTransformer(transformers=[('numerical',\n",
       "                                 Pipeline(steps=[('imputer', SimpleImputer()),\n",
       "                                                 ('scaler', StandardScaler()),\n",
       "                                                 ('feature_selector',\n",
       "                                                  SelectKBest(k='all'))]),\n",
       "                                 ['Age', 'Height', 'Weight']),\n",
       "                                ('categorical',\n",
       "                                 Pipeline(steps=[('imputer', SimpleImputer()),\n",
       "                                                 ('onehot',\n",
       "                                                  OneHotEncoder(handle_unknown='ignore'))]),\n",
       "                                 ['Getting up', 'God', 'Health',\n",
       "                                  'Borrowed stuff', 'Self-criticism',\n",
       "                                  'Elections', 'Number of friends',\n",
       "                                  'Spending on healthy eating', 'Music',\n",
       "                                  'Movies', 'Friends versus money',\n",
       "                                  'Changing the past'])])</pre></div></div></div><div class=\"sk-parallel\"><div class=\"sk-parallel-item\"><div class=\"sk-item\"><div class=\"sk-label-container\"><div class=\"sk-label sk-toggleable\"><input class=\"sk-toggleable__control sk-hidden--visually\" id=\"c6992e18-010c-4bb5-895a-eeccaa4e6850\" type=\"checkbox\" ><label class=\"sk-toggleable__label\" for=\"c6992e18-010c-4bb5-895a-eeccaa4e6850\">numerical</label><div class=\"sk-toggleable__content\"><pre>['Age', 'Height', 'Weight']</pre></div></div></div><div class=\"sk-serial\"><div class=\"sk-item\"><div class=\"sk-serial\"><div class=\"sk-item\"><div class=\"sk-estimator sk-toggleable\"><input class=\"sk-toggleable__control sk-hidden--visually\" id=\"00a2f470-8f77-467b-805f-bb3744bb41ed\" type=\"checkbox\" ><label class=\"sk-toggleable__label\" for=\"00a2f470-8f77-467b-805f-bb3744bb41ed\">SimpleImputer</label><div class=\"sk-toggleable__content\"><pre>SimpleImputer()</pre></div></div></div><div class=\"sk-item\"><div class=\"sk-estimator sk-toggleable\"><input class=\"sk-toggleable__control sk-hidden--visually\" id=\"5be1e3be-58f5-438e-93e0-a6aa1999692b\" type=\"checkbox\" ><label class=\"sk-toggleable__label\" for=\"5be1e3be-58f5-438e-93e0-a6aa1999692b\">StandardScaler</label><div class=\"sk-toggleable__content\"><pre>StandardScaler()</pre></div></div></div><div class=\"sk-item\"><div class=\"sk-estimator sk-toggleable\"><input class=\"sk-toggleable__control sk-hidden--visually\" id=\"5de75cd4-c6e2-44b1-970b-5a5c177af3fb\" type=\"checkbox\" ><label class=\"sk-toggleable__label\" for=\"5de75cd4-c6e2-44b1-970b-5a5c177af3fb\">SelectKBest</label><div class=\"sk-toggleable__content\"><pre>SelectKBest(k='all')</pre></div></div></div></div></div></div></div></div><div class=\"sk-parallel-item\"><div class=\"sk-item\"><div class=\"sk-label-container\"><div class=\"sk-label sk-toggleable\"><input class=\"sk-toggleable__control sk-hidden--visually\" id=\"b55f1f1a-07e4-493f-b275-ed462c78b24d\" type=\"checkbox\" ><label class=\"sk-toggleable__label\" for=\"b55f1f1a-07e4-493f-b275-ed462c78b24d\">categorical</label><div class=\"sk-toggleable__content\"><pre>['Getting up', 'God', 'Health', 'Borrowed stuff', 'Self-criticism', 'Elections', 'Number of friends', 'Spending on healthy eating', 'Music', 'Movies', 'Friends versus money', 'Changing the past']</pre></div></div></div><div class=\"sk-serial\"><div class=\"sk-item\"><div class=\"sk-serial\"><div class=\"sk-item\"><div class=\"sk-estimator sk-toggleable\"><input class=\"sk-toggleable__control sk-hidden--visually\" id=\"8a411d65-6114-412c-be2e-a876a09f2913\" type=\"checkbox\" ><label class=\"sk-toggleable__label\" for=\"8a411d65-6114-412c-be2e-a876a09f2913\">SimpleImputer</label><div class=\"sk-toggleable__content\"><pre>SimpleImputer()</pre></div></div></div><div class=\"sk-item\"><div class=\"sk-estimator sk-toggleable\"><input class=\"sk-toggleable__control sk-hidden--visually\" id=\"d6930c13-2241-46f4-9dd6-f3f49ef26b29\" type=\"checkbox\" ><label class=\"sk-toggleable__label\" for=\"d6930c13-2241-46f4-9dd6-f3f49ef26b29\">OneHotEncoder</label><div class=\"sk-toggleable__content\"><pre>OneHotEncoder(handle_unknown='ignore')</pre></div></div></div></div></div></div></div></div></div></div></div></div><div class=\"sk-item\"><div class=\"sk-estimator sk-toggleable\"><input class=\"sk-toggleable__control sk-hidden--visually\" id=\"e28d7ad2-868c-461c-8911-ed96c6f29b87\" type=\"checkbox\" ><label class=\"sk-toggleable__label\" for=\"e28d7ad2-868c-461c-8911-ed96c6f29b87\">RandomForestClassifier</label><div class=\"sk-toggleable__content\"><pre>RandomForestClassifier(n_jobs=-1)</pre></div></div></div></div></div></div></div></div><div class=\"sk-parallel-item\"><div class=\"sk-item\"><div class=\"sk-label-container\"><div class=\"sk-label sk-toggleable\"><label>xgboost</label></div></div><div class=\"sk-serial\"><div class=\"sk-item\"><div class=\"sk-serial\"><div class=\"sk-item\"><div class=\"sk-label-container\"><div class=\"sk-label sk-toggleable\"><input class=\"sk-toggleable__control sk-hidden--visually\" id=\"9613c828-5cdd-4ce0-b875-083dce8767ba\" type=\"checkbox\" ><label class=\"sk-toggleable__label\" for=\"9613c828-5cdd-4ce0-b875-083dce8767ba\">pipeline: Pipeline</label><div class=\"sk-toggleable__content\"><pre>Pipeline(steps=[('data_transformer',\n",
       "                 ColumnTransformer(transformers=[('numerical',\n",
       "                                                  Pipeline(steps=[('imputer',\n",
       "                                                                   SimpleImputer()),\n",
       "                                                                  ('scaler',\n",
       "                                                                   StandardScaler()),\n",
       "                                                                  ('feature_selector',\n",
       "                                                                   SelectKBest(k='all'))]),\n",
       "                                                  ['Age', 'Height', 'Weight']),\n",
       "                                                 ('categorical',\n",
       "                                                  Pipeline(steps=[('imputer',\n",
       "                                                                   SimpleImputer()),\n",
       "                                                                  ('onehot',\n",
       "                                                                   OneHotEncoder(handle_unknown='ignore'))]),\n",
       "                                                  ['Getting up', 'God',\n",
       "                                                   'Health', 'Borrowed stuff',\n",
       "                                                   'Self-criticism',\n",
       "                                                   'Elections',\n",
       "                                                   'Number of friends',\n",
       "                                                   'Spending on healthy eating',\n",
       "                                                   'Music', 'Movies',\n",
       "                                                   'Friends versus money',\n",
       "                                                   'Changing the past'])]))])</pre></div></div></div><div class=\"sk-serial\"><div class=\"sk-item sk-dashed-wrapped\"><div class=\"sk-label-container\"><div class=\"sk-label sk-toggleable\"><input class=\"sk-toggleable__control sk-hidden--visually\" id=\"fe02c907-992a-476c-81e3-ae154ee964d2\" type=\"checkbox\" ><label class=\"sk-toggleable__label\" for=\"fe02c907-992a-476c-81e3-ae154ee964d2\">data_transformer: ColumnTransformer</label><div class=\"sk-toggleable__content\"><pre>ColumnTransformer(transformers=[('numerical',\n",
       "                                 Pipeline(steps=[('imputer', SimpleImputer()),\n",
       "                                                 ('scaler', StandardScaler()),\n",
       "                                                 ('feature_selector',\n",
       "                                                  SelectKBest(k='all'))]),\n",
       "                                 ['Age', 'Height', 'Weight']),\n",
       "                                ('categorical',\n",
       "                                 Pipeline(steps=[('imputer', SimpleImputer()),\n",
       "                                                 ('onehot',\n",
       "                                                  OneHotEncoder(handle_unknown='ignore'))]),\n",
       "                                 ['Getting up', 'God', 'Health',\n",
       "                                  'Borrowed stuff', 'Self-criticism',\n",
       "                                  'Elections', 'Number of friends',\n",
       "                                  'Spending on healthy eating', 'Music',\n",
       "                                  'Movies', 'Friends versus money',\n",
       "                                  'Changing the past'])])</pre></div></div></div><div class=\"sk-parallel\"><div class=\"sk-parallel-item\"><div class=\"sk-item\"><div class=\"sk-label-container\"><div class=\"sk-label sk-toggleable\"><input class=\"sk-toggleable__control sk-hidden--visually\" id=\"6960436d-7195-474f-9084-94ae3743d442\" type=\"checkbox\" ><label class=\"sk-toggleable__label\" for=\"6960436d-7195-474f-9084-94ae3743d442\">numerical</label><div class=\"sk-toggleable__content\"><pre>['Age', 'Height', 'Weight']</pre></div></div></div><div class=\"sk-serial\"><div class=\"sk-item\"><div class=\"sk-serial\"><div class=\"sk-item\"><div class=\"sk-estimator sk-toggleable\"><input class=\"sk-toggleable__control sk-hidden--visually\" id=\"a1fec96b-9d1d-4bf1-9165-172facdf7cf7\" type=\"checkbox\" ><label class=\"sk-toggleable__label\" for=\"a1fec96b-9d1d-4bf1-9165-172facdf7cf7\">SimpleImputer</label><div class=\"sk-toggleable__content\"><pre>SimpleImputer()</pre></div></div></div><div class=\"sk-item\"><div class=\"sk-estimator sk-toggleable\"><input class=\"sk-toggleable__control sk-hidden--visually\" id=\"ef78859b-1e9f-478c-b19b-2dd52e06fbe6\" type=\"checkbox\" ><label class=\"sk-toggleable__label\" for=\"ef78859b-1e9f-478c-b19b-2dd52e06fbe6\">StandardScaler</label><div class=\"sk-toggleable__content\"><pre>StandardScaler()</pre></div></div></div><div class=\"sk-item\"><div class=\"sk-estimator sk-toggleable\"><input class=\"sk-toggleable__control sk-hidden--visually\" id=\"45f1a79c-de6f-49ed-bb94-639ea4cc0869\" type=\"checkbox\" ><label class=\"sk-toggleable__label\" for=\"45f1a79c-de6f-49ed-bb94-639ea4cc0869\">SelectKBest</label><div class=\"sk-toggleable__content\"><pre>SelectKBest(k='all')</pre></div></div></div></div></div></div></div></div><div class=\"sk-parallel-item\"><div class=\"sk-item\"><div class=\"sk-label-container\"><div class=\"sk-label sk-toggleable\"><input class=\"sk-toggleable__control sk-hidden--visually\" id=\"dd9d1da0-5f7b-47dd-89bc-13b804d91ff2\" type=\"checkbox\" ><label class=\"sk-toggleable__label\" for=\"dd9d1da0-5f7b-47dd-89bc-13b804d91ff2\">categorical</label><div class=\"sk-toggleable__content\"><pre>['Getting up', 'God', 'Health', 'Borrowed stuff', 'Self-criticism', 'Elections', 'Number of friends', 'Spending on healthy eating', 'Music', 'Movies', 'Friends versus money', 'Changing the past']</pre></div></div></div><div class=\"sk-serial\"><div class=\"sk-item\"><div class=\"sk-serial\"><div class=\"sk-item\"><div class=\"sk-estimator sk-toggleable\"><input class=\"sk-toggleable__control sk-hidden--visually\" id=\"631eaa86-ef51-4688-8d49-1b49b2956201\" type=\"checkbox\" ><label class=\"sk-toggleable__label\" for=\"631eaa86-ef51-4688-8d49-1b49b2956201\">SimpleImputer</label><div class=\"sk-toggleable__content\"><pre>SimpleImputer()</pre></div></div></div><div class=\"sk-item\"><div class=\"sk-estimator sk-toggleable\"><input class=\"sk-toggleable__control sk-hidden--visually\" id=\"9d684b3e-0167-4657-b8a1-4e34e9ededd2\" type=\"checkbox\" ><label class=\"sk-toggleable__label\" for=\"9d684b3e-0167-4657-b8a1-4e34e9ededd2\">OneHotEncoder</label><div class=\"sk-toggleable__content\"><pre>OneHotEncoder(handle_unknown='ignore')</pre></div></div></div></div></div></div></div></div></div></div></div></div><div class=\"sk-item\"><div class=\"sk-estimator sk-toggleable\"><input class=\"sk-toggleable__control sk-hidden--visually\" id=\"66861af4-3c3f-45e7-b896-eddb2493e368\" type=\"checkbox\" ><label class=\"sk-toggleable__label\" for=\"66861af4-3c3f-45e7-b896-eddb2493e368\">XGBClassifier</label><div class=\"sk-toggleable__content\"><pre>XGBClassifier(base_score=None, booster=None, colsample_bylevel=None,\n",
       "              colsample_bynode=None, colsample_bytree=None, gamma=None,\n",
       "              gpu_id=None, importance_type='gain', interaction_constraints=None,\n",
       "              learning_rate=None, max_delta_step=None, max_depth=None,\n",
       "              min_child_weight=None, missing=nan, monotone_constraints=None,\n",
       "              n_estimators=100, n_jobs=-1, num_parallel_tree=None,\n",
       "              random_state=None, reg_alpha=None, reg_lambda=None,\n",
       "              scale_pos_weight=None, subsample=None, tree_method=None,\n",
       "              validate_parameters=None, verbosity=None)</pre></div></div></div></div></div></div></div></div></div></div><div class=\"sk-item\"><div class=\"sk-estimator sk-toggleable\"><input class=\"sk-toggleable__control sk-hidden--visually\" id=\"dba0b9c7-b734-4bd0-9e7f-ebadef8d77db\" type=\"checkbox\" ><label class=\"sk-toggleable__label\" for=\"dba0b9c7-b734-4bd0-9e7f-ebadef8d77db\">LogisticRegression</label><div class=\"sk-toggleable__content\"><pre>LogisticRegression(n_jobs=-1, verbose=True)</pre></div></div></div></div></div></div></div></div></div>"
      ],
      "text/plain": [
       "StackingClassifier(estimators=[('SVM',\n",
       "                                Pipeline(steps=[('pipeline',\n",
       "                                                 Pipeline(steps=[('data_transformer',\n",
       "                                                                  ColumnTransformer(transformers=[('numerical',\n",
       "                                                                                                   Pipeline(steps=[('imputer',\n",
       "                                                                                                                    SimpleImputer()),\n",
       "                                                                                                                   ('scaler',\n",
       "                                                                                                                    StandardScaler()),\n",
       "                                                                                                                   ('feature_selector',\n",
       "                                                                                                                    SelectKBest(k='all'))]),\n",
       "                                                                                                   ['Age',\n",
       "                                                                                                    'Height',\n",
       "                                                                                                    'Weight']),\n",
       "                                                                                                  ('categorical',\n",
       "                                                                                                   Pipeline(steps=[('imputer',\n",
       "                                                                                                                    SimpleImputer()),\n",
       "                                                                                                                   (...\n",
       "                                                               max_depth=None,\n",
       "                                                               min_child_weight=None,\n",
       "                                                               missing=nan,\n",
       "                                                               monotone_constraints=None,\n",
       "                                                               n_estimators=100,\n",
       "                                                               n_jobs=-1,\n",
       "                                                               num_parallel_tree=None,\n",
       "                                                               random_state=None,\n",
       "                                                               reg_alpha=None,\n",
       "                                                               reg_lambda=None,\n",
       "                                                               scale_pos_weight=None,\n",
       "                                                               subsample=None,\n",
       "                                                               tree_method=None,\n",
       "                                                               validate_parameters=None,\n",
       "                                                               verbosity=None))]))],\n",
       "                   final_estimator=LogisticRegression(n_jobs=-1, verbose=True),\n",
       "                   n_jobs=-1, verbose=True)"
      ]
     },
     "execution_count": 55,
     "metadata": {},
     "output_type": "execute_result"
    }
   ],
   "source": [
    "stacking_classifier"
   ]
  },
  {
   "cell_type": "code",
   "execution_count": null,
   "metadata": {},
   "outputs": [],
   "source": []
  },
  {
   "cell_type": "code",
   "execution_count": null,
   "metadata": {},
   "outputs": [],
   "source": []
  },
  {
   "cell_type": "code",
   "execution_count": null,
   "metadata": {},
   "outputs": [],
   "source": []
  },
  {
   "cell_type": "code",
   "execution_count": null,
   "metadata": {},
   "outputs": [],
   "source": []
  },
  {
   "cell_type": "code",
   "execution_count": null,
   "metadata": {},
   "outputs": [],
   "source": []
  },
  {
   "cell_type": "markdown",
   "metadata": {},
   "source": [
    "# Обучении махины - Будет ли легко?"
   ]
  },
  {
   "cell_type": "code",
   "execution_count": 56,
   "metadata": {
    "ExecuteTime": {
     "end_time": "2022-04-18T19:21:22.434344Z",
     "start_time": "2022-04-18T19:21:18.411256Z"
    }
   },
   "outputs": [
    {
     "name": "stderr",
     "output_type": "stream",
     "text": [
      "[Parallel(n_jobs=-1)]: Using backend LokyBackend with 8 concurrent workers.\n",
      "[Parallel(n_jobs=-1)]: Done   1 out of   1 | elapsed:    0.0s finished\n"
     ]
    },
    {
     "data": {
      "text/html": [
       "<style>#sk-a83f6ddb-61d7-4c50-8b21-b3b47fec5691 {color: black;background-color: white;}#sk-a83f6ddb-61d7-4c50-8b21-b3b47fec5691 pre{padding: 0;}#sk-a83f6ddb-61d7-4c50-8b21-b3b47fec5691 div.sk-toggleable {background-color: white;}#sk-a83f6ddb-61d7-4c50-8b21-b3b47fec5691 label.sk-toggleable__label {cursor: pointer;display: block;width: 100%;margin-bottom: 0;padding: 0.2em 0.3em;box-sizing: border-box;text-align: center;}#sk-a83f6ddb-61d7-4c50-8b21-b3b47fec5691 div.sk-toggleable__content {max-height: 0;max-width: 0;overflow: hidden;text-align: left;background-color: #f0f8ff;}#sk-a83f6ddb-61d7-4c50-8b21-b3b47fec5691 div.sk-toggleable__content pre {margin: 0.2em;color: black;border-radius: 0.25em;background-color: #f0f8ff;}#sk-a83f6ddb-61d7-4c50-8b21-b3b47fec5691 input.sk-toggleable__control:checked~div.sk-toggleable__content {max-height: 200px;max-width: 100%;overflow: auto;}#sk-a83f6ddb-61d7-4c50-8b21-b3b47fec5691 div.sk-estimator input.sk-toggleable__control:checked~label.sk-toggleable__label {background-color: #d4ebff;}#sk-a83f6ddb-61d7-4c50-8b21-b3b47fec5691 div.sk-label input.sk-toggleable__control:checked~label.sk-toggleable__label {background-color: #d4ebff;}#sk-a83f6ddb-61d7-4c50-8b21-b3b47fec5691 input.sk-hidden--visually {border: 0;clip: rect(1px 1px 1px 1px);clip: rect(1px, 1px, 1px, 1px);height: 1px;margin: -1px;overflow: hidden;padding: 0;position: absolute;width: 1px;}#sk-a83f6ddb-61d7-4c50-8b21-b3b47fec5691 div.sk-estimator {font-family: monospace;background-color: #f0f8ff;margin: 0.25em 0.25em;border: 1px dotted black;border-radius: 0.25em;box-sizing: border-box;}#sk-a83f6ddb-61d7-4c50-8b21-b3b47fec5691 div.sk-estimator:hover {background-color: #d4ebff;}#sk-a83f6ddb-61d7-4c50-8b21-b3b47fec5691 div.sk-parallel-item::after {content: \"\";width: 100%;border-bottom: 1px solid gray;flex-grow: 1;}#sk-a83f6ddb-61d7-4c50-8b21-b3b47fec5691 div.sk-label:hover label.sk-toggleable__label {background-color: #d4ebff;}#sk-a83f6ddb-61d7-4c50-8b21-b3b47fec5691 div.sk-serial::before {content: \"\";position: absolute;border-left: 1px solid gray;box-sizing: border-box;top: 2em;bottom: 0;left: 50%;}#sk-a83f6ddb-61d7-4c50-8b21-b3b47fec5691 div.sk-serial {display: flex;flex-direction: column;align-items: center;background-color: white;}#sk-a83f6ddb-61d7-4c50-8b21-b3b47fec5691 div.sk-item {z-index: 1;}#sk-a83f6ddb-61d7-4c50-8b21-b3b47fec5691 div.sk-parallel {display: flex;align-items: stretch;justify-content: center;background-color: white;}#sk-a83f6ddb-61d7-4c50-8b21-b3b47fec5691 div.sk-parallel-item {display: flex;flex-direction: column;position: relative;background-color: white;}#sk-a83f6ddb-61d7-4c50-8b21-b3b47fec5691 div.sk-parallel-item:first-child::after {align-self: flex-end;width: 50%;}#sk-a83f6ddb-61d7-4c50-8b21-b3b47fec5691 div.sk-parallel-item:last-child::after {align-self: flex-start;width: 50%;}#sk-a83f6ddb-61d7-4c50-8b21-b3b47fec5691 div.sk-parallel-item:only-child::after {width: 0;}#sk-a83f6ddb-61d7-4c50-8b21-b3b47fec5691 div.sk-dashed-wrapped {border: 1px dashed gray;margin: 0.2em;box-sizing: border-box;padding-bottom: 0.1em;background-color: white;position: relative;}#sk-a83f6ddb-61d7-4c50-8b21-b3b47fec5691 div.sk-label label {font-family: monospace;font-weight: bold;background-color: white;display: inline-block;line-height: 1.2em;}#sk-a83f6ddb-61d7-4c50-8b21-b3b47fec5691 div.sk-label-container {position: relative;z-index: 2;text-align: center;}#sk-a83f6ddb-61d7-4c50-8b21-b3b47fec5691 div.sk-container {display: inline-block;position: relative;}</style><div id=\"sk-a83f6ddb-61d7-4c50-8b21-b3b47fec5691\" class\"sk-top-container\"><div class=\"sk-container\"><div class=\"sk-item sk-dashed-wrapped\"><div class=\"sk-label-container\"><div class=\"sk-label sk-toggleable\"><input class=\"sk-toggleable__control sk-hidden--visually\" id=\"4cddaa63-eff8-4bcf-a2f0-47716ab41727\" type=\"checkbox\" ><label class=\"sk-toggleable__label\" for=\"4cddaa63-eff8-4bcf-a2f0-47716ab41727\">StackingClassifier</label><div class=\"sk-toggleable__content\"><pre>StackingClassifier(estimators=[('SVM',\n",
       "                                Pipeline(steps=[('pipeline',\n",
       "                                                 Pipeline(steps=[('data_transformer',\n",
       "                                                                  ColumnTransformer(transformers=[('numerical',\n",
       "                                                                                                   Pipeline(steps=[('imputer',\n",
       "                                                                                                                    SimpleImputer()),\n",
       "                                                                                                                   ('scaler',\n",
       "                                                                                                                    StandardScaler()),\n",
       "                                                                                                                   ('feature_selector',\n",
       "                                                                                                                    SelectKBest(k='all'))]),\n",
       "                                                                                                   ['Age',\n",
       "                                                                                                    'Height',\n",
       "                                                                                                    'Weight']),\n",
       "                                                                                                  ('categorical',\n",
       "                                                                                                   Pipeline(steps=[('imputer',\n",
       "                                                                                                                    SimpleImputer()),\n",
       "                                                                                                                   (...\n",
       "                                                               max_depth=None,\n",
       "                                                               min_child_weight=None,\n",
       "                                                               missing=nan,\n",
       "                                                               monotone_constraints=None,\n",
       "                                                               n_estimators=100,\n",
       "                                                               n_jobs=-1,\n",
       "                                                               num_parallel_tree=None,\n",
       "                                                               random_state=None,\n",
       "                                                               reg_alpha=None,\n",
       "                                                               reg_lambda=None,\n",
       "                                                               scale_pos_weight=None,\n",
       "                                                               subsample=None,\n",
       "                                                               tree_method=None,\n",
       "                                                               validate_parameters=None,\n",
       "                                                               verbosity=None))]))],\n",
       "                   final_estimator=LogisticRegression(n_jobs=-1, verbose=True),\n",
       "                   n_jobs=-1, verbose=True)</pre></div></div></div><div class=\"sk-serial\"><div class=\"sk-item\"><div class=\"sk-serial\"><div class=\"sk-item\"><div class=\"sk-parallel\"><div class=\"sk-parallel-item\"><div class=\"sk-item\"><div class=\"sk-label-container\"><div class=\"sk-label sk-toggleable\"><label>SVM</label></div></div><div class=\"sk-serial\"><div class=\"sk-item\"><div class=\"sk-serial\"><div class=\"sk-item\"><div class=\"sk-label-container\"><div class=\"sk-label sk-toggleable\"><input class=\"sk-toggleable__control sk-hidden--visually\" id=\"a949b7ca-5d46-4b04-9b07-460117c92c15\" type=\"checkbox\" ><label class=\"sk-toggleable__label\" for=\"a949b7ca-5d46-4b04-9b07-460117c92c15\">pipeline: Pipeline</label><div class=\"sk-toggleable__content\"><pre>Pipeline(steps=[('data_transformer',\n",
       "                 ColumnTransformer(transformers=[('numerical',\n",
       "                                                  Pipeline(steps=[('imputer',\n",
       "                                                                   SimpleImputer()),\n",
       "                                                                  ('scaler',\n",
       "                                                                   StandardScaler()),\n",
       "                                                                  ('feature_selector',\n",
       "                                                                   SelectKBest(k='all'))]),\n",
       "                                                  ['Age', 'Height', 'Weight']),\n",
       "                                                 ('categorical',\n",
       "                                                  Pipeline(steps=[('imputer',\n",
       "                                                                   SimpleImputer()),\n",
       "                                                                  ('onehot',\n",
       "                                                                   OneHotEncoder(handle_unknown='ignore'))]),\n",
       "                                                  ['Getting up', 'God',\n",
       "                                                   'Health', 'Borrowed stuff',\n",
       "                                                   'Self-criticism',\n",
       "                                                   'Elections',\n",
       "                                                   'Number of friends',\n",
       "                                                   'Spending on healthy eating',\n",
       "                                                   'Music', 'Movies',\n",
       "                                                   'Friends versus money',\n",
       "                                                   'Changing the past'])]))])</pre></div></div></div><div class=\"sk-serial\"><div class=\"sk-item sk-dashed-wrapped\"><div class=\"sk-label-container\"><div class=\"sk-label sk-toggleable\"><input class=\"sk-toggleable__control sk-hidden--visually\" id=\"393f509d-a7e7-489e-9a60-702edee9a3cc\" type=\"checkbox\" ><label class=\"sk-toggleable__label\" for=\"393f509d-a7e7-489e-9a60-702edee9a3cc\">data_transformer: ColumnTransformer</label><div class=\"sk-toggleable__content\"><pre>ColumnTransformer(transformers=[('numerical',\n",
       "                                 Pipeline(steps=[('imputer', SimpleImputer()),\n",
       "                                                 ('scaler', StandardScaler()),\n",
       "                                                 ('feature_selector',\n",
       "                                                  SelectKBest(k='all'))]),\n",
       "                                 ['Age', 'Height', 'Weight']),\n",
       "                                ('categorical',\n",
       "                                 Pipeline(steps=[('imputer', SimpleImputer()),\n",
       "                                                 ('onehot',\n",
       "                                                  OneHotEncoder(handle_unknown='ignore'))]),\n",
       "                                 ['Getting up', 'God', 'Health',\n",
       "                                  'Borrowed stuff', 'Self-criticism',\n",
       "                                  'Elections', 'Number of friends',\n",
       "                                  'Spending on healthy eating', 'Music',\n",
       "                                  'Movies', 'Friends versus money',\n",
       "                                  'Changing the past'])])</pre></div></div></div><div class=\"sk-parallel\"><div class=\"sk-parallel-item\"><div class=\"sk-item\"><div class=\"sk-label-container\"><div class=\"sk-label sk-toggleable\"><input class=\"sk-toggleable__control sk-hidden--visually\" id=\"e799c940-81ec-4efe-8da8-72c4b7313463\" type=\"checkbox\" ><label class=\"sk-toggleable__label\" for=\"e799c940-81ec-4efe-8da8-72c4b7313463\">numerical</label><div class=\"sk-toggleable__content\"><pre>['Age', 'Height', 'Weight']</pre></div></div></div><div class=\"sk-serial\"><div class=\"sk-item\"><div class=\"sk-serial\"><div class=\"sk-item\"><div class=\"sk-estimator sk-toggleable\"><input class=\"sk-toggleable__control sk-hidden--visually\" id=\"3e965f2f-7bfd-46a6-944c-2638af5ceb59\" type=\"checkbox\" ><label class=\"sk-toggleable__label\" for=\"3e965f2f-7bfd-46a6-944c-2638af5ceb59\">SimpleImputer</label><div class=\"sk-toggleable__content\"><pre>SimpleImputer()</pre></div></div></div><div class=\"sk-item\"><div class=\"sk-estimator sk-toggleable\"><input class=\"sk-toggleable__control sk-hidden--visually\" id=\"5bc45269-2fff-490f-9da6-6610c344cacc\" type=\"checkbox\" ><label class=\"sk-toggleable__label\" for=\"5bc45269-2fff-490f-9da6-6610c344cacc\">StandardScaler</label><div class=\"sk-toggleable__content\"><pre>StandardScaler()</pre></div></div></div><div class=\"sk-item\"><div class=\"sk-estimator sk-toggleable\"><input class=\"sk-toggleable__control sk-hidden--visually\" id=\"93a7473b-42af-46d7-8c85-b5d4240cd58c\" type=\"checkbox\" ><label class=\"sk-toggleable__label\" for=\"93a7473b-42af-46d7-8c85-b5d4240cd58c\">SelectKBest</label><div class=\"sk-toggleable__content\"><pre>SelectKBest(k='all')</pre></div></div></div></div></div></div></div></div><div class=\"sk-parallel-item\"><div class=\"sk-item\"><div class=\"sk-label-container\"><div class=\"sk-label sk-toggleable\"><input class=\"sk-toggleable__control sk-hidden--visually\" id=\"bd165883-89de-4441-8434-d36169e54607\" type=\"checkbox\" ><label class=\"sk-toggleable__label\" for=\"bd165883-89de-4441-8434-d36169e54607\">categorical</label><div class=\"sk-toggleable__content\"><pre>['Getting up', 'God', 'Health', 'Borrowed stuff', 'Self-criticism', 'Elections', 'Number of friends', 'Spending on healthy eating', 'Music', 'Movies', 'Friends versus money', 'Changing the past']</pre></div></div></div><div class=\"sk-serial\"><div class=\"sk-item\"><div class=\"sk-serial\"><div class=\"sk-item\"><div class=\"sk-estimator sk-toggleable\"><input class=\"sk-toggleable__control sk-hidden--visually\" id=\"f00be5ad-45ba-404d-ac85-c5416f7cbf02\" type=\"checkbox\" ><label class=\"sk-toggleable__label\" for=\"f00be5ad-45ba-404d-ac85-c5416f7cbf02\">SimpleImputer</label><div class=\"sk-toggleable__content\"><pre>SimpleImputer()</pre></div></div></div><div class=\"sk-item\"><div class=\"sk-estimator sk-toggleable\"><input class=\"sk-toggleable__control sk-hidden--visually\" id=\"a86ca393-8e21-4a99-b771-b3722344d856\" type=\"checkbox\" ><label class=\"sk-toggleable__label\" for=\"a86ca393-8e21-4a99-b771-b3722344d856\">OneHotEncoder</label><div class=\"sk-toggleable__content\"><pre>OneHotEncoder(handle_unknown='ignore')</pre></div></div></div></div></div></div></div></div></div></div></div></div><div class=\"sk-item\"><div class=\"sk-estimator sk-toggleable\"><input class=\"sk-toggleable__control sk-hidden--visually\" id=\"574d24c1-b05e-4495-b3c5-fb6d5aa5fca9\" type=\"checkbox\" ><label class=\"sk-toggleable__label\" for=\"574d24c1-b05e-4495-b3c5-fb6d5aa5fca9\">LinearSVC</label><div class=\"sk-toggleable__content\"><pre>LinearSVC()</pre></div></div></div></div></div></div></div></div><div class=\"sk-parallel-item\"><div class=\"sk-item\"><div class=\"sk-label-container\"><div class=\"sk-label sk-toggleable\"><label>Random_Forest</label></div></div><div class=\"sk-serial\"><div class=\"sk-item\"><div class=\"sk-serial\"><div class=\"sk-item\"><div class=\"sk-label-container\"><div class=\"sk-label sk-toggleable\"><input class=\"sk-toggleable__control sk-hidden--visually\" id=\"dc767658-8861-4965-a335-4e9d86f0c9b3\" type=\"checkbox\" ><label class=\"sk-toggleable__label\" for=\"dc767658-8861-4965-a335-4e9d86f0c9b3\">pipeline: Pipeline</label><div class=\"sk-toggleable__content\"><pre>Pipeline(steps=[('data_transformer',\n",
       "                 ColumnTransformer(transformers=[('numerical',\n",
       "                                                  Pipeline(steps=[('imputer',\n",
       "                                                                   SimpleImputer()),\n",
       "                                                                  ('scaler',\n",
       "                                                                   StandardScaler()),\n",
       "                                                                  ('feature_selector',\n",
       "                                                                   SelectKBest(k='all'))]),\n",
       "                                                  ['Age', 'Height', 'Weight']),\n",
       "                                                 ('categorical',\n",
       "                                                  Pipeline(steps=[('imputer',\n",
       "                                                                   SimpleImputer()),\n",
       "                                                                  ('onehot',\n",
       "                                                                   OneHotEncoder(handle_unknown='ignore'))]),\n",
       "                                                  ['Getting up', 'God',\n",
       "                                                   'Health', 'Borrowed stuff',\n",
       "                                                   'Self-criticism',\n",
       "                                                   'Elections',\n",
       "                                                   'Number of friends',\n",
       "                                                   'Spending on healthy eating',\n",
       "                                                   'Music', 'Movies',\n",
       "                                                   'Friends versus money',\n",
       "                                                   'Changing the past'])]))])</pre></div></div></div><div class=\"sk-serial\"><div class=\"sk-item sk-dashed-wrapped\"><div class=\"sk-label-container\"><div class=\"sk-label sk-toggleable\"><input class=\"sk-toggleable__control sk-hidden--visually\" id=\"7d89dfdb-d5ae-4ebf-9865-c704a375c850\" type=\"checkbox\" ><label class=\"sk-toggleable__label\" for=\"7d89dfdb-d5ae-4ebf-9865-c704a375c850\">data_transformer: ColumnTransformer</label><div class=\"sk-toggleable__content\"><pre>ColumnTransformer(transformers=[('numerical',\n",
       "                                 Pipeline(steps=[('imputer', SimpleImputer()),\n",
       "                                                 ('scaler', StandardScaler()),\n",
       "                                                 ('feature_selector',\n",
       "                                                  SelectKBest(k='all'))]),\n",
       "                                 ['Age', 'Height', 'Weight']),\n",
       "                                ('categorical',\n",
       "                                 Pipeline(steps=[('imputer', SimpleImputer()),\n",
       "                                                 ('onehot',\n",
       "                                                  OneHotEncoder(handle_unknown='ignore'))]),\n",
       "                                 ['Getting up', 'God', 'Health',\n",
       "                                  'Borrowed stuff', 'Self-criticism',\n",
       "                                  'Elections', 'Number of friends',\n",
       "                                  'Spending on healthy eating', 'Music',\n",
       "                                  'Movies', 'Friends versus money',\n",
       "                                  'Changing the past'])])</pre></div></div></div><div class=\"sk-parallel\"><div class=\"sk-parallel-item\"><div class=\"sk-item\"><div class=\"sk-label-container\"><div class=\"sk-label sk-toggleable\"><input class=\"sk-toggleable__control sk-hidden--visually\" id=\"f119d2e9-30ec-4672-af1f-ca9b5640583f\" type=\"checkbox\" ><label class=\"sk-toggleable__label\" for=\"f119d2e9-30ec-4672-af1f-ca9b5640583f\">numerical</label><div class=\"sk-toggleable__content\"><pre>['Age', 'Height', 'Weight']</pre></div></div></div><div class=\"sk-serial\"><div class=\"sk-item\"><div class=\"sk-serial\"><div class=\"sk-item\"><div class=\"sk-estimator sk-toggleable\"><input class=\"sk-toggleable__control sk-hidden--visually\" id=\"48923fab-878e-40e8-82a5-a7a3321346e4\" type=\"checkbox\" ><label class=\"sk-toggleable__label\" for=\"48923fab-878e-40e8-82a5-a7a3321346e4\">SimpleImputer</label><div class=\"sk-toggleable__content\"><pre>SimpleImputer()</pre></div></div></div><div class=\"sk-item\"><div class=\"sk-estimator sk-toggleable\"><input class=\"sk-toggleable__control sk-hidden--visually\" id=\"f854c912-db04-46c7-93ae-17c6e6995965\" type=\"checkbox\" ><label class=\"sk-toggleable__label\" for=\"f854c912-db04-46c7-93ae-17c6e6995965\">StandardScaler</label><div class=\"sk-toggleable__content\"><pre>StandardScaler()</pre></div></div></div><div class=\"sk-item\"><div class=\"sk-estimator sk-toggleable\"><input class=\"sk-toggleable__control sk-hidden--visually\" id=\"463d0e4a-328c-4107-a630-5be0f8421133\" type=\"checkbox\" ><label class=\"sk-toggleable__label\" for=\"463d0e4a-328c-4107-a630-5be0f8421133\">SelectKBest</label><div class=\"sk-toggleable__content\"><pre>SelectKBest(k='all')</pre></div></div></div></div></div></div></div></div><div class=\"sk-parallel-item\"><div class=\"sk-item\"><div class=\"sk-label-container\"><div class=\"sk-label sk-toggleable\"><input class=\"sk-toggleable__control sk-hidden--visually\" id=\"a3288ac3-22d9-496d-b91c-b3961de008ca\" type=\"checkbox\" ><label class=\"sk-toggleable__label\" for=\"a3288ac3-22d9-496d-b91c-b3961de008ca\">categorical</label><div class=\"sk-toggleable__content\"><pre>['Getting up', 'God', 'Health', 'Borrowed stuff', 'Self-criticism', 'Elections', 'Number of friends', 'Spending on healthy eating', 'Music', 'Movies', 'Friends versus money', 'Changing the past']</pre></div></div></div><div class=\"sk-serial\"><div class=\"sk-item\"><div class=\"sk-serial\"><div class=\"sk-item\"><div class=\"sk-estimator sk-toggleable\"><input class=\"sk-toggleable__control sk-hidden--visually\" id=\"6f6cbb1d-2e93-4d56-aaaa-b1c1993d0ffe\" type=\"checkbox\" ><label class=\"sk-toggleable__label\" for=\"6f6cbb1d-2e93-4d56-aaaa-b1c1993d0ffe\">SimpleImputer</label><div class=\"sk-toggleable__content\"><pre>SimpleImputer()</pre></div></div></div><div class=\"sk-item\"><div class=\"sk-estimator sk-toggleable\"><input class=\"sk-toggleable__control sk-hidden--visually\" id=\"cb1b3e70-ff46-423d-b232-0254e8c22200\" type=\"checkbox\" ><label class=\"sk-toggleable__label\" for=\"cb1b3e70-ff46-423d-b232-0254e8c22200\">OneHotEncoder</label><div class=\"sk-toggleable__content\"><pre>OneHotEncoder(handle_unknown='ignore')</pre></div></div></div></div></div></div></div></div></div></div></div></div><div class=\"sk-item\"><div class=\"sk-estimator sk-toggleable\"><input class=\"sk-toggleable__control sk-hidden--visually\" id=\"34e858a2-5b64-4277-83d7-4ff12e6a7504\" type=\"checkbox\" ><label class=\"sk-toggleable__label\" for=\"34e858a2-5b64-4277-83d7-4ff12e6a7504\">RandomForestClassifier</label><div class=\"sk-toggleable__content\"><pre>RandomForestClassifier(n_jobs=-1)</pre></div></div></div></div></div></div></div></div><div class=\"sk-parallel-item\"><div class=\"sk-item\"><div class=\"sk-label-container\"><div class=\"sk-label sk-toggleable\"><label>xgboost</label></div></div><div class=\"sk-serial\"><div class=\"sk-item\"><div class=\"sk-serial\"><div class=\"sk-item\"><div class=\"sk-label-container\"><div class=\"sk-label sk-toggleable\"><input class=\"sk-toggleable__control sk-hidden--visually\" id=\"706d438e-2b9b-4bc0-8336-fc9f889ed6dc\" type=\"checkbox\" ><label class=\"sk-toggleable__label\" for=\"706d438e-2b9b-4bc0-8336-fc9f889ed6dc\">pipeline: Pipeline</label><div class=\"sk-toggleable__content\"><pre>Pipeline(steps=[('data_transformer',\n",
       "                 ColumnTransformer(transformers=[('numerical',\n",
       "                                                  Pipeline(steps=[('imputer',\n",
       "                                                                   SimpleImputer()),\n",
       "                                                                  ('scaler',\n",
       "                                                                   StandardScaler()),\n",
       "                                                                  ('feature_selector',\n",
       "                                                                   SelectKBest(k='all'))]),\n",
       "                                                  ['Age', 'Height', 'Weight']),\n",
       "                                                 ('categorical',\n",
       "                                                  Pipeline(steps=[('imputer',\n",
       "                                                                   SimpleImputer()),\n",
       "                                                                  ('onehot',\n",
       "                                                                   OneHotEncoder(handle_unknown='ignore'))]),\n",
       "                                                  ['Getting up', 'God',\n",
       "                                                   'Health', 'Borrowed stuff',\n",
       "                                                   'Self-criticism',\n",
       "                                                   'Elections',\n",
       "                                                   'Number of friends',\n",
       "                                                   'Spending on healthy eating',\n",
       "                                                   'Music', 'Movies',\n",
       "                                                   'Friends versus money',\n",
       "                                                   'Changing the past'])]))])</pre></div></div></div><div class=\"sk-serial\"><div class=\"sk-item sk-dashed-wrapped\"><div class=\"sk-label-container\"><div class=\"sk-label sk-toggleable\"><input class=\"sk-toggleable__control sk-hidden--visually\" id=\"726ff3c7-926f-4920-be0b-ab9352f58df1\" type=\"checkbox\" ><label class=\"sk-toggleable__label\" for=\"726ff3c7-926f-4920-be0b-ab9352f58df1\">data_transformer: ColumnTransformer</label><div class=\"sk-toggleable__content\"><pre>ColumnTransformer(transformers=[('numerical',\n",
       "                                 Pipeline(steps=[('imputer', SimpleImputer()),\n",
       "                                                 ('scaler', StandardScaler()),\n",
       "                                                 ('feature_selector',\n",
       "                                                  SelectKBest(k='all'))]),\n",
       "                                 ['Age', 'Height', 'Weight']),\n",
       "                                ('categorical',\n",
       "                                 Pipeline(steps=[('imputer', SimpleImputer()),\n",
       "                                                 ('onehot',\n",
       "                                                  OneHotEncoder(handle_unknown='ignore'))]),\n",
       "                                 ['Getting up', 'God', 'Health',\n",
       "                                  'Borrowed stuff', 'Self-criticism',\n",
       "                                  'Elections', 'Number of friends',\n",
       "                                  'Spending on healthy eating', 'Music',\n",
       "                                  'Movies', 'Friends versus money',\n",
       "                                  'Changing the past'])])</pre></div></div></div><div class=\"sk-parallel\"><div class=\"sk-parallel-item\"><div class=\"sk-item\"><div class=\"sk-label-container\"><div class=\"sk-label sk-toggleable\"><input class=\"sk-toggleable__control sk-hidden--visually\" id=\"038a0495-eb50-42b4-a089-0112c2861041\" type=\"checkbox\" ><label class=\"sk-toggleable__label\" for=\"038a0495-eb50-42b4-a089-0112c2861041\">numerical</label><div class=\"sk-toggleable__content\"><pre>['Age', 'Height', 'Weight']</pre></div></div></div><div class=\"sk-serial\"><div class=\"sk-item\"><div class=\"sk-serial\"><div class=\"sk-item\"><div class=\"sk-estimator sk-toggleable\"><input class=\"sk-toggleable__control sk-hidden--visually\" id=\"3f31ba2f-5ca6-4e0d-9ac3-0ad0da11d552\" type=\"checkbox\" ><label class=\"sk-toggleable__label\" for=\"3f31ba2f-5ca6-4e0d-9ac3-0ad0da11d552\">SimpleImputer</label><div class=\"sk-toggleable__content\"><pre>SimpleImputer()</pre></div></div></div><div class=\"sk-item\"><div class=\"sk-estimator sk-toggleable\"><input class=\"sk-toggleable__control sk-hidden--visually\" id=\"daa16973-d689-496a-a2c0-163e2e67133f\" type=\"checkbox\" ><label class=\"sk-toggleable__label\" for=\"daa16973-d689-496a-a2c0-163e2e67133f\">StandardScaler</label><div class=\"sk-toggleable__content\"><pre>StandardScaler()</pre></div></div></div><div class=\"sk-item\"><div class=\"sk-estimator sk-toggleable\"><input class=\"sk-toggleable__control sk-hidden--visually\" id=\"a0822297-6aac-42c4-9d7b-d5bf1c41efc7\" type=\"checkbox\" ><label class=\"sk-toggleable__label\" for=\"a0822297-6aac-42c4-9d7b-d5bf1c41efc7\">SelectKBest</label><div class=\"sk-toggleable__content\"><pre>SelectKBest(k='all')</pre></div></div></div></div></div></div></div></div><div class=\"sk-parallel-item\"><div class=\"sk-item\"><div class=\"sk-label-container\"><div class=\"sk-label sk-toggleable\"><input class=\"sk-toggleable__control sk-hidden--visually\" id=\"1ec12fee-1b89-49cc-a92c-546de46bca6c\" type=\"checkbox\" ><label class=\"sk-toggleable__label\" for=\"1ec12fee-1b89-49cc-a92c-546de46bca6c\">categorical</label><div class=\"sk-toggleable__content\"><pre>['Getting up', 'God', 'Health', 'Borrowed stuff', 'Self-criticism', 'Elections', 'Number of friends', 'Spending on healthy eating', 'Music', 'Movies', 'Friends versus money', 'Changing the past']</pre></div></div></div><div class=\"sk-serial\"><div class=\"sk-item\"><div class=\"sk-serial\"><div class=\"sk-item\"><div class=\"sk-estimator sk-toggleable\"><input class=\"sk-toggleable__control sk-hidden--visually\" id=\"55c313a8-1ed1-4822-ad74-353df8341e77\" type=\"checkbox\" ><label class=\"sk-toggleable__label\" for=\"55c313a8-1ed1-4822-ad74-353df8341e77\">SimpleImputer</label><div class=\"sk-toggleable__content\"><pre>SimpleImputer()</pre></div></div></div><div class=\"sk-item\"><div class=\"sk-estimator sk-toggleable\"><input class=\"sk-toggleable__control sk-hidden--visually\" id=\"625af51e-5764-4c3c-a0d0-f55e794569d2\" type=\"checkbox\" ><label class=\"sk-toggleable__label\" for=\"625af51e-5764-4c3c-a0d0-f55e794569d2\">OneHotEncoder</label><div class=\"sk-toggleable__content\"><pre>OneHotEncoder(handle_unknown='ignore')</pre></div></div></div></div></div></div></div></div></div></div></div></div><div class=\"sk-item\"><div class=\"sk-estimator sk-toggleable\"><input class=\"sk-toggleable__control sk-hidden--visually\" id=\"3bbcd32b-7fc4-4e1b-b3b1-69011b735dcf\" type=\"checkbox\" ><label class=\"sk-toggleable__label\" for=\"3bbcd32b-7fc4-4e1b-b3b1-69011b735dcf\">XGBClassifier</label><div class=\"sk-toggleable__content\"><pre>XGBClassifier(base_score=None, booster=None, colsample_bylevel=None,\n",
       "              colsample_bynode=None, colsample_bytree=None, gamma=None,\n",
       "              gpu_id=None, importance_type='gain', interaction_constraints=None,\n",
       "              learning_rate=None, max_delta_step=None, max_depth=None,\n",
       "              min_child_weight=None, missing=nan, monotone_constraints=None,\n",
       "              n_estimators=100, n_jobs=-1, num_parallel_tree=None,\n",
       "              random_state=None, reg_alpha=None, reg_lambda=None,\n",
       "              scale_pos_weight=None, subsample=None, tree_method=None,\n",
       "              validate_parameters=None, verbosity=None)</pre></div></div></div></div></div></div></div></div></div></div><div class=\"sk-item\"><div class=\"sk-estimator sk-toggleable\"><input class=\"sk-toggleable__control sk-hidden--visually\" id=\"0142925d-2b5c-4a02-acef-955552c4793e\" type=\"checkbox\" ><label class=\"sk-toggleable__label\" for=\"0142925d-2b5c-4a02-acef-955552c4793e\">LogisticRegression</label><div class=\"sk-toggleable__content\"><pre>LogisticRegression(n_jobs=-1, verbose=True)</pre></div></div></div></div></div></div></div></div></div>"
      ],
      "text/plain": [
       "StackingClassifier(estimators=[('SVM',\n",
       "                                Pipeline(steps=[('pipeline',\n",
       "                                                 Pipeline(steps=[('data_transformer',\n",
       "                                                                  ColumnTransformer(transformers=[('numerical',\n",
       "                                                                                                   Pipeline(steps=[('imputer',\n",
       "                                                                                                                    SimpleImputer()),\n",
       "                                                                                                                   ('scaler',\n",
       "                                                                                                                    StandardScaler()),\n",
       "                                                                                                                   ('feature_selector',\n",
       "                                                                                                                    SelectKBest(k='all'))]),\n",
       "                                                                                                   ['Age',\n",
       "                                                                                                    'Height',\n",
       "                                                                                                    'Weight']),\n",
       "                                                                                                  ('categorical',\n",
       "                                                                                                   Pipeline(steps=[('imputer',\n",
       "                                                                                                                    SimpleImputer()),\n",
       "                                                                                                                   (...\n",
       "                                                               max_depth=None,\n",
       "                                                               min_child_weight=None,\n",
       "                                                               missing=nan,\n",
       "                                                               monotone_constraints=None,\n",
       "                                                               n_estimators=100,\n",
       "                                                               n_jobs=-1,\n",
       "                                                               num_parallel_tree=None,\n",
       "                                                               random_state=None,\n",
       "                                                               reg_alpha=None,\n",
       "                                                               reg_lambda=None,\n",
       "                                                               scale_pos_weight=None,\n",
       "                                                               subsample=None,\n",
       "                                                               tree_method=None,\n",
       "                                                               validate_parameters=None,\n",
       "                                                               verbosity=None))]))],\n",
       "                   final_estimator=LogisticRegression(n_jobs=-1, verbose=True),\n",
       "                   n_jobs=-1, verbose=True)"
      ]
     },
     "execution_count": 56,
     "metadata": {},
     "output_type": "execute_result"
    }
   ],
   "source": [
    "stacking_classifier.fit(data[interesting_features], data[target])\n"
   ]
  },
  {
   "cell_type": "code",
   "execution_count": 57,
   "metadata": {
    "ExecuteTime": {
     "end_time": "2022-04-18T19:21:22.529874Z",
     "start_time": "2022-04-18T19:21:22.436335Z"
    }
   },
   "outputs": [
    {
     "name": "stdout",
     "output_type": "stream",
     "text": [
      "              precision    recall  f1-score   support\n",
      "\n",
      "          -1       0.97      0.88      0.92       355\n",
      "           0       0.92      1.00      0.96       509\n",
      "           1       1.00      0.95      0.97       146\n",
      "\n",
      "    accuracy                           0.95      1010\n",
      "   macro avg       0.97      0.94      0.95      1010\n",
      "weighted avg       0.95      0.95      0.95      1010\n",
      "\n"
     ]
    }
   ],
   "source": [
    "preds = stacking_classifier.predict(data[interesting_features])\n",
    "\n",
    "print(classification_report(data[target], preds))"
   ]
  },
  {
   "cell_type": "markdown",
   "metadata": {},
   "source": [
    "# Гибкость паплайна"
   ]
  },
  {
   "cell_type": "code",
   "execution_count": 58,
   "metadata": {
    "ExecuteTime": {
     "end_time": "2022-04-18T19:21:22.545876Z",
     "start_time": "2022-04-18T19:21:22.530875Z"
    }
   },
   "outputs": [],
   "source": [
    "# stacking_classifier.estimators[0][1][0].steps[0][1].transformers[0][1].steps[2][1].k"
   ]
  },
  {
   "cell_type": "code",
   "execution_count": null,
   "metadata": {},
   "outputs": [],
   "source": []
  },
  {
   "cell_type": "code",
   "execution_count": null,
   "metadata": {},
   "outputs": [],
   "source": []
  },
  {
   "cell_type": "markdown",
   "metadata": {},
   "source": [
    "# Как сохранить всю эту махину?"
   ]
  },
  {
   "cell_type": "code",
   "execution_count": 59,
   "metadata": {
    "ExecuteTime": {
     "end_time": "2022-04-18T19:21:22.561877Z",
     "start_time": "2022-04-18T19:21:22.546876Z"
    }
   },
   "outputs": [],
   "source": [
    "# Для сериализации моделей\n",
    "import pickle"
   ]
  },
  {
   "cell_type": "code",
   "execution_count": 60,
   "metadata": {
    "ExecuteTime": {
     "end_time": "2022-04-18T19:21:22.673232Z",
     "start_time": "2022-04-18T19:21:22.562878Z"
    }
   },
   "outputs": [],
   "source": [
    "with open(\"owesome_pipeline.pkl\", \"wb\") as f:\n",
    "    pickle.dump(stacking_classifier, f)"
   ]
  },
  {
   "cell_type": "code",
   "execution_count": null,
   "metadata": {},
   "outputs": [],
   "source": []
  },
  {
   "cell_type": "markdown",
   "metadata": {},
   "source": [
    "# Импорт модели"
   ]
  },
  {
   "cell_type": "code",
   "execution_count": 61,
   "metadata": {
    "ExecuteTime": {
     "end_time": "2022-04-18T19:21:22.783637Z",
     "start_time": "2022-04-18T19:21:22.674233Z"
    }
   },
   "outputs": [],
   "source": [
    "with open(\"owesome_pipeline.pkl\", 'rb') as f:\n",
    "    pipeline_from_saved = pickle.load(f)"
   ]
  },
  {
   "cell_type": "code",
   "execution_count": null,
   "metadata": {},
   "outputs": [],
   "source": []
  },
  {
   "cell_type": "code",
   "execution_count": 62,
   "metadata": {
    "ExecuteTime": {
     "end_time": "2022-04-18T19:21:25.841522Z",
     "start_time": "2022-04-18T19:21:22.785642Z"
    }
   },
   "outputs": [
    {
     "name": "stdout",
     "output_type": "stream",
     "text": [
      "              precision    recall  f1-score   support\n",
      "\n",
      "          -1       0.60      0.37      0.46        71\n",
      "           0       0.59      0.88      0.71       102\n",
      "           1       1.00      0.24      0.39        29\n",
      "\n",
      "    accuracy                           0.61       202\n",
      "   macro avg       0.73      0.50      0.52       202\n",
      "weighted avg       0.66      0.61      0.57       202\n",
      "\n"
     ]
    },
    {
     "name": "stderr",
     "output_type": "stream",
     "text": [
      "[Parallel(n_jobs=-1)]: Using backend LokyBackend with 8 concurrent workers.\n",
      "[Parallel(n_jobs=-1)]: Done   1 out of   1 | elapsed:    0.0s finished\n"
     ]
    }
   ],
   "source": [
    "pipeline_from_saved.fit(data_train, data_train[target])\n",
    "preds = pipeline_from_saved.predict(data_test)\n",
    "print(classification_report(data_test[target], preds))"
   ]
  },
  {
   "cell_type": "code",
   "execution_count": null,
   "metadata": {},
   "outputs": [],
   "source": []
  },
  {
   "cell_type": "code",
   "execution_count": null,
   "metadata": {},
   "outputs": [],
   "source": []
  },
  {
   "cell_type": "code",
   "execution_count": null,
   "metadata": {},
   "outputs": [],
   "source": []
  },
  {
   "cell_type": "code",
   "execution_count": null,
   "metadata": {},
   "outputs": [],
   "source": []
  },
  {
   "cell_type": "code",
   "execution_count": null,
   "metadata": {},
   "outputs": [],
   "source": []
  },
  {
   "cell_type": "markdown",
   "metadata": {},
   "source": [
    "# Что дальше?"
   ]
  },
  {
   "cell_type": "markdown",
   "metadata": {},
   "source": [
    "<div class=\"alert alert-success\">\n",
    "    \n",
    "* Признаки бывают разные\n",
    "* Предобработка бывает сложнее\n",
    "* Генерация новых признаков"
   ]
  },
  {
   "cell_type": "code",
   "execution_count": null,
   "metadata": {},
   "outputs": [],
   "source": []
  },
  {
   "cell_type": "code",
   "execution_count": null,
   "metadata": {},
   "outputs": [],
   "source": []
  },
  {
   "cell_type": "code",
   "execution_count": null,
   "metadata": {},
   "outputs": [],
   "source": []
  },
  {
   "cell_type": "code",
   "execution_count": null,
   "metadata": {},
   "outputs": [],
   "source": []
  },
  {
   "cell_type": "code",
   "execution_count": null,
   "metadata": {},
   "outputs": [],
   "source": []
  },
  {
   "cell_type": "code",
   "execution_count": null,
   "metadata": {},
   "outputs": [],
   "source": []
  },
  {
   "cell_type": "code",
   "execution_count": null,
   "metadata": {},
   "outputs": [],
   "source": []
  },
  {
   "cell_type": "code",
   "execution_count": null,
   "metadata": {},
   "outputs": [],
   "source": []
  },
  {
   "cell_type": "code",
   "execution_count": null,
   "metadata": {},
   "outputs": [],
   "source": []
  },
  {
   "cell_type": "markdown",
   "metadata": {},
   "source": [
    "<p style=\"align: center;\"><img align=center src=\"./images/Industrial-Pipeline-Cleaning.jpg\"  width=1000></p>"
   ]
  },
  {
   "cell_type": "code",
   "execution_count": 63,
   "metadata": {
    "ExecuteTime": {
     "end_time": "2022-04-18T19:21:25.857521Z",
     "start_time": "2022-04-18T19:21:25.843521Z"
    }
   },
   "outputs": [
    {
     "data": {
      "text/html": [
       "<style>.container { width:80% !important; }</style>"
      ],
      "text/plain": [
       "<IPython.core.display.HTML object>"
      ]
     },
     "metadata": {},
     "output_type": "display_data"
    }
   ],
   "source": [
    "import pandas as pd\n",
    "import numpy as np\n",
    "\n",
    "# Пара библиотек для визуализации\n",
    "import matplotlib.pyplot as plt\n",
    "import seaborn as sns\n",
    "%matplotlib inline\n",
    "\n",
    "\n",
    "from IPython.core.display import display, HTML\n",
    "display(HTML(\"<style>.container { width:80% !important; }</style>\"))\n",
    "\n",
    "import sklearn\n",
    "sklearn.set_config(display='diagram') # Подключим визуал\n",
    "\n",
    "import warnings\n",
    "warnings.filterwarnings(\"ignore\")"
   ]
  },
  {
   "cell_type": "markdown",
   "metadata": {},
   "source": [
    "# Кастомизированные опции"
   ]
  },
  {
   "cell_type": "code",
   "execution_count": 64,
   "metadata": {
    "ExecuteTime": {
     "end_time": "2022-04-18T19:21:25.873521Z",
     "start_time": "2022-04-18T19:21:25.859523Z"
    }
   },
   "outputs": [],
   "source": [
    "# Гости этого вечера. Нужные нам фрагменты для сборки пайплайна, они пригодятся нам позже\n",
    "\n",
    "# from sklearn.pipeline import (\n",
    "#     _fit_transform_one,\n",
    "#     _transform_one,\n",
    "# )\n",
    "\n",
    "# И уже знакомые нам части \n",
    "from sklearn.pipeline import Pipeline, FeatureUnion, make_pipeline\n",
    "from sklearn.compose import ColumnTransformer, make_column_selector"
   ]
  },
  {
   "cell_type": "code",
   "execution_count": null,
   "metadata": {},
   "outputs": [],
   "source": []
  },
  {
   "cell_type": "code",
   "execution_count": 65,
   "metadata": {
    "ExecuteTime": {
     "end_time": "2022-04-18T19:21:26.673499Z",
     "start_time": "2022-04-18T19:21:25.875524Z"
    }
   },
   "outputs": [
    {
     "data": {
      "text/html": [
       "<div>\n",
       "<style scoped>\n",
       "    .dataframe tbody tr th:only-of-type {\n",
       "        vertical-align: middle;\n",
       "    }\n",
       "\n",
       "    .dataframe tbody tr th {\n",
       "        vertical-align: top;\n",
       "    }\n",
       "\n",
       "    .dataframe thead th {\n",
       "        text-align: right;\n",
       "    }\n",
       "</style>\n",
       "<table border=\"1\" class=\"dataframe\">\n",
       "  <thead>\n",
       "    <tr style=\"text-align: right;\">\n",
       "      <th></th>\n",
       "      <th>Music</th>\n",
       "      <th>Slow songs or fast songs</th>\n",
       "      <th>Dance</th>\n",
       "      <th>Folk</th>\n",
       "      <th>Country</th>\n",
       "      <th>Classical music</th>\n",
       "      <th>Musical</th>\n",
       "      <th>Pop</th>\n",
       "      <th>Rock</th>\n",
       "      <th>Metal or Hardrock</th>\n",
       "      <th>...</th>\n",
       "      <th>Age</th>\n",
       "      <th>Height</th>\n",
       "      <th>Weight</th>\n",
       "      <th>Number of siblings</th>\n",
       "      <th>Gender</th>\n",
       "      <th>Left - right handed</th>\n",
       "      <th>Education</th>\n",
       "      <th>Only child</th>\n",
       "      <th>Village - town</th>\n",
       "      <th>House - block of flats</th>\n",
       "    </tr>\n",
       "  </thead>\n",
       "  <tbody>\n",
       "    <tr>\n",
       "      <th>0</th>\n",
       "      <td>5.0</td>\n",
       "      <td>3.0</td>\n",
       "      <td>2.0</td>\n",
       "      <td>1.0</td>\n",
       "      <td>2.0</td>\n",
       "      <td>2.0</td>\n",
       "      <td>1.0</td>\n",
       "      <td>5.0</td>\n",
       "      <td>5.0</td>\n",
       "      <td>1.0</td>\n",
       "      <td>...</td>\n",
       "      <td>20.0</td>\n",
       "      <td>163.0</td>\n",
       "      <td>48.0</td>\n",
       "      <td>1.0</td>\n",
       "      <td>female</td>\n",
       "      <td>right handed</td>\n",
       "      <td>college/bachelor degree</td>\n",
       "      <td>no</td>\n",
       "      <td>village</td>\n",
       "      <td>block of flats</td>\n",
       "    </tr>\n",
       "    <tr>\n",
       "      <th>1</th>\n",
       "      <td>4.0</td>\n",
       "      <td>4.0</td>\n",
       "      <td>2.0</td>\n",
       "      <td>1.0</td>\n",
       "      <td>1.0</td>\n",
       "      <td>1.0</td>\n",
       "      <td>2.0</td>\n",
       "      <td>3.0</td>\n",
       "      <td>5.0</td>\n",
       "      <td>4.0</td>\n",
       "      <td>...</td>\n",
       "      <td>19.0</td>\n",
       "      <td>163.0</td>\n",
       "      <td>58.0</td>\n",
       "      <td>2.0</td>\n",
       "      <td>female</td>\n",
       "      <td>right handed</td>\n",
       "      <td>college/bachelor degree</td>\n",
       "      <td>no</td>\n",
       "      <td>city</td>\n",
       "      <td>block of flats</td>\n",
       "    </tr>\n",
       "    <tr>\n",
       "      <th>2</th>\n",
       "      <td>5.0</td>\n",
       "      <td>5.0</td>\n",
       "      <td>2.0</td>\n",
       "      <td>2.0</td>\n",
       "      <td>3.0</td>\n",
       "      <td>4.0</td>\n",
       "      <td>5.0</td>\n",
       "      <td>3.0</td>\n",
       "      <td>5.0</td>\n",
       "      <td>3.0</td>\n",
       "      <td>...</td>\n",
       "      <td>20.0</td>\n",
       "      <td>176.0</td>\n",
       "      <td>67.0</td>\n",
       "      <td>2.0</td>\n",
       "      <td>female</td>\n",
       "      <td>right handed</td>\n",
       "      <td>secondary school</td>\n",
       "      <td>no</td>\n",
       "      <td>city</td>\n",
       "      <td>block of flats</td>\n",
       "    </tr>\n",
       "  </tbody>\n",
       "</table>\n",
       "<p>3 rows × 150 columns</p>\n",
       "</div>"
      ],
      "text/plain": [
       "   Music  Slow songs or fast songs  Dance  Folk  Country  Classical music  \\\n",
       "0    5.0                       3.0    2.0   1.0      2.0              2.0   \n",
       "1    4.0                       4.0    2.0   1.0      1.0              1.0   \n",
       "2    5.0                       5.0    2.0   2.0      3.0              4.0   \n",
       "\n",
       "   Musical  Pop  Rock  Metal or Hardrock  ...   Age  Height  Weight  \\\n",
       "0      1.0  5.0   5.0                1.0  ...  20.0   163.0    48.0   \n",
       "1      2.0  3.0   5.0                4.0  ...  19.0   163.0    58.0   \n",
       "2      5.0  3.0   5.0                3.0  ...  20.0   176.0    67.0   \n",
       "\n",
       "   Number of siblings  Gender  Left - right handed                Education  \\\n",
       "0                 1.0  female         right handed  college/bachelor degree   \n",
       "1                 2.0  female         right handed  college/bachelor degree   \n",
       "2                 2.0  female         right handed         secondary school   \n",
       "\n",
       "   Only child  Village - town  House - block of flats  \n",
       "0          no         village          block of flats  \n",
       "1          no            city          block of flats  \n",
       "2          no            city          block of flats  \n",
       "\n",
       "[3 rows x 150 columns]"
      ]
     },
     "execution_count": 65,
     "metadata": {},
     "output_type": "execute_result"
    }
   ],
   "source": [
    "file_path = 'https://raw.githubusercontent.com/a-milenkin/Datasetes_for_Piplines/main/responses.csv'\n",
    "data = pd.read_csv(file_path)\n",
    "data.head(3)"
   ]
  },
  {
   "cell_type": "markdown",
   "metadata": {},
   "source": [
    "<div class=\"alert alert-info\">\n",
    "\n",
    "<b>Про датасет </b>\n",
    "\n",
    "\n",
    "    \n",
    "Приведеные результаты опроса молодежи до 21-го года по тому, какие вещи делют их счастливыми по 5-й шкале\n",
    "    \n",
    "</div>\n"
   ]
  },
  {
   "cell_type": "markdown",
   "metadata": {},
   "source": [
    "<div class=\"alert alert-info\">\n",
    "\n",
    "<b>Про Задачу </b>\n",
    "\n",
    "Попробуем классифицировать людей по оценкам уровня счастья\n",
    "    \n",
    "</div>\n"
   ]
  },
  {
   "cell_type": "code",
   "execution_count": 66,
   "metadata": {
    "ExecuteTime": {
     "end_time": "2022-04-18T19:21:26.848987Z",
     "start_time": "2022-04-18T19:21:26.675498Z"
    }
   },
   "outputs": [
    {
     "data": {
      "image/png": "[encoded data removed]",
      "text/plain": [
       "<Figure size 432x288 with 1 Axes>"
      ]
     },
     "metadata": {
      "needs_background": "light"
     },
     "output_type": "display_data"
    }
   ],
   "source": [
    "# Сбалансируем немного классы\n",
    "\n",
    "def happiness_score(x):\n",
    "    if x < 4:\n",
    "        return -1\n",
    "    elif x == 4.0:\n",
    "        return 0\n",
    "    else:\n",
    "        return 1\n",
    "    \n",
    "data[\"Happiness in life\"] = data[\"Happiness in life\"].apply(happiness_score)"
   ]
  },
  {
   "cell_type": "markdown",
   "metadata": {},
   "source": [
    "# Классификаций признаков на типы - df.select_dtypes"
   ]
  },
  {
   "cell_type": "code",
   "execution_count": 67,
   "metadata": {
    "ExecuteTime": {
     "end_time": "2022-04-18T19:21:26.880990Z",
     "start_time": "2022-04-18T19:21:26.851992Z"
    }
   },
   "outputs": [
    {
     "name": "stdout",
     "output_type": "stream",
     "text": [
      "<class 'pandas.core.frame.DataFrame'>\n",
      "RangeIndex: 1010 entries, 0 to 1009\n",
      "Data columns (total 11 columns):\n",
      " #   Column                  Non-Null Count  Dtype \n",
      "---  ------                  --------------  ----- \n",
      " 0   Smoking                 1002 non-null   object\n",
      " 1   Alcohol                 1005 non-null   object\n",
      " 2   Punctuality             1008 non-null   object\n",
      " 3   Lying                   1008 non-null   object\n",
      " 4   Internet usage          1010 non-null   object\n",
      " 5   Gender                  1004 non-null   object\n",
      " 6   Left - right handed     1007 non-null   object\n",
      " 7   Education               1009 non-null   object\n",
      " 8   Only child              1008 non-null   object\n",
      " 9   Village - town          1006 non-null   object\n",
      " 10  House - block of flats  1006 non-null   object\n",
      "dtypes: object(11)\n",
      "memory usage: 86.9+ KB\n"
     ]
    }
   ],
   "source": [
    "data.select_dtypes(exclude = ['int', 'float']).info()  # include"
   ]
  },
  {
   "cell_type": "code",
   "execution_count": 68,
   "metadata": {
    "ExecuteTime": {
     "end_time": "2022-04-18T19:21:26.928187Z",
     "start_time": "2022-04-18T19:21:26.881991Z"
    }
   },
   "outputs": [
    {
     "data": {
      "text/html": [
       "<div>\n",
       "<style scoped>\n",
       "    .dataframe tbody tr th:only-of-type {\n",
       "        vertical-align: middle;\n",
       "    }\n",
       "\n",
       "    .dataframe tbody tr th {\n",
       "        vertical-align: top;\n",
       "    }\n",
       "\n",
       "    .dataframe thead th {\n",
       "        text-align: right;\n",
       "    }\n",
       "</style>\n",
       "<table border=\"1\" class=\"dataframe\">\n",
       "  <thead>\n",
       "    <tr style=\"text-align: right;\">\n",
       "      <th></th>\n",
       "      <th>Music</th>\n",
       "      <th>Slow songs or fast songs</th>\n",
       "      <th>Dance</th>\n",
       "      <th>Folk</th>\n",
       "      <th>Country</th>\n",
       "      <th>Classical music</th>\n",
       "      <th>Musical</th>\n",
       "      <th>Pop</th>\n",
       "      <th>Rock</th>\n",
       "      <th>Metal or Hardrock</th>\n",
       "      <th>...</th>\n",
       "      <th>Shopping centres</th>\n",
       "      <th>Branded clothing</th>\n",
       "      <th>Entertainment spending</th>\n",
       "      <th>Spending on looks</th>\n",
       "      <th>Spending on gadgets</th>\n",
       "      <th>Spending on healthy eating</th>\n",
       "      <th>Age</th>\n",
       "      <th>Height</th>\n",
       "      <th>Weight</th>\n",
       "      <th>Number of siblings</th>\n",
       "    </tr>\n",
       "  </thead>\n",
       "  <tbody>\n",
       "    <tr>\n",
       "      <th>0</th>\n",
       "      <td>5.0</td>\n",
       "      <td>3.0</td>\n",
       "      <td>2.0</td>\n",
       "      <td>1.0</td>\n",
       "      <td>2.0</td>\n",
       "      <td>2.0</td>\n",
       "      <td>1.0</td>\n",
       "      <td>5.0</td>\n",
       "      <td>5.0</td>\n",
       "      <td>1.0</td>\n",
       "      <td>...</td>\n",
       "      <td>4.0</td>\n",
       "      <td>5.0</td>\n",
       "      <td>3.0</td>\n",
       "      <td>3.0</td>\n",
       "      <td>1</td>\n",
       "      <td>3.0</td>\n",
       "      <td>20.0</td>\n",
       "      <td>163.0</td>\n",
       "      <td>48.0</td>\n",
       "      <td>1.0</td>\n",
       "    </tr>\n",
       "    <tr>\n",
       "      <th>1</th>\n",
       "      <td>4.0</td>\n",
       "      <td>4.0</td>\n",
       "      <td>2.0</td>\n",
       "      <td>1.0</td>\n",
       "      <td>1.0</td>\n",
       "      <td>1.0</td>\n",
       "      <td>2.0</td>\n",
       "      <td>3.0</td>\n",
       "      <td>5.0</td>\n",
       "      <td>4.0</td>\n",
       "      <td>...</td>\n",
       "      <td>4.0</td>\n",
       "      <td>1.0</td>\n",
       "      <td>4.0</td>\n",
       "      <td>2.0</td>\n",
       "      <td>5</td>\n",
       "      <td>2.0</td>\n",
       "      <td>19.0</td>\n",
       "      <td>163.0</td>\n",
       "      <td>58.0</td>\n",
       "      <td>2.0</td>\n",
       "    </tr>\n",
       "    <tr>\n",
       "      <th>2</th>\n",
       "      <td>5.0</td>\n",
       "      <td>5.0</td>\n",
       "      <td>2.0</td>\n",
       "      <td>2.0</td>\n",
       "      <td>3.0</td>\n",
       "      <td>4.0</td>\n",
       "      <td>5.0</td>\n",
       "      <td>3.0</td>\n",
       "      <td>5.0</td>\n",
       "      <td>3.0</td>\n",
       "      <td>...</td>\n",
       "      <td>4.0</td>\n",
       "      <td>1.0</td>\n",
       "      <td>4.0</td>\n",
       "      <td>3.0</td>\n",
       "      <td>4</td>\n",
       "      <td>2.0</td>\n",
       "      <td>20.0</td>\n",
       "      <td>176.0</td>\n",
       "      <td>67.0</td>\n",
       "      <td>2.0</td>\n",
       "    </tr>\n",
       "    <tr>\n",
       "      <th>3</th>\n",
       "      <td>5.0</td>\n",
       "      <td>3.0</td>\n",
       "      <td>2.0</td>\n",
       "      <td>1.0</td>\n",
       "      <td>1.0</td>\n",
       "      <td>1.0</td>\n",
       "      <td>1.0</td>\n",
       "      <td>2.0</td>\n",
       "      <td>2.0</td>\n",
       "      <td>1.0</td>\n",
       "      <td>...</td>\n",
       "      <td>4.0</td>\n",
       "      <td>3.0</td>\n",
       "      <td>3.0</td>\n",
       "      <td>4.0</td>\n",
       "      <td>4</td>\n",
       "      <td>1.0</td>\n",
       "      <td>22.0</td>\n",
       "      <td>172.0</td>\n",
       "      <td>59.0</td>\n",
       "      <td>1.0</td>\n",
       "    </tr>\n",
       "    <tr>\n",
       "      <th>4</th>\n",
       "      <td>5.0</td>\n",
       "      <td>3.0</td>\n",
       "      <td>4.0</td>\n",
       "      <td>3.0</td>\n",
       "      <td>2.0</td>\n",
       "      <td>4.0</td>\n",
       "      <td>3.0</td>\n",
       "      <td>5.0</td>\n",
       "      <td>3.0</td>\n",
       "      <td>1.0</td>\n",
       "      <td>...</td>\n",
       "      <td>3.0</td>\n",
       "      <td>4.0</td>\n",
       "      <td>3.0</td>\n",
       "      <td>3.0</td>\n",
       "      <td>2</td>\n",
       "      <td>4.0</td>\n",
       "      <td>20.0</td>\n",
       "      <td>170.0</td>\n",
       "      <td>59.0</td>\n",
       "      <td>1.0</td>\n",
       "    </tr>\n",
       "  </tbody>\n",
       "</table>\n",
       "<p>5 rows × 139 columns</p>\n",
       "</div>"
      ],
      "text/plain": [
       "   Music  Slow songs or fast songs  Dance  Folk  Country  Classical music  \\\n",
       "0    5.0                       3.0    2.0   1.0      2.0              2.0   \n",
       "1    4.0                       4.0    2.0   1.0      1.0              1.0   \n",
       "2    5.0                       5.0    2.0   2.0      3.0              4.0   \n",
       "3    5.0                       3.0    2.0   1.0      1.0              1.0   \n",
       "4    5.0                       3.0    4.0   3.0      2.0              4.0   \n",
       "\n",
       "   Musical  Pop  Rock  Metal or Hardrock  ...  Shopping centres  \\\n",
       "0      1.0  5.0   5.0                1.0  ...               4.0   \n",
       "1      2.0  3.0   5.0                4.0  ...               4.0   \n",
       "2      5.0  3.0   5.0                3.0  ...               4.0   \n",
       "3      1.0  2.0   2.0                1.0  ...               4.0   \n",
       "4      3.0  5.0   3.0                1.0  ...               3.0   \n",
       "\n",
       "   Branded clothing  Entertainment spending  Spending on looks  \\\n",
       "0               5.0                     3.0                3.0   \n",
       "1               1.0                     4.0                2.0   \n",
       "2               1.0                     4.0                3.0   \n",
       "3               3.0                     3.0                4.0   \n",
       "4               4.0                     3.0                3.0   \n",
       "\n",
       "   Spending on gadgets  Spending on healthy eating   Age  Height  Weight  \\\n",
       "0                    1                         3.0  20.0   163.0    48.0   \n",
       "1                    5                         2.0  19.0   163.0    58.0   \n",
       "2                    4                         2.0  20.0   176.0    67.0   \n",
       "3                    4                         1.0  22.0   172.0    59.0   \n",
       "4                    2                         4.0  20.0   170.0    59.0   \n",
       "\n",
       "   Number of siblings  \n",
       "0                 1.0  \n",
       "1                 2.0  \n",
       "2                 2.0  \n",
       "3                 1.0  \n",
       "4                 1.0  \n",
       "\n",
       "[5 rows x 139 columns]"
      ]
     },
     "execution_count": 68,
     "metadata": {},
     "output_type": "execute_result"
    }
   ],
   "source": [
    "numerical_features = data.select_dtypes(include=[\"int\", \"float\"]).columns.to_list()\n",
    "\n",
    "data[numerical_features].head()"
   ]
  },
  {
   "cell_type": "code",
   "execution_count": 69,
   "metadata": {
    "ExecuteTime": {
     "end_time": "2022-04-18T19:21:26.960189Z",
     "start_time": "2022-04-18T19:21:26.930190Z"
    }
   },
   "outputs": [
    {
     "data": {
      "text/html": [
       "<div>\n",
       "<style scoped>\n",
       "    .dataframe tbody tr th:only-of-type {\n",
       "        vertical-align: middle;\n",
       "    }\n",
       "\n",
       "    .dataframe tbody tr th {\n",
       "        vertical-align: top;\n",
       "    }\n",
       "\n",
       "    .dataframe thead th {\n",
       "        text-align: right;\n",
       "    }\n",
       "</style>\n",
       "<table border=\"1\" class=\"dataframe\">\n",
       "  <thead>\n",
       "    <tr style=\"text-align: right;\">\n",
       "      <th></th>\n",
       "      <th>Smoking</th>\n",
       "      <th>Alcohol</th>\n",
       "      <th>Punctuality</th>\n",
       "      <th>Lying</th>\n",
       "      <th>Internet usage</th>\n",
       "      <th>Gender</th>\n",
       "      <th>Left - right handed</th>\n",
       "      <th>Education</th>\n",
       "      <th>Only child</th>\n",
       "      <th>Village - town</th>\n",
       "      <th>House - block of flats</th>\n",
       "    </tr>\n",
       "  </thead>\n",
       "  <tbody>\n",
       "    <tr>\n",
       "      <th>0</th>\n",
       "      <td>never smoked</td>\n",
       "      <td>drink a lot</td>\n",
       "      <td>i am always on time</td>\n",
       "      <td>never</td>\n",
       "      <td>few hours a day</td>\n",
       "      <td>female</td>\n",
       "      <td>right handed</td>\n",
       "      <td>college/bachelor degree</td>\n",
       "      <td>no</td>\n",
       "      <td>village</td>\n",
       "      <td>block of flats</td>\n",
       "    </tr>\n",
       "    <tr>\n",
       "      <th>1</th>\n",
       "      <td>never smoked</td>\n",
       "      <td>drink a lot</td>\n",
       "      <td>i am often early</td>\n",
       "      <td>sometimes</td>\n",
       "      <td>few hours a day</td>\n",
       "      <td>female</td>\n",
       "      <td>right handed</td>\n",
       "      <td>college/bachelor degree</td>\n",
       "      <td>no</td>\n",
       "      <td>city</td>\n",
       "      <td>block of flats</td>\n",
       "    </tr>\n",
       "    <tr>\n",
       "      <th>2</th>\n",
       "      <td>tried smoking</td>\n",
       "      <td>drink a lot</td>\n",
       "      <td>i am often running late</td>\n",
       "      <td>sometimes</td>\n",
       "      <td>few hours a day</td>\n",
       "      <td>female</td>\n",
       "      <td>right handed</td>\n",
       "      <td>secondary school</td>\n",
       "      <td>no</td>\n",
       "      <td>city</td>\n",
       "      <td>block of flats</td>\n",
       "    </tr>\n",
       "    <tr>\n",
       "      <th>3</th>\n",
       "      <td>former smoker</td>\n",
       "      <td>drink a lot</td>\n",
       "      <td>i am often early</td>\n",
       "      <td>only to avoid hurting someone</td>\n",
       "      <td>most of the day</td>\n",
       "      <td>female</td>\n",
       "      <td>right handed</td>\n",
       "      <td>college/bachelor degree</td>\n",
       "      <td>yes</td>\n",
       "      <td>city</td>\n",
       "      <td>house/bungalow</td>\n",
       "    </tr>\n",
       "    <tr>\n",
       "      <th>4</th>\n",
       "      <td>tried smoking</td>\n",
       "      <td>social drinker</td>\n",
       "      <td>i am always on time</td>\n",
       "      <td>everytime it suits me</td>\n",
       "      <td>few hours a day</td>\n",
       "      <td>female</td>\n",
       "      <td>right handed</td>\n",
       "      <td>secondary school</td>\n",
       "      <td>no</td>\n",
       "      <td>village</td>\n",
       "      <td>house/bungalow</td>\n",
       "    </tr>\n",
       "  </tbody>\n",
       "</table>\n",
       "</div>"
      ],
      "text/plain": [
       "         Smoking         Alcohol              Punctuality  \\\n",
       "0   never smoked     drink a lot      i am always on time   \n",
       "1   never smoked     drink a lot         i am often early   \n",
       "2  tried smoking     drink a lot  i am often running late   \n",
       "3  former smoker     drink a lot         i am often early   \n",
       "4  tried smoking  social drinker      i am always on time   \n",
       "\n",
       "                           Lying   Internet usage  Gender Left - right handed  \\\n",
       "0                          never  few hours a day  female        right handed   \n",
       "1                      sometimes  few hours a day  female        right handed   \n",
       "2                      sometimes  few hours a day  female        right handed   \n",
       "3  only to avoid hurting someone  most of the day  female        right handed   \n",
       "4          everytime it suits me  few hours a day  female        right handed   \n",
       "\n",
       "                 Education Only child Village - town House - block of flats  \n",
       "0  college/bachelor degree         no        village         block of flats  \n",
       "1  college/bachelor degree         no           city         block of flats  \n",
       "2         secondary school         no           city         block of flats  \n",
       "3  college/bachelor degree        yes           city         house/bungalow  \n",
       "4         secondary school         no        village         house/bungalow  "
      ]
     },
     "execution_count": 69,
     "metadata": {},
     "output_type": "execute_result"
    }
   ],
   "source": [
    "data.select_dtypes(exclude=[\"int\", \"float\"]).head()"
   ]
  },
  {
   "cell_type": "code",
   "execution_count": 70,
   "metadata": {
    "ExecuteTime": {
     "end_time": "2022-04-18T19:21:27.103363Z",
     "start_time": "2022-04-18T19:21:26.962191Z"
    }
   },
   "outputs": [],
   "source": [
    "binary_features = []\n",
    "category_features  = []\n",
    "\n",
    "for col in data.select_dtypes(exclude = ['int', 'float']).columns: \n",
    "    if data.dropna()[col].nunique() == 2:\n",
    "        binary_features.append(col)\n",
    "    else:\n",
    "        category_features.append(col)"
   ]
  },
  {
   "cell_type": "code",
   "execution_count": 71,
   "metadata": {
    "ExecuteTime": {
     "end_time": "2022-04-18T19:21:27.119364Z",
     "start_time": "2022-04-18T19:21:27.104364Z"
    }
   },
   "outputs": [
    {
     "data": {
      "text/html": [
       "<div>\n",
       "<style scoped>\n",
       "    .dataframe tbody tr th:only-of-type {\n",
       "        vertical-align: middle;\n",
       "    }\n",
       "\n",
       "    .dataframe tbody tr th {\n",
       "        vertical-align: top;\n",
       "    }\n",
       "\n",
       "    .dataframe thead th {\n",
       "        text-align: right;\n",
       "    }\n",
       "</style>\n",
       "<table border=\"1\" class=\"dataframe\">\n",
       "  <thead>\n",
       "    <tr style=\"text-align: right;\">\n",
       "      <th></th>\n",
       "      <th>Smoking</th>\n",
       "      <th>Alcohol</th>\n",
       "      <th>Punctuality</th>\n",
       "      <th>Lying</th>\n",
       "      <th>Internet usage</th>\n",
       "      <th>Education</th>\n",
       "    </tr>\n",
       "  </thead>\n",
       "  <tbody>\n",
       "    <tr>\n",
       "      <th>0</th>\n",
       "      <td>never smoked</td>\n",
       "      <td>drink a lot</td>\n",
       "      <td>i am always on time</td>\n",
       "      <td>never</td>\n",
       "      <td>few hours a day</td>\n",
       "      <td>college/bachelor degree</td>\n",
       "    </tr>\n",
       "    <tr>\n",
       "      <th>1</th>\n",
       "      <td>never smoked</td>\n",
       "      <td>drink a lot</td>\n",
       "      <td>i am often early</td>\n",
       "      <td>sometimes</td>\n",
       "      <td>few hours a day</td>\n",
       "      <td>college/bachelor degree</td>\n",
       "    </tr>\n",
       "    <tr>\n",
       "      <th>2</th>\n",
       "      <td>tried smoking</td>\n",
       "      <td>drink a lot</td>\n",
       "      <td>i am often running late</td>\n",
       "      <td>sometimes</td>\n",
       "      <td>few hours a day</td>\n",
       "      <td>secondary school</td>\n",
       "    </tr>\n",
       "  </tbody>\n",
       "</table>\n",
       "</div>"
      ],
      "text/plain": [
       "         Smoking      Alcohol              Punctuality      Lying  \\\n",
       "0   never smoked  drink a lot      i am always on time      never   \n",
       "1   never smoked  drink a lot         i am often early  sometimes   \n",
       "2  tried smoking  drink a lot  i am often running late  sometimes   \n",
       "\n",
       "    Internet usage                Education  \n",
       "0  few hours a day  college/bachelor degree  \n",
       "1  few hours a day  college/bachelor degree  \n",
       "2  few hours a day         secondary school  "
      ]
     },
     "execution_count": 71,
     "metadata": {},
     "output_type": "execute_result"
    }
   ],
   "source": [
    "data[category_features].head(3)"
   ]
  },
  {
   "cell_type": "code",
   "execution_count": 72,
   "metadata": {
    "ExecuteTime": {
     "end_time": "2022-04-18T19:21:27.135366Z",
     "start_time": "2022-04-18T19:21:27.120364Z"
    }
   },
   "outputs": [
    {
     "data": {
      "text/html": [
       "<div>\n",
       "<style scoped>\n",
       "    .dataframe tbody tr th:only-of-type {\n",
       "        vertical-align: middle;\n",
       "    }\n",
       "\n",
       "    .dataframe tbody tr th {\n",
       "        vertical-align: top;\n",
       "    }\n",
       "\n",
       "    .dataframe thead th {\n",
       "        text-align: right;\n",
       "    }\n",
       "</style>\n",
       "<table border=\"1\" class=\"dataframe\">\n",
       "  <thead>\n",
       "    <tr style=\"text-align: right;\">\n",
       "      <th></th>\n",
       "      <th>Gender</th>\n",
       "      <th>Left - right handed</th>\n",
       "      <th>Only child</th>\n",
       "      <th>Village - town</th>\n",
       "      <th>House - block of flats</th>\n",
       "    </tr>\n",
       "  </thead>\n",
       "  <tbody>\n",
       "    <tr>\n",
       "      <th>0</th>\n",
       "      <td>female</td>\n",
       "      <td>right handed</td>\n",
       "      <td>no</td>\n",
       "      <td>village</td>\n",
       "      <td>block of flats</td>\n",
       "    </tr>\n",
       "    <tr>\n",
       "      <th>1</th>\n",
       "      <td>female</td>\n",
       "      <td>right handed</td>\n",
       "      <td>no</td>\n",
       "      <td>city</td>\n",
       "      <td>block of flats</td>\n",
       "    </tr>\n",
       "    <tr>\n",
       "      <th>2</th>\n",
       "      <td>female</td>\n",
       "      <td>right handed</td>\n",
       "      <td>no</td>\n",
       "      <td>city</td>\n",
       "      <td>block of flats</td>\n",
       "    </tr>\n",
       "  </tbody>\n",
       "</table>\n",
       "</div>"
      ],
      "text/plain": [
       "   Gender Left - right handed Only child Village - town House - block of flats\n",
       "0  female        right handed         no        village         block of flats\n",
       "1  female        right handed         no           city         block of flats\n",
       "2  female        right handed         no           city         block of flats"
      ]
     },
     "execution_count": 72,
     "metadata": {},
     "output_type": "execute_result"
    }
   ],
   "source": [
    "data[binary_features].head(3)"
   ]
  },
  {
   "cell_type": "markdown",
   "metadata": {},
   "source": [
    "# Все,теперь у нас три типа признаков"
   ]
  },
  {
   "cell_type": "code",
   "execution_count": 73,
   "metadata": {
    "ExecuteTime": {
     "end_time": "2022-04-18T19:21:27.151372Z",
     "start_time": "2022-04-18T19:21:27.137367Z"
    }
   },
   "outputs": [],
   "source": [
    "interesting_features = numerical_features + category_features + binary_features\n",
    "\n",
    "target = [\"Happiness in life\"]\n",
    "\n",
    "data = data[interesting_features]"
   ]
  },
  {
   "cell_type": "code",
   "execution_count": 74,
   "metadata": {
    "ExecuteTime": {
     "end_time": "2022-04-18T19:21:27.183370Z",
     "start_time": "2022-04-18T19:21:27.153371Z"
    }
   },
   "outputs": [
    {
     "data": {
      "text/html": [
       "<div>\n",
       "<style scoped>\n",
       "    .dataframe tbody tr th:only-of-type {\n",
       "        vertical-align: middle;\n",
       "    }\n",
       "\n",
       "    .dataframe tbody tr th {\n",
       "        vertical-align: top;\n",
       "    }\n",
       "\n",
       "    .dataframe thead th {\n",
       "        text-align: right;\n",
       "    }\n",
       "</style>\n",
       "<table border=\"1\" class=\"dataframe\">\n",
       "  <thead>\n",
       "    <tr style=\"text-align: right;\">\n",
       "      <th></th>\n",
       "      <th>Music</th>\n",
       "      <th>Slow songs or fast songs</th>\n",
       "      <th>Dance</th>\n",
       "      <th>Folk</th>\n",
       "      <th>Country</th>\n",
       "      <th>Classical music</th>\n",
       "      <th>Musical</th>\n",
       "      <th>Pop</th>\n",
       "      <th>Rock</th>\n",
       "      <th>Metal or Hardrock</th>\n",
       "      <th>...</th>\n",
       "      <th>Alcohol</th>\n",
       "      <th>Punctuality</th>\n",
       "      <th>Lying</th>\n",
       "      <th>Internet usage</th>\n",
       "      <th>Education</th>\n",
       "      <th>Gender</th>\n",
       "      <th>Left - right handed</th>\n",
       "      <th>Only child</th>\n",
       "      <th>Village - town</th>\n",
       "      <th>House - block of flats</th>\n",
       "    </tr>\n",
       "  </thead>\n",
       "  <tbody>\n",
       "    <tr>\n",
       "      <th>0</th>\n",
       "      <td>5.0</td>\n",
       "      <td>3.0</td>\n",
       "      <td>2.0</td>\n",
       "      <td>1.0</td>\n",
       "      <td>2.0</td>\n",
       "      <td>2.0</td>\n",
       "      <td>1.0</td>\n",
       "      <td>5.0</td>\n",
       "      <td>5.0</td>\n",
       "      <td>1.0</td>\n",
       "      <td>...</td>\n",
       "      <td>drink a lot</td>\n",
       "      <td>i am always on time</td>\n",
       "      <td>never</td>\n",
       "      <td>few hours a day</td>\n",
       "      <td>college/bachelor degree</td>\n",
       "      <td>female</td>\n",
       "      <td>right handed</td>\n",
       "      <td>no</td>\n",
       "      <td>village</td>\n",
       "      <td>block of flats</td>\n",
       "    </tr>\n",
       "    <tr>\n",
       "      <th>1</th>\n",
       "      <td>4.0</td>\n",
       "      <td>4.0</td>\n",
       "      <td>2.0</td>\n",
       "      <td>1.0</td>\n",
       "      <td>1.0</td>\n",
       "      <td>1.0</td>\n",
       "      <td>2.0</td>\n",
       "      <td>3.0</td>\n",
       "      <td>5.0</td>\n",
       "      <td>4.0</td>\n",
       "      <td>...</td>\n",
       "      <td>drink a lot</td>\n",
       "      <td>i am often early</td>\n",
       "      <td>sometimes</td>\n",
       "      <td>few hours a day</td>\n",
       "      <td>college/bachelor degree</td>\n",
       "      <td>female</td>\n",
       "      <td>right handed</td>\n",
       "      <td>no</td>\n",
       "      <td>city</td>\n",
       "      <td>block of flats</td>\n",
       "    </tr>\n",
       "    <tr>\n",
       "      <th>2</th>\n",
       "      <td>5.0</td>\n",
       "      <td>5.0</td>\n",
       "      <td>2.0</td>\n",
       "      <td>2.0</td>\n",
       "      <td>3.0</td>\n",
       "      <td>4.0</td>\n",
       "      <td>5.0</td>\n",
       "      <td>3.0</td>\n",
       "      <td>5.0</td>\n",
       "      <td>3.0</td>\n",
       "      <td>...</td>\n",
       "      <td>drink a lot</td>\n",
       "      <td>i am often running late</td>\n",
       "      <td>sometimes</td>\n",
       "      <td>few hours a day</td>\n",
       "      <td>secondary school</td>\n",
       "      <td>female</td>\n",
       "      <td>right handed</td>\n",
       "      <td>no</td>\n",
       "      <td>city</td>\n",
       "      <td>block of flats</td>\n",
       "    </tr>\n",
       "  </tbody>\n",
       "</table>\n",
       "<p>3 rows × 150 columns</p>\n",
       "</div>"
      ],
      "text/plain": [
       "   Music  Slow songs or fast songs  Dance  Folk  Country  Classical music  \\\n",
       "0    5.0                       3.0    2.0   1.0      2.0              2.0   \n",
       "1    4.0                       4.0    2.0   1.0      1.0              1.0   \n",
       "2    5.0                       5.0    2.0   2.0      3.0              4.0   \n",
       "\n",
       "   Musical  Pop  Rock  Metal or Hardrock  ...      Alcohol  \\\n",
       "0      1.0  5.0   5.0                1.0  ...  drink a lot   \n",
       "1      2.0  3.0   5.0                4.0  ...  drink a lot   \n",
       "2      5.0  3.0   5.0                3.0  ...  drink a lot   \n",
       "\n",
       "               Punctuality      Lying   Internet usage  \\\n",
       "0      i am always on time      never  few hours a day   \n",
       "1         i am often early  sometimes  few hours a day   \n",
       "2  i am often running late  sometimes  few hours a day   \n",
       "\n",
       "                 Education  Gender  Left - right handed  Only child  \\\n",
       "0  college/bachelor degree  female         right handed          no   \n",
       "1  college/bachelor degree  female         right handed          no   \n",
       "2         secondary school  female         right handed          no   \n",
       "\n",
       "   Village - town  House - block of flats  \n",
       "0         village          block of flats  \n",
       "1            city          block of flats  \n",
       "2            city          block of flats  \n",
       "\n",
       "[3 rows x 150 columns]"
      ]
     },
     "execution_count": 74,
     "metadata": {},
     "output_type": "execute_result"
    }
   ],
   "source": [
    "data.head(3)"
   ]
  },
  {
   "cell_type": "markdown",
   "metadata": {},
   "source": [
    "# Numerical features"
   ]
  },
  {
   "cell_type": "code",
   "execution_count": 75,
   "metadata": {
    "ExecuteTime": {
     "end_time": "2022-04-18T19:21:27.215372Z",
     "start_time": "2022-04-18T19:21:27.185370Z"
    }
   },
   "outputs": [
    {
     "data": {
      "text/html": [
       "<div>\n",
       "<style scoped>\n",
       "    .dataframe tbody tr th:only-of-type {\n",
       "        vertical-align: middle;\n",
       "    }\n",
       "\n",
       "    .dataframe tbody tr th {\n",
       "        vertical-align: top;\n",
       "    }\n",
       "\n",
       "    .dataframe thead th {\n",
       "        text-align: right;\n",
       "    }\n",
       "</style>\n",
       "<table border=\"1\" class=\"dataframe\">\n",
       "  <thead>\n",
       "    <tr style=\"text-align: right;\">\n",
       "      <th></th>\n",
       "      <th>Music</th>\n",
       "      <th>Slow songs or fast songs</th>\n",
       "      <th>Dance</th>\n",
       "      <th>Folk</th>\n",
       "      <th>Country</th>\n",
       "      <th>Classical music</th>\n",
       "      <th>Musical</th>\n",
       "      <th>Pop</th>\n",
       "      <th>Rock</th>\n",
       "      <th>Metal or Hardrock</th>\n",
       "      <th>...</th>\n",
       "      <th>Shopping centres</th>\n",
       "      <th>Branded clothing</th>\n",
       "      <th>Entertainment spending</th>\n",
       "      <th>Spending on looks</th>\n",
       "      <th>Spending on gadgets</th>\n",
       "      <th>Spending on healthy eating</th>\n",
       "      <th>Age</th>\n",
       "      <th>Height</th>\n",
       "      <th>Weight</th>\n",
       "      <th>Number of siblings</th>\n",
       "    </tr>\n",
       "  </thead>\n",
       "  <tbody>\n",
       "    <tr>\n",
       "      <th>0</th>\n",
       "      <td>5.0</td>\n",
       "      <td>3.0</td>\n",
       "      <td>2.0</td>\n",
       "      <td>1.0</td>\n",
       "      <td>2.0</td>\n",
       "      <td>2.0</td>\n",
       "      <td>1.0</td>\n",
       "      <td>5.0</td>\n",
       "      <td>5.0</td>\n",
       "      <td>1.0</td>\n",
       "      <td>...</td>\n",
       "      <td>4.0</td>\n",
       "      <td>5.0</td>\n",
       "      <td>3.0</td>\n",
       "      <td>3.0</td>\n",
       "      <td>1</td>\n",
       "      <td>3.0</td>\n",
       "      <td>20.0</td>\n",
       "      <td>163.0</td>\n",
       "      <td>48.0</td>\n",
       "      <td>1.0</td>\n",
       "    </tr>\n",
       "    <tr>\n",
       "      <th>1</th>\n",
       "      <td>4.0</td>\n",
       "      <td>4.0</td>\n",
       "      <td>2.0</td>\n",
       "      <td>1.0</td>\n",
       "      <td>1.0</td>\n",
       "      <td>1.0</td>\n",
       "      <td>2.0</td>\n",
       "      <td>3.0</td>\n",
       "      <td>5.0</td>\n",
       "      <td>4.0</td>\n",
       "      <td>...</td>\n",
       "      <td>4.0</td>\n",
       "      <td>1.0</td>\n",
       "      <td>4.0</td>\n",
       "      <td>2.0</td>\n",
       "      <td>5</td>\n",
       "      <td>2.0</td>\n",
       "      <td>19.0</td>\n",
       "      <td>163.0</td>\n",
       "      <td>58.0</td>\n",
       "      <td>2.0</td>\n",
       "    </tr>\n",
       "  </tbody>\n",
       "</table>\n",
       "<p>2 rows × 139 columns</p>\n",
       "</div>"
      ],
      "text/plain": [
       "   Music  Slow songs or fast songs  Dance  Folk  Country  Classical music  \\\n",
       "0    5.0                       3.0    2.0   1.0      2.0              2.0   \n",
       "1    4.0                       4.0    2.0   1.0      1.0              1.0   \n",
       "\n",
       "   Musical  Pop  Rock  Metal or Hardrock  ...  Shopping centres  \\\n",
       "0      1.0  5.0   5.0                1.0  ...               4.0   \n",
       "1      2.0  3.0   5.0                4.0  ...               4.0   \n",
       "\n",
       "   Branded clothing  Entertainment spending  Spending on looks  \\\n",
       "0               5.0                     3.0                3.0   \n",
       "1               1.0                     4.0                2.0   \n",
       "\n",
       "   Spending on gadgets  Spending on healthy eating   Age  Height  Weight  \\\n",
       "0                    1                         3.0  20.0   163.0    48.0   \n",
       "1                    5                         2.0  19.0   163.0    58.0   \n",
       "\n",
       "   Number of siblings  \n",
       "0                 1.0  \n",
       "1                 2.0  \n",
       "\n",
       "[2 rows x 139 columns]"
      ]
     },
     "execution_count": 75,
     "metadata": {},
     "output_type": "execute_result"
    }
   ],
   "source": [
    "data[numerical_features].head(2)"
   ]
  },
  {
   "cell_type": "code",
   "execution_count": 76,
   "metadata": {
    "ExecuteTime": {
     "end_time": "2022-04-18T19:21:27.231372Z",
     "start_time": "2022-04-18T19:21:27.217375Z"
    }
   },
   "outputs": [],
   "source": [
    "from sklearn.preprocessing import FunctionTransformer"
   ]
  },
  {
   "cell_type": "code",
   "execution_count": 77,
   "metadata": {
    "ExecuteTime": {
     "end_time": "2022-04-18T19:21:27.279377Z",
     "start_time": "2022-04-18T19:21:27.233375Z"
    }
   },
   "outputs": [
    {
     "data": {
      "text/html": [
       "<div>\n",
       "<style scoped>\n",
       "    .dataframe tbody tr th:only-of-type {\n",
       "        vertical-align: middle;\n",
       "    }\n",
       "\n",
       "    .dataframe tbody tr th {\n",
       "        vertical-align: top;\n",
       "    }\n",
       "\n",
       "    .dataframe thead th {\n",
       "        text-align: right;\n",
       "    }\n",
       "</style>\n",
       "<table border=\"1\" class=\"dataframe\">\n",
       "  <thead>\n",
       "    <tr style=\"text-align: right;\">\n",
       "      <th></th>\n",
       "      <th>Music</th>\n",
       "      <th>Slow songs or fast songs</th>\n",
       "      <th>Dance</th>\n",
       "      <th>Folk</th>\n",
       "      <th>Country</th>\n",
       "      <th>Classical music</th>\n",
       "      <th>Musical</th>\n",
       "      <th>Pop</th>\n",
       "      <th>Rock</th>\n",
       "      <th>Metal or Hardrock</th>\n",
       "      <th>...</th>\n",
       "      <th>Branded clothing</th>\n",
       "      <th>Entertainment spending</th>\n",
       "      <th>Spending on looks</th>\n",
       "      <th>Spending on gadgets</th>\n",
       "      <th>Spending on healthy eating</th>\n",
       "      <th>Age</th>\n",
       "      <th>Height</th>\n",
       "      <th>Weight</th>\n",
       "      <th>Number of siblings</th>\n",
       "      <th>random_values</th>\n",
       "    </tr>\n",
       "  </thead>\n",
       "  <tbody>\n",
       "    <tr>\n",
       "      <th>0</th>\n",
       "      <td>5.0</td>\n",
       "      <td>3.0</td>\n",
       "      <td>2.0</td>\n",
       "      <td>1.0</td>\n",
       "      <td>2.0</td>\n",
       "      <td>2.0</td>\n",
       "      <td>1.0</td>\n",
       "      <td>5.0</td>\n",
       "      <td>5.0</td>\n",
       "      <td>1.0</td>\n",
       "      <td>...</td>\n",
       "      <td>5.0</td>\n",
       "      <td>3.0</td>\n",
       "      <td>3.0</td>\n",
       "      <td>1</td>\n",
       "      <td>3.0</td>\n",
       "      <td>20.0</td>\n",
       "      <td>163.0</td>\n",
       "      <td>48.0</td>\n",
       "      <td>1.0</td>\n",
       "      <td>-0.920870</td>\n",
       "    </tr>\n",
       "    <tr>\n",
       "      <th>1</th>\n",
       "      <td>4.0</td>\n",
       "      <td>4.0</td>\n",
       "      <td>2.0</td>\n",
       "      <td>1.0</td>\n",
       "      <td>1.0</td>\n",
       "      <td>1.0</td>\n",
       "      <td>2.0</td>\n",
       "      <td>3.0</td>\n",
       "      <td>5.0</td>\n",
       "      <td>4.0</td>\n",
       "      <td>...</td>\n",
       "      <td>1.0</td>\n",
       "      <td>4.0</td>\n",
       "      <td>2.0</td>\n",
       "      <td>5</td>\n",
       "      <td>2.0</td>\n",
       "      <td>19.0</td>\n",
       "      <td>163.0</td>\n",
       "      <td>58.0</td>\n",
       "      <td>2.0</td>\n",
       "      <td>0.844182</td>\n",
       "    </tr>\n",
       "    <tr>\n",
       "      <th>2</th>\n",
       "      <td>5.0</td>\n",
       "      <td>5.0</td>\n",
       "      <td>2.0</td>\n",
       "      <td>2.0</td>\n",
       "      <td>3.0</td>\n",
       "      <td>4.0</td>\n",
       "      <td>5.0</td>\n",
       "      <td>3.0</td>\n",
       "      <td>5.0</td>\n",
       "      <td>3.0</td>\n",
       "      <td>...</td>\n",
       "      <td>1.0</td>\n",
       "      <td>4.0</td>\n",
       "      <td>3.0</td>\n",
       "      <td>4</td>\n",
       "      <td>2.0</td>\n",
       "      <td>20.0</td>\n",
       "      <td>176.0</td>\n",
       "      <td>67.0</td>\n",
       "      <td>2.0</td>\n",
       "      <td>-0.281481</td>\n",
       "    </tr>\n",
       "  </tbody>\n",
       "</table>\n",
       "<p>3 rows × 140 columns</p>\n",
       "</div>"
      ],
      "text/plain": [
       "   Music  Slow songs or fast songs  Dance  Folk  Country  Classical music  \\\n",
       "0    5.0                       3.0    2.0   1.0      2.0              2.0   \n",
       "1    4.0                       4.0    2.0   1.0      1.0              1.0   \n",
       "2    5.0                       5.0    2.0   2.0      3.0              4.0   \n",
       "\n",
       "   Musical  Pop  Rock  Metal or Hardrock  ...  Branded clothing  \\\n",
       "0      1.0  5.0   5.0                1.0  ...               5.0   \n",
       "1      2.0  3.0   5.0                4.0  ...               1.0   \n",
       "2      5.0  3.0   5.0                3.0  ...               1.0   \n",
       "\n",
       "   Entertainment spending  Spending on looks  Spending on gadgets  \\\n",
       "0                     3.0                3.0                    1   \n",
       "1                     4.0                2.0                    5   \n",
       "2                     4.0                3.0                    4   \n",
       "\n",
       "   Spending on healthy eating   Age  Height  Weight  Number of siblings  \\\n",
       "0                         3.0  20.0   163.0    48.0                 1.0   \n",
       "1                         2.0  19.0   163.0    58.0                 2.0   \n",
       "2                         2.0  20.0   176.0    67.0                 2.0   \n",
       "\n",
       "   random_values  \n",
       "0      -0.920870  \n",
       "1       0.844182  \n",
       "2      -0.281481  \n",
       "\n",
       "[3 rows x 140 columns]"
      ]
     },
     "execution_count": 77,
     "metadata": {},
     "output_type": "execute_result"
    }
   ],
   "source": [
    "# Тот же способ через функцию\n",
    "def numerical_select(data):\n",
    "\n",
    "    data['random_values'] = np.random.normal(size = len(data))\n",
    "    \n",
    "    return data[numerical_features + ['random_values']]\n",
    "\n",
    "# Превращаем функцию в трансформер\n",
    "numerical_selector = FunctionTransformer(numerical_select, validate=False)\n",
    "\n",
    "numerical_selector.fit_transform(data).head(3)"
   ]
  },
  {
   "cell_type": "code",
   "execution_count": 78,
   "metadata": {
    "ExecuteTime": {
     "end_time": "2022-04-18T19:21:27.295377Z",
     "start_time": "2022-04-18T19:21:27.281379Z"
    }
   },
   "outputs": [],
   "source": [
    "# Тот же способ через лямбда-функцию\n",
    "# numerical_selector = FunctionTransformer(lambda data: data[numerical_features], validate=False)"
   ]
  },
  {
   "cell_type": "code",
   "execution_count": 79,
   "metadata": {
    "ExecuteTime": {
     "end_time": "2022-04-18T19:21:27.311380Z",
     "start_time": "2022-04-18T19:21:27.297378Z"
    },
    "hide_input": false
   },
   "outputs": [],
   "source": [
    "from sklearn.preprocessing import StandardScaler, OneHotEncoder\n",
    "\n",
    "scaler = StandardScaler()"
   ]
  },
  {
   "cell_type": "code",
   "execution_count": 80,
   "metadata": {
    "ExecuteTime": {
     "end_time": "2022-04-18T19:21:27.327382Z",
     "start_time": "2022-04-18T19:21:27.313384Z"
    }
   },
   "outputs": [],
   "source": [
    "numerical_preprocessor = Pipeline([(\"numerical_selector\", numerical_selector),\n",
    "                                   (\"scaling\", scaler)])"
   ]
  },
  {
   "cell_type": "code",
   "execution_count": 81,
   "metadata": {
    "ExecuteTime": {
     "end_time": "2022-04-18T19:21:27.359384Z",
     "start_time": "2022-04-18T19:21:27.329380Z"
    }
   },
   "outputs": [
    {
     "data": {
      "text/plain": [
       "array([[ 0.40397078, -0.39396081, -0.95156664, ..., -1.33055906,\n",
       "        -0.29403239, -0.83444833],\n",
       "       [-1.10269062,  0.80577482, -0.95156664, ..., -0.60762757,\n",
       "         0.69328707,  1.17187134],\n",
       "       [ 0.40397078,  2.00551046, -0.95156664, ...,  0.04301077,\n",
       "         0.69328707, -0.71532808],\n",
       "       ...,\n",
       "       [-1.10269062, -0.39396081, -1.80627739, ...,  0.62135597,\n",
       "        -1.28135184,  1.22870167],\n",
       "       [ 0.40397078, -0.39396081, -0.09685589, ..., -0.60762757,\n",
       "        -0.29403239,  1.18517655],\n",
       "       [ 0.40397078,  2.00551046,  0.75785486, ...,  0.40447652,\n",
       "        -0.29403239,  1.44303199]])"
      ]
     },
     "execution_count": 81,
     "metadata": {},
     "output_type": "execute_result"
    }
   ],
   "source": [
    "numerical_preprocessor.fit_transform(data) \n",
    "# Куда-то пропали столцы, надо исправлять!!!"
   ]
  },
  {
   "cell_type": "code",
   "execution_count": 82,
   "metadata": {
    "ExecuteTime": {
     "end_time": "2022-04-18T19:21:27.375388Z",
     "start_time": "2022-04-18T19:21:27.369388Z"
    }
   },
   "outputs": [
    {
     "data": {
      "text/html": [
       "<style>#sk-2a5a12b3-10e6-4d8a-8e94-fffbd0451b26 {color: black;background-color: white;}#sk-2a5a12b3-10e6-4d8a-8e94-fffbd0451b26 pre{padding: 0;}#sk-2a5a12b3-10e6-4d8a-8e94-fffbd0451b26 div.sk-toggleable {background-color: white;}#sk-2a5a12b3-10e6-4d8a-8e94-fffbd0451b26 label.sk-toggleable__label {cursor: pointer;display: block;width: 100%;margin-bottom: 0;padding: 0.2em 0.3em;box-sizing: border-box;text-align: center;}#sk-2a5a12b3-10e6-4d8a-8e94-fffbd0451b26 div.sk-toggleable__content {max-height: 0;max-width: 0;overflow: hidden;text-align: left;background-color: #f0f8ff;}#sk-2a5a12b3-10e6-4d8a-8e94-fffbd0451b26 div.sk-toggleable__content pre {margin: 0.2em;color: black;border-radius: 0.25em;background-color: #f0f8ff;}#sk-2a5a12b3-10e6-4d8a-8e94-fffbd0451b26 input.sk-toggleable__control:checked~div.sk-toggleable__content {max-height: 200px;max-width: 100%;overflow: auto;}#sk-2a5a12b3-10e6-4d8a-8e94-fffbd0451b26 div.sk-estimator input.sk-toggleable__control:checked~label.sk-toggleable__label {background-color: #d4ebff;}#sk-2a5a12b3-10e6-4d8a-8e94-fffbd0451b26 div.sk-label input.sk-toggleable__control:checked~label.sk-toggleable__label {background-color: #d4ebff;}#sk-2a5a12b3-10e6-4d8a-8e94-fffbd0451b26 input.sk-hidden--visually {border: 0;clip: rect(1px 1px 1px 1px);clip: rect(1px, 1px, 1px, 1px);height: 1px;margin: -1px;overflow: hidden;padding: 0;position: absolute;width: 1px;}#sk-2a5a12b3-10e6-4d8a-8e94-fffbd0451b26 div.sk-estimator {font-family: monospace;background-color: #f0f8ff;margin: 0.25em 0.25em;border: 1px dotted black;border-radius: 0.25em;box-sizing: border-box;}#sk-2a5a12b3-10e6-4d8a-8e94-fffbd0451b26 div.sk-estimator:hover {background-color: #d4ebff;}#sk-2a5a12b3-10e6-4d8a-8e94-fffbd0451b26 div.sk-parallel-item::after {content: \"\";width: 100%;border-bottom: 1px solid gray;flex-grow: 1;}#sk-2a5a12b3-10e6-4d8a-8e94-fffbd0451b26 div.sk-label:hover label.sk-toggleable__label {background-color: #d4ebff;}#sk-2a5a12b3-10e6-4d8a-8e94-fffbd0451b26 div.sk-serial::before {content: \"\";position: absolute;border-left: 1px solid gray;box-sizing: border-box;top: 2em;bottom: 0;left: 50%;}#sk-2a5a12b3-10e6-4d8a-8e94-fffbd0451b26 div.sk-serial {display: flex;flex-direction: column;align-items: center;background-color: white;}#sk-2a5a12b3-10e6-4d8a-8e94-fffbd0451b26 div.sk-item {z-index: 1;}#sk-2a5a12b3-10e6-4d8a-8e94-fffbd0451b26 div.sk-parallel {display: flex;align-items: stretch;justify-content: center;background-color: white;}#sk-2a5a12b3-10e6-4d8a-8e94-fffbd0451b26 div.sk-parallel-item {display: flex;flex-direction: column;position: relative;background-color: white;}#sk-2a5a12b3-10e6-4d8a-8e94-fffbd0451b26 div.sk-parallel-item:first-child::after {align-self: flex-end;width: 50%;}#sk-2a5a12b3-10e6-4d8a-8e94-fffbd0451b26 div.sk-parallel-item:last-child::after {align-self: flex-start;width: 50%;}#sk-2a5a12b3-10e6-4d8a-8e94-fffbd0451b26 div.sk-parallel-item:only-child::after {width: 0;}#sk-2a5a12b3-10e6-4d8a-8e94-fffbd0451b26 div.sk-dashed-wrapped {border: 1px dashed gray;margin: 0.2em;box-sizing: border-box;padding-bottom: 0.1em;background-color: white;position: relative;}#sk-2a5a12b3-10e6-4d8a-8e94-fffbd0451b26 div.sk-label label {font-family: monospace;font-weight: bold;background-color: white;display: inline-block;line-height: 1.2em;}#sk-2a5a12b3-10e6-4d8a-8e94-fffbd0451b26 div.sk-label-container {position: relative;z-index: 2;text-align: center;}#sk-2a5a12b3-10e6-4d8a-8e94-fffbd0451b26 div.sk-container {display: inline-block;position: relative;}</style><div id=\"sk-2a5a12b3-10e6-4d8a-8e94-fffbd0451b26\" class\"sk-top-container\"><div class=\"sk-container\"><div class=\"sk-item\"><div class=\"sk-estimator sk-toggleable\"><input class=\"sk-toggleable__control sk-hidden--visually\" id=\"3ed9e3ef-8796-436e-82cf-5f7bc2fd75fe\" type=\"checkbox\" checked><label class=\"sk-toggleable__label\" for=\"3ed9e3ef-8796-436e-82cf-5f7bc2fd75fe\">StandardScaler</label><div class=\"sk-toggleable__content\"><pre>StandardScaler()</pre></div></div></div></div></div>"
      ],
      "text/plain": [
       "StandardScaler()"
      ]
     },
     "execution_count": 82,
     "metadata": {},
     "output_type": "execute_result"
    }
   ],
   "source": [
    "# Pipeline в отличии от make_pipline дает возможность обращася к объекту пайплайна по названию\n",
    "numerical_preprocessor.named_steps['scaling'] #"
   ]
  },
  {
   "cell_type": "code",
   "execution_count": 83,
   "metadata": {
    "ExecuteTime": {
     "end_time": "2022-04-18T19:21:27.391385Z",
     "start_time": "2022-04-18T19:21:27.377386Z"
    }
   },
   "outputs": [],
   "source": [
    "class StandardScalerDf(StandardScaler):\n",
    "    \"\"\"\n",
    "    DataFrame Wrapper around StandardScaler\n",
    "    http://flennerhag.com/2017-01-08-Recursive-Override/\n",
    "    \"\"\"\n",
    "    def __init__(self, copy=True, with_mean=True, with_std=True):\n",
    "        super(StandardScalerDf, self).__init__(copy=copy,\n",
    "                                               with_mean=with_mean,\n",
    "                                               with_std=with_std)\n",
    "        self.feature_names = None\n",
    "\n",
    "    def transform(self, X, y=None):\n",
    "        self.feature_names = X.columns\n",
    "        \n",
    "        z = super(StandardScalerDf, self).transform(X.values)\n",
    "        \n",
    "        return pd.DataFrame(z, index=X.index, columns=self.feature_names)\n",
    "    \n",
    "    def get_feature_names(self):\n",
    "        return self.feature_names"
   ]
  },
  {
   "cell_type": "code",
   "execution_count": 84,
   "metadata": {
    "ExecuteTime": {
     "end_time": "2022-04-18T19:21:27.407386Z",
     "start_time": "2022-04-18T19:21:27.392385Z"
    }
   },
   "outputs": [],
   "source": [
    "scaler_df = StandardScalerDf()"
   ]
  },
  {
   "cell_type": "code",
   "execution_count": 85,
   "metadata": {
    "ExecuteTime": {
     "end_time": "2022-04-18T19:21:27.423387Z",
     "start_time": "2022-04-18T19:21:27.409389Z"
    }
   },
   "outputs": [],
   "source": [
    "numerical_preprocessor = Pipeline([\n",
    "    (\"numerical_selector\", numerical_selector),\n",
    "    (\"scaling\", scaler_df)\n",
    "])"
   ]
  },
  {
   "cell_type": "code",
   "execution_count": 86,
   "metadata": {
    "ExecuteTime": {
     "end_time": "2022-04-18T19:21:27.455391Z",
     "start_time": "2022-04-18T19:21:27.424390Z"
    }
   },
   "outputs": [
    {
     "data": {
      "text/html": [
       "<div>\n",
       "<style scoped>\n",
       "    .dataframe tbody tr th:only-of-type {\n",
       "        vertical-align: middle;\n",
       "    }\n",
       "\n",
       "    .dataframe tbody tr th {\n",
       "        vertical-align: top;\n",
       "    }\n",
       "\n",
       "    .dataframe thead th {\n",
       "        text-align: right;\n",
       "    }\n",
       "</style>\n",
       "<table border=\"1\" class=\"dataframe\">\n",
       "  <thead>\n",
       "    <tr style=\"text-align: right;\">\n",
       "      <th></th>\n",
       "      <th>Music</th>\n",
       "      <th>Slow songs or fast songs</th>\n",
       "      <th>Dance</th>\n",
       "      <th>Folk</th>\n",
       "      <th>Country</th>\n",
       "      <th>Classical music</th>\n",
       "      <th>Musical</th>\n",
       "      <th>Pop</th>\n",
       "      <th>Rock</th>\n",
       "      <th>Metal or Hardrock</th>\n",
       "      <th>...</th>\n",
       "      <th>Branded clothing</th>\n",
       "      <th>Entertainment spending</th>\n",
       "      <th>Spending on looks</th>\n",
       "      <th>Spending on gadgets</th>\n",
       "      <th>Spending on healthy eating</th>\n",
       "      <th>Age</th>\n",
       "      <th>Height</th>\n",
       "      <th>Weight</th>\n",
       "      <th>Number of siblings</th>\n",
       "      <th>random_values</th>\n",
       "    </tr>\n",
       "  </thead>\n",
       "  <tbody>\n",
       "    <tr>\n",
       "      <th>0</th>\n",
       "      <td>0.403971</td>\n",
       "      <td>-0.393961</td>\n",
       "      <td>-0.951567</td>\n",
       "      <td>-1.131952</td>\n",
       "      <td>-0.114711</td>\n",
       "      <td>-0.763717</td>\n",
       "      <td>-1.398094</td>\n",
       "      <td>1.316567</td>\n",
       "      <td>1.04541</td>\n",
       "      <td>-0.992099</td>\n",
       "      <td>...</td>\n",
       "      <td>1.493027</td>\n",
       "      <td>-0.169637</td>\n",
       "      <td>-0.088196</td>\n",
       "      <td>-1.456239</td>\n",
       "      <td>-0.510004</td>\n",
       "      <td>-0.153390</td>\n",
       "      <td>-1.049374</td>\n",
       "      <td>-1.330559</td>\n",
       "      <td>-0.294032</td>\n",
       "      <td>-0.886627</td>\n",
       "    </tr>\n",
       "    <tr>\n",
       "      <th>1</th>\n",
       "      <td>-1.102691</td>\n",
       "      <td>0.805775</td>\n",
       "      <td>-0.951567</td>\n",
       "      <td>-1.131952</td>\n",
       "      <td>-1.044424</td>\n",
       "      <td>-1.562473</td>\n",
       "      <td>-0.604581</td>\n",
       "      <td>-0.406348</td>\n",
       "      <td>1.04541</td>\n",
       "      <td>1.193992</td>\n",
       "      <td>...</td>\n",
       "      <td>-1.570528</td>\n",
       "      <td>0.671861</td>\n",
       "      <td>-0.918230</td>\n",
       "      <td>1.658216</td>\n",
       "      <td>-1.424743</td>\n",
       "      <td>-0.507068</td>\n",
       "      <td>-1.049374</td>\n",
       "      <td>-0.607628</td>\n",
       "      <td>0.693287</td>\n",
       "      <td>0.779259</td>\n",
       "    </tr>\n",
       "    <tr>\n",
       "      <th>2</th>\n",
       "      <td>0.403971</td>\n",
       "      <td>2.005510</td>\n",
       "      <td>-0.951567</td>\n",
       "      <td>-0.253487</td>\n",
       "      <td>0.815003</td>\n",
       "      <td>0.833797</td>\n",
       "      <td>1.775957</td>\n",
       "      <td>-0.406348</td>\n",
       "      <td>1.04541</td>\n",
       "      <td>0.465295</td>\n",
       "      <td>...</td>\n",
       "      <td>-1.570528</td>\n",
       "      <td>0.671861</td>\n",
       "      <td>-0.088196</td>\n",
       "      <td>0.879602</td>\n",
       "      <td>-1.424743</td>\n",
       "      <td>-0.153390</td>\n",
       "      <td>0.248104</td>\n",
       "      <td>0.043011</td>\n",
       "      <td>0.693287</td>\n",
       "      <td>2.621826</td>\n",
       "    </tr>\n",
       "  </tbody>\n",
       "</table>\n",
       "<p>3 rows × 140 columns</p>\n",
       "</div>"
      ],
      "text/plain": [
       "      Music  Slow songs or fast songs     Dance      Folk   Country  \\\n",
       "0  0.403971                 -0.393961 -0.951567 -1.131952 -0.114711   \n",
       "1 -1.102691                  0.805775 -0.951567 -1.131952 -1.044424   \n",
       "2  0.403971                  2.005510 -0.951567 -0.253487  0.815003   \n",
       "\n",
       "   Classical music   Musical       Pop     Rock  Metal or Hardrock  ...  \\\n",
       "0        -0.763717 -1.398094  1.316567  1.04541          -0.992099  ...   \n",
       "1        -1.562473 -0.604581 -0.406348  1.04541           1.193992  ...   \n",
       "2         0.833797  1.775957 -0.406348  1.04541           0.465295  ...   \n",
       "\n",
       "   Branded clothing  Entertainment spending  Spending on looks  \\\n",
       "0          1.493027               -0.169637          -0.088196   \n",
       "1         -1.570528                0.671861          -0.918230   \n",
       "2         -1.570528                0.671861          -0.088196   \n",
       "\n",
       "   Spending on gadgets  Spending on healthy eating       Age    Height  \\\n",
       "0            -1.456239                   -0.510004 -0.153390 -1.049374   \n",
       "1             1.658216                   -1.424743 -0.507068 -1.049374   \n",
       "2             0.879602                   -1.424743 -0.153390  0.248104   \n",
       "\n",
       "     Weight  Number of siblings  random_values  \n",
       "0 -1.330559           -0.294032      -0.886627  \n",
       "1 -0.607628            0.693287       0.779259  \n",
       "2  0.043011            0.693287       2.621826  \n",
       "\n",
       "[3 rows x 140 columns]"
      ]
     },
     "execution_count": 86,
     "metadata": {},
     "output_type": "execute_result"
    }
   ],
   "source": [
    "numerical_preprocessor.fit_transform(data).head(3) # Сохраняются названия столцов. Лушче, но можно сделать меньше кода"
   ]
  },
  {
   "cell_type": "code",
   "execution_count": 87,
   "metadata": {
    "ExecuteTime": {
     "end_time": "2022-04-18T19:21:27.471390Z",
     "start_time": "2022-04-18T19:21:27.456392Z"
    }
   },
   "outputs": [
    {
     "data": {
      "text/html": [
       "<style>#sk-2d546570-6427-4c44-b01d-b667110d1fc0 {color: black;background-color: white;}#sk-2d546570-6427-4c44-b01d-b667110d1fc0 pre{padding: 0;}#sk-2d546570-6427-4c44-b01d-b667110d1fc0 div.sk-toggleable {background-color: white;}#sk-2d546570-6427-4c44-b01d-b667110d1fc0 label.sk-toggleable__label {cursor: pointer;display: block;width: 100%;margin-bottom: 0;padding: 0.2em 0.3em;box-sizing: border-box;text-align: center;}#sk-2d546570-6427-4c44-b01d-b667110d1fc0 div.sk-toggleable__content {max-height: 0;max-width: 0;overflow: hidden;text-align: left;background-color: #f0f8ff;}#sk-2d546570-6427-4c44-b01d-b667110d1fc0 div.sk-toggleable__content pre {margin: 0.2em;color: black;border-radius: 0.25em;background-color: #f0f8ff;}#sk-2d546570-6427-4c44-b01d-b667110d1fc0 input.sk-toggleable__control:checked~div.sk-toggleable__content {max-height: 200px;max-width: 100%;overflow: auto;}#sk-2d546570-6427-4c44-b01d-b667110d1fc0 div.sk-estimator input.sk-toggleable__control:checked~label.sk-toggleable__label {background-color: #d4ebff;}#sk-2d546570-6427-4c44-b01d-b667110d1fc0 div.sk-label input.sk-toggleable__control:checked~label.sk-toggleable__label {background-color: #d4ebff;}#sk-2d546570-6427-4c44-b01d-b667110d1fc0 input.sk-hidden--visually {border: 0;clip: rect(1px 1px 1px 1px);clip: rect(1px, 1px, 1px, 1px);height: 1px;margin: -1px;overflow: hidden;padding: 0;position: absolute;width: 1px;}#sk-2d546570-6427-4c44-b01d-b667110d1fc0 div.sk-estimator {font-family: monospace;background-color: #f0f8ff;margin: 0.25em 0.25em;border: 1px dotted black;border-radius: 0.25em;box-sizing: border-box;}#sk-2d546570-6427-4c44-b01d-b667110d1fc0 div.sk-estimator:hover {background-color: #d4ebff;}#sk-2d546570-6427-4c44-b01d-b667110d1fc0 div.sk-parallel-item::after {content: \"\";width: 100%;border-bottom: 1px solid gray;flex-grow: 1;}#sk-2d546570-6427-4c44-b01d-b667110d1fc0 div.sk-label:hover label.sk-toggleable__label {background-color: #d4ebff;}#sk-2d546570-6427-4c44-b01d-b667110d1fc0 div.sk-serial::before {content: \"\";position: absolute;border-left: 1px solid gray;box-sizing: border-box;top: 2em;bottom: 0;left: 50%;}#sk-2d546570-6427-4c44-b01d-b667110d1fc0 div.sk-serial {display: flex;flex-direction: column;align-items: center;background-color: white;}#sk-2d546570-6427-4c44-b01d-b667110d1fc0 div.sk-item {z-index: 1;}#sk-2d546570-6427-4c44-b01d-b667110d1fc0 div.sk-parallel {display: flex;align-items: stretch;justify-content: center;background-color: white;}#sk-2d546570-6427-4c44-b01d-b667110d1fc0 div.sk-parallel-item {display: flex;flex-direction: column;position: relative;background-color: white;}#sk-2d546570-6427-4c44-b01d-b667110d1fc0 div.sk-parallel-item:first-child::after {align-self: flex-end;width: 50%;}#sk-2d546570-6427-4c44-b01d-b667110d1fc0 div.sk-parallel-item:last-child::after {align-self: flex-start;width: 50%;}#sk-2d546570-6427-4c44-b01d-b667110d1fc0 div.sk-parallel-item:only-child::after {width: 0;}#sk-2d546570-6427-4c44-b01d-b667110d1fc0 div.sk-dashed-wrapped {border: 1px dashed gray;margin: 0.2em;box-sizing: border-box;padding-bottom: 0.1em;background-color: white;position: relative;}#sk-2d546570-6427-4c44-b01d-b667110d1fc0 div.sk-label label {font-family: monospace;font-weight: bold;background-color: white;display: inline-block;line-height: 1.2em;}#sk-2d546570-6427-4c44-b01d-b667110d1fc0 div.sk-label-container {position: relative;z-index: 2;text-align: center;}#sk-2d546570-6427-4c44-b01d-b667110d1fc0 div.sk-container {display: inline-block;position: relative;}</style><div id=\"sk-2d546570-6427-4c44-b01d-b667110d1fc0\" class\"sk-top-container\"><div class=\"sk-container\"><div class=\"sk-item sk-dashed-wrapped\"><div class=\"sk-label-container\"><div class=\"sk-label sk-toggleable\"><input class=\"sk-toggleable__control sk-hidden--visually\" id=\"d1157fc6-5325-4cdc-8828-a24c132eeef7\" type=\"checkbox\" ><label class=\"sk-toggleable__label\" for=\"d1157fc6-5325-4cdc-8828-a24c132eeef7\">Pipeline</label><div class=\"sk-toggleable__content\"><pre>Pipeline(steps=[('numerical_selector',\n",
       "                 FunctionTransformer(func=<function numerical_select at 0x000001CB4ACED9D0>)),\n",
       "                ('scaling', StandardScalerDf())])</pre></div></div></div><div class=\"sk-serial\"><div class=\"sk-item\"><div class=\"sk-estimator sk-toggleable\"><input class=\"sk-toggleable__control sk-hidden--visually\" id=\"82f1151c-91a8-429f-958e-4f6ae39dbdc4\" type=\"checkbox\" ><label class=\"sk-toggleable__label\" for=\"82f1151c-91a8-429f-958e-4f6ae39dbdc4\">FunctionTransformer</label><div class=\"sk-toggleable__content\"><pre>FunctionTransformer(func=<function numerical_select at 0x000001CB4ACED9D0>)</pre></div></div></div><div class=\"sk-item\"><div class=\"sk-estimator sk-toggleable\"><input class=\"sk-toggleable__control sk-hidden--visually\" id=\"c2c85721-f1d2-45a7-a1f5-2c2a45cf35ec\" type=\"checkbox\" ><label class=\"sk-toggleable__label\" for=\"c2c85721-f1d2-45a7-a1f5-2c2a45cf35ec\">StandardScalerDf</label><div class=\"sk-toggleable__content\"><pre>StandardScalerDf()</pre></div></div></div></div></div></div></div>"
      ],
      "text/plain": [
       "Pipeline(steps=[('numerical_selector',\n",
       "                 FunctionTransformer(func=<function numerical_select at 0x000001CB4ACED9D0>)),\n",
       "                ('scaling', StandardScalerDf())])"
      ]
     },
     "execution_count": 87,
     "metadata": {},
     "output_type": "execute_result"
    }
   ],
   "source": [
    "numerical_preprocessor"
   ]
  },
  {
   "cell_type": "code",
   "execution_count": 88,
   "metadata": {
    "ExecuteTime": {
     "end_time": "2022-04-18T19:21:27.487392Z",
     "start_time": "2022-04-18T19:21:27.472392Z"
    }
   },
   "outputs": [
    {
     "data": {
      "text/html": [
       "<style>#sk-e3f14d63-2ac1-4f61-ad1d-a4979d5c654f {color: black;background-color: white;}#sk-e3f14d63-2ac1-4f61-ad1d-a4979d5c654f pre{padding: 0;}#sk-e3f14d63-2ac1-4f61-ad1d-a4979d5c654f div.sk-toggleable {background-color: white;}#sk-e3f14d63-2ac1-4f61-ad1d-a4979d5c654f label.sk-toggleable__label {cursor: pointer;display: block;width: 100%;margin-bottom: 0;padding: 0.2em 0.3em;box-sizing: border-box;text-align: center;}#sk-e3f14d63-2ac1-4f61-ad1d-a4979d5c654f div.sk-toggleable__content {max-height: 0;max-width: 0;overflow: hidden;text-align: left;background-color: #f0f8ff;}#sk-e3f14d63-2ac1-4f61-ad1d-a4979d5c654f div.sk-toggleable__content pre {margin: 0.2em;color: black;border-radius: 0.25em;background-color: #f0f8ff;}#sk-e3f14d63-2ac1-4f61-ad1d-a4979d5c654f input.sk-toggleable__control:checked~div.sk-toggleable__content {max-height: 200px;max-width: 100%;overflow: auto;}#sk-e3f14d63-2ac1-4f61-ad1d-a4979d5c654f div.sk-estimator input.sk-toggleable__control:checked~label.sk-toggleable__label {background-color: #d4ebff;}#sk-e3f14d63-2ac1-4f61-ad1d-a4979d5c654f div.sk-label input.sk-toggleable__control:checked~label.sk-toggleable__label {background-color: #d4ebff;}#sk-e3f14d63-2ac1-4f61-ad1d-a4979d5c654f input.sk-hidden--visually {border: 0;clip: rect(1px 1px 1px 1px);clip: rect(1px, 1px, 1px, 1px);height: 1px;margin: -1px;overflow: hidden;padding: 0;position: absolute;width: 1px;}#sk-e3f14d63-2ac1-4f61-ad1d-a4979d5c654f div.sk-estimator {font-family: monospace;background-color: #f0f8ff;margin: 0.25em 0.25em;border: 1px dotted black;border-radius: 0.25em;box-sizing: border-box;}#sk-e3f14d63-2ac1-4f61-ad1d-a4979d5c654f div.sk-estimator:hover {background-color: #d4ebff;}#sk-e3f14d63-2ac1-4f61-ad1d-a4979d5c654f div.sk-parallel-item::after {content: \"\";width: 100%;border-bottom: 1px solid gray;flex-grow: 1;}#sk-e3f14d63-2ac1-4f61-ad1d-a4979d5c654f div.sk-label:hover label.sk-toggleable__label {background-color: #d4ebff;}#sk-e3f14d63-2ac1-4f61-ad1d-a4979d5c654f div.sk-serial::before {content: \"\";position: absolute;border-left: 1px solid gray;box-sizing: border-box;top: 2em;bottom: 0;left: 50%;}#sk-e3f14d63-2ac1-4f61-ad1d-a4979d5c654f div.sk-serial {display: flex;flex-direction: column;align-items: center;background-color: white;}#sk-e3f14d63-2ac1-4f61-ad1d-a4979d5c654f div.sk-item {z-index: 1;}#sk-e3f14d63-2ac1-4f61-ad1d-a4979d5c654f div.sk-parallel {display: flex;align-items: stretch;justify-content: center;background-color: white;}#sk-e3f14d63-2ac1-4f61-ad1d-a4979d5c654f div.sk-parallel-item {display: flex;flex-direction: column;position: relative;background-color: white;}#sk-e3f14d63-2ac1-4f61-ad1d-a4979d5c654f div.sk-parallel-item:first-child::after {align-self: flex-end;width: 50%;}#sk-e3f14d63-2ac1-4f61-ad1d-a4979d5c654f div.sk-parallel-item:last-child::after {align-self: flex-start;width: 50%;}#sk-e3f14d63-2ac1-4f61-ad1d-a4979d5c654f div.sk-parallel-item:only-child::after {width: 0;}#sk-e3f14d63-2ac1-4f61-ad1d-a4979d5c654f div.sk-dashed-wrapped {border: 1px dashed gray;margin: 0.2em;box-sizing: border-box;padding-bottom: 0.1em;background-color: white;position: relative;}#sk-e3f14d63-2ac1-4f61-ad1d-a4979d5c654f div.sk-label label {font-family: monospace;font-weight: bold;background-color: white;display: inline-block;line-height: 1.2em;}#sk-e3f14d63-2ac1-4f61-ad1d-a4979d5c654f div.sk-label-container {position: relative;z-index: 2;text-align: center;}#sk-e3f14d63-2ac1-4f61-ad1d-a4979d5c654f div.sk-container {display: inline-block;position: relative;}</style><div id=\"sk-e3f14d63-2ac1-4f61-ad1d-a4979d5c654f\" class\"sk-top-container\"><div class=\"sk-container\"><div class=\"sk-item\"><div class=\"sk-estimator sk-toggleable\"><input class=\"sk-toggleable__control sk-hidden--visually\" id=\"764644ca-e32d-4f3c-a10a-f409c99eaabe\" type=\"checkbox\" checked><label class=\"sk-toggleable__label\" for=\"764644ca-e32d-4f3c-a10a-f409c99eaabe\">FunctionTransformer</label><div class=\"sk-toggleable__content\"><pre>FunctionTransformer(func=<function numerical_select at 0x000001CB4ACED9D0>)</pre></div></div></div></div></div>"
      ],
      "text/plain": [
       "FunctionTransformer(func=<function numerical_select at 0x000001CB4ACED9D0>)"
      ]
     },
     "execution_count": 88,
     "metadata": {},
     "output_type": "execute_result"
    }
   ],
   "source": [
    "numerical_preprocessor.named_steps['numerical_selector']"
   ]
  },
  {
   "cell_type": "markdown",
   "metadata": {},
   "source": [
    "# Бинарные признаки"
   ]
  },
  {
   "cell_type": "code",
   "execution_count": 89,
   "metadata": {
    "ExecuteTime": {
     "end_time": "2022-04-18T19:21:27.503395Z",
     "start_time": "2022-04-18T19:21:27.488394Z"
    }
   },
   "outputs": [
    {
     "data": {
      "text/html": [
       "<div>\n",
       "<style scoped>\n",
       "    .dataframe tbody tr th:only-of-type {\n",
       "        vertical-align: middle;\n",
       "    }\n",
       "\n",
       "    .dataframe tbody tr th {\n",
       "        vertical-align: top;\n",
       "    }\n",
       "\n",
       "    .dataframe thead th {\n",
       "        text-align: right;\n",
       "    }\n",
       "</style>\n",
       "<table border=\"1\" class=\"dataframe\">\n",
       "  <thead>\n",
       "    <tr style=\"text-align: right;\">\n",
       "      <th></th>\n",
       "      <th>Gender</th>\n",
       "      <th>Left - right handed</th>\n",
       "      <th>Only child</th>\n",
       "      <th>Village - town</th>\n",
       "      <th>House - block of flats</th>\n",
       "      <th>random_binar</th>\n",
       "    </tr>\n",
       "  </thead>\n",
       "  <tbody>\n",
       "    <tr>\n",
       "      <th>0</th>\n",
       "      <td>female</td>\n",
       "      <td>right handed</td>\n",
       "      <td>no</td>\n",
       "      <td>village</td>\n",
       "      <td>block of flats</td>\n",
       "      <td>True</td>\n",
       "    </tr>\n",
       "    <tr>\n",
       "      <th>1</th>\n",
       "      <td>female</td>\n",
       "      <td>right handed</td>\n",
       "      <td>no</td>\n",
       "      <td>city</td>\n",
       "      <td>block of flats</td>\n",
       "      <td>True</td>\n",
       "    </tr>\n",
       "    <tr>\n",
       "      <th>2</th>\n",
       "      <td>female</td>\n",
       "      <td>right handed</td>\n",
       "      <td>no</td>\n",
       "      <td>city</td>\n",
       "      <td>block of flats</td>\n",
       "      <td>True</td>\n",
       "    </tr>\n",
       "    <tr>\n",
       "      <th>3</th>\n",
       "      <td>female</td>\n",
       "      <td>right handed</td>\n",
       "      <td>yes</td>\n",
       "      <td>city</td>\n",
       "      <td>house/bungalow</td>\n",
       "      <td>True</td>\n",
       "    </tr>\n",
       "    <tr>\n",
       "      <th>4</th>\n",
       "      <td>female</td>\n",
       "      <td>right handed</td>\n",
       "      <td>no</td>\n",
       "      <td>village</td>\n",
       "      <td>house/bungalow</td>\n",
       "      <td>True</td>\n",
       "    </tr>\n",
       "  </tbody>\n",
       "</table>\n",
       "</div>"
      ],
      "text/plain": [
       "   Gender Left - right handed Only child Village - town  \\\n",
       "0  female        right handed         no        village   \n",
       "1  female        right handed         no           city   \n",
       "2  female        right handed         no           city   \n",
       "3  female        right handed        yes           city   \n",
       "4  female        right handed         no        village   \n",
       "\n",
       "  House - block of flats  random_binar  \n",
       "0         block of flats          True  \n",
       "1         block of flats          True  \n",
       "2         block of flats          True  \n",
       "3         house/bungalow          True  \n",
       "4         house/bungalow          True  "
      ]
     },
     "execution_count": 89,
     "metadata": {},
     "output_type": "execute_result"
    }
   ],
   "source": [
    "# Способ через функцию \n",
    "def binary_select(data):\n",
    "    \n",
    "    data['random_binar'] = data['Gender'] == 'female'\n",
    "    \n",
    "    return data[binary_features + ['random_binar']] \n",
    "\n",
    "# Превращаем функцию в трансформер\n",
    "binary_selector = FunctionTransformer(binary_select, validate=False)  \n",
    "\n",
    "\n",
    "# Применяем к данным\n",
    "binary_selector.fit_transform(data).head()"
   ]
  },
  {
   "cell_type": "code",
   "execution_count": 90,
   "metadata": {
    "ExecuteTime": {
     "end_time": "2022-04-18T19:21:27.519394Z",
     "start_time": "2022-04-18T19:21:27.505395Z"
    }
   },
   "outputs": [],
   "source": [
    "# Тот же самый пособ, но через лябма-функцию / короткий способ\n",
    "binary_selector = FunctionTransformer(lambda data: data[binary_features], validate=False)"
   ]
  },
  {
   "cell_type": "code",
   "execution_count": 91,
   "metadata": {
    "ExecuteTime": {
     "end_time": "2022-04-18T19:21:27.535395Z",
     "start_time": "2022-04-18T19:21:27.521397Z"
    }
   },
   "outputs": [],
   "source": [
    "# pd.get_dummies(data, columns=to_dummies)\n",
    "\n",
    "ohe = OneHotEncoder(sparse=False, handle_unknown='ignore')"
   ]
  },
  {
   "cell_type": "code",
   "execution_count": 92,
   "metadata": {
    "ExecuteTime": {
     "end_time": "2022-04-18T19:21:27.551396Z",
     "start_time": "2022-04-18T19:21:27.536396Z"
    }
   },
   "outputs": [],
   "source": [
    "binary_preprocessor = Pipeline([\n",
    "    (\"binary_selector\", binary_selector),\n",
    "    (\"ohe\", ohe)\n",
    "])"
   ]
  },
  {
   "cell_type": "code",
   "execution_count": 93,
   "metadata": {
    "ExecuteTime": {
     "end_time": "2022-04-18T19:21:27.567397Z",
     "start_time": "2022-04-18T19:21:27.552398Z"
    }
   },
   "outputs": [],
   "source": [
    "class OneHotEncodingDf(OneHotEncoder):\n",
    "    \"\"\"DataFrame Wrapper around OneHotEncoding\"\"\"\n",
    "    def __init__(self, drop=None, sparse=False, handle_unknown='ignore'):\n",
    "        super(OneHotEncodingDf, self).__init__(drop=drop,\n",
    "                                               sparse=sparse,\n",
    "                                               handle_unknown=handle_unknown\n",
    "                                              )\n",
    "\n",
    "    def transform(self, X, y=None):\n",
    "        z = super(OneHotEncodingDf, self).transform(X.values)\n",
    "        return pd.DataFrame(z, index=X.index, columns=self.get_feature_names())"
   ]
  },
  {
   "cell_type": "code",
   "execution_count": 94,
   "metadata": {
    "ExecuteTime": {
     "end_time": "2022-04-18T19:21:27.582765Z",
     "start_time": "2022-04-18T19:21:27.568399Z"
    }
   },
   "outputs": [],
   "source": [
    "ohe_df = OneHotEncodingDf()"
   ]
  },
  {
   "cell_type": "code",
   "execution_count": 95,
   "metadata": {
    "ExecuteTime": {
     "end_time": "2022-04-18T19:21:27.598764Z",
     "start_time": "2022-04-18T19:21:27.583767Z"
    }
   },
   "outputs": [],
   "source": [
    "binary_preprocessor = Pipeline([\n",
    "    (\"binary_selector\", binary_selector),\n",
    "    (\"ohe\", ohe_df)\n",
    "])"
   ]
  },
  {
   "cell_type": "code",
   "execution_count": 96,
   "metadata": {
    "ExecuteTime": {
     "end_time": "2022-04-18T19:21:27.630767Z",
     "start_time": "2022-04-18T19:21:27.600769Z"
    }
   },
   "outputs": [
    {
     "data": {
      "text/html": [
       "<div>\n",
       "<style scoped>\n",
       "    .dataframe tbody tr th:only-of-type {\n",
       "        vertical-align: middle;\n",
       "    }\n",
       "\n",
       "    .dataframe tbody tr th {\n",
       "        vertical-align: top;\n",
       "    }\n",
       "\n",
       "    .dataframe thead th {\n",
       "        text-align: right;\n",
       "    }\n",
       "</style>\n",
       "<table border=\"1\" class=\"dataframe\">\n",
       "  <thead>\n",
       "    <tr style=\"text-align: right;\">\n",
       "      <th></th>\n",
       "      <th>x0_female</th>\n",
       "      <th>x0_male</th>\n",
       "      <th>x0_nan</th>\n",
       "      <th>x1_left handed</th>\n",
       "      <th>x1_right handed</th>\n",
       "      <th>x1_nan</th>\n",
       "      <th>x2_no</th>\n",
       "      <th>x2_yes</th>\n",
       "      <th>x2_nan</th>\n",
       "      <th>x3_city</th>\n",
       "      <th>x3_village</th>\n",
       "      <th>x3_nan</th>\n",
       "      <th>x4_block of flats</th>\n",
       "      <th>x4_house/bungalow</th>\n",
       "      <th>x4_nan</th>\n",
       "    </tr>\n",
       "  </thead>\n",
       "  <tbody>\n",
       "    <tr>\n",
       "      <th>0</th>\n",
       "      <td>1.0</td>\n",
       "      <td>0.0</td>\n",
       "      <td>0.0</td>\n",
       "      <td>0.0</td>\n",
       "      <td>1.0</td>\n",
       "      <td>0.0</td>\n",
       "      <td>1.0</td>\n",
       "      <td>0.0</td>\n",
       "      <td>0.0</td>\n",
       "      <td>0.0</td>\n",
       "      <td>1.0</td>\n",
       "      <td>0.0</td>\n",
       "      <td>1.0</td>\n",
       "      <td>0.0</td>\n",
       "      <td>0.0</td>\n",
       "    </tr>\n",
       "    <tr>\n",
       "      <th>1</th>\n",
       "      <td>1.0</td>\n",
       "      <td>0.0</td>\n",
       "      <td>0.0</td>\n",
       "      <td>0.0</td>\n",
       "      <td>1.0</td>\n",
       "      <td>0.0</td>\n",
       "      <td>1.0</td>\n",
       "      <td>0.0</td>\n",
       "      <td>0.0</td>\n",
       "      <td>1.0</td>\n",
       "      <td>0.0</td>\n",
       "      <td>0.0</td>\n",
       "      <td>1.0</td>\n",
       "      <td>0.0</td>\n",
       "      <td>0.0</td>\n",
       "    </tr>\n",
       "    <tr>\n",
       "      <th>2</th>\n",
       "      <td>1.0</td>\n",
       "      <td>0.0</td>\n",
       "      <td>0.0</td>\n",
       "      <td>0.0</td>\n",
       "      <td>1.0</td>\n",
       "      <td>0.0</td>\n",
       "      <td>1.0</td>\n",
       "      <td>0.0</td>\n",
       "      <td>0.0</td>\n",
       "      <td>1.0</td>\n",
       "      <td>0.0</td>\n",
       "      <td>0.0</td>\n",
       "      <td>1.0</td>\n",
       "      <td>0.0</td>\n",
       "      <td>0.0</td>\n",
       "    </tr>\n",
       "    <tr>\n",
       "      <th>3</th>\n",
       "      <td>1.0</td>\n",
       "      <td>0.0</td>\n",
       "      <td>0.0</td>\n",
       "      <td>0.0</td>\n",
       "      <td>1.0</td>\n",
       "      <td>0.0</td>\n",
       "      <td>0.0</td>\n",
       "      <td>1.0</td>\n",
       "      <td>0.0</td>\n",
       "      <td>1.0</td>\n",
       "      <td>0.0</td>\n",
       "      <td>0.0</td>\n",
       "      <td>0.0</td>\n",
       "      <td>1.0</td>\n",
       "      <td>0.0</td>\n",
       "    </tr>\n",
       "    <tr>\n",
       "      <th>4</th>\n",
       "      <td>1.0</td>\n",
       "      <td>0.0</td>\n",
       "      <td>0.0</td>\n",
       "      <td>0.0</td>\n",
       "      <td>1.0</td>\n",
       "      <td>0.0</td>\n",
       "      <td>1.0</td>\n",
       "      <td>0.0</td>\n",
       "      <td>0.0</td>\n",
       "      <td>0.0</td>\n",
       "      <td>1.0</td>\n",
       "      <td>0.0</td>\n",
       "      <td>0.0</td>\n",
       "      <td>1.0</td>\n",
       "      <td>0.0</td>\n",
       "    </tr>\n",
       "  </tbody>\n",
       "</table>\n",
       "</div>"
      ],
      "text/plain": [
       "   x0_female  x0_male  x0_nan  x1_left handed  x1_right handed  x1_nan  x2_no  \\\n",
       "0        1.0      0.0     0.0             0.0              1.0     0.0    1.0   \n",
       "1        1.0      0.0     0.0             0.0              1.0     0.0    1.0   \n",
       "2        1.0      0.0     0.0             0.0              1.0     0.0    1.0   \n",
       "3        1.0      0.0     0.0             0.0              1.0     0.0    0.0   \n",
       "4        1.0      0.0     0.0             0.0              1.0     0.0    1.0   \n",
       "\n",
       "   x2_yes  x2_nan  x3_city  x3_village  x3_nan  x4_block of flats  \\\n",
       "0     0.0     0.0      0.0         1.0     0.0                1.0   \n",
       "1     0.0     0.0      1.0         0.0     0.0                1.0   \n",
       "2     0.0     0.0      1.0         0.0     0.0                1.0   \n",
       "3     1.0     0.0      1.0         0.0     0.0                0.0   \n",
       "4     0.0     0.0      0.0         1.0     0.0                0.0   \n",
       "\n",
       "   x4_house/bungalow  x4_nan  \n",
       "0                0.0     0.0  \n",
       "1                0.0     0.0  \n",
       "2                0.0     0.0  \n",
       "3                1.0     0.0  \n",
       "4                1.0     0.0  "
      ]
     },
     "execution_count": 96,
     "metadata": {},
     "output_type": "execute_result"
    }
   ],
   "source": [
    "binary_preprocessor.fit_transform(data).head()"
   ]
  },
  {
   "cell_type": "markdown",
   "metadata": {},
   "source": [
    "# Категориальные переменные"
   ]
  },
  {
   "cell_type": "code",
   "execution_count": 97,
   "metadata": {
    "ExecuteTime": {
     "end_time": "2022-04-18T19:21:27.646766Z",
     "start_time": "2022-04-18T19:21:27.631770Z"
    }
   },
   "outputs": [],
   "source": [
    "def categorical_select(data):\n",
    "    return data[categorical_features]\n",
    "\n",
    "categorical_selector = FunctionTransformer(categorical_select, validate=False)\n",
    "\n",
    "\n",
    "# categorical_selector = FunctionTransformer(lambda data: data[categorical_features], validate=False)"
   ]
  },
  {
   "cell_type": "code",
   "execution_count": 98,
   "metadata": {
    "ExecuteTime": {
     "end_time": "2022-04-18T19:21:27.662768Z",
     "start_time": "2022-04-18T19:21:27.648768Z"
    }
   },
   "outputs": [],
   "source": [
    "categorical_preprocessor = Pipeline([\n",
    "    (\"categorical_selector\", categorical_selector),\n",
    "    (\"ohe\", OneHotEncodingDf())\n",
    "])\n",
    "\n",
    "# categorical_selector.fit_transform(data).head()"
   ]
  },
  {
   "cell_type": "markdown",
   "metadata": {},
   "source": [
    "# Feature Union - собираем все в один датасет"
   ]
  },
  {
   "cell_type": "code",
   "execution_count": 99,
   "metadata": {
    "ExecuteTime": {
     "end_time": "2022-04-18T19:21:27.677771Z",
     "start_time": "2022-04-18T19:21:27.664771Z"
    }
   },
   "outputs": [],
   "source": [
    "feature_union = FeatureUnion([\n",
    "    (\"numerical_preprocessor\", numerical_preprocessor),\n",
    "    (\"binary_preprocessor\", binary_preprocessor),\n",
    "    (\"categorical_preprocessor\", categorical_preprocessor)\n",
    "])"
   ]
  },
  {
   "cell_type": "code",
   "execution_count": 100,
   "metadata": {
    "ExecuteTime": {
     "end_time": "2022-04-18T19:21:27.725776Z",
     "start_time": "2022-04-18T19:21:27.679770Z"
    }
   },
   "outputs": [
    {
     "data": {
      "text/html": [
       "<style>#sk-f66c577e-887e-49e7-9e55-7fa3f3142871 {color: black;background-color: white;}#sk-f66c577e-887e-49e7-9e55-7fa3f3142871 pre{padding: 0;}#sk-f66c577e-887e-49e7-9e55-7fa3f3142871 div.sk-toggleable {background-color: white;}#sk-f66c577e-887e-49e7-9e55-7fa3f3142871 label.sk-toggleable__label {cursor: pointer;display: block;width: 100%;margin-bottom: 0;padding: 0.2em 0.3em;box-sizing: border-box;text-align: center;}#sk-f66c577e-887e-49e7-9e55-7fa3f3142871 div.sk-toggleable__content {max-height: 0;max-width: 0;overflow: hidden;text-align: left;background-color: #f0f8ff;}#sk-f66c577e-887e-49e7-9e55-7fa3f3142871 div.sk-toggleable__content pre {margin: 0.2em;color: black;border-radius: 0.25em;background-color: #f0f8ff;}#sk-f66c577e-887e-49e7-9e55-7fa3f3142871 input.sk-toggleable__control:checked~div.sk-toggleable__content {max-height: 200px;max-width: 100%;overflow: auto;}#sk-f66c577e-887e-49e7-9e55-7fa3f3142871 div.sk-estimator input.sk-toggleable__control:checked~label.sk-toggleable__label {background-color: #d4ebff;}#sk-f66c577e-887e-49e7-9e55-7fa3f3142871 div.sk-label input.sk-toggleable__control:checked~label.sk-toggleable__label {background-color: #d4ebff;}#sk-f66c577e-887e-49e7-9e55-7fa3f3142871 input.sk-hidden--visually {border: 0;clip: rect(1px 1px 1px 1px);clip: rect(1px, 1px, 1px, 1px);height: 1px;margin: -1px;overflow: hidden;padding: 0;position: absolute;width: 1px;}#sk-f66c577e-887e-49e7-9e55-7fa3f3142871 div.sk-estimator {font-family: monospace;background-color: #f0f8ff;margin: 0.25em 0.25em;border: 1px dotted black;border-radius: 0.25em;box-sizing: border-box;}#sk-f66c577e-887e-49e7-9e55-7fa3f3142871 div.sk-estimator:hover {background-color: #d4ebff;}#sk-f66c577e-887e-49e7-9e55-7fa3f3142871 div.sk-parallel-item::after {content: \"\";width: 100%;border-bottom: 1px solid gray;flex-grow: 1;}#sk-f66c577e-887e-49e7-9e55-7fa3f3142871 div.sk-label:hover label.sk-toggleable__label {background-color: #d4ebff;}#sk-f66c577e-887e-49e7-9e55-7fa3f3142871 div.sk-serial::before {content: \"\";position: absolute;border-left: 1px solid gray;box-sizing: border-box;top: 2em;bottom: 0;left: 50%;}#sk-f66c577e-887e-49e7-9e55-7fa3f3142871 div.sk-serial {display: flex;flex-direction: column;align-items: center;background-color: white;}#sk-f66c577e-887e-49e7-9e55-7fa3f3142871 div.sk-item {z-index: 1;}#sk-f66c577e-887e-49e7-9e55-7fa3f3142871 div.sk-parallel {display: flex;align-items: stretch;justify-content: center;background-color: white;}#sk-f66c577e-887e-49e7-9e55-7fa3f3142871 div.sk-parallel-item {display: flex;flex-direction: column;position: relative;background-color: white;}#sk-f66c577e-887e-49e7-9e55-7fa3f3142871 div.sk-parallel-item:first-child::after {align-self: flex-end;width: 50%;}#sk-f66c577e-887e-49e7-9e55-7fa3f3142871 div.sk-parallel-item:last-child::after {align-self: flex-start;width: 50%;}#sk-f66c577e-887e-49e7-9e55-7fa3f3142871 div.sk-parallel-item:only-child::after {width: 0;}#sk-f66c577e-887e-49e7-9e55-7fa3f3142871 div.sk-dashed-wrapped {border: 1px dashed gray;margin: 0.2em;box-sizing: border-box;padding-bottom: 0.1em;background-color: white;position: relative;}#sk-f66c577e-887e-49e7-9e55-7fa3f3142871 div.sk-label label {font-family: monospace;font-weight: bold;background-color: white;display: inline-block;line-height: 1.2em;}#sk-f66c577e-887e-49e7-9e55-7fa3f3142871 div.sk-label-container {position: relative;z-index: 2;text-align: center;}#sk-f66c577e-887e-49e7-9e55-7fa3f3142871 div.sk-container {display: inline-block;position: relative;}</style><div id=\"sk-f66c577e-887e-49e7-9e55-7fa3f3142871\" class\"sk-top-container\"><div class=\"sk-container\"><div class=\"sk-item sk-dashed-wrapped\"><div class=\"sk-label-container\"><div class=\"sk-label sk-toggleable\"><input class=\"sk-toggleable__control sk-hidden--visually\" id=\"15eab9a7-f5a9-4031-bc80-91f6e1e929f5\" type=\"checkbox\" ><label class=\"sk-toggleable__label\" for=\"15eab9a7-f5a9-4031-bc80-91f6e1e929f5\">FeatureUnion</label><div class=\"sk-toggleable__content\"><pre>FeatureUnion(transformer_list=[('numerical_preprocessor',\n",
       "                                Pipeline(steps=[('numerical_selector',\n",
       "                                                 FunctionTransformer(func=<function numerical_select at 0x000001CB4ACED9D0>)),\n",
       "                                                ('scaling',\n",
       "                                                 StandardScalerDf())])),\n",
       "                               ('binary_preprocessor',\n",
       "                                Pipeline(steps=[('binary_selector',\n",
       "                                                 FunctionTransformer(func=<function <lambda> at 0x000001CB472911F0>)),\n",
       "                                                ('ohe', OneHotEncodingDf())])),\n",
       "                               ('categorical_preprocessor',\n",
       "                                Pipeline(steps=[('categorical_selector',\n",
       "                                                 FunctionTransformer(func=<function categorical_select at 0x000001CB474D1310>)),\n",
       "                                                ('ohe', OneHotEncodingDf())]))])</pre></div></div></div><div class=\"sk-parallel\"><div class=\"sk-parallel-item\"><div class=\"sk-item\"><div class=\"sk-label-container\"><div class=\"sk-label sk-toggleable\"><label>numerical_preprocessor</label></div></div><div class=\"sk-serial\"><div class=\"sk-item\"><div class=\"sk-serial\"><div class=\"sk-item\"><div class=\"sk-estimator sk-toggleable\"><input class=\"sk-toggleable__control sk-hidden--visually\" id=\"386d5546-1c4f-43ee-8a47-4fc2f130233a\" type=\"checkbox\" ><label class=\"sk-toggleable__label\" for=\"386d5546-1c4f-43ee-8a47-4fc2f130233a\">FunctionTransformer</label><div class=\"sk-toggleable__content\"><pre>FunctionTransformer(func=<function numerical_select at 0x000001CB4ACED9D0>)</pre></div></div></div><div class=\"sk-item\"><div class=\"sk-estimator sk-toggleable\"><input class=\"sk-toggleable__control sk-hidden--visually\" id=\"a7cef5d6-05d8-4a30-9347-b6278a9fdb43\" type=\"checkbox\" ><label class=\"sk-toggleable__label\" for=\"a7cef5d6-05d8-4a30-9347-b6278a9fdb43\">StandardScalerDf</label><div class=\"sk-toggleable__content\"><pre>StandardScalerDf()</pre></div></div></div></div></div></div></div></div><div class=\"sk-parallel-item\"><div class=\"sk-item\"><div class=\"sk-label-container\"><div class=\"sk-label sk-toggleable\"><label>binary_preprocessor</label></div></div><div class=\"sk-serial\"><div class=\"sk-item\"><div class=\"sk-serial\"><div class=\"sk-item\"><div class=\"sk-estimator sk-toggleable\"><input class=\"sk-toggleable__control sk-hidden--visually\" id=\"ce54d5ad-634d-48b1-ae93-0a28234184b1\" type=\"checkbox\" ><label class=\"sk-toggleable__label\" for=\"ce54d5ad-634d-48b1-ae93-0a28234184b1\">FunctionTransformer</label><div class=\"sk-toggleable__content\"><pre>FunctionTransformer(func=<function <lambda> at 0x000001CB472911F0>)</pre></div></div></div><div class=\"sk-item\"><div class=\"sk-estimator sk-toggleable\"><input class=\"sk-toggleable__control sk-hidden--visually\" id=\"569bb8b0-761e-48e6-a5f2-5b8977fb56d3\" type=\"checkbox\" ><label class=\"sk-toggleable__label\" for=\"569bb8b0-761e-48e6-a5f2-5b8977fb56d3\">OneHotEncodingDf</label><div class=\"sk-toggleable__content\"><pre>OneHotEncodingDf()</pre></div></div></div></div></div></div></div></div><div class=\"sk-parallel-item\"><div class=\"sk-item\"><div class=\"sk-label-container\"><div class=\"sk-label sk-toggleable\"><label>categorical_preprocessor</label></div></div><div class=\"sk-serial\"><div class=\"sk-item\"><div class=\"sk-serial\"><div class=\"sk-item\"><div class=\"sk-estimator sk-toggleable\"><input class=\"sk-toggleable__control sk-hidden--visually\" id=\"d6ae52bb-a94d-4b58-a03f-8a6a5463f3fb\" type=\"checkbox\" ><label class=\"sk-toggleable__label\" for=\"d6ae52bb-a94d-4b58-a03f-8a6a5463f3fb\">FunctionTransformer</label><div class=\"sk-toggleable__content\"><pre>FunctionTransformer(func=<function categorical_select at 0x000001CB474D1310>)</pre></div></div></div><div class=\"sk-item\"><div class=\"sk-estimator sk-toggleable\"><input class=\"sk-toggleable__control sk-hidden--visually\" id=\"54b2daa8-037d-438f-b0e6-43729d9f2321\" type=\"checkbox\" ><label class=\"sk-toggleable__label\" for=\"54b2daa8-037d-438f-b0e6-43729d9f2321\">OneHotEncodingDf</label><div class=\"sk-toggleable__content\"><pre>OneHotEncodingDf()</pre></div></div></div></div></div></div></div></div></div></div></div></div>"
      ],
      "text/plain": [
       "FeatureUnion(transformer_list=[('numerical_preprocessor',\n",
       "                                Pipeline(steps=[('numerical_selector',\n",
       "                                                 FunctionTransformer(func=<function numerical_select at 0x000001CB4ACED9D0>)),\n",
       "                                                ('scaling',\n",
       "                                                 StandardScalerDf())])),\n",
       "                               ('binary_preprocessor',\n",
       "                                Pipeline(steps=[('binary_selector',\n",
       "                                                 FunctionTransformer(func=<function <lambda> at 0x000001CB472911F0>)),\n",
       "                                                ('ohe', OneHotEncodingDf())])),\n",
       "                               ('categorical_preprocessor',\n",
       "                                Pipeline(steps=[('categorical_selector',\n",
       "                                                 FunctionTransformer(func=<function categorical_select at 0x000001CB474D1310>)),\n",
       "                                                ('ohe', OneHotEncodingDf())]))])"
      ]
     },
     "execution_count": 100,
     "metadata": {},
     "output_type": "execute_result"
    }
   ],
   "source": [
    "feature_union"
   ]
  },
  {
   "cell_type": "code",
   "execution_count": 101,
   "metadata": {
    "ExecuteTime": {
     "end_time": "2022-04-18T19:21:27.771776Z",
     "start_time": "2022-04-18T19:21:27.727780Z"
    }
   },
   "outputs": [
    {
     "data": {
      "text/plain": [
       "array([[ 0.40397078, -0.39396081, -0.95156664, ...,  0.        ,\n",
       "         0.        ,  0.        ],\n",
       "       [-1.10269062,  0.80577482, -0.95156664, ...,  1.        ,\n",
       "         0.        ,  0.        ],\n",
       "       [ 0.40397078,  2.00551046, -0.95156664, ...,  0.        ,\n",
       "         1.        ,  0.        ],\n",
       "       ...,\n",
       "       [-1.10269062, -0.39396081, -1.80627739, ...,  0.        ,\n",
       "         1.        ,  0.        ],\n",
       "       [ 0.40397078, -0.39396081, -0.09685589, ...,  0.        ,\n",
       "         0.        ,  0.        ],\n",
       "       [ 0.40397078,  2.00551046,  0.75785486, ...,  0.        ,\n",
       "         0.        ,  0.        ]])"
      ]
     },
     "execution_count": 101,
     "metadata": {},
     "output_type": "execute_result"
    }
   ],
   "source": [
    "feature_union.fit_transform(data)"
   ]
  },
  {
   "cell_type": "code",
   "execution_count": 102,
   "metadata": {
    "ExecuteTime": {
     "end_time": "2022-04-18T19:21:27.803781Z",
     "start_time": "2022-04-18T19:21:27.773779Z"
    }
   },
   "outputs": [
    {
     "data": {
      "text/plain": [
       "(1010, 226)"
      ]
     },
     "execution_count": 102,
     "metadata": {},
     "output_type": "execute_result"
    }
   ],
   "source": [
    "feature_union.fit_transform(data).shape"
   ]
  },
  {
   "cell_type": "code",
   "execution_count": null,
   "metadata": {},
   "outputs": [],
   "source": []
  },
  {
   "cell_type": "code",
   "execution_count": 103,
   "metadata": {
    "ExecuteTime": {
     "end_time": "2022-04-18T19:21:27.819781Z",
     "start_time": "2022-04-18T19:21:27.804781Z"
    }
   },
   "outputs": [],
   "source": [
    "# feature_union.named_steps['numerical_preprocessor']"
   ]
  },
  {
   "cell_type": "code",
   "execution_count": null,
   "metadata": {},
   "outputs": [],
   "source": []
  },
  {
   "cell_type": "code",
   "execution_count": 104,
   "metadata": {
    "ExecuteTime": {
     "end_time": "2022-04-18T19:21:27.835781Z",
     "start_time": "2022-04-18T19:21:27.821782Z"
    },
    "code_folding": [
     6,
     28,
     31
    ]
   },
   "outputs": [],
   "source": [
    "from joblib import Parallel, delayed \n",
    "from scipy import sparse\n",
    "\n",
    "# Пара новых гостей\n",
    "from sklearn.pipeline import (\n",
    "    _fit_transform_one,\n",
    "    _transform_one,\n",
    ")\n",
    "\n",
    "# https://zablo.net/blog/post/pandas-dataframe-in-scikit-learn-feature-union/\n",
    "\n",
    "class PandasFeatureUnion(FeatureUnion):\n",
    "    def fit_transform(self, X, y=None, **fit_params):\n",
    "        self._validate_transformers()\n",
    "        result = Parallel(n_jobs=self.n_jobs)(\n",
    "            delayed(_fit_transform_one)(\n",
    "                transformer=trans,\n",
    "                X=X,\n",
    "                y=y,\n",
    "                weight=weight,\n",
    "                **fit_params)\n",
    "            for name, trans, weight in self._iter())\n",
    "\n",
    "        if not result:\n",
    "            # All transformers are None\n",
    "            return np.zeros((X.shape[0], 0))\n",
    "        Xs, transformers = zip(*result)\n",
    "        self._update_transformer_list(transformers)\n",
    "        if any(sparse.issparse(f) for f in Xs):\n",
    "            Xs = sparse.hstack(Xs).tocsr()\n",
    "        else:\n",
    "            Xs = self.merge_dataframes_by_column(Xs)\n",
    "        return Xs\n",
    "\n",
    "    def merge_dataframes_by_column(self, Xs):\n",
    "        return pd.concat(Xs, axis=\"columns\", copy=False)\n",
    "\n",
    "    def transform(self, X):\n",
    "        Xs = Parallel(n_jobs=self.n_jobs)(\n",
    "            delayed(_transform_one)(\n",
    "                transformer=trans,\n",
    "                X=X,\n",
    "                y=None,\n",
    "                weight=weight)\n",
    "            for name, trans, weight in self._iter())\n",
    "        if not Xs:\n",
    "            # All transformers are None\n",
    "            return np.zeros((X.shape[0], 0))\n",
    "        if any(sparse.issparse(f) for f in Xs):\n",
    "            Xs = sparse.hstack(Xs).tocsr()\n",
    "        else:\n",
    "            Xs = self.merge_dataframes_by_column(Xs)\n",
    "        return Xs"
   ]
  },
  {
   "cell_type": "code",
   "execution_count": null,
   "metadata": {},
   "outputs": [],
   "source": []
  },
  {
   "cell_type": "code",
   "execution_count": 105,
   "metadata": {
    "ExecuteTime": {
     "end_time": "2022-04-18T19:21:27.851784Z",
     "start_time": "2022-04-18T19:21:27.836783Z"
    }
   },
   "outputs": [],
   "source": [
    "feature_union = PandasFeatureUnion([\n",
    "    (\"numerical_preprocessor\", numerical_preprocessor),\n",
    "    (\"binary_preprocessor\", binary_preprocessor),\n",
    "    (\"categorical_preprocessor\", categorical_preprocessor)\n",
    "])"
   ]
  },
  {
   "cell_type": "code",
   "execution_count": 106,
   "metadata": {
    "ExecuteTime": {
     "end_time": "2022-04-18T19:21:27.899785Z",
     "start_time": "2022-04-18T19:21:27.853786Z"
    }
   },
   "outputs": [
    {
     "data": {
      "text/html": [
       "<style>#sk-3432b592-922e-4374-b9b8-deec327cccd8 {color: black;background-color: white;}#sk-3432b592-922e-4374-b9b8-deec327cccd8 pre{padding: 0;}#sk-3432b592-922e-4374-b9b8-deec327cccd8 div.sk-toggleable {background-color: white;}#sk-3432b592-922e-4374-b9b8-deec327cccd8 label.sk-toggleable__label {cursor: pointer;display: block;width: 100%;margin-bottom: 0;padding: 0.2em 0.3em;box-sizing: border-box;text-align: center;}#sk-3432b592-922e-4374-b9b8-deec327cccd8 div.sk-toggleable__content {max-height: 0;max-width: 0;overflow: hidden;text-align: left;background-color: #f0f8ff;}#sk-3432b592-922e-4374-b9b8-deec327cccd8 div.sk-toggleable__content pre {margin: 0.2em;color: black;border-radius: 0.25em;background-color: #f0f8ff;}#sk-3432b592-922e-4374-b9b8-deec327cccd8 input.sk-toggleable__control:checked~div.sk-toggleable__content {max-height: 200px;max-width: 100%;overflow: auto;}#sk-3432b592-922e-4374-b9b8-deec327cccd8 div.sk-estimator input.sk-toggleable__control:checked~label.sk-toggleable__label {background-color: #d4ebff;}#sk-3432b592-922e-4374-b9b8-deec327cccd8 div.sk-label input.sk-toggleable__control:checked~label.sk-toggleable__label {background-color: #d4ebff;}#sk-3432b592-922e-4374-b9b8-deec327cccd8 input.sk-hidden--visually {border: 0;clip: rect(1px 1px 1px 1px);clip: rect(1px, 1px, 1px, 1px);height: 1px;margin: -1px;overflow: hidden;padding: 0;position: absolute;width: 1px;}#sk-3432b592-922e-4374-b9b8-deec327cccd8 div.sk-estimator {font-family: monospace;background-color: #f0f8ff;margin: 0.25em 0.25em;border: 1px dotted black;border-radius: 0.25em;box-sizing: border-box;}#sk-3432b592-922e-4374-b9b8-deec327cccd8 div.sk-estimator:hover {background-color: #d4ebff;}#sk-3432b592-922e-4374-b9b8-deec327cccd8 div.sk-parallel-item::after {content: \"\";width: 100%;border-bottom: 1px solid gray;flex-grow: 1;}#sk-3432b592-922e-4374-b9b8-deec327cccd8 div.sk-label:hover label.sk-toggleable__label {background-color: #d4ebff;}#sk-3432b592-922e-4374-b9b8-deec327cccd8 div.sk-serial::before {content: \"\";position: absolute;border-left: 1px solid gray;box-sizing: border-box;top: 2em;bottom: 0;left: 50%;}#sk-3432b592-922e-4374-b9b8-deec327cccd8 div.sk-serial {display: flex;flex-direction: column;align-items: center;background-color: white;}#sk-3432b592-922e-4374-b9b8-deec327cccd8 div.sk-item {z-index: 1;}#sk-3432b592-922e-4374-b9b8-deec327cccd8 div.sk-parallel {display: flex;align-items: stretch;justify-content: center;background-color: white;}#sk-3432b592-922e-4374-b9b8-deec327cccd8 div.sk-parallel-item {display: flex;flex-direction: column;position: relative;background-color: white;}#sk-3432b592-922e-4374-b9b8-deec327cccd8 div.sk-parallel-item:first-child::after {align-self: flex-end;width: 50%;}#sk-3432b592-922e-4374-b9b8-deec327cccd8 div.sk-parallel-item:last-child::after {align-self: flex-start;width: 50%;}#sk-3432b592-922e-4374-b9b8-deec327cccd8 div.sk-parallel-item:only-child::after {width: 0;}#sk-3432b592-922e-4374-b9b8-deec327cccd8 div.sk-dashed-wrapped {border: 1px dashed gray;margin: 0.2em;box-sizing: border-box;padding-bottom: 0.1em;background-color: white;position: relative;}#sk-3432b592-922e-4374-b9b8-deec327cccd8 div.sk-label label {font-family: monospace;font-weight: bold;background-color: white;display: inline-block;line-height: 1.2em;}#sk-3432b592-922e-4374-b9b8-deec327cccd8 div.sk-label-container {position: relative;z-index: 2;text-align: center;}#sk-3432b592-922e-4374-b9b8-deec327cccd8 div.sk-container {display: inline-block;position: relative;}</style><div id=\"sk-3432b592-922e-4374-b9b8-deec327cccd8\" class\"sk-top-container\"><div class=\"sk-container\"><div class=\"sk-item sk-dashed-wrapped\"><div class=\"sk-label-container\"><div class=\"sk-label sk-toggleable\"><input class=\"sk-toggleable__control sk-hidden--visually\" id=\"8de61bc0-f3a9-48d8-9669-4091d86ef0d6\" type=\"checkbox\" ><label class=\"sk-toggleable__label\" for=\"8de61bc0-f3a9-48d8-9669-4091d86ef0d6\">PandasFeatureUnion</label><div class=\"sk-toggleable__content\"><pre>PandasFeatureUnion(transformer_list=[('numerical_preprocessor',\n",
       "                                      Pipeline(steps=[('numerical_selector',\n",
       "                                                       FunctionTransformer(func=<function numerical_select at 0x000001CB4ACED9D0>)),\n",
       "                                                      ('scaling',\n",
       "                                                       StandardScalerDf())])),\n",
       "                                     ('binary_preprocessor',\n",
       "                                      Pipeline(steps=[('binary_selector',\n",
       "                                                       FunctionTransformer(func=<function <lambda> at 0x000001CB472911F0>)),\n",
       "                                                      ('ohe',\n",
       "                                                       OneHotEncodingDf())])),\n",
       "                                     ('categorical_preprocessor',\n",
       "                                      Pipeline(steps=[('categorical_selector',\n",
       "                                                       FunctionTransformer(func=<function categorical_select at 0x000001CB474D1310>)),\n",
       "                                                      ('ohe',\n",
       "                                                       OneHotEncodingDf())]))])</pre></div></div></div><div class=\"sk-parallel\"><div class=\"sk-parallel-item\"><div class=\"sk-item\"><div class=\"sk-label-container\"><div class=\"sk-label sk-toggleable\"><label>numerical_preprocessor</label></div></div><div class=\"sk-serial\"><div class=\"sk-item\"><div class=\"sk-serial\"><div class=\"sk-item\"><div class=\"sk-estimator sk-toggleable\"><input class=\"sk-toggleable__control sk-hidden--visually\" id=\"e461ed3a-5921-4730-91cf-cd93013fe8d4\" type=\"checkbox\" ><label class=\"sk-toggleable__label\" for=\"e461ed3a-5921-4730-91cf-cd93013fe8d4\">FunctionTransformer</label><div class=\"sk-toggleable__content\"><pre>FunctionTransformer(func=<function numerical_select at 0x000001CB4ACED9D0>)</pre></div></div></div><div class=\"sk-item\"><div class=\"sk-estimator sk-toggleable\"><input class=\"sk-toggleable__control sk-hidden--visually\" id=\"7680faf7-08de-409e-9678-099e1727f0a7\" type=\"checkbox\" ><label class=\"sk-toggleable__label\" for=\"7680faf7-08de-409e-9678-099e1727f0a7\">StandardScalerDf</label><div class=\"sk-toggleable__content\"><pre>StandardScalerDf()</pre></div></div></div></div></div></div></div></div><div class=\"sk-parallel-item\"><div class=\"sk-item\"><div class=\"sk-label-container\"><div class=\"sk-label sk-toggleable\"><label>binary_preprocessor</label></div></div><div class=\"sk-serial\"><div class=\"sk-item\"><div class=\"sk-serial\"><div class=\"sk-item\"><div class=\"sk-estimator sk-toggleable\"><input class=\"sk-toggleable__control sk-hidden--visually\" id=\"591e0964-14b1-4513-aa25-354ebf026806\" type=\"checkbox\" ><label class=\"sk-toggleable__label\" for=\"591e0964-14b1-4513-aa25-354ebf026806\">FunctionTransformer</label><div class=\"sk-toggleable__content\"><pre>FunctionTransformer(func=<function <lambda> at 0x000001CB472911F0>)</pre></div></div></div><div class=\"sk-item\"><div class=\"sk-estimator sk-toggleable\"><input class=\"sk-toggleable__control sk-hidden--visually\" id=\"a36fef8d-b229-4dbb-9e0e-ef035399f465\" type=\"checkbox\" ><label class=\"sk-toggleable__label\" for=\"a36fef8d-b229-4dbb-9e0e-ef035399f465\">OneHotEncodingDf</label><div class=\"sk-toggleable__content\"><pre>OneHotEncodingDf()</pre></div></div></div></div></div></div></div></div><div class=\"sk-parallel-item\"><div class=\"sk-item\"><div class=\"sk-label-container\"><div class=\"sk-label sk-toggleable\"><label>categorical_preprocessor</label></div></div><div class=\"sk-serial\"><div class=\"sk-item\"><div class=\"sk-serial\"><div class=\"sk-item\"><div class=\"sk-estimator sk-toggleable\"><input class=\"sk-toggleable__control sk-hidden--visually\" id=\"40b781ff-0234-452c-b067-54577c73a6dd\" type=\"checkbox\" ><label class=\"sk-toggleable__label\" for=\"40b781ff-0234-452c-b067-54577c73a6dd\">FunctionTransformer</label><div class=\"sk-toggleable__content\"><pre>FunctionTransformer(func=<function categorical_select at 0x000001CB474D1310>)</pre></div></div></div><div class=\"sk-item\"><div class=\"sk-estimator sk-toggleable\"><input class=\"sk-toggleable__control sk-hidden--visually\" id=\"1078d177-babe-4696-a54f-ff1796ea1ccb\" type=\"checkbox\" ><label class=\"sk-toggleable__label\" for=\"1078d177-babe-4696-a54f-ff1796ea1ccb\">OneHotEncodingDf</label><div class=\"sk-toggleable__content\"><pre>OneHotEncodingDf()</pre></div></div></div></div></div></div></div></div></div></div></div></div>"
      ],
      "text/plain": [
       "PandasFeatureUnion(transformer_list=[('numerical_preprocessor',\n",
       "                                      Pipeline(steps=[('numerical_selector',\n",
       "                                                       FunctionTransformer(func=<function numerical_select at 0x000001CB4ACED9D0>)),\n",
       "                                                      ('scaling',\n",
       "                                                       StandardScalerDf())])),\n",
       "                                     ('binary_preprocessor',\n",
       "                                      Pipeline(steps=[('binary_selector',\n",
       "                                                       FunctionTransformer(func=<function <lambda> at 0x000001CB472911F0>)),\n",
       "                                                      ('ohe',\n",
       "                                                       OneHotEncodingDf())])),\n",
       "                                     ('categorical_preprocessor',\n",
       "                                      Pipeline(steps=[('categorical_selector',\n",
       "                                                       FunctionTransformer(func=<function categorical_select at 0x000001CB474D1310>)),\n",
       "                                                      ('ohe',\n",
       "                                                       OneHotEncodingDf())]))])"
      ]
     },
     "execution_count": 106,
     "metadata": {},
     "output_type": "execute_result"
    }
   ],
   "source": [
    "feature_union"
   ]
  },
  {
   "cell_type": "code",
   "execution_count": 107,
   "metadata": {
    "ExecuteTime": {
     "end_time": "2022-04-18T19:21:27.931788Z",
     "start_time": "2022-04-18T19:21:27.900787Z"
    }
   },
   "outputs": [],
   "source": [
    "fu_result = feature_union.fit_transform(data)"
   ]
  },
  {
   "cell_type": "code",
   "execution_count": 108,
   "metadata": {
    "ExecuteTime": {
     "end_time": "2022-04-18T19:21:27.963792Z",
     "start_time": "2022-04-18T19:21:27.933790Z"
    }
   },
   "outputs": [
    {
     "data": {
      "text/html": [
       "<div>\n",
       "<style scoped>\n",
       "    .dataframe tbody tr th:only-of-type {\n",
       "        vertical-align: middle;\n",
       "    }\n",
       "\n",
       "    .dataframe tbody tr th {\n",
       "        vertical-align: top;\n",
       "    }\n",
       "\n",
       "    .dataframe thead th {\n",
       "        text-align: right;\n",
       "    }\n",
       "</style>\n",
       "<table border=\"1\" class=\"dataframe\">\n",
       "  <thead>\n",
       "    <tr style=\"text-align: right;\">\n",
       "      <th></th>\n",
       "      <th>Music</th>\n",
       "      <th>Slow songs or fast songs</th>\n",
       "      <th>Dance</th>\n",
       "      <th>Folk</th>\n",
       "      <th>Country</th>\n",
       "      <th>Classical music</th>\n",
       "      <th>Musical</th>\n",
       "      <th>Pop</th>\n",
       "      <th>Rock</th>\n",
       "      <th>Metal or Hardrock</th>\n",
       "      <th>...</th>\n",
       "      <th>x10_3.0</th>\n",
       "      <th>x10_4.0</th>\n",
       "      <th>x10_5.0</th>\n",
       "      <th>x10_nan</th>\n",
       "      <th>x11_1.0</th>\n",
       "      <th>x11_2.0</th>\n",
       "      <th>x11_3.0</th>\n",
       "      <th>x11_4.0</th>\n",
       "      <th>x11_5.0</th>\n",
       "      <th>x11_nan</th>\n",
       "    </tr>\n",
       "  </thead>\n",
       "  <tbody>\n",
       "    <tr>\n",
       "      <th>0</th>\n",
       "      <td>0.403971</td>\n",
       "      <td>-0.393961</td>\n",
       "      <td>-0.951567</td>\n",
       "      <td>-1.131952</td>\n",
       "      <td>-0.114711</td>\n",
       "      <td>-0.763717</td>\n",
       "      <td>-1.398094</td>\n",
       "      <td>1.316567</td>\n",
       "      <td>1.045410</td>\n",
       "      <td>-0.992099</td>\n",
       "      <td>...</td>\n",
       "      <td>1.0</td>\n",
       "      <td>0.0</td>\n",
       "      <td>0.0</td>\n",
       "      <td>0.0</td>\n",
       "      <td>1.0</td>\n",
       "      <td>0.0</td>\n",
       "      <td>0.0</td>\n",
       "      <td>0.0</td>\n",
       "      <td>0.0</td>\n",
       "      <td>0.0</td>\n",
       "    </tr>\n",
       "    <tr>\n",
       "      <th>1</th>\n",
       "      <td>-1.102691</td>\n",
       "      <td>0.805775</td>\n",
       "      <td>-0.951567</td>\n",
       "      <td>-1.131952</td>\n",
       "      <td>-1.044424</td>\n",
       "      <td>-1.562473</td>\n",
       "      <td>-0.604581</td>\n",
       "      <td>-0.406348</td>\n",
       "      <td>1.045410</td>\n",
       "      <td>1.193992</td>\n",
       "      <td>...</td>\n",
       "      <td>0.0</td>\n",
       "      <td>1.0</td>\n",
       "      <td>0.0</td>\n",
       "      <td>0.0</td>\n",
       "      <td>0.0</td>\n",
       "      <td>0.0</td>\n",
       "      <td>0.0</td>\n",
       "      <td>1.0</td>\n",
       "      <td>0.0</td>\n",
       "      <td>0.0</td>\n",
       "    </tr>\n",
       "    <tr>\n",
       "      <th>2</th>\n",
       "      <td>0.403971</td>\n",
       "      <td>2.005510</td>\n",
       "      <td>-0.951567</td>\n",
       "      <td>-0.253487</td>\n",
       "      <td>0.815003</td>\n",
       "      <td>0.833797</td>\n",
       "      <td>1.775957</td>\n",
       "      <td>-0.406348</td>\n",
       "      <td>1.045410</td>\n",
       "      <td>0.465295</td>\n",
       "      <td>...</td>\n",
       "      <td>0.0</td>\n",
       "      <td>0.0</td>\n",
       "      <td>1.0</td>\n",
       "      <td>0.0</td>\n",
       "      <td>0.0</td>\n",
       "      <td>0.0</td>\n",
       "      <td>0.0</td>\n",
       "      <td>0.0</td>\n",
       "      <td>1.0</td>\n",
       "      <td>0.0</td>\n",
       "    </tr>\n",
       "    <tr>\n",
       "      <th>3</th>\n",
       "      <td>0.403971</td>\n",
       "      <td>-0.393961</td>\n",
       "      <td>-0.951567</td>\n",
       "      <td>-1.131952</td>\n",
       "      <td>-1.044424</td>\n",
       "      <td>-1.562473</td>\n",
       "      <td>-1.398094</td>\n",
       "      <td>-1.267805</td>\n",
       "      <td>-1.487795</td>\n",
       "      <td>-0.992099</td>\n",
       "      <td>...</td>\n",
       "      <td>0.0</td>\n",
       "      <td>0.0</td>\n",
       "      <td>0.0</td>\n",
       "      <td>0.0</td>\n",
       "      <td>0.0</td>\n",
       "      <td>0.0</td>\n",
       "      <td>0.0</td>\n",
       "      <td>0.0</td>\n",
       "      <td>1.0</td>\n",
       "      <td>0.0</td>\n",
       "    </tr>\n",
       "    <tr>\n",
       "      <th>4</th>\n",
       "      <td>0.403971</td>\n",
       "      <td>-0.393961</td>\n",
       "      <td>0.757855</td>\n",
       "      <td>0.624978</td>\n",
       "      <td>-0.114711</td>\n",
       "      <td>0.833797</td>\n",
       "      <td>0.188932</td>\n",
       "      <td>1.316567</td>\n",
       "      <td>-0.643394</td>\n",
       "      <td>-0.992099</td>\n",
       "      <td>...</td>\n",
       "      <td>1.0</td>\n",
       "      <td>0.0</td>\n",
       "      <td>0.0</td>\n",
       "      <td>0.0</td>\n",
       "      <td>0.0</td>\n",
       "      <td>0.0</td>\n",
       "      <td>0.0</td>\n",
       "      <td>1.0</td>\n",
       "      <td>0.0</td>\n",
       "      <td>0.0</td>\n",
       "    </tr>\n",
       "    <tr>\n",
       "      <th>...</th>\n",
       "      <td>...</td>\n",
       "      <td>...</td>\n",
       "      <td>...</td>\n",
       "      <td>...</td>\n",
       "      <td>...</td>\n",
       "      <td>...</td>\n",
       "      <td>...</td>\n",
       "      <td>...</td>\n",
       "      <td>...</td>\n",
       "      <td>...</td>\n",
       "      <td>...</td>\n",
       "      <td>...</td>\n",
       "      <td>...</td>\n",
       "      <td>...</td>\n",
       "      <td>...</td>\n",
       "      <td>...</td>\n",
       "      <td>...</td>\n",
       "      <td>...</td>\n",
       "      <td>...</td>\n",
       "      <td>...</td>\n",
       "      <td>...</td>\n",
       "    </tr>\n",
       "    <tr>\n",
       "      <th>1005</th>\n",
       "      <td>0.403971</td>\n",
       "      <td>-1.593696</td>\n",
       "      <td>1.612566</td>\n",
       "      <td>-0.253487</td>\n",
       "      <td>-0.114711</td>\n",
       "      <td>1.632554</td>\n",
       "      <td>0.982445</td>\n",
       "      <td>0.455110</td>\n",
       "      <td>0.201008</td>\n",
       "      <td>0.465295</td>\n",
       "      <td>...</td>\n",
       "      <td>0.0</td>\n",
       "      <td>1.0</td>\n",
       "      <td>0.0</td>\n",
       "      <td>0.0</td>\n",
       "      <td>1.0</td>\n",
       "      <td>0.0</td>\n",
       "      <td>0.0</td>\n",
       "      <td>0.0</td>\n",
       "      <td>0.0</td>\n",
       "      <td>0.0</td>\n",
       "    </tr>\n",
       "    <tr>\n",
       "      <th>1006</th>\n",
       "      <td>-1.102691</td>\n",
       "      <td>0.805775</td>\n",
       "      <td>1.612566</td>\n",
       "      <td>-1.131952</td>\n",
       "      <td>0.815003</td>\n",
       "      <td>0.833797</td>\n",
       "      <td>-1.398094</td>\n",
       "      <td>0.455110</td>\n",
       "      <td>-2.332197</td>\n",
       "      <td>-0.992099</td>\n",
       "      <td>...</td>\n",
       "      <td>0.0</td>\n",
       "      <td>0.0</td>\n",
       "      <td>0.0</td>\n",
       "      <td>0.0</td>\n",
       "      <td>0.0</td>\n",
       "      <td>0.0</td>\n",
       "      <td>0.0</td>\n",
       "      <td>1.0</td>\n",
       "      <td>0.0</td>\n",
       "      <td>0.0</td>\n",
       "    </tr>\n",
       "    <tr>\n",
       "      <th>1007</th>\n",
       "      <td>-1.102691</td>\n",
       "      <td>-0.393961</td>\n",
       "      <td>-1.806277</td>\n",
       "      <td>-1.131952</td>\n",
       "      <td>-0.114711</td>\n",
       "      <td>-0.763717</td>\n",
       "      <td>-0.604581</td>\n",
       "      <td>-0.406348</td>\n",
       "      <td>0.201008</td>\n",
       "      <td>-0.992099</td>\n",
       "      <td>...</td>\n",
       "      <td>0.0</td>\n",
       "      <td>1.0</td>\n",
       "      <td>0.0</td>\n",
       "      <td>0.0</td>\n",
       "      <td>0.0</td>\n",
       "      <td>0.0</td>\n",
       "      <td>0.0</td>\n",
       "      <td>0.0</td>\n",
       "      <td>1.0</td>\n",
       "      <td>0.0</td>\n",
       "    </tr>\n",
       "    <tr>\n",
       "      <th>1008</th>\n",
       "      <td>0.403971</td>\n",
       "      <td>-0.393961</td>\n",
       "      <td>-0.096856</td>\n",
       "      <td>0.624978</td>\n",
       "      <td>-1.044424</td>\n",
       "      <td>0.035040</td>\n",
       "      <td>-1.398094</td>\n",
       "      <td>-0.406348</td>\n",
       "      <td>0.201008</td>\n",
       "      <td>-0.992099</td>\n",
       "      <td>...</td>\n",
       "      <td>1.0</td>\n",
       "      <td>0.0</td>\n",
       "      <td>0.0</td>\n",
       "      <td>0.0</td>\n",
       "      <td>0.0</td>\n",
       "      <td>0.0</td>\n",
       "      <td>1.0</td>\n",
       "      <td>0.0</td>\n",
       "      <td>0.0</td>\n",
       "      <td>0.0</td>\n",
       "    </tr>\n",
       "    <tr>\n",
       "      <th>1009</th>\n",
       "      <td>0.403971</td>\n",
       "      <td>2.005510</td>\n",
       "      <td>0.757855</td>\n",
       "      <td>0.624978</td>\n",
       "      <td>-0.114711</td>\n",
       "      <td>0.035040</td>\n",
       "      <td>0.188932</td>\n",
       "      <td>0.455110</td>\n",
       "      <td>-2.332197</td>\n",
       "      <td>-0.992099</td>\n",
       "      <td>...</td>\n",
       "      <td>0.0</td>\n",
       "      <td>1.0</td>\n",
       "      <td>0.0</td>\n",
       "      <td>0.0</td>\n",
       "      <td>1.0</td>\n",
       "      <td>0.0</td>\n",
       "      <td>0.0</td>\n",
       "      <td>0.0</td>\n",
       "      <td>0.0</td>\n",
       "      <td>0.0</td>\n",
       "    </tr>\n",
       "  </tbody>\n",
       "</table>\n",
       "<p>1010 rows × 226 columns</p>\n",
       "</div>"
      ],
      "text/plain": [
       "         Music  Slow songs or fast songs     Dance      Folk   Country  \\\n",
       "0     0.403971                 -0.393961 -0.951567 -1.131952 -0.114711   \n",
       "1    -1.102691                  0.805775 -0.951567 -1.131952 -1.044424   \n",
       "2     0.403971                  2.005510 -0.951567 -0.253487  0.815003   \n",
       "3     0.403971                 -0.393961 -0.951567 -1.131952 -1.044424   \n",
       "4     0.403971                 -0.393961  0.757855  0.624978 -0.114711   \n",
       "...        ...                       ...       ...       ...       ...   \n",
       "1005  0.403971                 -1.593696  1.612566 -0.253487 -0.114711   \n",
       "1006 -1.102691                  0.805775  1.612566 -1.131952  0.815003   \n",
       "1007 -1.102691                 -0.393961 -1.806277 -1.131952 -0.114711   \n",
       "1008  0.403971                 -0.393961 -0.096856  0.624978 -1.044424   \n",
       "1009  0.403971                  2.005510  0.757855  0.624978 -0.114711   \n",
       "\n",
       "      Classical music   Musical       Pop      Rock  Metal or Hardrock  ...  \\\n",
       "0           -0.763717 -1.398094  1.316567  1.045410          -0.992099  ...   \n",
       "1           -1.562473 -0.604581 -0.406348  1.045410           1.193992  ...   \n",
       "2            0.833797  1.775957 -0.406348  1.045410           0.465295  ...   \n",
       "3           -1.562473 -1.398094 -1.267805 -1.487795          -0.992099  ...   \n",
       "4            0.833797  0.188932  1.316567 -0.643394          -0.992099  ...   \n",
       "...               ...       ...       ...       ...                ...  ...   \n",
       "1005         1.632554  0.982445  0.455110  0.201008           0.465295  ...   \n",
       "1006         0.833797 -1.398094  0.455110 -2.332197          -0.992099  ...   \n",
       "1007        -0.763717 -0.604581 -0.406348  0.201008          -0.992099  ...   \n",
       "1008         0.035040 -1.398094 -0.406348  0.201008          -0.992099  ...   \n",
       "1009         0.035040  0.188932  0.455110 -2.332197          -0.992099  ...   \n",
       "\n",
       "      x10_3.0  x10_4.0  x10_5.0  x10_nan  x11_1.0  x11_2.0  x11_3.0  x11_4.0  \\\n",
       "0         1.0      0.0      0.0      0.0      1.0      0.0      0.0      0.0   \n",
       "1         0.0      1.0      0.0      0.0      0.0      0.0      0.0      1.0   \n",
       "2         0.0      0.0      1.0      0.0      0.0      0.0      0.0      0.0   \n",
       "3         0.0      0.0      0.0      0.0      0.0      0.0      0.0      0.0   \n",
       "4         1.0      0.0      0.0      0.0      0.0      0.0      0.0      1.0   \n",
       "...       ...      ...      ...      ...      ...      ...      ...      ...   \n",
       "1005      0.0      1.0      0.0      0.0      1.0      0.0      0.0      0.0   \n",
       "1006      0.0      0.0      0.0      0.0      0.0      0.0      0.0      1.0   \n",
       "1007      0.0      1.0      0.0      0.0      0.0      0.0      0.0      0.0   \n",
       "1008      1.0      0.0      0.0      0.0      0.0      0.0      1.0      0.0   \n",
       "1009      0.0      1.0      0.0      0.0      1.0      0.0      0.0      0.0   \n",
       "\n",
       "      x11_5.0  x11_nan  \n",
       "0         0.0      0.0  \n",
       "1         0.0      0.0  \n",
       "2         1.0      0.0  \n",
       "3         1.0      0.0  \n",
       "4         0.0      0.0  \n",
       "...       ...      ...  \n",
       "1005      0.0      0.0  \n",
       "1006      0.0      0.0  \n",
       "1007      1.0      0.0  \n",
       "1008      0.0      0.0  \n",
       "1009      0.0      0.0  \n",
       "\n",
       "[1010 rows x 226 columns]"
      ]
     },
     "execution_count": 108,
     "metadata": {},
     "output_type": "execute_result"
    }
   ],
   "source": [
    "fu_result"
   ]
  },
  {
   "cell_type": "markdown",
   "metadata": {},
   "source": [
    "# Попробуем теперь на test "
   ]
  },
  {
   "cell_type": "code",
   "execution_count": 109,
   "metadata": {
    "ExecuteTime": {
     "end_time": "2022-04-18T19:21:28.011797Z",
     "start_time": "2022-04-18T19:21:27.965793Z"
    }
   },
   "outputs": [
    {
     "data": {
      "text/html": [
       "<div>\n",
       "<style scoped>\n",
       "    .dataframe tbody tr th:only-of-type {\n",
       "        vertical-align: middle;\n",
       "    }\n",
       "\n",
       "    .dataframe tbody tr th {\n",
       "        vertical-align: top;\n",
       "    }\n",
       "\n",
       "    .dataframe thead th {\n",
       "        text-align: right;\n",
       "    }\n",
       "</style>\n",
       "<table border=\"1\" class=\"dataframe\">\n",
       "  <thead>\n",
       "    <tr style=\"text-align: right;\">\n",
       "      <th></th>\n",
       "      <th>Music</th>\n",
       "      <th>Slow songs or fast songs</th>\n",
       "      <th>Dance</th>\n",
       "      <th>Folk</th>\n",
       "      <th>Country</th>\n",
       "      <th>Classical music</th>\n",
       "      <th>Musical</th>\n",
       "      <th>Pop</th>\n",
       "      <th>Rock</th>\n",
       "      <th>Metal or Hardrock</th>\n",
       "      <th>...</th>\n",
       "      <th>x10_1.0</th>\n",
       "      <th>x10_2.0</th>\n",
       "      <th>x10_3.0</th>\n",
       "      <th>x10_4.0</th>\n",
       "      <th>x10_5.0</th>\n",
       "      <th>x11_1.0</th>\n",
       "      <th>x11_2.0</th>\n",
       "      <th>x11_3.0</th>\n",
       "      <th>x11_4.0</th>\n",
       "      <th>x11_5.0</th>\n",
       "    </tr>\n",
       "  </thead>\n",
       "  <tbody>\n",
       "    <tr>\n",
       "      <th>707</th>\n",
       "      <td>0.353736</td>\n",
       "      <td>-0.442305</td>\n",
       "      <td>-0.849354</td>\n",
       "      <td>-0.176623</td>\n",
       "      <td>-0.981797</td>\n",
       "      <td>0.084350</td>\n",
       "      <td>1.122873</td>\n",
       "      <td>-0.363438</td>\n",
       "      <td>0.183242</td>\n",
       "      <td>1.971959</td>\n",
       "      <td>...</td>\n",
       "      <td>0.0</td>\n",
       "      <td>0.0</td>\n",
       "      <td>1.0</td>\n",
       "      <td>0.0</td>\n",
       "      <td>0.0</td>\n",
       "      <td>0.0</td>\n",
       "      <td>0.0</td>\n",
       "      <td>0.0</td>\n",
       "      <td>1.0</td>\n",
       "      <td>0.0</td>\n",
       "    </tr>\n",
       "    <tr>\n",
       "      <th>434</th>\n",
       "      <td>0.353736</td>\n",
       "      <td>0.894438</td>\n",
       "      <td>0.733004</td>\n",
       "      <td>-1.177490</td>\n",
       "      <td>0.022146</td>\n",
       "      <td>-0.735046</td>\n",
       "      <td>0.310582</td>\n",
       "      <td>1.340962</td>\n",
       "      <td>-0.739753</td>\n",
       "      <td>-1.007890</td>\n",
       "      <td>...</td>\n",
       "      <td>1.0</td>\n",
       "      <td>0.0</td>\n",
       "      <td>0.0</td>\n",
       "      <td>0.0</td>\n",
       "      <td>0.0</td>\n",
       "      <td>0.0</td>\n",
       "      <td>0.0</td>\n",
       "      <td>0.0</td>\n",
       "      <td>0.0</td>\n",
       "      <td>1.0</td>\n",
       "    </tr>\n",
       "    <tr>\n",
       "      <th>510</th>\n",
       "      <td>0.353736</td>\n",
       "      <td>-0.442305</td>\n",
       "      <td>1.524183</td>\n",
       "      <td>0.824243</td>\n",
       "      <td>1.026089</td>\n",
       "      <td>0.903746</td>\n",
       "      <td>1.122873</td>\n",
       "      <td>0.488762</td>\n",
       "      <td>0.183242</td>\n",
       "      <td>0.482034</td>\n",
       "      <td>...</td>\n",
       "      <td>0.0</td>\n",
       "      <td>0.0</td>\n",
       "      <td>0.0</td>\n",
       "      <td>0.0</td>\n",
       "      <td>1.0</td>\n",
       "      <td>0.0</td>\n",
       "      <td>1.0</td>\n",
       "      <td>0.0</td>\n",
       "      <td>0.0</td>\n",
       "      <td>0.0</td>\n",
       "    </tr>\n",
       "    <tr>\n",
       "      <th>494</th>\n",
       "      <td>0.353736</td>\n",
       "      <td>-0.442305</td>\n",
       "      <td>-0.849354</td>\n",
       "      <td>-0.176623</td>\n",
       "      <td>-0.981797</td>\n",
       "      <td>-0.735046</td>\n",
       "      <td>1.122873</td>\n",
       "      <td>-1.215638</td>\n",
       "      <td>1.106236</td>\n",
       "      <td>-0.262928</td>\n",
       "      <td>...</td>\n",
       "      <td>0.0</td>\n",
       "      <td>0.0</td>\n",
       "      <td>0.0</td>\n",
       "      <td>0.0</td>\n",
       "      <td>1.0</td>\n",
       "      <td>0.0</td>\n",
       "      <td>0.0</td>\n",
       "      <td>0.0</td>\n",
       "      <td>1.0</td>\n",
       "      <td>0.0</td>\n",
       "    </tr>\n",
       "  </tbody>\n",
       "</table>\n",
       "<p>4 rows × 208 columns</p>\n",
       "</div>"
      ],
      "text/plain": [
       "        Music  Slow songs or fast songs     Dance      Folk   Country  \\\n",
       "707  0.353736                 -0.442305 -0.849354 -0.176623 -0.981797   \n",
       "434  0.353736                  0.894438  0.733004 -1.177490  0.022146   \n",
       "510  0.353736                 -0.442305  1.524183  0.824243  1.026089   \n",
       "494  0.353736                 -0.442305 -0.849354 -0.176623 -0.981797   \n",
       "\n",
       "     Classical music   Musical       Pop      Rock  Metal or Hardrock  ...  \\\n",
       "707         0.084350  1.122873 -0.363438  0.183242           1.971959  ...   \n",
       "434        -0.735046  0.310582  1.340962 -0.739753          -1.007890  ...   \n",
       "510         0.903746  1.122873  0.488762  0.183242           0.482034  ...   \n",
       "494        -0.735046  1.122873 -1.215638  1.106236          -0.262928  ...   \n",
       "\n",
       "     x10_1.0  x10_2.0  x10_3.0  x10_4.0  x10_5.0  x11_1.0  x11_2.0  x11_3.0  \\\n",
       "707      0.0      0.0      1.0      0.0      0.0      0.0      0.0      0.0   \n",
       "434      1.0      0.0      0.0      0.0      0.0      0.0      0.0      0.0   \n",
       "510      0.0      0.0      0.0      0.0      1.0      0.0      1.0      0.0   \n",
       "494      0.0      0.0      0.0      0.0      1.0      0.0      0.0      0.0   \n",
       "\n",
       "     x11_4.0  x11_5.0  \n",
       "707      1.0      0.0  \n",
       "434      0.0      1.0  \n",
       "510      0.0      0.0  \n",
       "494      1.0      0.0  \n",
       "\n",
       "[4 rows x 208 columns]"
      ]
     },
     "execution_count": 109,
     "metadata": {},
     "output_type": "execute_result"
    }
   ],
   "source": [
    "from sklearn.model_selection import train_test_split\n",
    "\n",
    "data.dropna(inplace=True)\n",
    "\n",
    "data_train, data_test = train_test_split(data, test_size=0.2, stratify=data[target])\n",
    "\n",
    "feature_union.fit_transform(data_test).head(4)"
   ]
  },
  {
   "cell_type": "markdown",
   "metadata": {},
   "source": [
    "# Using ColumnTransformer"
   ]
  },
  {
   "cell_type": "code",
   "execution_count": 110,
   "metadata": {
    "ExecuteTime": {
     "end_time": "2022-04-18T19:21:28.027798Z",
     "start_time": "2022-04-18T19:21:28.012795Z"
    }
   },
   "outputs": [],
   "source": [
    "# numerical_features"
   ]
  },
  {
   "cell_type": "markdown",
   "metadata": {},
   "source": [
    "<div class=\"alert alert-info\">\n",
    "    \n",
    "У `make_column_selector` есть пара удобных опций, чтобы отфильтровывать признаки вместо нас "
   ]
  },
  {
   "cell_type": "code",
   "execution_count": 111,
   "metadata": {
    "ExecuteTime": {
     "end_time": "2022-04-18T19:21:28.043796Z",
     "start_time": "2022-04-18T19:21:28.028798Z"
    }
   },
   "outputs": [],
   "source": [
    "# data.dtypes"
   ]
  },
  {
   "cell_type": "code",
   "execution_count": 112,
   "metadata": {
    "ExecuteTime": {
     "end_time": "2022-04-18T19:21:28.058798Z",
     "start_time": "2022-04-18T19:21:28.045799Z"
    }
   },
   "outputs": [],
   "source": [
    "# make_column_selector(dtype_include=\"float64\")(data)"
   ]
  },
  {
   "cell_type": "markdown",
   "metadata": {},
   "source": [
    "## Выбираем все, кроме таргета"
   ]
  },
  {
   "cell_type": "code",
   "execution_count": 113,
   "metadata": {
    "ExecuteTime": {
     "end_time": "2022-04-18T19:21:28.074799Z",
     "start_time": "2022-04-18T19:21:28.059800Z"
    }
   },
   "outputs": [
    {
     "data": {
      "text/plain": [
       "['Music',\n",
       " 'Slow songs or fast songs',\n",
       " 'Dance',\n",
       " 'Folk',\n",
       " 'Country',\n",
       " 'Classical music',\n",
       " 'Musical',\n",
       " 'Pop',\n",
       " 'Rock',\n",
       " 'Metal or Hardrock',\n",
       " 'Punk',\n",
       " 'Hiphop, Rap',\n",
       " 'Reggae, Ska',\n",
       " 'Swing, Jazz',\n",
       " 'Rock n roll',\n",
       " 'Alternative',\n",
       " 'Latino',\n",
       " 'Techno, Trance',\n",
       " 'Opera',\n",
       " 'Movies',\n",
       " 'Horror',\n",
       " 'Thriller',\n",
       " 'Comedy',\n",
       " 'Romantic',\n",
       " 'Sci-fi',\n",
       " 'War',\n",
       " 'Fantasy/Fairy tales',\n",
       " 'Animated',\n",
       " 'Documentary',\n",
       " 'Western',\n",
       " 'Action',\n",
       " 'History',\n",
       " 'Psychology',\n",
       " 'Politics',\n",
       " 'Mathematics',\n",
       " 'Physics',\n",
       " 'Internet',\n",
       " 'PC',\n",
       " 'Economy Management',\n",
       " 'Biology',\n",
       " 'Chemistry',\n",
       " 'Reading',\n",
       " 'Geography',\n",
       " 'Foreign languages',\n",
       " 'Medicine',\n",
       " 'Law',\n",
       " 'Cars',\n",
       " 'Art exhibitions',\n",
       " 'Religion',\n",
       " 'Countryside, outdoors',\n",
       " 'Dancing',\n",
       " 'Musical instruments',\n",
       " 'Writing',\n",
       " 'Passive sport',\n",
       " 'Active sport',\n",
       " 'Gardening',\n",
       " 'Celebrities',\n",
       " 'Shopping',\n",
       " 'Science and technology',\n",
       " 'Theatre',\n",
       " 'Fun with friends',\n",
       " 'Adrenaline sports',\n",
       " 'Pets',\n",
       " 'Flying',\n",
       " 'Storm',\n",
       " 'Darkness',\n",
       " 'Heights',\n",
       " 'Spiders',\n",
       " 'Snakes',\n",
       " 'Rats',\n",
       " 'Ageing',\n",
       " 'Dangerous dogs',\n",
       " 'Fear of public speaking',\n",
       " 'Healthy eating',\n",
       " 'Daily events',\n",
       " 'Prioritising workload',\n",
       " 'Writing notes',\n",
       " 'Workaholism',\n",
       " 'Thinking ahead',\n",
       " 'Final judgement',\n",
       " 'Reliability',\n",
       " 'Keeping promises',\n",
       " 'Loss of interest',\n",
       " 'Friends versus money',\n",
       " 'Funniness',\n",
       " 'Fake',\n",
       " 'Criminal damage',\n",
       " 'Decision making',\n",
       " 'Elections',\n",
       " 'Self-criticism',\n",
       " 'Judgment calls',\n",
       " 'Hypochondria',\n",
       " 'Empathy',\n",
       " 'Eating to survive',\n",
       " 'Giving',\n",
       " 'Compassion to animals',\n",
       " 'Borrowed stuff',\n",
       " 'Loneliness',\n",
       " 'Cheating in school',\n",
       " 'Health',\n",
       " 'Changing the past',\n",
       " 'God',\n",
       " 'Dreams',\n",
       " 'Charity',\n",
       " 'Number of friends',\n",
       " 'Waiting',\n",
       " 'New environment',\n",
       " 'Mood swings',\n",
       " 'Appearence and gestures',\n",
       " 'Socializing',\n",
       " 'Achievements',\n",
       " 'Responding to a serious letter',\n",
       " 'Children',\n",
       " 'Assertiveness',\n",
       " 'Getting angry',\n",
       " 'Knowing the right people',\n",
       " 'Public speaking',\n",
       " 'Unpopularity',\n",
       " 'Life struggles',\n",
       " 'Energy levels',\n",
       " 'Small - big dogs',\n",
       " 'Personality',\n",
       " 'Finding lost valuables',\n",
       " 'Getting up',\n",
       " 'Interests or hobbies',\n",
       " \"Parents' advice\",\n",
       " 'Questionnaires or polls',\n",
       " 'Finances',\n",
       " 'Shopping centres',\n",
       " 'Branded clothing',\n",
       " 'Entertainment spending',\n",
       " 'Spending on looks',\n",
       " 'Spending on gadgets',\n",
       " 'Spending on healthy eating',\n",
       " 'Age',\n",
       " 'Height',\n",
       " 'Weight',\n",
       " 'Number of siblings',\n",
       " 'random_values',\n",
       " 'random_binar']"
      ]
     },
     "execution_count": 113,
     "metadata": {},
     "output_type": "execute_result"
    }
   ],
   "source": [
    "make_column_selector('^((?!Happiness).)*$', dtype_exclude=[\"object\"])(data)"
   ]
  },
  {
   "cell_type": "code",
   "execution_count": 114,
   "metadata": {
    "ExecuteTime": {
     "end_time": "2022-04-18T19:21:28.090799Z",
     "start_time": "2022-04-18T19:21:28.075801Z"
    }
   },
   "outputs": [
    {
     "data": {
      "text/plain": [
       "(676, 152)"
      ]
     },
     "execution_count": 114,
     "metadata": {},
     "output_type": "execute_result"
    }
   ],
   "source": [
    "data.shape"
   ]
  },
  {
   "cell_type": "markdown",
   "metadata": {},
   "source": [
    "# А теперь воспользуемся готовым"
   ]
  },
  {
   "cell_type": "code",
   "execution_count": 130,
   "metadata": {
    "ExecuteTime": {
     "end_time": "2022-04-18T19:26:48.777341Z",
     "start_time": "2022-04-18T19:26:48.704906Z"
    }
   },
   "outputs": [
    {
     "data": {
      "text/html": [
       "<div>\n",
       "<style scoped>\n",
       "    .dataframe tbody tr th:only-of-type {\n",
       "        vertical-align: middle;\n",
       "    }\n",
       "\n",
       "    .dataframe tbody tr th {\n",
       "        vertical-align: top;\n",
       "    }\n",
       "\n",
       "    .dataframe thead th {\n",
       "        text-align: right;\n",
       "    }\n",
       "</style>\n",
       "<table border=\"1\" class=\"dataframe\">\n",
       "  <thead>\n",
       "    <tr style=\"text-align: right;\">\n",
       "      <th></th>\n",
       "      <th>num__Music</th>\n",
       "      <th>num__Slow songs or fast songs</th>\n",
       "      <th>num__Dance</th>\n",
       "      <th>num__Folk</th>\n",
       "      <th>num__Country</th>\n",
       "      <th>num__Classical music</th>\n",
       "      <th>num__Musical</th>\n",
       "      <th>num__Pop</th>\n",
       "      <th>num__Rock</th>\n",
       "      <th>num__Metal or Hardrock</th>\n",
       "      <th>...</th>\n",
       "      <th>cat__x6_male</th>\n",
       "      <th>cat__x7_left handed</th>\n",
       "      <th>cat__x7_right handed</th>\n",
       "      <th>cat__x8_no</th>\n",
       "      <th>cat__x8_yes</th>\n",
       "      <th>cat__x9_city</th>\n",
       "      <th>cat__x9_village</th>\n",
       "      <th>cat__x10_block of flats</th>\n",
       "      <th>cat__x10_house/bungalow</th>\n",
       "      <th>Happiness in life</th>\n",
       "    </tr>\n",
       "  </thead>\n",
       "  <tbody>\n",
       "    <tr>\n",
       "      <th>0</th>\n",
       "      <td>0.398786</td>\n",
       "      <td>-0.370599</td>\n",
       "      <td>-0.912166</td>\n",
       "      <td>-1.128520</td>\n",
       "      <td>-0.109944</td>\n",
       "      <td>-0.787370</td>\n",
       "      <td>-1.372560</td>\n",
       "      <td>1.332211</td>\n",
       "      <td>1.053076</td>\n",
       "      <td>-0.972567</td>\n",
       "      <td>...</td>\n",
       "      <td>0.0</td>\n",
       "      <td>0.0</td>\n",
       "      <td>1.0</td>\n",
       "      <td>1.0</td>\n",
       "      <td>0.0</td>\n",
       "      <td>0.0</td>\n",
       "      <td>1.0</td>\n",
       "      <td>1.0</td>\n",
       "      <td>0.0</td>\n",
       "      <td>0.0</td>\n",
       "    </tr>\n",
       "    <tr>\n",
       "      <th>1</th>\n",
       "      <td>-1.286083</td>\n",
       "      <td>0.882026</td>\n",
       "      <td>-0.912166</td>\n",
       "      <td>-1.128520</td>\n",
       "      <td>-1.050734</td>\n",
       "      <td>-1.591392</td>\n",
       "      <td>-0.591541</td>\n",
       "      <td>-0.384804</td>\n",
       "      <td>1.053076</td>\n",
       "      <td>1.178323</td>\n",
       "      <td>...</td>\n",
       "      <td>0.0</td>\n",
       "      <td>0.0</td>\n",
       "      <td>1.0</td>\n",
       "      <td>1.0</td>\n",
       "      <td>0.0</td>\n",
       "      <td>1.0</td>\n",
       "      <td>0.0</td>\n",
       "      <td>1.0</td>\n",
       "      <td>0.0</td>\n",
       "      <td>0.0</td>\n",
       "    </tr>\n",
       "    <tr>\n",
       "      <th>2</th>\n",
       "      <td>0.398786</td>\n",
       "      <td>2.134651</td>\n",
       "      <td>-0.912166</td>\n",
       "      <td>-0.235219</td>\n",
       "      <td>0.830846</td>\n",
       "      <td>0.820673</td>\n",
       "      <td>1.751516</td>\n",
       "      <td>-0.384804</td>\n",
       "      <td>1.053076</td>\n",
       "      <td>0.461360</td>\n",
       "      <td>...</td>\n",
       "      <td>0.0</td>\n",
       "      <td>0.0</td>\n",
       "      <td>1.0</td>\n",
       "      <td>1.0</td>\n",
       "      <td>0.0</td>\n",
       "      <td>1.0</td>\n",
       "      <td>0.0</td>\n",
       "      <td>1.0</td>\n",
       "      <td>0.0</td>\n",
       "      <td>0.0</td>\n",
       "    </tr>\n",
       "    <tr>\n",
       "      <th>3</th>\n",
       "      <td>0.398786</td>\n",
       "      <td>-0.370599</td>\n",
       "      <td>0.779533</td>\n",
       "      <td>0.658083</td>\n",
       "      <td>-0.109944</td>\n",
       "      <td>0.820673</td>\n",
       "      <td>0.189478</td>\n",
       "      <td>1.332211</td>\n",
       "      <td>-0.685335</td>\n",
       "      <td>-0.972567</td>\n",
       "      <td>...</td>\n",
       "      <td>0.0</td>\n",
       "      <td>0.0</td>\n",
       "      <td>1.0</td>\n",
       "      <td>1.0</td>\n",
       "      <td>0.0</td>\n",
       "      <td>0.0</td>\n",
       "      <td>1.0</td>\n",
       "      <td>0.0</td>\n",
       "      <td>1.0</td>\n",
       "      <td>-1.0</td>\n",
       "    </tr>\n",
       "    <tr>\n",
       "      <th>4</th>\n",
       "      <td>0.398786</td>\n",
       "      <td>-0.370599</td>\n",
       "      <td>-0.912166</td>\n",
       "      <td>0.658083</td>\n",
       "      <td>-0.109944</td>\n",
       "      <td>0.016651</td>\n",
       "      <td>0.189478</td>\n",
       "      <td>-1.243312</td>\n",
       "      <td>1.053076</td>\n",
       "      <td>1.895287</td>\n",
       "      <td>...</td>\n",
       "      <td>1.0</td>\n",
       "      <td>0.0</td>\n",
       "      <td>1.0</td>\n",
       "      <td>1.0</td>\n",
       "      <td>0.0</td>\n",
       "      <td>1.0</td>\n",
       "      <td>0.0</td>\n",
       "      <td>1.0</td>\n",
       "      <td>0.0</td>\n",
       "      <td>-1.0</td>\n",
       "    </tr>\n",
       "  </tbody>\n",
       "</table>\n",
       "<p>5 rows × 174 columns</p>\n",
       "</div>"
      ],
      "text/plain": [
       "   num__Music  num__Slow songs or fast songs  num__Dance  num__Folk  \\\n",
       "0    0.398786                      -0.370599   -0.912166  -1.128520   \n",
       "1   -1.286083                       0.882026   -0.912166  -1.128520   \n",
       "2    0.398786                       2.134651   -0.912166  -0.235219   \n",
       "3    0.398786                      -0.370599    0.779533   0.658083   \n",
       "4    0.398786                      -0.370599   -0.912166   0.658083   \n",
       "\n",
       "   num__Country  num__Classical music  num__Musical  num__Pop  num__Rock  \\\n",
       "0     -0.109944             -0.787370     -1.372560  1.332211   1.053076   \n",
       "1     -1.050734             -1.591392     -0.591541 -0.384804   1.053076   \n",
       "2      0.830846              0.820673      1.751516 -0.384804   1.053076   \n",
       "3     -0.109944              0.820673      0.189478  1.332211  -0.685335   \n",
       "4     -0.109944              0.016651      0.189478 -1.243312   1.053076   \n",
       "\n",
       "   num__Metal or Hardrock  ...  cat__x6_male  cat__x7_left handed  \\\n",
       "0               -0.972567  ...           0.0                  0.0   \n",
       "1                1.178323  ...           0.0                  0.0   \n",
       "2                0.461360  ...           0.0                  0.0   \n",
       "3               -0.972567  ...           0.0                  0.0   \n",
       "4                1.895287  ...           1.0                  0.0   \n",
       "\n",
       "   cat__x7_right handed  cat__x8_no  cat__x8_yes  cat__x9_city  \\\n",
       "0                   1.0         1.0          0.0           0.0   \n",
       "1                   1.0         1.0          0.0           1.0   \n",
       "2                   1.0         1.0          0.0           1.0   \n",
       "3                   1.0         1.0          0.0           0.0   \n",
       "4                   1.0         1.0          0.0           1.0   \n",
       "\n",
       "   cat__x9_village  cat__x10_block of flats  cat__x10_house/bungalow  \\\n",
       "0              1.0                      1.0                      0.0   \n",
       "1              0.0                      1.0                      0.0   \n",
       "2              0.0                      1.0                      0.0   \n",
       "3              1.0                      0.0                      1.0   \n",
       "4              0.0                      1.0                      0.0   \n",
       "\n",
       "   Happiness in life  \n",
       "0                0.0  \n",
       "1                0.0  \n",
       "2                0.0  \n",
       "3               -1.0  \n",
       "4               -1.0  \n",
       "\n",
       "[5 rows x 174 columns]"
      ]
     },
     "execution_count": 130,
     "metadata": {},
     "output_type": "execute_result"
    }
   ],
   "source": [
    "# preprocessor = ColumnTransformer(transformers=[\n",
    "#     ('num', StandardScalerDf(), make_column_selector(r'^((?!Happiness).)*$', dtype_exclude=[\"object\"])),\n",
    "#     ('cat', OneHotEncoder(sparse=False, handle_unknown='ignore'), make_column_selector(dtype_include=\"object\"))\n",
    "# ], remainder='passthrough')\n",
    "\n",
    "\n",
    "# result = pd.DataFrame(preprocessor.fit_transform(data), columns=preprocessor.get_feature_names())\n",
    "# result.head(5)"
   ]
  },
  {
   "cell_type": "code",
   "execution_count": null,
   "metadata": {},
   "outputs": [],
   "source": [
    " "
   ]
  },
  {
   "cell_type": "code",
   "execution_count": 131,
   "metadata": {
    "ExecuteTime": {
     "end_time": "2022-04-18T19:26:55.226015Z",
     "start_time": "2022-04-18T19:26:52.871458Z"
    }
   },
   "outputs": [
    {
     "data": {
      "text/html": [
       "<div>\n",
       "<style scoped>\n",
       "    .dataframe tbody tr th:only-of-type {\n",
       "        vertical-align: middle;\n",
       "    }\n",
       "\n",
       "    .dataframe tbody tr th {\n",
       "        vertical-align: top;\n",
       "    }\n",
       "\n",
       "    .dataframe thead th {\n",
       "        text-align: right;\n",
       "    }\n",
       "</style>\n",
       "<table border=\"1\" class=\"dataframe\">\n",
       "  <thead>\n",
       "    <tr style=\"text-align: right;\">\n",
       "      <th></th>\n",
       "      <th>num__Music</th>\n",
       "      <th>num__Slow songs or fast songs</th>\n",
       "      <th>num__Dance</th>\n",
       "      <th>num__Folk</th>\n",
       "      <th>num__Country</th>\n",
       "      <th>num__Classical music</th>\n",
       "      <th>num__Musical</th>\n",
       "      <th>num__Pop</th>\n",
       "      <th>num__Rock</th>\n",
       "      <th>num__Metal or Hardrock</th>\n",
       "      <th>...</th>\n",
       "      <th>cat__x1_right handed</th>\n",
       "      <th>cat__x2_city</th>\n",
       "      <th>cat__x2_village</th>\n",
       "      <th>cat__x3_current smoker</th>\n",
       "      <th>cat__x3_former smoker</th>\n",
       "      <th>cat__x3_never smoked</th>\n",
       "      <th>cat__x3_tried smoking</th>\n",
       "      <th>cat__x4_drink a lot</th>\n",
       "      <th>cat__x4_never</th>\n",
       "      <th>cat__x4_social drinker</th>\n",
       "    </tr>\n",
       "  </thead>\n",
       "  <tbody>\n",
       "    <tr>\n",
       "      <th>0</th>\n",
       "      <td>0.398786</td>\n",
       "      <td>-0.370599</td>\n",
       "      <td>-0.912166</td>\n",
       "      <td>-1.128520</td>\n",
       "      <td>-0.109944</td>\n",
       "      <td>-0.787370</td>\n",
       "      <td>-1.372560</td>\n",
       "      <td>1.332211</td>\n",
       "      <td>1.053076</td>\n",
       "      <td>-0.972567</td>\n",
       "      <td>...</td>\n",
       "      <td>1.0</td>\n",
       "      <td>0.0</td>\n",
       "      <td>1.0</td>\n",
       "      <td>0.0</td>\n",
       "      <td>0.0</td>\n",
       "      <td>1.0</td>\n",
       "      <td>0.0</td>\n",
       "      <td>1.0</td>\n",
       "      <td>0.0</td>\n",
       "      <td>0.0</td>\n",
       "    </tr>\n",
       "    <tr>\n",
       "      <th>1</th>\n",
       "      <td>-1.286083</td>\n",
       "      <td>0.882026</td>\n",
       "      <td>-0.912166</td>\n",
       "      <td>-1.128520</td>\n",
       "      <td>-1.050734</td>\n",
       "      <td>-1.591392</td>\n",
       "      <td>-0.591541</td>\n",
       "      <td>-0.384804</td>\n",
       "      <td>1.053076</td>\n",
       "      <td>1.178323</td>\n",
       "      <td>...</td>\n",
       "      <td>1.0</td>\n",
       "      <td>1.0</td>\n",
       "      <td>0.0</td>\n",
       "      <td>0.0</td>\n",
       "      <td>0.0</td>\n",
       "      <td>1.0</td>\n",
       "      <td>0.0</td>\n",
       "      <td>1.0</td>\n",
       "      <td>0.0</td>\n",
       "      <td>0.0</td>\n",
       "    </tr>\n",
       "    <tr>\n",
       "      <th>2</th>\n",
       "      <td>0.398786</td>\n",
       "      <td>2.134651</td>\n",
       "      <td>-0.912166</td>\n",
       "      <td>-0.235219</td>\n",
       "      <td>0.830846</td>\n",
       "      <td>0.820673</td>\n",
       "      <td>1.751516</td>\n",
       "      <td>-0.384804</td>\n",
       "      <td>1.053076</td>\n",
       "      <td>0.461360</td>\n",
       "      <td>...</td>\n",
       "      <td>1.0</td>\n",
       "      <td>1.0</td>\n",
       "      <td>0.0</td>\n",
       "      <td>0.0</td>\n",
       "      <td>0.0</td>\n",
       "      <td>0.0</td>\n",
       "      <td>1.0</td>\n",
       "      <td>1.0</td>\n",
       "      <td>0.0</td>\n",
       "      <td>0.0</td>\n",
       "    </tr>\n",
       "  </tbody>\n",
       "</table>\n",
       "<p>3 rows × 152 columns</p>\n",
       "</div>"
      ],
      "text/plain": [
       "   num__Music  num__Slow songs or fast songs  num__Dance  num__Folk  \\\n",
       "0    0.398786                      -0.370599   -0.912166  -1.128520   \n",
       "1   -1.286083                       0.882026   -0.912166  -1.128520   \n",
       "2    0.398786                       2.134651   -0.912166  -0.235219   \n",
       "\n",
       "   num__Country  num__Classical music  num__Musical  num__Pop  num__Rock  \\\n",
       "0     -0.109944             -0.787370     -1.372560  1.332211   1.053076   \n",
       "1     -1.050734             -1.591392     -0.591541 -0.384804   1.053076   \n",
       "2      0.830846              0.820673      1.751516 -0.384804   1.053076   \n",
       "\n",
       "   num__Metal or Hardrock  ...  cat__x1_right handed  cat__x2_city  \\\n",
       "0               -0.972567  ...                   1.0           0.0   \n",
       "1                1.178323  ...                   1.0           1.0   \n",
       "2                0.461360  ...                   1.0           1.0   \n",
       "\n",
       "   cat__x2_village  cat__x3_current smoker  cat__x3_former smoker  \\\n",
       "0              1.0                     0.0                    0.0   \n",
       "1              0.0                     0.0                    0.0   \n",
       "2              0.0                     0.0                    0.0   \n",
       "\n",
       "   cat__x3_never smoked  cat__x3_tried smoking  cat__x4_drink a lot  \\\n",
       "0                   1.0                    0.0                  1.0   \n",
       "1                   1.0                    0.0                  1.0   \n",
       "2                   0.0                    1.0                  1.0   \n",
       "\n",
       "   cat__x4_never  cat__x4_social drinker  \n",
       "0            0.0                     0.0  \n",
       "1            0.0                     0.0  \n",
       "2            0.0                     0.0  \n",
       "\n",
       "[3 rows x 152 columns]"
      ]
     },
     "execution_count": 131,
     "metadata": {},
     "output_type": "execute_result"
    }
   ],
   "source": [
    "preprocessor = ColumnTransformer(transformers=[\n",
    "    ('num', StandardScalerDf(), numerical_features),\n",
    "    ('cat', OneHotEncoder(sparse=False, handle_unknown='ignore'), to_dummies),\n",
    "    #('ordinal', 'passthrough', categorical_features)\n",
    "], remainder='drop', n_jobs=-1)\n",
    "\n",
    "\n",
    "result = pd.DataFrame(preprocessor.fit_transform(data), columns=preprocessor.get_feature_names())\n",
    "result.head(3)"
   ]
  },
  {
   "cell_type": "code",
   "execution_count": null,
   "metadata": {},
   "outputs": [],
   "source": [
    " "
   ]
  },
  {
   "cell_type": "code",
   "execution_count": 132,
   "metadata": {
    "ExecuteTime": {
     "end_time": "2022-04-18T19:26:57.587637Z",
     "start_time": "2022-04-18T19:26:57.554418Z"
    }
   },
   "outputs": [
    {
     "data": {
      "text/html": [
       "<style>#sk-0c9f885f-3b60-49ec-8792-4633cf19688f {color: black;background-color: white;}#sk-0c9f885f-3b60-49ec-8792-4633cf19688f pre{padding: 0;}#sk-0c9f885f-3b60-49ec-8792-4633cf19688f div.sk-toggleable {background-color: white;}#sk-0c9f885f-3b60-49ec-8792-4633cf19688f label.sk-toggleable__label {cursor: pointer;display: block;width: 100%;margin-bottom: 0;padding: 0.2em 0.3em;box-sizing: border-box;text-align: center;}#sk-0c9f885f-3b60-49ec-8792-4633cf19688f div.sk-toggleable__content {max-height: 0;max-width: 0;overflow: hidden;text-align: left;background-color: #f0f8ff;}#sk-0c9f885f-3b60-49ec-8792-4633cf19688f div.sk-toggleable__content pre {margin: 0.2em;color: black;border-radius: 0.25em;background-color: #f0f8ff;}#sk-0c9f885f-3b60-49ec-8792-4633cf19688f input.sk-toggleable__control:checked~div.sk-toggleable__content {max-height: 200px;max-width: 100%;overflow: auto;}#sk-0c9f885f-3b60-49ec-8792-4633cf19688f div.sk-estimator input.sk-toggleable__control:checked~label.sk-toggleable__label {background-color: #d4ebff;}#sk-0c9f885f-3b60-49ec-8792-4633cf19688f div.sk-label input.sk-toggleable__control:checked~label.sk-toggleable__label {background-color: #d4ebff;}#sk-0c9f885f-3b60-49ec-8792-4633cf19688f input.sk-hidden--visually {border: 0;clip: rect(1px 1px 1px 1px);clip: rect(1px, 1px, 1px, 1px);height: 1px;margin: -1px;overflow: hidden;padding: 0;position: absolute;width: 1px;}#sk-0c9f885f-3b60-49ec-8792-4633cf19688f div.sk-estimator {font-family: monospace;background-color: #f0f8ff;margin: 0.25em 0.25em;border: 1px dotted black;border-radius: 0.25em;box-sizing: border-box;}#sk-0c9f885f-3b60-49ec-8792-4633cf19688f div.sk-estimator:hover {background-color: #d4ebff;}#sk-0c9f885f-3b60-49ec-8792-4633cf19688f div.sk-parallel-item::after {content: \"\";width: 100%;border-bottom: 1px solid gray;flex-grow: 1;}#sk-0c9f885f-3b60-49ec-8792-4633cf19688f div.sk-label:hover label.sk-toggleable__label {background-color: #d4ebff;}#sk-0c9f885f-3b60-49ec-8792-4633cf19688f div.sk-serial::before {content: \"\";position: absolute;border-left: 1px solid gray;box-sizing: border-box;top: 2em;bottom: 0;left: 50%;}#sk-0c9f885f-3b60-49ec-8792-4633cf19688f div.sk-serial {display: flex;flex-direction: column;align-items: center;background-color: white;}#sk-0c9f885f-3b60-49ec-8792-4633cf19688f div.sk-item {z-index: 1;}#sk-0c9f885f-3b60-49ec-8792-4633cf19688f div.sk-parallel {display: flex;align-items: stretch;justify-content: center;background-color: white;}#sk-0c9f885f-3b60-49ec-8792-4633cf19688f div.sk-parallel-item {display: flex;flex-direction: column;position: relative;background-color: white;}#sk-0c9f885f-3b60-49ec-8792-4633cf19688f div.sk-parallel-item:first-child::after {align-self: flex-end;width: 50%;}#sk-0c9f885f-3b60-49ec-8792-4633cf19688f div.sk-parallel-item:last-child::after {align-self: flex-start;width: 50%;}#sk-0c9f885f-3b60-49ec-8792-4633cf19688f div.sk-parallel-item:only-child::after {width: 0;}#sk-0c9f885f-3b60-49ec-8792-4633cf19688f div.sk-dashed-wrapped {border: 1px dashed gray;margin: 0.2em;box-sizing: border-box;padding-bottom: 0.1em;background-color: white;position: relative;}#sk-0c9f885f-3b60-49ec-8792-4633cf19688f div.sk-label label {font-family: monospace;font-weight: bold;background-color: white;display: inline-block;line-height: 1.2em;}#sk-0c9f885f-3b60-49ec-8792-4633cf19688f div.sk-label-container {position: relative;z-index: 2;text-align: center;}#sk-0c9f885f-3b60-49ec-8792-4633cf19688f div.sk-container {display: inline-block;position: relative;}</style><div id=\"sk-0c9f885f-3b60-49ec-8792-4633cf19688f\" class\"sk-top-container\"><div class=\"sk-container\"><div class=\"sk-item sk-dashed-wrapped\"><div class=\"sk-label-container\"><div class=\"sk-label sk-toggleable\"><input class=\"sk-toggleable__control sk-hidden--visually\" id=\"f378eda7-848e-4600-9154-7ca374b2fce4\" type=\"checkbox\" ><label class=\"sk-toggleable__label\" for=\"f378eda7-848e-4600-9154-7ca374b2fce4\">ColumnTransformer</label><div class=\"sk-toggleable__content\"><pre>ColumnTransformer(n_jobs=-1,\n",
       "                  transformers=[('num', StandardScalerDf(),\n",
       "                                 ['Music', 'Slow songs or fast songs', 'Dance',\n",
       "                                  'Folk', 'Country', 'Classical music',\n",
       "                                  'Musical', 'Pop', 'Rock', 'Metal or Hardrock',\n",
       "                                  'Punk', 'Hiphop, Rap', 'Reggae, Ska',\n",
       "                                  'Swing, Jazz', 'Rock n roll', 'Alternative',\n",
       "                                  'Latino', 'Techno, Trance', 'Opera', 'Movies',\n",
       "                                  'Horror', 'Thriller', 'Comedy', 'Romantic',\n",
       "                                  'Sci-fi', 'War', 'Fantasy/Fairy tales',\n",
       "                                  'Animated', 'Documentary', 'Western', ...]),\n",
       "                                ('cat',\n",
       "                                 OneHotEncoder(handle_unknown='ignore',\n",
       "                                               sparse=False),\n",
       "                                 ['Gender', 'Left - right handed',\n",
       "                                  'Village - town', 'Smoking', 'Alcohol'])])</pre></div></div></div><div class=\"sk-parallel\"><div class=\"sk-parallel-item\"><div class=\"sk-item\"><div class=\"sk-label-container\"><div class=\"sk-label sk-toggleable\"><input class=\"sk-toggleable__control sk-hidden--visually\" id=\"62ed9c68-3fa3-4219-abde-4aef124f4986\" type=\"checkbox\" ><label class=\"sk-toggleable__label\" for=\"62ed9c68-3fa3-4219-abde-4aef124f4986\">num</label><div class=\"sk-toggleable__content\"><pre>['Music', 'Slow songs or fast songs', 'Dance', 'Folk', 'Country', 'Classical music', 'Musical', 'Pop', 'Rock', 'Metal or Hardrock', 'Punk', 'Hiphop, Rap', 'Reggae, Ska', 'Swing, Jazz', 'Rock n roll', 'Alternative', 'Latino', 'Techno, Trance', 'Opera', 'Movies', 'Horror', 'Thriller', 'Comedy', 'Romantic', 'Sci-fi', 'War', 'Fantasy/Fairy tales', 'Animated', 'Documentary', 'Western', 'Action', 'History', 'Psychology', 'Politics', 'Mathematics', 'Physics', 'Internet', 'PC', 'Economy Management', 'Biology', 'Chemistry', 'Reading', 'Geography', 'Foreign languages', 'Medicine', 'Law', 'Cars', 'Art exhibitions', 'Religion', 'Countryside, outdoors', 'Dancing', 'Musical instruments', 'Writing', 'Passive sport', 'Active sport', 'Gardening', 'Celebrities', 'Shopping', 'Science and technology', 'Theatre', 'Fun with friends', 'Adrenaline sports', 'Pets', 'Flying', 'Storm', 'Darkness', 'Heights', 'Spiders', 'Snakes', 'Rats', 'Ageing', 'Dangerous dogs', 'Fear of public speaking', 'Healthy eating', 'Daily events', 'Prioritising workload', 'Writing notes', 'Workaholism', 'Thinking ahead', 'Final judgement', 'Reliability', 'Keeping promises', 'Loss of interest', 'Friends versus money', 'Funniness', 'Fake', 'Criminal damage', 'Decision making', 'Elections', 'Self-criticism', 'Judgment calls', 'Hypochondria', 'Empathy', 'Eating to survive', 'Giving', 'Compassion to animals', 'Borrowed stuff', 'Loneliness', 'Cheating in school', 'Health', 'Changing the past', 'God', 'Dreams', 'Charity', 'Number of friends', 'Waiting', 'New environment', 'Mood swings', 'Appearence and gestures', 'Socializing', 'Achievements', 'Responding to a serious letter', 'Children', 'Assertiveness', 'Getting angry', 'Knowing the right people', 'Public speaking', 'Unpopularity', 'Life struggles', 'Happiness in life', 'Energy levels', 'Small - big dogs', 'Personality', 'Finding lost valuables', 'Getting up', 'Interests or hobbies', \"Parents' advice\", 'Questionnaires or polls', 'Finances', 'Shopping centres', 'Branded clothing', 'Entertainment spending', 'Spending on looks', 'Spending on gadgets', 'Spending on healthy eating', 'Age', 'Height', 'Weight', 'Number of siblings']</pre></div></div></div><div class=\"sk-serial\"><div class=\"sk-item\"><div class=\"sk-estimator sk-toggleable\"><input class=\"sk-toggleable__control sk-hidden--visually\" id=\"1e47234b-5daa-438b-ae65-8a9ab3535a9e\" type=\"checkbox\" ><label class=\"sk-toggleable__label\" for=\"1e47234b-5daa-438b-ae65-8a9ab3535a9e\">StandardScalerDf</label><div class=\"sk-toggleable__content\"><pre>StandardScalerDf()</pre></div></div></div></div></div></div><div class=\"sk-parallel-item\"><div class=\"sk-item\"><div class=\"sk-label-container\"><div class=\"sk-label sk-toggleable\"><input class=\"sk-toggleable__control sk-hidden--visually\" id=\"e0eb7165-2118-4616-bbf0-c9cf769e6b4a\" type=\"checkbox\" ><label class=\"sk-toggleable__label\" for=\"e0eb7165-2118-4616-bbf0-c9cf769e6b4a\">cat</label><div class=\"sk-toggleable__content\"><pre>['Gender', 'Left - right handed', 'Village - town', 'Smoking', 'Alcohol']</pre></div></div></div><div class=\"sk-serial\"><div class=\"sk-item\"><div class=\"sk-estimator sk-toggleable\"><input class=\"sk-toggleable__control sk-hidden--visually\" id=\"a943382e-d2db-48e6-bb33-d03580b223c2\" type=\"checkbox\" ><label class=\"sk-toggleable__label\" for=\"a943382e-d2db-48e6-bb33-d03580b223c2\">OneHotEncoder</label><div class=\"sk-toggleable__content\"><pre>OneHotEncoder(handle_unknown='ignore', sparse=False)</pre></div></div></div></div></div></div></div></div></div></div>"
      ],
      "text/plain": [
       "ColumnTransformer(n_jobs=-1,\n",
       "                  transformers=[('num', StandardScalerDf(),\n",
       "                                 ['Music', 'Slow songs or fast songs', 'Dance',\n",
       "                                  'Folk', 'Country', 'Classical music',\n",
       "                                  'Musical', 'Pop', 'Rock', 'Metal or Hardrock',\n",
       "                                  'Punk', 'Hiphop, Rap', 'Reggae, Ska',\n",
       "                                  'Swing, Jazz', 'Rock n roll', 'Alternative',\n",
       "                                  'Latino', 'Techno, Trance', 'Opera', 'Movies',\n",
       "                                  'Horror', 'Thriller', 'Comedy', 'Romantic',\n",
       "                                  'Sci-fi', 'War', 'Fantasy/Fairy tales',\n",
       "                                  'Animated', 'Documentary', 'Western', ...]),\n",
       "                                ('cat',\n",
       "                                 OneHotEncoder(handle_unknown='ignore',\n",
       "                                               sparse=False),\n",
       "                                 ['Gender', 'Left - right handed',\n",
       "                                  'Village - town', 'Smoking', 'Alcohol'])])"
      ]
     },
     "execution_count": 132,
     "metadata": {},
     "output_type": "execute_result"
    }
   ],
   "source": [
    "preprocessor"
   ]
  },
  {
   "cell_type": "code",
   "execution_count": 133,
   "metadata": {
    "ExecuteTime": {
     "end_time": "2022-04-18T19:27:00.287496Z",
     "start_time": "2022-04-18T19:27:00.271506Z"
    }
   },
   "outputs": [],
   "source": [
    "# preprocessor.get_steps("
   ]
  },
  {
   "cell_type": "code",
   "execution_count": 134,
   "metadata": {
    "ExecuteTime": {
     "end_time": "2022-04-18T19:27:01.086250Z",
     "start_time": "2022-04-18T19:27:01.071262Z"
    }
   },
   "outputs": [
    {
     "data": {
      "text/plain": [
       "Index(['Music', 'Slow songs or fast songs', 'Dance', 'Folk', 'Country',\n",
       "       'Classical music', 'Musical', 'Pop', 'Rock', 'Metal or Hardrock',\n",
       "       ...\n",
       "       'x10_3.0', 'x10_4.0', 'x10_5.0', 'x10_nan', 'x11_1.0', 'x11_2.0',\n",
       "       'x11_3.0', 'x11_4.0', 'x11_5.0', 'x11_nan'],\n",
       "      dtype='object', length=226)"
      ]
     },
     "execution_count": 134,
     "metadata": {},
     "output_type": "execute_result"
    }
   ],
   "source": [
    "fu_result.columns"
   ]
  },
  {
   "cell_type": "code",
   "execution_count": 135,
   "metadata": {
    "ExecuteTime": {
     "end_time": "2022-04-18T19:27:03.354064Z",
     "start_time": "2022-04-18T19:27:03.336596Z"
    }
   },
   "outputs": [
    {
     "data": {
      "text/html": [
       "<style>#sk-8acf1480-6aa8-4f96-9908-def7d0b9feef {color: black;background-color: white;}#sk-8acf1480-6aa8-4f96-9908-def7d0b9feef pre{padding: 0;}#sk-8acf1480-6aa8-4f96-9908-def7d0b9feef div.sk-toggleable {background-color: white;}#sk-8acf1480-6aa8-4f96-9908-def7d0b9feef label.sk-toggleable__label {cursor: pointer;display: block;width: 100%;margin-bottom: 0;padding: 0.2em 0.3em;box-sizing: border-box;text-align: center;}#sk-8acf1480-6aa8-4f96-9908-def7d0b9feef div.sk-toggleable__content {max-height: 0;max-width: 0;overflow: hidden;text-align: left;background-color: #f0f8ff;}#sk-8acf1480-6aa8-4f96-9908-def7d0b9feef div.sk-toggleable__content pre {margin: 0.2em;color: black;border-radius: 0.25em;background-color: #f0f8ff;}#sk-8acf1480-6aa8-4f96-9908-def7d0b9feef input.sk-toggleable__control:checked~div.sk-toggleable__content {max-height: 200px;max-width: 100%;overflow: auto;}#sk-8acf1480-6aa8-4f96-9908-def7d0b9feef div.sk-estimator input.sk-toggleable__control:checked~label.sk-toggleable__label {background-color: #d4ebff;}#sk-8acf1480-6aa8-4f96-9908-def7d0b9feef div.sk-label input.sk-toggleable__control:checked~label.sk-toggleable__label {background-color: #d4ebff;}#sk-8acf1480-6aa8-4f96-9908-def7d0b9feef input.sk-hidden--visually {border: 0;clip: rect(1px 1px 1px 1px);clip: rect(1px, 1px, 1px, 1px);height: 1px;margin: -1px;overflow: hidden;padding: 0;position: absolute;width: 1px;}#sk-8acf1480-6aa8-4f96-9908-def7d0b9feef div.sk-estimator {font-family: monospace;background-color: #f0f8ff;margin: 0.25em 0.25em;border: 1px dotted black;border-radius: 0.25em;box-sizing: border-box;}#sk-8acf1480-6aa8-4f96-9908-def7d0b9feef div.sk-estimator:hover {background-color: #d4ebff;}#sk-8acf1480-6aa8-4f96-9908-def7d0b9feef div.sk-parallel-item::after {content: \"\";width: 100%;border-bottom: 1px solid gray;flex-grow: 1;}#sk-8acf1480-6aa8-4f96-9908-def7d0b9feef div.sk-label:hover label.sk-toggleable__label {background-color: #d4ebff;}#sk-8acf1480-6aa8-4f96-9908-def7d0b9feef div.sk-serial::before {content: \"\";position: absolute;border-left: 1px solid gray;box-sizing: border-box;top: 2em;bottom: 0;left: 50%;}#sk-8acf1480-6aa8-4f96-9908-def7d0b9feef div.sk-serial {display: flex;flex-direction: column;align-items: center;background-color: white;}#sk-8acf1480-6aa8-4f96-9908-def7d0b9feef div.sk-item {z-index: 1;}#sk-8acf1480-6aa8-4f96-9908-def7d0b9feef div.sk-parallel {display: flex;align-items: stretch;justify-content: center;background-color: white;}#sk-8acf1480-6aa8-4f96-9908-def7d0b9feef div.sk-parallel-item {display: flex;flex-direction: column;position: relative;background-color: white;}#sk-8acf1480-6aa8-4f96-9908-def7d0b9feef div.sk-parallel-item:first-child::after {align-self: flex-end;width: 50%;}#sk-8acf1480-6aa8-4f96-9908-def7d0b9feef div.sk-parallel-item:last-child::after {align-self: flex-start;width: 50%;}#sk-8acf1480-6aa8-4f96-9908-def7d0b9feef div.sk-parallel-item:only-child::after {width: 0;}#sk-8acf1480-6aa8-4f96-9908-def7d0b9feef div.sk-dashed-wrapped {border: 1px dashed gray;margin: 0.2em;box-sizing: border-box;padding-bottom: 0.1em;background-color: white;position: relative;}#sk-8acf1480-6aa8-4f96-9908-def7d0b9feef div.sk-label label {font-family: monospace;font-weight: bold;background-color: white;display: inline-block;line-height: 1.2em;}#sk-8acf1480-6aa8-4f96-9908-def7d0b9feef div.sk-label-container {position: relative;z-index: 2;text-align: center;}#sk-8acf1480-6aa8-4f96-9908-def7d0b9feef div.sk-container {display: inline-block;position: relative;}</style><div id=\"sk-8acf1480-6aa8-4f96-9908-def7d0b9feef\" class\"sk-top-container\"><div class=\"sk-container\"><div class=\"sk-item sk-dashed-wrapped\"><div class=\"sk-label-container\"><div class=\"sk-label sk-toggleable\"><input class=\"sk-toggleable__control sk-hidden--visually\" id=\"63cc9c51-c118-49e1-8364-dac941e3aec8\" type=\"checkbox\" ><label class=\"sk-toggleable__label\" for=\"63cc9c51-c118-49e1-8364-dac941e3aec8\">ColumnTransformer</label><div class=\"sk-toggleable__content\"><pre>ColumnTransformer(n_jobs=-1,\n",
       "                  transformers=[('num', StandardScalerDf(),\n",
       "                                 ['Music', 'Slow songs or fast songs', 'Dance',\n",
       "                                  'Folk', 'Country', 'Classical music',\n",
       "                                  'Musical', 'Pop', 'Rock', 'Metal or Hardrock',\n",
       "                                  'Punk', 'Hiphop, Rap', 'Reggae, Ska',\n",
       "                                  'Swing, Jazz', 'Rock n roll', 'Alternative',\n",
       "                                  'Latino', 'Techno, Trance', 'Opera', 'Movies',\n",
       "                                  'Horror', 'Thriller', 'Comedy', 'Romantic',\n",
       "                                  'Sci-fi', 'War', 'Fantasy/Fairy tales',\n",
       "                                  'Animated', 'Documentary', 'Western', ...]),\n",
       "                                ('cat',\n",
       "                                 OneHotEncoder(handle_unknown='ignore',\n",
       "                                               sparse=False),\n",
       "                                 ['Gender', 'Left - right handed',\n",
       "                                  'Village - town', 'Smoking', 'Alcohol'])])</pre></div></div></div><div class=\"sk-parallel\"><div class=\"sk-parallel-item\"><div class=\"sk-item\"><div class=\"sk-label-container\"><div class=\"sk-label sk-toggleable\"><input class=\"sk-toggleable__control sk-hidden--visually\" id=\"436513be-28f4-4fde-aeb0-c46107bfc450\" type=\"checkbox\" ><label class=\"sk-toggleable__label\" for=\"436513be-28f4-4fde-aeb0-c46107bfc450\">num</label><div class=\"sk-toggleable__content\"><pre>['Music', 'Slow songs or fast songs', 'Dance', 'Folk', 'Country', 'Classical music', 'Musical', 'Pop', 'Rock', 'Metal or Hardrock', 'Punk', 'Hiphop, Rap', 'Reggae, Ska', 'Swing, Jazz', 'Rock n roll', 'Alternative', 'Latino', 'Techno, Trance', 'Opera', 'Movies', 'Horror', 'Thriller', 'Comedy', 'Romantic', 'Sci-fi', 'War', 'Fantasy/Fairy tales', 'Animated', 'Documentary', 'Western', 'Action', 'History', 'Psychology', 'Politics', 'Mathematics', 'Physics', 'Internet', 'PC', 'Economy Management', 'Biology', 'Chemistry', 'Reading', 'Geography', 'Foreign languages', 'Medicine', 'Law', 'Cars', 'Art exhibitions', 'Religion', 'Countryside, outdoors', 'Dancing', 'Musical instruments', 'Writing', 'Passive sport', 'Active sport', 'Gardening', 'Celebrities', 'Shopping', 'Science and technology', 'Theatre', 'Fun with friends', 'Adrenaline sports', 'Pets', 'Flying', 'Storm', 'Darkness', 'Heights', 'Spiders', 'Snakes', 'Rats', 'Ageing', 'Dangerous dogs', 'Fear of public speaking', 'Healthy eating', 'Daily events', 'Prioritising workload', 'Writing notes', 'Workaholism', 'Thinking ahead', 'Final judgement', 'Reliability', 'Keeping promises', 'Loss of interest', 'Friends versus money', 'Funniness', 'Fake', 'Criminal damage', 'Decision making', 'Elections', 'Self-criticism', 'Judgment calls', 'Hypochondria', 'Empathy', 'Eating to survive', 'Giving', 'Compassion to animals', 'Borrowed stuff', 'Loneliness', 'Cheating in school', 'Health', 'Changing the past', 'God', 'Dreams', 'Charity', 'Number of friends', 'Waiting', 'New environment', 'Mood swings', 'Appearence and gestures', 'Socializing', 'Achievements', 'Responding to a serious letter', 'Children', 'Assertiveness', 'Getting angry', 'Knowing the right people', 'Public speaking', 'Unpopularity', 'Life struggles', 'Happiness in life', 'Energy levels', 'Small - big dogs', 'Personality', 'Finding lost valuables', 'Getting up', 'Interests or hobbies', \"Parents' advice\", 'Questionnaires or polls', 'Finances', 'Shopping centres', 'Branded clothing', 'Entertainment spending', 'Spending on looks', 'Spending on gadgets', 'Spending on healthy eating', 'Age', 'Height', 'Weight', 'Number of siblings']</pre></div></div></div><div class=\"sk-serial\"><div class=\"sk-item\"><div class=\"sk-estimator sk-toggleable\"><input class=\"sk-toggleable__control sk-hidden--visually\" id=\"1fcc8333-2492-436f-8d34-6bcf5475db7d\" type=\"checkbox\" ><label class=\"sk-toggleable__label\" for=\"1fcc8333-2492-436f-8d34-6bcf5475db7d\">StandardScalerDf</label><div class=\"sk-toggleable__content\"><pre>StandardScalerDf()</pre></div></div></div></div></div></div><div class=\"sk-parallel-item\"><div class=\"sk-item\"><div class=\"sk-label-container\"><div class=\"sk-label sk-toggleable\"><input class=\"sk-toggleable__control sk-hidden--visually\" id=\"bd726dbf-3825-44be-a3bb-c73e52e2213e\" type=\"checkbox\" ><label class=\"sk-toggleable__label\" for=\"bd726dbf-3825-44be-a3bb-c73e52e2213e\">cat</label><div class=\"sk-toggleable__content\"><pre>['Gender', 'Left - right handed', 'Village - town', 'Smoking', 'Alcohol']</pre></div></div></div><div class=\"sk-serial\"><div class=\"sk-item\"><div class=\"sk-estimator sk-toggleable\"><input class=\"sk-toggleable__control sk-hidden--visually\" id=\"586fc47b-1d7c-4b30-ac10-7a0db930ad94\" type=\"checkbox\" ><label class=\"sk-toggleable__label\" for=\"586fc47b-1d7c-4b30-ac10-7a0db930ad94\">OneHotEncoder</label><div class=\"sk-toggleable__content\"><pre>OneHotEncoder(handle_unknown='ignore', sparse=False)</pre></div></div></div></div></div></div></div></div></div></div>"
      ],
      "text/plain": [
       "ColumnTransformer(n_jobs=-1,\n",
       "                  transformers=[('num', StandardScalerDf(),\n",
       "                                 ['Music', 'Slow songs or fast songs', 'Dance',\n",
       "                                  'Folk', 'Country', 'Classical music',\n",
       "                                  'Musical', 'Pop', 'Rock', 'Metal or Hardrock',\n",
       "                                  'Punk', 'Hiphop, Rap', 'Reggae, Ska',\n",
       "                                  'Swing, Jazz', 'Rock n roll', 'Alternative',\n",
       "                                  'Latino', 'Techno, Trance', 'Opera', 'Movies',\n",
       "                                  'Horror', 'Thriller', 'Comedy', 'Romantic',\n",
       "                                  'Sci-fi', 'War', 'Fantasy/Fairy tales',\n",
       "                                  'Animated', 'Documentary', 'Western', ...]),\n",
       "                                ('cat',\n",
       "                                 OneHotEncoder(handle_unknown='ignore',\n",
       "                                               sparse=False),\n",
       "                                 ['Gender', 'Left - right handed',\n",
       "                                  'Village - town', 'Smoking', 'Alcohol'])])"
      ]
     },
     "execution_count": 135,
     "metadata": {},
     "output_type": "execute_result"
    }
   ],
   "source": [
    "preprocessor"
   ]
  },
  {
   "cell_type": "markdown",
   "metadata": {},
   "source": [
    "# ML"
   ]
  },
  {
   "cell_type": "code",
   "execution_count": 136,
   "metadata": {
    "ExecuteTime": {
     "end_time": "2022-04-18T19:27:05.340755Z",
     "start_time": "2022-04-18T19:27:05.334502Z"
    }
   },
   "outputs": [],
   "source": [
    "#И другие, но вы про них уже знаете \n",
    "\n",
    "from sklearn.linear_model import LogisticRegression"
   ]
  },
  {
   "cell_type": "code",
   "execution_count": 137,
   "metadata": {
    "ExecuteTime": {
     "end_time": "2022-04-18T19:27:06.209399Z",
     "start_time": "2022-04-18T19:27:06.195411Z"
    }
   },
   "outputs": [],
   "source": [
    "pipeline = Pipeline([\n",
    "    (\"preprocessing\", feature_union),\n",
    "    #(\"preprocessing\", preprocessor),\n",
    "    (\"modelling\", LogisticRegression()) #Единственное правило это fit/predict\n",
    "])"
   ]
  },
  {
   "cell_type": "markdown",
   "metadata": {},
   "source": [
    "## Displaying pipelines"
   ]
  },
  {
   "cell_type": "code",
   "execution_count": 138,
   "metadata": {
    "ExecuteTime": {
     "end_time": "2022-04-18T19:27:08.339719Z",
     "start_time": "2022-04-18T19:27:08.230534Z"
    }
   },
   "outputs": [
    {
     "data": {
      "text/html": [
       "<style>#sk-143c26bd-771d-4030-9371-63e695104c21 {color: black;background-color: white;}#sk-143c26bd-771d-4030-9371-63e695104c21 pre{padding: 0;}#sk-143c26bd-771d-4030-9371-63e695104c21 div.sk-toggleable {background-color: white;}#sk-143c26bd-771d-4030-9371-63e695104c21 label.sk-toggleable__label {cursor: pointer;display: block;width: 100%;margin-bottom: 0;padding: 0.2em 0.3em;box-sizing: border-box;text-align: center;}#sk-143c26bd-771d-4030-9371-63e695104c21 div.sk-toggleable__content {max-height: 0;max-width: 0;overflow: hidden;text-align: left;background-color: #f0f8ff;}#sk-143c26bd-771d-4030-9371-63e695104c21 div.sk-toggleable__content pre {margin: 0.2em;color: black;border-radius: 0.25em;background-color: #f0f8ff;}#sk-143c26bd-771d-4030-9371-63e695104c21 input.sk-toggleable__control:checked~div.sk-toggleable__content {max-height: 200px;max-width: 100%;overflow: auto;}#sk-143c26bd-771d-4030-9371-63e695104c21 div.sk-estimator input.sk-toggleable__control:checked~label.sk-toggleable__label {background-color: #d4ebff;}#sk-143c26bd-771d-4030-9371-63e695104c21 div.sk-label input.sk-toggleable__control:checked~label.sk-toggleable__label {background-color: #d4ebff;}#sk-143c26bd-771d-4030-9371-63e695104c21 input.sk-hidden--visually {border: 0;clip: rect(1px 1px 1px 1px);clip: rect(1px, 1px, 1px, 1px);height: 1px;margin: -1px;overflow: hidden;padding: 0;position: absolute;width: 1px;}#sk-143c26bd-771d-4030-9371-63e695104c21 div.sk-estimator {font-family: monospace;background-color: #f0f8ff;margin: 0.25em 0.25em;border: 1px dotted black;border-radius: 0.25em;box-sizing: border-box;}#sk-143c26bd-771d-4030-9371-63e695104c21 div.sk-estimator:hover {background-color: #d4ebff;}#sk-143c26bd-771d-4030-9371-63e695104c21 div.sk-parallel-item::after {content: \"\";width: 100%;border-bottom: 1px solid gray;flex-grow: 1;}#sk-143c26bd-771d-4030-9371-63e695104c21 div.sk-label:hover label.sk-toggleable__label {background-color: #d4ebff;}#sk-143c26bd-771d-4030-9371-63e695104c21 div.sk-serial::before {content: \"\";position: absolute;border-left: 1px solid gray;box-sizing: border-box;top: 2em;bottom: 0;left: 50%;}#sk-143c26bd-771d-4030-9371-63e695104c21 div.sk-serial {display: flex;flex-direction: column;align-items: center;background-color: white;}#sk-143c26bd-771d-4030-9371-63e695104c21 div.sk-item {z-index: 1;}#sk-143c26bd-771d-4030-9371-63e695104c21 div.sk-parallel {display: flex;align-items: stretch;justify-content: center;background-color: white;}#sk-143c26bd-771d-4030-9371-63e695104c21 div.sk-parallel-item {display: flex;flex-direction: column;position: relative;background-color: white;}#sk-143c26bd-771d-4030-9371-63e695104c21 div.sk-parallel-item:first-child::after {align-self: flex-end;width: 50%;}#sk-143c26bd-771d-4030-9371-63e695104c21 div.sk-parallel-item:last-child::after {align-self: flex-start;width: 50%;}#sk-143c26bd-771d-4030-9371-63e695104c21 div.sk-parallel-item:only-child::after {width: 0;}#sk-143c26bd-771d-4030-9371-63e695104c21 div.sk-dashed-wrapped {border: 1px dashed gray;margin: 0.2em;box-sizing: border-box;padding-bottom: 0.1em;background-color: white;position: relative;}#sk-143c26bd-771d-4030-9371-63e695104c21 div.sk-label label {font-family: monospace;font-weight: bold;background-color: white;display: inline-block;line-height: 1.2em;}#sk-143c26bd-771d-4030-9371-63e695104c21 div.sk-label-container {position: relative;z-index: 2;text-align: center;}#sk-143c26bd-771d-4030-9371-63e695104c21 div.sk-container {display: inline-block;position: relative;}</style><div id=\"sk-143c26bd-771d-4030-9371-63e695104c21\" class\"sk-top-container\"><div class=\"sk-container\"><div class=\"sk-item sk-dashed-wrapped\"><div class=\"sk-label-container\"><div class=\"sk-label sk-toggleable\"><input class=\"sk-toggleable__control sk-hidden--visually\" id=\"6fc14180-d758-4771-85e7-8a21fa32542b\" type=\"checkbox\" ><label class=\"sk-toggleable__label\" for=\"6fc14180-d758-4771-85e7-8a21fa32542b\">Pipeline</label><div class=\"sk-toggleable__content\"><pre>Pipeline(steps=[('preprocessing',\n",
       "                 PandasFeatureUnion(transformer_list=[('numerical_preprocessor',\n",
       "                                                       Pipeline(steps=[('numerical_selector',\n",
       "                                                                        FunctionTransformer(func=<function numerical_select at 0x000001CB4ACED9D0>)),\n",
       "                                                                       ('scaling',\n",
       "                                                                        StandardScalerDf())])),\n",
       "                                                      ('binary_preprocessor',\n",
       "                                                       Pipeline(steps=[('binary_selector',\n",
       "                                                                        FunctionTransformer(func=<function <lambda> at 0x000001CB472911F0>)),\n",
       "                                                                       ('ohe',\n",
       "                                                                        OneHotEncodingDf())])),\n",
       "                                                      ('categorical_preprocessor',\n",
       "                                                       Pipeline(steps=[('categorical_selector',\n",
       "                                                                        FunctionTransformer(func=<function categorical_select at 0x000001CB474D1310>)),\n",
       "                                                                       ('ohe',\n",
       "                                                                        OneHotEncodingDf())]))])),\n",
       "                ('modelling', LogisticRegression())])</pre></div></div></div><div class=\"sk-serial\"><div class=\"sk-item sk-dashed-wrapped\"><div class=\"sk-label-container\"><div class=\"sk-label sk-toggleable\"><input class=\"sk-toggleable__control sk-hidden--visually\" id=\"af4f5c0b-e1a7-4ce1-8243-aa4adae7865d\" type=\"checkbox\" ><label class=\"sk-toggleable__label\" for=\"af4f5c0b-e1a7-4ce1-8243-aa4adae7865d\">preprocessing: PandasFeatureUnion</label><div class=\"sk-toggleable__content\"><pre>PandasFeatureUnion(transformer_list=[('numerical_preprocessor',\n",
       "                                      Pipeline(steps=[('numerical_selector',\n",
       "                                                       FunctionTransformer(func=<function numerical_select at 0x000001CB4ACED9D0>)),\n",
       "                                                      ('scaling',\n",
       "                                                       StandardScalerDf())])),\n",
       "                                     ('binary_preprocessor',\n",
       "                                      Pipeline(steps=[('binary_selector',\n",
       "                                                       FunctionTransformer(func=<function <lambda> at 0x000001CB472911F0>)),\n",
       "                                                      ('ohe',\n",
       "                                                       OneHotEncodingDf())])),\n",
       "                                     ('categorical_preprocessor',\n",
       "                                      Pipeline(steps=[('categorical_selector',\n",
       "                                                       FunctionTransformer(func=<function categorical_select at 0x000001CB474D1310>)),\n",
       "                                                      ('ohe',\n",
       "                                                       OneHotEncodingDf())]))])</pre></div></div></div><div class=\"sk-parallel\"><div class=\"sk-parallel-item\"><div class=\"sk-item\"><div class=\"sk-label-container\"><div class=\"sk-label sk-toggleable\"><label>numerical_preprocessor</label></div></div><div class=\"sk-serial\"><div class=\"sk-item\"><div class=\"sk-serial\"><div class=\"sk-item\"><div class=\"sk-estimator sk-toggleable\"><input class=\"sk-toggleable__control sk-hidden--visually\" id=\"32032ac1-337d-481c-9643-f41e456e7ba9\" type=\"checkbox\" ><label class=\"sk-toggleable__label\" for=\"32032ac1-337d-481c-9643-f41e456e7ba9\">FunctionTransformer</label><div class=\"sk-toggleable__content\"><pre>FunctionTransformer(func=<function numerical_select at 0x000001CB4ACED9D0>)</pre></div></div></div><div class=\"sk-item\"><div class=\"sk-estimator sk-toggleable\"><input class=\"sk-toggleable__control sk-hidden--visually\" id=\"a75c2b83-f0aa-467d-a941-bd92feeaf708\" type=\"checkbox\" ><label class=\"sk-toggleable__label\" for=\"a75c2b83-f0aa-467d-a941-bd92feeaf708\">StandardScalerDf</label><div class=\"sk-toggleable__content\"><pre>StandardScalerDf()</pre></div></div></div></div></div></div></div></div><div class=\"sk-parallel-item\"><div class=\"sk-item\"><div class=\"sk-label-container\"><div class=\"sk-label sk-toggleable\"><label>binary_preprocessor</label></div></div><div class=\"sk-serial\"><div class=\"sk-item\"><div class=\"sk-serial\"><div class=\"sk-item\"><div class=\"sk-estimator sk-toggleable\"><input class=\"sk-toggleable__control sk-hidden--visually\" id=\"5ce88ef7-0f21-4b6a-8de6-a2427d74af7c\" type=\"checkbox\" ><label class=\"sk-toggleable__label\" for=\"5ce88ef7-0f21-4b6a-8de6-a2427d74af7c\">FunctionTransformer</label><div class=\"sk-toggleable__content\"><pre>FunctionTransformer(func=<function <lambda> at 0x000001CB472911F0>)</pre></div></div></div><div class=\"sk-item\"><div class=\"sk-estimator sk-toggleable\"><input class=\"sk-toggleable__control sk-hidden--visually\" id=\"49bc54ed-921f-482f-a2ab-259a0a83c3aa\" type=\"checkbox\" ><label class=\"sk-toggleable__label\" for=\"49bc54ed-921f-482f-a2ab-259a0a83c3aa\">OneHotEncodingDf</label><div class=\"sk-toggleable__content\"><pre>OneHotEncodingDf()</pre></div></div></div></div></div></div></div></div><div class=\"sk-parallel-item\"><div class=\"sk-item\"><div class=\"sk-label-container\"><div class=\"sk-label sk-toggleable\"><label>categorical_preprocessor</label></div></div><div class=\"sk-serial\"><div class=\"sk-item\"><div class=\"sk-serial\"><div class=\"sk-item\"><div class=\"sk-estimator sk-toggleable\"><input class=\"sk-toggleable__control sk-hidden--visually\" id=\"6fffa937-4b32-414d-b52d-300841b1bdda\" type=\"checkbox\" ><label class=\"sk-toggleable__label\" for=\"6fffa937-4b32-414d-b52d-300841b1bdda\">FunctionTransformer</label><div class=\"sk-toggleable__content\"><pre>FunctionTransformer(func=<function categorical_select at 0x000001CB474D1310>)</pre></div></div></div><div class=\"sk-item\"><div class=\"sk-estimator sk-toggleable\"><input class=\"sk-toggleable__control sk-hidden--visually\" id=\"aea3bf63-cc53-4fa2-a351-c45b8f888302\" type=\"checkbox\" ><label class=\"sk-toggleable__label\" for=\"aea3bf63-cc53-4fa2-a351-c45b8f888302\">OneHotEncodingDf</label><div class=\"sk-toggleable__content\"><pre>OneHotEncodingDf()</pre></div></div></div></div></div></div></div></div></div></div><div class=\"sk-item\"><div class=\"sk-estimator sk-toggleable\"><input class=\"sk-toggleable__control sk-hidden--visually\" id=\"33f4cdc1-724c-4651-80a5-691a821a26eb\" type=\"checkbox\" ><label class=\"sk-toggleable__label\" for=\"33f4cdc1-724c-4651-80a5-691a821a26eb\">LogisticRegression</label><div class=\"sk-toggleable__content\"><pre>LogisticRegression()</pre></div></div></div></div></div></div></div>"
      ],
      "text/plain": [
       "Pipeline(steps=[('preprocessing',\n",
       "                 PandasFeatureUnion(transformer_list=[('numerical_preprocessor',\n",
       "                                                       Pipeline(steps=[('numerical_selector',\n",
       "                                                                        FunctionTransformer(func=<function numerical_select at 0x000001CB4ACED9D0>)),\n",
       "                                                                       ('scaling',\n",
       "                                                                        StandardScalerDf())])),\n",
       "                                                      ('binary_preprocessor',\n",
       "                                                       Pipeline(steps=[('binary_selector',\n",
       "                                                                        FunctionTransformer(func=<function <lambda> at 0x000001CB472911F0>)),\n",
       "                                                                       ('ohe',\n",
       "                                                                        OneHotEncodingDf())])),\n",
       "                                                      ('categorical_preprocessor',\n",
       "                                                       Pipeline(steps=[('categorical_selector',\n",
       "                                                                        FunctionTransformer(func=<function categorical_select at 0x000001CB474D1310>)),\n",
       "                                                                       ('ohe',\n",
       "                                                                        OneHotEncodingDf())]))])),\n",
       "                ('modelling', LogisticRegression())])"
      ]
     },
     "execution_count": 138,
     "metadata": {},
     "output_type": "execute_result"
    }
   ],
   "source": [
    "pipeline"
   ]
  },
  {
   "cell_type": "code",
   "execution_count": 140,
   "metadata": {
    "ExecuteTime": {
     "end_time": "2022-04-18T19:27:16.651525Z",
     "start_time": "2022-04-18T19:27:16.588043Z"
    },
    "scrolled": false
   },
   "outputs": [
    {
     "ename": "KeyError",
     "evalue": "\"['Happiness in life'] not in index\"",
     "output_type": "error",
     "traceback": [
      "\u001b[1;31m---------------------------------------------------------------------------\u001b[0m",
      "\u001b[1;31mKeyError\u001b[0m                                  Traceback (most recent call last)",
      "\u001b[1;32m~\\AppData\\Local\\Temp/ipykernel_17124/2746162672.py\u001b[0m in \u001b[0;36m<module>\u001b[1;34m\u001b[0m\n\u001b[1;32m----> 1\u001b[1;33m \u001b[0mpipeline\u001b[0m\u001b[1;33m.\u001b[0m\u001b[0mfit\u001b[0m\u001b[1;33m(\u001b[0m\u001b[0mdata_train\u001b[0m\u001b[1;33m.\u001b[0m\u001b[0mdrop\u001b[0m\u001b[1;33m(\u001b[0m\u001b[0mtarget\u001b[0m\u001b[1;33m,\u001b[0m \u001b[0maxis\u001b[0m\u001b[1;33m=\u001b[0m\u001b[1;36m1\u001b[0m\u001b[1;33m)\u001b[0m\u001b[1;33m,\u001b[0m \u001b[0mdata_train\u001b[0m\u001b[1;33m[\u001b[0m\u001b[0mtarget\u001b[0m\u001b[1;33m]\u001b[0m\u001b[1;33m)\u001b[0m\u001b[1;33m\u001b[0m\u001b[1;33m\u001b[0m\u001b[0m\n\u001b[0m\u001b[0;32m      2\u001b[0m \u001b[1;33m\u001b[0m\u001b[0m\n\u001b[0;32m      3\u001b[0m \u001b[1;31m# pipeline.predict_proba(data_test)\u001b[0m\u001b[1;33m\u001b[0m\u001b[1;33m\u001b[0m\u001b[0m\n",
      "\u001b[1;32m~\\anaconda3\\lib\\site-packages\\sklearn\\pipeline.py\u001b[0m in \u001b[0;36mfit\u001b[1;34m(self, X, y, **fit_params)\u001b[0m\n\u001b[0;32m    339\u001b[0m         \"\"\"\n\u001b[0;32m    340\u001b[0m         \u001b[0mfit_params_steps\u001b[0m \u001b[1;33m=\u001b[0m \u001b[0mself\u001b[0m\u001b[1;33m.\u001b[0m\u001b[0m_check_fit_params\u001b[0m\u001b[1;33m(\u001b[0m\u001b[1;33m**\u001b[0m\u001b[0mfit_params\u001b[0m\u001b[1;33m)\u001b[0m\u001b[1;33m\u001b[0m\u001b[1;33m\u001b[0m\u001b[0m\n\u001b[1;32m--> 341\u001b[1;33m         \u001b[0mXt\u001b[0m \u001b[1;33m=\u001b[0m \u001b[0mself\u001b[0m\u001b[1;33m.\u001b[0m\u001b[0m_fit\u001b[0m\u001b[1;33m(\u001b[0m\u001b[0mX\u001b[0m\u001b[1;33m,\u001b[0m \u001b[0my\u001b[0m\u001b[1;33m,\u001b[0m \u001b[1;33m**\u001b[0m\u001b[0mfit_params_steps\u001b[0m\u001b[1;33m)\u001b[0m\u001b[1;33m\u001b[0m\u001b[1;33m\u001b[0m\u001b[0m\n\u001b[0m\u001b[0;32m    342\u001b[0m         with _print_elapsed_time('Pipeline',\n\u001b[0;32m    343\u001b[0m                                  self._log_message(len(self.steps) - 1)):\n",
      "\u001b[1;32m~\\anaconda3\\lib\\site-packages\\sklearn\\pipeline.py\u001b[0m in \u001b[0;36m_fit\u001b[1;34m(self, X, y, **fit_params_steps)\u001b[0m\n\u001b[0;32m    301\u001b[0m                 \u001b[0mcloned_transformer\u001b[0m \u001b[1;33m=\u001b[0m \u001b[0mclone\u001b[0m\u001b[1;33m(\u001b[0m\u001b[0mtransformer\u001b[0m\u001b[1;33m)\u001b[0m\u001b[1;33m\u001b[0m\u001b[1;33m\u001b[0m\u001b[0m\n\u001b[0;32m    302\u001b[0m             \u001b[1;31m# Fit or load from cache the current transformer\u001b[0m\u001b[1;33m\u001b[0m\u001b[1;33m\u001b[0m\u001b[0m\n\u001b[1;32m--> 303\u001b[1;33m             X, fitted_transformer = fit_transform_one_cached(\n\u001b[0m\u001b[0;32m    304\u001b[0m                 \u001b[0mcloned_transformer\u001b[0m\u001b[1;33m,\u001b[0m \u001b[0mX\u001b[0m\u001b[1;33m,\u001b[0m \u001b[0my\u001b[0m\u001b[1;33m,\u001b[0m \u001b[1;32mNone\u001b[0m\u001b[1;33m,\u001b[0m\u001b[1;33m\u001b[0m\u001b[1;33m\u001b[0m\u001b[0m\n\u001b[0;32m    305\u001b[0m                 \u001b[0mmessage_clsname\u001b[0m\u001b[1;33m=\u001b[0m\u001b[1;34m'Pipeline'\u001b[0m\u001b[1;33m,\u001b[0m\u001b[1;33m\u001b[0m\u001b[1;33m\u001b[0m\u001b[0m\n",
      "\u001b[1;32m~\\anaconda3\\lib\\site-packages\\joblib\\memory.py\u001b[0m in \u001b[0;36m__call__\u001b[1;34m(self, *args, **kwargs)\u001b[0m\n\u001b[0;32m    347\u001b[0m \u001b[1;33m\u001b[0m\u001b[0m\n\u001b[0;32m    348\u001b[0m     \u001b[1;32mdef\u001b[0m \u001b[0m__call__\u001b[0m\u001b[1;33m(\u001b[0m\u001b[0mself\u001b[0m\u001b[1;33m,\u001b[0m \u001b[1;33m*\u001b[0m\u001b[0margs\u001b[0m\u001b[1;33m,\u001b[0m \u001b[1;33m**\u001b[0m\u001b[0mkwargs\u001b[0m\u001b[1;33m)\u001b[0m\u001b[1;33m:\u001b[0m\u001b[1;33m\u001b[0m\u001b[1;33m\u001b[0m\u001b[0m\n\u001b[1;32m--> 349\u001b[1;33m         \u001b[1;32mreturn\u001b[0m \u001b[0mself\u001b[0m\u001b[1;33m.\u001b[0m\u001b[0mfunc\u001b[0m\u001b[1;33m(\u001b[0m\u001b[1;33m*\u001b[0m\u001b[0margs\u001b[0m\u001b[1;33m,\u001b[0m \u001b[1;33m**\u001b[0m\u001b[0mkwargs\u001b[0m\u001b[1;33m)\u001b[0m\u001b[1;33m\u001b[0m\u001b[1;33m\u001b[0m\u001b[0m\n\u001b[0m\u001b[0;32m    350\u001b[0m \u001b[1;33m\u001b[0m\u001b[0m\n\u001b[0;32m    351\u001b[0m     \u001b[1;32mdef\u001b[0m \u001b[0mcall_and_shelve\u001b[0m\u001b[1;33m(\u001b[0m\u001b[0mself\u001b[0m\u001b[1;33m,\u001b[0m \u001b[1;33m*\u001b[0m\u001b[0margs\u001b[0m\u001b[1;33m,\u001b[0m \u001b[1;33m**\u001b[0m\u001b[0mkwargs\u001b[0m\u001b[1;33m)\u001b[0m\u001b[1;33m:\u001b[0m\u001b[1;33m\u001b[0m\u001b[1;33m\u001b[0m\u001b[0m\n",
      "\u001b[1;32m~\\anaconda3\\lib\\site-packages\\sklearn\\pipeline.py\u001b[0m in \u001b[0;36m_fit_transform_one\u001b[1;34m(transformer, X, y, weight, message_clsname, message, **fit_params)\u001b[0m\n\u001b[0;32m    752\u001b[0m     \u001b[1;32mwith\u001b[0m \u001b[0m_print_elapsed_time\u001b[0m\u001b[1;33m(\u001b[0m\u001b[0mmessage_clsname\u001b[0m\u001b[1;33m,\u001b[0m \u001b[0mmessage\u001b[0m\u001b[1;33m)\u001b[0m\u001b[1;33m:\u001b[0m\u001b[1;33m\u001b[0m\u001b[1;33m\u001b[0m\u001b[0m\n\u001b[0;32m    753\u001b[0m         \u001b[1;32mif\u001b[0m \u001b[0mhasattr\u001b[0m\u001b[1;33m(\u001b[0m\u001b[0mtransformer\u001b[0m\u001b[1;33m,\u001b[0m \u001b[1;34m'fit_transform'\u001b[0m\u001b[1;33m)\u001b[0m\u001b[1;33m:\u001b[0m\u001b[1;33m\u001b[0m\u001b[1;33m\u001b[0m\u001b[0m\n\u001b[1;32m--> 754\u001b[1;33m             \u001b[0mres\u001b[0m \u001b[1;33m=\u001b[0m \u001b[0mtransformer\u001b[0m\u001b[1;33m.\u001b[0m\u001b[0mfit_transform\u001b[0m\u001b[1;33m(\u001b[0m\u001b[0mX\u001b[0m\u001b[1;33m,\u001b[0m \u001b[0my\u001b[0m\u001b[1;33m,\u001b[0m \u001b[1;33m**\u001b[0m\u001b[0mfit_params\u001b[0m\u001b[1;33m)\u001b[0m\u001b[1;33m\u001b[0m\u001b[1;33m\u001b[0m\u001b[0m\n\u001b[0m\u001b[0;32m    755\u001b[0m         \u001b[1;32melse\u001b[0m\u001b[1;33m:\u001b[0m\u001b[1;33m\u001b[0m\u001b[1;33m\u001b[0m\u001b[0m\n\u001b[0;32m    756\u001b[0m             \u001b[0mres\u001b[0m \u001b[1;33m=\u001b[0m \u001b[0mtransformer\u001b[0m\u001b[1;33m.\u001b[0m\u001b[0mfit\u001b[0m\u001b[1;33m(\u001b[0m\u001b[0mX\u001b[0m\u001b[1;33m,\u001b[0m \u001b[0my\u001b[0m\u001b[1;33m,\u001b[0m \u001b[1;33m**\u001b[0m\u001b[0mfit_params\u001b[0m\u001b[1;33m)\u001b[0m\u001b[1;33m.\u001b[0m\u001b[0mtransform\u001b[0m\u001b[1;33m(\u001b[0m\u001b[0mX\u001b[0m\u001b[1;33m)\u001b[0m\u001b[1;33m\u001b[0m\u001b[1;33m\u001b[0m\u001b[0m\n",
      "\u001b[1;32m~\\AppData\\Local\\Temp/ipykernel_17124/2442193232.py\u001b[0m in \u001b[0;36mfit_transform\u001b[1;34m(self, X, y, **fit_params)\u001b[0m\n\u001b[0;32m     13\u001b[0m     \u001b[1;32mdef\u001b[0m \u001b[0mfit_transform\u001b[0m\u001b[1;33m(\u001b[0m\u001b[0mself\u001b[0m\u001b[1;33m,\u001b[0m \u001b[0mX\u001b[0m\u001b[1;33m,\u001b[0m \u001b[0my\u001b[0m\u001b[1;33m=\u001b[0m\u001b[1;32mNone\u001b[0m\u001b[1;33m,\u001b[0m \u001b[1;33m**\u001b[0m\u001b[0mfit_params\u001b[0m\u001b[1;33m)\u001b[0m\u001b[1;33m:\u001b[0m\u001b[1;33m\u001b[0m\u001b[1;33m\u001b[0m\u001b[0m\n\u001b[0;32m     14\u001b[0m         \u001b[0mself\u001b[0m\u001b[1;33m.\u001b[0m\u001b[0m_validate_transformers\u001b[0m\u001b[1;33m(\u001b[0m\u001b[1;33m)\u001b[0m\u001b[1;33m\u001b[0m\u001b[1;33m\u001b[0m\u001b[0m\n\u001b[1;32m---> 15\u001b[1;33m         result = Parallel(n_jobs=self.n_jobs)(\n\u001b[0m\u001b[0;32m     16\u001b[0m             delayed(_fit_transform_one)(\n\u001b[0;32m     17\u001b[0m                 \u001b[0mtransformer\u001b[0m\u001b[1;33m=\u001b[0m\u001b[0mtrans\u001b[0m\u001b[1;33m,\u001b[0m\u001b[1;33m\u001b[0m\u001b[1;33m\u001b[0m\u001b[0m\n",
      "\u001b[1;32m~\\anaconda3\\lib\\site-packages\\joblib\\parallel.py\u001b[0m in \u001b[0;36m__call__\u001b[1;34m(self, iterable)\u001b[0m\n\u001b[0;32m   1041\u001b[0m             \u001b[1;31m# remaining jobs.\u001b[0m\u001b[1;33m\u001b[0m\u001b[1;33m\u001b[0m\u001b[0m\n\u001b[0;32m   1042\u001b[0m             \u001b[0mself\u001b[0m\u001b[1;33m.\u001b[0m\u001b[0m_iterating\u001b[0m \u001b[1;33m=\u001b[0m \u001b[1;32mFalse\u001b[0m\u001b[1;33m\u001b[0m\u001b[1;33m\u001b[0m\u001b[0m\n\u001b[1;32m-> 1043\u001b[1;33m             \u001b[1;32mif\u001b[0m \u001b[0mself\u001b[0m\u001b[1;33m.\u001b[0m\u001b[0mdispatch_one_batch\u001b[0m\u001b[1;33m(\u001b[0m\u001b[0miterator\u001b[0m\u001b[1;33m)\u001b[0m\u001b[1;33m:\u001b[0m\u001b[1;33m\u001b[0m\u001b[1;33m\u001b[0m\u001b[0m\n\u001b[0m\u001b[0;32m   1044\u001b[0m                 \u001b[0mself\u001b[0m\u001b[1;33m.\u001b[0m\u001b[0m_iterating\u001b[0m \u001b[1;33m=\u001b[0m \u001b[0mself\u001b[0m\u001b[1;33m.\u001b[0m\u001b[0m_original_iterator\u001b[0m \u001b[1;32mis\u001b[0m \u001b[1;32mnot\u001b[0m \u001b[1;32mNone\u001b[0m\u001b[1;33m\u001b[0m\u001b[1;33m\u001b[0m\u001b[0m\n\u001b[0;32m   1045\u001b[0m \u001b[1;33m\u001b[0m\u001b[0m\n",
      "\u001b[1;32m~\\anaconda3\\lib\\site-packages\\joblib\\parallel.py\u001b[0m in \u001b[0;36mdispatch_one_batch\u001b[1;34m(self, iterator)\u001b[0m\n\u001b[0;32m    859\u001b[0m                 \u001b[1;32mreturn\u001b[0m \u001b[1;32mFalse\u001b[0m\u001b[1;33m\u001b[0m\u001b[1;33m\u001b[0m\u001b[0m\n\u001b[0;32m    860\u001b[0m             \u001b[1;32melse\u001b[0m\u001b[1;33m:\u001b[0m\u001b[1;33m\u001b[0m\u001b[1;33m\u001b[0m\u001b[0m\n\u001b[1;32m--> 861\u001b[1;33m                 \u001b[0mself\u001b[0m\u001b[1;33m.\u001b[0m\u001b[0m_dispatch\u001b[0m\u001b[1;33m(\u001b[0m\u001b[0mtasks\u001b[0m\u001b[1;33m)\u001b[0m\u001b[1;33m\u001b[0m\u001b[1;33m\u001b[0m\u001b[0m\n\u001b[0m\u001b[0;32m    862\u001b[0m                 \u001b[1;32mreturn\u001b[0m \u001b[1;32mTrue\u001b[0m\u001b[1;33m\u001b[0m\u001b[1;33m\u001b[0m\u001b[0m\n\u001b[0;32m    863\u001b[0m \u001b[1;33m\u001b[0m\u001b[0m\n",
      "\u001b[1;32m~\\anaconda3\\lib\\site-packages\\joblib\\parallel.py\u001b[0m in \u001b[0;36m_dispatch\u001b[1;34m(self, batch)\u001b[0m\n\u001b[0;32m    777\u001b[0m         \u001b[1;32mwith\u001b[0m \u001b[0mself\u001b[0m\u001b[1;33m.\u001b[0m\u001b[0m_lock\u001b[0m\u001b[1;33m:\u001b[0m\u001b[1;33m\u001b[0m\u001b[1;33m\u001b[0m\u001b[0m\n\u001b[0;32m    778\u001b[0m             \u001b[0mjob_idx\u001b[0m \u001b[1;33m=\u001b[0m \u001b[0mlen\u001b[0m\u001b[1;33m(\u001b[0m\u001b[0mself\u001b[0m\u001b[1;33m.\u001b[0m\u001b[0m_jobs\u001b[0m\u001b[1;33m)\u001b[0m\u001b[1;33m\u001b[0m\u001b[1;33m\u001b[0m\u001b[0m\n\u001b[1;32m--> 779\u001b[1;33m             \u001b[0mjob\u001b[0m \u001b[1;33m=\u001b[0m \u001b[0mself\u001b[0m\u001b[1;33m.\u001b[0m\u001b[0m_backend\u001b[0m\u001b[1;33m.\u001b[0m\u001b[0mapply_async\u001b[0m\u001b[1;33m(\u001b[0m\u001b[0mbatch\u001b[0m\u001b[1;33m,\u001b[0m \u001b[0mcallback\u001b[0m\u001b[1;33m=\u001b[0m\u001b[0mcb\u001b[0m\u001b[1;33m)\u001b[0m\u001b[1;33m\u001b[0m\u001b[1;33m\u001b[0m\u001b[0m\n\u001b[0m\u001b[0;32m    780\u001b[0m             \u001b[1;31m# A job can complete so quickly than its callback is\u001b[0m\u001b[1;33m\u001b[0m\u001b[1;33m\u001b[0m\u001b[0m\n\u001b[0;32m    781\u001b[0m             \u001b[1;31m# called before we get here, causing self._jobs to\u001b[0m\u001b[1;33m\u001b[0m\u001b[1;33m\u001b[0m\u001b[0m\n",
      "\u001b[1;32m~\\anaconda3\\lib\\site-packages\\joblib\\_parallel_backends.py\u001b[0m in \u001b[0;36mapply_async\u001b[1;34m(self, func, callback)\u001b[0m\n\u001b[0;32m    206\u001b[0m     \u001b[1;32mdef\u001b[0m \u001b[0mapply_async\u001b[0m\u001b[1;33m(\u001b[0m\u001b[0mself\u001b[0m\u001b[1;33m,\u001b[0m \u001b[0mfunc\u001b[0m\u001b[1;33m,\u001b[0m \u001b[0mcallback\u001b[0m\u001b[1;33m=\u001b[0m\u001b[1;32mNone\u001b[0m\u001b[1;33m)\u001b[0m\u001b[1;33m:\u001b[0m\u001b[1;33m\u001b[0m\u001b[1;33m\u001b[0m\u001b[0m\n\u001b[0;32m    207\u001b[0m         \u001b[1;34m\"\"\"Schedule a func to be run\"\"\"\u001b[0m\u001b[1;33m\u001b[0m\u001b[1;33m\u001b[0m\u001b[0m\n\u001b[1;32m--> 208\u001b[1;33m         \u001b[0mresult\u001b[0m \u001b[1;33m=\u001b[0m \u001b[0mImmediateResult\u001b[0m\u001b[1;33m(\u001b[0m\u001b[0mfunc\u001b[0m\u001b[1;33m)\u001b[0m\u001b[1;33m\u001b[0m\u001b[1;33m\u001b[0m\u001b[0m\n\u001b[0m\u001b[0;32m    209\u001b[0m         \u001b[1;32mif\u001b[0m \u001b[0mcallback\u001b[0m\u001b[1;33m:\u001b[0m\u001b[1;33m\u001b[0m\u001b[1;33m\u001b[0m\u001b[0m\n\u001b[0;32m    210\u001b[0m             \u001b[0mcallback\u001b[0m\u001b[1;33m(\u001b[0m\u001b[0mresult\u001b[0m\u001b[1;33m)\u001b[0m\u001b[1;33m\u001b[0m\u001b[1;33m\u001b[0m\u001b[0m\n",
      "\u001b[1;32m~\\anaconda3\\lib\\site-packages\\joblib\\_parallel_backends.py\u001b[0m in \u001b[0;36m__init__\u001b[1;34m(self, batch)\u001b[0m\n\u001b[0;32m    570\u001b[0m         \u001b[1;31m# Don't delay the application, to avoid keeping the input\u001b[0m\u001b[1;33m\u001b[0m\u001b[1;33m\u001b[0m\u001b[0m\n\u001b[0;32m    571\u001b[0m         \u001b[1;31m# arguments in memory\u001b[0m\u001b[1;33m\u001b[0m\u001b[1;33m\u001b[0m\u001b[0m\n\u001b[1;32m--> 572\u001b[1;33m         \u001b[0mself\u001b[0m\u001b[1;33m.\u001b[0m\u001b[0mresults\u001b[0m \u001b[1;33m=\u001b[0m \u001b[0mbatch\u001b[0m\u001b[1;33m(\u001b[0m\u001b[1;33m)\u001b[0m\u001b[1;33m\u001b[0m\u001b[1;33m\u001b[0m\u001b[0m\n\u001b[0m\u001b[0;32m    573\u001b[0m \u001b[1;33m\u001b[0m\u001b[0m\n\u001b[0;32m    574\u001b[0m     \u001b[1;32mdef\u001b[0m \u001b[0mget\u001b[0m\u001b[1;33m(\u001b[0m\u001b[0mself\u001b[0m\u001b[1;33m)\u001b[0m\u001b[1;33m:\u001b[0m\u001b[1;33m\u001b[0m\u001b[1;33m\u001b[0m\u001b[0m\n",
      "\u001b[1;32m~\\anaconda3\\lib\\site-packages\\joblib\\parallel.py\u001b[0m in \u001b[0;36m__call__\u001b[1;34m(self)\u001b[0m\n\u001b[0;32m    260\u001b[0m         \u001b[1;31m# change the default number of processes to -1\u001b[0m\u001b[1;33m\u001b[0m\u001b[1;33m\u001b[0m\u001b[0m\n\u001b[0;32m    261\u001b[0m         \u001b[1;32mwith\u001b[0m \u001b[0mparallel_backend\u001b[0m\u001b[1;33m(\u001b[0m\u001b[0mself\u001b[0m\u001b[1;33m.\u001b[0m\u001b[0m_backend\u001b[0m\u001b[1;33m,\u001b[0m \u001b[0mn_jobs\u001b[0m\u001b[1;33m=\u001b[0m\u001b[0mself\u001b[0m\u001b[1;33m.\u001b[0m\u001b[0m_n_jobs\u001b[0m\u001b[1;33m)\u001b[0m\u001b[1;33m:\u001b[0m\u001b[1;33m\u001b[0m\u001b[1;33m\u001b[0m\u001b[0m\n\u001b[1;32m--> 262\u001b[1;33m             return [func(*args, **kwargs)\n\u001b[0m\u001b[0;32m    263\u001b[0m                     for func, args, kwargs in self.items]\n\u001b[0;32m    264\u001b[0m \u001b[1;33m\u001b[0m\u001b[0m\n",
      "\u001b[1;32m~\\anaconda3\\lib\\site-packages\\joblib\\parallel.py\u001b[0m in \u001b[0;36m<listcomp>\u001b[1;34m(.0)\u001b[0m\n\u001b[0;32m    260\u001b[0m         \u001b[1;31m# change the default number of processes to -1\u001b[0m\u001b[1;33m\u001b[0m\u001b[1;33m\u001b[0m\u001b[0m\n\u001b[0;32m    261\u001b[0m         \u001b[1;32mwith\u001b[0m \u001b[0mparallel_backend\u001b[0m\u001b[1;33m(\u001b[0m\u001b[0mself\u001b[0m\u001b[1;33m.\u001b[0m\u001b[0m_backend\u001b[0m\u001b[1;33m,\u001b[0m \u001b[0mn_jobs\u001b[0m\u001b[1;33m=\u001b[0m\u001b[0mself\u001b[0m\u001b[1;33m.\u001b[0m\u001b[0m_n_jobs\u001b[0m\u001b[1;33m)\u001b[0m\u001b[1;33m:\u001b[0m\u001b[1;33m\u001b[0m\u001b[1;33m\u001b[0m\u001b[0m\n\u001b[1;32m--> 262\u001b[1;33m             return [func(*args, **kwargs)\n\u001b[0m\u001b[0;32m    263\u001b[0m                     for func, args, kwargs in self.items]\n\u001b[0;32m    264\u001b[0m \u001b[1;33m\u001b[0m\u001b[0m\n",
      "\u001b[1;32m~\\anaconda3\\lib\\site-packages\\sklearn\\pipeline.py\u001b[0m in \u001b[0;36m_fit_transform_one\u001b[1;34m(transformer, X, y, weight, message_clsname, message, **fit_params)\u001b[0m\n\u001b[0;32m    752\u001b[0m     \u001b[1;32mwith\u001b[0m \u001b[0m_print_elapsed_time\u001b[0m\u001b[1;33m(\u001b[0m\u001b[0mmessage_clsname\u001b[0m\u001b[1;33m,\u001b[0m \u001b[0mmessage\u001b[0m\u001b[1;33m)\u001b[0m\u001b[1;33m:\u001b[0m\u001b[1;33m\u001b[0m\u001b[1;33m\u001b[0m\u001b[0m\n\u001b[0;32m    753\u001b[0m         \u001b[1;32mif\u001b[0m \u001b[0mhasattr\u001b[0m\u001b[1;33m(\u001b[0m\u001b[0mtransformer\u001b[0m\u001b[1;33m,\u001b[0m \u001b[1;34m'fit_transform'\u001b[0m\u001b[1;33m)\u001b[0m\u001b[1;33m:\u001b[0m\u001b[1;33m\u001b[0m\u001b[1;33m\u001b[0m\u001b[0m\n\u001b[1;32m--> 754\u001b[1;33m             \u001b[0mres\u001b[0m \u001b[1;33m=\u001b[0m \u001b[0mtransformer\u001b[0m\u001b[1;33m.\u001b[0m\u001b[0mfit_transform\u001b[0m\u001b[1;33m(\u001b[0m\u001b[0mX\u001b[0m\u001b[1;33m,\u001b[0m \u001b[0my\u001b[0m\u001b[1;33m,\u001b[0m \u001b[1;33m**\u001b[0m\u001b[0mfit_params\u001b[0m\u001b[1;33m)\u001b[0m\u001b[1;33m\u001b[0m\u001b[1;33m\u001b[0m\u001b[0m\n\u001b[0m\u001b[0;32m    755\u001b[0m         \u001b[1;32melse\u001b[0m\u001b[1;33m:\u001b[0m\u001b[1;33m\u001b[0m\u001b[1;33m\u001b[0m\u001b[0m\n\u001b[0;32m    756\u001b[0m             \u001b[0mres\u001b[0m \u001b[1;33m=\u001b[0m \u001b[0mtransformer\u001b[0m\u001b[1;33m.\u001b[0m\u001b[0mfit\u001b[0m\u001b[1;33m(\u001b[0m\u001b[0mX\u001b[0m\u001b[1;33m,\u001b[0m \u001b[0my\u001b[0m\u001b[1;33m,\u001b[0m \u001b[1;33m**\u001b[0m\u001b[0mfit_params\u001b[0m\u001b[1;33m)\u001b[0m\u001b[1;33m.\u001b[0m\u001b[0mtransform\u001b[0m\u001b[1;33m(\u001b[0m\u001b[0mX\u001b[0m\u001b[1;33m)\u001b[0m\u001b[1;33m\u001b[0m\u001b[1;33m\u001b[0m\u001b[0m\n",
      "\u001b[1;32m~\\anaconda3\\lib\\site-packages\\sklearn\\pipeline.py\u001b[0m in \u001b[0;36mfit_transform\u001b[1;34m(self, X, y, **fit_params)\u001b[0m\n\u001b[0;32m    376\u001b[0m         \"\"\"\n\u001b[0;32m    377\u001b[0m         \u001b[0mfit_params_steps\u001b[0m \u001b[1;33m=\u001b[0m \u001b[0mself\u001b[0m\u001b[1;33m.\u001b[0m\u001b[0m_check_fit_params\u001b[0m\u001b[1;33m(\u001b[0m\u001b[1;33m**\u001b[0m\u001b[0mfit_params\u001b[0m\u001b[1;33m)\u001b[0m\u001b[1;33m\u001b[0m\u001b[1;33m\u001b[0m\u001b[0m\n\u001b[1;32m--> 378\u001b[1;33m         \u001b[0mXt\u001b[0m \u001b[1;33m=\u001b[0m \u001b[0mself\u001b[0m\u001b[1;33m.\u001b[0m\u001b[0m_fit\u001b[0m\u001b[1;33m(\u001b[0m\u001b[0mX\u001b[0m\u001b[1;33m,\u001b[0m \u001b[0my\u001b[0m\u001b[1;33m,\u001b[0m \u001b[1;33m**\u001b[0m\u001b[0mfit_params_steps\u001b[0m\u001b[1;33m)\u001b[0m\u001b[1;33m\u001b[0m\u001b[1;33m\u001b[0m\u001b[0m\n\u001b[0m\u001b[0;32m    379\u001b[0m \u001b[1;33m\u001b[0m\u001b[0m\n\u001b[0;32m    380\u001b[0m         \u001b[0mlast_step\u001b[0m \u001b[1;33m=\u001b[0m \u001b[0mself\u001b[0m\u001b[1;33m.\u001b[0m\u001b[0m_final_estimator\u001b[0m\u001b[1;33m\u001b[0m\u001b[1;33m\u001b[0m\u001b[0m\n",
      "\u001b[1;32m~\\anaconda3\\lib\\site-packages\\sklearn\\pipeline.py\u001b[0m in \u001b[0;36m_fit\u001b[1;34m(self, X, y, **fit_params_steps)\u001b[0m\n\u001b[0;32m    301\u001b[0m                 \u001b[0mcloned_transformer\u001b[0m \u001b[1;33m=\u001b[0m \u001b[0mclone\u001b[0m\u001b[1;33m(\u001b[0m\u001b[0mtransformer\u001b[0m\u001b[1;33m)\u001b[0m\u001b[1;33m\u001b[0m\u001b[1;33m\u001b[0m\u001b[0m\n\u001b[0;32m    302\u001b[0m             \u001b[1;31m# Fit or load from cache the current transformer\u001b[0m\u001b[1;33m\u001b[0m\u001b[1;33m\u001b[0m\u001b[0m\n\u001b[1;32m--> 303\u001b[1;33m             X, fitted_transformer = fit_transform_one_cached(\n\u001b[0m\u001b[0;32m    304\u001b[0m                 \u001b[0mcloned_transformer\u001b[0m\u001b[1;33m,\u001b[0m \u001b[0mX\u001b[0m\u001b[1;33m,\u001b[0m \u001b[0my\u001b[0m\u001b[1;33m,\u001b[0m \u001b[1;32mNone\u001b[0m\u001b[1;33m,\u001b[0m\u001b[1;33m\u001b[0m\u001b[1;33m\u001b[0m\u001b[0m\n\u001b[0;32m    305\u001b[0m                 \u001b[0mmessage_clsname\u001b[0m\u001b[1;33m=\u001b[0m\u001b[1;34m'Pipeline'\u001b[0m\u001b[1;33m,\u001b[0m\u001b[1;33m\u001b[0m\u001b[1;33m\u001b[0m\u001b[0m\n",
      "\u001b[1;32m~\\anaconda3\\lib\\site-packages\\joblib\\memory.py\u001b[0m in \u001b[0;36m__call__\u001b[1;34m(self, *args, **kwargs)\u001b[0m\n\u001b[0;32m    347\u001b[0m \u001b[1;33m\u001b[0m\u001b[0m\n\u001b[0;32m    348\u001b[0m     \u001b[1;32mdef\u001b[0m \u001b[0m__call__\u001b[0m\u001b[1;33m(\u001b[0m\u001b[0mself\u001b[0m\u001b[1;33m,\u001b[0m \u001b[1;33m*\u001b[0m\u001b[0margs\u001b[0m\u001b[1;33m,\u001b[0m \u001b[1;33m**\u001b[0m\u001b[0mkwargs\u001b[0m\u001b[1;33m)\u001b[0m\u001b[1;33m:\u001b[0m\u001b[1;33m\u001b[0m\u001b[1;33m\u001b[0m\u001b[0m\n\u001b[1;32m--> 349\u001b[1;33m         \u001b[1;32mreturn\u001b[0m \u001b[0mself\u001b[0m\u001b[1;33m.\u001b[0m\u001b[0mfunc\u001b[0m\u001b[1;33m(\u001b[0m\u001b[1;33m*\u001b[0m\u001b[0margs\u001b[0m\u001b[1;33m,\u001b[0m \u001b[1;33m**\u001b[0m\u001b[0mkwargs\u001b[0m\u001b[1;33m)\u001b[0m\u001b[1;33m\u001b[0m\u001b[1;33m\u001b[0m\u001b[0m\n\u001b[0m\u001b[0;32m    350\u001b[0m \u001b[1;33m\u001b[0m\u001b[0m\n\u001b[0;32m    351\u001b[0m     \u001b[1;32mdef\u001b[0m \u001b[0mcall_and_shelve\u001b[0m\u001b[1;33m(\u001b[0m\u001b[0mself\u001b[0m\u001b[1;33m,\u001b[0m \u001b[1;33m*\u001b[0m\u001b[0margs\u001b[0m\u001b[1;33m,\u001b[0m \u001b[1;33m**\u001b[0m\u001b[0mkwargs\u001b[0m\u001b[1;33m)\u001b[0m\u001b[1;33m:\u001b[0m\u001b[1;33m\u001b[0m\u001b[1;33m\u001b[0m\u001b[0m\n",
      "\u001b[1;32m~\\anaconda3\\lib\\site-packages\\sklearn\\pipeline.py\u001b[0m in \u001b[0;36m_fit_transform_one\u001b[1;34m(transformer, X, y, weight, message_clsname, message, **fit_params)\u001b[0m\n\u001b[0;32m    752\u001b[0m     \u001b[1;32mwith\u001b[0m \u001b[0m_print_elapsed_time\u001b[0m\u001b[1;33m(\u001b[0m\u001b[0mmessage_clsname\u001b[0m\u001b[1;33m,\u001b[0m \u001b[0mmessage\u001b[0m\u001b[1;33m)\u001b[0m\u001b[1;33m:\u001b[0m\u001b[1;33m\u001b[0m\u001b[1;33m\u001b[0m\u001b[0m\n\u001b[0;32m    753\u001b[0m         \u001b[1;32mif\u001b[0m \u001b[0mhasattr\u001b[0m\u001b[1;33m(\u001b[0m\u001b[0mtransformer\u001b[0m\u001b[1;33m,\u001b[0m \u001b[1;34m'fit_transform'\u001b[0m\u001b[1;33m)\u001b[0m\u001b[1;33m:\u001b[0m\u001b[1;33m\u001b[0m\u001b[1;33m\u001b[0m\u001b[0m\n\u001b[1;32m--> 754\u001b[1;33m             \u001b[0mres\u001b[0m \u001b[1;33m=\u001b[0m \u001b[0mtransformer\u001b[0m\u001b[1;33m.\u001b[0m\u001b[0mfit_transform\u001b[0m\u001b[1;33m(\u001b[0m\u001b[0mX\u001b[0m\u001b[1;33m,\u001b[0m \u001b[0my\u001b[0m\u001b[1;33m,\u001b[0m \u001b[1;33m**\u001b[0m\u001b[0mfit_params\u001b[0m\u001b[1;33m)\u001b[0m\u001b[1;33m\u001b[0m\u001b[1;33m\u001b[0m\u001b[0m\n\u001b[0m\u001b[0;32m    755\u001b[0m         \u001b[1;32melse\u001b[0m\u001b[1;33m:\u001b[0m\u001b[1;33m\u001b[0m\u001b[1;33m\u001b[0m\u001b[0m\n\u001b[0;32m    756\u001b[0m             \u001b[0mres\u001b[0m \u001b[1;33m=\u001b[0m \u001b[0mtransformer\u001b[0m\u001b[1;33m.\u001b[0m\u001b[0mfit\u001b[0m\u001b[1;33m(\u001b[0m\u001b[0mX\u001b[0m\u001b[1;33m,\u001b[0m \u001b[0my\u001b[0m\u001b[1;33m,\u001b[0m \u001b[1;33m**\u001b[0m\u001b[0mfit_params\u001b[0m\u001b[1;33m)\u001b[0m\u001b[1;33m.\u001b[0m\u001b[0mtransform\u001b[0m\u001b[1;33m(\u001b[0m\u001b[0mX\u001b[0m\u001b[1;33m)\u001b[0m\u001b[1;33m\u001b[0m\u001b[1;33m\u001b[0m\u001b[0m\n",
      "\u001b[1;32m~\\anaconda3\\lib\\site-packages\\sklearn\\base.py\u001b[0m in \u001b[0;36mfit_transform\u001b[1;34m(self, X, y, **fit_params)\u001b[0m\n\u001b[0;32m    700\u001b[0m         \u001b[1;32melse\u001b[0m\u001b[1;33m:\u001b[0m\u001b[1;33m\u001b[0m\u001b[1;33m\u001b[0m\u001b[0m\n\u001b[0;32m    701\u001b[0m             \u001b[1;31m# fit method of arity 2 (supervised transformation)\u001b[0m\u001b[1;33m\u001b[0m\u001b[1;33m\u001b[0m\u001b[0m\n\u001b[1;32m--> 702\u001b[1;33m             \u001b[1;32mreturn\u001b[0m \u001b[0mself\u001b[0m\u001b[1;33m.\u001b[0m\u001b[0mfit\u001b[0m\u001b[1;33m(\u001b[0m\u001b[0mX\u001b[0m\u001b[1;33m,\u001b[0m \u001b[0my\u001b[0m\u001b[1;33m,\u001b[0m \u001b[1;33m**\u001b[0m\u001b[0mfit_params\u001b[0m\u001b[1;33m)\u001b[0m\u001b[1;33m.\u001b[0m\u001b[0mtransform\u001b[0m\u001b[1;33m(\u001b[0m\u001b[0mX\u001b[0m\u001b[1;33m)\u001b[0m\u001b[1;33m\u001b[0m\u001b[1;33m\u001b[0m\u001b[0m\n\u001b[0m\u001b[0;32m    703\u001b[0m \u001b[1;33m\u001b[0m\u001b[0m\n\u001b[0;32m    704\u001b[0m \u001b[1;33m\u001b[0m\u001b[0m\n",
      "\u001b[1;32m~\\anaconda3\\lib\\site-packages\\sklearn\\preprocessing\\_function_transformer.py\u001b[0m in \u001b[0;36mtransform\u001b[1;34m(self, X)\u001b[0m\n\u001b[0;32m    145\u001b[0m             \u001b[0mTransformed\u001b[0m \u001b[0minput\u001b[0m\u001b[1;33m.\u001b[0m\u001b[1;33m\u001b[0m\u001b[1;33m\u001b[0m\u001b[0m\n\u001b[0;32m    146\u001b[0m         \"\"\"\n\u001b[1;32m--> 147\u001b[1;33m         \u001b[1;32mreturn\u001b[0m \u001b[0mself\u001b[0m\u001b[1;33m.\u001b[0m\u001b[0m_transform\u001b[0m\u001b[1;33m(\u001b[0m\u001b[0mX\u001b[0m\u001b[1;33m,\u001b[0m \u001b[0mfunc\u001b[0m\u001b[1;33m=\u001b[0m\u001b[0mself\u001b[0m\u001b[1;33m.\u001b[0m\u001b[0mfunc\u001b[0m\u001b[1;33m,\u001b[0m \u001b[0mkw_args\u001b[0m\u001b[1;33m=\u001b[0m\u001b[0mself\u001b[0m\u001b[1;33m.\u001b[0m\u001b[0mkw_args\u001b[0m\u001b[1;33m)\u001b[0m\u001b[1;33m\u001b[0m\u001b[1;33m\u001b[0m\u001b[0m\n\u001b[0m\u001b[0;32m    148\u001b[0m \u001b[1;33m\u001b[0m\u001b[0m\n\u001b[0;32m    149\u001b[0m     \u001b[1;32mdef\u001b[0m \u001b[0minverse_transform\u001b[0m\u001b[1;33m(\u001b[0m\u001b[0mself\u001b[0m\u001b[1;33m,\u001b[0m \u001b[0mX\u001b[0m\u001b[1;33m)\u001b[0m\u001b[1;33m:\u001b[0m\u001b[1;33m\u001b[0m\u001b[1;33m\u001b[0m\u001b[0m\n",
      "\u001b[1;32m~\\anaconda3\\lib\\site-packages\\sklearn\\preprocessing\\_function_transformer.py\u001b[0m in \u001b[0;36m_transform\u001b[1;34m(self, X, func, kw_args)\u001b[0m\n\u001b[0;32m    169\u001b[0m             \u001b[0mfunc\u001b[0m \u001b[1;33m=\u001b[0m \u001b[0m_identity\u001b[0m\u001b[1;33m\u001b[0m\u001b[1;33m\u001b[0m\u001b[0m\n\u001b[0;32m    170\u001b[0m \u001b[1;33m\u001b[0m\u001b[0m\n\u001b[1;32m--> 171\u001b[1;33m         \u001b[1;32mreturn\u001b[0m \u001b[0mfunc\u001b[0m\u001b[1;33m(\u001b[0m\u001b[0mX\u001b[0m\u001b[1;33m,\u001b[0m \u001b[1;33m**\u001b[0m\u001b[1;33m(\u001b[0m\u001b[0mkw_args\u001b[0m \u001b[1;32mif\u001b[0m \u001b[0mkw_args\u001b[0m \u001b[1;32melse\u001b[0m \u001b[1;33m{\u001b[0m\u001b[1;33m}\u001b[0m\u001b[1;33m)\u001b[0m\u001b[1;33m)\u001b[0m\u001b[1;33m\u001b[0m\u001b[1;33m\u001b[0m\u001b[0m\n\u001b[0m\u001b[0;32m    172\u001b[0m \u001b[1;33m\u001b[0m\u001b[0m\n\u001b[0;32m    173\u001b[0m     \u001b[1;32mdef\u001b[0m \u001b[0m_more_tags\u001b[0m\u001b[1;33m(\u001b[0m\u001b[0mself\u001b[0m\u001b[1;33m)\u001b[0m\u001b[1;33m:\u001b[0m\u001b[1;33m\u001b[0m\u001b[1;33m\u001b[0m\u001b[0m\n",
      "\u001b[1;32m~\\AppData\\Local\\Temp/ipykernel_17124/3177059731.py\u001b[0m in \u001b[0;36mnumerical_select\u001b[1;34m(data)\u001b[0m\n\u001b[0;32m      4\u001b[0m     \u001b[0mdata\u001b[0m\u001b[1;33m[\u001b[0m\u001b[1;34m'random_values'\u001b[0m\u001b[1;33m]\u001b[0m \u001b[1;33m=\u001b[0m \u001b[0mnp\u001b[0m\u001b[1;33m.\u001b[0m\u001b[0mrandom\u001b[0m\u001b[1;33m.\u001b[0m\u001b[0mnormal\u001b[0m\u001b[1;33m(\u001b[0m\u001b[0msize\u001b[0m \u001b[1;33m=\u001b[0m \u001b[0mlen\u001b[0m\u001b[1;33m(\u001b[0m\u001b[0mdata\u001b[0m\u001b[1;33m)\u001b[0m\u001b[1;33m)\u001b[0m\u001b[1;33m\u001b[0m\u001b[1;33m\u001b[0m\u001b[0m\n\u001b[0;32m      5\u001b[0m \u001b[1;33m\u001b[0m\u001b[0m\n\u001b[1;32m----> 6\u001b[1;33m     \u001b[1;32mreturn\u001b[0m \u001b[0mdata\u001b[0m\u001b[1;33m[\u001b[0m\u001b[0mnumerical_features\u001b[0m \u001b[1;33m+\u001b[0m \u001b[1;33m[\u001b[0m\u001b[1;34m'random_values'\u001b[0m\u001b[1;33m]\u001b[0m\u001b[1;33m]\u001b[0m\u001b[1;33m\u001b[0m\u001b[1;33m\u001b[0m\u001b[0m\n\u001b[0m\u001b[0;32m      7\u001b[0m \u001b[1;33m\u001b[0m\u001b[0m\n\u001b[0;32m      8\u001b[0m \u001b[1;31m# Превращаем функцию в трансформер\u001b[0m\u001b[1;33m\u001b[0m\u001b[1;33m\u001b[0m\u001b[0m\n",
      "\u001b[1;32m~\\anaconda3\\lib\\site-packages\\pandas\\core\\frame.py\u001b[0m in \u001b[0;36m__getitem__\u001b[1;34m(self, key)\u001b[0m\n\u001b[0;32m   3462\u001b[0m             \u001b[1;32mif\u001b[0m \u001b[0mis_iterator\u001b[0m\u001b[1;33m(\u001b[0m\u001b[0mkey\u001b[0m\u001b[1;33m)\u001b[0m\u001b[1;33m:\u001b[0m\u001b[1;33m\u001b[0m\u001b[1;33m\u001b[0m\u001b[0m\n\u001b[0;32m   3463\u001b[0m                 \u001b[0mkey\u001b[0m \u001b[1;33m=\u001b[0m \u001b[0mlist\u001b[0m\u001b[1;33m(\u001b[0m\u001b[0mkey\u001b[0m\u001b[1;33m)\u001b[0m\u001b[1;33m\u001b[0m\u001b[1;33m\u001b[0m\u001b[0m\n\u001b[1;32m-> 3464\u001b[1;33m             \u001b[0mindexer\u001b[0m \u001b[1;33m=\u001b[0m \u001b[0mself\u001b[0m\u001b[1;33m.\u001b[0m\u001b[0mloc\u001b[0m\u001b[1;33m.\u001b[0m\u001b[0m_get_listlike_indexer\u001b[0m\u001b[1;33m(\u001b[0m\u001b[0mkey\u001b[0m\u001b[1;33m,\u001b[0m \u001b[0maxis\u001b[0m\u001b[1;33m=\u001b[0m\u001b[1;36m1\u001b[0m\u001b[1;33m)\u001b[0m\u001b[1;33m[\u001b[0m\u001b[1;36m1\u001b[0m\u001b[1;33m]\u001b[0m\u001b[1;33m\u001b[0m\u001b[1;33m\u001b[0m\u001b[0m\n\u001b[0m\u001b[0;32m   3465\u001b[0m \u001b[1;33m\u001b[0m\u001b[0m\n\u001b[0;32m   3466\u001b[0m         \u001b[1;31m# take() does not accept boolean indexers\u001b[0m\u001b[1;33m\u001b[0m\u001b[1;33m\u001b[0m\u001b[0m\n",
      "\u001b[1;32m~\\anaconda3\\lib\\site-packages\\pandas\\core\\indexing.py\u001b[0m in \u001b[0;36m_get_listlike_indexer\u001b[1;34m(self, key, axis)\u001b[0m\n\u001b[0;32m   1312\u001b[0m             \u001b[0mkeyarr\u001b[0m\u001b[1;33m,\u001b[0m \u001b[0mindexer\u001b[0m\u001b[1;33m,\u001b[0m \u001b[0mnew_indexer\u001b[0m \u001b[1;33m=\u001b[0m \u001b[0max\u001b[0m\u001b[1;33m.\u001b[0m\u001b[0m_reindex_non_unique\u001b[0m\u001b[1;33m(\u001b[0m\u001b[0mkeyarr\u001b[0m\u001b[1;33m)\u001b[0m\u001b[1;33m\u001b[0m\u001b[1;33m\u001b[0m\u001b[0m\n\u001b[0;32m   1313\u001b[0m \u001b[1;33m\u001b[0m\u001b[0m\n\u001b[1;32m-> 1314\u001b[1;33m         \u001b[0mself\u001b[0m\u001b[1;33m.\u001b[0m\u001b[0m_validate_read_indexer\u001b[0m\u001b[1;33m(\u001b[0m\u001b[0mkeyarr\u001b[0m\u001b[1;33m,\u001b[0m \u001b[0mindexer\u001b[0m\u001b[1;33m,\u001b[0m \u001b[0maxis\u001b[0m\u001b[1;33m)\u001b[0m\u001b[1;33m\u001b[0m\u001b[1;33m\u001b[0m\u001b[0m\n\u001b[0m\u001b[0;32m   1315\u001b[0m \u001b[1;33m\u001b[0m\u001b[0m\n\u001b[0;32m   1316\u001b[0m         if needs_i8_conversion(ax.dtype) or isinstance(\n",
      "\u001b[1;32m~\\anaconda3\\lib\\site-packages\\pandas\\core\\indexing.py\u001b[0m in \u001b[0;36m_validate_read_indexer\u001b[1;34m(self, key, indexer, axis)\u001b[0m\n\u001b[0;32m   1375\u001b[0m \u001b[1;33m\u001b[0m\u001b[0m\n\u001b[0;32m   1376\u001b[0m             \u001b[0mnot_found\u001b[0m \u001b[1;33m=\u001b[0m \u001b[0mlist\u001b[0m\u001b[1;33m(\u001b[0m\u001b[0mensure_index\u001b[0m\u001b[1;33m(\u001b[0m\u001b[0mkey\u001b[0m\u001b[1;33m)\u001b[0m\u001b[1;33m[\u001b[0m\u001b[0mmissing_mask\u001b[0m\u001b[1;33m.\u001b[0m\u001b[0mnonzero\u001b[0m\u001b[1;33m(\u001b[0m\u001b[1;33m)\u001b[0m\u001b[1;33m[\u001b[0m\u001b[1;36m0\u001b[0m\u001b[1;33m]\u001b[0m\u001b[1;33m]\u001b[0m\u001b[1;33m.\u001b[0m\u001b[0munique\u001b[0m\u001b[1;33m(\u001b[0m\u001b[1;33m)\u001b[0m\u001b[1;33m)\u001b[0m\u001b[1;33m\u001b[0m\u001b[1;33m\u001b[0m\u001b[0m\n\u001b[1;32m-> 1377\u001b[1;33m             \u001b[1;32mraise\u001b[0m \u001b[0mKeyError\u001b[0m\u001b[1;33m(\u001b[0m\u001b[1;34mf\"{not_found} not in index\"\u001b[0m\u001b[1;33m)\u001b[0m\u001b[1;33m\u001b[0m\u001b[1;33m\u001b[0m\u001b[0m\n\u001b[0m\u001b[0;32m   1378\u001b[0m \u001b[1;33m\u001b[0m\u001b[0m\n\u001b[0;32m   1379\u001b[0m \u001b[1;33m\u001b[0m\u001b[0m\n",
      "\u001b[1;31mKeyError\u001b[0m: \"['Happiness in life'] not in index\""
     ]
    }
   ],
   "source": [
    "pipeline.fit(data_train.drop(target, axis=1), data_train[target])\n",
    "\n",
    "# pipeline.predict_proba(data_test)"
   ]
  },
  {
   "cell_type": "markdown",
   "metadata": {
    "scrolled": true
   },
   "source": [
    "# Важность признаков - feature Importance"
   ]
  },
  {
   "cell_type": "code",
   "execution_count": 126,
   "metadata": {
    "ExecuteTime": {
     "end_time": "2022-04-18T19:22:50.562426Z",
     "start_time": "2022-04-18T19:22:50.551114Z"
    }
   },
   "outputs": [],
   "source": [
    "# pipeline"
   ]
  },
  {
   "cell_type": "code",
   "execution_count": 127,
   "metadata": {
    "ExecuteTime": {
     "end_time": "2022-04-18T19:22:50.594414Z",
     "start_time": "2022-04-18T19:22:50.564428Z"
    }
   },
   "outputs": [
    {
     "data": {
      "text/plain": [
       "Index(['Music', 'Slow songs or fast songs', 'Dance', 'Folk', 'Country',\n",
       "       'Classical music', 'Musical', 'Pop', 'Rock', 'Metal or Hardrock',\n",
       "       ...\n",
       "       'x10_1.0', 'x10_2.0', 'x10_3.0', 'x10_4.0', 'x10_5.0', 'x11_1.0',\n",
       "       'x11_2.0', 'x11_3.0', 'x11_4.0', 'x11_5.0'],\n",
       "      dtype='object', length=208)"
      ]
     },
     "execution_count": 127,
     "metadata": {},
     "output_type": "execute_result"
    }
   ],
   "source": [
    "feature_names = pipeline.named_steps[\n",
    "    'preprocessing'].transform(data).columns\n",
    "\n",
    "feature_names"
   ]
  },
  {
   "cell_type": "code",
   "execution_count": 128,
   "metadata": {
    "ExecuteTime": {
     "end_time": "2022-04-18T19:22:50.626416Z",
     "start_time": "2022-04-18T19:22:50.596417Z"
    },
    "scrolled": true
   },
   "outputs": [
    {
     "ename": "AttributeError",
     "evalue": "'LogisticRegression' object has no attribute 'coef_'",
     "output_type": "error",
     "traceback": [
      "\u001b[1;31m---------------------------------------------------------------------------\u001b[0m",
      "\u001b[1;31mAttributeError\u001b[0m                            Traceback (most recent call last)",
      "\u001b[1;32m~\\AppData\\Local\\Temp/ipykernel_17124/3099934490.py\u001b[0m in \u001b[0;36m<module>\u001b[1;34m\u001b[0m\n\u001b[0;32m      2\u001b[0m \u001b[1;33m\u001b[0m\u001b[0m\n\u001b[0;32m      3\u001b[0m featureImportance = pd.DataFrame({\"feature\": feature_names, \n\u001b[1;32m----> 4\u001b[1;33m                                   \"importance\": pipeline.named_steps['modelling'].coef_[2, : ]})\n\u001b[0m\u001b[0;32m      5\u001b[0m \u001b[1;33m\u001b[0m\u001b[0m\n\u001b[0;32m      6\u001b[0m \u001b[0mfeatureImportance\u001b[0m\u001b[1;33m.\u001b[0m\u001b[0msort_values\u001b[0m\u001b[1;33m(\u001b[0m\u001b[1;33m[\u001b[0m\u001b[1;34m\"importance\"\u001b[0m\u001b[1;33m]\u001b[0m\u001b[1;33m,\u001b[0m \u001b[0mascending\u001b[0m\u001b[1;33m=\u001b[0m\u001b[1;32mFalse\u001b[0m\u001b[1;33m,\u001b[0m \u001b[0minplace\u001b[0m\u001b[1;33m=\u001b[0m\u001b[1;32mTrue\u001b[0m\u001b[1;33m)\u001b[0m\u001b[1;33m\u001b[0m\u001b[1;33m\u001b[0m\u001b[0m\n",
      "\u001b[1;31mAttributeError\u001b[0m: 'LogisticRegression' object has no attribute 'coef_'"
     ]
    },
    {
     "data": {
      "text/plain": [
       "<Figure size 1080x1080 with 0 Axes>"
      ]
     },
     "metadata": {},
     "output_type": "display_data"
    }
   ],
   "source": [
    "plt.figure(figsize=(15, 15))\n",
    "\n",
    "featureImportance = pd.DataFrame({\"feature\": feature_names, \n",
    "                                  \"importance\": pipeline.named_steps['modelling'].coef_[2, : ]})\n",
    "\n",
    "featureImportance.sort_values([\"importance\"], ascending=False, inplace=True)\n",
    "sns.barplot(x=featureImportance[\"importance\"], y=featureImportance['feature'])\n",
    "plt.show()"
   ]
  },
  {
   "cell_type": "code",
   "execution_count": null,
   "metadata": {
    "ExecuteTime": {
     "end_time": "2022-04-18T19:22:50.628418Z",
     "start_time": "2022-04-18T19:22:50.628418Z"
    }
   },
   "outputs": [],
   "source": [
    "pipeline.named_steps['preprocessing']"
   ]
  },
  {
   "cell_type": "code",
   "execution_count": null,
   "metadata": {
    "ExecuteTime": {
     "end_time": "2022-04-18T19:22:50.629417Z",
     "start_time": "2022-04-18T19:22:50.629417Z"
    }
   },
   "outputs": [],
   "source": [
    "pipeline.named_steps['preprocessing'].transformers[0][1].with_mean # Scaler param"
   ]
  },
  {
   "cell_type": "code",
   "execution_count": null,
   "metadata": {},
   "outputs": [],
   "source": []
  },
  {
   "cell_type": "code",
   "execution_count": null,
   "metadata": {},
   "outputs": [],
   "source": []
  },
  {
   "cell_type": "markdown",
   "metadata": {},
   "source": [
    "<div class=\"alert alert-info\">\n",
    "    \n",
    "* А что если есть текстовые признаки? `BagOfWords` / `TF-IDF`\n",
    "* Временные ряды? `tsfresh` / `tsfel`\n",
    "* Генарция новых признаков на лету - давайте реализуем\n"
   ]
  },
  {
   "cell_type": "code",
   "execution_count": null,
   "metadata": {},
   "outputs": [],
   "source": [
    " "
   ]
  },
  {
   "cell_type": "code",
   "execution_count": null,
   "metadata": {
    "ExecuteTime": {
     "end_time": "2022-04-18T19:22:50.631421Z",
     "start_time": "2022-04-18T19:22:50.631421Z"
    }
   },
   "outputs": [],
   "source": [
    "data_path = \"https://raw.githubusercontent.com/a-milenkin/mipt_data_science_2021/main/data/people_data_clustering.csv\"\n",
    "data = pd.read_csv(data_path, index_col=0)\n",
    "print(\"Размеры датасета\", data.shape)\n",
    "data.head(6)"
   ]
  },
  {
   "cell_type": "code",
   "execution_count": null,
   "metadata": {
    "ExecuteTime": {
     "end_time": "2022-04-18T19:22:50.632422Z",
     "start_time": "2022-04-18T19:22:50.632422Z"
    }
   },
   "outputs": [],
   "source": [
    "sub_data = data[data['home_cost'] < 10.5**7]\n",
    "\n",
    "sns.displot(sub_data,  x = 'happyness',  hue = 'profession', kind ='kde', height =10, aspect = 3);"
   ]
  },
  {
   "cell_type": "code",
   "execution_count": null,
   "metadata": {},
   "outputs": [],
   "source": []
  },
  {
   "cell_type": "markdown",
   "metadata": {},
   "source": [
    "<div class=\"alert alert-info\">\n",
    "<b>Про Датасет</b>\n",
    "    \n",
    "Датасет представляет собой уже знакомую нам информацию про жителей некоторого города - Атлантас.\n",
    "\n",
    "* `was_married` - Был ли когда-либо женат/замужем\n",
    "* `children` - Количество детей\n",
    "* `salary` - Уровень зарплаты\n",
    "* `sex` - Пол (0 - женщина, 1 - мужчина)\n",
    "* `age` - Возраст\n",
    "* `home_cost` - Сумарная стоимость жилья/недвижимости\n",
    "* `Professon` - Профессия\n",
    "* `drive_info` - Есть ли водительские права\n",
    "* `happyness` - уровень счастья по результатам опроса\n",
    "    \n",
    "</div>"
   ]
  },
  {
   "cell_type": "code",
   "execution_count": null,
   "metadata": {
    "ExecuteTime": {
     "end_time": "2022-04-18T19:22:50.633419Z",
     "start_time": "2022-04-18T19:22:50.633419Z"
    }
   },
   "outputs": [],
   "source": [
    "numerical_features = ['was_married', 'children', 'salary', 'sex', 'age', 'home_cost']\n",
    "categorical_features = [] # ['profession']\n",
    "\n",
    "target = 'happyness'\n",
    "\n",
    "\n",
    "all_features = numerical_features + categorical_features"
   ]
  },
  {
   "cell_type": "code",
   "execution_count": null,
   "metadata": {
    "ExecuteTime": {
     "end_time": "2022-04-18T19:22:50.634422Z",
     "start_time": "2022-04-18T19:22:50.634422Z"
    }
   },
   "outputs": [],
   "source": [
    "#   Для категориальных - применяем SimpleImputer, а затем StandardScaler\n",
    "numerical_transformer = Pipeline(steps=[\n",
    "    (\"imputer\", SimpleImputer()),\n",
    "    (\"scaler\", StandardScaler()),\n",
    "    (\"fs\", SelectKBest(score_func=f_classif, k=\"all\")),\n",
    "])\n",
    "\n",
    "#   Для категориальных - применяем SimpleImputer, а затем OneHotEncoder\n",
    "categorical_transformer = Pipeline(steps=[\n",
    "    (\"imputer\", SimpleImputer()),\n",
    "    (\"onehot\", OneHotEncoder(handle_unknown=\"ignore\")),\n",
    "])\n",
    "\n",
    "# Собираем воедино трансформеры для числовых и категориальных признаков\n",
    "data_transformer = ColumnTransformer(transformers=[\n",
    "    (\"numerical\", numerical_transformer, numerical_features),\n",
    "    #(\"categorical\", categorical_transformer, categorical_features),\n",
    "])\n",
    "\n",
    "# Создание конвейера препроцессора, который сначала преобразует данные\n",
    "preprocessor = Pipeline(steps=[(\"data_transformer\", data_transformer)])\n",
    "\n",
    "classifier_pipline = Pipeline(\n",
    "    steps=[(\"preprocessor\", preprocessor), \n",
    "           (\"classifier\", LogisticRegression())])\n",
    "\n",
    "classifier_pipline"
   ]
  },
  {
   "cell_type": "code",
   "execution_count": null,
   "metadata": {},
   "outputs": [],
   "source": [
    " "
   ]
  },
  {
   "cell_type": "code",
   "execution_count": 129,
   "metadata": {
    "ExecuteTime": {
     "end_time": "2022-04-18T19:22:50.705422Z",
     "start_time": "2022-04-18T19:22:50.638421Z"
    }
   },
   "outputs": [
    {
     "ename": "ValueError",
     "evalue": "A given column is not a column of the dataframe",
     "output_type": "error",
     "traceback": [
      "\u001b[1;31m---------------------------------------------------------------------------\u001b[0m",
      "\u001b[1;31mKeyError\u001b[0m                                  Traceback (most recent call last)",
      "\u001b[1;32m~\\anaconda3\\lib\\site-packages\\pandas\\core\\indexes\\base.py\u001b[0m in \u001b[0;36mget_loc\u001b[1;34m(self, key, method, tolerance)\u001b[0m\n\u001b[0;32m   3360\u001b[0m             \u001b[1;32mtry\u001b[0m\u001b[1;33m:\u001b[0m\u001b[1;33m\u001b[0m\u001b[1;33m\u001b[0m\u001b[0m\n\u001b[1;32m-> 3361\u001b[1;33m                 \u001b[1;32mreturn\u001b[0m \u001b[0mself\u001b[0m\u001b[1;33m.\u001b[0m\u001b[0m_engine\u001b[0m\u001b[1;33m.\u001b[0m\u001b[0mget_loc\u001b[0m\u001b[1;33m(\u001b[0m\u001b[0mcasted_key\u001b[0m\u001b[1;33m)\u001b[0m\u001b[1;33m\u001b[0m\u001b[1;33m\u001b[0m\u001b[0m\n\u001b[0m\u001b[0;32m   3362\u001b[0m             \u001b[1;32mexcept\u001b[0m \u001b[0mKeyError\u001b[0m \u001b[1;32mas\u001b[0m \u001b[0merr\u001b[0m\u001b[1;33m:\u001b[0m\u001b[1;33m\u001b[0m\u001b[1;33m\u001b[0m\u001b[0m\n",
      "\u001b[1;32m~\\anaconda3\\lib\\site-packages\\pandas\\_libs\\index.pyx\u001b[0m in \u001b[0;36mpandas._libs.index.IndexEngine.get_loc\u001b[1;34m()\u001b[0m\n",
      "\u001b[1;32m~\\anaconda3\\lib\\site-packages\\pandas\\_libs\\index.pyx\u001b[0m in \u001b[0;36mpandas._libs.index.IndexEngine.get_loc\u001b[1;34m()\u001b[0m\n",
      "\u001b[1;32mpandas\\_libs\\hashtable_class_helper.pxi\u001b[0m in \u001b[0;36mpandas._libs.hashtable.PyObjectHashTable.get_item\u001b[1;34m()\u001b[0m\n",
      "\u001b[1;32mpandas\\_libs\\hashtable_class_helper.pxi\u001b[0m in \u001b[0;36mpandas._libs.hashtable.PyObjectHashTable.get_item\u001b[1;34m()\u001b[0m\n",
      "\u001b[1;31mKeyError\u001b[0m: 'Slow songs or fast songs'",
      "\nThe above exception was the direct cause of the following exception:\n",
      "\u001b[1;31mKeyError\u001b[0m                                  Traceback (most recent call last)",
      "\u001b[1;32m~\\anaconda3\\lib\\site-packages\\sklearn\\utils\\__init__.py\u001b[0m in \u001b[0;36m_get_column_indices\u001b[1;34m(X, key)\u001b[0m\n\u001b[0;32m    395\u001b[0m             \u001b[1;32mfor\u001b[0m \u001b[0mcol\u001b[0m \u001b[1;32min\u001b[0m \u001b[0mcolumns\u001b[0m\u001b[1;33m:\u001b[0m\u001b[1;33m\u001b[0m\u001b[1;33m\u001b[0m\u001b[0m\n\u001b[1;32m--> 396\u001b[1;33m                 \u001b[0mcol_idx\u001b[0m \u001b[1;33m=\u001b[0m \u001b[0mall_columns\u001b[0m\u001b[1;33m.\u001b[0m\u001b[0mget_loc\u001b[0m\u001b[1;33m(\u001b[0m\u001b[0mcol\u001b[0m\u001b[1;33m)\u001b[0m\u001b[1;33m\u001b[0m\u001b[1;33m\u001b[0m\u001b[0m\n\u001b[0m\u001b[0;32m    397\u001b[0m                 \u001b[1;32mif\u001b[0m \u001b[1;32mnot\u001b[0m \u001b[0misinstance\u001b[0m\u001b[1;33m(\u001b[0m\u001b[0mcol_idx\u001b[0m\u001b[1;33m,\u001b[0m \u001b[0mnumbers\u001b[0m\u001b[1;33m.\u001b[0m\u001b[0mIntegral\u001b[0m\u001b[1;33m)\u001b[0m\u001b[1;33m:\u001b[0m\u001b[1;33m\u001b[0m\u001b[1;33m\u001b[0m\u001b[0m\n",
      "\u001b[1;32m~\\anaconda3\\lib\\site-packages\\pandas\\core\\indexes\\base.py\u001b[0m in \u001b[0;36mget_loc\u001b[1;34m(self, key, method, tolerance)\u001b[0m\n\u001b[0;32m   3362\u001b[0m             \u001b[1;32mexcept\u001b[0m \u001b[0mKeyError\u001b[0m \u001b[1;32mas\u001b[0m \u001b[0merr\u001b[0m\u001b[1;33m:\u001b[0m\u001b[1;33m\u001b[0m\u001b[1;33m\u001b[0m\u001b[0m\n\u001b[1;32m-> 3363\u001b[1;33m                 \u001b[1;32mraise\u001b[0m \u001b[0mKeyError\u001b[0m\u001b[1;33m(\u001b[0m\u001b[0mkey\u001b[0m\u001b[1;33m)\u001b[0m \u001b[1;32mfrom\u001b[0m \u001b[0merr\u001b[0m\u001b[1;33m\u001b[0m\u001b[1;33m\u001b[0m\u001b[0m\n\u001b[0m\u001b[0;32m   3364\u001b[0m \u001b[1;33m\u001b[0m\u001b[0m\n",
      "\u001b[1;31mKeyError\u001b[0m: 'Slow songs or fast songs'",
      "\nThe above exception was the direct cause of the following exception:\n",
      "\u001b[1;31mValueError\u001b[0m                                Traceback (most recent call last)",
      "\u001b[1;32m~\\AppData\\Local\\Temp/ipykernel_17124/3600892131.py\u001b[0m in \u001b[0;36m<module>\u001b[1;34m\u001b[0m\n\u001b[1;32m----> 1\u001b[1;33m \u001b[0mclassifier_pipline\u001b[0m\u001b[1;33m.\u001b[0m\u001b[0mfit\u001b[0m\u001b[1;33m(\u001b[0m\u001b[0mdata\u001b[0m\u001b[1;33m[\u001b[0m\u001b[0mall_features\u001b[0m\u001b[1;33m]\u001b[0m\u001b[1;33m,\u001b[0m \u001b[0mdata\u001b[0m\u001b[1;33m[\u001b[0m\u001b[0mtarget\u001b[0m\u001b[1;33m]\u001b[0m\u001b[1;33m)\u001b[0m\u001b[1;33m\u001b[0m\u001b[1;33m\u001b[0m\u001b[0m\n\u001b[0m",
      "\u001b[1;32m~\\anaconda3\\lib\\site-packages\\sklearn\\pipeline.py\u001b[0m in \u001b[0;36mfit\u001b[1;34m(self, X, y, **fit_params)\u001b[0m\n\u001b[0;32m    339\u001b[0m         \"\"\"\n\u001b[0;32m    340\u001b[0m         \u001b[0mfit_params_steps\u001b[0m \u001b[1;33m=\u001b[0m \u001b[0mself\u001b[0m\u001b[1;33m.\u001b[0m\u001b[0m_check_fit_params\u001b[0m\u001b[1;33m(\u001b[0m\u001b[1;33m**\u001b[0m\u001b[0mfit_params\u001b[0m\u001b[1;33m)\u001b[0m\u001b[1;33m\u001b[0m\u001b[1;33m\u001b[0m\u001b[0m\n\u001b[1;32m--> 341\u001b[1;33m         \u001b[0mXt\u001b[0m \u001b[1;33m=\u001b[0m \u001b[0mself\u001b[0m\u001b[1;33m.\u001b[0m\u001b[0m_fit\u001b[0m\u001b[1;33m(\u001b[0m\u001b[0mX\u001b[0m\u001b[1;33m,\u001b[0m \u001b[0my\u001b[0m\u001b[1;33m,\u001b[0m \u001b[1;33m**\u001b[0m\u001b[0mfit_params_steps\u001b[0m\u001b[1;33m)\u001b[0m\u001b[1;33m\u001b[0m\u001b[1;33m\u001b[0m\u001b[0m\n\u001b[0m\u001b[0;32m    342\u001b[0m         with _print_elapsed_time('Pipeline',\n\u001b[0;32m    343\u001b[0m                                  self._log_message(len(self.steps) - 1)):\n",
      "\u001b[1;32m~\\anaconda3\\lib\\site-packages\\sklearn\\pipeline.py\u001b[0m in \u001b[0;36m_fit\u001b[1;34m(self, X, y, **fit_params_steps)\u001b[0m\n\u001b[0;32m    301\u001b[0m                 \u001b[0mcloned_transformer\u001b[0m \u001b[1;33m=\u001b[0m \u001b[0mclone\u001b[0m\u001b[1;33m(\u001b[0m\u001b[0mtransformer\u001b[0m\u001b[1;33m)\u001b[0m\u001b[1;33m\u001b[0m\u001b[1;33m\u001b[0m\u001b[0m\n\u001b[0;32m    302\u001b[0m             \u001b[1;31m# Fit or load from cache the current transformer\u001b[0m\u001b[1;33m\u001b[0m\u001b[1;33m\u001b[0m\u001b[0m\n\u001b[1;32m--> 303\u001b[1;33m             X, fitted_transformer = fit_transform_one_cached(\n\u001b[0m\u001b[0;32m    304\u001b[0m                 \u001b[0mcloned_transformer\u001b[0m\u001b[1;33m,\u001b[0m \u001b[0mX\u001b[0m\u001b[1;33m,\u001b[0m \u001b[0my\u001b[0m\u001b[1;33m,\u001b[0m \u001b[1;32mNone\u001b[0m\u001b[1;33m,\u001b[0m\u001b[1;33m\u001b[0m\u001b[1;33m\u001b[0m\u001b[0m\n\u001b[0;32m    305\u001b[0m                 \u001b[0mmessage_clsname\u001b[0m\u001b[1;33m=\u001b[0m\u001b[1;34m'Pipeline'\u001b[0m\u001b[1;33m,\u001b[0m\u001b[1;33m\u001b[0m\u001b[1;33m\u001b[0m\u001b[0m\n",
      "\u001b[1;32m~\\anaconda3\\lib\\site-packages\\joblib\\memory.py\u001b[0m in \u001b[0;36m__call__\u001b[1;34m(self, *args, **kwargs)\u001b[0m\n\u001b[0;32m    347\u001b[0m \u001b[1;33m\u001b[0m\u001b[0m\n\u001b[0;32m    348\u001b[0m     \u001b[1;32mdef\u001b[0m \u001b[0m__call__\u001b[0m\u001b[1;33m(\u001b[0m\u001b[0mself\u001b[0m\u001b[1;33m,\u001b[0m \u001b[1;33m*\u001b[0m\u001b[0margs\u001b[0m\u001b[1;33m,\u001b[0m \u001b[1;33m**\u001b[0m\u001b[0mkwargs\u001b[0m\u001b[1;33m)\u001b[0m\u001b[1;33m:\u001b[0m\u001b[1;33m\u001b[0m\u001b[1;33m\u001b[0m\u001b[0m\n\u001b[1;32m--> 349\u001b[1;33m         \u001b[1;32mreturn\u001b[0m \u001b[0mself\u001b[0m\u001b[1;33m.\u001b[0m\u001b[0mfunc\u001b[0m\u001b[1;33m(\u001b[0m\u001b[1;33m*\u001b[0m\u001b[0margs\u001b[0m\u001b[1;33m,\u001b[0m \u001b[1;33m**\u001b[0m\u001b[0mkwargs\u001b[0m\u001b[1;33m)\u001b[0m\u001b[1;33m\u001b[0m\u001b[1;33m\u001b[0m\u001b[0m\n\u001b[0m\u001b[0;32m    350\u001b[0m \u001b[1;33m\u001b[0m\u001b[0m\n\u001b[0;32m    351\u001b[0m     \u001b[1;32mdef\u001b[0m \u001b[0mcall_and_shelve\u001b[0m\u001b[1;33m(\u001b[0m\u001b[0mself\u001b[0m\u001b[1;33m,\u001b[0m \u001b[1;33m*\u001b[0m\u001b[0margs\u001b[0m\u001b[1;33m,\u001b[0m \u001b[1;33m**\u001b[0m\u001b[0mkwargs\u001b[0m\u001b[1;33m)\u001b[0m\u001b[1;33m:\u001b[0m\u001b[1;33m\u001b[0m\u001b[1;33m\u001b[0m\u001b[0m\n",
      "\u001b[1;32m~\\anaconda3\\lib\\site-packages\\sklearn\\pipeline.py\u001b[0m in \u001b[0;36m_fit_transform_one\u001b[1;34m(transformer, X, y, weight, message_clsname, message, **fit_params)\u001b[0m\n\u001b[0;32m    752\u001b[0m     \u001b[1;32mwith\u001b[0m \u001b[0m_print_elapsed_time\u001b[0m\u001b[1;33m(\u001b[0m\u001b[0mmessage_clsname\u001b[0m\u001b[1;33m,\u001b[0m \u001b[0mmessage\u001b[0m\u001b[1;33m)\u001b[0m\u001b[1;33m:\u001b[0m\u001b[1;33m\u001b[0m\u001b[1;33m\u001b[0m\u001b[0m\n\u001b[0;32m    753\u001b[0m         \u001b[1;32mif\u001b[0m \u001b[0mhasattr\u001b[0m\u001b[1;33m(\u001b[0m\u001b[0mtransformer\u001b[0m\u001b[1;33m,\u001b[0m \u001b[1;34m'fit_transform'\u001b[0m\u001b[1;33m)\u001b[0m\u001b[1;33m:\u001b[0m\u001b[1;33m\u001b[0m\u001b[1;33m\u001b[0m\u001b[0m\n\u001b[1;32m--> 754\u001b[1;33m             \u001b[0mres\u001b[0m \u001b[1;33m=\u001b[0m \u001b[0mtransformer\u001b[0m\u001b[1;33m.\u001b[0m\u001b[0mfit_transform\u001b[0m\u001b[1;33m(\u001b[0m\u001b[0mX\u001b[0m\u001b[1;33m,\u001b[0m \u001b[0my\u001b[0m\u001b[1;33m,\u001b[0m \u001b[1;33m**\u001b[0m\u001b[0mfit_params\u001b[0m\u001b[1;33m)\u001b[0m\u001b[1;33m\u001b[0m\u001b[1;33m\u001b[0m\u001b[0m\n\u001b[0m\u001b[0;32m    755\u001b[0m         \u001b[1;32melse\u001b[0m\u001b[1;33m:\u001b[0m\u001b[1;33m\u001b[0m\u001b[1;33m\u001b[0m\u001b[0m\n\u001b[0;32m    756\u001b[0m             \u001b[0mres\u001b[0m \u001b[1;33m=\u001b[0m \u001b[0mtransformer\u001b[0m\u001b[1;33m.\u001b[0m\u001b[0mfit\u001b[0m\u001b[1;33m(\u001b[0m\u001b[0mX\u001b[0m\u001b[1;33m,\u001b[0m \u001b[0my\u001b[0m\u001b[1;33m,\u001b[0m \u001b[1;33m**\u001b[0m\u001b[0mfit_params\u001b[0m\u001b[1;33m)\u001b[0m\u001b[1;33m.\u001b[0m\u001b[0mtransform\u001b[0m\u001b[1;33m(\u001b[0m\u001b[0mX\u001b[0m\u001b[1;33m)\u001b[0m\u001b[1;33m\u001b[0m\u001b[1;33m\u001b[0m\u001b[0m\n",
      "\u001b[1;32m~\\anaconda3\\lib\\site-packages\\sklearn\\pipeline.py\u001b[0m in \u001b[0;36mfit_transform\u001b[1;34m(self, X, y, **fit_params)\u001b[0m\n\u001b[0;32m    385\u001b[0m             \u001b[0mfit_params_last_step\u001b[0m \u001b[1;33m=\u001b[0m \u001b[0mfit_params_steps\u001b[0m\u001b[1;33m[\u001b[0m\u001b[0mself\u001b[0m\u001b[1;33m.\u001b[0m\u001b[0msteps\u001b[0m\u001b[1;33m[\u001b[0m\u001b[1;33m-\u001b[0m\u001b[1;36m1\u001b[0m\u001b[1;33m]\u001b[0m\u001b[1;33m[\u001b[0m\u001b[1;36m0\u001b[0m\u001b[1;33m]\u001b[0m\u001b[1;33m]\u001b[0m\u001b[1;33m\u001b[0m\u001b[1;33m\u001b[0m\u001b[0m\n\u001b[0;32m    386\u001b[0m             \u001b[1;32mif\u001b[0m \u001b[0mhasattr\u001b[0m\u001b[1;33m(\u001b[0m\u001b[0mlast_step\u001b[0m\u001b[1;33m,\u001b[0m \u001b[1;34m'fit_transform'\u001b[0m\u001b[1;33m)\u001b[0m\u001b[1;33m:\u001b[0m\u001b[1;33m\u001b[0m\u001b[1;33m\u001b[0m\u001b[0m\n\u001b[1;32m--> 387\u001b[1;33m                 \u001b[1;32mreturn\u001b[0m \u001b[0mlast_step\u001b[0m\u001b[1;33m.\u001b[0m\u001b[0mfit_transform\u001b[0m\u001b[1;33m(\u001b[0m\u001b[0mXt\u001b[0m\u001b[1;33m,\u001b[0m \u001b[0my\u001b[0m\u001b[1;33m,\u001b[0m \u001b[1;33m**\u001b[0m\u001b[0mfit_params_last_step\u001b[0m\u001b[1;33m)\u001b[0m\u001b[1;33m\u001b[0m\u001b[1;33m\u001b[0m\u001b[0m\n\u001b[0m\u001b[0;32m    388\u001b[0m             \u001b[1;32melse\u001b[0m\u001b[1;33m:\u001b[0m\u001b[1;33m\u001b[0m\u001b[1;33m\u001b[0m\u001b[0m\n\u001b[0;32m    389\u001b[0m                 return last_step.fit(Xt, y,\n",
      "\u001b[1;32m~\\anaconda3\\lib\\site-packages\\sklearn\\compose\\_column_transformer.py\u001b[0m in \u001b[0;36mfit_transform\u001b[1;34m(self, X, y)\u001b[0m\n\u001b[0;32m    503\u001b[0m         \u001b[0mself\u001b[0m\u001b[1;33m.\u001b[0m\u001b[0m_validate_transformers\u001b[0m\u001b[1;33m(\u001b[0m\u001b[1;33m)\u001b[0m\u001b[1;33m\u001b[0m\u001b[1;33m\u001b[0m\u001b[0m\n\u001b[0;32m    504\u001b[0m         \u001b[0mself\u001b[0m\u001b[1;33m.\u001b[0m\u001b[0m_validate_column_callables\u001b[0m\u001b[1;33m(\u001b[0m\u001b[0mX\u001b[0m\u001b[1;33m)\u001b[0m\u001b[1;33m\u001b[0m\u001b[1;33m\u001b[0m\u001b[0m\n\u001b[1;32m--> 505\u001b[1;33m         \u001b[0mself\u001b[0m\u001b[1;33m.\u001b[0m\u001b[0m_validate_remainder\u001b[0m\u001b[1;33m(\u001b[0m\u001b[0mX\u001b[0m\u001b[1;33m)\u001b[0m\u001b[1;33m\u001b[0m\u001b[1;33m\u001b[0m\u001b[0m\n\u001b[0m\u001b[0;32m    506\u001b[0m \u001b[1;33m\u001b[0m\u001b[0m\n\u001b[0;32m    507\u001b[0m         \u001b[0mresult\u001b[0m \u001b[1;33m=\u001b[0m \u001b[0mself\u001b[0m\u001b[1;33m.\u001b[0m\u001b[0m_fit_transform\u001b[0m\u001b[1;33m(\u001b[0m\u001b[0mX\u001b[0m\u001b[1;33m,\u001b[0m \u001b[0my\u001b[0m\u001b[1;33m,\u001b[0m \u001b[0m_fit_transform_one\u001b[0m\u001b[1;33m)\u001b[0m\u001b[1;33m\u001b[0m\u001b[1;33m\u001b[0m\u001b[0m\n",
      "\u001b[1;32m~\\anaconda3\\lib\\site-packages\\sklearn\\compose\\_column_transformer.py\u001b[0m in \u001b[0;36m_validate_remainder\u001b[1;34m(self, X)\u001b[0m\n\u001b[0;32m    330\u001b[0m         \u001b[0mcols\u001b[0m \u001b[1;33m=\u001b[0m \u001b[1;33m[\u001b[0m\u001b[1;33m]\u001b[0m\u001b[1;33m\u001b[0m\u001b[1;33m\u001b[0m\u001b[0m\n\u001b[0;32m    331\u001b[0m         \u001b[1;32mfor\u001b[0m \u001b[0mcolumns\u001b[0m \u001b[1;32min\u001b[0m \u001b[0mself\u001b[0m\u001b[1;33m.\u001b[0m\u001b[0m_columns\u001b[0m\u001b[1;33m:\u001b[0m\u001b[1;33m\u001b[0m\u001b[1;33m\u001b[0m\u001b[0m\n\u001b[1;32m--> 332\u001b[1;33m             \u001b[0mcols\u001b[0m\u001b[1;33m.\u001b[0m\u001b[0mextend\u001b[0m\u001b[1;33m(\u001b[0m\u001b[0m_get_column_indices\u001b[0m\u001b[1;33m(\u001b[0m\u001b[0mX\u001b[0m\u001b[1;33m,\u001b[0m \u001b[0mcolumns\u001b[0m\u001b[1;33m)\u001b[0m\u001b[1;33m)\u001b[0m\u001b[1;33m\u001b[0m\u001b[1;33m\u001b[0m\u001b[0m\n\u001b[0m\u001b[0;32m    333\u001b[0m \u001b[1;33m\u001b[0m\u001b[0m\n\u001b[0;32m    334\u001b[0m         \u001b[0mremaining_idx\u001b[0m \u001b[1;33m=\u001b[0m \u001b[0msorted\u001b[0m\u001b[1;33m(\u001b[0m\u001b[0mset\u001b[0m\u001b[1;33m(\u001b[0m\u001b[0mrange\u001b[0m\u001b[1;33m(\u001b[0m\u001b[0mself\u001b[0m\u001b[1;33m.\u001b[0m\u001b[0m_n_features\u001b[0m\u001b[1;33m)\u001b[0m\u001b[1;33m)\u001b[0m \u001b[1;33m-\u001b[0m \u001b[0mset\u001b[0m\u001b[1;33m(\u001b[0m\u001b[0mcols\u001b[0m\u001b[1;33m)\u001b[0m\u001b[1;33m)\u001b[0m\u001b[1;33m\u001b[0m\u001b[1;33m\u001b[0m\u001b[0m\n",
      "\u001b[1;32m~\\anaconda3\\lib\\site-packages\\sklearn\\utils\\__init__.py\u001b[0m in \u001b[0;36m_get_column_indices\u001b[1;34m(X, key)\u001b[0m\n\u001b[0;32m    401\u001b[0m \u001b[1;33m\u001b[0m\u001b[0m\n\u001b[0;32m    402\u001b[0m         \u001b[1;32mexcept\u001b[0m \u001b[0mKeyError\u001b[0m \u001b[1;32mas\u001b[0m \u001b[0me\u001b[0m\u001b[1;33m:\u001b[0m\u001b[1;33m\u001b[0m\u001b[1;33m\u001b[0m\u001b[0m\n\u001b[1;32m--> 403\u001b[1;33m             raise ValueError(\n\u001b[0m\u001b[0;32m    404\u001b[0m                 \u001b[1;34m\"A given column is not a column of the dataframe\"\u001b[0m\u001b[1;33m\u001b[0m\u001b[1;33m\u001b[0m\u001b[0m\n\u001b[0;32m    405\u001b[0m             ) from e\n",
      "\u001b[1;31mValueError\u001b[0m: A given column is not a column of the dataframe"
     ]
    }
   ],
   "source": [
    "classifier_pipline.fit(data[all_features], data[target])"
   ]
  },
  {
   "cell_type": "code",
   "execution_count": null,
   "metadata": {
    "ExecuteTime": {
     "end_time": "2022-04-18T19:22:50.707423Z",
     "start_time": "2022-04-18T19:22:50.707423Z"
    }
   },
   "outputs": [],
   "source": [
    "data[all_features].info()"
   ]
  },
  {
   "cell_type": "markdown",
   "metadata": {},
   "source": [
    "# Как сохранить всю эту махину?"
   ]
  },
  {
   "cell_type": "code",
   "execution_count": null,
   "metadata": {
    "ExecuteTime": {
     "end_time": "2022-04-18T19:22:50.709424Z",
     "start_time": "2022-04-18T19:22:50.709424Z"
    }
   },
   "outputs": [],
   "source": [
    "# И другие, но вы про них уже знаете\n",
    "from sklearn.model_selection import train_test_split, RandomizedSearchCV\n",
    "\n",
    "# Для сериализации моделей\n",
    "from joblib import Parallel, delayed\n",
    "from scipy import sparse\n",
    "import pickle"
   ]
  },
  {
   "cell_type": "markdown",
   "metadata": {},
   "source": [
    "# Save the pipeline"
   ]
  },
  {
   "cell_type": "code",
   "execution_count": null,
   "metadata": {
    "ExecuteTime": {
     "end_time": "2022-04-18T19:22:50.710425Z",
     "start_time": "2022-04-18T19:22:50.710425Z"
    }
   },
   "outputs": [],
   "source": [
    "with open(\"pipeline.pkl\", \"wb\") as f:\n",
    "    pickle.dump(search.best_estimator_, f)"
   ]
  },
  {
   "cell_type": "markdown",
   "metadata": {},
   "source": [
    "# Load and predict"
   ]
  },
  {
   "cell_type": "code",
   "execution_count": null,
   "metadata": {
    "ExecuteTime": {
     "end_time": "2022-04-18T19:22:50.712425Z",
     "start_time": "2022-04-18T19:22:50.712425Z"
    }
   },
   "outputs": [],
   "source": [
    "with open(\"pipeline.pkl\", 'rb') as f:\n",
    "    pipeline_from_saved = pickle.load(f)"
   ]
  },
  {
   "cell_type": "code",
   "execution_count": null,
   "metadata": {
    "ExecuteTime": {
     "end_time": "2022-04-18T19:22:50.714423Z",
     "start_time": "2022-04-18T19:22:50.714423Z"
    }
   },
   "outputs": [],
   "source": [
    "pipeline_from_saved"
   ]
  },
  {
   "cell_type": "code",
   "execution_count": null,
   "metadata": {
    "ExecuteTime": {
     "end_time": "2022-04-18T19:22:50.715425Z",
     "start_time": "2022-04-18T19:22:50.715425Z"
    }
   },
   "outputs": [],
   "source": [
    "data_test.iloc[0]"
   ]
  },
  {
   "cell_type": "code",
   "execution_count": null,
   "metadata": {
    "ExecuteTime": {
     "end_time": "2022-04-18T19:22:50.716425Z",
     "start_time": "2022-04-18T19:22:50.716425Z"
    }
   },
   "outputs": [],
   "source": [
    "pipeline_from_saved.named_steps['preprocessing'].transform(data_test.iloc[:1])"
   ]
  },
  {
   "cell_type": "code",
   "execution_count": null,
   "metadata": {
    "ExecuteTime": {
     "end_time": "2022-04-18T19:22:50.717423Z",
     "start_time": "2022-04-18T19:22:50.717423Z"
    }
   },
   "outputs": [],
   "source": [
    "preds = pipeline_from_saved.predict(data_test)\n",
    "print(classification_report(data_test[target], preds))"
   ]
  },
  {
   "cell_type": "code",
   "execution_count": null,
   "metadata": {},
   "outputs": [],
   "source": []
  },
  {
   "cell_type": "markdown",
   "metadata": {},
   "source": [
    "# Дополнительно\n",
    "\n",
    "* Код/ноутбуки будут тут: https://github.com/a-milenkin/Otus_Open_Day"
   ]
  },
  {
   "cell_type": "markdown",
   "metadata": {},
   "source": [
    "Пример хорошего ML проекта: https://github.com/a-milenkin/ml_project_example\n",
    "\n",
    "**Но можно писать еще лучше!**\n",
    "\n",
    "Задача: переписать модуль train_pipline используя Pipeline из Sklearn"
   ]
  },
  {
   "cell_type": "code",
   "execution_count": null,
   "metadata": {},
   "outputs": [],
   "source": []
  }
 ],
 "metadata": {
  "kernelspec": {
   "display_name": "Python 3 (ipykernel)",
   "language": "python",
   "name": "python3"
  },
  "language_info": {
   "codemirror_mode": {
    "name": "ipython",
    "version": 3
   },
   "file_extension": ".py",
   "mimetype": "text/x-python",
   "name": "python",
   "nbconvert_exporter": "python",
   "pygments_lexer": "ipython3",
   "version": "3.9.7"
  },
  "toc": {
   "base_numbering": 1,
   "nav_menu": {},
   "number_sections": true,
   "sideBar": true,
   "skip_h1_title": false,
   "title_cell": "Table of Contents",
   "title_sidebar": "Contents",
   "toc_cell": false,
   "toc_position": {},
   "toc_section_display": true,
   "toc_window_display": false
  },
  "varInspector": {
   "cols": {
    "lenName": 16,
    "lenType": 16,
    "lenVar": 40
   },
   "kernels_config": {
    "python": {
     "delete_cmd_postfix": "",
     "delete_cmd_prefix": "del ",
     "library": "var_list.py",
     "varRefreshCmd": "print(var_dic_list())"
    },
    "r": {
     "delete_cmd_postfix": ") ",
     "delete_cmd_prefix": "rm(",
     "library": "var_list.r",
     "varRefreshCmd": "cat(var_dic_list()) "
    }
   },
   "position": {
    "height": "291.719px",
    "left": "1036.46px",
    "right": "20px",
    "top": "120px",
    "width": "327.173px"
   },
   "types_to_exclude": [
    "module",
    "function",
    "builtin_function_or_method",
    "instance",
    "_Feature"
   ],
   "window_display": false
  }
 },
 "nbformat": 4,
 "nbformat_minor": 4
}
